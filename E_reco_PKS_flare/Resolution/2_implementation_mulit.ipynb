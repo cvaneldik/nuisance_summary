{
 "cells": [
  {
   "cell_type": "code",
   "execution_count": 1,
   "id": "eb53523b",
   "metadata": {},
   "outputs": [],
   "source": [
    "import pyximport\n",
    "pyximport.install()\n",
    "import matplotlib.pyplot as plt\n",
    "import numpy as np\n",
    "import astropy.units as u\n",
    "import gammapy\n",
    "import operator\n",
    "from gammapy.maps import Map\n",
    "from gammapy.modeling import Fit,  Parameters, Covariance , Parameter\n",
    "from gammapy.datasets import MapDataset ,Datasets\n",
    "from gammapy.modeling.models import (\n",
    "    PowerLawSpectralModel,\n",
    "    SkyModel,\n",
    "    PointSpatialModel,\n",
    "    GaussianSpatialModel,\n",
    "    Models,\n",
    "    FoVBackgroundModel,\n",
    "    GaussianSpectralModel,\n",
    "    CompoundSpectralModel\n",
    ")\n",
    "import sys\n",
    "sys.path.append('../../')\n",
    "from Dataset_Creation import sys_dataset\n",
    "import Dataset_load "
   ]
  },
  {
   "cell_type": "code",
   "execution_count": 2,
   "id": "0005e34e",
   "metadata": {},
   "outputs": [],
   "source": [
    "figformat = 'svg'"
   ]
  },
  {
   "cell_type": "code",
   "execution_count": 6,
   "id": "2ce70b5d",
   "metadata": {},
   "outputs": [
    {
     "name": "stdout",
     "output_type": "stream",
     "text": [
      "update\n",
      "update\n",
      "update\n",
      "update\n",
      "update\n",
      "update\n"
     ]
    }
   ],
   "source": [
    "sigma_cases = [0.02, 0.06, 0.2]\n",
    "datasets_asimov = []\n",
    "for s in sigma_cases:\n",
    "    d = Dataset_load.create_asimov(gun = True)\n",
    "    d.models[0].spectral_model.parameters['sigma'].value = s\n",
    "    # set npred again\n",
    "    d.counts = d.npred()\n",
    "    datasets_asimov.append(d)"
   ]
  },
  {
   "cell_type": "code",
   "execution_count": 28,
   "id": "5b01e14c",
   "metadata": {},
   "outputs": [],
   "source": [
    "zero = 1e-12\n",
    "\n",
    "r = 0.0\n",
    "r_assumed = 0.1\n",
    "b = 0\n",
    "b_assumed = zero\n"
   ]
  },
  {
   "cell_type": "code",
   "execution_count": 36,
   "id": "f8a95f0a",
   "metadata": {
    "scrolled": true
   },
   "outputs": [
    {
     "name": "stdout",
     "output_type": "stream",
     "text": [
      "update\n",
      "update\n",
      "update\n",
      "update\n",
      "update\n",
      "update\n"
     ]
    }
   ],
   "source": [
    "def create_dataset(dataset_asimov, b, r, b_assumed, r_assumed):\n",
    "    i = 0\n",
    "    sys_d_cor = sys_dataset(dataset_asimov= dataset_asimov,\n",
    "                        shift = 0,\n",
    "                        tilt = 0,\n",
    "                        bias = b, \n",
    "                        resolution = s,\n",
    "                        rnd = False,\n",
    "                        e_reco_creation=10,\n",
    "                        gun = True)\n",
    "    dataset_conv = sys_d_cor.create_dataset()\n",
    "    dataset_conv_N = sys_d_cor.create_dataset_N(10)\n",
    "    dataset_conv_N.models.parameters['bias'].frozen  = True\n",
    "    dataset_conv_N.models.parameters['norm_nuisance'].frozen  = True\n",
    "    \n",
    "    penalising_invcovmatrix = np.zeros((4,4))\n",
    "    np.fill_diagonal(penalising_invcovmatrix, [1/b_assumed**2, 1/r_assumed**2, 1/zero**2, 1/zero**2])\n",
    "    dataset_conv_N.penalising_invcovmatrix = penalising_invcovmatrix\n",
    "    i +=1\n",
    "    return dataset_conv, dataset_conv_N\n",
    "\n",
    "datasets_conv =[]\n",
    "datasets_conv_N =[]\n",
    "\n",
    "for i, d in enumerate(datasets_asimov):\n",
    "    dataset_conv, dataset_conv_N  = create_dataset(d, b, r,\n",
    "                                                  b_assumed, r_assumed)\n",
    "    datasets_conv.append(dataset_conv)\n",
    "    datasets_conv_N.append(dataset_conv_N)\n",
    "    \n"
   ]
  },
  {
   "cell_type": "code",
   "execution_count": 37,
   "id": "11001a59",
   "metadata": {},
   "outputs": [],
   "source": [
    "energy = datasets_conv[0].counts.geom.axes[0].center.value\n",
    "energy_bounds = (energy[0], energy[-1] ) * u.TeV\n",
    "colors = plt.rcParams['axes.prop_cycle'].by_key()['color']\n",
    "\n",
    "\n",
    "colors_standard = ['darkmagenta', 'darkred', 'darkolivegreen', 'darkred']\n",
    "colors_nui = ['cornflowerblue', 'navy', 'darkolivegreen', 'darkred']\n",
    "colors = plt.rcParams['axes.prop_cycle'].by_key()['color']\n",
    "color_standard = 'darkmagenta'; color_nui = 'royalblue'\n",
    "color_standard_ = 'darkred'; color_nui_ = 'navy'"
   ]
  },
  {
   "cell_type": "code",
   "execution_count": 38,
   "id": "b7bdc619",
   "metadata": {},
   "outputs": [],
   "source": [
    "def sum_e (data):\n",
    "    return data.sum(axis=2).sum(axis=1)\n",
    "\n",
    "eaxis_standard = datasets_asimov[0].geoms['geom'].axes[0]"
   ]
  },
  {
   "cell_type": "code",
   "execution_count": 39,
   "id": "3e6a2fe5",
   "metadata": {},
   "outputs": [
    {
     "data": {
      "image/png": "[encoded data removed]",
      "text/plain": [
       "<Figure size 400x400 with 1 Axes>"
      ]
     },
     "metadata": {},
     "output_type": "display_data"
    }
   ],
   "source": [
    "fig,axs = plt.subplots(1,1, sharey=True,figsize = (4,4))\n",
    "if len(datasets_conv)==1:\n",
    "    axs = [axs]\n",
    "for d in datasets_asimov:\n",
    "    d.models[0].spectral_model.plot(energy_bounds, energy_power = 2, ax =axs, \n",
    "                                label = \"Input\", linewidth = 2, linestyle=\"dashed\")\n",
    "axs.set_title(\"sys_assumed = 10%\"); \n",
    "plt.tight_layout()\n",
    "fig = plt.gcf()\n"
   ]
  },
  {
   "cell_type": "code",
   "execution_count": 58,
   "id": "55f4027e",
   "metadata": {},
   "outputs": [
    {
     "name": "stdout",
     "output_type": "stream",
     "text": [
      "read\n",
      "read nui\n",
      "read\n",
      "read nui\n",
      "read\n",
      "read nui\n"
     ]
    }
   ],
   "source": [
    "for i,simga in enumerate(sigma_cases):\n",
    "\n",
    "    print(\"read\")\n",
    "    for i, d in enumerate(datasets_conv):\n",
    "        path = f'data/2_model_bias_0_{r}_simga_{simga_cases[i]}.yml'\n",
    "        datasets_conv[i] = Dataset_load.load_dataset_N(d, path)        \n",
    "    print(\"read nui\")\n",
    "    for i, d in enumerate(datasets_conv_N):\n",
    "        path = f'data/2_model_nui_bias_0_{r}_simga_{simga_cases[i]}.yml'\n",
    "        datasets_conv_N[i] = Dataset_load.load_dataset_N(d, path)  "
   ]
  },
  {
   "cell_type": "code",
   "execution_count": 60,
   "id": "27975a2b",
   "metadata": {},
   "outputs": [
    {
     "name": "stdout",
     "output_type": "stream",
     "text": [
      "DatasetModels\n",
      "\n",
      "Component 0: SkyModel\n",
      "\n",
      "  Name                      : s1wEBMPw\n",
      "  Datasets names            : None\n",
      "  Spectral model type       : CompoundSpectralModel\n",
      "  Spatial  model type       : GaussianSpatialModel\n",
      "  Temporal model type       : \n",
      "  Parameters:\n",
      "    index                         :      2.302   +/-    0.07             \n",
      "    amplitude                     :   1.01e-12   +/- 7.2e-14 1 / (cm2 s TeV)\n",
      "    reference             (frozen):      1.000       TeV         \n",
      "    amplitude_                    :      0.000   +/-    0.00 1 / (cm2 s) \n",
      "    mean                          :      2.000   +/-    0.38 TeV         \n",
      "    sigma                         :      0.060   +/-    0.38 TeV         \n",
      "    lon_0                 (frozen):     83.631       deg         \n",
      "    lat_0                 (frozen):     22.018       deg         \n",
      "    sigma                         :      0.019   +/-    0.01 deg         \n",
      "    e                     (frozen):      0.000                   \n",
      "    phi                   (frozen):      0.000       deg         \n",
      "\n",
      "Component 1: IRFModels\n",
      "\n",
      "  Name                      : oCORW0zX-irf\n",
      "  Datasets names            : oCORW0zX\n",
      "  EReco  model type         : ERecoIRFModel\n",
      "  Eff area  model type      : EffAreaIRFModel\n",
      "  Parameters:\n",
      "    bias                          :      0.000   +/-    0.00             \n",
      "    resolution                    :     -0.000   +/-    0.18             \n",
      "    norm_nuisance                 :      0.000   +/-    0.00             \n",
      "    tilt_nuisance         (frozen):      0.000                   \n",
      "    reference             (frozen):      1.000       TeV         \n",
      "\n",
      "Component 2: FoVBackgroundModel\n",
      "\n",
      "  Name                      : oCORW0zX-bkg\n",
      "  Datasets names            : ['oCORW0zX']\n",
      "  Spectral model type       : PowerLawNormSpectralModel\n",
      "  Parameters:\n",
      "    norm                          :      1.000   +/-    0.00             \n",
      "    tilt                  (frozen):     -0.000                   \n",
      "    reference             (frozen):      1.000       TeV         \n",
      "\n",
      "\n"
     ]
    }
   ],
   "source": [
    "print(datasets_conv_N[1].models)"
   ]
  },
  {
   "cell_type": "code",
   "execution_count": 70,
   "id": "349a1bd8",
   "metadata": {},
   "outputs": [],
   "source": [
    "default_col = ['tab:blue', 'tab:orange', 'tab:green']"
   ]
  },
  {
   "cell_type": "code",
   "execution_count": 73,
   "id": "5a88fca8",
   "metadata": {},
   "outputs": [
    {
     "data": {
      "text/plain": [
       "Text(0, 0.5, 'Fitted Peak Sigma [Input Peak Sigma]  ')"
      ]
     },
     "execution_count": 73,
     "metadata": {},
     "output_type": "execute_result"
    },
    {
     "data": {
      "image/png": "[encoded data removed]",
      "text/plain": [
       "<Figure size 500x400 with 1 Axes>"
      ]
     },
     "metadata": {},
     "output_type": "display_data"
    }
   ],
   "source": [
    "fig, axs = plt.subplots(1,1, figsize= (5, 4))\n",
    "for i, sigma in enumerate(sigma_cases):\n",
    "    s_N = datasets_conv_N[i].models.parameters['sigma'].value\n",
    "    s_N_error = datasets_conv_N[i].models.parameters['sigma'].error\n",
    "    s = datasets_conv[i].models.parameters['sigma'].value\n",
    "    s_error = datasets_conv[i].models.parameters['sigma'].error\n",
    "    \n",
    "    axs.errorbar(sigma, s_N/sigma, yerr = s_N_error/sigma, fmt='x', color = default_col[i])\n",
    "    axs.errorbar(sigma+ 0.01, s/sigma, yerr = s_N/sigma, fmt='o', color = default_col[i])    \n",
    "    \n",
    "axs.set_xlabel(\"Peak Sigma [TeV]\")\n",
    "axs.set_ylabel(\"Fitted Peak Sigma [Input Peak Sigma]  \")\n",
    "\n",
    "#plt.xscale('log')"
   ]
  },
  {
   "cell_type": "code",
   "execution_count": 77,
   "id": "8c92c2c6",
   "metadata": {},
   "outputs": [
    {
     "data": {
      "text/plain": [
       "Text(0, 0.5, 'Fitted Peak Energy [TeV]  ')"
      ]
     },
     "execution_count": 77,
     "metadata": {},
     "output_type": "execute_result"
    },
    {
     "data": {
      "image/png": "[encoded data removed]",
      "text/plain": [
       "<Figure size 500x400 with 1 Axes>"
      ]
     },
     "metadata": {},
     "output_type": "display_data"
    }
   ],
   "source": [
    "fig, axs = plt.subplots(1,1, figsize= (5, 4))\n",
    "for i, sigma in enumerate(sigma_cases):\n",
    "    s_N = datasets_conv_N[i].models.parameters['mean'].value\n",
    "    s_N_error = datasets_conv_N[i].models.parameters['mean'].error\n",
    "    s = datasets_conv[i].models.parameters['mean'].value\n",
    "    s_error = datasets_conv[i].models.parameters['mean'].error\n",
    "    \n",
    "    axs.errorbar(sigma, s_N, yerr = s_N_error, fmt='x', color = default_col[i])\n",
    "    axs.errorbar(sigma+ 0.01, s, yerr = s_N, fmt='o', color = default_col[i])    \n",
    "    \n",
    "axs.set_xlabel(\"Peak Sigma [TeV]\")\n",
    "\n",
    "axs.set_ylabel(\"Fitted Peak Energy [TeV]  \")\n",
    "\n",
    "#plt.xscale('log')"
   ]
  },
  {
   "cell_type": "code",
   "execution_count": null,
   "id": "0ef2b33c",
   "metadata": {},
   "outputs": [],
   "source": []
  },
  {
   "cell_type": "code",
   "execution_count": null,
   "id": "69f27918",
   "metadata": {},
   "outputs": [],
   "source": []
  },
  {
   "cell_type": "code",
   "execution_count": null,
   "id": "6f2252a6",
   "metadata": {},
   "outputs": [],
   "source": []
  }
 ],
 "metadata": {
  "kernelspec": {
   "display_name": "Python 3 (ipykernel)",
   "language": "python",
   "name": "python3"
  },
  "language_info": {
   "codemirror_mode": {
    "name": "ipython",
    "version": 3
   },
   "file_extension": ".py",
   "mimetype": "text/x-python",
   "name": "python",
   "nbconvert_exporter": "python",
   "pygments_lexer": "ipython3",
   "version": "3.8.16"
  },
  "varInspector": {
   "cols": {
    "lenName": 16,
    "lenType": 16,
    "lenVar": 40
   },
   "kernels_config": {
    "python": {
     "delete_cmd_postfix": "",
     "delete_cmd_prefix": "del ",
     "library": "var_list.py",
     "varRefreshCmd": "print(var_dic_list())"
    },
    "r": {
     "delete_cmd_postfix": ") ",
     "delete_cmd_prefix": "rm(",
     "library": "var_list.r",
     "varRefreshCmd": "cat(var_dic_list()) "
    }
   },
   "types_to_exclude": [
    "module",
    "function",
    "builtin_function_or_method",
    "instance",
    "_Feature"
   ],
   "window_display": false
  }
 },
 "nbformat": 4,
 "nbformat_minor": 5
}
