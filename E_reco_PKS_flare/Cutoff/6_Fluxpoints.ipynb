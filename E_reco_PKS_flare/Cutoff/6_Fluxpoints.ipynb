{
 "cells": [
  {
   "cell_type": "code",
   "execution_count": 1,
   "id": "c102068e",
   "metadata": {},
   "outputs": [
    {
     "name": "stdout",
     "output_type": "stream",
     "text": [
      "loaded gammapy version: 0.1.dev19174+g56b5bdf \n",
      "Supposed to be 1.0 (21-12-2022)\n"
     ]
    }
   ],
   "source": [
    "import gammapy \n",
    "print(f'loaded gammapy version: {gammapy.__version__} ' )\n",
    "print(f'Supposed to be 1.0 (21-12-2022)' )"
   ]
  },
  {
   "cell_type": "code",
   "execution_count": 2,
   "id": "e0c4dcf1",
   "metadata": {
    "tags": []
   },
   "outputs": [
    {
     "name": "stdout",
     "output_type": "stream",
     "text": [
      "loaded gammapy version: 0.1.dev19174+g56b5bdf \n",
      "Supposed to be 1.0 (21-12-2022)\n"
     ]
    },
    {
     "data": {
      "text/plain": [
       "(None, <pyximport.pyximport.PyxImporter at 0x7fb084301550>)"
      ]
     },
     "execution_count": 2,
     "metadata": {},
     "output_type": "execute_result"
    }
   ],
   "source": [
    "import sys\n",
    "import astropy.units as u\n",
    "import gammapy\n",
    "import matplotlib.pylab as plt\n",
    "import numpy as np\n",
    "import pyximport\n",
    "import yaml\n",
    "from gammapy.datasets import FluxPointsDataset, Datasets\n",
    "from gammapy.estimators import FluxPoints, FluxPointsEstimator\n",
    "from gammapy.modeling import Fit, Parameter, Parameters\n",
    "from gammapy.modeling.models import Models, FoVBackgroundModel, Model\n",
    "from matplotlib import rc\n",
    "from scipy.interpolate import interp2d\n",
    "\n",
    "# import random\n",
    "sys.path.append(\"/home/katrin/Documents/nuisance_summary/\")\n",
    "sys.path.append(\"../../\")\n",
    "import Dataset_load  # noqa: E402\n",
    "from Dataset_Creation import sys_dataset  # noqa: E402\n",
    "\n",
    "print(f\"loaded gammapy version: {gammapy.__version__} \")\n",
    "print(\"Supposed to be 1.0 (21-12-2022)\")\n",
    "rc(\"font\", **{\"family\": \"serif\", \"serif\": [\"Computer Modern\"]})\n",
    "rc(\"text\", usetex=True)\n",
    "pyximport.install()"
   ]
  },
  {
   "cell_type": "markdown",
   "id": "23adcef0",
   "metadata": {},
   "source": [
    "## Create dataset"
   ]
  },
  {
   "cell_type": "code",
   "execution_count": 3,
   "id": "f94dc89c",
   "metadata": {},
   "outputs": [
    {
     "name": "stdout",
     "output_type": "stream",
     "text": [
      "loaded dataset:\n",
      "/home/wecapstor1/caph/mppi045h/nuisance_summary/PKS_flare/HESS_public/dataset-simulated-ecpl.fits.gz\n"
     ]
    }
   ],
   "source": [
    "scaled_amplitude = Parameter(\"amplitude\", value=1e-12)\n",
    "lambda_ = Parameter(\"lambda_\", value=1/60)\n",
    "\n",
    "dataset_asimov = Dataset_load.create_asimov(\n",
    "    model=\"ecpl\", source=\"PKSflare\", parameters=Parameters([scaled_amplitude, lambda_])\n",
    ")\n",
    "\n",
    "shift = 0.0\n",
    "tilt = 0.0\n",
    "bias = 0.1\n",
    "resolution = 0.1\n",
    "\n",
    "sys_ = sys_dataset(\n",
    "    dataset_asimov=dataset_asimov,\n",
    "    shift=0,\n",
    "    tilt=0,\n",
    "    bias=0,\n",
    "    resolution=0,\n",
    "    rnd=False,\n",
    "    e_reco_creation=10,\n",
    ")\n",
    "dataset_asimov = sys_.create_dataset()\n",
    "dataset_input = sys_.create_dataset()\n",
    "dataset_asimov_N = sys_.create_dataset_N(e_reco_n=10)\n",
    "zero = 1e-24\n",
    "# addional parameter bias and resolution (ereco) but are frozen\n",
    "penalising_invcovmatrix = np.zeros((4, 4))\n",
    "# 'bias', 'resolution', 'norm_nuisance',  'tilt_nuisance',\n",
    "np.fill_diagonal(\n",
    "    penalising_invcovmatrix,\n",
    "    [1 / bias**2, 1 / resolution**2, 1 / zero**2, 1 / zero**2],\n",
    ")\n",
    "dataset_asimov_N.penalising_invcovmatrix = penalising_invcovmatrix\n",
    "dataset_asimov_N.irf_model.eff_area_model.parameters.freeze_all()\n",
    "dataset_asimov_N.irf_model.parameters[\"resolution\"].frozen = False\n",
    "dataset_asimov_N.irf_model.parameters[\"bias\"].frozen = False\n",
    "\n",
    "\n",
    "a_unit = dataset_asimov_N.models.parameters[\"amplitude\"].unit\n",
    "\n",
    "datasets = Datasets(dataset_asimov)\n",
    "datasets_N = Datasets(dataset_asimov_N)"
   ]
  },
  {
   "cell_type": "code",
   "execution_count": 4,
   "id": "2c72788c",
   "metadata": {},
   "outputs": [
    {
     "name": "stdout",
     "output_type": "stream",
     "text": [
      "CPU times: user 119 ms, sys: 22 ms, total: 141 ms\n",
      "Wall time: 142 ms\n"
     ]
    }
   ],
   "source": [
    "%%time\n",
    "fitting = 0\n",
    "if fitting :\n",
    "    fit = Fit(store_trace=False)\n",
    "    minuit_opts = {\"tol\": 0.001, \"strategy\": 2}\n",
    "    fit.optimize_opts = minuit_opts\n",
    "    result = fit.run(dataset_asimov)\n",
    "    fit_N = Fit(store_trace=False)\n",
    "    fit_N.optimize_opts = minuit_opts\n",
    "    result_N = fit_N.run(dataset_asimov_N)\n",
    "\n",
    "else:\n",
    "    m  = Models.read(\"data/1_model.yml\")\n",
    "    dataset_asimov.models = Models([m[0], FoVBackgroundModel(dataset_name=dataset_asimov.name), ])\n",
    "    path = f\"data/2_model_N.yml\"\n",
    "    dataset_asimov_N = Dataset_load.load_dataset_N(dataset_asimov_N, path)\n",
    "    dataset_asimov_N.irf_model.eff_area_model.parameters.freeze_all()\n",
    "    dataset_asimov_N.irf_model.parameters[\"resolution\"].frozen = False\n",
    "    dataset_asimov_N.irf_model.parameters[\"bias\"].frozen = False"
   ]
  },
  {
   "cell_type": "code",
   "execution_count": null,
   "id": "3fa78e63-2b27-4b14-9db7-0846c62e4c4f",
   "metadata": {},
   "outputs": [
    {
     "data": {
      "text/plain": [
       "array([[1.e+02, 0.e+00, 0.e+00, 0.e+00],\n",
       "       [0.e+00, 1.e+02, 0.e+00, 0.e+00],\n",
       "       [0.e+00, 0.e+00, 1.e+48, 0.e+00],\n",
       "       [0.e+00, 0.e+00, 0.e+00, 1.e+48]])"
      ]
     },
     "execution_count": 9,
     "metadata": {},
     "output_type": "execute_result"
    }
   ],
   "source": [
    "dataset_asimov_N.penalising_invcovmatrix.data"
   ]
  },
  {
   "cell_type": "code",
   "execution_count": 5,
   "id": "0512e23f",
   "metadata": {},
   "outputs": [],
   "source": [
    "mask = dataset_asimov.mask.data[:,200,200]\n",
    "ebins = dataset_asimov.counts.geom.axes[0].center[mask]\n",
    "energy_bounds = (ebins[0] , ebins[-1] ) *u.TeV"
   ]
  },
  {
   "cell_type": "code",
   "execution_count": 6,
   "id": "7084690e",
   "metadata": {},
   "outputs": [
    {
     "data": {
      "image/png": "[encoded data removed]",
      "text/plain": [
       "<Figure size 500x300 with 1 Axes>"
      ]
     },
     "metadata": {},
     "output_type": "display_data"
    }
   ],
   "source": [
    "true_energy = dataset_asimov.exposure.geom.axes[0].center.value\n",
    "energy_bounds = (ebins[0] , ebins[-1] ) *u.TeV\n",
    "fig, axs = plt.subplots(1,1, figsize = (5,3))\n",
    "\n",
    "dataset_asimov_N.models[0].spectral_model.plot(energy_bounds,  energy_power = 2, ax = axs,\n",
    "                                label = \"\", color = \"green\")    \n",
    "\n",
    "dataset_asimov_N.models[0].spectral_model.plot_error(energy_bounds,  energy_power = 2, ax = axs,\n",
    "                                label = \"$1\\sigma$ Nuisance\", facecolor = \"green\", alpha = 0.5)    \n",
    "    \n",
    "dataset_asimov.models[0].spectral_model.plot(energy_bounds,  energy_power = 2, ax = axs,\n",
    "                                label = \"\", color = \"red\", alpha = 0.9)    \n",
    "\n",
    "dataset_asimov.models[0].spectral_model.plot_error(energy_bounds,  energy_power = 2, ax = axs,\n",
    "                                label = \"$1\\sigma$ Standard\", facecolor = \"lightpink\",\n",
    "                                                   alpha = 0.9)\n",
    "\n",
    "dataset_input.models[0].spectral_model.plot(energy_bounds, linestyle='-', energy_power = 2, ax = axs,\n",
    "                                label = \"Input\", color = \"black\", )\n",
    "\n",
    "axs.set_xlabel('')\n",
    "axs.legend()\n",
    "plt.tight_layout()\n"
   ]
  },
  {
   "cell_type": "markdown",
   "id": "f816b8b2",
   "metadata": {},
   "source": [
    "## Compute Asimov Fluxpoints\n"
   ]
  },
  {
   "cell_type": "code",
   "execution_count": 11,
   "id": "4bf940ac",
   "metadata": {
    "scrolled": true
   },
   "outputs": [
    {
     "name": "stdout",
     "output_type": "stream",
     "text": [
      "\n",
      "0.10000000000000002 TeV 0.1778279410038923 TeV\n",
      "norm 1.0 0\n",
      "\n",
      "0.1778279410038923 TeV 0.316227766016838 TeV\n",
      "norm 1.0 0\n",
      "\n",
      "0.316227766016838 TeV 0.5623413251903491 TeV\n",
      "norm 1.0005905504702237 0.1397897196615702\n",
      "\n",
      "0.5623413251903491 TeV 1.0 TeV\n",
      "norm 0.9989610019525382 0.09311987064259683\n",
      "\n",
      "1.0 TeV 1.7782794100389232 TeV\n",
      "norm 0.9997725404592573 0.09465118462105472\n",
      "\n",
      "1.7782794100389232 TeV 3.1622776601683795 TeV\n",
      "norm 1.0000801082433999 0.11669963476102337\n",
      "\n",
      "3.1622776601683795 TeV 5.623413251903489 TeV\n",
      "norm 1.0001058893649517 0.15277932957019077\n",
      "\n",
      "5.623413251903489 TeV 10.000000000000002 TeV\n",
      "norm 0.9994439663181209 0.20834267483640997\n",
      "\n",
      "10.000000000000002 TeV 17.78279410038923 TeV\n",
      "norm 0.997674147733919 0.29121491803813504\n",
      "\n",
      "17.78279410038923 TeV 31.62277660168379 TeV\n",
      "norm 0.9934942185503578 0.42396157503024656\n",
      "\n",
      "31.62277660168379 TeV 56.234132519034915 TeV\n",
      "norm 0.9863641746885674 0.6921868570499216\n",
      "\n",
      "56.234132519034915 TeV 100.00000000000004 TeV\n",
      "norm 1.0406838935918838 1.4098547253276386\n",
      "\n",
      "0.10000000000000002 TeV 0.1778279410038923 TeV\n",
      "norm 1.0 0\n",
      "bias -2.129238648103795e-05 0.0941808392328577\n",
      "resolution 0.0002698707332646623 0.16577613419021922\n",
      "freeze for error\n",
      "freeze for error\n",
      "freeze for error\n",
      "freeze for error\n",
      "\n",
      "0.1778279410038923 TeV 0.316227766016838 TeV\n",
      "norm 1.0 0\n",
      "bias -2.129238648103795e-05 0.0941808392328577\n",
      "resolution 0.0002698707332646623 0.16577613419021922\n",
      "freeze for error\n",
      "freeze for error\n",
      "freeze for error\n",
      "freeze for error\n",
      "\n",
      "0.316227766016838 TeV 0.5623413251903491 TeV\n",
      "norm 1.0303706311590752 0.07966491631176732\n",
      "bias 0.0020775400329374224 0.049183250088954855\n",
      "resolution -0.00240954767918673 0.096673689055443\n",
      "freeze for error\n",
      "freeze for error\n",
      "freeze for error\n",
      "freeze for error\n",
      "\n",
      "0.5623413251903491 TeV 1.0 TeV\n",
      "norm 1.0225899478588598 0.7840145002052975\n",
      "bias 5.461443198501257e-05 0.024557850398694757\n",
      "resolution 0.00046212192676104016 0.6787726042281191\n",
      "freeze for error\n",
      "freeze for error\n",
      "freeze for error\n",
      "freeze for error\n",
      "\n",
      "1.0 TeV 1.7782794100389232 TeV\n",
      "norm 1.029706716481953 0.09719889896516785\n",
      "bias -0.0004967556262416405 1.9999857996728247e-05\n",
      "resolution -0.00044783668034665424 0.0001999998016583301\n",
      "freeze for error\n",
      "freeze for error\n",
      "freeze for error\n",
      "freeze for error\n",
      "\n",
      "1.7782794100389232 TeV 3.1622776601683795 TeV\n",
      "norm 1.0296610840091323 24267.166287339056\n",
      "bias -0.0002143574168741957 0.00014698767244133415\n",
      "resolution -0.0006753035360354468 2.5188877940953684\n",
      "freeze for error\n",
      "freeze for error\n",
      "freeze for error\n",
      "freeze for error\n",
      "\n",
      "3.1622776601683795 TeV 5.623413251903489 TeV\n",
      "norm 1.0287279660910533 0.15667315344042815\n",
      "bias -0.0008265681323024692 1.999996366272664e-05\n",
      "resolution -0.00023196383158214666 0.0001999998139909684\n",
      "freeze for error\n",
      "freeze for error\n",
      "freeze for error\n",
      "freeze for error\n",
      "\n",
      "5.623413251903489 TeV 10.000000000000002 TeV\n",
      "norm 1.026434565671704 327866.95128015586\n",
      "bias -0.0011710643296239292 0.0002582258759459655\n",
      "resolution -0.0025351076758370825 32.742678172453644\n",
      "freeze for error\n",
      "freeze for error\n",
      "freeze for error\n",
      "freeze for error\n",
      "\n",
      "10.000000000000002 TeV 17.78279410038923 TeV\n",
      "norm 1.0273869061843817 0.33655447500665914\n",
      "bias -0.0010879997475450327 0.05730014395580349\n",
      "resolution -0.00015592107601001035 0.12494644152147806\n",
      "freeze for error\n",
      "freeze for error\n",
      "freeze for error\n",
      "freeze for error\n",
      "\n",
      "17.78279410038923 TeV 31.62277660168379 TeV\n",
      "norm 1.0224008141433878 0.5638845795302632\n",
      "bias -0.001117758869106486 0.06950906404801101\n",
      "resolution -0.0001323621485957387 0.14658328341089066\n",
      "freeze for error\n",
      "freeze for error\n",
      "freeze for error\n",
      "freeze for error\n",
      "\n",
      "31.62277660168379 TeV 56.234132519034915 TeV\n",
      "norm 1.0105947572686202 0.9453137056781717\n",
      "bias -0.0009850982827418401 0.0733965575794316\n",
      "resolution -3.970800103267389e-05 0.1528322481751257\n",
      "freeze for error\n",
      "freeze for error\n",
      "freeze for error\n",
      "freeze for error\n",
      "\n",
      "56.234132519034915 TeV 100.00000000000004 TeV\n",
      "norm 1.0550652759721737 1.4357595268094543\n",
      "bias 0.001458879495370542 0.06969962282616941\n",
      "resolution 7.187048561074465e-05 0.05370922030363938\n",
      "freeze for error\n",
      "freeze for error\n",
      "freeze for error\n",
      "freeze for error\n"
     ]
    }
   ],
   "source": [
    "comput_fp = 1\n",
    "if comput_fp :\n",
    "    energy_edges = dataset_asimov.geoms[\"geom\"].axes[0].edges[::2]\n",
    "    esti = FluxPointsEstimator(energy_edges=energy_edges)\n",
    "    fluxpoints = esti.run([dataset_asimov])\n",
    "    fluxpoints.write(\n",
    "        \"data/fluxpoints/6_fluxpoints_asimov.fits\", overwrite = True\n",
    "    )\n",
    "    Models([dataset_asimov.models[0]]).write(\n",
    "        \"data/fluxpoints/6_model_asimov.fits\" , overwrite = True\n",
    "    )\n",
    "    \n",
    "    fluxpoints_N = esti.run([dataset_asimov_N])\n",
    "    fluxpoints_N.write(\n",
    "        f\"data/fluxpoints/6_fluxpoints_asimov_N.fits\", overwrite= True,\n",
    "    )\n",
    "    Models([dataset_asimov_N.models[0]]).write(\n",
    "        f\"data/fluxpoints/6_model_asimov_N.fits\", overwrite= True,\n",
    "    )\n",
    "    \n",
    "    fp_asimov = FluxPointsDataset(data = fluxpoints, models = Models([dataset_asimov.models[0]]))\n",
    "    fp_asimov_N = FluxPointsDataset(data = fluxpoints_N, models = Models([dataset_asimov_N.models[0]]))\n",
    "    \n",
    "else:\n",
    "    fp_asimov = FluxPointsDataset(data = FluxPoints.read(\"data/fluxpoints/6_fluxpoints_asimov.fits\"),\n",
    "                                 models = Models.read(\"data/fluxpoints/6_model_asimov.fits\"))\n",
    "    fp_asimov_N = FluxPointsDataset(data = FluxPoints.read(\"data/fluxpoints/6_fluxpoints_asimov_N.fits\"),\n",
    "                                 models = Models.read(\"data/fluxpoints/6_model_asimov_N.fits\"))"
   ]
  },
  {
   "cell_type": "code",
   "execution_count": 12,
   "id": "55710c06",
   "metadata": {},
   "outputs": [],
   "source": [
    "def plot_shifted (ff, shift):\n",
    "    return ff.energy_ref* shift, ff.e2dnde.data[:,0,0],  ff.e2dnde_err.data[:,0,0], "
   ]
  },
  {
   "cell_type": "code",
   "execution_count": 13,
   "id": "8cf582df",
   "metadata": {},
   "outputs": [
    {
     "data": {
      "image/png": "[encoded data removed]",
      "text/plain": [
       "<Figure size 500x300 with 1 Axes>"
      ]
     },
     "metadata": {},
     "output_type": "display_data"
    }
   ],
   "source": [
    "fig, axs = plt.subplots(1,1, figsize = (5,3))\n",
    "dataset_asimov_N.models[0].spectral_model.plot_error(energy_bounds,  energy_power = 2, ax = axs,\n",
    "                                label = \"$1\\sigma$ Nuisance\", facecolor = \"green\", alpha = 0.5)    \n",
    "    \n",
    "dataset_asimov.models[0].spectral_model.plot_error(energy_bounds,  energy_power = 2, ax = axs,\n",
    "                                label = \"$1\\sigma$ Standard\", facecolor = \"red\", alpha = 0.6)\n",
    "\n",
    "dataset_input.models[0].spectral_model.plot(energy_bounds, linestyle=':', energy_power = 2, ax = axs,\n",
    "                                label = \"Input\", color = \"black\", )\n",
    "\n",
    "\n",
    "\n",
    "e_, f_, ferr_ = plot_shifted(fp_asimov.data, 1.1)\n",
    "axs.errorbar(e_, f_, yerr = ferr_, color = 'darkred', fmt='o')  \n",
    "\n",
    "e_, f_, ferr_ = plot_shifted(fp_asimov_N.data, 1.)\n",
    "axs.errorbar(e_, f_, yerr = ferr_, color = 'darkgreen', fmt='o')  \n",
    "\n",
    "\n",
    "axs.legend()\n",
    "plt.tight_layout()\n"
   ]
  },
  {
   "cell_type": "code",
   "execution_count": 14,
   "id": "ae8a92d3",
   "metadata": {},
   "outputs": [
    {
     "name": "stderr",
     "output_type": "stream",
     "text": [
      "/home/wecapstor1/caph/mppi045h/gammapy/gammapy/maps/region/ndmap.py:113: UserWarning: marker is redundantly defined by the 'marker' keyword argument and the fmt string \"o\" (-> marker='o'). The keyword argument will take precedence.\n",
      "  ax.errorbar(\n",
      "/home/wecapstor1/caph/mppi045h/gammapy/gammapy/maps/region/ndmap.py:113: UserWarning: marker is redundantly defined by the 'marker' keyword argument and the fmt string \"x\" (-> marker='x'). The keyword argument will take precedence.\n",
      "  ax.errorbar(\n"
     ]
    },
    {
     "data": {
      "image/png": "[encoded data removed]",
      "text/plain": [
       "<Figure size 500x300 with 1 Axes>"
      ]
     },
     "metadata": {},
     "output_type": "display_data"
    }
   ],
   "source": [
    "fig, axs = plt.subplots(1,1, figsize = (5,3))\n",
    "dataset_asimov_N.models[0].spectral_model.plot_error(energy_bounds,  energy_power = 2, ax = axs,\n",
    "                                label = \"$1\\sigma$ Nuisance\", facecolor = \"green\", alpha = 0.3)    \n",
    "    \n",
    "dataset_asimov.models[0].spectral_model.plot_error(energy_bounds,  energy_power = 2, ax = axs,\n",
    "                                label = \"$1\\sigma$ Standard\", facecolor = \"red\", alpha = 0.3)\n",
    "\n",
    "dataset_input.models[0].spectral_model.plot(energy_bounds, linestyle=':', energy_power = 2, ax = axs,\n",
    "                                label = \"Input\", color = \"black\", )\n",
    "\n",
    "\n",
    "\n",
    "\n",
    "\n",
    "fp_asimov_N.data.plot(energy_power =2,  color = 'darkgreen', fmt='o')  \n",
    "fp_asimov.data.plot(energy_power =2,  color = 'darkred', fmt='x')  \n",
    "\n",
    "axs.set_xlim(0.3, 100)\n",
    "axs.legend()\n",
    "plt.tight_layout()\n"
   ]
  },
  {
   "cell_type": "code",
   "execution_count": null,
   "id": "6e82e764-ad82-42a3-aaca-e9a8f06a7a2e",
   "metadata": {},
   "outputs": [],
   "source": []
  }
 ],
 "metadata": {
  "kernelspec": {
   "display_name": "Python 3 (ipykernel)",
   "language": "python",
   "name": "python3"
  },
  "language_info": {
   "codemirror_mode": {
    "name": "ipython",
    "version": 3
   },
   "file_extension": ".py",
   "mimetype": "text/x-python",
   "name": "python",
   "nbconvert_exporter": "python",
   "pygments_lexer": "ipython3",
   "version": "3.8.16"
  },
  "varInspector": {
   "cols": {
    "lenName": 16,
    "lenType": 16,
    "lenVar": 40
   },
   "kernels_config": {
    "python": {
     "delete_cmd_postfix": "",
     "delete_cmd_prefix": "del ",
     "library": "var_list.py",
     "varRefreshCmd": "print(var_dic_list())"
    },
    "r": {
     "delete_cmd_postfix": ") ",
     "delete_cmd_prefix": "rm(",
     "library": "var_list.r",
     "varRefreshCmd": "cat(var_dic_list()) "
    }
   },
   "types_to_exclude": [
    "module",
    "function",
    "builtin_function_or_method",
    "instance",
    "_Feature"
   ],
   "window_display": false
  }
 },
 "nbformat": 4,
 "nbformat_minor": 5
}
