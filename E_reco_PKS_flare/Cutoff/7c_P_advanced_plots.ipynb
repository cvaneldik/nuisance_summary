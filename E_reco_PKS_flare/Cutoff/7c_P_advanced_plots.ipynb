{
 "cells": [
  {
   "cell_type": "code",
   "execution_count": 1,
   "id": "c102068e",
   "metadata": {},
   "outputs": [
    {
     "name": "stdout",
     "output_type": "stream",
     "text": [
      "loaded gammapy version: 0.1.dev19174+g56b5bdf \n",
      "Supposed to be 1.0 (21-12-2022)\n"
     ]
    },
    {
     "data": {
      "text/plain": [
       "(None, <pyximport.pyximport.PyxImporter at 0x7fc65c42f1f0>)"
      ]
     },
     "execution_count": 1,
     "metadata": {},
     "output_type": "execute_result"
    }
   ],
   "source": [
    "import sys\n",
    "\n",
    "import astropy.units as u\n",
    "import gammapy\n",
    "import matplotlib.pylab as plt\n",
    "import numpy as np\n",
    "import pyximport\n",
    "import seaborn as sns\n",
    "import yaml\n",
    "from gammapy.datasets import Datasets, FluxPointsDataset\n",
    "from gammapy.estimators import FluxPoints\n",
    "from gammapy.modeling import Parameter, Parameters\n",
    "from gammapy.modeling.models import FoVBackgroundModel, Models\n",
    "from matplotlib import rc\n",
    "from scipy.interpolate import interp2d\n",
    "\n",
    "# import random\n",
    "sys.path.append(\"/home/katrin/Documents/nuisance_summary/\")\n",
    "sys.path.append(\"../../\")\n",
    "import Dataset_load  # noqa: E402\n",
    "from Dataset_Creation import sys_dataset  # noqa: E402\n",
    "\n",
    "print(f\"loaded gammapy version: {gammapy.__version__} \")\n",
    "print(\"Supposed to be 1.0 (21-12-2022)\")\n",
    "rc(\"font\", **{\"family\": \"serif\", \"serif\": [\"Computer Modern\"]})\n",
    "rc(\"text\", usetex=True)\n",
    "pyximport.install()"
   ]
  },
  {
   "cell_type": "code",
   "execution_count": 2,
   "id": "d7f3e0ff",
   "metadata": {
    "lines_to_next_cell": 2
   },
   "outputs": [
    {
     "data": {
      "image/png": "[encoded data removed]",
      "text/plain": [
       "<Figure size 500x500 with 1 Axes>"
      ]
     },
     "metadata": {},
     "output_type": "display_data"
    }
   ],
   "source": [
    "savefig = 1\n",
    "picformat = \"png\"\n",
    "fig, a_fake = plt.subplots(1, 1, figsize=(5.0, 5.0))"
   ]
  },
  {
   "cell_type": "markdown",
   "id": "a1f802d7-1bf7-48ce-8670-5da135b15861",
   "metadata": {
    "lines_to_next_cell": 2,
    "tags": []
   },
   "source": [
    "## Methods\n"
   ]
  },
  {
   "cell_type": "code",
   "execution_count": 3,
   "id": "7ac65578-915d-4d94-bf25-35d405d178db",
   "metadata": {},
   "outputs": [],
   "source": [
    "def compute_fraction(Ls_new, x_new, y_new, threshold, plot=False):\n",
    "    tot_int = np.sum(Ls_new)\n",
    "    offset = Ls_new.min() + threshold\n",
    "    inside = Ls_new * (Ls_new >= offset)\n",
    "    fraction_inside = np.sum(inside) / tot_int\n",
    "    if plot:\n",
    "        fig, ax = plt.subplots(\n",
    "            1,\n",
    "            1,\n",
    "        )\n",
    "        im = ax.pcolormesh(x_new, y_new, Ls_new)\n",
    "        fig.colorbar(im)\n",
    "        ax.set_title(f\"frac inside : {fraction_inside * 100:.4} %\")\n",
    "\n",
    "        ax.contour(\n",
    "            x_new, y_new, Ls_new, colors=(\"gold\",), levels=[Ls_new.min() + threshold]\n",
    "        )\n",
    "    return fraction_inside\n",
    "\n",
    "\n",
    "def plot_L(\n",
    "    Ls_new,\n",
    "    x_new,\n",
    "    y_new,\n",
    "    threshold,\n",
    "    find_min,\n",
    "    color=\"red\",\n",
    "    ax=None,\n",
    "    fig=None,\n",
    "    cbar=True,\n",
    "    cmap=\"viridis\",\n",
    "):\n",
    "    index_min, index_max, ampli_min, ampli_max, index_best, ampli_best = compute_errors(\n",
    "        Ls_new, x_new, y_new, threshold, find_min=find_min\n",
    "    )\n",
    "    if ax is None:\n",
    "        fig, ax = plt.subplots(\n",
    "            1,\n",
    "            1,\n",
    "        )\n",
    "\n",
    "    im = ax.pcolormesh(x_new, y_new, Ls_new, cmap=cmap, rasterized=True)\n",
    "    if cbar:\n",
    "        fig.colorbar(im)\n",
    "\n",
    "    CS = ax.contour(\n",
    "        x_new, y_new, Ls_new, colors=(color,), levels=[Ls_new.min() + threshold]\n",
    "    )\n",
    "    # ax.clabel(CS, CS.levels, inline=True, fmt='$1\\\\sigma$', fontsize=12)\n",
    "\n",
    "    plot_errors(\n",
    "        ax,\n",
    "        x_new,\n",
    "        y_new,\n",
    "        index_min,\n",
    "        index_max,\n",
    "        ampli_min,\n",
    "        ampli_max,\n",
    "        index_best,\n",
    "        ampli_best,\n",
    "        color,\n",
    "    )\n",
    "\n",
    "    ax.plot(ampli_best, index_best, \"x\", color=color)\n",
    "\n",
    "    ax.set_ylabel(f\"Amplitude [{a_unit}]\")\n",
    "    ax.set_xlabel(\"Index []\")\n",
    "    return CS\n",
    "\n",
    "\n",
    "def plot_errors(\n",
    "    ax,\n",
    "    x_new,\n",
    "    y_new,\n",
    "    index_min,\n",
    "    index_max,\n",
    "    ampli_min,\n",
    "    ampli_max,\n",
    "    index_best,\n",
    "    ampli_best,\n",
    "    color,\n",
    "):\n",
    "    linewidth = 2\n",
    "\n",
    "    ax.hlines(\n",
    "        y=index_min,\n",
    "        xmin=x_new[0],\n",
    "        xmax=x_new[-1],\n",
    "        color=color,\n",
    "        linestyle=\"dotted\",\n",
    "        linewidth=linewidth,\n",
    "    )\n",
    "    ax.hlines(\n",
    "        y=index_max,\n",
    "        xmin=x_new[0],\n",
    "        xmax=x_new[-1],\n",
    "        color=color,\n",
    "        linestyle=\"dotted\",\n",
    "        linewidth=linewidth,\n",
    "    )\n",
    "\n",
    "    ax.vlines(\n",
    "        x=ampli_min,\n",
    "        ymin=y_new[0],\n",
    "        ymax=y_new[-1],\n",
    "        color=color,\n",
    "        linestyle=\"dotted\",\n",
    "        linewidth=linewidth,\n",
    "    )\n",
    "    ax.vlines(\n",
    "        x=ampli_max,\n",
    "        ymin=y_new[0],\n",
    "        ymax=y_new[-1],\n",
    "        color=color,\n",
    "        linestyle=\"dotted\",\n",
    "        linewidth=linewidth,\n",
    "    )\n",
    "\n",
    "\n",
    "def compute_errors(Ls_new, x_new, y_new, threshold, find_min):\n",
    "    offset = Ls_new.min() + threshold\n",
    "    if offset > 0:\n",
    "        inside = Ls_new * (Ls_new < offset)\n",
    "    else:\n",
    "        inside = Ls_new * (Ls_new >= offset)\n",
    "    if find_min:  # find min:\n",
    "        pos = np.where(inside > 0)\n",
    "        ampli_best = x_new[np.where(Ls_new == Ls_new.min())[1][0]]\n",
    "        index_best = y_new[np.where(Ls_new == Ls_new.min())[0][0]]\n",
    "\n",
    "    else:  # find max\n",
    "        pos = np.where(inside > 0)\n",
    "        ampli_best = x_new[np.where(Ls_new == Ls_new.max())[1][0]]\n",
    "        index_best = y_new[np.where(Ls_new == Ls_new.max())[0][0]]\n",
    "\n",
    "    delta_bin = (x_new[1] - x_new[0]) / 2\n",
    "    ampli_min = x_new[np.min(pos[1])] - delta_bin\n",
    "    ampli_max = x_new[np.max(pos[1])] + delta_bin\n",
    "    ampli_best += delta_bin\n",
    "\n",
    "    delta_bin = (y_new[1] - y_new[0]) / 2\n",
    "    index_min = y_new[np.min(pos[0])] - delta_bin\n",
    "    index_max = y_new[np.max(pos[0])] + delta_bin\n",
    "    index_best += delta_bin\n",
    "\n",
    "    return index_min, index_max, ampli_min, ampli_max, index_best, ampli_best\n",
    "\n",
    "\n",
    "def fraction_within(lower_lim, upper_lim, data):\n",
    "    is_within = []\n",
    "    for d in data:\n",
    "        larger = np.all(d[0] >= lower_lim)\n",
    "        smaller = np.all(d[0] <= upper_lim)\n",
    "        is_within.append(larger and smaller)\n",
    "\n",
    "    return np.count_nonzero(is_within) / len(data)"
   ]
  },
  {
   "cell_type": "code",
   "execution_count": 4,
   "id": "aa1c2195-112b-424b-b7dd-68552a0fd1d7",
   "metadata": {},
   "outputs": [],
   "source": [
    "def plot_amplitude(axs_a):\n",
    "    # ampli\n",
    "    a = axs_a\n",
    "    i = 1\n",
    "    a.hist(\n",
    "        valuies[i][1:, 0],\n",
    "        color=color_rnd,\n",
    "        alpha=0.8,\n",
    "        bins=np.linspace(xlims[i][0], xlims[i][-1], nbins),\n",
    "        orientation=\"horizontal\",\n",
    "    )\n",
    "\n",
    "    a.hist(\n",
    "        valuies_N[i][1:, 0],\n",
    "        color=color_rnd_nui,\n",
    "        alpha=0.8,\n",
    "        bins=np.linspace(xlims[i][0], xlims[i][-1], nbins),\n",
    "        orientation=\"horizontal\",\n",
    "    )\n",
    "\n",
    "    ylim = a.get_xlim()\n",
    "    delta_ylim = 5\n",
    "    a.hlines(\n",
    "        valuies_asimov_N[i][0],\n",
    "        ylim[0],\n",
    "        ylim[1] + delta_ylim,\n",
    "        color=colors[1],\n",
    "        linestyle=\"dashed\",\n",
    "    )\n",
    "    a.fill_betweenx(\n",
    "        [\n",
    "            valuies_asimov_N[i][0] - valuies_asimov_N[i][1],\n",
    "            valuies_asimov_N[i][0] + valuies_asimov_N[i][1],\n",
    "        ],\n",
    "        ylim[0],\n",
    "        ylim[1] + delta_ylim,\n",
    "        alpha=alpha_nui,\n",
    "        color=colors[3],\n",
    "        label=legends[0] + f\"{withins[i][1]*100 :.3}\\\\%\",\n",
    "    )\n",
    "    a.hlines(valuies_asimov[i][0], ylim[0], ylim[1], color=colors[0])\n",
    "    a.fill_betweenx(\n",
    "        [\n",
    "            valuies_asimov[i][0] - valuies_asimov[i][1],\n",
    "            valuies_asimov[i][0] + valuies_asimov[i][1],\n",
    "        ],\n",
    "        ylim[0],\n",
    "        ylim[1],\n",
    "        alpha=alpha_st,\n",
    "        color=colors[2],\n",
    "        label=legends[1] + f\"{withins[i][0]*100 :.3}\\\\%\",\n",
    "    )\n",
    "    a.set_xlabel(\"\")\n",
    "    a.set_ylim(axs_L.get_ylim()[0], axs_L.get_ylim()[1])\n",
    "    yy = a.get_xlim()[1]\n",
    "    print(\n",
    "        f\"amplitudes  : {np.mean(amplitudes[:,0]):.5} pm {np.std(amplitudes[:,0]):.5}\"\n",
    "    )\n",
    "    print(\n",
    "        f\"amplitudes N: {np.mean(amplitudes_N[:,0]):.5} pm {np.std(amplitudes_N[:,0]):.5}\"\n",
    "    )\n",
    "\n",
    "    a.errorbar(\n",
    "        x=yy / 3,\n",
    "        y=np.mean(amplitudes[:, 0]),\n",
    "        yerr=np.std(amplitudes[:, 0]),\n",
    "        fmt=\"o\",\n",
    "        color=color_rnd_err,\n",
    "        label=\"\",\n",
    "    )\n",
    "\n",
    "    a.errorbar(\n",
    "        x=yy / 3 - y2,\n",
    "        y=np.mean(amplitudes_N[:, 0]),\n",
    "        yerr=np.std(amplitudes_N[:, 0]),\n",
    "        fmt=\"o\",\n",
    "        color=color_rnd_nui_err,\n",
    "        label=\"\",\n",
    "    )\n",
    "\n",
    "    a.set_yticklabels([])\n",
    "    a.set_yticks([])\n",
    "\n",
    "\n",
    "def plot_index(axs_i):\n",
    "    # index\n",
    "    a = axs_i\n",
    "    i = 2\n",
    "    a.hist(\n",
    "        valuies[i][1:, 0],\n",
    "        color=color_rnd,\n",
    "        alpha=0.8,\n",
    "        bins=np.linspace(xlims[i][0], xlims[i][-1], nbins),\n",
    "    )\n",
    "    a.hist(\n",
    "        valuies_N[i][1:, 0],\n",
    "        color=color_rnd_nui,\n",
    "        alpha=0.8,\n",
    "        bins=np.linspace(xlims[i][0], xlims[i][-1], nbins),\n",
    "    )\n",
    "    ylim = a.get_ylim()\n",
    "    delta_ylim = 5\n",
    "    a.vlines(\n",
    "        valuies_asimov_N[i][0],\n",
    "        ylim[0],\n",
    "        ylim[1] + delta_ylim,\n",
    "        color=colors[1],\n",
    "        linestyle=\"dashed\",\n",
    "    )\n",
    "    a.fill_between(\n",
    "        [\n",
    "            valuies_asimov_N[i][0] - valuies_asimov_N[i][1],\n",
    "            valuies_asimov_N[i][0] + valuies_asimov_N[i][1],\n",
    "        ],\n",
    "        ylim[0],\n",
    "        ylim[1] + delta_ylim,\n",
    "        alpha=alpha_nui,\n",
    "        color=colors[3],\n",
    "        label=legends[0] + f\"{withins[i][1]*100 :.3}\\\\%\",\n",
    "    )\n",
    "    a.vlines(valuies_asimov[i][0], ylim[0], ylim[1], color=colors[0])\n",
    "    a.fill_between(\n",
    "        [\n",
    "            valuies_asimov[i][0] - valuies_asimov[i][1],\n",
    "            valuies_asimov[i][0] + valuies_asimov[i][1],\n",
    "        ],\n",
    "        ylim[0],\n",
    "        ylim[1],\n",
    "        alpha=alpha_st,\n",
    "        color=colors[2],\n",
    "        label=legends[1] + f\"{withins[i][0]*100 :.3}\\\\%\",\n",
    "    )\n",
    "    a.set_xlabel(xlabels[i])\n",
    "    yy = a.get_ylim()[1]\n",
    "    print(f\"index     : {np.mean(indices[:,0]):.5} pm {np.std(indices[:,0]):.5}\")\n",
    "    print(f\"index nui : {np.mean(indices_N[:,0]):.5} pm {np.std(indices_N[:,0]):.5}\")\n",
    "    a.errorbar(\n",
    "        x=np.mean(indices[:, 0]),\n",
    "        y=yy / 3,\n",
    "        xerr=np.std(indices[:, 0]),\n",
    "        fmt=\"o\",\n",
    "        color=color_rnd_err,\n",
    "        label=\"\",\n",
    "    )\n",
    "    a.errorbar(\n",
    "        x=np.mean(indices_N[:, 0]),\n",
    "        y=yy / 3 - y2,\n",
    "        xerr=np.std(indices_N[:, 0]),\n",
    "        fmt=\"o\",\n",
    "        color=color_rnd_nui_err,\n",
    "        label=\"\",\n",
    "    )\n",
    "    a.set_xlim(axs_L.get_xlim()[0], axs_L.get_xlim()[1])\n",
    "    a.set_xlabel(\"\")\n",
    "    a.set_xticklabels([])\n",
    "    a.set_xticks([])\n",
    "\n",
    "\n",
    "def plot_randoms(axs_L, fig):\n",
    "    (\n",
    "        ampli_min_asimov_N,\n",
    "        ampli_max_asimov_N,\n",
    "        index_min_asimov_N,\n",
    "        index_max_asimov_N,\n",
    "        ampli_best_asimov_N,\n",
    "        index_best_asimov_N,\n",
    "    ) = compute_errors(\n",
    "        data_contour_N, indexy__new_N, amplix__new_N, threshold_contour, find_min=True\n",
    "    )\n",
    "\n",
    "    CS_N = plot_L(\n",
    "        data_contour_N,\n",
    "        indexy__new_N,\n",
    "        amplix__new_N,\n",
    "        threshold_contour,\n",
    "        find_min=True,\n",
    "        color=colors[1],\n",
    "        ax=a_fake,\n",
    "        fig=fig,\n",
    "        cbar=False,\n",
    "        cmap=cmap,\n",
    "    )\n",
    "    dat_N = CS_N.allsegs[0][0]\n",
    "    axs_L.plot(dat_N[:, 0], dat_N[:, 1], color=colors[1])\n",
    "\n",
    "    CS = plot_L(\n",
    "        data_contour,\n",
    "        indexy__new,\n",
    "        amplix__new,\n",
    "        threshold_contour,\n",
    "        find_min=True,\n",
    "        color=colors[1],\n",
    "        ax=a_fake,\n",
    "        fig=fig,\n",
    "        cbar=False,\n",
    "        cmap=cmap,\n",
    "    )\n",
    "    dat = CS.allsegs[0][0]\n",
    "    axs_L.plot(dat[:, 0], dat[:, 1], color=colors[0])\n",
    "    # axs_L.plot(index_best_asimov, ampli_best_asimov, \"x\", color=colors[0])\n",
    "\n",
    "    axs_L.scatter(\n",
    "        indices_data_N,\n",
    "        amplitudes_data_N,\n",
    "        marker=\".\",\n",
    "        color=color_rnd_nui,\n",
    "        alpha=alpha_rnd_nui,\n",
    "        label=\"Rnd with nui.\",\n",
    "    )\n",
    "    axs_L.scatter(\n",
    "        indices_data,\n",
    "        amplitudes_data,\n",
    "        marker=\"x\",\n",
    "        s=14,\n",
    "        color=color_rnd,\n",
    "        alpha=alpha_rnd,\n",
    "        label=\"Rnd w/o nui.\",\n",
    "    )\n",
    "\n",
    "    model = fluxpoints_ds.models[0]\n",
    "    ampli, index = model.parameters[\"amplitude\"].value, model.parameters[\"index\"].value\n",
    "    ampli_err, index_err = (\n",
    "        model.parameters[\"amplitude\"].error,\n",
    "        model.parameters[\"index\"].error,\n",
    "    )\n",
    "    axs_L.errorbar(\n",
    "        index,\n",
    "        ampli,\n",
    "        xerr=index_err,\n",
    "        yerr=ampli_err,\n",
    "        marker=\"x\",\n",
    "        markersize=6,\n",
    "        color=color_rnd_example,\n",
    "        alpha=0.99,\n",
    "        label=\"Example w/o nui.\",\n",
    "    )\n",
    "\n",
    "    model = fluxpoints_Nds.models[0]\n",
    "    ampli, index = model.parameters[\"amplitude\"].value, model.parameters[\"index\"].value\n",
    "    ampli_err, index_err = (\n",
    "        model.parameters[\"amplitude\"].error,\n",
    "        model.parameters[\"index\"].error,\n",
    "    )\n",
    "\n",
    "    axs_L.errorbar(\n",
    "        index,\n",
    "        ampli,\n",
    "        xerr=index_err,\n",
    "        yerr=ampli_err,\n",
    "        marker=\"o\",\n",
    "        markersize=6,\n",
    "        color=color_rnd_nui_example,\n",
    "        alpha=0.99,\n",
    "        label=\"Example with nui.\",\n",
    "    )\n",
    "\n",
    "    axs_L.plot(2.3, 1e-12, \"^\", markersize=6, color=\"black\", label=\"Input\")\n",
    "    axs_L.plot(2.3, 1e-12, \"x\", markersize=8, color=colors[1], label=legendsscatter[1])\n",
    "    axs_L.plot(2.3, 1e-12, \"+\", markersize=10, color=colors[0], label=legendsscatter[0])\n",
    "\n",
    "    off = 1e-14\n",
    "    axs_L.text(\n",
    "        index_best_asimov_N,\n",
    "        off + ampli_max_asimov_N,\n",
    "        \"$1\\\\sigma$\",\n",
    "        color=colors[1],\n",
    "        fontsize=\"x-large\",\n",
    "    )\n",
    "    axs_L.text(\n",
    "        index_best_asimov_N,\n",
    "        off + ampli_max_asimov,\n",
    "        \"$1\\\\sigma$\",\n",
    "        color=colors[0],\n",
    "        fontsize=\"x-large\",\n",
    "    )\n",
    "    axs_L.plot(\n",
    "        [np.nan, np.nan],\n",
    "        [np.nan, np.nan],\n",
    "        alpha=1,\n",
    "        color=colors[0],\n",
    "        label=legends[0],\n",
    "    )  # + f'{fraction_N:.3}\\\\%')\n",
    "    axs_L.plot(\n",
    "        [np.nan, np.nan],\n",
    "        [np.nan, np.nan],\n",
    "        alpha=1,\n",
    "        color=colors[1],\n",
    "        label=legends[1],\n",
    "    )  # +  f'{fraction:.3}\\\\%'  )\n",
    "    axs_L.legend(ncol=2)\n",
    "    axs_L.set_xlabel(\"Index []\")\n",
    "    axs_L.set_ylabel(\"Amplitude [1/cm2 s TeV]\")\n",
    "\n",
    "    # plt.tight_layout()\n",
    "    if savefig:\n",
    "        fig.savefig(f\"plots/7c_L_contour_{shift}_dist_TS_nui.\" + picformat)\n",
    "        fig.savefig(f\"plots/7c_L_contour_{shift}_dist_TS_nui.\" + \"png\")\n",
    "    print(N)\n",
    "    return fig\n",
    "\n",
    "\n",
    "def plot_choice_sed(fig, ax):\n",
    "    fluxpoints_ds.data.plot(\n",
    "        energy_power=2,\n",
    "        ax=ax,\n",
    "        color=color_rnd_example,\n",
    "        label=\"Example w/0 nui.\",\n",
    "        marker=\"x\",\n",
    "    )\n",
    "    fluxpoints_Nds.data.plot(\n",
    "        energy_power=2, ax=ax, color=color_rnd_nui_example, label=\"Example with nui.\"\n",
    "    )\n",
    "\n",
    "    model = fluxpoints_ds.models[0]\n",
    "    info = f\"$\\\\phi_0$={model.parameters['amplitude'].value:.2} $\\\\pm$\"\n",
    "    info += f\"{model.parameters['amplitude'].error:.2}\\n  {model.parameters['amplitude'].unit}\"\n",
    "    info += f\"\\n$\\\\Gamma$={model.parameters['index'].value:.2} $\\\\pm$\"\n",
    "    info += f\"{model.parameters['index'].error:.2}  {model.parameters['index'].unit}\"\n",
    "    fluxpoints_ds.models[0].spectral_model.plot(\n",
    "        energy_bounds=[0.3, 100] * u.TeV,\n",
    "        energy_power=2,\n",
    "        ax=ax,\n",
    "        color=color_rnd_example,\n",
    "        label=\"\",\n",
    "    )\n",
    "    fluxpoints_ds.models[0].spectral_model.plot_error(\n",
    "        energy_bounds=[0.3, 100] * u.TeV,\n",
    "        energy_power=2,\n",
    "        ax=ax,\n",
    "        facecolor=color_rnd_example,\n",
    "        label=\"\",\n",
    "        alpha=0.3,\n",
    "    )\n",
    "\n",
    "    model = fluxpoints_Nds.models[0]\n",
    "    info = f\"$\\\\phi_0$={model.parameters['amplitude'].value:.2} $\\\\pm$\"\n",
    "    info += f\"{model.parameters['amplitude'].error:.2}\\n  {model.parameters['amplitude'].unit}\"\n",
    "    info += f\"\\n$\\\\Gamma$={model.parameters['index'].value:.2} $\\\\pm$\"\n",
    "    info += f\"{model.parameters['index'].error:.2}  {model.parameters['index'].unit}\"\n",
    "    fluxpoints_Nds.models[0].spectral_model.plot(\n",
    "        energy_bounds=[0.3, 100] * u.TeV,\n",
    "        energy_power=2,\n",
    "        ax=ax,\n",
    "        color=color_rnd_nui_example,\n",
    "        label=\"\",\n",
    "        linestyle=\"dashed\",\n",
    "    )\n",
    "    fluxpoints_Nds.models[0].spectral_model.plot_error(\n",
    "        energy_bounds=[0.3, 100] * u.TeV,\n",
    "        energy_power=2,\n",
    "        ax=ax,\n",
    "        facecolor=color_rnd_nui_example,\n",
    "        label=\"\",\n",
    "        alpha=0.3,\n",
    "    )\n",
    "\n",
    "    ax.set_title(f\"Bias: {shift_rnd*100:.3} \\\\%; Resolution: {tilt_rnd*100:.3}\\\\% \")\n",
    "    model = dataset_asimov.models[0]\n",
    "    info = f\"$\\\\phi_0$={model.parameters['amplitude'].value:.2}\\n \"\n",
    "    info += f\"{model.parameters['amplitude'].unit}\"\n",
    "    info += f\"\\n$\\\\Gamma$={model.parameters['index'].value:.2} \"\n",
    "    info += f\"{model.parameters['index'].unit}\"\n",
    "    dataset_asimov.models[0].spectral_model.plot(\n",
    "        energy_bounds=[0.3, 100] * u.TeV,\n",
    "        energy_power=2,\n",
    "        ax=ax,\n",
    "        color=\"black\",\n",
    "        label=\"Input\",\n",
    "        linestyle=\"dotted\",\n",
    "    )\n",
    "    # ax.legend(loc = 'lower center', bbox_to_anchor=(0.5, -0.6), ncol = 3)\n",
    "    ax.legend(loc=\"lower left\")\n",
    "\n",
    "    # ax.legend()\n",
    "    # plt.tight_layout()\n",
    "    ax.set_xlim(0.3, 100)\n",
    "    ax.set_ylim(1e-13, 2e-12)\n",
    "\n",
    "\n",
    "def plot_rnd_fistribution(fig, ax, cc):\n",
    "    nbins = 30\n",
    "    count, bins, ignored = axs.hist(shift_rnds, nbins, density=True, color=\"grey\")\n",
    "    sigma = shift\n",
    "    mu = 0\n",
    "    axs.plot(\n",
    "        bins,\n",
    "        1\n",
    "        / (sigma * np.sqrt(2 * np.pi))\n",
    "        * np.exp(-((bins - mu) ** 2) / (2 * sigma**2)),\n",
    "        linewidth=2,\n",
    "        color=\"black\",\n",
    "        label=f\"$\\\\mu = {mu}; \\\\sigma = {sigma}$\",\n",
    "    )\n",
    "\n",
    "    axs.vlines(\n",
    "        shift_rnd,\n",
    "        0,\n",
    "        axs.get_ylim()[1],\n",
    "        color=cc,\n",
    "        label=f\"Example value: {shift_rnd*100:.2} \\\\%\",\n",
    "    )\n",
    "\n",
    "    axs.set_xlabel(\"Systematic on Eff. Area Norm [\\\\%]\")\n",
    "    axs.legend(loc=\"center right\")\n",
    "\n",
    "    x = axs.get_xlim()\n",
    "    deltax = np.max([mu - x[0], x[1] - mu])\n",
    "    axs.set_xlim(mu - deltax, mu + deltax)\n",
    "\n",
    "    count, bins, ignored = ax1.hist(index_rnds, nbins, density=True, color=\"grey\")\n",
    "    sigma = tilt\n",
    "    mu = 0\n",
    "    ax1.plot(\n",
    "        bins,\n",
    "        1\n",
    "        / (sigma * np.sqrt(2 * np.pi))\n",
    "        * np.exp(-((bins - mu) ** 2) / (2 * sigma**2)),\n",
    "        linewidth=2,\n",
    "        color=\"black\",\n",
    "        label=f\"$\\\\mu = {mu}; \\\\sigma = {sigma:.3}$\",\n",
    "    )\n",
    "    ax1.vlines(\n",
    "        tilt_rnd,\n",
    "        0,\n",
    "        ax1.get_ylim()[1],\n",
    "        color=cc,\n",
    "        label=f\"Example value {tilt_rnd*100:.2} \\\\%\",\n",
    "    )\n",
    "\n",
    "    ax1.set_xlabel(\"Systematic on Eff. Area Tilt [\\\\%]\")\n",
    "    # ax1.set_title(f\"N = {N}\")\n",
    "    ax1.legend(loc=\"center right\")\n",
    "\n",
    "    x = ax1.get_xlim()\n",
    "    deltax = np.max([mu - x[0], x[1] - mu])\n",
    "    ax1.set_xlim(mu - deltax, mu + deltax)\n",
    "    plt.tight_layout()\n",
    "\n",
    "\n",
    "def plot_asimov_spectrum(fig, ax):\n",
    "    model = dataset_asimov_N.models[0].spectral_model\n",
    "    model.plot(\n",
    "        energy_bounds=[0.3, 100] * u.TeV,\n",
    "        energy_power=2,\n",
    "        ax=ax,\n",
    "        color=colors[1],\n",
    "        label=\"Asimov Fit with nui.\",\n",
    "        linestyle=\"solid\",\n",
    "    )\n",
    "\n",
    "    model.plot_error(\n",
    "        energy_bounds=[0.3, 100] * u.TeV,\n",
    "        energy_power=2,\n",
    "        ax=ax,\n",
    "        facecolor=colors[3],\n",
    "        label=\"\",\n",
    "        alpha=1,\n",
    "    )\n",
    "\n",
    "    model = dataset_asimov.models[0].spectral_model\n",
    "    model.plot(\n",
    "        energy_bounds=[0.3, 100] * u.TeV,\n",
    "        energy_power=2,\n",
    "        ax=ax,\n",
    "        color=colors[0],\n",
    "        linestyle=\"dashed\",\n",
    "        label=\"Asimov Fit w/0 nui.\",\n",
    "    )\n",
    "    model.plot_error(\n",
    "        energy_bounds=[0.3, 100] * u.TeV,\n",
    "        energy_power=2,\n",
    "        ax=ax,\n",
    "        facecolor=colors[2],\n",
    "        label=\"\",\n",
    "        alpha=1,\n",
    "    )\n",
    "\n",
    "    model = dataset_asimov.models[0]\n",
    "    dataset_asimov.models[0].spectral_model.plot(\n",
    "        energy_bounds=[0.3, 100] * u.TeV,\n",
    "        energy_power=2,\n",
    "        ax=ax,\n",
    "        color=\"black\",\n",
    "        label=\"Input\",\n",
    "        linestyle=\"dotted\",\n",
    "    )\n",
    "\n",
    "    ax.legend(loc=\"lower left\")\n",
    "    ax.set_xlim(0.3, 100)\n",
    "    ax.set_ylim(1e-13, 2e-12)\n",
    "\n",
    "\n",
    "def plot_coverage(fig, ax2):\n",
    "    p = compute_precision(N)\n",
    "    ax2.errorbar(ebins, withine, yerr=p, color=colors[0], label=\"\")\n",
    "    ax2.errorbar(ebins * 1.05, withine_N, yerr=p, color=colors[1], label=\"\")\n",
    "    ax2.plot(ebins, [0.68] * len(ebins), \":\", color=\"black\", label=\"\")\n",
    "    # ax2.legend(ncol = 2)\n",
    "    axs.set_title(f\"N = {N} (p = {p*100:.3}\\\\%)\")\n",
    "    ax2.set_xlabel(\"Energy [TeV]\")\n",
    "    ax2.set_ylabel(\"Coverage\")\n",
    "    axs.set_xlabel(\"\")\n",
    "    plt.tight_layout()"
   ]
  },
  {
   "cell_type": "markdown",
   "id": "23adcef0",
   "metadata": {
    "tags": []
   },
   "source": [
    "## Import"
   ]
  },
  {
   "cell_type": "markdown",
   "id": "933e7254-594c-4249-b991-0a381a016448",
   "metadata": {},
   "source": [
    "### Datasets"
   ]
  },
  {
   "cell_type": "code",
   "execution_count": 5,
   "id": "d0541de6-0912-4ed1-a958-7d4db333b637",
   "metadata": {},
   "outputs": [
    {
     "name": "stdout",
     "output_type": "stream",
     "text": [
      "loaded dataset:\n",
      "/home/wecapstor1/caph/mppi045h/nuisance_summary/PKS_flare/HESS_public/dataset-simulated-ecpl.fits.gz\n"
     ]
    }
   ],
   "source": [
    "scaled_amplitude = Parameter(\"amplitude\", value=1e-12)\n",
    "lambda_ = Parameter(\"lambda_\", value=1 / 60)\n",
    "\n",
    "dataset_asimov = Dataset_load.create_asimov(\n",
    "    model=\"ecpl\", source=\"PKSflare\", parameters=Parameters([scaled_amplitude, lambda_])\n",
    ")\n",
    "\n",
    "shift = 0.0\n",
    "tilt = 0.0\n",
    "bias = 0.1\n",
    "resolution = 0.1\n",
    "\n",
    "sys_ = sys_dataset(\n",
    "    dataset_asimov=dataset_asimov,\n",
    "    shift=0,\n",
    "    tilt=0,\n",
    "    bias=0,\n",
    "    resolution=0,\n",
    "    rnd=False,\n",
    "    e_reco_creation=10,\n",
    ")\n",
    "dataset_asimov = sys_.create_dataset()\n",
    "dataset_input = sys_.create_dataset()\n",
    "dataset_asimov_N = sys_.create_dataset_N(e_reco_n=10)\n",
    "zero = 1e-24\n",
    "# addional parameter bias and resolution (ereco) but are frozen\n",
    "penalising_invcovmatrix = np.zeros((4, 4))\n",
    "# 'bias', 'resolution', 'norm_nuisance',  'tilt_nuisance',\n",
    "np.fill_diagonal(\n",
    "    penalising_invcovmatrix,\n",
    "    [1 / bias**2, 1 / resolution**2, 1 / zero**2, 1 / zero**2],\n",
    ")\n",
    "dataset_asimov_N.penalising_invcovmatrix = penalising_invcovmatrix\n",
    "dataset_asimov_N.irf_model.eff_area_model.parameters.freeze_all()\n",
    "dataset_asimov_N.irf_model.parameters[\"resolution\"].frozen = False\n",
    "dataset_asimov_N.irf_model.parameters[\"bias\"].frozen = False\n",
    "\n",
    "\n",
    "a_unit = dataset_asimov_N.models.parameters[\"amplitude\"].unit\n",
    "\n",
    "datasets = Datasets(dataset_asimov)\n",
    "datasets_N = Datasets(dataset_asimov_N)"
   ]
  },
  {
   "cell_type": "code",
   "execution_count": 6,
   "id": "3e41270c-da9e-45ad-b942-d704a4743ee9",
   "metadata": {},
   "outputs": [],
   "source": [
    "m = Models.read(\"data/1_model.yml\")\n",
    "dataset_asimov.models = Models(\n",
    "    [\n",
    "        m[0],\n",
    "        FoVBackgroundModel(dataset_name=dataset_asimov.name),\n",
    "    ]\n",
    ")\n",
    "path = \"data/1_model_N.yml\"\n",
    "dataset_asimov_N = Dataset_load.load_dataset_N(dataset_asimov_N, path)\n",
    "dataset_asimov_N.models.parameters[\"tilt_nuisance\"].frozen = False"
   ]
  },
  {
   "cell_type": "markdown",
   "id": "1fc73ac9-5120-4ecd-9676-0678c4726515",
   "metadata": {},
   "source": [
    "### Fluxpoints"
   ]
  },
  {
   "cell_type": "code",
   "execution_count": 8,
   "id": "53e261c3-17fc-4f24-96e0-fd546b414a8d",
   "metadata": {
    "lines_to_next_cell": 2
   },
   "outputs": [],
   "source": [
    "fp_asimov = FluxPointsDataset(\n",
    "    data=FluxPoints.read(\"data/fluxpoints/6_fluxpoints_asimov.fits\"),\n",
    "    models=Models.read(\"data/fluxpoints/6_model_asimov.fits\"),\n",
    ")\n",
    "fp_asimov_N = FluxPointsDataset(\n",
    "    data=FluxPoints.read(\"data/fluxpoints/6_fluxpoints_asimov_N.fits\"),\n",
    "    models=Models.read(\"data/fluxpoints/6_model_asimov_N.fits\"),\n",
    ")"
   ]
  },
  {
   "cell_type": "markdown",
   "id": "31ce31bd-9ff2-4c0a-8d8a-ad298a2010eb",
   "metadata": {
    "tags": []
   },
   "source": [
    "### Results"
   ]
  },
  {
   "cell_type": "code",
   "execution_count": 9,
   "id": "5e4d5630",
   "metadata": {
    "lines_to_next_cell": 2
   },
   "outputs": [
    {
     "name": "stdout",
     "output_type": "stream",
     "text": [
      "24\n"
     ]
    }
   ],
   "source": [
    "infos = np.loadtxt(\"data/7a_P_draw_info.txt\")\n",
    "pars = np.loadtxt(\"data/7a_P_draw_par.txt\")\n",
    "flux = np.loadtxt(\"data/7a_P_draw_flux.txt\")\n",
    "flux2e = np.loadtxt(\"data/7a_P_draw_flux2e.txt\")\n",
    "\n",
    "\n",
    "lem = len(infos)\n",
    "N_max = 1000\n",
    "N = np.min([lem, N_max])\n",
    "\n",
    "print(N)\n",
    "\n",
    "shift_rnds = infos[:N_max, 0]\n",
    "index_rnds = infos[:N_max, 1]\n",
    "stat_sums = infos[:N_max, 2]\n",
    "\n",
    "\n",
    "# amplitude', 'index', 'lambdas', 'norm', 'tilt\n",
    "amplitudes = pars[:N_max, 0:2]\n",
    "indices = pars[:N_max, 2:4]\n",
    "lambdas = pars[:N_max, 4:6]\n",
    "norms = pars[:N_max, 6:8]\n",
    "tilts = pars[:N_max, 8:10]\n",
    "\n",
    "valuies = [norms, amplitudes, indices, lambdas]"
   ]
  },
  {
   "cell_type": "code",
   "execution_count": 10,
   "id": "f3f18a93-4af0-465e-ad5a-58497206576c",
   "metadata": {},
   "outputs": [
    {
     "name": "stdout",
     "output_type": "stream",
     "text": [
      "22\n"
     ]
    }
   ],
   "source": [
    "pars_N = np.loadtxt(\"data/7a_N_P_draw_par.txt\")\n",
    "flux_N = np.loadtxt(\"data/7a_N_P_draw_flux.txt\")\n",
    "flux2e_N = np.loadtxt(\"data/7a_N_P_draw_flux2e.txt\")\n",
    "\n",
    "\n",
    "lem = len(pars_N)\n",
    "N_max = 1000\n",
    "N = np.min([lem, N_max])\n",
    "\n",
    "print(N)\n",
    "\n",
    "shift_rnds = infos[:N_max, 0]\n",
    "index_rnds = infos[:N_max, 1]\n",
    "stat_sums = infos[:N_max, 2]\n",
    "\n",
    "\n",
    "# amplitude', 'index', 'norm', 'tilt\n",
    "amplitudes_N = pars_N[:N_max, 0:2]\n",
    "indices_N = pars_N[:N_max, 2:4]\n",
    "lambdas_N = pars_N[:N_max, 4:6]\n",
    "norms_N = pars_N[:N_max, 6:8]\n",
    "tilts_N = pars_N[:N_max, 8:10]\n",
    "bias_N = pars_N[:N_max, 10:12]\n",
    "resolution_N = pars_N[:N_max, 12:14]\n",
    "\n",
    "valuies_N = [norms_N, amplitudes_N, indices_N, lambdas_N, bias_N, resolution_N]\n",
    "\n",
    "\n",
    "amplitudes_data_N = valuies_N[1][:, 0]\n",
    "indices_data_N = valuies_N[2][:, 0]\n",
    "lambdas_data_N = valuies_N[3][:, 0]"
   ]
  },
  {
   "cell_type": "code",
   "execution_count": 11,
   "id": "6c485a02-9a88-4015-b4e8-67bc3595704e",
   "metadata": {},
   "outputs": [
    {
     "name": "stderr",
     "output_type": "stream",
     "text": [
      "No artists with labels found to put in legend.  Note that artists whose label start with an underscore are ignored when legend() is called with no argument.\n",
      "No artists with labels found to put in legend.  Note that artists whose label start with an underscore are ignored when legend() is called with no argument.\n"
     ]
    },
    {
     "name": "stdout",
     "output_type": "stream",
     "text": [
      "Bias error: 0.339 pm 0.497\n",
      "Resolution error: 0.394 pm 0.435\n"
     ]
    },
    {
     "data": {
      "image/png": "[encoded data removed]",
      "text/plain": [
       "<Figure size 600x300 with 2 Axes>"
      ]
     },
     "metadata": {},
     "output_type": "display_data"
    }
   ],
   "source": [
    "fig, (axs, ax1) = plt.subplots(1, 2, figsize=(6, 3))\n",
    "nbins = 30\n",
    "count, bins, ignored = axs.hist(bias_N[:, 0], nbins, density=True, color=\"grey\")\n",
    "\n",
    "axs.set_xlabel(\"Bias [\\\\%]\")\n",
    "axs.legend(loc=\"center right\")\n",
    "\n",
    "x = axs.get_xlim()\n",
    "mu = 0\n",
    "axs.set_xlim(mu - np.max(np.abs(x)), mu + np.max(np.abs(x)))\n",
    "\n",
    "count, bins, ignored = ax1.hist(resolution_N[:, 0], nbins, density=True, color=\"grey\")\n",
    "\n",
    "ax1.set_xlabel(\"Resolution [\\\\%]\")\n",
    "# ax1.set_title(f\"N = {N}\")\n",
    "ax1.legend(loc=\"center right\")\n",
    "\n",
    "x = ax1.get_xlim()\n",
    "ax1.set_xlim(mu - np.max(np.abs(x)), mu + np.max(np.abs(x)))\n",
    "plt.tight_layout()\n",
    "\n",
    "print(f\"Bias error: {np.mean(bias_N[:,1]):.3} pm {np.std(bias_N[:,1]):.3}\")\n",
    "print(\n",
    "    f\"Resolution error: {np.mean(resolution_N[:,1]):.3} pm {np.std(resolution_N[:,1]):.3}\"\n",
    ")"
   ]
  },
  {
   "cell_type": "code",
   "execution_count": 12,
   "id": "e125e4a7",
   "metadata": {},
   "outputs": [
    {
     "name": "stdout",
     "output_type": "stream",
     "text": [
      "[[1.0000006765879428, 0.0015651733188550912], [9.995187345469263e-13, 6.005766104854608e-14], [2.302256461533467, 0.15545538979911258], [0.01605690252107785, 0.014110129946867675]]\n"
     ]
    }
   ],
   "source": [
    "valuies_asimov = [\n",
    "    [\n",
    "        1,  # dataset_asimov.models[1].parameters['norm'].value,\n",
    "        0,\n",
    "    ],  # dataset_asimov.models[1].parameters['norm'].error],\n",
    "    [\n",
    "        dataset_asimov.models[0].parameters[\"amplitude\"].value,\n",
    "        dataset_asimov.models[0].parameters[\"amplitude\"].error,\n",
    "    ],\n",
    "    [\n",
    "        dataset_asimov.models[0].parameters[\"index\"].value,\n",
    "        dataset_asimov.models[0].parameters[\"index\"].error,\n",
    "    ],\n",
    "    [\n",
    "        dataset_asimov.models[0].parameters[\"lambda_\"].value,\n",
    "        dataset_asimov.models[0].parameters[\"lambda_\"].error,\n",
    "    ],\n",
    "]\n",
    "\n",
    "\n",
    "valuies_asimov_N = [\n",
    "    [\n",
    "        dataset_asimov_N.models.parameters[\"norm\"].value,\n",
    "        dataset_asimov_N.models.parameters[\"norm\"].error,\n",
    "    ],\n",
    "    [\n",
    "        dataset_asimov_N.models.parameters[\"amplitude\"].value,\n",
    "        dataset_asimov_N.models.parameters[\"amplitude\"].error,\n",
    "    ],\n",
    "    [\n",
    "        dataset_asimov_N.models.parameters[\"index\"].value,\n",
    "        dataset_asimov_N.models.parameters[\"index\"].error,\n",
    "    ],\n",
    "    [\n",
    "        dataset_asimov_N.models.parameters[\"lambda_\"].value,\n",
    "        dataset_asimov_N.models.parameters[\"lambda_\"].error,\n",
    "    ],\n",
    "]\n",
    "print(valuies_asimov_N)"
   ]
  },
  {
   "cell_type": "markdown",
   "id": "a8325a30",
   "metadata": {
    "tags": []
   },
   "source": [
    "# Likelihood Contours"
   ]
  },
  {
   "cell_type": "markdown",
   "id": "64de69d8-0eb8-4a8f-a97c-3b63c401ca67",
   "metadata": {
    "tags": []
   },
   "source": [
    "### Without Nuisance Parameters"
   ]
  },
  {
   "cell_type": "code",
   "execution_count": 13,
   "id": "9fe1619a",
   "metadata": {
    "lines_to_next_cell": 2,
    "scrolled": true
   },
   "outputs": [],
   "source": [
    "with open(\"data/7c_contour.yml\", \"r\") as stream:\n",
    "    contour = yaml.safe_load(stream)\n",
    "source = list(contour.keys())[0][:-24]\n",
    "amplix__ = contour[f\"{source}.spectral.amplitude_scan\"]\n",
    "indexy__ = contour[f\"{source}.spectral.index_scan\"]\n",
    "N_new = 110\n",
    "N_new_y = 100\n",
    "amplix__new = np.linspace(amplix__[0], amplix__[-1], N_new)\n",
    "indexy__new = np.linspace(indexy__[0], indexy__[-1], N_new_y)\n",
    "\n",
    "\n",
    "f = interp2d(\n",
    "    x=indexy__,\n",
    "    y=amplix__,\n",
    "    z=contour[\"stat_scan\"],\n",
    "    kind=\"cubic\",\n",
    "    fill_value=None,\n",
    "    bounds_error=False,\n",
    ")\n",
    "data_contour = f(indexy__new, amplix__new)"
   ]
  },
  {
   "cell_type": "code",
   "execution_count": 14,
   "id": "70a6e3f7-f362-431e-8229-a246c26c0f09",
   "metadata": {},
   "outputs": [
    {
     "data": {
      "image/png": "[encoded data removed]",
      "text/plain": [
       "<Figure size 640x480 with 2 Axes>"
      ]
     },
     "metadata": {},
     "output_type": "display_data"
    }
   ],
   "source": [
    "threshold_contour = 1\n",
    "\n",
    "(\n",
    "    ampli_min_asimov,\n",
    "    ampli_max_asimov,\n",
    "    index_min_asimov,\n",
    "    index_max_asimov,\n",
    "    ampli_best_asimov,\n",
    "    index_best_asimov,\n",
    ") = compute_errors(\n",
    "    data_contour, indexy__new, amplix__new, threshold_contour, find_min=True\n",
    ")\n",
    "CS = plot_L(\n",
    "    data_contour,\n",
    "    indexy__new,\n",
    "    amplix__new,\n",
    "    threshold_contour,\n",
    "    find_min=True,\n",
    "    color=\"lightblue\",\n",
    ")\n",
    "\n",
    "dat = CS.allsegs[0][0]"
   ]
  },
  {
   "cell_type": "markdown",
   "id": "c024b71b",
   "metadata": {
    "tags": []
   },
   "source": [
    "### With Nuisance Parameters"
   ]
  },
  {
   "cell_type": "code",
   "execution_count": 37,
   "id": "8f7d22bb",
   "metadata": {},
   "outputs": [
    {
     "ename": "FileNotFoundError",
     "evalue": "[Errno 2] No such file or directory: 'data/7c_contour_N.yml'",
     "output_type": "error",
     "traceback": [
      "\u001b[0;31m---------------------------------------------------------------------------\u001b[0m",
      "\u001b[0;31mFileNotFoundError\u001b[0m                         Traceback (most recent call last)",
      "Cell \u001b[0;32mIn[37], line 1\u001b[0m\n\u001b[0;32m----> 1\u001b[0m \u001b[38;5;28;01mwith\u001b[39;00m \u001b[38;5;28;43mopen\u001b[39;49m\u001b[43m(\u001b[49m\u001b[38;5;124;43m\"\u001b[39;49m\u001b[38;5;124;43mdata/7c_contour_N.yml\u001b[39;49m\u001b[38;5;124;43m\"\u001b[39;49m\u001b[43m,\u001b[49m\u001b[43m \u001b[49m\u001b[38;5;124;43m\"\u001b[39;49m\u001b[38;5;124;43mr\u001b[39;49m\u001b[38;5;124;43m\"\u001b[39;49m\u001b[43m)\u001b[49m \u001b[38;5;28;01mas\u001b[39;00m stream:\n\u001b[1;32m      2\u001b[0m     contour_N \u001b[38;5;241m=\u001b[39m yaml\u001b[38;5;241m.\u001b[39msafe_load(stream)\n\u001b[1;32m      4\u001b[0m \u001b[38;5;66;03m# print(contour_N)\u001b[39;00m\n",
      "File \u001b[0;32m/home/wecapstor1/caph/mppi045h/anaconda3/envs/gammapy-dev/lib/python3.8/site-packages/IPython/core/interactiveshell.py:284\u001b[0m, in \u001b[0;36m_modified_open\u001b[0;34m(file, *args, **kwargs)\u001b[0m\n\u001b[1;32m    277\u001b[0m \u001b[38;5;28;01mif\u001b[39;00m file \u001b[38;5;129;01min\u001b[39;00m {\u001b[38;5;241m0\u001b[39m, \u001b[38;5;241m1\u001b[39m, \u001b[38;5;241m2\u001b[39m}:\n\u001b[1;32m    278\u001b[0m     \u001b[38;5;28;01mraise\u001b[39;00m \u001b[38;5;167;01mValueError\u001b[39;00m(\n\u001b[1;32m    279\u001b[0m         \u001b[38;5;124mf\u001b[39m\u001b[38;5;124m\"\u001b[39m\u001b[38;5;124mIPython won\u001b[39m\u001b[38;5;124m'\u001b[39m\u001b[38;5;124mt let you open fd=\u001b[39m\u001b[38;5;132;01m{\u001b[39;00mfile\u001b[38;5;132;01m}\u001b[39;00m\u001b[38;5;124m by default \u001b[39m\u001b[38;5;124m\"\u001b[39m\n\u001b[1;32m    280\u001b[0m         \u001b[38;5;124m\"\u001b[39m\u001b[38;5;124mas it is likely to crash IPython. If you know what you are doing, \u001b[39m\u001b[38;5;124m\"\u001b[39m\n\u001b[1;32m    281\u001b[0m         \u001b[38;5;124m\"\u001b[39m\u001b[38;5;124myou can use builtins\u001b[39m\u001b[38;5;124m'\u001b[39m\u001b[38;5;124m open.\u001b[39m\u001b[38;5;124m\"\u001b[39m\n\u001b[1;32m    282\u001b[0m     )\n\u001b[0;32m--> 284\u001b[0m \u001b[38;5;28;01mreturn\u001b[39;00m \u001b[43mio_open\u001b[49m\u001b[43m(\u001b[49m\u001b[43mfile\u001b[49m\u001b[43m,\u001b[49m\u001b[43m \u001b[49m\u001b[38;5;241;43m*\u001b[39;49m\u001b[43margs\u001b[49m\u001b[43m,\u001b[49m\u001b[43m \u001b[49m\u001b[38;5;241;43m*\u001b[39;49m\u001b[38;5;241;43m*\u001b[39;49m\u001b[43mkwargs\u001b[49m\u001b[43m)\u001b[49m\n",
      "\u001b[0;31mFileNotFoundError\u001b[0m: [Errno 2] No such file or directory: 'data/7c_contour_N.yml'"
     ]
    }
   ],
   "source": [
    "\n",
    "with open(\"data/7c_contour_N.yml\", \"r\") as stream:\n",
    "    contour_N = yaml.safe_load(stream)\n",
    "\n",
    "# print(contour_N)\n",
    "source_N = list(contour_N.keys())[0][:-24]\n",
    "\n",
    "amplix___N = contour_N[f\"{source_N}.spectral.amplitude_scan\"]\n",
    "indexy___N = contour_N[f\"{source_N}.spectral.index_scan\"]\n",
    "amplix__new_N = np.linspace(amplix___N[0], amplix___N[-1], N_new)\n",
    "indexy__new_N = np.linspace(indexy___N[0], indexy___N[-1], N_new_y)\n",
    "\n",
    "\n",
    "f = interp2d(\n",
    "    x=indexy___N,\n",
    "    y=amplix___N,\n",
    "    z=contour_N[\"stat_scan\"],\n",
    "    kind=\"cubic\",\n",
    "    fill_value=None,\n",
    "    bounds_error=False,\n",
    ")\n",
    "data_contour_N = f(indexy__new_N, amplix__new_N)"
   ]
  },
  {
   "cell_type": "code",
   "execution_count": 38,
   "id": "48ccfb34",
   "metadata": {
    "lines_to_next_cell": 2
   },
   "outputs": [
    {
     "ename": "NameError",
     "evalue": "name 'data_contour_N' is not defined",
     "output_type": "error",
     "traceback": [
      "\u001b[0;31m---------------------------------------------------------------------------\u001b[0m",
      "\u001b[0;31mNameError\u001b[0m                                 Traceback (most recent call last)",
      "Cell \u001b[0;32mIn[38], line 9\u001b[0m\n\u001b[1;32m      1\u001b[0m (\n\u001b[1;32m      2\u001b[0m     ampli_min_asimov_N,\n\u001b[1;32m      3\u001b[0m     ampli_max_asimov_N,\n\u001b[1;32m      4\u001b[0m     index_min_asimov_N,\n\u001b[1;32m      5\u001b[0m     index_max_asimov_N,\n\u001b[1;32m      6\u001b[0m     ampli_best_asimov_N,\n\u001b[1;32m      7\u001b[0m     index_best_asimov_N,\n\u001b[1;32m      8\u001b[0m ) \u001b[38;5;241m=\u001b[39m compute_errors(\n\u001b[0;32m----> 9\u001b[0m     \u001b[43mdata_contour_N\u001b[49m, indexy__new_N, amplix__new_N, threshold_contour, find_min\u001b[38;5;241m=\u001b[39m\u001b[38;5;28;01mTrue\u001b[39;00m\n\u001b[1;32m     10\u001b[0m )\n\u001b[1;32m     12\u001b[0m threshold_contour\u001b[38;5;241m=\u001b[39m \u001b[38;5;241m1\u001b[39m\n\u001b[1;32m     14\u001b[0m cmap \u001b[38;5;241m=\u001b[39m \u001b[38;5;124m\"\u001b[39m\u001b[38;5;124mplasma\u001b[39m\u001b[38;5;124m\"\u001b[39m\n",
      "\u001b[0;31mNameError\u001b[0m: name 'data_contour_N' is not defined"
     ]
    }
   ],
   "source": [
    "(\n",
    "    ampli_min_asimov_N,\n",
    "    ampli_max_asimov_N,\n",
    "    index_min_asimov_N,\n",
    "    index_max_asimov_N,\n",
    "    ampli_best_asimov_N,\n",
    "    index_best_asimov_N,\n",
    ") = compute_errors(\n",
    "    data_contour_N, indexy__new_N, amplix__new_N, threshold_contour, find_min=True\n",
    ")\n",
    "\n",
    "threshold_contour = 1\n",
    "\n",
    "cmap = \"plasma\"\n",
    "CS_N = plot_L(\n",
    "    data_contour_N,\n",
    "    indexy__new_N,\n",
    "    amplix__new_N,\n",
    "    threshold_contour,\n",
    "    find_min=True,\n",
    "    color=\"yellow\",\n",
    "    cmap=cmap,\n",
    ")\n",
    "ax = plt.gca()\n",
    "dat_N = CS_N.allsegs[0][0]\n",
    "ax.clabel(CS, CS.levels, inline=True, fmt=\"$1$\", fontsize=12)\n",
    "plt.plot(\n",
    "    dat[:, 0],\n",
    "    dat[:, 1],\n",
    "    color=\"lightblue\",\n",
    ")\n",
    "plot_errors(\n",
    "    ax,\n",
    "    indexy__new,\n",
    "    amplix__new,\n",
    "    ampli_min_asimov,\n",
    "    ampli_max_asimov,\n",
    "    index_min_asimov,\n",
    "    index_max_asimov,\n",
    "    ampli_best_asimov,\n",
    "    index_best_asimov,\n",
    "    \"lightblue\",\n",
    ")\n",
    "plt.plot(index_best_asimov_N, ampli_best_asimov_N, \"x\", color=\"yellow\")\n",
    "plt.plot(index_best_asimov, ampli_best_asimov, \"x\", color=\"lightblue\")\n",
    "fig = plt.gcf()\n",
    "if savefig:\n",
    "    fig.savefig(f\"plots/7c_L_contour_{shift}.\" + picformat)"
   ]
  },
  {
   "cell_type": "markdown",
   "id": "584db5f7",
   "metadata": {
    "lines_to_next_cell": 2,
    "tags": []
   },
   "source": [
    "## Compute fraction of within"
   ]
  },
  {
   "cell_type": "code",
   "execution_count": 39,
   "id": "84502f53",
   "metadata": {},
   "outputs": [
    {
     "ename": "NameError",
     "evalue": "name 'ampli_min_asimov_N' is not defined",
     "output_type": "error",
     "traceback": [
      "\u001b[0;31m---------------------------------------------------------------------------\u001b[0m",
      "\u001b[0;31mNameError\u001b[0m                                 Traceback (most recent call last)",
      "Cell \u001b[0;32mIn[39], line 29\u001b[0m\n\u001b[1;32m      1\u001b[0m \u001b[38;5;66;03m# std best fit, nui best fit, ...\u001b[39;00m\n\u001b[1;32m      2\u001b[0m within_norm \u001b[38;5;241m=\u001b[39m [\n\u001b[1;32m      3\u001b[0m     fraction_within(\n\u001b[1;32m      4\u001b[0m         valuies_asimov[\u001b[38;5;241m0\u001b[39m][\u001b[38;5;241m0\u001b[39m] \u001b[38;5;241m-\u001b[39m valuies_asimov[\u001b[38;5;241m0\u001b[39m][\u001b[38;5;241m1\u001b[39m],\n\u001b[0;32m   (...)\u001b[0m\n\u001b[1;32m     14\u001b[0m     \u001b[38;5;241m0.0\u001b[39m,\n\u001b[1;32m     15\u001b[0m ]\n\u001b[1;32m     17\u001b[0m within_amplitude \u001b[38;5;241m=\u001b[39m [\n\u001b[1;32m     18\u001b[0m     fraction_within(\n\u001b[1;32m     19\u001b[0m         valuies_asimov[\u001b[38;5;241m1\u001b[39m][\u001b[38;5;241m0\u001b[39m] \u001b[38;5;241m-\u001b[39m valuies_asimov[\u001b[38;5;241m1\u001b[39m][\u001b[38;5;241m1\u001b[39m],\n\u001b[1;32m     20\u001b[0m         valuies_asimov[\u001b[38;5;241m1\u001b[39m][\u001b[38;5;241m0\u001b[39m] \u001b[38;5;241m+\u001b[39m valuies_asimov[\u001b[38;5;241m1\u001b[39m][\u001b[38;5;241m1\u001b[39m],\n\u001b[1;32m     21\u001b[0m         amplitudes,\n\u001b[1;32m     22\u001b[0m     ),\n\u001b[1;32m     23\u001b[0m     fraction_within(\n\u001b[1;32m     24\u001b[0m         valuies_asimov_N[\u001b[38;5;241m1\u001b[39m][\u001b[38;5;241m0\u001b[39m] \u001b[38;5;241m-\u001b[39m valuies_asimov_N[\u001b[38;5;241m1\u001b[39m][\u001b[38;5;241m1\u001b[39m],\n\u001b[1;32m     25\u001b[0m         valuies_asimov_N[\u001b[38;5;241m1\u001b[39m][\u001b[38;5;241m0\u001b[39m] \u001b[38;5;241m+\u001b[39m valuies_asimov_N[\u001b[38;5;241m1\u001b[39m][\u001b[38;5;241m1\u001b[39m],\n\u001b[1;32m     26\u001b[0m         amplitudes,\n\u001b[1;32m     27\u001b[0m     ),\n\u001b[1;32m     28\u001b[0m     fraction_within(ampli_min_asimov, ampli_max_asimov, amplitudes),\n\u001b[0;32m---> 29\u001b[0m     fraction_within(\u001b[43mampli_min_asimov_N\u001b[49m, ampli_max_asimov_N, amplitudes),\n\u001b[1;32m     30\u001b[0m ]\n\u001b[1;32m     32\u001b[0m within_index \u001b[38;5;241m=\u001b[39m [\n\u001b[1;32m     33\u001b[0m     fraction_within(\n\u001b[1;32m     34\u001b[0m         valuies_asimov[\u001b[38;5;241m2\u001b[39m][\u001b[38;5;241m0\u001b[39m] \u001b[38;5;241m-\u001b[39m valuies_asimov[\u001b[38;5;241m2\u001b[39m][\u001b[38;5;241m1\u001b[39m],\n\u001b[0;32m   (...)\u001b[0m\n\u001b[1;32m     44\u001b[0m     fraction_within(index_min_asimov_N, index_max_asimov_N, indices),\n\u001b[1;32m     45\u001b[0m ]\n\u001b[1;32m     47\u001b[0m withins \u001b[38;5;241m=\u001b[39m [within_norm, within_amplitude, within_index]\n",
      "\u001b[0;31mNameError\u001b[0m: name 'ampli_min_asimov_N' is not defined"
     ]
    }
   ],
   "source": [
    "# std best fit, nui best fit, ...\n",
    "within_norm = [\n",
    "    fraction_within(\n",
    "        valuies_asimov[0][0] - valuies_asimov[0][1],\n",
    "        valuies_asimov[0][0] + valuies_asimov[0][1],\n",
    "        norms,\n",
    "    ),\n",
    "    fraction_within(\n",
    "        valuies_asimov_N[0][0] - valuies_asimov_N[0][1],\n",
    "        valuies_asimov_N[0][0] + valuies_asimov_N[0][1],\n",
    "        norms,\n",
    "    ),\n",
    "    0.0,\n",
    "    0.0,\n",
    "]\n",
    "\n",
    "within_amplitude = [\n",
    "    fraction_within(\n",
    "        valuies_asimov[1][0] - valuies_asimov[1][1],\n",
    "        valuies_asimov[1][0] + valuies_asimov[1][1],\n",
    "        amplitudes,\n",
    "    ),\n",
    "    fraction_within(\n",
    "        valuies_asimov_N[1][0] - valuies_asimov_N[1][1],\n",
    "        valuies_asimov_N[1][0] + valuies_asimov_N[1][1],\n",
    "        amplitudes,\n",
    "    ),\n",
    "    fraction_within(ampli_min_asimov, ampli_max_asimov, amplitudes),\n",
    "    fraction_within(ampli_min_asimov_N, ampli_max_asimov_N, amplitudes),\n",
    "]\n",
    "\n",
    "within_index = [\n",
    "    fraction_within(\n",
    "        valuies_asimov[2][0] - valuies_asimov[2][1],\n",
    "        valuies_asimov[2][0] + valuies_asimov[2][1],\n",
    "        indices,\n",
    "    ),\n",
    "    fraction_within(\n",
    "        valuies_asimov_N[2][0] - valuies_asimov_N[2][1],\n",
    "        valuies_asimov_N[2][0] + valuies_asimov_N[2][1],\n",
    "        indices,\n",
    "    ),\n",
    "    fraction_within(index_min_asimov, index_max_asimov, indices),\n",
    "    fraction_within(index_min_asimov_N, index_max_asimov_N, indices),\n",
    "]\n",
    "\n",
    "withins = [within_norm, within_amplitude, within_index]\n",
    "print(withins)"
   ]
  },
  {
   "cell_type": "code",
   "execution_count": 40,
   "id": "6a4e85ad-bdb1-436f-868d-73b52de9c999",
   "metadata": {},
   "outputs": [],
   "source": [
    "mask = dataset_asimov.mask.data.sum(axis=2).sum(axis=1) > 0\n",
    "ebins = dataset_asimov.counts.geom.axes[0].center[mask]\n",
    "asimov, asimov_errors = dataset_asimov.models[0].spectral_model.evaluate_error(ebins)\n",
    "asimov_N, asimov_errors_N = dataset_asimov_N.models[0].spectral_model.evaluate_error(\n",
    "    ebins\n",
    ")\n",
    "\n",
    "withine = []\n",
    "withine_N = []\n",
    "\n",
    "for ie, e in enumerate(ebins):\n",
    "    xs = []\n",
    "    xs_N = []\n",
    "    for f in flux:\n",
    "        value = f[ie]\n",
    "        lowerlim = np.all(value <= asimov.value[ie] + asimov_errors.value[ie])\n",
    "        upperlim = np.all(value >= asimov.value[ie] - asimov_errors.value[ie])\n",
    "        x = lowerlim & upperlim\n",
    "        xs.append(x)\n",
    "\n",
    "        lowerlim = np.all(value <= asimov_N.value[ie] + asimov_errors_N.value[ie])\n",
    "        upperlim = np.all(value >= asimov_N.value[ie] - asimov_errors_N.value[ie])\n",
    "        x = lowerlim & upperlim\n",
    "        xs_N.append(x)\n",
    "\n",
    "    withine.append(np.count_nonzero(xs) / N)\n",
    "    withine_N.append(np.count_nonzero(xs_N) / N)"
   ]
  },
  {
   "cell_type": "markdown",
   "id": "736a12dd",
   "metadata": {
    "tags": []
   },
   "source": [
    "## 2D Histograms Poission"
   ]
  },
  {
   "cell_type": "code",
   "execution_count": 41,
   "id": "df2f899b-6862-4ffd-bd7d-972fc839054e",
   "metadata": {},
   "outputs": [
    {
     "ename": "NameError",
     "evalue": "name 'amplix__new_N' is not defined",
     "output_type": "error",
     "traceback": [
      "\u001b[0;31m---------------------------------------------------------------------------\u001b[0m",
      "\u001b[0;31mNameError\u001b[0m                                 Traceback (most recent call last)",
      "Cell \u001b[0;32mIn[41], line 4\u001b[0m\n\u001b[1;32m      1\u001b[0m N_bins \u001b[38;5;241m=\u001b[39m N_new \u001b[38;5;241m+\u001b[39m \u001b[38;5;241m1\u001b[39m\n\u001b[1;32m      2\u001b[0m N_bins_y \u001b[38;5;241m=\u001b[39m N_new_y \u001b[38;5;241m+\u001b[39m \u001b[38;5;241m1\u001b[39m\n\u001b[0;32m----> 4\u001b[0m amplitude_bin \u001b[38;5;241m=\u001b[39m np\u001b[38;5;241m.\u001b[39mlinspace(\u001b[43mamplix__new_N\u001b[49m[\u001b[38;5;241m0\u001b[39m], amplix__new_N[\u001b[38;5;241m-\u001b[39m\u001b[38;5;241m1\u001b[39m], N_bins)\n\u001b[1;32m      5\u001b[0m index_bin \u001b[38;5;241m=\u001b[39m np\u001b[38;5;241m.\u001b[39mlinspace(indexy__new_N[\u001b[38;5;241m0\u001b[39m], indexy__new_N[\u001b[38;5;241m-\u001b[39m\u001b[38;5;241m1\u001b[39m], N_bins_y)\n\u001b[1;32m      7\u001b[0m amplitudes_data \u001b[38;5;241m=\u001b[39m valuies[\u001b[38;5;241m1\u001b[39m][:, \u001b[38;5;241m0\u001b[39m]\n",
      "\u001b[0;31mNameError\u001b[0m: name 'amplix__new_N' is not defined"
     ]
    }
   ],
   "source": [
    "N_bins = N_new + 1\n",
    "N_bins_y = N_new_y + 1\n",
    "\n",
    "amplitude_bin = np.linspace(amplix__new_N[0], amplix__new_N[-1], N_bins)\n",
    "index_bin = np.linspace(indexy__new_N[0], indexy__new_N[-1], N_bins_y)\n",
    "\n",
    "amplitudes_data = valuies[1][:, 0]\n",
    "indices_data = valuies[2][:, 0]\n",
    "data_N_new, (abins, ibins) = np.histogramdd(\n",
    "    (amplitudes_data, indices_data), (amplitude_bin, index_bin)\n",
    ")\n",
    "d_N = (data_contour_N < (1 + data_contour_N.min())).reshape(np.shape(data_contour_N))\n",
    "d = (data_contour < (1 + data_contour.min())).reshape(np.shape(data_contour))\n",
    "fraction = np.sum(data_N_new * d) / N * 100\n",
    "fraction_N = np.sum(data_N_new * d_N) / N * 100\n",
    "\n",
    "data_N_new, (abins, ibins) = np.histogramdd(\n",
    "    (amplitudes_data, indices_data), (amplitude_bin, index_bin)\n",
    ")\n",
    "fig, (ax1, ax2) = plt.subplots(1, 2, figsize=(11, 4))\n",
    "\n",
    "im = ax1.pcolormesh(ibins, abins, data_N_new * d)\n",
    "im = ax2.pcolormesh(ibins, abins, data_N_new * d_N)\n",
    "\n",
    "for ax in (ax1, ax2):\n",
    "    ax.set_ylabel(\"Amplitudes\")\n",
    "    ax.set_xlabel(\"Indices\")\n",
    "    ax.plot(dat[:, 0], dat[:, 1], color=\"red\")\n",
    "    ax.plot(dat_N[:, 0], dat_N[:, 1], color=\"green\")\n",
    "\n",
    "ax1.set_title(f\"Within $1\\\\sigma$ : {fraction:.3} \\\\%\")\n",
    "ax2.set_title(f\"Within $1\\\\sigma$ Nuisance: {fraction_N:.3} \\\\%\")"
   ]
  },
  {
   "cell_type": "markdown",
   "id": "63bf6efe-b409-4cd0-b709-cbbb3b3670b0",
   "metadata": {},
   "source": [
    "# End Plots"
   ]
  },
  {
   "cell_type": "markdown",
   "id": "06b44bab-821c-46c8-8077-59b4e6490d4d",
   "metadata": {},
   "source": [
    "## Random Choice"
   ]
  },
  {
   "cell_type": "code",
   "execution_count": 28,
   "id": "dfc2af3e-d3b9-4ec2-a73c-1cfaaf09bb35",
   "metadata": {},
   "outputs": [
    {
     "data": {
      "text/html": [
       "<svg  width=\"660\" height=\"55\"><rect x=\"0\" y=\"0\" width=\"55\" height=\"55\" style=\"fill:#a6cee3;stroke-width:2;stroke:rgb(255,255,255)\"/><rect x=\"55\" y=\"0\" width=\"55\" height=\"55\" style=\"fill:#1f78b4;stroke-width:2;stroke:rgb(255,255,255)\"/><rect x=\"110\" y=\"0\" width=\"55\" height=\"55\" style=\"fill:#b2df8a;stroke-width:2;stroke:rgb(255,255,255)\"/><rect x=\"165\" y=\"0\" width=\"55\" height=\"55\" style=\"fill:#33a02c;stroke-width:2;stroke:rgb(255,255,255)\"/><rect x=\"220\" y=\"0\" width=\"55\" height=\"55\" style=\"fill:#fb9a99;stroke-width:2;stroke:rgb(255,255,255)\"/><rect x=\"275\" y=\"0\" width=\"55\" height=\"55\" style=\"fill:#e31a1c;stroke-width:2;stroke:rgb(255,255,255)\"/><rect x=\"330\" y=\"0\" width=\"55\" height=\"55\" style=\"fill:#fdbf6f;stroke-width:2;stroke:rgb(255,255,255)\"/><rect x=\"385\" y=\"0\" width=\"55\" height=\"55\" style=\"fill:#ff7f00;stroke-width:2;stroke:rgb(255,255,255)\"/><rect x=\"440\" y=\"0\" width=\"55\" height=\"55\" style=\"fill:#cab2d6;stroke-width:2;stroke:rgb(255,255,255)\"/><rect x=\"495\" y=\"0\" width=\"55\" height=\"55\" style=\"fill:#6a3d9a;stroke-width:2;stroke:rgb(255,255,255)\"/><rect x=\"550\" y=\"0\" width=\"55\" height=\"55\" style=\"fill:#ffff99;stroke-width:2;stroke:rgb(255,255,255)\"/><rect x=\"605\" y=\"0\" width=\"55\" height=\"55\" style=\"fill:#b15928;stroke-width:2;stroke:rgb(255,255,255)\"/></svg>"
      ],
      "text/plain": [
       "[(0.6509803921568628, 0.807843137254902, 0.8901960784313725),\n",
       " (0.12156862745098039, 0.47058823529411764, 0.7058823529411765),\n",
       " (0.6980392156862745, 0.8745098039215686, 0.5411764705882353),\n",
       " (0.2, 0.6274509803921569, 0.17254901960784313),\n",
       " (0.984313725490196, 0.6039215686274509, 0.6),\n",
       " (0.8901960784313725, 0.10196078431372549, 0.10980392156862745),\n",
       " (0.9921568627450981, 0.7490196078431373, 0.43529411764705883),\n",
       " (1.0, 0.4980392156862745, 0.0),\n",
       " (0.792156862745098, 0.6980392156862745, 0.8392156862745098),\n",
       " (0.41568627450980394, 0.23921568627450981, 0.6039215686274509),\n",
       " (1.0, 1.0, 0.6),\n",
       " (0.6941176470588235, 0.34901960784313724, 0.1568627450980392)]"
      ]
     },
     "execution_count": 28,
     "metadata": {},
     "output_type": "execute_result"
    }
   ],
   "source": [
    "\n",
    "s = sns.color_palette(\"Paired\")\n",
    "s"
   ]
  },
  {
   "cell_type": "code",
   "execution_count": 29,
   "id": "3a910b21-92c4-4baa-940e-08959fb74a53",
   "metadata": {},
   "outputs": [
    {
     "name": "stdout",
     "output_type": "stream",
     "text": [
      "(0.6509803921568628, 0.807843137254902, 0.8901960784313725)\n"
     ]
    }
   ],
   "source": [
    "blue = \"mediumblue\", s[0]  # dark, light\n",
    "green = s[3], s[2]\n",
    "red = s[5], s[4]\n",
    "orange = s[7], s[6]\n",
    "purple = s[9], s[8]\n",
    "\n",
    "print(s[0])"
   ]
  },
  {
   "cell_type": "code",
   "execution_count": 30,
   "id": "cc0cd906-bef5-44b4-9b2e-74345d9ae2e8",
   "metadata": {},
   "outputs": [],
   "source": [
    "config = Dataset_load.load_config()\n",
    "colors = config[\"colors\"][\"one\"]\n",
    "\n",
    "# asimov, asimov+nui, error asimov, error asimov+nui\n",
    "\n",
    "a1 = blue\n",
    "a2 = red\n",
    "colors = [a1[0], a2[0], a1[1], a2[1]]\n",
    "\n",
    "# rnd, rnd_example, error rnd_example, rnd+nui, rnd_example+nui, error rnd_example+nui\n",
    "r1 = orange\n",
    "r2 = purple\n",
    "colors_rnd = [r1[0], r1[0], r1[0], r2[0], r2[0], r2[0]]\n",
    "\n",
    "(\n",
    "    color_rnd,\n",
    "    color_rnd_example,\n",
    "    color_rnd_err,\n",
    "    color_rnd_nui,\n",
    "    color_rnd_nui_example,\n",
    "    color_rnd_nui_err,\n",
    ") = colors_rnd\n",
    "cc = color_rnd_example\n",
    "\n",
    "alpha_nui = 0.99\n",
    "alpha_st = 0.99\n",
    "legendsscatter = [\"Asimov w/o nui.\", \"Asimov with nui.\"]\n",
    "legends = [\"\", \"\"]\n",
    "\n",
    "alpha_rnd = 0.2\n",
    "alpha_rnd_nui = 0.2\n",
    "\n",
    "nbins = 20"
   ]
  },
  {
   "cell_type": "code",
   "execution_count": 31,
   "id": "12ce5ad3-f9c3-48ca-8cc1-75a1af51004c",
   "metadata": {},
   "outputs": [
    {
     "name": "stderr",
     "output_type": "stream",
     "text": [
      "/tmp/ipykernel_3185908/1046156222.py:387: RuntimeWarning: divide by zero encountered in double_scalars\n",
      "  1\n",
      "/tmp/ipykernel_3185908/1046156222.py:389: RuntimeWarning: divide by zero encountered in true_divide\n",
      "  * np.exp(-((bins - mu) ** 2) / (2 * sigma**2)),\n",
      "/tmp/ipykernel_3185908/1046156222.py:387: RuntimeWarning: invalid value encountered in multiply\n",
      "  1\n",
      "/tmp/ipykernel_3185908/1046156222.py:415: RuntimeWarning: divide by zero encountered in double_scalars\n",
      "  1\n",
      "/tmp/ipykernel_3185908/1046156222.py:417: RuntimeWarning: divide by zero encountered in true_divide\n",
      "  * np.exp(-((bins - mu) ** 2) / (2 * sigma**2)),\n",
      "/tmp/ipykernel_3185908/1046156222.py:415: RuntimeWarning: invalid value encountered in multiply\n",
      "  1\n"
     ]
    },
    {
     "data": {
      "image/png": "[encoded data removed]",
      "text/plain": [
       "<Figure size 500x240 with 2 Axes>"
      ]
     },
     "metadata": {},
     "output_type": "display_data"
    }
   ],
   "source": [
    "\n",
    "shift_rnd = -0.0796895\n",
    "tilt_rnd = 0.110411\n",
    "\n",
    "# shift_rnd  = random.choice(shift_rnds)\n",
    "# tilt_rnd = random.choice(index_rnds)\n",
    "\n",
    "fluxpoints = FluxPoints.read(\n",
    "    f\"data/fluxpoints/6_fluxpoints_{shift_rnd:.6}_{tilt_rnd:.6}.fits\"\n",
    ")\n",
    "fluxpoints_N = FluxPoints.read(\n",
    "    f\"data/fluxpoints/6_fluxpoints_N_{shift_rnd:.6}_{tilt_rnd:.6}.fits\"\n",
    ")\n",
    "model_name = f\"data/fluxpoints/6_model_N_{shift_rnd:.6}_{tilt_rnd:.6}.yaml\"\n",
    "fluxpoints_Nds = FluxPointsDataset(data=fluxpoints_N, models=Models.read(model_name))\n",
    "model_name = f\"data/fluxpoints/6_model_{shift_rnd:.6}_{tilt_rnd:.6}.yaml\"\n",
    "fluxpoints_ds = FluxPointsDataset(data=fluxpoints, models=Models.read(model_name))\n",
    "\n",
    "fig, (axs, ax1) = plt.subplots(1, 2, figsize=(5, 2.4))\n",
    "plot_rnd_fistribution(fig, (axs, ax1), cc)\n",
    "if savefig:\n",
    "    fig.savefig(f\"plots/7c_rnd_sys_{shift}.\" + picformat)\n",
    "    fig.savefig(f\"plots/7c_rnd_sys_{shift}.pdf\")"
   ]
  },
  {
   "cell_type": "code",
   "execution_count": 32,
   "id": "62550573-87d3-4b6f-9a46-ce0a962e90eb",
   "metadata": {},
   "outputs": [
    {
     "data": {
      "image/png": "[encoded data removed]",
      "text/plain": [
       "<Figure size 400x300 with 1 Axes>"
      ]
     },
     "metadata": {},
     "output_type": "display_data"
    }
   ],
   "source": [
    "fig, ax = plt.subplots(1, 1, figsize=(4, 3))\n",
    "plot_choice_sed(fig, ax)\n",
    "fig.savefig(\"plots/7c_fluxpoint_example.pdf\", bbox_inches=\"tight\")\n",
    "fig.savefig(\"plots/7c_fluxpoint_example.png\", bbox_inches=\"tight\")"
   ]
  },
  {
   "cell_type": "code",
   "execution_count": 33,
   "id": "d32ef3ce-f932-426b-8d5c-3977e28d60ae",
   "metadata": {},
   "outputs": [
    {
     "ename": "NameError",
     "evalue": "name 'data_contour_N' is not defined",
     "output_type": "error",
     "traceback": [
      "\u001b[0;31m---------------------------------------------------------------------------\u001b[0m",
      "\u001b[0;31mNameError\u001b[0m                                 Traceback (most recent call last)",
      "Cell \u001b[0;32mIn[33], line 2\u001b[0m\n\u001b[1;32m      1\u001b[0m fig, axs_L \u001b[38;5;241m=\u001b[39m plt\u001b[38;5;241m.\u001b[39msubplots(\u001b[38;5;241m1\u001b[39m, \u001b[38;5;241m1\u001b[39m, figsize\u001b[38;5;241m=\u001b[39m(\u001b[38;5;241m4.5\u001b[39m, \u001b[38;5;241m4.5\u001b[39m))\n\u001b[0;32m----> 2\u001b[0m fig \u001b[38;5;241m=\u001b[39m \u001b[43mplot_randoms\u001b[49m\u001b[43m(\u001b[49m\u001b[43maxs_L\u001b[49m\u001b[43m,\u001b[49m\u001b[43m \u001b[49m\u001b[43mfig\u001b[49m\u001b[43m)\u001b[49m\n\u001b[1;32m      3\u001b[0m axs_L\u001b[38;5;241m.\u001b[39mset_ylim(\u001b[38;5;241m0.65e-12\u001b[39m, \u001b[38;5;241m1.35e-12\u001b[39m)\n\u001b[1;32m      4\u001b[0m axs_L\u001b[38;5;241m.\u001b[39mset_xlim(\u001b[38;5;241m2.2\u001b[39m, \u001b[38;5;241m2.4\u001b[39m)\n",
      "Cell \u001b[0;32mIn[4], line 168\u001b[0m, in \u001b[0;36mplot_randoms\u001b[0;34m(axs_L, fig)\u001b[0m\n\u001b[1;32m    159\u001b[0m \u001b[38;5;28;01mdef\u001b[39;00m \u001b[38;5;21mplot_randoms\u001b[39m(axs_L, fig):\n\u001b[1;32m    160\u001b[0m     (\n\u001b[1;32m    161\u001b[0m         ampli_min_asimov_N,\n\u001b[1;32m    162\u001b[0m         ampli_max_asimov_N,\n\u001b[1;32m    163\u001b[0m         index_min_asimov_N,\n\u001b[1;32m    164\u001b[0m         index_max_asimov_N,\n\u001b[1;32m    165\u001b[0m         ampli_best_asimov_N,\n\u001b[1;32m    166\u001b[0m         index_best_asimov_N,\n\u001b[1;32m    167\u001b[0m     ) \u001b[38;5;241m=\u001b[39m compute_errors(\n\u001b[0;32m--> 168\u001b[0m         \u001b[43mdata_contour_N\u001b[49m, indexy__new_N, amplix__new_N, threshold_contour, find_min\u001b[38;5;241m=\u001b[39m\u001b[38;5;28;01mTrue\u001b[39;00m\n\u001b[1;32m    169\u001b[0m     )\n\u001b[1;32m    171\u001b[0m     CS_N \u001b[38;5;241m=\u001b[39m plot_L(\n\u001b[1;32m    172\u001b[0m         data_contour_N,\n\u001b[1;32m    173\u001b[0m         indexy__new_N,\n\u001b[0;32m   (...)\u001b[0m\n\u001b[1;32m    181\u001b[0m         cmap\u001b[38;5;241m=\u001b[39mcmap,\n\u001b[1;32m    182\u001b[0m     )\n\u001b[1;32m    183\u001b[0m     dat_N \u001b[38;5;241m=\u001b[39m CS_N\u001b[38;5;241m.\u001b[39mallsegs[\u001b[38;5;241m0\u001b[39m][\u001b[38;5;241m0\u001b[39m]\n",
      "\u001b[0;31mNameError\u001b[0m: name 'data_contour_N' is not defined"
     ]
    },
    {
     "data": {
      "image/png": "[encoded data removed]",
      "text/plain": [
       "<Figure size 450x450 with 1 Axes>"
      ]
     },
     "metadata": {},
     "output_type": "display_data"
    }
   ],
   "source": [
    "fig, axs_L = plt.subplots(1, 1, figsize=(4.5, 4.5))\n",
    "fig = plot_randoms(axs_L, fig)\n",
    "axs_L.set_ylim(0.65e-12, 1.35e-12)\n",
    "axs_L.set_xlim(2.2, 2.4)"
   ]
  },
  {
   "cell_type": "code",
   "execution_count": 34,
   "id": "7f2b3839-5058-4190-912a-db19459481e5",
   "metadata": {
    "lines_to_next_cell": 2
   },
   "outputs": [
    {
     "data": {
      "image/png": "[encoded data removed]",
      "text/plain": [
       "<Figure size 400x300 with 1 Axes>"
      ]
     },
     "metadata": {},
     "output_type": "display_data"
    }
   ],
   "source": [
    "def compute_precision(N):\n",
    "    Z = 1.645\n",
    "    return Z / np.sqrt(N)\n",
    "\n",
    "\n",
    "energy_power = 2\n",
    "fig, axs = plt.subplots(1, 1, figsize=(4, 3))\n",
    "plot_asimov_spectrum(fig, axs)\n",
    "fp_asimov_N.data.plot(energy_power=2, color=colors[1], ax=axs)\n",
    "fp_asimov.data.plot(energy_power=2, color=colors[0], ax=axs)\n",
    "\n",
    "axs.set_xlim(0.3, 100)\n",
    "fig.savefig(\"plots/7c_asimov.pdf\", bbox_inches=\"tight\")\n",
    "fig.savefig(\"plots/7c_asimov.png\", bbox_inches=\"tight\")"
   ]
  },
  {
   "cell_type": "code",
   "execution_count": 35,
   "id": "5f43d7bf-cb0f-4b9d-b277-931b480e0a92",
   "metadata": {},
   "outputs": [
    {
     "ename": "NameError",
     "evalue": "name 'data_contour_N' is not defined",
     "output_type": "error",
     "traceback": [
      "\u001b[0;31m---------------------------------------------------------------------------\u001b[0m",
      "\u001b[0;31mNameError\u001b[0m                                 Traceback (most recent call last)",
      "Cell \u001b[0;32mIn[35], line 13\u001b[0m\n\u001b[1;32m     10\u001b[0m axs_a \u001b[38;5;241m=\u001b[39m axs[\u001b[38;5;241m1\u001b[39m][\u001b[38;5;241m1\u001b[39m]\n\u001b[1;32m     11\u001b[0m axs[\u001b[38;5;241m0\u001b[39m, \u001b[38;5;241m-\u001b[39m\u001b[38;5;241m1\u001b[39m]\u001b[38;5;241m.\u001b[39maxis(\u001b[38;5;124m\"\u001b[39m\u001b[38;5;124moff\u001b[39m\u001b[38;5;124m\"\u001b[39m)\n\u001b[0;32m---> 13\u001b[0m fig \u001b[38;5;241m=\u001b[39m \u001b[43mplot_randoms\u001b[49m\u001b[43m(\u001b[49m\u001b[43maxs_L\u001b[49m\u001b[43m,\u001b[49m\u001b[43m \u001b[49m\u001b[43mfig\u001b[49m\u001b[43m)\u001b[49m\n\u001b[1;32m     14\u001b[0m axs_L\u001b[38;5;241m.\u001b[39mset_ylim(\u001b[38;5;241m0.7e-12\u001b[39m, \u001b[38;5;241m1.3e-12\u001b[39m)\n\u001b[1;32m     15\u001b[0m axs_L\u001b[38;5;241m.\u001b[39mset_xlim(\u001b[38;5;241m2.2\u001b[39m, \u001b[38;5;241m2.4\u001b[39m)\n",
      "Cell \u001b[0;32mIn[4], line 168\u001b[0m, in \u001b[0;36mplot_randoms\u001b[0;34m(axs_L, fig)\u001b[0m\n\u001b[1;32m    159\u001b[0m \u001b[38;5;28;01mdef\u001b[39;00m \u001b[38;5;21mplot_randoms\u001b[39m(axs_L, fig):\n\u001b[1;32m    160\u001b[0m     (\n\u001b[1;32m    161\u001b[0m         ampli_min_asimov_N,\n\u001b[1;32m    162\u001b[0m         ampli_max_asimov_N,\n\u001b[1;32m    163\u001b[0m         index_min_asimov_N,\n\u001b[1;32m    164\u001b[0m         index_max_asimov_N,\n\u001b[1;32m    165\u001b[0m         ampli_best_asimov_N,\n\u001b[1;32m    166\u001b[0m         index_best_asimov_N,\n\u001b[1;32m    167\u001b[0m     ) \u001b[38;5;241m=\u001b[39m compute_errors(\n\u001b[0;32m--> 168\u001b[0m         \u001b[43mdata_contour_N\u001b[49m, indexy__new_N, amplix__new_N, threshold_contour, find_min\u001b[38;5;241m=\u001b[39m\u001b[38;5;28;01mTrue\u001b[39;00m\n\u001b[1;32m    169\u001b[0m     )\n\u001b[1;32m    171\u001b[0m     CS_N \u001b[38;5;241m=\u001b[39m plot_L(\n\u001b[1;32m    172\u001b[0m         data_contour_N,\n\u001b[1;32m    173\u001b[0m         indexy__new_N,\n\u001b[0;32m   (...)\u001b[0m\n\u001b[1;32m    181\u001b[0m         cmap\u001b[38;5;241m=\u001b[39mcmap,\n\u001b[1;32m    182\u001b[0m     )\n\u001b[1;32m    183\u001b[0m     dat_N \u001b[38;5;241m=\u001b[39m CS_N\u001b[38;5;241m.\u001b[39mallsegs[\u001b[38;5;241m0\u001b[39m][\u001b[38;5;241m0\u001b[39m]\n",
      "\u001b[0;31mNameError\u001b[0m: name 'data_contour_N' is not defined"
     ]
    },
    {
     "data": {
      "image/png": "[encoded data removed]",
      "text/plain": [
       "<Figure size 500x500 with 4 Axes>"
      ]
     },
     "metadata": {},
     "output_type": "display_data"
    }
   ],
   "source": [
    "y2 = 2\n",
    "fig, axs = plt.subplots(\n",
    "    2,\n",
    "    2,\n",
    "    gridspec_kw={\"height_ratios\": [3, 5], \"width_ratios\": [5, 3]},\n",
    "    figsize=(5.0, 5.0),\n",
    ")\n",
    "axs_L = axs[1][0]\n",
    "axs_i = axs[0][0]\n",
    "axs_a = axs[1][1]\n",
    "axs[0, -1].axis(\"off\")\n",
    "\n",
    "fig = plot_randoms(axs_L, fig)\n",
    "axs_L.set_ylim(0.7e-12, 1.3e-12)\n",
    "axs_L.set_xlim(2.2, 2.4)\n",
    "\n",
    "xlims = [None, amplix__new_N, indexy__new_N]\n",
    "xlabels = [\"Best Fit BKG Norm\", \"Best Fit Amplitude\", \"Best Fit Index\"]\n",
    "\n",
    "\n",
    "plot_amplitude(axs_a)\n",
    "plot_index(axs_i)\n",
    "\n",
    "\n",
    "plt.tight_layout()\n",
    "plt.subplots_adjust(left=0.1, bottom=0.1, right=0.95, top=0.9, wspace=0.08, hspace=0.08)\n",
    "axs_L.legend(bbox_to_anchor=(1.2, 1.7))\n",
    "\n",
    "\n",
    "# plt.tight_layout()\n",
    "if savefig:\n",
    "    fig.savefig(f\"plots/7c_L_contour_{shift}_dist_nui.\" + picformat)\n",
    "    fig.savefig(f\"plots/7c_L_contour_{shift}_dist_nui.\" + \"png\")\n",
    "print(N)"
   ]
  },
  {
   "cell_type": "code",
   "execution_count": 36,
   "id": "c9b381d3-9aa5-451d-b828-38282a062353",
   "metadata": {},
   "outputs": [
    {
     "ename": "NameError",
     "evalue": "name 'ebins' is not defined",
     "output_type": "error",
     "traceback": [
      "\u001b[0;31m---------------------------------------------------------------------------\u001b[0m",
      "\u001b[0;31mNameError\u001b[0m                                 Traceback (most recent call last)",
      "Cell \u001b[0;32mIn[36], line 6\u001b[0m\n\u001b[1;32m      2\u001b[0m fig, (axs, ax2) \u001b[38;5;241m=\u001b[39m plt\u001b[38;5;241m.\u001b[39msubplots(\n\u001b[1;32m      3\u001b[0m     \u001b[38;5;241m2\u001b[39m, \u001b[38;5;241m1\u001b[39m, gridspec_kw\u001b[38;5;241m=\u001b[39m{\u001b[38;5;124m\"\u001b[39m\u001b[38;5;124mheight_ratios\u001b[39m\u001b[38;5;124m\"\u001b[39m: [\u001b[38;5;241m3\u001b[39m, \u001b[38;5;241m1\u001b[39m]}, sharex\u001b[38;5;241m=\u001b[39m\u001b[38;5;28;01mTrue\u001b[39;00m, figsize\u001b[38;5;241m=\u001b[39m((\u001b[38;5;241m4\u001b[39m, \u001b[38;5;241m4\u001b[39m))\n\u001b[1;32m      4\u001b[0m )\n\u001b[1;32m      5\u001b[0m plot_asimov_spectrum(fig, axs)\n\u001b[0;32m----> 6\u001b[0m \u001b[43mplot_coverage\u001b[49m\u001b[43m(\u001b[49m\u001b[43mfig\u001b[49m\u001b[43m,\u001b[49m\u001b[43m \u001b[49m\u001b[43max2\u001b[49m\u001b[43m)\u001b[49m\n",
      "Cell \u001b[0;32mIn[4], line 495\u001b[0m, in \u001b[0;36mplot_coverage\u001b[0;34m(fig, ax2)\u001b[0m\n\u001b[1;32m    493\u001b[0m \u001b[38;5;28;01mdef\u001b[39;00m \u001b[38;5;21mplot_coverage\u001b[39m(fig, ax2):\n\u001b[1;32m    494\u001b[0m     p \u001b[38;5;241m=\u001b[39m compute_precision(N)\n\u001b[0;32m--> 495\u001b[0m     ax2\u001b[38;5;241m.\u001b[39merrorbar(\u001b[43mebins\u001b[49m, withine, yerr\u001b[38;5;241m=\u001b[39mp, color\u001b[38;5;241m=\u001b[39mcolors[\u001b[38;5;241m0\u001b[39m], label\u001b[38;5;241m=\u001b[39m\u001b[38;5;124m\"\u001b[39m\u001b[38;5;124m\"\u001b[39m)\n\u001b[1;32m    496\u001b[0m     ax2\u001b[38;5;241m.\u001b[39merrorbar(ebins \u001b[38;5;241m*\u001b[39m \u001b[38;5;241m1.05\u001b[39m, withine_N, yerr\u001b[38;5;241m=\u001b[39mp, color\u001b[38;5;241m=\u001b[39mcolors[\u001b[38;5;241m1\u001b[39m], label\u001b[38;5;241m=\u001b[39m\u001b[38;5;124m\"\u001b[39m\u001b[38;5;124m\"\u001b[39m)\n\u001b[1;32m    497\u001b[0m     ax2\u001b[38;5;241m.\u001b[39mplot(ebins, [\u001b[38;5;241m0.68\u001b[39m] \u001b[38;5;241m*\u001b[39m \u001b[38;5;28mlen\u001b[39m(ebins), \u001b[38;5;124m\"\u001b[39m\u001b[38;5;124m:\u001b[39m\u001b[38;5;124m\"\u001b[39m, color\u001b[38;5;241m=\u001b[39m\u001b[38;5;124m\"\u001b[39m\u001b[38;5;124mblack\u001b[39m\u001b[38;5;124m\"\u001b[39m, label\u001b[38;5;241m=\u001b[39m\u001b[38;5;124m\"\u001b[39m\u001b[38;5;124m\"\u001b[39m)\n",
      "\u001b[0;31mNameError\u001b[0m: name 'ebins' is not defined"
     ]
    },
    {
     "data": {
      "image/png": "[encoded data removed]",
      "text/plain": [
       "<Figure size 400x400 with 2 Axes>"
      ]
     },
     "metadata": {},
     "output_type": "display_data"
    }
   ],
   "source": [
    "energy_power = 2\n",
    "fig, (axs, ax2) = plt.subplots(\n",
    "    2, 1, gridspec_kw={\"height_ratios\": [3, 1]}, sharex=True, figsize=((4, 4))\n",
    ")\n",
    "plot_asimov_spectrum(fig, axs)\n",
    "plot_coverage(fig, ax2)"
   ]
  },
  {
   "cell_type": "markdown",
   "id": "87690587-78e7-4d84-8e2e-b2ad19f7890d",
   "metadata": {
    "tags": []
   },
   "source": [
    "## Input Within Rnd Results"
   ]
  },
  {
   "cell_type": "code",
   "execution_count": 24,
   "id": "4679fe63-4601-4627-aed2-28c5db8231cc",
   "metadata": {
    "lines_to_next_cell": 2
   },
   "outputs": [],
   "source": [
    "a_within, i_within = [], []\n",
    "a_within_N, i_within_N = [], []\n",
    "\n",
    "a_input = dataset_asimov.models.parameters[\"amplitude\"].value\n",
    "i_input = dataset_asimov.models.parameters[\"index\"].value\n",
    "\n",
    "for a_ in amplitudes:\n",
    "    a_within.append(((a_[0] - a_[1]) <= a_input) and ((a_[0] + a_[1]) >= a_input))\n",
    "for i_ in indices:\n",
    "    i_within.append(((i_[0] - i_[1]) <= i_input) and ((i_[0] + i_[1]) >= i_input))\n",
    "\n",
    "for a_ in amplitudes_N:\n",
    "    a_within_N.append(((a_[0] - a_[1]) <= a_input) and ((a_[0] + a_[1]) >= a_input))\n",
    "for i_ in indices_N:\n",
    "    i_within_N.append(((i_[0] - i_[1]) <= i_input) and ((i_[0] + i_[1]) >= i_input))"
   ]
  },
  {
   "cell_type": "code",
   "execution_count": 25,
   "id": "18b67a10-bd80-4da3-acee-eda4b8f15032",
   "metadata": {
    "lines_to_next_cell": 2
   },
   "outputs": [
    {
     "name": "stdout",
     "output_type": "stream",
     "text": [
      "0.5416666666666666\n",
      "0.4583333333333333\n"
     ]
    }
   ],
   "source": [
    "print(sum(a_within) / len(a_within))\n",
    "print(sum(i_within) / len(i_within))"
   ]
  },
  {
   "cell_type": "code",
   "execution_count": 26,
   "id": "fca0620b-06e7-4c47-9568-ebd476ca08af",
   "metadata": {
    "lines_to_next_cell": 2
   },
   "outputs": [
    {
     "name": "stdout",
     "output_type": "stream",
     "text": [
      "0.6818181818181818\n",
      "0.6363636363636364\n"
     ]
    }
   ],
   "source": [
    "print(sum(a_within_N) / len(a_within_N))\n",
    "print(sum(i_within_N) / len(i_within_N))"
   ]
  },
  {
   "cell_type": "code",
   "execution_count": null,
   "id": "a906c65f-0bba-4628-92ad-7eb431cb74f0",
   "metadata": {},
   "outputs": [],
   "source": []
  },
  {
   "cell_type": "code",
   "execution_count": null,
   "id": "27e06155-6602-4afd-95cd-6627c7a2720c",
   "metadata": {},
   "outputs": [],
   "source": []
  }
 ],
 "metadata": {
  "jupytext": {
   "formats": "ipynb,py:percent"
  },
  "kernelspec": {
   "display_name": "Python 3 (ipykernel)",
   "language": "python",
   "name": "python3"
  },
  "language_info": {
   "codemirror_mode": {
    "name": "ipython",
    "version": 3
   },
   "file_extension": ".py",
   "mimetype": "text/x-python",
   "name": "python",
   "nbconvert_exporter": "python",
   "pygments_lexer": "ipython3",
   "version": "3.8.16"
  },
  "varInspector": {
   "cols": {
    "lenName": 16,
    "lenType": 16,
    "lenVar": 40
   },
   "kernels_config": {
    "python": {
     "delete_cmd_postfix": "",
     "delete_cmd_prefix": "del ",
     "library": "var_list.py",
     "varRefreshCmd": "print(var_dic_list())"
    },
    "r": {
     "delete_cmd_postfix": ") ",
     "delete_cmd_prefix": "rm(",
     "library": "var_list.r",
     "varRefreshCmd": "cat(var_dic_list()) "
    }
   },
   "types_to_exclude": [
    "module",
    "function",
    "builtin_function_or_method",
    "instance",
    "_Feature"
   ],
   "window_display": false
  }
 },
 "nbformat": 4,
 "nbformat_minor": 5
}
