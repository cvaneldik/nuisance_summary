{
 "cells": [
  {
   "cell_type": "code",
   "execution_count": 1,
   "id": "e0c4dcf1",
   "metadata": {
    "tags": []
   },
   "outputs": [
    {
     "name": "stdout",
     "output_type": "stream",
     "text": [
      "loaded gammapy version: 0.1.dev19174+g56b5bdf \n",
      "Supposed to be 1.0 (21-12-2022)\n"
     ]
    },
    {
     "data": {
      "text/plain": [
       "(None, <pyximport.pyximport.PyxImporter at 0x7f88cc4ed070>)"
      ]
     },
     "execution_count": 1,
     "metadata": {},
     "output_type": "execute_result"
    }
   ],
   "source": [
    "import sys\n",
    "import astropy.units as u\n",
    "import gammapy\n",
    "import matplotlib.pylab as plt\n",
    "import numpy as np\n",
    "import pyximport\n",
    "import yaml\n",
    "from gammapy.datasets import FluxPointsDataset, Datasets\n",
    "from gammapy.estimators import FluxPoints, FluxPointsEstimator\n",
    "from gammapy.modeling import Fit, Parameter, Parameters\n",
    "from gammapy.modeling.models import Models, FoVBackgroundModel, Model\n",
    "from matplotlib import rc\n",
    "from scipy.interpolate import interp2d\n",
    "\n",
    "# import random\n",
    "sys.path.append(\"/home/katrin/Documents/nuisance_summary/\")\n",
    "sys.path.append(\"../../\")\n",
    "import Dataset_load  # noqa: E402\n",
    "from Dataset_Creation import sys_dataset  # noqa: E402\n",
    "\n",
    "print(f\"loaded gammapy version: {gammapy.__version__} \")\n",
    "print(\"Supposed to be 1.0 (21-12-2022)\")\n",
    "rc(\"font\", **{\"family\": \"serif\", \"serif\": [\"Computer Modern\"]})\n",
    "rc(\"text\", usetex=True)\n",
    "pyximport.install()"
   ]
  },
  {
   "cell_type": "markdown",
   "id": "23adcef0",
   "metadata": {},
   "source": [
    "## Read dataset"
   ]
  },
  {
   "cell_type": "code",
   "execution_count": 27,
   "id": "f94dc89c",
   "metadata": {},
   "outputs": [
    {
     "name": "stdout",
     "output_type": "stream",
     "text": [
      "loaded dataset:\n",
      "/home/wecapstor1/caph/mppi045h/nuisance_summary/PKS_flare/HESS_public/dataset-simulated-ecpl.fits.gz\n"
     ]
    }
   ],
   "source": [
    "scaled_amplitude = Parameter(\"amplitude\", value=1e-12)\n",
    "lambda_ = Parameter(\"lambda_\", value=1/60)\n",
    "\n",
    "dataset_asimov = Dataset_load.create_asimov(\n",
    "    model=\"ecpl\", source=\"PKSflare\", parameters=Parameters([scaled_amplitude, lambda_])\n",
    ")\n",
    "\n",
    "shift = 0.0\n",
    "tilt = 0.0\n",
    "bias = 0.1\n",
    "resolution = 0.1\n",
    "\n",
    "sys_ = sys_dataset(\n",
    "    dataset_asimov=dataset_asimov,\n",
    "    shift=0,\n",
    "    tilt=0,\n",
    "    bias=0,\n",
    "    resolution=0,\n",
    "    rnd=False,\n",
    "    e_reco_creation=10,\n",
    ")\n",
    "dataset_asimov = sys_.create_dataset()\n",
    "dataset_asimov_N = sys_.create_dataset_N(e_reco_n=100)\n",
    "zero = 1e-24\n",
    "# addional parameter bias and resolution (ereco) but are frozen\n",
    "penalising_invcovmatrix = np.zeros((4, 4))\n",
    "# 'bias', 'resolution', 'norm_nuisance',  'tilt_nuisance',\n",
    "np.fill_diagonal(\n",
    "    penalising_invcovmatrix,\n",
    "    [1 / bias**2, 1 / zero**2, 1 / zero**2, 1 / zero**2],\n",
    ")\n",
    "dataset_asimov_N.penalising_invcovmatrix = penalising_invcovmatrix\n",
    "dataset_asimov_N.irf_model.eff_area_model.parameters.freeze_all()\n",
    "dataset_asimov_N.irf_model.parameters[\"resolution\"].frozen = True\n",
    "dataset_asimov_N.irf_model.parameters[\"bias\"].frozen = False\n",
    "dataset_asimov_N.models[0].parameters[\"lon_0\"].frozen = True\n",
    "dataset_asimov_N.models[0].parameters[\"lat_0\"].frozen = True\n",
    "dataset_asimov_N.models[0].parameters[\"lambda_\"].frozen = True\n",
    "\n",
    "\n",
    "a_unit = dataset_asimov_N.models.parameters[\"amplitude\"].unit\n",
    "\n",
    "datasets = Datasets(dataset_asimov)\n",
    "datasets_N = Datasets(dataset_asimov_N)"
   ]
  },
  {
   "cell_type": "code",
   "execution_count": 28,
   "id": "7c017f1c",
   "metadata": {},
   "outputs": [],
   "source": [
    "import json\n",
    "\n",
    "def make_writeable(cc):\n",
    "    d = dict()\n",
    "    for ii, seg in enumerate(cc.allsegs[0]):\n",
    "        d['x'] = seg[:,0].tolist()\n",
    "        d['y'] = seg[:,1].tolist()\n",
    "    return d\n",
    "\n",
    "def save(c, name):\n",
    "    d = make_writeable(c)\n",
    "    with open(name, 'w') as f:\n",
    "        json.dump(d, f)\n",
    "        \n",
    "def read(name):\n",
    "    with open(name) as data_file:\n",
    "        data_loaded = json.load(data_file)\n",
    "    return data_loaded"
   ]
  },
  {
   "cell_type": "markdown",
   "id": "8e22a7d3",
   "metadata": {},
   "source": [
    "## Standard "
   ]
  },
  {
   "cell_type": "code",
   "execution_count": null,
   "id": "c15f92c6-81f1-4168-a280-b18b051bb051",
   "metadata": {},
   "outputs": [],
   "source": [
    "print(datasets.models)\n",
    "fit = Fit(store_trace=False)\n",
    "result = fit.run(datasets)\n",
    "print(datasets.models)\n"
   ]
  },
  {
   "cell_type": "code",
   "execution_count": null,
   "id": "5feba9e1-4730-4b70-b613-4e0b522a8160",
   "metadata": {},
   "outputs": [],
   "source": [
    "print(result)"
   ]
  },
  {
   "cell_type": "code",
   "execution_count": null,
   "id": "03bea66c",
   "metadata": {},
   "outputs": [],
   "source": [
    "%%time\n",
    "\n",
    "fitting = 0\n",
    "if fitting :\n",
    "    \n",
    "    c = fit.minuit.draw_mncontour(\"par_000_index\", \"par_001_amplitude\", \n",
    "                                   cl = 0.68, \n",
    "                                   size = 100, \n",
    "                                   )\n",
    "    save(c, 'data/5_scan_68_index_amplitude.json')\n",
    "    print(\"computing 95\")\n",
    "    c95 = fit.minuit.draw_mncontour(\"par_000_index\", \"par_001_amplitude\", \n",
    "                                   cl = 0.95, \n",
    "                                   size = 100, \n",
    "                                   )\n",
    "    save(c95, 'data/5_scan_95_index_amplitude.json')\n",
    "else:\n",
    "    c = read('data/5_scan_68_index_amplitude.json')\n",
    "    c95 = read('data/5_scan_95_index_amplitude.json')\n",
    "      "
   ]
  },
  {
   "cell_type": "markdown",
   "id": "5cf41966",
   "metadata": {},
   "source": [
    "## Nuisance Parameters"
   ]
  },
  {
   "cell_type": "code",
   "execution_count": 29,
   "id": "97d3ca10-7a6b-43a9-95ca-9a441d56777f",
   "metadata": {},
   "outputs": [],
   "source": [
    "datasets_N.models.parameters['bias'].max = 0.1\n",
    "datasets_N.models.parameters['bias'].min = -0.1"
   ]
  },
  {
   "cell_type": "code",
   "execution_count": 30,
   "id": "2aa58c1b-1f3e-4a50-bd65-eb64654efe90",
   "metadata": {},
   "outputs": [
    {
     "name": "stdout",
     "output_type": "stream",
     "text": [
      "OptimizeResult\n",
      "\n",
      "\tbackend    : minuit\n",
      "\tmethod     : migrad\n",
      "\tsuccess    : True\n",
      "\tmessage    : Optimization terminated successfully.\n",
      "\tnfev       : 125\n",
      "\ttotal stat : 850150.22\n",
      "\n",
      "CovarianceResult\n",
      "\n",
      "\tbackend    : minuit\n",
      "\tmethod     : hesse\n",
      "\tsuccess    : True\n",
      "\tmessage    : Hesse terminated successfully.\n",
      "\n",
      "CPU times: user 3min 51s, sys: 4min 30s, total: 8min 22s\n",
      "Wall time: 2min 50s\n"
     ]
    }
   ],
   "source": [
    "%%time\n",
    "fit_N = Fit(store_trace=False)\n",
    "result_N = fit_N.run(datasets_N)\n",
    "print(result_N)"
   ]
  },
  {
   "cell_type": "code",
   "execution_count": 31,
   "id": "ca8456ed-689f-45f1-8b73-7e928a037e7d",
   "metadata": {},
   "outputs": [
    {
     "name": "stdout",
     "output_type": "stream",
     "text": [
      "CPU times: user 5.68 s, sys: 2.08 s, total: 7.77 s\n",
      "Wall time: 7.83 s\n"
     ]
    },
    {
     "data": {
      "text/plain": [
       "<matplotlib.colorbar.Colorbar at 0x7f87067c3070>"
      ]
     },
     "execution_count": 31,
     "metadata": {},
     "output_type": "execute_result"
    },
    {
     "data": {
      "image/png": "[encoded data removed]",
      "text/plain": [
       "<Figure size 640x480 with 2 Axes>"
      ]
     },
     "metadata": {},
     "output_type": "display_data"
    }
   ],
   "source": [
    "%%time\n",
    "c_N = fit_N.minuit.contour(\"par_000_index\", \"par_001_amplitude\", \n",
    "                          size = 10, \n",
    "                           )\n",
    "\n",
    "fig = plt.figure()\n",
    "im = plt.pcolormesh(c_N[0], np.array(c_N[1]), c_N[2],  )\n",
    "fig.colorbar(im)\n"
   ]
  },
  {
   "cell_type": "code",
   "execution_count": 25,
   "id": "fd407a4e-7a3c-44a0-8b6b-7977c06aba14",
   "metadata": {},
   "outputs": [
    {
     "ename": "AttributeError",
     "evalue": "'NoneType' object has no attribute 'mncontour'",
     "output_type": "error",
     "traceback": [
      "\u001b[0;31m---------------------------------------------------------------------------\u001b[0m",
      "\u001b[0;31mAttributeError\u001b[0m                            Traceback (most recent call last)",
      "File \u001b[0;32m<timed exec>:1\u001b[0m\n",
      "\u001b[0;31mAttributeError\u001b[0m: 'NoneType' object has no attribute 'mncontour'"
     ]
    }
   ],
   "source": [
    "%%time\n",
    "c_N = fit_N.minuit.mncontour(\"par_000_index\", \"par_001_amplitude\", \n",
    "                          size = 5, \n",
    "                           )"
   ]
  },
  {
   "cell_type": "code",
   "execution_count": 26,
   "id": "7c3b9212-9f78-4035-90ba-07eac1f0bb44",
   "metadata": {},
   "outputs": [
    {
     "ename": "IndexError",
     "evalue": "index 0 is out of bounds for axis 0 with size 0",
     "output_type": "error",
     "traceback": [
      "\u001b[0;31m---------------------------------------------------------------------------\u001b[0m",
      "\u001b[0;31mIndexError\u001b[0m                                Traceback (most recent call last)",
      "Cell \u001b[0;32mIn[26], line 2\u001b[0m\n\u001b[1;32m      1\u001b[0m fig \u001b[38;5;241m=\u001b[39m plt\u001b[38;5;241m.\u001b[39mfigure()\n\u001b[0;32m----> 2\u001b[0m im \u001b[38;5;241m=\u001b[39m plt\u001b[38;5;241m.\u001b[39mpcolormesh(\u001b[43mc_N\u001b[49m\u001b[43m[\u001b[49m\u001b[38;5;241;43m0\u001b[39;49m\u001b[43m]\u001b[49m, np\u001b[38;5;241m.\u001b[39marray(c_N[\u001b[38;5;241m1\u001b[39m]), c_N[\u001b[38;5;241m2\u001b[39m],  )\n\u001b[1;32m      3\u001b[0m fig\u001b[38;5;241m.\u001b[39mcolorbar(im)\n",
      "\u001b[0;31mIndexError\u001b[0m: index 0 is out of bounds for axis 0 with size 0"
     ]
    },
    {
     "data": {
      "text/plain": [
       "<Figure size 640x480 with 0 Axes>"
      ]
     },
     "metadata": {},
     "output_type": "display_data"
    }
   ],
   "source": [
    "fig = plt.figure()\n",
    "im = plt.pcolormesh(c_N[0], np.array(c_N[1]), c_N[2],  )\n",
    "fig.colorbar(im)"
   ]
  },
  {
   "cell_type": "code",
   "execution_count": null,
   "id": "b5bafbb8",
   "metadata": {
    "scrolled": true
   },
   "outputs": [],
   "source": [
    "%%time\n",
    "fitting_N = 1\n",
    "if fitting_N:\n",
    "    \n",
    "    c_N = fit_N.minuit.draw_mncontour(\"par_000_index\", \"par_001_amplitude\", \n",
    "                               cl = 0.68, \n",
    "                              size = 10, \n",
    "                               interpolated = True,\n",
    "                               )\n",
    "    \n",
    "    save(c_N, 'data/5_scan_N_68_index_amplitude.json')\n",
    "    \n",
    "    print(\"95\")\n",
    "    c95_N = fit_N.minuit.draw_mncontour(\"par_000_index\", \"par_001_amplitude\", \n",
    "                               cl = 0.95, \n",
    "                               size = 10, \n",
    "                                interpolated = True,\n",
    "                               )\n",
    "    save(c95_N, 'data/5_scan_N_95_index_amplitude.json')\n",
    "else:\n",
    "    c_N = read('data/5_scan_N_68_index_amplitude.json')\n",
    "    c95_N = read('data/5_scan_N_95_index_amplitude.json')\n",
    "    path = f'data/1_model_N.yml'\n",
    "    dataset_N_load = Dataset_load.load_dataset_N(dataset_N, path) "
   ]
  },
  {
   "cell_type": "markdown",
   "id": "db6ce963",
   "metadata": {},
   "source": [
    "# Stat Contours"
   ]
  },
  {
   "cell_type": "code",
   "execution_count": null,
   "id": "c3692716",
   "metadata": {},
   "outputs": [],
   "source": [
    "color_standard = 'crimson'; color_standard_e = 'palevioletred'\n",
    "color_nui = 'navy'; color_nui_e = 'cornflowerblue' # 'cornflowerblue'\n",
    "color_rnd = 'darkgreen'\n",
    "color_input = 'darkorange'\n",
    "color_eff = 'darkgreen' ; color_eff_e = 'lightgreen'"
   ]
  },
  {
   "cell_type": "code",
   "execution_count": null,
   "id": "d15fc752",
   "metadata": {},
   "outputs": [],
   "source": [
    "if not fitting and not fitting_N:\n",
    "\n",
    "    factor = 0.1\n",
    "    plt.figure()\n",
    "    plt.plot(c['x'], np.array(c['y'])*factor, '.-', label='Standard 1$\\sigma$', color = color_standard)\n",
    "    plt.plot(c95['x'], np.array(c95['y'])*factor, '.-', label='Standard 2$\\sigma$', color = color_standard_e)\n",
    "    plt.plot(c_N['x'], np.array(c_N['y'])*factor, '.-', label='Effarea 1$\\sigma$', color = color_eff)\n",
    "    plt.plot(c95_N['x'], np.array(c95_N['y']), '.-', label='Effarea 2$\\sigma$', color = color_eff_e)\n",
    "    \n",
    "    colors_best = [color_eff, color_standard]\n",
    "    fmts = ['o', 'x']\n",
    "    for j,d in enumerate([dataset_N_load, datasets]):\n",
    "        i = d.models.parameters['index'].value\n",
    "        a = d.models.parameters['amplitude'].value * 1e12\n",
    "        \n",
    "        plt.plot(i,a,  fmts[j], color = colors_best[int(j)], )\n",
    "    \n",
    "    plt.legend(fontsize=9, loc='best')\n",
    "    \n",
    "plt.xlabel(\"Index\")\n",
    "plt.ylabel(\"Amplitude [1e-11 TeV-1 s-1 cm-2]\")"
   ]
  },
  {
   "cell_type": "code",
   "execution_count": null,
   "id": "cefc85f3",
   "metadata": {},
   "outputs": [],
   "source": [
    "if fitting:# and fitting_N:\n",
    "\n",
    "    plt.figure()\n",
    "    for ii, seg in enumerate(c.allsegs[0]):\n",
    "        plt.plot(seg[:,0], seg[:,1], '.-', label=c.levels[ii], color = color_standard)\n",
    "    for ii, seg in enumerate(c95.allsegs[0]):\n",
    "        plt.plot(seg[:,0], seg[:,1], '.-', label=c95.levels[ii], color = color_standard_e)    \n",
    "\n",
    "\n",
    "    plt.legend(fontsize=9, loc='best')"
   ]
  },
  {
   "cell_type": "code",
   "execution_count": null,
   "id": "81c856e5",
   "metadata": {},
   "outputs": [],
   "source": [
    "if fitting_N:\n",
    "\n",
    "    plt.figure()\n",
    "    for ii, seg in enumerate(c_N.allsegs[0]):\n",
    "        plt.plot(seg[:,0], seg[:,1], '.-', label=c_N.levels[ii], color = color_standard)\n",
    "    #for ii, seg in enumerate(c95.allsegs[0]):\n",
    "    #    plt.plot(seg[:,0], seg[:,1], '.-', label=c95.levels[ii], color = color_standard_e)    \n",
    "\n",
    "\n",
    "    plt.legend(fontsize=9, loc='best')"
   ]
  },
  {
   "cell_type": "code",
   "execution_count": null,
   "id": "85f8e3ad",
   "metadata": {},
   "outputs": [],
   "source": []
  }
 ],
 "metadata": {
  "kernelspec": {
   "display_name": "Python 3 (ipykernel)",
   "language": "python",
   "name": "python3"
  },
  "language_info": {
   "codemirror_mode": {
    "name": "ipython",
    "version": 3
   },
   "file_extension": ".py",
   "mimetype": "text/x-python",
   "name": "python",
   "nbconvert_exporter": "python",
   "pygments_lexer": "ipython3",
   "version": "3.8.16"
  },
  "varInspector": {
   "cols": {
    "lenName": 16,
    "lenType": 16,
    "lenVar": 40
   },
   "kernels_config": {
    "python": {
     "delete_cmd_postfix": "",
     "delete_cmd_prefix": "del ",
     "library": "var_list.py",
     "varRefreshCmd": "print(var_dic_list())"
    },
    "r": {
     "delete_cmd_postfix": ") ",
     "delete_cmd_prefix": "rm(",
     "library": "var_list.r",
     "varRefreshCmd": "cat(var_dic_list()) "
    }
   },
   "types_to_exclude": [
    "module",
    "function",
    "builtin_function_or_method",
    "instance",
    "_Feature"
   ],
   "window_display": false
  }
 },
 "nbformat": 4,
 "nbformat_minor": 5
}
