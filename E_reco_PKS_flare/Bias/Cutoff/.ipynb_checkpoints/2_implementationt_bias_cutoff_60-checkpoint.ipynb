{
 "cells": [
  {
   "cell_type": "code",
   "execution_count": 1,
   "id": "80a8a4df-16dd-409c-8378-b6b47e1739d6",
   "metadata": {},
   "outputs": [
    {
     "name": "stdout",
     "output_type": "stream",
     "text": [
      "loaded gammapy version: 0.1.dev19174+g56b5bdf \n",
      "<module 'gammapy' from '/home/wecapstor1/caph/mppi045h/gammapy/gammapy/__init__.py'>\n"
     ]
    }
   ],
   "source": [
    "import gammapy \n",
    "print(f'loaded gammapy version: {gammapy.__version__} ' )\n",
    "print(gammapy)"
   ]
  },
  {
   "cell_type": "code",
   "execution_count": 2,
   "id": "85888114-7bbb-4a8f-a341-d7c7061d3ef7",
   "metadata": {},
   "outputs": [],
   "source": [
    "from matplotlib import rc\n",
    "import matplotlib.pylab as plt\n",
    "\n",
    "rc('font', **{'family': 'serif', 'serif': ['Computer Modern']})\n",
    "rc('text', usetex=True)"
   ]
  },
  {
   "cell_type": "code",
   "execution_count": null,
   "id": "69666c5d-c571-4050-9404-10ff441ba8a5",
   "metadata": {},
   "outputs": [],
   "source": []
  },
  {
   "cell_type": "code",
   "execution_count": 3,
   "id": "eb53523b",
   "metadata": {},
   "outputs": [],
   "source": [
    "#get_ipython().system('jupyter nbconvert --to script 1-Nui_Par_Fitting.ipynb')\n",
    "import pyximport\n",
    "\n",
    "pyximport.install()\n",
    "import matplotlib.pyplot as plt\n",
    "import numpy as np\n",
    "import astropy.units as u\n",
    "import gammapy\n",
    "\n",
    "# from gammapy.datasets import MapDataset\n",
    "from gammapy.maps import Map\n",
    "from astropy.coordinates import SkyCoord, Angle\n",
    "from gammapy.modeling import Fit,  Parameters, Covariance , Parameter\n",
    "from gammapy.datasets import MapDataset ,Datasets#, MapDatasetNuisance\n",
    "from gammapy.modeling.models import (\n",
    "    PowerLawSpectralModel,\n",
    "    create_crab_spectral_model,\n",
    "    SkyModel,\n",
    "    PointSpatialModel,\n",
    "    ShellSpatialModel,\n",
    "    GeneralizedGaussianSpatialModel,\n",
    "    TemplateSpatialModel,\n",
    "    LogParabolaSpectralModel,\n",
    "    GaussianSpatialModel,\n",
    "    DiskSpatialModel,\n",
    "    PowerLawNormSpectralModel,\n",
    "    Models,\n",
    "    SpatialModel,\n",
    "    FoVBackgroundModel,\n",
    "    #PowerLawNuisanceSpectralModel,\n",
    "    #PowerLawNormNuisanceSpectralModel\n",
    ")\n",
    "from gammapy.estimators import TSMapEstimator, ExcessMapEstimator\n",
    "\n",
    "from regions import CircleSkyRegion, RectangleSkyRegion\n",
    "import yaml\n",
    "import sys\n",
    "sys.path.append('/home/katrin/Documents/nuisance_summary/')\n",
    "sys.path.append('../../../')\n",
    "from Dataset_Creation import sys_dataset\n",
    "import Dataset_load "
   ]
  },
  {
   "cell_type": "code",
   "execution_count": 4,
   "id": "0307eb78-ad52-4719-b638-5226efc548e4",
   "metadata": {},
   "outputs": [],
   "source": [
    "config = Dataset_load.load_config()\n",
    "colors = config['colors']['one']"
   ]
  },
  {
   "cell_type": "code",
   "execution_count": 5,
   "id": "4995cf38",
   "metadata": {},
   "outputs": [],
   "source": [
    "figformat = '[png]'"
   ]
  },
  {
   "cell_type": "code",
   "execution_count": 6,
   "id": "f5f6cd49-91e2-4e1a-a408-43f1406cd28f",
   "metadata": {},
   "outputs": [
    {
     "name": "stdout",
     "output_type": "stream",
     "text": [
      "loaded dataset:\n",
      "/home/wecapstor1/caph/mppi045h/nuisance_summary/PKS_flare/HESS_public/dataset-simulated-ecpl.fits.gz\n"
     ]
    }
   ],
   "source": [
    "scale  = 0.025\n",
    "scaled_amplitude = Parameter('amplitude', \n",
    "                             value = 4.11e-11 * scale)\n",
    "cutoff = 70\n",
    "lambda_ = Parameter('lambda_', value = 1/ cutoff )\n",
    "dataset_asimov  = Dataset_load.create_asimov(model = 'ecpl',source = \"PKSflare\",\n",
    "                                            parameters = Parameters([scaled_amplitude, lambda_]))\n"
   ]
  },
  {
   "cell_type": "code",
   "execution_count": 7,
   "id": "3bf75872-59d5-41ee-9646-f5aadbd53ae5",
   "metadata": {},
   "outputs": [
    {
     "data": {
      "image/png": "[encoded data removed]",
      "text/plain": [
       "<Figure size 640x480 with 1 Axes>"
      ]
     },
     "metadata": {},
     "output_type": "display_data"
    }
   ],
   "source": [
    "ax =dataset_asimov.models[0].spectral_model.plot([1,100]*u.TeV, energy_power= 2)\n"
   ]
  },
  {
   "cell_type": "code",
   "execution_count": 8,
   "id": "5b01e14c",
   "metadata": {},
   "outputs": [],
   "source": [
    "biass = [ 0.0]\n",
    "bias_assumed = 0.1\n",
    "sigmass = [0]\n",
    "sigma_assumed = 0.1\n"
   ]
  },
  {
   "cell_type": "code",
   "execution_count": 9,
   "id": "f8a95f0a",
   "metadata": {
    "scrolled": true
   },
   "outputs": [],
   "source": [
    "def create_dataset(b, s):\n",
    "    sys_d_cor = sys_dataset(dataset_asimov= dataset_asimov,\n",
    "                        shift = 0,\n",
    "                        tilt = 0,\n",
    "                        bias = b, \n",
    "                        resolution = s,\n",
    "                        rnd = False,\n",
    "                        e_reco_creation=100,\n",
    "                        cutoff=True)\n",
    "    dataset_conv = sys_d_cor.create_dataset()\n",
    "    dataset_conv_N = sys_d_cor.create_dataset_N(100)\n",
    "    dataset_conv_N.models.parameters['resolution'].frozen  = True\n",
    "    \n",
    "\n",
    "    zero = 1e-12\n",
    "    penalising_invcovmatrix = np.zeros((4,4))\n",
    "    np.fill_diagonal(penalising_invcovmatrix, [1/bias_assumed**2, 1/sigma_assumed**2, 1/zero**2, 1/zero**2])\n",
    "\n",
    "    dataset_conv_N.penalising_invcovmatrix = penalising_invcovmatrix\n",
    "    dataset_conv_N.irf_model.eff_area_model.parameters.freeze_all()\n",
    "    dataset_conv_N.irf_model.parameters['resolution'].frozen = False\n",
    "    dataset_conv_N.irf_model.parameters['norm_nuisance'].frozen = True\n",
    "    \n",
    "    return dataset_conv, dataset_conv_N\n",
    "\n",
    "datasets_conv =[]\n",
    "datasets_conv_N =[]\n",
    "\n",
    "for b in biass:\n",
    "    dataset_conv, dataset_conv_N  = create_dataset(b, sigmass[0])\n",
    "    datasets_conv.append(dataset_conv)\n",
    "    datasets_conv_N.append(dataset_conv_N)\n",
    "    \n"
   ]
  },
  {
   "cell_type": "code",
   "execution_count": 10,
   "id": "3bdec87e-c9d7-406c-9cdf-be9de7adec38",
   "metadata": {},
   "outputs": [],
   "source": [
    "emask = dataset_asimov.mask.data.sum(axis=2).sum(axis=1)>0\n",
    "#thr = 1*u.TeV\n",
    "emask_center= dataset_asimov.geoms['geom'].axes[0].center[emask]\n",
    "edges_masked = dataset_asimov.geoms['geom'].axes[0].edges[len(emask_center):]"
   ]
  },
  {
   "cell_type": "code",
   "execution_count": 11,
   "id": "ec0474f3-3c4a-48a1-bcd9-bc83415bdba1",
   "metadata": {},
   "outputs": [
    {
     "data": {
      "text/plain": [
       "100"
      ]
     },
     "execution_count": 11,
     "metadata": {},
     "output_type": "execute_result"
    }
   ],
   "source": [
    "datasets_conv_N[0].e_reco_n "
   ]
  },
  {
   "cell_type": "code",
   "execution_count": 12,
   "id": "a535a571-9ba1-4b2d-9387-0aa40d6b9b14",
   "metadata": {},
   "outputs": [
    {
     "data": {
      "text/plain": [
       "<matplotlib.legend.Legend at 0x7f9185410b80>"
      ]
     },
     "execution_count": 12,
     "metadata": {},
     "output_type": "execute_result"
    },
    {
     "data": {
      "image/png": "[encoded data removed]",
      "text/plain": [
       "<Figure size 640x480 with 1 Axes>"
      ]
     },
     "metadata": {},
     "output_type": "display_data"
    }
   ],
   "source": [
    "edispKernelMap = datasets_conv_N[0].npred_edisp()\n",
    "edispKernel = edispKernelMap.get_edisp_kernel()\n",
    "\n",
    "plt.plot(emask_center, edispKernel.get_bias(emask_center), label = 'data',\n",
    "        color = 'black', marker = 'x')\n",
    "\n",
    "values = [0.01, 0.03, 0.05,0.1, 0.2]\n",
    "for value in values:\n",
    "    datasets_conv_N[0].models.parameters['bias'].value = value\n",
    "    edispKernelMap = datasets_conv_N[0].npred_edisp()\n",
    "    edispKernel = edispKernelMap.get_edisp_kernel()\n",
    "\n",
    "    plt.plot(emask_center, edispKernel.get_bias(emask_center),\n",
    "             label = datasets_conv_N[0].models.parameters['bias'].value ,\n",
    "            )\n",
    "    plt.xscale(\"log\")\n",
    "datasets_conv_N[0].models.parameters['bias'].value = 0\n",
    "    \n",
    "plt.legend()"
   ]
  },
  {
   "cell_type": "code",
   "execution_count": 13,
   "id": "840604f2-644f-481c-baf4-37f519781f65",
   "metadata": {},
   "outputs": [
    {
     "name": "stdout",
     "output_type": "stream",
     "text": [
      "DatasetModels\n",
      "\n",
      "Component 0: SkyModel\n",
      "\n",
      "  Name                      : Y1yXTNX-\n",
      "  Datasets names            : None\n",
      "  Spectral model type       : ExpCutoffPowerLawSpectralModel\n",
      "  Spatial  model type       : PointSpatialModel\n",
      "  Temporal model type       : \n",
      "  Parameters:\n",
      "    index                         :      2.300   +/-    0.00             \n",
      "    amplitude                     :   1.03e-12   +/- 0.0e+00 1 / (cm2 s TeV)\n",
      "    reference             (frozen):      1.000       TeV         \n",
      "    lambda_                       :      0.014   +/-    0.00 1 / TeV     \n",
      "    alpha                 (frozen):      1.000                   \n",
      "    lon_0                         :    329.680   +/-    0.00 deg         \n",
      "    lat_0                         :    -30.222   +/-    0.00 deg         \n",
      "\n",
      "Component 1: FoVBackgroundModel\n",
      "\n",
      "  Name                      : dataset N-bkg\n",
      "  Datasets names            : ['dataset N']\n",
      "  Spectral model type       : PowerLawNormSpectralModel\n",
      "  Spatial  model type       : \n",
      "  Parameters:\n",
      "    norm                          :      1.000   +/-    0.00             \n",
      "    tilt                          :      0.000   +/-    0.00             \n",
      "    reference             (frozen):      1.000       TeV         \n",
      "\n",
      "Component 2: IRFModels\n",
      "\n",
      "  Name                      : dataset N-irf\n",
      "  Datasets names            : dataset N\n",
      "  EReco  model type         : ERecoIRFModel\n",
      "  Eff area  model type      : EffAreaIRFModel\n",
      "  Parameters:\n",
      "    bias                          :      0.000   +/-    0.00             \n",
      "    resolution                    :      0.000   +/-    0.00             \n",
      "    norm_nuisance         (frozen):      0.000                   \n",
      "    tilt_nuisance         (frozen):      0.000                   \n",
      "    reference             (frozen):      1.000       TeV         \n",
      "\n",
      "\n"
     ]
    }
   ],
   "source": [
    "print(datasets_conv_N[0].models)"
   ]
  },
  {
   "cell_type": "code",
   "execution_count": 14,
   "id": "b7bdc619",
   "metadata": {},
   "outputs": [],
   "source": [
    "def sum_e (data):\n",
    "    return data.sum(axis=2).sum(axis=1)\n",
    "\n",
    "eaxis_standard = dataset_asimov.geoms['geom'].axes[0]"
   ]
  },
  {
   "cell_type": "code",
   "execution_count": 15,
   "id": "87cb5f99",
   "metadata": {},
   "outputs": [
    {
     "data": {
      "text/plain": [
       "<WCSAxes: >"
      ]
     },
     "execution_count": 15,
     "metadata": {},
     "output_type": "execute_result"
    },
    {
     "data": {
      "image/png": "[encoded data removed]",
      "text/plain": [
       "<Figure size 640x480 with 2 Axes>"
      ]
     },
     "metadata": {},
     "output_type": "display_data"
    }
   ],
   "source": [
    "d = dataset_conv_N\n",
    "d.plot_residuals_spatial()"
   ]
  },
  {
   "cell_type": "code",
   "execution_count": 16,
   "id": "e710b3b1",
   "metadata": {},
   "outputs": [],
   "source": [
    "energy = datasets_conv[0].counts.geom.axes[0].center.value\n",
    "energy_bounds = (energy[0], energy[-1] ) * u.TeV\n",
    "#colors = plt.rcParams['axes.prop_cycle'].by_key()['color']\n"
   ]
  },
  {
   "cell_type": "code",
   "execution_count": 17,
   "id": "1afed542",
   "metadata": {},
   "outputs": [
    {
     "name": "stderr",
     "output_type": "stream",
     "text": [
      "/home/wecapstor1/caph/mppi045h/gammapy/gammapy/datasets/map.py:1134: RuntimeWarning: invalid value encountered in true_divide\n",
      "  yerr = excess_error / np.sqrt(npred_spec.data)\n"
     ]
    },
    {
     "data": {
      "image/png": "[encoded data removed]",
      "text/plain": [
       "<Figure size 640x480 with 1 Axes>"
      ]
     },
     "metadata": {},
     "output_type": "display_data"
    }
   ],
   "source": [
    "fig, ax = plt.subplots()\n",
    "i = 0\n",
    "\n",
    "for b in biass:\n",
    "    for s in sigmass:\n",
    "        d = datasets_conv_N[i]\n",
    "        d.plot_residuals_spectral(ax =ax, color= colors[i], \n",
    "                    label = f\"bias={b}; res={s}\", method = 'diff/sqrt(model)')\n",
    "        #d = datasets_conv_N_fine[i]\n",
    "        #d.plot_residuals_spectral(ax =ax, color= colors[1], \n",
    "        #            label = f\"bias={b}; res={s}\")\n",
    "        i += 1\n",
    "ax.legend()\n",
    "\n",
    "fig.savefig(f\"plots/2_Residual_pre_fit.png\")"
   ]
  },
  {
   "cell_type": "code",
   "execution_count": 18,
   "id": "eacbcff6",
   "metadata": {},
   "outputs": [],
   "source": [
    "npreds_pre_fit = []\n",
    "npreds_pre_fit_N = []\n",
    "i =0\n",
    "biass_extreme = [-0.1, 0., 0.1]\n",
    "for b in biass_extreme:\n",
    "    for s in sigmass:\n",
    "        datasets_conv_N[0].models.parameters['bias'].value = b\n",
    "        \n",
    "        npreds_pre_fit.append( sum_e(datasets_conv[0].npred_signal().data))\n",
    "        npreds_pre_fit_N.append( sum_e(datasets_conv_N[0].npred_signal().data))\n",
    "        i += 1\n",
    "datasets_conv_N[0].models.parameters['bias'].value = 0\n"
   ]
  },
  {
   "cell_type": "code",
   "execution_count": 19,
   "id": "beb1277f",
   "metadata": {},
   "outputs": [],
   "source": [
    "color_standard = colors[0]; color_standard_e = colors[2] #mediumvioletred\n",
    "color_nui = colors[1]; color_nui_e = colors[3]\n",
    "color_input = 'darkorange'\n",
    "color_rnd = 'darkgreen'\n"
   ]
  },
  {
   "cell_type": "code",
   "execution_count": 20,
   "id": "64c6311e",
   "metadata": {},
   "outputs": [
    {
     "data": {
      "image/png": "[encoded data removed]",
      "text/plain": [
       "<Figure size 400x400 with 1 Axes>"
      ]
     },
     "metadata": {},
     "output_type": "display_data"
    }
   ],
   "source": [
    "\n",
    "fig,a = plt.subplots(1,1, sharey = True, figsize =  (4,4))\n",
    "\n",
    "a.plot(energy,npreds_pre_fit[1], label = \"Model Prediction\", color = color_standard)\n",
    "\n",
    "a.fill_between(energy, npreds_pre_fit[0], npreds_pre_fit[2],\n",
    "             color = color_nui_e, alpha = 0.6, label = \"10 % Systematic Error \\n on energy reco.\")\n",
    "a.errorbar(energy, sum_e(d.counts.data-d.background.data), \n",
    "         yerr = np.sqrt(sum_e(d.counts.data-d.background.data)),\n",
    "        fmt = 'x', label = \"Counts\", color = 'black')\n",
    "\n",
    "\n",
    "a.loglog()\n",
    "a.legend(loc = 'lower left')\n",
    "a.set_xlabel(\"Energy [TeV]\")\n",
    "a.set_ylim(2e1, 2e2)\n",
    "a.set_yticks([50,100], ['50', '100'])\n",
    "a.set_xlim(0.1, 15)\n",
    "a.set_ylabel(\"Pred. Counts\")\n",
    "a.set_title(\"sys = -10%\"); \n",
    "\n",
    "plt.minorticks_off()\n",
    "plt.tight_layout()\n",
    "\n",
    "fig.savefig(f\"plots/2_Npred_single.png\")\n"
   ]
  },
  {
   "cell_type": "code",
   "execution_count": null,
   "id": "6182bf34",
   "metadata": {
    "scrolled": true
   },
   "outputs": [
    {
     "name": "stdout",
     "output_type": "stream",
     "text": [
      "corr\n",
      "┌─────────────────────────────────────────────────────────────────────────┐\n",
      "│                                Migrad                                   │\n",
      "├──────────────────────────────────┬──────────────────────────────────────┤\n",
      "│ FCN = 2.167e+05                  │              Nfcn = 173              │\n",
      "│ EDM = 3.19e-05 (Goal: 0.0002)    │           time = 18.2 sec            │\n",
      "├──────────────────────────────────┼──────────────────────────────────────┤\n",
      "│          Valid Minimum           │        No Parameters at limit        │\n",
      "├──────────────────────────────────┼──────────────────────────────────────┤\n",
      "│ Below EDM threshold (goal x 10)  │           Below call limit           │\n",
      "├───────────────┬──────────────────┼───────────┬─────────────┬────────────┤\n",
      "│  Covariance   │     Hesse ok     │ Accurate  │  Pos. def.  │ Not forced │\n",
      "└───────────────┴──────────────────┴───────────┴─────────────┴────────────┘\n",
      "┌───┬───────────────────┬───────────┬───────────┬────────────┬────────────┬─────────┬─────────┬───────┐\n",
      "│   │ Name              │   Value   │ Hesse Err │ Minos Err- │ Minos Err+ │ Limit-  │ Limit+  │ Fixed │\n",
      "├───┼───────────────────┼───────────┼───────────┼────────────┼────────────┼─────────┼─────────┼───────┤\n",
      "│ 0 │ par_000_index     │   2.30    │   0.05    │            │            │         │         │       │\n",
      "│ 1 │ par_001_amplitude │   1.03    │   0.04    │            │            │         │         │       │\n",
      "│ 2 │ par_002_lambda_   │    1.4    │    1.2    │            │            │         │         │       │\n",
      "│ 3 │ par_003_lon_0     │ 3.296800  │ 0.000019  │            │            │ 3.2868  │ 3.3068  │       │\n",
      "│ 4 │ par_004_lat_0     │ -3.02217  │  0.00017  │            │            │-3.12217 │-2.92217 │       │\n",
      "│ 5 │ par_005_norm      │   1.000   │   0.006   │            │            │         │         │       │\n",
      "│ 6 │ par_006_tilt      │   0.000   │   0.006   │            │            │         │         │       │\n",
      "└───┴───────────────────┴───────────┴───────────┴────────────┴────────────┴─────────┴─────────┴───────┘\n",
      "┌───────────────────┬───────────────────────────────────────────────────────────────────────────────────────────────────────────────────────────────┐\n",
      "│                   │     par_000_index par_001_amplitude   par_002_lambda_     par_003_lon_0     par_004_lat_0      par_005_norm      par_006_tilt │\n",
      "├───────────────────┼───────────────────────────────────────────────────────────────────────────────────────────────────────────────────────────────┤\n",
      "│     par_000_index │           0.00278           -0.0004           -0.0448            1.1e-9         -0.001e-6         -0.003e-3          -0.02e-3 │\n",
      "│ par_001_amplitude │           -0.0004           0.00146            0.0211           -7.8e-9          0.019e-6         -0.012e-3                 0 │\n",
      "│   par_002_lambda_ │           -0.0448            0.0211              1.39          -18.9e-9          0.060e-6          0.007e-3           0.10e-3 │\n",
      "│     par_003_lon_0 │            1.1e-9           -7.8e-9          -18.9e-9          3.67e-10                -0            0.2e-9                -0 │\n",
      "│     par_004_lat_0 │         -0.001e-6          0.019e-6          0.060e-6                -0          2.76e-08         -0.001e-6                 0 │\n",
      "│      par_005_norm │         -0.003e-3         -0.012e-3          0.007e-3            0.2e-9         -0.001e-6          3.51e-05          0.003e-3 │\n",
      "│      par_006_tilt │          -0.02e-3                 0           0.10e-3                -0                 0          0.003e-3          4.09e-05 │\n",
      "└───────────────────┴───────────────────────────────────────────────────────────────────────────────────────────────────────────────────────────────┘\n",
      "Nuisance\n"
     ]
    }
   ],
   "source": [
    "%%time\n",
    "fitting = 1\n",
    "\n",
    "if fitting:\n",
    "\n",
    "    print(\"corr\")\n",
    "    for d in datasets_conv:\n",
    "        fit_cor = Fit(store_trace=True)\n",
    "        result_cor = fit_cor.run(d)\n",
    "        d.models.covariance = fit_cor.covariance(d).matrix\n",
    "        d.models.covariance.plot_correlation()\n",
    "        print(fit_cor.minuit)\n",
    "    print(\"Nuisance\")\n",
    "    for d in datasets_conv_N:\n",
    "        fit_cor_N = Fit(store_trace=True)\n",
    "        result_cor_N = fit_cor_N.run(d)\n",
    "        d.models.covariance = fit_cor_N.covariance(d).matrix\n",
    "        d.models.covariance.plot_correlation()\n",
    "        print(fit_cor_N.minuit)\n",
    "    \n",
    "    print(\"saving\")\n",
    "    for i, d in enumerate(datasets_conv):\n",
    "        path = f'data/2_model_{biass[i]}_sigma_0.yml'\n",
    "        d.models.write(path,overwrite=True)\n",
    "    for i, d in enumerate(datasets_conv_N):\n",
    "        path = f'data/2_model_nui_{biass[i]}_sigma_0.yml'\n",
    "        d.models.write(path,overwrite=True)\n",
    "        \n",
    "else:\n",
    "    print(\"read\")\n",
    "    for i, d in enumerate(datasets_conv):\n",
    "        path = f'data/2_model_{biass[i]}_sigma_0.yml'\n",
    "        datasets_conv[i] = Dataset_load.load_dataset_N(d, path)        \n",
    "    print(\"read nui\")\n",
    "    for i, d in enumerate(datasets_conv_N):\n",
    "        path = f'data/2_model_nui_{biass[i]}_sigma_0.yml'\n",
    "        datasets_conv_N[i] = Dataset_load.load_dataset_N(d, path)        \n",
    "        \n",
    "    \n",
    "\n"
   ]
  },
  {
   "cell_type": "code",
   "execution_count": null,
   "id": "933f0c0d",
   "metadata": {},
   "outputs": [],
   "source": [
    "\n",
    "\n",
    "import sys\n",
    "sys.path.append(config['local']['path']+'/nuisance_summary/Eff_area')\n",
    "import upper_limit_18_02\n",
    "import yaml"
   ]
  },
  {
   "cell_type": "code",
   "execution_count": null,
   "id": "e9841dee",
   "metadata": {},
   "outputs": [],
   "source": [
    "def get_er_neg_pos(parameter, N, case):\n",
    "    filename = '5_scan_'+parameter\n",
    "    if N:\n",
    "        filename += '_N'\n",
    "    filename += case\n",
    "    filename += '.yaml'\n",
    "    print(filename)\n",
    "    with open('data/'+filename) as file:\n",
    "        stat_profile_N_a = yaml.load( file, Loader=yaml.FullLoader)\n",
    "        \n",
    "    ll_N_a = stat_profile_N_a.copy()\n",
    "    ul_N_a = upper_limit_18_02.upper_limit(ll_N_a,0,0)    \n",
    "    min_, er_neg, er_pos = ul_N_a.likelihood_error_asymmetric()\n",
    "    min_ = min_[0]; er_neg = er_neg[0]; er_pos = er_pos[0]; \n",
    "    return er_neg, er_pos"
   ]
  },
  {
   "cell_type": "code",
   "execution_count": null,
   "id": "acc9377c",
   "metadata": {},
   "outputs": [],
   "source": [
    "valuies_asimov_N = []\n",
    "valuies_asimov = []\n",
    "cases = ['-10', '', '+10']\n",
    "par_names = ['amplitude', 'index', 'lambda_']\n",
    "for i in range(len(datasets_conv)):\n",
    "    print(i)\n",
    "    valuies_asimov_Ns = []\n",
    "    valuies_asimovs = []\n",
    "\n",
    "    for par in par_names:\n",
    "        \n",
    "        try:\n",
    "            er_neg, er_pos = get_er_neg_pos(par, True, cases[i])\n",
    "            valuies_asimov_Ns.append([datasets_conv_N[i].models.parameters[par].error, er_neg, er_pos])\n",
    "        \n",
    "            er_neg, er_pos = get_er_neg_pos(par, False, cases[i])\n",
    "            valuies_asimovs.append([datasets_conv[i].models.parameters[par].error, er_neg, er_pos])\n",
    "        except:\n",
    "            valuies_asimov_Ns.append(3*[datasets_conv_N[i].models.parameters[par].error])\n",
    "            valuies_asimovs.append(3*[datasets_conv[i].models.parameters[par].error])\n",
    "            print('not found ', par, 'dataset:', i)\n",
    "            \n",
    "    valuies_asimov_N.append(valuies_asimov_Ns)\n",
    "    valuies_asimov.append(valuies_asimovs)\n",
    "\n",
    "print(valuies_asimov_N)\n",
    "print(valuies_asimov)\n",
    "\n"
   ]
  },
  {
   "cell_type": "code",
   "execution_count": null,
   "id": "26ed4a4a",
   "metadata": {},
   "outputs": [],
   "source": [
    "energy_fine = np.logspace(np.log10(energy_bounds[0].value),\n",
    "                         np.log10(energy_bounds[-1].value),\n",
    "                         100)"
   ]
  },
  {
   "cell_type": "code",
   "execution_count": null,
   "id": "4cb5066a",
   "metadata": {},
   "outputs": [],
   "source": [
    "\n",
    "\n",
    "fig,axs = plt.subplots(1,1, sharey=True,figsize = (4,4))\n",
    "axs = [axs]\n",
    "for i,ax in enumerate(axs):\n",
    "    if i ==1:\n",
    "        dataset_asimov.models[0].spectral_model.plot(energy_bounds, energy_power = 2, ax =ax, \n",
    "                                label = \"Input\", color = 'black', linewidth = 2, linestyle=\"dashed\")\n",
    "    else:\n",
    "        dataset_asimov.models[0].spectral_model.plot(energy_bounds, energy_power = 2, ax =ax, \n",
    "                                label = \"Input\", color = 'black', linewidth = 1, )\n",
    "        \n",
    "for i in range(len(datasets_conv_N)):\n",
    "    \n",
    "    dataset_neg_N = datasets_conv_N[i]\n",
    "    dataset_neg_N.models[0].spectral_model.plot(energy_bounds,  energy_power = 2, ax = axs[i],\n",
    "                                                           color=color_nui,\n",
    "                                                             label=\"Best Fit with Nuisance\",\n",
    "                                                            alpha = 0.95,\n",
    "                                                           linestyle='dashed', linewidth= 2)        \n",
    "  \n",
    "    m = 1\n",
    "    for v, p in enumerate(par_names):\n",
    "        datasets_conv_N[i].models.parameters[par].error = valuies_asimov_N[i][v][m] \n",
    "    neg = datasets_conv_N[i].models[0].spectral_model.evaluate_error(energy_fine*u.TeV,)*energy_fine**2\n",
    "    neg = (neg[0] - neg[1]).value\n",
    "    m = 2\n",
    "    for v, p in enumerate(par_names):\n",
    "        datasets_conv_N[i].models.parameters[par].error = valuies_asimov_N[i][v][m]  \n",
    "    pos = datasets_conv_N[i].models[0].spectral_model.evaluate_error(energy_fine*u.TeV, ) *energy_fine**2\n",
    "    pos = (pos[0] + pos[1]).value\n",
    "    \n",
    "    axs[i].fill_between(energy_fine, neg, pos, alpha = 0.3, color = 'red')\n",
    "    \n",
    "    m = 0\n",
    "    for v, p in enumerate(par_names):\n",
    "        datasets_conv_N[i].models.parameters[par].error = valuies_asimov_N[i][v][m] \n",
    "    dataset_neg_N.models[0].spectral_model.plot_error(energy_bounds,  energy_power = 2, ax = axs[i],\n",
    "                                                           facecolor=color_nui_e,\n",
    "                                                             label=\"1$\\,\\sigma_{tot}$\",\n",
    "                                                            alpha = 0.5)\n",
    "    \n",
    "    \n",
    "    dataset_st_neg = datasets_conv[i]\n",
    "    dataset_st_neg.models[0].spectral_model.plot(energy_bounds,  energy_power = 2, ax = axs[i],\n",
    "                                    label = \"Best Fit\", color = color_standard)\n",
    "    #dataset_st_neg.models[0].spectral_model.plot_error(energy_bounds,  energy_power = 2, ax = axs[i],\n",
    "    #                                                       facecolor=color_standard_e,\n",
    "    #                                                          alpha = 0.9,\n",
    "    #                                                          label= \"1$\\,\\sigma_{stat}$\"\n",
    "    #                                                         )\n",
    "[a.legend(loc = 'lower left') for a in axs]\n",
    "[a.set_ylim(1e-15,2e-12) for a in axs]\n",
    "\n",
    "axs[0].set_title(\"sys = -10%\"); #axs[1].set_title(\"sys = 0%\"); axs[2].set_title(\"sys = +10%\"); \n",
    "\n",
    "plt.tight_layout()\n",
    "fig = plt.gcf()\n",
    "fig.savefig(\"plots/2_spectrum_comparison.svg\")"
   ]
  },
  {
   "cell_type": "code",
   "execution_count": null,
   "id": "186468c0",
   "metadata": {},
   "outputs": [],
   "source": [
    "color_nui_e"
   ]
  },
  {
   "cell_type": "code",
   "execution_count": null,
   "id": "50ac4e81",
   "metadata": {},
   "outputs": [],
   "source": [
    "\n",
    "\n",
    "fig,axs = plt.subplots(1,1, sharey=True,figsize = (4,4))\n",
    "axs = [ axs]\n",
    "\n",
    "\n",
    "for i in range(len(datasets_conv_N)):\n",
    "\n",
    "    dataset_asimov.models[0].spectral_model.plot(energy_bounds, energy_power = 2, ax =ax, \n",
    "                            label = \"Input\", color = 'black', linewidth = 2, linestyle=\"dotted\")\n",
    "\n",
    "    dataset_neg_N = datasets_conv_N[i]\n",
    "    dataset_neg_N.models[0].spectral_model.plot(energy_bounds,  energy_power = 2, ax = axs[i],\n",
    "                                                           color=color_nui,\n",
    "                                                             label=\"Best Fit with Nuisance\",\n",
    "                                                            alpha = 0.95,\n",
    "                                                           linestyle='dashed', linewidth= 2)        \n",
    "\n",
    "    m = 1\n",
    "    for v, p in enumerate(par_names):\n",
    "        datasets_conv_N[i].models.parameters[par].error = valuies_asimov_N[i][v][m] \n",
    "    neg = datasets_conv_N[i].models[0].spectral_model.evaluate_error(energy_fine*u.TeV,)*energy_fine**2\n",
    "    neg = (neg[0] - neg[1]).value\n",
    "    m = 2\n",
    "    for v, p in enumerate(par_names):\n",
    "        datasets_conv_N[i].models.parameters[par].error = valuies_asimov_N[i][v][m]  \n",
    "    pos = datasets_conv_N[i].models[0].spectral_model.evaluate_error(energy_fine*u.TeV, ) *energy_fine**2\n",
    "    pos = (pos[0] + pos[1]).value\n",
    "\n",
    "    axs[i].fill_between(energy_fine, neg, pos, alpha = 0.5, color = color_nui_e,\n",
    "                       label=\"1$\\,\\sigma_{tot}$\",)\n",
    "\n",
    "    m = 0\n",
    "    #for v, p in enumerate(par_names):\n",
    "    #    datasets_conv_N[i].models.parameters[par].error = valuies_asimov_N[i][v][m] \n",
    "    #dataset_neg_N.models[0].spectral_model.plot_error(energy_bounds,  energy_power = 2, ax = axs[i],\n",
    "    #                                                       facecolor=color_nui_e,\n",
    "    #                                                         label=\"1$\\,\\sigma_{tot}$\",\n",
    "    #                                                        alpha = 0.5)\n",
    "\n",
    "\n",
    "    dataset_st_neg = datasets_conv[i]\n",
    "    dataset_st_neg.models[0].spectral_model.plot(energy_bounds,  energy_power = 2, ax = axs[i],\n",
    "                                    label = \"Best Fit\", color = color_standard)\n",
    "    dataset_st_neg.models[0].spectral_model.plot_error(energy_bounds,  energy_power = 2, ax = axs[i],\n",
    "                                                           facecolor=color_standard_e,\n",
    "                                                              alpha = 0.9,\n",
    "                                                              label= \"1$\\,\\sigma_{stat}$\"\n",
    "                                                             )\n",
    "axs[0].legend(loc='lower left')\n",
    "axs[0].set_title(\"sys = 0%\"); \n",
    "axs[0].set_ylim(5e-14,3e-12) \n",
    "axs[0].set_ylabel('')\n",
    "\n",
    "plt.tight_layout()\n",
    "fig = plt.gcf()\n",
    "fig.savefig(\"plots/2_spectrum_comparison_single.png\")"
   ]
  },
  {
   "cell_type": "code",
   "execution_count": null,
   "id": "8c60aae2",
   "metadata": {},
   "outputs": [],
   "source": [
    "fig, ax = plt.subplots()\n",
    "i = 0\n",
    "colors = plt.rcParams['axes.prop_cycle'].by_key()['color']\n",
    "\n",
    "for b in biass:\n",
    "    for s in sigmass:\n",
    "        d = datasets_conv_N[i]\n",
    "        d.plot_residuals_spectral(ax =ax, color= colors[i], \n",
    "                    label = f\"bias={b}; res={s}\")\n",
    "        i += 1\n",
    "ax.legend()\n",
    "plt.title(\"Nuisance\")\n",
    "\n",
    "fig.savefig(f\"plots/2_Residual_post_fit.svg\")"
   ]
  },
  {
   "cell_type": "code",
   "execution_count": null,
   "id": "6e73716a",
   "metadata": {},
   "outputs": [],
   "source": [
    "fig, ax = plt.subplots()\n",
    "i = 0\n",
    "colors = plt.rcParams['axes.prop_cycle'].by_key()['color']\n",
    "\n",
    "for b in biass:\n",
    "    for s in sigmass:\n",
    "        d = datasets_conv[i]\n",
    "        d.plot_residuals_spectral(ax =ax, color= colors[i], \n",
    "                    label = f\"bias={b}; res={s}\")\n",
    "        i += 1\n",
    "ax.legend()\n",
    "plt.title(\"Standard\")\n",
    "fig.savefig(f\"plots/2_Residual_post_fit_standard.svg\")"
   ]
  },
  {
   "cell_type": "code",
   "execution_count": null,
   "id": "a5703bc2-d404-44ea-b723-b0d9ddfb96b8",
   "metadata": {},
   "outputs": [],
   "source": []
  },
  {
   "cell_type": "code",
   "execution_count": null,
   "id": "c156997d",
   "metadata": {},
   "outputs": [],
   "source": [
    "fig, axs = plt.subplots(3,1, figsize= (5, 6))\n",
    "ax = axs.flatten()\n",
    "\n",
    "\n",
    "parnames = ['amplitude', 'index', 'lambda_']\n",
    "ii =0;\n",
    "for b in biass:\n",
    "    for s in sigmass:\n",
    "        d = datasets_conv[ii]\n",
    "        for i, p in enumerate(parnames):\n",
    "            if p =='lambda_':\n",
    "                l_value = d.models.parameters[p].value\n",
    "                l_error = d.models.parameters[p].error \n",
    "                value = 1/ l_value  # c\n",
    "                print(value)\n",
    "                error = l_error / (l_value **2 )\n",
    "            else:\n",
    "                value = d.models.parameters[p].value\n",
    "                error = d.models.parameters[p].error    \n",
    "            ax[i].errorbar(ii, value, yerr = error, fmt = 'o', color = color_standard,markersize = 7,\n",
    "                          label = f'Standard')\n",
    "        \n",
    "        d = datasets_conv_N[ii]\n",
    "        for i, p in enumerate(parnames):\n",
    "            if p =='lambda_':\n",
    "                l_value = d.models.parameters[p].value\n",
    "                l_error = d.models.parameters[p].error \n",
    "                value = 1/ l_value  # c\n",
    "                error = l_error / (l_value **2 )\n",
    "            else:\n",
    "                value = d.models.parameters[p].value\n",
    "                error = d.models.parameters[p].error    \n",
    "            ax[i].errorbar((ii+0.1), value, yerr = error,\n",
    "                           fmt = 'x', color = color_nui,markersize=14,\n",
    "                          label =\"Nuisance\")\n",
    "            #ax[i].errorbar((ii+0.3), value, yerr = error, fmt = '.', color = color_nui,markersize=14,\n",
    "            #              label =\"Nuisance\")\n",
    "            \n",
    "        ii +=1\n",
    "labels_sys = [ '0%', '']\n",
    "for i, p in enumerate(parnames):\n",
    "    value = dataset_asimov.models.parameters[p].value\n",
    "    if p == 'lambda_':\n",
    "        value = 1/value\n",
    "    #ax[i].errorbar(4, value, yerr = error, fmt = 'x')\n",
    "    ax[i].hlines( value, -1, 0.9, label = \"input\", color= 'darkgrey')\n",
    "    ax[i].set_title(p)\n",
    "    \n",
    "    \n",
    "for ax in ax:\n",
    "    handles, labels = plt.gca().get_legend_handles_labels()\n",
    "    by_label = dict(zip(labels, handles))\n",
    "    ax.legend(by_label.values(), by_label.keys(), ncol = 1, \n",
    "            loc='center left', bbox_to_anchor=(1, 0.5))\n",
    "    ax.set_ylabel('Best Fit'); \n",
    "    ax.set_xlabel('Energy Bias'); \n",
    "    ax.set_xticks(np.arange(len(labels_sys)),labels_sys)\n",
    "    \n",
    "plt.tight_layout()\n",
    "fig.savefig(f\"plots/2_Best_fit_parameters.svg\")\n",
    "    "
   ]
  },
  {
   "cell_type": "code",
   "execution_count": null,
   "id": "a805d1db",
   "metadata": {},
   "outputs": [],
   "source": [
    "fig,ax  = plt.subplots(1,2,figsize= (7, 2.5))\n",
    "ax = ax.flatten()\n",
    "parnames = ['bias', 'resolution',]\n",
    "labels_sys = []\n",
    "\n",
    "ii =0;\n",
    "for b in biass:\n",
    "    for s in sigmass:\n",
    "        d = datasets_conv_N[ii]\n",
    "        for i, p in enumerate(parnames):\n",
    "            value = d.models.parameters[p].value\n",
    "            error = d.models.parameters[p].error    \n",
    "            ax[i].errorbar(ii, value, yerr = error, fmt = 'o', color = color_nui)\n",
    "            ax[i].set_title(p)\n",
    "            \n",
    "        labels_sys.append(f'B={b};\\n R={s};')\n",
    "            \n",
    "            \n",
    "        ii +=1\n",
    "        \n",
    "labels_sys = [ '-10%', '0%', '10%']\n",
    "for i, p in enumerate(parnames):\n",
    "    value = 0\n",
    "    #ax[i].errorbar(4, value, yerr = error, fmt = 'x')\n",
    "    ax[i].hlines( value, 0, len(labels_sys)-1,  color= 'darkgrey')\n",
    "    ax[i].set_title(p)\n",
    "    \n",
    "    \n",
    "for ax in ax:\n",
    "    handles, labels = plt.gca().get_legend_handles_labels()\n",
    "    by_label = dict(zip(labels, handles))\n",
    "    ax.legend(by_label.values(), by_label.keys(), ncol = 1, \n",
    "            loc='center left', bbox_to_anchor=(1, 0.5))\n",
    "    ax.set_xlabel('Energy Bias'); \n",
    "    ax.set_xticks(np.arange(len(labels_sys)),labels_sys)\n",
    "fig.savefig(f\"plots/2_Best_fit_nui_parameters.svg\")\n",
    "    "
   ]
  },
  {
   "cell_type": "code",
   "execution_count": null,
   "id": "9815d3a8",
   "metadata": {},
   "outputs": [],
   "source": []
  },
  {
   "cell_type": "code",
   "execution_count": null,
   "id": "61579272-8bfd-4c20-b988-0b6badebe8dc",
   "metadata": {},
   "outputs": [],
   "source": []
  },
  {
   "cell_type": "code",
   "execution_count": null,
   "id": "0d0e139c-fbe6-4d24-ab1a-0c04b434a287",
   "metadata": {},
   "outputs": [],
   "source": []
  }
 ],
 "metadata": {
  "kernelspec": {
   "display_name": "Python 3 (ipykernel)",
   "language": "python",
   "name": "python3"
  },
  "language_info": {
   "codemirror_mode": {
    "name": "ipython",
    "version": 3
   },
   "file_extension": ".py",
   "mimetype": "text/x-python",
   "name": "python",
   "nbconvert_exporter": "python",
   "pygments_lexer": "ipython3",
   "version": "3.8.16"
  },
  "varInspector": {
   "cols": {
    "lenName": 16,
    "lenType": 16,
    "lenVar": 40
   },
   "kernels_config": {
    "python": {
     "delete_cmd_postfix": "",
     "delete_cmd_prefix": "del ",
     "library": "var_list.py",
     "varRefreshCmd": "print(var_dic_list())"
    },
    "r": {
     "delete_cmd_postfix": ") ",
     "delete_cmd_prefix": "rm(",
     "library": "var_list.r",
     "varRefreshCmd": "cat(var_dic_list()) "
    }
   },
   "types_to_exclude": [
    "module",
    "function",
    "builtin_function_or_method",
    "instance",
    "_Feature"
   ],
   "window_display": false
  }
 },
 "nbformat": 4,
 "nbformat_minor": 5
}
