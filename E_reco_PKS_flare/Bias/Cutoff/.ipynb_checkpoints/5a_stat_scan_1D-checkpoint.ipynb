{
 "cells": [
  {
   "cell_type": "code",
   "execution_count": 1,
   "id": "e0c4dcf1",
   "metadata": {
    "tags": []
   },
   "outputs": [
    {
     "ename": "ImportError",
     "evalue": "cannot import name 'sys_dataset' from 'Dataset_Creation' (/home/katrin/Documents/nuisance_summary/Dataset_Creation.py)",
     "output_type": "error",
     "traceback": [
      "\u001b[0;31m---------------------------------------------------------------------------\u001b[0m",
      "\u001b[0;31mImportError\u001b[0m                               Traceback (most recent call last)",
      "Cell \u001b[0;32mIn[1], line 19\u001b[0m\n\u001b[1;32m     17\u001b[0m sys\u001b[38;5;241m.\u001b[39mpath\u001b[38;5;241m.\u001b[39mappend(\u001b[38;5;124m\"\u001b[39m\u001b[38;5;124m../../../\u001b[39m\u001b[38;5;124m\"\u001b[39m)\n\u001b[1;32m     18\u001b[0m \u001b[38;5;28;01mimport\u001b[39;00m \u001b[38;5;21;01mDataset_load\u001b[39;00m  \u001b[38;5;66;03m# noqa: E402\u001b[39;00m\n\u001b[0;32m---> 19\u001b[0m \u001b[38;5;28;01mfrom\u001b[39;00m \u001b[38;5;21;01mDataset_Creation\u001b[39;00m \u001b[38;5;28;01mimport\u001b[39;00m sys_dataset  \u001b[38;5;66;03m# noqa: E402\u001b[39;00m\n\u001b[1;32m     21\u001b[0m \u001b[38;5;28mprint\u001b[39m(\u001b[38;5;124mf\u001b[39m\u001b[38;5;124m\"\u001b[39m\u001b[38;5;124mloaded gammapy version: \u001b[39m\u001b[38;5;132;01m{\u001b[39;00mgammapy\u001b[38;5;241m.\u001b[39m__version__\u001b[38;5;132;01m}\u001b[39;00m\u001b[38;5;124m \u001b[39m\u001b[38;5;124m\"\u001b[39m)\n\u001b[1;32m     22\u001b[0m \u001b[38;5;28mprint\u001b[39m(\u001b[38;5;124m\"\u001b[39m\u001b[38;5;124mSupposed to be 1.0 (21-12-2022)\u001b[39m\u001b[38;5;124m\"\u001b[39m)\n",
      "\u001b[0;31mImportError\u001b[0m: cannot import name 'sys_dataset' from 'Dataset_Creation' (/home/katrin/Documents/nuisance_summary/Dataset_Creation.py)"
     ]
    }
   ],
   "source": [
    "import sys\n",
    "import astropy.units as u\n",
    "import gammapy\n",
    "import matplotlib.pylab as plt\n",
    "import numpy as np\n",
    "import pyximport\n",
    "import yaml\n",
    "from gammapy.datasets import FluxPointsDataset, Datasets\n",
    "from gammapy.estimators import FluxPoints, FluxPointsEstimator\n",
    "from gammapy.modeling import Fit, Parameter, Parameters\n",
    "from gammapy.modeling.models import Models, FoVBackgroundModel, Model\n",
    "from matplotlib import rc\n",
    "from scipy.interpolate import interp2d\n",
    "\n",
    "# import random\n",
    "sys.path.append(\"/home/katrin/Documents/nuisance_summary/\")\n",
    "sys.path.append(\"../../../\")\n",
    "import Dataset_load  # noqa: E402\n",
    "from Dataset_Creation import sys_dataset  # noqa: E402\n",
    "\n",
    "print(f\"loaded gammapy version: {gammapy.__version__} \")\n",
    "print(\"Supposed to be 1.0 (21-12-2022)\")\n",
    "rc(\"font\", **{\"family\": \"serif\", \"serif\": [\"Computer Modern\"]})\n",
    "rc(\"text\", usetex=True)\n",
    "pyximport.install()"
   ]
  },
  {
   "cell_type": "markdown",
   "id": "23adcef0",
   "metadata": {},
   "source": [
    "## Read dataset"
   ]
  },
  {
   "cell_type": "code",
   "execution_count": 2,
   "id": "f94dc89c",
   "metadata": {},
   "outputs": [
    {
     "name": "stdout",
     "output_type": "stream",
     "text": [
      "loaded dataset:\n",
      "/home/wecapstor1/caph/mppi045h/nuisance_summary/PKS_flare/HESS_public/dataset-simulated-ecpl.fits.gz\n",
      "loaded dataset:\n",
      "/home/wecapstor1/caph/mppi045h/nuisance_summary/PKS_flare/HESS_public/dataset-simulated-ecpl.fits.gz\n"
     ]
    }
   ],
   "source": [
    "scaled_amplitude = Parameter(\"amplitude\", value=1e-12)\n",
    "lambda_ = Parameter(\"lambda_\", value=1/60)\n",
    "\n",
    "dataset_asimov = Dataset_load.create_asimov(\n",
    "    model=\"ecpl\", source=\"PKSflare\", parameters=Parameters([scaled_amplitude, lambda_])\n",
    ")\n",
    "dataset_input = Dataset_load.create_asimov(\n",
    "    model=\"ecpl\", source=\"PKSflare\", parameters=Parameters([scaled_amplitude, lambda_])\n",
    ")\n",
    "\n",
    "shift = 0.0\n",
    "tilt = 0.0\n",
    "bias = 0.1\n",
    "resolution = 0.1\n",
    "\n",
    "sys_ = sys_dataset(\n",
    "    dataset_asimov=dataset_asimov,\n",
    "    shift=0,\n",
    "    tilt=0,\n",
    "    bias=0,\n",
    "    resolution=0,\n",
    "    rnd=False,\n",
    "    e_reco_creation=10,\n",
    ")\n",
    "dataset_asimov = sys_.create_dataset()\n",
    "dataset_asimov_N = sys_.create_dataset_N(e_reco_n=10)\n",
    "zero = 1e-24\n",
    "# addional parameter bias and resolution (ereco) but are frozen\n",
    "penalising_invcovmatrix = np.zeros((4, 4))\n",
    "# 'bias', 'resolution', 'norm_nuisance',  'tilt_nuisance',\n",
    "np.fill_diagonal(\n",
    "    penalising_invcovmatrix,\n",
    "    [1 / bias**2, 1 / zero**2, 1 / zero**2, 1 / zero**2],\n",
    ")\n",
    "dataset_asimov_N.penalising_invcovmatrix = penalising_invcovmatrix\n",
    "dataset_asimov_N.irf_model.eff_area_model.parameters.freeze_all()\n",
    "dataset_asimov_N.irf_model.parameters[\"resolution\"].frozen = True\n",
    "dataset_asimov_N.irf_model.parameters[\"bias\"].frozen = False\n",
    "\n",
    "\n",
    "a_unit = dataset_asimov_N.models.parameters[\"amplitude\"].unit\n",
    "\n",
    "datasets = Datasets(dataset_asimov)\n",
    "datasets_N = Datasets(dataset_asimov_N)"
   ]
  },
  {
   "cell_type": "code",
   "execution_count": 19,
   "id": "7c017f1c",
   "metadata": {},
   "outputs": [],
   "source": [
    "import json\n",
    "\n",
    "def make_writeable(cc):\n",
    "    d = dict()\n",
    "    d['x'] = cc[0].tolist()\n",
    "    d['y'] = cc[1].tolist()\n",
    "    return d\n",
    "\n",
    "def save(c, name):\n",
    "    d = make_writeable(c)\n",
    "    with open(name, 'w') as f:\n",
    "        json.dump(d, f)\n",
    "        \n",
    "def read(name):\n",
    "    with open(name) as data_file:\n",
    "        data_loaded = json.load(data_file)\n",
    "    return data_loaded\n",
    "\n",
    "\n",
    "asimov_model = Models.read(\"data/1_model.yml\")\n",
    "asimov_model_N = Models.read(\"data/1_model_N.yml\")\n",
    "def plot_best_fit(ax, par1, par2, factor1 =1 , factor2 =1):\n",
    "    pp1, pp2 = asimov_model.parameters[par1], asimov_model.parameters[par2]\n",
    "    ax.errorbar(pp1.value*factor1, pp2.value*factor2, xerr = pp1.error*factor1, yerr = pp2.error*factor2, \n",
    "                color = 'yellow',capsize = (4),  )\n",
    "    ax.errorbar(pp1.value*factor1, pp2.value*factor2, xerr = pp1.error*factor1, yerr = pp2.error*factor2, \n",
    "                color = 'green',capsize = (4),  )\n",
    "    pp1, pp2 = asimov_model_N.parameters[par1], asimov_model.parameters[par2]\n",
    "    ax.errorbar(pp1.value*factor1, pp2.value*factor2, xerr = pp1.error*factor1, yerr = pp2.error*factor2, \n",
    "                color = 'blue', capsize = (4), linestyle = 'dashed')"
   ]
  },
  {
   "cell_type": "markdown",
   "id": "8e22a7d3",
   "metadata": {},
   "source": [
    "## Standard "
   ]
  },
  {
   "cell_type": "code",
   "execution_count": 4,
   "id": "c15f92c6-81f1-4168-a280-b18b051bb051",
   "metadata": {
    "lines_to_next_cell": 2
   },
   "outputs": [
    {
     "name": "stdout",
     "output_type": "stream",
     "text": [
      "DatasetModels\n",
      "\n",
      "Component 0: SkyModel\n",
      "\n",
      "  Name                      : TQLL36So\n",
      "  Datasets names            : None\n",
      "  Spectral model type       : ExpCutoffPowerLawSpectralModel\n",
      "  Spatial  model type       : PointSpatialModel\n",
      "  Temporal model type       : \n",
      "  Parameters:\n",
      "    index                         :      2.300   +/-    0.07             \n",
      "    amplitude                     :   1.00e-12   +/- 5.5e-14 1 / (cm2 s TeV)\n",
      "    reference             (frozen):      1.000       TeV         \n",
      "    lambda_                       :      0.017   +/-    0.01 1 / TeV     \n",
      "    alpha                 (frozen):      1.000                   \n",
      "    lon_0                         :    329.680   +/-    0.00 deg         \n",
      "    lat_0                         :    -30.222   +/-    0.00 deg         \n",
      "\n",
      "Component 1: FoVBackgroundModel\n",
      "\n",
      "  Name                      : hJG4Fn18-bkg\n",
      "  Datasets names            : ['hJG4Fn18']\n",
      "  Spectral model type       : PowerLawNormSpectralModel\n",
      "  Spatial  model type       : \n",
      "  Parameters:\n",
      "    norm                          :      1.000   +/-    0.00             \n",
      "    tilt                  (frozen):      0.000                   \n",
      "    reference             (frozen):      1.000       TeV         \n",
      "\n",
      "\n",
      "OptimizeResult\n",
      "\n",
      "\tbackend    : minuit\n",
      "\tmethod     : migrad\n",
      "\tsuccess    : True\n",
      "\tmessage    : Optimization terminated successfully.\n",
      "\tnfev       : 115\n",
      "\ttotal stat : 850150.22\n",
      "\n",
      "CovarianceResult\n",
      "\n",
      "\tbackend    : minuit\n",
      "\tmethod     : hesse\n",
      "\tsuccess    : True\n",
      "\tmessage    : Hesse terminated successfully.\n",
      "\n"
     ]
    }
   ],
   "source": [
    "fitting = 1\n",
    "if fitting:\n",
    "    fit = Fit(store_trace=False)\n",
    "    result = fit.run(datasets)\n",
    "    print(datasets.models)\n",
    "print(result)"
   ]
  },
  {
   "cell_type": "code",
   "execution_count": 24,
   "id": "03bea66c",
   "metadata": {},
   "outputs": [
    {
     "name": "stdout",
     "output_type": "stream",
     "text": [
      "CPU times: user 11 ms, sys: 0 ns, total: 11 ms\n",
      "Wall time: 10.7 ms\n"
     ]
    },
    {
     "data": {
      "image/png": "[encoded data removed]",
      "text/plain": [
       "<Figure size 640x480 with 1 Axes>"
      ]
     },
     "metadata": {},
     "output_type": "display_data"
    }
   ],
   "source": [
    "%%time\n",
    "\n",
    "fitting = 0\n",
    "if fitting :\n",
    "    c = fit.minuit.draw_mnprofile(\"par_000_index\")\n",
    "    save(c, 'data/5_1dscan_39_index.json')\n",
    "else:\n",
    "    c = read('data/5_1dscan_39_index.json')\n",
    "    plt.plot(c['x'], c['y'])    \n",
    "    plt.xlabel(\"Index\")"
   ]
  },
  {
   "cell_type": "code",
   "execution_count": 25,
   "id": "c8a8c32f-c3e3-4e93-9ed9-15ace4208a93",
   "metadata": {},
   "outputs": [
    {
     "name": "stdout",
     "output_type": "stream",
     "text": [
      "OptimizeResult\n",
      "\n",
      "\tbackend    : minuit\n",
      "\tmethod     : migrad\n",
      "\tsuccess    : True\n",
      "\tmessage    : Optimization terminated successfully.\n",
      "\tnfev       : 181\n",
      "\ttotal stat : 850150.22\n",
      "\n",
      "CovarianceResult\n",
      "\n",
      "\tbackend    : minuit\n",
      "\tmethod     : hesse\n",
      "\tsuccess    : True\n",
      "\tmessage    : Hesse terminated successfully.\n",
      "\n",
      "DatasetModels\n",
      "\n",
      "Component 0: SkyModel\n",
      "\n",
      "  Name                      : TQLL36So\n",
      "  Datasets names            : None\n",
      "  Spectral model type       : ExpCutoffPowerLawSpectralModel\n",
      "  Spatial  model type       : PointSpatialModel\n",
      "  Temporal model type       : \n",
      "  Parameters:\n",
      "    index                         :      2.300   +/-    0.11             \n",
      "    amplitude                     :   1.00e-12   +/- 5.5e-14 1 / (cm2 s TeV)\n",
      "    reference             (frozen):      1.000       TeV         \n",
      "    lambda_                       :      0.017   +/-    0.01 1 / TeV     \n",
      "    alpha                 (frozen):      1.000                   \n",
      "    lon_0                         :    329.680   +/-    0.00 deg         \n",
      "    lat_0                         :    -30.222   +/-    0.00 deg         \n",
      "\n",
      "Component 1: FoVBackgroundModel\n",
      "\n",
      "  Name                      : dataset N-bkg\n",
      "  Datasets names            : ['dataset N']\n",
      "  Spectral model type       : PowerLawNormSpectralModel\n",
      "  Spatial  model type       : \n",
      "  Parameters:\n",
      "    norm                          :      1.000   +/-    0.00             \n",
      "    tilt                          :      0.000   +/-    0.00             \n",
      "    reference             (frozen):      1.000       TeV         \n",
      "\n",
      "Component 2: IRFModels\n",
      "\n",
      "  Name                      : dataset N-irf\n",
      "  Datasets names            : dataset N\n",
      "  EReco  model type         : ERecoIRFModel\n",
      "  Eff area  model type      : EffAreaIRFModel\n",
      "  PSF model type            : \n",
      "  Parameters:\n",
      "    bias                          :     -0.001   +/-    0.04             \n",
      "    resolution            (frozen):      0.000                   \n",
      "    norm_nuisance         (frozen):      0.000                   \n",
      "    tilt_nuisance         (frozen):      0.000                   \n",
      "    reference             (frozen):      1.000       TeV         \n",
      "\n",
      "\n",
      "CPU times: user 2min 9s, sys: 3min 8s, total: 5min 18s\n",
      "Wall time: 1min 25s\n"
     ]
    }
   ],
   "source": [
    "%%time\n",
    "fitting= 1\n",
    "if fitting: \n",
    "    minuit_opts = {\"tol\": 0.1, \"strategy\": 1}\n",
    "    fit_N = Fit(store_trace=False)\n",
    "    fit_N.optimize_opts = minuit_opts\n",
    "    result_N = fit_N.run(datasets_N)\n",
    "    print(result_N)\n",
    "    print(datasets_N.models)"
   ]
  },
  {
   "cell_type": "code",
   "execution_count": null,
   "id": "136b693d-a12c-4a58-8181-2bb435da0661",
   "metadata": {},
   "outputs": [
    {
     "name": "stderr",
     "output_type": "stream",
     "text": [
      "/home/wecapstor1/caph/mppi045h/anaconda3/envs/gammapy-dev/lib/python3.8/site-packages/iminuit/minuit.py:1526: IMinuitWarning: MIGRAD fails to converge for par_000_index=2.076171166343633\n",
      "  warnings.warn(\n",
      "/home/wecapstor1/caph/mppi045h/anaconda3/envs/gammapy-dev/lib/python3.8/site-packages/iminuit/minuit.py:1526: IMinuitWarning: MIGRAD fails to converge for par_000_index=2.107052081436543\n",
      "  warnings.warn(\n",
      "/home/wecapstor1/caph/mppi045h/anaconda3/envs/gammapy-dev/lib/python3.8/site-packages/iminuit/minuit.py:1526: IMinuitWarning: MIGRAD fails to converge for par_000_index=2.1224925389829985\n",
      "  warnings.warn(\n",
      "/home/wecapstor1/caph/mppi045h/anaconda3/envs/gammapy-dev/lib/python3.8/site-packages/iminuit/minuit.py:1526: IMinuitWarning: MIGRAD fails to converge for par_000_index=2.1379329965294533\n",
      "  warnings.warn(\n",
      "/home/wecapstor1/caph/mppi045h/anaconda3/envs/gammapy-dev/lib/python3.8/site-packages/iminuit/minuit.py:1526: IMinuitWarning: MIGRAD fails to converge for par_000_index=2.1533734540759086\n",
      "  warnings.warn(\n",
      "/home/wecapstor1/caph/mppi045h/anaconda3/envs/gammapy-dev/lib/python3.8/site-packages/iminuit/minuit.py:1526: IMinuitWarning: MIGRAD fails to converge for par_000_index=2.1842543691688188\n",
      "  warnings.warn(\n"
     ]
    }
   ],
   "source": [
    "%%time\n",
    "\n",
    "fitting = 1\n",
    "if fitting :\n",
    "    c_N = fit_N.minuit.draw_mnprofile(\"par_000_index\")\n",
    "    save(c_N, 'data/5_1dscan_index_N.json')\n",
    "else:\n",
    "    c_N = read('data/5_1dscan_index_N.json')\n",
    "    plt.plot(c_N['x'], c_N['y'])  \n",
    "    plt.plot(c['x'], c['y'])    \n",
    "    \n",
    "    plt.xlabel(\"Index\")"
   ]
  },
  {
   "cell_type": "code",
   "execution_count": null,
   "id": "14ab0d44-d9d4-4237-80e2-6fa5478d71e0",
   "metadata": {},
   "outputs": [],
   "source": []
  },
  {
   "cell_type": "code",
   "execution_count": null,
   "id": "d91e0efb-2bdd-4cad-a40b-afc7317fef40",
   "metadata": {},
   "outputs": [],
   "source": [
    "da"
   ]
  },
  {
   "cell_type": "code",
   "execution_count": 7,
   "id": "52141de9-2a79-4074-a063-6491080559ff",
   "metadata": {},
   "outputs": [
    {
     "data": {
      "image/png": "[encoded data removed]",
      "text/plain": [
       "<Figure size 640x480 with 1 Axes>"
      ]
     },
     "metadata": {},
     "output_type": "display_data"
    }
   ],
   "source": [
    "plot_best_fit(plt.gca(), \"index\", \"amplitude\", factor2 = 1e12)"
   ]
  },
  {
   "cell_type": "code",
   "execution_count": 8,
   "id": "68c89c7e-520d-4b59-9605-3bc8075876db",
   "metadata": {},
   "outputs": [
    {
     "name": "stdout",
     "output_type": "stream",
     "text": [
      "CPU times: user 11.2 ms, sys: 106 µs, total: 11.3 ms\n",
      "Wall time: 11.3 ms\n"
     ]
    },
    {
     "data": {
      "image/png": "[encoded data removed]",
      "text/plain": [
       "<Figure size 640x480 with 1 Axes>"
      ]
     },
     "metadata": {},
     "output_type": "display_data"
    }
   ],
   "source": [
    "%%time\n",
    "factor_lambda = 0.01\n",
    "\n",
    "fitting = 0\n",
    "if fitting :\n",
    "    \n",
    "    c = fit.minuit.draw_mncontour(\"par_000_index\", \"par_002_lambda_\", \n",
    "                                   cl = 0.68, \n",
    "                                   size = 100, \n",
    "                                   )\n",
    "    save(c, 'data/5_scan_68_index_lambda.json')\n",
    "    print(\"computing 95\")\n",
    "    c95 = fit.minuit.draw_mncontour(\"par_000_index\", \"par_002_lambda_\", \n",
    "                                   cl = 0.95, \n",
    "                                   size = 100, \n",
    "                                   )\n",
    "    save(c95, 'data/5_scan_95_index_lambda.json')\n",
    "else:\n",
    "    c_i_l = read('data/5_scan_68_index_lambda.json')\n",
    "    c95_i_l = read('data/5_scan_95_index_lambda.json')\n",
    "    \n",
    "    plt.plot(c_i_l['x'], np.array(c_i_l['y'])*factor_lambda, '.-', label='Standard 1$\\sigma$', color = 'red')\n",
    "    plt.plot(c95_i_l['x'], np.array(c95_i_l['y'])*factor_lambda, '.-', label='Standard 2$\\sigma$', color = 'red')"
   ]
  },
  {
   "cell_type": "code",
   "execution_count": 9,
   "id": "f8acb1ec-b535-408c-9a13-630986abde13",
   "metadata": {},
   "outputs": [
    {
     "name": "stdout",
     "output_type": "stream",
     "text": [
      "CPU times: user 97.7 ms, sys: 21.2 ms, total: 119 ms\n",
      "Wall time: 118 ms\n"
     ]
    },
    {
     "data": {
      "image/png": "[encoded data removed]",
      "text/plain": [
       "<Figure size 640x480 with 1 Axes>"
      ]
     },
     "metadata": {},
     "output_type": "display_data"
    }
   ],
   "source": [
    "%%time\n",
    "\n",
    "fitting = 0\n",
    "if fitting :\n",
    "    \n",
    "    c = fit.minuit.draw_mncontour(\"par_002_lambda_\", \"par_001_amplitude\", \n",
    "                                   cl = 0.68, \n",
    "                                   size = 100, \n",
    "                                   )\n",
    "    save(c, 'data/5_scan_68_lambda_amplitude.json')\n",
    "    print(\"computing 95\")\n",
    "    c95 = fit.minuit.draw_mncontour(\"par_002_lambda_\", \"par_001_amplitude\", \n",
    "                                   cl = 0.95, \n",
    "                                   size = 100, \n",
    "                                   )\n",
    "    save(c95, 'data/5_scan_95_lambda_amplitude.json')\n",
    "else:\n",
    "    c_l_a = read('data/5_scan_68_lambda_amplitude.json')\n",
    "    c95_l_a = read('data/5_scan_95_lambda_amplitude.json')\n",
    "    plt.plot(c_l_a['x'], np.array(c_l_a['y']), '.-', label='Standard 1$\\sigma$', color = 'red')\n",
    "    plt.plot(c95_l_a['x'], np.array(c95_l_a['y']), '.-', label='Standard 2$\\sigma$', color = 'red')  "
   ]
  },
  {
   "cell_type": "markdown",
   "id": "5cf41966",
   "metadata": {},
   "source": [
    "## Nuisance Parameters"
   ]
  },
  {
   "cell_type": "code",
   "execution_count": 10,
   "id": "3a7e3051-1118-4952-abeb-0abac9a632a9",
   "metadata": {},
   "outputs": [],
   "source": [
    "datasets_N.models[0].spatial_model.parameters.freeze_all()"
   ]
  },
  {
   "cell_type": "code",
   "execution_count": 11,
   "id": "2aa58c1b-1f3e-4a50-bd65-eb64654efe90",
   "metadata": {},
   "outputs": [
    {
     "name": "stdout",
     "output_type": "stream",
     "text": [
      "OptimizeResult\n",
      "\n",
      "\tbackend    : minuit\n",
      "\tmethod     : migrad\n",
      "\tsuccess    : True\n",
      "\tmessage    : Optimization terminated successfully.\n",
      "\tnfev       : 161\n",
      "\ttotal stat : 850150.22\n",
      "\n",
      "CovarianceResult\n",
      "\n",
      "\tbackend    : minuit\n",
      "\tmethod     : hesse\n",
      "\tsuccess    : True\n",
      "\tmessage    : Hesse terminated successfully.\n",
      "\n",
      "DatasetModels\n",
      "\n",
      "Component 0: SkyModel\n",
      "\n",
      "  Name                      : TQLL36So\n",
      "  Datasets names            : None\n",
      "  Spectral model type       : ExpCutoffPowerLawSpectralModel\n",
      "  Spatial  model type       : PointSpatialModel\n",
      "  Temporal model type       : \n",
      "  Parameters:\n",
      "    index                         :      2.300   +/-    0.11             \n",
      "    amplitude                     :   1.00e-12   +/- 5.5e-14 1 / (cm2 s TeV)\n",
      "    reference             (frozen):      1.000       TeV         \n",
      "    lambda_                       :      0.017   +/-    0.01 1 / TeV     \n",
      "    alpha                 (frozen):      1.000                   \n",
      "    lon_0                 (frozen):    329.680       deg         \n",
      "    lat_0                 (frozen):    -30.222       deg         \n",
      "\n",
      "Component 1: FoVBackgroundModel\n",
      "\n",
      "  Name                      : dataset N-bkg\n",
      "  Datasets names            : ['dataset N']\n",
      "  Spectral model type       : PowerLawNormSpectralModel\n",
      "  Spatial  model type       : \n",
      "  Parameters:\n",
      "    norm                          :      1.000   +/-    0.00             \n",
      "    tilt                          :      0.000   +/-    0.00             \n",
      "    reference             (frozen):      1.000       TeV         \n",
      "\n",
      "Component 2: IRFModels\n",
      "\n",
      "  Name                      : dataset N-irf\n",
      "  Datasets names            : dataset N\n",
      "  EReco  model type         : ERecoIRFModel\n",
      "  Eff area  model type      : EffAreaIRFModel\n",
      "  PSF model type            : \n",
      "  Parameters:\n",
      "    bias                          :     -0.001   +/-    0.04             \n",
      "    resolution            (frozen):      0.000                   \n",
      "    norm_nuisance         (frozen):      0.000                   \n",
      "    tilt_nuisance         (frozen):      0.000                   \n",
      "    reference             (frozen):      1.000       TeV         \n",
      "\n",
      "\n",
      "CPU times: user 2min 26s, sys: 3min 47s, total: 6min 13s\n",
      "Wall time: 1min 32s\n"
     ]
    }
   ],
   "source": [
    "%%time\n",
    "fitting= 1\n",
    "if fitting: \n",
    "    minuit_opts = {\"tol\": 0.1, \"strategy\": 1}\n",
    "\n",
    "    fit_N = Fit(store_trace=False)\n",
    "    fit_N.optimize_opts = minuit_opts\n",
    "    result_N = fit_N.run(datasets_N)\n",
    "    print(result_N)\n",
    "    print(datasets_N.models)"
   ]
  },
  {
   "cell_type": "code",
   "execution_count": 12,
   "id": "afa07e2f-48af-45c2-9df9-9f4840f2a68e",
   "metadata": {
    "lines_to_next_cell": 2
   },
   "outputs": [
    {
     "name": "stdout",
     "output_type": "stream",
     "text": [
      "15\n",
      "16\n",
      "17\n"
     ]
    }
   ],
   "source": [
    "\n",
    "size = (15,16,17)\n",
    "#size = (2,3,4)\n",
    "\n",
    "\n",
    "datasets_N.parameters[\"amplitude\"].scan_n_sigma = 4\n",
    "datasets_N.parameters[\"index\"].scan_n_sigma = 4\n",
    "datasets_N.parameters[\"lambda_\"].scan_n_sigma = 4\n",
    "\n",
    "datasets_N.parameters[\"amplitude\"].scan_n_values = size[0]\n",
    "datasets_N.parameters[\"index\"].scan_n_values = size[1]\n",
    "datasets_N.parameters[\"lambda_\"].scan_n_values = size[2]\n",
    "\n",
    "a_scan = datasets_N.parameters[\"amplitude\"].scan_values.copy()\n",
    "i_scan = datasets_N.parameters[\"index\"].scan_values.copy()\n",
    "l_scan = datasets_N.parameters[\"lambda_\"].scan_values.copy()\n",
    "\n",
    "scans = {\"amplitude\":a_scan,\n",
    "        \"index\":i_scan,\n",
    "        \"lambda_\":l_scan}\n",
    "\n",
    "print(len(scans['amplitude']))\n",
    "print(len(scans['index']))\n",
    "print(len(scans['lambda_']))"
   ]
  },
  {
   "cell_type": "code",
   "execution_count": 13,
   "id": "a4e0df8a-517e-4ea8-8054-db7435616bd4",
   "metadata": {},
   "outputs": [],
   "source": [
    "parnames = ['lambda_', 'index', 'amplitude']"
   ]
  },
  {
   "cell_type": "code",
   "execution_count": 14,
   "id": "f83f3d6c-3e47-4e30-972d-f6b05ab698a6",
   "metadata": {},
   "outputs": [],
   "source": [
    "def compute_L(parname1, parname2, reopt = False, save = False):\n",
    "    #datasets_N.parameters[\"amplitude\"].scan_values = np.linspace(0.2e-12, 1.8e-12, 11 )\n",
    "    #datasets_N.parameters[\"index\"].scan_values = np.linspace(1.3, 3.3, 10 )\n",
    "  \n",
    "    \n",
    "    par1 , par2 = datasets_N.parameters[parname1], datasets_N.parameters[parname2]\n",
    "    scan_noopti = []\n",
    "    for p in parnames:\n",
    "        datasets_N.models.parameters[p].value = dataset_input.models.parameters[p].value  \n",
    "        datasets_N.models.parameters[p].frozen = False  \n",
    "        \n",
    "    for a in scans[parname1]:\n",
    "        scan_x = []\n",
    "        for i in scans[parname2]:\n",
    "            par1.value = a\n",
    "            par2.value = i\n",
    "            par1.frozen = True\n",
    "            par2.frozen = True\n",
    "\n",
    "            if reopt:\n",
    "                result_N = fit_N.optimize(datasets_N)\n",
    "                print(datasets_N.models)\n",
    "                print(result_N)\n",
    "                \n",
    "            scan_x.append(datasets_N.stat_sum())\n",
    "        scan_noopti.append(scan_x)\n",
    "        \n",
    "    if save: \n",
    "        with open(f\"data/5a_2d_{parname1}_{parname2}.txt\", \"w\") as f:\n",
    "            np.savetxt(f, np.array(scan_noopti).flatten())\n",
    "\n",
    "        with open(f\"data/5a_{parname1}_{parname2[:1]}.txt\", \"w\") as f:\n",
    "            np.savetxt(f, scans[parname1])\n",
    "\n",
    "        with open(f\"data/5a_{parname2}_{parname1[:1]}.txt\", \"w\") as f:\n",
    "            np.savetxt(f, scans[parname2])\n",
    "\n",
    "    return scan_noopti\n",
    "  \n",
    "  \n",
    "def plot_imshow(scan, parname2, parname1):\n",
    "    x_scan, y_scan = scans[parname1], scans[parname2] \n",
    "    fig = plt.figure()\n",
    "    #im = plt.imshow(scan)\n",
    "    im = plt.pcolormesh(x_scan, y_scan, scan)\n",
    "    x_scan_ = x_scan.copy()\n",
    "    y_scan_ = y_scan.copy()\n",
    "    \n",
    "    #if parname1 == \"amplitude\":\n",
    "    #    x_scan_ = x_scan * 1e-12\n",
    "    #if parname2 == \"amplitude\":\n",
    "    #    y_scan_ = y_scan * 1e-12\n",
    "    fig.colorbar(im)\n",
    "    #plt.xticks(np.linspace(0,len(x_scan_)-1,len(x_scan_)), np.round(x_scan_,2));\n",
    "    #plt.yticks(np.linspace(0,len(y_scan_)-1, len(y_scan_)), np.round(y_scan_,2));\n",
    "    \n",
    "    ax = plt.gca()\n",
    "    ax.set_ylabel(parname2)\n",
    "    ax.set_xlabel(parname1)  \n",
    "    \n",
    "    ax.plot(dataset_input.models.parameters[parname1].value,\n",
    "           dataset_input.models.parameters[parname2].value,\n",
    "           marker = '^', color = \"white\")\n",
    "    \n",
    "def read_L(parname1, parname2):\n",
    "    print(f\"{parname1}_{parname2}\")\n",
    "    scan =     np.loadtxt(f\"data/5a_2d_{parname1}_{parname2}.txt\")\n",
    "    y0_scan =     np.loadtxt(f\"data/5a_{parname1}_{parname2[:1]}.txt\")\n",
    "    x0_scan =     np.loadtxt(f\"data/5a_{parname2}_{parname1[:1]}.txt\")\n",
    "    print(\"scan shape\", np.shape(scan))\n",
    "    print(\"scan x_scan\", np.shape(x0_scan))\n",
    "    print(\"scan y_scan\", np.shape(y0_scan))\n",
    "    \n",
    "    scan = scan.reshape(len(y0_scan), len(x0_scan))\n",
    "    print(\"scan shape\", np.shape(scan))\n",
    "    \n",
    "    return scan, x0_scan, y0_scan\n",
    "\n",
    "\n",
    "\n",
    "def compute_errors(Ls_new, x_new, y_new, threshold, find_min):\n",
    "    offset = Ls_new.min() + threshold\n",
    "    if offset > 0:\n",
    "        inside = Ls_new * (Ls_new < offset)\n",
    "    else:\n",
    "        inside = Ls_new * (Ls_new >= offset)\n",
    "    if find_min:  # find min:\n",
    "        pos = np.where(inside > 0)\n",
    "        ampli_best = x_new[np.where(Ls_new == Ls_new.min())[1][0]]\n",
    "        index_best = y_new[np.where(Ls_new == Ls_new.min())[0][0]]\n",
    "\n",
    "    else:  # find max\n",
    "        pos = np.where(inside > 0)\n",
    "        ampli_best = x_new[np.where(Ls_new == Ls_new.max())[1][0]]\n",
    "        index_best = y_new[np.where(Ls_new == Ls_new.max())[0][0]]\n",
    "\n",
    "    delta_bin = (x_new[1] - x_new[0]) / 2\n",
    "    ampli_min = x_new[np.min(pos[1])] - delta_bin\n",
    "    ampli_max = x_new[np.max(pos[1])] + delta_bin\n",
    "    ampli_best += delta_bin\n",
    "\n",
    "    delta_bin = (y_new[1] - y_new[0]) / 2\n",
    "    index_min = y_new[np.min(pos[0])] - delta_bin\n",
    "    index_max = y_new[np.max(pos[0])] + delta_bin\n",
    "    index_best += delta_bin\n",
    "\n",
    "    return index_min, index_max, ampli_min, ampli_max, index_best, ampli_best\n",
    "\n",
    "\n",
    "def plot_L(\n",
    "    Ls_new,\n",
    "    x_new,\n",
    "    y_new,\n",
    "    threshold,\n",
    "    find_min,\n",
    "    color=\"red\",\n",
    "    ax=None,\n",
    "    fig=None,\n",
    "    cbar=True,\n",
    "    cmap=\"viridis\",\n",
    "):\n",
    "    index_min, index_max, ampli_min, ampli_max, index_best, ampli_best = compute_errors(\n",
    "        Ls_new, x_new, y_new, threshold, find_min=find_min\n",
    "    )\n",
    "    if ax is None:\n",
    "        fig, ax = plt.subplots(\n",
    "            1,\n",
    "            1,\n",
    "        )\n",
    "\n",
    "    im = ax.pcolormesh(x_new, y_new, Ls_new, cmap=cmap, rasterized=True)\n",
    "    if cbar:\n",
    "        fig.colorbar(im)\n",
    "\n",
    "    CS = ax.contour(\n",
    "        x_new, y_new, Ls_new, colors=(color,), levels=[Ls_new.min() + threshold]\n",
    "    )\n",
    "    # ax.clabel(CS, CS.levels, inline=True, fmt='$1\\\\sigma$', fontsize=12)\n",
    "\n",
    "    plot_errors(\n",
    "        ax,\n",
    "        x_new,\n",
    "        y_new,\n",
    "        index_min,\n",
    "        index_max,\n",
    "        ampli_min,\n",
    "        ampli_max,\n",
    "        index_best,\n",
    "        ampli_best,\n",
    "        color,\n",
    "    )\n",
    "\n",
    "    ax.plot(ampli_best, index_best, \"x\", color=color)\n",
    "\n",
    "    ax.set_ylabel(f\"Amplitude [{a_unit}]\")\n",
    "    ax.set_xlabel(\"Index []\")\n",
    "    return CS\n",
    "\n",
    "def plot_errors(\n",
    "    ax,\n",
    "    x_new,\n",
    "    y_new,\n",
    "    index_min,\n",
    "    index_max,\n",
    "    ampli_min,\n",
    "    ampli_max,\n",
    "    index_best,\n",
    "    ampli_best,\n",
    "    color,\n",
    "):\n",
    "    linewidth = 2\n",
    "\n",
    "    ax.hlines(\n",
    "        y=index_min,\n",
    "        xmin=x_new[0],\n",
    "        xmax=x_new[-1],\n",
    "        color=color,\n",
    "        linestyle=\"dotted\",\n",
    "        linewidth=linewidth,\n",
    "    )\n",
    "    ax.hlines(\n",
    "        y=index_max,\n",
    "        xmin=x_new[0],\n",
    "        xmax=x_new[-1],\n",
    "        color=color,\n",
    "        linestyle=\"dotted\",\n",
    "        linewidth=linewidth,\n",
    "    )\n",
    "\n",
    "    ax.vlines(\n",
    "        x=ampli_min,\n",
    "        ymin=y_new[0],\n",
    "        ymax=y_new[-1],\n",
    "        color=color,\n",
    "        linestyle=\"dotted\",\n",
    "        linewidth=linewidth,\n",
    "    )\n",
    "    ax.vlines(\n",
    "        x=ampli_max,\n",
    "        ymin=y_new[0],\n",
    "        ymax=y_new[-1],\n",
    "        color=color,\n",
    "        linestyle=\"dotted\",\n",
    "        linewidth=linewidth,\n",
    "    )\n",
    "\n"
   ]
  },
  {
   "cell_type": "markdown",
   "id": "1ce55433-b792-46dd-9a67-706d92aabaa9",
   "metadata": {},
   "source": [
    "## No reopt"
   ]
  },
  {
   "cell_type": "code",
   "execution_count": 15,
   "id": "4d51c0ca-9d19-4957-8d40-a1e5c372ad3a",
   "metadata": {},
   "outputs": [
    {
     "name": "stdout",
     "output_type": "stream",
     "text": [
      "(15, 16)\n"
     ]
    },
    {
     "ename": "NameError",
     "evalue": "name 'c_a_i' is not defined",
     "output_type": "error",
     "traceback": [
      "\u001b[0;31m---------------------------------------------------------------------------\u001b[0m",
      "\u001b[0;31mNameError\u001b[0m                                 Traceback (most recent call last)",
      "Cell \u001b[0;32mIn[15], line 7\u001b[0m\n\u001b[1;32m      3\u001b[0m plot_imshow(scan_nopti, \u001b[38;5;124m\"\u001b[39m\u001b[38;5;124mamplitude\u001b[39m\u001b[38;5;124m\"\u001b[39m, \u001b[38;5;124m\"\u001b[39m\u001b[38;5;124mindex\u001b[39m\u001b[38;5;124m\"\u001b[39m)\n\u001b[1;32m      6\u001b[0m factor_amplitude \u001b[38;5;241m=\u001b[39m \u001b[38;5;241m1e-12\u001b[39m\n\u001b[0;32m----> 7\u001b[0m plt\u001b[38;5;241m.\u001b[39mplot(\u001b[43mc_a_i\u001b[49m[\u001b[38;5;124m'\u001b[39m\u001b[38;5;124mx\u001b[39m\u001b[38;5;124m'\u001b[39m], np\u001b[38;5;241m.\u001b[39marray(c_a_i[\u001b[38;5;124m'\u001b[39m\u001b[38;5;124my\u001b[39m\u001b[38;5;124m'\u001b[39m])\u001b[38;5;241m*\u001b[39mfactor_amplitude, \u001b[38;5;124m'\u001b[39m\u001b[38;5;124m.-\u001b[39m\u001b[38;5;124m'\u001b[39m, label\u001b[38;5;241m=\u001b[39m\u001b[38;5;124m'\u001b[39m\u001b[38;5;124mStandard 1$\u001b[39m\u001b[38;5;124m\\\u001b[39m\u001b[38;5;124msigma$\u001b[39m\u001b[38;5;124m'\u001b[39m, color \u001b[38;5;241m=\u001b[39m \u001b[38;5;124m'\u001b[39m\u001b[38;5;124mred\u001b[39m\u001b[38;5;124m'\u001b[39m)\n\u001b[1;32m      8\u001b[0m plt\u001b[38;5;241m.\u001b[39mplot(c95_a_i[\u001b[38;5;124m'\u001b[39m\u001b[38;5;124mx\u001b[39m\u001b[38;5;124m'\u001b[39m], np\u001b[38;5;241m.\u001b[39marray(c95_a_i[\u001b[38;5;124m'\u001b[39m\u001b[38;5;124my\u001b[39m\u001b[38;5;124m'\u001b[39m])\u001b[38;5;241m*\u001b[39mfactor_amplitude, \u001b[38;5;124m'\u001b[39m\u001b[38;5;124m.-\u001b[39m\u001b[38;5;124m'\u001b[39m, label\u001b[38;5;241m=\u001b[39m\u001b[38;5;124m'\u001b[39m\u001b[38;5;124mStandard 2$\u001b[39m\u001b[38;5;124m\\\u001b[39m\u001b[38;5;124msigma$\u001b[39m\u001b[38;5;124m'\u001b[39m, color \u001b[38;5;241m=\u001b[39m \u001b[38;5;124m'\u001b[39m\u001b[38;5;124mred\u001b[39m\u001b[38;5;124m'\u001b[39m)\n",
      "\u001b[0;31mNameError\u001b[0m: name 'c_a_i' is not defined"
     ]
    },
    {
     "data": {
      "image/png": "[encoded data removed]",
      "text/plain": [
       "<Figure size 640x480 with 2 Axes>"
      ]
     },
     "metadata": {},
     "output_type": "display_data"
    }
   ],
   "source": [
    "scan_nopti = compute_L(\"amplitude\", \"index\", False)\n",
    "print(np.shape(scan_nopti))\n",
    "plot_imshow(scan_nopti, \"amplitude\", \"index\")\n",
    "\n",
    "\n",
    "factor_amplitude = 1e-12\n",
    "plt.plot(c_a_i['x'], np.array(c_a_i['y'])*factor_amplitude, '.-', label='Standard 1$\\sigma$', color = 'red')\n",
    "plt.plot(c95_a_i['x'], np.array(c95_a_i['y'])*factor_amplitude, '.-', label='Standard 2$\\sigma$', color = 'red')"
   ]
  },
  {
   "cell_type": "code",
   "execution_count": null,
   "id": "33cc8521-a062-499e-b414-9d24e95d5b02",
   "metadata": {
    "lines_to_next_cell": 2
   },
   "outputs": [],
   "source": [
    "scan_nopti= compute_L(\"lambda_\", \"index\",  False)\n",
    "plot_imshow(scan_nopti,  \"lambda_\", \"index\")\n",
    "\n",
    "plt.plot(c_i_l['x'], np.array(c_i_l['y'])*factor_lambda, '.-', label='Standard 1$\\sigma$', color = 'red')\n",
    "plt.plot(c95_i_l['x'], np.array(c95_i_l['y'])*factor_lambda, '.-', label='Standard 2$\\sigma$', color = 'red')"
   ]
  },
  {
   "cell_type": "code",
   "execution_count": null,
   "id": "c2e17ec1-be80-4fd5-9cb4-81f44e7e61c0",
   "metadata": {},
   "outputs": [],
   "source": [
    "scan_nopti = compute_L(\"amplitude\", \"lambda_\",  False)\n",
    "\n",
    "plot_imshow(scan_nopti,  \"amplitude\", \"lambda_\")\n",
    "\n",
    "factor_amplitude = 1e-12\n",
    "plt.plot(np.array(c_l_a['x'])*factor_lambda,\n",
    "         np.array(c_l_a['y'])*factor_amplitude, '.-', label='Standard 1$\\sigma$', color = 'red')\n",
    "plt.plot(np.array(c95_l_a['x'])*factor_lambda,\n",
    "         np.array(c95_l_a['y'])*factor_amplitude, '.-', label='Standard 2$\\sigma$', color = 'red')  "
   ]
  },
  {
   "cell_type": "markdown",
   "id": "a688ca6a-27a6-4fb6-9712-63e927907c50",
   "metadata": {},
   "source": [
    "## Reopt\n",
    "\n"
   ]
  },
  {
   "cell_type": "code",
   "execution_count": null,
   "id": "5b9a41eb-c441-4be3-bb2f-acb37c322533",
   "metadata": {},
   "outputs": [],
   "source": [
    "computing = 0\n",
    "if computing :\n",
    "    scan = compute_L(\"amplitude\", \"index\", reopt=1, save = True)\n",
    "else:\n",
    "    scan, z_scan, z_scan = read_L(\"amplitude\", \"index\")\n",
    "plot_imshow(scan, \"amplitude\", \"index\")\n",
    "\n",
    "factor_amplitude = 1e-12\n",
    "plt.plot(c_a_i['x'], np.array(c_a_i['y'])*factor_amplitude, '.-', label='Standard 1$\\sigma$', color = 'red')\n",
    "plt.plot(c95_a_i['x'], np.array(c95_a_i['y'])*factor_amplitude, '.-', label='Standard 2$\\sigma$', color = 'red')"
   ]
  },
  {
   "cell_type": "markdown",
   "id": "e5d8d15c-521a-4156-bf01-24a127562555",
   "metadata": {},
   "source": [
    "## Creating the contour"
   ]
  },
  {
   "cell_type": "code",
   "execution_count": null,
   "id": "321e37cf-c563-4708-9cf2-852cf8922561",
   "metadata": {
    "lines_to_next_cell": 2
   },
   "outputs": [],
   "source": [
    "y_scan = scans['amplitude']\n",
    "x_scan = scans['index']\n",
    "\n",
    "#source = list(contour.keys())[0][:-24]\n",
    "amplix__ = y_scan.copy()\n",
    "indexy__ = x_scan.copy()\n",
    "N_new = 110\n",
    "N_new_y = 100\n",
    "amplix__new = np.linspace(amplix__[0], amplix__[-1], N_new)\n",
    "indexy__new = np.linspace(indexy__[0], indexy__[-1], N_new_y)\n",
    "\n",
    "\n",
    "f = interp2d(\n",
    "    x=indexy__,\n",
    "    y=amplix__,\n",
    "    z=scan,\n",
    "    kind=\"cubic\",\n",
    "    fill_value=None,\n",
    "    bounds_error=False,\n",
    ")\n",
    "data_contour = f(indexy__new, amplix__new)"
   ]
  },
  {
   "cell_type": "code",
   "execution_count": null,
   "id": "42406cad-8765-4b3b-b113-52e5431473b0",
   "metadata": {},
   "outputs": [],
   "source": [
    "fig, (ax1, ax) = plt.subplots(1, 2, figsize=(14, 5))\n",
    "\n",
    "#im = ax1.pcolormesh(amplix__, indexy__, scan)\n",
    "im = ax1.pcolormesh(indexy__, amplix__, scan)\n",
    "\n",
    "dddd = np.array(scan)\n",
    "ampli_best = amplix__[np.where(dddd == dddd.min())[0][0]]\n",
    "index_best = indexy__[np.where(dddd == dddd.min())[1][0]]\n",
    "\n",
    "ax1.plot(index_best, ampli_best, \"x\")\n",
    "fig.colorbar(im, ax=ax1)\n",
    "ax1.set_ylabel(\"amplitude\")\n",
    "ax1.set_xlabel(\n",
    "    \"index\",\n",
    ")\n",
    "ax1.set_title(\"Likelihood\")\n",
    "\n",
    "\n",
    "im = ax.pcolormesh(indexy__new, amplix__new, data_contour)\n",
    "dddd = np.array(data_contour)\n",
    "ampli_best = amplix__new[np.where(dddd == dddd.min())[0][0]]\n",
    "index_best = indexy__new[np.where(dddd == dddd.min())[1][0]]\n",
    "print(\"min index:\", index_best)\n",
    "print(\"min amplitude:\", ampli_best)\n",
    "\n",
    "ax.plot(index_best, ampli_best, \"x\")\n",
    "fig.colorbar(im, ax=ax)\n",
    "ax.set_ylabel(\"amplitude\")\n",
    "ax.set_xlabel(\n",
    "    \"index\",\n",
    ")\n",
    "ax.set_title(\"Likelihood\")"
   ]
  },
  {
   "cell_type": "code",
   "execution_count": null,
   "id": "2dc10c4f-04d7-4110-987f-c1e32696bcb8",
   "metadata": {},
   "outputs": [],
   "source": [
    "threshold_contour = 2\n",
    "\n",
    "(\n",
    "    ampli_min_asimov,\n",
    "    ampli_max_asimov,\n",
    "    index_min_asimov,\n",
    "    index_max_asimov,\n",
    "    ampli_best_asimov,\n",
    "    index_best_asimov,\n",
    ") = compute_errors(\n",
    "    data_contour, indexy__new, amplix__new, threshold_contour, find_min=True\n",
    ")\n",
    "CS = plot_L(\n",
    "    data_contour,\n",
    "    indexy__new,\n",
    "    amplix__new,\n",
    "    threshold_contour,\n",
    "    find_min=True,\n",
    "    color=\"lightblue\",\n",
    ")\n",
    "\n",
    "dat = CS.allsegs[0][0]\n",
    "\n",
    "plot_best_fit(plt.gca(), \"index\", \"amplitude\")\n",
    "\n",
    "\n",
    "factor_amplitude = 1e-12\n",
    "plt.plot(c_a_i['x'], np.array(c_a_i['y'])*factor_amplitude, '.-', \n",
    "         \n",
    "         label='Standard 1$\\sigma$', color = 'gold')\n",
    "plt.plot(c95_a_i['x'], np.array(c95_a_i['y'])*factor_amplitude, '.-', \n",
    "         label='Standard 2$\\sigma$', color = 'gold')\n",
    "\n"
   ]
  },
  {
   "cell_type": "markdown",
   "id": "bceb9b66-5833-4e65-8345-7f0163120f8b",
   "metadata": {},
   "source": [
    "## lambda, index "
   ]
  },
  {
   "cell_type": "code",
   "execution_count": null,
   "id": "562441e4-2595-4859-823e-dde77a9bd89d",
   "metadata": {},
   "outputs": [],
   "source": [
    "computing = 0\n",
    "if computing :\n",
    "    scan = compute_L(\"lambda_\", \"index\", reopt= 1, save = True)\n",
    "else:\n",
    "    scan, z_scan, z_scan = read_L(\"lambda_\", \"index\")\n",
    "plot_imshow(scan, \"lambda_\", \"index\")"
   ]
  },
  {
   "cell_type": "code",
   "execution_count": null,
   "id": "be53b03b-8e30-4649-94be-0cdf2a12c4de",
   "metadata": {
    "lines_to_next_cell": 2
   },
   "outputs": [],
   "source": [
    "y_scan = scans['lambda_']\n",
    "x_scan = scans['index']\n",
    "\n",
    "#source = list(contour.keys())[0][:-24]\n",
    "amplix__ = y_scan.copy()\n",
    "indexy__ = x_scan.copy()\n",
    "N_new = 110\n",
    "N_new_y = 100\n",
    "amplix__new = np.linspace(amplix__[0], amplix__[-1], N_new)\n",
    "indexy__new = np.linspace(indexy__[0], indexy__[-1], N_new_y)\n",
    "\n",
    "\n",
    "f = interp2d(\n",
    "    x=indexy__,\n",
    "    y=amplix__,\n",
    "    z=scan,\n",
    "    kind=\"cubic\",\n",
    "    fill_value=None,\n",
    "    bounds_error=False,\n",
    ")\n",
    "data_contour = f(indexy__new, amplix__new)"
   ]
  },
  {
   "cell_type": "code",
   "execution_count": null,
   "id": "831fd905-707e-4da9-938e-98ff42af282d",
   "metadata": {},
   "outputs": [],
   "source": [
    "fig, (ax1, ax) = plt.subplots(1, 2, figsize=(14, 5))\n",
    "\n",
    "#im = ax1.pcolormesh(amplix__, indexy__, scan)\n",
    "im = ax1.pcolormesh(indexy__, amplix__, scan)\n",
    "\n",
    "dddd = np.array(scan)\n",
    "ampli_best = amplix__[np.where(dddd == dddd.min())[0][0]]\n",
    "index_best = indexy__[np.where(dddd == dddd.min())[1][0]]\n",
    "\n",
    "ax1.plot(index_best, ampli_best, \"x\")\n",
    "fig.colorbar(im, ax=ax1)\n",
    "ax1.set_ylabel(\"amplitude\")\n",
    "ax1.set_xlabel(\n",
    "    \"index\",\n",
    ")\n",
    "ax1.set_title(\"Likelihood\")\n",
    "\n",
    "\n",
    "im = ax.pcolormesh(indexy__new, amplix__new, data_contour)\n",
    "dddd = np.array(data_contour)\n",
    "ampli_best = amplix__new[np.where(dddd == dddd.min())[0][0]]\n",
    "index_best = indexy__new[np.where(dddd == dddd.min())[1][0]]\n",
    "print(\"min index:\", index_best)\n",
    "print(\"min amplitude:\", ampli_best)\n",
    "\n",
    "ax.plot(index_best, ampli_best, \"x\")\n",
    "fig.colorbar(im, ax=ax)\n",
    "ax.set_ylabel(\"amplitude\")\n",
    "ax.set_xlabel(\n",
    "    \"index\",\n",
    ")\n",
    "ax.set_title(\"Likelihood\")"
   ]
  },
  {
   "cell_type": "code",
   "execution_count": null,
   "id": "911f3927-2724-4bd8-aa4f-7d83dc44ca88",
   "metadata": {
    "lines_to_next_cell": 2
   },
   "outputs": [],
   "source": [
    "plot_best_fit(plt.gca(), \"lambda_\", \"index\")"
   ]
  },
  {
   "cell_type": "code",
   "execution_count": null,
   "id": "2deaa1ff-65c9-4a6b-9a96-376dc0ff8837",
   "metadata": {},
   "outputs": [],
   "source": [
    "threshold_contour = 2\n",
    "\n",
    "(\n",
    "    ampli_min_asimov,\n",
    "    ampli_max_asimov,\n",
    "    index_min_asimov,\n",
    "    index_max_asimov,\n",
    "    ampli_best_asimov,\n",
    "    index_best_asimov,\n",
    ") = compute_errors(\n",
    "    data_contour, indexy__new, amplix__new, threshold_contour, find_min=True\n",
    ")\n",
    "CS = plot_L(\n",
    "    data_contour,\n",
    "    indexy__new,\n",
    "    amplix__new,\n",
    "    threshold_contour,\n",
    "    find_min=True,\n",
    "    color=\"lightblue\",\n",
    ")\n",
    "\n",
    "dat = CS.allsegs[0][0]\n",
    "\n",
    "plot_best_fit(plt.gca(),\"index\", \"lambda_\", )\n",
    "\n",
    "\n",
    "factor_amplitude = 1e-12\n",
    "plt.plot(c_i_l['x'], np.array(c_i_l['y'])*factor_lambda, '.-', \n",
    "         label='Standard 1$\\sigma$', color = 'gold')\n",
    "plt.plot(c95_i_l['x'], np.array(c95_i_l['y'])*factor_lambda, '.-', \n",
    "             label='Standard 2$\\sigma$', color = 'gold')\n",
    "\n",
    "\n"
   ]
  },
  {
   "cell_type": "markdown",
   "id": "9a20392d-8018-4d38-a8bb-87f67beb0eb6",
   "metadata": {},
   "source": [
    "##  amplitude lambda"
   ]
  },
  {
   "cell_type": "code",
   "execution_count": null,
   "id": "3a2c2901-cbb8-48f2-974b-d53838dc7eb4",
   "metadata": {},
   "outputs": [],
   "source": [
    "computing = 0\n",
    "if computing :\n",
    "    scan = compute_L(\"amplitude\", \"lambda_\", reopt= 1, save = True)\n",
    "else:\n",
    "    scan, z_scan, z_scan = read_L(\"amplitude\", \"lambda_\")\n",
    "plot_imshow(scan,  \"amplitude\", \"lambda_\")"
   ]
  },
  {
   "cell_type": "code",
   "execution_count": null,
   "id": "a9029d9e-355b-4905-8a2f-43440a7cdb15",
   "metadata": {},
   "outputs": [],
   "source": []
  }
 ],
 "metadata": {
  "jupytext": {
   "formats": "ipynb,py:percent"
  },
  "kernelspec": {
   "display_name": "Python 3 (ipykernel)",
   "language": "python",
   "name": "python3"
  },
  "language_info": {
   "codemirror_mode": {
    "name": "ipython",
    "version": 3
   },
   "file_extension": ".py",
   "mimetype": "text/x-python",
   "name": "python",
   "nbconvert_exporter": "python",
   "pygments_lexer": "ipython3",
   "version": "3.9.16"
  },
  "varInspector": {
   "cols": {
    "lenName": 16,
    "lenType": 16,
    "lenVar": 40
   },
   "kernels_config": {
    "python": {
     "delete_cmd_postfix": "",
     "delete_cmd_prefix": "del ",
     "library": "var_list.py",
     "varRefreshCmd": "print(var_dic_list())"
    },
    "r": {
     "delete_cmd_postfix": ") ",
     "delete_cmd_prefix": "rm(",
     "library": "var_list.r",
     "varRefreshCmd": "cat(var_dic_list()) "
    }
   },
   "types_to_exclude": [
    "module",
    "function",
    "builtin_function_or_method",
    "instance",
    "_Feature"
   ],
   "window_display": false
  }
 },
 "nbformat": 4,
 "nbformat_minor": 5
}
