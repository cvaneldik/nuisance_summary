{
 "cells": [
  {
   "cell_type": "code",
   "execution_count": 1,
   "id": "c102068e",
   "metadata": {},
   "outputs": [
    {
     "name": "stdout",
     "output_type": "stream",
     "text": [
      "loaded gammapy version: 0.1.dev19174+g56b5bdf \n",
      "Supposed to be 1.0 (21-11-2022)\n"
     ]
    }
   ],
   "source": [
    "import gammapy \n",
    "print(f'loaded gammapy version: {gammapy.__version__} ' )\n",
    "print(f'Supposed to be 1.0 (21-11-2022)' )"
   ]
  },
  {
   "cell_type": "code",
   "execution_count": 2,
   "id": "c09918dc-b491-4887-8bad-19a221af2291",
   "metadata": {},
   "outputs": [],
   "source": [
    "from matplotlib import rc\n",
    "import matplotlib.pylab as plt\n",
    "\n",
    "rc('font', **{'family': 'serif', 'serif': ['Computer Modern']})\n",
    "rc('text', usetex=True)"
   ]
  },
  {
   "cell_type": "code",
   "execution_count": 3,
   "id": "e0c4dcf1",
   "metadata": {
    "tags": []
   },
   "outputs": [],
   "source": [
    "#get_ipython().system('jupyter nbconvert --to script 1-Nui_Par_Fitting.ipynb')\n",
    "import pyximport\n",
    "\n",
    "pyximport.install()\n",
    "import matplotlib.pyplot as plt\n",
    "import numpy as np\n",
    "import astropy.units as u\n",
    "import gammapy\n",
    "\n",
    "# from gammapy.datasets import MapDataset\n",
    "from gammapy.maps import Map\n",
    "from astropy.coordinates import SkyCoord, Angle\n",
    "from gammapy.modeling import Fit,  Parameters, Covariance , Parameter\n",
    "from gammapy.datasets import MapDataset ,Datasets#, MapDatasetNuisance\n",
    "from gammapy.modeling.models import (\n",
    "    PowerLawSpectralModel,\n",
    "    create_crab_spectral_model,\n",
    "    SkyModel,\n",
    "    PointSpatialModel,\n",
    "    ShellSpatialModel,\n",
    "    GeneralizedGaussianSpatialModel,\n",
    "    TemplateSpatialModel,\n",
    "    LogParabolaSpectralModel,\n",
    "    GaussianSpatialModel,\n",
    "    DiskSpatialModel,\n",
    "    PowerLawNormSpectralModel,\n",
    "    Models,\n",
    "    SpatialModel,\n",
    "    FoVBackgroundModel,\n",
    "    #PowerLawNuisanceSpectralModel,\n",
    "    #PowerLawNormNuisanceSpectralModel\n",
    ")\n",
    "from gammapy.estimators import TSMapEstimator, ExcessMapEstimator\n",
    "\n",
    "from regions import CircleSkyRegion, RectangleSkyRegion\n",
    "import yaml\n",
    "import sys\n",
    "sys.path.append('/home/katrin/Documents/nuisance_summary/')\n",
    "sys.path.append('../../../')\n",
    "from Dataset_Creation import sys_dataset\n",
    "import Dataset_load "
   ]
  },
  {
   "cell_type": "code",
   "execution_count": 4,
   "id": "08db07b3-88cc-4e9c-9984-f094f9ef27b4",
   "metadata": {},
   "outputs": [],
   "source": [
    "config = Dataset_load.load_config()\n",
    "colors = config['colors']['one']"
   ]
  },
  {
   "cell_type": "markdown",
   "id": "23adcef0",
   "metadata": {},
   "source": [
    "## Read dataset"
   ]
  },
  {
   "cell_type": "code",
   "execution_count": 5,
   "id": "f94dc89c",
   "metadata": {},
   "outputs": [
    {
     "name": "stdout",
     "output_type": "stream",
     "text": [
      "loaded dataset:\n",
      "/home/wecapstor1/caph/mppi045h/nuisance_summary/PKS_flare/HESS_public/dataset-simulated-ecpl.fits.gz\n"
     ]
    }
   ],
   "source": [
    "scale  = 0.025\n",
    "scaled_amplitude = Parameter('amplitude', \n",
    "                             value = 4.11e-11 * scale)\n",
    "cutoff = 10\n",
    "lambda_ = Parameter('lambda_', value = 1/ cutoff )\n",
    "dataset_asimov  = Dataset_load.create_asimov(model = 'ecpl',source = \"PKSflare\",\n",
    "                                            parameters = Parameters([scaled_amplitude, lambda_]))\n"
   ]
  },
  {
   "cell_type": "markdown",
   "id": "2e0399d4",
   "metadata": {},
   "source": [
    "## Single Cases"
   ]
  },
  {
   "cell_type": "code",
   "execution_count": 6,
   "id": "db7a23de-f4d6-40b3-a75a-0c82cda8c064",
   "metadata": {},
   "outputs": [],
   "source": [
    "biass = [0.0]\n",
    "bias_assumed = 0.1\n",
    "sigmass = [0]\n"
   ]
  },
  {
   "cell_type": "code",
   "execution_count": 7,
   "id": "e19a0a90",
   "metadata": {},
   "outputs": [],
   "source": [
    "def create_dataset(b, s):\n",
    "    sys_d_cor = sys_dataset(dataset_asimov= dataset_asimov,\n",
    "                        shift = 0,\n",
    "                        tilt = 0,\n",
    "                        bias = b, \n",
    "                        resolution = s,\n",
    "                        rnd = False,\n",
    "                        e_reco_creation=100,\n",
    "                        cutoff=True)\n",
    "    dataset_conv = sys_d_cor.create_dataset()\n",
    "    dataset_conv_N = sys_d_cor.create_dataset_N(100)\n",
    "    dataset_conv_N.models.parameters['resolution'].frozen  = True\n",
    "    dataset_conv_N.e_reco_n = 100\n",
    "    \n",
    "\n",
    "    zero = 1e-12\n",
    "    penalising_invcovmatrix = np.zeros((4,4))\n",
    "    np.fill_diagonal(penalising_invcovmatrix, [1/bias_assumed**2, 1/zero**2, 1/zero**2, 1/zero**2])\n",
    "\n",
    "    dataset_conv_N.penalising_invcovmatrix = penalising_invcovmatrix\n",
    "    dataset_conv_N.irf_model.eff_area_model.parameters.freeze_all()\n",
    "    dataset_conv_N.irf_model.parameters['resolution'].frozen = True\n",
    "    dataset_conv_N.irf_model.parameters['norm_nuisance'].frozen = True\n",
    "    \n",
    "    return dataset_conv, dataset_conv_N\n",
    "\n",
    "datasets_conv =[]\n",
    "datasets_conv_N =[]\n",
    "\n",
    "for b in biass:\n",
    "    dataset_conv, dataset_conv_N  = create_dataset(b, sigmass[0])\n",
    "    datasets_conv.append(dataset_conv)\n",
    "    datasets_conv_N.append(dataset_conv_N)\n",
    "    \n"
   ]
  },
  {
   "cell_type": "code",
   "execution_count": 8,
   "id": "11a113ca",
   "metadata": {},
   "outputs": [
    {
     "name": "stdout",
     "output_type": "stream",
     "text": [
      "\n"
     ]
    }
   ],
   "source": [
    "case = ''\n",
    "if biass[0] == -0.1:\n",
    "    case = '-10'\n",
    "if biass[0] == 0.1:\n",
    "    case = '+10'\n",
    "print(case)"
   ]
  },
  {
   "cell_type": "code",
   "execution_count": 9,
   "id": "561d9d11",
   "metadata": {
    "scrolled": true
   },
   "outputs": [
    {
     "name": "stdout",
     "output_type": "stream",
     "text": [
      "CPU times: user 22.2 s, sys: 6.48 s, total: 28.7 s\n",
      "Wall time: 28.8 s\n"
     ]
    }
   ],
   "source": [
    "%%time\n",
    "fitting = 1\n",
    "if fitting:\n",
    "    fit = Fit(store_trace=False)\n",
    "    minuit_opts = {\"tol\": 0.001, \"strategy\": 2}\n",
    "    fit.optimize_opts = minuit_opts\n",
    "    result = fit.run(datasets_conv)\n",
    "else:\n",
    "    path = f'data/2_model_{bias[0]}_sigma_{sigma}.yml'\n",
    "    datasets_conv[0] = Dataset_load.load_dataset_N(datasets_conv[0], path)        "
   ]
  },
  {
   "cell_type": "code",
   "execution_count": 10,
   "id": "b5bafbb8",
   "metadata": {
    "scrolled": true
   },
   "outputs": [
    {
     "name": "stdout",
     "output_type": "stream",
     "text": [
      "CPU times: user 50min 38s, sys: 59min 11s, total: 1h 49min 50s\n",
      "Wall time: 35min 1s\n"
     ]
    }
   ],
   "source": [
    "%%time\n",
    "if fitting:\n",
    "    fit_N = Fit(store_trace=False)\n",
    "    fit_N.optimize_opts = minuit_opts\n",
    "    result_N = fit_N.run(datasets_conv_N)\n",
    "else:\n",
    "    path = f'data/2_model_nui_{bias[0]}_sigma_{sigma}.yml'\n",
    "    datasets_conv_N[0] = Dataset_load.load_dataset_N(datasets_conv_N[0], path)"
   ]
  },
  {
   "cell_type": "code",
   "execution_count": 11,
   "id": "2be4d370",
   "metadata": {},
   "outputs": [
    {
     "data": {
      "image/png": "[encoded data removed]",
      "text/plain": [
       "<Figure size 640x480 with 1 Axes>"
      ]
     },
     "metadata": {},
     "output_type": "display_data"
    }
   ],
   "source": [
    "for i, d in enumerate( datasets_conv_N):\n",
    "    value = d.irf_model.parameters['bias'].value\n",
    "    error = d.irf_model.parameters['bias'].error\n",
    "    plt.errorbar(biass[i], value, yerr = error, fmt = 'x')\n",
    "    "
   ]
  },
  {
   "cell_type": "code",
   "execution_count": 12,
   "id": "cb6d79b4-6b5a-41de-80ef-1082b32f5ffa",
   "metadata": {},
   "outputs": [
    {
     "name": "stdout",
     "output_type": "stream",
     "text": [
      "DatasetModels\n",
      "\n",
      "Component 0: SkyModel\n",
      "\n",
      "  Name                      : Y1yXTNX-\n",
      "  Datasets names            : None\n",
      "  Spectral model type       : ExpCutoffPowerLawSpectralModel\n",
      "  Spatial  model type       : PointSpatialModel\n",
      "  Temporal model type       : \n",
      "  Parameters:\n",
      "    index                         :      2.306   +/-    0.11             \n",
      "    amplitude                     :   1.03e-12   +/- 6.5e-14 1 / (cm2 s TeV)\n",
      "    reference             (frozen):      1.000       TeV         \n",
      "    lambda_                       :      0.100   +/-    0.04 1 / TeV     \n",
      "    alpha                 (frozen):      1.000                   \n",
      "    lon_0                         :    329.680   +/-    0.00 deg         \n",
      "    lat_0                         :    -30.222   +/-    0.00 deg         \n",
      "\n",
      "Component 1: FoVBackgroundModel\n",
      "\n",
      "  Name                      : dataset N-bkg\n",
      "  Datasets names            : ['dataset N']\n",
      "  Spectral model type       : PowerLawNormSpectralModel\n",
      "  Spatial  model type       : \n",
      "  Parameters:\n",
      "    norm                          :      1.000   +/-    0.01             \n",
      "    tilt                          :      0.000   +/-    0.01             \n",
      "    reference             (frozen):      1.000       TeV         \n",
      "\n",
      "Component 2: IRFModels\n",
      "\n",
      "  Name                      : dataset N-irf\n",
      "  Datasets names            : dataset N\n",
      "  EReco  model type         : ERecoIRFModel\n",
      "  Eff area  model type      : EffAreaIRFModel\n",
      "  Parameters:\n",
      "    bias                          :      0.000   +/-    0.00             \n",
      "    resolution            (frozen):      0.000                   \n",
      "    norm_nuisance         (frozen):      0.000                   \n",
      "    tilt_nuisance         (frozen):      0.000                   \n",
      "    reference             (frozen):      1.000       TeV         \n",
      "\n",
      "\n"
     ]
    }
   ],
   "source": [
    "print(datasets_conv_N[0].models)"
   ]
  },
  {
   "cell_type": "code",
   "execution_count": 13,
   "id": "dfc08560-1926-4234-a1f1-d5eaecbda1f6",
   "metadata": {},
   "outputs": [
    {
     "name": "stdout",
     "output_type": "stream",
     "text": [
      "DatasetModels\n",
      "\n",
      "Component 0: SkyModel\n",
      "\n",
      "  Name                      : Y1yXTNX-\n",
      "  Datasets names            : None\n",
      "  Spectral model type       : ExpCutoffPowerLawSpectralModel\n",
      "  Spatial  model type       : PointSpatialModel\n",
      "  Temporal model type       : \n",
      "  Parameters:\n",
      "    index                         :      2.303   +/-    0.08             \n",
      "    amplitude                     :   1.03e-12   +/- 6.3e-14 1 / (cm2 s TeV)\n",
      "    reference             (frozen):      1.000       TeV         \n",
      "    lambda_                       :      0.100   +/-    0.04 1 / TeV     \n",
      "    alpha                 (frozen):      1.000                   \n",
      "    lon_0                         :    329.680   +/-    0.00 deg         \n",
      "    lat_0                         :    -30.222   +/-    0.00 deg         \n",
      "\n",
      "Component 1: FoVBackgroundModel\n",
      "\n",
      "  Name                      : 1n3mCvW5-bkg\n",
      "  Datasets names            : ['1n3mCvW5']\n",
      "  Spectral model type       : PowerLawNormSpectralModel\n",
      "  Spatial  model type       : \n",
      "  Parameters:\n",
      "    norm                          :      1.000   +/-    0.01             \n",
      "    tilt                          :      0.000   +/-    0.01             \n",
      "    reference             (frozen):      1.000       TeV         \n",
      "\n",
      "\n"
     ]
    }
   ],
   "source": [
    "print(datasets_conv[0].models)"
   ]
  },
  {
   "cell_type": "markdown",
   "id": "42509a0c",
   "metadata": {},
   "source": [
    "## Stat Profiles for Source Index"
   ]
  },
  {
   "cell_type": "code",
   "execution_count": 14,
   "id": "fc9dbac6",
   "metadata": {},
   "outputs": [],
   "source": [
    "computing_norm = 0\n",
    "def make_writable(stat):\n",
    "    write = dict()\n",
    "    for k in stat.keys():\n",
    "        if k != 'fit_results':\n",
    "            write[k] = [float(i) for i in stat[k]]\n",
    "            \n",
    "                \n",
    "    return write"
   ]
  },
  {
   "cell_type": "code",
   "execution_count": 15,
   "id": "f9b7f419",
   "metadata": {},
   "outputs": [
    {
     "ename": "NameError",
     "evalue": "name 'datasets' is not defined",
     "output_type": "error",
     "traceback": [
      "\u001b[0;31m---------------------------------------------------------------------------\u001b[0m",
      "\u001b[0;31mNameError\u001b[0m                                 Traceback (most recent call last)",
      "File \u001b[0;32m<timed exec>:7\u001b[0m\n",
      "\u001b[0;31mNameError\u001b[0m: name 'datasets' is not defined"
     ]
    }
   ],
   "source": [
    "%%time\n",
    "computing_index = 1\n",
    "\n",
    "if computing_index:\n",
    "    sigma = 4\n",
    "    parameter_i = datasets_conv[0].models.parameters['index']\n",
    "    parameter_i.scan_n_sigma = sigma\n",
    "    stat_profile_i = fit.stat_profile([datasets[0]], parameter_i, reoptimize= True)\n",
    "    stat_profile_i['scale_scan'] = stat_profile_i.pop(next(iter(stat_profile_i)) )    \n",
    "    with open('data/5_scan_index'+case+'.yaml', 'w') as file:\n",
    "        documents = yaml.dump(make_writable(stat_profile_i), file)\n",
    "    \n",
    "else:\n",
    "    with open('data/5_scan_index'+case+'.yaml') as file:\n",
    "        stat_profile_i = yaml.load( file, Loader=yaml.FullLoader)\n",
    "\n",
    "    \n",
    "    "
   ]
  },
  {
   "cell_type": "code",
   "execution_count": 16,
   "id": "e32512ba",
   "metadata": {
    "scrolled": true
   },
   "outputs": [
    {
     "ename": "FileNotFoundError",
     "evalue": "[Errno 2] No such file or directory: 'data/5_scan_index_N.yaml'",
     "output_type": "error",
     "traceback": [
      "\u001b[0;31m---------------------------------------------------------------------------\u001b[0m",
      "\u001b[0;31mFileNotFoundError\u001b[0m                         Traceback (most recent call last)",
      "File \u001b[0;32m<timed exec>:13\u001b[0m\n",
      "File \u001b[0;32m/home/wecapstor1/caph/mppi045h/anaconda3/envs/gammapy-dev/lib/python3.8/site-packages/IPython/core/interactiveshell.py:284\u001b[0m, in \u001b[0;36m_modified_open\u001b[0;34m(file, *args, **kwargs)\u001b[0m\n\u001b[1;32m    277\u001b[0m \u001b[38;5;28;01mif\u001b[39;00m file \u001b[38;5;129;01min\u001b[39;00m {\u001b[38;5;241m0\u001b[39m, \u001b[38;5;241m1\u001b[39m, \u001b[38;5;241m2\u001b[39m}:\n\u001b[1;32m    278\u001b[0m     \u001b[38;5;28;01mraise\u001b[39;00m \u001b[38;5;167;01mValueError\u001b[39;00m(\n\u001b[1;32m    279\u001b[0m         \u001b[38;5;124mf\u001b[39m\u001b[38;5;124m\"\u001b[39m\u001b[38;5;124mIPython won\u001b[39m\u001b[38;5;124m'\u001b[39m\u001b[38;5;124mt let you open fd=\u001b[39m\u001b[38;5;132;01m{\u001b[39;00mfile\u001b[38;5;132;01m}\u001b[39;00m\u001b[38;5;124m by default \u001b[39m\u001b[38;5;124m\"\u001b[39m\n\u001b[1;32m    280\u001b[0m         \u001b[38;5;124m\"\u001b[39m\u001b[38;5;124mas it is likely to crash IPython. If you know what you are doing, \u001b[39m\u001b[38;5;124m\"\u001b[39m\n\u001b[1;32m    281\u001b[0m         \u001b[38;5;124m\"\u001b[39m\u001b[38;5;124myou can use builtins\u001b[39m\u001b[38;5;124m'\u001b[39m\u001b[38;5;124m open.\u001b[39m\u001b[38;5;124m\"\u001b[39m\n\u001b[1;32m    282\u001b[0m     )\n\u001b[0;32m--> 284\u001b[0m \u001b[38;5;28;01mreturn\u001b[39;00m \u001b[43mio_open\u001b[49m\u001b[43m(\u001b[49m\u001b[43mfile\u001b[49m\u001b[43m,\u001b[49m\u001b[43m \u001b[49m\u001b[38;5;241;43m*\u001b[39;49m\u001b[43margs\u001b[49m\u001b[43m,\u001b[49m\u001b[43m \u001b[49m\u001b[38;5;241;43m*\u001b[39;49m\u001b[38;5;241;43m*\u001b[39;49m\u001b[43mkwargs\u001b[49m\u001b[43m)\u001b[49m\n",
      "\u001b[0;31mFileNotFoundError\u001b[0m: [Errno 2] No such file or directory: 'data/5_scan_index_N.yaml'"
     ]
    }
   ],
   "source": [
    "%%time\n",
    "computing_index_N = 0\n",
    "if computing_index_N:\n",
    "    sigma = 5\n",
    "    parameter_i = datasets_conv_N[0].models.parameters['index']\n",
    "    parameter_i.scan_n_sigma = sigma\n",
    "    stat_profile_N_i = fit.stat_profile([datasets_N[0]], parameter_i, reoptimize = True)\n",
    "    stat_profile_N_i['scale_scan'] = stat_profile_N_i.pop(next(iter(stat_profile_N_i)) )    \n",
    "    \n",
    "    with open('data/5_scan_index_N'+case+'.yaml', 'w') as file:\n",
    "        documents = yaml.dump(make_writable(stat_profile_N_i), file)\n",
    "    \n",
    "else:\n",
    "    with open('data/5_scan_index_N'+case+'.yaml') as file:\n",
    "        stat_profile_N_i = yaml.load( file, Loader=yaml.FullLoader)\n",
    "\n",
    "    \n",
    "    "
   ]
  },
  {
   "cell_type": "code",
   "execution_count": 17,
   "id": "3341fec9",
   "metadata": {},
   "outputs": [],
   "source": [
    "import sys\n",
    "sys.path.append(config['local']['path']+'/nuisance_summary/Eff_area')\n",
    "import upper_limit_18_02"
   ]
  },
  {
   "cell_type": "code",
   "execution_count": 18,
   "id": "f1bd8e5f",
   "metadata": {},
   "outputs": [],
   "source": [
    "color_standard = 'crimson'; color_standard_e = 'palevioletred'  #mediumvioletred\n",
    "color_nui = 'navy'; color_nui_e = 'cornflowerblue'\n",
    "color_input = 'darkorange'\n",
    "color_rnd = 'darkgreen'\n"
   ]
  },
  {
   "cell_type": "code",
   "execution_count": 19,
   "id": "3ace26d6",
   "metadata": {},
   "outputs": [
    {
     "ename": "NameError",
     "evalue": "name 'stat_profile_N_i' is not defined",
     "output_type": "error",
     "traceback": [
      "\u001b[0;31m---------------------------------------------------------------------------\u001b[0m",
      "\u001b[0;31mNameError\u001b[0m                                 Traceback (most recent call last)",
      "Cell \u001b[0;32mIn[19], line 2\u001b[0m\n\u001b[1;32m      1\u001b[0m fig \u001b[38;5;241m=\u001b[39m plt\u001b[38;5;241m.\u001b[39mfigure()\n\u001b[0;32m----> 2\u001b[0m ll_N_a \u001b[38;5;241m=\u001b[39m \u001b[43mstat_profile_N_i\u001b[49m\u001b[38;5;241m.\u001b[39mcopy()\n\u001b[1;32m      3\u001b[0m ul_N_a \u001b[38;5;241m=\u001b[39m upper_limit_18_02\u001b[38;5;241m.\u001b[39mupper_limit(ll_N_a,\u001b[38;5;241m0\u001b[39m,\u001b[38;5;241m0\u001b[39m)\n\u001b[1;32m      4\u001b[0m L_N_a, x_N_a \u001b[38;5;241m=\u001b[39m ul_N_a\u001b[38;5;241m.\u001b[39minterpolate()\n",
      "\u001b[0;31mNameError\u001b[0m: name 'stat_profile_N_i' is not defined"
     ]
    },
    {
     "data": {
      "text/plain": [
       "<Figure size 640x480 with 0 Axes>"
      ]
     },
     "metadata": {},
     "output_type": "display_data"
    }
   ],
   "source": [
    "fig = plt.figure()\n",
    "ll_N_a = stat_profile_N_i.copy()\n",
    "ul_N_a = upper_limit_18_02.upper_limit(ll_N_a,0,0)\n",
    "L_N_a, x_N_a = ul_N_a.interpolate()\n",
    "plt.plot(x_N_a, L_N_a(x_N_a),label = \"Nuisance\", color = color_nui)\n",
    "\n",
    "\n",
    "ll_a = stat_profile_i.copy()\n",
    "ul_a = upper_limit_18_02.upper_limit(ll_a,0,0)\n",
    "L_a, x_a = ul_a.interpolate()\n",
    "plt.plot(x_a, L_a(x_a),label = \"standard\", color = color_standard)\n",
    "\n",
    "index_err = datasets[0].models[0].parameters['index'].error\n",
    "index_err_N = datasets_N[0].models[0].parameters['index'].error\n",
    "\n",
    "\n",
    "\n",
    "\n",
    "min_, er_neg, er_pos = ul_N_a.likelihood_error_asymmetric()\n",
    "min_ = min_[0]; er_neg = er_neg[0]; er_pos = er_pos[0]; \n",
    "ax = plt.gca()\n",
    "ylim= ax.get_ylim()\n",
    "ax.fill_between(  [min_-er_neg, min_+ er_pos], ylim[0], ylim[1], alpha = 0.6, \n",
    "                label = '1$\\sigma_{stat+sys}$' +f'  = -{er_neg:.2} +{er_pos:.2} \\n({index_err_N:.2})'\n",
    "                , color = color_nui_e)\n",
    "min_, er_neg, er_pos = ul_a.likelihood_error_asymmetric()\n",
    "min_ = min_[0]; er_neg = er_neg[0]; er_pos = er_pos[0]; \n",
    "ax.fill_between(  [min_-er_neg, min_+ er_pos], ylim[0], ylim[1],  alpha = 0.6, \n",
    "                label = '1$\\sigma_{stat}$' +f' = -{er_neg:.2} +{er_pos:.2} \\n({index_err:.2})'\n",
    "                , color = color_standard_e)\n",
    "\n",
    "ylim = ax.get_ylim()\n",
    "ax.vlines(2.3, ylim[0], ylim[1], color = color_input)\n",
    "\n",
    "plt.xlabel(\"Source Index\")\n",
    "plt.ylabel(\"-2log (L) [arb. unit]\")\n",
    "plt.legend()\n",
    "#plt.ylim(ylim[0], ylim[1]-25)\n",
    "plt.title(\"Sys = 10%\")\n",
    "\n",
    "fig.savefig(\"plots/5_stat_scan_index.png\")"
   ]
  },
  {
   "cell_type": "markdown",
   "id": "829512e0",
   "metadata": {},
   "source": [
    "## Stat Profiles for Source Signal"
   ]
  },
  {
   "cell_type": "code",
   "execution_count": null,
   "id": "bf0bc299",
   "metadata": {},
   "outputs": [],
   "source": [
    "%%time\n",
    "computing_amplitude = 0\n",
    "\n",
    "if computing_amplitude:\n",
    "    sigma = 3\n",
    "    parameter_a = datasets[0].models.parameters['amplitude']\n",
    "    parameter_a.scan_n_sigma = sigma\n",
    "    stat_profile_a = fit.stat_profile([datasets[0]], parameter_a, reoptimize= True)\n",
    "    stat_profile_a['scale_scan'] = stat_profile_a.pop(next(iter(stat_profile_a)) )    \n",
    "    with open('data/5_scan_amplitude'+case+'.yaml', 'w') as file:\n",
    "        documents = yaml.dump(make_writable(stat_profile_a), file)\n",
    "    \n",
    "else:\n",
    "    with open('data/5_scan_amplitude'+case+'.yaml') as file:\n",
    "        stat_profile_a = yaml.load( file, Loader=yaml.FullLoader)\n",
    "\n",
    "    \n",
    "    "
   ]
  },
  {
   "cell_type": "code",
   "execution_count": null,
   "id": "42988bc3",
   "metadata": {},
   "outputs": [],
   "source": [
    "%%time\n",
    "if computing_amplitude:\n",
    "    sigma = 3\n",
    "    parameter_a = datasets_N[0].models.parameters['amplitude']\n",
    "    parameter_a.scan_n_sigma = sigma\n",
    "    stat_profile_N_a = fit.stat_profile([datasets_N[0]], parameter_a, reoptimize = True)\n",
    "    stat_profile_N_a['scale_scan'] = stat_profile_N_a.pop(next(iter(stat_profile_N_a)) )    \n",
    "    \n",
    "    with open('data/5_scan_amplitude_N'+case+'.yaml', 'w') as file:\n",
    "        documents = yaml.dump(make_writable(stat_profile_N_a), file)\n",
    "    \n",
    "else:\n",
    "    with open('data/5_scan_amplitude_N'+case+'.yaml') as file:\n",
    "        stat_profile_N_a = yaml.load( file, Loader=yaml.FullLoader)\n",
    "\n",
    "    \n",
    "    "
   ]
  },
  {
   "cell_type": "code",
   "execution_count": null,
   "id": "b2a20995",
   "metadata": {},
   "outputs": [],
   "source": [
    "fig = plt.figure()\n",
    "ll_N_a = stat_profile_N_a.copy()\n",
    "ul_N_a = upper_limit_18_02.upper_limit(ll_N_a,0,0)\n",
    "L_N_a, x_N_a = ul_N_a.interpolate()\n",
    "plt.plot(x_N_a, L_N_a(x_N_a),label = \"Nuisance\",color = color_nui)\n",
    "\n",
    "\n",
    "ll_a = stat_profile_a.copy()\n",
    "ul_a = upper_limit_18_02.upper_limit(ll_a,0,0)\n",
    "L_a, x_a = ul_a.interpolate()\n",
    "plt.plot(x_a, L_a(x_a),label = \"standard\", color = color_standard)\n",
    "\n",
    "amplitude_err = datasets[0].models[0].parameters['amplitude'].error\n",
    "amplitude_err_N = datasets_N[0].models[0].parameters['amplitude'].error\n",
    "\n",
    "\n",
    "\n",
    "min_, er_neg, er_pos = ul_N_a.likelihood_error_asymmetric()\n",
    "min_ = min_[0]; er_neg = er_neg[0]; er_pos = er_pos[0]; \n",
    "ax = plt.gca()\n",
    "ylim= ax.get_ylim()\n",
    "ax.fill_between(  [min_-er_neg, min_+ er_pos], ylim[0], ylim[1], alpha = 0.6, \n",
    "                label = '1$\\sigma_{stat+sys}$' +f'  = -{er_neg:.2} +{er_pos:.2} \\n({amplitude_err_N:.2})'\n",
    "                , color = color_nui_e)\n",
    "min_, er_neg, er_pos = ul_a.likelihood_error_asymmetric()\n",
    "min_ = min_[0]; er_neg = er_neg[0]; er_pos = er_pos[0]; \n",
    "ax.fill_between(  [min_-er_neg, min_+ er_pos], ylim[0], ylim[1],  alpha = 0.6, \n",
    "                label = '1$\\sigma_{stat}$' +f'  = -{er_neg:.2} +{er_pos:.2} \\n({amplitude_err:.2})'\n",
    "                , color = color_standard_e)\n",
    "\n",
    "\n",
    "plt.xlabel(\"Source amplitude [1/cm2sTeV]\")\n",
    "plt.ylabel(\"-2log (L) [arb. unit]\")\n",
    "plt.legend()\n",
    "#plt.ylim(ylim[0], ylim[1]-25)\n",
    "plt.title(\"Sys = 10%\")\n",
    "ylim = ax.get_ylim()\n",
    "ax.vlines(1e-12, ylim[0], ylim[1], color = color_input)\n",
    "fig.savefig(\"plots/5_stat_scan_amplitude.png\")"
   ]
  },
  {
   "cell_type": "markdown",
   "id": "69356a68",
   "metadata": {},
   "source": [
    "## Stat Profiles for Source Cutoff"
   ]
  },
  {
   "cell_type": "code",
   "execution_count": null,
   "id": "5c951f8c",
   "metadata": {},
   "outputs": [],
   "source": [
    "%%time\n",
    "computing_lambda = 1\n",
    "\n",
    "if computing_lambda:\n",
    "    sigma = 3\n",
    "    parameter_c = datasets[0].models.parameters['lambda_']\n",
    "    parameter_c.scan_n_sigma = sigma\n",
    "    stat_profile_c = fit.stat_profile([datasets[0]], parameter_c, reoptimize= True)\n",
    "    stat_profile_c['scale_scan'] = stat_profile_c.pop(next(iter(stat_profile_c)) )    \n",
    "    with open('data/5_scan_lambda_'+case+'.yaml', 'w') as file:\n",
    "        documents = yaml.dump(make_writable(stat_profile_c), file)\n",
    "    \n",
    "else:\n",
    "    with open('data/5_scan_lambda_'+case+'.yaml') as file:\n",
    "        stat_profile_c = yaml.load( file, Loader=yaml.FullLoader)\n",
    "\n",
    "    \n",
    "    "
   ]
  },
  {
   "cell_type": "code",
   "execution_count": null,
   "id": "c952306d",
   "metadata": {},
   "outputs": [],
   "source": [
    "%%time\n",
    "if computing_lambda:\n",
    "    sigma = 4\n",
    "    parameter_c = datasets_N[0].models.parameters['lambda_']\n",
    "    parameter_c.scan_n_sigma = sigma\n",
    "    stat_profile_N_c = fit.stat_profile([datasets_N[0]], parameter_c, reoptimize = True)\n",
    "    stat_profile_N_c['scale_scan'] = stat_profile_N_c.pop(next(iter(stat_profile_N_c)) )    \n",
    "    \n",
    "    with open('data/5_scan_lambda__N'+case+'.yaml', 'w') as file:\n",
    "        documents = yaml.dump(make_writable(stat_profile_N_c), file)\n",
    "    \n",
    "else:\n",
    "    with open('data/5_scan_lambda__N'+case+'.yaml') as file:\n",
    "        stat_profile_N_c = yaml.load( file, Loader=yaml.FullLoader)\n",
    "\n",
    "    \n",
    "    "
   ]
  },
  {
   "cell_type": "code",
   "execution_count": null,
   "id": "63f05ea5",
   "metadata": {},
   "outputs": [],
   "source": [
    "fig = plt.figure()\n",
    "ll_N_c = stat_profile_N_c.copy()\n",
    "ul_N_c = upper_limit_18_02.upper_limit(ll_N_c,0,0)\n",
    "L_N_c, x_N_c = ul_N_c.interpolate()\n",
    "plt.plot(x_N_c, L_N_c(x_N_c),label = \"Nuisance\",color = color_nui)\n",
    "\n",
    "\n",
    "ll_c = stat_profile_c.copy()\n",
    "ul_c = upper_limit_18_02.upper_limit(ll_c,0,0)\n",
    "L_c, x_c = ul_c.interpolate()\n",
    "plt.plot(x_c, L_c(x_c),label = \"standard\", color = color_standard)\n",
    "\n",
    "amplitude_err = datasets[0].models[0].parameters['lambda_'].error\n",
    "amplitude_err_N = datasets_N[0].models[0].parameters['lambda_'].error\n",
    "\n",
    "\n",
    "\n",
    "min_, er_neg, er_pos = ul_N_c.likelihood_error_asymmetric()\n",
    "min_ = min_[0]; er_neg = er_neg[0]; er_pos = er_pos[0]; \n",
    "ax = plt.gca()\n",
    "ylim= ax.get_ylim()\n",
    "ax.fill_between(  [min_-er_neg, min_+ er_pos], ylim[0], ylim[1], alpha = 0.6, \n",
    "                label = '1$\\sigma_{stat+sys}$' +f'  = -{er_neg:.2} +{er_pos:.2} \\n({amplitude_err_N:.2})'\n",
    "                , color = color_nui_e)\n",
    "min_, er_neg, er_pos = ul_c.likelihood_error_asymmetric()\n",
    "min_ = min_[0]; er_neg = er_neg[0]; er_pos = er_pos[0]; \n",
    "ax.fill_between(  [min_-er_neg, min_+ er_pos], ylim[0], ylim[1],  alpha = 0.6, \n",
    "                label = '1$\\sigma_{stat}$' +f'                = -{er_neg:.2} +{er_pos:.2} \\n({amplitude_err:.2})'\n",
    "                , color = color_standard_e)\n",
    "\n",
    "\n",
    "plt.xlabel(\"Source Cutoff [1/TeV]\")\n",
    "plt.ylabel(\"-2log (L) [arb. unit]\")\n",
    "plt.legend()\n",
    "#plt.ylim(ylim[0], ylim[1]-25)\n",
    "plt.title(\"Sys = 10%\")\n",
    "ylim = ax.get_ylim()\n",
    "ax.vlines(0.1, ylim[0], ylim[1], color = color_input)\n",
    "fig.savefig(\"plots/5_stat_scan_lambda\"+case+\".png\")"
   ]
  },
  {
   "cell_type": "code",
   "execution_count": null,
   "id": "e6e780bc",
   "metadata": {},
   "outputs": [],
   "source": []
  },
  {
   "cell_type": "code",
   "execution_count": null,
   "id": "033cbe9a",
   "metadata": {},
   "outputs": [],
   "source": []
  },
  {
   "cell_type": "code",
   "execution_count": null,
   "id": "23a8c6fa",
   "metadata": {},
   "outputs": [],
   "source": []
  }
 ],
 "metadata": {
  "kernelspec": {
   "display_name": "Python 3 (ipykernel)",
   "language": "python",
   "name": "python3"
  },
  "language_info": {
   "codemirror_mode": {
    "name": "ipython",
    "version": 3
   },
   "file_extension": ".py",
   "mimetype": "text/x-python",
   "name": "python",
   "nbconvert_exporter": "python",
   "pygments_lexer": "ipython3",
   "version": "3.8.16"
  },
  "varInspector": {
   "cols": {
    "lenName": 16,
    "lenType": 16,
    "lenVar": 40
   },
   "kernels_config": {
    "python": {
     "delete_cmd_postfix": "",
     "delete_cmd_prefix": "del ",
     "library": "var_list.py",
     "varRefreshCmd": "print(var_dic_list())"
    },
    "r": {
     "delete_cmd_postfix": ") ",
     "delete_cmd_prefix": "rm(",
     "library": "var_list.r",
     "varRefreshCmd": "cat(var_dic_list()) "
    }
   },
   "types_to_exclude": [
    "module",
    "function",
    "builtin_function_or_method",
    "instance",
    "_Feature"
   ],
   "window_display": false
  }
 },
 "nbformat": 4,
 "nbformat_minor": 5
}
