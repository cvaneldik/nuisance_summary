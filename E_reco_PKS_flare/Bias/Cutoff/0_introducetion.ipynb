{
 "cells": [
  {
   "cell_type": "markdown",
   "id": "db75a88f",
   "metadata": {},
   "source": [
    "## Runnning with gammapy-dev/IRF_model\n",
    "Fitting asimov datasets with the nuisance parameter bias"
   ]
  },
  {
   "cell_type": "markdown",
   "id": "0f41225e",
   "metadata": {},
   "source": [
    "### Setup"
   ]
  },
  {
   "cell_type": "code",
   "execution_count": 1,
   "id": "c102068e",
   "metadata": {
    "lines_to_next_cell": 2
   },
   "outputs": [],
   "source": [
    "import matplotlib.pyplot as plt\n",
    "import numpy as np\n",
    "import astropy.units as u\n",
    "from gammapy.maps import Map\n",
    "from astropy.coordinates import SkyCoord, Angle\n",
    "from gammapy.modeling import Fit,  Parameters, Covariance , Parameter\n",
    "from gammapy.datasets import MapDataset ,Datasets, FluxPointsDataset\n",
    "from gammapy.modeling.models import (\n",
    "    PowerLawSpectralModel,\n",
    "    SkyModel,\n",
    "    PointSpatialModel,\n",
    "    PowerLawNormSpectralModel,\n",
    "    Models,\n",
    "    SpatialModel,\n",
    "    FoVBackgroundModel,\n",
    "    PiecewiseNormSpectralModel,\n",
    ")\n",
    "from gammapy.estimators import TSMapEstimator, ExcessMapEstimator\n",
    "from gammapy.estimators import FluxPoints, FluxPointsEstimator\n",
    "\n",
    "from regions import CircleSkyRegion, RectangleSkyRegion\n",
    "import yaml\n",
    "import sys\n",
    "sys.path.append('../../../')\n",
    "import Dataset_load \n",
    "\n",
    "from  Dataset_Setup import Setup, GaussianCovariance_matrix"
   ]
  },
  {
   "cell_type": "markdown",
   "id": "94810ae8-b6ca-4cad-b2a2-4bf8028751c0",
   "metadata": {
    "lines_to_next_cell": 2
   },
   "source": [
    "## Methods"
   ]
  },
  {
   "cell_type": "code",
   "execution_count": 2,
   "id": "9efd87bf-03db-41d8-97f8-8813df2b7562",
   "metadata": {},
   "outputs": [],
   "source": [
    "def plot_asimov_spectrum(fig, ax):\n",
    "    model = dataset_asimov_N.models[0].spectral_model\n",
    "    model.plot(\n",
    "        energy_bounds=[0.3, 100] * u.TeV,\n",
    "        energy_power=2,\n",
    "        ax=ax,\n",
    "        color=colors[1],\n",
    "        label=\"Asimov Fit with nui.\",\n",
    "        linestyle=\"solid\",\n",
    "    )\n",
    "\n",
    "    model.plot_error(\n",
    "        energy_bounds=[0.3, 100] * u.TeV,\n",
    "        energy_power=2,\n",
    "        ax=ax,\n",
    "        facecolor=colors[3],\n",
    "        label=\"\",\n",
    "        alpha=1,\n",
    "    )\n",
    "\n",
    "    model = dataset_asimov.models[0].spectral_model\n",
    "    model.plot(\n",
    "        energy_bounds=[0.3, 100] * u.TeV,\n",
    "        energy_power=2,\n",
    "        ax=ax,\n",
    "        color=colors[0],\n",
    "        linestyle=\"dashed\",\n",
    "        label=\"Asimov Fit w/0 nui.\",\n",
    "    )\n",
    "    model.plot_error(\n",
    "        energy_bounds=[0.3, 100] * u.TeV,\n",
    "        energy_power=2,\n",
    "        ax=ax,\n",
    "        facecolor=colors[2],\n",
    "        label=\"\",\n",
    "        alpha=1,\n",
    "    )\n",
    "\n",
    "    model = dataset_asimov.models[0]\n",
    "    dataset_asimov.models[0].spectral_model.plot(\n",
    "        energy_bounds=[0.3, 100] * u.TeV,\n",
    "        energy_power=2,\n",
    "        ax=ax,\n",
    "        color=\"black\",\n",
    "        label=\"Input\",\n",
    "        linestyle=\"dotted\",\n",
    "    )\n",
    "\n",
    "    ax.legend(loc=\"lower left\")\n",
    "    ax.set_xlim(0.3, 100)\n",
    "    ax.set_ylim(1e-13, 2e-12)"
   ]
  },
  {
   "cell_type": "markdown",
   "id": "23adcef0",
   "metadata": {
    "tags": []
   },
   "source": [
    "## Import"
   ]
  },
  {
   "cell_type": "code",
   "execution_count": 3,
   "id": "ebe7f730",
   "metadata": {},
   "outputs": [],
   "source": [
    "config = Dataset_load.load_config()\n",
    "colors = config['colors']['three']\n",
    "\n",
    "colors\n",
    "import ast\n",
    "\n",
    "colors[1] = ast.literal_eval(colors[1])\n",
    "colors[2] = ast.literal_eval(colors[2])\n",
    "colors[3] = ast.literal_eval(colors[3])"
   ]
  },
  {
   "cell_type": "markdown",
   "id": "933e7254-594c-4249-b991-0a381a016448",
   "metadata": {},
   "source": [
    "### Datasets"
   ]
  },
  {
   "cell_type": "code",
   "execution_count": 4,
   "id": "d5349d62",
   "metadata": {},
   "outputs": [
    {
     "name": "stdout",
     "output_type": "stream",
     "text": [
      "loaded dataset:\n",
      "/home/katrin/Documents/nuisance_summary/PKS_flare/HESS_public/dataset-simulated-ecpl.fits.gz\n"
     ]
    }
   ],
   "source": [
    "scaled_amplitude = Parameter(\"amplitude\", value=1e-11)\n",
    "lambda_ = Parameter(\"lambda_\", value=1 / 60)\n",
    "\n",
    "dataset_asimov = Dataset_load.create_asimov(\n",
    "    model=\"ecpl\", source=\"PKSflare\", parameters=Parameters([scaled_amplitude, lambda_])\n",
    ")"
   ]
  },
  {
   "cell_type": "code",
   "execution_count": 5,
   "id": "36be36f0",
   "metadata": {
    "lines_to_next_cell": 2
   },
   "outputs": [],
   "source": [
    "norm = 0.0\n",
    "tilt = 0.0\n",
    "bias = 0.1\n",
    "resolution = 0.0\n",
    "\n",
    "bias_values = [0,0.05, 0.1, 0.15, 0.2]"
   ]
  },
  {
   "cell_type": "code",
   "execution_count": 6,
   "id": "16242faa",
   "metadata": {
    "lines_to_next_cell": 2
   },
   "outputs": [],
   "source": [
    "setup = Setup(dataset_input=dataset_asimov)\n",
    "datasets , datasets_N = [], []\n",
    "#setup.set_up_irf_sys(bias, resolution, norm, tilt)\n",
    "for i in range(len(bias_values)):\n",
    "    a, an = setup.run()\n",
    "    # irf model\n",
    "    setup.set_irf_model(an)\n",
    "    an.models.parameters['resolution'].frozen = True\n",
    "    an.irf_model.parameters['tilt'].frozen = True\n",
    "    an.irf_model.parameters['norm'].frozen = True\n",
    "    setup.set_irf_prior(an, bias, resolution, norm, tilt)\n",
    "    datasets.append(a)\n",
    "    datasets_N.append(an)\n",
    "\n",
    "dataset_asimov, dataset_asimov_N = setup.run()\n",
    "# irf model\n",
    "setup.set_irf_model(dataset_asimov_N)\n",
    "dataset_asimov_N.models.parameters['resolution'].frozen = True\n",
    "dataset_asimov_N.irf_model.parameters['tilt'].frozen = True\n",
    "dataset_asimov_N.irf_model.parameters['norm'].frozen = True\n",
    "setup.set_irf_prior(dataset_asimov_N, bias, resolution, norm, tilt)"
   ]
  },
  {
   "cell_type": "code",
   "execution_count": 7,
   "id": "4a481094",
   "metadata": {},
   "outputs": [
    {
     "name": "stdout",
     "output_type": "stream",
     "text": [
      "    type        name       value         unit        error      min        max     frozen is_norm link     prior    \n",
      "------------ ---------- ----------- -------------- --------- ---------- ---------- ------ ------- ---- -------------\n",
      "    spectral      index  2.3000e+00                0.000e+00        nan        nan  False   False               None\n",
      "    spectral  amplitude  1.0000e-11 TeV-1 s-1 cm-2 0.000e+00        nan        nan  False    True               None\n",
      "    spectral  reference  1.0000e+00            TeV 0.000e+00        nan        nan   True   False               None\n",
      "    spectral    lambda_  1.6667e-02          TeV-1 0.000e+00        nan        nan  False   False               None\n",
      "    spectral      alpha  1.0000e+00                0.000e+00        nan        nan   True   False               None\n",
      "     spatial      lon_0  3.2968e+02            deg 0.000e+00  3.287e+02  3.307e+02  False   False               None\n",
      "     spatial      lat_0 -3.0222e+01            deg 0.000e+00 -3.122e+01 -2.922e+01  False   False               None\n",
      "    spectral       norm  1.0000e+00                0.000e+00        nan        nan  False    True               None\n",
      "    spectral       tilt  0.0000e+00                0.000e+00        nan        nan  False   False               None\n",
      "    spectral  reference  1.0000e+00            TeV 0.000e+00        nan        nan   True   False               None\n",
      "e_reco_model       bias  0.0000e+00                0.000e+00        nan        nan  False   False      GaussianPrior\n",
      "e_reco_model resolution  0.0000e+00                0.000e+00        nan        nan   True   False               None\n",
      "    spectral       norm  0.0000e+00                0.000e+00        nan        nan   True    True               None\n",
      "    spectral       tilt  0.0000e+00                0.000e+00        nan        nan   True   False               None\n",
      "    spectral  reference  1.0000e+00            TeV 0.000e+00        nan        nan   True   False               None\n"
     ]
    }
   ],
   "source": [
    "print(dataset_asimov_N.models.parameters.to_table())"
   ]
  },
  {
   "cell_type": "code",
   "execution_count": 8,
   "id": "a5d67458",
   "metadata": {},
   "outputs": [
    {
     "data": {
      "text/plain": [
       "Text(0, 0.5, 'Model Pred. []')"
      ]
     },
     "execution_count": 8,
     "metadata": {},
     "output_type": "execute_result"
    },
    {
     "data": {
      "image/png": "[encoded data removed]",
      "text/plain": [
       "<Figure size 640x480 with 1 Axes>"
      ]
     },
     "metadata": {},
     "output_type": "display_data"
    }
   ],
   "source": [
    "energy_bounds = (0.4, 100 ) *u.TeV\n",
    "fig,ax = plt.subplots(1,1)\n",
    "for b in bias_values:\n",
    "    dataset_asimov_N.models.parameters['bias'].value = b\n",
    "    npred_s =     dataset_asimov_N.npred_signal(dataset_asimov_N.models[0].name)\n",
    "    npred_s = npred_s.get_spectrum().data.flatten()\n",
    "    ax.plot(dataset_asimov_N._geom.axes[0].center.value, npred_s, label = f\"Bias: {b}\")\n",
    "    \n",
    "dataset_asimov_N.models.parameters['bias'].value = 0\n",
    "    \n",
    "plt.legend()\n",
    "plt.loglog()\n",
    "plt.xlabel(\"True Energy [TeV]\")\n",
    "plt.ylabel(\"Model Pred. []\")"
   ]
  },
  {
   "cell_type": "code",
   "execution_count": null,
   "id": "a328e193",
   "metadata": {},
   "outputs": [
    {
     "name": "stdout",
     "output_type": "stream",
     "text": [
      "OptimizeResult\n",
      "\n",
      "\tbackend    : minuit\n",
      "\tmethod     : migrad\n",
      "\tsuccess    : False\n",
      "\tmessage    : Optimization failed. Estimated distance to minimum too large.\n",
      "\tnfev       : 346\n",
      "\ttotal stat : 813156.62\n",
      "\n",
      "CovarianceResult\n",
      "\n",
      "\tbackend    : minuit\n",
      "\tmethod     : hesse\n",
      "\tsuccess    : True\n",
      "\tmessage    : Hesse terminated successfully.\n",
      "\n",
      "OptimizeResult\n",
      "\n",
      "\tbackend    : minuit\n",
      "\tmethod     : migrad\n",
      "\tsuccess    : True\n",
      "\tmessage    : Optimization terminated successfully.\n",
      "\tnfev       : 441\n",
      "\ttotal stat : 813160.49\n",
      "\n",
      "CovarianceResult\n",
      "\n",
      "\tbackend    : minuit\n",
      "\tmethod     : hesse\n",
      "\tsuccess    : True\n",
      "\tmessage    : Hesse terminated successfully.\n",
      "\n"
     ]
    }
   ],
   "source": [
    "bias_values = [0,0.05, 0.1, 0.15, 0.2]\n",
    "energy_bounds = (0.4, 100 ) *u.TeV\n",
    "\n",
    "fit = Fit()\n",
    "    \n",
    "for i, b in enumerate(bias_values):\n",
    "    dataset_asimov_N.models.parameters['bias'].value = b\n",
    "    \n",
    "    datasets[i].edisp = dataset_asimov_N.npred_edisp()\n",
    "    datasets_N[i].edisp = dataset_asimov_N.npred_edisp()\n",
    "    \n",
    "    result = fit.run(datasets[i])\n",
    "    try:\n",
    "        result = fit.run(datasets_N[i])\n",
    "    except:\n",
    "        print(f\"failed for bias: {b}\")\n",
    "    print(result)\n",
    "    \n"
   ]
  },
  {
   "cell_type": "code",
   "execution_count": null,
   "id": "816c90c2",
   "metadata": {},
   "outputs": [],
   "source": [
    "len(datasets)"
   ]
  },
  {
   "cell_type": "code",
   "execution_count": null,
   "id": "11b633c2",
   "metadata": {},
   "outputs": [],
   "source": [
    "len(bias_values)"
   ]
  },
  {
   "cell_type": "code",
   "execution_count": null,
   "id": "d1e7c338",
   "metadata": {},
   "outputs": [],
   "source": [
    "fig,ax = plt.subplots(1,1)\n",
    "for i, d in enumerate(datasets):\n",
    "    d.models[0].spectral_model.plot(energy_bounds = energy_bounds, ax =ax,\n",
    "                                    label = f\"Bias: {bias_values[i]}\")\n",
    "plt.legend()\n",
    "plt.loglog()\n",
    "plt.xlabel(\"True Energy [TeV]\")\n",
    "plt.ylabel(\"Flux\")"
   ]
  },
  {
   "cell_type": "code",
   "execution_count": null,
   "id": "13dadbda",
   "metadata": {},
   "outputs": [],
   "source": [
    "colors = plt.rcParams['axes.prop_cycle'].by_key()['color']\n",
    "\n",
    "fig,ax = plt.subplots(1,1)\n",
    "for i, d in enumerate(datasets):\n",
    "    npred_s = d.npred_signal(dataset_asimov_N.models[0].name)\n",
    "    npred_s = npred_s.get_spectrum().data.flatten()\n",
    "    ax.plot(d._geom.axes[0].center.value, npred_s, label = f\"Bias: {bias_values[i]}\",\n",
    "           color = colors[i])\n",
    "    try:\n",
    "        npred_s = datasets_N[i].npred_signal(dataset_asimov_N.models[0].name)\n",
    "        npred_s = npred_s.get_spectrum().data.flatten()\n",
    "        ax.plot(d._geom.axes[0].center.value, npred_s, linestyle = 'dashed', label = f\"Bias: {bias_values[i]}\",\n",
    "               color = colors[i])\n",
    "    except:\n",
    "        print(p)\n",
    "    \n",
    "    dataset_asimov_N.models.parameters['bias'].value = bias_values[i]\n",
    "    npred_s =     dataset_asimov_N.npred_signal(dataset_asimov_N.models[0].name)\n",
    "    npred_s = npred_s.get_spectrum().data.flatten()\n",
    "    ax.plot(dataset_asimov_N._geom.axes[0].center.value, npred_s, 'x', label = f\"Bias: {b}\",\n",
    "           color = colors[i])\n",
    "    \n",
    "plt.legend()\n",
    "plt.loglog()\n",
    "plt.xlabel(\"True Energy [TeV]\")\n",
    "plt.ylabel(\"Flux\")"
   ]
  },
  {
   "cell_type": "code",
   "execution_count": null,
   "id": "f9ce5802",
   "metadata": {},
   "outputs": [],
   "source": [
    "bias_values_s = np.array(bias_values) + 0.01"
   ]
  },
  {
   "cell_type": "code",
   "execution_count": null,
   "id": "2bfe9200",
   "metadata": {},
   "outputs": [],
   "source": [
    "fig , axs = plt.subplots(4,1, sharex = True)\n",
    "axs[0].errorbar(bias_values, [d.models.parameters['amplitude'].value for d in datasets],\n",
    "                yerr = [d.models.parameters['amplitude'].error for d in datasets], )\n",
    "axs[0].errorbar(bias_values_s, [d.models.parameters['amplitude'].value for d in datasets_N],\n",
    "                yerr = [d.models.parameters['amplitude'].error for d in datasets_N], )\n",
    "axs[0].set_ylabel(\"Amplitude\")\n",
    "axs[1].errorbar(bias_values, [d.models.parameters['index'].value for d in datasets],\n",
    "               yerr = [d.models.parameters['index'].error for d in datasets])\n",
    "axs[1].errorbar(bias_values_s, [d.models.parameters['index'].value for d in datasets_N],\n",
    "               yerr = [d.models.parameters['index'].error for d in datasets_N])\n",
    "axs[1].set_ylabel(\"index\")\n",
    "axs[2].errorbar(bias_values, [d.models.parameters['lambda_'].value for d in datasets],\n",
    "               yerr = [d.models.parameters['lambda_'].error for d in datasets])\n",
    "axs[2].errorbar(bias_values_s, [d.models.parameters['lambda_'].value for d in datasets_N],\n",
    "               yerr = [d.models.parameters['lambda_'].error for d in datasets_N])\n",
    "axs[2].set_ylabel(\"lambda_\")\n",
    "\n",
    "axs[3].errorbar(bias_values_s, [d.models.parameters['bias'].value for d in datasets_N],\n",
    "               yerr = [d.models.parameters['bias'].error for d in datasets_N])\n",
    "axs[3].set_ylabel(\"bias\")\n",
    "\n",
    "axs[2].set_xlabel(\"Bias %\")"
   ]
  },
  {
   "cell_type": "code",
   "execution_count": null,
   "id": "4ede2fc3",
   "metadata": {},
   "outputs": [],
   "source": [
    "for d in datasets:\n",
    "    print(d.models)"
   ]
  },
  {
   "cell_type": "code",
   "execution_count": null,
   "id": "8cc1f1b2-689c-48fe-aef1-a09f536f2e13",
   "metadata": {},
   "outputs": [],
   "source": [
    "\n",
    "energy_power = 2\n",
    "fig, axs = plt.subplots(1, 1, figsize=(4, 3))\n",
    "plot_asimov_spectrum(fig, axs)\n",
    "\n",
    "axs.set_xlim(0.3, 100)"
   ]
  },
  {
   "cell_type": "code",
   "execution_count": null,
   "id": "3ccb9ab3-b4c0-4c22-90de-b08eca412e00",
   "metadata": {},
   "outputs": [],
   "source": []
  },
  {
   "cell_type": "code",
   "execution_count": null,
   "id": "08b51e5a",
   "metadata": {},
   "outputs": [],
   "source": []
  }
 ],
 "metadata": {
  "jupytext": {
   "formats": "ipynb,py:percent"
  },
  "kernelspec": {
   "display_name": "Python 3 (ipykernel)",
   "language": "python",
   "name": "python3"
  },
  "language_info": {
   "codemirror_mode": {
    "name": "ipython",
    "version": 3
   },
   "file_extension": ".py",
   "mimetype": "text/x-python",
   "name": "python",
   "nbconvert_exporter": "python",
   "pygments_lexer": "ipython3",
   "version": "3.9.16"
  },
  "varInspector": {
   "cols": {
    "lenName": 16,
    "lenType": 16,
    "lenVar": 40
   },
   "kernels_config": {
    "python": {
     "delete_cmd_postfix": "",
     "delete_cmd_prefix": "del ",
     "library": "var_list.py",
     "varRefreshCmd": "print(var_dic_list())"
    },
    "r": {
     "delete_cmd_postfix": ") ",
     "delete_cmd_prefix": "rm(",
     "library": "var_list.r",
     "varRefreshCmd": "cat(var_dic_list()) "
    }
   },
   "types_to_exclude": [
    "module",
    "function",
    "builtin_function_or_method",
    "instance",
    "_Feature"
   ],
   "window_display": false
  }
 },
 "nbformat": 4,
 "nbformat_minor": 5
}
