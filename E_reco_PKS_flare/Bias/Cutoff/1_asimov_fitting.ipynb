{
 "cells": [
  {
   "cell_type": "markdown",
   "id": "db75a88f",
   "metadata": {},
   "source": [
    "## Runnning with gammapy-dev/IRF_model\n",
    "Fitting asimov datasets with the nuisance parameter bias"
   ]
  },
  {
   "cell_type": "markdown",
   "id": "0f41225e",
   "metadata": {},
   "source": [
    "### Setup"
   ]
  },
  {
   "cell_type": "code",
   "execution_count": 1,
   "id": "c102068e",
   "metadata": {},
   "outputs": [],
   "source": [
    "import matplotlib.pyplot as plt\n",
    "import numpy as np\n",
    "import astropy.units as u\n",
    "from gammapy.maps import Map\n",
    "from astropy.coordinates import SkyCoord, Angle\n",
    "from gammapy.modeling import Fit,  Parameters, Covariance , Parameter\n",
    "from gammapy.datasets import MapDataset ,Datasets, FluxPointsDataset\n",
    "from gammapy.modeling.models import (\n",
    "    PowerLawSpectralModel,\n",
    "    SkyModel,\n",
    "    PointSpatialModel,\n",
    "    PowerLawNormSpectralModel,\n",
    "    Models,\n",
    "    SpatialModel,\n",
    "    FoVBackgroundModel,\n",
    "    PiecewiseNormSpectralModel,\n",
    ")\n",
    "from gammapy.estimators import TSMapEstimator, ExcessMapEstimator\n",
    "from gammapy.estimators import FluxPoints, FluxPointsEstimator\n",
    "\n",
    "from regions import CircleSkyRegion, RectangleSkyRegion\n",
    "import yaml\n",
    "import sys\n",
    "sys.path.append('../../../')\n",
    "import Dataset_load \n",
    "\n",
    "from  Dataset_Setup import Setup, GaussianCovariance_matrix\n"
   ]
  },
  {
   "cell_type": "markdown",
   "id": "94810ae8-b6ca-4cad-b2a2-4bf8028751c0",
   "metadata": {
    "lines_to_next_cell": 2
   },
   "source": [
    "## Methods"
   ]
  },
  {
   "cell_type": "code",
   "execution_count": 2,
   "id": "9efd87bf-03db-41d8-97f8-8813df2b7562",
   "metadata": {},
   "outputs": [],
   "source": [
    "def plot_asimov_spectrum(fig, ax):\n",
    "    model = dataset_asimov_N.models[0].spectral_model\n",
    "    model.plot(\n",
    "        energy_bounds=[0.3, 100] * u.TeV,\n",
    "        energy_power=2,\n",
    "        ax=ax,\n",
    "        color=colors[1],\n",
    "        label=\"Asimov Fit with nui.\",\n",
    "        linestyle=\"solid\",\n",
    "    )\n",
    "\n",
    "    model.plot_error(\n",
    "        energy_bounds=[0.3, 100] * u.TeV,\n",
    "        energy_power=2,\n",
    "        ax=ax,\n",
    "        facecolor=colors[3],\n",
    "        label=\"\",\n",
    "        alpha=1,\n",
    "    )\n",
    "\n",
    "    model = dataset_asimov.models[0].spectral_model\n",
    "    model.plot(\n",
    "        energy_bounds=[0.3, 100] * u.TeV,\n",
    "        energy_power=2,\n",
    "        ax=ax,\n",
    "        color=colors[0],\n",
    "        linestyle=\"dashed\",\n",
    "        label=\"Asimov Fit w/0 nui.\",\n",
    "    )\n",
    "    model.plot_error(\n",
    "        energy_bounds=[0.3, 100] * u.TeV,\n",
    "        energy_power=2,\n",
    "        ax=ax,\n",
    "        facecolor=colors[2],\n",
    "        label=\"\",\n",
    "        alpha=1,\n",
    "    )\n",
    "\n",
    "    model = dataset_asimov.models[0]\n",
    "    dataset_asimov.models[0].spectral_model.plot(\n",
    "        energy_bounds=[0.3, 100] * u.TeV,\n",
    "        energy_power=2,\n",
    "        ax=ax,\n",
    "        color=\"black\",\n",
    "        label=\"Input\",\n",
    "        linestyle=\"dotted\",\n",
    "    )\n",
    "\n",
    "    ax.legend(loc=\"lower left\")\n",
    "    ax.set_xlim(0.3, 100)\n",
    "    ax.set_ylim(1e-13, 2e-12)"
   ]
  },
  {
   "cell_type": "markdown",
   "id": "23adcef0",
   "metadata": {
    "tags": []
   },
   "source": [
    "## Import"
   ]
  },
  {
   "cell_type": "code",
   "execution_count": 3,
   "id": "ebe7f730",
   "metadata": {},
   "outputs": [],
   "source": [
    "config = Dataset_load.load_config()\n",
    "colors = config['colors']['three']\n",
    "\n",
    "colors\n",
    "import ast\n",
    "\n",
    "colors[1] = ast.literal_eval(colors[1])\n",
    "colors[2] = ast.literal_eval(colors[2])\n",
    "colors[3] = ast.literal_eval(colors[3])"
   ]
  },
  {
   "cell_type": "markdown",
   "id": "933e7254-594c-4249-b991-0a381a016448",
   "metadata": {},
   "source": [
    "### Datasets"
   ]
  },
  {
   "cell_type": "code",
   "execution_count": 4,
   "id": "d5349d62",
   "metadata": {},
   "outputs": [
    {
     "name": "stdout",
     "output_type": "stream",
     "text": [
      "loaded dataset:\n",
      "/home/katrin/Documents/nuisance_summary/PKS_flare/HESS_public/dataset-simulated-ecpl.fits.gz\n"
     ]
    }
   ],
   "source": [
    "scaled_amplitude = Parameter(\"amplitude\", value=1e-12)\n",
    "lambda_ = Parameter(\"lambda_\", value=1 / 60)\n",
    "\n",
    "dataset_asimov = Dataset_load.create_asimov(\n",
    "    model=\"ecpl\", source=\"PKSflare\", parameters=Parameters([scaled_amplitude, lambda_])\n",
    ")"
   ]
  },
  {
   "cell_type": "code",
   "execution_count": 5,
   "id": "36be36f0",
   "metadata": {},
   "outputs": [],
   "source": [
    "norm = 0.0\n",
    "tilt = 0.0\n",
    "bias = 0.1\n",
    "resolution = 0.0"
   ]
  },
  {
   "cell_type": "code",
   "execution_count": 6,
   "id": "16242faa",
   "metadata": {},
   "outputs": [],
   "source": [
    "setup = Setup(dataset_input=dataset_asimov)\n",
    "#setup.set_up_irf_sys(bias, resolution, norm, tilt)\n",
    "dataset_asimov, dataset_asimov_N = setup.run()\n",
    "# irf model\n",
    "setup.set_irf_model(dataset_asimov_N)\n",
    "dataset_asimov_N.models.parameters['resolution'].frozen = True\n",
    "dataset_asimov_N.irf_model.parameters['tilt'].frozen = True\n",
    "dataset_asimov_N.irf_model.parameters['norm'].frozen = True\n",
    "setup.set_irf_prior(dataset_asimov_N, bias, resolution, norm, tilt)"
   ]
  },
  {
   "cell_type": "code",
   "execution_count": 7,
   "id": "4a481094",
   "metadata": {},
   "outputs": [
    {
     "name": "stdout",
     "output_type": "stream",
     "text": [
      "    type        name       value         unit        error      min        max     frozen is_norm link     prior    \n",
      "------------ ---------- ----------- -------------- --------- ---------- ---------- ------ ------- ---- -------------\n",
      "    spectral      index  2.3000e+00                0.000e+00        nan        nan  False   False               None\n",
      "    spectral  amplitude  1.0000e-12 TeV-1 s-1 cm-2 0.000e+00        nan        nan  False    True               None\n",
      "    spectral  reference  1.0000e+00            TeV 0.000e+00        nan        nan   True   False               None\n",
      "    spectral    lambda_  1.6667e-02          TeV-1 0.000e+00        nan        nan  False   False               None\n",
      "    spectral      alpha  1.0000e+00                0.000e+00        nan        nan   True   False               None\n",
      "     spatial      lon_0  3.2968e+02            deg 0.000e+00  3.287e+02  3.307e+02  False   False               None\n",
      "     spatial      lat_0 -3.0222e+01            deg 0.000e+00 -3.122e+01 -2.922e+01  False   False               None\n",
      "    spectral       norm  1.0000e+00                0.000e+00        nan        nan  False    True               None\n",
      "    spectral       tilt  0.0000e+00                0.000e+00        nan        nan  False   False               None\n",
      "    spectral  reference  1.0000e+00            TeV 0.000e+00        nan        nan   True   False               None\n",
      "e_reco_model       bias  0.0000e+00                0.000e+00        nan        nan  False   False      GaussianPrior\n",
      "e_reco_model resolution  0.0000e+00                0.000e+00        nan        nan   True   False               None\n",
      "    spectral       norm  0.0000e+00                0.000e+00        nan        nan   True    True               None\n",
      "    spectral       tilt  0.0000e+00                0.000e+00        nan        nan   True   False               None\n",
      "    spectral  reference  1.0000e+00            TeV 0.000e+00        nan        nan   True   False               None\n"
     ]
    }
   ],
   "source": [
    "print(dataset_asimov_N.models.parameters.to_table())"
   ]
  },
  {
   "cell_type": "code",
   "execution_count": 8,
   "id": "d0541de6-0912-4ed1-a958-7d4db333b637",
   "metadata": {},
   "outputs": [],
   "source": [
    "a_unit = dataset_asimov_N.models.parameters[\"amplitude\"].unit"
   ]
  },
  {
   "cell_type": "code",
   "execution_count": 9,
   "id": "2bd3de79-20b7-4590-aa25-0e18f646a221",
   "metadata": {},
   "outputs": [
    {
     "name": "stdout",
     "output_type": "stream",
     "text": [
      "CPU times: user 136 ms, sys: 39.2 ms, total: 175 ms\n",
      "Wall time: 203 ms\n"
     ]
    }
   ],
   "source": [
    "%%time\n",
    "fitting = 0\n",
    "if fitting:\n",
    "    fit = Fit(store_trace=False)\n",
    "    minuit_opts = {\"tol\": 0.001, \"strategy\": 2}\n",
    "    fit.backend = \"minuit\"\n",
    "    fit.optimize_opts = minuit_opts\n",
    "    result = fit.run([dataset_asimov])\n",
    "    result_N = fit.run([dataset_asimov_N])\n",
    "\n",
    "    dataset_asimov.models.write(\"data/1_model.yml\", overwrite=1)\n",
    "    dataset_asimov_N.models.write(\"data/1_model_N.yml\", overwrite=1)\n",
    "\n",
    "\n",
    "else:\n",
    "    m = Models.read(\"data/1_model.yml\")\n",
    "    dataset_asimov.models = Models(\n",
    "        [\n",
    "            m[0],\n",
    "            FoVBackgroundModel(\n",
    "                dataset_name=dataset_asimov.name,\n",
    "                spectral_model=m[1].spectral_model.copy(),\n",
    "            ),\n",
    "        ]\n",
    "    )\n",
    "    path = \"data/1_model_N.yml\"\n",
    "    dataset_asimov_N = Dataset_load.load_dataset_N(dataset_asimov_N, path)\n"
   ]
  },
  {
   "cell_type": "code",
   "execution_count": 10,
   "id": "76b5130f",
   "metadata": {},
   "outputs": [
    {
     "data": {
      "text/html": [
       "<pre>MapDataset\n",
       "----------\n",
       "\n",
       "  Name                            : U97-5kgJ \n",
       "\n",
       "  Total counts                    : 414501 \n",
       "  Total background counts         : 413238.21\n",
       "  Total excess counts             : 1263.01\n",
       "\n",
       "  Predicted counts                : 414499.83\n",
       "  Predicted background counts     : 413238.21\n",
       "  Predicted excess counts         : 1261.62\n",
       "\n",
       "  Exposure min                    : 1.57e-25 m2 s\n",
       "  Exposure max                    : 1.27e+11 m2 s\n",
       "\n",
       "  Number of total bins            : 6000000 \n",
       "  Number of fit bins              : 942469 \n",
       "\n",
       "  Fit statistic type              : cash\n",
       "  Fit statistic value (-2 log(L)) : 850150.22\n",
       "\n",
       "  Number of models                : 3 \n",
       "  Number of parameters            : 15\n",
       "  Number of free parameters       : 7\n",
       "\n",
       "  Component 0: SkyModel\n",
       "  \n",
       "    Name                      : heJw2TKI\n",
       "    Datasets names            : None\n",
       "    Spectral model type       : ExpCutoffPowerLawSpectralModel\n",
       "    Spatial  model type       : PointSpatialModel\n",
       "    Temporal model type       : \n",
       "    Parameters:\n",
       "      index                         :      2.300   +/-    0.10             \n",
       "      amplitude                     :   1.00e-12   +/- 5.5e-14 1 / (TeV s cm2)\n",
       "      reference             (frozen):      1.000       TeV         \n",
       "      lambda_                       :      0.017   +/-    0.01 1 / TeV     \n",
       "      alpha                 (frozen):      1.000                   \n",
       "      lon_0                         :    329.680   +/-    0.00 deg         \n",
       "      lat_0                         :    -30.222   +/-    0.00 deg         \n",
       "  \n",
       "  Component 1: FoVBackgroundModel\n",
       "  \n",
       "    Name                      : U97-5kgJ-bkg\n",
       "    Datasets names            : [&#x27;U97-5kgJ&#x27;]\n",
       "    Spectral model type       : PowerLawNormSpectralModel\n",
       "    Parameters:\n",
       "      norm                          :      1.000   +/-    0.00             \n",
       "      tilt                  (frozen):      0.000                   \n",
       "      reference             (frozen):      1.000       TeV         \n",
       "  \n",
       "  Component 2: IRFModels\n",
       "  \n",
       "    Name                      : U97-5kgJ-irf\n",
       "    Datasets names            : U97-5kgJ\n",
       "    EReco  model type         : ERecoIRFModel\n",
       "    Eff area  model type      : EffAreaIRFModel\n",
       "    PSF model type            : \n",
       "    Parameters:\n",
       "      bias                          :     -0.000   +/-    0.06             \n",
       "      resolution            (frozen):      0.000                   \n",
       "      norm                  (frozen):      0.000                   \n",
       "      tilt                  (frozen):      0.000                   \n",
       "      reference             (frozen):      1.000       TeV         \n",
       "  \n",
       "  </pre>"
      ],
      "text/plain": [
       "<gammapy.datasets.map.MapDataset at 0x7fad09a1a5b0>"
      ]
     },
     "execution_count": 10,
     "metadata": {},
     "output_type": "execute_result"
    }
   ],
   "source": [
    "dataset_asimov_N"
   ]
  },
  {
   "cell_type": "code",
   "execution_count": 11,
   "id": "3d50ef0c-da17-4520-8ab0-b3ca99b10107",
   "metadata": {},
   "outputs": [
    {
     "name": "stdout",
     "output_type": "stream",
     "text": [
      "lambda:\n",
      "0.016666666666666666\n",
      "0.016675905930761546 pm 0.01560067697383737\n",
      "0.016666666666018716 pm 0.01414298144894736\n",
      "wihtout: 59.966757077666756 pm 56.10022089483759\n",
      "wiht 60.00000000233262 pm 50.914733220169325\n"
     ]
    }
   ],
   "source": [
    "print(\"lambda:\")\n",
    "print(1 / 60)\n",
    "print(\n",
    "    dataset_asimov.models.parameters[\"lambda_\"].value,\n",
    "    \"pm\",\n",
    "    dataset_asimov.models.parameters[\"lambda_\"].error,\n",
    ")\n",
    "print(\n",
    "    dataset_asimov_N.models.parameters[\"lambda_\"].value,\n",
    "    \"pm\",\n",
    "    dataset_asimov_N.models.parameters[\"lambda_\"].error,\n",
    ")\n",
    "\n",
    "print(\"wihtout:\",\n",
    "    1 / dataset_asimov.models.parameters[\"lambda_\"].value,\n",
    "    \"pm\",\n",
    "    dataset_asimov.models.parameters[\"lambda_\"].error\n",
    "    / dataset_asimov.models.parameters[\"lambda_\"].value ** 2,\n",
    ")\n",
    "print(\"wiht\",\n",
    "    1 / dataset_asimov_N.models.parameters[\"lambda_\"].value,\n",
    "    \"pm\",\n",
    "    dataset_asimov_N.models.parameters[\"lambda_\"].error\n",
    "    / dataset_asimov_N.models.parameters[\"lambda_\"].value ** 2,\n",
    ")"
   ]
  },
  {
   "cell_type": "code",
   "execution_count": 12,
   "id": "acafa88e-82c0-4b90-9849-39d3b98c733d",
   "metadata": {},
   "outputs": [
    {
     "name": "stdout",
     "output_type": "stream",
     "text": [
      "DatasetModels\n",
      "\n",
      "Component 0: SkyModel\n",
      "\n",
      "  Name                      : TQLL36So\n",
      "  Datasets names            : None\n",
      "  Spectral model type       : ExpCutoffPowerLawSpectralModel\n",
      "  Spatial  model type       : PointSpatialModel\n",
      "  Temporal model type       : \n",
      "  Parameters:\n",
      "    index                         :      2.300   +/-    0.08             \n",
      "    amplitude                     :   1.00e-12   +/- 5.5e-14 1 / (TeV s cm2)\n",
      "    reference             (frozen):      1.000       TeV         \n",
      "    lambda_                       :      0.017   +/-    0.02 1 / TeV     \n",
      "    alpha                 (frozen):      1.000                   \n",
      "    lon_0                         :    329.680   +/-    0.00 deg         \n",
      "    lat_0                         :    -30.222   +/-    0.00 deg         \n",
      "\n",
      "Component 1: FoVBackgroundModel\n",
      "\n",
      "  Name                      : b7GuWbT3-bkg\n",
      "  Datasets names            : ['b7GuWbT3']\n",
      "  Spectral model type       : PowerLawNormSpectralModel\n",
      "  Parameters:\n",
      "    norm                          :      1.000   +/-    0.00             \n",
      "    tilt                  (frozen):      0.000                   \n",
      "    reference             (frozen):      1.000       TeV         \n",
      "\n",
      "\n",
      "DatasetModels\n",
      "\n",
      "Component 0: SkyModel\n",
      "\n",
      "  Name                      : heJw2TKI\n",
      "  Datasets names            : None\n",
      "  Spectral model type       : ExpCutoffPowerLawSpectralModel\n",
      "  Spatial  model type       : PointSpatialModel\n",
      "  Temporal model type       : \n",
      "  Parameters:\n",
      "    index                         :      2.300   +/-    0.10             \n",
      "    amplitude                     :   1.00e-12   +/- 5.5e-14 1 / (TeV s cm2)\n",
      "    reference             (frozen):      1.000       TeV         \n",
      "    lambda_                       :      0.017   +/-    0.01 1 / TeV     \n",
      "    alpha                 (frozen):      1.000                   \n",
      "    lon_0                         :    329.680   +/-    0.00 deg         \n",
      "    lat_0                         :    -30.222   +/-    0.00 deg         \n",
      "\n",
      "Component 1: FoVBackgroundModel\n",
      "\n",
      "  Name                      : U97-5kgJ-bkg\n",
      "  Datasets names            : ['U97-5kgJ']\n",
      "  Spectral model type       : PowerLawNormSpectralModel\n",
      "  Parameters:\n",
      "    norm                          :      1.000   +/-    0.00             \n",
      "    tilt                  (frozen):      0.000                   \n",
      "    reference             (frozen):      1.000       TeV         \n",
      "\n",
      "Component 2: IRFModels\n",
      "\n",
      "  Name                      : U97-5kgJ-irf\n",
      "  Datasets names            : U97-5kgJ\n",
      "  EReco  model type         : ERecoIRFModel\n",
      "  Eff area  model type      : EffAreaIRFModel\n",
      "  PSF model type            : \n",
      "  Parameters:\n",
      "    bias                          :     -0.000   +/-    0.06             \n",
      "    resolution            (frozen):      0.000                   \n",
      "    norm                  (frozen):      0.000                   \n",
      "    tilt                  (frozen):      0.000                   \n",
      "    reference             (frozen):      1.000       TeV         \n",
      "\n",
      "\n"
     ]
    }
   ],
   "source": [
    "print(dataset_asimov.models)\n",
    "print(dataset_asimov_N.models)"
   ]
  },
  {
   "cell_type": "code",
   "execution_count": 13,
   "id": "8cc1f1b2-689c-48fe-aef1-a09f536f2e13",
   "metadata": {},
   "outputs": [
    {
     "data": {
      "text/plain": [
       "(0.3, 100)"
      ]
     },
     "execution_count": 13,
     "metadata": {},
     "output_type": "execute_result"
    },
    {
     "data": {
      "image/png": "[encoded data removed]",
      "text/plain": [
       "<Figure size 400x300 with 1 Axes>"
      ]
     },
     "metadata": {},
     "output_type": "display_data"
    }
   ],
   "source": [
    "\n",
    "energy_power = 2\n",
    "fig, axs = plt.subplots(1, 1, figsize=(4, 3))\n",
    "plot_asimov_spectrum(fig, axs)\n",
    "\n",
    "axs.set_xlim(0.3, 100)"
   ]
  },
  {
   "cell_type": "code",
   "execution_count": null,
   "id": "3ccb9ab3-b4c0-4c22-90de-b08eca412e00",
   "metadata": {},
   "outputs": [],
   "source": []
  },
  {
   "cell_type": "code",
   "execution_count": null,
   "id": "08b51e5a",
   "metadata": {},
   "outputs": [],
   "source": []
  }
 ],
 "metadata": {
  "jupytext": {
   "formats": "ipynb,py:percent"
  },
  "kernelspec": {
   "display_name": "Python 3 (ipykernel)",
   "language": "python",
   "name": "python3"
  },
  "language_info": {
   "codemirror_mode": {
    "name": "ipython",
    "version": 3
   },
   "file_extension": ".py",
   "mimetype": "text/x-python",
   "name": "python",
   "nbconvert_exporter": "python",
   "pygments_lexer": "ipython3",
   "version": "3.9.16"
  },
  "varInspector": {
   "cols": {
    "lenName": 16,
    "lenType": 16,
    "lenVar": 40
   },
   "kernels_config": {
    "python": {
     "delete_cmd_postfix": "",
     "delete_cmd_prefix": "del ",
     "library": "var_list.py",
     "varRefreshCmd": "print(var_dic_list())"
    },
    "r": {
     "delete_cmd_postfix": ") ",
     "delete_cmd_prefix": "rm(",
     "library": "var_list.r",
     "varRefreshCmd": "cat(var_dic_list()) "
    }
   },
   "types_to_exclude": [
    "module",
    "function",
    "builtin_function_or_method",
    "instance",
    "_Feature"
   ],
   "window_display": false
  }
 },
 "nbformat": 4,
 "nbformat_minor": 5
}
