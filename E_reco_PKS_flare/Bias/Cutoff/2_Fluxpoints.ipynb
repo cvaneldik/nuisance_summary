{
 "cells": [
  {
   "cell_type": "markdown",
   "id": "762d0403",
   "metadata": {},
   "source": [
    "## Runnning with gammapy-dev/IRF_model\n",
    "Fitting asimov datasets with the nuisance parameter bias to compute the fluxpoints"
   ]
  },
  {
   "cell_type": "markdown",
   "id": "7a89c888",
   "metadata": {},
   "source": [
    "### Setup"
   ]
  },
  {
   "cell_type": "code",
   "execution_count": 1,
   "id": "b09df5cd",
   "metadata": {},
   "outputs": [],
   "source": [
    "import matplotlib.pyplot as plt\n",
    "import numpy as np\n",
    "import astropy.units as u\n",
    "from gammapy.maps import Map\n",
    "from astropy.coordinates import SkyCoord, Angle\n",
    "from gammapy.modeling import Fit,  Parameters, Covariance , Parameter\n",
    "from gammapy.datasets import MapDataset ,Datasets, FluxPointsDataset\n",
    "from gammapy.modeling.models import (\n",
    "    PowerLawSpectralModel,\n",
    "    SkyModel,\n",
    "    PointSpatialModel,\n",
    "    PowerLawNormSpectralModel,\n",
    "    Models,\n",
    "    SpatialModel,\n",
    "    FoVBackgroundModel,\n",
    "    PiecewiseNormSpectralModel,\n",
    ")\n",
    "from gammapy.estimators import TSMapEstimator, ExcessMapEstimator\n",
    "from gammapy.estimators import FluxPoints, FluxPointsEstimator\n",
    "\n",
    "from regions import CircleSkyRegion, RectangleSkyRegion\n",
    "import yaml\n",
    "import sys\n",
    "sys.path.append('../../../')\n",
    "import Dataset_load \n",
    "\n",
    "from  Dataset_Setup import Setup, GaussianCovariance_matrix"
   ]
  },
  {
   "cell_type": "markdown",
   "id": "175fc252",
   "metadata": {},
   "source": [
    "## Import"
   ]
  },
  {
   "cell_type": "code",
   "execution_count": 2,
   "id": "3a3d8ebd",
   "metadata": {},
   "outputs": [],
   "source": [
    "config = Dataset_load.load_config()\n",
    "colors = config['colors']['three']\n",
    "\n",
    "colors\n",
    "import ast\n",
    "\n",
    "colors[1] = ast.literal_eval(colors[1])\n",
    "colors[2] = ast.literal_eval(colors[2])\n",
    "colors[3] = ast.literal_eval(colors[3])"
   ]
  },
  {
   "cell_type": "markdown",
   "id": "e9071cc1",
   "metadata": {},
   "source": [
    "### Datasets"
   ]
  },
  {
   "cell_type": "code",
   "execution_count": 3,
   "id": "fd8b87b3",
   "metadata": {},
   "outputs": [
    {
     "name": "stdout",
     "output_type": "stream",
     "text": [
      "loaded dataset:\n",
      "/home/katrin/Documents/nuisance_summary/PKS_flare/HESS_public/dataset-simulated-ecpl.fits.gz\n"
     ]
    }
   ],
   "source": [
    "scaled_amplitude = Parameter(\"amplitude\", value=1e-12)\n",
    "lambda_ = Parameter(\"lambda_\", value=1 / 60)\n",
    "\n",
    "dataset_asimov = Dataset_load.create_asimov(\n",
    "    model=\"ecpl\", source=\"PKSflare\", parameters=Parameters([scaled_amplitude, lambda_])\n",
    ")"
   ]
  },
  {
   "cell_type": "code",
   "execution_count": 4,
   "id": "dad6124b",
   "metadata": {},
   "outputs": [],
   "source": [
    "norm = 0.0\n",
    "tilt = 0.0\n",
    "bias = 0.1\n",
    "resolution = 0.0"
   ]
  },
  {
   "cell_type": "code",
   "execution_count": 5,
   "id": "db7d6019",
   "metadata": {},
   "outputs": [],
   "source": [
    "setup = Setup(dataset_input=dataset_asimov)\n",
    "#setup.set_up_irf_sys(bias, resolution, norm, tilt)\n",
    "dataset_asimov, dataset_asimov_N = setup.run()\n",
    "# irf model\n",
    "setup.set_irf_model(dataset_asimov_N)\n",
    "dataset_asimov_N.models.parameters['resolution'].frozen = True\n",
    "dataset_asimov_N.irf_model.parameters['tilt'].frozen = True\n",
    "dataset_asimov_N.irf_model.parameters['norm'].frozen = True\n",
    "setup.set_irf_prior(dataset_asimov_N, bias, resolution, norm, tilt)"
   ]
  },
  {
   "cell_type": "code",
   "execution_count": 9,
   "id": "2c72788c",
   "metadata": {},
   "outputs": [
    {
     "name": "stdout",
     "output_type": "stream",
     "text": [
      "CPU times: user 19min 24s, sys: 14min 14s, total: 33min 38s\n",
      "Wall time: 11min 11s\n"
     ]
    }
   ],
   "source": [
    "%%time\n",
    "fitting = 1\n",
    "if fitting :\n",
    "    fit = Fit(store_trace=False)\n",
    "    minuit_opts = {\"tol\": 0.001, \"strategy\": 2}\n",
    "    fit.optimize_opts = minuit_opts\n",
    "    result = fit.run(dataset_asimov)\n",
    "    fit_N = Fit(store_trace=False)\n",
    "    fit_N.optimize_opts = minuit_opts\n",
    "    result_N = fit_N.run(dataset_asimov_N)\n",
    "\n",
    "else:\n",
    "    m  = Models.read(\"data/1_model.yml\")\n",
    "    dataset_asimov.models = Models([m[0], FoVBackgroundModel(dataset_name=dataset_asimov.name), ])\n",
    "    path = f\"data/2_model_N.yml\"\n",
    "    dataset_asimov_N = Dataset_load.load_dataset_N(dataset_asimov_N, path)\n",
    "    dataset_asimov_N.irf_model.eff_area_model.parameters.freeze_all()\n",
    "    dataset_asimov_N.irf_model.parameters[\"resolution\"].frozen = True\n",
    "    dataset_asimov_N.irf_model.parameters[\"bias\"].frozen = False"
   ]
  },
  {
   "cell_type": "code",
   "execution_count": 7,
   "id": "0512e23f",
   "metadata": {},
   "outputs": [],
   "source": [
    "mask = dataset_asimov.mask.data[:,200,200]\n",
    "ebins = dataset_asimov.counts.geom.axes[0].center[mask]\n",
    "energy_bounds = (ebins[0] , ebins[-1] ) *u.TeV"
   ]
  },
  {
   "cell_type": "code",
   "execution_count": 8,
   "id": "7084690e",
   "metadata": {},
   "outputs": [
    {
     "ename": "NameError",
     "evalue": "name 'dataset_input' is not defined",
     "output_type": "error",
     "traceback": [
      "\u001b[0;31m---------------------------------------------------------------------------\u001b[0m",
      "\u001b[0;31mNameError\u001b[0m                                 Traceback (most recent call last)",
      "Cell \u001b[0;32mIn[8], line 18\u001b[0m\n\u001b[1;32m     11\u001b[0m dataset_asimov\u001b[38;5;241m.\u001b[39mmodels[\u001b[38;5;241m0\u001b[39m]\u001b[38;5;241m.\u001b[39mspectral_model\u001b[38;5;241m.\u001b[39mplot(energy_bounds,  energy_power \u001b[38;5;241m=\u001b[39m \u001b[38;5;241m2\u001b[39m, ax \u001b[38;5;241m=\u001b[39m axs,\n\u001b[1;32m     12\u001b[0m                                 label \u001b[38;5;241m=\u001b[39m \u001b[38;5;124m\"\u001b[39m\u001b[38;5;124m\"\u001b[39m, color \u001b[38;5;241m=\u001b[39m \u001b[38;5;124m\"\u001b[39m\u001b[38;5;124mred\u001b[39m\u001b[38;5;124m\"\u001b[39m, alpha \u001b[38;5;241m=\u001b[39m \u001b[38;5;241m0.9\u001b[39m)    \n\u001b[1;32m     14\u001b[0m dataset_asimov\u001b[38;5;241m.\u001b[39mmodels[\u001b[38;5;241m0\u001b[39m]\u001b[38;5;241m.\u001b[39mspectral_model\u001b[38;5;241m.\u001b[39mplot_error(energy_bounds,  energy_power \u001b[38;5;241m=\u001b[39m \u001b[38;5;241m2\u001b[39m, ax \u001b[38;5;241m=\u001b[39m axs,\n\u001b[1;32m     15\u001b[0m                                 label \u001b[38;5;241m=\u001b[39m \u001b[38;5;124m\"\u001b[39m\u001b[38;5;124m$1\u001b[39m\u001b[38;5;124m\\\u001b[39m\u001b[38;5;124msigma$ Standard\u001b[39m\u001b[38;5;124m\"\u001b[39m, facecolor \u001b[38;5;241m=\u001b[39m \u001b[38;5;124m\"\u001b[39m\u001b[38;5;124mlightpink\u001b[39m\u001b[38;5;124m\"\u001b[39m,\n\u001b[1;32m     16\u001b[0m                                                    alpha \u001b[38;5;241m=\u001b[39m \u001b[38;5;241m0.9\u001b[39m)\n\u001b[0;32m---> 18\u001b[0m \u001b[43mdataset_input\u001b[49m\u001b[38;5;241m.\u001b[39mmodels[\u001b[38;5;241m0\u001b[39m]\u001b[38;5;241m.\u001b[39mspectral_model\u001b[38;5;241m.\u001b[39mplot(energy_bounds, linestyle\u001b[38;5;241m=\u001b[39m\u001b[38;5;124m'\u001b[39m\u001b[38;5;124m-\u001b[39m\u001b[38;5;124m'\u001b[39m, energy_power \u001b[38;5;241m=\u001b[39m \u001b[38;5;241m2\u001b[39m, ax \u001b[38;5;241m=\u001b[39m axs,\n\u001b[1;32m     19\u001b[0m                                 label \u001b[38;5;241m=\u001b[39m \u001b[38;5;124m\"\u001b[39m\u001b[38;5;124mInput\u001b[39m\u001b[38;5;124m\"\u001b[39m, color \u001b[38;5;241m=\u001b[39m \u001b[38;5;124m\"\u001b[39m\u001b[38;5;124mblack\u001b[39m\u001b[38;5;124m\"\u001b[39m, )\n\u001b[1;32m     21\u001b[0m axs\u001b[38;5;241m.\u001b[39mset_xlabel(\u001b[38;5;124m'\u001b[39m\u001b[38;5;124m'\u001b[39m)\n\u001b[1;32m     22\u001b[0m axs\u001b[38;5;241m.\u001b[39mlegend()\n",
      "\u001b[0;31mNameError\u001b[0m: name 'dataset_input' is not defined"
     ]
    },
    {
     "data": {
      "image/png": "[encoded data removed]",
      "text/plain": [
       "<Figure size 500x300 with 1 Axes>"
      ]
     },
     "metadata": {},
     "output_type": "display_data"
    }
   ],
   "source": [
    "true_energy = dataset_asimov.exposure.geom.axes[0].center.value\n",
    "energy_bounds = (ebins[0] , ebins[-1] ) *u.TeV\n",
    "fig, axs = plt.subplots(1,1, figsize = (5,3))\n",
    "\n",
    "dataset_asimov_N.models[0].spectral_model.plot(energy_bounds,  energy_power = 2, ax = axs,\n",
    "                                label = \"\", color = \"green\")    \n",
    "\n",
    "dataset_asimov_N.models[0].spectral_model.plot_error(energy_bounds,  energy_power = 2, ax = axs,\n",
    "                                label = \"$1\\sigma$ Nuisance\", facecolor = \"green\", alpha = 0.5)    \n",
    "    \n",
    "dataset_asimov.models[0].spectral_model.plot(energy_bounds,  energy_power = 2, ax = axs,\n",
    "                                label = \"\", color = \"red\", alpha = 0.9)    \n",
    "\n",
    "dataset_asimov.models[0].spectral_model.plot_error(energy_bounds,  energy_power = 2, ax = axs,\n",
    "                                label = \"$1\\sigma$ Standard\", facecolor = \"lightpink\",\n",
    "                                                   alpha = 0.9)\n",
    "\n",
    "dataset_input.models[0].spectral_model.plot(energy_bounds, linestyle='-', energy_power = 2, ax = axs,\n",
    "                                label = \"Input\", color = \"black\", )\n",
    "\n",
    "axs.set_xlabel('')\n",
    "axs.legend()\n",
    "plt.tight_layout()\n"
   ]
  },
  {
   "cell_type": "markdown",
   "id": "f816b8b2",
   "metadata": {},
   "source": [
    "## Compute Asimov Fluxpoints\n"
   ]
  },
  {
   "cell_type": "code",
   "execution_count": null,
   "id": "4bf940ac",
   "metadata": {
    "scrolled": true
   },
   "outputs": [],
   "source": [
    "comput_fp = 0\n",
    "if comput_fp :\n",
    "    energy_edges = dataset_asimov.geoms[\"geom\"].axes[0].edges[::2]\n",
    "    esti = FluxPointsEstimator(energy_edges=energy_edges)\n",
    "    fluxpoints = esti.run([dataset_asimov])\n",
    "    fluxpoints.write(\n",
    "        \"data/fluxpoints/2_fluxpoints_asimov.fits\", overwrite = True\n",
    "    )\n",
    "    Models([dataset_asimov.models[0]]).write(\n",
    "        \"data/fluxpoints/2_model_asimov.fits\" , overwrite = True\n",
    "    )\n",
    "    \n",
    "    fluxpoints_N = esti.run([dataset_asimov_N])\n",
    "    fluxpoints_N.write(\n",
    "        f\"data/fluxpoints/2_fluxpoints_asimov_N.fits\", overwrite= True,\n",
    "    )\n",
    "    Models([dataset_asimov_N.models[0]]).write(\n",
    "        f\"data/fluxpoints/2_model_asimov_N.fits\", overwrite= True,\n",
    "    )\n",
    "    \n",
    "    fp_asimov = FluxPointsDataset(data = fluxpoints, models = Models([dataset_asimov.models[0]]))\n",
    "    fp_asimov_N = FluxPointsDataset(data = fluxpoints_N, models = Models([dataset_asimov_N.models[0]]))\n",
    "    \n",
    "else:\n",
    "    fp_asimov = FluxPointsDataset(data = FluxPoints.read(\"data/fluxpoints/2_fluxpoints_asimov.fits\"),\n",
    "                                 models = Models.read(\"data/fluxpoints/2_model_asimov.fits\"))\n",
    "    fp_asimov_N = FluxPointsDataset(data = FluxPoints.read(\"data/fluxpoints/2_fluxpoints_asimov_N.fits\"),\n",
    "                                 models = Models.read(\"data/fluxpoints/2_model_asimov_N.fits\"))"
   ]
  },
  {
   "cell_type": "code",
   "execution_count": null,
   "id": "55710c06",
   "metadata": {},
   "outputs": [],
   "source": [
    "def plot_shifted (ff, shift):\n",
    "    return ff.energy_ref* shift, ff.e2dnde.data[:,0,0],  ff.e2dnde_err.data[:,0,0], "
   ]
  },
  {
   "cell_type": "code",
   "execution_count": null,
   "id": "8cf582df",
   "metadata": {},
   "outputs": [],
   "source": [
    "fig, axs = plt.subplots(1,1, figsize = (5,3))\n",
    "dataset_asimov_N.models[0].spectral_model.plot_error(energy_bounds,  energy_power = 2, ax = axs,\n",
    "                                label = \"$1\\sigma$ Nuisance\", facecolor = \"green\", alpha = 0.5)    \n",
    "    \n",
    "dataset_asimov.models[0].spectral_model.plot_error(energy_bounds,  energy_power = 2, ax = axs,\n",
    "                                label = \"$1\\sigma$ Standard\", facecolor = \"red\", alpha = 0.6)\n",
    "\n",
    "dataset_input.models[0].spectral_model.plot(energy_bounds, linestyle=':', energy_power = 2, ax = axs,\n",
    "                                label = \"Input\", color = \"black\", )\n",
    "\n",
    "\n",
    "\n",
    "e_, f_, ferr_ = plot_shifted(fp_asimov.data, 1.1)\n",
    "axs.errorbar(e_, f_, yerr = ferr_, color = 'darkred', fmt='o')  \n",
    "\n",
    "e_, f_, ferr_ = plot_shifted(fp_asimov_N.data, 1.)\n",
    "axs.errorbar(e_, f_, yerr = ferr_, color = 'darkgreen', fmt='o')  \n",
    "\n",
    "\n",
    "axs.legend()\n",
    "plt.tight_layout()\n"
   ]
  },
  {
   "cell_type": "code",
   "execution_count": null,
   "id": "ae8a92d3",
   "metadata": {},
   "outputs": [],
   "source": [
    "fig, axs = plt.subplots(1,1, figsize = (5,3))\n",
    "dataset_asimov_N.models[0].spectral_model.plot_error(energy_bounds,  energy_power = 2, ax = axs,\n",
    "                                label = \"$1\\sigma$ Nuisance\", facecolor = \"green\", alpha = 0.3)    \n",
    "    \n",
    "dataset_asimov.models[0].spectral_model.plot_error(energy_bounds,  energy_power = 2, ax = axs,\n",
    "                                label = \"$1\\sigma$ Standard\", facecolor = \"red\", alpha = 0.3)\n",
    "\n",
    "dataset_input.models[0].spectral_model.plot(energy_bounds, linestyle=':', energy_power = 2, ax = axs,\n",
    "                                label = \"Input\", color = \"black\", )\n",
    "\n",
    "\n",
    "\n",
    "\n",
    "\n",
    "fp_asimov_N.data.plot(energy_power =2,  color = 'darkgreen', fmt='o')  \n",
    "fp_asimov.data.plot(energy_power =2,  color = 'darkred', fmt='x')  \n",
    "\n",
    "axs.set_xlim(0.3, 100)\n",
    "axs.legend()\n",
    "plt.tight_layout()\n"
   ]
  },
  {
   "cell_type": "code",
   "execution_count": null,
   "id": "6e82e764-ad82-42a3-aaca-e9a8f06a7a2e",
   "metadata": {},
   "outputs": [],
   "source": []
  }
 ],
 "metadata": {
  "kernelspec": {
   "display_name": "Python 3 (ipykernel)",
   "language": "python",
   "name": "python3"
  },
  "language_info": {
   "codemirror_mode": {
    "name": "ipython",
    "version": 3
   },
   "file_extension": ".py",
   "mimetype": "text/x-python",
   "name": "python",
   "nbconvert_exporter": "python",
   "pygments_lexer": "ipython3",
   "version": "3.9.16"
  },
  "varInspector": {
   "cols": {
    "lenName": 16,
    "lenType": 16,
    "lenVar": 40
   },
   "kernels_config": {
    "python": {
     "delete_cmd_postfix": "",
     "delete_cmd_prefix": "del ",
     "library": "var_list.py",
     "varRefreshCmd": "print(var_dic_list())"
    },
    "r": {
     "delete_cmd_postfix": ") ",
     "delete_cmd_prefix": "rm(",
     "library": "var_list.r",
     "varRefreshCmd": "cat(var_dic_list()) "
    }
   },
   "types_to_exclude": [
    "module",
    "function",
    "builtin_function_or_method",
    "instance",
    "_Feature"
   ],
   "window_display": false
  }
 },
 "nbformat": 4,
 "nbformat_minor": 5
}
