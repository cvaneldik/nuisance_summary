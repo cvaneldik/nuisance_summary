{
 "cells": [
  {
   "cell_type": "code",
   "execution_count": 1,
   "id": "dc01e61e",
   "metadata": {},
   "outputs": [
    {
     "name": "stdout",
     "output_type": "stream",
     "text": [
      "1.0.1  == 1.1\n"
     ]
    }
   ],
   "source": [
    "import gammapy\n",
    "print(gammapy.__version__ , \" == 1.1\")"
   ]
  },
  {
   "cell_type": "code",
   "execution_count": 2,
   "id": "d449e41e",
   "metadata": {},
   "outputs": [],
   "source": [
    "import numpy as np\n",
    "import astropy\n",
    "from astropy import units as u\n",
    "from collections import OrderedDict\n",
    "\n",
    "from astropy import units\n",
    "from gammapy.data import DataStore\n",
    "from astropy.io import fits\n",
    "\n",
    "from astropy.coordinates import SkyCoord\n",
    "from gammapy.data import DataStore\n",
    "from gammapy.maps import WcsGeom, MapAxis\n",
    "from gammapy.data import FixedPointingInfo\n",
    "from astropy.coordinates import SkyOffsetFrame\n",
    "from gammapy.maps import WcsNDMap\n",
    "from gammapy.makers import MapDatasetMaker\n",
    "from gammapy.maps import WcsGeom, MapAxis\n",
    "\n"
   ]
  },
  {
   "cell_type": "code",
   "execution_count": 3,
   "id": "fac3610f",
   "metadata": {},
   "outputs": [],
   "source": [
    "path = '/home/katrin/Documents/HESS_public/hess_dl3_dr1'"
   ]
  },
  {
   "cell_type": "code",
   "execution_count": 4,
   "id": "c5b85980",
   "metadata": {},
   "outputs": [
    {
     "ename": "OSError",
     "evalue": "File not found : obs-index.fits.gz",
     "output_type": "error",
     "traceback": [
      "\u001b[0;31m---------------------------------------------------------------------------\u001b[0m",
      "\u001b[0;31mOSError\u001b[0m                                   Traceback (most recent call last)",
      "Input \u001b[0;32mIn [4]\u001b[0m, in \u001b[0;36m<cell line: 1>\u001b[0;34m()\u001b[0m\n\u001b[0;32m----> 1\u001b[0m ds1 \u001b[38;5;241m=\u001b[39m \u001b[43mDataStore\u001b[49m\u001b[38;5;241;43m.\u001b[39;49m\u001b[43mfrom_dir\u001b[49m\u001b[43m(\u001b[49m\u001b[43mpath\u001b[49m\u001b[43m,\u001b[49m\u001b[43m \u001b[49m\u001b[43mhdu_table_filename\u001b[49m\u001b[38;5;241;43m=\u001b[39;49m\u001b[38;5;124;43m\"\u001b[39;49m\u001b[38;5;124;43mhdu-index.fits.gz\u001b[39;49m\u001b[38;5;124;43m\"\u001b[39;49m\u001b[43m,\u001b[49m\u001b[43m \u001b[49m\u001b[43mobs_table_filename\u001b[49m\u001b[38;5;241;43m=\u001b[39;49m\u001b[38;5;124;43m\"\u001b[39;49m\u001b[38;5;124;43mobs-index.fits.gz\u001b[39;49m\u001b[38;5;124;43m\"\u001b[39;49m\u001b[43m)\u001b[49m\n\u001b[1;32m      3\u001b[0m \u001b[38;5;28mprint\u001b[39m(ds1)\n",
      "File \u001b[0;32m/home/wecapstor1/caph/mppi045h/anaconda3/envs/gammapy-1.0/lib/python3.9/site-packages/gammapy/data/data_store.py:161\u001b[0m, in \u001b[0;36mDataStore.from_dir\u001b[0;34m(cls, base_dir, hdu_table_filename, obs_table_filename)\u001b[0m\n\u001b[1;32m    159\u001b[0m         obs_table_filename \u001b[38;5;241m=\u001b[39m base_dir \u001b[38;5;241m/\u001b[39m obs_table_filename\n\u001b[1;32m    160\u001b[0m     \u001b[38;5;28;01melif\u001b[39;00m \u001b[38;5;129;01mnot\u001b[39;00m obs_table_filename\u001b[38;5;241m.\u001b[39mexists():\n\u001b[0;32m--> 161\u001b[0m         \u001b[38;5;28;01mraise\u001b[39;00m \u001b[38;5;167;01mIOError\u001b[39;00m(\u001b[38;5;124mf\u001b[39m\u001b[38;5;124m\"\u001b[39m\u001b[38;5;124mFile not found : \u001b[39m\u001b[38;5;132;01m{\u001b[39;00mobs_table_filename\u001b[38;5;132;01m}\u001b[39;00m\u001b[38;5;124m\"\u001b[39m)\n\u001b[1;32m    162\u001b[0m \u001b[38;5;28;01melse\u001b[39;00m:\n\u001b[1;32m    163\u001b[0m     obs_table_filename \u001b[38;5;241m=\u001b[39m base_dir \u001b[38;5;241m/\u001b[39m \u001b[38;5;28mcls\u001b[39m\u001b[38;5;241m.\u001b[39mDEFAULT_OBS_TABLE\n",
      "\u001b[0;31mOSError\u001b[0m: File not found : obs-index.fits.gz"
     ]
    }
   ],
   "source": [
    "ds1 = DataStore.from_dir(path, hdu_table_filename=\"hdu-index.fits.gz\", obs_table_filename=\"obs-index.fits.gz\")\n",
    "\n",
    "print(ds1)\n"
   ]
  },
  {
   "cell_type": "code",
   "execution_count": 23,
   "id": "0940c613",
   "metadata": {},
   "outputs": [
    {
     "name": "stdout",
     "output_type": "stream",
     "text": [
      "<SkyCoord (ICRS): (ra, dec) in deg\n",
      "    (83.63, 22.01)>\n"
     ]
    }
   ],
   "source": [
    "crab_pos = SkyCoord(\"83.63\", \"22.01\",  unit='deg', frame='icrs')\n",
    "print(crab_pos)"
   ]
  },
  {
   "cell_type": "code",
   "execution_count": 31,
   "id": "2f27afc5",
   "metadata": {},
   "outputs": [
    {
     "data": {
      "text/plain": [
       "array([20136, 20137, 20151, 20275, 20282, 20283, 20301, 20302, 20303,\n",
       "       20322, 20323, 20324, 20325, 20326, 20327, 20339, 20343, 20344,\n",
       "       20345, 20346, 20349, 20350, 20365, 20366, 20367, 20368, 20396,\n",
       "       20397, 20421, 20422, 20517, 20518, 20519, 20521, 20561, 20734,\n",
       "       20898, 20899, 20900, 20915, 21613, 21753, 21807, 21824, 21851,\n",
       "       22022, 22593, 22997, 23040, 23077, 23143, 23246, 23523, 23526,\n",
       "       23559, 23573, 23592, 23635, 23651, 23736, 25345, 25443, 25511,\n",
       "       26077, 26791, 26827, 26850, 26964, 27044, 27121, 27939, 27987,\n",
       "       28341, 28967, 28981, 29024, 29072, 29118, 29177, 29433, 29487,\n",
       "       29526, 29556, 29683, 33787, 33788, 33789, 33790, 33791, 33792,\n",
       "       33793, 33794, 33795, 33796, 33797, 33798, 33799, 33800, 33801,\n",
       "       47802, 47803, 47804, 47827, 47828, 47829])"
      ]
     },
     "execution_count": 31,
     "metadata": {},
     "output_type": "execute_result"
    }
   ],
   "source": [
    "ds1.obs_ids"
   ]
  },
  {
   "cell_type": "code",
   "execution_count": 35,
   "id": "e27d56c0",
   "metadata": {},
   "outputs": [
    {
     "name": "stderr",
     "output_type": "stream",
     "text": [
      "Skipping run with missing HDUs; Required HDUs ['bkg'] not found in observation 20136\n",
      "Skipping run with missing HDUs; Required HDUs ['bkg'] not found in observation 20137\n",
      "Skipping run with missing HDUs; Required HDUs ['bkg'] not found in observation 20151\n",
      "Skipping run with missing HDUs; Required HDUs ['bkg'] not found in observation 20275\n",
      "Skipping run with missing HDUs; Required HDUs ['bkg'] not found in observation 20282\n",
      "Skipping run with missing HDUs; Required HDUs ['bkg'] not found in observation 20283\n",
      "Skipping run with missing HDUs; Required HDUs ['bkg'] not found in observation 20301\n",
      "Skipping run with missing HDUs; Required HDUs ['bkg'] not found in observation 20302\n",
      "Skipping run with missing HDUs; Required HDUs ['bkg'] not found in observation 20303\n",
      "Skipping run with missing HDUs; Required HDUs ['bkg'] not found in observation 20322\n",
      "Skipping run with missing HDUs; Required HDUs ['bkg'] not found in observation 20323\n",
      "Skipping run with missing HDUs; Required HDUs ['bkg'] not found in observation 20324\n",
      "Skipping run with missing HDUs; Required HDUs ['bkg'] not found in observation 20325\n",
      "Skipping run with missing HDUs; Required HDUs ['bkg'] not found in observation 20326\n",
      "Skipping run with missing HDUs; Required HDUs ['bkg'] not found in observation 20327\n",
      "Skipping run with missing HDUs; Required HDUs ['bkg'] not found in observation 20339\n",
      "Skipping run with missing HDUs; Required HDUs ['bkg'] not found in observation 20343\n",
      "Skipping run with missing HDUs; Required HDUs ['bkg'] not found in observation 20344\n",
      "Skipping run with missing HDUs; Required HDUs ['bkg'] not found in observation 20345\n",
      "Skipping run with missing HDUs; Required HDUs ['bkg'] not found in observation 20346\n",
      "Skipping run with missing HDUs; Required HDUs ['bkg'] not found in observation 20349\n",
      "Skipping run with missing HDUs; Required HDUs ['bkg'] not found in observation 20350\n",
      "Skipping run with missing HDUs; Required HDUs ['bkg'] not found in observation 20365\n",
      "Skipping run with missing HDUs; Required HDUs ['bkg'] not found in observation 20366\n",
      "Skipping run with missing HDUs; Required HDUs ['bkg'] not found in observation 20367\n",
      "Skipping run with missing HDUs; Required HDUs ['bkg'] not found in observation 20368\n",
      "Skipping run with missing HDUs; Required HDUs ['bkg'] not found in observation 20396\n",
      "Skipping run with missing HDUs; Required HDUs ['bkg'] not found in observation 20397\n",
      "Skipping run with missing HDUs; Required HDUs ['bkg'] not found in observation 20421\n",
      "Skipping run with missing HDUs; Required HDUs ['bkg'] not found in observation 20422\n",
      "Skipping run with missing HDUs; Required HDUs ['bkg'] not found in observation 20517\n",
      "Skipping run with missing HDUs; Required HDUs ['bkg'] not found in observation 20518\n",
      "Skipping run with missing HDUs; Required HDUs ['bkg'] not found in observation 20519\n",
      "Skipping run with missing HDUs; Required HDUs ['bkg'] not found in observation 20521\n",
      "Skipping run with missing HDUs; Required HDUs ['bkg'] not found in observation 20561\n",
      "Skipping run with missing HDUs; Required HDUs ['bkg'] not found in observation 20734\n",
      "Skipping run with missing HDUs; Required HDUs ['bkg'] not found in observation 20898\n",
      "Skipping run with missing HDUs; Required HDUs ['bkg'] not found in observation 20899\n",
      "Skipping run with missing HDUs; Required HDUs ['bkg'] not found in observation 20900\n",
      "Skipping run with missing HDUs; Required HDUs ['bkg'] not found in observation 20915\n",
      "Skipping run with missing HDUs; Required HDUs ['bkg'] not found in observation 21613\n",
      "Skipping run with missing HDUs; Required HDUs ['bkg'] not found in observation 21753\n",
      "Skipping run with missing HDUs; Required HDUs ['bkg'] not found in observation 21807\n",
      "Skipping run with missing HDUs; Required HDUs ['bkg'] not found in observation 21824\n",
      "Skipping run with missing HDUs; Required HDUs ['bkg'] not found in observation 21851\n",
      "Skipping run with missing HDUs; Required HDUs ['bkg'] not found in observation 22022\n",
      "Skipping run with missing HDUs; Required HDUs ['bkg'] not found in observation 22593\n",
      "Skipping run with missing HDUs; Required HDUs ['bkg'] not found in observation 22997\n",
      "Skipping run with missing HDUs; Required HDUs ['bkg'] not found in observation 23040\n",
      "Skipping run with missing HDUs; Required HDUs ['bkg'] not found in observation 23077\n",
      "Skipping run with missing HDUs; Required HDUs ['bkg'] not found in observation 23143\n",
      "Skipping run with missing HDUs; Required HDUs ['bkg'] not found in observation 23246\n",
      "Skipping run with missing HDUs; Required HDUs ['bkg'] not found in observation 23523\n",
      "Skipping run with missing HDUs; Required HDUs ['bkg'] not found in observation 23526\n",
      "Skipping run with missing HDUs; Required HDUs ['bkg'] not found in observation 23559\n",
      "Skipping run with missing HDUs; Required HDUs ['bkg'] not found in observation 23573\n",
      "Skipping run with missing HDUs; Required HDUs ['bkg'] not found in observation 23592\n",
      "Skipping run with missing HDUs; Required HDUs ['bkg'] not found in observation 23635\n",
      "Skipping run with missing HDUs; Required HDUs ['bkg'] not found in observation 23651\n",
      "Skipping run with missing HDUs; Required HDUs ['bkg'] not found in observation 23736\n",
      "Skipping run with missing HDUs; Required HDUs ['bkg'] not found in observation 25345\n",
      "Skipping run with missing HDUs; Required HDUs ['bkg'] not found in observation 25443\n",
      "Skipping run with missing HDUs; Required HDUs ['bkg'] not found in observation 25511\n",
      "Skipping run with missing HDUs; Required HDUs ['bkg'] not found in observation 26077\n",
      "Skipping run with missing HDUs; Required HDUs ['bkg'] not found in observation 26791\n",
      "Skipping run with missing HDUs; Required HDUs ['bkg'] not found in observation 26827\n",
      "Skipping run with missing HDUs; Required HDUs ['bkg'] not found in observation 26850\n",
      "Skipping run with missing HDUs; Required HDUs ['bkg'] not found in observation 26964\n",
      "Skipping run with missing HDUs; Required HDUs ['bkg'] not found in observation 27044\n",
      "Skipping run with missing HDUs; Required HDUs ['bkg'] not found in observation 27121\n",
      "Skipping run with missing HDUs; Required HDUs ['bkg'] not found in observation 27939\n",
      "Skipping run with missing HDUs; Required HDUs ['bkg'] not found in observation 27987\n",
      "Skipping run with missing HDUs; Required HDUs ['bkg'] not found in observation 28341\n",
      "Skipping run with missing HDUs; Required HDUs ['bkg'] not found in observation 28967\n",
      "Skipping run with missing HDUs; Required HDUs ['bkg'] not found in observation 28981\n",
      "Skipping run with missing HDUs; Required HDUs ['bkg'] not found in observation 29024\n",
      "Skipping run with missing HDUs; Required HDUs ['bkg'] not found in observation 29072\n",
      "Skipping run with missing HDUs; Required HDUs ['bkg'] not found in observation 29118\n",
      "Skipping run with missing HDUs; Required HDUs ['bkg'] not found in observation 29177\n",
      "Skipping run with missing HDUs; Required HDUs ['bkg'] not found in observation 29433\n",
      "Skipping run with missing HDUs; Required HDUs ['bkg'] not found in observation 29487\n",
      "Skipping run with missing HDUs; Required HDUs ['bkg'] not found in observation 29526\n",
      "Skipping run with missing HDUs; Required HDUs ['bkg'] not found in observation 29556\n",
      "Skipping run with missing HDUs; Required HDUs ['bkg'] not found in observation 29683\n",
      "Skipping run with missing HDUs; Required HDUs ['bkg'] not found in observation 33787\n",
      "Skipping run with missing HDUs; Required HDUs ['bkg'] not found in observation 33788\n",
      "Skipping run with missing HDUs; Required HDUs ['bkg'] not found in observation 33789\n",
      "Skipping run with missing HDUs; Required HDUs ['bkg'] not found in observation 33790\n",
      "Skipping run with missing HDUs; Required HDUs ['bkg'] not found in observation 33791\n",
      "Skipping run with missing HDUs; Required HDUs ['bkg'] not found in observation 33792\n",
      "Skipping run with missing HDUs; Required HDUs ['bkg'] not found in observation 33793\n",
      "Skipping run with missing HDUs; Required HDUs ['bkg'] not found in observation 33794\n",
      "Skipping run with missing HDUs; Required HDUs ['bkg'] not found in observation 33795\n",
      "Skipping run with missing HDUs; Required HDUs ['bkg'] not found in observation 33796\n",
      "Skipping run with missing HDUs; Required HDUs ['bkg'] not found in observation 33797\n",
      "Skipping run with missing HDUs; Required HDUs ['bkg'] not found in observation 33798\n",
      "Skipping run with missing HDUs; Required HDUs ['bkg'] not found in observation 33799\n",
      "Skipping run with missing HDUs; Required HDUs ['bkg'] not found in observation 33800\n",
      "Skipping run with missing HDUs; Required HDUs ['bkg'] not found in observation 33801\n",
      "Skipping run with missing HDUs; Required HDUs ['bkg'] not found in observation 47802\n",
      "Skipping run with missing HDUs; Required HDUs ['bkg'] not found in observation 47803\n",
      "Skipping run with missing HDUs; Required HDUs ['bkg'] not found in observation 47804\n",
      "Skipping run with missing HDUs; Required HDUs ['bkg'] not found in observation 47827\n",
      "Skipping run with missing HDUs; Required HDUs ['bkg'] not found in observation 47828\n",
      "Skipping run with missing HDUs; Required HDUs ['bkg'] not found in observation 47829\n"
     ]
    }
   ],
   "source": [
    "observations = ds1.get_observations(ds1.obs_ids)"
   ]
  },
  {
   "cell_type": "code",
   "execution_count": 32,
   "id": "95f13e42",
   "metadata": {},
   "outputs": [
    {
     "ename": "MissingRequiredHDU",
     "evalue": "Required HDUs ['bkg'] not found in observation 20136",
     "output_type": "error",
     "traceback": [
      "\u001b[0;31m---------------------------------------------------------------------------\u001b[0m",
      "\u001b[0;31mMissingRequiredHDU\u001b[0m                        Traceback (most recent call last)",
      "Cell \u001b[0;32mIn[32], line 3\u001b[0m\n\u001b[1;32m      1\u001b[0m crab_obs \u001b[38;5;241m=\u001b[39m []\n\u001b[1;32m      2\u001b[0m \u001b[38;5;28;01mfor\u001b[39;00m ob_id \u001b[38;5;129;01min\u001b[39;00m ds1\u001b[38;5;241m.\u001b[39mobs_ids:\n\u001b[0;32m----> 3\u001b[0m     obs \u001b[38;5;241m=\u001b[39m \u001b[43mds1\u001b[49m\u001b[38;5;241;43m.\u001b[39;49m\u001b[43mobs\u001b[49m\u001b[43m(\u001b[49m\u001b[43mob_id\u001b[49m\u001b[43m)\u001b[49m\n\u001b[1;32m      4\u001b[0m     \u001b[38;5;28mprint\u001b[39m(obs\u001b[38;5;241m.\u001b[39mra, obs\u001b[38;5;241m.\u001b[39mdec)\n",
      "File \u001b[0;32m~/Documents/gammapy/gammapy/data/data_store.py:321\u001b[0m, in \u001b[0;36mDataStore.obs\u001b[0;34m(self, obs_id, required_irf)\u001b[0m\n\u001b[1;32m    318\u001b[0m         missing_hdus\u001b[38;5;241m.\u001b[39mappend(hdu)\n\u001b[1;32m    320\u001b[0m \u001b[38;5;28;01mif\u001b[39;00m \u001b[38;5;28mlen\u001b[39m(missing_hdus) \u001b[38;5;241m>\u001b[39m \u001b[38;5;241m0\u001b[39m:\n\u001b[0;32m--> 321\u001b[0m     \u001b[38;5;28;01mraise\u001b[39;00m MissingRequiredHDU(\n\u001b[1;32m    322\u001b[0m         \u001b[38;5;124mf\u001b[39m\u001b[38;5;124m\"\u001b[39m\u001b[38;5;124mRequired HDUs \u001b[39m\u001b[38;5;132;01m{\u001b[39;00mmissing_hdus\u001b[38;5;132;01m}\u001b[39;00m\u001b[38;5;124m not found in observation \u001b[39m\u001b[38;5;132;01m{\u001b[39;00mobs_id\u001b[38;5;132;01m}\u001b[39;00m\u001b[38;5;124m\"\u001b[39m\n\u001b[1;32m    323\u001b[0m     )\n\u001b[1;32m    325\u001b[0m \u001b[38;5;66;03m# if we didn't find the pointing hdu, extract FixedPointingInfo from events\u001b[39;00m\n\u001b[1;32m    326\u001b[0m \u001b[38;5;28;01mif\u001b[39;00m \u001b[38;5;124m\"\u001b[39m\u001b[38;5;124mpointing\u001b[39m\u001b[38;5;124m\"\u001b[39m \u001b[38;5;129;01mnot\u001b[39;00m \u001b[38;5;129;01min\u001b[39;00m kwargs:\n",
      "\u001b[0;31mMissingRequiredHDU\u001b[0m: Required HDUs ['bkg'] not found in observation 20136"
     ]
    }
   ],
   "source": [
    "crab_obs = []\n",
    "for ob_id in ds1.obs_ids:\n",
    "    obs = ds1.obs(ob_id)\n",
    "    print(obs.ra, obs.dec)"
   ]
  },
  {
   "cell_type": "code",
   "execution_count": 25,
   "id": "acefbe0a",
   "metadata": {},
   "outputs": [
    {
     "data": {
      "text/plain": [
       "<SkyCoord (ICRS): (ra, dec) in deg\n",
       "    [(228.6125   , -5.87716675e+01), (228.6125   , -5.97716675e+01),\n",
       "     (228.6125   , -5.87716675e+01), (187.27792  ,  2.55238891e+00),\n",
       "     (228.6125   , -5.87716675e+01), (228.6125   , -5.97716675e+01),\n",
       "     (228.6125   , -5.87716675e+01), (228.6125   , -5.97716675e+01),\n",
       "     (228.6125   , -5.87716675e+01), (228.6125   , -5.97716675e+01),\n",
       "     (228.6125   , -5.87716675e+01), (228.6125   , -5.97716675e+01),\n",
       "     (228.6125   , -5.87716675e+01), (259.29852  , -3.97622223e+01),\n",
       "     (257.47733  , -3.97622223e+01), (201.36667  , -4.23191681e+01),\n",
       "     (228.6125   , -5.87716675e+01), (228.6125   , -5.97716675e+01),\n",
       "     (228.6125   , -5.87716675e+01), (228.6125   , -5.97716675e+01),\n",
       "     (259.29852  , -3.97622223e+01), (257.47733  , -3.97622223e+01),\n",
       "     (228.6125   , -5.97716675e+01), (228.6125   , -5.87716675e+01),\n",
       "     (228.6125   , -5.97716675e+01), (228.6125   , -5.87716675e+01),\n",
       "     (258.3879   , -3.90622215e+01), (258.3879   , -4.04622231e+01),\n",
       "     (258.3879   , -4.04622231e+01), (258.3879   , -3.90622215e+01),\n",
       "     (257.47733  , -3.97622223e+01), (258.3879   , -3.90622215e+01),\n",
       "     (258.3879   , -4.04622231e+01), (259.29852  , -3.97622223e+01),\n",
       "     (232.39958  , -3.82210007e+01), (225.02979  , -4.19116669e+01),\n",
       "     (256.934    , -4.04747200e+01), (257.48105  , -3.99131279e+01),\n",
       "     (258.0192   , -3.93490067e+01), (186.77757  ,  2.05239844e+00),\n",
       "     (349.775    , -4.26133347e+01), (349.775    , -4.26133347e+01),\n",
       "     (343.72168  , -2.79194450e+01), (356.4075   , -1.43194447e+01),\n",
       "     ( 27.124166 ,  1.35386114e+01), (255.70625  , -4.82897224e+01),\n",
       "     ( 79.95704  , -4.52790260e+01), ( 40.169582 , -1.30555555e-02),\n",
       "     ( 68.57906  , -4.72521667e+01), ( 40.169582 , -1.30555555e-02),\n",
       "     ( 88.26005  , -3.22711105e+01), ( 67.79405  ,  5.35416651e+00),\n",
       "     ( 83.63333  ,  2.15144444e+01), ( 83.63333  ,  2.25144444e+01),\n",
       "     ( 85.253334 ,  2.20144444e+01), ( 88.88198  , -3.86399994e+01),\n",
       "     ( 82.013336 ,  2.20144444e+01), ( 68.29625  ,  5.85416651e+00),\n",
       "     ( 68.29625  ,  4.85416651e+00), ( 83.86775  , -6.97702789e+01),\n",
       "     (187.2779   ,  2.55239844e+00), (187.2779   ,  2.55239844e+00),\n",
       "     (187.7782   ,  2.05239844e+00), (244.99167  , -1.49433336e+01),\n",
       "     (233.73837  ,  2.42026386e+01), (234.50168  ,  2.35026398e+01),\n",
       "     (263.4223   , -2.14863892e+01), (262.67     , -2.07863884e+01),\n",
       "     (262.67     , -2.07863884e+01), (262.67     , -2.21863880e+01),\n",
       "     (355.8903   , -1.48194447e+01), ( 54.62505  , -3.47500000e+01),\n",
       "     (310.03818  , -1.57085299e+00), (310.03818  , -1.57085299e+00),\n",
       "     ( 56.698032 ,  1.09000003e+00), ( 12.662242 , -2.52882786e+01),\n",
       "     ( 11.8880415, -2.59882774e+01), ( 12.662242 , -2.52882786e+01),\n",
       "     ( 63.718235 ,  1.09000003e+00), (  8.958333 , -7.16888885e+01),\n",
       "     ( 11.8880415, -2.45882778e+01), (  7.325    , -7.30000000e+01),\n",
       "     ( 64.21833  ,  5.89999974e-01), (  8.958333 , -7.16888885e+01),\n",
       "     (329.71667  , -2.97255554e+01), (329.13797  , -3.02255554e+01),\n",
       "     (330.29538  , -3.02255554e+01), (329.71667  , -3.07255554e+01),\n",
       "     (329.71667  , -2.97255554e+01), (329.13797  , -3.02255554e+01),\n",
       "     (330.29538  , -3.02255554e+01), (329.71667  , -3.07255554e+01),\n",
       "     (329.71667  , -2.97255554e+01), (329.13797  , -3.02255554e+01),\n",
       "     (330.29538  , -3.02255554e+01), (329.71667  , -3.07255554e+01),\n",
       "     (329.71667  , -2.97255554e+01), (329.13797  , -3.02255554e+01),\n",
       "     (330.29538  , -3.02255554e+01), (330.29538  , -3.02255554e+01),\n",
       "     (329.13797  , -3.02255554e+01), (329.71667  , -2.97255554e+01),\n",
       "     (330.29538  , -3.02255554e+01), (329.13797  , -3.02255554e+01),\n",
       "     (329.71667  , -3.07255554e+01)]>"
      ]
     },
     "execution_count": 25,
     "metadata": {},
     "output_type": "execute_result"
    }
   ],
   "source": [
    "ds1.obs_table.pointing_radec"
   ]
  },
  {
   "cell_type": "code",
   "execution_count": null,
   "id": "2f060d50",
   "metadata": {},
   "outputs": [],
   "source": [
    "\n",
    "\n",
    "hess = ['hess1','hess2','hess1u']\n",
    "cut = ['ImPACT']\n",
    "\n",
    "gclist = 'gc_{}_2deg_4tel_maxzen60_spectral.lis'.format(a)\n",
    "store_threshold = 'threshold_list_prod05_{}_{}_regen_202206_gc.txt'.format(a,b)\n",
    "store_bgthreshold = 'bgthreshold_list_prod05_{}_{}_regen_202206_gc.txt'.format(a,b)\n",
    "\n",
    "maker = MapDatasetMaker(background_oversampling=2, selection=['background'])\n",
    "\n",
    "\n",
    "source = 'GC'\n",
    "bgmodel_version = 'v08c'\n",
    "min_energy = 0\n",
    "ebins = np.logspace(-1,2,25) #as adapt from Lars\n",
    "energy_binning = ebins.copy()[np.where(ebins>=min_energy)[0][0]:] #ebins.copy()[np.where(ebins>=min_energy)[0][0]-1:]\n",
    "ebins = energy_binning\n",
    "\n",
    "\n",
    "filename = \"/home/hpc/caph/mppi043h/notebooks/gc/thesis/Threshold/\"+gclist\n",
    "data = np.loadtxt(filename) # obs ids in first column\n",
    "\n",
    "\n",
    "min_energies = {}\n",
    "\n",
    "# open file to print into\n",
    "with open('/home/hpc/caph/mppi043h/notebooks/gc/thesis/Threshold/'+store_bgthreshold, 'w') as f:\n",
    "    print('')\n",
    "    print(source)\n",
    "    if b=='ImPACT':\n",
    "        ds1 = DataStore.from_dir(f\"/home/saturn/caph/sn0533/shared/hess/fits/gc_yu_wun_wong_hd/{a}/std_ImPACT_fullEnclosure/out/\",\\\n",
    "                                hdu_table_filename=\"hdu-index-bg-3d-v08c_he_fixed-fov-radec.fits.gz\", \\\n",
    "                                obs_table_filename=\"obs-index-bg-3d-v08c_he_fixed-fov-radec.fits.gz\")\n",
    "\n",
    "        hdul = fits.open(f\"/home/saturn/caph/sn0533/shared/hess/fits/gc_yu_wun_wong_hd/{a}/std_ImPACT_fullEnclosure/out\"+'/obs-index-bg-3d-v08c_he_fixed-fov-radec.fits.gz')\n",
    "\n",
    "\n",
    "    hdu = hdul[1].data['OBS_ID']\n",
    "    data1 = []\n",
    "    for i in range(len(data[:,0])):\n",
    "        if int(data[:,0][i]) in hdu:\n",
    "            data1.append(data[i])\n",
    "    data1 = np.array(data1)\n",
    "    obs_list1 = ds1.get_observations(data1[:,0])\n",
    "\n",
    "    apply_event_filters(obs_list1)\n",
    "\n",
    "    obs_list = obs_list1\n",
    "\n",
    "    ra_pnt = ds1.obs_table['RA_PNT']\n",
    "    dec_pnt = ds1.obs_table['DEC_PNT']\n",
    "\n",
    "    min_energies[source] = OrderedDict()\n",
    "\n",
    "    for j in range(len(obs_list)):\n",
    "        obs = obs_list[j]\n",
    "        print(' ', obs.obs_id)\n",
    "        e_thres = obs.aeff.meta['LO_THRES']\n",
    "        eaxis = MapAxis.from_edges(ebins, unit='TeV', name='energy', interp='log')\n",
    "\n",
    "        geom = WcsGeom.create(\n",
    "            skydir=obs.pointing_radec,\n",
    "            binsz=0.02,\n",
    "            width=(4.3, 4.3),\n",
    "            frame='icrs',\n",
    "            proj='CAR',\n",
    "            axes=[eaxis],\n",
    "        )\n",
    "\n",
    "        bg_map = maker.make_background(geom, obs)\n",
    "\n",
    "\n",
    "        bg_rate = bg_map.data.sum(axis=(1,2)) / np.diff(eaxis.edges)\n",
    "        print('    threshold from aeff fits file is {:.4f} TeV'.format(e_thres))\n",
    "        print(obs.obs_id, '  {:.4f}'.format(e_thres), file=f) # print to file\n",
    "        emin = eaxis.edges[1:][np.argmax(bg_rate)]\n",
    "        emin = np.floor(1e4*emin)/1e4\n",
    "        print('    max rate of {:.2f} in bin {:d}, upper edge {:.4f} TeV'.format(np.max(bg_rate), np.argmax(bg_rate), emin))\n",
    "\n",
    "        min_energies[source][obs.obs_id] = emin\n",
    "\n"
   ]
  }
 ],
 "metadata": {
  "kernelspec": {
   "display_name": "Python 3 (ipykernel)",
   "language": "python",
   "name": "python3"
  },
  "language_info": {
   "codemirror_mode": {
    "name": "ipython",
    "version": 3
   },
   "file_extension": ".py",
   "mimetype": "text/x-python",
   "name": "python",
   "nbconvert_exporter": "python",
   "pygments_lexer": "ipython3",
   "version": "3.9.16"
  }
 },
 "nbformat": 4,
 "nbformat_minor": 5
}
