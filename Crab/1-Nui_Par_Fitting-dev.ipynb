{
 "cells": [
  {
   "cell_type": "markdown",
   "id": "65d7aac7",
   "metadata": {},
   "source": [
    "# Import the Dataset\n",
    "\n",
    "In this notebook a 3D analysis of the Crab is demonstated. In addition to the usuall model parameters so called 'nuisance parameters' are fitted which account for any systematical uncertainties. These sysetmatical uncertainties are assumed to be due a missmodelling of the hardronic background. \n",
    "\n",
    "The nuisance parameters are correlated so they can only eliminate the systemtic uncertainties but not the uncorrelated statistical uncertainicies.  \n",
    "\n",
    "The notebook is structed as follows:\n",
    "\n",
    "- Setting up the correlation of the nuisacane parameters\n",
    "- Fitting the model and the nuisance parameters to the data\n",
    "- Compare the results to the standard 3D fit"
   ]
  },
  {
   "cell_type": "code",
   "execution_count": 1,
   "id": "c102068e",
   "metadata": {},
   "outputs": [
    {
     "name": "stdout",
     "output_type": "stream",
     "text": [
      "loaded gammapy version: 0.1.dev19174+g56b5bdf \n",
      "Supposed to be dev based on 1.0 (16-05-2023)\n"
     ]
    }
   ],
   "source": [
    "import gammapy \n",
    "print(f'loaded gammapy version: {gammapy.__version__} ' )\n",
    "print(f'Supposed to be dev based on 1.0 (16-05-2023)' )"
   ]
  },
  {
   "cell_type": "code",
   "execution_count": 2,
   "id": "e0c4dcf1",
   "metadata": {
    "execution": {
     "iopub.execute_input": "2022-03-17T11:24:36.091662Z",
     "iopub.status.busy": "2022-03-17T11:24:36.091167Z",
     "iopub.status.idle": "2022-03-17T11:25:00.872876Z",
     "shell.execute_reply": "2022-03-17T11:25:00.871690Z"
    }
   },
   "outputs": [],
   "source": [
    "#get_ipython().system('jupyter nbconvert --to script 1-Nui_Par_Fitting.ipynb')\n",
    "import pyximport\n",
    "\n",
    "pyximport.install()\n",
    "import matplotlib.pyplot as plt\n",
    "import numpy as np\n",
    "import astropy.units as u\n",
    "import gammapy\n",
    "\n",
    "# from gammapy.datasets import MapDataset\n",
    "from gammapy.maps import Map\n",
    "from astropy.coordinates import SkyCoord, Angle\n",
    "from gammapy.modeling import Fit, Parameter, Parameters, Covariance\n",
    "from gammapy.datasets import MapDataset #, MapDatasetNuisance\n",
    "from gammapy.modeling.models import (\n",
    "    PowerLawSpectralModel,\n",
    "    create_crab_spectral_model,\n",
    "    SkyModel,\n",
    "    PointSpatialModel,\n",
    "    ShellSpatialModel,\n",
    "    GeneralizedGaussianSpatialModel,\n",
    "    TemplateSpatialModel,\n",
    "    LogParabolaSpectralModel,\n",
    "    GaussianSpatialModel,\n",
    "    DiskSpatialModel,\n",
    "    PowerLawNormSpectralModel,\n",
    "    Models,\n",
    "    SpatialModel,\n",
    "    FoVBackgroundModel,\n",
    ")\n",
    "from regions import CircleSkyRegion, RectangleSkyRegion\n",
    "import yaml\n",
    "import sys\n",
    "\n",
    "#sys.path.append(\n",
    "#    \"/home/hpc/caph/mppi045h/3D_analysis/N_parameters_in_L/syserror_3d_bkgmodel/4-Fitting_nuisance_and_model_parameters\"\n",
    "#)\n",
    "#from my_dataset_maps_20 import MapDatasetNuisance\n",
    "#from  my_fit_20 import Fit"
   ]
  },
  {
   "cell_type": "markdown",
   "id": "a99efa09",
   "metadata": {},
   "source": [
    "## Standard Analysis\n",
    "Setting up the model"
   ]
  },
  {
   "cell_type": "code",
   "execution_count": 3,
   "id": "245c6a48",
   "metadata": {
    "execution": {
     "iopub.execute_input": "2022-03-17T11:25:02.888343Z",
     "iopub.status.busy": "2022-03-17T11:25:02.888082Z",
     "iopub.status.idle": "2022-03-17T11:25:06.781508Z",
     "shell.execute_reply": "2022-03-17T11:25:06.780437Z"
    }
   },
   "outputs": [
    {
     "name": "stdout",
     "output_type": "stream",
     "text": [
      "MapDataset\n",
      "----------\n",
      "\n",
      "  Name                            : ZY3TRqXu \n",
      "\n",
      "  Total counts                    : 388209 \n",
      "  Total background counts         : 360331.31\n",
      "  Total excess counts             : 27877.69\n",
      "\n",
      "  Predicted counts                : 389549.49\n",
      "  Predicted background counts     : 360331.34\n",
      "  Predicted excess counts         : 29218.15\n",
      "\n",
      "  Exposure min                    : 2.07e-01 m2 s\n",
      "  Exposure max                    : 2.41e+11 m2 s\n",
      "\n",
      "  Number of total bins            : 540000 \n",
      "  Number of fit bins              : 180191 \n",
      "\n",
      "  Fit statistic type              : cash\n",
      "  Fit statistic value (-2 log(L)) : -991452.87\n",
      "\n",
      "  Number of models                : 2 \n",
      "  Number of parameters            : 12\n",
      "  Number of free parameters       : 6\n",
      "\n",
      "  Component 0: SkyModel\n",
      "  \n",
      "    Name                      : main source\n",
      "    Datasets names            : None\n",
      "    Spectral model type       : LogParabolaSpectralModel\n",
      "    Spatial  model type       : GaussianSpatialModel\n",
      "    Temporal model type       : \n",
      "    Parameters:\n",
      "      amplitude                     :   3.70e-11   +/- 2.8e-13 1 / (cm2 s TeV)\n",
      "      reference             (frozen):      1.000       TeV         \n",
      "      alpha                         :      2.513   +/-    0.02             \n",
      "      beta                          :      0.103   +/-    0.01             \n",
      "      lon_0                 (frozen):     83.631       deg         \n",
      "      lat_0                 (frozen):     22.018       deg         \n",
      "      sigma                         :      0.019   +/-    0.00 deg         \n",
      "      e                     (frozen):      0.000                   \n",
      "      phi                   (frozen):      0.000       deg         \n",
      "  \n",
      "  Component 1: FoVBackgroundModel\n",
      "  \n",
      "    Name                      : ZY3TRqXu-bkg\n",
      "    Datasets names            : ['ZY3TRqXu']\n",
      "    Spectral model type       : PowerLawNormSpectralModel\n",
      "    Spatial  model type       : \n",
      "    Parameters:\n",
      "      norm                          :      1.000   +/-    0.00             \n",
      "      tilt                          :      0.000   +/-    0.00             \n",
      "      reference             (frozen):      1.000       TeV         \n",
      "  \n",
      "  \n",
      "spatial binsize =  [0.08] deg\n"
     ]
    },
    {
     "data": {
      "image/png": "[encoded data removed]",
      "text/plain": [
       "<Figure size 640x480 with 2 Axes>"
      ]
     },
     "metadata": {},
     "output_type": "display_data"
    }
   ],
   "source": [
    "source = 'Crab'\n",
    "path = '/home/vault/caph/mppi062h/repositories/HESS_3Dbkg_syserror/2-error_in_dataset'\n",
    "#path = '/home/hpc/caph/mppi045h/3D_analysis/N_parameters_in_L/syserror_3d_bkgmodel/2-source_dataset'\n",
    "\n",
    "if source == \"Crab\":\n",
    "\n",
    "    dataset_standard = MapDataset.read(f'{path}/{source}/stacked.fits')\n",
    "    dataset_standard = dataset_standard.downsample(4)\n",
    "\n",
    "    #dataset_standard = MapDataset.read(f'{path}/{source}/Crab_fullsys.fits')\n",
    "    \n",
    "\n",
    "    models = Models.read(f\"standard_model.yml\")\n",
    "    \n",
    "    bkg_model = FoVBackgroundModel(dataset_name=dataset_standard.name)\n",
    "    bkg_model.parameters['tilt'].frozen  = False\n",
    "\n",
    "    models.parameters['lon_0'].frozen = True\n",
    "    models.parameters['lat_0'].frozen = True\n",
    "    \n",
    "    models.append(bkg_model)\n",
    "    dataset_standard.models = models\n",
    "    ebins_display = 6,9\n",
    "    print(dataset_standard)\n",
    "\n",
    "    \n",
    "\n",
    "dataset_standard.counts.sum_over_axes().plot(add_cbar=1)\n",
    "binsize = dataset_standard.geoms[\"geom\"].width[1] / dataset_standard.geoms[\"geom\"].data_shape[1]\n",
    "print(\n",
    "    \"spatial binsize = \",\n",
    "    binsize\n",
    ")\n",
    "\n",
    "\n"
   ]
  },
  {
   "cell_type": "code",
   "execution_count": 4,
   "id": "ae846c7b",
   "metadata": {
    "scrolled": true
   },
   "outputs": [
    {
     "name": "stdout",
     "output_type": "stream",
     "text": [
      "CPU times: user 9 µs, sys: 10 µs, total: 19 µs\n",
      "Wall time: 8.82 µs\n"
     ]
    }
   ],
   "source": [
    "%%time\n",
    "fit_standarad = Fit(store_trace=False)\n",
    "#result_standarad = fit_standarad.run([dataset_standard])"
   ]
  },
  {
   "cell_type": "markdown",
   "id": "b969163a",
   "metadata": {},
   "source": [
    "The first two energybins of the dataset are not fitted well ..."
   ]
  },
  {
   "cell_type": "code",
   "execution_count": 5,
   "id": "398c0c7c",
   "metadata": {
    "execution": {
     "iopub.execute_input": "2022-03-17T11:25:06.853353Z",
     "iopub.status.busy": "2022-03-17T11:25:06.853111Z",
     "iopub.status.idle": "2022-03-17T11:25:07.741541Z",
     "shell.execute_reply": "2022-03-17T11:25:07.740677Z"
    }
   },
   "outputs": [
    {
     "data": {
      "image/png": "[encoded data removed]",
      "text/plain": [
       "<Figure size 1200x400 with 6 Axes>"
      ]
     },
     "metadata": {},
     "output_type": "display_data"
    }
   ],
   "source": [
    "res_standard = (\n",
    "    dataset_standard.residuals(\"diff/sqrt(model)\")\n",
    "    .slice_by_idx(dict(energy=slice(ebins_display[0],ebins_display[1] )))\n",
    "    .smooth(0.1 * u.deg)\n",
    ")\n",
    "vmax = np.nanmax(np.abs(res_standard.data))\n",
    "res_standard.plot_grid(add_cbar=1, vmax=vmax, vmin=-vmax, cmap=\"coolwarm\");"
   ]
  },
  {
   "cell_type": "code",
   "execution_count": 6,
   "id": "5d744d45",
   "metadata": {},
   "outputs": [
    {
     "name": "stderr",
     "output_type": "stream",
     "text": [
      "/home/wecapstor1/caph/mppi045h/gammapy/gammapy/datasets/map.py:1123: RuntimeWarning: invalid value encountered in true_divide\n",
      "  yerr = excess_error / np.sqrt(npred_spec.data)\n"
     ]
    },
    {
     "data": {
      "image/png": "[encoded data removed]",
      "text/plain": [
       "<Figure size 1200x400 with 3 Axes>"
      ]
     },
     "metadata": {},
     "output_type": "display_data"
    }
   ],
   "source": [
    "kwargs_spectral = dict()\n",
    "kwargs_spectral[\"region\"] = CircleSkyRegion(\n",
    "    dataset_standard.geoms[\"geom\"].center_skydir, radius=3 * u.deg\n",
    ")\n",
    "kwargs_spectral[\"method\"] = \"diff/sqrt(model)\"\n",
    "dataset_standard.plot_residuals(kwargs_spectral=kwargs_spectral);"
   ]
  },
  {
   "cell_type": "markdown",
   "id": "1db20521",
   "metadata": {},
   "source": [
    "## Nuisance Parameters\n",
    "\n",
    "Firstly, the expected ampitude of the systematics for the different energybins are read. They can either be in terms of std or in percentage of the bg. Since in the end the nuisance parameters are in percentage of bg, we want the amplitude in the same unit..\n",
    "\n",
    "Here, two things are used to save computation time:\n",
    "- The nuisance parameters are computed only within the first two energybins of the analysis (index 4 and 5) exemplary to save computation time. The indices are defined as `i_start` and `i_end`. This approximation is fine since the systematic uncertainites are known to be the largest at the smaller energies. \n",
    "- The nuisance parameter have a larger binsize than the counts cube. The downsampling factor `downsampling_factor` denotes that. This way, one nuisance parameter acts on multiple neighbor bins and the systematic uncertainty is averaged over them. The geometry of this downsampled nuisance parameter cube is saved in `dataset.geoms['geom_down']`.\n",
    "\n",
    "\n"
   ]
  },
  {
   "cell_type": "markdown",
   "id": "92924a20",
   "metadata": {},
   "source": [
    "### Systematic Amplitude"
   ]
  },
  {
   "cell_type": "code",
   "execution_count": 7,
   "id": "0672fcbd",
   "metadata": {},
   "outputs": [
    {
     "name": "stdout",
     "output_type": "stream",
     "text": [
      "sysamplitude_percentage: [ 0.          0.          0.          0.          0.          0.05364812\n",
      "  0.02510288  0.0238672  -0.09008346 -0.0232704  -0.00747471  0.00899063\n",
      "  0.01297704  0.08916167  0.02988208  0.03211004  0.03141786  0.0353519\n",
      "  0.04056004  0.04720887  0.          0.          0.          0.        ]\n",
      "Estimated systematic uncertainty: \n",
      "\n",
      "Ebin               [Counts]    [% BG]\n",
      "0.1  : 0.1    TeV:  0.0         0.0    \n",
      "0.1  : 0.2    TeV:  0.0         0.0    \n",
      "0.2  : 0.2    TeV:  0.0         0.0    \n",
      "0.2  : 0.3    TeV:  0.0         0.0    \n",
      "0.3  : 0.4    TeV:  0.0         0.0    \n",
      "0.4  : 0.6    TeV:  462.0       0.054  \n",
      "0.6  : 0.7    TeV:  584.0       0.025  \n",
      "0.7  : 1.0    TeV:  1290.0      0.024  \n",
      "1.0  : 1.3    TeV:  -5763.0     -0.09  \n",
      "1.3  : 1.8    TeV:  -1293.0     -0.023  \n",
      "1.8  : 2.4    TeV:  -332.0      -0.007  \n",
      "2.4  : 3.2    TeV:  296.0       0.009  \n",
      "3.2  : 4.2    TeV:  337.0       0.013  \n",
      "4.2  : 5.6    TeV:  1426.0      0.089  \n",
      "5.6  : 7.5    TeV:  287.0       0.03   \n",
      "7.5  : 10.0   TeV:  238.0       0.032  \n",
      "10.0 : 13.3   TeV:  177.0       0.031  \n",
      "13.3 : 17.8   TeV:  149.0       0.035  \n",
      "17.8 : 23.7   TeV:  125.0       0.041  \n",
      "23.7 : 31.6   TeV:  103.0       0.047  \n",
      "31.6 : 42.2   TeV:  0.0         0.0    \n",
      "42.2 : 56.2   TeV:  0.0         0.0    \n",
      "56.2 : 75.0   TeV:  0.0         0.0    \n",
      "75.0 : 100.0  TeV:  0.0         0.0    \n"
     ]
    }
   ],
   "source": [
    "bg = (\n",
    "    dataset_standard.background\n",
    "    .data.sum(axis=2)\n",
    "    .sum(axis=1)\n",
    ")\n",
    "\n",
    "\n",
    "sysamplitude_percentage = np.loadtxt((f'sysamplitude_percentage.txt'))\n",
    "# Convert to %:\n",
    "sysamplitude_percentage /= 100\n",
    "print(\"sysamplitude_percentage:\",sysamplitude_percentage)\n",
    "\n",
    "\n",
    "#choose between the following:\n",
    "sigma = sysamplitude_percentage \n",
    "#sigma = sysamplitude_std \n",
    "\n",
    "\n",
    "emask = sigma >0\n",
    "print(\"Estimated systematic uncertainty: \")\n",
    "print()\n",
    "print(\"Ebin               [Counts]    [% BG]\")\n",
    "\n",
    "for i, e in enumerate(dataset_standard.geoms['geom'].axes[0].center.value):\n",
    "    e_start, e_end = (\n",
    "        dataset_standard.geoms[\"geom\"].axes[0].edges[ i],\n",
    "        dataset_standard.geoms[\"geom\"].axes[0].edges[i + 1],\n",
    "    )\n",
    "    sys_percent = sigma[i]\n",
    "    sys_counts =  sigma[i] * bg[i]\n",
    "    \n",
    "\n",
    "    print(\n",
    "        f\"{np.round(e_start.value,1):<4} : {np.round(e_end.value,1):<6} TeV:  {np.round(sys_counts,0):<10}  {np.round(sys_percent,3):<5}  \"\n",
    "        )\n",
    "    \n",
    "    \n"
   ]
  },
  {
   "cell_type": "markdown",
   "id": "82681d9c",
   "metadata": {},
   "source": [
    "### Downsampling Factor"
   ]
  },
  {
   "cell_type": "code",
   "execution_count": 8,
   "id": "b0c57270",
   "metadata": {},
   "outputs": [
    {
     "name": "stdout",
     "output_type": "stream",
     "text": [
      "Current Binning: 150\n",
      "Possible downsampling factors: [1, 2, 3, 5, 6, 10, 15, 25, 30, 50, 75]\n",
      "Resulting Binsize: [0.08, 0.16, 0.24, 0.4, 0.48, 0.8, 1.2, 2.0, 2.4, 4.0, 6.0]\n",
      "\n",
      "Chosen Downsampling Factor: \n",
      " 10.\n",
      "This will result in a Binsize of the Nuisance Parameters of \n",
      " 0.8 deg.\n",
      "Which is smaller than the observed angular size of the systematics of \n",
      " 0.8333333333333334 deg.\n"
     ]
    }
   ],
   "source": [
    "angular_size_file = f'angular_size.txt'\n",
    "angular_size = np.loadtxt(angular_size_file)\n",
    "ndim_spatial = dataset_standard.geoms['geom'].data_shape[1]\n",
    "print(\"Current Binning:\", ndim_spatial)\n",
    "possible_downsampling_factors = []\n",
    "possible_binsizes = []\n",
    "for i in range(1, ndim_spatial):\n",
    "    if (ndim_spatial%i == 0):\n",
    "        possible_downsampling_factors.append(i)\n",
    "        possible_binsizes.append(binsize[0].value * i)\n",
    "\n",
    "\n",
    "print(f\"Possible downsampling factors: {possible_downsampling_factors}\")\n",
    "print(f\"Resulting Binsize: {possible_binsizes}\")\n",
    "\n",
    "downsampling_factor_index = -1\n",
    "while (possible_binsizes[downsampling_factor_index] > angular_size):\n",
    "    downsampling_factor_index -=1\n",
    "downsampling_factor =    possible_downsampling_factors[downsampling_factor_index]\n",
    "\n",
    "# ##############################\n",
    "downsampling_factor = 10\n",
    "# ##############################\n",
    "\n",
    "\n",
    "print()\n",
    "print(f\"Chosen Downsampling Factor: \\n {downsampling_factor}.\")\n",
    "print(f\"This will result in a Binsize of the Nuisance Parameters of \\n {possible_binsizes[downsampling_factor_index]} deg.\")\n",
    "print(f\"Which is smaller than the observed angular size of the systematics of \\n {angular_size} deg.\")\n",
    "\n",
    "geom_down = dataset_standard.downsample(downsampling_factor).geoms['geom']\n"
   ]
  },
  {
   "cell_type": "markdown",
   "id": "bd62c92b",
   "metadata": {
    "execution": {
     "iopub.execute_input": "2022-03-17T11:25:07.746082Z",
     "iopub.status.busy": "2022-03-17T11:25:07.745920Z",
     "iopub.status.idle": "2022-03-17T11:25:07.749910Z",
     "shell.execute_reply": "2022-03-17T11:25:07.749185Z"
    }
   },
   "source": [
    "### Nuisance Mask"
   ]
  },
  {
   "cell_type": "markdown",
   "id": "eda44a2b",
   "metadata": {},
   "source": [
    "The `nuisance_mask` describes where in the dataset the nuisance parameters are evaulated. It has the same geometry as `dataset.geoms['geom_down']`. "
   ]
  },
  {
   "cell_type": "markdown",
   "id": "89daca27",
   "metadata": {},
   "source": [
    "#### Option 1:\n",
    "define start and stop by hand"
   ]
  },
  {
   "cell_type": "code",
   "execution_count": 9,
   "id": "edac2d39",
   "metadata": {
    "execution": {
     "iopub.execute_input": "2022-03-17T11:25:07.753970Z",
     "iopub.status.busy": "2022-03-17T11:25:07.753818Z",
     "iopub.status.idle": "2022-03-17T11:25:07.760078Z",
     "shell.execute_reply": "2022-03-17T11:25:07.759243Z"
    }
   },
   "outputs": [],
   "source": [
    "i_start, i_end = 6,7\n",
    "nuisance_mask_hand = (\n",
    "    dataset_standard.geoms[\"geom\"]\n",
    "    .energy_mask(\n",
    "        energy_min=dataset_standard.geoms[\"geom\"].axes[0].edges[i_start],\n",
    "        energy_max=dataset_standard.geoms[\"geom\"].axes[0].edges[i_end],\n",
    "    )\n",
    "    .downsample(downsampling_factor)\n",
    ")"
   ]
  },
  {
   "cell_type": "markdown",
   "id": "7a2f064a",
   "metadata": {},
   "source": [
    "#### Option 2:\n",
    "Read in the sysamplitudes and only fit the nuisance parameters where sys amplitude >0"
   ]
  },
  {
   "cell_type": "code",
   "execution_count": 10,
   "id": "c6a9c318",
   "metadata": {},
   "outputs": [
    {
     "name": "stdout",
     "output_type": "stream",
     "text": [
      "Creating Mask for Nuisance Parameters where sysamplitude==0\n",
      "nui_mask: [False False False False False  True  True  True  True  True  True  True\n",
      "  True  True  True  True  True  True  True  True False False False False]\n",
      "[False, False, False, False, False, False, True, False, False, False, False, False, False, False, False, False, False, False, False, False, False, False, False, False]\n"
     ]
    }
   ],
   "source": [
    "print('Creating Mask for Nuisance Parameters where sysamplitude==0')\n",
    "nui_mask = np.abs(sigma)>0\n",
    "print('nui_mask:',nui_mask)\n",
    "nuisance_mask = Map.from_geom(geom_down, dtype=bool)\n",
    "for e, n in enumerate(nui_mask):\n",
    "    nuisance_mask.data[e,:,:] = n\n",
    "nuisance_mask &= nuisance_mask_hand\n",
    "emask = nuisance_mask.data.mean(axis=2).mean(axis=1)\n",
    "emask = list(map(bool,emask))\n",
    "print(emask)"
   ]
  },
  {
   "cell_type": "markdown",
   "id": "0cec2c2b",
   "metadata": {},
   "source": [
    "### Nuisance Parameters"
   ]
  },
  {
   "cell_type": "code",
   "execution_count": 11,
   "id": "da6c20af",
   "metadata": {},
   "outputs": [
    {
     "name": "stdout",
     "output_type": "stream",
     "text": [
      "                                     sys * thresh < stat:\n",
      "BG: 0.0        pm 0.0              |  0.0\n",
      "                                                            0\n",
      "BG: 0.0        pm 0.0              |  0.0\n",
      "                                                            0\n",
      "BG: 0.0        pm 0.0              |  0.0\n",
      "                                                            0\n",
      "BG: 0.0        pm 0.0              |  0.0\n",
      "                                                            0\n",
      "BG: 0.0        pm 0.0              |  0.0\n",
      "                                                            0\n",
      "BG: 8608.0     pm 93.0             |  462.0\n",
      "                                                            0\n",
      "BG: 23259.0    pm 153.0            |  584.0\n",
      "                                                            0\n",
      "BG: 54043.0    pm 232.0            |  1290.0\n",
      "                                                            0\n",
      "BG: 63969.0    pm 253.0            |  5763.0\n",
      "                                                            0\n",
      "BG: 55580.0    pm 236.0            |  1293.0\n",
      "                                                            0\n",
      "BG: 44360.0    pm 211.0            |  332.0\n",
      "                                                            0\n",
      "BG: 32921.0    pm 181.0            |  296.0\n",
      "                                                            0\n",
      "BG: 25946.0    pm 161.0            |  337.0\n",
      "                                                            0\n",
      "BG: 15998.0    pm 126.0            |  1426.0\n",
      "                                                            0\n",
      "BG: 9616.0     pm 98.0             |  287.0\n",
      "                                                            0\n",
      "BG: 7418.0     pm 86.0             |  238.0\n",
      "                                                            0\n",
      "BG: 5637.0     pm 75.0             |  177.0\n",
      "                                                            0\n",
      "BG: 4207.0     pm 65.0             |  149.0\n",
      "                                                            0\n",
      "BG: 3072.0     pm 55.0             |  125.0\n",
      "                                                            0\n",
      "BG: 2177.0     pm 47.0             |  103.0\n",
      "                                                            0\n",
      "BG: 1531.0     pm 39.0             |  0.0\n",
      "                                                            1\n",
      "BG: 1131.0     pm 34.0             |  0.0\n",
      "                                                            1\n",
      "BG: 859.0      pm 29.0             |  0.0\n",
      "                                                            1\n",
      "BG: 0.0        pm 0.0              |  0.0\n",
      "                                                            0\n"
     ]
    }
   ],
   "source": [
    "threshold = 1#10000\n",
    "bg_map_eaxis = dataset_standard.background.data.sum(axis = 2).sum(axis=1)\n",
    "\n",
    "\n",
    "print(\"                                     sys * thresh < stat:\")\n",
    "for i in range(len(bg_map_eaxis)):\n",
    "    stat =np.round(np.sqrt(bg_map_eaxis[i]) )\n",
    "    sys = np.round(np.abs(sigma[i]*bg_map_eaxis[i]))\n",
    "    print(f\"BG: {np.round(bg_map_eaxis[i]):<10} pm {stat:<14}   |  {sys}\")\n",
    "    print(f\" { ((sys * threshold) < stat):>60}\")"
   ]
  },
  {
   "cell_type": "code",
   "execution_count": 12,
   "id": "ebeeca12",
   "metadata": {},
   "outputs": [
    {
     "name": "stdout",
     "output_type": "stream",
     "text": [
      "False False\n",
      "False False\n",
      "False False\n",
      "False False\n",
      "False False\n",
      "True False\n",
      "True True\n",
      "True False\n",
      "True False\n",
      "True False\n",
      "True False\n",
      "True False\n",
      "True False\n",
      "True False\n",
      "True False\n",
      "True False\n",
      "True False\n",
      "True False\n",
      "True False\n",
      "True False\n",
      "False False\n",
      "False False\n",
      "False False\n",
      "False False\n"
     ]
    }
   ],
   "source": [
    "for ii in np.arange(len(sigma)):\n",
    "    print( np.abs(sigma[ii]) >0.0 , emask[ii])\n"
   ]
  },
  {
   "cell_type": "code",
   "execution_count": 13,
   "id": "7832c61b",
   "metadata": {},
   "outputs": [
    {
     "name": "stdout",
     "output_type": "stream",
     "text": [
      "0.025102876215608482\n"
     ]
    }
   ],
   "source": [
    "# new way to compute correlation matrix to make it symmetric/ invertible\n",
    "# into Gaussian: sigma **2  * exp(...), where sigma  is the systematic amplitude in %\n",
    "# if it is saved in terms of std it has to be transformed! \n",
    "ndim_spectral_nui = int(sum(emask))\n",
    "ndim_spatial_nui_1D = geom_down.data_shape[1]\n",
    "ndim_spatial_nui = ndim_spatial_nui_1D **2\n",
    "ndim_3D_nui = ndim_spectral_nui *  ndim_spatial_nui\n",
    "\n",
    "sys_map = Map.from_geom(geom_down).slice_by_idx(dict(energy=slice(0,int(ndim_spectral_nui))))\n",
    "e = 0\n",
    "sys_map.data = np.ones_like(sys_map.data)\n",
    "for ii in np.arange(len(sigma)):\n",
    "    if np.abs(sigma[ii]) >0.0 and emask[ii]:\n",
    "        if dataset_standard.npred_background().downsample(downsampling_factor).data[ii,:,:].sum() > 0:\n",
    "            sys_map.data[e,:,:] *= sigma[ii] **2\n",
    "            print(sigma[ii])\n",
    "        e+=1\n",
    "\n"
   ]
  },
  {
   "cell_type": "code",
   "execution_count": 14,
   "id": "caaf7134",
   "metadata": {},
   "outputs": [
    {
     "name": "stdout",
     "output_type": "stream",
     "text": [
      "60  free Nuisance Parameters out of  225\n"
     ]
    }
   ],
   "source": [
    "# Freeze Nuisance parameters at the edges of the analysis\n",
    "threshold = 10000\n",
    "bg_map  = dataset_standard.background.downsample(downsampling_factor)\n",
    "bg = bg_map.data[emask].flatten()\n",
    "stat_err_ = np.sqrt(bg)\n",
    "Nuisance_parameters = [Parameter(name = \"db\"+str(i), value =0,frozen = False, is_penalised= True)  \n",
    "            if sys_map.data.flatten()[i]  * threshold < stat_err_[i] \n",
    "            else  Parameter(name = \"db\"+str(i), value = 0,frozen = True, is_penalised = True)\n",
    "      for i in range(ndim_3D_nui)]\n",
    "Nuisance_parameters = Parameters( Nuisance_parameters)\n",
    "print(len(Nuisance_parameters.free_parameters), ' free Nuisance Parameters out of ', ndim_3D_nui)\n",
    "\n",
    "\n"
   ]
  },
  {
   "cell_type": "markdown",
   "id": "c7f53ba3",
   "metadata": {},
   "source": [
    "The total amount of nuisance parameters in the dataset can now be computed (defined as `ndim_3D_nui`). The number of spatial and spectral dimensions of the nuisance parameter cube is defined as `ndim_spatial_nui` and `ndim_spectral_nui` since it is needed for the computation of the correlation matrix. Note that here the FoV is expected to be squared. \n",
    "The nuisance parameters are defined with their initial value set to `0`."
   ]
  },
  {
   "cell_type": "markdown",
   "id": "85cd9b49",
   "metadata": {},
   "source": [
    "## Correlation of Nuisance Parameters"
   ]
  },
  {
   "cell_type": "markdown",
   "id": "4e2504cd",
   "metadata": {},
   "source": [
    "The Gaussian correlation matrix is the kronecker product of the spatial $K_{ij}$ and the spectral correlation matrix $K_{e}$: \\\n",
    "$ K_{ije} = K_{e} \\cdot K_{ij} $\n",
    "\n",
    "The spatial correlation matrix is defined as follows:\n",
    "\n",
    "$K_{ij} = \\exp \\left( \\frac{ -  (r_i - r_j ) ^2} {2\\cdot l_{corr}^2}    \\right)$,\\\n",
    "where $l_{corr}$ describes the spatial correlation length. Note that the correlation amplitude in the spatial correlation matrix is set to $1$. This is due to the fact, that we assume in the first order a uniformly distributed systematic uncertainty over the FoV. The correaltion amplitude was evaluated over the summed up FoV for each of the energybins and is therefore used in the spectral correlation desciption only.\n",
    "\n",
    "The spectral correaltion matrix is:\n",
    "\n",
    "$K_{s} = \\sigma_s $, \\\n",
    "where $\\sigma_s$ is the correlation amplitude in the spectral bin $s$. Note that here the correlation is in fact not Gaussian and there is no correlation between the energy bins. The correaltion is intrinsically included in the way the spectral correlation amplitude is defined. \n",
    "\n",
    "\n",
    "Therefor for the Gaussian correlation matrix $K_{ije}$ of the nuisance parameter one needs two parameters:\n",
    "- `l_corr`: the spatial correlation length in deg. For instance, a Fourier transformation of the residual map of the standard analysis can be used to estimate the correlation length. Generally, it is important to choose a correaltion length greater than the bin size of the counts cube to avoid fitting the nuisance parameters without any correlation which can lead to overfitting the data. \n",
    "- `sysamplitude`: list of correlation amplitudes for the different energybins. The strength of the systematics can be estimated of the spectral residual points when taking only the OFF regions of all runs into account. Here, these obtained values are divided by the amount of spatial bins they were computed for.   "
   ]
  },
  {
   "cell_type": "code",
   "execution_count": 15,
   "id": "ada65005",
   "metadata": {
    "execution": {
     "iopub.execute_input": "2022-03-17T11:25:07.776943Z",
     "iopub.status.busy": "2022-03-17T11:25:07.776761Z",
     "iopub.status.idle": "2022-03-17T11:25:07.780451Z",
     "shell.execute_reply": "2022-03-17T11:25:07.779702Z"
    }
   },
   "outputs": [],
   "source": [
    "l_corr = 0.08\n"
   ]
  },
  {
   "cell_type": "markdown",
   "id": "f29931a3",
   "metadata": {},
   "source": [
    "The spatial correlation matrix is computed with two helper maps to compute the separation angle between two spatial bins. Afterwards, the systematic amplitude is set as the diagonal of the spectral correlation matrix and the kroneker product of the two is returned as the overall correlation matrix. "
   ]
  },
  {
   "cell_type": "code",
   "execution_count": 16,
   "id": "8ce2a4c0",
   "metadata": {
    "execution": {
     "iopub.execute_input": "2022-03-17T11:25:07.798679Z",
     "iopub.status.busy": "2022-03-17T11:25:07.798368Z",
     "iopub.status.idle": "2022-03-17T11:25:07.809798Z",
     "shell.execute_reply": "2022-03-17T11:25:07.809126Z"
    }
   },
   "outputs": [],
   "source": [
    "geom_down = nuisance_mask.geom\n",
    "helper_map = Map.from_geom(geom_down).slice_by_idx(dict(energy=slice(0, 1)))\n",
    "helper_map2 = helper_map.copy()\n",
    "\n",
    "\n",
    "def compute_K_matrix(l_deg):\n",
    "    corr_matrix_spatial = np.identity(ndim_spatial_nui)\n",
    "    for b_0 in range(ndim_spatial_nui_1D):\n",
    "        for l_0 in range(ndim_spatial_nui_1D):\n",
    "            i = b_0 * ndim_spatial_nui_1D + l_0\n",
    "            C = SkyCoord(\n",
    "                helper_map.geom.pix_to_coord((l_0, b_0, 0))[0],\n",
    "                helper_map.geom.pix_to_coord((l_0, b_0, 0))[1],\n",
    "                frame=geom_down.frame,\n",
    "            )\n",
    "            helper_map.data[0, :, :] = C.separation(\n",
    "                geom_down.to_image().get_coord().skycoord\n",
    "            ).value\n",
    "            helper_map2.data = np.zeros(ndim_spatial_nui_1D ** 2).reshape(\n",
    "                helper_map2.geom.data_shape\n",
    "            )\n",
    "            helper_map2.data[0, :, :] = np.exp(\n",
    "                -0.5 * helper_map.data[0, :, :] ** 2 / l_deg ** 2\n",
    "            )\n",
    "            corr_matrix_spatial[i, :] = helper_map2.data.flatten()\n",
    "\n",
    "    corr_matrix_spectral = np.identity(ndim_spectral_nui)\n",
    "    for e in range((ndim_spectral_nui)):\n",
    "        corr_matrix_spectral[e, e] = sigma[emask][e] ** 2\n",
    "    return np.kron(corr_matrix_spectral, corr_matrix_spatial)"
   ]
  },
  {
   "cell_type": "code",
   "execution_count": 17,
   "id": "4ac25831",
   "metadata": {
    "execution": {
     "iopub.execute_input": "2022-03-17T11:25:07.813611Z",
     "iopub.status.busy": "2022-03-17T11:25:07.813406Z",
     "iopub.status.idle": "2022-03-17T11:25:08.111207Z",
     "shell.execute_reply": "2022-03-17T11:25:08.110418Z"
    }
   },
   "outputs": [
    {
     "name": "stdout",
     "output_type": "stream",
     "text": [
      "Maximal expected sys amplitude in % of bg: 2.510287621560848\n",
      "Maximal sigma: 2.510287621560848\n"
     ]
    },
    {
     "data": {
      "image/png": "[encoded data removed]",
      "text/plain": [
       "<Figure size 640x480 with 2 Axes>"
      ]
     },
     "metadata": {},
     "output_type": "display_data"
    }
   ],
   "source": [
    "correlation_matrix = compute_K_matrix(l_corr)\n",
    "fig = plt.figure()\n",
    "ax = fig.add_subplot(111)\n",
    "cax = ax.matshow(correlation_matrix)  # interpolation='nearest')\n",
    "fig.colorbar(cax);\n",
    "print(\"Maximal expected sys amplitude in % of bg:\", np.sqrt(correlation_matrix.max() ) * 100)\n",
    "print(\"Maximal sigma:\", sigma[emask].max()* 100)"
   ]
  },
  {
   "cell_type": "markdown",
   "id": "b0334e7d",
   "metadata": {},
   "source": [
    "# Initiate the MapDatasetNuisance\n",
    "\n",
    "The MapDatasetNuisance class takes in addition to the MapDataset class:\n",
    "- `inv_corr_matrix`: The inverse of the correlation matrix \n",
    "- ` N_parameters`: The nuisance parameters\n",
    "- `nuisance_mask`: Mask to help evaluating the nuisance parameters in the background prediction"
   ]
  },
  {
   "cell_type": "code",
   "execution_count": 18,
   "id": "caf387a6",
   "metadata": {},
   "outputs": [],
   "source": [
    "dataset_N = MapDataset(\n",
    "    background=dataset_standard.background,\n",
    "    exposure=dataset_standard.exposure,\n",
    "    psf=dataset_standard.psf,\n",
    "    edisp=dataset_standard.edisp,\n",
    "    mask_fit=dataset_standard.mask_fit,\n",
    "    mask_safe=dataset_standard.mask_safe,\n",
    "    counts=dataset_standard.counts,\n",
    "    _penalising_invcovmatrix =np.linalg.inv(correlation_matrix))"
   ]
  },
  {
   "cell_type": "code",
   "execution_count": 26,
   "id": "188384bd",
   "metadata": {},
   "outputs": [
    {
     "data": {
      "text/plain": [
       "<module 'gammapy.modeling.models.IRF' from '/home/wecapstor1/caph/mppi045h/gammapy/gammapy/modeling/models/IRF.py'>"
      ]
     },
     "execution_count": 26,
     "metadata": {},
     "output_type": "execute_result"
    }
   ],
   "source": [
    "import importlib\n",
    "import gammapy.modeling.models.IRF as IRF\n",
    "importlib.reload(gammapy.modeling.models.IRF)"
   ]
  },
  {
   "cell_type": "code",
   "execution_count": 27,
   "id": "3886d08e",
   "metadata": {},
   "outputs": [],
   "source": [
    "bkg_nui_model = IRF.NuisanceBackgroundModel(N_parameters = Nuisance_parameters,\n",
    "                                           geom_bkg = dataset_standard.geoms['geom'],\n",
    "                                           nuisance_mask=nuisance_mask)"
   ]
  },
  {
   "cell_type": "code",
   "execution_count": 28,
   "id": "ceee2c7a",
   "metadata": {},
   "outputs": [
    {
     "name": "stdout",
     "output_type": "stream",
     "text": [
      "Parameter(name='db0', value=0.0, factor=0.0, scale=1.0, unit=Unit(dimensionless), min=nan, max=nan, frozen=True, id=0x7f7eff63a160, is_penalised=True)\n"
     ]
    }
   ],
   "source": [
    "print(bkg_nui_model.parameters[0])"
   ]
  },
  {
   "cell_type": "code",
   "execution_count": null,
   "id": "4a844640",
   "metadata": {},
   "outputs": [],
   "source": [
    "bkg_nui_model.parameters.names"
   ]
  },
  {
   "cell_type": "code",
   "execution_count": 29,
   "id": "18638603",
   "metadata": {
    "scrolled": true
   },
   "outputs": [
    {
     "name": "stdout",
     "output_type": "stream",
     "text": [
      "NuisanceBackgroundModel\n",
      "\n",
      "type  name   value    unit   error   min max frozen is_norm is_penalised link\n",
      "---- ----- ---------- ---- --------- --- --- ------ ------- ------------ ----\n",
      "None   db0 0.0000e+00      0.000e+00 nan nan   True   False         True     \n",
      "None   db1 0.0000e+00      0.000e+00 nan nan   True   False         True     \n",
      "None   db2 0.0000e+00      0.000e+00 nan nan   True   False         True     \n",
      "None   db3 0.0000e+00      0.000e+00 nan nan   True   False         True     \n",
      "None   db4 0.0000e+00      0.000e+00 nan nan   True   False         True     \n",
      "None   db5 0.0000e+00      0.000e+00 nan nan   True   False         True     \n",
      "None   db6 0.0000e+00      0.000e+00 nan nan   True   False         True     \n",
      "None   db7 0.0000e+00      0.000e+00 nan nan   True   False         True     \n",
      "None   db8 0.0000e+00      0.000e+00 nan nan   True   False         True     \n",
      "None   db9 0.0000e+00      0.000e+00 nan nan   True   False         True     \n",
      "None  db10 0.0000e+00      0.000e+00 nan nan   True   False         True     \n",
      "None  db11 0.0000e+00      0.000e+00 nan nan   True   False         True     \n",
      "None  db12 0.0000e+00      0.000e+00 nan nan   True   False         True     \n",
      "None  db13 0.0000e+00      0.000e+00 nan nan   True   False         True     \n",
      "None  db14 0.0000e+00      0.000e+00 nan nan   True   False         True     \n",
      "None  db15 0.0000e+00      0.000e+00 nan nan   True   False         True     \n",
      "None  db16 0.0000e+00      0.000e+00 nan nan   True   False         True     \n",
      "None  db17 0.0000e+00      0.000e+00 nan nan   True   False         True     \n",
      "None  db18 0.0000e+00      0.000e+00 nan nan   True   False         True     \n",
      "None  db19 0.0000e+00      0.000e+00 nan nan   True   False         True     \n",
      "None  db20 0.0000e+00      0.000e+00 nan nan   True   False         True     \n",
      "None  db21 0.0000e+00      0.000e+00 nan nan   True   False         True     \n",
      "None  db22 0.0000e+00      0.000e+00 nan nan   True   False         True     \n",
      "None  db23 0.0000e+00      0.000e+00 nan nan   True   False         True     \n",
      "None  db24 0.0000e+00      0.000e+00 nan nan   True   False         True     \n",
      "None  db25 0.0000e+00      0.000e+00 nan nan   True   False         True     \n",
      "None  db26 0.0000e+00      0.000e+00 nan nan   True   False         True     \n",
      "None  db27 0.0000e+00      0.000e+00 nan nan   True   False         True     \n",
      "None  db28 0.0000e+00      0.000e+00 nan nan   True   False         True     \n",
      "None  db29 0.0000e+00      0.000e+00 nan nan   True   False         True     \n",
      "None  db30 0.0000e+00      0.000e+00 nan nan   True   False         True     \n",
      "None  db31 0.0000e+00      0.000e+00 nan nan   True   False         True     \n",
      "None  db32 0.0000e+00      0.000e+00 nan nan   True   False         True     \n",
      " ...   ...        ...  ...       ... ... ...    ...     ...          ...  ...\n",
      "None db192 0.0000e+00      0.000e+00 nan nan   True   False         True     \n",
      "None db193 0.0000e+00      0.000e+00 nan nan   True   False         True     \n",
      "None db194 0.0000e+00      0.000e+00 nan nan   True   False         True     \n",
      "None db195 0.0000e+00      0.000e+00 nan nan   True   False         True     \n",
      "None db196 0.0000e+00      0.000e+00 nan nan   True   False         True     \n",
      "None db197 0.0000e+00      0.000e+00 nan nan   True   False         True     \n",
      "None db198 0.0000e+00      0.000e+00 nan nan   True   False         True     \n",
      "None db199 0.0000e+00      0.000e+00 nan nan   True   False         True     \n",
      "None db200 0.0000e+00      0.000e+00 nan nan   True   False         True     \n",
      "None db201 0.0000e+00      0.000e+00 nan nan   True   False         True     \n",
      "None db202 0.0000e+00      0.000e+00 nan nan   True   False         True     \n",
      "None db203 0.0000e+00      0.000e+00 nan nan   True   False         True     \n",
      "None db204 0.0000e+00      0.000e+00 nan nan   True   False         True     \n",
      "None db205 0.0000e+00      0.000e+00 nan nan   True   False         True     \n",
      "None db206 0.0000e+00      0.000e+00 nan nan   True   False         True     \n",
      "None db207 0.0000e+00      0.000e+00 nan nan   True   False         True     \n",
      "None db208 0.0000e+00      0.000e+00 nan nan   True   False         True     \n",
      "None db209 0.0000e+00      0.000e+00 nan nan   True   False         True     \n",
      "None db210 0.0000e+00      0.000e+00 nan nan   True   False         True     \n",
      "None db211 0.0000e+00      0.000e+00 nan nan   True   False         True     \n",
      "None db212 0.0000e+00      0.000e+00 nan nan   True   False         True     \n",
      "None db213 0.0000e+00      0.000e+00 nan nan   True   False         True     \n",
      "None db214 0.0000e+00      0.000e+00 nan nan   True   False         True     \n",
      "None db215 0.0000e+00      0.000e+00 nan nan   True   False         True     \n",
      "None db216 0.0000e+00      0.000e+00 nan nan   True   False         True     \n",
      "None db217 0.0000e+00      0.000e+00 nan nan   True   False         True     \n",
      "None db218 0.0000e+00      0.000e+00 nan nan   True   False         True     \n",
      "None db219 0.0000e+00      0.000e+00 nan nan   True   False         True     \n",
      "None db220 0.0000e+00      0.000e+00 nan nan   True   False         True     \n",
      "None db221 0.0000e+00      0.000e+00 nan nan   True   False         True     \n",
      "None db222 0.0000e+00      0.000e+00 nan nan   True   False         True     \n",
      "None db223 0.0000e+00      0.000e+00 nan nan   True   False         True     \n",
      "None db224 0.0000e+00      0.000e+00 nan nan   True   False         True     \n",
      "Length = 225 rows\n",
      "MapDataset\n",
      "----------\n",
      "\n",
      "  Name                            : R9kvy64E \n",
      "\n",
      "  Total counts                    : 388209 \n",
      "  Total background counts         : 360331.31\n",
      "  Total excess counts             : 27877.69\n",
      "\n",
      "  Predicted counts                : 389549.49\n",
      "  Predicted background counts     : 360331.34\n",
      "  Predicted excess counts         : 29218.15\n",
      "\n",
      "  Exposure min                    : 2.07e-01 m2 s\n",
      "  Exposure max                    : 2.41e+11 m2 s\n",
      "\n",
      "  Number of total bins            : 540000 \n",
      "  Number of fit bins              : 180191 \n",
      "\n",
      "  Fit statistic type              : cash\n",
      "  Fit statistic value (-2 log(L)) : -991452.87\n",
      "\n",
      "  Number of models                : 2 \n",
      "  Number of parameters            : 237\n",
      "  Number of free parameters       : 66\n",
      "\n",
      "  Component 0: SkyModel\n",
      "  \n",
      "    Name                      : main source\n",
      "    Datasets names            : None\n",
      "    Spectral model type       : LogParabolaSpectralModel\n",
      "    Spatial  model type       : GaussianSpatialModel\n",
      "    Temporal model type       : \n",
      "    Parameters:\n",
      "      amplitude                     :   3.70e-11   +/- 2.8e-13 1 / (cm2 s TeV)\n",
      "      reference             (frozen):      1.000       TeV         \n",
      "      alpha                         :      2.513   +/-    0.02             \n",
      "      beta                          :      0.103   +/-    0.01             \n",
      "      lon_0                 (frozen):     83.631       deg         \n",
      "      lat_0                 (frozen):     22.018       deg         \n",
      "      sigma                         :      0.019   +/-    0.00 deg         \n",
      "      e                     (frozen):      0.000                   \n",
      "      phi                   (frozen):      0.000       deg         \n",
      "  \n",
      "  Component 1: FoVBackgroundModel\n",
      "  \n",
      "    Name                      : R9kvy64E-bkg\n",
      "    Datasets names            : ['R9kvy64E']\n",
      "    Spectral model type       : PowerLawNormSpectralModel\n",
      "    Spatial  model type       : NuisanceBackgroundModel\n",
      "    Parameters:\n",
      "      norm                          :      1.000   +/-    0.00             \n",
      "      tilt                          :      0.000   +/-    0.00             \n",
      "      reference             (frozen):      1.000       TeV         \n",
      "      db0                   (frozen):      0.000                   \n",
      "      db1                   (frozen):      0.000                   \n",
      "      db2                   (frozen):      0.000                   \n",
      "      db3                   (frozen):      0.000                   \n",
      "      db4                   (frozen):      0.000                   \n",
      "      db5                   (frozen):      0.000                   \n",
      "      db6                   (frozen):      0.000                   \n",
      "      db7                   (frozen):      0.000                   \n",
      "      db8                   (frozen):      0.000                   \n",
      "      db9                   (frozen):      0.000                   \n",
      "      db10                  (frozen):      0.000                   \n",
      "      db11                  (frozen):      0.000                   \n",
      "      db12                  (frozen):      0.000                   \n",
      "      db13                  (frozen):      0.000                   \n",
      "      db14                  (frozen):      0.000                   \n",
      "      db15                  (frozen):      0.000                   \n",
      "      db16                  (frozen):      0.000                   \n",
      "      db17                  (frozen):      0.000                   \n",
      "      db18                  (frozen):      0.000                   \n",
      "      db19                  (frozen):      0.000                   \n",
      "      db20                  (frozen):      0.000                   \n",
      "      db21                  (frozen):      0.000                   \n",
      "      db22                  (frozen):      0.000                   \n",
      "      db23                  (frozen):      0.000                   \n",
      "      db24                  (frozen):      0.000                   \n",
      "      db25                  (frozen):      0.000                   \n",
      "      db26                  (frozen):      0.000                   \n",
      "      db27                  (frozen):      0.000                   \n",
      "      db28                  (frozen):      0.000                   \n",
      "      db29                  (frozen):      0.000                   \n",
      "      db30                  (frozen):      0.000                   \n",
      "      db31                  (frozen):      0.000                   \n",
      "      db32                  (frozen):      0.000                   \n",
      "      db33                  (frozen):      0.000                   \n",
      "      db34                  (frozen):      0.000                   \n",
      "      db35                  (frozen):      0.000                   \n",
      "      db36                  (frozen):      0.000                   \n",
      "      db37                  (frozen):      0.000                   \n",
      "      db38                  (frozen):      0.000                   \n",
      "      db39                  (frozen):      0.000                   \n",
      "      db40                  (frozen):      0.000                   \n",
      "      db41                  (frozen):      0.000                   \n",
      "      db42                  (frozen):      0.000                   \n",
      "      db43                  (frozen):      0.000                   \n",
      "      db44                  (frozen):      0.000                   \n",
      "      db45                  (frozen):      0.000                   \n",
      "      db46                  (frozen):      0.000                   \n",
      "      db47                  (frozen):      0.000                   \n",
      "      db48                  (frozen):      0.000                   \n",
      "      db49                  (frozen):      0.000                   \n",
      "      db50                  (frozen):      0.000                   \n",
      "      db51                          :      0.000   +/-    0.00             \n",
      "      db52                          :      0.000   +/-    0.00             \n",
      "      db53                          :      0.000   +/-    0.00             \n",
      "      db54                  (frozen):      0.000                   \n",
      "      db55                  (frozen):      0.000                   \n",
      "      db56                  (frozen):      0.000                   \n",
      "      db57                  (frozen):      0.000                   \n",
      "      db58                  (frozen):      0.000                   \n",
      "      db59                  (frozen):      0.000                   \n",
      "      db60                  (frozen):      0.000                   \n",
      "      db61                  (frozen):      0.000                   \n",
      "      db62                  (frozen):      0.000                   \n",
      "      db63                  (frozen):      0.000                   \n",
      "      db64                  (frozen):      0.000                   \n",
      "      db65                          :      0.000   +/-    0.00             \n",
      "      db66                          :      0.000   +/-    0.00             \n",
      "      db67                          :      0.000   +/-    0.00             \n",
      "      db68                          :      0.000   +/-    0.00             \n",
      "      db69                          :      0.000   +/-    0.00             \n",
      "      db70                  (frozen):      0.000                   \n",
      "      db71                  (frozen):      0.000                   \n",
      "      db72                  (frozen):      0.000                   \n",
      "      db73                  (frozen):      0.000                   \n",
      "      db74                  (frozen):      0.000                   \n",
      "      db75                  (frozen):      0.000                   \n",
      "      db76                  (frozen):      0.000                   \n",
      "      db77                  (frozen):      0.000                   \n",
      "      db78                  (frozen):      0.000                   \n",
      "      db79                          :      0.000   +/-    0.00             \n",
      "      db80                          :      0.000   +/-    0.00             \n",
      "      db81                          :      0.000   +/-    0.00             \n",
      "      db82                          :      0.000   +/-    0.00             \n",
      "      db83                          :      0.000   +/-    0.00             \n",
      "      db84                          :      0.000   +/-    0.00             \n",
      "      db85                          :      0.000   +/-    0.00             \n",
      "      db86                  (frozen):      0.000                   \n",
      "      db87                  (frozen):      0.000                   \n",
      "      db88                  (frozen):      0.000                   \n",
      "      db89                  (frozen):      0.000                   \n",
      "      db90                  (frozen):      0.000                   \n",
      "      db91                  (frozen):      0.000                   \n",
      "      db92                  (frozen):      0.000                   \n",
      "      db93                  (frozen):      0.000                   \n",
      "      db94                          :      0.000   +/-    0.00             \n",
      "      db95                          :      0.000   +/-    0.00             \n",
      "      db96                          :      0.000   +/-    0.00             \n",
      "      db97                          :      0.000   +/-    0.00             \n",
      "      db98                          :      0.000   +/-    0.00             \n",
      "      db99                          :      0.000   +/-    0.00             \n",
      "      db100                         :      0.000   +/-    0.00             \n",
      "      db101                 (frozen):      0.000                   \n",
      "      db102                 (frozen):      0.000                   \n",
      "      db103                 (frozen):      0.000                   \n",
      "      db104                 (frozen):      0.000                   \n",
      "      db105                 (frozen):      0.000                   \n",
      "      db106                 (frozen):      0.000                   \n",
      "      db107                 (frozen):      0.000                   \n",
      "      db108                 (frozen):      0.000                   \n",
      "      db109                         :      0.000   +/-    0.00             \n",
      "      db110                         :      0.000   +/-    0.00             \n",
      "      db111                         :      0.000   +/-    0.00             \n",
      "      db112                         :      0.000   +/-    0.00             \n",
      "      db113                         :      0.000   +/-    0.00             \n",
      "      db114                         :      0.000   +/-    0.00             \n",
      "      db115                         :      0.000   +/-    0.00             \n",
      "      db116                 (frozen):      0.000                   \n",
      "      db117                 (frozen):      0.000                   \n",
      "      db118                 (frozen):      0.000                   \n",
      "      db119                 (frozen):      0.000                   \n",
      "      db120                 (frozen):      0.000                   \n",
      "      db121                 (frozen):      0.000                   \n",
      "      db122                 (frozen):      0.000                   \n",
      "      db123                 (frozen):      0.000                   \n",
      "      db124                         :      0.000   +/-    0.00             \n",
      "      db125                         :      0.000   +/-    0.00             \n",
      "      db126                         :      0.000   +/-    0.00             \n",
      "      db127                         :      0.000   +/-    0.00             \n",
      "      db128                         :      0.000   +/-    0.00             \n",
      "      db129                         :      0.000   +/-    0.00             \n",
      "      db130                         :      0.000   +/-    0.00             \n",
      "      db131                 (frozen):      0.000                   \n",
      "      db132                 (frozen):      0.000                   \n",
      "      db133                 (frozen):      0.000                   \n",
      "      db134                 (frozen):      0.000                   \n",
      "      db135                 (frozen):      0.000                   \n",
      "      db136                 (frozen):      0.000                   \n",
      "      db137                 (frozen):      0.000                   \n",
      "      db138                 (frozen):      0.000                   \n",
      "      db139                         :      0.000   +/-    0.00             \n",
      "      db140                         :      0.000   +/-    0.00             \n",
      "      db141                         :      0.000   +/-    0.00             \n",
      "      db142                         :      0.000   +/-    0.00             \n",
      "      db143                         :      0.000   +/-    0.00             \n",
      "      db144                         :      0.000   +/-    0.00             \n",
      "      db145                         :      0.000   +/-    0.00             \n",
      "      db146                 (frozen):      0.000                   \n",
      "      db147                 (frozen):      0.000                   \n",
      "      db148                 (frozen):      0.000                   \n",
      "      db149                 (frozen):      0.000                   \n",
      "      db150                 (frozen):      0.000                   \n",
      "      db151                 (frozen):      0.000                   \n",
      "      db152                 (frozen):      0.000                   \n",
      "      db153                 (frozen):      0.000                   \n",
      "      db154                         :      0.000   +/-    0.00             \n",
      "      db155                         :      0.000   +/-    0.00             \n",
      "      db156                         :      0.000   +/-    0.00             \n",
      "      db157                         :      0.000   +/-    0.00             \n",
      "      db158                         :      0.000   +/-    0.00             \n",
      "      db159                         :      0.000   +/-    0.00             \n",
      "      db160                         :      0.000   +/-    0.00             \n",
      "      db161                 (frozen):      0.000                   \n",
      "      db162                 (frozen):      0.000                   \n",
      "      db163                 (frozen):      0.000                   \n",
      "      db164                 (frozen):      0.000                   \n",
      "      db165                 (frozen):      0.000                   \n",
      "      db166                 (frozen):      0.000                   \n",
      "      db167                 (frozen):      0.000                   \n",
      "      db168                 (frozen):      0.000                   \n",
      "      db169                 (frozen):      0.000                   \n",
      "      db170                         :      0.000   +/-    0.00             \n",
      "      db171                         :      0.000   +/-    0.00             \n",
      "      db172                         :      0.000   +/-    0.00             \n",
      "      db173                         :      0.000   +/-    0.00             \n",
      "      db174                         :      0.000   +/-    0.00             \n",
      "      db175                 (frozen):      0.000                   \n",
      "      db176                 (frozen):      0.000                   \n",
      "      db177                 (frozen):      0.000                   \n",
      "      db178                 (frozen):      0.000                   \n",
      "      db179                 (frozen):      0.000                   \n",
      "      db180                 (frozen):      0.000                   \n",
      "      db181                 (frozen):      0.000                   \n",
      "      db182                 (frozen):      0.000                   \n",
      "      db183                 (frozen):      0.000                   \n",
      "      db184                 (frozen):      0.000                   \n",
      "      db185                         :      0.000   +/-    0.00             \n",
      "      db186                         :      0.000   +/-    0.00             \n",
      "      db187                         :      0.000   +/-    0.00             \n",
      "      db188                         :      0.000   +/-    0.00             \n",
      "      db189                         :      0.000   +/-    0.00             \n",
      "      db190                 (frozen):      0.000                   \n",
      "      db191                 (frozen):      0.000                   \n",
      "      db192                 (frozen):      0.000                   \n",
      "      db193                 (frozen):      0.000                   \n",
      "      db194                 (frozen):      0.000                   \n",
      "      db195                 (frozen):      0.000                   \n",
      "      db196                 (frozen):      0.000                   \n",
      "      db197                 (frozen):      0.000                   \n",
      "      db198                 (frozen):      0.000                   \n",
      "      db199                 (frozen):      0.000                   \n",
      "      db200                 (frozen):      0.000                   \n",
      "      db201                 (frozen):      0.000                   \n",
      "      db202                 (frozen):      0.000                   \n",
      "      db203                 (frozen):      0.000                   \n",
      "      db204                 (frozen):      0.000                   \n",
      "      db205                 (frozen):      0.000                   \n",
      "      db206                 (frozen):      0.000                   \n",
      "      db207                 (frozen):      0.000                   \n",
      "      db208                 (frozen):      0.000                   \n",
      "      db209                 (frozen):      0.000                   \n",
      "      db210                 (frozen):      0.000                   \n",
      "      db211                 (frozen):      0.000                   \n",
      "      db212                 (frozen):      0.000                   \n",
      "      db213                 (frozen):      0.000                   \n",
      "      db214                 (frozen):      0.000                   \n",
      "      db215                 (frozen):      0.000                   \n",
      "      db216                 (frozen):      0.000                   \n",
      "      db217                 (frozen):      0.000                   \n",
      "      db218                 (frozen):      0.000                   \n",
      "      db219                 (frozen):      0.000                   \n",
      "      db220                 (frozen):      0.000                   \n",
      "      db221                 (frozen):      0.000                   \n",
      "      db222                 (frozen):      0.000                   \n",
      "      db223                 (frozen):      0.000                   \n",
      "      db224                 (frozen):      0.000                   \n",
      "  \n",
      "  \n"
     ]
    }
   ],
   "source": [
    "bkg_model = FoVBackgroundModel(dataset_name=dataset_N.name,\n",
    "                              spatial_model=bkg_nui_model)\n",
    "print(bkg_model.spatial_model)\n",
    "bkg_model.parameters[\"tilt\"].frozen = False\n",
    "models_N = models.copy()\n",
    "models_N.append(bkg_model)\n",
    "dataset_N.models = models_N\n",
    "print(dataset_N)"
   ]
  },
  {
   "cell_type": "code",
   "execution_count": null,
   "id": "bd8020bd",
   "metadata": {},
   "outputs": [],
   "source": [
    "dataset_N.models.write('data/test.yml', overwrite = True)"
   ]
  },
  {
   "cell_type": "code",
   "execution_count": 25,
   "id": "a5b79285",
   "metadata": {},
   "outputs": [
    {
     "ename": "TypeError",
     "evalue": "'NoneType' object is not iterable",
     "output_type": "error",
     "traceback": [
      "\u001b[0;31m---------------------------------------------------------------------------\u001b[0m",
      "\u001b[0;31mTypeError\u001b[0m                                 Traceback (most recent call last)",
      "Cell \u001b[0;32mIn[25], line 1\u001b[0m\n\u001b[0;32m----> 1\u001b[0m models_read \u001b[38;5;241m=\u001b[39m \u001b[43mModels\u001b[49m\u001b[38;5;241;43m.\u001b[39;49m\u001b[43mread\u001b[49m\u001b[43m(\u001b[49m\u001b[38;5;124;43m'\u001b[39;49m\u001b[38;5;124;43mdata/test.yml\u001b[39;49m\u001b[38;5;124;43m'\u001b[39;49m\u001b[43m)\u001b[49m\n\u001b[1;32m      2\u001b[0m \u001b[38;5;28mprint\u001b[39m(models_read)\n",
      "File \u001b[0;32m/home/wecapstor1/caph/mppi045h/gammapy/gammapy/modeling/models/core.py:403\u001b[0m, in \u001b[0;36mDatasetModels.read\u001b[0;34m(cls, filename)\u001b[0m\n\u001b[1;32m    401\u001b[0m yaml_str \u001b[38;5;241m=\u001b[39m make_path(filename)\u001b[38;5;241m.\u001b[39mread_text()\n\u001b[1;32m    402\u001b[0m path, filename \u001b[38;5;241m=\u001b[39m split(filename)\n\u001b[0;32m--> 403\u001b[0m \u001b[38;5;28;01mreturn\u001b[39;00m \u001b[38;5;28;43mcls\u001b[39;49m\u001b[38;5;241;43m.\u001b[39;49m\u001b[43mfrom_yaml\u001b[49m\u001b[43m(\u001b[49m\u001b[43myaml_str\u001b[49m\u001b[43m,\u001b[49m\u001b[43m \u001b[49m\u001b[43mpath\u001b[49m\u001b[38;5;241;43m=\u001b[39;49m\u001b[43mpath\u001b[49m\u001b[43m)\u001b[49m\n",
      "File \u001b[0;32m/home/wecapstor1/caph/mppi045h/gammapy/gammapy/modeling/models/core.py:409\u001b[0m, in \u001b[0;36mDatasetModels.from_yaml\u001b[0;34m(cls, yaml_str, path)\u001b[0m\n\u001b[1;32m    407\u001b[0m \u001b[38;5;250m\u001b[39m\u001b[38;5;124;03m\"\"\"Create from YAML string.\"\"\"\u001b[39;00m\n\u001b[1;32m    408\u001b[0m data \u001b[38;5;241m=\u001b[39m yaml\u001b[38;5;241m.\u001b[39msafe_load(yaml_str)\n\u001b[0;32m--> 409\u001b[0m \u001b[38;5;28;01mreturn\u001b[39;00m \u001b[38;5;28;43mcls\u001b[39;49m\u001b[38;5;241;43m.\u001b[39;49m\u001b[43mfrom_dict\u001b[49m\u001b[43m(\u001b[49m\u001b[43mdata\u001b[49m\u001b[43m,\u001b[49m\u001b[43m \u001b[49m\u001b[43mpath\u001b[49m\u001b[38;5;241;43m=\u001b[39;49m\u001b[43mpath\u001b[49m\u001b[43m)\u001b[49m\n",
      "File \u001b[0;32m/home/wecapstor1/caph/mppi045h/gammapy/gammapy/modeling/models/core.py:420\u001b[0m, in \u001b[0;36mDatasetModels.from_dict\u001b[0;34m(cls, data, path)\u001b[0m\n\u001b[1;32m    418\u001b[0m \u001b[38;5;28;01mfor\u001b[39;00m component \u001b[38;5;129;01min\u001b[39;00m data[\u001b[38;5;124m\"\u001b[39m\u001b[38;5;124mcomponents\u001b[39m\u001b[38;5;124m\"\u001b[39m]:\n\u001b[1;32m    419\u001b[0m     model_cls \u001b[38;5;241m=\u001b[39m MODEL_REGISTRY\u001b[38;5;241m.\u001b[39mget_cls(component[\u001b[38;5;124m\"\u001b[39m\u001b[38;5;124mtype\u001b[39m\u001b[38;5;124m\"\u001b[39m])\n\u001b[0;32m--> 420\u001b[0m     model \u001b[38;5;241m=\u001b[39m \u001b[43mmodel_cls\u001b[49m\u001b[38;5;241;43m.\u001b[39;49m\u001b[43mfrom_dict\u001b[49m\u001b[43m(\u001b[49m\u001b[43mcomponent\u001b[49m\u001b[43m)\u001b[49m\n\u001b[1;32m    421\u001b[0m     models\u001b[38;5;241m.\u001b[39mappend(model)\n\u001b[1;32m    423\u001b[0m models \u001b[38;5;241m=\u001b[39m \u001b[38;5;28mcls\u001b[39m(models)\n",
      "File \u001b[0;32m/home/wecapstor1/caph/mppi045h/gammapy/gammapy/modeling/models/cube.py:747\u001b[0m, in \u001b[0;36mFoVBackgroundModel.from_dict\u001b[0;34m(cls, data)\u001b[0m\n\u001b[1;32m    745\u001b[0m \u001b[38;5;28;01mif\u001b[39;00m spatial_data \u001b[38;5;129;01mis\u001b[39;00m \u001b[38;5;129;01mnot\u001b[39;00m \u001b[38;5;28;01mNone\u001b[39;00m:\n\u001b[1;32m    746\u001b[0m     model_class \u001b[38;5;241m=\u001b[39m IRF_MODEL_REGISTRY\u001b[38;5;241m.\u001b[39mget_cls(spatial_data[\u001b[38;5;124m\"\u001b[39m\u001b[38;5;124mtype\u001b[39m\u001b[38;5;124m\"\u001b[39m])\n\u001b[0;32m--> 747\u001b[0m     spatial_model \u001b[38;5;241m=\u001b[39m \u001b[43mmodel_class\u001b[49m\u001b[38;5;241;43m.\u001b[39;49m\u001b[43mfrom_dict\u001b[49m\u001b[43m(\u001b[49m\u001b[43m{\u001b[49m\u001b[38;5;124;43m\"\u001b[39;49m\u001b[38;5;124;43mspatial\u001b[39;49m\u001b[38;5;124;43m\"\u001b[39;49m\u001b[43m:\u001b[49m\u001b[43m \u001b[49m\u001b[43mspatial_data\u001b[49m\u001b[43m}\u001b[49m\u001b[43m)\u001b[49m\n\u001b[1;32m    748\u001b[0m \u001b[38;5;28;01melse\u001b[39;00m:\n\u001b[1;32m    749\u001b[0m     spatial_model \u001b[38;5;241m=\u001b[39m \u001b[38;5;28;01mNone\u001b[39;00m\n",
      "File \u001b[0;32m/home/wecapstor1/caph/mppi045h/gammapy/gammapy/modeling/models/core.py:230\u001b[0m, in \u001b[0;36mModelBase.from_dict\u001b[0;34m(cls, data)\u001b[0m\n\u001b[1;32m    227\u001b[0m \u001b[38;5;28;01mif\u001b[39;00m \u001b[38;5;124m\"\u001b[39m\u001b[38;5;124mframe\u001b[39m\u001b[38;5;124m\"\u001b[39m \u001b[38;5;129;01min\u001b[39;00m data:\n\u001b[1;32m    228\u001b[0m     kwargs[\u001b[38;5;124m\"\u001b[39m\u001b[38;5;124mframe\u001b[39m\u001b[38;5;124m\"\u001b[39m] \u001b[38;5;241m=\u001b[39m data[\u001b[38;5;124m\"\u001b[39m\u001b[38;5;124mframe\u001b[39m\u001b[38;5;124m\"\u001b[39m]\n\u001b[0;32m--> 230\u001b[0m \u001b[38;5;28;01mreturn\u001b[39;00m \u001b[38;5;28;43mcls\u001b[39;49m\u001b[38;5;241;43m.\u001b[39;49m\u001b[43mfrom_parameters\u001b[49m\u001b[43m(\u001b[49m\u001b[43mparameters\u001b[49m\u001b[43m,\u001b[49m\u001b[43m \u001b[49m\u001b[38;5;241;43m*\u001b[39;49m\u001b[38;5;241;43m*\u001b[39;49m\u001b[43mkwargs\u001b[49m\u001b[43m)\u001b[49m\n",
      "File \u001b[0;32m/home/wecapstor1/caph/mppi045h/gammapy/gammapy/modeling/models/core.py:132\u001b[0m, in \u001b[0;36mModelBase.from_parameters\u001b[0;34m(cls, parameters, **kwargs)\u001b[0m\n\u001b[1;32m    130\u001b[0m \u001b[38;5;28;01mfor\u001b[39;00m par \u001b[38;5;129;01min\u001b[39;00m parameters:\n\u001b[1;32m    131\u001b[0m     kwargs[par\u001b[38;5;241m.\u001b[39mname] \u001b[38;5;241m=\u001b[39m par\n\u001b[0;32m--> 132\u001b[0m \u001b[38;5;28;01mreturn\u001b[39;00m \u001b[38;5;28;43mcls\u001b[39;49m\u001b[43m(\u001b[49m\u001b[38;5;241;43m*\u001b[39;49m\u001b[38;5;241;43m*\u001b[39;49m\u001b[43mkwargs\u001b[49m\u001b[43m)\u001b[49m\n",
      "File \u001b[0;32m/home/wecapstor1/caph/mppi045h/gammapy/gammapy/modeling/models/IRF.py:253\u001b[0m, in \u001b[0;36mNuisanceBackgroundModel.__init__\u001b[0;34m(self, N_parameters, nuisance_mask, geom_bkg)\u001b[0m\n\u001b[1;32m    249\u001b[0m     fac \u001b[38;5;241m=\u001b[39m \u001b[38;5;28mint\u001b[39m(\u001b[38;5;28mself\u001b[39m\u001b[38;5;241m.\u001b[39mgeom_bkg\u001b[38;5;241m.\u001b[39mdata_shape[\u001b[38;5;241m1\u001b[39m] \u001b[38;5;241m/\u001b[39m shape_N)\n\u001b[1;32m    250\u001b[0m     \u001b[38;5;28mself\u001b[39m\u001b[38;5;241m.\u001b[39mgeom_down \u001b[38;5;241m=\u001b[39m \u001b[38;5;28mself\u001b[39m\u001b[38;5;241m.\u001b[39mgeom_bkg\u001b[38;5;241m.\u001b[39mdownsample(fac)\n\u001b[0;32m--> 253\u001b[0m \u001b[38;5;28;43msuper\u001b[39;49m\u001b[43m(\u001b[49m\u001b[43m)\u001b[49m\u001b[38;5;241;43m.\u001b[39;49m\u001b[38;5;21;43m__init__\u001b[39;49m\u001b[43m(\u001b[49m\u001b[43m)\u001b[49m\n",
      "File \u001b[0;32m/home/wecapstor1/caph/mppi045h/gammapy/gammapy/modeling/models/core.py:96\u001b[0m, in \u001b[0;36mModelBase.__init__\u001b[0;34m(self, **kwargs)\u001b[0m\n\u001b[1;32m     92\u001b[0m         par \u001b[38;5;241m=\u001b[39m value\n\u001b[1;32m     94\u001b[0m     \u001b[38;5;28msetattr\u001b[39m(\u001b[38;5;28mself\u001b[39m, par\u001b[38;5;241m.\u001b[39mname, par)\n\u001b[0;32m---> 96\u001b[0m \u001b[38;5;28mself\u001b[39m\u001b[38;5;241m.\u001b[39m_covariance \u001b[38;5;241m=\u001b[39m \u001b[43mCovariance\u001b[49m\u001b[43m(\u001b[49m\u001b[38;5;28;43mself\u001b[39;49m\u001b[38;5;241;43m.\u001b[39;49m\u001b[43mparameters\u001b[49m\u001b[43m)\u001b[49m\n",
      "File \u001b[0;32m/home/wecapstor1/caph/mppi045h/gammapy/gammapy/modeling/covariance.py:37\u001b[0m, in \u001b[0;36mCovariance.__init__\u001b[0;34m(self, parameters, data)\u001b[0m\n\u001b[1;32m     35\u001b[0m \u001b[38;5;28mself\u001b[39m\u001b[38;5;241m.\u001b[39mparameters \u001b[38;5;241m=\u001b[39m parameters\n\u001b[1;32m     36\u001b[0m \u001b[38;5;28;01mif\u001b[39;00m data \u001b[38;5;129;01mis\u001b[39;00m \u001b[38;5;28;01mNone\u001b[39;00m:\n\u001b[0;32m---> 37\u001b[0m     data \u001b[38;5;241m=\u001b[39m np\u001b[38;5;241m.\u001b[39mdiag([p\u001b[38;5;241m.\u001b[39merror\u001b[38;5;241m*\u001b[39m\u001b[38;5;241m*\u001b[39m\u001b[38;5;241m2\u001b[39m \u001b[38;5;28;01mfor\u001b[39;00m p \u001b[38;5;129;01min\u001b[39;00m \u001b[38;5;28mself\u001b[39m\u001b[38;5;241m.\u001b[39mparameters])\n\u001b[1;32m     39\u001b[0m \u001b[38;5;28mself\u001b[39m\u001b[38;5;241m.\u001b[39m_data \u001b[38;5;241m=\u001b[39m np\u001b[38;5;241m.\u001b[39masanyarray(data, dtype\u001b[38;5;241m=\u001b[39m\u001b[38;5;28mfloat\u001b[39m)\n",
      "\u001b[0;31mTypeError\u001b[0m: 'NoneType' object is not iterable"
     ]
    }
   ],
   "source": [
    "models_read = Models.read('data/test.yml')\n",
    "print(models_read)"
   ]
  },
  {
   "cell_type": "code",
   "execution_count": null,
   "id": "4b37e58c",
   "metadata": {},
   "outputs": [],
   "source": [
    "dataset_N.background_model.spectral_model.covariance"
   ]
  },
  {
   "cell_type": "code",
   "execution_count": null,
   "id": "83847fbd",
   "metadata": {},
   "outputs": [],
   "source": [
    "dataset_N.background_model.spatial_model.covariance"
   ]
  },
  {
   "cell_type": "code",
   "execution_count": null,
   "id": "c1ce9b9d",
   "metadata": {},
   "outputs": [],
   "source": [
    "dataset_N.background_model.spatial_model.N_map().plot_grid(add_cbar =1, vmin = 0, vmax = 1);"
   ]
  },
  {
   "cell_type": "markdown",
   "id": "aca96f5d",
   "metadata": {},
   "source": [
    "## Running the Fit"
   ]
  },
  {
   "cell_type": "code",
   "execution_count": null,
   "id": "4cd3f7e6",
   "metadata": {},
   "outputs": [],
   "source": []
  },
  {
   "cell_type": "code",
   "execution_count": null,
   "id": "de597f8b",
   "metadata": {
    "execution": {
     "iopub.execute_input": "2022-03-17T11:25:08.347607Z",
     "iopub.status.busy": "2022-03-17T11:25:08.347431Z",
     "iopub.status.idle": "2022-03-17T11:25:08.364131Z",
     "shell.execute_reply": "2022-03-17T11:25:08.363341Z"
    }
   },
   "outputs": [],
   "source": [
    "%%time\n",
    "fit_N = Fit(store_trace=False)\n",
    "#result_N = fit_N.run([dataset_N])"
   ]
  },
  {
   "cell_type": "markdown",
   "id": "bdbf505e",
   "metadata": {},
   "source": [
    "The method `N_map()` is a map in the origial geometry with the nuisance parameters as the data. It is used in npred_background() and visualises the best fit nuisance parameters."
   ]
  },
  {
   "cell_type": "code",
   "execution_count": null,
   "id": "5690849f",
   "metadata": {
    "execution": {
     "iopub.execute_input": "2022-03-17T11:25:08.367884Z",
     "iopub.status.busy": "2022-03-17T11:25:08.367715Z",
     "iopub.status.idle": "2022-03-17T11:25:08.848523Z",
     "shell.execute_reply": "2022-03-17T11:25:08.847742Z"
    }
   },
   "outputs": [],
   "source": [
    "vmax = np.max(np.abs(dataset_N.background_model.spatial_model.N_map().data))\n",
    "dataset_N.background_model.spatial_model.N_map().plot_grid(\n",
    "    add_cbar=1, vmax=vmax, vmin=-vmax\n",
    ");"
   ]
  },
  {
   "cell_type": "markdown",
   "id": "a5f24bc2",
   "metadata": {},
   "source": [
    "## Comparison to Standard Analysis"
   ]
  },
  {
   "cell_type": "markdown",
   "id": "5e95d5b0",
   "metadata": {},
   "source": [
    "The spectral residual points show again how especially the first two energybins are not fitted well"
   ]
  },
  {
   "cell_type": "code",
   "execution_count": null,
   "id": "6d56ea2e",
   "metadata": {
    "execution": {
     "iopub.execute_input": "2022-03-17T11:25:08.852705Z",
     "iopub.status.busy": "2022-03-17T11:25:08.852543Z",
     "iopub.status.idle": "2022-03-17T11:25:09.419797Z",
     "shell.execute_reply": "2022-03-17T11:25:09.418969Z"
    }
   },
   "outputs": [],
   "source": [
    "dataset_standard.plot_residuals(kwargs_spectral=kwargs_spectral);"
   ]
  },
  {
   "cell_type": "markdown",
   "id": "4b34db98",
   "metadata": {},
   "source": [
    "After including the nuisance parameters the model description is much better in the first two energy bins. This indicates that the method worked and has improved out analysis."
   ]
  },
  {
   "cell_type": "code",
   "execution_count": null,
   "id": "b4cef5be",
   "metadata": {
    "execution": {
     "iopub.execute_input": "2022-03-17T11:25:09.424048Z",
     "iopub.status.busy": "2022-03-17T11:25:09.423888Z",
     "iopub.status.idle": "2022-03-17T11:25:09.995218Z",
     "shell.execute_reply": "2022-03-17T11:25:09.994461Z"
    }
   },
   "outputs": [],
   "source": [
    "res_N = (\n",
    "    dataset_N.residuals(\"diff/sqrt(model)\")\n",
    "    .slice_by_idx(dict(energy=slice(6, 8)))\n",
    "    .smooth(0.1 * u.deg)\n",
    ")\n",
    "vmax = np.nanmax(np.abs(res_standard.data))\n",
    "res_N.plot_grid(add_cbar=1, vmax=vmax, vmin=-vmax, cmap=\"coolwarm\");"
   ]
  },
  {
   "cell_type": "code",
   "execution_count": null,
   "id": "07401244",
   "metadata": {
    "execution": {
     "iopub.execute_input": "2022-03-17T11:25:10.000090Z",
     "iopub.status.busy": "2022-03-17T11:25:09.999927Z",
     "iopub.status.idle": "2022-03-17T11:25:10.616068Z",
     "shell.execute_reply": "2022-03-17T11:25:10.615257Z"
    }
   },
   "outputs": [],
   "source": [
    "dataset_N.plot_residuals(kwargs_spectral=kwargs_spectral);"
   ]
  },
  {
   "cell_type": "markdown",
   "id": "0d600c6a",
   "metadata": {},
   "source": [
    "Her a comparison of the distribution of the significance maps in the first two energy bins is shown. With the nuisance parameters the mean of the distribution $\\mu$ got closer to zero and the standard deviation $\\sigma$ is closer to the expected $1$."
   ]
  },
  {
   "cell_type": "code",
   "execution_count": null,
   "id": "0ba0ef56",
   "metadata": {
    "execution": {
     "iopub.execute_input": "2022-03-17T11:25:10.620574Z",
     "iopub.status.busy": "2022-03-17T11:25:10.620413Z",
     "iopub.status.idle": "2022-03-17T11:25:11.294345Z",
     "shell.execute_reply": "2022-03-17T11:25:11.293530Z"
    }
   },
   "outputs": [],
   "source": [
    "res_standard = (\n",
    "    dataset_standard.residuals(\"diff/sqrt(model)\")\n",
    "    .slice_by_idx(dict(energy=slice(i_start, i_end)))\n",
    "    .data.flatten()\n",
    ")\n",
    "res_N = (\n",
    "    dataset_N.residuals(\"diff/sqrt(model)\")\n",
    "    .slice_by_idx(dict(energy=slice(i_start, i_end)))\n",
    "    .data.flatten()\n",
    ")\n",
    "\n",
    "_, bins, _ = plt.hist(\n",
    "    res_standard,\n",
    "    bins=50,\n",
    "    alpha=0.4,\n",
    "    label=\"Standard: \\n$\\mu$ = {:.3} \\n$\\sigma$ = {:.3}\".format(\n",
    "        np.nanmean(res_standard), np.nanstd(res_standard)\n",
    "    ),\n",
    ")\n",
    "plt.hist(\n",
    "    res_N,\n",
    "    bins=bins,\n",
    "    alpha=0.4,\n",
    "    label=\"Nuisance: \\n$\\mu$ = {:.3} \\n$\\sigma$ = {:.3}\".format(\n",
    "        np.nanmean(res_N), np.nanstd(res_N)\n",
    "    ),\n",
    ")\n",
    "plt.yscale(\"log\")\n",
    "plt.legend()\n",
    "plt.xlabel(\"Significance\")\n",
    "plt.ylabel(\"Amount\");"
   ]
  },
  {
   "cell_type": "markdown",
   "id": "19c5970f",
   "metadata": {},
   "source": [
    "## Comparsion of the erros of the best fit model parameters\n",
    "\n",
    "The model errors of the Nuisance dataset have for now to be set by hand. "
   ]
  },
  {
   "cell_type": "markdown",
   "id": "ec2d19db",
   "metadata": {},
   "source": [
    "Create a pseudo dataset, where the best fit nuisance parameters are in the background, but fit again as a Standard dataset to get the best fit values for the model parameters but only the stat. errors on them "
   ]
  },
  {
   "cell_type": "code",
   "execution_count": null,
   "id": "72a1ae59",
   "metadata": {},
   "outputs": [],
   "source": [
    "dataset_pseudo = dataset_standard.copy()\n",
    "dataset_pseudo.background = dataset_N.npred_background().copy()\n",
    "bkg_model = FoVBackgroundModel(dataset_name=dataset_pseudo.name)\n",
    "bkg_model.parameters[\"tilt\"].frozen = False\n",
    "models_pseudo = models.copy()\n",
    "models_pseudo.append(bkg_model)\n",
    "dataset_pseudo.models = models_pseudo\n",
    "\n",
    "fit_pseudo = Fit(store_trace=False)\n",
    "result_pseudo = fit_pseudo.run([dataset_pseudo])"
   ]
  },
  {
   "cell_type": "code",
   "execution_count": null,
   "id": "ebd77d98",
   "metadata": {},
   "outputs": [],
   "source": [
    "#import my_dataset_core_19, my_fit_19\n",
    "from gammapy.modeling.fit import Fit, Registry\n",
    "parameters  = Parameters.from_stack([dataset_N.models.parameters])\n",
    "kwargs = fit_N.covariance_opts.copy()\n",
    "kwargs[\"minuit\"] = fit_N.minuit\n",
    "backend = kwargs.pop(\"backend\", fit_N.backend)\n",
    "compute = Registry.get(\"covariance\", backend)\n",
    "\n",
    "with parameters.restore_status():\n",
    "\n",
    "    factor_matrix, info = compute(\n",
    "        parameters=parameters, function=dataset_N.stat_sum, **kwargs\n",
    "    )\n",
    "\n",
    "\n",
    "covariance = Covariance.from_factor_matrix(\n",
    "                parameters=parameters, matrix=factor_matrix\n",
    "            )\n",
    "for par in dataset_N.models.parameters:\n",
    "    pars = Parameters([par])\n",
    "    variance = covariance.get_subcovariance(pars)\n",
    "    par.error = np.sqrt(variance)"
   ]
  },
  {
   "cell_type": "code",
   "execution_count": null,
   "id": "dd12880a",
   "metadata": {},
   "outputs": [],
   "source": [
    "print(\" with nuisance\")\n",
    "print(\"(without nuisance)\")\n",
    "\n",
    "\n",
    "for p_N, p_stand , p_pseudo in zip(dataset_N.models.parameters,\n",
    "                                   dataset_standard.models.parameters,\n",
    "                                  dataset_pseudo.models.parameters):\n",
    "    print()\n",
    "    print('='*50)\n",
    "    print(p_N.name, p_stand.name, p_pseudo.name)\n",
    "    print('-'*50)\n",
    "    print(' {:.4} pm {:.3}'.format(p_N.value, float(p_N.error) )   ) \n",
    "    print('({:.4} pm {:.3})'.format(p_stand.value, float(p_stand.error) ))\n",
    "    print('[{:.4} pm {:.3}]'.format(p_pseudo.value, float(p_pseudo.error) ))\n",
    "\n",
    "\n"
   ]
  },
  {
   "cell_type": "code",
   "execution_count": null,
   "id": "6bef91ab",
   "metadata": {},
   "outputs": [],
   "source": [
    "print(\" with nuisance\")\n",
    "print(\"(without nuisance)\")\n",
    "\n",
    "\n",
    "for p_N, p_stand , p_pseudo in zip(dataset_N.models.parameters,\n",
    "                                   dataset_standard.models.parameters,\n",
    "                                  dataset_pseudo.models.parameters):\n",
    "    print()\n",
    "    print('='*50)\n",
    "    print(p_N.name )\n",
    "    print('-'*50)\n",
    "    print(\" {:.4} +- {:.3} +- {:.3}\".format(p_N.value, float(p_pseudo.error) ,\n",
    "                                            float(p_N.error)- float(p_pseudo.error)  )   ) \n",
    "    print('({:.4} +- {:.3})'.format(p_stand.value, float(p_stand.error) ))\n",
    "\n",
    "\n"
   ]
  },
  {
   "cell_type": "code",
   "execution_count": null,
   "id": "d2ca15b1",
   "metadata": {},
   "outputs": [],
   "source": [
    "dataset_N.background_model.spatial_model._type"
   ]
  },
  {
   "cell_type": "code",
   "execution_count": null,
   "id": "2dae6589",
   "metadata": {},
   "outputs": [],
   "source": [
    "dataset_N.background_model.spatial_model.to_dict()"
   ]
  },
  {
   "cell_type": "code",
   "execution_count": null,
   "id": "17039dc1",
   "metadata": {},
   "outputs": [],
   "source": [
    "# save best fit model\n",
    "\n",
    "import yaml\n",
    "save = 1\n",
    "path_local_repo = '/data/'\n",
    "added = '008_'+ str(i_start) + str(i_end)\n",
    "print(added)\n",
    "if save:\n",
    "\n",
    "    # save for now in this folder\n",
    "    \n",
    "    dataset_N.models.write(f'best_fit_model_{added}.yml', overwrite = True)\n",
    "    \n"
   ]
  },
  {
   "cell_type": "code",
   "execution_count": null,
   "id": "9ce69e4f",
   "metadata": {},
   "outputs": [],
   "source": [
    "import yaml\n",
    "save = 0\n",
    "path_local_repo = '/home/hpc/caph/mppi045h/3D_analysis/N_parameters_in_L/syserror_3d_bkgmodel/2-source_dataset'\n",
    "added = '008_'+ str(i_start) + str(i_end)\n",
    "print(added)\n",
    "if save:\n",
    "    print(f\"save in: {path_local_repo}/{source}/nui_dataset_{added}.fits\" )\n",
    "    print(f\"and: {path_local_repo}/nui_bgmodel_{added}.yml \")\n",
    "\n",
    "\n",
    "    # save for now in this folder\n",
    "    dataset_N.write(f'{path_local_repo}/{source}/nui_dataset_{added}.fits', overwrite = True)\n",
    "    with open(f'{path_local_repo}/{source}/nui_par_{added}.yml', 'w') as outfile:\n",
    "            yaml.dump(dataset_N.N_parameters.to_dict(), outfile, default_flow_style=False)\n",
    "    with open(f'{path_local_repo}/{source}/nui_bgmodel_{added}.yml', 'w') as outfile:\n",
    "            yaml.dump(dataset_N.background_model.to_dict(), outfile, default_flow_style=False)\n",
    "    with open(f'{path_local_repo}/{source}/nui_model_{added}.yml', 'w') as outfile:\n",
    "            yaml.dump(dataset_N.models.to_dict(), outfile, default_flow_style=False)  \n",
    "            \n",
    "    with open(f'{path_local_repo}/{source}/pseudo_bgmodel_{added}.yml', 'w') as outfile:\n",
    "            yaml.dump(dataset_pseudo.background_model.to_dict(), outfile, default_flow_style=False)\n",
    "    with open(f'{path_local_repo}/{source}/pseudo_model_{added}.yml', 'w') as outfile:\n",
    "            yaml.dump(dataset_pseudo.models.to_dict(), outfile, default_flow_style=False)    \n"
   ]
  },
  {
   "cell_type": "code",
   "execution_count": null,
   "id": "85caaa21",
   "metadata": {},
   "outputs": [],
   "source": []
  }
 ],
 "metadata": {
  "kernelspec": {
   "display_name": "Python 3 (ipykernel)",
   "language": "python",
   "name": "python3"
  },
  "language_info": {
   "codemirror_mode": {
    "name": "ipython",
    "version": 3
   },
   "file_extension": ".py",
   "mimetype": "text/x-python",
   "name": "python",
   "nbconvert_exporter": "python",
   "pygments_lexer": "ipython3",
   "version": "3.8.16"
  },
  "varInspector": {
   "cols": {
    "lenName": 16,
    "lenType": 16,
    "lenVar": 40
   },
   "kernels_config": {
    "python": {
     "delete_cmd_postfix": "",
     "delete_cmd_prefix": "del ",
     "library": "var_list.py",
     "varRefreshCmd": "print(var_dic_list())"
    },
    "r": {
     "delete_cmd_postfix": ") ",
     "delete_cmd_prefix": "rm(",
     "library": "var_list.r",
     "varRefreshCmd": "cat(var_dic_list()) "
    }
   },
   "types_to_exclude": [
    "module",
    "function",
    "builtin_function_or_method",
    "instance",
    "_Feature"
   ],
   "window_display": false
  }
 },
 "nbformat": 4,
 "nbformat_minor": 5
}
