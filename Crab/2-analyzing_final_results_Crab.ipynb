{
 "cells": [
  {
   "cell_type": "markdown",
   "id": "c47880e6",
   "metadata": {},
   "source": [
    "## Import "
   ]
  },
  {
   "cell_type": "code",
   "execution_count": 1,
   "id": "70476036",
   "metadata": {},
   "outputs": [],
   "source": [
    "import numpy as np\n",
    "import matplotlib.pyplot as plt\n",
    "import astropy.units as u\n",
    "from scipy import stats\n",
    "import yaml\n",
    "from astropy.coordinates import SkyCoord\n",
    "\n",
    "from gammapy.data import DataStore\n",
    "from regions import CircleSkyRegion\n",
    "from gammapy.modeling import Fit\n",
    "from gammapy.datasets import MapDataset\n",
    "from gammapy.estimators import ExcessMapEstimator\n",
    "from gammapy.modeling.models import Models, Model, SkyModel, FoVBackgroundModel\n",
    "from gammapy.maps import MapAxis, WcsGeom, Map\n",
    "from gammapy.modeling import Fit, Parameter, Parameters, Covariance\n",
    "\n",
    "\n",
    "import warnings\n",
    "import sys\n",
    "sys.path.append(\n",
    "    \"/home/hpc/caph/mppi045h/3D_analysis/N_parameters_in_L/syserror_3d_bkgmodel/4-Fitting_nuisance_and_model_parameters\"\n",
    ")\n",
    "from my_dataset_maps_19 import MapDatasetNuisance\n",
    "warnings.filterwarnings('ignore')\n",
    "default_colors = plt.rcParams['axes.prop_cycle'].by_key()['color']\n",
    "\n",
    "color_standard = 'green'\n",
    "color_nui = 'red'"
   ]
  },
  {
   "cell_type": "markdown",
   "id": "11e79db0",
   "metadata": {},
   "source": [
    "## Definitions "
   ]
  },
  {
   "cell_type": "code",
   "execution_count": 2,
   "id": "b7e5a789",
   "metadata": {},
   "outputs": [],
   "source": [
    "def plot_residual_comparison(dataset1, dataset2, elist, radius = 1.0*u.deg, ):\n",
    "    print(\"Radius:\", radius)\n",
    "    fig, axs = plt.subplots(len(elist)*1,3 ,figsize =(15,len(elist)*5))\n",
    "    if len(elist) ==1:\n",
    "        axs = [axs]\n",
    "    for i , e in enumerate (elist):\n",
    "        print(e)\n",
    "        \n",
    "        estimator = ExcessMapEstimator( correlation_radius=radius , \n",
    "                                       energy_edges=dataset1.counts.geom.axes['energy'].edges) \n",
    "        result1 = estimator.run(dataset1) \n",
    "        result2 = estimator.run(dataset2) \n",
    "        residual1 = result1[\"sqrt_ts\"].slice_by_idx(dict(energy=slice(e,e+1)))\n",
    "        residual2 = result2[\"sqrt_ts\"].slice_by_idx(dict(energy=slice(e,e+1)))\n",
    "        \n",
    "        print(\"residual1.data:\", np.nanmax(residual1.data))\n",
    "        vmax_ = np.nanmax(np.abs(residual1.data))\n",
    "        print(\"vmax_:\", vmax_)   \n",
    "        residual2.plot(cmap = 'coolwarm', add_cbar = True,ax = axs[i][1],\n",
    "                                                      vmax = vmax_, vmin = -vmax_)\n",
    "        residual1.plot(cmap = 'coolwarm', add_cbar = True,ax = axs[i][0],\n",
    "                                                        vmax = vmax_, vmin = -vmax_)\n",
    "                \n",
    "        n, bins, patches = axs[i][2].hist(residual1.data.flatten(),bins = 70,\n",
    "                           label = 'Standard \\n $\\mu=${:.2}, $\\sigma=${:.4}'.format(\n",
    "                           np.nanmean(residual1.data.flatten()),\n",
    "                           np.nanstd(residual1.data.flatten())),\n",
    "                                  color = color_standard, alpha = 0.5)\n",
    "        axs[i][2].hist(residual2.data.flatten(),bins = bins,\n",
    "                                 label = 'Standard $\\cdot (1+N) $\\n $\\mu=${:.2}, $\\sigma=${:.4}'.format(\n",
    "                               np.nanmean(residual2.data.flatten()),\n",
    "                               np.nanstd(residual2.data.flatten())),\n",
    "                           color = color_nui, alpha = 0.5)\n",
    "\n",
    "\n",
    "\n",
    "        axs[i][2].legend(fontsize = 14)\n",
    "        axs[i][2].set_xlabel('Significance'); axs[i][2].set_yscale('log')\n",
    "        axs[i][1].set_title('With Nui Par; \\nSmoothing Radius:'+str(radius), fontsize = 14)\n",
    "        ee = dataset1.geoms['geom'].axes[0]\n",
    "        ee_start = ee.edges[e]\n",
    "        ee_end = ee.edges[e+1]\n",
    "        ee = f\"[{ee_start.value:.2}:{ee_end.value:.2}] TeV\"\n",
    "        axs[i][0].set_title(ee ,fontsize = 14)\n",
    "        \n",
    "\n",
    "    plt.tight_layout()\n",
    "    return fig\n",
    "\n",
    "def plot_residual_comparison_vertical(dataset1, dataset2, elist, radius = 1.0*u.deg, ):\n",
    "    print(\"Radius:\", radius)\n",
    "    fig, axs = plt.subplots(3, len(elist)*1 ,figsize =(len(elist)*5, 15))\n",
    "    if len(elist) ==1:\n",
    "        axs = [axs]\n",
    "    for i , e in enumerate (elist):\n",
    "        print(e)\n",
    "        \n",
    "        estimator = ExcessMapEstimator( correlation_radius=radius , \n",
    "                                       energy_edges=dataset1.counts.geom.axes['energy'].edges) \n",
    "        result1 = estimator.run(dataset1) \n",
    "        result2 = estimator.run(dataset2) \n",
    "        residual1 = result1[\"sqrt_ts\"].slice_by_idx(dict(energy=slice(e,e+1)))\n",
    "        residual2 = result2[\"sqrt_ts\"].slice_by_idx(dict(energy=slice(e,e+1)))\n",
    "        \n",
    "        print(\"residual1.data:\", np.nanmax(residual1.data))\n",
    "        vmax_ = np.nanmax(np.abs(residual1.smooth(radius).data))\n",
    "        print(\"vmax_:\", vmax_)   \n",
    "        residual2.plot(cmap = 'coolwarm', add_cbar = True,ax = axs[1][i],\n",
    "                                                      vmax = vmax_, vmin = -vmax_)\n",
    "        residual1.plot(cmap = 'coolwarm', add_cbar = True,ax = axs[0][i],\n",
    "                                                        vmax = vmax_, vmin = -vmax_)\n",
    "        cbar = axs[0][i].images[-1].colorbar \n",
    "        cbar.set_label(\"Significance\", rotation = 90)\n",
    "        cbar = axs[1][i].images[-1].colorbar \n",
    "        cbar.set_label(\"Significance\", rotation = 90)\n",
    "        \n",
    "        \n",
    "        n, bins, patches = axs[2][i].hist(residual1.data.flatten(),bins = 70,\n",
    "                           label = 'Standard \\n $\\mu=${:.2}, $\\sigma=${:.4}'.format(\n",
    "                           np.nanmean(residual1.data.flatten()),\n",
    "                           np.nanstd(residual1.data.flatten())),\n",
    "                                  color = color_standard, alpha = 0.5)\n",
    "        axs[2][i].hist(residual2.data.flatten(),bins = bins,\n",
    "                                 label = 'Standard $\\cdot (1+N) $\\n $\\mu=${:.2}, $\\sigma=${:.4}'.format(\n",
    "                               np.nanmean(residual2.data.flatten()),\n",
    "                               np.nanstd(residual2.data.flatten())),\n",
    "                           color = color_nui, alpha = 0.5)\n",
    "\n",
    "\n",
    "\n",
    "        axs[2][i].legend(fontsize = 14)\n",
    "        axs[2][i].set_xlabel('Significance'); axs[2][i].set_yscale('log')\n",
    "        axs[1][i].set_title('With Nui Par; \\nSmoothing Radius:'+str(radius), fontsize = 14)\n",
    "        ee = dataset1.geoms['geom'].axes[0]\n",
    "        ee_start = ee.edges[e]\n",
    "        ee_end = ee.edges[e+1]\n",
    "        ee = f\"[{ee_start.value:.2}:{ee_end.value:.2}] TeV\"\n",
    "        axs[0][i].set_title(ee ,fontsize = 14)\n",
    "        \n",
    "\n",
    "    plt.tight_layout()\n",
    "    return fig\n",
    "\n",
    "\n",
    "def plot_residual_comparison_vertical_nohisto(dataset1, dataset2, elist, radius = 1.0*u.deg, ):\n",
    "    print(\"Radius:\", radius)\n",
    "    vmax_= 4\n",
    "    fig, axs = plt.subplots(2, len(elist)*1 ,figsize =(len(elist)*5, 10))\n",
    "    if len(elist) ==1:\n",
    "        axs = [axs]\n",
    "    for i , e in enumerate (elist):\n",
    "        print(e)\n",
    "        \n",
    "        estimator = ExcessMapEstimator( correlation_radius=radius , \n",
    "                                       energy_edges=dataset1.counts.geom.axes['energy'].edges) \n",
    "        result1 = estimator.run(dataset1) \n",
    "        result2 = estimator.run(dataset2) \n",
    "        residual1 = result1[\"sqrt_ts\"].slice_by_idx(dict(energy=slice(e,e+1)))\n",
    "        residual2 = result2[\"sqrt_ts\"].slice_by_idx(dict(energy=slice(e,e+1)))\n",
    "        \n",
    "        \n",
    "        print(\"residual1.data:\", np.nanmax(residual1.data))\n",
    "        #vmax_ = np.nanmax(np.abs(residual1.smooth(radius).data))\n",
    "        print(\"vmax_:\", vmax_)   \n",
    "        residual2.plot(cmap = 'coolwarm', add_cbar = True,ax = axs[1][i],\n",
    "                                                      vmax = vmax_, vmin = -vmax_)\n",
    "        residual1.plot(cmap = 'coolwarm', add_cbar = True,ax = axs[0][i],\n",
    "                                                        vmax = vmax_, vmin = -vmax_)\n",
    "        cbar = axs[0][i].images[-1].colorbar \n",
    "        cbar.set_label(\"Significance\", rotation = 90)\n",
    "        cbar = axs[1][i].images[-1].colorbar \n",
    "        cbar.set_label(\"Significance\", rotation = 90)\n",
    "        \n",
    "        mu = np.nanmean(residual1.data)\n",
    "        sigma = np.nanstd(residual1.data)\n",
    "        axs[0][i].text(105,120, f\"$\\\\mu$ = {mu:.2} \\n$\\sigma$ = {sigma:.2}\", fontsize = 14)\n",
    "        sigma = np.nanstd(residual2.data)\n",
    "        mu = np.nanmean(residual2.data)\n",
    "        axs[1][i].text(105,120, f\"$\\\\mu$ = {mu:.2} \\n$\\sigma$ =  {sigma:.2}\", fontsize = 14)\n",
    "\n",
    "        axs[1][i].set_title('With Nui Par; \\nSmoothing Radius:'+str(radius), fontsize = 14)\n",
    "        ee = dataset1.geoms['geom'].axes[0]\n",
    "        ee_start = ee.edges[e]\n",
    "        ee_end = ee.edges[e+1]\n",
    "        ee = f\"Energy: [{ee_start.value:.2} : {ee_end.value:.2}] TeV\"\n",
    "        axs[0][i].set_title(ee + '\\n Standard Analysis' ,fontsize = 14)\n",
    "        axs[1][i].set_title(ee + '\\n With Nuisance Parameters' ,fontsize = 14)\n",
    "        \n",
    "\n",
    "        plt.tight_layout()\n",
    "    return fig\n",
    "\n"
   ]
  },
  {
   "cell_type": "markdown",
   "id": "47a8392e",
   "metadata": {},
   "source": [
    "## Import of Datasets"
   ]
  },
  {
   "cell_type": "code",
   "execution_count": 3,
   "id": "f40af18e",
   "metadata": {},
   "outputs": [],
   "source": [
    "source = \"Crab\""
   ]
  },
  {
   "cell_type": "code",
   "execution_count": 4,
   "id": "596ae0db",
   "metadata": {},
   "outputs": [
    {
     "ename": "KeyboardInterrupt",
     "evalue": "",
     "output_type": "error",
     "traceback": [
      "\u001b[0;31m---------------------------------------------------------------------------\u001b[0m",
      "\u001b[0;31mKeyboardInterrupt\u001b[0m                         Traceback (most recent call last)",
      "Cell \u001b[0;32mIn[4], line 23\u001b[0m\n\u001b[1;32m     19\u001b[0m dataset_standard\u001b[38;5;241m.\u001b[39mgeoms[\u001b[38;5;124m'\u001b[39m\u001b[38;5;124mgeom\u001b[39m\u001b[38;5;124m'\u001b[39m]\n\u001b[1;32m     22\u001b[0m fit_standarad \u001b[38;5;241m=\u001b[39m Fit(store_trace\u001b[38;5;241m=\u001b[39m\u001b[38;5;28;01mFalse\u001b[39;00m)\n\u001b[0;32m---> 23\u001b[0m result_standarad \u001b[38;5;241m=\u001b[39m \u001b[43mfit_standarad\u001b[49m\u001b[38;5;241;43m.\u001b[39;49m\u001b[43mrun\u001b[49m\u001b[43m(\u001b[49m\u001b[43m[\u001b[49m\u001b[43mdataset_standard\u001b[49m\u001b[43m]\u001b[49m\u001b[43m)\u001b[49m\n",
      "File \u001b[0;32m/home/wecapstor1/caph/mppi045h/gammapy/gammapy/modeling/fit.py:164\u001b[0m, in \u001b[0;36mFit.run\u001b[0;34m(self, datasets)\u001b[0m\n\u001b[1;32m    151\u001b[0m \u001b[38;5;28;01mdef\u001b[39;00m \u001b[38;5;21mrun\u001b[39m(\u001b[38;5;28mself\u001b[39m, datasets):\n\u001b[1;32m    152\u001b[0m \u001b[38;5;250m    \u001b[39m\u001b[38;5;124;03m\"\"\"Run all fitting steps.\u001b[39;00m\n\u001b[1;32m    153\u001b[0m \n\u001b[1;32m    154\u001b[0m \u001b[38;5;124;03m    Parameters\u001b[39;00m\n\u001b[0;32m   (...)\u001b[0m\n\u001b[1;32m    162\u001b[0m \u001b[38;5;124;03m        Fit result\u001b[39;00m\n\u001b[1;32m    163\u001b[0m \u001b[38;5;124;03m    \"\"\"\u001b[39;00m\n\u001b[0;32m--> 164\u001b[0m     optimize_result \u001b[38;5;241m=\u001b[39m \u001b[38;5;28;43mself\u001b[39;49m\u001b[38;5;241;43m.\u001b[39;49m\u001b[43moptimize\u001b[49m\u001b[43m(\u001b[49m\u001b[43mdatasets\u001b[49m\u001b[38;5;241;43m=\u001b[39;49m\u001b[43mdatasets\u001b[49m\u001b[43m)\u001b[49m\n\u001b[1;32m    166\u001b[0m     \u001b[38;5;28;01mif\u001b[39;00m \u001b[38;5;28mself\u001b[39m\u001b[38;5;241m.\u001b[39mbackend \u001b[38;5;129;01mnot\u001b[39;00m \u001b[38;5;129;01min\u001b[39;00m registry\u001b[38;5;241m.\u001b[39mregister[\u001b[38;5;124m\"\u001b[39m\u001b[38;5;124mcovariance\u001b[39m\u001b[38;5;124m\"\u001b[39m]:\n\u001b[1;32m    167\u001b[0m         log\u001b[38;5;241m.\u001b[39mwarning(\u001b[38;5;124m\"\u001b[39m\u001b[38;5;124mNo covariance estimate - not supported by this backend.\u001b[39m\u001b[38;5;124m\"\u001b[39m)\n",
      "File \u001b[0;32m/home/wecapstor1/caph/mppi045h/gammapy/gammapy/modeling/fit.py:212\u001b[0m, in \u001b[0;36mFit.optimize\u001b[0;34m(self, datasets)\u001b[0m\n\u001b[1;32m    208\u001b[0m compute \u001b[38;5;241m=\u001b[39m registry\u001b[38;5;241m.\u001b[39mget(\u001b[38;5;124m\"\u001b[39m\u001b[38;5;124moptimize\u001b[39m\u001b[38;5;124m\"\u001b[39m, backend)\n\u001b[1;32m    209\u001b[0m \u001b[38;5;66;03m# TODO: change this calling interface!\u001b[39;00m\n\u001b[1;32m    210\u001b[0m \u001b[38;5;66;03m# probably should pass a fit statistic, which has a model, which has parameters\u001b[39;00m\n\u001b[1;32m    211\u001b[0m \u001b[38;5;66;03m# and return something simpler, not a tuple of three things\u001b[39;00m\n\u001b[0;32m--> 212\u001b[0m factors, info, optimizer \u001b[38;5;241m=\u001b[39m \u001b[43mcompute\u001b[49m\u001b[43m(\u001b[49m\n\u001b[1;32m    213\u001b[0m \u001b[43m    \u001b[49m\u001b[43mparameters\u001b[49m\u001b[38;5;241;43m=\u001b[39;49m\u001b[43mparameters\u001b[49m\u001b[43m,\u001b[49m\n\u001b[1;32m    214\u001b[0m \u001b[43m    \u001b[49m\u001b[43mfunction\u001b[49m\u001b[38;5;241;43m=\u001b[39;49m\u001b[43mdatasets\u001b[49m\u001b[38;5;241;43m.\u001b[39;49m\u001b[43mstat_sum\u001b[49m\u001b[43m,\u001b[49m\n\u001b[1;32m    215\u001b[0m \u001b[43m    \u001b[49m\u001b[43mstore_trace\u001b[49m\u001b[38;5;241;43m=\u001b[39;49m\u001b[38;5;28;43mself\u001b[39;49m\u001b[38;5;241;43m.\u001b[39;49m\u001b[43mstore_trace\u001b[49m\u001b[43m,\u001b[49m\n\u001b[1;32m    216\u001b[0m \u001b[43m    \u001b[49m\u001b[38;5;241;43m*\u001b[39;49m\u001b[38;5;241;43m*\u001b[39;49m\u001b[43mkwargs\u001b[49m\u001b[43m,\u001b[49m\n\u001b[1;32m    217\u001b[0m \u001b[43m\u001b[49m\u001b[43m)\u001b[49m\n\u001b[1;32m    219\u001b[0m \u001b[38;5;28;01mif\u001b[39;00m backend \u001b[38;5;241m==\u001b[39m \u001b[38;5;124m\"\u001b[39m\u001b[38;5;124mminuit\u001b[39m\u001b[38;5;124m\"\u001b[39m:\n\u001b[1;32m    220\u001b[0m     \u001b[38;5;28mself\u001b[39m\u001b[38;5;241m.\u001b[39m_minuit \u001b[38;5;241m=\u001b[39m optimizer\n",
      "File \u001b[0;32m/home/wecapstor1/caph/mppi045h/gammapy/gammapy/modeling/iminuit.py:79\u001b[0m, in \u001b[0;36moptimize_iminuit\u001b[0;34m(parameters, function, store_trace, **kwargs)\u001b[0m\n\u001b[1;32m     73\u001b[0m migrad_opts \u001b[38;5;241m=\u001b[39m kwargs\u001b[38;5;241m.\u001b[39mpop(\u001b[38;5;124m\"\u001b[39m\u001b[38;5;124mmigrad_opts\u001b[39m\u001b[38;5;124m\"\u001b[39m, {})\n\u001b[1;32m     75\u001b[0m minuit, minuit_func \u001b[38;5;241m=\u001b[39m setup_iminuit(\n\u001b[1;32m     76\u001b[0m     parameters\u001b[38;5;241m=\u001b[39mparameters, function\u001b[38;5;241m=\u001b[39mfunction, store_trace\u001b[38;5;241m=\u001b[39mstore_trace, \u001b[38;5;241m*\u001b[39m\u001b[38;5;241m*\u001b[39mkwargs\n\u001b[1;32m     77\u001b[0m )\n\u001b[0;32m---> 79\u001b[0m \u001b[43mminuit\u001b[49m\u001b[38;5;241;43m.\u001b[39;49m\u001b[43mmigrad\u001b[49m\u001b[43m(\u001b[49m\u001b[38;5;241;43m*\u001b[39;49m\u001b[38;5;241;43m*\u001b[39;49m\u001b[43mmigrad_opts\u001b[49m\u001b[43m)\u001b[49m\n\u001b[1;32m     81\u001b[0m factors \u001b[38;5;241m=\u001b[39m minuit\u001b[38;5;241m.\u001b[39mvalues\n\u001b[1;32m     82\u001b[0m info \u001b[38;5;241m=\u001b[39m {\n\u001b[1;32m     83\u001b[0m     \u001b[38;5;124m\"\u001b[39m\u001b[38;5;124msuccess\u001b[39m\u001b[38;5;124m\"\u001b[39m: minuit\u001b[38;5;241m.\u001b[39mvalid,\n\u001b[1;32m     84\u001b[0m     \u001b[38;5;124m\"\u001b[39m\u001b[38;5;124mnfev\u001b[39m\u001b[38;5;124m\"\u001b[39m: minuit\u001b[38;5;241m.\u001b[39mnfcn,\n\u001b[1;32m     85\u001b[0m     \u001b[38;5;124m\"\u001b[39m\u001b[38;5;124mmessage\u001b[39m\u001b[38;5;124m\"\u001b[39m: _get_message(minuit, parameters),\n\u001b[1;32m     86\u001b[0m     \u001b[38;5;124m\"\u001b[39m\u001b[38;5;124mtrace\u001b[39m\u001b[38;5;124m\"\u001b[39m: minuit_func\u001b[38;5;241m.\u001b[39mtrace,\n\u001b[1;32m     87\u001b[0m }\n",
      "File \u001b[0;32m/home/wecapstor1/caph/mppi045h/anaconda3/envs/gammapy-dev/lib/python3.8/site-packages/iminuit/minuit.py:702\u001b[0m, in \u001b[0;36mMinuit.migrad\u001b[0;34m(self, ncall, iterate)\u001b[0m\n\u001b[1;32m    700\u001b[0m \u001b[38;5;28;01mif\u001b[39;00m \u001b[38;5;28mself\u001b[39m\u001b[38;5;241m.\u001b[39m_precision \u001b[38;5;129;01mis\u001b[39;00m \u001b[38;5;129;01mnot\u001b[39;00m \u001b[38;5;28;01mNone\u001b[39;00m:\n\u001b[1;32m    701\u001b[0m     migrad\u001b[38;5;241m.\u001b[39mprecision \u001b[38;5;241m=\u001b[39m \u001b[38;5;28mself\u001b[39m\u001b[38;5;241m.\u001b[39m_precision\n\u001b[0;32m--> 702\u001b[0m fm \u001b[38;5;241m=\u001b[39m \u001b[43mmigrad\u001b[49m\u001b[43m(\u001b[49m\u001b[43mncall\u001b[49m\u001b[43m,\u001b[49m\u001b[43m \u001b[49m\u001b[38;5;28;43mself\u001b[39;49m\u001b[38;5;241;43m.\u001b[39;49m\u001b[43m_tolerance\u001b[49m\u001b[43m)\u001b[49m\n\u001b[1;32m    703\u001b[0m \u001b[38;5;28;01mif\u001b[39;00m fm\u001b[38;5;241m.\u001b[39mis_valid \u001b[38;5;129;01mor\u001b[39;00m fm\u001b[38;5;241m.\u001b[39mhas_reached_call_limit:\n\u001b[1;32m    704\u001b[0m     \u001b[38;5;28;01mbreak\u001b[39;00m\n",
      "File \u001b[0;32m/home/wecapstor1/caph/mppi045h/gammapy/gammapy/modeling/iminuit.py:25\u001b[0m, in \u001b[0;36mMinuitLikelihood.fcn\u001b[0;34m(self, *factors)\u001b[0m\n\u001b[1;32m     22\u001b[0m \u001b[38;5;28;01mdef\u001b[39;00m \u001b[38;5;21mfcn\u001b[39m(\u001b[38;5;28mself\u001b[39m, \u001b[38;5;241m*\u001b[39mfactors):\n\u001b[1;32m     23\u001b[0m     \u001b[38;5;28mself\u001b[39m\u001b[38;5;241m.\u001b[39mparameters\u001b[38;5;241m.\u001b[39mset_parameter_factors(factors)\n\u001b[0;32m---> 25\u001b[0m     total_stat \u001b[38;5;241m=\u001b[39m \u001b[38;5;28;43mself\u001b[39;49m\u001b[38;5;241;43m.\u001b[39;49m\u001b[43mfunction\u001b[49m\u001b[43m(\u001b[49m\u001b[43m)\u001b[49m\n\u001b[1;32m     27\u001b[0m     \u001b[38;5;28;01mif\u001b[39;00m \u001b[38;5;28mself\u001b[39m\u001b[38;5;241m.\u001b[39mstore_trace:\n\u001b[1;32m     28\u001b[0m         \u001b[38;5;28mself\u001b[39m\u001b[38;5;241m.\u001b[39mstore_trace_iteration(total_stat)\n",
      "File \u001b[0;32m/home/wecapstor1/caph/mppi045h/gammapy/gammapy/datasets/core.py:236\u001b[0m, in \u001b[0;36mDatasets.stat_sum\u001b[0;34m(self)\u001b[0m\n\u001b[1;32m    234\u001b[0m \u001b[38;5;66;03m# TODO: add parallel evaluation of likelihoods\u001b[39;00m\n\u001b[1;32m    235\u001b[0m \u001b[38;5;28;01mfor\u001b[39;00m dataset \u001b[38;5;129;01min\u001b[39;00m \u001b[38;5;28mself\u001b[39m:\n\u001b[0;32m--> 236\u001b[0m     stat_sum \u001b[38;5;241m+\u001b[39m\u001b[38;5;241m=\u001b[39m \u001b[43mdataset\u001b[49m\u001b[38;5;241;43m.\u001b[39;49m\u001b[43mstat_sum\u001b[49m\u001b[43m(\u001b[49m\u001b[43m)\u001b[49m\n\u001b[1;32m    237\u001b[0m \u001b[38;5;28;01mreturn\u001b[39;00m stat_sum\n",
      "File \u001b[0;32m/home/wecapstor1/caph/mppi045h/gammapy/gammapy/datasets/map.py:926\u001b[0m, in \u001b[0;36mMapDataset.stat_sum\u001b[0;34m(self)\u001b[0m\n\u001b[1;32m    924\u001b[0m \u001b[38;5;28;01mdef\u001b[39;00m \u001b[38;5;21mstat_sum\u001b[39m(\u001b[38;5;28mself\u001b[39m):\n\u001b[1;32m    925\u001b[0m \u001b[38;5;250m    \u001b[39m\u001b[38;5;124;03m\"\"\"Total likelihood given the current model parameters plus the Gaussian penalty term.\"\"\"\u001b[39;00m\n\u001b[0;32m--> 926\u001b[0m     counts, npred \u001b[38;5;241m=\u001b[39m \u001b[38;5;28mself\u001b[39m\u001b[38;5;241m.\u001b[39mcounts\u001b[38;5;241m.\u001b[39mdata\u001b[38;5;241m.\u001b[39mastype(\u001b[38;5;28mfloat\u001b[39m), \u001b[38;5;28;43mself\u001b[39;49m\u001b[38;5;241;43m.\u001b[39;49m\u001b[43mnpred\u001b[49m\u001b[43m(\u001b[49m\u001b[43m)\u001b[49m\u001b[38;5;241m.\u001b[39mdata\n\u001b[1;32m    927\u001b[0m     \u001b[38;5;28;01mif\u001b[39;00m \u001b[38;5;28mlen\u001b[39m(\u001b[38;5;28mself\u001b[39m\u001b[38;5;241m.\u001b[39mmodels\u001b[38;5;241m.\u001b[39mparameters\u001b[38;5;241m.\u001b[39mpenalised_parameters) \u001b[38;5;241m>\u001b[39m \u001b[38;5;241m0\u001b[39m:\n\u001b[1;32m    928\u001b[0m         \u001b[38;5;66;03m# if self.penalising_invcovmatrix is not None:\u001b[39;00m\n\u001b[1;32m    929\u001b[0m         penalty \u001b[38;5;241m=\u001b[39m gaussian_penality(\n\u001b[1;32m    930\u001b[0m             \u001b[38;5;28mself\u001b[39m\u001b[38;5;241m.\u001b[39mmodels\u001b[38;5;241m.\u001b[39mparameters\u001b[38;5;241m.\u001b[39mpenalised_parameters,\n\u001b[1;32m    931\u001b[0m             \u001b[38;5;28mself\u001b[39m\u001b[38;5;241m.\u001b[39m_penalising_invcovmatrix,\n\u001b[1;32m    932\u001b[0m         )\n",
      "File \u001b[0;32m/home/wecapstor1/caph/mppi045h/gammapy/gammapy/datasets/map.py:451\u001b[0m, in \u001b[0;36mMapDataset.npred\u001b[0;34m(self)\u001b[0m\n\u001b[1;32m    443\u001b[0m \u001b[38;5;28;01mdef\u001b[39;00m \u001b[38;5;21mnpred\u001b[39m(\u001b[38;5;28mself\u001b[39m):\n\u001b[1;32m    444\u001b[0m \u001b[38;5;250m    \u001b[39m\u001b[38;5;124;03m\"\"\"Total predicted source and background counts\u001b[39;00m\n\u001b[1;32m    445\u001b[0m \n\u001b[1;32m    446\u001b[0m \u001b[38;5;124;03m    Returns\u001b[39;00m\n\u001b[0;32m   (...)\u001b[0m\n\u001b[1;32m    449\u001b[0m \u001b[38;5;124;03m        Total predicted counts\u001b[39;00m\n\u001b[1;32m    450\u001b[0m \u001b[38;5;124;03m    \"\"\"\u001b[39;00m\n\u001b[0;32m--> 451\u001b[0m     npred_total \u001b[38;5;241m=\u001b[39m \u001b[38;5;28;43mself\u001b[39;49m\u001b[38;5;241;43m.\u001b[39;49m\u001b[43mnpred_signal\u001b[49m\u001b[43m(\u001b[49m\u001b[43m)\u001b[49m\n\u001b[1;32m    453\u001b[0m     \u001b[38;5;28;01mif\u001b[39;00m \u001b[38;5;28mself\u001b[39m\u001b[38;5;241m.\u001b[39mbackground:\n\u001b[1;32m    454\u001b[0m         npred_total \u001b[38;5;241m+\u001b[39m\u001b[38;5;241m=\u001b[39m \u001b[38;5;28mself\u001b[39m\u001b[38;5;241m.\u001b[39mnpred_background()\n",
      "File \u001b[0;32m/home/wecapstor1/caph/mppi045h/gammapy/gammapy/datasets/map.py:609\u001b[0m, in \u001b[0;36mMapDataset.npred_signal\u001b[0;34m(self, model_name)\u001b[0m\n\u001b[1;32m    599\u001b[0m         evaluator\u001b[38;5;241m.\u001b[39mupdate(\n\u001b[1;32m    600\u001b[0m             exposure,\n\u001b[1;32m    601\u001b[0m             \u001b[38;5;28mself\u001b[39m\u001b[38;5;241m.\u001b[39mpsf,\n\u001b[0;32m   (...)\u001b[0m\n\u001b[1;32m    604\u001b[0m             \u001b[38;5;28mself\u001b[39m\u001b[38;5;241m.\u001b[39mmask_image,\n\u001b[1;32m    605\u001b[0m             )\n\u001b[1;32m    608\u001b[0m     \u001b[38;5;28;01mif\u001b[39;00m evaluator\u001b[38;5;241m.\u001b[39mcontributes:\n\u001b[0;32m--> 609\u001b[0m         npred \u001b[38;5;241m=\u001b[39m \u001b[43mevaluator\u001b[49m\u001b[38;5;241;43m.\u001b[39;49m\u001b[43mcompute_npred\u001b[49m\u001b[43m(\u001b[49m\u001b[43m)\u001b[49m\n\u001b[1;32m    610\u001b[0m         npred_total\u001b[38;5;241m.\u001b[39mstack(npred)\n\u001b[1;32m    611\u001b[0m \u001b[38;5;28;01mreturn\u001b[39;00m npred_total\n",
      "File \u001b[0;32m/home/wecapstor1/caph/mppi045h/gammapy/gammapy/datasets/evaluator.py:393\u001b[0m, in \u001b[0;36mMapEvaluator.compute_npred\u001b[0;34m(self)\u001b[0m\n\u001b[1;32m    390\u001b[0m \u001b[38;5;28;01mif\u001b[39;00m \u001b[38;5;28mself\u001b[39m\u001b[38;5;241m.\u001b[39mparameters_changed \u001b[38;5;129;01mor\u001b[39;00m \u001b[38;5;129;01mnot\u001b[39;00m \u001b[38;5;28mself\u001b[39m\u001b[38;5;241m.\u001b[39muse_cache:\n\u001b[1;32m    391\u001b[0m     \u001b[38;5;28;01mdel\u001b[39;00m \u001b[38;5;28mself\u001b[39m\u001b[38;5;241m.\u001b[39m_compute_npred\n\u001b[0;32m--> 393\u001b[0m \u001b[38;5;28;01mreturn\u001b[39;00m \u001b[38;5;28;43mself\u001b[39;49m\u001b[38;5;241;43m.\u001b[39;49m\u001b[43m_compute_npred\u001b[49m\n",
      "File \u001b[0;32m/home/wecapstor1/caph/mppi045h/anaconda3/envs/gammapy-dev/lib/python3.8/site-packages/astropy/utils/decorators.py:841\u001b[0m, in \u001b[0;36mlazyproperty.__get__\u001b[0;34m(self, obj, owner)\u001b[0m\n\u001b[1;32m    839\u001b[0m         val \u001b[38;5;241m=\u001b[39m obj_dict\u001b[38;5;241m.\u001b[39mget(\u001b[38;5;28mself\u001b[39m\u001b[38;5;241m.\u001b[39m_key, _NotFound)\n\u001b[1;32m    840\u001b[0m         \u001b[38;5;28;01mif\u001b[39;00m val \u001b[38;5;129;01mis\u001b[39;00m _NotFound:\n\u001b[0;32m--> 841\u001b[0m             val \u001b[38;5;241m=\u001b[39m \u001b[38;5;28;43mself\u001b[39;49m\u001b[38;5;241;43m.\u001b[39;49m\u001b[43mfget\u001b[49m\u001b[43m(\u001b[49m\u001b[43mobj\u001b[49m\u001b[43m)\u001b[49m\n\u001b[1;32m    842\u001b[0m             obj_dict[\u001b[38;5;28mself\u001b[39m\u001b[38;5;241m.\u001b[39m_key] \u001b[38;5;241m=\u001b[39m val\n\u001b[1;32m    843\u001b[0m \u001b[38;5;28;01mreturn\u001b[39;00m val\n",
      "File \u001b[0;32m/home/wecapstor1/caph/mppi045h/gammapy/gammapy/datasets/evaluator.py:369\u001b[0m, in \u001b[0;36mMapEvaluator._compute_npred\u001b[0;34m(self)\u001b[0m\n\u001b[1;32m    367\u001b[0m \u001b[38;5;28;01mif\u001b[39;00m \u001b[38;5;129;01mnot\u001b[39;00m \u001b[38;5;28mself\u001b[39m\u001b[38;5;241m.\u001b[39mparameter_norm_only_changed:\n\u001b[1;32m    368\u001b[0m     \u001b[38;5;28;01mfor\u001b[39;00m method \u001b[38;5;129;01min\u001b[39;00m \u001b[38;5;28mself\u001b[39m\u001b[38;5;241m.\u001b[39mmethods_sequence:\n\u001b[0;32m--> 369\u001b[0m         values \u001b[38;5;241m=\u001b[39m \u001b[43mmethod\u001b[49m\u001b[43m(\u001b[49m\u001b[38;5;28;43mself\u001b[39;49m\u001b[38;5;241;43m.\u001b[39;49m\u001b[43m_computation_cache\u001b[49m\u001b[43m)\u001b[49m\n\u001b[1;32m    370\u001b[0m         \u001b[38;5;28mself\u001b[39m\u001b[38;5;241m.\u001b[39m_computation_cache \u001b[38;5;241m=\u001b[39m values\n\u001b[1;32m    371\u001b[0m     npred \u001b[38;5;241m=\u001b[39m \u001b[38;5;28mself\u001b[39m\u001b[38;5;241m.\u001b[39m_computation_cache\n",
      "File \u001b[0;32m/home/wecapstor1/caph/mppi045h/gammapy/gammapy/datasets/evaluator.py:255\u001b[0m, in \u001b[0;36mMapEvaluator.compute_flux_psf_convolved\u001b[0;34m(self, *arg)\u001b[0m\n\u001b[1;32m    253\u001b[0m         value \u001b[38;5;241m=\u001b[39m value \u001b[38;5;241m*\u001b[39m \u001b[38;5;28mself\u001b[39m\u001b[38;5;241m.\u001b[39mpsf_containment\n\u001b[1;32m    254\u001b[0m     \u001b[38;5;28;01melse\u001b[39;00m:\n\u001b[0;32m--> 255\u001b[0m         value \u001b[38;5;241m=\u001b[39m value \u001b[38;5;241m*\u001b[39m \u001b[38;5;28;43mself\u001b[39;49m\u001b[38;5;241;43m.\u001b[39;49m\u001b[43mcompute_flux_spatial\u001b[49m\u001b[43m(\u001b[49m\u001b[43m)\u001b[49m\n\u001b[1;32m    257\u001b[0m \u001b[38;5;28;01mif\u001b[39;00m \u001b[38;5;28mself\u001b[39m\u001b[38;5;241m.\u001b[39mmodel\u001b[38;5;241m.\u001b[39mtemporal_model:\n\u001b[1;32m    258\u001b[0m     value \u001b[38;5;241m*\u001b[39m\u001b[38;5;241m=\u001b[39m \u001b[38;5;28mself\u001b[39m\u001b[38;5;241m.\u001b[39mcompute_temporal_norm()\n",
      "File \u001b[0;32m/home/wecapstor1/caph/mppi045h/gammapy/gammapy/datasets/evaluator.py:266\u001b[0m, in \u001b[0;36mMapEvaluator.compute_flux_spatial\u001b[0;34m(self)\u001b[0m\n\u001b[1;32m    264\u001b[0m \u001b[38;5;28;01mif\u001b[39;00m \u001b[38;5;28mself\u001b[39m\u001b[38;5;241m.\u001b[39mparameters_spatial_changed() \u001b[38;5;129;01mor\u001b[39;00m \u001b[38;5;129;01mnot\u001b[39;00m \u001b[38;5;28mself\u001b[39m\u001b[38;5;241m.\u001b[39muse_cache:\n\u001b[1;32m    265\u001b[0m     \u001b[38;5;28;01mdel\u001b[39;00m \u001b[38;5;28mself\u001b[39m\u001b[38;5;241m.\u001b[39m_compute_flux_spatial\n\u001b[0;32m--> 266\u001b[0m \u001b[38;5;28;01mreturn\u001b[39;00m \u001b[38;5;28;43mself\u001b[39;49m\u001b[38;5;241;43m.\u001b[39;49m\u001b[43m_compute_flux_spatial\u001b[49m\n",
      "File \u001b[0;32m/home/wecapstor1/caph/mppi045h/anaconda3/envs/gammapy-dev/lib/python3.8/site-packages/astropy/utils/decorators.py:841\u001b[0m, in \u001b[0;36mlazyproperty.__get__\u001b[0;34m(self, obj, owner)\u001b[0m\n\u001b[1;32m    839\u001b[0m         val \u001b[38;5;241m=\u001b[39m obj_dict\u001b[38;5;241m.\u001b[39mget(\u001b[38;5;28mself\u001b[39m\u001b[38;5;241m.\u001b[39m_key, _NotFound)\n\u001b[1;32m    840\u001b[0m         \u001b[38;5;28;01mif\u001b[39;00m val \u001b[38;5;129;01mis\u001b[39;00m _NotFound:\n\u001b[0;32m--> 841\u001b[0m             val \u001b[38;5;241m=\u001b[39m \u001b[38;5;28;43mself\u001b[39;49m\u001b[38;5;241;43m.\u001b[39;49m\u001b[43mfget\u001b[49m\u001b[43m(\u001b[49m\u001b[43mobj\u001b[49m\u001b[43m)\u001b[49m\n\u001b[1;32m    842\u001b[0m             obj_dict[\u001b[38;5;28mself\u001b[39m\u001b[38;5;241m.\u001b[39m_key] \u001b[38;5;241m=\u001b[39m val\n\u001b[1;32m    843\u001b[0m \u001b[38;5;28;01mreturn\u001b[39;00m val\n",
      "File \u001b[0;32m/home/wecapstor1/caph/mppi045h/gammapy/gammapy/datasets/evaluator.py:297\u001b[0m, in \u001b[0;36mMapEvaluator._compute_flux_spatial\u001b[0;34m(self)\u001b[0m\n\u001b[1;32m    295\u001b[0m     value \u001b[38;5;241m=\u001b[39m (values\u001b[38;5;241m.\u001b[39mquantity \u001b[38;5;241m*\u001b[39m weights)\u001b[38;5;241m.\u001b[39msum(axis\u001b[38;5;241m=\u001b[39m(\u001b[38;5;241m1\u001b[39m, \u001b[38;5;241m2\u001b[39m), keepdims\u001b[38;5;241m=\u001b[39m\u001b[38;5;28;01mTrue\u001b[39;00m)\n\u001b[1;32m    296\u001b[0m \u001b[38;5;28;01melse\u001b[39;00m:\n\u001b[0;32m--> 297\u001b[0m     value \u001b[38;5;241m=\u001b[39m \u001b[38;5;28;43mself\u001b[39;49m\u001b[38;5;241;43m.\u001b[39;49m\u001b[43m_compute_flux_spatial_geom\u001b[49m\u001b[43m(\u001b[49m\u001b[38;5;28;43mself\u001b[39;49m\u001b[38;5;241;43m.\u001b[39;49m\u001b[43mgeom\u001b[49m\u001b[43m)\u001b[49m\n\u001b[1;32m    299\u001b[0m \u001b[38;5;28;01mreturn\u001b[39;00m value\n",
      "File \u001b[0;32m/home/wecapstor1/caph/mppi045h/gammapy/gammapy/datasets/evaluator.py:306\u001b[0m, in \u001b[0;36mMapEvaluator._compute_flux_spatial_geom\u001b[0;34m(self, geom)\u001b[0m\n\u001b[1;32m    304\u001b[0m \u001b[38;5;28;01mif\u001b[39;00m \u001b[38;5;129;01mnot\u001b[39;00m \u001b[38;5;28mself\u001b[39m\u001b[38;5;241m.\u001b[39mmodel\u001b[38;5;241m.\u001b[39mspatial_model\u001b[38;5;241m.\u001b[39mis_energy_dependent:\n\u001b[1;32m    305\u001b[0m     geom \u001b[38;5;241m=\u001b[39m geom\u001b[38;5;241m.\u001b[39mto_image()\n\u001b[0;32m--> 306\u001b[0m value \u001b[38;5;241m=\u001b[39m \u001b[38;5;28;43mself\u001b[39;49m\u001b[38;5;241;43m.\u001b[39;49m\u001b[43mmodel\u001b[49m\u001b[38;5;241;43m.\u001b[39;49m\u001b[43mspatial_model\u001b[49m\u001b[38;5;241;43m.\u001b[39;49m\u001b[43mintegrate_geom\u001b[49m\u001b[43m(\u001b[49m\u001b[43mgeom\u001b[49m\u001b[43m)\u001b[49m\n\u001b[1;32m    308\u001b[0m \u001b[38;5;28;01mif\u001b[39;00m \u001b[38;5;28mself\u001b[39m\u001b[38;5;241m.\u001b[39mpsf \u001b[38;5;129;01mand\u001b[39;00m \u001b[38;5;28mself\u001b[39m\u001b[38;5;241m.\u001b[39mmodel\u001b[38;5;241m.\u001b[39mapply_irf[\u001b[38;5;124m\"\u001b[39m\u001b[38;5;124mpsf\u001b[39m\u001b[38;5;124m\"\u001b[39m]:\n\u001b[1;32m    309\u001b[0m     value \u001b[38;5;241m=\u001b[39m \u001b[38;5;28mself\u001b[39m\u001b[38;5;241m.\u001b[39mapply_psf(value)\n",
      "File \u001b[0;32m/home/wecapstor1/caph/mppi045h/gammapy/gammapy/modeling/models/spatial.py:250\u001b[0m, in \u001b[0;36mSpatialModel.integrate_geom\u001b[0;34m(self, geom, oversampling_factor)\u001b[0m\n\u001b[1;32m    247\u001b[0m     result\u001b[38;5;241m.\u001b[39m_unit \u001b[38;5;241m=\u001b[39m values\u001b[38;5;241m.\u001b[39munit\n\u001b[1;32m    248\u001b[0m     result \u001b[38;5;241m+\u001b[39m\u001b[38;5;241m=\u001b[39m values\n\u001b[0;32m--> 250\u001b[0m result \u001b[38;5;241m*\u001b[39m\u001b[38;5;241m=\u001b[39m \u001b[43mresult\u001b[49m\u001b[38;5;241;43m.\u001b[39;49m\u001b[43mgeom\u001b[49m\u001b[38;5;241;43m.\u001b[39;49m\u001b[43msolid_angle\u001b[49m\u001b[43m(\u001b[49m\u001b[43m)\u001b[49m\n\u001b[1;32m    252\u001b[0m \u001b[38;5;28;01mif\u001b[39;00m geom\u001b[38;5;241m.\u001b[39mis_region:\n\u001b[1;32m    253\u001b[0m     mask \u001b[38;5;241m=\u001b[39m result\u001b[38;5;241m.\u001b[39mgeom\u001b[38;5;241m.\u001b[39mregion_mask([geom\u001b[38;5;241m.\u001b[39mregion])\n",
      "File \u001b[0;32m/home/wecapstor1/caph/mppi045h/gammapy/gammapy/maps/wcs/geom.py:792\u001b[0m, in \u001b[0;36mWcsGeom.solid_angle\u001b[0;34m(self)\u001b[0m\n\u001b[1;32m    783\u001b[0m \u001b[38;5;28;01mdef\u001b[39;00m \u001b[38;5;21msolid_angle\u001b[39m(\u001b[38;5;28mself\u001b[39m):\n\u001b[1;32m    784\u001b[0m \u001b[38;5;250m    \u001b[39m\u001b[38;5;124;03m\"\"\"Solid angle array (`~astropy.units.Quantity` in ``sr``).\u001b[39;00m\n\u001b[1;32m    785\u001b[0m \n\u001b[1;32m    786\u001b[0m \u001b[38;5;124;03m    The array has the same dimension as the WcsGeom object.\u001b[39;00m\n\u001b[0;32m   (...)\u001b[0m\n\u001b[1;32m    790\u001b[0m \u001b[38;5;124;03m         WcsGeom.to_image().solid_angle()\u001b[39;00m\n\u001b[1;32m    791\u001b[0m \u001b[38;5;124;03m    \"\"\"\u001b[39;00m\n\u001b[0;32m--> 792\u001b[0m     \u001b[38;5;28;01mreturn\u001b[39;00m \u001b[38;5;28;43mself\u001b[39;49m\u001b[38;5;241;43m.\u001b[39;49m\u001b[43m_solid_angle\u001b[49m\n",
      "File \u001b[0;32m/home/wecapstor1/caph/mppi045h/anaconda3/envs/gammapy-dev/lib/python3.8/site-packages/astropy/utils/decorators.py:841\u001b[0m, in \u001b[0;36mlazyproperty.__get__\u001b[0;34m(self, obj, owner)\u001b[0m\n\u001b[1;32m    839\u001b[0m         val \u001b[38;5;241m=\u001b[39m obj_dict\u001b[38;5;241m.\u001b[39mget(\u001b[38;5;28mself\u001b[39m\u001b[38;5;241m.\u001b[39m_key, _NotFound)\n\u001b[1;32m    840\u001b[0m         \u001b[38;5;28;01mif\u001b[39;00m val \u001b[38;5;129;01mis\u001b[39;00m _NotFound:\n\u001b[0;32m--> 841\u001b[0m             val \u001b[38;5;241m=\u001b[39m \u001b[38;5;28;43mself\u001b[39;49m\u001b[38;5;241;43m.\u001b[39;49m\u001b[43mfget\u001b[49m\u001b[43m(\u001b[49m\u001b[43mobj\u001b[49m\u001b[43m)\u001b[49m\n\u001b[1;32m    842\u001b[0m             obj_dict[\u001b[38;5;28mself\u001b[39m\u001b[38;5;241m.\u001b[39m_key] \u001b[38;5;241m=\u001b[39m val\n\u001b[1;32m    843\u001b[0m \u001b[38;5;28;01mreturn\u001b[39;00m val\n",
      "File \u001b[0;32m/home/wecapstor1/caph/mppi045h/gammapy/gammapy/maps/wcs/geom.py:807\u001b[0m, in \u001b[0;36mWcsGeom._solid_angle\u001b[0;34m(self)\u001b[0m\n\u001b[1;32m    805\u001b[0m low \u001b[38;5;241m=\u001b[39m low_left\u001b[38;5;241m.\u001b[39mseparation(low_right)\n\u001b[1;32m    806\u001b[0m left \u001b[38;5;241m=\u001b[39m low_left\u001b[38;5;241m.\u001b[39mseparation(up_left)\n\u001b[0;32m--> 807\u001b[0m up \u001b[38;5;241m=\u001b[39m \u001b[43mup_left\u001b[49m\u001b[38;5;241;43m.\u001b[39;49m\u001b[43mseparation\u001b[49m\u001b[43m(\u001b[49m\u001b[43mup_right\u001b[49m\u001b[43m)\u001b[49m\n\u001b[1;32m    808\u001b[0m right \u001b[38;5;241m=\u001b[39m low_right\u001b[38;5;241m.\u001b[39mseparation(up_right)\n\u001b[1;32m    810\u001b[0m \u001b[38;5;66;03m# compute enclosed angles\u001b[39;00m\n",
      "File \u001b[0;32m/home/wecapstor1/caph/mppi045h/anaconda3/envs/gammapy-dev/lib/python3.8/site-packages/astropy/coordinates/sky_coordinate.py:1200\u001b[0m, in \u001b[0;36mSkyCoord.separation\u001b[0;34m(self, other)\u001b[0m\n\u001b[1;32m   1197\u001b[0m lat2 \u001b[38;5;241m=\u001b[39m other\u001b[38;5;241m.\u001b[39mspherical\u001b[38;5;241m.\u001b[39mlat\n\u001b[1;32m   1199\u001b[0m \u001b[38;5;66;03m# Get the separation as a Quantity, convert to Angle in degrees\u001b[39;00m\n\u001b[0;32m-> 1200\u001b[0m sep \u001b[38;5;241m=\u001b[39m \u001b[43mangular_separation\u001b[49m\u001b[43m(\u001b[49m\u001b[43mlon1\u001b[49m\u001b[43m,\u001b[49m\u001b[43m \u001b[49m\u001b[43mlat1\u001b[49m\u001b[43m,\u001b[49m\u001b[43m \u001b[49m\u001b[43mlon2\u001b[49m\u001b[43m,\u001b[49m\u001b[43m \u001b[49m\u001b[43mlat2\u001b[49m\u001b[43m)\u001b[49m\n\u001b[1;32m   1201\u001b[0m \u001b[38;5;28;01mreturn\u001b[39;00m Angle(sep, unit\u001b[38;5;241m=\u001b[39mu\u001b[38;5;241m.\u001b[39mdegree)\n",
      "File \u001b[0;32m/home/wecapstor1/caph/mppi045h/anaconda3/envs/gammapy-dev/lib/python3.8/site-packages/astropy/coordinates/angle_utilities.py:56\u001b[0m, in \u001b[0;36mangular_separation\u001b[0;34m(lon1, lat1, lon2, lat2)\u001b[0m\n\u001b[1;32m     30\u001b[0m \u001b[38;5;250m\u001b[39m\u001b[38;5;124;03m\"\"\"\u001b[39;00m\n\u001b[1;32m     31\u001b[0m \u001b[38;5;124;03mAngular separation between two points on a sphere.\u001b[39;00m\n\u001b[1;32m     32\u001b[0m \n\u001b[0;32m   (...)\u001b[0m\n\u001b[1;32m     52\u001b[0m \u001b[38;5;124;03m.. [1] https://en.wikipedia.org/wiki/Great-circle_distance\u001b[39;00m\n\u001b[1;32m     53\u001b[0m \u001b[38;5;124;03m\"\"\"\u001b[39;00m\n\u001b[1;32m     55\u001b[0m sdlon \u001b[38;5;241m=\u001b[39m np\u001b[38;5;241m.\u001b[39msin(lon2 \u001b[38;5;241m-\u001b[39m lon1)\n\u001b[0;32m---> 56\u001b[0m cdlon \u001b[38;5;241m=\u001b[39m \u001b[43mnp\u001b[49m\u001b[38;5;241;43m.\u001b[39;49m\u001b[43mcos\u001b[49m\u001b[43m(\u001b[49m\u001b[43mlon2\u001b[49m\u001b[43m \u001b[49m\u001b[38;5;241;43m-\u001b[39;49m\u001b[43m \u001b[49m\u001b[43mlon1\u001b[49m\u001b[43m)\u001b[49m\n\u001b[1;32m     57\u001b[0m slat1 \u001b[38;5;241m=\u001b[39m np\u001b[38;5;241m.\u001b[39msin(lat1)\n\u001b[1;32m     58\u001b[0m slat2 \u001b[38;5;241m=\u001b[39m np\u001b[38;5;241m.\u001b[39msin(lat2)\n",
      "File \u001b[0;32m/home/wecapstor1/caph/mppi045h/anaconda3/envs/gammapy-dev/lib/python3.8/site-packages/astropy/units/quantity.py:643\u001b[0m, in \u001b[0;36mQuantity.__array_ufunc__\u001b[0;34m(self, function, method, *inputs, **kwargs)\u001b[0m\n\u001b[1;32m    621\u001b[0m \u001b[38;5;250m\u001b[39m\u001b[38;5;124;03m\"\"\"Wrap numpy ufuncs, taking care of units.\u001b[39;00m\n\u001b[1;32m    622\u001b[0m \n\u001b[1;32m    623\u001b[0m \u001b[38;5;124;03mParameters\u001b[39;00m\n\u001b[0;32m   (...)\u001b[0m\n\u001b[1;32m    637\u001b[0m \u001b[38;5;124;03m    Results of the ufunc, with the unit set properly.\u001b[39;00m\n\u001b[1;32m    638\u001b[0m \u001b[38;5;124;03m\"\"\"\u001b[39;00m\n\u001b[1;32m    639\u001b[0m \u001b[38;5;66;03m# Determine required conversion functions -- to bring the unit of the\u001b[39;00m\n\u001b[1;32m    640\u001b[0m \u001b[38;5;66;03m# input to that expected (e.g., radian for np.sin), or to get\u001b[39;00m\n\u001b[1;32m    641\u001b[0m \u001b[38;5;66;03m# consistent units between two inputs (e.g., in np.add) --\u001b[39;00m\n\u001b[1;32m    642\u001b[0m \u001b[38;5;66;03m# and the unit of the result (or tuple of units for nout > 1).\u001b[39;00m\n\u001b[0;32m--> 643\u001b[0m converters, unit \u001b[38;5;241m=\u001b[39m \u001b[43mconverters_and_unit\u001b[49m\u001b[43m(\u001b[49m\u001b[43mfunction\u001b[49m\u001b[43m,\u001b[49m\u001b[43m \u001b[49m\u001b[43mmethod\u001b[49m\u001b[43m,\u001b[49m\u001b[43m \u001b[49m\u001b[38;5;241;43m*\u001b[39;49m\u001b[43minputs\u001b[49m\u001b[43m)\u001b[49m\n\u001b[1;32m    645\u001b[0m out \u001b[38;5;241m=\u001b[39m kwargs\u001b[38;5;241m.\u001b[39mget(\u001b[38;5;124m\"\u001b[39m\u001b[38;5;124mout\u001b[39m\u001b[38;5;124m\"\u001b[39m, \u001b[38;5;28;01mNone\u001b[39;00m)\n\u001b[1;32m    646\u001b[0m \u001b[38;5;66;03m# Avoid loop back by turning any Quantity output into array views.\u001b[39;00m\n",
      "File \u001b[0;32m/home/wecapstor1/caph/mppi045h/anaconda3/envs/gammapy-dev/lib/python3.8/site-packages/astropy/units/quantity_helper/converters.py:179\u001b[0m, in \u001b[0;36mconverters_and_unit\u001b[0;34m(function, method, *args)\u001b[0m\n\u001b[1;32m    173\u001b[0m ufunc_helper \u001b[38;5;241m=\u001b[39m UFUNC_HELPERS[function]\n\u001b[1;32m    175\u001b[0m \u001b[38;5;28;01mif\u001b[39;00m method \u001b[38;5;241m==\u001b[39m \u001b[38;5;124m\"\u001b[39m\u001b[38;5;124m__call__\u001b[39m\u001b[38;5;124m\"\u001b[39m \u001b[38;5;129;01mor\u001b[39;00m (method \u001b[38;5;241m==\u001b[39m \u001b[38;5;124m\"\u001b[39m\u001b[38;5;124mouter\u001b[39m\u001b[38;5;124m\"\u001b[39m \u001b[38;5;129;01mand\u001b[39;00m function\u001b[38;5;241m.\u001b[39mnin \u001b[38;5;241m==\u001b[39m \u001b[38;5;241m2\u001b[39m):\n\u001b[1;32m    176\u001b[0m     \u001b[38;5;66;03m# Find out the units of the arguments passed to the ufunc; usually,\u001b[39;00m\n\u001b[1;32m    177\u001b[0m     \u001b[38;5;66;03m# at least one is a quantity, but for two-argument ufuncs, the second\u001b[39;00m\n\u001b[1;32m    178\u001b[0m     \u001b[38;5;66;03m# could also be a Numpy array, etc.  These are given unit=None.\u001b[39;00m\n\u001b[0;32m--> 179\u001b[0m     units \u001b[38;5;241m=\u001b[39m [\u001b[38;5;28mgetattr\u001b[39m(arg, \u001b[38;5;124m\"\u001b[39m\u001b[38;5;124munit\u001b[39m\u001b[38;5;124m\"\u001b[39m, \u001b[38;5;28;01mNone\u001b[39;00m) \u001b[38;5;28;01mfor\u001b[39;00m arg \u001b[38;5;129;01min\u001b[39;00m args]\n\u001b[1;32m    181\u001b[0m     \u001b[38;5;66;03m# Determine possible conversion functions, and the result unit.\u001b[39;00m\n\u001b[1;32m    182\u001b[0m     converters, result_unit \u001b[38;5;241m=\u001b[39m ufunc_helper(function, \u001b[38;5;241m*\u001b[39munits)\n",
      "File \u001b[0;32m/home/wecapstor1/caph/mppi045h/anaconda3/envs/gammapy-dev/lib/python3.8/site-packages/astropy/units/quantity_helper/converters.py:179\u001b[0m, in \u001b[0;36m<listcomp>\u001b[0;34m(.0)\u001b[0m\n\u001b[1;32m    173\u001b[0m ufunc_helper \u001b[38;5;241m=\u001b[39m UFUNC_HELPERS[function]\n\u001b[1;32m    175\u001b[0m \u001b[38;5;28;01mif\u001b[39;00m method \u001b[38;5;241m==\u001b[39m \u001b[38;5;124m\"\u001b[39m\u001b[38;5;124m__call__\u001b[39m\u001b[38;5;124m\"\u001b[39m \u001b[38;5;129;01mor\u001b[39;00m (method \u001b[38;5;241m==\u001b[39m \u001b[38;5;124m\"\u001b[39m\u001b[38;5;124mouter\u001b[39m\u001b[38;5;124m\"\u001b[39m \u001b[38;5;129;01mand\u001b[39;00m function\u001b[38;5;241m.\u001b[39mnin \u001b[38;5;241m==\u001b[39m \u001b[38;5;241m2\u001b[39m):\n\u001b[1;32m    176\u001b[0m     \u001b[38;5;66;03m# Find out the units of the arguments passed to the ufunc; usually,\u001b[39;00m\n\u001b[1;32m    177\u001b[0m     \u001b[38;5;66;03m# at least one is a quantity, but for two-argument ufuncs, the second\u001b[39;00m\n\u001b[1;32m    178\u001b[0m     \u001b[38;5;66;03m# could also be a Numpy array, etc.  These are given unit=None.\u001b[39;00m\n\u001b[0;32m--> 179\u001b[0m     units \u001b[38;5;241m=\u001b[39m [\u001b[38;5;28;43mgetattr\u001b[39;49m(arg, \u001b[38;5;124m\"\u001b[39m\u001b[38;5;124munit\u001b[39m\u001b[38;5;124m\"\u001b[39m, \u001b[38;5;28;01mNone\u001b[39;00m) \u001b[38;5;28;01mfor\u001b[39;00m arg \u001b[38;5;129;01min\u001b[39;00m args]\n\u001b[1;32m    181\u001b[0m     \u001b[38;5;66;03m# Determine possible conversion functions, and the result unit.\u001b[39;00m\n\u001b[1;32m    182\u001b[0m     converters, result_unit \u001b[38;5;241m=\u001b[39m ufunc_helper(function, \u001b[38;5;241m*\u001b[39munits)\n",
      "\u001b[0;31mKeyboardInterrupt\u001b[0m: "
     ]
    }
   ],
   "source": [
    "path = '/home/hpc/caph/mppi045h/3D_analysis/N_parameters_in_L/syserror_3d_bkgmodel/2-source_dataset'\n",
    "path = '/home/vault/caph/mppi062h/repositories/HESS_3Dbkg_syserror/2-error_in_dataset'\n",
    "\n",
    "\n",
    "\n",
    "#dataset_standard = MapDataset.read(f'{path}/{source}/Crab_fullsys.fits')\n",
    "# here the dataset with the fine binning is saved\n",
    "dataset_standard = MapDataset.read(f'{path}/{source}/stacked.fits')\n",
    "dataset_standard = dataset_standard.downsample(4)\n",
    "\n",
    "models = Models.read(f'standard_model.yml')\n",
    "models.parameters['lon_0'].frozen = True\n",
    "models.parameters['lat_0'].frozen = True\n",
    "\n",
    "bkg_model = FoVBackgroundModel(dataset_name=dataset_standard.name)\n",
    "bkg_model.parameters['tilt'].frozen  = False\n",
    "models.append(bkg_model)\n",
    "dataset_standard.models = models\n",
    "dataset_standard.geoms['geom']\n",
    "\n",
    "\n",
    "fit_standarad = Fit(store_trace=False)\n",
    "result_standarad = fit_standarad.run([dataset_standard])\n"
   ]
  },
  {
   "cell_type": "code",
   "execution_count": null,
   "id": "1bfc4bc1",
   "metadata": {},
   "outputs": [],
   "source": []
  },
  {
   "cell_type": "code",
   "execution_count": null,
   "id": "96fadfc5",
   "metadata": {},
   "outputs": [],
   "source": [
    "added = '_008_69'\n",
    "ebins = range(6,24)\n",
    "print(ebins)\n",
    "path = '/home/hpc/caph/mppi045h/3D_analysis/N_parameters_in_L/syserror_3d_bkgmodel/2-source_dataset'\n",
    "\n",
    "pathsource = f\"{source}/\"\n",
    "dataset_N_10 = MapDatasetNuisance.read(f\"{path}/{pathsource}nui_dataset{added}.fits\")\n",
    "print(f'opening ... {path}/{pathsource}')\n",
    "with open(f'{path}/{pathsource}nui_par{added}.yml', \"r\") as ymlfile:\n",
    "    nui_par = yaml.load(ymlfile, Loader=yaml.FullLoader)\n",
    "dataset_N_10.N_parameters = Parameters.from_dict(nui_par )\n",
    "with open(f'{path}/{pathsource}nui_model{added}.yml', \"r\") as ymlfile:\n",
    "    best_fit_model = yaml.load(ymlfile, Loader=yaml.FullLoader)\n",
    "with open(f'{path}/{pathsource}nui_bgmodel{added}.yml', \"r\") as ymlfile:\n",
    "    best_fit_bgmodel = yaml.load(ymlfile, Loader=yaml.FullLoader)\n",
    "bkg_model = FoVBackgroundModel(dataset_name=dataset_N_10.name)\n",
    "bkg_model.parameters['norm'].value = best_fit_bgmodel['spectral']['parameters'][0]['value']\n",
    "bkg_model.parameters['tilt'].value = best_fit_bgmodel['spectral']['parameters'][1]['value']\n",
    "bkg_model.parameters['norm'].error = best_fit_bgmodel['spectral']['parameters'][0]['error']\n",
    "bkg_model.parameters['tilt'].error = best_fit_bgmodel['spectral']['parameters'][1]['error']\n",
    "models = Models.from_dict(best_fit_model )\n",
    "models.append(bkg_model)\n",
    "dataset_N_10.models =models\n",
    "dataset_N_10.geoms['geom']\n",
    "\n",
    "dataset_standard.mask_safe = dataset_N_10.mask\n",
    "\n",
    "print(dataset_N_10)"
   ]
  },
  {
   "cell_type": "code",
   "execution_count": null,
   "id": "7d80e4e9",
   "metadata": {},
   "outputs": [],
   "source": [
    "## try to read pseudo dataset:\n",
    "\n",
    "dataset_pseudo = dataset_standard.copy()\n",
    "dataset_pseudo.background = dataset_N_10.npred_background()\n",
    "with open(f'{path}/{pathsource}pseudo_model{added}.yml', \"r\") as ymlfile:\n",
    "    best_fit_model_pseudo = yaml.load(ymlfile, Loader=yaml.FullLoader)\n",
    "with open(f'{path}/{pathsource}pseudo_bgmodel{added}.yml', \"r\") as ymlfile:\n",
    "    best_fit_bgmodel_pseudo = yaml.load(ymlfile, Loader=yaml.FullLoader)\n",
    "bkg_model_pseudo = FoVBackgroundModel(dataset_name=dataset_pseudo.name)\n",
    "bkg_model_pseudo.parameters['norm'].value = best_fit_bgmodel_pseudo['spectral']['parameters'][0]['value']\n",
    "bkg_model_pseudo.parameters['tilt'].value = best_fit_bgmodel_pseudo['spectral']['parameters'][1]['value']\n",
    "bkg_model_pseudo.parameters['norm'].error = best_fit_bgmodel_pseudo['spectral']['parameters'][0]['error']\n",
    "bkg_model_pseudo.parameters['tilt'].error = best_fit_bgmodel_pseudo['spectral']['parameters'][1]['error']\n",
    "models_pseudo = Models.from_dict(best_fit_model_pseudo )\n",
    "models_pseudo.append(bkg_model_pseudo)\n",
    "dataset_pseudo.models =models_pseudo"
   ]
  },
  {
   "cell_type": "code",
   "execution_count": null,
   "id": "e0c1f851",
   "metadata": {},
   "outputs": [],
   "source": [
    "N_map = dataset_N_10.N_map().slice_by_idx(dict(energy=slice(ebins[0],ebins[3])))\n",
    "N_map.data *=100\n",
    "vmax = np.nanmax(np.abs(N_map.data))\n",
    "N_map.plot_grid(\n",
    "    add_cbar = True, vmax =vmax, vmin = -vmax, cmap = 'inferno');\n",
    "ax = plt.gca()\n",
    "fig= plt.gcf()\n",
    "#cbar = plt.gca().images[-1].colorbar\n",
    "#cbar.set_label('% of BG', rotation=90)\n",
    "plt.suptitle(f'Best Fit Nuisance Parameters ')\n",
    "name = f'plots/2_N_parameters.png'\n",
    "fig.savefig(name, dpi=300, bbox_inches = 'tight')\n",
    "name = f'plots/2_N_parameters.pdf'\n",
    "fig.savefig(name, dpi=300, bbox_inches = 'tight')"
   ]
  },
  {
   "cell_type": "code",
   "execution_count": null,
   "id": "71582a29",
   "metadata": {},
   "outputs": [],
   "source": [
    "bg = dataset_N_10.npred_background().slice_by_idx(dict(energy=slice(7,8)))\n",
    "vmax = np.nanmax(np.abs(bg.data))\n",
    "bg.plot(\n",
    "    add_cbar = True, );\n",
    "ax = plt.gca()\n",
    "fig= plt.gcf()\n",
    "cbar = plt.gca().images[-1].colorbar\n",
    "cbar.set_label('Counts', rotation=90)\n",
    "ax.set_title(f'New Background Prediction \\n E: [{0.75}:{1.0}] TeV', )\n",
    "name = f'plots/2_BG_prediction.png'\n",
    "fig.savefig(name, dpi=300, bbox_inches = 'tight')"
   ]
  },
  {
   "cell_type": "code",
   "execution_count": null,
   "id": "c7f0ce6f",
   "metadata": {},
   "outputs": [],
   "source": [
    "vmax = np.nanmax(np.abs(dataset_N_10.N_map().data))\n",
    "dataset_N_10.N_map().plot_grid(add_cbar = True, vmax =vmax, vmin = -vmax);"
   ]
  },
  {
   "cell_type": "code",
   "execution_count": null,
   "id": "f1f97933",
   "metadata": {},
   "outputs": [],
   "source": [
    "res_standard = (\n",
    "    dataset_standard.residuals(\"diff/sqrt(model)\")\n",
    "    .slice_by_idx(dict(energy=slice(6, 16)))\n",
    "    .smooth(0.1 * u.deg)\n",
    ")\n",
    "vmax = np.max(np.abs(np.nan_to_num(res_standard.data)))\n",
    "print(vmax)\n",
    "res_standard.plot_grid(add_cbar=1, vmax=vmax, vmin=-vmax, cmap=\"coolwarm\", ncols=4,figsize = (15,10));"
   ]
  },
  {
   "cell_type": "code",
   "execution_count": null,
   "id": "0bbac012",
   "metadata": {},
   "outputs": [],
   "source": [
    "res_nui = (\n",
    "    dataset_N_10.residuals(\"diff/sqrt(model)\")\n",
    "    .slice_by_idx(dict(energy=slice(6, 16)))\n",
    "    .smooth(0.1 * u.deg)\n",
    ")\n",
    "res_nui.plot_grid(add_cbar=1, vmax=vmax, vmin=-vmax, cmap=\"coolwarm\", ncols=4,figsize = (15,10));"
   ]
  },
  {
   "cell_type": "code",
   "execution_count": null,
   "id": "a2554597",
   "metadata": {},
   "outputs": [],
   "source": []
  },
  {
   "cell_type": "markdown",
   "id": "9666ac70",
   "metadata": {},
   "source": [
    "## Comparison of the Spatial Resiudal Maps"
   ]
  },
  {
   "cell_type": "code",
   "execution_count": null,
   "id": "d5e5c629",
   "metadata": {},
   "outputs": [],
   "source": [
    "#(dataset_N_10.background - dataset_N_10.npred_background()).plot_grid(add_cbar = 1);"
   ]
  },
  {
   "cell_type": "code",
   "execution_count": null,
   "id": "327291d4",
   "metadata": {},
   "outputs": [],
   "source": [
    "def create_MapDataset(dataset_N):\n",
    "    mapdatset = MapDataset(models=None, \n",
    "                          counts=dataset_N.counts,\n",
    "                          exposure=dataset_N.exposure,\n",
    "                          background=None,\n",
    "                          psf=dataset_N.psf,\n",
    "                          edisp=dataset_N.edisp,\n",
    "                          mask_safe=dataset_N.mask_safe,\n",
    "                          mask_fit=dataset_N.mask_fit,\n",
    "                          gti=dataset_N.gti,\n",
    "                          meta_table=dataset_N.meta_table, \n",
    "                          name=dataset_N.name)\n",
    "    \n",
    "    bkg_model = FoVBackgroundModel(dataset_name=mapdatset.name) \n",
    "    models = Models([dataset_N.models[0].copy()])\n",
    "    print(models)\n",
    "    mapdatset.models = models\n",
    "    mapdatset.background = dataset_N.npred_background()\n",
    "    return mapdatset\n",
    "\n",
    "\n",
    "\n",
    "\n",
    "dataset_N_10_pseudo = create_MapDataset(dataset_N_10)"
   ]
  },
  {
   "cell_type": "code",
   "execution_count": null,
   "id": "63fde50b",
   "metadata": {},
   "outputs": [],
   "source": [
    "estimator = ExcessMapEstimator( correlation_radius=0.5 *u.deg , \n",
    "                                       energy_edges=dataset_standard.counts.geom.axes['energy'].edges[ebins[0]:]) \n",
    "result1 = estimator.run(dataset_standard)\n",
    "vmax = 4\n",
    "result1[\"sqrt_ts\"].plot_grid(cmap = 'coolwarm', add_cbar =1, vmax =vmax, vmin = -vmax);\n",
    "#result2 = estimator.run(dataset2) "
   ]
  },
  {
   "cell_type": "code",
   "execution_count": null,
   "id": "ac6cbf09",
   "metadata": {},
   "outputs": [],
   "source": [
    "estimator = ExcessMapEstimator( correlation_radius=0.5 *u.deg , \n",
    "                                       energy_edges=dataset_N_10_pseudo.counts.geom.axes['energy'].edges[ebins[0]:]) \n",
    "result1 = estimator.run(dataset_N_10_pseudo)\n",
    "vmax = 4\n",
    "result1[\"sqrt_ts\"].plot_grid(cmap = 'coolwarm', add_cbar =1, vmax =vmax, vmin = -vmax);\n",
    "#result2 = estimator.run(dataset2) "
   ]
  },
  {
   "cell_type": "code",
   "execution_count": null,
   "id": "4d1388d6",
   "metadata": {},
   "outputs": [],
   "source": [
    "fig = plot_residual_comparison(dataset_standard, dataset_N_10_pseudo,[8] , radius = 0.1*u.deg )"
   ]
  },
  {
   "cell_type": "code",
   "execution_count": null,
   "id": "626fcbeb",
   "metadata": {},
   "outputs": [],
   "source": [
    "\n",
    "fig = plot_residual_comparison_vertical(dataset_standard, dataset_N_10_pseudo,[6,7,8,9] , radius = 0.07*u.deg)\n",
    "#name = f'{source}/plots/Sigmaps.png'\n",
    "#fig.savefig(name, dpi=300, bbox_inches = 'tight')"
   ]
  },
  {
   "cell_type": "code",
   "execution_count": null,
   "id": "64c6dcac",
   "metadata": {},
   "outputs": [],
   "source": [
    "\n",
    "fig = plot_residual_comparison_vertical_nohisto(dataset_standard, dataset_N_10_pseudo,[6,7,8] , \n",
    "                                                radius = 0.3*u.deg)\n",
    "ax = plt.gca()\n",
    "\n",
    "name = f'plots/2_Sigmaps.png'\n",
    "fig.savefig(name, dpi=300, bbox_inches = 'tight')"
   ]
  },
  {
   "cell_type": "code",
   "execution_count": null,
   "id": "91b6ab13",
   "metadata": {},
   "outputs": [],
   "source": [
    "def plot_residual_histo(dataset1, dataset2, \n",
    "                                                radius = 0.3*u.deg, i_start= 6 , i_end = 9):\n",
    "    \n",
    "    print(\"Radius:\", radius)\n",
    "    fig, axs = plt.subplots(1, 1 ,figsize =(5,5))\n",
    "        \n",
    "    estimator = ExcessMapEstimator( correlation_radius=radius , \n",
    "                                   energy_edges=dataset1.counts.geom.axes['energy'].edges) \n",
    "    result1 = estimator.run(dataset1) \n",
    "    result2 = estimator.run(dataset2) \n",
    "    residual1 = result1[\"sqrt_ts\"].slice_by_idx(dict(energy=slice(i_start,i_end)))\n",
    "    residual2 = result2[\"sqrt_ts\"].slice_by_idx(dict(energy=slice(i_start,i_end)))\n",
    "\n",
    "    print(\"residual1.data:\", np.nanmax(residual1.data))\n",
    "    vmax_ = np.nanmax(np.abs(residual1.smooth(radius).data))\n",
    "    print(\"vmax_:\", vmax_)   \n",
    "\n",
    "    n, bins, patches = axs.hist(residual1.data.flatten(),bins = 70,\n",
    "                       label = 'Standard Analysis\\n $\\mu=${:.2}, $\\sigma=${:.4}'.format(\n",
    "                       np.nanmean(residual1.data.flatten()),\n",
    "                       np.nanstd(residual1.data.flatten())),\n",
    "                              color = color_standard, alpha = 0.99)\n",
    "    axs.hist(residual2.data.flatten(),bins = bins,\n",
    "                             label = 'With Nuisance Par.\\n $\\mu=${:.2}, $\\sigma=${:.4}'.format(\n",
    "                           np.nanmean(residual2.data.flatten()),\n",
    "                           np.nanstd(residual2.data.flatten())),\n",
    "                       color =color_nui, alpha = 0.9)\n",
    "\n",
    "\n",
    "\n",
    "    axs.legend(fontsize = 14)\n",
    "    axs.set_xlabel('Significance'); axs.set_yscale('log')\n",
    "    ee = dataset1.geoms['geom'].axes[0]\n",
    "    ee_start = ee.edges[i_start]\n",
    "    ee_end = ee.edges[i_end]\n",
    "    ee = f\"[{ee_start.value:.2} : {ee_end.value:.2}] TeV\"\n",
    "    axs.set_title(ee ,fontsize = 14)\n",
    "\n",
    "    plt.tight_layout()\n",
    "    return fig\n",
    "\n",
    "\n"
   ]
  },
  {
   "cell_type": "code",
   "execution_count": null,
   "id": "d507dc26",
   "metadata": {},
   "outputs": [],
   "source": [
    "\n",
    "fig = plot_residual_histo(dataset_standard, dataset_N_10_pseudo, \n",
    "                                                radius = 0.3*u.deg, i_start= 6 , i_end = 9)\n",
    "name = f'plots/2_SigmaHisto.png'\n",
    "fig.savefig(name, dpi=300, bbox_inches = 'tight')\n",
    "name = f'plots/2_SigmaHisto.pdf'\n",
    "fig.savefig(name, dpi=300, bbox_inches = 'tight')"
   ]
  },
  {
   "cell_type": "code",
   "execution_count": null,
   "id": "114668e5",
   "metadata": {},
   "outputs": [],
   "source": [
    "eedges = dataset_N_10_pseudo.counts.geom.axes['energy'].edges[0], dataset_N_10_pseudo.counts.geom.axes['energy'].edges[-1]\n",
    "estimator = ExcessMapEstimator( correlation_radius=0.3 *u.deg , \n",
    "                                       energy_edges=eedges\n",
    "                              ) \n",
    "result1 = estimator.run(dataset_N_10_pseudo)\n",
    "vmax = 4\n",
    "result1[\"sqrt_ts\"].plot(cmap = 'coolwarm', add_cbar =1, vmax =vmax, vmin = -vmax);\n",
    "#result2 = estimator.run(dataset2) "
   ]
  },
  {
   "cell_type": "code",
   "execution_count": null,
   "id": "72c459a3",
   "metadata": {},
   "outputs": [],
   "source": [
    "result1 = estimator.run(dataset_standard)\n",
    "vmax = 4\n",
    "result1[\"sqrt_ts\"].plot(cmap = 'coolwarm', add_cbar =1, vmax =vmax, vmin = -vmax);\n",
    "#result2 = estimator.run(dataset2) "
   ]
  },
  {
   "cell_type": "code",
   "execution_count": null,
   "id": "7b03ae3b",
   "metadata": {},
   "outputs": [],
   "source": [
    "for i in [5,10,15,20]:\n",
    "    fig = plot_residual_histo(dataset_standard, dataset_N_10_pseudo, \n",
    "                                                radius = 0.001*u.deg, i_start= i , i_end = i+4)"
   ]
  },
  {
   "cell_type": "code",
   "execution_count": null,
   "id": "46e724b2",
   "metadata": {},
   "outputs": [],
   "source": [
    "kwargs_spectral = dict()\n",
    "kwargs_spectral[\"region\"] = CircleSkyRegion(\n",
    "    dataset_standard.geoms[\"geom\"].center_skydir, radius=3 * u.deg\n",
    ")\n",
    "kwargs_spectral[\"method\"] = \"diff/sqrt(model)\"\n",
    "dataset_standard.plot_residuals(kwargs_spectral=kwargs_spectral);"
   ]
  },
  {
   "cell_type": "code",
   "execution_count": null,
   "id": "b0d4189a",
   "metadata": {},
   "outputs": [],
   "source": [
    "dataset_N_10.plot_residuals(kwargs_spectral=kwargs_spectral);"
   ]
  },
  {
   "cell_type": "code",
   "execution_count": null,
   "id": "fc11a690",
   "metadata": {},
   "outputs": [],
   "source": [
    "ax = dataset_standard.plot_residuals_spectral(method = kwargs_spectral[\"method\"],\n",
    "                                    region = kwargs_spectral[\"region\"],\n",
    "                                        color = color_standard,\n",
    "                                        label = \"Standard Analysis\")\n",
    "ylim = ax.get_ylim()\n",
    "dataset_N_10.plot_residuals_spectral(ax = ax ,method = kwargs_spectral[\"method\"],\n",
    "                                    region = kwargs_spectral[\"region\"],\n",
    "                                         color = color_nui,\n",
    "                                         label = \"With Nuisance Par.\")\n",
    "ax.set_ylim(ylim[0], ylim[1])\n",
    "eax = dataset_standard.geoms['geom'].axes[0].edges.value\n",
    "print(eax)\n",
    "ax.set_xlim(eax[6], eax[-1])\n",
    "ax.legend(loc = 'lower right')\n",
    "fig = plt.gcf()\n",
    "name = f'plots/2_Spectral_Residuals.png'\n",
    "fig.savefig(name, dpi=300, bbox_inches = 'tight')\n",
    "name = f'plots/2_Spectral_Residuals.pdf'\n",
    "fig.savefig(name, dpi=300, bbox_inches = 'tight')"
   ]
  },
  {
   "cell_type": "markdown",
   "id": "27283d64",
   "metadata": {},
   "source": [
    "## Comparison of the Best Fit Model Parameters"
   ]
  },
  {
   "cell_type": "code",
   "execution_count": null,
   "id": "48f26a4b",
   "metadata": {
    "scrolled": true
   },
   "outputs": [],
   "source": [
    "print(\" with nuisance\")\n",
    "print(\"(without nuisance)\")\n",
    "\n",
    "for p_N, p_stand , p_pseudo in zip(dataset_N_10.models.parameters,\n",
    "                                   dataset_standard.models.parameters,\n",
    "                                  dataset_pseudo.models.parameters):\n",
    "    print()\n",
    "    print('='*50)\n",
    "    print(p_N.name )\n",
    "    print('-'*50)\n",
    "    print(\" {:.4} +- {:.3} +- {:.3}\".format(p_N.value, float(p_pseudo.error) ,\n",
    "                                            float(p_N.error)- float(p_pseudo.error)  )   ) \n",
    "    print('({:.4} +- {:.3})'.format(p_stand.value, float(p_stand.error) ))\n",
    "\n",
    "\n"
   ]
  },
  {
   "cell_type": "code",
   "execution_count": null,
   "id": "28c952fc",
   "metadata": {},
   "outputs": [],
   "source": [
    "sysamplitude_percentage = np.loadtxt((f'sysamplitude_percentage.txt'))\n",
    "# Convert to %:\n",
    "sysamplitude_percentage /= 100\n",
    "print(sysamplitude_percentage)"
   ]
  },
  {
   "cell_type": "code",
   "execution_count": null,
   "id": "cb4887e8",
   "metadata": {},
   "outputs": [],
   "source": [
    "len(default_colors*2)\n",
    "default_colors = default_colors * 2"
   ]
  },
  {
   "cell_type": "code",
   "execution_count": null,
   "id": "87153b14",
   "metadata": {},
   "outputs": [],
   "source": [
    "'''ebins = range(6,10)\n",
    "fig = plt.figure(figsize = (15,7))\n",
    "eaxis = dataset_N_10.geoms['geom'].axes[0].center.value\n",
    "amount = dataset_N_10.geoms['geom_down'].data_shape[1]**2\n",
    "mean_N_pars = []\n",
    "max_N_pars = []\n",
    "min_N_pars = []\n",
    "\n",
    "bg_eaxis = dataset_N_10.background.data.sum(axis=2).sum(axis=1)\n",
    "bg_down = dataset_N_10.background#.downsample(10,preserve_counts=True) \n",
    "bg_down_npred = dataset_N_10.npred_background()#.downsample(10,preserve_counts=True) \n",
    "\n",
    "\n",
    "for i, e in enumerate(ebins):\n",
    "    print(i,e)\n",
    "    data = ((bg_down_npred -bg_down  )/bg_down_npred).data[e,:,:].flatten()\n",
    "    Ns = [d if np.abs(d)>0 else np.nan for d in data ]\n",
    "    for N in Ns:\n",
    "        plt.scatter(eaxis[e], [N], color = default_colors[i], s=10)\n",
    "    plt.errorbar(x =eaxis[e]*1.1, y =  np.nanmean(Ns), yerr = np.nanstd(Ns), fmt='x')\n",
    "plt.plot(eaxis,sysamplitude_percentage, label = \"Expected Systematic\") # * bg_eaxis\n",
    "plt.ylabel('Systematic [% BG]')\n",
    "plt.xlabel('Energy [TeV]')\n",
    "plt.xscale('log')'''"
   ]
  },
  {
   "cell_type": "markdown",
   "id": "7f69a5ac",
   "metadata": {},
   "source": [
    "## P-value"
   ]
  },
  {
   "cell_type": "code",
   "execution_count": null,
   "id": "ded9546e",
   "metadata": {},
   "outputs": [],
   "source": [
    "from scipy.stats import ks_2samp\n",
    "\n",
    "def compute_p_value(input_, recovered_ ):\n",
    "    KS, p = ks_2samp(input_, recovered_, alternative='two-sided',)\n",
    "    return p\n",
    "\n",
    "def compute_quality_value(dataset):\n",
    "\n",
    "    input_ =  get_data_to_plot(dataset,     'counts', i_start, i_end)\n",
    "    recovered_ = get_data_to_plot(dataset,   'npred', i_start, i_end)\n",
    "    p = compute_p_value(input_, recovered_)\n",
    "    return p\n",
    "\n",
    "def get_data_to_plot(dataset,type_, i_start, i_end):\n",
    "    if type_ =='npred':\n",
    "        data= dataset.npred() \n",
    "    \n",
    "    if type_ =='counts':\n",
    "        data= dataset.counts \n",
    "        \n",
    "    data *= get_circ_mask(data.geom , 2*u.deg )\n",
    "    data = data.slice_by_idx(dict(energy = slice(i_start, i_end)))\n",
    "    data = data.data.flatten()\n",
    "    data = [d for d in data if d != 0]    \n",
    "        \n",
    "    return data\n",
    "\n",
    "def get_circ_mask(geom , radius ):\n",
    "    center_coord = geom.center_skydir\n",
    "    #radius = 2*u.deg\n",
    "    skyregion = CircleSkyRegion(center=center_coord, radius = radius)\n",
    "    map_mask= Map.from_geom(geom, \n",
    "                                data=geom.region_mask([skyregion], inside=True).data)\n",
    "    return map_mask\n",
    "\n"
   ]
  },
  {
   "cell_type": "code",
   "execution_count": null,
   "id": "97b271c2",
   "metadata": {},
   "outputs": [],
   "source": [
    "i_start, i_end = 6,7\n",
    "p_N = compute_quality_value(dataset_N_10)\n",
    "p_st = compute_quality_value(dataset_standard)\n",
    "print(f\"With Nui: {p_N}\")\n",
    "print(f\"Standard: {p_st}\")"
   ]
  },
  {
   "cell_type": "code",
   "execution_count": null,
   "id": "7ef4190c",
   "metadata": {},
   "outputs": [],
   "source": []
  },
  {
   "cell_type": "code",
   "execution_count": null,
   "id": "a0685c5f",
   "metadata": {},
   "outputs": [],
   "source": []
  }
 ],
 "metadata": {
  "kernelspec": {
   "display_name": "Python 3 (ipykernel)",
   "language": "python",
   "name": "python3"
  },
  "language_info": {
   "codemirror_mode": {
    "name": "ipython",
    "version": 3
   },
   "file_extension": ".py",
   "mimetype": "text/x-python",
   "name": "python",
   "nbconvert_exporter": "python",
   "pygments_lexer": "ipython3",
<<<<<<< HEAD
   "version": "3.8.16"
=======
   "version": "3.8.17"
>>>>>>> effc9ecb415ad5502c014525ce5a3d3b12e42998
  },
  "varInspector": {
   "cols": {
    "lenName": 16,
    "lenType": 16,
    "lenVar": 40
   },
   "kernels_config": {
    "python": {
     "delete_cmd_postfix": "",
     "delete_cmd_prefix": "del ",
     "library": "var_list.py",
     "varRefreshCmd": "print(var_dic_list())"
    },
    "r": {
     "delete_cmd_postfix": ") ",
     "delete_cmd_prefix": "rm(",
     "library": "var_list.r",
     "varRefreshCmd": "cat(var_dic_list()) "
    }
   },
   "types_to_exclude": [
    "module",
    "function",
    "builtin_function_or_method",
    "instance",
    "_Feature"
   ],
   "window_display": false
  }
 },
 "nbformat": 4,
 "nbformat_minor": 5
}
