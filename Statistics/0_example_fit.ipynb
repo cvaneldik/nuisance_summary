{
 "cells": [
  {
   "cell_type": "code",
   "execution_count": 1,
   "id": "c102068e",
   "metadata": {},
   "outputs": [],
   "source": [
    "import matplotlib.pyplot as plt\n",
    "import numpy as np\n",
    "import astropy.units as u\n",
    "from gammapy.maps import Map\n",
    "from astropy.coordinates import SkyCoord, Angle\n",
    "from gammapy.modeling import Fit,  Parameters, Covariance , Parameter\n",
    "from gammapy.datasets import MapDataset ,Datasets, FluxPointsDataset\n",
    "from gammapy.modeling.models import (\n",
    "    PowerLawSpectralModel,\n",
    "    SkyModel,\n",
    "    PointSpatialModel,\n",
    "    PowerLawNormSpectralModel,\n",
    "    Models,\n",
    "    SpatialModel,\n",
    "    FoVBackgroundModel,\n",
    "    PiecewiseNormSpectralModel,\n",
    ")\n",
    "from gammapy.estimators import TSMapEstimator, ExcessMapEstimator\n",
    "from gammapy.estimators import FluxPoints, FluxPointsEstimator\n",
    "\n",
    "from regions import CircleSkyRegion, RectangleSkyRegion\n",
    "import yaml\n",
    "import sys\n",
    "sys.path.append('../')\n",
    "import Dataset_load \n",
    "from scipy.interpolate import interp2d\n",
    "\n",
    "from  Dataset_Setup import Setup, GaussianCovariance_matrix\n"
   ]
  },
  {
   "cell_type": "code",
   "execution_count": 2,
   "id": "5bf6b265",
   "metadata": {},
   "outputs": [
    {
     "data": {
      "image/png": "[encoded data removed]",
      "text/plain": [
       "<Figure size 500x500 with 1 Axes>"
      ]
     },
     "metadata": {},
     "output_type": "display_data"
    }
   ],
   "source": [
    "savefig = 1\n",
    "picformat = \"png\"\n",
    "fig, a_fake = plt.subplots(1, 1, figsize=(5.0, 5.0))"
   ]
  },
  {
   "cell_type": "code",
   "execution_count": 3,
   "id": "27bf135a-5ee4-4ca1-8549-6bf07929003c",
   "metadata": {},
   "outputs": [
    {
     "data": {
      "text/html": [
       "<svg  width=\"550\" height=\"55\"><rect x=\"0\" y=\"0\" width=\"55\" height=\"55\" style=\"fill:#0173b2;stroke-width:2;stroke:rgb(255,255,255)\"/><rect x=\"55\" y=\"0\" width=\"55\" height=\"55\" style=\"fill:#de8f05;stroke-width:2;stroke:rgb(255,255,255)\"/><rect x=\"110\" y=\"0\" width=\"55\" height=\"55\" style=\"fill:#029e73;stroke-width:2;stroke:rgb(255,255,255)\"/><rect x=\"165\" y=\"0\" width=\"55\" height=\"55\" style=\"fill:#d55e00;stroke-width:2;stroke:rgb(255,255,255)\"/><rect x=\"220\" y=\"0\" width=\"55\" height=\"55\" style=\"fill:#cc78bc;stroke-width:2;stroke:rgb(255,255,255)\"/><rect x=\"275\" y=\"0\" width=\"55\" height=\"55\" style=\"fill:#ca9161;stroke-width:2;stroke:rgb(255,255,255)\"/><rect x=\"330\" y=\"0\" width=\"55\" height=\"55\" style=\"fill:#fbafe4;stroke-width:2;stroke:rgb(255,255,255)\"/><rect x=\"385\" y=\"0\" width=\"55\" height=\"55\" style=\"fill:#949494;stroke-width:2;stroke:rgb(255,255,255)\"/><rect x=\"440\" y=\"0\" width=\"55\" height=\"55\" style=\"fill:#ece133;stroke-width:2;stroke:rgb(255,255,255)\"/><rect x=\"495\" y=\"0\" width=\"55\" height=\"55\" style=\"fill:#56b4e9;stroke-width:2;stroke:rgb(255,255,255)\"/></svg>"
      ],
      "text/plain": [
       "[(0.00392156862745098, 0.45098039215686275, 0.6980392156862745),\n",
       " (0.8705882352941177, 0.5607843137254902, 0.0196078431372549),\n",
       " (0.00784313725490196, 0.6196078431372549, 0.45098039215686275),\n",
       " (0.8352941176470589, 0.3686274509803922, 0.0),\n",
       " (0.8, 0.47058823529411764, 0.7372549019607844),\n",
       " (0.792156862745098, 0.5686274509803921, 0.3803921568627451),\n",
       " (0.984313725490196, 0.6862745098039216, 0.8941176470588236),\n",
       " (0.5803921568627451, 0.5803921568627451, 0.5803921568627451),\n",
       " (0.9254901960784314, 0.8823529411764706, 0.2),\n",
       " (0.33725490196078434, 0.7058823529411765, 0.9137254901960784)]"
      ]
     },
     "execution_count": 3,
     "metadata": {},
     "output_type": "execute_result"
    }
   ],
   "source": [
    "from matplotlib import rc\n",
    "import matplotlib.pylab as plt\n",
    "\n",
    "rc('font', **{'family': 'serif', 'serif': ['Computer Modern']})\n",
    "rc('text', usetex=True)\n",
    "\n",
    "import seaborn as sns\n",
    "s = sns.color_palette(\"colorblind\")\n",
    "import matplotlib as mpl\n",
    "mpl.rcParams['axes.prop_cycle'] = mpl.cycler(color=[s_ for s_ in s]) \n",
    "s"
   ]
  },
  {
   "cell_type": "code",
   "execution_count": 4,
   "id": "0dabbb1c",
   "metadata": {},
   "outputs": [
    {
     "name": "stdout",
     "output_type": "stream",
     "text": [
      "loaded dataset:\n",
      "/home/katrin/Documents/nuisance_summary/PKS_flare/HESS_public/dataset-simulated-pl.fits.gz\n"
     ]
    }
   ],
   "source": [
    "scaled_amplitude = Parameter(\"amplitude\", value=1e-11)\n",
    "\n",
    "dataset_asimov = Dataset_load.create_asimov(\n",
    "    model=\"pl\", source=\"PKSflare\", parameters=Parameters([scaled_amplitude])\n",
    ")"
   ]
  },
  {
   "cell_type": "code",
   "execution_count": 5,
   "id": "7aada4d1",
   "metadata": {},
   "outputs": [],
   "source": [
    "norm = 0.1\n",
    "tilt = 0.0\n",
    "bias = 0.0\n",
    "resolution = 0.0"
   ]
  },
  {
   "cell_type": "code",
   "execution_count": 6,
   "id": "a54a29a5",
   "metadata": {},
   "outputs": [],
   "source": [
    "setup = Setup(dataset_input=dataset_asimov)\n",
    "#setup.set_up_irf_sys(bias, resolution, norm, tilt)\n",
    "dataset_asimov, dataset_asimov_N = setup.run()\n",
    "# irf model\n",
    "setup.set_irf_model(dataset_asimov_N)\n",
    "dataset_asimov_N.models.parameters['resolution'].frozen = True\n",
    "dataset_asimov_N.irf_model.parameters['tilt'].frozen = True\n",
    "dataset_asimov_N.irf_model.parameters['bias'].frozen = True\n",
    "dataset_asimov_N.irf_model.parameters['norm'].frozen = False\n",
    "setup.set_irf_prior(dataset_asimov_N, bias, resolution, norm, tilt)"
   ]
  },
  {
   "cell_type": "code",
   "execution_count": 7,
   "id": "aaf1ad4f",
   "metadata": {},
   "outputs": [
    {
     "name": "stdout",
     "output_type": "stream",
     "text": [
      "DatasetModels\n",
      "\n",
      "Component 0: SkyModel\n",
      "\n",
      "  Name                      : aEaZD8Bs\n",
      "  Datasets names            : None\n",
      "  Spectral model type       : PowerLawSpectralModel\n",
      "  Spatial  model type       : PointSpatialModel\n",
      "  Temporal model type       : \n",
      "  Parameters:\n",
      "    index                         :      2.300   +/-    0.00             \n",
      "    amplitude                     :   1.00e-11   +/- 0.0e+00 1 / (TeV s cm2)\n",
      "    reference             (frozen):      1.000       TeV         \n",
      "    lon_0                         :    329.680   +/-    0.00 deg         \n",
      "    lat_0                         :    -30.222   +/-    0.00 deg         \n",
      "\n",
      "Component 1: FoVBackgroundModel\n",
      "\n",
      "  Name                      : 637k5vNk-bkg\n",
      "  Datasets names            : ['637k5vNk']\n",
      "  Spectral model type       : PowerLawNormSpectralModel\n",
      "  Parameters:\n",
      "    norm                          :      1.000   +/-    0.00             \n",
      "    tilt                          :      0.000   +/-    0.00             \n",
      "    reference             (frozen):      1.000       TeV         \n",
      "\n",
      "\n"
     ]
    }
   ],
   "source": [
    "print(dataset_asimov.models)"
   ]
  },
  {
   "cell_type": "code",
   "execution_count": 8,
   "id": "6196fc30",
   "metadata": {},
   "outputs": [
    {
     "name": "stdout",
     "output_type": "stream",
     "text": [
      "DatasetModels\n",
      "\n",
      "Component 0: SkyModel\n",
      "\n",
      "  Name                      : aEaZD8Bs\n",
      "  Datasets names            : None\n",
      "  Spectral model type       : PowerLawSpectralModel\n",
      "  Spatial  model type       : PointSpatialModel\n",
      "  Temporal model type       : \n",
      "  Parameters:\n",
      "    index                         :      2.300   +/-    0.00             \n",
      "    amplitude                     :   1.00e-11   +/- 0.0e+00 1 / (TeV s cm2)\n",
      "    reference             (frozen):      1.000       TeV         \n",
      "    lon_0                         :    329.680   +/-    0.00 deg         \n",
      "    lat_0                         :    -30.222   +/-    0.00 deg         \n",
      "\n",
      "Component 1: FoVBackgroundModel\n",
      "\n",
      "  Name                      : 7PGK9vrA-bkg\n",
      "  Datasets names            : ['7PGK9vrA']\n",
      "  Spectral model type       : PowerLawNormSpectralModel\n",
      "  Parameters:\n",
      "    norm                          :      1.000   +/-    0.00             \n",
      "    tilt                          :      0.000   +/-    0.00             \n",
      "    reference             (frozen):      1.000       TeV         \n",
      "\n",
      "Component 2: IRFModels\n",
      "\n",
      "  Name                      : 7PGK9vrA-irf\n",
      "  Datasets names            : 7PGK9vrA\n",
      "  EReco  model type         : ERecoIRFModel\n",
      "  Eff area  model type      : EffAreaIRFModel\n",
      "  PSF model type            : \n",
      "  Parameters:\n",
      "    bias                  (frozen):      0.000                   \n",
      "    resolution            (frozen):      0.000                   \n",
      "    norm                          :      0.000   +/-    0.00             \n",
      "    tilt                  (frozen):      0.000                   \n",
      "    reference             (frozen):      1.000       TeV         \n",
      "\n",
      "\n"
     ]
    }
   ],
   "source": [
    "print(dataset_asimov_N.models)"
   ]
  },
  {
   "cell_type": "code",
   "execution_count": 9,
   "id": "95809bda",
   "metadata": {},
   "outputs": [],
   "source": [
    "fit = Fit()\n",
    "result = fit.run(dataset_asimov)"
   ]
  },
  {
   "cell_type": "code",
   "execution_count": 10,
   "id": "55732a07",
   "metadata": {},
   "outputs": [],
   "source": [
    "fit = Fit()\n",
    "result = fit.run(dataset_asimov_N)"
   ]
  },
  {
   "cell_type": "code",
   "execution_count": 11,
   "id": "9606eaff",
   "metadata": {},
   "outputs": [
    {
     "name": "stdout",
     "output_type": "stream",
     "text": [
      "DatasetModels\n",
      "\n",
      "Component 0: SkyModel\n",
      "\n",
      "  Name                      : aEaZD8Bs\n",
      "  Datasets names            : None\n",
      "  Spectral model type       : PowerLawSpectralModel\n",
      "  Spatial  model type       : PointSpatialModel\n",
      "  Temporal model type       : \n",
      "  Parameters:\n",
      "    index                         :      2.300   +/-    0.01             \n",
      "    amplitude                     :   1.00e-11   +/- 1.1e-13 1 / (TeV s cm2)\n",
      "    reference             (frozen):      1.000       TeV         \n",
      "    lon_0                         :    329.680   +/-    0.00 deg         \n",
      "    lat_0                         :    -30.222   +/-    0.00 deg         \n",
      "\n",
      "Component 1: FoVBackgroundModel\n",
      "\n",
      "  Name                      : 637k5vNk-bkg\n",
      "  Datasets names            : ['637k5vNk']\n",
      "  Spectral model type       : PowerLawNormSpectralModel\n",
      "  Parameters:\n",
      "    norm                          :      1.000   +/-    0.00             \n",
      "    tilt                          :      0.000   +/-    0.00             \n",
      "    reference             (frozen):      1.000       TeV         \n",
      "\n",
      "\n"
     ]
    }
   ],
   "source": [
    "print(dataset_asimov.models)"
   ]
  },
  {
   "cell_type": "code",
   "execution_count": 12,
   "id": "4ea8fdd5",
   "metadata": {},
   "outputs": [
    {
     "name": "stdout",
     "output_type": "stream",
     "text": [
      "DatasetModels\n",
      "\n",
      "Component 0: SkyModel\n",
      "\n",
      "  Name                      : aEaZD8Bs\n",
      "  Datasets names            : None\n",
      "  Spectral model type       : PowerLawSpectralModel\n",
      "  Spatial  model type       : PointSpatialModel\n",
      "  Temporal model type       : \n",
      "  Parameters:\n",
      "    index                         :      2.301   +/-    0.01             \n",
      "    amplitude                     :   1.00e-11   +/- 1.2e-12 1 / (TeV s cm2)\n",
      "    reference             (frozen):      1.000       TeV         \n",
      "    lon_0                         :    329.680   +/-    0.00 deg         \n",
      "    lat_0                         :    -30.222   +/-    0.00 deg         \n",
      "\n",
      "Component 1: FoVBackgroundModel\n",
      "\n",
      "  Name                      : 7PGK9vrA-bkg\n",
      "  Datasets names            : ['7PGK9vrA']\n",
      "  Spectral model type       : PowerLawNormSpectralModel\n",
      "  Parameters:\n",
      "    norm                          :      1.000   +/-    0.00             \n",
      "    tilt                          :      0.000   +/-    0.00             \n",
      "    reference             (frozen):      1.000       TeV         \n",
      "\n",
      "Component 2: IRFModels\n",
      "\n",
      "  Name                      : 7PGK9vrA-irf\n",
      "  Datasets names            : 7PGK9vrA\n",
      "  EReco  model type         : ERecoIRFModel\n",
      "  Eff area  model type      : EffAreaIRFModel\n",
      "  PSF model type            : \n",
      "  Parameters:\n",
      "    bias                  (frozen):      0.000                   \n",
      "    resolution            (frozen):      0.000                   \n",
      "    norm                          :      0.001   +/-    0.12             \n",
      "    tilt                  (frozen):      0.000                   \n",
      "    reference             (frozen):      1.000       TeV         \n",
      "\n",
      "\n"
     ]
    }
   ],
   "source": [
    "print(dataset_asimov_N.models)"
   ]
  },
  {
   "cell_type": "code",
   "execution_count": 13,
   "id": "30482861",
   "metadata": {},
   "outputs": [],
   "source": [
    "def make_writeable(stat_amplitude):\n",
    "    text = dict()\n",
    "    text['scanvalues']  = [float(_) for _ in stat_amplitude[list(stat_amplitude.keys())[0]]]\n",
    "    text['stat_scan'] = [float(_) for _ in stat_amplitude['stat_scan']]\n",
    "    return text\n"
   ]
  },
  {
   "cell_type": "code",
   "execution_count": 14,
   "id": "68120473",
   "metadata": {},
   "outputs": [
    {
     "name": "stdout",
     "output_type": "stream",
     "text": [
      "CPU times: user 4.09 ms, sys: 292 µs, total: 4.38 ms\n",
      "Wall time: 4.8 ms\n"
     ]
    }
   ],
   "source": [
    "%%time\n",
    "#dataset_asimov.models.parameters['amplitude'].scan_values = dataset_asimov_N.models.parameters['amplitude'].scan_values\n",
    "computing = 0\n",
    "if computing:\n",
    "    stat_amplitude = fit.stat_profile(dataset_asimov, dataset_asimov.models.parameters['amplitude'],\n",
    "                                      reoptimize=True)\n",
    "    stat_amplitude_N = fit.stat_profile(dataset_asimov_N, dataset_asimov_N.models.parameters['amplitude'],\n",
    "                                        reoptimize=True)\n",
    "    with open(f\"0_example_scan.yml\", \"w\") as outfile:\n",
    "        yaml.dump(make_writeable(stat_amplitude), outfile, default_flow_style=False)\n",
    "    with open(f\"0_example_scan_N.yml\", \"w\") as outfile:\n",
    "        yaml.dump(make_writeable(stat_amplitude_N), outfile, default_flow_style=False)\n",
    "        \n",
    "    stat_norm = fit.stat_profile(dataset_asimov, dataset_asimov.models.parameters['norm'],\n",
    "                                      reoptimize=True)\n",
    "    stat_norm_N = fit.stat_profile(dataset_asimov_N, dataset_asimov_N.models.parameters['norm'],\n",
    "                                        reoptimize=True)\n",
    "    with open(f\"0_example_scan_norm.yml\", \"w\") as outfile:\n",
    "        yaml.dump(make_writeable(stat_norm), outfile, default_flow_style=False)\n",
    "    with open(f\"0_example_scan_norm_N.yml\", \"w\") as outfile:\n",
    "        yaml.dump(make_writeable(stat_norm_N), outfile, default_flow_style=False)\n",
    "else:\n",
    "    with open(f\"0_example_scan.yml\", \"r\") as stream:\n",
    "        stat_amplitude = yaml.safe_load(stream)\n",
    "    with open(f\"0_example_scan_N.yml\", \"r\") as stream:\n",
    "        stat_amplitude_N = yaml.safe_load(stream)\n",
    "    with open(f\"0_example_scan_norm.yml\", \"r\") as stream:\n",
    "        stat_norm = yaml.safe_load(stream)\n",
    "    with open(f\"0_example_scan_norm_N.yml\", \"r\") as stream:\n",
    "        stat_norm_N = yaml.safe_load(stream)    \n"
   ]
  },
  {
   "cell_type": "code",
   "execution_count": null,
   "id": "75368ac5",
   "metadata": {},
   "outputs": [],
   "source": [
    "stat_amplitude['stat_scan'] -= np.min(stat_amplitude['stat_scan'])\n",
    "stat_amplitude_N['stat_scan'] -= np.min(stat_amplitude_N['stat_scan'])\n",
    "\n",
    "\n",
    "min_ = np.min(stat_amplitude['stat_scan'])\n",
    "min_N = np.min(stat_amplitude_N['stat_scan'])\n",
    "mins = [min_N, min_, ]\n",
    "\n",
    "fig, ax  = plt.subplots(2,1, figsize = (4,6))\n",
    "ax[0].plot(stat_amplitude_N[list(stat_amplitude.keys())[0]],\n",
    "        stat_amplitude_N['stat_scan'],label = \"Likelihood + Prior\")\n",
    "ax[0].plot(stat_amplitude[list(stat_amplitude.keys())[0]],\n",
    "        stat_amplitude['stat_scan'],label = \"Likelihood\")\n",
    "\n",
    "for i, par in enumerate([ dataset_asimov_N.models.parameters['amplitude'], \n",
    "            dataset_asimov.models.parameters['amplitude']]):\n",
    "    ax[0].fill_betweenx(y=(mins[i], mins[i]+ 1), \n",
    "                  x1=(par.value - par.error),\n",
    "                  x2 =(par.value + par.error), color = s[i],\n",
    "                     alpha = 0.3)\n",
    "\n",
    "\n",
    "\n",
    "ax[0].legend()\n",
    "ax[0].set_ylim(min_ - 0.5, min_ + 2)\n",
    "ax[0].set_xlim(0.83e-11, 1.17e-11)\n",
    "ax[0].set_xlabel(\"Amplitude [1/TeVscm2]\")\n",
    "ax[0].set_ylabel(\"-2 log(L)\")\n",
    "\n",
    "\n",
    "energy_bounds = (0.3, 100 ) *u.TeV\n",
    "energy_power = 2\n",
    "\n",
    "dataset_asimov_N.models[0].spectral_model.plot(energy_bounds = energy_bounds, ax = ax[1],\n",
    "                                              energy_power = energy_power)\n",
    "dataset_asimov_N.models[0].spectral_model.plot_error(energy_bounds = energy_bounds,\n",
    "                                                    facecolor = s[0], alpha = 0.3, ax = ax[1],\n",
    "                                                    energy_power = energy_power,\n",
    "                                                    label = \"Error without nuisance par.\")\n",
    "\n",
    "\n",
    "dataset_asimov.models[0].spectral_model.plot(energy_bounds = energy_bounds, ax = ax[1],\n",
    "                                            energy_power = energy_power)\n",
    "dataset_asimov.models[0].spectral_model.plot_error(energy_bounds = energy_bounds,\n",
    "                                                    facecolor = s[1], alpha = 0.7, ax = ax[1],\n",
    "                                                  energy_power = energy_power,\n",
    "                                                  label = \"Error with nuisance par.\")\n",
    "dataset_asimov_N.models[0].spectral_model.plot(energy_bounds = energy_bounds, ax = ax[1],\n",
    "                                              energy_power = energy_power, color = s[0])\n",
    "plt.legend()"
   ]
  },
  {
   "cell_type": "code",
   "execution_count": null,
   "id": "5db8927b-af8b-4d07-a05a-54a40889baa7",
   "metadata": {},
   "outputs": [],
   "source": []
  },
  {
   "cell_type": "code",
   "execution_count": null,
   "id": "ea119caf-d2e9-47d7-8c5d-37725b72cc06",
   "metadata": {},
   "outputs": [],
   "source": []
  }
 ],
 "metadata": {
  "kernelspec": {
   "display_name": "Python 3 (ipykernel)",
   "language": "python",
   "name": "python3"
  },
  "language_info": {
   "codemirror_mode": {
    "name": "ipython",
    "version": 3
   },
   "file_extension": ".py",
   "mimetype": "text/x-python",
   "name": "python",
   "nbconvert_exporter": "python",
   "pygments_lexer": "ipython3",
   "version": "3.8.16"
  },
  "varInspector": {
   "cols": {
    "lenName": 16,
    "lenType": 16,
    "lenVar": 40
   },
   "kernels_config": {
    "python": {
     "delete_cmd_postfix": "",
     "delete_cmd_prefix": "del ",
     "library": "var_list.py",
     "varRefreshCmd": "print(var_dic_list())"
    },
    "r": {
     "delete_cmd_postfix": ") ",
     "delete_cmd_prefix": "rm(",
     "library": "var_list.r",
     "varRefreshCmd": "cat(var_dic_list()) "
    }
   },
   "types_to_exclude": [
    "module",
    "function",
    "builtin_function_or_method",
    "instance",
    "_Feature"
   ],
   "window_display": false
  }
 },
 "nbformat": 4,
 "nbformat_minor": 5
}
