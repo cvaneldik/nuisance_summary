{
 "cells": [
  {
   "cell_type": "markdown",
   "id": "e7853a11",
   "metadata": {},
   "source": [
    "## Runnning with gammapy-dev/IRF_model\n",
    "Fitting asimov datasets with nuisance parameters based on the different livetimes"
   ]
  },
  {
   "cell_type": "markdown",
   "id": "0e04af29",
   "metadata": {},
   "source": [
    "### Setup"
   ]
  },
  {
   "cell_type": "code",
   "execution_count": 1,
   "id": "27bf135a-5ee4-4ca1-8549-6bf07929003c",
   "metadata": {},
   "outputs": [],
   "source": [
    "import matplotlib.pyplot as plt\n",
    "import numpy as np\n",
    "import astropy.units as u\n",
    "from gammapy.maps import Map\n",
    "from astropy.coordinates import SkyCoord, Angle\n",
    "from gammapy.modeling import Fit,  Parameters, Covariance , Parameter\n",
    "from gammapy.datasets import MapDataset ,Datasets, FluxPointsDataset\n",
    "from gammapy.modeling.models import (\n",
    "    PowerLawSpectralModel,\n",
    "    SkyModel,\n",
    "    PointSpatialModel,\n",
    "    PowerLawNormSpectralModel,\n",
    "    Models,\n",
    "    SpatialModel,\n",
    "    FoVBackgroundModel,\n",
    "    PiecewiseNormSpectralModel,\n",
    ")\n",
    "from gammapy.estimators import TSMapEstimator, ExcessMapEstimator\n",
    "from gammapy.estimators import FluxPoints, FluxPointsEstimator\n",
    "\n",
    "from regions import CircleSkyRegion, RectangleSkyRegion\n",
    "import yaml\n",
    "import sys\n",
    "sys.path.append('../../')\n",
    "import Dataset_load \n",
    "\n",
    "from  Dataset_Setup import Setup, GaussianCovariance_matrix"
   ]
  },
  {
   "cell_type": "markdown",
   "id": "5de988df",
   "metadata": {
    "tags": []
   },
   "source": [
    "## Read dataset"
   ]
  },
  {
   "cell_type": "code",
   "execution_count": 2,
   "id": "0eeeaf75",
   "metadata": {},
   "outputs": [],
   "source": [
    "config = Dataset_load.load_config()\n",
    "colors = config['colors']['three']\n",
    "\n",
    "colors\n",
    "import ast\n",
    "\n",
    "colors[1] = ast.literal_eval(colors[1])\n",
    "colors[2] = ast.literal_eval(colors[2])\n",
    "colors[3] = ast.literal_eval(colors[3])"
   ]
  },
  {
   "cell_type": "code",
   "execution_count": 3,
   "id": "8ffc9110-209f-4ae9-b43d-735dbb790669",
   "metadata": {},
   "outputs": [
    {
     "name": "stdout",
     "output_type": "stream",
     "text": [
      "[2.15443469]\n"
     ]
    }
   ],
   "source": [
    "livetimes = np.logspace(0, 2,  7)[1:2]\n",
    "print(livetimes)"
   ]
  },
  {
   "cell_type": "code",
   "execution_count": 4,
   "id": "f94dc89c",
   "metadata": {},
   "outputs": [
    {
     "name": "stdout",
     "output_type": "stream",
     "text": [
      "loaded dataset:\n",
      "/home/katrin/Documents/nuisance_summary/PKS_flare/HESS_public/dataset-simulated-2.154434690031884-hr.fits.gz\n",
      "CPU times: user 5.36 s, sys: 341 ms, total: 5.7 s\n",
      "Wall time: 5.75 s\n"
     ]
    }
   ],
   "source": [
    "%%time\n",
    "datasets_input = []\n",
    "for l in livetimes:\n",
    "    datasets_i  = Dataset_load.create_asimov(model = 'crab', source = \"PKSflare\", \n",
    "                                                   livetime = f\"{l}-hr\",\n",
    "                                            parameters = None)\n",
    "    datasets_input.append(datasets_i)"
   ]
  },
  {
   "cell_type": "code",
   "execution_count": 5,
   "id": "2b476d34",
   "metadata": {},
   "outputs": [
    {
     "data": {
      "text/plain": [
       "<matplotlib.legend.Legend at 0x726ec5424eb0>"
      ]
     },
     "execution_count": 5,
     "metadata": {},
     "output_type": "execute_result"
    },
    {
     "data": {
      "image/png": "[encoded data removed]",
      "text/plain": [
       "<Figure size 640x480 with 1 Axes>"
      ]
     },
     "metadata": {},
     "output_type": "display_data"
    }
   ],
   "source": [
    "counts, signal, bkg = [] , [], []\n",
    "for d in datasets_input:\n",
    "    counts.append(d.counts.data.sum())\n",
    "    signal.append(d.npred_signal().data.sum())\n",
    "    bkg.append(d.npred_background().data.sum())\n",
    "    \n",
    "    \n",
    "plt.errorbar(livetimes, counts, yerr = np.sqrt(counts), fmt= 'x', label = \"Counts\")\n",
    "plt.plot(livetimes, signal, label = \"signal\")\n",
    "plt.plot(livetimes, bkg, label = \"bkg\")\n",
    "\n",
    "plt.loglog()\n",
    "plt.xlabel(\"Livetime [hr]\")\n",
    "plt.ylabel(\"Counts\")\n",
    "plt.legend()"
   ]
  },
  {
   "cell_type": "markdown",
   "id": "41d52c69",
   "metadata": {},
   "source": [
    "## Asimov Cases"
   ]
  },
  {
   "cell_type": "code",
   "execution_count": 6,
   "id": "0c4bda2d-0298-486b-ad1c-c218049d427d",
   "metadata": {},
   "outputs": [],
   "source": [
    "true_energy = datasets_input[0].exposure.geom.axes[0].center.value"
   ]
  },
  {
   "cell_type": "markdown",
   "id": "2e0399d4",
   "metadata": {},
   "source": [
    "## Datasets"
   ]
  },
  {
   "cell_type": "code",
   "execution_count": 7,
   "id": "007fe486",
   "metadata": {},
   "outputs": [],
   "source": [
    "true_energy = datasets_input[0].exposure.geom.axes[0].center.value\n",
    "zero = 1e-12\n",
    "norm = 0.1\n",
    "tilt = 0.02\n",
    "bias = 0.1\n",
    "resolution =  0 \n",
    "magnitude  = .1\n",
    "corrlength = 2"
   ]
  },
  {
   "cell_type": "code",
   "execution_count": 8,
   "id": "b24b18ac-af52-48ac-bd1e-f03d21457fe4",
   "metadata": {},
   "outputs": [],
   "source": [
    "def set_up(dataset_input):\n",
    "    \n",
    "    setup = Setup(dataset_input=dataset_input)\n",
    "    #setup.set_up_irf_sys(bias, resolution, norm, tilt)\n",
    "    dataset_asimov, dataset_asimov_N = setup.run()\n",
    "    # irf model\n",
    "    setup.set_irf_model(dataset_asimov_N)\n",
    "    dataset_asimov_N.models.parameters['resolution'].frozen = True\n",
    "    dataset_asimov_N.irf_model.parameters['tilt'].frozen = False\n",
    "    dataset_asimov_N.irf_model.parameters['bias'].frozen = False\n",
    "    \n",
    "    setup.set_irf_prior(dataset_asimov_N, bias, resolution, norm, tilt)\n",
    "    # piece wise model\n",
    "    # remove old bkg model\n",
    "    #setup.unset_model(dataset_asimov_N, FoVBackgroundModel)\n",
    "    #setup.set_piecewise_bkg_model(dataset_asimov_N)\n",
    "    # energy of the following parameters smaller than ethrshold\n",
    "    #dataset_asimov_N.background_model.parameters['norm0'].frozen = True\n",
    "    #dataset_asimov_N.background_model.parameters['norm1'].frozen = True\n",
    "    #dataset_asimov_N.background_model.parameters['norm2'].frozen = True\n",
    "    #dataset_asimov_N.background_model.parameters['norm3'].frozen = True\n",
    "    #setup.set_bkg_prior(dataset_asimov_N, magnitude, corrlength)\n",
    "\n",
    "    print(dataset_asimov_N.models)\n",
    "    \n",
    "       \n",
    "    return dataset_asimov_N, dataset_asimov"
   ]
  },
  {
   "cell_type": "code",
   "execution_count": 9,
   "id": "941d5494-e803-4ebd-9d72-3911c3629760",
   "metadata": {},
   "outputs": [
    {
     "name": "stdout",
     "output_type": "stream",
     "text": [
      "DatasetModels\n",
      "\n",
      "Component 0: SkyModel\n",
      "\n",
      "  Name                      : Crab\n",
      "  Datasets names            : None\n",
      "  Spectral model type       : ExpCutoffPowerLawSpectralModel\n",
      "  Spatial  model type       : PointSpatialModel\n",
      "  Temporal model type       : \n",
      "  Parameters:\n",
      "    index                         :      2.390   +/-    0.00             \n",
      "    amplitude                     :   3.76e-11   +/- 0.0e+00 1 / (TeV s cm2)\n",
      "    reference             (frozen):      1.000       TeV         \n",
      "    lambda_                       :      0.070   +/-    0.00 1 / TeV     \n",
      "    alpha                 (frozen):      1.000                   \n",
      "    lon_0                         :    329.680   +/-    0.00 deg         \n",
      "    lat_0                         :    -30.222   +/-    0.00 deg         \n",
      "\n",
      "Component 1: FoVBackgroundModel\n",
      "\n",
      "  Name                      : 2SdNzGJW-bkg\n",
      "  Datasets names            : ['2SdNzGJW']\n",
      "  Spectral model type       : PowerLawNormSpectralModel\n",
      "  Parameters:\n",
      "    norm                          :      1.000   +/-    0.00             \n",
      "    tilt                          :      0.000   +/-    0.00             \n",
      "    reference             (frozen):      1.000       TeV         \n",
      "\n",
      "Component 2: IRFModels\n",
      "\n",
      "  Name                      : 2SdNzGJW-irf\n",
      "  Datasets names            : 2SdNzGJW\n",
      "  EReco  model type         : ERecoIRFModel\n",
      "  Eff area  model type      : EffAreaIRFModel\n",
      "  PSF model type            : \n",
      "  Parameters:\n",
      "    bias                          :      0.000   +/-    0.00             \n",
      "    resolution            (frozen):      0.000                   \n",
      "    norm                          :      0.000   +/-    0.00             \n",
      "    tilt                          :      0.000   +/-    0.00             \n",
      "    reference             (frozen):      1.000       TeV         \n",
      "\n",
      "\n"
     ]
    }
   ],
   "source": [
    "datasets_N = []\n",
    "datasets = []\n",
    "for d in datasets_input:\n",
    "    dataset_asimov_N, dataset_asimov = set_up(d)\n",
    "    datasets_N.append(dataset_asimov_N)\n",
    "    datasets.append(dataset_asimov)"
   ]
  },
  {
   "cell_type": "code",
   "execution_count": 10,
   "id": "131dd195",
   "metadata": {},
   "outputs": [
    {
     "data": {
      "text/plain": [
       "[<gammapy.datasets.map.MapDataset at 0x726ebfb1ab50>]"
      ]
     },
     "execution_count": 10,
     "metadata": {},
     "output_type": "execute_result"
    }
   ],
   "source": [
    "datasets"
   ]
  },
  {
   "cell_type": "code",
   "execution_count": 11,
   "id": "9b2a6c71",
   "metadata": {},
   "outputs": [
    {
     "data": {
      "text/plain": [
       "<matplotlib.legend.Legend at 0x726ebfa81d90>"
      ]
     },
     "execution_count": 11,
     "metadata": {},
     "output_type": "execute_result"
    },
    {
     "data": {
      "image/png": "[encoded data removed]",
      "text/plain": [
       "<Figure size 640x480 with 1 Axes>"
      ]
     },
     "metadata": {},
     "output_type": "display_data"
    }
   ],
   "source": [
    "counts, signal, bkg = [] , [], []\n",
    "for d in datasets_input:\n",
    "    counts.append(d.counts.data.sum())\n",
    "    signal.append(d.npred_signal().data.sum())\n",
    "    bkg.append(d.npred_background().data.sum())\n",
    "    \n",
    "    \n",
    "plt.errorbar(livetimes, counts, yerr = np.sqrt(counts), fmt= 'x', label = \"Counts\")\n",
    "plt.plot(livetimes, signal, label = \"signal\")\n",
    "plt.plot(livetimes, bkg, label = \"bkg\")\n",
    "counts = dataset_asimov.counts.data.sum() \n",
    "\n",
    "plt.errorbar(110,counts, yerr = np.sqrt(counts) , fmt= 'x', label = \"bkg default\")\n",
    "\n",
    "\n",
    "plt.loglog()\n",
    "plt.xlabel(\"Livetime [hr]\")\n",
    "plt.ylabel(\"Counts\")\n",
    "plt.legend()"
   ]
  },
  {
   "cell_type": "code",
   "execution_count": 12,
   "id": "4212ac12-2c22-450e-9c2b-e7fb74e7f1dc",
   "metadata": {},
   "outputs": [
    {
     "name": "stdout",
     "output_type": "stream",
     "text": [
      "DatasetModels\n",
      "\n",
      "Component 0: SkyModel\n",
      "\n",
      "  Name                      : Crab\n",
      "  Datasets names            : None\n",
      "  Spectral model type       : ExpCutoffPowerLawSpectralModel\n",
      "  Spatial  model type       : PointSpatialModel\n",
      "  Temporal model type       : \n",
      "  Parameters:\n",
      "    index                         :      2.390   +/-    0.00             \n",
      "    amplitude                     :   3.76e-11   +/- 0.0e+00 1 / (TeV s cm2)\n",
      "    reference             (frozen):      1.000       TeV         \n",
      "    lambda_                       :      0.070   +/-    0.00 1 / TeV     \n",
      "    alpha                 (frozen):      1.000                   \n",
      "    lon_0                         :    329.680   +/-    0.00 deg         \n",
      "    lat_0                         :    -30.222   +/-    0.00 deg         \n",
      "\n",
      "Component 1: FoVBackgroundModel\n",
      "\n",
      "  Name                      : 2SdNzGJW-bkg\n",
      "  Datasets names            : ['2SdNzGJW']\n",
      "  Spectral model type       : PowerLawNormSpectralModel\n",
      "  Parameters:\n",
      "    norm                          :      1.000   +/-    0.00             \n",
      "    tilt                          :      0.000   +/-    0.00             \n",
      "    reference             (frozen):      1.000       TeV         \n",
      "\n",
      "Component 2: IRFModels\n",
      "\n",
      "  Name                      : 2SdNzGJW-irf\n",
      "  Datasets names            : 2SdNzGJW\n",
      "  EReco  model type         : ERecoIRFModel\n",
      "  Eff area  model type      : EffAreaIRFModel\n",
      "  PSF model type            : \n",
      "  Parameters:\n",
      "    bias                          :      0.000   +/-    0.00             \n",
      "    resolution            (frozen):      0.000                   \n",
      "    norm                          :      0.000   +/-    0.00             \n",
      "    tilt                          :      0.000   +/-    0.00             \n",
      "    reference             (frozen):      1.000       TeV         \n",
      "\n",
      "\n"
     ]
    }
   ],
   "source": [
    "print(datasets_N[0].models)"
   ]
  },
  {
   "cell_type": "code",
   "execution_count": 13,
   "id": "1ac3ce9d",
   "metadata": {
    "scrolled": false
   },
   "outputs": [
    {
     "name": "stdout",
     "output_type": "stream",
     "text": [
      "0\n",
      "OptimizeResult\n",
      "\n",
      "\tbackend    : minuit\n",
      "\tmethod     : migrad\n",
      "\tsuccess    : True\n",
      "\tmessage    : Optimization terminated successfully.\n",
      "\tnfev       : 866\n",
      "\ttotal stat : 89307.15\n",
      "\n",
      "CovarianceResult\n",
      "\n",
      "\tbackend    : minuit\n",
      "\tmethod     : hesse\n",
      "\tsuccess    : True\n",
      "\tmessage    : Hesse terminated successfully.\n",
      "\n",
      "saving\n",
      "CPU times: user 19min 20s, sys: 12min 44s, total: 32min 4s\n",
      "Wall time: 9min 27s\n"
     ]
    }
   ],
   "source": [
    "%%time\n",
    "fitting = 1\n",
    "\n",
    "\n",
    "if fitting:\n",
    "    for i, d in enumerate(datasets_N):\n",
    "        print(i)\n",
    "        fit_cor = Fit(store_trace=0)\n",
    "        result_cor = fit_cor.run(d)\n",
    "        print(result_cor)\n",
    "        print(\"saving\")\n",
    "        path = f'data/2_model_nui_livetime_{livetimes[i]}_bias.yml'\n",
    "        d.models.write(path,overwrite=True)\n",
    "    \n",
    "else:\n",
    "    print(\"read\")\n",
    "    for i, d in enumerate(datasets_N):\n",
    "        path = f'data/2_model_nui_livetime_{livetimes[i]}_bias.yml'\n",
    "        print(path)\n",
    "        datasets_N[i] = Dataset_load.load_dataset_N(d, path,bkg_sys = False)        \n",
    "        datasets_N[i].models.parameters['tilt'].frozen = False \n",
    "    \n",
    "\n",
    "#39min 32"
   ]
  },
  {
   "cell_type": "code",
   "execution_count": null,
   "id": "9a91254c-f29b-4db5-8961-202e4e07507b",
   "metadata": {},
   "outputs": [],
   "source": [
    "print(\"read\")\n",
    "datasets = []\n",
    "for i, d in enumerate(datasets_N):\n",
    "    path = f'data/2_model_livetime_{livetimes[i]}.yml'\n",
    "    da = Dataset_load.load_dataset(d, path)     \n",
    "    datasets.append(da)"
   ]
  },
  {
   "cell_type": "code",
   "execution_count": null,
   "id": "8b8df913-351b-481a-a90c-5773c7f7836f",
   "metadata": {},
   "outputs": [],
   "source": [
    "def plot_par(par1, par2, label,ax = None, fmt ='x', markersize = 6, color = 'red'):\n",
    "    if ax is None:\n",
    "        fig, ax = plt.subplots(1,1)\n",
    "    ax.errorbar(x = par1.value, y = par2.value, xerr = par1.error, yerr = par2.error, fmt= fmt,\n",
    "                markersize = markersize,\n",
    "                label = label, color = color)\n",
    "    ax.set_xlabel(f\"{par1.name} [{par1.unit}] \" )\n",
    "    ax.set_ylabel(f\"{par2.name} [{par2.unit}] \" )\n",
    "    ax.legend()\n",
    "    \n",
    "    return ax\n",
    "\n",
    "def plot_source_par(model_name, pars):\n",
    "    if len(pars)>2:\n",
    "        fig, ax = plt.subplots(2,2, figsize = (6,6))\n",
    "        ax = ax.flatten()\n",
    "    else:\n",
    "        fig, ax = plt.subplots(1,2, figsize = (6,3))\n",
    "   \n",
    "    for i, p in enumerate(pars):\n",
    "    \n",
    "        for j, m in enumerate (models_list):\n",
    "            #try:\n",
    "            plot_par(m.parameters[p[0]],\n",
    "                 m.parameters[p[1]],\n",
    "                    label= labels[j],\n",
    "                    ax = ax[i],\n",
    "                    fmt = fmts[j],\n",
    "                    markersize = markersize[j], \n",
    "                        color = colors_default [j])\n",
    "            #except:\n",
    "            #    pass\n",
    "\n",
    "    plt.tight_layout()\n",
    "    return fig\n",
    "\n",
    "fmts = ['o','x', '*']*3\n",
    "markersize = [6,10, 10] * 3"
   ]
  },
  {
   "cell_type": "code",
   "execution_count": null,
   "id": "d1474b42-5744-4ffa-9d80-d1d45b99440f",
   "metadata": {},
   "outputs": [],
   "source": [
    "labels = [str(int(l)) for l in livetimes]\n",
    "colors_default =  plt.rcParams['axes.prop_cycle'].by_key()['color']"
   ]
  },
  {
   "cell_type": "code",
   "execution_count": null,
   "id": "26586fda-6d20-4f88-87a7-50fdba2578a5",
   "metadata": {},
   "outputs": [],
   "source": [
    "models_list = [ d.irf_model for d in datasets_N]\n",
    "pars =   [('bias', 'resolution'), ('norm', 'tilt')]\n",
    "fig = plot_source_par(0, pars)"
   ]
  },
  {
   "cell_type": "code",
   "execution_count": null,
   "id": "a6773eb2-5ef0-40d7-abea-43dadfa51bf0",
   "metadata": {},
   "outputs": [],
   "source": [
    "i = 0\n",
    "fig,axs = plt.subplots(2,1)\n",
    "for l, m in zip(livetimes, models_list):\n",
    "    axs[0].plot(l, m.parameters[pars[0][0]].error, 'x', label = \"bias\", color = colors_default[i])\n",
    "    axs[0].plot(l, m.parameters[pars[0][1]].error, 'o' , label = \"resolution\", color = colors_default[i])\n",
    "    axs[1].plot(l, m.parameters[pars[1][0]].error, 'x' , label = \"norm\", color = colors_default[i])\n",
    "    axs[1].plot(l, m.parameters[pars[1][1]].error, 'o' , label = \"tilt\", color = colors_default[i])\n",
    "    i +=1\n",
    "    \n",
    "    \n",
    "axs[0].plot([livetimes[0],livetimes[-1]], [bias, bias])\n",
    "axs[0].plot([livetimes[0],livetimes[-1]], [resolution, resolution])\n",
    "axs[1].plot([livetimes[0],livetimes[-1]], [norm, norm])\n",
    "axs[1].plot([livetimes[0],livetimes[-1]], [tilt, tilt])  \n",
    "\n",
    "for a in axs:\n",
    "    a.set_xscale(\"log\")\n",
    "    a.legend()\n",
    "\n",
    "\n",
    "    from collections import OrderedDict\n",
    "\n",
    "    handles, labels = a.get_legend_handles_labels()\n",
    "    by_label = OrderedDict(zip(labels, handles))\n",
    "    a.legend(by_label.values(), by_label.keys())\n",
    "    \n",
    "axs[0].set_ylim(-0.01, 0.2)"
   ]
  },
  {
   "cell_type": "code",
   "execution_count": null,
   "id": "742f79fc-e9a6-402c-a209-284cf204d040",
   "metadata": {},
   "outputs": [],
   "source": [
    "inputvalues = {\"amplitude\":datasets_input[0].models[0].parameters['amplitude'].value,\n",
    "               \"index\":datasets_input[0].models[0].parameters['index'].value ,\n",
    "               \"lambda_\":datasets_input[0].models[0].parameters['lambda_'].value}\n",
    "def plotting(parname = \"amplitude\"):\n",
    "    fig = plt.figure(figsize  = (5,3))\n",
    "    inputvalue = inputvalues[parname]\n",
    "    \n",
    "    errs = []\n",
    "    errs_N = []\n",
    "    livetimes_ext = livetimes.copy(); livetimes_ext2 = livetimes.copy(); \n",
    "    livetimes_ext[-1] *=1.1;\n",
    "    livetimes_ext2[0:,] *=1.1; \n",
    "    livetimes_ext2 = np.insert(livetimes_ext2, 0, values =  livetimes_ext2[0]* 0.9)\n",
    "\n",
    "\n",
    "    for i, d in enumerate(datasets_N):\n",
    "        par = datasets[i].models[0].parameters[parname]\n",
    "        val, err = par.value, par.error\n",
    "        errs.append( err/ inputvalue)\n",
    "        plt.errorbar(livetimes[i], val/ inputvalue, yerr = err/ inputvalue,  fmt='x', \n",
    "                     color = colors[0])\n",
    "\n",
    "        par = d.models[0].parameters[parname]\n",
    "        val, err = par.value, par.error\n",
    "        errs_N.append( err/ inputvalue)\n",
    "        plt.errorbar( 1.1* livetimes[i] , val/ inputvalue, yerr = err/ inputvalue,  fmt='x', \n",
    "                     color = colors[1])\n",
    "\n",
    "    \n",
    "\n",
    "    errs_N = np.insert(errs_N, 0, values =  errs_N[0])\n",
    "    plt.fill_between(  livetimes_ext2, 1- np.array(errs_N), 1+np.array(errs_N) \n",
    "                     ,color = colors[1], alpha = 0.3, label = '')\n",
    "    plt.fill_between( livetimes_ext, 1- np.array(errs), 1+np.array(errs)\n",
    "                     ,color = colors[0], alpha = 0.2, label = '')\n",
    "\n",
    "    plt.errorbar( np.nan, np.nan , yerr = np.nan, fmt='x', color = colors[0],\n",
    "                 label = 'Without nuisance par.')\n",
    "    plt.errorbar( np.nan, np.nan , yerr = np.nan, fmt='x', color = colors[1], \n",
    "                 label = 'With nuisance par.')\n",
    "    ax1 = plt.gca()\n",
    "    xlim = ax1.get_xlim()\n",
    "    plt.hlines(1, xlim[0], xlim[1], color = 'lightgrey')\n",
    "    #plt.title(\"Best Fit Amplitude\")\n",
    "    plt.legend()\n",
    "    plt.xscale('log')\n",
    "    plt.xlabel(\"Livetime [hr]\")\n",
    "    plt.ylabel(f\"Best-fit {parname} [Input {parname}]\")\n",
    "\n",
    "    ax2 = ax1.twiny()\n",
    "    ax2.set_xscale(\"log\")\n",
    "    npred = [d.npred_signal().data.sum() for d in datasets]\n",
    "    \n",
    "    ax2.set_xlim(ax1.get_xlim())\n",
    "    ax2.set_xticks(livetimes)\n",
    "    clabels = [ f'{int(c)}' for c in npred]\n",
    "    ax2.set_xticklabels(clabels)\n",
    "    ax2.set_xlabel(r\"Signal Counts\")\n",
    "    plt.tight_layout()\n",
    "    return fig\n",
    "\n",
    "fig = plotting(parname = \"amplitude\")\n",
    "fig.savefig('plots/2_best_fit_vs_livetime.svg')\n",
    "fig.savefig('plots/2_best_fit_vs_livetime.pdf')\n",
    "fig.savefig('plots/2_best_fit_vs_livetime.png')"
   ]
  },
  {
   "cell_type": "code",
   "execution_count": null,
   "id": "77bb39f2",
   "metadata": {},
   "outputs": [],
   "source": [
    "fig = plotting(parname = \"index\")\n",
    "fig.savefig('plots/2_best_fit_vs_livetime_index.svg')\n",
    "fig.savefig('plots/2_best_fit_vs_livetime_index.pdf')\n",
    "fig.savefig('plots/2_best_fit_vs_livetime_index.png')"
   ]
  },
  {
   "cell_type": "code",
   "execution_count": null,
   "id": "d3b33ce6",
   "metadata": {},
   "outputs": [],
   "source": [
    "fig = plotting(parname = \"lambda_\")\n",
    "fig.savefig('plots/2_best_fit_vs_livetime_lambda_.svg')\n",
    "fig.savefig('plots/2_best_fit_vs_livetime_lambda_.pdf')\n",
    "fig.savefig('plots/2_best_fit_vs_livetime_lambda_.png')"
   ]
  },
  {
   "cell_type": "code",
   "execution_count": null,
   "id": "13128d8a",
   "metadata": {
    "scrolled": false
   },
   "outputs": [],
   "source": [
    "\n",
    "energy_power = 2\n",
    "for i, d in enumerate(datasets):\n",
    "    fig = plt.figure()\n",
    "    dataset = datasets[i]\n",
    "    dataset_N = datasets_N[i]\n",
    "    \n",
    "    ax =  dataset_N.models[0].spectral_model.plot((0.1, 100) *u.TeV, energy_power = energy_power)    \n",
    "    dataset_N.models[0].spectral_model.plot_error((0.1, 100) *u.TeV,energy_power = energy_power, ax = ax, \n",
    "                                               facecolor= 'tab:blue', alpha = 0.5)\n",
    "    dataset.models[0].spectral_model.plot_error((0.1, 100) *u.TeV,energy_power = energy_power, ax = ax, \n",
    "                                               facecolor= 'tab:orange')\n",
    "    dataset.models[0].spectral_model.plot_error((0.1, 100) *u.TeV,energy_power = energy_power, ax = ax, \n",
    "                                               facecolor= 'tab:orange', alpha = 0.5)\n",
    "    ax.set_title(str(livetimes[i]) + \" hr\")\n",
    "    \n",
    "    "
   ]
  },
  {
   "cell_type": "code",
   "execution_count": null,
   "id": "7b6967ad-8713-44e2-8670-8f36902ccdad",
   "metadata": {},
   "outputs": [],
   "source": [
    "par_names = ['index', 'amplitude', 'lambda_', 'bias', 'resolution', 'norm_nuisance' , \n",
    "            'tilt_nuisance']\n",
    "names =  ['index', 'amplitude',  \n",
    "        'bkg norm', 'bkg tilt',\n",
    "          'bias', 'resolution',\n",
    "          'eff. area norm' , \n",
    "            'eff. area tilt']\n",
    "for i in range(len(livetimes)):\n",
    "\n",
    "    #datasets_N[i].models.read_covariance(\"data\", f\"8_model_nui_livetime_{livetimes[i]}_covariance.dat\", format=\"ascii.fixed_width\")\n",
    "    parameters = Parameters([_ for _ in datasets_N[i].models.parameters if _.name in par_names])\n",
    "    cov_par = datasets_N[i].models.covariance.get_subcovariance(parameters)\n",
    "    ax = cov_par.plot_correlation()\n",
    "    ax.set_title(str(livetimes[i]) + \" hr\")\n",
    "    fig = plt.gcf()\n",
    "    fig.savefig(f\"plots/2_covmatrix_livetime_{livetimes[i]}.svg\")\n",
    "    fig.savefig(f\"plots/2_covmatrix_livetime_{livetimes[i]}.pdf\")\n",
    "    \n"
   ]
  },
  {
   "cell_type": "code",
   "execution_count": null,
   "id": "0702fca3",
   "metadata": {},
   "outputs": [],
   "source": []
  },
  {
   "cell_type": "code",
   "execution_count": null,
   "id": "109c97f0",
   "metadata": {},
   "outputs": [],
   "source": []
  },
  {
   "cell_type": "code",
   "execution_count": null,
   "id": "cdd2c3f8",
   "metadata": {},
   "outputs": [],
   "source": []
  }
 ],
 "metadata": {
  "kernelspec": {
   "display_name": "Python 3 (ipykernel)",
   "language": "python",
   "name": "python3"
  },
  "language_info": {
   "codemirror_mode": {
    "name": "ipython",
    "version": 3
   },
   "file_extension": ".py",
   "mimetype": "text/x-python",
   "name": "python",
   "nbconvert_exporter": "python",
   "pygments_lexer": "ipython3",
   "version": "3.9.16"
  },
  "varInspector": {
   "cols": {
    "lenName": 16,
    "lenType": 16,
    "lenVar": 40
   },
   "kernels_config": {
    "python": {
     "delete_cmd_postfix": "",
     "delete_cmd_prefix": "del ",
     "library": "var_list.py",
     "varRefreshCmd": "print(var_dic_list())"
    },
    "r": {
     "delete_cmd_postfix": ") ",
     "delete_cmd_prefix": "rm(",
     "library": "var_list.r",
     "varRefreshCmd": "cat(var_dic_list()) "
    }
   },
   "types_to_exclude": [
    "module",
    "function",
    "builtin_function_or_method",
    "instance",
    "_Feature"
   ],
   "window_display": false
  }
 },
 "nbformat": 4,
 "nbformat_minor": 5
}
