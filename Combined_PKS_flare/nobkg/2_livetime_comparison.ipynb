{
 "cells": [
  {
   "cell_type": "markdown",
   "id": "e7853a11",
   "metadata": {},
   "source": [
    "## Runnning with gammapy-dev/IRF_model\n",
    "Fitting asimov datasets with nuisance parameters based on the different livetimes"
   ]
  },
  {
   "cell_type": "markdown",
   "id": "0e04af29",
   "metadata": {},
   "source": [
    "### Setup"
   ]
  },
  {
   "cell_type": "code",
   "execution_count": 1,
   "id": "27bf135a-5ee4-4ca1-8549-6bf07929003c",
   "metadata": {},
   "outputs": [],
   "source": [
    "import matplotlib.pyplot as plt\n",
    "import numpy as np\n",
    "import astropy.units as u\n",
    "from gammapy.maps import Map\n",
    "from astropy.coordinates import SkyCoord, Angle\n",
    "from gammapy.modeling import Fit,  Parameters, Covariance , Parameter\n",
    "from gammapy.datasets import MapDataset ,Datasets, FluxPointsDataset\n",
    "from gammapy.modeling.models import (\n",
    "    PowerLawSpectralModel,\n",
    "    SkyModel,\n",
    "    PointSpatialModel,\n",
    "    PowerLawNormSpectralModel,\n",
    "    Models,\n",
    "    SpatialModel,\n",
    "    FoVBackgroundModel,\n",
    "    PiecewiseNormSpectralModel,\n",
    ")\n",
    "from gammapy.estimators import TSMapEstimator, ExcessMapEstimator\n",
    "from gammapy.estimators import FluxPoints, FluxPointsEstimator\n",
    "\n",
    "from regions import CircleSkyRegion, RectangleSkyRegion\n",
    "import yaml\n",
    "import sys\n",
    "sys.path.append('../../')\n",
    "import Dataset_load \n",
    "\n",
    "from  Dataset_Setup import Setup, GaussianCovariance_matrix"
   ]
  },
  {
   "cell_type": "markdown",
   "id": "5de988df",
   "metadata": {
    "tags": []
   },
   "source": [
    "## Read dataset"
   ]
  },
  {
   "cell_type": "code",
   "execution_count": 2,
   "id": "0eeeaf75",
   "metadata": {},
   "outputs": [],
   "source": [
    "c = Dataset_load.load_config()\n",
    "awo, aw, ewo, ew = c['_colors']  "
   ]
  },
  {
   "cell_type": "code",
   "execution_count": 3,
   "id": "e0c45f4e-6432-405e-86b7-649e254c0950",
   "metadata": {},
   "outputs": [],
   "source": [
    "livetimes = c['livetimes']\n",
    "zero = c['zero'] \n",
    "norm = c['norm'] \n",
    "tilt = c['tilt'] \n",
    "bias = c['bias'] \n",
    "resolution = c['resolution'] \n",
    "magnitude = c['magnitude'] \n",
    "corrlength = c['corrlength']\n",
    "sys = c['sys'] \n",
    "folder = c['folder']"
   ]
  },
  {
   "cell_type": "code",
   "execution_count": 6,
   "id": "f94dc89c",
   "metadata": {},
   "outputs": [
    {
     "name": "stdout",
     "output_type": "stream",
     "text": [
      "loaded dataset:\n",
      "/home/wecapstor1/caph/mppi045h/nuisance_summary/PKS_flare/HESS_public/dataset-simulated-0.01-hr.fits.gz\n",
      "loaded dataset:\n",
      "/home/wecapstor1/caph/mppi045h/nuisance_summary/PKS_flare/HESS_public/dataset-simulated-0.021544346900318832-hr.fits.gz\n",
      "loaded dataset:\n",
      "/home/wecapstor1/caph/mppi045h/nuisance_summary/PKS_flare/HESS_public/dataset-simulated-0.046415888336127774-hr.fits.gz\n",
      "loaded dataset:\n",
      "/home/wecapstor1/caph/mppi045h/nuisance_summary/PKS_flare/HESS_public/dataset-simulated-0.1-hr.fits.gz\n",
      "loaded dataset:\n",
      "/home/wecapstor1/caph/mppi045h/nuisance_summary/PKS_flare/HESS_public/dataset-simulated-0.21544346900318834-hr.fits.gz\n",
      "loaded dataset:\n",
      "/home/wecapstor1/caph/mppi045h/nuisance_summary/PKS_flare/HESS_public/dataset-simulated-0.46415888336127775-hr.fits.gz\n",
      "loaded dataset:\n",
      "/home/wecapstor1/caph/mppi045h/nuisance_summary/PKS_flare/HESS_public/dataset-simulated-1.0-hr.fits.gz\n",
      "loaded dataset:\n",
      "/home/wecapstor1/caph/mppi045h/nuisance_summary/PKS_flare/HESS_public/dataset-simulated-2.154434690031884-hr.fits.gz\n",
      "loaded dataset:\n",
      "/home/wecapstor1/caph/mppi045h/nuisance_summary/PKS_flare/HESS_public/dataset-simulated-4.641588833612778-hr.fits.gz\n",
      "loaded dataset:\n",
      "/home/wecapstor1/caph/mppi045h/nuisance_summary/PKS_flare/HESS_public/dataset-simulated-10.0-hr.fits.gz\n",
      "loaded dataset:\n",
      "/home/wecapstor1/caph/mppi045h/nuisance_summary/PKS_flare/HESS_public/dataset-simulated-21.544346900318832-hr.fits.gz\n",
      "loaded dataset:\n",
      "/home/wecapstor1/caph/mppi045h/nuisance_summary/PKS_flare/HESS_public/dataset-simulated-46.41588833612777-hr.fits.gz\n",
      "loaded dataset:\n",
      "/home/wecapstor1/caph/mppi045h/nuisance_summary/PKS_flare/HESS_public/dataset-simulated-100.0-hr.fits.gz\n",
      "CPU times: user 1min 19s, sys: 2.06 s, total: 1min 21s\n",
      "Wall time: 1min 21s\n"
     ]
    }
   ],
   "source": [
    "%%time\n",
    "datasets_input = []\n",
    "for l in livetimes:\n",
    "    datasets_i  = Dataset_load.create_asimov(model = c['model'], source = c['source'], \n",
    "                                                   livetime = f\"{l}-hr\",\n",
    "                                            parameters = None)\n",
    "    datasets_input.append(datasets_i)"
   ]
  },
  {
   "cell_type": "markdown",
   "id": "2e0399d4",
   "metadata": {},
   "source": [
    "## Datasets"
   ]
  },
  {
   "cell_type": "code",
   "execution_count": null,
   "id": "b24b18ac-af52-48ac-bd1e-f03d21457fe4",
   "metadata": {},
   "outputs": [],
   "source": [
    "def set_up(dataset_input):\n",
    "    \n",
    "    setup = Setup(dataset_input=dataset_input)\n",
    "    #setup.set_up_irf_sys(bias, resolution, norm, tilt)\n",
    "    dataset_asimov, dataset_asimov_N = setup.run()\n",
    "    # irf model\n",
    "    setup.set_irf_model(dataset_asimov_N)\n",
    "    if sys == \"Eff_area\":\n",
    "        dataset_asimov_N.models.parameters['resolution'].frozen = True\n",
    "        dataset_asimov_N.irf_model.parameters['tilt'].frozen = False\n",
    "        dataset_asimov_N.irf_model.parameters['bias'].frozen = True\n",
    "        setup.set_irf_prior(dataset_asimov_N, bias, resolution, norm, tilt)\n",
    "\n",
    "    # piece wise model\n",
    "    # remove old bkg model\n",
    "    #setup.unset_model(dataset_asimov_N, FoVBackgroundModel)\n",
    "    #setup.set_piecewise_bkg_model(dataset_asimov_N)\n",
    "    # energy of the following parameters smaller than ethrshold\n",
    "    #dataset_asimov_N.background_model.parameters['norm0'].frozen = True\n",
    "    #dataset_asimov_N.background_model.parameters['norm1'].frozen = True\n",
    "    #dataset_asimov_N.background_model.parameters['norm2'].frozen = True\n",
    "    #dataset_asimov_N.background_model.parameters['norm3'].frozen = True\n",
    "    #setup.set_bkg_prior(dataset_asimov_N, magnitude, corrlength)\n",
    "\n",
    "    \n",
    "       \n",
    "    return dataset_asimov_N, dataset_asimov"
   ]
  },
  {
   "cell_type": "code",
   "execution_count": null,
   "id": "941d5494-e803-4ebd-9d72-3911c3629760",
   "metadata": {},
   "outputs": [],
   "source": [
    "datasets_N = []\n",
    "datasets = []\n",
    "for d in datasets_input:\n",
    "    dataset_asimov_N, dataset_asimov = set_up(d)\n",
    "    datasets_N.append(dataset_asimov_N)\n",
    "    datasets.append(dataset_asimov)"
   ]
  },
  {
   "cell_type": "code",
   "execution_count": null,
   "id": "9b2a6c71",
   "metadata": {},
   "outputs": [],
   "source": [
    "counts, signal, bkg = [] , [], []\n",
    "for d in datasets_N:\n",
    "    counts.append(d.counts.data.sum())\n",
    "    signal.append(d.npred_signal().data.sum())\n",
    "    bkg.append(d.npred_background().data.sum())\n",
    "    \n",
    "    \n",
    "plt.errorbar(livetimes, counts, yerr = np.sqrt(counts), fmt= 'x', label = \"Counts\")\n",
    "plt.plot(livetimes, signal, label = \"signal\")\n",
    "plt.plot(livetimes, bkg, label = \"bkg\")\n",
    "counts = dataset_asimov.counts.data.sum() \n",
    "\n",
    "plt.errorbar(110,counts, yerr = np.sqrt(counts) , fmt= 'x', label = \"bkg default\")\n",
    "\n",
    "\n",
    "plt.loglog()\n",
    "plt.xlabel(\"Livetime [hr]\")\n",
    "plt.ylabel(\"Counts\")\n",
    "plt.legend()"
   ]
  },
  {
   "cell_type": "code",
   "execution_count": null,
   "id": "1ac3ce9d",
   "metadata": {},
   "outputs": [],
   "source": [
    "%%time\n",
    "fitting = 0\n",
    "\n",
    "if fitting:\n",
    "    for i, d in enumerate(datasets_N):\n",
    "        print(i)\n",
    "        fit_cor = Fit(store_trace=0)\n",
    "        result_cor = fit_cor.run(d)\n",
    "        print(result_cor)\n",
    "        print(\"saving\")\n",
    "        path = f'../{folder}/data/2_model_nui_livetime_{livetimes[i]}.yml'\n",
    "        d.models.write(path,overwrite=True)\n",
    "    \n",
    "else:\n",
    "    print(\"read\")\n",
    "    for i, d in enumerate(datasets_N):\n",
    "        print(i)\n",
    "        path = f'../{folder}/data/2_model_nui_livetime_{livetimes[i]}.yml'\n",
    "        print(path)\n",
    "        datasets_N[i] = Dataset_load.load_dataset_N(d, path,bkg_sys = False)        \n",
    "        datasets_N[i].models.parameters['tilt'].frozen = False \n",
    "    \n",
    "\n",
    "#39min 32"
   ]
  },
  {
   "cell_type": "code",
   "execution_count": null,
   "id": "9a91254c-f29b-4db5-8961-202e4e07507b",
   "metadata": {},
   "outputs": [],
   "source": [
    "print(\"read\")\n",
    "datasets = []\n",
    "for i, d in enumerate(datasets_N):\n",
    "    path = f'data/2_model_livetime_{livetimes[i]}.yml'\n",
    "    da = Dataset_load.load_dataset(d, path)     \n",
    "    datasets.append(da)"
   ]
  },
  {
   "cell_type": "code",
   "execution_count": null,
   "id": "8b8df913-351b-481a-a90c-5773c7f7836f",
   "metadata": {},
   "outputs": [],
   "source": [
    "def plot_par(par1, par2, label,ax = None, fmt ='x', markersize = 6, color = 'red'):\n",
    "    if ax is None:\n",
    "        fig, ax = plt.subplots(1,1)\n",
    "    ax.errorbar(x = par1.value, y = par2.value, xerr = par1.error, yerr = par2.error, fmt= fmt,\n",
    "                markersize = markersize,\n",
    "                label = label, color = color)\n",
    "    ax.set_xlabel(f\"{par1.name} [{par1.unit}] \" )\n",
    "    ax.set_ylabel(f\"{par2.name} [{par2.unit}] \" )\n",
    "    ax.legend()\n",
    "    \n",
    "    return ax\n",
    "\n",
    "def plot_source_par(model_name, pars):\n",
    "    if len(pars)>2:\n",
    "        fig, ax = plt.subplots(2,2, figsize = (6,6))\n",
    "        ax = ax.flatten()\n",
    "    else:\n",
    "        fig, ax = plt.subplots(1,2, figsize = (6,3))\n",
    "   \n",
    "    for i, p in enumerate(pars):\n",
    "    \n",
    "        for j, m in enumerate (models_list):\n",
    "            #try:\n",
    "            plot_par(m.parameters[p[0]],\n",
    "                 m.parameters[p[1]],\n",
    "                    label= labels[j],\n",
    "                    ax = ax[i],\n",
    "                    fmt = fmts[j],\n",
    "                    markersize = markersize[j], \n",
    "                        color = colors_default [j])\n",
    "            #except:\n",
    "            #    pass\n",
    "\n",
    "    plt.tight_layout()\n",
    "    return fig\n",
    "\n",
    "fmts = ['o','x', '*']*8\n",
    "markersize = [6,10, 10] * 8"
   ]
  },
  {
   "cell_type": "code",
   "execution_count": null,
   "id": "d1474b42-5744-4ffa-9d80-d1d45b99440f",
   "metadata": {},
   "outputs": [],
   "source": [
    "labels = [str(int(l)) for l in livetimes]\n",
    "colors_default =  plt.rcParams['axes.prop_cycle'].by_key()['color'] \n",
    "colors_default = colors_default* 5"
   ]
  },
  {
   "cell_type": "code",
   "execution_count": null,
   "id": "26586fda-6d20-4f88-87a7-50fdba2578a5",
   "metadata": {},
   "outputs": [],
   "source": [
    "models_list = [ d.irf_model for d in datasets_N]\n",
    "pars =   [('bias', 'resolution'), ('norm', 'tilt')]\n",
    "fig = plot_source_par(0, pars)"
   ]
  },
  {
   "cell_type": "code",
   "execution_count": null,
   "id": "a6773eb2-5ef0-40d7-abea-43dadfa51bf0",
   "metadata": {},
   "outputs": [],
   "source": [
    "i = 0\n",
    "fig,axs = plt.subplots(2,1)\n",
    "for l, m in zip(livetimes, models_list):\n",
    "    axs[0].plot(l, m.parameters[pars[0][0]].error, 'x', label = \"bias\", color = colors_default[i])\n",
    "    axs[0].plot(l, m.parameters[pars[0][1]].error, 'o' , label = \"resolution\", color = colors_default[i])\n",
    "    axs[1].plot(l, m.parameters[pars[1][0]].error, 'x' , label = \"norm\", color = colors_default[i])\n",
    "    axs[1].plot(l, m.parameters[pars[1][1]].error, 'o' , label = \"tilt\", color = colors_default[i])\n",
    "    i +=1\n",
    "    \n",
    "    \n",
    "axs[0].plot([livetimes[0],livetimes[-1]], [bias, bias])\n",
    "axs[0].plot([livetimes[0],livetimes[-1]], [resolution, resolution])\n",
    "axs[1].plot([livetimes[0],livetimes[-1]], [norm, norm])\n",
    "axs[1].plot([livetimes[0],livetimes[-1]], [tilt, tilt])  \n",
    "\n",
    "for a in axs:\n",
    "    a.set_xscale(\"log\")\n",
    "    a.legend()\n",
    "\n",
    "\n",
    "    from collections import OrderedDict\n",
    "\n",
    "    handles, labels = a.get_legend_handles_labels()\n",
    "    by_label = OrderedDict(zip(labels, handles))\n",
    "    a.legend(by_label.values(), by_label.keys())\n",
    "    \n",
    "axs[0].set_ylim(-0.01, 0.2)"
   ]
  },
  {
   "cell_type": "code",
   "execution_count": null,
   "id": "742f79fc-e9a6-402c-a209-284cf204d040",
   "metadata": {},
   "outputs": [],
   "source": [
    "inputvalues = {\"amplitude\":datasets_input[0].models[0].parameters['amplitude'].value,\n",
    "               \"index\":datasets_input[0].models[0].parameters['index'].value ,\n",
    "               \"lambda_\":datasets_input[0].models[0].parameters['lambda_'].value}\n",
    "def plotting(parname = \"amplitude\"):\n",
    "    fig = plt.figure(figsize  = (8,3))\n",
    "    inputvalue = inputvalues[parname]\n",
    "    \n",
    "    errs = []\n",
    "    errs_N = []\n",
    "    livetimes_ext = livetimes.copy(); livetimes_ext2 = livetimes.copy(); \n",
    "    livetimes_ext[-1] *=1.1;\n",
    "    livetimes_ext2[0:,] *=1.1; \n",
    "    livetimes_ext2 = np.insert(livetimes_ext2, 0, values =  livetimes_ext2[0]* 0.9)\n",
    "\n",
    "\n",
    "    for i, d in enumerate(datasets_N):\n",
    "        par = datasets[i].models[0].parameters[parname]\n",
    "        val, err = par.value, par.error\n",
    "        errs.append( err/ inputvalue)\n",
    "        plt.errorbar(livetimes[i], val/ inputvalue, yerr = err/ inputvalue,  fmt='x', \n",
    "                     color = red[0])\n",
    "\n",
    "        par = d.models[0].parameters[parname]\n",
    "        val, err = par.value, par.error\n",
    "        errs_N.append( err/ inputvalue)\n",
    "        plt.errorbar( 1.1* livetimes[i] , val/ inputvalue, yerr = err/ inputvalue,  fmt='x', \n",
    "                     color = blue[0])\n",
    "\n",
    "    \n",
    "\n",
    "    errs_N = np.insert(errs_N, 0, values =  errs_N[0])\n",
    "    plt.fill_between(  livetimes_ext2, 1- np.array(errs_N), 1+np.array(errs_N) \n",
    "                     ,color = blue[1], alpha = 0.8, label = '')\n",
    "    plt.fill_between( livetimes_ext, 1- np.array(errs), 1+np.array(errs)\n",
    "                     ,color = red[1], alpha = 0.8, label = '')\n",
    "\n",
    "    plt.errorbar( np.nan, np.nan , yerr = np.nan, fmt='x', color = blue[0],\n",
    "                 label = 'fit with systematics')\n",
    "    plt.errorbar( np.nan, np.nan , yerr = np.nan, fmt='x', color = red[0], \n",
    "                 label = 'fit w/o systematics')\n",
    "    ax1 = plt.gca()\n",
    "    xlim = ax1.get_xlim()\n",
    "    plt.hlines(1, xlim[0], xlim[1], color = 'lightgrey')\n",
    "    #plt.title(\"Best Fit Amplitude\")\n",
    "    plt.legend()\n",
    "    plt.xscale('log')\n",
    "    plt.xlabel(\"Livetime [hr]\")\n",
    "    plt.ylabel(f\"Best-fit {parname} \\n[Input {parname}]\")\n",
    "\n",
    "    ax2 = ax1.twiny()\n",
    "    ax2.set_xscale(\"log\")\n",
    "    npred = [d.npred_signal().data.sum() for d in datasets]\n",
    "    \n",
    "    ax2.set_xlim(ax1.get_xlim())\n",
    "    ax2.set_xticks(livetimes)\n",
    "    clabels = [ f'{int(c)}' for c in npred]\n",
    "    ax2.set_xticklabels(clabels)\n",
    "    ax2.set_xlabel(r\"Signal Counts\")\n",
    "    plt.tight_layout()\n",
    "    return fig\n",
    "\n",
    "fig = plotting(parname = \"amplitude\")\n",
    "fig.savefig('plots/2_best_fit_vs_livetime.svg')\n",
    "fig.savefig('plots/2_best_fit_vs_livetime.pdf')\n",
    "fig.savefig('plots/2_best_fit_vs_livetime.png')"
   ]
  },
  {
   "cell_type": "code",
   "execution_count": null,
   "id": "77bb39f2",
   "metadata": {},
   "outputs": [],
   "source": [
    "fig = plotting(parname = \"index\")\n",
    "fig.savefig('plots/2_best_fit_vs_livetime_index.svg')\n",
    "fig.savefig('plots/2_best_fit_vs_livetime_index.pdf')\n",
    "fig.savefig('plots/2_best_fit_vs_livetime_index.png')"
   ]
  },
  {
   "cell_type": "code",
   "execution_count": null,
   "id": "d3b33ce6",
   "metadata": {},
   "outputs": [],
   "source": [
    "fig = plotting(parname = \"lambda_\")\n",
    "fig.savefig('plots/2_best_fit_vs_livetime_lambda_.svg')\n",
    "fig.savefig('plots/2_best_fit_vs_livetime_lambda_.pdf')\n",
    "fig.savefig('plots/2_best_fit_vs_livetime_lambda_.png')"
   ]
  },
  {
   "cell_type": "markdown",
   "id": "fe104f21-8266-42ab-90e1-cd917df835b0",
   "metadata": {},
   "source": [
    "## RND Fluxpoints"
   ]
  },
  {
   "cell_type": "code",
   "execution_count": null,
   "id": "109c97f0",
   "metadata": {},
   "outputs": [],
   "source": [
    "infos = np.loadtxt(\"../../Eff_area_PKS_flare/data/7aP_P_draw_info.txt\")\n",
    "N_max = 100\n",
    "shift_rnds = infos[:N_max, 0]\n",
    "index_rnds = infos[:N_max, 1]\n",
    "\n",
    "pars_N = np.loadtxt(\"../../Eff_area_PKS_flare/data/7aP_N_P_draw_par.txt\")\n",
    "lives = pars_N[:N_max, -1:]\n",
    "\n",
    "fpd_Ns, fpd_s = [], []\n",
    "\n",
    "for i in range(len(shift_rnds)):\n",
    "    s = shift_rnds[i]\n",
    "    t = index_rnds[i]\n",
    "    l = lives[i][0]\n",
    "    print(l)\n",
    "    fluxpoints = FluxPoints.read(\n",
    "        f\"../../Eff_area_PKS_flare/data/fluxpoints/6P_fluxpoints_{l}_{s:.6}_{t:.6}.fits\"\n",
    "    )\n",
    "    fluxpoints_N = FluxPoints.read(\n",
    "        f\"../../Eff_area_PKS_flare/data/fluxpoints/6P_fluxpoints_N_{l}_{s:.6}_{t:.6}.fits\"\n",
    "    )\n",
    "    model_name = f\"../../Eff_area_PKS_flare/data/fluxpoints/6P_model_N_{l}_{s:.6}_{t:.6}.yaml\"\n",
    "    fluxpoints_Nds = FluxPointsDataset(data=fluxpoints_N, models=Models.read(model_name))\n",
    "    model_name = f\"../../Eff_area_PKS_flare/data/fluxpoints/6P_model_{l}_{s:.6}_{t:.6}.yaml\"\n",
    "    fluxpoints_ds = FluxPointsDataset(data=fluxpoints, models=Models.read(model_name))\n",
    "    fpd_Ns.append(fluxpoints_Nds)\n",
    "    fpd_s.append(fluxpoints_ds)\n",
    "\n",
    "    \n"
   ]
  },
  {
   "cell_type": "code",
   "execution_count": null,
   "id": "ff96e0ad-0bdc-464d-8e0a-bc275b748b6a",
   "metadata": {},
   "outputs": [],
   "source": [
    "def plot_spectra():\n",
    "    fig,axs = plt.subplots(len(datasets), 1, figsize = (6, 5 * len(datasets)))\n",
    "    axs= axs.flatten()\n",
    "    energy_power = 2\n",
    "    for i, d in enumerate(datasets):\n",
    "        ax = axs[i]\n",
    "        live = livetimes[i]\n",
    "        dataset = datasets[i]\n",
    "        dataset_N = datasets_N[i]\n",
    "\n",
    "        dataset_N.models[0].spectral_model.plot((0.1, 100) *u.TeV, energy_power = energy_power,\n",
    "                                                     color = blue[0], ax = ax)    \n",
    "        par = dataset_N.models[0].parameters['amplitude']\n",
    "        per = par.error /par.value\n",
    "        dataset_N.models[0].spectral_model.plot_error((0.1, 100) *u.TeV,energy_power = energy_power, ax = ax, \n",
    "                                                   facecolor= blue[1], alpha = 0.8, \n",
    "                                                     label = f'With nui par.\\n amplitude error =  {per*100:.3}% ')\n",
    "        dataset.models[0].spectral_model.plot((0.1, 100) *u.TeV,energy_power = energy_power, ax = ax, \n",
    "                                                   color= red[0], linestyle = 'dashed')\n",
    "        par = dataset.models[0].parameters['amplitude']\n",
    "        per = par.error /par.value\n",
    "        dataset.models[0].spectral_model.plot_error((0.1, 100) *u.TeV,energy_power = energy_power, ax = ax, \n",
    "                                                   facecolor= red[1], alpha = 0.8,\n",
    "                                                   label = f'W/o nui par.\\n amplitude error =  {per*100:.3}%')\n",
    "        ax.set_title(f\"Livetime: {float(live):.2} hr\")\n",
    "        ax.set_ylim(1e-12, 1e-10)\n",
    "\n",
    "        if i <2:\n",
    "            ax.set_ylim(6e-13, 6e-9)\n",
    "            \n",
    "        \n",
    "        if live in lives:\n",
    "            idx = np.where(live == lives)[0][-1]\n",
    "            fpd_Ns[idx].data.plot(ax = ax, energy_power = energy_power, color = purple[0],\n",
    "                                 label = \"Example fluxpoint with nui par.\")\n",
    "            fpd_s[idx].data.plot(ax = ax, energy_power = energy_power, color = orange[0],\n",
    "                                label = \"Example fluxpoint w/o nui par.\")\n",
    "        ax.legend()\n",
    "    plt.tight_layout()\n",
    "    return fig\n",
    "        \n",
    "fig = plot_spectra()\n",
    "fig.savefig(\"plots/2_spectra_with_rnd_fp.pdf\")"
   ]
  },
  {
   "cell_type": "code",
   "execution_count": null,
   "id": "177033ab-3c79-4d95-a47a-b1f89b2609d0",
   "metadata": {},
   "outputs": [],
   "source": [
    "live = lives[0]\n",
    "energy_power = 2\n",
    "if live in lives:\n",
    "    idx = np.where(live == lives)[0][-1]\n",
    "    fpd_Ns[idx].data.plot( energy_power = energy_power, color = purple[0],\n",
    "                         label = \"Example fluxpoint with nui par.\")\n",
    "    fpd_s[idx].data.plot( energy_power = energy_power, color = orange[0],\n",
    "                         label = \"Example fluxpoint with nui par.\")"
   ]
  },
  {
   "cell_type": "code",
   "execution_count": null,
   "id": "d2f9da43-9e40-4697-84a0-a3f0d88fbe6f",
   "metadata": {},
   "outputs": [],
   "source": [
    "fpd_s[idx].models.parameters.to_table()"
   ]
  },
  {
   "cell_type": "code",
   "execution_count": null,
   "id": "05093acb-17ba-45b8-b3dc-962387853342",
   "metadata": {},
   "outputs": [],
   "source": [
    "fpd_s[idx].data.dnde_ref.flatten()"
   ]
  },
  {
   "cell_type": "code",
   "execution_count": null,
   "id": "ed388dc5-9a7f-4457-af8d-9819fb5b70a4",
   "metadata": {},
   "outputs": [],
   "source": [
    "fpd_Ns[idx].models.parameters.to_table()"
   ]
  },
  {
   "cell_type": "code",
   "execution_count": null,
   "id": "c6cf03a0-5338-4f6c-bd76-4bbeefb5fb56",
   "metadata": {},
   "outputs": [],
   "source": [
    "fpd_Ns[idx].data.dnde_ref.flatten()"
   ]
  },
  {
   "cell_type": "code",
   "execution_count": null,
   "id": "68f33e71-fd48-43cf-89e2-bf3e2bb587ab",
   "metadata": {},
   "outputs": [],
   "source": [
    "par_names = ['index', 'amplitude', 'lambda_', 'bias', 'resolution', 'norm' , \n",
    "            'tilt']\n",
    "names =  ['index', 'amplitude',  \n",
    "        'bkg norm', 'bkg tilt',\n",
    "          'bias', 'resolution',\n",
    "          'eff. area norm' , \n",
    "            'eff. area tilt']\n",
    "for i in range(len(livetimes)):\n",
    "\n",
    "    #datasets_N[i].models.read_covariance(\"data\", f\"8_model_nui_livetime_{livetimes[i]}_covariance.dat\", format=\"ascii.fixed_width\")\n",
    "    parameters = Parameters([_ for _ in datasets_N[i].models.parameters if _.name in par_names])\n",
    "    cov_par = datasets_N[i].models.covariance.get_subcovariance(parameters)\n",
    "    ax = cov_par.plot_correlation()\n",
    "    ax.set_title(str(livetimes[i]) + \" hr\")\n",
    "    fig = plt.gcf()\n",
    "    fig.savefig(f\"plots/2_covmatrix_livetime_{livetimes[i]}.svg\")\n",
    "    fig.savefig(f\"plots/2_covmatrix_livetime_{livetimes[i]}.pdf\")\n",
    "    \n"
   ]
  },
  {
   "cell_type": "code",
   "execution_count": null,
   "id": "93720c75-d681-4377-a725-6cfe0bcc56b1",
   "metadata": {},
   "outputs": [],
   "source": []
  }
 ],
 "metadata": {
  "kernelspec": {
   "display_name": "Python 3 (ipykernel)",
   "language": "python",
   "name": "python3"
  },
  "language_info": {
   "codemirror_mode": {
    "name": "ipython",
    "version": 3
   },
   "file_extension": ".py",
   "mimetype": "text/x-python",
   "name": "python",
   "nbconvert_exporter": "python",
   "pygments_lexer": "ipython3",
   "version": "3.8.16"
  },
  "varInspector": {
   "cols": {
    "lenName": 16,
    "lenType": 16,
    "lenVar": 40
   },
   "kernels_config": {
    "python": {
     "delete_cmd_postfix": "",
     "delete_cmd_prefix": "del ",
     "library": "var_list.py",
     "varRefreshCmd": "print(var_dic_list())"
    },
    "r": {
     "delete_cmd_postfix": ") ",
     "delete_cmd_prefix": "rm(",
     "library": "var_list.r",
     "varRefreshCmd": "cat(var_dic_list()) "
    }
   },
   "types_to_exclude": [
    "module",
    "function",
    "builtin_function_or_method",
    "instance",
    "_Feature"
   ],
   "window_display": false
  }
 },
 "nbformat": 4,
 "nbformat_minor": 5
}
