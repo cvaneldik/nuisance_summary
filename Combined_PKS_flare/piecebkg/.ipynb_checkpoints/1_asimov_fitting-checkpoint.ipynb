{
 "cells": [
  {
   "cell_type": "markdown",
   "id": "5cf0459a-75d4-4f5a-aad0-dc73a5e89d69",
   "metadata": {},
   "source": [
    "### 2 in the title means it is based on the simulated dataset"
   ]
  },
  {
   "cell_type": "markdown",
   "id": "8114f3a7",
   "metadata": {},
   "source": [
    "#### Setup "
   ]
  },
  {
   "cell_type": "code",
   "execution_count": 1,
   "id": "5bc476ec-b331-486e-85db-fe1c8324c5f8",
   "metadata": {},
   "outputs": [],
   "source": [
    "#get_ipython().system('jupyter nbconvert --to script 1-Nui_Par_Fitting.ipynb')\n",
    "import pyximport\n",
    "\n",
    "pyximport.install()\n",
    "import matplotlib.pyplot as plt\n",
    "import numpy as np\n",
    "import astropy.units as u\n",
    "from gammapy.maps import Map\n",
    "from astropy.coordinates import SkyCoord, Angle\n",
    "from gammapy.modeling import Fit,  Parameters, Covariance , Parameter\n",
    "from gammapy.datasets import MapDataset ,Datasets, FluxPointsDataset\n",
    "from gammapy.modeling.models import (\n",
    "    PowerLawSpectralModel,\n",
    "    SkyModel,\n",
    "    PointSpatialModel,\n",
    "    PowerLawNormSpectralModel,\n",
    "    Models,\n",
    "    SpatialModel,\n",
    "    FoVBackgroundModel,\n",
    "    PiecewiseNormSpectralModel,\n",
    ")\n",
    "from gammapy.estimators import TSMapEstimator, ExcessMapEstimator\n",
    "from gammapy.estimators import FluxPoints, FluxPointsEstimator\n",
    "\n",
    "from regions import CircleSkyRegion, RectangleSkyRegion\n",
    "import yaml\n",
    "import sys\n",
    "sys.path.append('../../')\n",
    "import Dataset_load \n",
    "\n",
    "from  Dataset_Setup import Setup, Covariance_matrix"
   ]
  },
  {
   "cell_type": "code",
   "execution_count": 2,
   "id": "6f19445f-bef2-4542-b2f2-7f44107a0f00",
   "metadata": {},
   "outputs": [],
   "source": [
    "from matplotlib import rc\n",
    "import matplotlib.pylab as plt\n",
    "\n",
    "rc('font', **{'family': 'serif', 'serif': ['Computer Modern']})\n",
    "rc('text', usetex=True)\n",
    "\n",
    "config = Dataset_load.load_config()\n",
    "colors = config[\"colors\"][\"three\"]\n",
    "import ast\n",
    "\n",
    "colors[1] = ast.literal_eval(colors[1])\n",
    "colors[2] = ast.literal_eval(colors[2])\n",
    "colors[3] = ast.literal_eval(colors[3])\n",
    "\n",
    "#import seaborn as sns\n",
    "\n",
    "\n",
    "alpha_nui = 0.99\n",
    "alpha_st = 0.99\n",
    "legendsscatter = [\"Asimov w/o nui.\", \"Asimov with nui.\"]\n",
    "legends = [\"\", \"\"]\n",
    "\n",
    "alpha_rnd = 0.2\n",
    "alpha_rnd_nui = 0.2\n",
    "\n",
    "nbins = 20"
   ]
  },
  {
   "cell_type": "code",
   "execution_count": 3,
   "id": "6400f93a",
   "metadata": {},
   "outputs": [],
   "source": [
    "def plot_par(par1, par2, label,ax = None, fmt ='x', markersize = 6, color = 'red'):\n",
    "    if ax is None:\n",
    "        fig, ax = plt.subplots(1,1)\n",
    "    ax.errorbar(x = par1.value, y = par2.value, xerr = par1.error, yerr = par2.error, fmt= fmt,\n",
    "                markersize = markersize,\n",
    "                label = label, color = color)\n",
    "    ax.set_xlabel(f\"{par1.name} [{par1.unit}] \" )\n",
    "    ax.set_ylabel(f\"{par2.name} [{par2.unit}] \" )\n",
    "    ax.legend()\n",
    "    \n",
    "    return ax\n",
    "\n",
    "def plot_source_par(model_name, pars):\n",
    "    if len(pars)>2:\n",
    "        fig, ax = plt.subplots(2,2, figsize = (6,6))\n",
    "        ax = ax.flatten()\n",
    "    else:\n",
    "        fig, ax = plt.subplots(1,2, figsize = (6,3))\n",
    "   \n",
    "    for i, p in enumerate(pars):\n",
    "    \n",
    "        for j, m in enumerate (models_list):\n",
    "            try:\n",
    "                plot_par(m.parameters[p[0]],\n",
    "                 m.parameters[p[1]],\n",
    "                    label= labels[j],\n",
    "                    ax = ax[i],\n",
    "                    fmt = fmts[j],\n",
    "                    markersize = markersize[j], \n",
    "                        color = colors [j])\n",
    "            except:\n",
    "                pass\n",
    "\n",
    "    plt.tight_layout()\n",
    "    return fig\n",
    "\n",
    "markersize = [6,10, 10]\n",
    "\n",
    "\n",
    "def plot_asimov_spectrum(fig, ax):\n",
    "    model = dataset_asimov_N.models[0].spectral_model\n",
    "    model.plot(\n",
    "        energy_bounds=[0.3, 100] * u.TeV,\n",
    "        energy_power=2,\n",
    "        ax=ax,\n",
    "        color=colors[1],\n",
    "        label=\"Asimov Fit with nui.\",\n",
    "        linestyle=\"solid\",\n",
    "    )\n",
    "\n",
    "    model.plot_error(\n",
    "        energy_bounds=[0.3, 100] * u.TeV,\n",
    "        energy_power=2,\n",
    "        ax=ax,\n",
    "        facecolor=colors[3],\n",
    "        label=\"\",\n",
    "        alpha=1,\n",
    "    )\n",
    "\n",
    "    model = dataset_asimov.models[0].spectral_model\n",
    "    model.plot(\n",
    "        energy_bounds=[0.3, 100] * u.TeV,\n",
    "        energy_power=2,\n",
    "        ax=ax,\n",
    "        color=colors[0],\n",
    "        linestyle=\"dashed\",\n",
    "        label=\"Asimov Fit w/0 nui.\",\n",
    "    )\n",
    "    model.plot_error(\n",
    "        energy_bounds=[0.3, 100] * u.TeV,\n",
    "        energy_power=2,\n",
    "        ax=ax,\n",
    "        facecolor=colors[2],\n",
    "        label=\"\",\n",
    "        alpha=1,\n",
    "    )\n",
    "\n",
    "    model = dataset_asimov.models[0]\n",
    "    dataset_input.models[0].spectral_model.plot(\n",
    "        energy_bounds=[0.3, 100] * u.TeV,\n",
    "        energy_power=2,\n",
    "        ax=ax,\n",
    "        color=\"black\",\n",
    "        label=\"Input\",\n",
    "        linestyle=\"dotted\",\n",
    "    )\n",
    "\n",
    "    ax.legend(loc=\"lower left\")\n",
    "    ax.set_xlim(0.3, 100)\n",
    "    ax.set_ylim(1e-14, 2e-12)"
   ]
  },
  {
   "cell_type": "markdown",
   "id": "69f8b7f7",
   "metadata": {},
   "source": [
    "## Dataset"
   ]
  },
  {
   "cell_type": "code",
   "execution_count": 4,
   "id": "6d76167f-353a-4f5f-95f1-2f02a6c020a9",
   "metadata": {},
   "outputs": [
    {
     "name": "stdout",
     "output_type": "stream",
     "text": [
      "loaded dataset:\n",
      "/home/katrin/Documents/nuisance_summary/PKS_flare/HESS_public/dataset-simulated-ecpl.fits.gz\n"
     ]
    }
   ],
   "source": [
    "scaled_amplitude = Parameter(\"amplitude\", value=1e-12)\n",
    "lambda_ = Parameter(\"lambda_\", value=1/60)\n",
    "\n",
    "dataset_input = Dataset_load.create_asimov(\n",
    "    model=\"ecpl\", \n",
    "    source=\"PKSflare\", \n",
    "    parameters=Parameters([scaled_amplitude, lambda_])\n",
    ")\n",
    "source_model = dataset_input.models[0].copy()\n",
    "emask = dataset_input.mask.data.sum(axis=2).sum(axis=1)>0\n",
    "energy = dataset_input.geoms['geom'].axes[0].center\n",
    "energy_mask = dataset_input.geoms['geom'].axes[0].center[emask]"
   ]
  },
  {
   "cell_type": "markdown",
   "id": "4addf7eb",
   "metadata": {},
   "source": [
    "## Systematic Settings"
   ]
  },
  {
   "cell_type": "code",
   "execution_count": 5,
   "id": "69032e9d",
   "metadata": {},
   "outputs": [],
   "source": [
    "# bkg sys\n",
    "magnitude = 10 # in percent\n",
    "corrlength = 2 # correlation length  in terms of energy bins\n",
    "seed = 38\n",
    "\n",
    "bias = 0.0\n",
    "resolution= 0.\n",
    "norm = 0.9\n",
    "tilt = 0.2"
   ]
  },
  {
   "cell_type": "code",
   "execution_count": 6,
   "id": "fa37dec0",
   "metadata": {},
   "outputs": [
    {
     "data": {
      "text/plain": [
       "4.64296469871089"
      ]
     },
     "execution_count": 6,
     "metadata": {},
     "output_type": "execute_result"
    }
   ],
   "source": [
    "npred_signal = dataset_input.npred_signal().data.max()\n",
    "npred_signal"
   ]
  },
  {
   "cell_type": "code",
   "execution_count": 7,
   "id": "e6025dd8",
   "metadata": {
    "scrolled": false
   },
   "outputs": [
    {
     "name": "stdout",
     "output_type": "stream",
     "text": [
      "4.64296469871089\n",
      "4.64296469871089\n",
      "IRFModels\n",
      "\n",
      "  Name                      : IWcYZcYO-irf\n",
      "  Datasets names            : IWcYZcYO\n",
      "  EReco  model type         : ERecoIRFModel\n",
      "  Eff area  model type      : EffAreaIRFModel\n",
      "  PSF model type            : \n",
      "  Parameters:\n",
      "    bias                          :      0.000   +/-    0.00             \n",
      "    resolution                    :      0.000   +/-    0.00             \n",
      "    norm                          :      0.900   +/-    0.00             \n",
      "    tilt                  (frozen):      0.200                   \n",
      "    reference             (frozen):      1.000       TeV         \n",
      "\n",
      "\n",
      "computing npred signal, with this model:\n",
      "DatasetModels\n",
      "\n",
      "Component 0: SkyModel\n",
      "\n",
      "  Name                      : TQLL36So\n",
      "  Datasets names            : None\n",
      "  Spectral model type       : ExpCutoffPowerLawSpectralModel\n",
      "  Spatial  model type       : PointSpatialModel\n",
      "  Temporal model type       : \n",
      "  Parameters:\n",
      "    index                         :      2.300   +/-    0.00             \n",
      "    amplitude                     :   1.00e-12   +/- 0.0e+00 1 / (TeV s cm2)\n",
      "    reference             (frozen):      1.000       TeV         \n",
      "    lambda_                       :      0.017   +/-    0.00 1 / TeV     \n",
      "    alpha                 (frozen):      1.000                   \n",
      "    lon_0                         :    329.680   +/-    0.00 deg         \n",
      "    lat_0                         :    -30.222   +/-    0.00 deg         \n",
      "\n",
      "Component 1: IRFModels\n",
      "\n",
      "  Name                      : IWcYZcYO-irf\n",
      "  Datasets names            : IWcYZcYO\n",
      "  EReco  model type         : ERecoIRFModel\n",
      "  Eff area  model type      : EffAreaIRFModel\n",
      "  PSF model type            : \n",
      "  Parameters:\n",
      "    bias                          :      0.000   +/-    0.00             \n",
      "    resolution                    :      0.000   +/-    0.00             \n",
      "    norm                          :      0.900   +/-    0.00             \n",
      "    tilt                  (frozen):      0.200                   \n",
      "    reference             (frozen):      1.000       TeV         \n",
      "\n",
      "\n",
      "max: 4.067647975519067\n",
      "IRFModels\n",
      "\n",
      "  Name                      : 3DMTgfBZ-irf\n",
      "  Datasets names            : 3DMTgfBZ\n",
      "  EReco  model type         : ERecoIRFModel\n",
      "  Eff area  model type      : EffAreaIRFModel\n",
      "  PSF model type            : \n",
      "  Parameters:\n",
      "    bias                          :      0.000   +/-    0.00             \n",
      "    resolution                    :      0.000   +/-    0.00             \n",
      "    norm                          :      0.900   +/-    0.00             \n",
      "    tilt                  (frozen):      0.200                   \n",
      "    reference             (frozen):      1.000       TeV         \n",
      "\n",
      "\n",
      "computing npred signal, with this model:\n",
      "DatasetModels\n",
      "\n",
      "Component 0: SkyModel\n",
      "\n",
      "  Name                      : TQLL36So\n",
      "  Datasets names            : None\n",
      "  Spectral model type       : ExpCutoffPowerLawSpectralModel\n",
      "  Spatial  model type       : PointSpatialModel\n",
      "  Temporal model type       : \n",
      "  Parameters:\n",
      "    index                         :      2.300   +/-    0.00             \n",
      "    amplitude                     :   1.00e-12   +/- 0.0e+00 1 / (TeV s cm2)\n",
      "    reference             (frozen):      1.000       TeV         \n",
      "    lambda_                       :      0.017   +/-    0.00 1 / TeV     \n",
      "    alpha                 (frozen):      1.000                   \n",
      "    lon_0                         :    329.680   +/-    0.00 deg         \n",
      "    lat_0                         :    -30.222   +/-    0.00 deg         \n",
      "\n",
      "Component 1: IRFModels\n",
      "\n",
      "  Name                      : 3DMTgfBZ-irf\n",
      "  Datasets names            : 3DMTgfBZ\n",
      "  EReco  model type         : ERecoIRFModel\n",
      "  Eff area  model type      : EffAreaIRFModel\n",
      "  PSF model type            : \n",
      "  Parameters:\n",
      "    bias                          :      0.000   +/-    0.00             \n",
      "    resolution                    :      0.000   +/-    0.00             \n",
      "    norm                          :      0.900   +/-    0.00             \n",
      "    tilt                  (frozen):      0.200                   \n",
      "    reference             (frozen):      1.000       TeV         \n",
      "\n",
      "\n",
      "max: 4.067647975519067\n",
      "in add cpints 4.067647975519067\n",
      "in add cpints 4.067647975519067\n"
     ]
    }
   ],
   "source": [
    "setup = Setup(dataset_input=dataset_input)\n",
    "\n",
    "print(setup._npred_signal.data.max())\n",
    "setup.set_up_irf_sys(bias, resolution, norm, tilt)\n",
    "print(setup._npred_signal.data.max())\n",
    "\n",
    "dataset_asimov, dataset_asimov_N = setup.run()\n",
    "\n",
    "setup.set_prior(dataset_asimov_N)"
   ]
  },
  {
   "cell_type": "code",
   "execution_count": 8,
   "id": "7d143e5d",
   "metadata": {},
   "outputs": [
    {
     "data": {
      "text/html": [
       "<pre>DatasetModels\n",
       "\n",
       "Component 0: SkyModel\n",
       "\n",
       "  Name                      : TQLL36So\n",
       "  Datasets names            : None\n",
       "  Spectral model type       : ExpCutoffPowerLawSpectralModel\n",
       "  Spatial  model type       : PointSpatialModel\n",
       "  Temporal model type       : \n",
       "  Parameters:\n",
       "    index                         :      2.300   +/-    0.00             \n",
       "    amplitude                     :   1.00e-12   +/- 0.0e+00 1 / (TeV s cm2)\n",
       "    reference             (frozen):      1.000       TeV         \n",
       "    lambda_                       :      0.017   +/-    0.00 1 / TeV     \n",
       "    alpha                 (frozen):      1.000                   \n",
       "    lon_0                         :    329.680   +/-    0.00 deg         \n",
       "    lat_0                         :    -30.222   +/-    0.00 deg         \n",
       "\n",
       "Component 1: FoVBackgroundModel\n",
       "\n",
       "  Name                      : IWcYZcYO-bkg\n",
       "  Datasets names            : [&#x27;IWcYZcYO&#x27;]\n",
       "  Spectral model type       : PowerLawNormSpectralModel\n",
       "  Parameters:\n",
       "    norm                          :      1.000   +/-    0.00             \n",
       "    tilt                          :      0.000   +/-    0.00             \n",
       "    reference             (frozen):      1.000       TeV         \n",
       "\n",
       "</pre>"
      ],
      "text/plain": [
       "<gammapy.modeling.models.core.DatasetModels at 0x7fdd40d87220>"
      ]
     },
     "execution_count": 8,
     "metadata": {},
     "output_type": "execute_result"
    },
    {
     "data": {
      "image/png": "[encoded data removed]",
      "text/plain": [
       "<Figure size 1200x400 with 3 Axes>"
      ]
     },
     "metadata": {},
     "output_type": "display_data"
    }
   ],
   "source": [
    "dataset_asimov.plot_residuals()\n",
    "dataset_asimov.models"
   ]
  },
  {
   "cell_type": "code",
   "execution_count": 9,
   "id": "7807dbf4",
   "metadata": {},
   "outputs": [
    {
     "name": "stdout",
     "output_type": "stream",
     "text": [
      "MapDataset\n",
      "----------\n",
      "\n",
      "  Name                            : i-u5Q_ih \n",
      "\n",
      "  Total counts                    : 414501 \n",
      "  Total background counts         : 413238.21\n",
      "  Total excess counts             : 1263.01\n",
      "\n",
      "  Predicted counts                : 414501.21\n",
      "  Predicted background counts     : 413238.21\n",
      "  Predicted excess counts         : 1263.01\n",
      "\n",
      "  Exposure min                    : 1.57e-25 m2 s\n",
      "  Exposure max                    : 1.27e+11 m2 s\n",
      "\n",
      "  Number of total bins            : 6000000 \n",
      "  Number of fit bins              : 942469 \n",
      "\n",
      "  Fit statistic type              : cash\n",
      "  Fit statistic value (-2 log(L)) : 850150.21\n",
      "\n",
      "  Number of models                : 2 \n",
      "  Number of parameters            : 10\n",
      "  Number of free parameters       : 7\n",
      "\n",
      "  Component 0: SkyModel\n",
      "  \n",
      "    Name                      : TQLL36So\n",
      "    Datasets names            : None\n",
      "    Spectral model type       : ExpCutoffPowerLawSpectralModel\n",
      "    Spatial  model type       : PointSpatialModel\n",
      "    Temporal model type       : \n",
      "    Parameters:\n",
      "      index                         :      2.300   +/-    0.00             \n",
      "      amplitude                     :   1.00e-12   +/- 0.0e+00 1 / (TeV s cm2)\n",
      "      reference             (frozen):      1.000       TeV         \n",
      "      lambda_                       :      0.017   +/-    0.00 1 / TeV     \n",
      "      alpha                 (frozen):      1.000                   \n",
      "      lon_0                         :    329.680   +/-    0.00 deg         \n",
      "      lat_0                         :    -30.222   +/-    0.00 deg         \n",
      "  \n",
      "  Component 1: FoVBackgroundModel\n",
      "  \n",
      "    Name                      : i-u5Q_ih-bkg\n",
      "    Datasets names            : ['i-u5Q_ih']\n",
      "    Spectral model type       : PowerLawNormSpectralModel\n",
      "    Parameters:\n",
      "      norm                          :      1.000   +/-    0.00             \n",
      "      tilt                          :      0.000   +/-    0.00             \n",
      "      reference             (frozen):      1.000       TeV         \n",
      "  \n",
      "  \n"
     ]
    }
   ],
   "source": [
    "print(dataset_input)"
   ]
  },
  {
   "cell_type": "code",
   "execution_count": 10,
   "id": "2e70c32c",
   "metadata": {},
   "outputs": [
    {
     "data": {
      "text/plain": [
       "<WCSAxes: >"
      ]
     },
     "execution_count": 10,
     "metadata": {},
     "output_type": "execute_result"
    },
    {
     "data": {
      "image/png": "[encoded data removed]",
      "text/plain": [
       "<Figure size 640x480 with 1 Axes>"
      ]
     },
     "metadata": {},
     "output_type": "display_data"
    }
   ],
   "source": [
    "(dataset_asimov.counts - dataset_input.counts).sum_over_axes().plot()"
   ]
  },
  {
   "cell_type": "code",
   "execution_count": 11,
   "id": "19adb7db",
   "metadata": {},
   "outputs": [
    {
     "ename": "NameError",
     "evalue": "name 'sdf' is not defined",
     "output_type": "error",
     "traceback": [
      "\u001b[0;31m---------------------------------------------------------------------------\u001b[0m",
      "\u001b[0;31mNameError\u001b[0m                                 Traceback (most recent call last)",
      "Cell \u001b[0;32mIn[11], line 1\u001b[0m\n\u001b[0;32m----> 1\u001b[0m \u001b[43msdf\u001b[49m\n",
      "\u001b[0;31mNameError\u001b[0m: name 'sdf' is not defined"
     ]
    }
   ],
   "source": [
    "sdf"
   ]
  },
  {
   "cell_type": "code",
   "execution_count": null,
   "id": "9d300cc5",
   "metadata": {},
   "outputs": [],
   "source": [
    "dataset_asimov_N.models.parameters['bias'].value = 0.6\n",
    "dataset_asimov_N.models.parameters['norm'].value = 0.6\n",
    "\n",
    "dataset_asimov_N.plot_residuals()\n",
    "dataset_asimov_N.models"
   ]
  },
  {
   "cell_type": "code",
   "execution_count": null,
   "id": "12df8f45",
   "metadata": {},
   "outputs": [],
   "source": []
  },
  {
   "cell_type": "code",
   "execution_count": null,
   "id": "72ab706d",
   "metadata": {},
   "outputs": [],
   "source": [
    "np.all(dataset_asimov.exposure == dataset_input.exposure)"
   ]
  },
  {
   "cell_type": "code",
   "execution_count": null,
   "id": "9a90b97d-fa1c-42de-ac72-bb17db615fe6",
   "metadata": {},
   "outputs": [],
   "source": [
    "fig, (ax1) = plt.subplots(figsize=(5, 3), ncols=1)\n",
    "pos =plt.imshow(dataset_asimov_N.models.parameters.prior[-1].covariance_matrix, vmin = 0, vmax = 0.1,\n",
    "               cmap = \"Purples\")\n",
    "fig.colorbar(pos, ax=ax1)\n",
    "ticks = [0,5,10,15,20]\n",
    "energy_ticks = dataset_input.geoms['geom'].axes[0].cen`ter[ticks].value\n",
    "energy_ticks = np.round(energy_ticks,1)\n",
    "ax1.set_xticks(ticks)\n",
    "ax1.set_xticklabels(energy_ticks)\n",
    "ax1.set_yticks(ticks)\n",
    "ax1.set_yticklabels(energy_ticks)\n",
    "ax1.set_ylabel(\"Energy [TeV]\")\n",
    "ax1.set_xlabel(\"Energy [TeV]\")\n",
    "cbar = plt.gca().images[-1].colorbar\n",
    "cbar.set_label('Inv. Correlation', rotation=90)\n",
    "\n",
    "fig.savefig(\"plots/2_inv_cov_matrix.pdf\", bbox_inches=\"tight\")\n",
    "fig.savefig(\"plots/2_inv_cov_matrix.png\", bbox_inches=\"tight\")\n",
    "\n",
    "rtrh"
   ]
  },
  {
   "cell_type": "markdown",
   "id": "5d7f945f",
   "metadata": {},
   "source": [
    "## Fit"
   ]
  },
  {
   "cell_type": "code",
   "execution_count": null,
   "id": "e075e6dd-460b-4dd5-9ea7-9145732f07da",
   "metadata": {},
   "outputs": [],
   "source": [
    "%%time\n",
    "fit = Fit()\n",
    "fit.run(dataset_asimov)"
   ]
  },
  {
   "cell_type": "code",
   "execution_count": null,
   "id": "0bea8884",
   "metadata": {},
   "outputs": [],
   "source": [
    "%%time\n",
    "fit_sys = Fit()\n",
    "fit_sys.run(dataset_asimov_N)"
   ]
  },
  {
   "cell_type": "markdown",
   "id": "97d0388c",
   "metadata": {},
   "source": [
    "#### Best-Fit Systematic"
   ]
  },
  {
   "cell_type": "code",
   "execution_count": null,
   "id": "9242b046-444b-4193-bd32-351eee8f8adf",
   "metadata": {},
   "outputs": [],
   "source": [
    "fig, ax = plt.subplots(figsize = (5,3))\n",
    "\n",
    "values_fitted = dataset_asimov_N.models[1].spectral_model(energy)\n",
    "plt.plot(energy.value[emask], 100 * values_fitted[emask]-100, color = colors[1],\n",
    "        label = \"Best-fit nuisance pars.\")\n",
    "\n",
    "#plt.fill_between(energy.value[emask], sys_percentage[emask],-sys_percentage[emask],\n",
    "#                alpha = 0.1, color = 'tab:green')\n",
    "plt.scatter(energy.value[emask], 100*values[emask], color = 'purple',\n",
    "            marker = \"+\", s = 80,\n",
    "           label = \"Input\")\n",
    "plt.xscale('log')\n",
    "plt.hlines(0, 0.4,100, color= 'grey')\n",
    "plt.yscale(\"linear\")\n",
    "plt.ylim(-12,12)\n",
    "plt.xlabel(\"Energy [TeV]\")\n",
    "plt.ylabel(\"Systematic [\\%]\")\n",
    "plt.legend()\n",
    "fig.savefig('plots/2_nui_sys_input.png', bbox_inches=\"tight\")"
   ]
  },
  {
   "cell_type": "code",
   "execution_count": null,
   "id": "71a2c97e",
   "metadata": {},
   "outputs": [],
   "source": [
    "#### Spectral Residual Points"
   ]
  },
  {
   "cell_type": "code",
   "execution_count": null,
   "id": "d62720e7-d335-4b59-bbfa-e8b62d8feebb",
   "metadata": {},
   "outputs": [],
   "source": [
    "fig, ax = plt.subplots(figsize = (5,3))\n",
    "ax = dataset_asimov.plot_residuals_spectral(method =  'diff/sqrt(model)',\n",
    "                                            color = colors[0], \n",
    "                                    label = \"Without nuisance par.\")\n",
    "dataset_asimov_N.plot_residuals_spectral(method =  'diff/sqrt(model)',\n",
    "                                         color =colors[1],\n",
    "                                             label = \"With nuisance par.\",\n",
    "                                        )\n",
    "\n",
    "#plt.fill_between(energy.value, sys_percentage[emask],-sys_percentage[emask],alpha = 0.3)\n",
    "ax.legend()\n",
    "ax.set_xlim(0.4,100)\n",
    "ax.set_ylim(-10,10)\n",
    "\n",
    "plt.tight_layout()\n",
    "\n",
    "lim = ax.get_ylim()\n",
    "ax.set_ylim(-np.max(np.abs(lim)), np.max(np.abs(lim)))\n",
    "fig = plt.gcf()\n",
    "fig.savefig('plots/2_spectracl_res_points_diff.png')"
   ]
  },
  {
   "cell_type": "code",
   "execution_count": null,
   "id": "4b6d98a6-1e18-4e57-a0cf-c6e4e23c3ac9",
   "metadata": {},
   "outputs": [],
   "source": [
    "fig, ax = plt.subplots(figsize = (5,3))\n",
    "ax = dataset_asimov_N.plot_residuals_spectral(method =  'diff', color = 'tab:blue',\n",
    "                                             label = \"Asimov Fit w/o nui.\")\n",
    "dataset_asimov.plot_residuals_spectral(method =  'diff', color = 'tab:red', ax = ax,\n",
    "                                    label = \"Asimov Fit w/ nui.\")\n",
    "#plt.fill_between(energy.value, sys_percentage[emask],-sys_percentage[emask],alpha = 0.3)\n",
    "ax.legend()\n",
    "ax.set_xlim(0.4,100)\n",
    "plt.tight_layout()\n",
    "lim = ax.get_ylim()\n",
    "ax.set_ylim(-np.max(np.abs(lim)), np.max(np.abs(lim)))\n",
    "fig = plt.gcf()\n",
    "fig.savefig('plots/2_spectracl_res_points.png')"
   ]
  },
  {
   "cell_type": "markdown",
   "id": "4dda7576",
   "metadata": {},
   "source": [
    "#### Best-Fit Parameters"
   ]
  },
  {
   "cell_type": "code",
   "execution_count": null,
   "id": "095ec0b3-0430-4679-9b8c-6f3cb2e1b714",
   "metadata": {},
   "outputs": [],
   "source": [
    "models_list = [ dataset_asimov.models, dataset_asimov_N.models , dataset_input.models]\n",
    "labels = [ 'fitted without norms','fitted with norms', 'input']\n",
    "fmts = ['o','*', '^', ]\n",
    "\n",
    "pars =  pars = [('norm', 'tilt'),('amplitude', 'index'),\n",
    "               ('lambda_', 'lambda_')]\n",
    "ax = plot_source_par(0, pars)\n"
   ]
  },
  {
   "cell_type": "code",
   "execution_count": null,
   "id": "3af380cd",
   "metadata": {},
   "outputs": [],
   "source": [
    "for p in ['amplitude', 'index', 'lambda_']:\n",
    "    print(p)\n",
    "    for i, d in enumerate([dataset_asimov, dataset_asimov_N, dataset_input]):\n",
    "        pp = d.models[0].parameters[p]\n",
    "        print(f\"{labels[i]}\")\n",
    "        if p == 'lambda_':\n",
    "            print(f\"$1/{(1/pp.value):.3} \\pm 1/{(pp.error/pp.value**2):.3}$\")   \n",
    "        if p == 'amplitude':\n",
    "            print(f\"${pp.value*1e12:.2} \\pm {pp.error*1e12:.2}$\")   \n",
    "            \n",
    "        else:\n",
    "            print(f\"${pp.value:.4} \\pm {pp.error:.4}$\")   \n",
    "        \n",
    "    print()"
   ]
  },
  {
   "cell_type": "markdown",
   "id": "29039217-2aba-4643-a90d-dded830c2a2b",
   "metadata": {},
   "source": [
    "## Fluxpoints"
   ]
  },
  {
   "cell_type": "code",
   "execution_count": null,
   "id": "c69fbd3f-2898-4e0e-8e88-945411408f9f",
   "metadata": {},
   "outputs": [],
   "source": [
    "comput_fp = 0\n",
    "if comput_fp :\n",
    "    energy_edges = dataset_asimov.geoms[\"geom\"].axes[0].edges[::2]\n",
    "    esti = FluxPointsEstimator(energy_edges=energy_edges)\n",
    "    fluxpoints = esti.run([dataset_asimov])\n",
    "    fluxpoints.write(\n",
    "        \"data/fluxpoints/2_fluxpoints_asimov.fits\", overwrite = True\n",
    "    )\n",
    "    Models([dataset_asimov.models[0]]).write(\n",
    "        \"data/fluxpoints/2_model_asimov.fits\" , overwrite = True\n",
    "    )\n",
    "    \n",
    "    fluxpoints_N = esti.run([dataset_asimov_N])\n",
    "    fluxpoints_N.write(\n",
    "        f\"data/fluxpoints/2_fluxpoints_asimov_N.fits\", overwrite= True,\n",
    "    )\n",
    "    Models([dataset_asimov_N.models[0]]).write(\n",
    "        f\"data/fluxpoints/2_model_asimov_N.fits\", overwrite= True,\n",
    "    )\n",
    "    \n",
    "    fp_asimov = FluxPointsDataset(data = fluxpoints, models = Models([dataset_asimov.models[0]]))\n",
    "    fp_asimov_N = FluxPointsDataset(data = fluxpoints_N, models = Models([dataset_asimov_N.models[0]]))\n",
    "    \n",
    "else:\n",
    "    fp_asimov = FluxPointsDataset(data = FluxPoints.read(\"data/fluxpoints/2_fluxpoints_asimov.fits\"),\n",
    "                                 models = Models.read(\"data/fluxpoints/2_model_asimov.fits\"))\n",
    "    fp_asimov_N = FluxPointsDataset(data = FluxPoints.read(\"data/fluxpoints/2_fluxpoints_asimov_N.fits\"),\n",
    "                                 models = Models.read(\"data/fluxpoints/2_model_asimov_N.fits\"))"
   ]
  },
  {
   "cell_type": "code",
   "execution_count": null,
   "id": "39e60eef-f667-49c5-933f-bf13fd33cfb8",
   "metadata": {},
   "outputs": [],
   "source": [
    "fp_asimov = FluxPointsDataset(\n",
    "    data=FluxPoints.read(\"data/fluxpoints/2_fluxpoints_asimov.fits\"),\n",
    "    models=Models.read(\"data/fluxpoints/2_model_asimov.fits\"),\n",
    ")\n",
    "fp_asimov_N = FluxPointsDataset(\n",
    "    data=FluxPoints.read(\"data/fluxpoints/2_fluxpoints_asimov_N.fits\"),\n",
    "    models=Models.read(\"data/fluxpoints/2_model_asimov_N.fits\"),\n",
    ")\n",
    "\n",
    "\n",
    "energy_power = 2\n",
    "fig, axs = plt.subplots(2, 1, figsize=(4, 4), sharex=True, gridspec_kw={\"height_ratios\": [3, 1]},)\n",
    "plot_asimov_spectrum(fig, axs[0])\n",
    "fp_asimov_N.data.plot(energy_power=2, color=colors[1], ax=axs[0], capsize = 5)\n",
    "fp_asimov.data.plot(energy_power=2, color=colors[0], ax=axs[0], capsize = 5)\n",
    "\n",
    "\n",
    "fp_asimov.plot_residuals(ax =axs[1], color = colors[0], capsize = 5, marker = 'x')\n",
    "fp_asimov_N.plot_residuals(ax =axs[1], color = colors[1],  capsize = 5, marker = 'o')\n",
    "\n",
    "axs[0].set_xlim(0.3, 100)\n",
    "fig.savefig(\"plots/2_fluxpoints_spectrum.pdf\", bbox_inches=\"tight\")\n",
    "fig.savefig(\"plots/2_fluxpoints_spectrum.png\", bbox_inches=\"tight\")"
   ]
  },
  {
   "cell_type": "code",
   "execution_count": null,
   "id": "115a777a",
   "metadata": {},
   "outputs": [],
   "source": []
  }
 ],
 "metadata": {
  "kernelspec": {
   "display_name": "Python 3 (ipykernel)",
   "language": "python",
   "name": "python3"
  },
  "language_info": {
   "codemirror_mode": {
    "name": "ipython",
    "version": 3
   },
   "file_extension": ".py",
   "mimetype": "text/x-python",
   "name": "python",
   "nbconvert_exporter": "python",
   "pygments_lexer": "ipython3",
   "version": "3.9.16"
  }
 },
 "nbformat": 4,
 "nbformat_minor": 5
}
