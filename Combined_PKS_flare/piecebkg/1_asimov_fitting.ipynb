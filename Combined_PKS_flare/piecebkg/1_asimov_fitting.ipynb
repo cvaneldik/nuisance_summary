{
 "cells": [
  {
   "cell_type": "markdown",
   "id": "5cf0459a-75d4-4f5a-aad0-dc73a5e89d69",
   "metadata": {},
   "source": [
    "### 2 in the title means it is based on the simulated dataset"
   ]
  },
  {
   "cell_type": "markdown",
   "id": "8114f3a7",
   "metadata": {},
   "source": [
    "#### Setup "
   ]
  },
  {
   "cell_type": "code",
   "execution_count": 1,
   "id": "5bc476ec-b331-486e-85db-fe1c8324c5f8",
   "metadata": {},
   "outputs": [],
   "source": [
    "#get_ipython().system('jupyter nbconvert --to script 1-Nui_Par_Fitting.ipynb')\n",
    "import pyximport\n",
    "\n",
    "pyximport.install()\n",
    "import matplotlib.pyplot as plt\n",
    "import numpy as np\n",
    "import astropy.units as u\n",
    "from gammapy.maps import Map\n",
    "from astropy.coordinates import SkyCoord, Angle\n",
    "from gammapy.modeling import Fit,  Parameters, Covariance , Parameter\n",
    "from gammapy.datasets import MapDataset ,Datasets, FluxPointsDataset\n",
    "from gammapy.modeling.models import (\n",
    "    PowerLawSpectralModel,\n",
    "    SkyModel,\n",
    "    PointSpatialModel,\n",
    "    PowerLawNormSpectralModel,\n",
    "    Models,\n",
    "    SpatialModel,\n",
    "    FoVBackgroundModel,\n",
    "    PiecewiseNormSpectralModel,\n",
    ")\n",
    "from gammapy.estimators import TSMapEstimator, ExcessMapEstimator\n",
    "from gammapy.estimators import FluxPoints, FluxPointsEstimator\n",
    "\n",
    "from regions import CircleSkyRegion, RectangleSkyRegion\n",
    "import yaml\n",
    "import sys\n",
    "sys.path.append('../../')\n",
    "import Dataset_load \n",
    "\n",
    "from  Dataset_Setup import Setup, GaussianCovariance_matrix"
   ]
  },
  {
   "cell_type": "code",
   "execution_count": 2,
   "id": "6f19445f-bef2-4542-b2f2-7f44107a0f00",
   "metadata": {},
   "outputs": [],
   "source": [
    "from matplotlib import rc\n",
    "import matplotlib.pylab as plt\n",
    "\n",
    "rc('font', **{'family': 'serif', 'serif': ['Computer Modern']})\n",
    "rc('text', usetex=True)\n",
    "\n",
    "config = Dataset_load.load_config()\n",
    "colors = config[\"colors\"][\"three\"]\n",
    "import ast\n",
    "\n",
    "colors[1] = ast.literal_eval(colors[1])\n",
    "colors[2] = ast.literal_eval(colors[2])\n",
    "colors[3] = ast.literal_eval(colors[3])\n",
    "\n",
    "#import seaborn as sns\n",
    "\n",
    "\n",
    "alpha_nui = 0.99\n",
    "alpha_st = 0.99\n",
    "legendsscatter = [\"Asimov w/o nui.\", \"Asimov with nui.\"]\n",
    "legends = [\"\", \"\"]\n",
    "\n",
    "alpha_rnd = 0.2\n",
    "alpha_rnd_nui = 0.2\n",
    "\n",
    "nbins = 20"
   ]
  },
  {
   "cell_type": "code",
   "execution_count": 3,
   "id": "6400f93a",
   "metadata": {},
   "outputs": [],
   "source": [
    "def plot_par(par1, par2, label,ax = None, fmt ='x', markersize = 6, color = 'red'):\n",
    "    if ax is None:\n",
    "        fig, ax = plt.subplots(1,1)\n",
    "    ax.errorbar(x = par1.value, y = par2.value, xerr = par1.error, yerr = par2.error, fmt= fmt,\n",
    "                markersize = markersize,\n",
    "                label = label, color = color)\n",
    "    ax.set_xlabel(f\"{par1.name} [{par1.unit}] \" )\n",
    "    ax.set_ylabel(f\"{par2.name} [{par2.unit}] \" )\n",
    "    ax.legend()\n",
    "    \n",
    "    return ax\n",
    "\n",
    "def plot_source_par(model_name, pars):\n",
    "    if len(pars)>2:\n",
    "        fig, ax = plt.subplots(2,2, figsize = (6,6))\n",
    "        ax = ax.flatten()\n",
    "    else:\n",
    "        fig, ax = plt.subplots(1,2, figsize = (6,3))\n",
    "   \n",
    "    for i, p in enumerate(pars):\n",
    "    \n",
    "        for j, m in enumerate (models_list):\n",
    "            try:\n",
    "                plot_par(m.parameters[p[0]],\n",
    "                 m.parameters[p[1]],\n",
    "                    label= labels[j],\n",
    "                    ax = ax[i],\n",
    "                    fmt = fmts[j],\n",
    "                    markersize = markersize[j], \n",
    "                        color = colors [j])\n",
    "            except:\n",
    "                pass\n",
    "\n",
    "    plt.tight_layout()\n",
    "    return fig\n",
    "\n",
    "markersize = [6,10, 10]\n",
    "\n",
    "\n",
    "def plot_asimov_spectrum(fig, ax):\n",
    "    model = dataset_asimov_N.models[0].spectral_model\n",
    "    model.plot(\n",
    "        energy_bounds=[0.3, 100] * u.TeV,\n",
    "        energy_power=2,\n",
    "        ax=ax,\n",
    "        color=colors[1],\n",
    "        label=\"Asimov Fit with nui.\",\n",
    "        linestyle=\"solid\",\n",
    "    )\n",
    "\n",
    "    model.plot_error(\n",
    "        energy_bounds=[0.3, 100] * u.TeV,\n",
    "        energy_power=2,\n",
    "        ax=ax,\n",
    "        facecolor=colors[3],\n",
    "        label=\"\",\n",
    "        alpha=1,\n",
    "    )\n",
    "\n",
    "    model = dataset_asimov.models[0].spectral_model\n",
    "    model.plot(\n",
    "        energy_bounds=[0.3, 100] * u.TeV,\n",
    "        energy_power=2,\n",
    "        ax=ax,\n",
    "        color=colors[0],\n",
    "        linestyle=\"dashed\",\n",
    "        label=\"Asimov Fit w/0 nui.\",\n",
    "    )\n",
    "    model.plot_error(\n",
    "        energy_bounds=[0.3, 100] * u.TeV,\n",
    "        energy_power=2,\n",
    "        ax=ax,\n",
    "        facecolor=colors[2],\n",
    "        label=\"\",\n",
    "        alpha=1,\n",
    "    )\n",
    "\n",
    "    model = dataset_asimov.models[0]\n",
    "    dataset_input.models[0].spectral_model.plot(\n",
    "        energy_bounds=[0.3, 100] * u.TeV,\n",
    "        energy_power=2,\n",
    "        ax=ax,\n",
    "        color=\"black\",\n",
    "        label=\"Input\",\n",
    "        linestyle=\"dotted\",\n",
    "    )\n",
    "\n",
    "    ax.legend(loc=\"lower left\")\n",
    "    ax.set_xlim(0.3, 100)\n",
    "    ax.set_ylim(1e-14, 2e-12)"
   ]
  },
  {
   "cell_type": "markdown",
   "id": "69f8b7f7",
   "metadata": {},
   "source": [
    "## Dataset"
   ]
  },
  {
   "cell_type": "code",
   "execution_count": 4,
   "id": "6d76167f-353a-4f5f-95f1-2f02a6c020a9",
   "metadata": {},
   "outputs": [
    {
     "name": "stdout",
     "output_type": "stream",
     "text": [
      "loaded dataset:\n",
      "/home/katrin/Documents/nuisance_summary/PKS_flare/HESS_public/dataset-simulated-pl.fits.gz\n"
     ]
    }
   ],
   "source": [
    "scaled_amplitude = Parameter(\"amplitude\", value=1e-12)\n",
    "#lambda_ = Parameter(\"lambda_\", value=1/60)\n",
    "\n",
    "dataset_input = Dataset_load.create_asimov(\n",
    "    model=\"pl\", \n",
    "    source=\"PKSflare\", \n",
    "    parameters=Parameters([scaled_amplitude])\n",
    ")\n",
    "source_model = dataset_input.models[0].copy()\n",
    "emask = dataset_input.mask.data.sum(axis=2).sum(axis=1)>0\n",
    "energy = dataset_input.geoms['geom'].axes[0].center\n",
    "energy_mask = dataset_input.geoms['geom'].axes[0].center[emask]"
   ]
  },
  {
   "cell_type": "markdown",
   "id": "4addf7eb",
   "metadata": {},
   "source": [
    "## Systematic Settings"
   ]
  },
  {
   "cell_type": "code",
   "execution_count": 5,
   "id": "69032e9d",
   "metadata": {},
   "outputs": [],
   "source": [
    "# bkg sys\n",
    "magnitude = 10 # in percent\n",
    "corrlength = 2 # correlation length  in terms of energy bins\n",
    "seed = 38\n",
    "\n",
    "bias = 0.1\n",
    "resolution= 0.\n",
    "norm = 0.1\n",
    "tilt = 0.02"
   ]
  },
  {
   "cell_type": "code",
   "execution_count": 6,
   "id": "e6025dd8",
   "metadata": {
    "scrolled": false
   },
   "outputs": [
    {
     "name": "stdout",
     "output_type": "stream",
     "text": [
      "DatasetModels\n",
      "\n",
      "Component 0: SkyModel\n",
      "\n",
      "  Name                      : aEaZD8Bs\n",
      "  Datasets names            : None\n",
      "  Spectral model type       : PowerLawSpectralModel\n",
      "  Spatial  model type       : PointSpatialModel\n",
      "  Temporal model type       : \n",
      "  Parameters:\n",
      "    index                         :      2.300   +/-    0.00             \n",
      "    amplitude                     :   1.00e-12   +/- 0.0e+00 1 / (TeV s cm2)\n",
      "    reference             (frozen):      1.000       TeV         \n",
      "    lon_0                         :    329.680   +/-    0.00 deg         \n",
      "    lat_0                         :    -30.222   +/-    0.00 deg         \n",
      "\n",
      "Component 1: IRFModels\n",
      "\n",
      "  Name                      : GnluF0bX-irf\n",
      "  Datasets names            : GnluF0bX\n",
      "  EReco  model type         : ERecoIRFModel\n",
      "  Eff area  model type      : EffAreaIRFModel\n",
      "  PSF model type            : \n",
      "  Parameters:\n",
      "    bias                          :      0.000   +/-    0.00             \n",
      "    resolution            (frozen):      0.000                   \n",
      "    norm                          :      0.000   +/-    0.00             \n",
      "    tilt                          :      0.000   +/-    0.00             \n",
      "    reference             (frozen):      1.000       TeV         \n",
      "\n",
      "Component 2: FoVBackgroundModel\n",
      "\n",
      "  Name                      : GnluF0bX-bkg\n",
      "  Datasets names            : ['GnluF0bX']\n",
      "  Spectral model type       : PiecewiseNormSpectralModel\n",
      "  Parameters:\n",
      "    _norm                 (frozen):      1.000                   \n",
      "    norm0                 (frozen):      0.000                   \n",
      "    norm1                 (frozen):      0.000                   \n",
      "    norm2                 (frozen):      0.000                   \n",
      "    norm3                 (frozen):      0.000                   \n",
      "    norm4                         :      0.000   +/-    0.00             \n",
      "    norm5                         :      0.000   +/-    0.00             \n",
      "    norm6                         :      0.000   +/-    0.00             \n",
      "    norm7                         :      0.000   +/-    0.00             \n",
      "    norm8                         :      0.000   +/-    0.00             \n",
      "    norm9                         :      0.000   +/-    0.00             \n",
      "    norm10                        :      0.000   +/-    0.00             \n",
      "    norm11                        :      0.000   +/-    0.00             \n",
      "    norm12                        :      0.000   +/-    0.00             \n",
      "    norm13                        :      0.000   +/-    0.00             \n",
      "    norm14                        :      0.000   +/-    0.00             \n",
      "    norm15                        :      0.000   +/-    0.00             \n",
      "    norm16                        :      0.000   +/-    0.00             \n",
      "    norm17                        :      0.000   +/-    0.00             \n",
      "    norm18                        :      0.000   +/-    0.00             \n",
      "    norm19                        :      0.000   +/-    0.00             \n",
      "    norm20                        :      0.000   +/-    0.00             \n",
      "    norm21                        :      0.000   +/-    0.00             \n",
      "    norm22                        :      0.000   +/-    0.00             \n",
      "    norm23                        :      0.000   +/-    0.00             \n",
      "\n",
      "\n"
     ]
    }
   ],
   "source": [
    "setup = Setup(dataset_input=dataset_input)\n",
    "#setup.set_up_irf_sys(bias, resolution, norm, tilt)\n",
    "dataset_asimov, dataset_asimov_N = setup.run()\n",
    "# irf model\n",
    "setup.set_irf_model(dataset_asimov_N)\n",
    "dataset_asimov_N.models.parameters['resolution'].frozen = True\n",
    "dataset_asimov_N.irf_model.parameters['tilt'].frozen = False\n",
    "\n",
    "\n",
    "setup.set_irf_prior(dataset_asimov_N, bias, resolution, norm, tilt)\n",
    "# piece wise model\n",
    "# remove old bkg model\n",
    "setup.unset_model(dataset_asimov_N, FoVBackgroundModel)\n",
    "setup.set_piecewise_bkg_model(dataset_asimov_N)\n",
    "setup.set_bkg_prior(dataset_asimov_N, magnitude, corrlength)\n",
    "# energy of the following parameters smaller than ethrshold\n",
    "dataset_asimov_N.background_model.parameters['norm0'].frozen = True\n",
    "dataset_asimov_N.background_model.parameters['norm1'].frozen = True\n",
    "dataset_asimov_N.background_model.parameters['norm2'].frozen = True\n",
    "dataset_asimov_N.background_model.parameters['norm3'].frozen = True\n",
    "print(dataset_asimov_N.models)"
   ]
  },
  {
   "cell_type": "code",
   "execution_count": 7,
   "id": "80a4c851",
   "metadata": {},
   "outputs": [
    {
     "data": {
      "text/plain": [
       "(<WCSAxes: >,\n",
       " <Axes: xlabel='Energy [$\\\\mathrm{TeV}$]', ylabel='Residuals (data - model)'>)"
      ]
     },
     "execution_count": 7,
     "metadata": {},
     "output_type": "execute_result"
    },
    {
     "data": {
      "image/png": "[encoded data removed]",
      "text/plain": [
       "<Figure size 1200x400 with 3 Axes>"
      ]
     },
     "metadata": {},
     "output_type": "display_data"
    }
   ],
   "source": [
    "dataset_asimov.plot_residuals()"
   ]
  },
  {
   "cell_type": "markdown",
   "id": "5d7f945f",
   "metadata": {},
   "source": [
    "## Fit"
   ]
  },
  {
   "cell_type": "code",
   "execution_count": 8,
   "id": "e075e6dd-460b-4dd5-9ea7-9145732f07da",
   "metadata": {},
   "outputs": [
    {
     "name": "stdout",
     "output_type": "stream",
     "text": [
      "CPU times: user 9.46 s, sys: 4.17 s, total: 13.6 s\n",
      "Wall time: 13.7 s\n"
     ]
    },
    {
     "data": {
      "text/html": [
       "<pre>OptimizeResult\n",
       "\n",
       "\tbackend    : minuit\n",
       "\tmethod     : migrad\n",
       "\tsuccess    : True\n",
       "\tmessage    : Optimization terminated successfully.\n",
       "\tnfev       : 100\n",
       "\ttotal stat : 850189.07\n",
       "\n",
       "CovarianceResult\n",
       "\n",
       "\tbackend    : minuit\n",
       "\tmethod     : hesse\n",
       "\tsuccess    : True\n",
       "\tmessage    : Hesse terminated successfully.\n",
       "</pre>"
      ],
      "text/plain": [
       "<gammapy.modeling.fit.FitResult at 0x7fd3c2648280>"
      ]
     },
     "execution_count": 8,
     "metadata": {},
     "output_type": "execute_result"
    }
   ],
   "source": [
    "%%time\n",
    "fit = Fit()\n",
    "fit.run(dataset_asimov)"
   ]
  },
  {
   "cell_type": "code",
   "execution_count": 9,
   "id": "0bea8884",
   "metadata": {},
   "outputs": [
    {
     "name": "stdout",
     "output_type": "stream",
     "text": [
      "CPU times: user 6min 5s, sys: 3min 59s, total: 10min 4s\n",
      "Wall time: 4min 2s\n"
     ]
    },
    {
     "data": {
      "text/html": [
       "<pre>OptimizeResult\n",
       "\n",
       "\tbackend    : minuit\n",
       "\tmethod     : migrad\n",
       "\tsuccess    : True\n",
       "\tmessage    : Optimization terminated successfully.\n",
       "\tnfev       : 831\n",
       "\ttotal stat : 850189.11\n",
       "\n",
       "CovarianceResult\n",
       "\n",
       "\tbackend    : minuit\n",
       "\tmethod     : hesse\n",
       "\tsuccess    : True\n",
       "\tmessage    : Hesse terminated successfully.\n",
       "</pre>"
      ],
      "text/plain": [
       "<gammapy.modeling.fit.FitResult at 0x7fd3c256b1f0>"
      ]
     },
     "execution_count": 9,
     "metadata": {},
     "output_type": "execute_result"
    }
   ],
   "source": [
    "%%time\n",
    "fit_sys = Fit()\n",
    "fit_sys.run(dataset_asimov_N)"
   ]
  },
  {
   "cell_type": "code",
   "execution_count": null,
   "id": "3d8ee02d",
   "metadata": {},
   "outputs": [],
   "source": [
    "print(dataset_asimov_N.models)"
   ]
  },
  {
   "cell_type": "markdown",
   "id": "4dda7576",
   "metadata": {},
   "source": [
    "#### Best-Fit Parameters"
   ]
  },
  {
   "cell_type": "code",
   "execution_count": null,
   "id": "095ec0b3-0430-4679-9b8c-6f3cb2e1b714",
   "metadata": {},
   "outputs": [],
   "source": [
    "models_list = [ dataset_asimov_N.models ,dataset_asimov.models,  dataset_input.models]\n",
    "labels = [ 'fitted with nui','fitted without nuis', 'input']\n",
    "fmts = ['o','*', '^', ]\n",
    "\n",
    "pars =  pars = [('norm', 'tilt'),('amplitude', 'index'),\n",
    "               ('lambda_', 'lambda_')]\n",
    "ax = plot_source_par(0, pars)\n"
   ]
  },
  {
   "cell_type": "code",
   "execution_count": null,
   "id": "3af380cd",
   "metadata": {},
   "outputs": [],
   "source": [
    "for p in ['amplitude', 'index']:\n",
    "    print(p)\n",
    "    for i, d in enumerate([dataset_asimov, dataset_asimov_N, dataset_input]):\n",
    "        pp = d.models[0].parameters[p]\n",
    "        print(f\"{labels[i]}\")\n",
    "        if p == 'lambda_':\n",
    "            print(f\"$1/{(1/pp.value):.3} \\pm 1/{(pp.error/pp.value**2):.3}$\")   \n",
    "        if p == 'amplitude':\n",
    "            print(f\"${pp.value*1e12:.2} \\pm {pp.error*1e12:.2}$\")   \n",
    "            \n",
    "        else:\n",
    "            print(f\"${pp.value:.4} \\pm {pp.error:.4}$\")   \n",
    "        \n",
    "    print()"
   ]
  },
  {
   "cell_type": "markdown",
   "id": "29039217-2aba-4643-a90d-dded830c2a2b",
   "metadata": {},
   "source": [
    "## Fluxpoints"
   ]
  },
  {
   "cell_type": "code",
   "execution_count": null,
   "id": "c69fbd3f-2898-4e0e-8e88-945411408f9f",
   "metadata": {},
   "outputs": [],
   "source": [
    "comput_fp = 1\n",
    "if comput_fp :\n",
    "    energy_edges = dataset_asimov.geoms[\"geom\"].axes[0].edges[::2]\n",
    "    esti = FluxPointsEstimator(energy_edges=energy_edges)\n",
    "    fluxpoints = esti.run([dataset_asimov])\n",
    "    fluxpoints.write(\n",
    "        \"data/fluxpoints/2_fluxpoints_asimov.fits\", overwrite = True\n",
    "    )\n",
    "    Models([dataset_asimov.models[0]]).write(\n",
    "        \"data/fluxpoints/2_model_asimov.fits\" , overwrite = True\n",
    "    )\n",
    "    \n",
    "    fluxpoints_N = esti.run([dataset_asimov_N])\n",
    "    fluxpoints_N.write(\n",
    "        f\"data/fluxpoints/2_fluxpoints_asimov_N.fits\", overwrite= True,\n",
    "    )\n",
    "    Models([dataset_asimov_N.models[0]]).write(\n",
    "        f\"data/fluxpoints/2_model_asimov_N.fits\", overwrite= True,\n",
    "    )\n",
    "    \n",
    "    fp_asimov = FluxPointsDataset(data = fluxpoints, models = Models([dataset_asimov.models[0]]))\n",
    "    fp_asimov_N = FluxPointsDataset(data = fluxpoints_N, models = Models([dataset_asimov_N.models[0]]))\n",
    "    \n",
    "else:\n",
    "    fp_asimov = FluxPointsDataset(data = FluxPoints.read(\"data/fluxpoints/2_fluxpoints_asimov.fits\"),\n",
    "                                 models = Models.read(\"data/fluxpoints/2_model_asimov.fits\"))\n",
    "    fp_asimov_N = FluxPointsDataset(data = FluxPoints.read(\"data/fluxpoints/2_fluxpoints_asimov_N.fits\"),\n",
    "                                 models = Models.read(\"data/fluxpoints/2_model_asimov_N.fits\"))"
   ]
  },
  {
   "cell_type": "code",
   "execution_count": null,
   "id": "39e60eef-f667-49c5-933f-bf13fd33cfb8",
   "metadata": {},
   "outputs": [],
   "source": [
    "fp_asimov = FluxPointsDataset(\n",
    "    data=FluxPoints.read(\"data/fluxpoints/2_fluxpoints_asimov.fits\"),\n",
    "    models=Models.read(\"data/fluxpoints/2_model_asimov.fits\"),\n",
    ")\n",
    "fp_asimov_N = FluxPointsDataset(\n",
    "    data=FluxPoints.read(\"data/fluxpoints/2_fluxpoints_asimov_N.fits\"),\n",
    "    models=Models.read(\"data/fluxpoints/2_model_asimov_N.fits\"),\n",
    ")\n",
    "\n",
    "\n",
    "energy_power = 2\n",
    "fig, axs = plt.subplots(2, 1, figsize=(4, 4), sharex=True, gridspec_kw={\"height_ratios\": [3, 1]},)\n",
    "plot_asimov_spectrum(fig, axs[0])\n",
    "fp_asimov_N.data.plot(energy_power=2, color=colors[1], ax=axs[0], capsize = 5)\n",
    "fp_asimov.data.plot(energy_power=2, color=colors[0], ax=axs[0], capsize = 5)\n",
    "\n",
    "\n",
    "fp_asimov.plot_residuals(ax =axs[1], color = colors[0], capsize = 5, marker = 'x')\n",
    "fp_asimov_N.plot_residuals(ax =axs[1], color = colors[1],  capsize = 5, marker = 'o')\n",
    "\n",
    "axs[0].set_xlim(0.3, 100)\n",
    "fig.savefig(\"plots/1_fluxpoints_spectrum.pdf\", bbox_inches=\"tight\")\n",
    "fig.savefig(\"plots/1_fluxpoints_spectrum.png\", bbox_inches=\"tight\")"
   ]
  },
  {
   "cell_type": "code",
   "execution_count": null,
   "id": "86a5bd83",
   "metadata": {},
   "outputs": [],
   "source": [
    "energy_bounds = (0.4, 100  ) * u.TeV\n",
    "\n",
    "fig,axs = plt.subplots(1,1,figsize = (4,3))\n",
    "energy_power=2\n",
    "dataset_input.models[0].spectral_model.plot(energy_bounds, energy_power = energy_power, ax =axs, \n",
    "                                label = \"Input\", color = 'black', linewidth = energy_power, linestyle=\"dotted\")\n",
    "dataset_asimov_N.models[0].spectral_model.plot(energy_bounds,  energy_power = energy_power, ax = axs,color = colors[1],\n",
    "                                                         label=\"Best Fit with Prior\",\n",
    "                                                        alpha = 0.95,\n",
    "                                                       linestyle='dashed', linewidth= 2)\n",
    "dataset_asimov_N.models[0].spectral_model.plot_error(energy_bounds,  energy_power = energy_power, ax = axs,\n",
    "                                                       facecolor=colors[3],\n",
    "                                                         label=\"$1\\sigma$ Error with Prior\",\n",
    "                                                        alpha = 0.6)\n",
    "\n",
    "dataset_asimov.models[0].spectral_model.plot(energy_bounds,  energy_power = energy_power, ax = axs,\n",
    "                                label = \"Best-Fit\", color = colors[0])\n",
    "\n",
    "dataset_asimov.models[0].spectral_model.plot_error(energy_bounds,  energy_power = energy_power, ax = axs,\n",
    "                                                       facecolor=colors[2],\n",
    "                                                          alpha = 0.9,\n",
    "                                                          label= \"$1\\sigma$ Error\"\n",
    "                                                         )\n",
    "\n",
    "axs.legend() \n",
    "plt.tight_layout()\n",
    "fig = plt.gcf()\n",
    "fig.savefig(\"plots/1_spectrum_comparison.png\", dpi = 300)"
   ]
  },
  {
   "cell_type": "markdown",
   "id": "7e20a05f",
   "metadata": {},
   "source": [
    "## Correlation Matrix"
   ]
  },
  {
   "cell_type": "code",
   "execution_count": null,
   "id": "cb8947ae",
   "metadata": {},
   "outputs": [],
   "source": [
    "ax = dataset_asimov_N.models.covariance.plot_correlation()\n"
   ]
  },
  {
   "cell_type": "code",
   "execution_count": null,
   "id": "18f3528a",
   "metadata": {},
   "outputs": [],
   "source": [
    "par_names = ['index', 'amplitude', 'lambda_', 'bias',  'norm' , 'tilt']\n",
    "\n",
    "#dataset_asimov_N.models.read_covariance(\"data\", f\"2_model_nui_covariance.dat\", format=\"ascii.fixed_width\")\n",
    "parameters = Parameters([_ for _ in dataset_asimov_N.models.parameters if _.name in par_names])\n",
    "cov_par = dataset_asimov_N.models.covariance.get_subcovariance(parameters)\n",
    "\n",
    "ax = cov_par.plot_correlation()\n",
    "plt.tight_layout()\n",
    "fig = plt.gcf()\n",
    "fig.savefig(\"plots/1_covmatrix_combination.png\")"
   ]
  },
  {
   "cell_type": "code",
   "execution_count": null,
   "id": "09cf69d2",
   "metadata": {},
   "outputs": [],
   "source": []
  }
 ],
 "metadata": {
  "kernelspec": {
   "display_name": "Python 3 (ipykernel)",
   "language": "python",
   "name": "python3"
  },
  "language_info": {
   "codemirror_mode": {
    "name": "ipython",
    "version": 3
   },
   "file_extension": ".py",
   "mimetype": "text/x-python",
   "name": "python",
   "nbconvert_exporter": "python",
   "pygments_lexer": "ipython3",
   "version": "3.9.16"
  }
 },
 "nbformat": 4,
 "nbformat_minor": 5
}
