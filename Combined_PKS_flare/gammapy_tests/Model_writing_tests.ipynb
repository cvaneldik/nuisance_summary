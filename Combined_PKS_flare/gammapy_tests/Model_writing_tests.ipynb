{
 "cells": [
  {
   "cell_type": "markdown",
   "id": "8114f3a7",
   "metadata": {},
   "source": [
    "### This notebook is to test the mulidimensional priors and how to serialise them. I want to have a very convientient method which is more or less based on the one that is currently disscussed in the PR. \n",
    "### Everything here is developed in the gammapy branch IRF_model "
   ]
  },
  {
   "cell_type": "code",
   "execution_count": 1,
   "id": "5bc476ec-b331-486e-85db-fe1c8324c5f8",
   "metadata": {},
   "outputs": [],
   "source": [
    "#get_ipython().system('jupyter nbconvert --to script 1-Nui_Par_Fitting.ipynb')\n",
    "import pyximport\n",
    "\n",
    "pyximport.install()\n",
    "import matplotlib.pyplot as plt\n",
    "import numpy as np\n",
    "import astropy.units as u\n",
    "from gammapy.maps import Map\n",
    "from astropy.coordinates import SkyCoord, Angle\n",
    "from gammapy.modeling import Fit,  Parameters, Covariance , Parameter\n",
    "from gammapy.datasets import MapDataset ,Datasets, FluxPointsDataset\n",
    "from gammapy.modeling.models import (\n",
    "    PowerLawSpectralModel,\n",
    "    SkyModel,\n",
    "    PointSpatialModel,\n",
    "    PowerLawNormSpectralModel,\n",
    "    Models,\n",
    "    SpatialModel,\n",
    "    FoVBackgroundModel,\n",
    "    PiecewiseNormSpectralModel,\n",
    ")\n",
    "from gammapy.estimators import TSMapEstimator, ExcessMapEstimator\n",
    "from gammapy.estimators import FluxPoints, FluxPointsEstimator\n",
    "\n",
    "from regions import CircleSkyRegion, RectangleSkyRegion\n",
    "import yaml\n",
    "import sys\n",
    "sys.path.append('../../')\n",
    "import Dataset_load \n",
    "\n",
    "from  Dataset_Setup import Setup, GaussianCovariance_matrix"
   ]
  },
  {
   "cell_type": "code",
   "execution_count": 2,
   "id": "6f19445f-bef2-4542-b2f2-7f44107a0f00",
   "metadata": {},
   "outputs": [],
   "source": [
    "from matplotlib import rc\n",
    "import matplotlib.pylab as plt\n",
    "\n",
    "rc('font', **{'family': 'serif', 'serif': ['Computer Modern']})\n",
    "rc('text', usetex=True)\n",
    "\n",
    "config = Dataset_load.load_config()\n",
    "colors = config[\"colors\"][\"three\"]\n",
    "import ast\n",
    "\n",
    "colors[1] = ast.literal_eval(colors[1])\n",
    "colors[2] = ast.literal_eval(colors[2])\n",
    "colors[3] = ast.literal_eval(colors[3])\n",
    "\n",
    "#import seaborn as sns\n",
    "\n",
    "\n",
    "alpha_nui = 0.99\n",
    "alpha_st = 0.99\n",
    "legendsscatter = [\"Asimov w/o nui.\", \"Asimov with nui.\"]\n",
    "legends = [\"\", \"\"]\n",
    "\n",
    "alpha_rnd = 0.2\n",
    "alpha_rnd_nui = 0.2\n",
    "\n",
    "nbins = 20"
   ]
  },
  {
   "cell_type": "code",
   "execution_count": 3,
   "id": "6d76167f-353a-4f5f-95f1-2f02a6c020a9",
   "metadata": {},
   "outputs": [
    {
     "name": "stdout",
     "output_type": "stream",
     "text": [
      "loaded dataset:\n",
      "/home/katrin/Documents/nuisance_summary/PKS_flare/HESS_public/dataset-simulated-pl.fits.gz\n"
     ]
    }
   ],
   "source": [
    "scaled_amplitude = Parameter(\"amplitude\", value=1e-12)\n",
    "#lambda_ = Parameter(\"lambda_\", value=1/60)\n",
    "\n",
    "dataset_input = Dataset_load.create_asimov(\n",
    "    model=\"pl\", \n",
    "    source=\"PKSflare\", \n",
    "    parameters=Parameters([scaled_amplitude])\n",
    ")\n",
    "source_model = dataset_input.models[0].copy()\n",
    "emask = dataset_input.mask.data.sum(axis=2).sum(axis=1)>0\n",
    "energy = dataset_input.geoms['geom'].axes[0].center\n",
    "energy_mask = dataset_input.geoms['geom'].axes[0].center[emask]"
   ]
  },
  {
   "cell_type": "markdown",
   "id": "4addf7eb",
   "metadata": {},
   "source": [
    "## Systematic Settings"
   ]
  },
  {
   "cell_type": "code",
   "execution_count": 4,
   "id": "69032e9d",
   "metadata": {},
   "outputs": [],
   "source": [
    "# bkg sys\n",
    "magnitude = 10 # in percent\n",
    "corrlength = 2 # correlation length  in terms of energy bins\n",
    "seed = 38\n",
    "\n",
    "bias = 0.1\n",
    "resolution= 0.\n",
    "norm = 0.1\n",
    "tilt = 0.02"
   ]
  },
  {
   "cell_type": "code",
   "execution_count": 5,
   "id": "e6025dd8",
   "metadata": {
    "scrolled": false
   },
   "outputs": [
    {
     "name": "stdout",
     "output_type": "stream",
     "text": [
      "DatasetModels\n",
      "\n",
      "Component 0: SkyModel\n",
      "\n",
      "  Name                      : aEaZD8Bs\n",
      "  Datasets names            : None\n",
      "  Spectral model type       : PowerLawSpectralModel\n",
      "  Spatial  model type       : PointSpatialModel\n",
      "  Temporal model type       : \n",
      "  Parameters:\n",
      "    index                         :      2.300   +/-    0.00             \n",
      "    amplitude                     :   1.00e-12   +/- 0.0e+00 1 / (TeV s cm2)\n",
      "    reference             (frozen):      1.000       TeV         \n",
      "    lon_0                         :    329.680   +/-    0.00 deg         \n",
      "    lat_0                         :    -30.222   +/-    0.00 deg         \n",
      "\n",
      "Component 1: IRFModels\n",
      "\n",
      "  Name                      : XdaPUnNU-irf\n",
      "  Datasets names            : XdaPUnNU\n",
      "  EReco  model type         : ERecoIRFModel\n",
      "  Eff area  model type      : EffAreaIRFModel\n",
      "  PSF model type            : \n",
      "  Parameters:\n",
      "    bias                          :      0.000   +/-    0.00             \n",
      "    resolution            (frozen):      0.000                   \n",
      "    norm                          :      0.000   +/-    0.00             \n",
      "    tilt                          :      0.000   +/-    0.00             \n",
      "    reference             (frozen):      1.000       TeV         \n",
      "\n",
      "Component 2: FoVBackgroundModel\n",
      "\n",
      "  Name                      : XdaPUnNU-bkg\n",
      "  Datasets names            : ['XdaPUnNU']\n",
      "  Spectral model type       : PiecewiseNormSpectralModel\n",
      "  Parameters:\n",
      "    _norm                 (frozen):      1.000                   \n",
      "    norm0                 (frozen):      0.000                   \n",
      "    norm1                 (frozen):      0.000                   \n",
      "    norm2                 (frozen):      0.000                   \n",
      "    norm3                 (frozen):      0.000                   \n",
      "    norm4                         :      0.000   +/-    0.00             \n",
      "    norm5                         :      0.000   +/-    0.00             \n",
      "    norm6                         :      0.000   +/-    0.00             \n",
      "    norm7                         :      0.000   +/-    0.00             \n",
      "    norm8                         :      0.000   +/-    0.00             \n",
      "    norm9                         :      0.000   +/-    0.00             \n",
      "    norm10                        :      0.000   +/-    0.00             \n",
      "    norm11                        :      0.000   +/-    0.00             \n",
      "    norm12                        :      0.000   +/-    0.00             \n",
      "    norm13                        :      0.000   +/-    0.00             \n",
      "    norm14                        :      0.000   +/-    0.00             \n",
      "    norm15                        :      0.000   +/-    0.00             \n",
      "    norm16                        :      0.000   +/-    0.00             \n",
      "    norm17                        :      0.000   +/-    0.00             \n",
      "    norm18                        :      0.000   +/-    0.00             \n",
      "    norm19                        :      0.000   +/-    0.00             \n",
      "    norm20                        :      0.000   +/-    0.00             \n",
      "    norm21                        :      0.000   +/-    0.00             \n",
      "    norm22                        :      0.000   +/-    0.00             \n",
      "    norm23                        :      0.000   +/-    0.00             \n",
      "\n",
      "\n"
     ]
    }
   ],
   "source": [
    "setup = Setup(dataset_input=dataset_input)\n",
    "#setup.set_up_irf_sys(bias, resolution, norm, tilt)\n",
    "dataset_asimov, dataset_asimov_N = setup.run()\n",
    "# irf model\n",
    "setup.set_irf_model(dataset_asimov_N)\n",
    "dataset_asimov_N.models.parameters['resolution'].frozen = True\n",
    "dataset_asimov_N.irf_model.parameters['tilt'].frozen = False\n",
    "\n",
    "\n",
    "setup.set_irf_prior(dataset_asimov_N, bias, resolution, norm, tilt)\n",
    "# piece wise model\n",
    "# remove old bkg model\n",
    "setup.unset_model(dataset_asimov_N, FoVBackgroundModel)\n",
    "setup.set_piecewise_bkg_model(dataset_asimov_N)\n",
    "setup.set_bkg_prior(dataset_asimov_N, magnitude, corrlength)\n",
    "# energy of the following parameters smaller than ethrshold\n",
    "dataset_asimov_N.background_model.parameters['norm0'].frozen = True\n",
    "dataset_asimov_N.background_model.parameters['norm1'].frozen = True\n",
    "dataset_asimov_N.background_model.parameters['norm2'].frozen = True\n",
    "dataset_asimov_N.background_model.parameters['norm3'].frozen = True\n",
    "print(dataset_asimov_N.models)"
   ]
  },
  {
   "cell_type": "code",
   "execution_count": 6,
   "id": "0bea8884",
   "metadata": {},
   "outputs": [
    {
     "name": "stdout",
     "output_type": "stream",
     "text": [
      "CPU times: user 128 ms, sys: 923 µs, total: 129 ms\n",
      "Wall time: 126 ms\n"
     ]
    }
   ],
   "source": [
    "%%time\n",
    "fit_sys = Fit()\n",
    "#fit_sys.run(dataset_asimov_N)\n",
    "dataset_asimov_N.models.write(\"test.yaml\", overwrite = True)\n"
   ]
  },
  {
   "cell_type": "markdown",
   "id": "93382bdc",
   "metadata": {},
   "source": [
    "## Read in the whole model: This is the endgoal :) "
   ]
  },
  {
   "cell_type": "code",
   "execution_count": 7,
   "id": "22cc38ff",
   "metadata": {
    "scrolled": false
   },
   "outputs": [],
   "source": [
    "model_read = Models.read(\"test.yaml\")"
   ]
  },
  {
   "cell_type": "code",
   "execution_count": 8,
   "id": "f150866e",
   "metadata": {},
   "outputs": [
    {
     "name": "stdout",
     "output_type": "stream",
     "text": [
      "<gammapy.modeling.parameter.Parameters object at 0x7f97a17d2e80>\n",
      "[  1406.14217965  -5592.09282613  12491.02753087 -20782.32194979\n",
      "  28818.48769322 -35336.17906024  39694.7381362  -41793.40528998\n",
      "  41874.06116254 -40336.0491627   37608.62290578 -34081.34436728\n",
      "  30076.68083831 -25848.00330881  21590.33128959 -17455.70570167\n",
      "  13568.33214024 -10036.4015403    6958.10620966  -4419.45822164\n",
      "   2482.09439609  -1161.84654458    405.0898453     -79.3291133 ]\n"
     ]
    }
   ],
   "source": [
    "print(model_read.parameters['norm1'].prior._modelparameters)\n",
    "print(model_read.parameters['norm1'].prior._covariance_matrix[0])"
   ]
  },
  {
   "cell_type": "code",
   "execution_count": null,
   "id": "09cf69d2",
   "metadata": {},
   "outputs": [],
   "source": []
  }
 ],
 "metadata": {
  "kernelspec": {
   "display_name": "Python 3 (ipykernel)",
   "language": "python",
   "name": "python3"
  },
  "language_info": {
   "codemirror_mode": {
    "name": "ipython",
    "version": 3
   },
   "file_extension": ".py",
   "mimetype": "text/x-python",
   "name": "python",
   "nbconvert_exporter": "python",
   "pygments_lexer": "ipython3",
   "version": "3.9.16"
  }
 },
 "nbformat": 4,
 "nbformat_minor": 5
}
