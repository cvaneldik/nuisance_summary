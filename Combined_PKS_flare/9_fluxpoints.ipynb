{
 "cells": [
  {
   "cell_type": "code",
   "execution_count": 1,
   "id": "c102068e",
   "metadata": {},
   "outputs": [
    {
     "name": "stdout",
     "output_type": "stream",
     "text": [
      "loaded gammapy version: 0.1.dev19174+g56b5bdf \n",
      "<module 'gammapy' from '/home/wecapstor1/caph/mppi045h/gammapy/gammapy/__init__.py'>\n"
     ]
    }
   ],
   "source": [
    "import gammapy \n",
    "print(f'loaded gammapy version: {gammapy.__version__} ' )\n",
    "print(gammapy)"
   ]
  },
  {
   "cell_type": "code",
   "execution_count": 2,
   "id": "27bf135a-5ee4-4ca1-8549-6bf07929003c",
   "metadata": {},
   "outputs": [],
   "source": [
    "from matplotlib import rc\n",
    "import matplotlib.pylab as plt\n",
    "\n",
    "rc('font', **{'family': 'serif', 'serif': ['Computer Modern']})\n",
    "rc('text', usetex=True)\n",
    "\n"
   ]
  },
  {
   "cell_type": "code",
   "execution_count": 3,
   "id": "e0c4dcf1",
   "metadata": {
    "tags": []
   },
   "outputs": [],
   "source": [
    "#get_ipython().system('jupyter nbconvert --to script 1-Nui_Par_Fitting.ipynb')\n",
    "import pyximport\n",
    "\n",
    "pyximport.install()\n",
    "import matplotlib.pyplot as plt\n",
    "import numpy as np\n",
    "import astropy.units as u\n",
    "import gammapy\n",
    "\n",
    "# from gammapy.datasets import MapDataset\n",
    "from gammapy.maps import Map\n",
    "from astropy.coordinates import SkyCoord, Angle\n",
    "from gammapy.modeling import Fit,  Parameters, Covariance , Parameter\n",
    "from gammapy.datasets import MapDataset ,Datasets, FluxPointsDataset#, MapDatasetNuisance\n",
    "from gammapy.modeling.models import (\n",
    "    PowerLawSpectralModel,\n",
    "    create_crab_spectral_model,\n",
    "    SkyModel,\n",
    "    PointSpatialModel,\n",
    "    ShellSpatialModel,\n",
    "    GeneralizedGaussianSpatialModel,\n",
    "    TemplateSpatialModel,\n",
    "    LogParabolaSpectralModel,\n",
    "    GaussianSpatialModel,\n",
    "    DiskSpatialModel,\n",
    "    PowerLawNormSpectralModel,\n",
    "    Models,\n",
    "    SpatialModel,\n",
    "    FoVBackgroundModel,\n",
    "    #PowerLawNuisanceSpectralModel,\n",
    "    #PowerLawNormNuisanceSpectralModel\n",
    ")\n",
    "from gammapy.estimators import TSMapEstimator, ExcessMapEstimator, FluxPointsEstimator, FluxPoints\n",
    "\n",
    "from regions import CircleSkyRegion, RectangleSkyRegion\n",
    "import yaml\n",
    "import sys\n",
    "sys.path.append('/home/katrin/Documents/nuisance_summary/')\n",
    "sys.path.append('../')\n",
    "from Dataset_Creation import sys_dataset\n",
    "import Dataset_load "
   ]
  },
  {
   "cell_type": "code",
   "execution_count": 4,
   "id": "24f04d54-65ea-4d52-a829-0331908825eb",
   "metadata": {},
   "outputs": [],
   "source": [
    "config = Dataset_load.load_config()\n",
    "colors = config['colors']['one']"
   ]
  },
  {
   "cell_type": "markdown",
   "id": "23adcef0",
   "metadata": {},
   "source": [
    "## Read dataset"
   ]
  },
  {
   "cell_type": "code",
   "execution_count": 5,
   "id": "f94dc89c",
   "metadata": {},
   "outputs": [
    {
     "name": "stdout",
     "output_type": "stream",
     "text": [
      "loaded dataset:\n",
      "/home/wecapstor1/caph/mppi045h/nuisance_summary/PKS_flare/HESS_public/dataset-simulated-pl.fits.gz\n"
     ]
    }
   ],
   "source": [
    "scaled_amplitude = Parameter('amplitude', \n",
    "                             value = 1e-12)\n",
    "dataset_asimov  = Dataset_load.create_asimov(model = 'pl', source = \"PKSflare\", \n",
    "                                            parameters = Parameters([scaled_amplitude]))\n"
   ]
  },
  {
   "cell_type": "markdown",
   "id": "2e0399d4",
   "metadata": {},
   "source": [
    "## Asimov Cases"
   ]
  },
  {
   "cell_type": "code",
   "execution_count": 6,
   "id": "007fe486",
   "metadata": {},
   "outputs": [],
   "source": [
    "true_energy = dataset_asimov.exposure.geom.axes[0].center.value\n",
    "\n",
    "\n",
    "shift_as = 0.1\n",
    "tilt_as = 0.02\n",
    "bias_as, resolution_as = 0.1,0.1\n",
    "bkg_norm_as, bkg_tilt_as = 0.1, 0.02\n"
   ]
  },
  {
   "cell_type": "code",
   "execution_count": 7,
   "id": "59178c0f",
   "metadata": {},
   "outputs": [],
   "source": [
    "sys_d_cor = sys_dataset(dataset_asimov= dataset_asimov,\n",
    "                        shift = 0., \n",
    "                        tilt = 0.,\n",
    "                        bias = 0.,\n",
    "                        resolution = 0.,\n",
    "                        bkg_norm = 0., \n",
    "                        bkg_tilt = 0., \n",
    "                        rnd = False,\n",
    "                        e_reco_creation=100)\n",
    "dataset_cor_N = sys_d_cor.create_dataset_N(100)\n",
    "dataset_cor = sys_d_cor.create_dataset()\n",
    "\n",
    "\n",
    "\n",
    "\n",
    "zero = 1e-24\n",
    "    \n",
    "## addional parameter bias and resolution (ereco) but are frozen\n",
    "penalising_invcovmatrix = np.zeros((6, 6))\n",
    "np.fill_diagonal(penalising_invcovmatrix,\n",
    "                 [1/bkg_norm_as ** 2, 1/ bkg_tilt_as**2 ,1/bias_as**2, 1/resolution_as**2, 1/shift_as**2, 1/tilt_as**2, ])\n",
    "\n",
    "dataset_cor_N.penalising_invcovmatrix = penalising_invcovmatrix\n",
    "dataset_cor_N.background_model.parameters['tilt_nuisance'].frozen = False\n",
    "dataset_cor_N.irf_model.parameters['tilt_nuisance'].frozen = False\n",
    "\n"
   ]
  },
  {
   "cell_type": "code",
   "execution_count": 8,
   "id": "1f7bf0c0-d725-43f3-b58d-0e15f4e2c6e1",
   "metadata": {},
   "outputs": [
    {
     "name": "stdout",
     "output_type": "stream",
     "text": [
      "read\n",
      "CPU times: user 717 ms, sys: 2.43 s, total: 3.15 s\n",
      "Wall time: 105 ms\n"
     ]
    }
   ],
   "source": [
    "%%time\n",
    "fitting = 0\n",
    "\n",
    "if fitting:\n",
    "\n",
    "    print(\"corr\")\n",
    "    fit_cor = Fit(store_trace=True)\n",
    "    #minuit_opts = {\"tol\": 0.001, \"strategy\": 2}\n",
    "    #fit_cor.optimize_opts = minuit_opts\n",
    "    result_cor = fit_cor.run(dataset_cor)\n",
    "    dataset_cor.models.covariance = fit_cor.covariance(dataset_cor).matrix\n",
    "    dataset_cor.models.covariance.plot_correlation()\n",
    "    print(fit_cor.minuit)\n",
    "    \n",
    "    path = f'data/2_model.yml'\n",
    "    dataset_cor.models.write(path,overwrite=True)\n",
    "    \n",
    "else:\n",
    "    print(\"read\")\n",
    "    path = f'data/2_model.yml'\n",
    "    dataset_cor = Dataset_load.load_dataset(dataset_cor, path)        \n",
    "         \n",
    "    \n",
    "\n"
   ]
  },
  {
   "cell_type": "code",
   "execution_count": 9,
   "id": "1ac3ce9d",
   "metadata": {
    "scrolled": true
   },
   "outputs": [
    {
     "name": "stdout",
     "output_type": "stream",
     "text": [
      "read\n",
      "CPU times: user 88.1 ms, sys: 11.2 ms, total: 99.3 ms\n",
      "Wall time: 99.6 ms\n"
     ]
    }
   ],
   "source": [
    "%%time\n",
    "fitting = 0\n",
    "#13min 25s\n",
    "\n",
    "if fitting:\n",
    "\n",
    "    print(\"corr\")\n",
    "    fit_cor = Fit(store_trace=True)\n",
    "    #minuit_opts = {\"tol\": 0.001, \"strategy\": 2}\n",
    "    #fit_cor.optimize_opts = minuit_opts\n",
    "    result_cor = fit_cor.run(dataset_cor_N)\n",
    "    dataset_cor_N.models.covariance = fit_cor.covariance(dataset_cor_N).matrix\n",
    "    dataset_cor_N.models.covariance.plot_correlation()\n",
    "    print(fit_cor.minuit)\n",
    "    \n",
    "    path = f'data/2_model_nui.yml'\n",
    "    dataset_cor_N.models.write(path,overwrite=True, )\n",
    "    \n",
    "else:\n",
    "    print(\"read\")\n",
    "    path = f'data/2_model_nui.yml'\n",
    "    dataset_cor_N = Dataset_load.load_dataset_N(dataset_cor_N, path, bkg_sys = True)        \n",
    "         \n",
    "    \n",
    "\n"
   ]
  },
  {
   "cell_type": "code",
   "execution_count": 10,
   "id": "1baa541e",
   "metadata": {},
   "outputs": [
    {
     "data": {
      "image/png": "[encoded data removed]",
      "text/plain": [
       "<Figure size 400x300 with 1 Axes>"
      ]
     },
     "metadata": {},
     "output_type": "display_data"
    }
   ],
   "source": [
    "energy_bounds = (true_energy[0], true_energy[-1] ) * u.TeV\n",
    "\n",
    "fig,axs = plt.subplots(1,1,figsize = (4,3))\n",
    "energy_power=2\n",
    "dataset_asimov.models[0].spectral_model.plot(energy_bounds, energy_power = energy_power, ax =axs, \n",
    "                                label = \"Input\", color = 'black', linewidth = energy_power, linestyle=\"dotted\")\n",
    "dataset_cor_N.models[0].spectral_model.plot(energy_bounds,  energy_power = energy_power, ax = axs,color = colors[1],\n",
    "                                                         label=\"Best Fit with Prior\",\n",
    "                                                        alpha = 0.95,\n",
    "                                                       linestyle='dashed', linewidth= 2)\n",
    "dataset_cor_N.models[0].spectral_model.plot_error(energy_bounds,  energy_power = energy_power, ax = axs,\n",
    "                                                       facecolor=colors[3],\n",
    "                                                         label=\"$1\\sigma$ Error with Prior\",\n",
    "                                                        alpha = 0.6)\n",
    "\n",
    "dataset_cor.models[0].spectral_model.plot(energy_bounds,  energy_power = energy_power, ax = axs,\n",
    "                                label = \"Best-Fit\", color = colors[0])\n",
    "\n",
    "dataset_cor.models[0].spectral_model.plot_error(energy_bounds,  energy_power = energy_power, ax = axs,\n",
    "                                                       facecolor=colors[2],\n",
    "                                                          alpha = 0.9,\n",
    "                                                          label= \"$1\\sigma$ Error\"\n",
    "                                                         )\n",
    "\n",
    "axs.legend() \n",
    "plt.tight_layout()\n",
    "fig = plt.gcf()\n",
    "fig.savefig(\"plots/2_spectrum_comparison.png\", dpi = 300)"
   ]
  },
  {
   "cell_type": "markdown",
   "id": "c4ddd994-d9ea-4f01-a305-244d2eea5420",
   "metadata": {},
   "source": [
    "## Fluxpoints"
   ]
  },
  {
   "cell_type": "code",
   "execution_count": 11,
   "id": "3c698483-6eea-4151-8649-29cbbdf1847a",
   "metadata": {},
   "outputs": [
    {
     "data": {
      "text/latex": [
       "$[0.36517413,~0.48696753,~0.64938163,~0.86596432,~1.154782,~1.5399265,~2.053525,~2.7384196,~3.6517413,~4.8696753,~6.4938163,~8.6596432,~11.54782,~15.399265,~20.53525,~27.384196,~36.517413,~48.696753,~64.938163,~86.596432] \\; \\mathrm{TeV}$"
      ],
      "text/plain": [
       "<Quantity [ 0.36517413,  0.48696753,  0.64938163,  0.86596432,  1.15478198,\n",
       "            1.53992653,  2.05352503,  2.73841963,  3.65174127,  4.86967525,\n",
       "            6.49381632,  8.65964323, 11.54781985, 15.39926526, 20.53525026,\n",
       "           27.38419634, 36.51741273, 48.69675252, 64.93816316, 86.59643234] TeV>"
      ]
     },
     "execution_count": 11,
     "metadata": {},
     "output_type": "execute_result"
    }
   ],
   "source": [
    "maski = dataset_asimov.mask.data.sum(axis=2).sum(axis=1) >0\n",
    "dataset_asimov.geoms['geom'].axes[0].center[maski]"
   ]
  },
  {
   "cell_type": "code",
   "execution_count": 16,
   "id": "83e84ef3-f7ef-4804-9248-b5369c046bdb",
   "metadata": {},
   "outputs": [
    {
     "name": "stdout",
     "output_type": "stream",
     "text": [
      "[1.00000000e-01 2.37137371e-01 5.62341325e-01 1.33352143e+00\n",
      " 3.16227766e+00 7.49894209e+00 1.77827941e+01 4.21696503e+01\n",
      " 1.00000000e+02] TeV\n"
     ]
    }
   ],
   "source": [
    "energy_edges = dataset_asimov.geoms['geom'].axes[0].edges[::3]\n",
    "print(energy_edges)\n",
    "fpe = FluxPointsEstimator(energy_edges=energy_edges,\n",
    "                         selection_optional = [\"errn-errp\"])"
   ]
  },
  {
   "cell_type": "code",
   "execution_count": 18,
   "id": "3b114d2b-33b9-4f6f-9ce7-278ed453d65c",
   "metadata": {},
   "outputs": [
    {
     "name": "stdout",
     "output_type": "stream",
     "text": [
      "\n",
      "0.10000000000000002 TeV 0.23713737056616552 TeV\n",
      "norm 1.0 0\n",
      "\n",
      "0.23713737056616552 TeV 0.5623413251903491 TeV\n",
      "norm 1.0038201173927026 0.13934690423276416\n",
      "\n",
      "0.5623413251903491 TeV 1.333521432163324 TeV\n",
      "norm 0.9996354377013149 0.074170747589359\n",
      "\n",
      "1.333521432163324 TeV 3.1622776601683795 TeV\n",
      "norm 0.9981496748419194 0.08807284866486066\n",
      "\n",
      "3.1622776601683795 TeV 7.498942093324559 TeV\n",
      "norm 0.9977148969740786 0.1265466442918849\n",
      "\n",
      "7.498942093324559 TeV 17.78279410038923 TeV\n",
      "norm 0.9971636550784858 0.19243931643890733\n",
      "\n",
      "17.78279410038923 TeV 42.169650342858226 TeV\n",
      "norm 0.9962989930941627 0.30080461128204256\n",
      "\n",
      "42.169650342858226 TeV 100.00000000000004 TeV\n",
      "norm 1.0402399398859323 0.5431418195850349\n",
      "CPU times: user 9.26 s, sys: 495 ms, total: 9.75 s\n",
      "Wall time: 9.77 s\n"
     ]
    },
    {
     "data": {
      "text/html": [
       "<div><i>Table length=8</i>\n",
       "<table id=\"table139744289013712\" class=\"table-striped table-bordered table-condensed\">\n",
       "<thead><tr><th>e_ref</th><th>e_min</th><th>e_max</th><th>ref_dnde</th><th>ref_flux</th><th>ref_eflux</th><th>norm</th><th>norm_err</th><th>ts</th><th>sqrt_ts</th><th>npred</th><th>npred_excess</th><th>stat</th><th>is_ul</th><th>counts</th><th>success</th></tr></thead>\n",
       "<thead><tr><th>TeV</th><th>TeV</th><th>TeV</th><th>1 / (cm2 s TeV)</th><th>1 / (cm2 s)</th><th>TeV / (cm2 s)</th><th></th><th></th><th></th><th></th><th></th><th></th><th></th><th></th><th></th><th></th></tr></thead>\n",
       "<thead><tr><th>float64</th><th>float64</th><th>float64</th><th>float64</th><th>float64</th><th>float64</th><th>float64</th><th>float64</th><th>float64</th><th>float64</th><th>float64[1]</th><th>float32[1]</th><th>float64</th><th>bool</th><th>float64[1]</th><th>bool</th></tr></thead>\n",
       "<tr><td>0.15399265260594924</td><td>0.10000000000000002</td><td>0.23713737056616552</td><td>7.399873464870835e-11</td><td>1.0364130223897406e-11</td><td>1.5194406250342508e-12</td><td>nan</td><td>nan</td><td>nan</td><td>nan</td><td>nan</td><td>0.0</td><td>0.0</td><td>True</td><td>0.0</td><td>False</td></tr>\n",
       "<tr><td>0.36517412725483767</td><td>0.23713737056616552</td><td>0.5623413251903491</td><td>1.0157221698961999e-11</td><td>3.373521633121304e-12</td><td>1.1728281253564422e-12</td><td>1.0038201173927026</td><td>0.13934690423276416</td><td>67.63416632707231</td><td>8.223999411908558</td><td>122784.15428243541</td><td>232.17508</td><td>121519.37111248635</td><td>False</td><td>122783.0</td><td>True</td></tr>\n",
       "<tr><td>0.8659643233600653</td><td>0.5623413251903491</td><td>1.333521432163324</td><td>1.394201578332869e-12</td><td>1.0980803949082147e-12</td><td>9.052843454123779e-13</td><td>0.9996354377013149</td><td>0.074170747589359</td><td>287.7434471596207</td><td>16.96300230382643</td><td>154210.25345620024</td><td>532.2086</td><td>221212.49903996516</td><td>False</td><td>154209.0</td><td>True</td></tr>\n",
       "<tr><td>2.0535250264571463</td><td>1.333521432163324</td><td>3.1622776601683795</td><td>1.913710361588845e-13</td><td>3.574248766758758e-13</td><td>6.987722483203969e-13</td><td>0.9981496748419194</td><td>0.08807284866486066</td><td>229.58743443823187</td><td>15.152142899215011</td><td>83324.99876365907</td><td>333.3301</td><td>219705.12850862995</td><td>False</td><td>83324.0</td><td>True</td></tr>\n",
       "<tr><td>4.869675251658632</td><td>3.1622776601683795</td><td>7.498942093324559</td><td>2.6267990260287376e-14</td><td>1.1634170235544858e-13</td><td>5.393693788003353e-13</td><td>0.9977148969740786</td><td>0.1265466442918849</td><td>127.6495839561976</td><td>11.298211537946951</td><td>36011.73759624765</td><td>141.5824</td><td>158845.90401770076</td><td>False</td><td>36011.0</td><td>True</td></tr>\n",
       "<tr><td>11.547819846894583</td><td>7.498942093324559</td><td>17.78279410038923</td><td>3.605599500133754e-15</td><td>3.786919319339407e-14</td><td>4.163292510352658e-13</td><td>0.9971636550784858</td><td>0.19243931643890733</td><td>68.95664269085682</td><td>8.304013649486423</td><td>13862.816955054024</td><td>49.722603</td><td>88046.24383789593</td><td>False</td><td>13862.0</td><td>True</td></tr>\n",
       "<tr><td>27.384196342643612</td><td>17.78279410038923</td><td>42.169650342858226</td><td>4.949121583549176e-16</td><td>1.2326412318922399e-14</td><td>3.2135685131607915e-13</td><td>0.9962989930941627</td><td>0.30080461128204256</td><td>40.23483664883679</td><td>6.343093618167463</td><td>3723.4085003094638</td><td>15.665514</td><td>33167.57879909449</td><td>False</td><td>3723.0</td><td>True</td></tr>\n",
       "<tr><td>64.93816315762116</td><td>42.169650342858226</td><td>100.00000000000004</td><td>6.793268206256308e-17</td><td>4.012243933482756e-15</td><td>2.480494119281496e-13</td><td>1.0402399398859323</td><td>0.5431418195850349</td><td>17.812024109548474</td><td>4.220429375021986</td><td>631.3101518049644</td><td>4.4823895</td><td>7692.377864443894</td><td>False</td><td>631.0</td><td>True</td></tr>\n",
       "</table></div>"
      ],
      "text/plain": [
       "<Table length=8>\n",
       "       e_ref               e_min               e_max               ref_dnde               ref_flux        ...        stat        is_ul   counts   success\n",
       "        TeV                 TeV                 TeV            1 / (cm2 s TeV)          1 / (cm2 s)       ...                                            \n",
       "      float64             float64             float64              float64                float64         ...      float64        bool float64[1]   bool \n",
       "------------------- ------------------- ------------------- ---------------------- ---------------------- ... ------------------ ----- ---------- -------\n",
       "0.15399265260594924 0.10000000000000002 0.23713737056616552  7.399873464870835e-11 1.0364130223897406e-11 ...                0.0  True        0.0   False\n",
       "0.36517412725483767 0.23713737056616552  0.5623413251903491 1.0157221698961999e-11  3.373521633121304e-12 ... 121519.37111248635 False   122783.0    True\n",
       " 0.8659643233600653  0.5623413251903491   1.333521432163324  1.394201578332869e-12 1.0980803949082147e-12 ... 221212.49903996516 False   154209.0    True\n",
       " 2.0535250264571463   1.333521432163324  3.1622776601683795  1.913710361588845e-13  3.574248766758758e-13 ... 219705.12850862995 False    83324.0    True\n",
       "  4.869675251658632  3.1622776601683795   7.498942093324559 2.6267990260287376e-14 1.1634170235544858e-13 ... 158845.90401770076 False    36011.0    True\n",
       " 11.547819846894583   7.498942093324559   17.78279410038923  3.605599500133754e-15  3.786919319339407e-14 ...  88046.24383789593 False    13862.0    True\n",
       " 27.384196342643612   17.78279410038923  42.169650342858226  4.949121583549176e-16 1.2326412318922399e-14 ...  33167.57879909449 False     3723.0    True\n",
       "  64.93816315762116  42.169650342858226  100.00000000000004  6.793268206256308e-17  4.012243933482756e-15 ...  7692.377864443894 False      631.0    True"
      ]
     },
     "execution_count": 18,
     "metadata": {},
     "output_type": "execute_result"
    }
   ],
   "source": [
    "%%time\n",
    "compute = 1\n",
    "if compute:\n",
    "    fp = fpe.run(dataset_cor)\n",
    "    fp.write(\"data/9_fp.fits\", overwrite = True)\n",
    "else:\n",
    "    fp = FluxPoints.read(\"data/9_fp.fits\")\n",
    "fp.to_table()    "
   ]
  },
  {
   "cell_type": "code",
   "execution_count": 19,
   "id": "b8553134-7e37-4c9a-ad73-be34b960ce07",
   "metadata": {},
   "outputs": [
    {
     "name": "stdout",
     "output_type": "stream",
     "text": [
      "\n",
      "0.10000000000000002 TeV 0.23713737056616552 TeV\n",
      "norm 1.0 0\n",
      "norm_nuisance -4.7620667865045054e-07 0.10058613207708739\n",
      "tilt_nuisance -6.023061375881569e-08 0.017744974238769817\n",
      "bias 0.0005814995092262237 0.0502637940762969\n",
      "resolution 0.0023166273097649046 0.09463587903990048\n",
      "norm_nuisance -4.7620667865045054e-07 0.10058613207708739\n",
      "tilt_nuisance -6.023061375881569e-08 0.017744974238769817\n",
      "freeze for error\n",
      "freeze for error\n",
      "freeze for error\n",
      "freeze for error\n",
      "freeze for error\n",
      "freeze for error\n",
      "\n",
      "0.23713737056616552 TeV 0.5623413251903491 TeV\n",
      "norm 1.0260303840639426 0.18165416982349702\n",
      "norm_nuisance -4.794375505575649e-07 0.012100148284257182\n",
      "tilt_nuisance -6.024822663533215e-08 0.014206117917985378\n",
      "bias 0.003476903786030539 0.033911054224773196\n",
      "resolution -0.002403406949006514 0.06890394136547243\n",
      "norm_nuisance -4.7622756292650403e-07 0.10090103588803807\n",
      "tilt_nuisance -6.022874854679369e-08 0.020014573150357706\n",
      "freeze for error\n",
      "freeze for error\n",
      "freeze for error\n",
      "freeze for error\n",
      "freeze for error\n",
      "freeze for error\n",
      "\n",
      "0.5623413251903491 TeV 1.333521432163324 TeV\n",
      "norm 1.0112540593513062 0.11878032470487926\n",
      "norm_nuisance -1.014250143259613e-05 0.0029015032629932666\n",
      "tilt_nuisance 4.646336801538548e-05 0.008915296633607918\n",
      "bias 0.00018640469878036732 0.00015513091167860187\n",
      "resolution 0.0008315228950805955 0.053780002742692\n",
      "norm_nuisance -0.0006443553269917943 0.09280324483755281\n",
      "tilt_nuisance 8.566324859317649e-05 0.018778156114422153\n",
      "freeze for error\n",
      "freeze for error\n",
      "freeze for error\n",
      "freeze for error\n",
      "freeze for error\n",
      "freeze for error\n",
      "\n",
      "1.333521432163324 TeV 3.1622776601683795 TeV\n",
      "norm 1.0119153789216684 0.12269572276105441\n",
      "norm_nuisance -5.467599777519319e-06 0.008656441050808893\n",
      "tilt_nuisance -1.1051354558281731e-05 0.01204010394513528\n",
      "bias -0.0010002871503130967 0.0010367269007095883\n",
      "resolution -0.002155478229205145 0.05860751323324883\n",
      "norm_nuisance -6.7805975319531835e-06 0.10047010307447049\n",
      "tilt_nuisance -2.232443596094782e-05 0.02001743750324129\n",
      "freeze for error\n",
      "freeze for error\n",
      "freeze for error\n",
      "freeze for error\n",
      "freeze for error\n",
      "freeze for error\n",
      "\n",
      "3.1622776601683795 TeV 7.498942093324559 TeV\n",
      "norm 1.0156078988194273 0.1595291312349674\n",
      "norm_nuisance -7.700748566187324e-05 0.022339989759857116\n",
      "tilt_nuisance -5.372481848092464e-05 0.01427865004368114\n",
      "bias -0.0011977295815137545 0.00020744973900740463\n",
      "resolution 0.001478352631628652 0.02224358685968252\n",
      "norm_nuisance -6.248182149435092e-05 0.09814001562512448\n",
      "tilt_nuisance -3.174103037164463e-05 0.01987378506866711\n",
      "freeze for error\n",
      "freeze for error\n",
      "freeze for error\n",
      "freeze for error\n",
      "freeze for error\n",
      "freeze for error\n",
      "\n",
      "7.498942093324559 TeV 17.78279410038923 TeV\n",
      "norm 1.0176315435983039 0.22972510783405972\n",
      "norm_nuisance -4.762102706070424e-07 0.03956262074252567\n",
      "tilt_nuisance -6.024001691775658e-08 0.01638291136514454\n",
      "bias -0.0011441035088770248 0.0036686572583441105\n",
      "resolution -0.0012803658854674811 0.08856990845566295\n",
      "norm_nuisance -4.763616180056139e-07 0.10020336175759534\n",
      "tilt_nuisance -6.023292320827228e-08 0.019994919800974377\n",
      "freeze for error\n",
      "freeze for error\n",
      "freeze for error\n",
      "freeze for error\n",
      "freeze for error\n",
      "freeze for error\n",
      "\n",
      "17.78279410038923 TeV 42.169650342858226 TeV\n",
      "norm 1.01545645917948 0.3458217537369646\n",
      "norm_nuisance -4.762066758134601e-07 0.054086656673600755\n",
      "tilt_nuisance -6.023061384724041e-08 0.01648854590721902\n",
      "bias -0.0005214257515948383 0.07372278624970256\n",
      "resolution -0.0006856230317110108 0.09290735193892943\n",
      "norm_nuisance -4.762066753250632e-07 0.10006220130595304\n",
      "tilt_nuisance -6.023061385880769e-08 0.020023703411520877\n",
      "freeze for error\n",
      "freeze for error\n",
      "freeze for error\n",
      "freeze for error\n",
      "freeze for error\n",
      "freeze for error\n",
      "\n",
      "42.169650342858226 TeV 100.00000000000004 TeV\n",
      "norm 1.0556750504028933 0.568239757180143\n",
      "norm_nuisance -4.7620667732095123e-07 0.06686665429646857\n",
      "tilt_nuisance -6.023061381651225e-08 0.01596357152569233\n",
      "bias 0.003047991145601138 0.03751396383400797\n",
      "resolution -0.0003101773695157053 0.05331312951799217\n",
      "norm_nuisance -4.7620667462406545e-07 0.10006069456343686\n",
      "tilt_nuisance -6.02306139402779e-08 0.02000897143181587\n",
      "freeze for error\n",
      "freeze for error\n",
      "freeze for error\n",
      "freeze for error\n",
      "freeze for error\n",
      "freeze for error\n",
      "CPU times: user 41min 59s, sys: 1h 27min 20s, total: 2h 9min 19s\n",
      "Wall time: 22min 15s\n"
     ]
    }
   ],
   "source": [
    "%%time\n",
    "compute_N = 1\n",
    "if compute_N:\n",
    "    fp_N = fpe.run(dataset_cor_N)\n",
    "    fp_N.write(\"data/9_fp_N.fits\", overwrite= True)\n",
    "else:\n",
    "    fp_N = FluxPoints.read(\"data/9_fp_N.fits\")"
   ]
  },
  {
   "cell_type": "code",
   "execution_count": 72,
   "id": "52a9862d-8620-4e03-ba41-2b0914b9d550",
   "metadata": {},
   "outputs": [],
   "source": [
    "fp_dataset = FluxPointsDataset(data = fp,\n",
    "                              models = dataset_cor.models[0])\n",
    "\n",
    "fp_dataset_N = FluxPointsDataset(data = fp_N,\n",
    "                              models = dataset_cor_N.models[0])\n",
    "\n",
    "fp_N_s = FluxPoints.read(\"data/9_fp_N.fits\")\n",
    "from astropy.table import Table\n",
    "\n",
    "table = fp_N_s.to_table()\n",
    "table['e_min'] *=1.1\n",
    "table['e_max'] *=1.1\n",
    "\n",
    "\n",
    "fp_N_ss = FluxPoints.from_table(table)\n",
    "fp_N_ss.energy_ref\n",
    "\n",
    "fp_dataset_N_2 = FluxPointsDataset(data = fp_N_ss, models = dataset_cor_N.models[0])\n"
   ]
  },
  {
   "cell_type": "code",
   "execution_count": 73,
   "id": "c2455d79-3497-46db-b0da-5cd957b51961",
   "metadata": {},
   "outputs": [
    {
     "data": {
      "text/plain": [
       "['mediumvioletred', 'midnightblue', 'palevioletred', 'cornflowerblue']"
      ]
     },
     "execution_count": 73,
     "metadata": {},
     "output_type": "execute_result"
    }
   ],
   "source": [
    "colors\n"
   ]
  },
  {
   "cell_type": "code",
   "execution_count": 77,
   "id": "c6baf275-35bf-4a97-b548-8a749a17dae8",
   "metadata": {},
   "outputs": [
    {
     "name": "stdout",
     "output_type": "stream",
     "text": [
      "['midnightblue', 'cornflowerblue']\n",
      "['mediumvioletred', 'palevioletred']\n"
     ]
    },
    {
     "data": {
      "image/png": "[encoded data removed]",
      "text/plain": [
       "<Figure size 640x480 with 2 Axes>"
      ]
     },
     "metadata": {},
     "output_type": "display_data"
    }
   ],
   "source": [
    "color = 'tab:blue'\n",
    "energy_power = 2\n",
    "def plot(fp_dataset, colors_, label,axs=None):\n",
    "    print(colors_)\n",
    "    if axs is None:\n",
    "        fig, (ax1, ax2) = plt.subplots(2,1, height_ratios=(4,1))\n",
    "    else:\n",
    "        (ax1, ax2) = axs\n",
    "    fp_dataset.models[0].spectral_model.plot(energy_bounds = energy_bounds, \n",
    "                                            color = colors_[0],\n",
    "                                            energy_power = energy_power,\n",
    "                                             ax = ax1,\n",
    "                                           )\n",
    "\n",
    "\n",
    "    fp_dataset.models[0].spectral_model.plot_error(energy_bounds = energy_bounds, \n",
    "                                            facecolor = colors_[1], \n",
    "                                                  alpha = 0.6,\n",
    "                                                  energy_power = energy_power,\n",
    "                                                  ax =ax1)\n",
    "    fp_dataset.data.plot(energy_power=energy_power, color= colors_[0], ax = ax1,\n",
    "                         label = label)\n",
    "\n",
    "    fp_dataset.plot_residuals(color = colors_[0],ax = ax2, label = label,\n",
    "                             method = 'diff/model')\n",
    "    ax1.set_xlim(ax2.get_xlim()[0], ax2.get_xlim()[1], )\n",
    "    ax1.legend(); \n",
    "    return (ax1, ax2)\n",
    "ax  = plot(fp_dataset_N, colors_ = [colors[1], colors[3]], label = \"With Sys.\")\n",
    "plot(fp_dataset, colors_ = [colors[0], colors[2]], axs=ax , label = \"Without Sys.\")\n",
    "plt.tight_layout()\n",
    "fig = plt.gcf()\n",
    "fig.savefig('plots/9_flux.pdf')"
   ]
  },
  {
   "cell_type": "code",
   "execution_count": null,
   "id": "3fb9d35b-aa95-42eb-a933-315fbc91e522",
   "metadata": {},
   "outputs": [],
   "source": []
  }
 ],
 "metadata": {
  "kernelspec": {
   "display_name": "Python 3 (ipykernel)",
   "language": "python",
   "name": "python3"
  },
  "language_info": {
   "codemirror_mode": {
    "name": "ipython",
    "version": 3
   },
   "file_extension": ".py",
   "mimetype": "text/x-python",
   "name": "python",
   "nbconvert_exporter": "python",
   "pygments_lexer": "ipython3",
   "version": "3.8.16"
  },
  "varInspector": {
   "cols": {
    "lenName": 16,
    "lenType": 16,
    "lenVar": 40
   },
   "kernels_config": {
    "python": {
     "delete_cmd_postfix": "",
     "delete_cmd_prefix": "del ",
     "library": "var_list.py",
     "varRefreshCmd": "print(var_dic_list())"
    },
    "r": {
     "delete_cmd_postfix": ") ",
     "delete_cmd_prefix": "rm(",
     "library": "var_list.r",
     "varRefreshCmd": "cat(var_dic_list()) "
    }
   },
   "types_to_exclude": [
    "module",
    "function",
    "builtin_function_or_method",
    "instance",
    "_Feature"
   ],
   "window_display": false
  }
 },
 "nbformat": 4,
 "nbformat_minor": 5
}
