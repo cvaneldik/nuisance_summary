{
 "cells": [
  {
   "cell_type": "code",
   "execution_count": 1,
   "id": "c102068e",
   "metadata": {},
   "outputs": [
    {
     "name": "stdout",
     "output_type": "stream",
     "text": [
      "loaded gammapy version: 0.1.dev19056+g5a5f803 \n",
      "Supposed to be 1.0 (21-11-2022)\n"
     ]
    }
   ],
   "source": [
    "import gammapy \n",
    "print(f'loaded gammapy version: {gammapy.__version__} ' )\n",
    "print(f'Supposed to be 1.0 (21-11-2022)' )"
   ]
  },
  {
   "cell_type": "code",
   "execution_count": 2,
   "id": "e0c4dcf1",
   "metadata": {
    "execution": {
     "iopub.execute_input": "2022-03-17T11:24:36.091662Z",
     "iopub.status.busy": "2022-03-17T11:24:36.091167Z",
     "iopub.status.idle": "2022-03-17T11:25:00.872876Z",
     "shell.execute_reply": "2022-03-17T11:25:00.871690Z"
    }
   },
   "outputs": [],
   "source": [
    "import pyximport\n",
    "pyximport.install()\n",
    "import matplotlib.pyplot as plt\n",
    "import numpy as np\n",
    "import astropy.units as u\n",
    "import gammapy\n",
    "from gammapy.maps import Map\n",
    "from gammapy.modeling import Fit,  Parameters, Covariance , Parameter\n",
    "from gammapy.datasets import MapDataset ,Datasets\n",
    "from gammapy.modeling.models import (\n",
    "    PowerLawSpectralModel,\n",
    "    SkyModel,\n",
    "    PointSpatialModel,\n",
    "    GaussianSpatialModel,\n",
    "    Models,\n",
    "    FoVBackgroundModel,\n",
    ")\n",
    "import sys\n",
    "import yaml\n",
    "import json\n",
    "sys.path.append('/home/katrin/Documents/nuisance_summary/')\n",
    "from Dataset_Creation import sys_dataset\n",
    "import Dataset_load "
   ]
  },
  {
   "cell_type": "markdown",
   "id": "23adcef0",
   "metadata": {},
   "source": [
    "## Read dataset"
   ]
  },
  {
   "cell_type": "code",
   "execution_count": 3,
   "id": "d3ab5449",
   "metadata": {},
   "outputs": [],
   "source": [
    "figformat = 'svg'"
   ]
  },
  {
   "cell_type": "code",
   "execution_count": 4,
   "id": "f94dc89c",
   "metadata": {},
   "outputs": [],
   "source": [
    "dataset_asimov = Dataset_load.create_asimov(gun = True)\n",
    "simga = 0.2\n",
    "dataset_asimov.models[0].spectral_model.parameters['sigma'].value = simga\n",
    "# set npred again\n",
    "dataset_asimov.counts = dataset_asimov.npred()"
   ]
  },
  {
   "cell_type": "code",
   "execution_count": 5,
   "id": "9b6cf99b",
   "metadata": {},
   "outputs": [],
   "source": [
    "zero = 1e-12\n",
    "\n",
    "sigmass = [0.0]\n",
    "simgass_assumed = [0.1]\n",
    "res_assumed = 0.1\n",
    "biass = [0.0]"
   ]
  },
  {
   "cell_type": "markdown",
   "id": "2e0399d4",
   "metadata": {},
   "source": [
    "## Single Cases"
   ]
  },
  {
   "cell_type": "code",
   "execution_count": 6,
   "id": "e19a0a90",
   "metadata": {},
   "outputs": [],
   "source": [
    "def create_dataset(b, s):\n",
    "    i = 0\n",
    "    sys_d_cor = sys_dataset(dataset_asimov= dataset_asimov,\n",
    "                        shift = 0,\n",
    "                        tilt = 0,\n",
    "                        bias = b, \n",
    "                        resolution = s,\n",
    "                        rnd = False,\n",
    "                        e_reco_creation=10,\n",
    "                        gun = True)\n",
    "    dataset = sys_d_cor.create_dataset()\n",
    "    dataset_N = sys_d_cor.create_dataset_N(10)\n",
    "    dataset_N.models.parameters['bias'].frozen  = True\n",
    "    dataset_N.models.parameters['norm_nuisance'].frozen  = True\n",
    "    \n",
    "    dataset_N.e_reco_n = 10\n",
    "\n",
    "    penalising_invcovmatrix = np.zeros((4,4))\n",
    "    \n",
    "    np.fill_diagonal(penalising_invcovmatrix, [1/zero**2, 1/simgass_assumed[i]**2, 1/zero**2, 1/zero**2])\n",
    "    dataset_N.penalising_invcovmatrix = penalising_invcovmatrix\n",
    "    #dataset_N.irf_model.eff_area_model = None\n",
    "    #dataset_N.irf_model.eff_area_model = None\n",
    "    i +=1\n",
    "    return dataset, dataset_N\n",
    "\n",
    "datasets =[]\n",
    "datasets_N =[]\n",
    "\n",
    "for r in sigmass:\n",
    "    dataset, dataset_N  = create_dataset(biass[0], r)\n",
    "    datasets.append(dataset)\n",
    "    datasets_N.append(dataset_N)\n",
    "    \n",
    "dataset_extreme, dataset_N_extreme  = create_dataset(biass[0], 0.1)\n"
   ]
  },
  {
   "cell_type": "code",
   "execution_count": 7,
   "id": "11a113ca",
   "metadata": {},
   "outputs": [],
   "source": [
    "case = ''\n"
   ]
  },
  {
   "cell_type": "code",
   "execution_count": 8,
   "id": "561d9d11",
   "metadata": {
    "scrolled": true
   },
   "outputs": [
    {
     "name": "stdout",
     "output_type": "stream",
     "text": [
      "CPU times: user 3.85 s, sys: 374 ms, total: 4.22 s\n",
      "Wall time: 3.76 s\n"
     ]
    }
   ],
   "source": [
    "%%time\n",
    "fitting = 1\n",
    "if fitting:\n",
    "    fit = Fit(store_trace=False)\n",
    "    minuit_opts = {\"tol\": 0.001, \"strategy\": 2}\n",
    "    fit.optimize_opts = minuit_opts\n",
    "    result = fit.run(datasets)\n",
    "else:\n",
    "    path = f'data/2_model_{bias[0]}_sigma_{sigma}.yml'\n",
    "    datasets[0] = Dataset_load.load_dataset_N(datasets[0], path)        "
   ]
  },
  {
   "cell_type": "code",
   "execution_count": 9,
   "id": "b5bafbb8",
   "metadata": {
    "scrolled": true
   },
   "outputs": [
    {
     "ename": "KeyboardInterrupt",
     "evalue": "",
     "output_type": "error",
     "traceback": [
      "\u001b[0;31m---------------------------------------------------------------------------\u001b[0m",
      "\u001b[0;31mKeyboardInterrupt\u001b[0m                         Traceback (most recent call last)",
      "File \u001b[0;32m<timed exec>:4\u001b[0m\n",
      "File \u001b[0;32m~/Documents/gammapy/gammapy/modeling/fit.py:164\u001b[0m, in \u001b[0;36mFit.run\u001b[0;34m(self, datasets)\u001b[0m\n\u001b[1;32m    151\u001b[0m \u001b[38;5;28;01mdef\u001b[39;00m \u001b[38;5;21mrun\u001b[39m(\u001b[38;5;28mself\u001b[39m, datasets):\n\u001b[1;32m    152\u001b[0m \u001b[38;5;250m    \u001b[39m\u001b[38;5;124;03m\"\"\"Run all fitting steps.\u001b[39;00m\n\u001b[1;32m    153\u001b[0m \n\u001b[1;32m    154\u001b[0m \u001b[38;5;124;03m    Parameters\u001b[39;00m\n\u001b[0;32m   (...)\u001b[0m\n\u001b[1;32m    162\u001b[0m \u001b[38;5;124;03m        Fit result\u001b[39;00m\n\u001b[1;32m    163\u001b[0m \u001b[38;5;124;03m    \"\"\"\u001b[39;00m\n\u001b[0;32m--> 164\u001b[0m     optimize_result \u001b[38;5;241m=\u001b[39m \u001b[38;5;28;43mself\u001b[39;49m\u001b[38;5;241;43m.\u001b[39;49m\u001b[43moptimize\u001b[49m\u001b[43m(\u001b[49m\u001b[43mdatasets\u001b[49m\u001b[38;5;241;43m=\u001b[39;49m\u001b[43mdatasets\u001b[49m\u001b[43m)\u001b[49m\n\u001b[1;32m    166\u001b[0m     \u001b[38;5;28;01mif\u001b[39;00m \u001b[38;5;28mself\u001b[39m\u001b[38;5;241m.\u001b[39mbackend \u001b[38;5;129;01mnot\u001b[39;00m \u001b[38;5;129;01min\u001b[39;00m registry\u001b[38;5;241m.\u001b[39mregister[\u001b[38;5;124m\"\u001b[39m\u001b[38;5;124mcovariance\u001b[39m\u001b[38;5;124m\"\u001b[39m]:\n\u001b[1;32m    167\u001b[0m         log\u001b[38;5;241m.\u001b[39mwarning(\u001b[38;5;124m\"\u001b[39m\u001b[38;5;124mNo covariance estimate - not supported by this backend.\u001b[39m\u001b[38;5;124m\"\u001b[39m)\n",
      "File \u001b[0;32m~/Documents/gammapy/gammapy/modeling/fit.py:212\u001b[0m, in \u001b[0;36mFit.optimize\u001b[0;34m(self, datasets)\u001b[0m\n\u001b[1;32m    208\u001b[0m compute \u001b[38;5;241m=\u001b[39m registry\u001b[38;5;241m.\u001b[39mget(\u001b[38;5;124m\"\u001b[39m\u001b[38;5;124moptimize\u001b[39m\u001b[38;5;124m\"\u001b[39m, backend)\n\u001b[1;32m    209\u001b[0m \u001b[38;5;66;03m# TODO: change this calling interface!\u001b[39;00m\n\u001b[1;32m    210\u001b[0m \u001b[38;5;66;03m# probably should pass a fit statistic, which has a model, which has parameters\u001b[39;00m\n\u001b[1;32m    211\u001b[0m \u001b[38;5;66;03m# and return something simpler, not a tuple of three things\u001b[39;00m\n\u001b[0;32m--> 212\u001b[0m factors, info, optimizer \u001b[38;5;241m=\u001b[39m \u001b[43mcompute\u001b[49m\u001b[43m(\u001b[49m\n\u001b[1;32m    213\u001b[0m \u001b[43m    \u001b[49m\u001b[43mparameters\u001b[49m\u001b[38;5;241;43m=\u001b[39;49m\u001b[43mparameters\u001b[49m\u001b[43m,\u001b[49m\n\u001b[1;32m    214\u001b[0m \u001b[43m    \u001b[49m\u001b[43mfunction\u001b[49m\u001b[38;5;241;43m=\u001b[39;49m\u001b[43mdatasets\u001b[49m\u001b[38;5;241;43m.\u001b[39;49m\u001b[43mstat_sum\u001b[49m\u001b[43m,\u001b[49m\n\u001b[1;32m    215\u001b[0m \u001b[43m    \u001b[49m\u001b[43mstore_trace\u001b[49m\u001b[38;5;241;43m=\u001b[39;49m\u001b[38;5;28;43mself\u001b[39;49m\u001b[38;5;241;43m.\u001b[39;49m\u001b[43mstore_trace\u001b[49m\u001b[43m,\u001b[49m\n\u001b[1;32m    216\u001b[0m \u001b[43m    \u001b[49m\u001b[38;5;241;43m*\u001b[39;49m\u001b[38;5;241;43m*\u001b[39;49m\u001b[43mkwargs\u001b[49m\u001b[43m,\u001b[49m\n\u001b[1;32m    217\u001b[0m \u001b[43m\u001b[49m\u001b[43m)\u001b[49m\n\u001b[1;32m    219\u001b[0m \u001b[38;5;28;01mif\u001b[39;00m backend \u001b[38;5;241m==\u001b[39m \u001b[38;5;124m\"\u001b[39m\u001b[38;5;124mminuit\u001b[39m\u001b[38;5;124m\"\u001b[39m:\n\u001b[1;32m    220\u001b[0m     \u001b[38;5;28mself\u001b[39m\u001b[38;5;241m.\u001b[39m_minuit \u001b[38;5;241m=\u001b[39m optimizer\n",
      "File \u001b[0;32m~/Documents/gammapy/gammapy/modeling/iminuit.py:79\u001b[0m, in \u001b[0;36moptimize_iminuit\u001b[0;34m(parameters, function, store_trace, **kwargs)\u001b[0m\n\u001b[1;32m     73\u001b[0m migrad_opts \u001b[38;5;241m=\u001b[39m kwargs\u001b[38;5;241m.\u001b[39mpop(\u001b[38;5;124m\"\u001b[39m\u001b[38;5;124mmigrad_opts\u001b[39m\u001b[38;5;124m\"\u001b[39m, {})\n\u001b[1;32m     75\u001b[0m minuit, minuit_func \u001b[38;5;241m=\u001b[39m setup_iminuit(\n\u001b[1;32m     76\u001b[0m     parameters\u001b[38;5;241m=\u001b[39mparameters, function\u001b[38;5;241m=\u001b[39mfunction, store_trace\u001b[38;5;241m=\u001b[39mstore_trace, \u001b[38;5;241m*\u001b[39m\u001b[38;5;241m*\u001b[39mkwargs\n\u001b[1;32m     77\u001b[0m )\n\u001b[0;32m---> 79\u001b[0m \u001b[43mminuit\u001b[49m\u001b[38;5;241;43m.\u001b[39;49m\u001b[43mmigrad\u001b[49m\u001b[43m(\u001b[49m\u001b[38;5;241;43m*\u001b[39;49m\u001b[38;5;241;43m*\u001b[39;49m\u001b[43mmigrad_opts\u001b[49m\u001b[43m)\u001b[49m\n\u001b[1;32m     81\u001b[0m factors \u001b[38;5;241m=\u001b[39m minuit\u001b[38;5;241m.\u001b[39mvalues\n\u001b[1;32m     82\u001b[0m info \u001b[38;5;241m=\u001b[39m {\n\u001b[1;32m     83\u001b[0m     \u001b[38;5;124m\"\u001b[39m\u001b[38;5;124msuccess\u001b[39m\u001b[38;5;124m\"\u001b[39m: minuit\u001b[38;5;241m.\u001b[39mvalid,\n\u001b[1;32m     84\u001b[0m     \u001b[38;5;124m\"\u001b[39m\u001b[38;5;124mnfev\u001b[39m\u001b[38;5;124m\"\u001b[39m: minuit\u001b[38;5;241m.\u001b[39mnfcn,\n\u001b[1;32m     85\u001b[0m     \u001b[38;5;124m\"\u001b[39m\u001b[38;5;124mmessage\u001b[39m\u001b[38;5;124m\"\u001b[39m: _get_message(minuit, parameters),\n\u001b[1;32m     86\u001b[0m     \u001b[38;5;124m\"\u001b[39m\u001b[38;5;124mtrace\u001b[39m\u001b[38;5;124m\"\u001b[39m: minuit_func\u001b[38;5;241m.\u001b[39mtrace,\n\u001b[1;32m     87\u001b[0m }\n",
      "File \u001b[0;32m~/anaconda3/envs/gammapy-dev/lib/python3.8/site-packages/iminuit/minuit.py:694\u001b[0m, in \u001b[0;36mMinuit.migrad\u001b[0;34m(self, ncall, iterate)\u001b[0m\n\u001b[1;32m    692\u001b[0m \u001b[38;5;28;01mif\u001b[39;00m \u001b[38;5;28mself\u001b[39m\u001b[38;5;241m.\u001b[39m_precision \u001b[38;5;129;01mis\u001b[39;00m \u001b[38;5;129;01mnot\u001b[39;00m \u001b[38;5;28;01mNone\u001b[39;00m:\n\u001b[1;32m    693\u001b[0m     migrad\u001b[38;5;241m.\u001b[39mprecision \u001b[38;5;241m=\u001b[39m \u001b[38;5;28mself\u001b[39m\u001b[38;5;241m.\u001b[39m_precision\n\u001b[0;32m--> 694\u001b[0m fm \u001b[38;5;241m=\u001b[39m \u001b[43mmigrad\u001b[49m\u001b[43m(\u001b[49m\u001b[43mncall\u001b[49m\u001b[43m,\u001b[49m\u001b[43m \u001b[49m\u001b[38;5;28;43mself\u001b[39;49m\u001b[38;5;241;43m.\u001b[39;49m\u001b[43m_tolerance\u001b[49m\u001b[43m)\u001b[49m\n\u001b[1;32m    695\u001b[0m \u001b[38;5;28;01mif\u001b[39;00m fm\u001b[38;5;241m.\u001b[39mis_valid \u001b[38;5;129;01mor\u001b[39;00m fm\u001b[38;5;241m.\u001b[39mhas_reached_call_limit:\n\u001b[1;32m    696\u001b[0m     \u001b[38;5;28;01mbreak\u001b[39;00m\n",
      "File \u001b[0;32m~/Documents/gammapy/gammapy/modeling/iminuit.py:25\u001b[0m, in \u001b[0;36mMinuitLikelihood.fcn\u001b[0;34m(self, *factors)\u001b[0m\n\u001b[1;32m     22\u001b[0m \u001b[38;5;28;01mdef\u001b[39;00m \u001b[38;5;21mfcn\u001b[39m(\u001b[38;5;28mself\u001b[39m, \u001b[38;5;241m*\u001b[39mfactors):\n\u001b[1;32m     23\u001b[0m     \u001b[38;5;28mself\u001b[39m\u001b[38;5;241m.\u001b[39mparameters\u001b[38;5;241m.\u001b[39mset_parameter_factors(factors)\n\u001b[0;32m---> 25\u001b[0m     total_stat \u001b[38;5;241m=\u001b[39m \u001b[38;5;28;43mself\u001b[39;49m\u001b[38;5;241;43m.\u001b[39;49m\u001b[43mfunction\u001b[49m\u001b[43m(\u001b[49m\u001b[43m)\u001b[49m\n\u001b[1;32m     27\u001b[0m     \u001b[38;5;28;01mif\u001b[39;00m \u001b[38;5;28mself\u001b[39m\u001b[38;5;241m.\u001b[39mstore_trace:\n\u001b[1;32m     28\u001b[0m         \u001b[38;5;28mself\u001b[39m\u001b[38;5;241m.\u001b[39mstore_trace_iteration(total_stat)\n",
      "File \u001b[0;32m~/Documents/gammapy/gammapy/datasets/core.py:236\u001b[0m, in \u001b[0;36mDatasets.stat_sum\u001b[0;34m(self)\u001b[0m\n\u001b[1;32m    234\u001b[0m \u001b[38;5;66;03m# TODO: add parallel evaluation of likelihoods\u001b[39;00m\n\u001b[1;32m    235\u001b[0m \u001b[38;5;28;01mfor\u001b[39;00m dataset \u001b[38;5;129;01min\u001b[39;00m \u001b[38;5;28mself\u001b[39m:\n\u001b[0;32m--> 236\u001b[0m     stat_sum \u001b[38;5;241m+\u001b[39m\u001b[38;5;241m=\u001b[39m \u001b[43mdataset\u001b[49m\u001b[38;5;241;43m.\u001b[39;49m\u001b[43mstat_sum\u001b[49m\u001b[43m(\u001b[49m\u001b[43m)\u001b[49m\n\u001b[1;32m    237\u001b[0m \u001b[38;5;28;01mreturn\u001b[39;00m stat_sum\n",
      "File \u001b[0;32m~/Documents/gammapy/gammapy/datasets/map.py:925\u001b[0m, in \u001b[0;36mMapDataset.stat_sum\u001b[0;34m(self)\u001b[0m\n\u001b[1;32m    923\u001b[0m \u001b[38;5;28;01mdef\u001b[39;00m \u001b[38;5;21mstat_sum\u001b[39m(\u001b[38;5;28mself\u001b[39m):\n\u001b[1;32m    924\u001b[0m \u001b[38;5;250m    \u001b[39m\u001b[38;5;124;03m\"\"\"Total likelihood given the current model parameters plus the Gaussian penalty term.\"\"\"\u001b[39;00m\n\u001b[0;32m--> 925\u001b[0m     counts, npred \u001b[38;5;241m=\u001b[39m \u001b[38;5;28mself\u001b[39m\u001b[38;5;241m.\u001b[39mcounts\u001b[38;5;241m.\u001b[39mdata\u001b[38;5;241m.\u001b[39mastype(\u001b[38;5;28mfloat\u001b[39m), \u001b[38;5;28;43mself\u001b[39;49m\u001b[38;5;241;43m.\u001b[39;49m\u001b[43mnpred\u001b[49m\u001b[43m(\u001b[49m\u001b[43m)\u001b[49m\u001b[38;5;241m.\u001b[39mdata\n\u001b[1;32m    926\u001b[0m     \u001b[38;5;28;01mif\u001b[39;00m \u001b[38;5;28mlen\u001b[39m(\u001b[38;5;28mself\u001b[39m\u001b[38;5;241m.\u001b[39mmodels\u001b[38;5;241m.\u001b[39mparameters\u001b[38;5;241m.\u001b[39mpenalised_parameters) \u001b[38;5;241m>\u001b[39m \u001b[38;5;241m0\u001b[39m:\n\u001b[1;32m    927\u001b[0m         \u001b[38;5;66;03m# if self.penalising_invcovmatrix is not None:\u001b[39;00m\n\u001b[1;32m    928\u001b[0m         penalty \u001b[38;5;241m=\u001b[39m gaussian_penality(\n\u001b[1;32m    929\u001b[0m             \u001b[38;5;28mself\u001b[39m\u001b[38;5;241m.\u001b[39mmodels\u001b[38;5;241m.\u001b[39mparameters\u001b[38;5;241m.\u001b[39mpenalised_parameters,\n\u001b[1;32m    930\u001b[0m             \u001b[38;5;28mself\u001b[39m\u001b[38;5;241m.\u001b[39m_penalising_invcovmatrix,\n\u001b[1;32m    931\u001b[0m         )\n",
      "File \u001b[0;32m~/Documents/gammapy/gammapy/datasets/map.py:451\u001b[0m, in \u001b[0;36mMapDataset.npred\u001b[0;34m(self)\u001b[0m\n\u001b[1;32m    443\u001b[0m \u001b[38;5;28;01mdef\u001b[39;00m \u001b[38;5;21mnpred\u001b[39m(\u001b[38;5;28mself\u001b[39m):\n\u001b[1;32m    444\u001b[0m \u001b[38;5;250m    \u001b[39m\u001b[38;5;124;03m\"\"\"Total predicted source and background counts\u001b[39;00m\n\u001b[1;32m    445\u001b[0m \n\u001b[1;32m    446\u001b[0m \u001b[38;5;124;03m    Returns\u001b[39;00m\n\u001b[0;32m   (...)\u001b[0m\n\u001b[1;32m    449\u001b[0m \u001b[38;5;124;03m        Total predicted counts\u001b[39;00m\n\u001b[1;32m    450\u001b[0m \u001b[38;5;124;03m    \"\"\"\u001b[39;00m\n\u001b[0;32m--> 451\u001b[0m     npred_total \u001b[38;5;241m=\u001b[39m \u001b[38;5;28;43mself\u001b[39;49m\u001b[38;5;241;43m.\u001b[39;49m\u001b[43mnpred_signal\u001b[49m\u001b[43m(\u001b[49m\u001b[43m)\u001b[49m\n\u001b[1;32m    453\u001b[0m     \u001b[38;5;28;01mif\u001b[39;00m \u001b[38;5;28mself\u001b[39m\u001b[38;5;241m.\u001b[39mbackground:\n\u001b[1;32m    454\u001b[0m         npred_total \u001b[38;5;241m+\u001b[39m\u001b[38;5;241m=\u001b[39m \u001b[38;5;28mself\u001b[39m\u001b[38;5;241m.\u001b[39mnpred_background()\n",
      "File \u001b[0;32m~/Documents/gammapy/gammapy/datasets/map.py:598\u001b[0m, in \u001b[0;36mMapDataset.npred_signal\u001b[0;34m(self, model_name)\u001b[0m\n\u001b[1;32m    595\u001b[0m     \u001b[38;5;28;01mif\u001b[39;00m \u001b[38;5;28mself\u001b[39m\u001b[38;5;241m.\u001b[39mirf_model\u001b[38;5;241m.\u001b[39meff_area_model \u001b[38;5;129;01mis\u001b[39;00m \u001b[38;5;129;01mnot\u001b[39;00m \u001b[38;5;28;01mNone\u001b[39;00m:\n\u001b[1;32m    596\u001b[0m         exposure \u001b[38;5;241m=\u001b[39m \u001b[38;5;28mself\u001b[39m\u001b[38;5;241m.\u001b[39mnpred_exposure()\n\u001b[0;32m--> 598\u001b[0m     \u001b[43mevaluator\u001b[49m\u001b[38;5;241;43m.\u001b[39;49m\u001b[43mupdate\u001b[49m\u001b[43m(\u001b[49m\n\u001b[1;32m    599\u001b[0m \u001b[43m        \u001b[49m\u001b[43mexposure\u001b[49m\u001b[43m,\u001b[49m\n\u001b[1;32m    600\u001b[0m \u001b[43m        \u001b[49m\u001b[38;5;28;43mself\u001b[39;49m\u001b[38;5;241;43m.\u001b[39;49m\u001b[43mpsf\u001b[49m\u001b[43m,\u001b[49m\n\u001b[1;32m    601\u001b[0m \u001b[43m        \u001b[49m\u001b[43medisp\u001b[49m\u001b[43m,\u001b[49m\n\u001b[1;32m    602\u001b[0m \u001b[43m        \u001b[49m\u001b[38;5;28;43mself\u001b[39;49m\u001b[38;5;241;43m.\u001b[39;49m\u001b[43m_geom\u001b[49m\u001b[43m,\u001b[49m\n\u001b[1;32m    603\u001b[0m \u001b[43m        \u001b[49m\u001b[38;5;28;43mself\u001b[39;49m\u001b[38;5;241;43m.\u001b[39;49m\u001b[43mmask_image\u001b[49m\u001b[43m,\u001b[49m\n\u001b[1;32m    604\u001b[0m \u001b[43m        \u001b[49m\u001b[43m)\u001b[49m\n\u001b[1;32m    607\u001b[0m \u001b[38;5;28;01mif\u001b[39;00m evaluator\u001b[38;5;241m.\u001b[39mcontributes:\n\u001b[1;32m    608\u001b[0m     npred \u001b[38;5;241m=\u001b[39m evaluator\u001b[38;5;241m.\u001b[39mcompute_npred()\n",
      "File \u001b[0;32m~/Documents/gammapy/gammapy/datasets/evaluator.py:193\u001b[0m, in \u001b[0;36mMapEvaluator.update\u001b[0;34m(self, exposure, psf, edisp, geom, mask)\u001b[0m\n\u001b[1;32m    190\u001b[0m         \u001b[38;5;28;01mif\u001b[39;00m geom_psf\u001b[38;5;241m.\u001b[39mis_region \u001b[38;5;129;01mor\u001b[39;00m geom_psf\u001b[38;5;241m.\u001b[39mis_hpx:\n\u001b[1;32m    191\u001b[0m             geom_psf \u001b[38;5;241m=\u001b[39m geom_psf\u001b[38;5;241m.\u001b[39mto_wcs_geom()\n\u001b[0;32m--> 193\u001b[0m         \u001b[38;5;28mself\u001b[39m\u001b[38;5;241m.\u001b[39mpsf \u001b[38;5;241m=\u001b[39m \u001b[43mpsf\u001b[49m\u001b[38;5;241;43m.\u001b[39;49m\u001b[43mget_psf_kernel\u001b[49m\u001b[43m(\u001b[49m\n\u001b[1;32m    194\u001b[0m \u001b[43m            \u001b[49m\u001b[43mposition\u001b[49m\u001b[38;5;241;43m=\u001b[39;49m\u001b[38;5;28;43mself\u001b[39;49m\u001b[38;5;241;43m.\u001b[39;49m\u001b[43mmodel\u001b[49m\u001b[38;5;241;43m.\u001b[39;49m\u001b[43mposition\u001b[49m\u001b[43m,\u001b[49m\n\u001b[1;32m    195\u001b[0m \u001b[43m            \u001b[49m\u001b[43mgeom\u001b[49m\u001b[38;5;241;43m=\u001b[39;49m\u001b[43mgeom_psf\u001b[49m\u001b[43m,\u001b[49m\n\u001b[1;32m    196\u001b[0m \u001b[43m            \u001b[49m\u001b[43mcontainment\u001b[49m\u001b[38;5;241;43m=\u001b[39;49m\u001b[43mPSF_CONTAINMENT\u001b[49m\u001b[43m,\u001b[49m\n\u001b[1;32m    197\u001b[0m \u001b[43m            \u001b[49m\u001b[43mmax_radius\u001b[49m\u001b[38;5;241;43m=\u001b[39;49m\u001b[43mPSF_MAX_RADIUS\u001b[49m\u001b[43m,\u001b[49m\n\u001b[1;32m    198\u001b[0m \u001b[43m        \u001b[49m\u001b[43m)\u001b[49m\n\u001b[1;32m    200\u001b[0m \u001b[38;5;28;01mif\u001b[39;00m \u001b[38;5;28mself\u001b[39m\u001b[38;5;241m.\u001b[39mevaluation_mode \u001b[38;5;241m==\u001b[39m \u001b[38;5;124m\"\u001b[39m\u001b[38;5;124mlocal\u001b[39m\u001b[38;5;124m\"\u001b[39m:\n\u001b[1;32m    201\u001b[0m     \u001b[38;5;28mself\u001b[39m\u001b[38;5;241m.\u001b[39mcontributes \u001b[38;5;241m=\u001b[39m \u001b[38;5;28mself\u001b[39m\u001b[38;5;241m.\u001b[39mmodel\u001b[38;5;241m.\u001b[39mcontributes(mask\u001b[38;5;241m=\u001b[39mmask, margin\u001b[38;5;241m=\u001b[39m\u001b[38;5;28mself\u001b[39m\u001b[38;5;241m.\u001b[39mpsf_width)\n",
      "File \u001b[0;32m~/Documents/gammapy/gammapy/irf/psf/map.py:253\u001b[0m, in \u001b[0;36mPSFMap.get_psf_kernel\u001b[0;34m(self, geom, position, max_radius, containment, factor)\u001b[0m\n\u001b[1;32m    250\u001b[0m \u001b[38;5;28;01mif\u001b[39;00m position \u001b[38;5;129;01mis\u001b[39;00m \u001b[38;5;28;01mNone\u001b[39;00m:\n\u001b[1;32m    251\u001b[0m     position \u001b[38;5;241m=\u001b[39m \u001b[38;5;28mself\u001b[39m\u001b[38;5;241m.\u001b[39mpsf_map\u001b[38;5;241m.\u001b[39mgeom\u001b[38;5;241m.\u001b[39mcenter_skydir\n\u001b[0;32m--> 253\u001b[0m position \u001b[38;5;241m=\u001b[39m \u001b[38;5;28;43mself\u001b[39;49m\u001b[38;5;241;43m.\u001b[39;49m\u001b[43m_get_nearest_valid_position\u001b[49m\u001b[43m(\u001b[49m\u001b[43mposition\u001b[49m\u001b[43m)\u001b[49m\n\u001b[1;32m    255\u001b[0m \u001b[38;5;28;01mif\u001b[39;00m max_radius \u001b[38;5;129;01mis\u001b[39;00m \u001b[38;5;28;01mNone\u001b[39;00m:\n\u001b[1;32m    256\u001b[0m     energy_axis \u001b[38;5;241m=\u001b[39m \u001b[38;5;28mself\u001b[39m\u001b[38;5;241m.\u001b[39mpsf_map\u001b[38;5;241m.\u001b[39mgeom\u001b[38;5;241m.\u001b[39maxes[\u001b[38;5;28mself\u001b[39m\u001b[38;5;241m.\u001b[39menergy_name]\n",
      "File \u001b[0;32m~/Documents/gammapy/gammapy/irf/core.py:683\u001b[0m, in \u001b[0;36mIRFMap._get_nearest_valid_position\u001b[0;34m(self, position)\u001b[0m\n\u001b[1;32m    681\u001b[0m \u001b[38;5;28;01mdef\u001b[39;00m \u001b[38;5;21m_get_nearest_valid_position\u001b[39m(\u001b[38;5;28mself\u001b[39m, position):\n\u001b[1;32m    682\u001b[0m \u001b[38;5;250m    \u001b[39m\u001b[38;5;124;03m\"\"\"Get nearest valid position\"\"\"\u001b[39;00m\n\u001b[0;32m--> 683\u001b[0m     is_valid \u001b[38;5;241m=\u001b[39m np\u001b[38;5;241m.\u001b[39mnan_to_num(\u001b[38;5;28;43mself\u001b[39;49m\u001b[38;5;241;43m.\u001b[39;49m\u001b[43mmask_safe_image\u001b[49m\u001b[38;5;241m.\u001b[39mget_by_coord(position))[\u001b[38;5;241m0\u001b[39m]\n\u001b[1;32m    685\u001b[0m     \u001b[38;5;28;01mif\u001b[39;00m \u001b[38;5;129;01mnot\u001b[39;00m is_valid \u001b[38;5;129;01mand\u001b[39;00m np\u001b[38;5;241m.\u001b[39many(\u001b[38;5;28mself\u001b[39m\u001b[38;5;241m.\u001b[39mmask_safe_image \u001b[38;5;241m>\u001b[39m \u001b[38;5;241m0\u001b[39m):\n\u001b[1;32m    686\u001b[0m         log\u001b[38;5;241m.\u001b[39mwarning(\n\u001b[1;32m    687\u001b[0m             \u001b[38;5;124mf\u001b[39m\u001b[38;5;124m\"\u001b[39m\u001b[38;5;124mPosition \u001b[39m\u001b[38;5;132;01m{\u001b[39;00mposition\u001b[38;5;132;01m}\u001b[39;00m\u001b[38;5;124m is outside \u001b[39m\u001b[38;5;124m\"\u001b[39m\n\u001b[1;32m    688\u001b[0m             \u001b[38;5;124m\"\u001b[39m\u001b[38;5;124mvalid IRF map range, using nearest IRF defined within\u001b[39m\u001b[38;5;124m\"\u001b[39m\n\u001b[1;32m    689\u001b[0m         )\n",
      "File \u001b[0;32m~/Documents/gammapy/gammapy/irf/core.py:645\u001b[0m, in \u001b[0;36mIRFMap.mask_safe_image\u001b[0;34m(self)\u001b[0m\n\u001b[1;32m    643\u001b[0m \u001b[38;5;250m\u001b[39m\u001b[38;5;124;03m\"\"\"Mask safe for the map\"\"\"\u001b[39;00m\n\u001b[1;32m    644\u001b[0m mask \u001b[38;5;241m=\u001b[39m \u001b[38;5;28mself\u001b[39m\u001b[38;5;241m.\u001b[39m_irf_map \u001b[38;5;241m>\u001b[39m (\u001b[38;5;241m0\u001b[39m \u001b[38;5;241m*\u001b[39m \u001b[38;5;28mself\u001b[39m\u001b[38;5;241m.\u001b[39m_irf_map\u001b[38;5;241m.\u001b[39munit)\n\u001b[0;32m--> 645\u001b[0m \u001b[38;5;28;01mreturn\u001b[39;00m \u001b[43mmask\u001b[49m\u001b[38;5;241;43m.\u001b[39;49m\u001b[43mreduce_over_axes\u001b[49m\u001b[43m(\u001b[49m\u001b[43mfunc\u001b[49m\u001b[38;5;241;43m=\u001b[39;49m\u001b[43mnp\u001b[49m\u001b[38;5;241;43m.\u001b[39;49m\u001b[43mlogical_or\u001b[49m\u001b[43m)\u001b[49m\n",
      "File \u001b[0;32m~/Documents/gammapy/gammapy/maps/core.py:1488\u001b[0m, in \u001b[0;36mMap.reduce_over_axes\u001b[0;34m(self, func, keepdims, axes_names, weights)\u001b[0m\n\u001b[1;32m   1486\u001b[0m map_out \u001b[38;5;241m=\u001b[39m \u001b[38;5;28mself\u001b[39m\u001b[38;5;241m.\u001b[39mcopy()\n\u001b[1;32m   1487\u001b[0m \u001b[38;5;28;01mfor\u001b[39;00m axis_name \u001b[38;5;129;01min\u001b[39;00m axes_names:\n\u001b[0;32m-> 1488\u001b[0m     map_out \u001b[38;5;241m=\u001b[39m \u001b[43mmap_out\u001b[49m\u001b[38;5;241;43m.\u001b[39;49m\u001b[43mreduce\u001b[49m\u001b[43m(\u001b[49m\n\u001b[1;32m   1489\u001b[0m \u001b[43m        \u001b[49m\u001b[43maxis_name\u001b[49m\u001b[43m,\u001b[49m\u001b[43m \u001b[49m\u001b[43mfunc\u001b[49m\u001b[38;5;241;43m=\u001b[39;49m\u001b[43mfunc\u001b[49m\u001b[43m,\u001b[49m\u001b[43m \u001b[49m\u001b[43mkeepdims\u001b[49m\u001b[38;5;241;43m=\u001b[39;49m\u001b[43mkeepdims\u001b[49m\u001b[43m,\u001b[49m\u001b[43m \u001b[49m\u001b[43mweights\u001b[49m\u001b[38;5;241;43m=\u001b[39;49m\u001b[43mweights\u001b[49m\n\u001b[1;32m   1490\u001b[0m \u001b[43m    \u001b[49m\u001b[43m)\u001b[49m\n\u001b[1;32m   1492\u001b[0m \u001b[38;5;28;01mreturn\u001b[39;00m map_out\n",
      "File \u001b[0;32m~/Documents/gammapy/gammapy/maps/core.py:1526\u001b[0m, in \u001b[0;36mMap.reduce\u001b[0;34m(self, axis_name, func, keepdims, weights)\u001b[0m\n\u001b[1;32m   1523\u001b[0m \u001b[38;5;28;01mif\u001b[39;00m weights \u001b[38;5;129;01mis\u001b[39;00m \u001b[38;5;129;01mnot\u001b[39;00m \u001b[38;5;28;01mNone\u001b[39;00m:\n\u001b[1;32m   1524\u001b[0m     data \u001b[38;5;241m=\u001b[39m data \u001b[38;5;241m*\u001b[39m weights\n\u001b[0;32m-> 1526\u001b[0m data \u001b[38;5;241m=\u001b[39m \u001b[43mfunc\u001b[49m\u001b[38;5;241;43m.\u001b[39;49m\u001b[43mreduce\u001b[49m\u001b[43m(\u001b[49m\u001b[43mdata\u001b[49m\u001b[43m,\u001b[49m\u001b[43m \u001b[49m\u001b[43maxis\u001b[49m\u001b[38;5;241;43m=\u001b[39;49m\u001b[43midx\u001b[49m\u001b[43m,\u001b[49m\u001b[43m \u001b[49m\u001b[43mkeepdims\u001b[49m\u001b[38;5;241;43m=\u001b[39;49m\u001b[43mkeepdims\u001b[49m\u001b[43m,\u001b[49m\u001b[43m \u001b[49m\u001b[43mwhere\u001b[49m\u001b[38;5;241;43m=\u001b[39;49m\u001b[38;5;241;43m~\u001b[39;49m\u001b[43mnp\u001b[49m\u001b[38;5;241;43m.\u001b[39;49m\u001b[43misnan\u001b[49m\u001b[43m(\u001b[49m\u001b[43mdata\u001b[49m\u001b[43m)\u001b[49m\u001b[43m)\u001b[49m\n\u001b[1;32m   1527\u001b[0m \u001b[38;5;28;01mreturn\u001b[39;00m \u001b[38;5;28mself\u001b[39m\u001b[38;5;241m.\u001b[39m_init_copy(geom\u001b[38;5;241m=\u001b[39mgeom, data\u001b[38;5;241m=\u001b[39mdata)\n",
      "\u001b[0;31mKeyboardInterrupt\u001b[0m: "
     ]
    }
   ],
   "source": [
    "%%time\n",
    "if fitting:\n",
    "    fit_N = Fit(store_trace=False)\n",
    "    fit_N.optimize_opts = minuit_opts\n",
    "    result_N = fit_N.run(datasets_N)\n",
    "else:\n",
    "    path = f'data/2_model_nui_{bias[0]}_sigma_{sigma}.yml'\n",
    "    datasets_N[0] = Dataset_load.load_dataset_N(datasets_N[0], path)"
   ]
  },
  {
   "cell_type": "code",
   "execution_count": 10,
   "id": "2be4d370",
   "metadata": {},
   "outputs": [
    {
     "data": {
      "image/png": "[encoded data removed]",
      "text/plain": [
       "<Figure size 640x480 with 1 Axes>"
      ]
     },
     "metadata": {},
     "output_type": "display_data"
    }
   ],
   "source": [
    "for i, d in enumerate( datasets_N):\n",
    "    value = d.irf_model.parameters['resolution'].value\n",
    "    error = d.irf_model.parameters['resolution'].error\n",
    "    plt.errorbar(sigmass[i], value, yerr = error, fmt = 'x')\n",
    "    "
   ]
  },
  {
   "cell_type": "markdown",
   "id": "42509a0c",
   "metadata": {},
   "source": [
    "## Stat Profiles for Source Sigma (width of peak)"
   ]
  },
  {
   "cell_type": "code",
   "execution_count": 11,
   "id": "fc9dbac6",
   "metadata": {},
   "outputs": [],
   "source": [
    "computing_norm = 0\n",
    "def make_writable(stat):\n",
    "    write = dict()\n",
    "    for k in stat.keys():\n",
    "        if k != 'fit_results':\n",
    "            write[k] = [float(i) for i in stat[k]]\n",
    "            \n",
    "                \n",
    "    return write"
   ]
  },
  {
   "cell_type": "code",
   "execution_count": null,
   "id": "f9b7f419",
   "metadata": {},
   "outputs": [],
   "source": [
    "%%time\n",
    "computing_sigma = 1\n",
    "\n",
    "if computing_sigma:\n",
    "    sigma = 4\n",
    "    parameter_i = datasets[0].models.parameters['sigma']\n",
    "    parameter_i.scan_n_sigma = sigma\n",
    "    stat_profile_i = fit.stat_profile([datasets[0]], parameter_i, reoptimize= True)\n",
    "    stat_profile_i['scale_scan'] = stat_profile_i.pop(next(iter(stat_profile_i)) )    \n",
    "    with open('data/5_scan_sigma'+case+'.yaml', 'w') as file:\n",
    "        documents = yaml.dump(make_writable(stat_profile_i), file)\n",
    "    \n",
    "else:\n",
    "    with open('data/5_scan_sigma'+case+'.yaml') as file:\n",
    "        stat_profile_i = yaml.load( file, Loader=yaml.FullLoader)\n",
    "\n",
    "    \n",
    "    "
   ]
  },
  {
   "cell_type": "code",
   "execution_count": null,
   "id": "e32512ba",
   "metadata": {
    "scrolled": true
   },
   "outputs": [],
   "source": [
    "%%time\n",
    "computing_sigma_N = 1\n",
    "if computing_sigma_N:\n",
    "    sigma = 4\n",
    "    parameter_i = datasets_N[0].models.parameters['sigma']\n",
    "    parameter_i.scan_n_sigma = sigma\n",
    "    stat_profile_N_i = fit.stat_profile([datasets_N[0]], parameter_i, reoptimize = True)\n",
    "    stat_profile_N_i['scale_scan'] = stat_profile_N_i.pop(next(iter(stat_profile_N_i)) )    \n",
    "    \n",
    "    with open('data/5_scan_sigma_N'+case+'.yaml', 'w') as file:\n",
    "        documents = yaml.dump(make_writable(stat_profile_N_i), file)\n",
    "    \n",
    "else:\n",
    "    with open('data/5_scan_sigma_N'+case+'.yaml') as file:\n",
    "        stat_profile_N_i = yaml.load( file, Loader=yaml.FullLoader)\n",
    "\n",
    "    \n",
    "    "
   ]
  },
  {
   "cell_type": "code",
   "execution_count": null,
   "id": "3341fec9",
   "metadata": {},
   "outputs": [],
   "source": [
    "import sys\n",
    "sys.path.append(config['local']['path']+'/nuisance_summary/Eff_area')\n",
    "import upper_limit_18_02"
   ]
  },
  {
   "cell_type": "code",
   "execution_count": null,
   "id": "f1bd8e5f",
   "metadata": {},
   "outputs": [],
   "source": [
    "color_standard = 'crimson'; color_standard_e = 'palevioletred'  #mediumvioletred\n",
    "color_nui = 'navy'; color_nui_e = 'cornflowerblue'\n",
    "color_input = 'darkorange'\n",
    "color_rnd = 'darkgreen'\n"
   ]
  },
  {
   "cell_type": "code",
   "execution_count": null,
   "id": "3ace26d6",
   "metadata": {},
   "outputs": [],
   "source": [
    "fig = plt.figure()\n",
    "ll_N_a = stat_profile_N_i.copy()\n",
    "ul_N_a = upper_limit_18_02.upper_limit(ll_N_a,0,0)\n",
    "L_N_a, x_N_a = ul_N_a.interpolate()\n",
    "plt.plot(x_N_a, L_N_a(x_N_a),label = \"Nuisance\", color = color_nui)\n",
    "\n",
    "\n",
    "ll_a = stat_profile_i.copy()\n",
    "ul_a = upper_limit_18_02.upper_limit(ll_a,0,0)\n",
    "L_a, x_a = ul_a.interpolate()\n",
    "plt.plot(x_a, L_a(x_a),label = \"standard\", color = color_standard)\n",
    "\n",
    "index_err = datasets[0].models[0].parameters['index'].error\n",
    "index_err_N = datasets_N[0].models[0].parameters['index'].error\n",
    "\n",
    "\n",
    "\n",
    "\n",
    "min_, er_neg, er_pos = ul_N_a.likelihood_error_asymmetric()\n",
    "min_ = min_[0]; er_neg = er_neg[0]; er_pos = er_pos[0]; \n",
    "ax = plt.gca()\n",
    "ylim= ax.get_ylim()\n",
    "ax.fill_between(  [min_-er_neg, min_+ er_pos], ylim[0], ylim[1], alpha = 0.6, \n",
    "                label = '1$\\sigma_{stat+sys}$' +f'  = -{er_neg:.2} +{er_pos:.2} \\n({index_err_N:.2})'\n",
    "                , color = color_nui_e)\n",
    "min_, er_neg, er_pos = ul_a.likelihood_error_asymmetric()\n",
    "min_ = min_[0]; er_neg = er_neg[0]; er_pos = er_pos[0]; \n",
    "ax.fill_between(  [min_-er_neg, min_+ er_pos], ylim[0], ylim[1],  alpha = 0.6, \n",
    "                label = '1$\\sigma_{stat}$' +f' = -{er_neg:.2} +{er_pos:.2} \\n({index_err:.2})'\n",
    "                , color = color_standard_e)\n",
    "\n",
    "ylim = ax.get_ylim()\n",
    "ax.vlines(2.3, ylim[0], ylim[1], color = color_input)\n",
    "\n",
    "plt.xlabel(\"Source Index\")\n",
    "plt.ylabel(\"-2log (L) [arb. unit]\")\n",
    "plt.legend()\n",
    "#plt.ylim(ylim[0], ylim[1]-25)\n",
    "plt.title(\"Sys = 10%\")\n",
    "\n",
    "fig.savefig(\"plots/5_stat_scan_index.png\")"
   ]
  },
  {
   "cell_type": "markdown",
   "id": "829512e0",
   "metadata": {},
   "source": [
    "## Stat Profiles for Source Signal"
   ]
  },
  {
   "cell_type": "code",
   "execution_count": null,
   "id": "bf0bc299",
   "metadata": {},
   "outputs": [],
   "source": [
    "%%time\n",
    "computing_amplitude = 0\n",
    "\n",
    "if computing_amplitude:\n",
    "    sigma = 3\n",
    "    parameter_a = datasets[0].models.parameters['amplitude']\n",
    "    parameter_a.scan_n_sigma = sigma\n",
    "    stat_profile_a = fit.stat_profile([datasets[0]], parameter_a, reoptimize= True)\n",
    "    stat_profile_a['scale_scan'] = stat_profile_a.pop(next(iter(stat_profile_a)) )    \n",
    "    with open('data/5_scan_amplitude'+case+'.yaml', 'w') as file:\n",
    "        documents = yaml.dump(make_writable(stat_profile_a), file)\n",
    "    \n",
    "else:\n",
    "    with open('data/5_scan_amplitude'+case+'.yaml') as file:\n",
    "        stat_profile_a = yaml.load( file, Loader=yaml.FullLoader)\n",
    "\n",
    "    \n",
    "    "
   ]
  },
  {
   "cell_type": "code",
   "execution_count": null,
   "id": "42988bc3",
   "metadata": {},
   "outputs": [],
   "source": [
    "%%time\n",
    "if computing_amplitude:\n",
    "    sigma = 3\n",
    "    parameter_a = datasets_N[0].models.parameters['amplitude']\n",
    "    parameter_a.scan_n_sigma = sigma\n",
    "    stat_profile_N_a = fit.stat_profile([datasets_N[0]], parameter_a, reoptimize = True)\n",
    "    stat_profile_N_a['scale_scan'] = stat_profile_N_a.pop(next(iter(stat_profile_N_a)) )    \n",
    "    \n",
    "    with open('data/5_scan_amplitude_N'+case+'.yaml', 'w') as file:\n",
    "        documents = yaml.dump(make_writable(stat_profile_N_a), file)\n",
    "    \n",
    "else:\n",
    "    with open('data/5_scan_amplitude_N'+case+'.yaml') as file:\n",
    "        stat_profile_N_a = yaml.load( file, Loader=yaml.FullLoader)\n",
    "\n",
    "    \n",
    "    "
   ]
  },
  {
   "cell_type": "code",
   "execution_count": null,
   "id": "b2a20995",
   "metadata": {},
   "outputs": [],
   "source": [
    "fig = plt.figure()\n",
    "ll_N_a = stat_profile_N_a.copy()\n",
    "ul_N_a = upper_limit_18_02.upper_limit(ll_N_a,0,0)\n",
    "L_N_a, x_N_a = ul_N_a.interpolate()\n",
    "plt.plot(x_N_a, L_N_a(x_N_a),label = \"Nuisance\",color = color_nui)\n",
    "\n",
    "\n",
    "ll_a = stat_profile_a.copy()\n",
    "ul_a = upper_limit_18_02.upper_limit(ll_a,0,0)\n",
    "L_a, x_a = ul_a.interpolate()\n",
    "plt.plot(x_a, L_a(x_a),label = \"standard\", color = color_standard)\n",
    "\n",
    "amplitude_err = datasets[0].models[0].parameters['amplitude'].error\n",
    "amplitude_err_N = datasets_N[0].models[0].parameters['amplitude'].error\n",
    "\n",
    "\n",
    "\n",
    "min_, er_neg, er_pos = ul_N_a.likelihood_error_asymmetric()\n",
    "min_ = min_[0]; er_neg = er_neg[0]; er_pos = er_pos[0]; \n",
    "ax = plt.gca()\n",
    "ylim= ax.get_ylim()\n",
    "ax.fill_between(  [min_-er_neg, min_+ er_pos], ylim[0], ylim[1], alpha = 0.6, \n",
    "                label = '1$\\sigma_{stat+sys}$' +f'  = -{er_neg:.2} +{er_pos:.2} \\n({amplitude_err_N:.2})'\n",
    "                , color = color_nui_e)\n",
    "min_, er_neg, er_pos = ul_a.likelihood_error_asymmetric()\n",
    "min_ = min_[0]; er_neg = er_neg[0]; er_pos = er_pos[0]; \n",
    "ax.fill_between(  [min_-er_neg, min_+ er_pos], ylim[0], ylim[1],  alpha = 0.6, \n",
    "                label = '1$\\sigma_{stat}$' +f'  = -{er_neg:.2} +{er_pos:.2} \\n({amplitude_err:.2})'\n",
    "                , color = color_standard_e)\n",
    "\n",
    "\n",
    "plt.xlabel(\"Source amplitude [1/cm2sTeV]\")\n",
    "plt.ylabel(\"-2log (L) [arb. unit]\")\n",
    "plt.legend()\n",
    "#plt.ylim(ylim[0], ylim[1]-25)\n",
    "plt.title(\"Sys = 10%\")\n",
    "ylim = ax.get_ylim()\n",
    "ax.vlines(1e-12, ylim[0], ylim[1], color = color_input)\n",
    "fig.savefig(\"plots/5_stat_scan_amplitude.png\")"
   ]
  },
  {
   "cell_type": "markdown",
   "id": "69356a68",
   "metadata": {},
   "source": [
    "## Stat Profiles for Source Cutoff"
   ]
  },
  {
   "cell_type": "code",
   "execution_count": null,
   "id": "5c951f8c",
   "metadata": {},
   "outputs": [],
   "source": [
    "%%time\n",
    "computing_lambda = 1\n",
    "\n",
    "if computing_lambda:\n",
    "    sigma = 3\n",
    "    parameter_c = datasets[0].models.parameters['lambda_']\n",
    "    parameter_c.scan_n_sigma = sigma\n",
    "    stat_profile_c = fit.stat_profile([datasets[0]], parameter_c, reoptimize= True)\n",
    "    stat_profile_c['scale_scan'] = stat_profile_c.pop(next(iter(stat_profile_c)) )    \n",
    "    with open('data/5_scan_lambda_'+case+'.yaml', 'w') as file:\n",
    "        documents = yaml.dump(make_writable(stat_profile_c), file)\n",
    "    \n",
    "else:\n",
    "    with open('data/5_scan_lambda_'+case+'.yaml') as file:\n",
    "        stat_profile_c = yaml.load( file, Loader=yaml.FullLoader)\n",
    "\n",
    "    \n",
    "    "
   ]
  },
  {
   "cell_type": "code",
   "execution_count": null,
   "id": "c952306d",
   "metadata": {},
   "outputs": [],
   "source": [
    "%%time\n",
    "if computing_lambda:\n",
    "    sigma = 4\n",
    "    parameter_c = datasets_N[0].models.parameters['lambda_']\n",
    "    parameter_c.scan_n_sigma = sigma\n",
    "    stat_profile_N_c = fit.stat_profile([datasets_N[0]], parameter_c, reoptimize = True)\n",
    "    stat_profile_N_c['scale_scan'] = stat_profile_N_c.pop(next(iter(stat_profile_N_c)) )    \n",
    "    \n",
    "    with open('data/5_scan_lambda__N'+case+'.yaml', 'w') as file:\n",
    "        documents = yaml.dump(make_writable(stat_profile_N_c), file)\n",
    "    \n",
    "else:\n",
    "    with open('data/5_scan_lambda__N'+case+'.yaml') as file:\n",
    "        stat_profile_N_c = yaml.load( file, Loader=yaml.FullLoader)\n",
    "\n",
    "    \n",
    "    "
   ]
  },
  {
   "cell_type": "code",
   "execution_count": null,
   "id": "63f05ea5",
   "metadata": {},
   "outputs": [],
   "source": [
    "fig = plt.figure()\n",
    "ll_N_c = stat_profile_N_c.copy()\n",
    "ul_N_c = upper_limit_18_02.upper_limit(ll_N_c,0,0)\n",
    "L_N_c, x_N_c = ul_N_c.interpolate()\n",
    "plt.plot(x_N_c, L_N_c(x_N_c),label = \"Nuisance\",color = color_nui)\n",
    "\n",
    "\n",
    "ll_c = stat_profile_c.copy()\n",
    "ul_c = upper_limit_18_02.upper_limit(ll_c,0,0)\n",
    "L_c, x_c = ul_c.interpolate()\n",
    "plt.plot(x_c, L_c(x_c),label = \"standard\", color = color_standard)\n",
    "\n",
    "amplitude_err = datasets[0].models[0].parameters['lambda_'].error\n",
    "amplitude_err_N = datasets_N[0].models[0].parameters['lambda_'].error\n",
    "\n",
    "\n",
    "\n",
    "min_, er_neg, er_pos = ul_N_c.likelihood_error_asymmetric()\n",
    "min_ = min_[0]; er_neg = er_neg[0]; er_pos = er_pos[0]; \n",
    "ax = plt.gca()\n",
    "ylim= ax.get_ylim()\n",
    "ax.fill_between(  [min_-er_neg, min_+ er_pos], ylim[0], ylim[1], alpha = 0.6, \n",
    "                label = '1$\\sigma_{stat+sys}$' +f'  = -{er_neg:.2} +{er_pos:.2} \\n({amplitude_err_N:.2})'\n",
    "                , color = color_nui_e)\n",
    "min_, er_neg, er_pos = ul_c.likelihood_error_asymmetric()\n",
    "min_ = min_[0]; er_neg = er_neg[0]; er_pos = er_pos[0]; \n",
    "ax.fill_between(  [min_-er_neg, min_+ er_pos], ylim[0], ylim[1],  alpha = 0.6, \n",
    "                label = '1$\\sigma_{stat}$' +f'                = -{er_neg:.2} +{er_pos:.2} \\n({amplitude_err:.2})'\n",
    "                , color = color_standard_e)\n",
    "\n",
    "\n",
    "plt.xlabel(\"Source Cutoff [1/TeV]\")\n",
    "plt.ylabel(\"-2log (L) [arb. unit]\")\n",
    "plt.legend()\n",
    "#plt.ylim(ylim[0], ylim[1]-25)\n",
    "plt.title(\"Sys = 10%\")\n",
    "ylim = ax.get_ylim()\n",
    "ax.vlines(0.1, ylim[0], ylim[1], color = color_input)\n",
    "fig.savefig(\"plots/5_stat_scan_lambda\"+case+\".png\")"
   ]
  },
  {
   "cell_type": "code",
   "execution_count": null,
   "id": "e6e780bc",
   "metadata": {},
   "outputs": [],
   "source": []
  },
  {
   "cell_type": "code",
   "execution_count": null,
   "id": "033cbe9a",
   "metadata": {},
   "outputs": [],
   "source": []
  },
  {
   "cell_type": "code",
   "execution_count": null,
   "id": "23a8c6fa",
   "metadata": {},
   "outputs": [],
   "source": []
  }
 ],
 "metadata": {
  "kernelspec": {
   "display_name": "Python 3 (ipykernel)",
   "language": "python",
   "name": "python3"
  },
  "language_info": {
   "codemirror_mode": {
    "name": "ipython",
    "version": 3
   },
   "file_extension": ".py",
   "mimetype": "text/x-python",
   "name": "python",
   "nbconvert_exporter": "python",
   "pygments_lexer": "ipython3",
   "version": "3.8.15"
  },
  "varInspector": {
   "cols": {
    "lenName": 16,
    "lenType": 16,
    "lenVar": 40
   },
   "kernels_config": {
    "python": {
     "delete_cmd_postfix": "",
     "delete_cmd_prefix": "del ",
     "library": "var_list.py",
     "varRefreshCmd": "print(var_dic_list())"
    },
    "r": {
     "delete_cmd_postfix": ") ",
     "delete_cmd_prefix": "rm(",
     "library": "var_list.r",
     "varRefreshCmd": "cat(var_dic_list()) "
    }
   },
   "types_to_exclude": [
    "module",
    "function",
    "builtin_function_or_method",
    "instance",
    "_Feature"
   ],
   "window_display": false
  }
 },
 "nbformat": 4,
 "nbformat_minor": 5
}
