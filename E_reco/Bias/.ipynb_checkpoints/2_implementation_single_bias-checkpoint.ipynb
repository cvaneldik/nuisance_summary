{
 "cells": [
  {
   "cell_type": "code",
   "execution_count": 1,
   "id": "eb53523b",
   "metadata": {},
   "outputs": [],
   "source": [
    "#get_ipython().system('jupyter nbconvert --to script 1-Nui_Par_Fitting.ipynb')\n",
    "import pyximport\n",
    "\n",
    "pyximport.install()\n",
    "import matplotlib.pyplot as plt\n",
    "import numpy as np\n",
    "import astropy.units as u\n",
    "import gammapy\n",
    "\n",
    "# from gammapy.datasets import MapDataset\n",
    "from gammapy.maps import Map\n",
    "\n",
    "from astropy.coordinates import SkyCoord, Angle\n",
    "from gammapy.modeling import Fit,  Parameters, Covariance , Parameter\n",
    "from gammapy.datasets import MapDataset ,Datasets#, MapDatasetNuisance\n",
    "from gammapy.modeling.models import (\n",
    "    PowerLawSpectralModel,\n",
    "    create_crab_spectral_model,\n",
    "    SkyModel,\n",
    "    PointSpatialModel,\n",
    "    ShellSpatialModel,\n",
    "    GeneralizedGaussianSpatialModel,\n",
    "    TemplateSpatialModel,\n",
    "    LogParabolaSpectralModel,\n",
    "    GaussianSpatialModel,\n",
    "    DiskSpatialModel,\n",
    "    PowerLawNormSpectralModel,\n",
    "    Models,\n",
    "    SpatialModel,\n",
    "    FoVBackgroundModel,\n",
    "    #PowerLawNuisanceSpectralModel,\n",
    "    #PowerLawNormNuisanceSpectralModel\n",
    ")\n",
    "from gammapy.estimators import TSMapEstimator, ExcessMapEstimator\n",
    "\n",
    "from regions import CircleSkyRegion, RectangleSkyRegion\n",
    "import yaml\n",
    "import sys\n",
    "sys.path.append('/home/katrin/Documents/nuisance_summary/E_reco/irf_model/')\n",
    "\n",
    "from Dataset_Creation import sys_dataset\n",
    "from gammapy.modeling.models.IRF import IRFModel, ERecoIRFModel, IRFModels\n"
   ]
  },
  {
   "cell_type": "code",
   "execution_count": null,
   "id": "2c51a612",
   "metadata": {},
   "outputs": [],
   "source": []
  },
  {
   "cell_type": "code",
   "execution_count": 2,
   "id": "4995cf38",
   "metadata": {},
   "outputs": [],
   "source": [
    "figformat = 'svg'"
   ]
  },
  {
   "cell_type": "code",
   "execution_count": 3,
   "id": "2ce70b5d",
   "metadata": {},
   "outputs": [
    {
     "name": "stdout",
     "output_type": "stream",
     "text": [
      "{'path': '/home/katrin/Documents', 'path_crab': '/home/katrin/Documents/Crab'}\n"
     ]
    }
   ],
   "source": [
    "import json\n",
    "with open(\"/home/katrin/Documents/nuisance_summary/E_reco/irf_model/config.json\") as json_data_file:\n",
    "\n",
    "    config = json.load(json_data_file)\n",
    "config = config['local']\n",
    "print(config)\n",
    "source = 'Crab'\n",
    "path = config[\"path\"]\n",
    "path_crab = config[\"path_crab\"]\n",
    "\n",
    "\n",
    "dataset_load = MapDataset.read(f'{path}/{source}/stacked.fits')\n",
    "dataset_load = dataset_load.downsample(4)\n",
    "models = Models.read(f\"{path_crab}/standard_model.yml\")\n",
    "model_spectrum  = PowerLawSpectralModel(\n",
    "    index=2.3,\n",
    "    amplitude=\"1e-12 TeV-1 cm-2 s-1\",    )\n",
    "source_model = SkyModel(spatial_model = models['main source'].spatial_model ,\n",
    "                       spectral_model = model_spectrum,\n",
    "                       name = \"Source\")    \n",
    "models = Models(source_model)\n",
    "\n",
    "bkg_model = FoVBackgroundModel(dataset_name=dataset_load.name)\n",
    "bkg_model.parameters['tilt'].frozen  = False\n",
    "models.append(bkg_model)\n",
    "\n",
    "dataset_load.models = models\n",
    "dataset_load.counts = dataset_load.npred()"
   ]
  },
  {
   "cell_type": "code",
   "execution_count": 4,
   "id": "5b01e14c",
   "metadata": {},
   "outputs": [],
   "source": [
    "biass = [0.0]\n",
    "sigmass = [0.8]\n",
    "sigma_assumed = 1e4"
   ]
  },
  {
   "cell_type": "code",
   "execution_count": 5,
   "id": "461d2d33",
   "metadata": {},
   "outputs": [
    {
     "name": "stdout",
     "output_type": "stream",
     "text": [
      "PowerLawSpectralModel\n",
      "\n",
      "  type      name     value         unit        error   min max frozen is_norm is_penalised link\n",
      "-------- --------- ---------- -------------- --------- --- --- ------ ------- ------------ ----\n",
      "spectral     index 2.0000e+00                0.000e+00 nan nan  False   False        False     \n",
      "spectral amplitude 1.0000e-12 cm-2 s-1 TeV-1 0.000e+00 nan nan  False    True        False     \n",
      "spectral reference 1.0000e+00            TeV 0.000e+00 nan nan   True   False        False     \n"
     ]
    }
   ],
   "source": [
    "test = PowerLawSpectralModel()\n",
    "print(test)\n",
    "\n",
    "sky = SkyModel(spectral_model=test)"
   ]
  },
  {
   "cell_type": "code",
   "execution_count": 6,
   "id": "e7c141ef",
   "metadata": {},
   "outputs": [
    {
     "name": "stdout",
     "output_type": "stream",
     "text": [
      "ERecoIRFModel\n",
      "\n",
      "type    name      value    unit   error   min max frozen is_norm is_penalised link\n",
      "---- ---------- ---------- ---- --------- --- --- ------ ------- ------------ ----\n",
      " irf       bias 0.0000e+00      0.000e+00 nan nan  False   False         True     \n",
      " irf resolution 0.0000e+00      0.000e+00 nan nan  False   False         True     \n"
     ]
    }
   ],
   "source": [
    "ereco = ERecoIRFModel()\n",
    "print(ereco)\n",
    "\n",
    "IRFmodels = IRFModels(e_reco_model= ereco,)"
   ]
  },
  {
   "cell_type": "code",
   "execution_count": 7,
   "id": "f8a95f0a",
   "metadata": {
    "scrolled": false
   },
   "outputs": [
    {
     "name": "stdout",
     "output_type": "stream",
     "text": [
      "in map: 0.8\n",
      "evaluate: 0.8 0.0\n",
      "10\n",
      "in map: 0.8\n",
      "evaluate: 0.8 0.0\n",
      "10\n",
      "in map: 0.8\n",
      "evaluate: 0.8 0.0\n",
      "10\n"
     ]
    }
   ],
   "source": [
    "b = biass[0]; s = sigmass[0]\n",
    "\n",
    "sys_d_cor = sys_dataset(dataset_asimov= dataset_load,\n",
    "                    shift = 0,\n",
    "                    tilt = 0,\n",
    "                    bias = 0, \n",
    "                    sigma = s,\n",
    "                    rnd = False,\n",
    "                    e_reco_creation=10)\n",
    "dataset_conv = sys_d_cor.create_dataset()\n",
    "dataset_conv_N = sys_d_cor.create_dataset_N(1)\n",
    "#dataset_conv_N.models.parameters['norm_nuisance'].frozen  = True\n",
    "#dataset_conv_N.models.parameters['tilt_nuisance'].frozen  = True\n",
    "dataset_conv_N.models.parameters['bias'].frozen  = True\n",
    "#dataset_conv_N.models.parameters['resolution'].frozen  = True\n",
    "#dataset_conv_N.models.parameters['resolution'].value  = s\n",
    "dataset_conv_N.e_reco_n = 1\n",
    "\n",
    "# new fine binned IRF Model\n",
    "dataset_conv_N_fine =  sys_d_cor.create_dataset_N(100)\n",
    "\n",
    "zero = 1e-12\n",
    "penalising_invcovmatrix = np.zeros((2,2))\n",
    "if b ==0 :\n",
    "    b_ = zero\n",
    "else:\n",
    "    b_ = b\n",
    "#np.fill_diagonal(penalising_invcovmatrix, [1/zero**2, 1/zero**2, 1/b_**2, 1/sigma_assumed**2])\n",
    "#np.fill_diagonal(penalising_invcovmatrix, [1/b_**2, 1/sigma_assumed**2])\n",
    "dataset_conv_N.penalising_invcovmatrix = penalising_invcovmatrix\n",
    "dataset_conv_N_fine.penalising_invcovmatrix = penalising_invcovmatrix\n",
    "\n",
    "\n",
    "datasets_conv = Datasets([dataset_conv])\n",
    "datasets_conv_N = Datasets([dataset_conv_N])\n",
    "datasets_conv_N_fine = Datasets([dataset_conv_N_fine])\n",
    "\n",
    "\n"
   ]
  },
  {
   "cell_type": "code",
   "execution_count": 8,
   "id": "b7bdc619",
   "metadata": {},
   "outputs": [],
   "source": [
    "def sum_e (data):\n",
    "    return data.sum(axis=2).sum(axis=1)\n",
    "\n",
    "eaxis_standard = dataset_load.geoms['geom'].axes[0]"
   ]
  },
  {
   "cell_type": "code",
   "execution_count": 9,
   "id": "87cb5f99",
   "metadata": {},
   "outputs": [
    {
     "name": "stdout",
     "output_type": "stream",
     "text": [
      "in map: 0.0\n",
      "evaluate: 0.0 0.0\n",
      "1\n"
     ]
    },
    {
     "data": {
      "text/plain": [
       "<WCSAxesSubplot: >"
      ]
     },
     "execution_count": 9,
     "metadata": {},
     "output_type": "execute_result"
    },
    {
     "data": {
      "image/png": "[encoded data removed]",
      "text/plain": [
       "<Figure size 640x480 with 2 Axes>"
      ]
     },
     "metadata": {},
     "output_type": "display_data"
    }
   ],
   "source": [
    "d = dataset_conv_N\n",
    "d.plot_residuals_spatial()"
   ]
  },
  {
   "cell_type": "code",
   "execution_count": 10,
   "id": "1afed542",
   "metadata": {},
   "outputs": [
    {
     "name": "stdout",
     "output_type": "stream",
     "text": [
      "in map: 0.0\n",
      "evaluate: 0.0 0.0\n",
      "1\n",
      "in map: 0.0\n",
      "evaluate: 0.0 0.0\n",
      "100\n"
     ]
    },
    {
     "data": {
      "text/plain": [
       "<matplotlib.legend.Legend at 0x7fda2a0c11c0>"
      ]
     },
     "execution_count": 10,
     "metadata": {},
     "output_type": "execute_result"
    },
    {
     "data": {
      "image/png": "[encoded data removed]",
      "text/plain": [
       "<Figure size 640x480 with 1 Axes>"
      ]
     },
     "metadata": {},
     "output_type": "display_data"
    }
   ],
   "source": [
    "fig, ax = plt.subplots()\n",
    "i = 0\n",
    "colors = plt.rcParams['axes.prop_cycle'].by_key()['color']\n",
    "\n",
    "for b in biass:\n",
    "    for s in sigmass:\n",
    "        d = datasets_conv_N[i]\n",
    "        d.plot_residuals_spectral(ax =ax, color= colors[i], \n",
    "                    label = f\"bias={b}; res={s}\")\n",
    "        d = datasets_conv_N_fine[i]\n",
    "        d.plot_residuals_spectral(ax =ax, color= colors[1], \n",
    "                    label = f\"bias={b}; res={s}\")\n",
    "        i += 1\n",
    "ax.legend()\n"
   ]
  },
  {
   "cell_type": "code",
   "execution_count": null,
   "id": "0b5d5899",
   "metadata": {},
   "outputs": [
    {
     "name": "stdout",
     "output_type": "stream",
     "text": [
      "in map: 0.0\n",
      "evaluate: 0.0 0.0\n",
      "1\n",
      "in map: 0.0\n",
      "evaluate: 0.0 0.0\n",
      "100\n",
      "in map: 0.0\n",
      "evaluate: 0.0 0.0\n"
     ]
    }
   ],
   "source": [
    "import matplotlib.pyplot as plt\n",
    "\n",
    "# Your data processing code here\n",
    "\n",
    "plt.title(\"Predicted Signal\", fontsize=16)\n",
    "i = 0 \n",
    "fmts = ['o', 'x', '--', ':']\n",
    "colors = ['orange', 'red', 'tab:blue', 'green']\n",
    "plt.plot(sum_e(dataset_load.counts.data-dataset_load.background.data),\n",
    "         label = \"Edisp\", color = 'grey')\n",
    "npreds_pre_fit = []\n",
    "npreds_pre_fit_N = []\n",
    "npreds_pre_fit_N_fine = []\n",
    "for b in biass:\n",
    "    for s in sigmass:\n",
    "        npreds_pre_fit.append( sum_e(datasets_conv[i].npred_signal().data))\n",
    "        npreds_pre_fit_N.append( sum_e(datasets_conv_N[i].npred_signal().data))\n",
    "        npreds_pre_fit_N_fine.append( sum_e(datasets_conv_N_fine[i].npred_signal().data))\n",
    "        \n",
    "        plt.plot( sum_e(datasets_conv[i].npred_signal().data),\n",
    "                 fmts[i], label = f\"bias={b}; res={s}\", color = colors[i])\n",
    "        plt.plot( sum_e(datasets_conv_N[i].npred_signal().data),\n",
    "                 'x', label = f\"bias={b}; res={s}\", color = colors[i])\n",
    "        plt.plot( sum_e(datasets_conv_N_fine[i].npred_signal().data),\n",
    "                 '--', label = f\"bias={b}; res={s}\", color = colors[i])\n",
    "        i += 1\n",
    "        \n",
    "#plt.ylim(1e-1, 4e2)\n",
    "plt.yscale('log')\n",
    "plt.legend()\n",
    "plt.xlabel(\"Energy [TeV]\", fontsize=14)\n",
    "plt.ylabel(\"Counts\", fontsize=14)\n",
    "plt.grid(True)\n",
    "fig = plt.gcf()\n",
    "#fig.savefig(f\"plots/1_Npred_bias={bias}sigma={sigma}.png\", dpi=300, quality=95)"
   ]
  },
  {
   "cell_type": "code",
   "execution_count": null,
   "id": "6182bf34",
   "metadata": {
    "scrolled": true
   },
   "outputs": [],
   "source": [
    "%%time\n",
    "print(\"corr\")\n",
    "fit_cor = Fit(store_trace=True)\n",
    "minuit_opts = {\"tol\": 0.001, \"strategy\": 2}\n",
    "fit_cor.optimize_opts = minuit_opts\n",
    "result_cor = fit_cor.run(datasets_conv)\n",
    "datasets_conv.models.covariance = fit_cor.covariance(datasets_conv).matrix\n",
    "datasets_conv.models.covariance.plot_correlation()\n",
    "print(fit_cor.minuit)\n",
    "\n",
    "fit_cor_N = Fit(store_trace=True)\n",
    "fit_cor_N.optimize_opts = {\"tol\": 0.001, \"strategy\": 2}\n",
    "result_cor_N = fit_cor_N.run(datasets_conv_N)\n",
    "datasets_conv_N.models.covariance = fit_cor_N.covariance(datasets_conv_N).matrix\n",
    "datasets_conv_N.models.covariance.plot_correlation()\n",
    "print(fit_cor_N.minuit)\n",
    "    \n",
    "'''fit_cor_N_fine = Fit(store_trace=True)\n",
    "fit_cor_N_fine.optimize_opts = {\"tol\": 0.001, \"strategy\": 2}\n",
    "result_cor_N_fine = fit_cor_N_fine.run(datasets_conv_N_fine)\n",
    "datasets_conv_N_fine.models.covariance = fit_cor_N_fine.covariance(datasets_conv_N_fine).matrix\n",
    "datasets_conv_N_fine.models.covariance.plot_correlation()\n",
    "print(fit_cor_N_fine.minuit)'''\n",
    "\n",
    "\n",
    "\n",
    "        "
   ]
  },
  {
   "cell_type": "code",
   "execution_count": null,
   "id": "5135638a",
   "metadata": {},
   "outputs": [],
   "source": []
  },
  {
   "cell_type": "code",
   "execution_count": null,
   "id": "2ecaaff6",
   "metadata": {},
   "outputs": [],
   "source": [
    "'''for p in datasets_conv_N.models.parameters.penalised_parameters:\n",
    "    p.frozen = True\n",
    "    print(p.name)\n",
    "        \n",
    "for p in datasets_conv_N_fine.models.parameters.penalised_parameters:\n",
    "    p.frozen = True\n",
    "    print(p.name)'''"
   ]
  },
  {
   "cell_type": "code",
   "execution_count": null,
   "id": "8f665fce",
   "metadata": {},
   "outputs": [],
   "source": [
    "colors_standard = ['darkblue', 'sienna', 'darkolivegreen', 'darkred']\n",
    "colors = plt.rcParams['axes.prop_cycle'].by_key()['color']\n"
   ]
  },
  {
   "cell_type": "code",
   "execution_count": null,
   "id": "b0a1f724",
   "metadata": {},
   "outputs": [],
   "source": [
    "energy = datasets_conv[0].counts.geom.axes[0].center.value\n",
    "energy_bounds = (energy[0], energy[-1] ) * u.TeV\n",
    "\n",
    "\n",
    "fig,axs = plt.subplots(3,1, sharex = True, sharey=True, figsize = (5,8))\n",
    "#axs = [axs]\n",
    "i =0; ii =0\n",
    "for b in biass:\n",
    "    for s in sigmass:\n",
    "        \n",
    "        d = datasets_conv_N\n",
    "    \n",
    "        d.models[0].spectral_model.plot(energy_bounds,  energy_power = 2, ax = axs[ii],\n",
    "                                                               color=colors[ii],\n",
    "                                                                 label= f\"Nuisance\",\n",
    "                                                                alpha = 0.95,\n",
    "                                                               linestyle='-', linewidth= 2)       \n",
    "\n",
    "        d.models[0].spectral_model.plot_error(energy_bounds,  energy_power = 2, ax = axs[ii],\n",
    "                                                               facecolor=colors[ii],\n",
    "                                                                 label=\"NUI\",\n",
    "                                                                alpha = 0.6)\n",
    "        d = datasets_conv\n",
    "        d.models[0].spectral_model.plot(energy_bounds,  energy_power = 2, ax = axs[ii+1],\n",
    "                                                               color=colors_standard[ii],\n",
    "                                                                 label= f\"Standard\",\n",
    "                                                                alpha = 0.95,\n",
    "                                                               linestyle=':', linewidth= 2)       \n",
    "\n",
    "        d.models[0].spectral_model.plot_error(energy_bounds,  energy_power = 2, ax = axs[ii+1],\n",
    "                                                               facecolor=colors_standard[ii],\n",
    "                                                                 label=\"Standard\",\n",
    "                                                                alpha = 0.5)\n",
    "        \n",
    "        d = datasets_conv_N_fine\n",
    "        d.models[0].spectral_model.plot(energy_bounds,  energy_power = 2, ax = axs[ii+2],\n",
    "                                                               color=colors[ii+1],\n",
    "                                                                 label= f\"fine Nui\",\n",
    "                                                                alpha = 0.95,\n",
    "                                                               linestyle=':', linewidth= 2)       \n",
    "\n",
    "        d.models[0].spectral_model.plot_error(energy_bounds,  energy_power = 2, ax = axs[ii+2],\n",
    "                                                               facecolor=colors[ii+1],\n",
    "                                                                 label=\"fine Nui\",\n",
    "                                                                alpha = 0.5)\n",
    "        \n",
    "        axs[ii].set_title(f\"bias={b}; res={s}\")\n",
    "        i +=1\n",
    "        ii +=1\n",
    "for a in axs:\n",
    "    dataset_load.models[0].spectral_model.plot(energy_bounds,  energy_power = 2, ax = a,\n",
    "                                                               color='black',\n",
    "                                                                 label=\"Input\",\n",
    "                                                                alpha = 0.95,\n",
    "                                                               linestyle='dashed', linewidth= 2)  \n",
    "    a.legend()\n",
    "    \n",
    "ylim = axs[0].get_ylim()\n",
    "axs[0].set_xlabel('')\n",
    "plt.tight_layout()\n"
   ]
  },
  {
   "cell_type": "code",
   "execution_count": null,
   "id": "c2068b05",
   "metadata": {},
   "outputs": [],
   "source": [
    "fig,axs = plt.subplots(2,2, sharex = True, sharey=True, figsize = (12,7))\n",
    "axs = axs.flatten()\n",
    "i =0; ii =0\n",
    "for b in biass:\n",
    "    for s in sigmass:\n",
    "        d = datasets_conv_N[ii]\n",
    "        axs[ii].errorbar(energy, sum_e(d.counts.data-d.background.data), \n",
    "                     yerr = np.sqrt(sum_e(d.counts.data-d.background.data)),\n",
    "                    fmt = 'x', label = \"Counts\")\n",
    "\n",
    "        axs[ii].plot(energy, sum_e(d.npred_signal().data), label = \"Npred\")\n",
    "        axs[ii].plot(energy, sum_e(dataset_load.npred_signal().data), label = \"Correct Edisp\")\n",
    "        \n",
    "        \n",
    "        \n",
    "        axs[ii].loglog()\n",
    "        axs[ii].legend()\n",
    "        axs[ii].set_ylim(1e0, 1e3)        \n",
    "        ii +=1\n",
    "        \n"
   ]
  },
  {
   "cell_type": "code",
   "execution_count": null,
   "id": "8c60aae2",
   "metadata": {},
   "outputs": [],
   "source": [
    "fig, ax = plt.subplots()\n",
    "i = 0\n",
    "colors = plt.rcParams['axes.prop_cycle'].by_key()['color']\n",
    "\n",
    "for b in biass:\n",
    "    for s in sigmass:\n",
    "        d = datasets_conv_N[i]\n",
    "        d.plot_residuals_spectral(ax =ax, color= colors[i], \n",
    "                    label = f\"bias={b}; res={s}\")\n",
    "        i += 1\n",
    "ax.legend()\n"
   ]
  },
  {
   "cell_type": "code",
   "execution_count": null,
   "id": "929d5ea4",
   "metadata": {},
   "outputs": [],
   "source": [
    "fig,ax  = plt.subplots(2,2,figsize= (7, 5))\n",
    "ax = ax.flatten()\n",
    "parnames = ['amplitude', 'index', 'norm', 'tilt']\n",
    "labels_sys = []\n",
    "\n",
    "ii =0;\n",
    "for b in biass:\n",
    "    for s in sigmass:\n",
    "        d = datasets_conv[ii]\n",
    "        for i, p in enumerate(parnames):\n",
    "            value = d.models.parameters[p].value\n",
    "            error = d.models.parameters[p].error    \n",
    "            ax[i].errorbar(ii, value, yerr = error, fmt = 'x', color = colors[ii])\n",
    "        labels_sys.append(f'Standard')\n",
    "        \n",
    "        d = datasets_conv_N[ii]\n",
    "        for i, p in enumerate(parnames):\n",
    "            value = d.models.parameters[p].value\n",
    "            error = d.models.parameters[p].error    \n",
    "            ax[i].errorbar(1, value, yerr = error, fmt = 'o', color = colors[ii])\n",
    "        labels_sys.append(f'B={b};\\n R={s};\\n nbin =1')\n",
    "            \n",
    "        d = datasets_conv_N_fine[ii]\n",
    "        for i, p in enumerate(parnames):\n",
    "            value = d.models.parameters[p].value\n",
    "            error = d.models.parameters[p].error    \n",
    "            ax[i].errorbar(2, value, yerr = error, fmt = 'x', color = colors[ii])\n",
    "        labels_sys.append(f'B={b};\\n R={s};\\n nbin =10')\n",
    "            \n",
    "        ii +=1\n",
    "print(labels_sys)        \n",
    "for i, p in enumerate(parnames):\n",
    "    value = dataset_load.models.parameters[p].value\n",
    "    error = dataset_load.models.parameters[p].error    \n",
    "    #ax[i].errorbar(4, value, yerr = error, fmt = 'x')\n",
    "    ax[i].hlines( value, 0, len(labels_sys), label = \"input\", color= 'black')\n",
    "    ax[i].set_title(p)\n",
    "    \n",
    "    \n",
    "for ax in ax:\n",
    "    handles, labels = plt.gca().get_legend_handles_labels()\n",
    "    by_label = dict(zip(labels, handles))\n",
    "    ax.legend(by_label.values(), by_label.keys(), ncol = 1, \n",
    "            loc='lower center',)# bbox_to_anchor=(1, 0.5))\n",
    "    ax.set_ylabel('Best Fit'); \n",
    "    #ax.set_xlabel('Systematic'); \n",
    "    ax.set_xticks(np.arange(len(labels_sys)),labels_sys)\n",
    "    \n",
    "plt.tight_layout()\n",
    "    "
   ]
  },
  {
   "cell_type": "code",
   "execution_count": null,
   "id": "a805d1db",
   "metadata": {},
   "outputs": [],
   "source": [
    "fig,ax  = plt.subplots(1,2,figsize= (7, 2.5))\n",
    "ax = ax.flatten()\n",
    "parnames = ['bias', 'resolution',]\n",
    "labels_sys = []\n",
    "\n",
    "ii =0;\n",
    "for b in biass:\n",
    "    for s in sigmass:\n",
    "        d = datasets_conv_N[ii]\n",
    "        for i, p in enumerate(parnames):\n",
    "            value = d.models.parameters[p].value\n",
    "            error = d.models.parameters[p].error    \n",
    "            ax[i].errorbar(ii, value, yerr = error, fmt = 'o', color = colors[ii])\n",
    "            ax[i].set_title(p)\n",
    "        labels_sys.append(f'B={b};\\n R={s};\\n nbin =1')\n",
    "            \n",
    "        d = datasets_conv_N_fine[ii]\n",
    "        for i, p in enumerate(parnames):\n",
    "            value = d.models.parameters[p].value\n",
    "            error = d.models.parameters[p].error    \n",
    "            ax[i].errorbar(1, value, yerr = error, fmt = 'o', color = colors[ii])\n",
    "            ax[i].set_title(p)    \n",
    "            \n",
    "        ii +=1\n",
    "        labels_sys.append(f'B={b};\\n R={s};\\n nbin =10')\n",
    "        \n",
    "        \n",
    "print(labels_sys)        \n",
    "    \n",
    "    \n",
    "for ax in ax:\n",
    "    handles, labels = plt.gca().get_legend_handles_labels()\n",
    "    by_label = dict(zip(labels, handles))\n",
    "    ax.legend(by_label.values(), by_label.keys(), ncol = 1, \n",
    "            loc='lower center',)# bbox_to_anchor=(1, 0.5))\n",
    "    ax.set_ylabel('Best Fit'); \n",
    "    #ax.set_xlabel('Systematic'); \n",
    "    ax.set_xticks(np.arange(len(labels_sys)),labels_sys)\n",
    "    ax.hlines( 0, 0., len(labels_sys), label = \"input\", color= 'black')\n",
    "    \n",
    "plt.tight_layout()\n",
    "    "
   ]
  },
  {
   "cell_type": "code",
   "execution_count": null,
   "id": "e39210c2",
   "metadata": {},
   "outputs": [],
   "source": [
    "import matplotlib.pyplot as plt\n",
    "\n",
    "# Your data processing code here\n",
    "\n",
    "plt.title(\"Predicted Signal\", fontsize=16)\n",
    "i = 0 \n",
    "fmts = ['o', 'x', '--', ':']\n",
    "colors = ['orange', 'red', 'tab:blue', 'green']\n",
    "plt.plot(sum_e(dataset_load.counts.data-dataset_load.background.data),\n",
    "         label = \"Edisp\", color = 'grey')\n",
    "for b in biass:\n",
    "    for s in sigmass:\n",
    "        plt.plot( npreds_pre_fit[i],\n",
    "                 fmts[i], label = f\"Standard pre-fit\", color = colors[i+1])\n",
    "        plt.plot( npreds_pre_fit_N[i],\n",
    "                 'x', label = f\"Nui pre-fit\", color = colors[i+1])\n",
    "        \n",
    "        plt.plot( sum_e(datasets_conv[i].npred_signal().data),\n",
    "                 fmts[i], label = f\"Standard after\", color = colors[i])\n",
    "        plt.plot( sum_e(datasets_conv_N[i].npred_signal().data),\n",
    "                 'x', label = f\"Nui after\", color = colors[i])\n",
    "        i += 1\n",
    "        \n",
    "#plt.ylim(1e-1, 4e2)\n",
    "plt.yscale('log')\n",
    "plt.legend()\n",
    "plt.xlabel(\"Energy [TeV]\", fontsize=14)\n",
    "plt.ylabel(\"Counts\", fontsize=14)\n",
    "plt.grid(True)\n",
    "fig = plt.gcf()\n",
    "#fig.savefig(f\"plots/1_Npred_bias={bias}sigma={sigma}.png\", dpi=300, quality=95)"
   ]
  },
  {
   "cell_type": "code",
   "execution_count": null,
   "id": "aaa8ed63",
   "metadata": {},
   "outputs": [],
   "source": [
    "sdf"
   ]
  },
  {
   "cell_type": "markdown",
   "id": "1a1387c8",
   "metadata": {},
   "source": [
    "## Statscan"
   ]
  },
  {
   "cell_type": "code",
   "execution_count": null,
   "id": "d2c62c2a",
   "metadata": {},
   "outputs": [],
   "source": [
    "grid = np.linspace(-0.3, 0.3, 11)"
   ]
  },
  {
   "cell_type": "markdown",
   "id": "aad7b2c6",
   "metadata": {},
   "source": [
    "!!! NOT THE CORRECT PARAMETERS ARE GETTING SCANED HERE!!!\n",
    "\n",
    " WAS THE PROBLEM THAT THE RESOLUTION IS FROZEN?  ---> yes :("
   ]
  },
  {
   "cell_type": "code",
   "execution_count": null,
   "id": "e52bfa66",
   "metadata": {
    "scrolled": true
   },
   "outputs": [],
   "source": [
    "%%time\n",
    "x_N, y_N , s_N= fit_cor_N.minuit.mnprofile(\"par_005_resolution\",grid=grid)\n",
    "#x_N_fine, y_N_fine , s_N_fine= fit_cor_N_fine.minuit.mnprofile(\"par_005_resolution\", grid=grid)\n"
   ]
  },
  {
   "cell_type": "code",
   "execution_count": null,
   "id": "28a208ee",
   "metadata": {},
   "outputs": [],
   "source": [
    "plt.plot(x_N, y_N)\n",
    "#plt.plot(x_N_fine, y_N_fine , label = 'fine')\n",
    "plt.legend()"
   ]
  },
  {
   "cell_type": "markdown",
   "id": "59c24c2b",
   "metadata": {},
   "source": [
    "## Test the same for the other parameters"
   ]
  },
  {
   "cell_type": "code",
   "execution_count": null,
   "id": "a916d15c",
   "metadata": {},
   "outputs": [],
   "source": [
    "grid_index = np.linspace(2, 2.5, 11)"
   ]
  },
  {
   "cell_type": "code",
   "execution_count": null,
   "id": "2fa7cc94",
   "metadata": {},
   "outputs": [],
   "source": [
    "print(datasets_conv_N[0].models)"
   ]
  },
  {
   "cell_type": "code",
   "execution_count": null,
   "id": "5c0ace1a",
   "metadata": {
    "scrolled": true
   },
   "outputs": [],
   "source": [
    "%%time\n",
    "x_N_index, y_N_index , s_N_index= fit_cor_N.minuit.mnprofile(\"par_000_index\",grid=grid_index)\n",
    "x_index, y_index , s_index= fit_cor.minuit.mnprofile(\"par_000_index\", grid=grid_index)\n"
   ]
  },
  {
   "cell_type": "code",
   "execution_count": null,
   "id": "ad6c426a",
   "metadata": {},
   "outputs": [],
   "source": [
    "plt.plot(x_index, y_index)\n",
    "plt.plot(x_N_index, y_N_index , label = 'Nuisance')\n",
    "plt.legend()"
   ]
  },
  {
   "cell_type": "code",
   "execution_count": null,
   "id": "35b7aeef",
   "metadata": {},
   "outputs": [],
   "source": [
    "grid = np.linspace(-0.3, 0.3, 11)"
   ]
  },
  {
   "cell_type": "code",
   "execution_count": null,
   "id": "892647f1",
   "metadata": {
    "scrolled": true
   },
   "outputs": [],
   "source": [
    "%%time\n",
    "par =dataset_conv_N.models.parameters['index']\n",
    "par.scan_values = grid_index\n",
    "stat  = fit_cor_N.stat_profile(\n",
    "    datasets = datasets_conv_N,\n",
    "    parameter = par,\n",
    "    reoptimize = True)\n",
    "\n",
    "\n"
   ]
  },
  {
   "cell_type": "code",
   "execution_count": null,
   "id": "485950de",
   "metadata": {},
   "outputs": [],
   "source": [
    "print('fine')\n",
    "par_standard =dataset_conv.models.parameters['index']\n",
    "par_standard.scan_values = grid_index\n",
    "stat_standard  = fit_cor.stat_profile(\n",
    "    datasets = datasets_conv,\n",
    "    parameter = par_standard,\n",
    "    reoptimize=True)"
   ]
  },
  {
   "cell_type": "code",
   "execution_count": null,
   "id": "70dce3ea",
   "metadata": {},
   "outputs": [],
   "source": [
    "plt.plot(stat['Source.spectral.index_scan'],stat['stat_scan'] )\n",
    "plt.plot(stat_standard['Source.spectral.index_scan'],stat_standard['stat_scan'], label = 'standard' )\n",
    "plt.plot(x_N_index, y_N_index , label = 'Nuisance')\n",
    "\n",
    "plt.legend()"
   ]
  }
 ],
 "metadata": {
  "kernelspec": {
   "display_name": "Python 3 (ipykernel)",
   "language": "python",
   "name": "python3"
  },
  "language_info": {
   "codemirror_mode": {
    "name": "ipython",
    "version": 3
   },
   "file_extension": ".py",
   "mimetype": "text/x-python",
   "name": "python",
   "nbconvert_exporter": "python",
   "pygments_lexer": "ipython3",
   "version": "3.8.15"
  },
  "varInspector": {
   "cols": {
    "lenName": 16,
    "lenType": 16,
    "lenVar": 40
   },
   "kernels_config": {
    "python": {
     "delete_cmd_postfix": "",
     "delete_cmd_prefix": "del ",
     "library": "var_list.py",
     "varRefreshCmd": "print(var_dic_list())"
    },
    "r": {
     "delete_cmd_postfix": ") ",
     "delete_cmd_prefix": "rm(",
     "library": "var_list.r",
     "varRefreshCmd": "cat(var_dic_list()) "
    }
   },
   "types_to_exclude": [
    "module",
    "function",
    "builtin_function_or_method",
    "instance",
    "_Feature"
   ],
   "window_display": false
  }
 },
 "nbformat": 4,
 "nbformat_minor": 5
}
