{
 "cells": [
  {
   "cell_type": "code",
   "execution_count": 1,
   "id": "c102068e",
   "metadata": {},
   "outputs": [
    {
     "name": "stdout",
     "output_type": "stream",
     "text": [
      "loaded gammapy version: 0.1.dev19056+g5a5f803 \n",
      "Supposed to be 1.0 (21-11-2022)\n"
     ]
    }
   ],
   "source": [
    "import gammapy \n",
    "print(f'loaded gammapy version: {gammapy.__version__} ' )\n",
    "print(f'Supposed to be 1.0 (21-11-2022)' )"
   ]
  },
  {
   "cell_type": "code",
   "execution_count": 2,
   "id": "e0c4dcf1",
   "metadata": {
    "execution": {
     "iopub.execute_input": "2022-03-17T11:24:36.091662Z",
     "iopub.status.busy": "2022-03-17T11:24:36.091167Z",
     "iopub.status.idle": "2022-03-17T11:25:00.872876Z",
     "shell.execute_reply": "2022-03-17T11:25:00.871690Z"
    }
   },
   "outputs": [],
   "source": [
    "#get_ipython().system('jupyter nbconvert --to script 1-Nui_Par_Fitting.ipynb')\n",
    "import pyximport\n",
    "\n",
    "pyximport.install()\n",
    "import matplotlib.pyplot as plt\n",
    "import numpy as np\n",
    "import astropy.units as u\n",
    "import gammapy\n",
    "\n",
    "# from gammapy.datasets import MapDataset\n",
    "from gammapy.maps import Map\n",
    "\n",
    "from astropy.coordinates import SkyCoord, Angle\n",
    "from gammapy.modeling import Fit,  Parameters, Covariance , Parameter\n",
    "from gammapy.datasets import MapDataset ,Datasets#, MapDatasetNuisance\n",
    "from gammapy.modeling.models import (\n",
    "    PowerLawSpectralModel,\n",
    "    create_crab_spectral_model,\n",
    "    SkyModel,\n",
    "    PointSpatialModel,\n",
    "    ShellSpatialModel,\n",
    "    GeneralizedGaussianSpatialModel,\n",
    "    TemplateSpatialModel,\n",
    "    LogParabolaSpectralModel,\n",
    "    GaussianSpatialModel,\n",
    "    DiskSpatialModel,\n",
    "    PowerLawNormSpectralModel,\n",
    "    Models,\n",
    "    SpatialModel,\n",
    "    FoVBackgroundModel,\n",
    "    #PowerLawNuisanceSpectralModel,\n",
    "    #PowerLawNormNuisanceSpectralModel\n",
    ")\n",
    "from gammapy.estimators import TSMapEstimator, ExcessMapEstimator\n",
    "\n",
    "from regions import CircleSkyRegion, RectangleSkyRegion\n",
    "import yaml\n",
    "import sys\n",
    "\n",
    "from Dataset_Creation import sys_dataset\n"
   ]
  },
  {
   "cell_type": "markdown",
   "id": "23adcef0",
   "metadata": {},
   "source": [
    "## Read dataset"
   ]
  },
  {
   "cell_type": "code",
   "execution_count": 3,
   "id": "f94dc89c",
   "metadata": {},
   "outputs": [
    {
     "name": "stdout",
     "output_type": "stream",
     "text": [
      "{'path': '/home/katrin/Documents', 'path_crab': '/home/katrin/Documents/Crab'}\n",
      "spatial binsize =  [0.08] deg\n",
      "MapDataset\n",
      "----------\n",
      "\n",
      "  Name                            : Q-gI6GUB \n",
      "\n",
      "  Total counts                    : 388209 \n",
      "  Total background counts         : 360331.31\n",
      "  Total excess counts             : 27877.69\n",
      "\n",
      "  Predicted counts                : 361333.07\n",
      "  Predicted background counts     : 360331.34\n",
      "  Predicted excess counts         : 1001.73\n",
      "\n",
      "  Exposure min                    : 2.07e-01 m2 s\n",
      "  Exposure max                    : 2.41e+11 m2 s\n",
      "\n",
      "  Number of total bins            : 540000 \n",
      "  Number of fit bins              : 180191 \n",
      "\n",
      "  Fit statistic type              : cash\n",
      "  Fit statistic value (-2 log(L)) : -924522.99\n",
      "\n",
      "  Number of models                : 2 \n",
      "  Number of parameters            : 11\n",
      "  Number of free parameters       : 7\n",
      "\n",
      "  Component 0: SkyModel\n",
      "  \n",
      "    Name                      : Source\n",
      "    Datasets names            : None\n",
      "    Spectral model type       : PowerLawSpectralModel\n",
      "    Spatial  model type       : GaussianSpatialModel\n",
      "    Temporal model type       : \n",
      "    Parameters:\n",
      "      index                         :      2.300   +/-    0.00             \n",
      "      amplitude                     :   1.00e-12   +/- 0.0e+00 1 / (cm2 s TeV)\n",
      "      reference             (frozen):      1.000       TeV         \n",
      "      lon_0                         :     83.631   +/-    0.00 deg         \n",
      "      lat_0                         :     22.018   +/-    0.00 deg         \n",
      "      sigma                         :      0.019   +/-    0.00 deg         \n",
      "      e                     (frozen):      0.000                   \n",
      "      phi                   (frozen):      0.000       deg         \n",
      "  \n",
      "  Component 1: FoVBackgroundModel\n",
      "  \n",
      "    Name                      : Q-gI6GUB-bkg\n",
      "    Datasets names            : ['Q-gI6GUB']\n",
      "    Spectral model type       : PowerLawNormSpectralModel\n",
      "    Parameters:\n",
      "      norm                          :      1.000   +/-    0.00             \n",
      "      tilt                          :      0.000   +/-    0.00             \n",
      "      reference             (frozen):      1.000       TeV         \n",
      "  \n",
      "  \n"
     ]
    },
    {
     "data": {
      "image/png": "[encoded data removed]",
      "text/plain": [
       "<Figure size 640x480 with 2 Axes>"
      ]
     },
     "metadata": {},
     "output_type": "display_data"
    }
   ],
   "source": [
    "import json\n",
    "with open(\"config.json\") as json_data_file:\n",
    "    config = json.load(json_data_file)\n",
    "config = config['local']\n",
    "print(config)\n",
    "source = 'Crab'\n",
    "path = config[\"path\"]\n",
    "path_crab = config[\"path_crab\"]\n",
    "\n",
    "\n",
    "dataset_load = MapDataset.read(f'{path}/{source}/stacked.fits')\n",
    "dataset_load = dataset_load.downsample(4)\n",
    "models = Models.read(f\"{path_crab}/standard_model.yml\")\n",
    "model_spectrum  = PowerLawSpectralModel(\n",
    "    index=2.3,\n",
    "    amplitude=\"1e-12 TeV-1 cm-2 s-1\",    )\n",
    "source_model = SkyModel(spatial_model = models['main source'].spatial_model ,\n",
    "                       spectral_model = model_spectrum,\n",
    "                       name = \"Source\")    \n",
    "models = Models(source_model)\n",
    "\n",
    "bkg_model = FoVBackgroundModel(dataset_name=dataset_load.name)\n",
    "bkg_model.parameters['tilt'].frozen  = False\n",
    "models.append(bkg_model)\n",
    "dataset_load.models = models\n",
    "\n",
    "dataset_asimov = dataset_load.copy()\n",
    "dataset_asimov.counts = dataset_load.npred()\n",
    "models = Models(source_model.copy())\n",
    "bkg_model = FoVBackgroundModel(dataset_name=dataset_asimov.name)\n",
    "bkg_model.parameters['tilt'].frozen  = False\n",
    "models.append(bkg_model)\n",
    "dataset_asimov.models = models\n",
    "\n",
    "    \n",
    "dataset_load.counts.sum_over_axes().plot(add_cbar=1)\n",
    "binsize = dataset_load.geoms[\"geom\"].width[1] / dataset_load.geoms[\"geom\"].data_shape[1]\n",
    "print(\n",
    "    \"spatial binsize = \",\n",
    "    binsize\n",
    ")\n",
    "\n",
    "print(dataset_load)"
   ]
  },
  {
   "cell_type": "markdown",
   "id": "2e0399d4",
   "metadata": {},
   "source": [
    "## Single Cases"
   ]
  },
  {
   "cell_type": "code",
   "execution_count": 4,
   "id": "e19a0a90",
   "metadata": {},
   "outputs": [
    {
     "name": "stdout",
     "output_type": "stream",
     "text": [
      "-0.015\n"
     ]
    }
   ],
   "source": [
    "true_energy = dataset_asimov.exposure.geom.axes[0].center.value\n",
    "\n",
    "shift_neg = -0.085\n",
    "tilt_neg = -0.015\n",
    "\n",
    "print(tilt_neg)\n",
    "sys_ = sys_dataset(dataset_asimov= dataset_asimov,\n",
    "                        shift = shift_neg, \n",
    "                        tilt = tilt_neg,\n",
    "                        rnd = False)\n",
    "dataset = sys_.create_dataset()\n",
    "dataset.models[0].parameters['lon_0'].frozen = True\n",
    "dataset.models[0].parameters['lat_0'].frozen = True\n",
    "datasets = Datasets(dataset)    \n",
    "    \n",
    "    \n",
    "dataset_N = sys_.create_dataset_N()\n",
    "zero = 1e-24\n",
    "## addional parameter bias and resolution (ereco) but are frozen\n",
    "penalising_invcovmatrix = np.zeros((4, 4))\n",
    "np.fill_diagonal(penalising_invcovmatrix,\n",
    "                 [1/shift_neg**2, 1/tilt_neg**2, 1/zero**2, 1/zero**2])\n",
    "\n",
    "dataset_N.penalising_invcovmatrix = penalising_invcovmatrix\n",
    "dataset_N.models[0].parameters['lon_0'].frozen = True\n",
    "dataset_N.models[0].parameters['lat_0'].frozen = True\n",
    "datasets_N = Datasets(dataset_N)"
   ]
  },
  {
   "cell_type": "code",
   "execution_count": 5,
   "id": "00135c29",
   "metadata": {},
   "outputs": [
    {
     "name": "stdout",
     "output_type": "stream",
     "text": [
      "MapDataset\n",
      "----------\n",
      "\n",
      "  Name                            : OrW7oIoe \n",
      "\n",
      "  Total counts                    : 361333 \n",
      "  Total background counts         : 360331.31\n",
      "  Total excess counts             : 1001.76\n",
      "\n",
      "  Predicted counts                : 361258.59\n",
      "  Predicted background counts     : 360331.34\n",
      "  Predicted excess counts         : 927.24\n",
      "\n",
      "  Exposure min                    : 1.84e-01 m2 s\n",
      "  Exposure max                    : 2.34e+11 m2 s\n",
      "\n",
      "  Number of total bins            : 540000 \n",
      "  Number of fit bins              : 180191 \n",
      "\n",
      "  Fit statistic type              : cash\n",
      "  Fit statistic value (-2 log(L)) : -753578.81\n",
      "\n",
      "  Number of models                : 2 \n",
      "  Number of parameters            : 11\n",
      "  Number of free parameters       : 5\n",
      "\n",
      "  Component 0: SkyModel\n",
      "  \n",
      "    Name                      : Source\n",
      "    Datasets names            : None\n",
      "    Spectral model type       : PowerLawSpectralModel\n",
      "    Spatial  model type       : GaussianSpatialModel\n",
      "    Temporal model type       : \n",
      "    Parameters:\n",
      "      index                         :      2.300   +/-    0.00             \n",
      "      amplitude                     :   1.00e-12   +/- 0.0e+00 1 / (cm2 s TeV)\n",
      "      reference             (frozen):      1.000       TeV         \n",
      "      lon_0                 (frozen):     83.631       deg         \n",
      "      lat_0                 (frozen):     22.018       deg         \n",
      "      sigma                         :      0.019   +/-    0.00 deg         \n",
      "      e                     (frozen):      0.000                   \n",
      "      phi                   (frozen):      0.000       deg         \n",
      "  \n",
      "  Component 1: FoVBackgroundModel\n",
      "  \n",
      "    Name                      : OrW7oIoe-bkg\n",
      "    Datasets names            : ['OrW7oIoe']\n",
      "    Spectral model type       : PowerLawNormSpectralModel\n",
      "    Parameters:\n",
      "      norm                          :      1.000   +/-    0.00             \n",
      "      tilt                          :      0.000   +/-    0.00             \n",
      "      reference             (frozen):      1.000       TeV         \n",
      "  \n",
      "  \n"
     ]
    }
   ],
   "source": [
    "print(dataset)"
   ]
  },
  {
   "cell_type": "code",
   "execution_count": 13,
   "id": "561d9d11",
   "metadata": {},
   "outputs": [
    {
     "name": "stdout",
     "output_type": "stream",
     "text": [
      "OptimizeResult\n",
      "\n",
      "\tbackend    : minuit\n",
      "\tmethod     : migrad\n",
      "\tsuccess    : True\n",
      "\tmessage    : Optimization terminated successfully.\n",
      "\tnfev       : 164\n",
      "\ttotal stat : -753580.09\n",
      "\n",
      "CovarianceResult\n",
      "\n",
      "\tbackend    : minuit\n",
      "\tmethod     : hesse\n",
      "\tsuccess    : True\n",
      "\tmessage    : Hesse terminated successfully.\n",
      "\n",
      "CPU times: user 1.81 s, sys: 388 µs, total: 1.81 s\n",
      "Wall time: 1.81 s\n"
     ]
    }
   ],
   "source": [
    "%%time\n",
    "fit = Fit(store_trace=False)\n",
    "minuit_opts = {\"tol\": 0.01, \"strategy\": 2}\n",
    "fit.optimize_opts = minuit_opts\n",
    "result = fit.run(datasets)\n",
    "print(result)"
   ]
  },
  {
   "cell_type": "code",
   "execution_count": 14,
   "id": "dbbac3fe",
   "metadata": {},
   "outputs": [
    {
     "data": {
      "text/html": [
       "<table>\n",
       "    <tr>\n",
       "        <th colspan=\"5\" style=\"text-align:center\" title=\"Minimizer\"> Migrad </th>\n",
       "    </tr>\n",
       "    <tr>\n",
       "        <td colspan=\"2\" style=\"text-align:left\" title=\"Minimum value of function\"> FCN = -7.536e+05 </td>\n",
       "        <td colspan=\"3\" style=\"text-align:center\" title=\"Total number of function and (optional) gradient evaluations\"> Nfcn = 164 </td>\n",
       "    </tr>\n",
       "    <tr>\n",
       "        <td colspan=\"2\" style=\"text-align:left\" title=\"Estimated distance to minimum and goal\"> EDM = 4.6e-06 (Goal: 2e-05) </td>\n",
       "        <td colspan=\"3\" style=\"text-align:center\" title=\"Total run time of algorithms\"> time = 1.8 sec </td>\n",
       "    </tr>\n",
       "    <tr>\n",
       "        <td colspan=\"2\" style=\"text-align:center;background-color:#92CCA6;color:black\"> Valid Minimum </td>\n",
       "        <td colspan=\"3\" style=\"text-align:center;background-color:#92CCA6;color:black\"> No Parameters at limit </td>\n",
       "    </tr>\n",
       "    <tr>\n",
       "        <td colspan=\"2\" style=\"text-align:center;background-color:#92CCA6;color:black\"> Below EDM threshold (goal x 10) </td>\n",
       "        <td colspan=\"3\" style=\"text-align:center;background-color:#92CCA6;color:black\"> Below call limit </td>\n",
       "    </tr>\n",
       "    <tr>\n",
       "        <td style=\"text-align:center;background-color:#92CCA6;color:black\"> Covariance </td>\n",
       "        <td style=\"text-align:center;background-color:#92CCA6;color:black\"> Hesse ok </td>\n",
       "        <td style=\"text-align:center;background-color:#92CCA6;color:black\" title=\"Is covariance matrix accurate?\"> Accurate </td>\n",
       "        <td style=\"text-align:center;background-color:#92CCA6;color:black\" title=\"Is covariance matrix positive definite?\"> Pos. def. </td>\n",
       "        <td style=\"text-align:center;background-color:#92CCA6;color:black\" title=\"Was positive definiteness enforced by Minuit?\"> Not forced </td>\n",
       "    </tr>\n",
       "</table><table>\n",
       "    <tr>\n",
       "        <td></td>\n",
       "        <th title=\"Variable name\"> Name </th>\n",
       "        <th title=\"Value of parameter\"> Value </th>\n",
       "        <th title=\"Hesse error\"> Hesse Error </th>\n",
       "        <th title=\"Minos lower error\"> Minos Error- </th>\n",
       "        <th title=\"Minos upper error\"> Minos Error+ </th>\n",
       "        <th title=\"Lower limit of the parameter\"> Limit- </th>\n",
       "        <th title=\"Upper limit of the parameter\"> Limit+ </th>\n",
       "        <th title=\"Is the parameter fixed in the fit\"> Fixed </th>\n",
       "    </tr>\n",
       "    <tr>\n",
       "        <th> 0 </th>\n",
       "        <td> par_000_index </td>\n",
       "        <td> 2.32 </td>\n",
       "        <td> 0.06 </td>\n",
       "        <td>  </td>\n",
       "        <td>  </td>\n",
       "        <td>  </td>\n",
       "        <td>  </td>\n",
       "        <td>  </td>\n",
       "    </tr>\n",
       "    <tr>\n",
       "        <th> 1 </th>\n",
       "        <td> par_001_amplitude </td>\n",
       "        <td> 10.9 </td>\n",
       "        <td> 1.0 </td>\n",
       "        <td>  </td>\n",
       "        <td>  </td>\n",
       "        <td>  </td>\n",
       "        <td>  </td>\n",
       "        <td>  </td>\n",
       "    </tr>\n",
       "    <tr>\n",
       "        <th> 2 </th>\n",
       "        <td> par_002_sigma </td>\n",
       "        <td> 1.9 </td>\n",
       "        <td> 1.1 </td>\n",
       "        <td>  </td>\n",
       "        <td>  </td>\n",
       "        <td> 0 </td>\n",
       "        <td>  </td>\n",
       "        <td>  </td>\n",
       "    </tr>\n",
       "    <tr>\n",
       "        <th> 3 </th>\n",
       "        <td> par_003_norm </td>\n",
       "        <td> 1.0000 </td>\n",
       "        <td> 0.0021 </td>\n",
       "        <td>  </td>\n",
       "        <td>  </td>\n",
       "        <td>  </td>\n",
       "        <td>  </td>\n",
       "        <td>  </td>\n",
       "    </tr>\n",
       "    <tr>\n",
       "        <th> 4 </th>\n",
       "        <td> par_004_tilt </td>\n",
       "        <td> 0 </td>\n",
       "        <td> 0.2e3 </td>\n",
       "        <td>  </td>\n",
       "        <td>  </td>\n",
       "        <td>  </td>\n",
       "        <td>  </td>\n",
       "        <td>  </td>\n",
       "    </tr>\n",
       "</table><table>\n",
       "    <tr>\n",
       "        <td></td>\n",
       "        <th> par_000_index </th>\n",
       "        <th> par_001_amplitude </th>\n",
       "        <th> par_002_sigma </th>\n",
       "        <th> par_003_norm </th>\n",
       "        <th> par_004_tilt </th>\n",
       "    </tr>\n",
       "    <tr>\n",
       "        <th> par_000_index </th>\n",
       "        <td> 0.00381 </td>\n",
       "        <td style=\"background-color:rgb(250,145,145);color:black\"> 0.0423 <strong>(0.699)</strong> </td>\n",
       "        <td style=\"background-color:rgb(249,249,250);color:black\"> -0.000433 <strong>(-0.006)</strong> </td>\n",
       "        <td style=\"background-color:rgb(242,242,250);color:black\"> -7.43e-06 <strong>(-0.058)</strong> </td>\n",
       "        <td style=\"background-color:rgb(242,242,250);color:black\"> -0.744 <strong>(-0.061)</strong> </td>\n",
       "    </tr>\n",
       "    <tr>\n",
       "        <th> par_001_amplitude </th>\n",
       "        <td style=\"background-color:rgb(250,145,145);color:black\"> 0.0423 <strong>(0.699)</strong> </td>\n",
       "        <td> 0.963 </td>\n",
       "        <td style=\"background-color:rgb(250,243,243);color:black\"> 0.0516 <strong>(0.047)</strong> </td>\n",
       "        <td style=\"background-color:rgb(239,239,250);color:black\"> -0.000168 <strong>(-0.083)</strong> </td>\n",
       "        <td style=\"background-color:rgb(245,245,250);color:black\"> -6.8 <strong>(-0.035)</strong> </td>\n",
       "    </tr>\n",
       "    <tr>\n",
       "        <th> par_002_sigma </th>\n",
       "        <td style=\"background-color:rgb(249,249,250);color:black\"> -0.000433 <strong>(-0.006)</strong> </td>\n",
       "        <td style=\"background-color:rgb(250,243,243);color:black\"> 0.0516 <strong>(0.047)</strong> </td>\n",
       "        <td> 1.23 </td>\n",
       "        <td style=\"background-color:rgb(250,250,250);color:black\"> -7.79e-06 <strong>(-0.003)</strong> </td>\n",
       "        <td style=\"background-color:rgb(250,250,250);color:black\"> 0.422 <strong>(0.002)</strong> </td>\n",
       "    </tr>\n",
       "    <tr>\n",
       "        <th> par_003_norm </th>\n",
       "        <td style=\"background-color:rgb(242,242,250);color:black\"> -7.43e-06 <strong>(-0.058)</strong> </td>\n",
       "        <td style=\"background-color:rgb(239,239,250);color:black\"> -0.000168 <strong>(-0.083)</strong> </td>\n",
       "        <td style=\"background-color:rgb(250,250,250);color:black\"> -7.79e-06 <strong>(-0.003)</strong> </td>\n",
       "        <td> 4.27e-06 </td>\n",
       "        <td style=\"background-color:rgb(250,162,162);color:black\"> 0.238 <strong>(0.586)</strong> </td>\n",
       "    </tr>\n",
       "    <tr>\n",
       "        <th> par_004_tilt </th>\n",
       "        <td style=\"background-color:rgb(242,242,250);color:black\"> -0.744 <strong>(-0.061)</strong> </td>\n",
       "        <td style=\"background-color:rgb(245,245,250);color:black\"> -6.8 <strong>(-0.035)</strong> </td>\n",
       "        <td style=\"background-color:rgb(250,250,250);color:black\"> 0.422 <strong>(0.002)</strong> </td>\n",
       "        <td style=\"background-color:rgb(250,162,162);color:black\"> 0.238 <strong>(0.586)</strong> </td>\n",
       "        <td> 3.85e+04 </td>\n",
       "    </tr>\n",
       "</table>"
      ],
      "text/plain": [
       "┌─────────────────────────────────────────────────────────────────────────┐\n",
       "│                                Migrad                                   │\n",
       "├──────────────────────────────────┬──────────────────────────────────────┤\n",
       "│ FCN = -7.536e+05                 │              Nfcn = 164              │\n",
       "│ EDM = 4.6e-06 (Goal: 2e-05)      │            time = 1.8 sec            │\n",
       "├──────────────────────────────────┼──────────────────────────────────────┤\n",
       "│          Valid Minimum           │        No Parameters at limit        │\n",
       "├──────────────────────────────────┼──────────────────────────────────────┤\n",
       "│ Below EDM threshold (goal x 10)  │           Below call limit           │\n",
       "├───────────────┬──────────────────┼───────────┬─────────────┬────────────┤\n",
       "│  Covariance   │     Hesse ok     │ Accurate  │  Pos. def.  │ Not forced │\n",
       "└───────────────┴──────────────────┴───────────┴─────────────┴────────────┘\n",
       "┌───┬───────────────────┬───────────┬───────────┬────────────┬────────────┬─────────┬─────────┬───────┐\n",
       "│   │ Name              │   Value   │ Hesse Err │ Minos Err- │ Minos Err+ │ Limit-  │ Limit+  │ Fixed │\n",
       "├───┼───────────────────┼───────────┼───────────┼────────────┼────────────┼─────────┼─────────┼───────┤\n",
       "│ 0 │ par_000_index     │   2.32    │   0.06    │            │            │         │         │       │\n",
       "│ 1 │ par_001_amplitude │   10.9    │    1.0    │            │            │         │         │       │\n",
       "│ 2 │ par_002_sigma     │    1.9    │    1.1    │            │            │    0    │         │       │\n",
       "│ 3 │ par_003_norm      │  1.0000   │  0.0021   │            │            │         │         │       │\n",
       "│ 4 │ par_004_tilt      │     0     │   0.2e3   │            │            │         │         │       │\n",
       "└───┴───────────────────┴───────────┴───────────┴────────────┴────────────┴─────────┴─────────┴───────┘\n",
       "┌───────────────────┬───────────────────────────────────────────────────────────────────────────────────────────┐\n",
       "│                   │     par_000_index par_001_amplitude     par_002_sigma      par_003_norm      par_004_tilt │\n",
       "├───────────────────┼───────────────────────────────────────────────────────────────────────────────────────────┤\n",
       "│     par_000_index │           0.00381            0.0423         -0.000433         -7.43e-06            -0.744 │\n",
       "│ par_001_amplitude │            0.0423             0.963            0.0516         -0.000168              -6.8 │\n",
       "│     par_002_sigma │         -0.000433            0.0516              1.23         -7.79e-06             0.422 │\n",
       "│      par_003_norm │         -7.43e-06         -0.000168         -7.79e-06          4.27e-06             0.238 │\n",
       "│      par_004_tilt │            -0.744              -6.8             0.422             0.238          3.85e+04 │\n",
       "└───────────────────┴───────────────────────────────────────────────────────────────────────────────────────────┘"
      ]
     },
     "execution_count": 14,
     "metadata": {},
     "output_type": "execute_result"
    }
   ],
   "source": [
    "fit.minuit"
   ]
  },
  {
   "cell_type": "code",
   "execution_count": 7,
   "id": "b5bafbb8",
   "metadata": {},
   "outputs": [
    {
     "name": "stdout",
     "output_type": "stream",
     "text": [
      "CPU times: user 2min 10s, sys: 11.1 s, total: 2min 21s\n",
      "Wall time: 2min 21s\n"
     ]
    }
   ],
   "source": [
    "%%time\n",
    "fit_N = Fit(store_trace=False)\n",
    "fit_N.optimize_opts = minuit_opts\n",
    "result_N = fit_N.run([datasets_N[0]])\n"
   ]
  },
  {
   "cell_type": "markdown",
   "id": "db6ce963",
   "metadata": {},
   "source": [
    "# Stat Contours"
   ]
  },
  {
   "cell_type": "code",
   "execution_count": 15,
   "id": "cefc85f3",
   "metadata": {},
   "outputs": [],
   "source": [
    "from itertools import combinations\n",
    "def make_contours(fit, datasets, result, npoints, sigmas):\n",
    "    cts_sigma = []\n",
    "    for sigma in sigmas:\n",
    "        contours = dict()\n",
    "        for par_1, par_2 in combinations([\"amplitude\", \"index\", \"norm\"], r=2):\n",
    "            idx1, idx2 = datasets.parameters.index(par_1), datasets.parameters.index(\n",
    "                par_2\n",
    "            )\n",
    "            name1 = datasets.models.parameters_unique_names[idx1]\n",
    "            name2 = datasets.models.parameters_unique_names[idx2]\n",
    "            contour = fit.stat_contour(\n",
    "                datasets=datasets,\n",
    "                x=datasets.parameters[par_1],\n",
    "                y=datasets.parameters[par_2],\n",
    "                numpoints=npoints,\n",
    "                sigma=sigma,\n",
    "            )\n",
    "            contours[f\"contour_{par_1}_{par_2}\"] = {\n",
    "                par_1: contour[name1].tolist(),\n",
    "                par_2: contour[name2].tolist(),\n",
    "            }\n",
    "        cts_sigma.append(contours)\n",
    "    return cts_sigma"
   ]
  },
  {
   "cell_type": "code",
   "execution_count": 16,
   "id": "d2e56fc1",
   "metadata": {},
   "outputs": [
    {
     "name": "stdout",
     "output_type": "stream",
     "text": [
      "x par_001_amplitude\n",
      "y par_000_index\n",
      "c; 0.3934693402873665\n",
      "E MnContours unable to find first two points\n",
      "[]\n",
      "(0,)\n"
     ]
    },
    {
     "ename": "IndexError",
     "evalue": "too many indices for array: array is 1-dimensional, but 2 were indexed",
     "output_type": "error",
     "traceback": [
      "\u001b[0;31m---------------------------------------------------------------------------\u001b[0m",
      "\u001b[0;31mIndexError\u001b[0m                                Traceback (most recent call last)",
      "File \u001b[0;32m<timed exec>:2\u001b[0m\n",
      "Cell \u001b[0;32mIn[15], line 12\u001b[0m, in \u001b[0;36mmake_contours\u001b[0;34m(fit, datasets, result, npoints, sigmas)\u001b[0m\n\u001b[1;32m     10\u001b[0m     name1 \u001b[38;5;241m=\u001b[39m datasets\u001b[38;5;241m.\u001b[39mmodels\u001b[38;5;241m.\u001b[39mparameters_unique_names[idx1]\n\u001b[1;32m     11\u001b[0m     name2 \u001b[38;5;241m=\u001b[39m datasets\u001b[38;5;241m.\u001b[39mmodels\u001b[38;5;241m.\u001b[39mparameters_unique_names[idx2]\n\u001b[0;32m---> 12\u001b[0m     contour \u001b[38;5;241m=\u001b[39m \u001b[43mfit\u001b[49m\u001b[38;5;241;43m.\u001b[39;49m\u001b[43mstat_contour\u001b[49m\u001b[43m(\u001b[49m\n\u001b[1;32m     13\u001b[0m \u001b[43m        \u001b[49m\u001b[43mdatasets\u001b[49m\u001b[38;5;241;43m=\u001b[39;49m\u001b[43mdatasets\u001b[49m\u001b[43m,\u001b[49m\n\u001b[1;32m     14\u001b[0m \u001b[43m        \u001b[49m\u001b[43mx\u001b[49m\u001b[38;5;241;43m=\u001b[39;49m\u001b[43mdatasets\u001b[49m\u001b[38;5;241;43m.\u001b[39;49m\u001b[43mparameters\u001b[49m\u001b[43m[\u001b[49m\u001b[43mpar_1\u001b[49m\u001b[43m]\u001b[49m\u001b[43m,\u001b[49m\n\u001b[1;32m     15\u001b[0m \u001b[43m        \u001b[49m\u001b[43my\u001b[49m\u001b[38;5;241;43m=\u001b[39;49m\u001b[43mdatasets\u001b[49m\u001b[38;5;241;43m.\u001b[39;49m\u001b[43mparameters\u001b[49m\u001b[43m[\u001b[49m\u001b[43mpar_2\u001b[49m\u001b[43m]\u001b[49m\u001b[43m,\u001b[49m\n\u001b[1;32m     16\u001b[0m \u001b[43m        \u001b[49m\u001b[43mnumpoints\u001b[49m\u001b[38;5;241;43m=\u001b[39;49m\u001b[43mnpoints\u001b[49m\u001b[43m,\u001b[49m\n\u001b[1;32m     17\u001b[0m \u001b[43m        \u001b[49m\u001b[43msigma\u001b[49m\u001b[38;5;241;43m=\u001b[39;49m\u001b[43msigma\u001b[49m\u001b[43m,\u001b[49m\n\u001b[1;32m     18\u001b[0m \u001b[43m    \u001b[49m\u001b[43m)\u001b[49m\n\u001b[1;32m     19\u001b[0m     contours[\u001b[38;5;124mf\u001b[39m\u001b[38;5;124m\"\u001b[39m\u001b[38;5;124mcontour_\u001b[39m\u001b[38;5;132;01m{\u001b[39;00mpar_1\u001b[38;5;132;01m}\u001b[39;00m\u001b[38;5;124m_\u001b[39m\u001b[38;5;132;01m{\u001b[39;00mpar_2\u001b[38;5;132;01m}\u001b[39;00m\u001b[38;5;124m\"\u001b[39m] \u001b[38;5;241m=\u001b[39m {\n\u001b[1;32m     20\u001b[0m         par_1: contour[name1]\u001b[38;5;241m.\u001b[39mtolist(),\n\u001b[1;32m     21\u001b[0m         par_2: contour[name2]\u001b[38;5;241m.\u001b[39mtolist(),\n\u001b[1;32m     22\u001b[0m     }\n\u001b[1;32m     23\u001b[0m cts_sigma\u001b[38;5;241m.\u001b[39mappend(contours)\n",
      "File \u001b[0;32m~/Documents/gammapy/gammapy/modeling/fit.py:499\u001b[0m, in \u001b[0;36mFit.stat_contour\u001b[0;34m(self, datasets, x, y, numpoints, sigma)\u001b[0m\n\u001b[1;32m    496\u001b[0m name_y \u001b[38;5;241m=\u001b[39m datasets\u001b[38;5;241m.\u001b[39mmodels\u001b[38;5;241m.\u001b[39mparameters_unique_names[i2]\n\u001b[1;32m    498\u001b[0m \u001b[38;5;28;01mwith\u001b[39;00m parameters\u001b[38;5;241m.\u001b[39mrestore_status():\n\u001b[0;32m--> 499\u001b[0m     result \u001b[38;5;241m=\u001b[39m \u001b[43mcontour_iminuit\u001b[49m\u001b[43m(\u001b[49m\n\u001b[1;32m    500\u001b[0m \u001b[43m        \u001b[49m\u001b[43mparameters\u001b[49m\u001b[38;5;241;43m=\u001b[39;49m\u001b[43mparameters\u001b[49m\u001b[43m,\u001b[49m\n\u001b[1;32m    501\u001b[0m \u001b[43m        \u001b[49m\u001b[43mfunction\u001b[49m\u001b[38;5;241;43m=\u001b[39;49m\u001b[43mdatasets\u001b[49m\u001b[38;5;241;43m.\u001b[39;49m\u001b[43mstat_sum\u001b[49m\u001b[43m,\u001b[49m\n\u001b[1;32m    502\u001b[0m \u001b[43m        \u001b[49m\u001b[43mx\u001b[49m\u001b[38;5;241;43m=\u001b[39;49m\u001b[43mx\u001b[49m\u001b[43m,\u001b[49m\n\u001b[1;32m    503\u001b[0m \u001b[43m        \u001b[49m\u001b[43my\u001b[49m\u001b[38;5;241;43m=\u001b[39;49m\u001b[43my\u001b[49m\u001b[43m,\u001b[49m\n\u001b[1;32m    504\u001b[0m \u001b[43m        \u001b[49m\u001b[43mnumpoints\u001b[49m\u001b[38;5;241;43m=\u001b[39;49m\u001b[43mnumpoints\u001b[49m\u001b[43m,\u001b[49m\n\u001b[1;32m    505\u001b[0m \u001b[43m        \u001b[49m\u001b[43msigma\u001b[49m\u001b[38;5;241;43m=\u001b[39;49m\u001b[43msigma\u001b[49m\u001b[43m,\u001b[49m\n\u001b[1;32m    506\u001b[0m \u001b[43m    \u001b[49m\u001b[43m)\u001b[49m\n\u001b[1;32m    508\u001b[0m x \u001b[38;5;241m=\u001b[39m result[\u001b[38;5;124m\"\u001b[39m\u001b[38;5;124mx\u001b[39m\u001b[38;5;124m\"\u001b[39m] \u001b[38;5;241m*\u001b[39m x\u001b[38;5;241m.\u001b[39mscale\n\u001b[1;32m    509\u001b[0m y \u001b[38;5;241m=\u001b[39m result[\u001b[38;5;124m\"\u001b[39m\u001b[38;5;124my\u001b[39m\u001b[38;5;124m\"\u001b[39m] \u001b[38;5;241m*\u001b[39m y\u001b[38;5;241m.\u001b[39mscale\n",
      "File \u001b[0;32m~/Documents/gammapy/gammapy/modeling/iminuit.py:179\u001b[0m, in \u001b[0;36mcontour_iminuit\u001b[0;34m(parameters, function, x, y, numpoints, sigma, **kwargs)\u001b[0m\n\u001b[1;32m    175\u001b[0m \u001b[38;5;28mprint\u001b[39m(contour)\n\u001b[1;32m    176\u001b[0m \u001b[38;5;28mprint\u001b[39m(np\u001b[38;5;241m.\u001b[39mshape(contour))\n\u001b[1;32m    177\u001b[0m \u001b[38;5;28;01mreturn\u001b[39;00m {\n\u001b[1;32m    178\u001b[0m     \u001b[38;5;124m\"\u001b[39m\u001b[38;5;124msuccess\u001b[39m\u001b[38;5;124m\"\u001b[39m: \u001b[38;5;28;01mTrue\u001b[39;00m,\n\u001b[0;32m--> 179\u001b[0m     \u001b[38;5;124m\"\u001b[39m\u001b[38;5;124mx\u001b[39m\u001b[38;5;124m\"\u001b[39m: \u001b[43mcontour\u001b[49m\u001b[43m[\u001b[49m\u001b[43m:\u001b[49m\u001b[43m,\u001b[49m\u001b[43m \u001b[49m\u001b[38;5;241;43m0\u001b[39;49m\u001b[43m]\u001b[49m,\n\u001b[1;32m    180\u001b[0m     \u001b[38;5;124m\"\u001b[39m\u001b[38;5;124my\u001b[39m\u001b[38;5;124m\"\u001b[39m: contour[:, \u001b[38;5;241m1\u001b[39m],\n\u001b[1;32m    181\u001b[0m }\n",
      "\u001b[0;31mIndexError\u001b[0m: too many indices for array: array is 1-dimensional, but 2 were indexed"
     ]
    }
   ],
   "source": [
    "%%time\n",
    "sigmas = [1, 2]\n",
    "cts_sigma = make_contours(\n",
    "    fit=fit,\n",
    "    datasets=datasets,\n",
    "    result=result,\n",
    "    npoints=10,\n",
    "    sigmas=sigmas,\n",
    ")"
   ]
  },
  {
   "cell_type": "code",
   "execution_count": 11,
   "id": "e7c738c9",
   "metadata": {},
   "outputs": [
    {
     "data": {
      "text/plain": [
       "False"
      ]
     },
     "execution_count": 11,
     "metadata": {},
     "output_type": "execute_result"
    }
   ],
   "source": [
    "result.success"
   ]
  },
  {
   "cell_type": "code",
   "execution_count": null,
   "id": "7cb8498d",
   "metadata": {},
   "outputs": [],
   "source": [
    "pars = {\n",
    "    \"phi\": r\"$\\phi_0 \\,/\\,(10^{-11}\\,{\\rm TeV}^{-1} \\, {\\rm cm}^{-2} {\\rm s}^{-1})$\",\n",
    "    \"alpha\": r\"$\\alpha$\",\n",
    "    \"beta\": r\"$\\beta$\",\n",
    "}\n",
    "\n",
    "panels = [\n",
    "    {\n",
    "        \"x\": \"alpha\",\n",
    "        \"y\": \"phi\",\n",
    "        \"cx\": (lambda ct: ct[\"contour_alpha_amplitude\"][\"alpha\"]),\n",
    "        \"cy\": (lambda ct: np.array(1e11) * ct[\"contour_alpha_amplitude\"][\"amplitude\"]),\n",
    "    },\n",
    "    {\n",
    "        \"x\": \"beta\",\n",
    "        \"y\": \"phi\",\n",
    "        \"cx\": (lambda ct: ct[\"contour_beta_amplitude\"][\"beta\"]),\n",
    "        \"cy\": (lambda ct: np.array(1e11) * ct[\"contour_beta_amplitude\"][\"amplitude\"]),\n",
    "    },\n",
    "    {\n",
    "        \"x\": \"alpha\",\n",
    "        \"y\": \"beta\",\n",
    "        \"cx\": (lambda ct: ct[\"contour_alpha_beta\"][\"alpha\"]),\n",
    "        \"cy\": (lambda ct: ct[\"contour_alpha_beta\"][\"beta\"]),\n",
    "    },\n",
    "]"
   ]
  },
  {
   "cell_type": "code",
   "execution_count": null,
   "id": "119f75d9",
   "metadata": {},
   "outputs": [],
   "source": [
    "fig, axes = plt.subplots(1, 3, figsize=(16, 5))\n",
    "colors = [\"m\", \"b\", \"c\"]\n",
    "for p, ax in zip(panels, axes):\n",
    "    xlabel = pars[p[\"x\"]]\n",
    "    ylabel = pars[p[\"y\"]]\n",
    "    for ks in range(len(cts_sigma)):\n",
    "        plot_contour_line(\n",
    "            ax,\n",
    "            p[\"cx\"](cts_sigma[ks]),\n",
    "            p[\"cy\"](cts_sigma[ks]),\n",
    "            lw=2.5,\n",
    "            color=colors[ks],\n",
    "            label=f\"{sigmas[ks]}\" + r\"$\\sigma$\",\n",
    "        )\n",
    "    ax.set_xlabel(xlabel)\n",
    "    ax.set_ylabel(ylabel)\n",
    "plt.legend()\n",
    "plt.tight_layout()"
   ]
  },
  {
   "cell_type": "code",
   "execution_count": 20,
   "id": "40808092",
   "metadata": {},
   "outputs": [
    {
     "data": {
      "text/plain": [
       "('par_000_index',\n",
       " 'par_001_amplitude',\n",
       " 'par_002_sigma',\n",
       " 'par_003_norm',\n",
       " 'par_004_tilt')"
      ]
     },
     "execution_count": 20,
     "metadata": {},
     "output_type": "execute_result"
    }
   ],
   "source": [
    "fit.minuit.parameters"
   ]
  },
  {
   "cell_type": "code",
   "execution_count": 22,
   "id": "f398124c",
   "metadata": {},
   "outputs": [
    {
     "name": "stdout",
     "output_type": "stream",
     "text": [
      "E MnContours unable to find point on Contour 7 \n",
      " found only 6 points\n"
     ]
    },
    {
     "data": {
      "image/png": "[encoded data removed]",
      "text/plain": [
       "<Figure size 640x480 with 1 Axes>"
      ]
     },
     "metadata": {},
     "output_type": "display_data"
    }
   ],
   "source": [
    "fit.minuit.draw_mncontour(\"par_004_tilt\", \"par_003_norm\", cl=(0.68, 0.9, 0.99));"
   ]
  },
  {
   "cell_type": "code",
   "execution_count": null,
   "id": "81c856e5",
   "metadata": {},
   "outputs": [],
   "source": []
  }
 ],
 "metadata": {
  "kernelspec": {
   "display_name": "Python 3 (ipykernel)",
   "language": "python",
   "name": "python3"
  },
  "language_info": {
   "codemirror_mode": {
    "name": "ipython",
    "version": 3
   },
   "file_extension": ".py",
   "mimetype": "text/x-python",
   "name": "python",
   "nbconvert_exporter": "python",
   "pygments_lexer": "ipython3",
   "version": "3.8.15"
  },
  "varInspector": {
   "cols": {
    "lenName": 16,
    "lenType": 16,
    "lenVar": 40
   },
   "kernels_config": {
    "python": {
     "delete_cmd_postfix": "",
     "delete_cmd_prefix": "del ",
     "library": "var_list.py",
     "varRefreshCmd": "print(var_dic_list())"
    },
    "r": {
     "delete_cmd_postfix": ") ",
     "delete_cmd_prefix": "rm(",
     "library": "var_list.r",
     "varRefreshCmd": "cat(var_dic_list()) "
    }
   },
   "types_to_exclude": [
    "module",
    "function",
    "builtin_function_or_method",
    "instance",
    "_Feature"
   ],
   "window_display": false
  }
 },
 "nbformat": 4,
 "nbformat_minor": 5
}
