{
 "cells": [
  {
   "cell_type": "code",
   "execution_count": 1,
   "id": "13f53fdd-7cf5-40bb-8d8e-dc58293148bc",
   "metadata": {},
   "outputs": [
    {
     "name": "stdout",
     "output_type": "stream",
     "text": [
      "0.1.dev19174+g56b5bdf  == 1\n"
     ]
    }
   ],
   "source": [
    "import gammapy\n",
    "print(gammapy.__version__ , \" == 1\")"
   ]
  },
  {
   "cell_type": "code",
   "execution_count": 2,
   "id": "15e241eb-3444-47b0-9397-b812765ae9b9",
   "metadata": {},
   "outputs": [],
   "source": [
    "import numpy as np\n",
    "import os\n",
    "import astropy\n",
    "from astropy import units as u\n",
    "import matplotlib.pyplot as plt\n",
    "\n",
    "from matplotlib import rc\n",
    "import matplotlib.pylab as plt\n",
    "\n",
    "rc('font', **{'family': 'serif', 'serif': ['Computer Modern']})\n",
    "rc('text', usetex=True)\n",
    "\n",
    "from collections import OrderedDict\n",
    "from astropy import units\n",
    "from gammapy.data import DataStore\n",
    "from astropy.io import fits\n",
    "from astropy.coordinates import SkyCoord\n",
    "from gammapy.data import FixedPointingInfo, Observation, DataStore, observatory_locations\n",
    "from astropy.coordinates import SkyOffsetFrame\n",
    "from gammapy.maps import WcsNDMap, WcsGeom, MapAxis, Map\n",
    "from gammapy.makers import MapDatasetMaker, SafeMaskMaker\n",
    "from gammapy.datasets import MapDataset\n",
    "from gammapy.irf import load_cta_irfs, EDispKernel, PSFKernel\n",
    "from gammapy.modeling import Fit\n",
    "from gammapy.modeling.models import (\n",
    "    Models,\n",
    "    FoVBackgroundModel,\n",
    "    PointSpatialModel,\n",
    "    PowerLawSpectralModel,\n",
    "    SkyModel,\n",
    ")\n",
    "from regions import CircleSkyRegion, RectangleSkyRegion\n"
   ]
  },
  {
   "cell_type": "code",
   "execution_count": 5,
   "id": "1fba1f9e-037b-4db9-bf11-f6b54d17d978",
   "metadata": {},
   "outputs": [],
   "source": [
    "source = 'PKS'\n",
    "if source == \"PKS\":\n",
    "    pks = True\n",
    "    msh = False\n",
    "if source == \"MSH\":\n",
    "    pks = False\n",
    "    msh = True\n",
    "    \n",
    "if pks:\n",
    "    path = 'hess_data/std_fullEnclosure/pks2155_flare/out'\n",
    "    pks_pos = SkyCoord(frame = \"galactic\",l =  \"17.74 deg\", b= \"-52.25 deg\")\n",
    "    dataset_public = MapDataset.read('datasets/dataset-stacked.fits.gz')\n",
    "    \n",
    "    \n",
    "if msh:\n",
    "    path = '/home/wecapstor1/caph/mppi045h/fits_paper_data/std_fullEnclosure/msh1552/out'\n",
    "    dataset_public = MapDataset.read('dataset-msh-stacked.fits.gz')\n",
    "    pks_pos = SkyCoord(frame = \"galactic\",l =  \"320.33 deg\", b= \"-1.19 deg\")\n",
    "    \n"
   ]
  },
  {
   "cell_type": "code",
   "execution_count": 6,
   "id": "a05f3fa4-2322-482f-bb57-0d857d990cac",
   "metadata": {},
   "outputs": [],
   "source": [
    "try:\n",
    "    models  = Models.read('models/standard_model.yml')\n",
    "except:\n",
    "    st_model = SkyModel(spatial_model = PointSpatialModel(lon_0 = pks_pos.l.deg *u.deg, \n",
    "                                                          lat_0 =  pks_pos.b.deg * u.deg),\n",
    "                       spectral_model = PowerLawSpectralModel())\n",
    "    Models(st_model).write(\"models/standard_model.yml\", overwrite = True)\n",
    "    models  = Models.read('models/standard_model.yml')\n",
    "    "
   ]
  },
  {
   "cell_type": "code",
   "execution_count": 7,
   "id": "13aca3ba-f8d5-4595-800c-10860678f071",
   "metadata": {},
   "outputs": [],
   "source": [
    "empty = dataset_public.copy()\n",
    "\n",
    "\n",
    "data_store = DataStore.from_dir(path, f'hdu-index-bg-v05-fov-radec.fits.gz', f'obs-index-bg-v05-fov-radec.fits.gz')\n",
    "observations = data_store.get_observations(data_store.obs_ids)\n"
   ]
  },
  {
   "cell_type": "code",
   "execution_count": 8,
   "id": "3cb6498b-4163-40a5-938a-b5c9cd73c1d1",
   "metadata": {},
   "outputs": [
    {
     "name": "stdout",
     "output_type": "stream",
     "text": [
      "[0.46916667 0.46916667 0.46888889 0.46944444 0.46916667 0.46888889\n",
      " 0.46916667 0.46888889 0.46916667 0.46916667 0.46916667 0.46916667\n",
      " 0.46916667 0.46916667 0.46916667] h\n",
      "7.036944444444446 h\n"
     ]
    }
   ],
   "source": [
    "timeobs = []\n",
    "for obs in observations:\n",
    "    timeobs.append(obs.observation_time_duration)\n",
    "timeobs = timeobs * u.s\n",
    "print(timeobs.to(u.hr))\n",
    "print(np.sum(timeobs).to(u.hr))"
   ]
  },
  {
   "cell_type": "code",
   "execution_count": 9,
   "id": "45d8d5a8-e0fc-4ac8-9845-d1b211c18527",
   "metadata": {},
   "outputs": [
    {
     "name": "stderr",
     "output_type": "stream",
     "text": [
      "/home/wecapstor1/caph/mppi045h/gammapy/gammapy/data/observations.py:343: GammapyDeprecationWarning: obs_info property is deprecated since v1.2. Use meta instead.\n",
      "  warnings.warn(\n"
     ]
    },
    {
     "data": {
      "text/plain": [
       "(27.71530848379798, 13.632264528378185)"
      ]
     },
     "execution_count": 9,
     "metadata": {},
     "output_type": "execute_result"
    }
   ],
   "source": [
    "angle = []\n",
    "for obs in observations:\n",
    "    angle.append(90-obs.obs_info['ALT_PNT'])\n",
    "np.mean(angle), np.std(angle)"
   ]
  },
  {
   "cell_type": "code",
   "execution_count": 10,
   "id": "f5de30a1-8414-4e78-96f1-af851b9b4cb7",
   "metadata": {},
   "outputs": [
    {
     "name": "stdout",
     "output_type": "stream",
     "text": [
      "public: 7.036944444444446 h\n",
      "simu: 100.0 h\n",
      "factors [14.20959147 14.20959147 14.21800948 14.20118343 14.20959147 14.21800948\n",
      " 14.20959147 14.21800948 14.20959147 14.20959147 14.20959147 14.20959147\n",
      " 14.20959147 14.20959147 14.20959147]\n"
     ]
    }
   ],
   "source": [
    "n_public_runs = len(observations)\n",
    "location = observatory_locations['hess']\n",
    "\n",
    "livetime_stereo = 50.089999999999996 *u.hr\n",
    "livetime_mono = 29.94 * u.hr\n",
    "livetime_simu = 100 * u.hr # livetime_stereo + livetime_mono\n",
    "livetime_public =np.sum(timeobs).to(u.hr)\n",
    "print('public:', livetime_public)\n",
    "print('simu:', livetime_simu)\n",
    "def compute_factor(livetime_simu):\n",
    "    factors =( (livetime_simu/n_public_runs) / timeobs ).to(\"\")\n",
    "    return factors\n",
    "factors = compute_factor(livetime_simu)\n",
    "print(\"factors\", factors)"
   ]
  },
  {
   "cell_type": "code",
   "execution_count": 11,
   "id": "1a0b4839-64e8-43e8-9a41-49d31f6087cc",
   "metadata": {},
   "outputs": [
    {
     "data": {
      "image/png": "[encoded data removed]",
      "text/plain": [
       "<Figure size 640x480 with 2 Axes>"
      ]
     },
     "metadata": {},
     "output_type": "display_data"
    }
   ],
   "source": [
    "\n",
    "radius = 0.25*u.deg\n",
    "skyregion = CircleSkyRegion(center=pks_pos, radius=radius)\n",
    "excl_regions = [skyregion]\n",
    "geom = dataset_public.geoms['geom']\n",
    "excl_mask_2d = Map.from_geom(dataset_public.geoms['geom'].to_image(),\n",
    "                             data=dataset_public.geoms['geom'].to_image().region_mask(excl_regions, inside=False).data)\n",
    "excl_mask_2d.plot(add_cbar = 1, vmin =0, vmax = 1);\n",
    "\n",
    "maxthreshold  = 1*u.TeV\n",
    "ebins = np.logspace(-1,2,25) *u.TeV\n",
    "max_offset = 2 *u.deg"
   ]
  },
  {
   "cell_type": "code",
   "execution_count": 12,
   "id": "481faa77-d8e8-4eb9-95da-6da939ebee15",
   "metadata": {},
   "outputs": [
    {
     "name": "stderr",
     "output_type": "stream",
     "text": [
      "/home/wecapstor1/caph/mppi045h/gammapy/gammapy/data/observations.py:343: GammapyDeprecationWarning: obs_info property is deprecated since v1.2. Use meta instead.\n",
      "  warnings.warn(\n"
     ]
    }
   ],
   "source": [
    "ra_pnt, dec_pnt = [], []\n",
    "for obs in observations:\n",
    "    ra_pnt.append(obs.obs_info['RA_PNT'])\n",
    "    dec_pnt.append(obs.obs_info['DEC_PNT'])\n"
   ]
  },
  {
   "cell_type": "code",
   "execution_count": 13,
   "id": "015ae95f-4708-486d-a8f7-852b59bc330c",
   "metadata": {},
   "outputs": [
    {
     "data": {
      "image/png": "[encoded data removed]",
      "text/plain": [
       "<Figure size 640x480 with 1 Axes>"
      ]
     },
     "metadata": {},
     "output_type": "display_data"
    }
   ],
   "source": [
    "for i in range(len(observations)):\n",
    "    plt.scatter(ra_pnt[i], dec_pnt[i])"
   ]
  },
  {
   "cell_type": "code",
   "execution_count": 14,
   "id": "363c0cfa-e78c-4fb9-a35e-6094731b4a3a",
   "metadata": {},
   "outputs": [],
   "source": [
    "def create(factors):\n",
    "\n",
    "    datasets = []\n",
    "    for i in range(n_public_runs ):\n",
    "        print(i)\n",
    "        if pks:\n",
    "            dataset_obs = MapDataset.read(f'runwise_datasets/dataset-obs-{observations[i].obs_id}.fits.gz')\n",
    "        if msh:\n",
    "            dataset_obs = MapDataset.read(f'runwise_datasets/dataset-msh-obs-{observations[i].obs_id}.fits.gz')\n",
    "            \n",
    "        #dataset_obs.counts.sum_over_axes().plot(add_cbar =1 )    \n",
    "        irfs = {'bkg':dataset_obs.background * factors[i],\n",
    "           'aeff': dataset_obs.exposure * factors[i],#/ livetime ,\n",
    "           'psf': dataset_obs.psf,\n",
    "           'edisp': dataset_obs.edisp,\n",
    "           'rad_max': 4 *u.deg }\n",
    "\n",
    "        pointing  = observations[i].pointing_radec\n",
    "\n",
    "        obs = Observation.create(\n",
    "            pointing=pointing, livetime=timeobs[i], irfs=irfs, location=location\n",
    "        )\n",
    "\n",
    "        # Make the MapDataset\n",
    "        maker = MapDatasetMaker(selection=[\"exposure\", \"background\", \"psf\", \"edisp\"])\n",
    "\n",
    "        maker_safe_mask = SafeMaskMaker(methods=[\"offset-max\"], offset_max=4.0 * u.deg)\n",
    "        reference = MapDataset.create(geom=geom, name='stacked').cutout(position=obs.pointing_radec, width=8.0*max_offset)    \n",
    "\n",
    "        dataset = maker.run(reference, obs)\n",
    "        dataset = maker_safe_mask.run(dataset, obs)\n",
    "\n",
    "        dataset.counts.data = dataset.counts.data.astype(np.float32)\n",
    "        dataset.psf = dataset_obs.psf\n",
    "        dataset.edisp = dataset_obs.edisp\n",
    "\n",
    "        datasets.append(dataset)\n",
    "\n",
    "    dataset_stacked = datasets[0].copy()\n",
    "    for d in datasets[1:]:\n",
    "        dataset_stacked.stack(d)\n",
    "    return datasets, dataset_stacked\n"
   ]
  },
  {
   "cell_type": "code",
   "execution_count": 15,
   "id": "476910a8-1e54-4690-b953-db5d1a950718",
   "metadata": {},
   "outputs": [],
   "source": [
    "#datasets, dataset_stacked = create(factors)\n"
   ]
  },
  {
   "cell_type": "code",
   "execution_count": 16,
   "id": "478edd8b-8988-4ee6-8c5b-f5acdd889c66",
   "metadata": {},
   "outputs": [],
   "source": [
    "#dataset_stacked.peek()"
   ]
  },
  {
   "cell_type": "code",
   "execution_count": 17,
   "id": "05d33e9c-498f-4860-b9b7-7d518a0b29f5",
   "metadata": {},
   "outputs": [],
   "source": [
    "#emask = dataset_stacked.mask.data.sum(axis=2).sum(axis=1) >0\n",
    "#emask = dataset_stacked.mask.geom.axes[0].center[emask]"
   ]
  },
  {
   "cell_type": "markdown",
   "id": "f5fe0ab9-56d4-4441-97fe-cd4b4523637c",
   "metadata": {},
   "source": [
    "## Simulated different observation times "
   ]
  },
  {
   "cell_type": "code",
   "execution_count": 18,
   "id": "cc494009-1bab-4255-9605-14f5dde6f04a",
   "metadata": {},
   "outputs": [],
   "source": [
    "livetime_simus = np.logspace(-2, 2,  13)[:6] \n",
    "livetime_simus = np.append(livetime_simus, np.logspace(0, 2, 7)) *u.hr"
   ]
  },
  {
   "cell_type": "code",
   "execution_count": 19,
   "id": "4938f188-001c-42af-8802-a95f7f7bbeb9",
   "metadata": {},
   "outputs": [
    {
     "data": {
      "text/latex": [
       "$[100] \\; \\mathrm{h}$"
      ],
      "text/plain": [
       "<Quantity [100.] h>"
      ]
     },
     "execution_count": 19,
     "metadata": {},
     "output_type": "execute_result"
    }
   ],
   "source": [
    "livetime_simus[12:]"
   ]
  },
  {
   "cell_type": "code",
   "execution_count": 20,
   "id": "40b4e74e-1c97-48fc-bd3a-a401b36bd621",
   "metadata": {},
   "outputs": [
    {
     "name": "stdout",
     "output_type": "stream",
     "text": [
      "Livetime:  100.0 h\n",
      "0\n"
     ]
    },
    {
     "ename": "error",
     "evalue": "Error -3 while decompressing data: invalid code lengths set",
     "output_type": "error",
     "traceback": [
      "\u001b[0;31m---------------------------------------------------------------------------\u001b[0m",
      "\u001b[0;31mKeyboardInterrupt\u001b[0m                         Traceback (most recent call last)",
      "File \u001b[0;32m/home/wecapstor1/caph/mppi045h/anaconda3/envs/gammapy-dev/lib/python3.8/site-packages/astropy/io/fits/file.py:389\u001b[0m, in \u001b[0;36m_File.readarray\u001b[0;34m(self, size, offset, dtype, shape)\u001b[0m\n\u001b[1;32m    388\u001b[0m count \u001b[38;5;241m=\u001b[39m reduce(operator\u001b[38;5;241m.\u001b[39mmul, shape)\n\u001b[0;32m--> 389\u001b[0m \u001b[38;5;28;43mself\u001b[39;49m\u001b[38;5;241;43m.\u001b[39;49m\u001b[43m_file\u001b[49m\u001b[38;5;241;43m.\u001b[39;49m\u001b[43mseek\u001b[49m\u001b[43m(\u001b[49m\u001b[43moffset\u001b[49m\u001b[43m)\u001b[49m\n\u001b[1;32m    390\u001b[0m data \u001b[38;5;241m=\u001b[39m _array_from_file(\u001b[38;5;28mself\u001b[39m\u001b[38;5;241m.\u001b[39m_file, dtype, count)\n",
      "File \u001b[0;32m/home/wecapstor1/caph/mppi045h/anaconda3/envs/gammapy-dev/lib/python3.8/gzip.py:384\u001b[0m, in \u001b[0;36mGzipFile.seek\u001b[0;34m(self, offset, whence)\u001b[0m\n\u001b[1;32m    383\u001b[0m     \u001b[38;5;28mself\u001b[39m\u001b[38;5;241m.\u001b[39m_check_not_closed()\n\u001b[0;32m--> 384\u001b[0m     \u001b[38;5;28;01mreturn\u001b[39;00m \u001b[38;5;28;43mself\u001b[39;49m\u001b[38;5;241;43m.\u001b[39;49m\u001b[43m_buffer\u001b[49m\u001b[38;5;241;43m.\u001b[39;49m\u001b[43mseek\u001b[49m\u001b[43m(\u001b[49m\u001b[43moffset\u001b[49m\u001b[43m,\u001b[49m\u001b[43m \u001b[49m\u001b[43mwhence\u001b[49m\u001b[43m)\u001b[49m\n\u001b[1;32m    386\u001b[0m \u001b[38;5;28;01mreturn\u001b[39;00m \u001b[38;5;28mself\u001b[39m\u001b[38;5;241m.\u001b[39moffset\n",
      "File \u001b[0;32m/home/wecapstor1/caph/mppi045h/anaconda3/envs/gammapy-dev/lib/python3.8/_compression.py:143\u001b[0m, in \u001b[0;36mDecompressReader.seek\u001b[0;34m(self, offset, whence)\u001b[0m\n\u001b[1;32m    142\u001b[0m \u001b[38;5;28;01mwhile\u001b[39;00m offset \u001b[38;5;241m>\u001b[39m \u001b[38;5;241m0\u001b[39m:\n\u001b[0;32m--> 143\u001b[0m     data \u001b[38;5;241m=\u001b[39m \u001b[38;5;28;43mself\u001b[39;49m\u001b[38;5;241;43m.\u001b[39;49m\u001b[43mread\u001b[49m\u001b[43m(\u001b[49m\u001b[38;5;28;43mmin\u001b[39;49m\u001b[43m(\u001b[49m\u001b[43mio\u001b[49m\u001b[38;5;241;43m.\u001b[39;49m\u001b[43mDEFAULT_BUFFER_SIZE\u001b[49m\u001b[43m,\u001b[49m\u001b[43m \u001b[49m\u001b[43moffset\u001b[49m\u001b[43m)\u001b[49m\u001b[43m)\u001b[49m\n\u001b[1;32m    144\u001b[0m     \u001b[38;5;28;01mif\u001b[39;00m \u001b[38;5;129;01mnot\u001b[39;00m data:\n",
      "File \u001b[0;32m/home/wecapstor1/caph/mppi045h/anaconda3/envs/gammapy-dev/lib/python3.8/gzip.py:487\u001b[0m, in \u001b[0;36m_GzipReader.read\u001b[0;34m(self, size)\u001b[0m\n\u001b[1;32m    485\u001b[0m buf \u001b[38;5;241m=\u001b[39m \u001b[38;5;28mself\u001b[39m\u001b[38;5;241m.\u001b[39m_fp\u001b[38;5;241m.\u001b[39mread(io\u001b[38;5;241m.\u001b[39mDEFAULT_BUFFER_SIZE)\n\u001b[0;32m--> 487\u001b[0m uncompress \u001b[38;5;241m=\u001b[39m \u001b[38;5;28;43mself\u001b[39;49m\u001b[38;5;241;43m.\u001b[39;49m\u001b[43m_decompressor\u001b[49m\u001b[38;5;241;43m.\u001b[39;49m\u001b[43mdecompress\u001b[49m\u001b[43m(\u001b[49m\u001b[43mbuf\u001b[49m\u001b[43m,\u001b[49m\u001b[43m \u001b[49m\u001b[43msize\u001b[49m\u001b[43m)\u001b[49m\n\u001b[1;32m    488\u001b[0m \u001b[38;5;28;01mif\u001b[39;00m \u001b[38;5;28mself\u001b[39m\u001b[38;5;241m.\u001b[39m_decompressor\u001b[38;5;241m.\u001b[39munconsumed_tail \u001b[38;5;241m!=\u001b[39m \u001b[38;5;124mb\u001b[39m\u001b[38;5;124m\"\u001b[39m\u001b[38;5;124m\"\u001b[39m:\n",
      "\u001b[0;31mKeyboardInterrupt\u001b[0m: ",
      "\nDuring handling of the above exception, another exception occurred:\n",
      "\u001b[0;31merror\u001b[0m                                     Traceback (most recent call last)",
      "File \u001b[0;32m<timed exec>:5\u001b[0m\n",
      "Cell \u001b[0;32mIn[14], line 7\u001b[0m, in \u001b[0;36mcreate\u001b[0;34m(factors)\u001b[0m\n\u001b[1;32m      5\u001b[0m \u001b[38;5;28mprint\u001b[39m(i)\n\u001b[1;32m      6\u001b[0m \u001b[38;5;28;01mif\u001b[39;00m pks:\n\u001b[0;32m----> 7\u001b[0m     dataset_obs \u001b[38;5;241m=\u001b[39m \u001b[43mMapDataset\u001b[49m\u001b[38;5;241;43m.\u001b[39;49m\u001b[43mread\u001b[49m\u001b[43m(\u001b[49m\u001b[38;5;124;43mf\u001b[39;49m\u001b[38;5;124;43m'\u001b[39;49m\u001b[38;5;124;43mrunwise_datasets/dataset-obs-\u001b[39;49m\u001b[38;5;132;43;01m{\u001b[39;49;00m\u001b[43mobservations\u001b[49m\u001b[43m[\u001b[49m\u001b[43mi\u001b[49m\u001b[43m]\u001b[49m\u001b[38;5;241;43m.\u001b[39;49m\u001b[43mobs_id\u001b[49m\u001b[38;5;132;43;01m}\u001b[39;49;00m\u001b[38;5;124;43m.fits.gz\u001b[39;49m\u001b[38;5;124;43m'\u001b[39;49m\u001b[43m)\u001b[49m\n\u001b[1;32m      8\u001b[0m \u001b[38;5;28;01mif\u001b[39;00m msh:\n\u001b[1;32m      9\u001b[0m     dataset_obs \u001b[38;5;241m=\u001b[39m MapDataset\u001b[38;5;241m.\u001b[39mread(\u001b[38;5;124mf\u001b[39m\u001b[38;5;124m'\u001b[39m\u001b[38;5;124mrunwise_datasets/dataset-msh-obs-\u001b[39m\u001b[38;5;132;01m{\u001b[39;00mobservations[i]\u001b[38;5;241m.\u001b[39mobs_id\u001b[38;5;132;01m}\u001b[39;00m\u001b[38;5;124m.fits.gz\u001b[39m\u001b[38;5;124m'\u001b[39m)\n",
      "File \u001b[0;32m/home/wecapstor1/caph/mppi045h/gammapy/gammapy/datasets/map.py:1479\u001b[0m, in \u001b[0;36mMapDataset.read\u001b[0;34m(cls, filename, name, lazy, cache, format)\u001b[0m\n\u001b[1;32m   1477\u001b[0m \u001b[38;5;28;01melse\u001b[39;00m:\n\u001b[1;32m   1478\u001b[0m     \u001b[38;5;28;01mwith\u001b[39;00m fits\u001b[38;5;241m.\u001b[39mopen(\u001b[38;5;28mstr\u001b[39m(make_path(filename)), memmap\u001b[38;5;241m=\u001b[39m\u001b[38;5;28;01mFalse\u001b[39;00m) \u001b[38;5;28;01mas\u001b[39;00m hdulist:\n\u001b[0;32m-> 1479\u001b[0m         \u001b[38;5;28;01mreturn\u001b[39;00m \u001b[38;5;28;43mcls\u001b[39;49m\u001b[38;5;241;43m.\u001b[39;49m\u001b[43mfrom_hdulist\u001b[49m\u001b[43m(\u001b[49m\u001b[43mhdulist\u001b[49m\u001b[43m,\u001b[49m\u001b[43m \u001b[49m\u001b[43mname\u001b[49m\u001b[38;5;241;43m=\u001b[39;49m\u001b[43mds_name\u001b[49m\u001b[43m,\u001b[49m\u001b[43m \u001b[49m\u001b[38;5;28;43mformat\u001b[39;49m\u001b[38;5;241;43m=\u001b[39;49m\u001b[38;5;28;43mformat\u001b[39;49m\u001b[43m)\u001b[49m\n",
      "File \u001b[0;32m/home/wecapstor1/caph/mppi045h/gammapy/gammapy/datasets/map.py:1361\u001b[0m, in \u001b[0;36mMapDataset.from_hdulist\u001b[0;34m(cls, hdulist, name, lazy, format)\u001b[0m\n\u001b[1;32m   1356\u001b[0m     kwargs[\u001b[38;5;124m\"\u001b[39m\u001b[38;5;124medisp\u001b[39m\u001b[38;5;124m\"\u001b[39m] \u001b[38;5;241m=\u001b[39m EDispMap\u001b[38;5;241m.\u001b[39mfrom_hdulist(\n\u001b[1;32m   1357\u001b[0m         hdulist, hdu\u001b[38;5;241m=\u001b[39m\u001b[38;5;124m\"\u001b[39m\u001b[38;5;124medisp\u001b[39m\u001b[38;5;124m\"\u001b[39m, exposure_hdu\u001b[38;5;241m=\u001b[39m\u001b[38;5;124m\"\u001b[39m\u001b[38;5;124medisp_exposure\u001b[39m\u001b[38;5;124m\"\u001b[39m, \u001b[38;5;28mformat\u001b[39m\u001b[38;5;241m=\u001b[39m\u001b[38;5;28mformat\u001b[39m\n\u001b[1;32m   1358\u001b[0m     )\n\u001b[1;32m   1360\u001b[0m \u001b[38;5;28;01mif\u001b[39;00m \u001b[38;5;124m\"\u001b[39m\u001b[38;5;124mPSF\u001b[39m\u001b[38;5;124m\"\u001b[39m \u001b[38;5;129;01min\u001b[39;00m hdulist:\n\u001b[0;32m-> 1361\u001b[0m     kwargs[\u001b[38;5;124m\"\u001b[39m\u001b[38;5;124mpsf\u001b[39m\u001b[38;5;124m\"\u001b[39m] \u001b[38;5;241m=\u001b[39m \u001b[43mPSFMap\u001b[49m\u001b[38;5;241;43m.\u001b[39;49m\u001b[43mfrom_hdulist\u001b[49m\u001b[43m(\u001b[49m\n\u001b[1;32m   1362\u001b[0m \u001b[43m        \u001b[49m\u001b[43mhdulist\u001b[49m\u001b[43m,\u001b[49m\u001b[43m \u001b[49m\u001b[43mhdu\u001b[49m\u001b[38;5;241;43m=\u001b[39;49m\u001b[38;5;124;43m\"\u001b[39;49m\u001b[38;5;124;43mpsf\u001b[39;49m\u001b[38;5;124;43m\"\u001b[39;49m\u001b[43m,\u001b[49m\u001b[43m \u001b[49m\u001b[43mexposure_hdu\u001b[49m\u001b[38;5;241;43m=\u001b[39;49m\u001b[38;5;124;43m\"\u001b[39;49m\u001b[38;5;124;43mpsf_exposure\u001b[39;49m\u001b[38;5;124;43m\"\u001b[39;49m\u001b[43m,\u001b[49m\u001b[43m \u001b[49m\u001b[38;5;28;43mformat\u001b[39;49m\u001b[38;5;241;43m=\u001b[39;49m\u001b[38;5;28;43mformat\u001b[39;49m\n\u001b[1;32m   1363\u001b[0m \u001b[43m    \u001b[49m\u001b[43m)\u001b[49m\n\u001b[1;32m   1365\u001b[0m \u001b[38;5;28;01mif\u001b[39;00m \u001b[38;5;124m\"\u001b[39m\u001b[38;5;124mMASK_SAFE\u001b[39m\u001b[38;5;124m\"\u001b[39m \u001b[38;5;129;01min\u001b[39;00m hdulist:\n\u001b[1;32m   1366\u001b[0m     mask_safe \u001b[38;5;241m=\u001b[39m Map\u001b[38;5;241m.\u001b[39mfrom_hdulist(hdulist, hdu\u001b[38;5;241m=\u001b[39m\u001b[38;5;124m\"\u001b[39m\u001b[38;5;124mmask_safe\u001b[39m\u001b[38;5;124m\"\u001b[39m, \u001b[38;5;28mformat\u001b[39m\u001b[38;5;241m=\u001b[39m\u001b[38;5;28mformat\u001b[39m)\n",
      "File \u001b[0;32m/home/wecapstor1/caph/mppi045h/gammapy/gammapy/irf/core.py:743\u001b[0m, in \u001b[0;36mIRFMap.from_hdulist\u001b[0;34m(cls, hdulist, hdu, hdu_bands, exposure_hdu, exposure_hdu_bands, format)\u001b[0m\n\u001b[1;32m    740\u001b[0m \u001b[38;5;28;01mif\u001b[39;00m hdu \u001b[38;5;129;01mis\u001b[39;00m \u001b[38;5;28;01mNone\u001b[39;00m:\n\u001b[1;32m    741\u001b[0m     hdu \u001b[38;5;241m=\u001b[39m IRF_MAP_HDU_SPECIFICATION[\u001b[38;5;28mcls\u001b[39m\u001b[38;5;241m.\u001b[39mtag]\n\u001b[0;32m--> 743\u001b[0m irf_map \u001b[38;5;241m=\u001b[39m \u001b[43mMap\u001b[49m\u001b[38;5;241;43m.\u001b[39;49m\u001b[43mfrom_hdulist\u001b[49m\u001b[43m(\u001b[49m\n\u001b[1;32m    744\u001b[0m \u001b[43m    \u001b[49m\u001b[43mhdulist\u001b[49m\u001b[43m,\u001b[49m\u001b[43m \u001b[49m\u001b[43mhdu\u001b[49m\u001b[38;5;241;43m=\u001b[39;49m\u001b[43mhdu\u001b[49m\u001b[43m,\u001b[49m\u001b[43m \u001b[49m\u001b[43mhdu_bands\u001b[49m\u001b[38;5;241;43m=\u001b[39;49m\u001b[43mhdu_bands\u001b[49m\u001b[43m,\u001b[49m\u001b[43m \u001b[49m\u001b[38;5;28;43mformat\u001b[39;49m\u001b[38;5;241;43m=\u001b[39;49m\u001b[38;5;28;43mformat\u001b[39;49m\n\u001b[1;32m    745\u001b[0m \u001b[43m\u001b[49m\u001b[43m)\u001b[49m\n\u001b[1;32m    747\u001b[0m \u001b[38;5;28;01mif\u001b[39;00m exposure_hdu \u001b[38;5;129;01mis\u001b[39;00m \u001b[38;5;28;01mNone\u001b[39;00m:\n\u001b[1;32m    748\u001b[0m     exposure_hdu \u001b[38;5;241m=\u001b[39m IRF_MAP_HDU_SPECIFICATION[\u001b[38;5;28mcls\u001b[39m\u001b[38;5;241m.\u001b[39mtag] \u001b[38;5;241m+\u001b[39m \u001b[38;5;124m\"\u001b[39m\u001b[38;5;124m_exposure\u001b[39m\u001b[38;5;124m\"\u001b[39m\n",
      "File \u001b[0;32m/home/wecapstor1/caph/mppi045h/gammapy/gammapy/maps/core.py:324\u001b[0m, in \u001b[0;36mMap.from_hdulist\u001b[0;34m(hdulist, hdu, hdu_bands, map_type, format, colname)\u001b[0m\n\u001b[1;32m    320\u001b[0m     \u001b[38;5;28;01mreturn\u001b[39;00m cls_out\u001b[38;5;241m.\u001b[39mfrom_hdulist(\n\u001b[1;32m    321\u001b[0m         hdulist, hdu\u001b[38;5;241m=\u001b[39mhdu, hdu_bands\u001b[38;5;241m=\u001b[39mhdu_bands, \u001b[38;5;28mformat\u001b[39m\u001b[38;5;241m=\u001b[39m\u001b[38;5;28mformat\u001b[39m, colname\u001b[38;5;241m=\u001b[39mcolname\n\u001b[1;32m    322\u001b[0m     )\n\u001b[1;32m    323\u001b[0m \u001b[38;5;28;01melse\u001b[39;00m:\n\u001b[0;32m--> 324\u001b[0m     \u001b[38;5;28;01mreturn\u001b[39;00m \u001b[43mcls_out\u001b[49m\u001b[38;5;241;43m.\u001b[39;49m\u001b[43mfrom_hdulist\u001b[49m\u001b[43m(\u001b[49m\n\u001b[1;32m    325\u001b[0m \u001b[43m        \u001b[49m\u001b[43mhdulist\u001b[49m\u001b[43m,\u001b[49m\u001b[43m \u001b[49m\u001b[43mhdu\u001b[49m\u001b[38;5;241;43m=\u001b[39;49m\u001b[43mhdu\u001b[49m\u001b[43m,\u001b[49m\u001b[43m \u001b[49m\u001b[43mhdu_bands\u001b[49m\u001b[38;5;241;43m=\u001b[39;49m\u001b[43mhdu_bands\u001b[49m\u001b[43m,\u001b[49m\u001b[43m \u001b[49m\u001b[38;5;28;43mformat\u001b[39;49m\u001b[38;5;241;43m=\u001b[39;49m\u001b[38;5;28;43mformat\u001b[39;49m\n\u001b[1;32m    326\u001b[0m \u001b[43m    \u001b[49m\u001b[43m)\u001b[49m\n",
      "File \u001b[0;32m/home/wecapstor1/caph/mppi045h/gammapy/gammapy/maps/wcs/core.py:142\u001b[0m, in \u001b[0;36mWcsMap.from_hdulist\u001b[0;34m(cls, hdu_list, hdu, hdu_bands, format)\u001b[0m\n\u001b[1;32m    138\u001b[0m     hdu_bands \u001b[38;5;241m=\u001b[39m hdu_list[hdu_bands]\n\u001b[1;32m    140\u001b[0m \u001b[38;5;28mformat\u001b[39m \u001b[38;5;241m=\u001b[39m identify_wcs_format(hdu_bands)\n\u001b[0;32m--> 142\u001b[0m wcs_map \u001b[38;5;241m=\u001b[39m \u001b[38;5;28;43mcls\u001b[39;49m\u001b[38;5;241;43m.\u001b[39;49m\u001b[43mfrom_hdu\u001b[49m\u001b[43m(\u001b[49m\u001b[43mhdu\u001b[49m\u001b[43m,\u001b[49m\u001b[43m \u001b[49m\u001b[43mhdu_bands\u001b[49m\u001b[43m,\u001b[49m\u001b[43m \u001b[49m\u001b[38;5;28;43mformat\u001b[39;49m\u001b[38;5;241;43m=\u001b[39;49m\u001b[38;5;28;43mformat\u001b[39;49m\u001b[43m)\u001b[49m\n\u001b[1;32m    144\u001b[0m \u001b[38;5;28;01mif\u001b[39;00m wcs_map\u001b[38;5;241m.\u001b[39munit\u001b[38;5;241m.\u001b[39mis_equivalent(\u001b[38;5;124m\"\u001b[39m\u001b[38;5;124m\"\u001b[39m):\n\u001b[1;32m    145\u001b[0m     \u001b[38;5;28;01mif\u001b[39;00m \u001b[38;5;28mformat\u001b[39m \u001b[38;5;241m==\u001b[39m \u001b[38;5;124m\"\u001b[39m\u001b[38;5;124mfgst-template\u001b[39m\u001b[38;5;124m\"\u001b[39m:\n",
      "File \u001b[0;32m/home/wecapstor1/caph/mppi045h/gammapy/gammapy/maps/wcs/ndmap.py:94\u001b[0m, in \u001b[0;36mWcsNDMap.from_hdu\u001b[0;34m(cls, hdu, hdu_bands, format)\u001b[0m\n\u001b[1;32m     76\u001b[0m \u001b[38;5;129m@classmethod\u001b[39m\n\u001b[1;32m     77\u001b[0m \u001b[38;5;28;01mdef\u001b[39;00m \u001b[38;5;21mfrom_hdu\u001b[39m(\u001b[38;5;28mcls\u001b[39m, hdu, hdu_bands\u001b[38;5;241m=\u001b[39m\u001b[38;5;28;01mNone\u001b[39;00m, \u001b[38;5;28mformat\u001b[39m\u001b[38;5;241m=\u001b[39m\u001b[38;5;28;01mNone\u001b[39;00m):\n\u001b[1;32m     78\u001b[0m \u001b[38;5;250m    \u001b[39m\u001b[38;5;124;03m\"\"\"Make a WcsNDMap object from a FITS HDU.\u001b[39;00m\n\u001b[1;32m     79\u001b[0m \n\u001b[1;32m     80\u001b[0m \u001b[38;5;124;03m    Parameters\u001b[39;00m\n\u001b[0;32m   (...)\u001b[0m\n\u001b[1;32m     92\u001b[0m \u001b[38;5;124;03m        Wcs map\u001b[39;00m\n\u001b[1;32m     93\u001b[0m \u001b[38;5;124;03m    \"\"\"\u001b[39;00m\n\u001b[0;32m---> 94\u001b[0m     geom \u001b[38;5;241m=\u001b[39m \u001b[43mWcsGeom\u001b[49m\u001b[38;5;241;43m.\u001b[39;49m\u001b[43mfrom_header\u001b[49m\u001b[43m(\u001b[49m\u001b[43mhdu\u001b[49m\u001b[38;5;241;43m.\u001b[39;49m\u001b[43mheader\u001b[49m\u001b[43m,\u001b[49m\u001b[43m \u001b[49m\u001b[43mhdu_bands\u001b[49m\u001b[43m,\u001b[49m\u001b[43m \u001b[49m\u001b[38;5;28;43mformat\u001b[39;49m\u001b[38;5;241;43m=\u001b[39;49m\u001b[38;5;28;43mformat\u001b[39;49m\u001b[43m)\u001b[49m\n\u001b[1;32m     95\u001b[0m     shape \u001b[38;5;241m=\u001b[39m geom\u001b[38;5;241m.\u001b[39maxes\u001b[38;5;241m.\u001b[39mshape\n\u001b[1;32m     96\u001b[0m     shape_wcs \u001b[38;5;241m=\u001b[39m \u001b[38;5;28mtuple\u001b[39m([np\u001b[38;5;241m.\u001b[39mmax(geom\u001b[38;5;241m.\u001b[39mnpix[\u001b[38;5;241m0\u001b[39m]), np\u001b[38;5;241m.\u001b[39mmax(geom\u001b[38;5;241m.\u001b[39mnpix[\u001b[38;5;241m1\u001b[39m])])\n",
      "File \u001b[0;32m/home/wecapstor1/caph/mppi045h/gammapy/gammapy/maps/wcs/geom.py:491\u001b[0m, in \u001b[0;36mWcsGeom.from_header\u001b[0;34m(cls, header, hdu_bands, format)\u001b[0m\n\u001b[1;32m    488\u001b[0m \u001b[38;5;66;03m# TODO: see https://github.com/astropy/astropy/issues/9259\u001b[39;00m\n\u001b[1;32m    489\u001b[0m wcs\u001b[38;5;241m.\u001b[39m_naxis \u001b[38;5;241m=\u001b[39m wcs\u001b[38;5;241m.\u001b[39m_naxis[:\u001b[38;5;241m2\u001b[39m]\n\u001b[0;32m--> 491\u001b[0m axes \u001b[38;5;241m=\u001b[39m \u001b[43mMapAxes\u001b[49m\u001b[38;5;241;43m.\u001b[39;49m\u001b[43mfrom_table_hdu\u001b[49m\u001b[43m(\u001b[49m\u001b[43mhdu_bands\u001b[49m\u001b[43m,\u001b[49m\u001b[43m \u001b[49m\u001b[38;5;28;43mformat\u001b[39;49m\u001b[38;5;241;43m=\u001b[39;49m\u001b[38;5;28;43mformat\u001b[39;49m\u001b[43m)\u001b[49m\n\u001b[1;32m    492\u001b[0m shape \u001b[38;5;241m=\u001b[39m axes\u001b[38;5;241m.\u001b[39mshape\n\u001b[1;32m    494\u001b[0m \u001b[38;5;28;01mif\u001b[39;00m hdu_bands \u001b[38;5;129;01mis\u001b[39;00m \u001b[38;5;129;01mnot\u001b[39;00m \u001b[38;5;28;01mNone\u001b[39;00m \u001b[38;5;129;01mand\u001b[39;00m \u001b[38;5;124m\"\u001b[39m\u001b[38;5;124mNPIX\u001b[39m\u001b[38;5;124m\"\u001b[39m \u001b[38;5;129;01min\u001b[39;00m hdu_bands\u001b[38;5;241m.\u001b[39mcolumns\u001b[38;5;241m.\u001b[39mnames:\n",
      "File \u001b[0;32m/home/wecapstor1/caph/mppi045h/gammapy/gammapy/maps/axes.py:1989\u001b[0m, in \u001b[0;36mMapAxes.from_table_hdu\u001b[0;34m(cls, hdu, format)\u001b[0m\n\u001b[1;32m   1986\u001b[0m \u001b[38;5;28;01mif\u001b[39;00m hdu \u001b[38;5;129;01mis\u001b[39;00m \u001b[38;5;28;01mNone\u001b[39;00m:\n\u001b[1;32m   1987\u001b[0m     \u001b[38;5;28;01mreturn\u001b[39;00m \u001b[38;5;28mcls\u001b[39m([])\n\u001b[0;32m-> 1989\u001b[0m table \u001b[38;5;241m=\u001b[39m \u001b[43mTable\u001b[49m\u001b[38;5;241;43m.\u001b[39;49m\u001b[43mread\u001b[49m\u001b[43m(\u001b[49m\u001b[43mhdu\u001b[49m\u001b[43m)\u001b[49m\n\u001b[1;32m   1990\u001b[0m \u001b[38;5;28;01mreturn\u001b[39;00m \u001b[38;5;28mcls\u001b[39m\u001b[38;5;241m.\u001b[39mfrom_table(table, \u001b[38;5;28mformat\u001b[39m\u001b[38;5;241m=\u001b[39m\u001b[38;5;28mformat\u001b[39m)\n",
      "File \u001b[0;32m/home/wecapstor1/caph/mppi045h/anaconda3/envs/gammapy-dev/lib/python3.8/site-packages/astropy/table/connect.py:62\u001b[0m, in \u001b[0;36mTableRead.__call__\u001b[0;34m(self, *args, **kwargs)\u001b[0m\n\u001b[1;32m     59\u001b[0m units \u001b[38;5;241m=\u001b[39m kwargs\u001b[38;5;241m.\u001b[39mpop(\u001b[38;5;124m\"\u001b[39m\u001b[38;5;124munits\u001b[39m\u001b[38;5;124m\"\u001b[39m, \u001b[38;5;28;01mNone\u001b[39;00m)\n\u001b[1;32m     60\u001b[0m descriptions \u001b[38;5;241m=\u001b[39m kwargs\u001b[38;5;241m.\u001b[39mpop(\u001b[38;5;124m\"\u001b[39m\u001b[38;5;124mdescriptions\u001b[39m\u001b[38;5;124m\"\u001b[39m, \u001b[38;5;28;01mNone\u001b[39;00m)\n\u001b[0;32m---> 62\u001b[0m out \u001b[38;5;241m=\u001b[39m \u001b[38;5;28;43mself\u001b[39;49m\u001b[38;5;241;43m.\u001b[39;49m\u001b[43mregistry\u001b[49m\u001b[38;5;241;43m.\u001b[39;49m\u001b[43mread\u001b[49m\u001b[43m(\u001b[49m\u001b[38;5;28;43mcls\u001b[39;49m\u001b[43m,\u001b[49m\u001b[43m \u001b[49m\u001b[38;5;241;43m*\u001b[39;49m\u001b[43margs\u001b[49m\u001b[43m,\u001b[49m\u001b[43m \u001b[49m\u001b[38;5;241;43m*\u001b[39;49m\u001b[38;5;241;43m*\u001b[39;49m\u001b[43mkwargs\u001b[49m\u001b[43m)\u001b[49m\n\u001b[1;32m     64\u001b[0m \u001b[38;5;66;03m# For some readers (e.g., ascii.ecsv), the returned `out` class is not\u001b[39;00m\n\u001b[1;32m     65\u001b[0m \u001b[38;5;66;03m# guaranteed to be the same as the desired output `cls`.  If so,\u001b[39;00m\n\u001b[1;32m     66\u001b[0m \u001b[38;5;66;03m# try coercing to desired class without copying (io.registry.read\u001b[39;00m\n\u001b[1;32m     67\u001b[0m \u001b[38;5;66;03m# would normally do a copy).  The normal case here is swapping\u001b[39;00m\n\u001b[1;32m     68\u001b[0m \u001b[38;5;66;03m# Table <=> QTable.\u001b[39;00m\n\u001b[1;32m     69\u001b[0m \u001b[38;5;28;01mif\u001b[39;00m \u001b[38;5;28mcls\u001b[39m \u001b[38;5;129;01mis\u001b[39;00m \u001b[38;5;129;01mnot\u001b[39;00m out\u001b[38;5;241m.\u001b[39m\u001b[38;5;18m__class__\u001b[39m:\n",
      "File \u001b[0;32m/home/wecapstor1/caph/mppi045h/anaconda3/envs/gammapy-dev/lib/python3.8/site-packages/astropy/io/registry/core.py:219\u001b[0m, in \u001b[0;36mUnifiedInputRegistry.read\u001b[0;34m(self, cls, format, cache, *args, **kwargs)\u001b[0m\n\u001b[1;32m    214\u001b[0m     \u001b[38;5;28mformat\u001b[39m \u001b[38;5;241m=\u001b[39m \u001b[38;5;28mself\u001b[39m\u001b[38;5;241m.\u001b[39m_get_valid_format(\n\u001b[1;32m    215\u001b[0m         \u001b[38;5;124m\"\u001b[39m\u001b[38;5;124mread\u001b[39m\u001b[38;5;124m\"\u001b[39m, \u001b[38;5;28mcls\u001b[39m, path, fileobj, args, kwargs\n\u001b[1;32m    216\u001b[0m     )\n\u001b[1;32m    218\u001b[0m reader \u001b[38;5;241m=\u001b[39m \u001b[38;5;28mself\u001b[39m\u001b[38;5;241m.\u001b[39mget_reader(\u001b[38;5;28mformat\u001b[39m, \u001b[38;5;28mcls\u001b[39m)\n\u001b[0;32m--> 219\u001b[0m data \u001b[38;5;241m=\u001b[39m \u001b[43mreader\u001b[49m\u001b[43m(\u001b[49m\u001b[38;5;241;43m*\u001b[39;49m\u001b[43margs\u001b[49m\u001b[43m,\u001b[49m\u001b[43m \u001b[49m\u001b[38;5;241;43m*\u001b[39;49m\u001b[38;5;241;43m*\u001b[39;49m\u001b[43mkwargs\u001b[49m\u001b[43m)\u001b[49m\n\u001b[1;32m    221\u001b[0m \u001b[38;5;28;01mif\u001b[39;00m \u001b[38;5;129;01mnot\u001b[39;00m \u001b[38;5;28misinstance\u001b[39m(data, \u001b[38;5;28mcls\u001b[39m):\n\u001b[1;32m    222\u001b[0m     \u001b[38;5;66;03m# User has read with a subclass where only the parent class is\u001b[39;00m\n\u001b[1;32m    223\u001b[0m     \u001b[38;5;66;03m# registered.  This returns the parent class, so try coercing\u001b[39;00m\n\u001b[1;32m    224\u001b[0m     \u001b[38;5;66;03m# to desired subclass.\u001b[39;00m\n\u001b[1;32m    225\u001b[0m     \u001b[38;5;28;01mtry\u001b[39;00m:\n",
      "File \u001b[0;32m/home/wecapstor1/caph/mppi045h/anaconda3/envs/gammapy-dev/lib/python3.8/site-packages/astropy/io/fits/connect.py:263\u001b[0m, in \u001b[0;36mread_table_fits\u001b[0;34m(input, hdu, astropy_native, memmap, character_as_bytes, unit_parse_strict, mask_invalid)\u001b[0m\n\u001b[1;32m    259\u001b[0m         hdulist\u001b[38;5;241m.\u001b[39mclose()\n\u001b[1;32m    261\u001b[0m \u001b[38;5;66;03m# In the loop below we access the data using data[col.name] rather than\u001b[39;00m\n\u001b[1;32m    262\u001b[0m \u001b[38;5;66;03m# col.array to make sure that the data is scaled correctly if needed.\u001b[39;00m\n\u001b[0;32m--> 263\u001b[0m data \u001b[38;5;241m=\u001b[39m \u001b[43mtable\u001b[49m\u001b[38;5;241;43m.\u001b[39;49m\u001b[43mdata\u001b[49m\n\u001b[1;32m    265\u001b[0m columns \u001b[38;5;241m=\u001b[39m []\n\u001b[1;32m    266\u001b[0m \u001b[38;5;28;01mfor\u001b[39;00m col \u001b[38;5;129;01min\u001b[39;00m data\u001b[38;5;241m.\u001b[39mcolumns:\n\u001b[1;32m    267\u001b[0m     \u001b[38;5;66;03m# Check if column is masked. Here, we make a guess based on the\u001b[39;00m\n\u001b[1;32m    268\u001b[0m     \u001b[38;5;66;03m# presence of FITS mask values. For integer columns, this is simply\u001b[39;00m\n\u001b[0;32m   (...)\u001b[0m\n\u001b[1;32m    271\u001b[0m     \u001b[38;5;66;03m# Since Multi-element columns with dtypes such as '2f8' have a subdtype,\u001b[39;00m\n\u001b[1;32m    272\u001b[0m     \u001b[38;5;66;03m# we should look up the type of column on that.\u001b[39;00m\n",
      "File \u001b[0;32m/home/wecapstor1/caph/mppi045h/anaconda3/envs/gammapy-dev/lib/python3.8/site-packages/astropy/utils/decorators.py:841\u001b[0m, in \u001b[0;36mlazyproperty.__get__\u001b[0;34m(self, obj, owner)\u001b[0m\n\u001b[1;32m    839\u001b[0m         val \u001b[38;5;241m=\u001b[39m obj_dict\u001b[38;5;241m.\u001b[39mget(\u001b[38;5;28mself\u001b[39m\u001b[38;5;241m.\u001b[39m_key, _NotFound)\n\u001b[1;32m    840\u001b[0m         \u001b[38;5;28;01mif\u001b[39;00m val \u001b[38;5;129;01mis\u001b[39;00m _NotFound:\n\u001b[0;32m--> 841\u001b[0m             val \u001b[38;5;241m=\u001b[39m \u001b[38;5;28;43mself\u001b[39;49m\u001b[38;5;241;43m.\u001b[39;49m\u001b[43mfget\u001b[49m\u001b[43m(\u001b[49m\u001b[43mobj\u001b[49m\u001b[43m)\u001b[49m\n\u001b[1;32m    842\u001b[0m             obj_dict[\u001b[38;5;28mself\u001b[39m\u001b[38;5;241m.\u001b[39m_key] \u001b[38;5;241m=\u001b[39m val\n\u001b[1;32m    843\u001b[0m \u001b[38;5;28;01mreturn\u001b[39;00m val\n",
      "File \u001b[0;32m/home/wecapstor1/caph/mppi045h/anaconda3/envs/gammapy-dev/lib/python3.8/site-packages/astropy/io/fits/hdu/table.py:440\u001b[0m, in \u001b[0;36m_TableBaseHDU.data\u001b[0;34m(self)\u001b[0m\n\u001b[1;32m    438\u001b[0m \u001b[38;5;129m@lazyproperty\u001b[39m\n\u001b[1;32m    439\u001b[0m \u001b[38;5;28;01mdef\u001b[39;00m \u001b[38;5;21mdata\u001b[39m(\u001b[38;5;28mself\u001b[39m):\n\u001b[0;32m--> 440\u001b[0m     data \u001b[38;5;241m=\u001b[39m \u001b[38;5;28;43mself\u001b[39;49m\u001b[38;5;241;43m.\u001b[39;49m\u001b[43m_get_tbdata\u001b[49m\u001b[43m(\u001b[49m\u001b[43m)\u001b[49m\n\u001b[1;32m    441\u001b[0m     data\u001b[38;5;241m.\u001b[39m_coldefs \u001b[38;5;241m=\u001b[39m \u001b[38;5;28mself\u001b[39m\u001b[38;5;241m.\u001b[39mcolumns\n\u001b[1;32m    442\u001b[0m     data\u001b[38;5;241m.\u001b[39m_character_as_bytes \u001b[38;5;241m=\u001b[39m \u001b[38;5;28mself\u001b[39m\u001b[38;5;241m.\u001b[39m_character_as_bytes\n",
      "File \u001b[0;32m/home/wecapstor1/caph/mppi045h/anaconda3/envs/gammapy-dev/lib/python3.8/site-packages/astropy/io/fits/hdu/table.py:191\u001b[0m, in \u001b[0;36m_TableLikeHDU._get_tbdata\u001b[0;34m(self)\u001b[0m\n\u001b[1;32m    189\u001b[0m     data \u001b[38;5;241m=\u001b[39m raw_data[:tbsize]\u001b[38;5;241m.\u001b[39mview(dtype\u001b[38;5;241m=\u001b[39mcolumns\u001b[38;5;241m.\u001b[39mdtype, \u001b[38;5;28mtype\u001b[39m\u001b[38;5;241m=\u001b[39mnp\u001b[38;5;241m.\u001b[39mrec\u001b[38;5;241m.\u001b[39mrecarray)\n\u001b[1;32m    190\u001b[0m \u001b[38;5;28;01melse\u001b[39;00m:\n\u001b[0;32m--> 191\u001b[0m     raw_data \u001b[38;5;241m=\u001b[39m \u001b[38;5;28;43mself\u001b[39;49m\u001b[38;5;241;43m.\u001b[39;49m\u001b[43m_get_raw_data\u001b[49m\u001b[43m(\u001b[49m\u001b[38;5;28;43mself\u001b[39;49m\u001b[38;5;241;43m.\u001b[39;49m\u001b[43m_nrows\u001b[49m\u001b[43m,\u001b[49m\u001b[43m \u001b[49m\u001b[43mcolumns\u001b[49m\u001b[38;5;241;43m.\u001b[39;49m\u001b[43mdtype\u001b[49m\u001b[43m,\u001b[49m\u001b[43m \u001b[49m\u001b[38;5;28;43mself\u001b[39;49m\u001b[38;5;241;43m.\u001b[39;49m\u001b[43m_data_offset\u001b[49m\u001b[43m)\u001b[49m\n\u001b[1;32m    192\u001b[0m     \u001b[38;5;28;01mif\u001b[39;00m raw_data \u001b[38;5;129;01mis\u001b[39;00m \u001b[38;5;28;01mNone\u001b[39;00m:\n\u001b[1;32m    193\u001b[0m         \u001b[38;5;66;03m# This can happen when a brand new table HDU is being created\u001b[39;00m\n\u001b[1;32m    194\u001b[0m         \u001b[38;5;66;03m# and no data has been assigned to the columns, which case just\u001b[39;00m\n\u001b[1;32m    195\u001b[0m         \u001b[38;5;66;03m# return an empty array\u001b[39;00m\n\u001b[1;32m    196\u001b[0m         raw_data \u001b[38;5;241m=\u001b[39m np\u001b[38;5;241m.\u001b[39marray([], dtype\u001b[38;5;241m=\u001b[39mcolumns\u001b[38;5;241m.\u001b[39mdtype)\n",
      "File \u001b[0;32m/home/wecapstor1/caph/mppi045h/anaconda3/envs/gammapy-dev/lib/python3.8/site-packages/astropy/io/fits/hdu/base.py:549\u001b[0m, in \u001b[0;36m_BaseHDU._get_raw_data\u001b[0;34m(self, shape, code, offset)\u001b[0m\n\u001b[1;32m    547\u001b[0m     \u001b[38;5;28;01mreturn\u001b[39;00m np\u001b[38;5;241m.\u001b[39mndarray(shape, dtype\u001b[38;5;241m=\u001b[39mcode, buffer\u001b[38;5;241m=\u001b[39m\u001b[38;5;28mself\u001b[39m\u001b[38;5;241m.\u001b[39m_buffer, offset\u001b[38;5;241m=\u001b[39moffset)\n\u001b[1;32m    548\u001b[0m \u001b[38;5;28;01melif\u001b[39;00m \u001b[38;5;28mself\u001b[39m\u001b[38;5;241m.\u001b[39m_file:\n\u001b[0;32m--> 549\u001b[0m     \u001b[38;5;28;01mreturn\u001b[39;00m \u001b[38;5;28;43mself\u001b[39;49m\u001b[38;5;241;43m.\u001b[39;49m\u001b[43m_file\u001b[49m\u001b[38;5;241;43m.\u001b[39;49m\u001b[43mreadarray\u001b[49m\u001b[43m(\u001b[49m\u001b[43moffset\u001b[49m\u001b[38;5;241;43m=\u001b[39;49m\u001b[43moffset\u001b[49m\u001b[43m,\u001b[49m\u001b[43m \u001b[49m\u001b[43mdtype\u001b[49m\u001b[38;5;241;43m=\u001b[39;49m\u001b[43mcode\u001b[49m\u001b[43m,\u001b[49m\u001b[43m \u001b[49m\u001b[43mshape\u001b[49m\u001b[38;5;241;43m=\u001b[39;49m\u001b[43mshape\u001b[49m\u001b[43m)\u001b[49m\n\u001b[1;32m    550\u001b[0m \u001b[38;5;28;01melse\u001b[39;00m:\n\u001b[1;32m    551\u001b[0m     \u001b[38;5;28;01mreturn\u001b[39;00m \u001b[38;5;28;01mNone\u001b[39;00m\n",
      "File \u001b[0;32m/home/wecapstor1/caph/mppi045h/anaconda3/envs/gammapy-dev/lib/python3.8/site-packages/astropy/io/fits/file.py:400\u001b[0m, in \u001b[0;36m_File.readarray\u001b[0;34m(self, size, offset, dtype, shape)\u001b[0m\n\u001b[1;32m    393\u001b[0m \u001b[38;5;28;01mfinally\u001b[39;00m:\n\u001b[1;32m    394\u001b[0m     \u001b[38;5;66;03m# Make sure we leave the file in the position we found it; on\u001b[39;00m\n\u001b[1;32m    395\u001b[0m     \u001b[38;5;66;03m# some platforms (e.g. Windows) mmaping a file handle can also\u001b[39;00m\n\u001b[1;32m    396\u001b[0m     \u001b[38;5;66;03m# reset its file pointer.\u001b[39;00m\n\u001b[1;32m    397\u001b[0m     \u001b[38;5;66;03m# Also for Windows when using mmap seek() may return weird\u001b[39;00m\n\u001b[1;32m    398\u001b[0m     \u001b[38;5;66;03m# negative values, which is fixed by calling tell() before.\u001b[39;00m\n\u001b[1;32m    399\u001b[0m     \u001b[38;5;28mself\u001b[39m\u001b[38;5;241m.\u001b[39m_file\u001b[38;5;241m.\u001b[39mtell()\n\u001b[0;32m--> 400\u001b[0m     \u001b[38;5;28;43mself\u001b[39;49m\u001b[38;5;241;43m.\u001b[39;49m\u001b[43m_file\u001b[49m\u001b[38;5;241;43m.\u001b[39;49m\u001b[43mseek\u001b[49m\u001b[43m(\u001b[49m\u001b[43mfilepos\u001b[49m\u001b[43m)\u001b[49m\n",
      "File \u001b[0;32m/home/wecapstor1/caph/mppi045h/anaconda3/envs/gammapy-dev/lib/python3.8/gzip.py:384\u001b[0m, in \u001b[0;36mGzipFile.seek\u001b[0;34m(self, offset, whence)\u001b[0m\n\u001b[1;32m    382\u001b[0m \u001b[38;5;28;01melif\u001b[39;00m \u001b[38;5;28mself\u001b[39m\u001b[38;5;241m.\u001b[39mmode \u001b[38;5;241m==\u001b[39m READ:\n\u001b[1;32m    383\u001b[0m     \u001b[38;5;28mself\u001b[39m\u001b[38;5;241m.\u001b[39m_check_not_closed()\n\u001b[0;32m--> 384\u001b[0m     \u001b[38;5;28;01mreturn\u001b[39;00m \u001b[38;5;28;43mself\u001b[39;49m\u001b[38;5;241;43m.\u001b[39;49m\u001b[43m_buffer\u001b[49m\u001b[38;5;241;43m.\u001b[39;49m\u001b[43mseek\u001b[49m\u001b[43m(\u001b[49m\u001b[43moffset\u001b[49m\u001b[43m,\u001b[49m\u001b[43m \u001b[49m\u001b[43mwhence\u001b[49m\u001b[43m)\u001b[49m\n\u001b[1;32m    386\u001b[0m \u001b[38;5;28;01mreturn\u001b[39;00m \u001b[38;5;28mself\u001b[39m\u001b[38;5;241m.\u001b[39moffset\n",
      "File \u001b[0;32m/home/wecapstor1/caph/mppi045h/anaconda3/envs/gammapy-dev/lib/python3.8/_compression.py:143\u001b[0m, in \u001b[0;36mDecompressReader.seek\u001b[0;34m(self, offset, whence)\u001b[0m\n\u001b[1;32m    141\u001b[0m \u001b[38;5;66;03m# Read and discard data until we reach the desired position.\u001b[39;00m\n\u001b[1;32m    142\u001b[0m \u001b[38;5;28;01mwhile\u001b[39;00m offset \u001b[38;5;241m>\u001b[39m \u001b[38;5;241m0\u001b[39m:\n\u001b[0;32m--> 143\u001b[0m     data \u001b[38;5;241m=\u001b[39m \u001b[38;5;28;43mself\u001b[39;49m\u001b[38;5;241;43m.\u001b[39;49m\u001b[43mread\u001b[49m\u001b[43m(\u001b[49m\u001b[38;5;28;43mmin\u001b[39;49m\u001b[43m(\u001b[49m\u001b[43mio\u001b[49m\u001b[38;5;241;43m.\u001b[39;49m\u001b[43mDEFAULT_BUFFER_SIZE\u001b[49m\u001b[43m,\u001b[49m\u001b[43m \u001b[49m\u001b[43moffset\u001b[49m\u001b[43m)\u001b[49m\u001b[43m)\u001b[49m\n\u001b[1;32m    144\u001b[0m     \u001b[38;5;28;01mif\u001b[39;00m \u001b[38;5;129;01mnot\u001b[39;00m data:\n\u001b[1;32m    145\u001b[0m         \u001b[38;5;28;01mbreak\u001b[39;00m\n",
      "File \u001b[0;32m/home/wecapstor1/caph/mppi045h/anaconda3/envs/gammapy-dev/lib/python3.8/gzip.py:487\u001b[0m, in \u001b[0;36m_GzipReader.read\u001b[0;34m(self, size)\u001b[0m\n\u001b[1;32m    484\u001b[0m \u001b[38;5;66;03m# Read a chunk of data from the file\u001b[39;00m\n\u001b[1;32m    485\u001b[0m buf \u001b[38;5;241m=\u001b[39m \u001b[38;5;28mself\u001b[39m\u001b[38;5;241m.\u001b[39m_fp\u001b[38;5;241m.\u001b[39mread(io\u001b[38;5;241m.\u001b[39mDEFAULT_BUFFER_SIZE)\n\u001b[0;32m--> 487\u001b[0m uncompress \u001b[38;5;241m=\u001b[39m \u001b[38;5;28;43mself\u001b[39;49m\u001b[38;5;241;43m.\u001b[39;49m\u001b[43m_decompressor\u001b[49m\u001b[38;5;241;43m.\u001b[39;49m\u001b[43mdecompress\u001b[49m\u001b[43m(\u001b[49m\u001b[43mbuf\u001b[49m\u001b[43m,\u001b[49m\u001b[43m \u001b[49m\u001b[43msize\u001b[49m\u001b[43m)\u001b[49m\n\u001b[1;32m    488\u001b[0m \u001b[38;5;28;01mif\u001b[39;00m \u001b[38;5;28mself\u001b[39m\u001b[38;5;241m.\u001b[39m_decompressor\u001b[38;5;241m.\u001b[39munconsumed_tail \u001b[38;5;241m!=\u001b[39m \u001b[38;5;124mb\u001b[39m\u001b[38;5;124m\"\u001b[39m\u001b[38;5;124m\"\u001b[39m:\n\u001b[1;32m    489\u001b[0m     \u001b[38;5;28mself\u001b[39m\u001b[38;5;241m.\u001b[39m_fp\u001b[38;5;241m.\u001b[39mprepend(\u001b[38;5;28mself\u001b[39m\u001b[38;5;241m.\u001b[39m_decompressor\u001b[38;5;241m.\u001b[39munconsumed_tail)\n",
      "\u001b[0;31merror\u001b[0m: Error -3 while decompressing data: invalid code lengths set"
     ]
    }
   ],
   "source": [
    "%%time\n",
    "for l in livetime_simus[12:]:\n",
    "    print(\"Livetime: \", l)\n",
    "    \n",
    "    factors_ = compute_factor(l)\n",
    "    datasets_, dataset_stacked_ = create(factors_)\n",
    "    if msh:\n",
    "        dataset_stacked_.write(f\"datasets/dataset-msh-simulated-{l.value}-hr.fits.gz\", overwrite= True)\n",
    "    if pks:\n",
    "        dataset_stacked_.write(f\"datasets/dataset-simulated-{l.value}-hr.fits.gz\", overwrite= True)\n",
    "        "
   ]
  },
  {
   "cell_type": "code",
   "execution_count": null,
   "id": "4b589504-6b0f-481b-9d66-73ae8b6cfc0e",
   "metadata": {},
   "outputs": [],
   "source": []
  }
 ],
 "metadata": {
  "kernelspec": {
   "display_name": "Python 3 (ipykernel)",
   "language": "python",
   "name": "python3"
  },
  "language_info": {
   "codemirror_mode": {
    "name": "ipython",
    "version": 3
   },
   "file_extension": ".py",
   "mimetype": "text/x-python",
   "name": "python",
   "nbconvert_exporter": "python",
   "pygments_lexer": "ipython3",
   "version": "3.8.16"
  }
 },
 "nbformat": 4,
 "nbformat_minor": 5
}
