{
 "cells": [
  {
   "cell_type": "code",
   "execution_count": 1,
   "id": "e0c4dcf1",
   "metadata": {
    "tags": []
   },
   "outputs": [],
   "source": [
    "#get_ipython().system('jupyter nbconvert --to script 1-Nui_Par_Fitting.ipynb')\n",
    "import pyximport\n",
    "\n",
    "pyximport.install()\n",
    "import matplotlib.pyplot as plt\n",
    "import numpy as np\n",
    "import astropy.units as u\n",
    "import gammapy\n",
    "\n",
    "# from gammapy.datasets import MapDataset\n",
    "from gammapy.maps import Map\n",
    "from astropy.coordinates import SkyCoord, Angle\n",
    "from gammapy.modeling import Fit,  Parameters, Covariance , Parameter\n",
    "from gammapy.datasets import MapDataset ,Datasets#, MapDatasetNuisance\n",
    "from gammapy.modeling.models import (\n",
    "    PowerLawSpectralModel,\n",
    "    create_crab_spectral_model,\n",
    "    SkyModel,\n",
    "    PointSpatialModel,\n",
    "    ShellSpatialModel,\n",
    "    GeneralizedGaussianSpatialModel,\n",
    "    TemplateSpatialModel,\n",
    "    LogParabolaSpectralModel,\n",
    "    GaussianSpatialModel,\n",
    "    DiskSpatialModel,\n",
    "    PowerLawNormSpectralModel,\n",
    "    Models,\n",
    "    SpatialModel,\n",
    "    FoVBackgroundModel,\n",
    "    #PowerLawNuisanceSpectralModel,\n",
    "    #PowerLawNormNuisanceSpectralModel\n",
    ")\n",
    "from gammapy.estimators import TSMapEstimator, ExcessMapEstimator\n",
    "\n",
    "from regions import CircleSkyRegion, RectangleSkyRegion\n",
    "import yaml\n",
    "import sys\n",
    "sys.path.append('/home/katrin/Documents/nuisance_summary/')\n",
    "sys.path.append('../')\n",
    "from Dataset_Creation import sys_dataset\n",
    "import Dataset_load "
   ]
  },
  {
   "cell_type": "code",
   "execution_count": 2,
   "id": "f94dc89c",
   "metadata": {},
   "outputs": [
    {
     "name": "stdout",
     "output_type": "stream",
     "text": [
      "loaded dataset:\n",
      "/home/wecapstor1/caph/mppi045h/nuisance_summary/PKS_flare/HESS_public/dataset-simulated-pl.fits.gz\n"
     ]
    }
   ],
   "source": [
    "\n",
    "scaled_amplitude = Parameter('amplitude', \n",
    "                             value = 1e-12)\n",
    "dataset_asimov  = Dataset_load.create_asimov(model = 'pl', source = \"PKSflare\", \n",
    "                                            parameters = Parameters([scaled_amplitude]))"
   ]
  },
  {
   "cell_type": "markdown",
   "id": "2e0399d4",
   "metadata": {},
   "source": [
    "## Asimov Cases"
   ]
  },
  {
   "cell_type": "code",
   "execution_count": 3,
   "id": "007fe486",
   "metadata": {},
   "outputs": [],
   "source": [
    "\n",
    "shift_cor = 0.1\n",
    "tilt_cor = 0.02\n",
    "\n",
    "bias, resolution = 0,0\n"
   ]
  },
  {
   "cell_type": "code",
   "execution_count": 4,
   "id": "59178c0f",
   "metadata": {},
   "outputs": [],
   "source": [
    "sys_d_cor = sys_dataset(dataset_asimov= dataset_asimov,\n",
    "                        shift = shift_cor, \n",
    "                        tilt = tilt_cor,\n",
    "                        bias = bias,\n",
    "                        resolution = resolution,\n",
    "                        rnd = False,\n",
    "                        e_reco_creation=10)\n",
    "sys_d_cor_rnd = sys_dataset(dataset_asimov= dataset_asimov,\n",
    "                        shift = shift_cor, \n",
    "                        tilt = tilt_cor,\n",
    "                        bias = bias,\n",
    "                        resolution = resolution,\n",
    "                        rnd = True,\n",
    "                        e_reco_creation=10)\n",
    "dataset_cor_N = sys_d_cor.create_dataset_N(10)\n",
    "dataset_cor = sys_d_cor_rnd.create_dataset()\n",
    "\n",
    "\n",
    "\n",
    "\n",
    "zero = 1e-24\n",
    "## addional parameter bias and resolution (ereco) but are frozen\n",
    "penalising_invcovmatrix = np.zeros((4, 4))\n",
    "np.fill_diagonal(penalising_invcovmatrix,\n",
    "                 [1/zero**2, 1/zero**2, 1/shift_cor**2, 1/tilt_cor**2])\n",
    "\n",
    "dataset_cor_N.penalising_invcovmatrix = penalising_invcovmatrix\n",
    "\n",
    "dataset_cor_N.irf_model.e_reco_model.parameters.freeze_all()\n"
   ]
  },
  {
   "cell_type": "code",
   "execution_count": 5,
   "id": "1ac3ce9d",
   "metadata": {
    "scrolled": true
   },
   "outputs": [
    {
     "name": "stdout",
     "output_type": "stream",
     "text": [
      "CPU times: user 1min 51s, sys: 2min 41s, total: 4min 32s\n",
      "Wall time: 1min 17s\n"
     ]
    }
   ],
   "source": [
    "%%time\n",
    "fit_cor = Fit(store_trace=False)\n",
    "result_cor = fit_cor.run(dataset_cor_N)\n",
    "\n"
   ]
  },
  {
   "cell_type": "code",
   "execution_count": 6,
   "id": "5db8927b-af8b-4d07-a05a-54a40889baa7",
   "metadata": {},
   "outputs": [
    {
     "name": "stdout",
     "output_type": "stream",
     "text": [
      "CPU times: user 12.7 s, sys: 2.72 s, total: 15.4 s\n",
      "Wall time: 15.5 s\n"
     ]
    }
   ],
   "source": [
    "%%time\n",
    "fit_cor = Fit(store_trace=False)\n",
    "result_cor = fit_cor.run(dataset_cor)\n",
    "\n"
   ]
  },
  {
   "cell_type": "code",
   "execution_count": 7,
   "id": "ea119caf-d2e9-47d7-8c5d-37725b72cc06",
   "metadata": {},
   "outputs": [
    {
     "data": {
      "text/latex": [
       "$4.3888889 \\; \\mathrm{h}$"
      ],
      "text/plain": [
       "<Quantity 4.38888889 h>"
      ]
     },
     "execution_count": 7,
     "metadata": {},
     "output_type": "execute_result"
    }
   ],
   "source": [
    "#CPU time:\n",
    "(15.8 *u.s * 1000 ).to('hr')"
   ]
  },
  {
   "cell_type": "code",
   "execution_count": 8,
   "id": "64deda88-6154-4968-96e7-7279df7efb33",
   "metadata": {},
   "outputs": [
    {
     "data": {
      "text/latex": [
       "$0.43888889 \\; \\mathrm{h}$"
      ],
      "text/plain": [
       "<Quantity 0.43888889 h>"
      ]
     },
     "execution_count": 8,
     "metadata": {},
     "output_type": "execute_result"
    }
   ],
   "source": [
    "(15.8 *u.s * 100 ).to('hr')"
   ]
  },
  {
   "cell_type": "code",
   "execution_count": 9,
   "id": "b0152edd-06c9-488f-85e3-4eb18c5a296d",
   "metadata": {},
   "outputs": [
    {
     "data": {
      "text/latex": [
       "$0.075555556 \\; \\mathrm{h}$"
      ],
      "text/plain": [
       "<Quantity 0.07555556 h>"
      ]
     },
     "execution_count": 9,
     "metadata": {},
     "output_type": "execute_result"
    }
   ],
   "source": [
    "(4*u.min +  32*u.s).to('hr')"
   ]
  },
  {
   "cell_type": "code",
   "execution_count": null,
   "id": "82b846ca-cfed-4841-a069-e02d411c6d9a",
   "metadata": {},
   "outputs": [],
   "source": []
  }
 ],
 "metadata": {
  "kernelspec": {
   "display_name": "Python 3 (ipykernel)",
   "language": "python",
   "name": "python3"
  },
  "language_info": {
   "codemirror_mode": {
    "name": "ipython",
    "version": 3
   },
   "file_extension": ".py",
   "mimetype": "text/x-python",
   "name": "python",
   "nbconvert_exporter": "python",
   "pygments_lexer": "ipython3",
   "version": "3.8.16"
  },
  "varInspector": {
   "cols": {
    "lenName": 16,
    "lenType": 16,
    "lenVar": 40
   },
   "kernels_config": {
    "python": {
     "delete_cmd_postfix": "",
     "delete_cmd_prefix": "del ",
     "library": "var_list.py",
     "varRefreshCmd": "print(var_dic_list())"
    },
    "r": {
     "delete_cmd_postfix": ") ",
     "delete_cmd_prefix": "rm(",
     "library": "var_list.r",
     "varRefreshCmd": "cat(var_dic_list()) "
    }
   },
   "types_to_exclude": [
    "module",
    "function",
    "builtin_function_or_method",
    "instance",
    "_Feature"
   ],
   "window_display": false
  }
 },
 "nbformat": 4,
 "nbformat_minor": 5
}
