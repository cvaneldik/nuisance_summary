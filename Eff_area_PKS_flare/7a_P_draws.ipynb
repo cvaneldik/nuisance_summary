{
 "cells": [
  {
   "cell_type": "code",
   "execution_count": 1,
   "id": "c102068e",
   "metadata": {},
   "outputs": [
    {
     "name": "stdout",
     "output_type": "stream",
     "text": [
      "loaded gammapy version: 0.1.dev19174+g56b5bdf \n",
      "Supposed to be 1.0 (21-12-2022)\n"
     ]
    }
   ],
   "source": [
    "import gammapy \n",
    "print(f'loaded gammapy version: {gammapy.__version__} ' )\n",
    "print(f'Supposed to be 1.0 (21-12-2022)' )"
   ]
  },
  {
   "cell_type": "code",
   "execution_count": 2,
   "id": "e0c4dcf1",
   "metadata": {
    "tags": []
   },
   "outputs": [],
   "source": [
    "#get_ipython().system('jupyter nbconvert --to script 1-Nui_Par_Fitting.ipynb')\n",
    "import pyximport\n",
    "\n",
    "pyximport.install()\n",
    "import matplotlib.pyplot as plt\n",
    "import numpy as np\n",
    "import astropy.units as u\n",
    "import gammapy\n",
    "\n",
    "# from gammapy.datasets import MapDataset\n",
    "from gammapy.maps import Map\n",
    "from astropy.coordinates import SkyCoord, Angle\n",
    "from gammapy.modeling import Fit, Parameter, Parameters, Covariance\n",
    "from gammapy.datasets import MapDataset #, MapDatasetNuisance\n",
    "from gammapy.modeling.models import (\n",
    "    PowerLawSpectralModel,\n",
    "    create_crab_spectral_model,\n",
    "    SkyModel,\n",
    "    PointSpatialModel,\n",
    "    ShellSpatialModel,\n",
    "    GeneralizedGaussianSpatialModel,\n",
    "    TemplateSpatialModel,\n",
    "    LogParabolaSpectralModel,\n",
    "    GaussianSpatialModel,\n",
    "    DiskSpatialModel,\n",
    "    PowerLawNormSpectralModel,\n",
    "    Models,\n",
    "    SpatialModel,\n",
    "    FoVBackgroundModel,\n",
    ")\n",
    "from gammapy.estimators import TSMapEstimator, ExcessMapEstimator\n",
    "from gammapy.maps import MapAxis\n",
    "from gammapy.modeling.models.spectral import scale_plot_flux\n",
    "from gammapy.estimators import  FluxPointsEstimator\n",
    "    \n",
    "from regions import CircleSkyRegion, RectangleSkyRegion\n",
    "import yaml\n",
    "import sys\n",
    "\n",
    "from regions import CircleSkyRegion, RectangleSkyRegion\n",
    "import yaml\n",
    "import sys\n",
    "sys.path.append('/home/katrin/Documents/nuisance_summary/')\n",
    "sys.path.append('../')\n",
    "from Dataset_Creation import sys_dataset\n",
    "import Dataset_load "
   ]
  },
  {
   "cell_type": "code",
   "execution_count": null,
   "id": "d7f3e0ff",
   "metadata": {},
   "outputs": [],
   "source": []
  },
  {
   "cell_type": "markdown",
   "id": "23adcef0",
   "metadata": {},
   "source": [
    "## Read dataset"
   ]
  },
  {
   "cell_type": "code",
   "execution_count": 3,
   "id": "f94dc89c",
   "metadata": {},
   "outputs": [
    {
     "name": "stdout",
     "output_type": "stream",
     "text": [
      "loaded dataset:\n",
      "/home/wecapstor1/caph/mppi045h/nuisance_summary/PKS_flare/HESS_public/dataset-simulated-pl.fits.gz\n"
     ]
    }
   ],
   "source": [
    "scaled_amplitude = Parameter('amplitude',\n",
    "                             value = 1e-12)\n",
    "dataset_asimov  = Dataset_load.create_asimov(model = 'pl', source = \"PKSflare\",\n",
    "                                            parameters = Parameters([scaled_amplitude]))"
   ]
  },
  {
   "cell_type": "markdown",
   "id": "256ed44a",
   "metadata": {},
   "source": [
    "## Varying the Exposure"
   ]
  },
  {
   "cell_type": "code",
   "execution_count": 4,
   "id": "0e42fee1-88ff-453e-9cf7-7cda74a53e34",
   "metadata": {},
   "outputs": [
    {
     "name": "stdout",
     "output_type": "stream",
     "text": [
      "20\n"
     ]
    }
   ],
   "source": [
    "mask = dataset_asimov.mask.data.sum(axis=2).sum(axis=1)>0\n",
    "\n",
    "ebins = dataset_asimov.counts.geom.axes[0].center[mask]\n",
    "print(len(ebins))"
   ]
  },
  {
   "cell_type": "code",
   "execution_count": 5,
   "id": "260723d7",
   "metadata": {},
   "outputs": [],
   "source": [
    "shift = +0.1\n",
    "tilt = 0.02\n",
    "\n",
    "\n",
    "N = 300\n",
    "sigma_a = shift\n",
    "sigma_i = tilt\n",
    "\n",
    "save = True\n",
    "save_flux = True\n",
    "\n",
    "\n"
   ]
  },
  {
   "cell_type": "code",
   "execution_count": null,
   "id": "dffe4a7c",
   "metadata": {
    "scrolled": true
   },
   "outputs": [
    {
     "name": "stdout",
     "output_type": "stream",
     "text": [
      "\n",
      "========================================================================================================================\n",
      "0\n",
      "========================================================================================================================\n",
      "shift:, [0.08668065], tilt: [-0.02642663]\n",
      "1.0055297700004264e-12   4.7083858183642053e-14   2.366834920786533   0.04544885824771994   0.9990786673660769   0.0015597281499847267   0.0   0.0   \n",
      "\n",
      "========================================================================================================================\n",
      "1\n",
      "========================================================================================================================\n",
      "shift:, [-0.12282532], tilt: [-0.00446901]\n",
      "1.0618419393869482e-12   5.703180504489969e-14   2.2832798485338444   0.04865682828909057   0.9982959985242236   0.0015590013991573647   0.0   0.0   \n",
      "\n",
      "========================================================================================================================\n",
      "2\n",
      "========================================================================================================================\n",
      "shift:, [-0.03224508], tilt: [0.01089325]\n",
      "9.891965229292092e-13   5.2295637270714045e-14   2.257477296092084   0.04743609100499187   1.0010235482598093   0.0015612057486642033   0.0   0.0   \n",
      "\n",
      "========================================================================================================================\n",
      "3\n",
      "========================================================================================================================\n",
      "shift:, [0.12159569], tilt: [0.00795349]\n",
      "8.280232141503126e-13   4.5198000753028224e-14   2.2282595145996225   0.04741900466538091   0.9990351574803036   0.0015596087109009886   0.0   0.0   \n",
      "\n",
      "========================================================================================================================\n",
      "4\n",
      "========================================================================================================================\n",
      "shift:, [-0.0461918], tilt: [0.03399113]\n",
      "1.0628388288520766e-12   5.314082128233816e-14   2.266626715398767   0.04637142284436053   0.9973667985568049   0.0015583192806574325   0.0   0.0   \n",
      "\n",
      "========================================================================================================================\n",
      "5\n",
      "========================================================================================================================\n",
      "shift:, [0.03800882], tilt: [-0.00432646]\n",
      "9.666118186636902e-13   4.909317437987802e-14   2.2727877950249873   0.045492416790948856   1.000518457379255   0.0015608339885017294   0.0   0.0   \n",
      "\n",
      "========================================================================================================================\n",
      "6\n",
      "========================================================================================================================\n",
      "shift:, [0.10277871], tilt: [-0.00892076]\n",
      "9.373491218831735e-13   4.650501244108749e-14   2.319738894375256   0.04623577065394349   0.9987739055076053   0.0015595888056905473   0.0   0.0   \n",
      "\n",
      "========================================================================================================================\n",
      "7\n",
      "========================================================================================================================\n",
      "shift:, [0.04326793], tilt: [0.01844592]\n"
     ]
    }
   ],
   "source": [
    "for n in range(N):\n",
    "    print()\n",
    "    print('====' * 30)\n",
    "    print(n)\n",
    "    print('====' * 30)\n",
    "    \n",
    "    shift_rnd = np.random.normal(0, shift, 1)\n",
    "    tilt_rnd = np.random.normal(0, tilt, 1)\n",
    "    print(f\"shift:, {shift_rnd}, tilt: {tilt_rnd}\" )\n",
    "    sys_d_cor = sys_dataset(dataset_asimov= dataset_asimov,\n",
    "                    shift = shift_rnd, \n",
    "                    tilt = tilt_rnd,\n",
    "                    rnd = True)\n",
    "    dataset = sys_d_cor.create_dataset()\n",
    "    fit_cor = Fit(store_trace=False)\n",
    "    minuit_opts = {\"tol\": 0.001, \"strategy\": 2}\n",
    "    fit_cor.optimize_opts = minuit_opts\n",
    "    result_cor = fit_cor.run([dataset])\n",
    "\n",
    "\n",
    "    if save:\n",
    "        with open(\"data/7a_P_draw_info.txt\", \"a\") as myfile:\n",
    "            myfile.write(str(float(shift_rnd)) + '    '+ str(float(tilt_rnd)) + '    ' +  str(float(dataset.stat_sum())) + '\\n')\n",
    "\n",
    "    stri = \"\"\n",
    "    for p in ['amplitude', 'index', 'norm', 'tilt']:\n",
    "        stri += str(dataset.models.parameters[p].value)  + '   ' +  str(dataset.models.parameters[p].error)  + '   '\n",
    "    print(stri)\n",
    "    if save:\n",
    "        with open(\"data/7a_P_draw_par.txt\", \"a\") as myfile:\n",
    "            myfile.write(stri + '\\n')\n",
    "\n",
    "\n",
    "\n",
    "    fluxes = []\n",
    "    for e in ebins:\n",
    "        flux =  dataset.models[0].spectral_model(e)\n",
    "        fluxes.append(flux.value)\n",
    "\n",
    "    ff = str()\n",
    "    for f in fluxes:\n",
    "        ff += str(f) + \"  \"\n",
    "    #print(ff)\n",
    "    if save:\n",
    "        with open(\"data/7a_P_draw_flux.txt\", \"a\") as myfile:\n",
    "            myfile.write( ff + '\\n')\n",
    "\n",
    "\n",
    "    energy_bounds = (ebins[0], ebins[-1] ) * u.TeV\n",
    "\n",
    "    energy_min, energy_max = energy_bounds\n",
    "    energy = MapAxis.from_energy_bounds(\n",
    "        energy_min,\n",
    "        energy_max,\n",
    "        len(ebins),\n",
    "    )\n",
    "\n",
    "    fluxe2, _ = dataset.models[0].spectral_model._get_plot_flux(sed_type='dnde', energy=energy)\n",
    "    fluxe2 = scale_plot_flux(fluxe2, energy_power=2)\n",
    "    fluxe2 = fluxe2.quantity[:, 0, 0]\n",
    "    fluxe2 = np.array(fluxe2)   \n",
    "    ff = str()\n",
    "    for f in fluxe2:\n",
    "        ff += str(f) + \"  \"\n",
    "    if save:\n",
    "        with open(\"data/7a_P_draw_flux2e.txt\", \"a\") as myfile:\n",
    "            myfile.write( ff + '\\n')\n",
    "\n",
    "    energy_edges = dataset.geoms['geom'].axes[0].edges\n",
    "    #esti  = FluxPointsEstimator(energy_edges= energy_edges)\n",
    "    #fluxpoints = esti.run([dataset])\n",
    "    #if save_flux:\n",
    "    #    fluxpoints.write(f'data/fluxpoints/6_fluxpoints_{shift_rnd[0]:.6}.fits')\n",
    "    #except:\n",
    "    #    pass\n"
   ]
  },
  {
   "cell_type": "code",
   "execution_count": null,
   "id": "dbbcaf18",
   "metadata": {},
   "outputs": [],
   "source": []
  }
 ],
 "metadata": {
  "kernelspec": {
   "display_name": "Python 3 (ipykernel)",
   "language": "python",
   "name": "python3"
  },
  "language_info": {
   "codemirror_mode": {
    "name": "ipython",
    "version": 3
   },
   "file_extension": ".py",
   "mimetype": "text/x-python",
   "name": "python",
   "nbconvert_exporter": "python",
   "pygments_lexer": "ipython3",
   "version": "3.8.16"
  },
  "varInspector": {
   "cols": {
    "lenName": 16,
    "lenType": 16,
    "lenVar": 40
   },
   "kernels_config": {
    "python": {
     "delete_cmd_postfix": "",
     "delete_cmd_prefix": "del ",
     "library": "var_list.py",
     "varRefreshCmd": "print(var_dic_list())"
    },
    "r": {
     "delete_cmd_postfix": ") ",
     "delete_cmd_prefix": "rm(",
     "library": "var_list.r",
     "varRefreshCmd": "cat(var_dic_list()) "
    }
   },
   "types_to_exclude": [
    "module",
    "function",
    "builtin_function_or_method",
    "instance",
    "_Feature"
   ],
   "window_display": false
  }
 },
 "nbformat": 4,
 "nbformat_minor": 5
}
