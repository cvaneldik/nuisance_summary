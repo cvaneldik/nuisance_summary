{
 "cells": [
  {
   "cell_type": "code",
   "execution_count": 1,
   "id": "c102068e",
   "metadata": {},
   "outputs": [
    {
     "name": "stdout",
     "output_type": "stream",
     "text": [
      "loaded gammapy version: 0.1.dev19174+g56b5bdf \n",
      "Supposed to be 1.0 (21-11-2022)\n"
     ]
    }
   ],
   "source": [
    "import gammapy \n",
    "print(f'loaded gammapy version: {gammapy.__version__} ' )\n",
    "print(f'Supposed to be 1.0 (21-11-2022)' )"
   ]
  },
  {
   "cell_type": "code",
   "execution_count": 2,
   "id": "aace5e05",
   "metadata": {},
   "outputs": [],
   "source": [
    "from matplotlib import rc\n",
    "import matplotlib.pylab as plt\n",
    "\n",
    "rc('font', **{'family': 'serif', 'serif': ['Computer Modern']})\n",
    "rc('text', usetex=True)"
   ]
  },
  {
   "cell_type": "code",
   "execution_count": 3,
   "id": "e0c4dcf1",
   "metadata": {
    "tags": []
   },
   "outputs": [],
   "source": [
    "#get_ipython().system('jupyter nbconvert --to script 1-Nui_Par_Fitting.ipynb')\n",
    "import pyximport\n",
    "\n",
    "pyximport.install()\n",
    "import matplotlib.pyplot as plt\n",
    "import numpy as np\n",
    "import astropy.units as u\n",
    "import gammapy\n",
    "\n",
    "# from gammapy.datasets import MapDataset\n",
    "from gammapy.maps import Map\n",
    "from astropy.coordinates import SkyCoord, Angle\n",
    "from gammapy.modeling import Fit,  Parameters, Covariance , Parameter\n",
    "from gammapy.datasets import MapDataset ,Datasets#, MapDatasetNuisance\n",
    "from gammapy.modeling.models import (\n",
    "    PowerLawSpectralModel,\n",
    "    create_crab_spectral_model,\n",
    "    SkyModel,\n",
    "    PointSpatialModel,\n",
    "    ShellSpatialModel,\n",
    "    GeneralizedGaussianSpatialModel,\n",
    "    TemplateSpatialModel,\n",
    "    LogParabolaSpectralModel,\n",
    "    GaussianSpatialModel,\n",
    "    DiskSpatialModel,\n",
    "    PowerLawNormSpectralModel,\n",
    "    Models,\n",
    "    SpatialModel,\n",
    "    FoVBackgroundModel,\n",
    "    #PowerLawNuisanceSpectralModel,\n",
    "    #PowerLawNormNuisanceSpectralModel\n",
    ")\n",
    "from gammapy.estimators import TSMapEstimator, ExcessMapEstimator\n",
    "\n",
    "from regions import CircleSkyRegion, RectangleSkyRegion\n",
    "import yaml\n",
    "import sys\n",
    "sys.path.append('../')\n",
    "\n",
    "from Dataset_Creation import sys_dataset\n",
    "import Dataset_load\n"
   ]
  },
  {
   "cell_type": "markdown",
   "id": "23adcef0",
   "metadata": {},
   "source": [
    "## Read dataset"
   ]
  },
  {
   "cell_type": "code",
   "execution_count": 4,
   "id": "f94dc89c",
   "metadata": {},
   "outputs": [
    {
     "name": "stdout",
     "output_type": "stream",
     "text": [
      "update evaluator\n"
     ]
    }
   ],
   "source": [
    "\n",
    "scale  = 0.05\n",
    "scaled_amplitude = Parameter('amplitude',\n",
    "                             value = 4.11e-11 * scale)\n",
    "dataset_asimov  = Dataset_load.create_asimov(model = 'pl',\n",
    "                                            parameters = Parameters([scaled_amplitude]))"
   ]
  },
  {
   "cell_type": "markdown",
   "id": "2e0399d4",
   "metadata": {},
   "source": [
    "## Single Cases"
   ]
  },
  {
   "cell_type": "code",
   "execution_count": 5,
   "id": "92011f5f",
   "metadata": {},
   "outputs": [
    {
     "name": "stdout",
     "output_type": "stream",
     "text": [
      "0.015\n",
      "update evaluator\n"
     ]
    }
   ],
   "source": [
    "true_energy = dataset_asimov.exposure.geom.axes[0].center.value\n",
    "\n",
    "shift_neg = +0.1\n",
    "tilt_neg = +0.015\n",
    "\n",
    "print(tilt_neg)\n",
    "\n"
   ]
  },
  {
   "cell_type": "code",
   "execution_count": 6,
   "id": "5bd1ad43",
   "metadata": {
    "scrolled": true
   },
   "outputs": [
    {
     "name": "stdout",
     "output_type": "stream",
     "text": [
      "update evaluator\n",
      "update evaluator\n"
     ]
    }
   ],
   "source": [
    "\n",
    "sys = sys_dataset(dataset_asimov= dataset_asimov,\n",
    "                        shift = shift_neg, \n",
    "                        tilt = tilt_neg,\n",
    "                        rnd = False)\n",
    "dataset = sys.create_dataset()\n",
    "\n",
    "dataset_N = sys.create_dataset_N(e_reco_n = 10)\n",
    "zero = 1e-24\n",
    "## addional parameter bias and resolution (ereco) but are frozen\n",
    "penalising_invcovmatrix = np.zeros((4, 4))\n",
    "np.fill_diagonal(penalising_invcovmatrix,\n",
    "                 [ 1/zero**2, 1/zero**2,1/shift_neg**2, 1/tilt_neg**2,])\n",
    "\n",
    "dataset_N.penalising_invcovmatrix = penalising_invcovmatrix\n",
    "if tilt_neg >zero:\n",
    "    dataset_N.irf_model.eff_area_model.parameters['tilt_nuisance'].frozen = False"
   ]
  },
  {
   "cell_type": "code",
   "execution_count": 7,
   "id": "2a88745f",
   "metadata": {
    "scrolled": true
   },
   "outputs": [
    {
     "name": "stdout",
     "output_type": "stream",
     "text": [
      "update evaluator\n",
      "update evaluator\n",
      "update evaluator\n",
      "update evaluator\n",
      "update evaluator\n",
      "update evaluator\n",
      "update evaluator\n",
      "update evaluator\n",
      "update evaluator\n",
      "update evaluator\n",
      "update evaluator\n",
      "CPU times: user 20.5 s, sys: 4.48 s, total: 24.9 s\n",
      "Wall time: 24.3 s\n"
     ]
    }
   ],
   "source": [
    "%%time\n",
    "fit = Fit(store_trace=False)\n",
    "minuit_opts = {\"tol\": 0.001, \"strategy\": 2}\n",
    "fit.optimize_opts = minuit_opts\n",
    "result = fit.run(dataset)\n"
   ]
  },
  {
   "cell_type": "code",
   "execution_count": 8,
   "id": "e58e4685",
   "metadata": {
    "scrolled": true
   },
   "outputs": [
    {
     "name": "stdout",
     "output_type": "stream",
     "text": [
      "update evaluator\n",
      "irf model eval\n",
      "update evaluator\n",
      "update evaluator\n",
      "update evaluator\n",
      "update evaluator\n",
      "update evaluator\n",
      "update evaluator\n",
      "update evaluator\n",
      "update evaluator\n",
      "update evaluator\n",
      "update evaluator\n",
      "irf model eval\n",
      "irf model eval\n",
      "irf model eval\n",
      "irf model eval\n",
      "irf model eval\n",
      "irf model eval\n",
      "irf model eval\n",
      "irf model eval\n",
      "irf model eval\n",
      "irf model eval\n",
      "irf model eval\n",
      "irf model eval\n",
      "irf model eval\n",
      "irf model eval\n",
      "irf model eval\n",
      "irf model eval\n",
      "irf model eval\n",
      "irf model eval\n",
      "irf model eval\n",
      "irf model eval\n",
      "irf model eval\n",
      "irf model eval\n",
      "irf model eval\n",
      "irf model eval\n",
      "irf model eval\n",
      "irf model eval\n",
      "irf model eval\n",
      "irf model eval\n",
      "irf model eval\n",
      "irf model eval\n",
      "irf model eval\n",
      "irf model eval\n",
      "irf model eval\n",
      "irf model eval\n",
      "irf model eval\n",
      "irf model eval\n",
      "irf model eval\n",
      "irf model eval\n",
      "irf model eval\n",
      "irf model eval\n",
      "irf model eval\n",
      "irf model eval\n",
      "irf model eval\n",
      "irf model eval\n",
      "irf model eval\n",
      "irf model eval\n",
      "irf model eval\n",
      "irf model eval\n",
      "irf model eval\n",
      "irf model eval\n",
      "irf model eval\n",
      "irf model eval\n",
      "irf model eval\n",
      "irf model eval\n",
      "irf model eval\n",
      "irf model eval\n",
      "irf model eval\n",
      "irf model eval\n",
      "irf model eval\n",
      "irf model eval\n",
      "irf model eval\n",
      "irf model eval\n",
      "irf model eval\n",
      "irf model eval\n",
      "irf model eval\n",
      "irf model eval\n",
      "irf model eval\n",
      "irf model eval\n",
      "irf model eval\n",
      "irf model eval\n",
      "irf model eval\n",
      "irf model eval\n",
      "irf model eval\n",
      "irf model eval\n",
      "irf model eval\n",
      "irf model eval\n",
      "irf model eval\n",
      "irf model eval\n",
      "irf model eval\n",
      "irf model eval\n",
      "irf model eval\n",
      "irf model eval\n",
      "irf model eval\n",
      "irf model eval\n",
      "irf model eval\n",
      "irf model eval\n",
      "irf model eval\n",
      "irf model eval\n",
      "irf model eval\n",
      "irf model eval\n",
      "irf model eval\n",
      "irf model eval\n",
      "irf model eval\n",
      "irf model eval\n",
      "irf model eval\n",
      "irf model eval\n",
      "irf model eval\n"
     ]
    },
    {
     "name": "stderr",
     "output_type": "stream",
     "text": [
      "Position <SkyCoord (ICRS): (ra, dec) in deg\n",
      "    (50.69788861, -76.78430908)> is outside valid IRF map range, using nearest IRF defined within\n"
     ]
    },
    {
     "name": "stdout",
     "output_type": "stream",
     "text": [
      "update evaluator\n"
     ]
    },
    {
     "name": "stderr",
     "output_type": "stream",
     "text": [
      "Position <SkyCoord (ICRS): (ra, dec) in deg\n",
      "    (50.69788861, -76.78430908)> is outside valid IRF map range, using nearest IRF defined within\n"
     ]
    },
    {
     "name": "stdout",
     "output_type": "stream",
     "text": [
      "irf model eval\n"
     ]
    },
    {
     "name": "stderr",
     "output_type": "stream",
     "text": [
      "Position <SkyCoord (ICRS): (ra, dec) in deg\n",
      "    (259.61592584, -49.31055555)> is outside valid IRF map range, using nearest IRF defined within\n"
     ]
    },
    {
     "name": "stdout",
     "output_type": "stream",
     "text": [
      "irf model eval\n"
     ]
    },
    {
     "name": "stderr",
     "output_type": "stream",
     "text": [
      "Position <SkyCoord (ICRS): (ra, dec) in deg\n",
      "    (27.06678791, -52.02364914)> is outside valid IRF map range, using nearest IRF defined within\n"
     ]
    },
    {
     "name": "stdout",
     "output_type": "stream",
     "text": [
      "irf model eval\n"
     ]
    },
    {
     "name": "stderr",
     "output_type": "stream",
     "text": [
      "Position <SkyCoord (ICRS): (ra, dec) in deg\n",
      "    (72.77216681, 7.31123954)> is outside valid IRF map range, using nearest IRF defined within\n"
     ]
    },
    {
     "name": "stdout",
     "output_type": "stream",
     "text": [
      "irf model eval\n",
      "irf model eval\n",
      "update evaluator\n",
      "irf model eval\n",
      "irf model eval\n",
      "irf model eval\n",
      "irf model eval\n",
      "irf model eval\n",
      "irf model eval\n",
      "irf model eval\n",
      "irf model eval\n",
      "irf model eval\n",
      "irf model eval\n",
      "irf model eval\n"
     ]
    },
    {
     "name": "stderr",
     "output_type": "stream",
     "text": [
      "Position <SkyCoord (ICRS): (ra, dec) in deg\n",
      "    (263.12589826, 89.99255096)> is outside valid IRF map range, using nearest IRF defined within\n"
     ]
    },
    {
     "name": "stdout",
     "output_type": "stream",
     "text": [
      "update evaluator\n"
     ]
    },
    {
     "name": "stderr",
     "output_type": "stream",
     "text": [
      "Position <SkyCoord (ICRS): (ra, dec) in deg\n",
      "    (263.12589826, 89.99255096)> is outside valid IRF map range, using nearest IRF defined within\n"
     ]
    },
    {
     "name": "stdout",
     "output_type": "stream",
     "text": [
      "irf model eval\n"
     ]
    },
    {
     "name": "stderr",
     "output_type": "stream",
     "text": [
      "Position <SkyCoord (ICRS): (ra, dec) in deg\n",
      "    (74.60479175, 27.78853141)> is outside valid IRF map range, using nearest IRF defined within\n"
     ]
    },
    {
     "name": "stdout",
     "output_type": "stream",
     "text": [
      "irf model eval\n",
      "irf model eval\n",
      "update evaluator\n",
      "irf model eval\n",
      "irf model eval\n",
      "irf model eval\n",
      "irf model eval\n",
      "irf model eval\n",
      "irf model eval\n",
      "irf model eval\n",
      "irf model eval\n",
      "irf model eval\n",
      "irf model eval\n",
      "irf model eval\n",
      "irf model eval\n",
      "irf model eval\n",
      "irf model eval\n",
      "irf model eval\n",
      "irf model eval\n",
      "irf model eval\n",
      "irf model eval\n",
      "irf model eval\n",
      "irf model eval\n",
      "irf model eval\n",
      "irf model eval\n",
      "irf model eval\n",
      "irf model eval\n",
      "irf model eval\n",
      "irf model eval\n",
      "irf model eval\n",
      "irf model eval\n",
      "irf model eval\n",
      "irf model eval\n",
      "irf model eval\n",
      "irf model eval\n",
      "irf model eval\n",
      "irf model eval\n",
      "irf model eval\n",
      "irf model eval\n",
      "irf model eval\n",
      "irf model eval\n",
      "irf model eval\n",
      "irf model eval\n",
      "irf model eval\n",
      "irf model eval\n",
      "irf model eval\n",
      "irf model eval\n",
      "irf model eval\n",
      "irf model eval\n",
      "irf model eval\n",
      "irf model eval\n",
      "irf model eval\n",
      "irf model eval\n",
      "irf model eval\n",
      "irf model eval\n",
      "irf model eval\n",
      "irf model eval\n",
      "irf model eval\n",
      "irf model eval\n",
      "irf model eval\n",
      "irf model eval\n",
      "irf model eval\n",
      "irf model eval\n",
      "irf model eval\n",
      "irf model eval\n",
      "irf model eval\n",
      "irf model eval\n",
      "irf model eval\n",
      "irf model eval\n",
      "irf model eval\n",
      "irf model eval\n",
      "irf model eval\n",
      "irf model eval\n",
      "irf model eval\n",
      "irf model eval\n",
      "irf model eval\n",
      "irf model eval\n",
      "irf model eval\n",
      "irf model eval\n",
      "irf model eval\n",
      "irf model eval\n",
      "irf model eval\n",
      "irf model eval\n",
      "irf model eval\n",
      "irf model eval\n",
      "irf model eval\n",
      "irf model eval\n",
      "irf model eval\n",
      "irf model eval\n",
      "irf model eval\n",
      "irf model eval\n",
      "irf model eval\n",
      "irf model eval\n",
      "irf model eval\n",
      "irf model eval\n",
      "irf model eval\n",
      "irf model eval\n",
      "irf model eval\n",
      "irf model eval\n",
      "irf model eval\n",
      "irf model eval\n",
      "irf model eval\n",
      "irf model eval\n",
      "irf model eval\n",
      "irf model eval\n",
      "irf model eval\n",
      "irf model eval\n",
      "irf model eval\n",
      "irf model eval\n",
      "irf model eval\n",
      "irf model eval\n",
      "irf model eval\n",
      "irf model eval\n",
      "irf model eval\n",
      "irf model eval\n",
      "irf model eval\n",
      "irf model eval\n",
      "irf model eval\n",
      "irf model eval\n",
      "irf model eval\n",
      "irf model eval\n",
      "irf model eval\n",
      "irf model eval\n",
      "irf model eval\n",
      "irf model eval\n",
      "irf model eval\n",
      "irf model eval\n",
      "irf model eval\n",
      "irf model eval\n",
      "irf model eval\n",
      "irf model eval\n",
      "irf model eval\n",
      "irf model eval\n",
      "irf model eval\n",
      "irf model eval\n",
      "irf model eval\n",
      "irf model eval\n",
      "irf model eval\n",
      "irf model eval\n",
      "irf model eval\n",
      "irf model eval\n",
      "irf model eval\n",
      "irf model eval\n",
      "irf model eval\n",
      "irf model eval\n",
      "irf model eval\n",
      "irf model eval\n",
      "irf model eval\n",
      "irf model eval\n",
      "irf model eval\n",
      "irf model eval\n",
      "irf model eval\n",
      "irf model eval\n",
      "irf model eval\n",
      "irf model eval\n",
      "irf model eval\n",
      "irf model eval\n",
      "irf model eval\n",
      "irf model eval\n",
      "irf model eval\n",
      "irf model eval\n",
      "irf model eval\n",
      "irf model eval\n",
      "CPU times: user 9min 55s, sys: 15min 31s, total: 25min 26s\n",
      "Wall time: 6min 17s\n"
     ]
    }
   ],
   "source": [
    "%%time\n",
    "fit_N = Fit(store_trace=False)\n",
    "fit_N.optimize_opts = minuit_opts\n",
    "result_N = fit_N.run(dataset_N)\n"
   ]
  },
  {
   "cell_type": "markdown",
   "id": "4f46f3cd",
   "metadata": {},
   "source": [
    "## Correlation"
   ]
  },
  {
   "cell_type": "code",
   "execution_count": 9,
   "id": "9054c16a",
   "metadata": {},
   "outputs": [],
   "source": [
    "from gammapy.modeling.fit import Registry\n",
    "registry= Registry()\n",
    "\n",
    "def covariance_ (fit_compute, datasets_compute, parameters_plot = None):\n",
    "    parameters= Parameters.from_stack([datasets_compute.models.parameters])\n",
    "    parameters = parameters.free_parameters\n",
    "\n",
    "    kwargs = fit_compute.covariance_opts.copy()\n",
    "    kwargs[\"minuit\"] = fit_compute.minuit\n",
    "    backend = kwargs.pop(\"backend\", fit_compute.backend)\n",
    "    compute = registry.get(\"covariance\", backend)\n",
    "\n",
    "    with parameters.restore_status():\n",
    "        if fit_compute.backend == \"minuit\":\n",
    "            method = \"hesse\"\n",
    "        else:\n",
    "            method = \"\"\n",
    "        factor_matrix, info = compute(\n",
    "            parameters=parameters, function=datasets_compute.stat_sum, **kwargs\n",
    "        )\n",
    "        covariance = Covariance.from_factor_matrix(\n",
    "            parameters=parameters, matrix=factor_matrix\n",
    "        )\n",
    "        if parameters_plot is not None:\n",
    "            covariance = covariance.get_subcovariance(parameters_plot)\n",
    "    return covariance"
   ]
  },
  {
   "cell_type": "code",
   "execution_count": 10,
   "id": "b30c45fc",
   "metadata": {},
   "outputs": [
    {
     "data": {
      "image/png": "[encoded data removed]",
      "text/plain": [
       "<Figure size 480x390 with 2 Axes>"
      ]
     },
     "metadata": {},
     "output_type": "display_data"
    }
   ],
   "source": [
    "covariance  = covariance_(fit, dataset)\n",
    "covariance.plot_correlation()\n",
    "\n",
    "\n",
    "fig = plt.gcf()\n",
    "fig.savefig(\"plots/3_corr_matrix_standard.png\")"
   ]
  },
  {
   "cell_type": "code",
   "execution_count": 11,
   "id": "30b3c4e3-0492-4dbc-b98c-63cc07ac7fa8",
   "metadata": {},
   "outputs": [
    {
     "data": {
      "image/png": "[encoded data removed]",
      "text/plain": [
       "<Figure size 640x520 with 2 Axes>"
      ]
     },
     "metadata": {},
     "output_type": "display_data"
    }
   ],
   "source": [
    "par_names = ['index', 'amplitude', 'lon_0', 'lat_0', 'norm', 'tilt', 'norm_nuisance', 'tilt_nuisance']\n",
    "parameters = Parameters([dataset_N.models.parameters[name] for name in par_names])\n",
    "covariance_N_cut  = covariance_(fit_N, dataset_N, parameters )\n",
    "covariance_N_cut.plot_correlation()\n",
    "\n",
    "\n",
    "fig = plt.gcf()\n",
    "plt.tight_layout()\n",
    "fig.savefig(\"plots/3_corr_matrix_nuisance.png\")"
   ]
  },
  {
   "cell_type": "code",
   "execution_count": 12,
   "id": "3f4ea13d",
   "metadata": {},
   "outputs": [
    {
     "data": {
      "text/html": [
       "<div><i>Table length=13</i>\n",
       "<table id=\"table139731897093472\" class=\"table-striped table-bordered table-condensed\">\n",
       "<thead><tr><th>type</th><th>name</th><th>value</th><th>unit</th><th>error</th><th>min</th><th>max</th><th>frozen</th><th>is_norm</th><th>is_penalised</th><th>link</th></tr></thead>\n",
       "<thead><tr><th>str12</th><th>str13</th><th>float64</th><th>str14</th><th>float64</th><th>float64</th><th>float64</th><th>bool</th><th>bool</th><th>bool</th><th>str1</th></tr></thead>\n",
       "<tr><td>spectral</td><td>index</td><td>2.8850e+00</td><td></td><td>5.962e-02</td><td>nan</td><td>nan</td><td>False</td><td>False</td><td>False</td><td></td></tr>\n",
       "<tr><td>spectral</td><td>amplitude</td><td>1.8685e-12</td><td>cm-2 s-1 TeV-1</td><td>2.073e-13</td><td>nan</td><td>nan</td><td>False</td><td>True</td><td>False</td><td></td></tr>\n",
       "<tr><td>spectral</td><td>reference</td><td>1.0000e+00</td><td>TeV</td><td>0.000e+00</td><td>nan</td><td>nan</td><td>True</td><td>False</td><td>False</td><td></td></tr>\n",
       "<tr><td>spatial</td><td>lon_0</td><td>8.3630e+01</td><td>deg</td><td>2.157e-03</td><td>nan</td><td>nan</td><td>False</td><td>False</td><td>False</td><td></td></tr>\n",
       "<tr><td>spatial</td><td>lat_0</td><td>2.2010e+01</td><td>deg</td><td>2.001e-03</td><td>-9.000e+01</td><td>9.000e+01</td><td>False</td><td>False</td><td>False</td><td></td></tr>\n",
       "<tr><td>spectral</td><td>norm</td><td>1.0000e+00</td><td></td><td>1.834e-02</td><td>nan</td><td>nan</td><td>False</td><td>True</td><td>False</td><td></td></tr>\n",
       "<tr><td>spectral</td><td>tilt</td><td>3.5170e-06</td><td></td><td>1.555e-02</td><td>nan</td><td>nan</td><td>False</td><td>False</td><td>False</td><td></td></tr>\n",
       "<tr><td>spectral</td><td>reference</td><td>1.0000e+00</td><td>TeV</td><td>0.000e+00</td><td>nan</td><td>nan</td><td>True</td><td>False</td><td>False</td><td></td></tr>\n",
       "<tr><td>e_reco_model</td><td>bias</td><td>-1.1736e-40</td><td></td><td>1.000e-24</td><td>nan</td><td>nan</td><td>False</td><td>False</td><td>True</td><td></td></tr>\n",
       "<tr><td>e_reco_model</td><td>resolution</td><td>-1.1736e-40</td><td></td><td>1.000e-24</td><td>nan</td><td>nan</td><td>False</td><td>False</td><td>True</td><td></td></tr>\n",
       "<tr><td>spectral</td><td>norm_nuisance</td><td>4.1405e-05</td><td></td><td>1.007e-01</td><td>nan</td><td>nan</td><td>False</td><td>True</td><td>True</td><td></td></tr>\n",
       "<tr><td>spectral</td><td>tilt_nuisance</td><td>-4.3158e-07</td><td></td><td>1.498e-02</td><td>nan</td><td>nan</td><td>False</td><td>False</td><td>True</td><td></td></tr>\n",
       "<tr><td>spectral</td><td>reference</td><td>1.0000e+00</td><td>TeV</td><td>0.000e+00</td><td>nan</td><td>nan</td><td>True</td><td>False</td><td>False</td><td></td></tr>\n",
       "</table></div>"
      ],
      "text/plain": [
       "<Table length=13>\n",
       "    type          name        value         unit        error      min        max    frozen is_norm is_penalised link\n",
       "   str12         str13       float64       str14       float64   float64    float64   bool    bool      bool     str1\n",
       "------------ ------------- ----------- -------------- --------- ---------- --------- ------ ------- ------------ ----\n",
       "    spectral         index  2.8850e+00                5.962e-02        nan       nan  False   False        False     \n",
       "    spectral     amplitude  1.8685e-12 cm-2 s-1 TeV-1 2.073e-13        nan       nan  False    True        False     \n",
       "    spectral     reference  1.0000e+00            TeV 0.000e+00        nan       nan   True   False        False     \n",
       "     spatial         lon_0  8.3630e+01            deg 2.157e-03        nan       nan  False   False        False     \n",
       "     spatial         lat_0  2.2010e+01            deg 2.001e-03 -9.000e+01 9.000e+01  False   False        False     \n",
       "    spectral          norm  1.0000e+00                1.834e-02        nan       nan  False    True        False     \n",
       "    spectral          tilt  3.5170e-06                1.555e-02        nan       nan  False   False        False     \n",
       "    spectral     reference  1.0000e+00            TeV 0.000e+00        nan       nan   True   False        False     \n",
       "e_reco_model          bias -1.1736e-40                1.000e-24        nan       nan  False   False         True     \n",
       "e_reco_model    resolution -1.1736e-40                1.000e-24        nan       nan  False   False         True     \n",
       "    spectral norm_nuisance  4.1405e-05                1.007e-01        nan       nan  False    True         True     \n",
       "    spectral tilt_nuisance -4.3158e-07                1.498e-02        nan       nan  False   False         True     \n",
       "    spectral     reference  1.0000e+00            TeV 0.000e+00        nan       nan   True   False        False     "
      ]
     },
     "execution_count": 12,
     "metadata": {},
     "output_type": "execute_result"
    }
   ],
   "source": [
    "(dataset_N.models.parameters.to_table())"
   ]
  },
  {
   "cell_type": "code",
   "execution_count": 13,
   "id": "9f145c87",
   "metadata": {},
   "outputs": [
    {
     "data": {
      "text/html": [
       "<div><i>Table length=8</i>\n",
       "<table id=\"table139738863651280\" class=\"table-striped table-bordered table-condensed\">\n",
       "<thead><tr><th>type</th><th>name</th><th>value</th><th>unit</th><th>error</th><th>min</th><th>max</th><th>frozen</th><th>is_norm</th><th>is_penalised</th><th>link</th></tr></thead>\n",
       "<thead><tr><th>str8</th><th>str9</th><th>float64</th><th>str14</th><th>float64</th><th>float64</th><th>float64</th><th>bool</th><th>bool</th><th>bool</th><th>str1</th></tr></thead>\n",
       "<tr><td>spectral</td><td>index</td><td>2.8850e+00</td><td></td><td>5.778e-02</td><td>nan</td><td>nan</td><td>False</td><td>False</td><td>False</td><td></td></tr>\n",
       "<tr><td>spectral</td><td>amplitude</td><td>1.8686e-12</td><td>cm-2 s-1 TeV-1</td><td>8.629e-14</td><td>nan</td><td>nan</td><td>False</td><td>True</td><td>False</td><td></td></tr>\n",
       "<tr><td>spectral</td><td>reference</td><td>1.0000e+00</td><td>TeV</td><td>0.000e+00</td><td>nan</td><td>nan</td><td>True</td><td>False</td><td>False</td><td></td></tr>\n",
       "<tr><td>spatial</td><td>lon_0</td><td>8.3630e+01</td><td>deg</td><td>2.157e-03</td><td>nan</td><td>nan</td><td>False</td><td>False</td><td>False</td><td></td></tr>\n",
       "<tr><td>spatial</td><td>lat_0</td><td>2.2010e+01</td><td>deg</td><td>2.001e-03</td><td>-9.000e+01</td><td>9.000e+01</td><td>False</td><td>False</td><td>False</td><td></td></tr>\n",
       "<tr><td>spectral</td><td>norm</td><td>1.0000e+00</td><td></td><td>1.833e-02</td><td>nan</td><td>nan</td><td>False</td><td>True</td><td>False</td><td></td></tr>\n",
       "<tr><td>spectral</td><td>tilt</td><td>5.3753e-07</td><td></td><td>1.555e-02</td><td>nan</td><td>nan</td><td>False</td><td>False</td><td>False</td><td></td></tr>\n",
       "<tr><td>spectral</td><td>reference</td><td>1.0000e+00</td><td>TeV</td><td>0.000e+00</td><td>nan</td><td>nan</td><td>True</td><td>False</td><td>False</td><td></td></tr>\n",
       "</table></div>"
      ],
      "text/plain": [
       "<Table length=8>\n",
       "  type      name     value         unit        error      min        max    frozen is_norm is_penalised link\n",
       "  str8      str9    float64       str14       float64   float64    float64   bool    bool      bool     str1\n",
       "-------- --------- ---------- -------------- --------- ---------- --------- ------ ------- ------------ ----\n",
       "spectral     index 2.8850e+00                5.778e-02        nan       nan  False   False        False     \n",
       "spectral amplitude 1.8686e-12 cm-2 s-1 TeV-1 8.629e-14        nan       nan  False    True        False     \n",
       "spectral reference 1.0000e+00            TeV 0.000e+00        nan       nan   True   False        False     \n",
       " spatial     lon_0 8.3630e+01            deg 2.157e-03        nan       nan  False   False        False     \n",
       " spatial     lat_0 2.2010e+01            deg 2.001e-03 -9.000e+01 9.000e+01  False   False        False     \n",
       "spectral      norm 1.0000e+00                1.833e-02        nan       nan  False    True        False     \n",
       "spectral      tilt 5.3753e-07                1.555e-02        nan       nan  False   False        False     \n",
       "spectral reference 1.0000e+00            TeV 0.000e+00        nan       nan   True   False        False     "
      ]
     },
     "execution_count": 13,
     "metadata": {},
     "output_type": "execute_result"
    }
   ],
   "source": [
    "(dataset.models.parameters.to_table())"
   ]
  },
  {
   "cell_type": "code",
   "execution_count": null,
   "id": "274409ee",
   "metadata": {},
   "outputs": [],
   "source": []
  },
  {
   "cell_type": "code",
   "execution_count": null,
   "id": "c25ada8a",
   "metadata": {},
   "outputs": [],
   "source": []
  }
 ],
 "metadata": {
  "kernelspec": {
   "display_name": "Python 3 (ipykernel)",
   "language": "python",
   "name": "python3"
  },
  "language_info": {
   "codemirror_mode": {
    "name": "ipython",
    "version": 3
   },
   "file_extension": ".py",
   "mimetype": "text/x-python",
   "name": "python",
   "nbconvert_exporter": "python",
   "pygments_lexer": "ipython3",
   "version": "3.8.16"
  },
  "varInspector": {
   "cols": {
    "lenName": 16,
    "lenType": 16,
    "lenVar": 40
   },
   "kernels_config": {
    "python": {
     "delete_cmd_postfix": "",
     "delete_cmd_prefix": "del ",
     "library": "var_list.py",
     "varRefreshCmd": "print(var_dic_list())"
    },
    "r": {
     "delete_cmd_postfix": ") ",
     "delete_cmd_prefix": "rm(",
     "library": "var_list.r",
     "varRefreshCmd": "cat(var_dic_list()) "
    }
   },
   "types_to_exclude": [
    "module",
    "function",
    "builtin_function_or_method",
    "instance",
    "_Feature"
   ],
   "window_display": false
  }
 },
 "nbformat": 4,
 "nbformat_minor": 5
}
