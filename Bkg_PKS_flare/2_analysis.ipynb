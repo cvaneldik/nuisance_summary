{
 "cells": [
  {
   "cell_type": "markdown",
   "id": "5cf0459a-75d4-4f5a-aad0-dc73a5e89d69",
   "metadata": {},
   "source": [
    "### 2 in the title means it is based on the simulated dataset"
   ]
  },
  {
   "cell_type": "markdown",
   "id": "8114f3a7",
   "metadata": {},
   "source": [
    "#### Setup "
   ]
  },
  {
   "cell_type": "code",
   "execution_count": 1,
   "id": "5bc476ec-b331-486e-85db-fe1c8324c5f8",
   "metadata": {},
   "outputs": [],
   "source": [
    "#get_ipython().system('jupyter nbconvert --to script 1-Nui_Par_Fitting.ipynb')\n",
    "import pyximport\n",
    "\n",
    "pyximport.install()\n",
    "import matplotlib.pyplot as plt\n",
    "import numpy as np\n",
    "import astropy.units as u\n",
    "from gammapy.maps import Map\n",
    "from astropy.coordinates import SkyCoord, Angle\n",
    "from gammapy.modeling import Fit,  Parameters, Covariance , Parameter\n",
    "from gammapy.datasets import MapDataset ,Datasets, FluxPointsDataset\n",
    "from gammapy.modeling.models import (\n",
    "    PowerLawSpectralModel,\n",
    "    SkyModel,\n",
    "    PointSpatialModel,\n",
    "    PowerLawNormSpectralModel,\n",
    "    Models,\n",
    "    SpatialModel,\n",
    "    FoVBackgroundModel,\n",
    "    PiecewiseNormSpectralModel,\n",
    ")\n",
    "from gammapy.estimators import TSMapEstimator, ExcessMapEstimator\n",
    "from gammapy.estimators import FluxPoints, FluxPointsEstimator\n",
    "\n",
    "from regions import CircleSkyRegion, RectangleSkyRegion\n",
    "import yaml\n",
    "import sys\n",
    "sys.path.append('../')\n",
    "import Dataset_load \n",
    "\n",
    "from  Dataset_Setup import Setup, GaussianCovariance_matrix"
   ]
  },
  {
   "cell_type": "code",
   "execution_count": 3,
   "id": "6f19445f-bef2-4542-b2f2-7f44107a0f00",
   "metadata": {},
   "outputs": [],
   "source": [
    "from matplotlib import rc\n",
    "import matplotlib.pylab as plt\n",
    "\n",
    "rc('font', **{'family': 'serif', 'serif': ['Computer Modern']})\n",
    "rc('text', usetex=True)\n",
    "\n",
    "config = Dataset_load.load_config()\n",
    "import ast\n",
    "\n",
    "\n",
    "#import seaborn as sns\n",
    "\n",
    "\n",
    "alpha_nui = 0.99\n",
    "alpha_st = 0.99\n",
    "legendsscatter = [\"Asimov w/o nui.\", \"Asimov with nui.\"]\n",
    "legends = [\"\", \"\"]\n",
    "\n",
    "alpha_rnd = 0.2\n",
    "alpha_rnd_nui = 0.2\n",
    "\n",
    "nbins = 20"
   ]
  },
  {
   "cell_type": "code",
   "execution_count": 4,
   "id": "6400f93a",
   "metadata": {},
   "outputs": [],
   "source": [
    "def plot_par(par1, par2, label,ax = None, fmt ='x', markersize = 6, color = 'red'):\n",
    "    if ax is None:\n",
    "        fig, ax = plt.subplots(1,1)\n",
    "    ax.errorbar(x = par1.value, y = par2.value, xerr = par1.error, yerr = par2.error, fmt= fmt,\n",
    "                markersize = markersize,\n",
    "                label = label, color = color)\n",
    "    ax.set_xlabel(f\"{par1.name} [{par1.unit}] \" )\n",
    "    ax.set_ylabel(f\"{par2.name} [{par2.unit}] \" )\n",
    "    ax.legend()\n",
    "    \n",
    "    return ax\n",
    "\n",
    "def plot_source_par(model_name, pars):\n",
    "    if len(pars)>2:\n",
    "        fig, ax = plt.subplots(2,2, figsize = (6,6))\n",
    "        ax = ax.flatten()\n",
    "    else:\n",
    "        fig, ax = plt.subplots(1,2, figsize = (6,3))\n",
    "   \n",
    "    for i, p in enumerate(pars):\n",
    "    \n",
    "        for j, m in enumerate (models_list):\n",
    "            try:\n",
    "                plot_par(m.parameters[p[0]],\n",
    "                 m.parameters[p[1]],\n",
    "                    label= labels[j],\n",
    "                    ax = ax[i],\n",
    "                    fmt = fmts[j],\n",
    "                    markersize = markersize[j], \n",
    "                        color = colors [j])\n",
    "            except:\n",
    "                pass\n",
    "\n",
    "    plt.tight_layout()\n",
    "    return fig\n",
    "\n",
    "markersize = [6,10, 10]\n",
    "\n",
    "\n",
    "def plot_asimov_spectrum(fig, ax):\n",
    "    model = dataset_asimov_N.models[0].spectral_model\n",
    "    model.plot(\n",
    "        energy_bounds=[0.3, 100] * u.TeV,\n",
    "        energy_power=2,\n",
    "        ax=ax,\n",
    "        color=colors[1],\n",
    "        label=\"Asimov Fit with nui.\",\n",
    "        linestyle=\"solid\",\n",
    "    )\n",
    "\n",
    "    model.plot_error(\n",
    "        energy_bounds=[0.3, 100] * u.TeV,\n",
    "        energy_power=2,\n",
    "        ax=ax,\n",
    "        facecolor=colors[3],\n",
    "        label=\"\",\n",
    "        alpha=1,\n",
    "    )\n",
    "\n",
    "    model = dataset_asimov.models[0].spectral_model\n",
    "    model.plot(\n",
    "        energy_bounds=[0.3, 100] * u.TeV,\n",
    "        energy_power=2,\n",
    "        ax=ax,\n",
    "        color=colors[0],\n",
    "        linestyle=\"dashed\",\n",
    "        label=\"Asimov Fit w/0 nui.\",\n",
    "    )\n",
    "    model.plot_error(\n",
    "        energy_bounds=[0.3, 100] * u.TeV,\n",
    "        energy_power=2,\n",
    "        ax=ax,\n",
    "        facecolor=colors[2],\n",
    "        label=\"\",\n",
    "        alpha=1,\n",
    "    )\n",
    "\n",
    "    model = dataset_asimov.models[0]\n",
    "    dataset_input.models[0].spectral_model.plot(\n",
    "        energy_bounds=[0.3, 100] * u.TeV,\n",
    "        energy_power=2,\n",
    "        ax=ax,\n",
    "        color=\"black\",\n",
    "        label=\"Input\",\n",
    "        linestyle=\"dotted\",\n",
    "    )\n",
    "\n",
    "    ax.legend(loc=\"lower left\")\n",
    "    ax.set_xlim(0.3, 100)\n",
    "    ax.set_ylim(1e-14, 2e-12)"
   ]
  },
  {
   "cell_type": "markdown",
   "id": "69f8b7f7",
   "metadata": {},
   "source": [
    "## Dataset"
   ]
  },
  {
   "cell_type": "code",
   "execution_count": 5,
   "id": "6d76167f-353a-4f5f-95f1-2f02a6c020a9",
   "metadata": {},
   "outputs": [
    {
     "name": "stdout",
     "output_type": "stream",
     "text": [
      "loaded dataset:\n",
      "/home/wecapstor1/caph/mppi045h/nuisance_summary/PKS_flare/HESS_public/dataset-simulated-ecpl.fits.gz\n"
     ]
    }
   ],
   "source": [
    "scaled_amplitude = Parameter(\"amplitude\", value=1e-12)\n",
    "lambda_ = Parameter(\"lambda_\", value=1/60)\n",
    "\n",
    "dataset_input = Dataset_load.create_asimov(\n",
    "    model=\"ecpl\", \n",
    "    source=\"PKSflare\", \n",
    "    parameters=Parameters([scaled_amplitude, lambda_])\n",
    ")\n",
    "source_model = dataset_input.models[0].copy()\n",
    "emask = dataset_input.mask.data.sum(axis=2).sum(axis=1)>0\n",
    "energy = dataset_input.geoms['geom'].axes[0].center\n",
    "energy_mask = dataset_input.geoms['geom'].axes[0].center[emask]"
   ]
  },
  {
   "cell_type": "markdown",
   "id": "4addf7eb",
   "metadata": {},
   "source": [
    "## Systematic Settings"
   ]
  },
  {
   "cell_type": "code",
   "execution_count": 6,
   "id": "69032e9d",
   "metadata": {},
   "outputs": [],
   "source": [
    "# bkg sys\n",
    "magnitude = 10 # in percent\n",
    "corrlength = 2 # correlation length  in terms of energy bins\n",
    "seed = 38\n"
   ]
  },
  {
   "cell_type": "code",
   "execution_count": 7,
   "id": "a1c28f7c",
   "metadata": {},
   "outputs": [],
   "source": [
    "setup = Setup(dataset_input=dataset_input)"
   ]
  },
  {
   "cell_type": "code",
   "execution_count": 8,
   "id": "29da1033",
   "metadata": {},
   "outputs": [
    {
     "data": {
      "text/html": [
       "<pre>DatasetModels\n",
       "\n",
       "Component 0: SkyModel\n",
       "\n",
       "  Name                      : PEv8WigK\n",
       "  Datasets names            : None\n",
       "  Spectral model type       : ExpCutoffPowerLawSpectralModel\n",
       "  Spatial  model type       : PointSpatialModel\n",
       "  Temporal model type       : \n",
       "  Parameters:\n",
       "    index                         :      2.300   +/-    0.00             \n",
       "    amplitude             (frozen):   1.00e-12       1 / (cm2 s TeV)\n",
       "    reference             (frozen):      1.000       TeV         \n",
       "    lambda_                       :      0.017   +/-    0.00 1 / TeV     \n",
       "    alpha                 (frozen):      1.000                   \n",
       "    lon_0                         :    329.680   +/-    0.00 deg         \n",
       "    lat_0                         :    -30.222   +/-    0.00 deg         \n",
       "\n",
       "</pre>"
      ],
      "text/plain": [
       "<gammapy.modeling.models.core.DatasetModels at 0x7f432e90bc70>"
      ]
     },
     "execution_count": 8,
     "metadata": {},
     "output_type": "execute_result"
    }
   ],
   "source": [
    "setup.dataset_helper.models"
   ]
  },
  {
   "cell_type": "code",
   "execution_count": 9,
   "id": "e6025dd8",
   "metadata": {},
   "outputs": [],
   "source": [
    "setup.set_up_bkg_sys(magnitude=magnitude,\n",
    "                    corrlength=corrlength,\n",
    "                    seed = seed)\n",
    "dataset_asimov, dataset_asimov_N = setup.run()\n",
    "setup.set_bkg_prior(dataset_asimov_N,  magnitude, corrlength)"
   ]
  },
  {
   "cell_type": "code",
   "execution_count": 11,
   "id": "d2e05141",
   "metadata": {},
   "outputs": [
    {
     "data": {
      "image/png": "[encoded data removed]",
      "text/plain": [
       "<Figure size 500x300 with 2 Axes>"
      ]
     },
     "metadata": {},
     "output_type": "display_data"
    }
   ],
   "source": [
    "covmatrix = GaussianCovariance_matrix(magnitude=magnitude,\n",
    "                    corrlength=corrlength,\n",
    "                             size = len(setup.emask()))\n",
    "\n",
    "fig, (ax1) = plt.subplots(figsize=(5, 3), ncols=1)\n",
    "pos =plt.imshow(covmatrix.cov(), vmin = 0, vmax = 0.1,\n",
    "               cmap = \"Purples\")\n",
    "fig.colorbar(pos, ax=ax1)\n",
    "ticks = [0,5,10,15,20]\n",
    "energy_ticks = dataset_input.geoms['geom'].axes[0].center[ticks].value\n",
    "energy_ticks = np.round(energy_ticks,1)\n",
    "ax1.set_xticks(ticks)\n",
    "ax1.set_xticklabels(energy_ticks)\n",
    "ax1.set_yticks(ticks)\n",
    "ax1.set_yticklabels(energy_ticks)\n",
    "ax1.set_ylabel(\"Energy [TeV]\")\n",
    "ax1.set_xlabel(\"Energy [TeV]\")\n",
    "cbar = plt.gca().images[-1].colorbar\n",
    "cbar.set_label('Correlation', rotation=90)\n",
    "\n",
    "fig.savefig(\"plots/2_cov_matrix.pdf\", bbox_inches=\"tight\")\n",
    "fig.savefig(\"plots/2_cov_matrix.png\", bbox_inches=\"tight\")\n",
    "\n"
   ]
  },
  {
   "cell_type": "code",
   "execution_count": 12,
   "id": "97723b44",
   "metadata": {},
   "outputs": [
    {
     "data": {
      "text/plain": [
       "Text(0, 0.5, 'Systematic [\\\\%]')"
      ]
     },
     "execution_count": 12,
     "metadata": {},
     "output_type": "execute_result"
    },
    {
     "data": {
      "image/png": "[encoded data removed]",
      "text/plain": [
       "<Figure size 640x480 with 1 Axes>"
      ]
     },
     "metadata": {},
     "output_type": "display_data"
    }
   ],
   "source": [
    "values = covmatrix.draw(seed = seed)\n",
    "plt.scatter(range(24), values, label = \"all drawn values\")\n",
    "plt.scatter(np.arange(24)[emask], values[emask], label = \"all drawn values larger Ethresh\")\n",
    "plt.legend()\n",
    "plt.xlabel(\"Energy [TeV]\")\n",
    "plt.ylabel(\"Systematic [\\%]\")"
   ]
  },
  {
   "cell_type": "code",
   "execution_count": 13,
   "id": "12df8f45",
   "metadata": {},
   "outputs": [
    {
     "data": {
      "text/plain": [
       "(<WCSAxes: >,\n",
       " <Axes: xlabel='Energy [$\\\\mathrm{TeV}$]', ylabel='Residuals (data - model)'>)"
      ]
     },
     "execution_count": 13,
     "metadata": {},
     "output_type": "execute_result"
    },
    {
     "data": {
      "image/png": "[encoded data removed]",
      "text/plain": [
       "<Figure size 1200x400 with 3 Axes>"
      ]
     },
     "metadata": {},
     "output_type": "display_data"
    }
   ],
   "source": [
    "dataset_asimov.plot_residuals()"
   ]
  },
  {
   "cell_type": "code",
   "execution_count": 14,
   "id": "9a90b97d-fa1c-42de-ac72-bb17db615fe6",
   "metadata": {},
   "outputs": [
    {
     "data": {
      "image/png": "[encoded data removed]",
      "text/plain": [
       "<Figure size 500x300 with 2 Axes>"
      ]
     },
     "metadata": {},
     "output_type": "display_data"
    }
   ],
   "source": [
    "fig, (ax1) = plt.subplots(figsize=(5, 3), ncols=1)\n",
    "pos =plt.imshow(dataset_asimov_N.models.parameters.prior[-1].covariance_matrix, vmin = 0, vmax = 0.1,\n",
    "               cmap = \"Purples\")\n",
    "fig.colorbar(pos, ax=ax1)\n",
    "ticks = [0,5,10,15,20]\n",
    "energy_ticks = dataset_input.geoms['geom'].axes[0].center[ticks].value\n",
    "energy_ticks = np.round(energy_ticks,1)\n",
    "ax1.set_xticks(ticks)\n",
    "ax1.set_xticklabels(energy_ticks)\n",
    "ax1.set_yticks(ticks)\n",
    "ax1.set_yticklabels(energy_ticks)\n",
    "ax1.set_ylabel(\"Energy [TeV]\")\n",
    "ax1.set_xlabel(\"Energy [TeV]\")\n",
    "cbar = plt.gca().images[-1].colorbar\n",
    "cbar.set_label('Inv. Correlation', rotation=90)\n",
    "\n",
    "fig.savefig(\"plots/2_inv_cov_matrix.pdf\", bbox_inches=\"tight\")\n",
    "fig.savefig(\"plots/2_inv_cov_matrix.png\", bbox_inches=\"tight\")\n",
    "\n"
   ]
  },
  {
   "cell_type": "markdown",
   "id": "5d7f945f",
   "metadata": {},
   "source": [
    "## Fit"
   ]
  },
  {
   "cell_type": "code",
   "execution_count": 15,
   "id": "e075e6dd-460b-4dd5-9ea7-9145732f07da",
   "metadata": {},
   "outputs": [
    {
     "name": "stdout",
     "output_type": "stream",
     "text": [
      "CPU times: user 13.7 s, sys: 3.43 s, total: 17.2 s\n",
      "Wall time: 17.2 s\n"
     ]
    },
    {
     "data": {
      "text/html": [
       "<pre>OptimizeResult\n",
       "\n",
       "\tbackend    : minuit\n",
       "\tmethod     : migrad\n",
       "\tsuccess    : True\n",
       "\tmessage    : Optimization terminated successfully.\n",
       "\tnfev       : 153\n",
       "\ttotal stat : 846333.16\n",
       "\n",
       "CovarianceResult\n",
       "\n",
       "\tbackend    : minuit\n",
       "\tmethod     : hesse\n",
       "\tsuccess    : True\n",
       "\tmessage    : Hesse terminated successfully.\n",
       "</pre>"
      ],
      "text/plain": [
       "<gammapy.modeling.fit.FitResult at 0x7f4174a83070>"
      ]
     },
     "execution_count": 15,
     "metadata": {},
     "output_type": "execute_result"
    }
   ],
   "source": [
    "%%time\n",
    "fit = Fit()\n",
    "fit.run(dataset_asimov)"
   ]
  },
  {
   "cell_type": "code",
   "execution_count": 16,
   "id": "0bea8884",
   "metadata": {},
   "outputs": [
    {
     "name": "stdout",
     "output_type": "stream",
     "text": [
      "CPU times: user 1min 54s, sys: 45.3 s, total: 2min 39s\n",
      "Wall time: 2min 39s\n"
     ]
    },
    {
     "data": {
      "text/html": [
       "<pre>OptimizeResult\n",
       "\n",
       "\tbackend    : minuit\n",
       "\tmethod     : migrad\n",
       "\tsuccess    : True\n",
       "\tmessage    : Optimization terminated successfully.\n",
       "\tnfev       : 2295\n",
       "\ttotal stat : 846178.19\n",
       "\n",
       "CovarianceResult\n",
       "\n",
       "\tbackend    : minuit\n",
       "\tmethod     : hesse\n",
       "\tsuccess    : True\n",
       "\tmessage    : Hesse terminated successfully.\n",
       "</pre>"
      ],
      "text/plain": [
       "<gammapy.modeling.fit.FitResult at 0x7f417492ea30>"
      ]
     },
     "execution_count": 16,
     "metadata": {},
     "output_type": "execute_result"
    }
   ],
   "source": [
    "%%time\n",
    "fit_sys = Fit()\n",
    "fit_sys.run(dataset_asimov_N)"
   ]
  },
  {
   "cell_type": "markdown",
   "id": "97d0388c",
   "metadata": {},
   "source": [
    "#### Best-Fit Systematic"
   ]
  },
  {
   "cell_type": "code",
   "execution_count": 17,
   "id": "9242b046-444b-4193-bd32-351eee8f8adf",
   "metadata": {},
   "outputs": [
    {
     "ename": "NameError",
     "evalue": "name 'colors' is not defined",
     "output_type": "error",
     "traceback": [
      "\u001b[0;31m---------------------------------------------------------------------------\u001b[0m",
      "\u001b[0;31mNameError\u001b[0m                                 Traceback (most recent call last)",
      "Cell \u001b[0;32mIn[17], line 4\u001b[0m\n\u001b[1;32m      1\u001b[0m fig, ax \u001b[38;5;241m=\u001b[39m plt\u001b[38;5;241m.\u001b[39msubplots(figsize \u001b[38;5;241m=\u001b[39m (\u001b[38;5;241m5\u001b[39m,\u001b[38;5;241m3\u001b[39m))\n\u001b[1;32m      3\u001b[0m values_fitted \u001b[38;5;241m=\u001b[39m dataset_asimov_N\u001b[38;5;241m.\u001b[39mmodels[\u001b[38;5;241m1\u001b[39m]\u001b[38;5;241m.\u001b[39mspectral_model(energy)\n\u001b[0;32m----> 4\u001b[0m plt\u001b[38;5;241m.\u001b[39mplot(energy\u001b[38;5;241m.\u001b[39mvalue[emask], \u001b[38;5;241m100\u001b[39m \u001b[38;5;241m*\u001b[39m values_fitted[emask]\u001b[38;5;241m-\u001b[39m\u001b[38;5;241m100\u001b[39m, color \u001b[38;5;241m=\u001b[39m \u001b[43mcolors\u001b[49m[\u001b[38;5;241m1\u001b[39m],\n\u001b[1;32m      5\u001b[0m         label \u001b[38;5;241m=\u001b[39m \u001b[38;5;124m\"\u001b[39m\u001b[38;5;124mBest-fit nuisance pars.\u001b[39m\u001b[38;5;124m\"\u001b[39m)\n\u001b[1;32m      7\u001b[0m \u001b[38;5;66;03m#plt.fill_between(energy.value[emask], sys_percentage[emask],-sys_percentage[emask],\u001b[39;00m\n\u001b[1;32m      8\u001b[0m \u001b[38;5;66;03m#                alpha = 0.1, color = 'tab:green')\u001b[39;00m\n\u001b[1;32m      9\u001b[0m plt\u001b[38;5;241m.\u001b[39mscatter(energy\u001b[38;5;241m.\u001b[39mvalue[emask], \u001b[38;5;241m100\u001b[39m\u001b[38;5;241m*\u001b[39mvalues[emask], color \u001b[38;5;241m=\u001b[39m \u001b[38;5;124m'\u001b[39m\u001b[38;5;124mpurple\u001b[39m\u001b[38;5;124m'\u001b[39m,\n\u001b[1;32m     10\u001b[0m             marker \u001b[38;5;241m=\u001b[39m \u001b[38;5;124m\"\u001b[39m\u001b[38;5;124m+\u001b[39m\u001b[38;5;124m\"\u001b[39m, s \u001b[38;5;241m=\u001b[39m \u001b[38;5;241m80\u001b[39m,\n\u001b[1;32m     11\u001b[0m            label \u001b[38;5;241m=\u001b[39m \u001b[38;5;124m\"\u001b[39m\u001b[38;5;124mInput\u001b[39m\u001b[38;5;124m\"\u001b[39m)\n",
      "\u001b[0;31mNameError\u001b[0m: name 'colors' is not defined"
     ]
    },
    {
     "data": {
      "image/png": "[encoded data removed]",
      "text/plain": [
       "<Figure size 500x300 with 1 Axes>"
      ]
     },
     "metadata": {},
     "output_type": "display_data"
    }
   ],
   "source": [
    "fig, ax = plt.subplots(figsize = (5,3))\n",
    "\n",
    "values_fitted = dataset_asimov_N.models[1].spectral_model(energy)\n",
    "plt.plot(energy.value[emask], 100 * values_fitted[emask]-100, color = colors[1],\n",
    "        label = \"Best-fit nuisance pars.\")\n",
    "\n",
    "#plt.fill_between(energy.value[emask], sys_percentage[emask],-sys_percentage[emask],\n",
    "#                alpha = 0.1, color = 'tab:green')\n",
    "plt.scatter(energy.value[emask], 100*values[emask], color = 'purple',\n",
    "            marker = \"+\", s = 80,\n",
    "           label = \"Input\")\n",
    "plt.xscale('log')\n",
    "plt.hlines(0, 0.4,100, color= 'grey')\n",
    "plt.yscale(\"linear\")\n",
    "plt.ylim(-12,12)\n",
    "plt.xlabel(\"Energy [TeV]\")\n",
    "plt.ylabel(\"Systematic [\\%]\")\n",
    "plt.legend()\n",
    "fig.savefig('plots/2_nui_sys_input.png', bbox_inches=\"tight\")"
   ]
  },
  {
   "cell_type": "code",
   "execution_count": null,
   "id": "71a2c97e",
   "metadata": {},
   "outputs": [],
   "source": [
    "#### Spectral Residual Points"
   ]
  },
  {
   "cell_type": "code",
   "execution_count": null,
   "id": "d62720e7-d335-4b59-bbfa-e8b62d8feebb",
   "metadata": {},
   "outputs": [],
   "source": [
    "fig, ax = plt.subplots(figsize = (5,3))\n",
    "ax = dataset_asimov.plot_residuals_spectral(method =  'diff/sqrt(model)',\n",
    "                                            color = colors[0], \n",
    "                                    label = \"Without nuisance par.\")\n",
    "dataset_asimov_N.plot_residuals_spectral(method =  'diff/sqrt(model)',\n",
    "                                         color =colors[1],\n",
    "                                             label = \"With nuisance par.\",\n",
    "                                        )\n",
    "\n",
    "#plt.fill_between(energy.value, sys_percentage[emask],-sys_percentage[emask],alpha = 0.3)\n",
    "ax.legend()\n",
    "ax.set_xlim(0.4,100)\n",
    "ax.set_ylim(-10,10)\n",
    "\n",
    "plt.tight_layout()\n",
    "\n",
    "lim = ax.get_ylim()\n",
    "ax.set_ylim(-np.max(np.abs(lim)), np.max(np.abs(lim)))\n",
    "fig = plt.gcf()\n",
    "fig.savefig('plots/2_spectracl_res_points_diff.png')"
   ]
  },
  {
   "cell_type": "code",
   "execution_count": null,
   "id": "4b6d98a6-1e18-4e57-a0cf-c6e4e23c3ac9",
   "metadata": {},
   "outputs": [],
   "source": [
    "fig, ax = plt.subplots(figsize = (5,3))\n",
    "ax = dataset_asimov_N.plot_residuals_spectral(method =  'diff', color = 'tab:blue',\n",
    "                                             label = \"Asimov Fit w/o nui.\", marker = 'x',\n",
    "                                             capsize = 3)\n",
    "dataset_asimov.plot_residuals_spectral(method =  'diff', color = 'tab:red', ax = ax,\n",
    "                                    label = \"Asimov Fit w/ nui.\",marker = 'o',\n",
    "                                      capsize = 3)\n",
    "#plt.fill_between(energy.value, sys_percentage[emask],-sys_percentage[emask],alpha = 0.3)\n",
    "ax.legend()\n",
    "ax.set_xlim(0.315,100)\n",
    "plt.tight_layout()\n",
    "lim = ax.get_ylim()\n",
    "ax.set_ylim(-np.max(np.abs(lim)), np.max(np.abs(lim)))\n",
    "fig = plt.gcf()\n",
    "fig.savefig('plots/2_spectracl_res_points.png')\n",
    "fig.savefig('plots/2_spectracl_res_points.pdf')"
   ]
  },
  {
   "cell_type": "markdown",
   "id": "4dda7576",
   "metadata": {},
   "source": [
    "#### Best-Fit Parameters"
   ]
  },
  {
   "cell_type": "code",
   "execution_count": null,
   "id": "095ec0b3-0430-4679-9b8c-6f3cb2e1b714",
   "metadata": {},
   "outputs": [],
   "source": [
    "models_list = [ dataset_asimov.models, dataset_asimov_N.models , dataset_input.models]\n",
    "labels = [ 'fitted without norms','fitted with norms', 'input']\n",
    "fmts = ['o','*', '^', ]\n",
    "\n",
    "pars =  pars = [('norm', 'tilt'),('amplitude', 'index'),\n",
    "               ('lambda_', 'lambda_')]\n",
    "ax = plot_source_par(0, pars)\n"
   ]
  },
  {
   "cell_type": "code",
   "execution_count": null,
   "id": "3af380cd",
   "metadata": {},
   "outputs": [],
   "source": [
    "for p in ['amplitude', 'index', 'lambda_']:\n",
    "    print(p)\n",
    "    for i, d in enumerate([dataset_asimov, dataset_asimov_N, dataset_input]):\n",
    "        pp = d.models[0].parameters[p]\n",
    "        print(f\"{labels[i]}\")\n",
    "        if p == 'lambda_':\n",
    "            print(f\"$1/{(1/pp.value):.3} \\pm 1/{(pp.error/pp.value**2):.3}$\")   \n",
    "        if p == 'amplitude':\n",
    "            print(f\"${pp.value*1e12:.2} \\pm {pp.error*1e12:.2}$\")   \n",
    "            \n",
    "        else:\n",
    "            print(f\"${pp.value:.4} \\pm {pp.error:.4}$\")   \n",
    "        \n",
    "    print()"
   ]
  },
  {
   "cell_type": "markdown",
   "id": "29039217-2aba-4643-a90d-dded830c2a2b",
   "metadata": {},
   "source": [
    "## Fluxpoints"
   ]
  },
  {
   "cell_type": "code",
   "execution_count": null,
   "id": "c69fbd3f-2898-4e0e-8e88-945411408f9f",
   "metadata": {},
   "outputs": [],
   "source": [
    "comput_fp = 0\n",
    "if comput_fp :\n",
    "    energy_edges = dataset_asimov.geoms[\"geom\"].axes[0].edges[::2]\n",
    "    esti = FluxPointsEstimator(energy_edges=energy_edges)\n",
    "    fluxpoints = esti.run([dataset_asimov])\n",
    "    fluxpoints.write(\n",
    "        \"data/fluxpoints/2_fluxpoints_asimov.fits\", overwrite = True\n",
    "    )\n",
    "    Models([dataset_asimov.models[0]]).write(\n",
    "        \"data/fluxpoints/2_model_asimov.fits\" , overwrite = True\n",
    "    )\n",
    "    \n",
    "    fluxpoints_N = esti.run([dataset_asimov_N])\n",
    "    fluxpoints_N.write(\n",
    "        f\"data/fluxpoints/2_fluxpoints_asimov_N.fits\", overwrite= True,\n",
    "    )\n",
    "    Models([dataset_asimov_N.models[0]]).write(\n",
    "        f\"data/fluxpoints/2_model_asimov_N.fits\", overwrite= True,\n",
    "    )\n",
    "    \n",
    "    fp_asimov = FluxPointsDataset(data = fluxpoints, models = Models([dataset_asimov.models[0]]))\n",
    "    fp_asimov_N = FluxPointsDataset(data = fluxpoints_N, models = Models([dataset_asimov_N.models[0]]))\n",
    "    \n",
    "else:\n",
    "    fp_asimov = FluxPointsDataset(data = FluxPoints.read(\"data/fluxpoints/2_fluxpoints_asimov.fits\"),\n",
    "                                 models = Models.read(\"data/fluxpoints/2_model_asimov.fits\"))\n",
    "    fp_asimov_N = FluxPointsDataset(data = FluxPoints.read(\"data/fluxpoints/2_fluxpoints_asimov_N.fits\"),\n",
    "                                 models = Models.read(\"data/fluxpoints/2_model_asimov_N.fits\"))"
   ]
  },
  {
   "cell_type": "code",
   "execution_count": null,
   "id": "39e60eef-f667-49c5-933f-bf13fd33cfb8",
   "metadata": {},
   "outputs": [],
   "source": [
    "fp_asimov = FluxPointsDataset(\n",
    "    data=FluxPoints.read(\"data/fluxpoints/2_fluxpoints_asimov.fits\"),\n",
    "    models=Models.read(\"data/fluxpoints/2_model_asimov.fits\"),\n",
    ")\n",
    "fp_asimov_N = FluxPointsDataset(\n",
    "    data=FluxPoints.read(\"data/fluxpoints/2_fluxpoints_asimov_N.fits\"),\n",
    "    models=Models.read(\"data/fluxpoints/2_model_asimov_N.fits\"),\n",
    ")\n",
    "\n",
    "\n",
    "energy_power = 2\n",
    "fig, axs = plt.subplots(2, 1, figsize=(4, 4), sharex=True, gridspec_kw={\"height_ratios\": [3, 1]},)\n",
    "plot_asimov_spectrum(fig, axs[0])\n",
    "fp_asimov_N.data.plot(energy_power=2, color=colors[1], ax=axs[0], capsize = 5)\n",
    "fp_asimov.data.plot(energy_power=2, color=colors[0], ax=axs[0], capsize = 5)\n",
    "\n",
    "\n",
    "fp_asimov.plot_residuals(ax =axs[1], color = colors[0], capsize = 5, marker = 'x')\n",
    "fp_asimov_N.plot_residuals(ax =axs[1], color = colors[1],  capsize = 5, marker = 'o')\n",
    "\n",
    "axs[0].set_xlim(0.3, 100)\n",
    "fig.savefig(\"plots/2_fluxpoints_spectrum.pdf\", bbox_inches=\"tight\")\n",
    "fig.savefig(\"plots/2_fluxpoints_spectrum.png\", bbox_inches=\"tight\")"
   ]
  },
  {
   "cell_type": "markdown",
   "id": "99bb4b93",
   "metadata": {},
   "source": [
    "## Corelation Matrix"
   ]
  },
  {
   "cell_type": "code",
   "execution_count": null,
   "id": "62b92206",
   "metadata": {},
   "outputs": [],
   "source": [
    "dataset_asimov_N.models.covariance.plot_correlation()"
   ]
  },
  {
   "cell_type": "code",
   "execution_count": null,
   "id": "3a17b0a4",
   "metadata": {},
   "outputs": [],
   "source": []
  }
 ],
 "metadata": {
  "kernelspec": {
   "display_name": "Python 3 (ipykernel)",
   "language": "python",
   "name": "python3"
  },
  "language_info": {
   "codemirror_mode": {
    "name": "ipython",
    "version": 3
   },
   "file_extension": ".py",
   "mimetype": "text/x-python",
   "name": "python",
   "nbconvert_exporter": "python",
   "pygments_lexer": "ipython3",
   "version": "3.8.16"
  }
 },
 "nbformat": 4,
 "nbformat_minor": 5
}
