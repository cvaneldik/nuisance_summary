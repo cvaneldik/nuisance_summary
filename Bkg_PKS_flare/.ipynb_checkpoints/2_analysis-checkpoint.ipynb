{
 "cells": [
  {
   "cell_type": "markdown",
   "id": "5cf0459a-75d4-4f5a-aad0-dc73a5e89d69",
   "metadata": {},
   "source": [
    "### 2 in the title means it is based on the simulated dataset"
   ]
  },
  {
   "cell_type": "markdown",
   "id": "53cbce8e",
   "metadata": {},
   "source": [
    "#### Setup "
   ]
  },
  {
   "cell_type": "code",
   "execution_count": 7,
   "id": "5bc476ec-b331-486e-85db-fe1c8324c5f8",
   "metadata": {},
   "outputs": [],
   "source": [
    "#get_ipython().system('jupyter nbconvert --to script 1-Nui_Par_Fitting.ipynb')\n",
    "import pyximport\n",
    "\n",
    "pyximport.install()\n",
    "import matplotlib.pyplot as plt\n",
    "import numpy as np\n",
    "import astropy.units as u\n",
    "from gammapy.maps import Map\n",
    "from astropy.coordinates import SkyCoord, Angle\n",
    "from gammapy.modeling import Fit,  Parameters, Covariance , Parameter\n",
    "from gammapy.datasets import MapDataset ,Datasets, FluxPointsDataset\n",
    "from gammapy.modeling.models import (\n",
    "    PowerLawSpectralModel,\n",
    "    SkyModel,\n",
    "    PointSpatialModel,\n",
    "    PowerLawNormSpectralModel,\n",
    "    Models,\n",
    "    SpatialModel,\n",
    "    FoVBackgroundModel,\n",
    "    PiecewiseNormSpectralModel,\n",
    ")\n",
    "from gammapy.estimators import TSMapEstimator, ExcessMapEstimator\n",
    "from gammapy.estimators import FluxPoints, FluxPointsEstimator\n",
    "\n",
    "from regions import CircleSkyRegion, RectangleSkyRegion\n",
    "import yaml\n",
    "import sys\n",
    "sys.path.append('../')\n",
    "import Dataset_load \n",
    "\n",
    "from  Dataset_Setup import Setup"
   ]
  },
  {
   "cell_type": "code",
   "execution_count": 2,
   "id": "6f19445f-bef2-4542-b2f2-7f44107a0f00",
   "metadata": {},
   "outputs": [],
   "source": [
    "from matplotlib import rc\n",
    "import matplotlib.pylab as plt\n",
    "\n",
    "rc('font', **{'family': 'serif', 'serif': ['Computer Modern']})\n",
    "rc('text', usetex=True)"
   ]
  },
  {
   "cell_type": "markdown",
   "id": "6a3b03b6",
   "metadata": {},
   "source": [
    "## Dataset"
   ]
  },
  {
   "cell_type": "code",
   "execution_count": 3,
   "id": "6d76167f-353a-4f5f-95f1-2f02a6c020a9",
   "metadata": {},
   "outputs": [
    {
     "name": "stdout",
     "output_type": "stream",
     "text": [
      "loaded dataset:\n",
      "/home/katrin/Documents/nuisance_summary/PKS_flare/HESS_public/dataset-simulated-ecpl.fits.gz\n"
     ]
    }
   ],
   "source": [
    "scaled_amplitude = Parameter(\"amplitude\", value=1e-12)\n",
    "lambda_ = Parameter(\"lambda_\", value=1/60)\n",
    "\n",
    "dataset_input = Dataset_load.create_asimov(\n",
    "    model=\"ecpl\", \n",
    "    source=\"PKSflare\", \n",
    "    parameters=Parameters([scaled_amplitude, lambda_])\n",
    ")\n",
    "source_model = dataset_input.models[0].copy()\n",
    "emask = dataset_input.mask.data.sum(axis=2).sum(axis=1)>0\n",
    "energy = dataset_input.geoms['geom'].axes[0].center\n",
    "energy_mask = dataset_input.geoms['geom'].axes[0].center[emask]"
   ]
  },
  {
   "cell_type": "markdown",
   "id": "d7460347",
   "metadata": {},
   "source": [
    "## Systematic Settings"
   ]
  },
  {
   "cell_type": "code",
   "execution_count": 8,
   "id": "b929cdb2",
   "metadata": {},
   "outputs": [],
   "source": [
    "# bkg sys\n",
    "magnitude = 10 # in percent\n",
    "scale = 2 # correlation length  in terms of energy bins\n",
    "\n"
   ]
  },
  {
   "cell_type": "markdown",
   "id": "4bcdf596",
   "metadata": {},
   "source": [
    "# datset setup"
   ]
  },
  {
   "cell_type": "code",
   "execution_count": null,
   "id": "c4193e55",
   "metadata": {},
   "outputs": [],
   "source": [
    "dataset_setup = Dataset_Setup()"
   ]
  },
  {
   "cell_type": "code",
   "execution_count": null,
   "id": "0a05c3b4",
   "metadata": {},
   "outputs": [],
   "source": []
  },
  {
   "cell_type": "markdown",
   "id": "dbe29454-3f21-437d-b7c7-35f0077b371a",
   "metadata": {},
   "source": [
    "## Drawing artificial correlated background systematic"
   ]
  },
  {
   "cell_type": "code",
   "execution_count": null,
   "id": "3fa33823",
   "metadata": {},
   "outputs": [],
   "source": []
  },
  {
   "cell_type": "code",
   "execution_count": null,
   "id": "a76c4555",
   "metadata": {},
   "outputs": [],
   "source": []
  },
  {
   "cell_type": "code",
   "execution_count": 5,
   "id": "0f5899b1-9d48-4898-8b0a-20778f15df87",
   "metadata": {},
   "outputs": [
    {
     "name": "stdout",
     "output_type": "stream",
     "text": [
      "24\n"
     ]
    }
   ],
   "source": [
    "l = len(emask)\n",
    "sys_percentage = np.array([magnitude] * l)\n",
    "print(l)"
   ]
  },
  {
   "cell_type": "code",
   "execution_count": 6,
   "id": "9a90b97d-fa1c-42de-ac72-bb17db615fe6",
   "metadata": {},
   "outputs": [
    {
     "ename": "NameError",
     "evalue": "name 'norm' is not defined",
     "output_type": "error",
     "traceback": [
      "\u001b[0;31m---------------------------------------------------------------------------\u001b[0m",
      "\u001b[0;31mNameError\u001b[0m                                 Traceback (most recent call last)",
      "Cell \u001b[0;32mIn[6], line 8\u001b[0m\n\u001b[1;32m      6\u001b[0m \u001b[38;5;28;01mfor\u001b[39;00m i \u001b[38;5;129;01min\u001b[39;00m \u001b[38;5;28mrange\u001b[39m(l):\n\u001b[1;32m      7\u001b[0m     \u001b[38;5;28;01mif\u001b[39;00m sys_percentage[i] \u001b[38;5;241m>\u001b[39m \u001b[38;5;241m0\u001b[39m:\n\u001b[0;32m----> 8\u001b[0m         gau \u001b[38;5;241m=\u001b[39m \u001b[43mnorm\u001b[49m\u001b[38;5;241m.\u001b[39mpdf(\u001b[38;5;28mrange\u001b[39m(l) , loc \u001b[38;5;241m=\u001b[39m i , scale \u001b[38;5;241m=\u001b[39m scale )\n\u001b[1;32m      9\u001b[0m         cov[i,:] \u001b[38;5;241m=\u001b[39m gau \u001b[38;5;241m/\u001b[39m np\u001b[38;5;241m.\u001b[39mmax(gau) \u001b[38;5;241m*\u001b[39m sys_percentage[i] \u001b[38;5;241m/\u001b[39m \u001b[38;5;241m100\u001b[39m \n\u001b[1;32m     10\u001b[0m         cov[i,:] \u001b[38;5;241m+\u001b[39m\u001b[38;5;241m=\u001b[39m [zero] \u001b[38;5;241m*\u001b[39m (l)\n",
      "\u001b[0;31mNameError\u001b[0m: name 'norm' is not defined"
     ]
    }
   ],
   "source": [
    "zero = 1e-12\n",
    "cov = np.ones((l,l)) *zero\n",
    "cov = np.identity(l)\n",
    "\n",
    "# note: values set arbitrarily \n",
    "for i in range(l):\n",
    "    if sys_percentage[i] > 0:\n",
    "        gau = norm.pdf(range(l) , loc = i , scale = scale )\n",
    "        cov[i,:] = gau / np.max(gau) * sys_percentage[i] / 100 \n",
    "        cov[i,:] += [zero] * (l)\n",
    "fig, (ax1) = plt.subplots(figsize=(5, 3), ncols=1)\n",
    "pos =plt.imshow(cov, vmin = 0, vmax = 0.1,\n",
    "               cmap = \"Purples\")\n",
    "fig.colorbar(pos, ax=ax1)\n",
    "print(cov.max())\n",
    "ticks = [0,5,10,15,20]\n",
    "energy_ticks = dataset_input.geoms['geom'].axes[0].center[ticks].value\n",
    "energy_ticks = np.round(energy_ticks,1)\n",
    "ax1.set_xticks(ticks)\n",
    "ax1.set_xticklabels(energy_ticks)\n",
    "ax1.set_yticks(ticks)\n",
    "ax1.set_yticklabels(energy_ticks)\n",
    "ax1.set_ylabel(\"Energy [TeV]\")\n",
    "ax1.set_xlabel(\"Energy [TeV]\")\n",
    "cbar = plt.gca().images[-1].colorbar\n",
    "cbar.set_label('Correlation', rotation=90)\n",
    "\n",
    "fig.savefig(\"plots/2_cov_matrix.pdf\", bbox_inches=\"tight\")\n",
    "fig.savefig(\"plots/2_cov_matrix.png\", bbox_inches=\"tight\")\n",
    "\n"
   ]
  },
  {
   "cell_type": "code",
   "execution_count": null,
   "id": "db4a1efb-5efd-4419-bfd3-4c4de488afe8",
   "metadata": {},
   "outputs": [],
   "source": [
    "import numpy as np\n",
    "\n",
    "mean = np.zeros(24)\n",
    "# Generate the correlated values\n",
    "np.random.seed(38)\n",
    "values = np.random.multivariate_normal(mean, cov, size=1, )[0]\n",
    "# Scale the values to be between -0.1 and 0.1\n",
    "values = values / np.max(np.abs(values)) * 0.1\n",
    "print(values)\n",
    "plt.scatter(range(24), values)\n",
    "plt.scatter(np.arange(24)[emask], values[emask])"
   ]
  },
  {
   "cell_type": "markdown",
   "id": "4c0e4a10-d37a-4b8b-930b-862dd6045761",
   "metadata": {},
   "source": [
    "## Adding the systematic to the datasets"
   ]
  },
  {
   "cell_type": "code",
   "execution_count": null,
   "id": "c868e85c-e351-4c47-82bb-ecbb24471450",
   "metadata": {},
   "outputs": [],
   "source": [
    "piecewisebkgmodel = FoVBackgroundModel(spectral_model = PiecewiseNormSpectralModel(\n",
    "                                                        energy = energy,\n",
    "                                                        norms = [0. for i in range(len(values))],\n",
    "                                                       interp = \"lin\"),\n",
    "                                      dataset_name=dataset_input.name)\n",
    "dataset_input.models = Models([source_model, piecewisebkgmodel])\n",
    "with dataset_input.models.parameters.restore_status():\n",
    "    for n , v in zip(dataset_input.models[1].parameters.free_parameters[emask], values[emask]):\n",
    "        n.value = v\n",
    "    dataset_input.counts = dataset_input.npred()"
   ]
  },
  {
   "cell_type": "code",
   "execution_count": null,
   "id": "064ba62d-0cac-4fc1-bdda-540bbc9015f0",
   "metadata": {},
   "outputs": [],
   "source": [
    "dataset_input.plot_residuals(kwargs_spatial={'vmax':0.31,\n",
    "                                      'vmin':-0.31},\n",
    "                      kwargs_spectral={'method' : 'diff'})"
   ]
  },
  {
   "cell_type": "markdown",
   "id": "4a3fea4a",
   "metadata": {},
   "source": [
    "## Setting up dataset to fit the data without nuisance parameters"
   ]
  },
  {
   "cell_type": "code",
   "execution_count": null,
   "id": "ec7b14d2-d875-4f56-83b7-0aa92a09f1c4",
   "metadata": {},
   "outputs": [],
   "source": [
    "dataset_asimov = dataset_input.copy()\n",
    "dataset_asimov.models =  Models([source_model.copy(), \n",
    "                                 FoVBackgroundModel(dataset_name=dataset_asimov.name)])\n",
    "dataset_asimov.models.parameters['tilt'].frozen = False\n",
    "print(dataset_asimov.models)"
   ]
  },
  {
   "cell_type": "code",
   "execution_count": null,
   "id": "e075e6dd-460b-4dd5-9ea7-9145732f07da",
   "metadata": {},
   "outputs": [],
   "source": [
    "%%time\n",
    "fit = Fit()\n",
    "fit.run(dataset_asimov)"
   ]
  },
  {
   "cell_type": "code",
   "execution_count": null,
   "id": "ea854f2a-c58c-4ed5-ac22-59bf653f6b8e",
   "metadata": {},
   "outputs": [],
   "source": [
    "print(dataset_asimov.models)"
   ]
  },
  {
   "cell_type": "code",
   "execution_count": null,
   "id": "a70304d2-bf56-4288-8e5f-081cb0ef8481",
   "metadata": {},
   "outputs": [],
   "source": [
    "dataset_asimov.plot_residuals(kwargs_spatial={'vmax':0.31,\n",
    "                                      'vmin':-0.31},\n",
    "                      kwargs_spectral={'method' : 'diff'})"
   ]
  },
  {
   "cell_type": "code",
   "execution_count": null,
   "id": "eb5475f3-6191-423c-b5e9-63b4c5943eb8",
   "metadata": {},
   "outputs": [],
   "source": [
    "def plot_par(par1, par2, label,ax = None, fmt ='x', markersize = 6, color = 'red'):\n",
    "    if ax is None:\n",
    "        fig, ax = plt.subplots(1,1)\n",
    "    ax.errorbar(x = par1.value, y = par2.value, xerr = par1.error, yerr = par2.error, fmt= fmt,\n",
    "                markersize = markersize,\n",
    "                label = label, color = color)\n",
    "    ax.set_xlabel(f\"{par1.name} [{par1.unit}] \" )\n",
    "    ax.set_ylabel(f\"{par2.name} [{par2.unit}] \" )\n",
    "    ax.legend()\n",
    "    \n",
    "    return ax\n",
    "\n",
    "def plot_source_par(model_name, pars):\n",
    "    if len(pars)>2:\n",
    "        fig, ax = plt.subplots(2,2, figsize = (6,6))\n",
    "        ax = ax.flatten()\n",
    "    else:\n",
    "        fig, ax = plt.subplots(1,2, figsize = (6,3))\n",
    "   \n",
    "    for i, p in enumerate(pars):\n",
    "    \n",
    "        for j, m in enumerate (models_list):\n",
    "            try:\n",
    "                plot_par(m.parameters[p[0]],\n",
    "                 m.parameters[p[1]],\n",
    "                    label= labels[j],\n",
    "                    ax = ax[i],\n",
    "                    fmt = fmts[j],\n",
    "                    markersize = markersize[j], \n",
    "                        color = colors [j])\n",
    "            except:\n",
    "                pass\n",
    "\n",
    "    plt.tight_layout()\n",
    "    return fig\n",
    "\n",
    "markersize = [6,10, 10]"
   ]
  },
  {
   "cell_type": "code",
   "execution_count": null,
   "id": "296b7c8a-2745-418c-a5a4-9e8e55bf56ca",
   "metadata": {},
   "outputs": [],
   "source": [
    "models_list = [ dataset_asimov.models,dataset_input.models ]\n",
    "labels = [ 'fitted without norms', 'input']\n",
    "fmts = ['o','^', '*']\n",
    "colors = ['tab:blue', 'black', 'tab:green']\n",
    "pars =  pars = [('norm', 'tilt'),('amplitude', 'index'),\n",
    "               ('lambda_', 'lambda_')]\n",
    "fig = plot_source_par(0, pars)\n",
    "\n"
   ]
  },
  {
   "cell_type": "markdown",
   "id": "ab2c69ad-ca2a-4217-8601-e8a8a0c65887",
   "metadata": {},
   "source": [
    "## Setting up dataset to fit the data with nuisance parameters"
   ]
  },
  {
   "cell_type": "code",
   "execution_count": null,
   "id": "4c60582b-9501-4053-9f60-4644229613c5",
   "metadata": {},
   "outputs": [],
   "source": [
    "dataset_asimov_N = dataset_asimov.copy()"
   ]
  },
  {
   "cell_type": "code",
   "execution_count": null,
   "id": "ef49837f",
   "metadata": {},
   "outputs": [],
   "source": [
    "l"
   ]
  },
  {
   "cell_type": "code",
   "execution_count": null,
   "id": "34f9bf97",
   "metadata": {},
   "outputs": [],
   "source": [
    "len(energy)"
   ]
  },
  {
   "cell_type": "code",
   "execution_count": null,
   "id": "9c4d05be-e387-46a6-bb97-8168a60b1073",
   "metadata": {},
   "outputs": [],
   "source": [
    "norms = Parameters([Parameter (\"norm\"+str(i), value = 0, frozen = False) for i in range(l)])\n",
    "# freeze parameters below energy treshold\n",
    "for n in norms[~emask]:\n",
    "    n.frozen = True\n",
    "piece = PiecewiseNormSpectralModel(energy = energy,\n",
    "                                  norms = norms,\n",
    "                                  interp=\"lin\")\n",
    "\n",
    "bkg_sys = FoVBackgroundModel(spectral_model = piece,\n",
    "                            dataset_name= dataset_asimov_N.name)\n",
    "dataset_asimov_N.models = Models([source_model.copy(), bkg_sys])"
   ]
  },
  {
   "cell_type": "code",
   "execution_count": null,
   "id": "9d550005-5a9e-4a92-b888-b18c57d2bb73",
   "metadata": {},
   "outputs": [],
   "source": [
    "ainv = inv(cov)\n",
    "dataset_asimov_N.penalising_invcovmatrix = ainv\n",
    "\n",
    "fig, (ax1) = plt.subplots(figsize=(5, 3), ncols=1)\n",
    "pos =plt.imshow(ainv, vmin = -10, vmax = 10)\n",
    "fig.colorbar(pos, ax=ax1)"
   ]
  },
  {
   "cell_type": "code",
   "execution_count": null,
   "id": "83b5811c-1e2e-4cea-ad40-bba96b459ae2",
   "metadata": {},
   "outputs": [],
   "source": [
    "# test if the inversion of the correlation matrix worked well\n",
    "fig, (ax1) = plt.subplots(figsize=(5, 3), ncols=1)\n",
    "pos =plt.imshow(np.matmul(cov,ainv), vmin = 0, vmax = 1)\n",
    "fig.colorbar(pos, ax=ax1)"
   ]
  },
  {
   "cell_type": "code",
   "execution_count": null,
   "id": "89643444",
   "metadata": {},
   "outputs": [],
   "source": [
    "from gammapy.modeling.models.prior import MultiVariantePrior, Prior"
   ]
  },
  {
   "cell_type": "markdown",
   "id": "a018f389",
   "metadata": {},
   "source": [
    "## setting up the prior"
   ]
  },
  {
   "cell_type": "code",
   "execution_count": null,
   "id": "45c926de",
   "metadata": {},
   "outputs": [],
   "source": [
    "modelparameters = dataset_asimov_N.models[1].parameters\n",
    "modelparameters = Parameters([m for m in modelparameters if m.name != \"_norm\"])\n"
   ]
  },
  {
   "cell_type": "code",
   "execution_count": null,
   "id": "f3bd7e71",
   "metadata": {},
   "outputs": [],
   "source": [
    "from gammapy.modeling import PriorParameter\n",
    "\n",
    "class MultiVariantePrior_(Prior):\n",
    "    r\"\"\"Multi-dimensional Prior.\n",
    "\n",
    "\n",
    "    Parameters\n",
    "    ----------\n",
    "    inv_cov : array\n",
    "        Inverted Covariance Matrix\n",
    "    \"\"\"\n",
    "\n",
    "    tag = [\"MultiVariantePrior\"]\n",
    "    _type = \"prior\"\n",
    "        \n",
    "    def __init__(self, modelparameters, covariance_matrix, name):\n",
    "        self._modelparameters = modelparameters\n",
    "        self._name = name\n",
    "\n",
    "        # check the shape of the covariance matrix\n",
    "        shape = np.shape(covariance_matrix) \n",
    "        if len(shape) == 2  and shape[0] == shape[1]: \n",
    "            self._dimension = shape[0]\n",
    "            self._covariance_matrix = covariance_matrix\n",
    "        else:\n",
    "            raise ValueError(\"Covariance matrix must be quadratic.\")\n",
    "            \n",
    "        # check if model parameters is the same length as the matrix\n",
    "        if len(self._modelparameters) != self._dimension:\n",
    "            raise ValueError(\"dimension mismatch\")\n",
    "        \n",
    "        for par in self._modelparameters:\n",
    "            par.prior = self\n",
    "                        \n",
    "        super().__init__(self._modelparameters)\n",
    "        \n",
    "   \n",
    "    def __call__(self):\n",
    "        \"\"\"Call evaluate method\"\"\"\n",
    "        return  self.evaluate(self._modelparameters.value)\n",
    "    \n",
    "    @property\n",
    "    def covariance_matrix(self):\n",
    "        return self._covariance_matrix\n",
    "    \n",
    "    \n",
    "    def evaluate(self, values):\n",
    "        return np.matmul(values, np.matmul(values, self.covariance_matrix))\n",
    "        \n",
    "    # not here, but in PriorModel and test if covariance matrix is set! \n",
    "    def to_dict(self, full_output=False):\n",
    "        \"\"\"Create dict for YAML serialisation\"\"\"\n",
    "        tag = self.tag[0] if isinstance(self.tag, list) else self.tag\n",
    "        #params = self.modelparameters.to_dict()\n",
    "        # todo: add more information about the modelparameters\n",
    "        if full_output:\n",
    "            data = {\"type\": tag, \"modelparameters\": self.modelparameters.names, \"weight\": self.weight, \"name\": self.name}\n",
    "            if self.dimension >1:\n",
    "                data[\"covariance_matrix\"] = self.covariance_matrix\n",
    "        else:\n",
    "            data = {\"type\": tag, \"name\": self.name}\n",
    "            \n",
    "        \n",
    "        if self.type is None:\n",
    "            return data\n",
    "        else:\n",
    "            return {self.type: data}  "
   ]
  },
  {
   "cell_type": "code",
   "execution_count": null,
   "id": "7afe5252",
   "metadata": {},
   "outputs": [],
   "source": [
    "multi_prior = MultiVariantePrior_(modelparameters =modelparameters,\n",
    "                                 covariance_matrix = ainv,\n",
    "                                  name = \"bkgsys\"\n",
    "                                )"
   ]
  },
  {
   "cell_type": "code",
   "execution_count": null,
   "id": "29b20fbb",
   "metadata": {},
   "outputs": [],
   "source": [
    "scan = np.linspace(-0.5,0.5, 11)\n",
    "for l_ in range(l-10):\n",
    "    ss = []\n",
    "    \n",
    "    name = \"norm\"+str(l_)\n",
    "    for i in scan:\n",
    "        dataset_asimov_N.models.parameters[name].value = i\n",
    "        ss.append(dataset_asimov_N.stat_sum())\n",
    "    dataset_asimov_N.models.parameters[name].value = 0.\n",
    "    plt.plot(scan, ss, label = name)\n",
    "plt.legend()"
   ]
  },
  {
   "cell_type": "code",
   "execution_count": null,
   "id": "fb908a06-55ae-405a-9da4-7493a0dd550a",
   "metadata": {},
   "outputs": [],
   "source": [
    "%%time\n",
    "fit_sys = Fit()\n",
    "fit_sys.run(dataset_asimov_N)"
   ]
  },
  {
   "cell_type": "code",
   "execution_count": null,
   "id": "b9072e69-3472-4c19-bb35-681ca9e2bf03",
   "metadata": {},
   "outputs": [],
   "source": [
    "values_fitted = dataset_asimov_N.models[1].spectral_model(energy)  - 1\n",
    "print(values_fitted)\n",
    "plt.plot(energy, values_fitted)\n",
    "plt.fill_between(energy.value, sys_percentage/100,-sys_percentage/100,\n",
    "                alpha = 0.3)\n",
    "plt.scatter(energy.value, values, color = 'black')\n",
    "\n",
    "plt.yscale(\"linear\")\n",
    "plt.xscale(\"log\")"
   ]
  },
  {
   "cell_type": "code",
   "execution_count": null,
   "id": "3f27ece6-fe1f-4b34-a928-9848a03fae35",
   "metadata": {},
   "outputs": [],
   "source": [
    "config = Dataset_load.load_config()\n",
    "colors = config[\"colors\"][\"three\"]\n",
    "import ast\n",
    "\n",
    "colors[1] = ast.literal_eval(colors[1])\n",
    "colors[2] = ast.literal_eval(colors[2])\n",
    "colors[3] = ast.literal_eval(colors[3])\n",
    "\n"
   ]
  },
  {
   "cell_type": "code",
   "execution_count": null,
   "id": "9242b046-444b-4193-bd32-351eee8f8adf",
   "metadata": {},
   "outputs": [],
   "source": [
    "fig, ax = plt.subplots(figsize = (5,3))\n",
    "\n",
    "values_fitted = dataset_asimov_N.models[1].spectral_model(energy)\n",
    "plt.plot(energy.value[emask], 100 * values_fitted[emask]-100, color = colors[1],\n",
    "        label = \"Best-fit nuisance pars.\")\n",
    "\n",
    "#plt.fill_between(energy.value[emask], sys_percentage[emask],-sys_percentage[emask],\n",
    "#                alpha = 0.1, color = 'tab:green')\n",
    "plt.scatter(energy.value[emask], 100*values[emask], color = 'purple',\n",
    "            marker = \"+\", s = 80,\n",
    "           label = \"Input\")\n",
    "plt.xscale('log')\n",
    "plt.hlines(0, 0.4,100, color= 'grey')\n",
    "plt.yscale(\"linear\")\n",
    "plt.ylim(-12,12)\n",
    "plt.xlabel(\"Energy [TeV]\")\n",
    "plt.ylabel(\"Systematic [\\%]\")\n",
    "plt.legend()\n",
    "fig.savefig('plots/2_nui_sys_input.png', bbox_inches=\"tight\")"
   ]
  },
  {
   "cell_type": "code",
   "execution_count": null,
   "id": "da0559b5-d9dd-4bc2-a93c-03b4cb13acba",
   "metadata": {},
   "outputs": [],
   "source": [
    "\n",
    "dataset_asimov_N.plot_residuals(kwargs_spatial={'vmax':0.31,\n",
    "                                      'vmin':-0.31},\n",
    "                      kwargs_spectral={'method' : 'diff'})"
   ]
  },
  {
   "cell_type": "code",
   "execution_count": null,
   "id": "d62720e7-d335-4b59-bbfa-e8b62d8feebb",
   "metadata": {},
   "outputs": [],
   "source": [
    "fig, ax = plt.subplots(figsize = (5,3))\n",
    "ax = dataset_asimov.plot_residuals_spectral(method =  'diff/sqrt(model)',\n",
    "                                            color = colors[0], \n",
    "                                    label = \"Without nuisance par.\")\n",
    "dataset_asimov_N.plot_residuals_spectral(method =  'diff/sqrt(model)',\n",
    "                                         color =colors[1],\n",
    "                                             label = \"With nuisance par.\",\n",
    "                                        )\n",
    "\n",
    "#plt.fill_between(energy.value, sys_percentage[emask],-sys_percentage[emask],alpha = 0.3)\n",
    "ax.legend()\n",
    "ax.set_xlim(0.4,100)\n",
    "ax.set_ylim(-10,10)\n",
    "\n",
    "plt.tight_layout()\n",
    "'''\n",
    "\n",
    "ax2 = ax.twinx()\n",
    "dataset_asimov_N.models[1].spectral_model.plot([1,100]*u.TeV, ax = ax2)\n",
    "#ax2.fill_between(energy.value, 1+sys_percentage/100,1-sys_percentage/100,\n",
    "#                alpha = 0.3)\n",
    "ax2.scatter(energy.value, 1+values, color = 'black')\n",
    "ax2.set_ylim(0.9, 1.1)\n",
    "plt.yscale(\"linear\")\n",
    "'''\n",
    "\n",
    "lim = ax.get_ylim()\n",
    "ax.set_ylim(-np.max(np.abs(lim)), np.max(np.abs(lim)))\n",
    "fig = plt.gcf()\n",
    "fig.savefig('plots/2_spectracl_res_points_diff.png')"
   ]
  },
  {
   "cell_type": "code",
   "execution_count": null,
   "id": "4b6d98a6-1e18-4e57-a0cf-c6e4e23c3ac9",
   "metadata": {},
   "outputs": [],
   "source": [
    "fig, ax = plt.subplots(figsize = (5,3))\n",
    "ax = dataset_asimov_N.plot_residuals_spectral(method =  'diff', color = 'tab:blue',\n",
    "                                             label = \"Asimov Fit w/o nui.\")\n",
    "dataset_asimov.plot_residuals_spectral(method =  'diff', color = 'tab:red', ax = ax,\n",
    "                                    label = \"Asimov Fit w/ nui.\")\n",
    "#plt.fill_between(energy.value, sys_percentage[emask],-sys_percentage[emask],alpha = 0.3)\n",
    "ax.legend()\n",
    "ax.set_xlim(0.4,100)\n",
    "plt.tight_layout()\n",
    "'''\n",
    "ax2 = ax.twinx()\n",
    "dataset_asimov_N.models[1].spectral_model.plot([1,100]*u.TeV, ax = ax2)\n",
    "#ax2.fill_between(energy.value, 1+sys_percentage/100,1-sys_percentage/100,\n",
    "#                alpha = 0.3)\n",
    "ax2.scatter(energy.value, 1+values, color = 'black')\n",
    "ax2.set_ylim(0.9, 1.1)\n",
    "plt.yscale(\"linear\")\n",
    "'''\n",
    "lim = ax.get_ylim()\n",
    "ax.set_ylim(-np.max(np.abs(lim)), np.max(np.abs(lim)))\n",
    "fig = plt.gcf()\n",
    "fig.savefig('plots/2_spectracl_res_points.png')"
   ]
  },
  {
   "cell_type": "code",
   "execution_count": null,
   "id": "aca35b6b-1752-4f89-936a-15ce231815fe",
   "metadata": {},
   "outputs": [],
   "source": [
    "print(dataset_input.models)"
   ]
  },
  {
   "cell_type": "code",
   "execution_count": null,
   "id": "095ec0b3-0430-4679-9b8c-6f3cb2e1b714",
   "metadata": {},
   "outputs": [],
   "source": [
    "models_list = [ dataset_asimov.models, dataset_asimov_N.models , dataset_input.models]\n",
    "labels = [ 'fitted without norms','fitted with norms', 'input']\n",
    "fmts = ['o','*', '^', ]\n",
    "\n",
    "pars =  pars = [('norm', 'tilt'),('amplitude', 'index'),\n",
    "               ('lambda_', 'lambda_')]\n",
    "ax = plot_source_par(0, pars)\n"
   ]
  },
  {
   "cell_type": "markdown",
   "id": "29039217-2aba-4643-a90d-dded830c2a2b",
   "metadata": {},
   "source": [
    "## FLuxpoints"
   ]
  },
  {
   "cell_type": "code",
   "execution_count": null,
   "id": "c69fbd3f-2898-4e0e-8e88-945411408f9f",
   "metadata": {},
   "outputs": [],
   "source": [
    "comput_fp = 1\n",
    "if comput_fp :\n",
    "    energy_edges = dataset_asimov.geoms[\"geom\"].axes[0].edges[::2]\n",
    "    esti = FluxPointsEstimator(energy_edges=energy_edges)\n",
    "    fluxpoints = esti.run([dataset_asimov])\n",
    "    fluxpoints.write(\n",
    "        \"data/fluxpoints/2_fluxpoints_asimov.fits\", overwrite = True\n",
    "    )\n",
    "    Models([dataset_asimov.models[0]]).write(\n",
    "        \"data/fluxpoints/2_model_asimov.fits\" , overwrite = True\n",
    "    )\n",
    "    \n",
    "    fluxpoints_N = esti.run([dataset_asimov_N])\n",
    "    fluxpoints_N.write(\n",
    "        f\"data/fluxpoints/2_fluxpoints_asimov_N.fits\", overwrite= True,\n",
    "    )\n",
    "    Models([dataset_asimov_N.models[0]]).write(\n",
    "        f\"data/fluxpoints/2_model_asimov_N.fits\", overwrite= True,\n",
    "    )\n",
    "    \n",
    "    fp_asimov = FluxPointsDataset(data = fluxpoints, models = Models([dataset_asimov.models[0]]))\n",
    "    fp_asimov_N = FluxPointsDataset(data = fluxpoints_N, models = Models([dataset_asimov_N.models[0]]))\n",
    "    \n",
    "else:\n",
    "    fp_asimov = FluxPointsDataset(data = FluxPoints.read(\"data/fluxpoints/2_fluxpoints_asimov.fits\"),\n",
    "                                 models = Models.read(\"data/fluxpoints/2_model_asimov.fits\"))\n",
    "    fp_asimov_N = FluxPointsDataset(data = FluxPoints.read(\"data/fluxpoints/2_fluxpoints_asimov_N.fits\"),\n",
    "                                 models = Models.read(\"data/fluxpoints/2_model_asimov_N.fits\"))"
   ]
  },
  {
   "cell_type": "code",
   "execution_count": null,
   "id": "deac8ade-8072-43ce-b5c0-4a5b56cb9f7c",
   "metadata": {},
   "outputs": [],
   "source": [
    "import seaborn as sns\n",
    "\n",
    "\n",
    "alpha_nui = 0.99\n",
    "alpha_st = 0.99\n",
    "legendsscatter = [\"Asimov w/o nui.\", \"Asimov with nui.\"]\n",
    "legends = [\"\", \"\"]\n",
    "\n",
    "alpha_rnd = 0.2\n",
    "alpha_rnd_nui = 0.2\n",
    "\n",
    "nbins = 20"
   ]
  },
  {
   "cell_type": "code",
   "execution_count": null,
   "id": "1030746d-8f0c-41ec-843d-9ce42e50bea3",
   "metadata": {},
   "outputs": [],
   "source": [
    "def plot_asimov_spectrum(fig, ax):\n",
    "    model = dataset_asimov_N.models[0].spectral_model\n",
    "    model.plot(\n",
    "        energy_bounds=[0.3, 100] * u.TeV,\n",
    "        energy_power=2,\n",
    "        ax=ax,\n",
    "        color=colors[1],\n",
    "        label=\"Asimov Fit with nui.\",\n",
    "        linestyle=\"solid\",\n",
    "    )\n",
    "\n",
    "    model.plot_error(\n",
    "        energy_bounds=[0.3, 100] * u.TeV,\n",
    "        energy_power=2,\n",
    "        ax=ax,\n",
    "        facecolor=colors[3],\n",
    "        label=\"\",\n",
    "        alpha=1,\n",
    "    )\n",
    "\n",
    "    model = dataset_asimov.models[0].spectral_model\n",
    "    model.plot(\n",
    "        energy_bounds=[0.3, 100] * u.TeV,\n",
    "        energy_power=2,\n",
    "        ax=ax,\n",
    "        color=colors[0],\n",
    "        linestyle=\"dashed\",\n",
    "        label=\"Asimov Fit w/0 nui.\",\n",
    "    )\n",
    "    model.plot_error(\n",
    "        energy_bounds=[0.3, 100] * u.TeV,\n",
    "        energy_power=2,\n",
    "        ax=ax,\n",
    "        facecolor=colors[2],\n",
    "        label=\"\",\n",
    "        alpha=1,\n",
    "    )\n",
    "\n",
    "    model = dataset_asimov.models[0]\n",
    "    dataset_input.models[0].spectral_model.plot(\n",
    "        energy_bounds=[0.3, 100] * u.TeV,\n",
    "        energy_power=2,\n",
    "        ax=ax,\n",
    "        color=\"black\",\n",
    "        label=\"Input\",\n",
    "        linestyle=\"dotted\",\n",
    "    )\n",
    "\n",
    "    ax.legend(loc=\"lower left\")\n",
    "    ax.set_xlim(0.3, 100)\n",
    "    ax.set_ylim(1e-14, 2e-12)"
   ]
  },
  {
   "cell_type": "code",
   "execution_count": null,
   "id": "39e60eef-f667-49c5-933f-bf13fd33cfb8",
   "metadata": {},
   "outputs": [],
   "source": [
    "fp_asimov = FluxPointsDataset(\n",
    "    data=FluxPoints.read(\"data/fluxpoints/2_fluxpoints_asimov.fits\"),\n",
    "    models=Models.read(\"data/fluxpoints/2_model_asimov.fits\"),\n",
    ")\n",
    "fp_asimov_N = FluxPointsDataset(\n",
    "    data=FluxPoints.read(\"data/fluxpoints/2_fluxpoints_asimov_N.fits\"),\n",
    "    models=Models.read(\"data/fluxpoints/2_model_asimov_N.fits\"),\n",
    ")\n",
    "\n",
    "def compute_precision(N):\n",
    "    Z = 1.645\n",
    "    return Z / np.sqrt(N)\n",
    "\n",
    "\n",
    "energy_power = 2\n",
    "fig, axs = plt.subplots(2, 1, figsize=(4, 4), sharex=True, gridspec_kw={\"height_ratios\": [3, 1]},)\n",
    "plot_asimov_spectrum(fig, axs[0])\n",
    "fp_asimov_N.data.plot(energy_power=2, color=colors[1], ax=axs[0], capsize = 5)\n",
    "fp_asimov.data.plot(energy_power=2, color=colors[0], ax=axs[0], capsize = 5)\n",
    "\n",
    "\n",
    "fp_asimov.plot_residuals(ax =axs[1], color = colors[0], capsize = 5, marker = 'x')\n",
    "fp_asimov_N.plot_residuals(ax =axs[1], color = colors[1],  capsize = 5, marker = 'o')\n",
    "\n",
    "axs[0].set_xlim(0.3, 100)\n",
    "fig.savefig(\"plots/2_fluxpoints_spectrum.pdf\", bbox_inches=\"tight\")\n",
    "fig.savefig(\"plots/2_fluxpoints_spectrum.png\", bbox_inches=\"tight\")"
   ]
  },
  {
   "cell_type": "code",
   "execution_count": null,
   "id": "87af17dc-5b02-4c46-88e8-11dbd4c0bc15",
   "metadata": {},
   "outputs": [],
   "source": [
    "for p in ['amplitude', 'index', 'lambda_']:\n",
    "    print(p)\n",
    "    for i, d in enumerate([dataset_asimov, dataset_asimov_N, dataset_input]):\n",
    "        pp = d.models[0].parameters[p]\n",
    "        print(f\"{labels[i]}\")\n",
    "        if p == 'lambda_':\n",
    "            print(f\"$1/{(1/pp.value):.3} \\pm 1/{(pp.error/pp.value**2):.3}$\")   \n",
    "        if p == 'amplitude':\n",
    "            print(f\"${pp.value*1e12:.2} \\pm {pp.error*1e12:.2}$\")   \n",
    "            \n",
    "        else:\n",
    "            print(f\"${pp.value:.4} \\pm {pp.error:.4}$\")   \n",
    "        \n",
    "    print()"
   ]
  },
  {
   "cell_type": "code",
   "execution_count": null,
   "id": "5ef9912e-6a7d-432a-9dd3-f6b106b41e5b",
   "metadata": {},
   "outputs": [],
   "source": []
  }
 ],
 "metadata": {
  "kernelspec": {
   "display_name": "Python 3 (ipykernel)",
   "language": "python",
   "name": "python3"
  },
  "language_info": {
   "codemirror_mode": {
    "name": "ipython",
    "version": 3
   },
   "file_extension": ".py",
   "mimetype": "text/x-python",
   "name": "python",
   "nbconvert_exporter": "python",
   "pygments_lexer": "ipython3",
   "version": "3.9.16"
  }
 },
 "nbformat": 4,
 "nbformat_minor": 5
}
