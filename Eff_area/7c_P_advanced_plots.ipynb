{
 "cells": [
  {
   "cell_type": "code",
   "execution_count": 11,
   "id": "c102068e",
   "metadata": {},
   "outputs": [
    {
     "name": "stdout",
     "output_type": "stream",
     "text": [
      "loaded gammapy version: 1.1.dev320+g92a6eb9f4 \n",
      "Supposed to be 1.0 (21-12-2022)\n"
     ]
    }
   ],
   "source": [
    "import gammapy \n",
    "print(f'loaded gammapy version: {gammapy.__version__} ' )\n",
    "print(f'Supposed to be 1.0 (21-12-2022)' )"
   ]
  },
  {
   "cell_type": "code",
   "execution_count": 12,
   "id": "e0c4dcf1",
   "metadata": {
    "execution": {
     "iopub.execute_input": "2022-03-17T11:24:36.091662Z",
     "iopub.status.busy": "2022-03-17T11:24:36.091167Z",
     "iopub.status.idle": "2022-03-17T11:25:00.872876Z",
     "shell.execute_reply": "2022-03-17T11:25:00.871690Z"
    }
   },
   "outputs": [],
   "source": [
    "#get_ipython().system('jupyter nbconvert --to script 1-Nui_Par_Fitting.ipynb')\n",
    "import pyximport\n",
    "\n",
    "pyximport.install()\n",
    "import matplotlib.pyplot as plt\n",
    "import numpy as np\n",
    "import astropy.units as u\n",
    "import gammapy\n",
    "from scipy.interpolate import interp2d\n",
    "\n",
    "# from gammapy.datasets import MapDataset\n",
    "from gammapy.maps import Map\n",
    "from astropy.coordinates import SkyCoord, Angle\n",
    "from gammapy.modeling import Fit, Parameter, Parameters, Covariance\n",
    "from gammapy.datasets import MapDataset #, MapDatasetNuisance\n",
    "from gammapy.modeling.models import (\n",
    "    PowerLawSpectralModel,\n",
    "    create_crab_spectral_model,\n",
    "    SkyModel,\n",
    "    PointSpatialModel,\n",
    "    ShellSpatialModel,\n",
    "    GeneralizedGaussianSpatialModel,\n",
    "    TemplateSpatialModel,\n",
    "    LogParabolaSpectralModel,\n",
    "    GaussianSpatialModel,\n",
    "    DiskSpatialModel,\n",
    "    PowerLawNormSpectralModel,\n",
    "    Models,\n",
    "    SpatialModel,\n",
    "    FoVBackgroundModel,\n",
    ")\n",
    "from gammapy.estimators import TSMapEstimator, ExcessMapEstimator\n",
    "\n",
    "from regions import CircleSkyRegion, RectangleSkyRegion\n",
    "import yaml\n",
    "import sys\n",
    "\n",
    "#sys.path.append(\n",
    "#    \"/home/hpc/caph/mppi045h/3D_analysis/N_parameters_in_L/syserror_3d_bkgmodel/4-Fitting_nuisance_and_model_parameters\"\n",
    "#)\n",
    "#from my_dataset_maps_20 import MapDatasetNuisance\n",
    "#from MapDatasetNuisanceE import MapDatasetNuisanceE\n",
    "#from  my_fit_20 import Fit\n",
    "from Dataset_Creation import sys_dataset"
   ]
  },
  {
   "cell_type": "code",
   "execution_count": null,
   "id": "d7f3e0ff",
   "metadata": {},
   "outputs": [],
   "source": []
  },
  {
   "cell_type": "markdown",
   "id": "23adcef0",
   "metadata": {},
   "source": [
    "## Read dataset"
   ]
  },
  {
   "cell_type": "code",
   "execution_count": 13,
   "id": "f94dc89c",
   "metadata": {},
   "outputs": [
    {
     "name": "stdout",
     "output_type": "stream",
     "text": [
      "spatial binsize =  [0.08] deg\n",
      "MapDataset\n",
      "----------\n",
      "\n",
      "  Name                            : wClsSGxr \n",
      "\n",
      "  Total counts                    : 388209 \n",
      "  Total background counts         : 360331.31\n",
      "  Total excess counts             : 27877.69\n",
      "\n",
      "  Predicted counts                : 361333.07\n",
      "  Predicted background counts     : 360331.34\n",
      "  Predicted excess counts         : 1001.73\n",
      "\n",
      "  Exposure min                    : 2.07e-01 m2 s\n",
      "  Exposure max                    : 2.41e+11 m2 s\n",
      "\n",
      "  Number of total bins            : 540000 \n",
      "  Number of fit bins              : 180191 \n",
      "\n",
      "  Fit statistic type              : cash\n",
      "  Fit statistic value (-2 log(L)) : -924522.99\n",
      "\n",
      "  Number of models                : 2 \n",
      "  Number of parameters            : 11\n",
      "  Number of free parameters       : 7\n",
      "\n",
      "  Component 0: SkyModel\n",
      "  \n",
      "    Name                      : Source\n",
      "    Datasets names            : None\n",
      "    Spectral model type       : PowerLawSpectralModel\n",
      "    Spatial  model type       : GaussianSpatialModel\n",
      "    Temporal model type       : \n",
      "    Parameters:\n",
      "      index                         :      2.300   +/-    0.00             \n",
      "      amplitude                     :   1.00e-12   +/- 0.0e+00 1 / (cm2 s TeV)\n",
      "      reference             (frozen):      1.000       TeV         \n",
      "      lon_0                         :     83.631   +/-    0.00 deg         \n",
      "      lat_0                         :     22.018   +/-    0.00 deg         \n",
      "      sigma                         :      0.019   +/-    0.00 deg         \n",
      "      e                     (frozen):      0.000                   \n",
      "      phi                   (frozen):      0.000       deg         \n",
      "  \n",
      "  Component 1: FoVBackgroundModel\n",
      "  \n",
      "    Name                      : wClsSGxr-bkg\n",
      "    Datasets names            : ['wClsSGxr']\n",
      "    Spectral model type       : PowerLawNormSpectralModel\n",
      "    Parameters:\n",
      "      norm                          :      1.000   +/-    0.00             \n",
      "      tilt                          :      0.000   +/-    0.00             \n",
      "      reference             (frozen):      1.000       TeV         \n",
      "  \n",
      "  \n"
     ]
    },
    {
     "data": {
      "image/png": "[encoded data removed]",
      "text/plain": [
       "<Figure size 640x480 with 2 Axes>"
      ]
     },
     "metadata": {},
     "output_type": "display_data"
    }
   ],
   "source": [
    "source = 'Crab'\n",
    "path = '/home/vault/caph/mppi062h/repositories/HESS_3Dbkg_syserror/2-error_in_dataset'\n",
    "path_crab = '/home/hpc/caph/mppi045h/3D_analysis/N_parameters_in_L/nuisance_summary/Crab'\n",
    "\n",
    "\n",
    "dataset_standard = MapDataset.read(f'{path}/{source}/stacked.fits')\n",
    "dataset_standard = dataset_standard.downsample(4)\n",
    "models = Models.read(f\"{path_crab}/standard_model.yml\")\n",
    "model_spectrum  = PowerLawSpectralModel(\n",
    "    index=2.3,\n",
    "    amplitude=\"1e-12 TeV-1 cm-2 s-1\",    )\n",
    "source_model = SkyModel(spatial_model = models['main source'].spatial_model ,\n",
    "                       spectral_model = model_spectrum,\n",
    "                       name = \"Source\")    \n",
    "models = Models(source_model)\n",
    "\n",
    "bkg_model = FoVBackgroundModel(dataset_name=dataset_standard.name)\n",
    "bkg_model.parameters['tilt'].frozen  = False\n",
    "models.append(bkg_model)\n",
    "dataset_standard.models = models\n",
    "\n",
    "dataset_asimov = dataset_standard.copy()\n",
    "dataset_asimov.counts = dataset_standard.npred()\n",
    "models = Models(source_model.copy())\n",
    "bkg_model = FoVBackgroundModel(dataset_name=dataset_asimov.name)\n",
    "bkg_model.parameters['tilt'].frozen  = False\n",
    "models.append(bkg_model)\n",
    "dataset_asimov.models = models\n",
    "\n",
    "    \n",
    "dataset_standard.counts.sum_over_axes().plot(add_cbar=1)\n",
    "binsize = dataset_standard.geoms[\"geom\"].width[1] / dataset_standard.geoms[\"geom\"].data_shape[1]\n",
    "print(\n",
    "    \"spatial binsize = \",\n",
    "    binsize\n",
    ")\n",
    "\n",
    "print(dataset_standard)"
   ]
  },
  {
   "cell_type": "code",
   "execution_count": 14,
   "id": "3ba045fc",
   "metadata": {},
   "outputs": [],
   "source": [
    "\n",
    "\n",
    "def compute_fraction(Ls_new, x_new,\n",
    "               y_new, threshold, plot = False):\n",
    "    tot_int = np.sum(Ls_new)\n",
    "    offset = Ls_new.min() + threshold\n",
    "    outside = Ls_new* (Ls_new < offset)\n",
    "    inside = Ls_new* (Ls_new >= offset)\n",
    "    fraction_inside = np.sum(inside)/ tot_int\n",
    "    fraction=  (tot_int - np.sum(outside))/ tot_int \n",
    "    if plot:\n",
    "        fig,ax = plt.subplots(1,1, )\n",
    "        im =ax.pcolormesh(x_new,\n",
    "               y_new,\n",
    "               Ls_new)\n",
    "        fig.colorbar(im);\n",
    "        ax.set_title(f\"frac inside : {fraction_inside * 100:.4} %\")\n",
    "\n",
    "        CS = ax.contour(x_new,\n",
    "               y_new,Ls_new, colors=('gold',), levels = [Ls_new.min() + threshold])    \n",
    "    return fraction_inside\n",
    "\n",
    "def plot_L(Ls_new, x_new, y_new, threshold, find_min = True, color = 'red'):\n",
    "    index_min, index_max,  ampli_min,  ampli_max, index_best, ampli_best = compute_errors(\n",
    "        Ls_new, x_new, y_new, threshold, find_min = find_min )\n",
    "    fig,ax = plt.subplots(1,1, )\n",
    "    im =ax.pcolormesh(x_new,\n",
    "       y_new,\n",
    "       Ls_new)\n",
    "    fig.colorbar(im);\n",
    "\n",
    "    CS = ax.contour(x_new,\n",
    "       y_new,Ls_new, colors=('gold',), levels = [ Ls_new.min() + threshold]) \n",
    "    linewidth = 2\n",
    "    ax.hlines(y = index_min, xmin = x_new[0], xmax = x_new[-1], color = color,\n",
    "             linestyle = 'dotted', linewidth = linewidth)\n",
    "    ax.hlines(y = index_max, xmin = x_new[0], xmax = x_new[-1], color = color,\n",
    "             linestyle = 'dotted', linewidth = linewidth)\n",
    "\n",
    "    ax.vlines(x = ampli_min, ymin = y_new[0], ymax = y_new[-1], color = color,\n",
    "             linestyle = 'dotted', linewidth = linewidth)\n",
    "    ax.vlines(x = ampli_max, ymin = y_new[0], ymax = y_new[-1], color = color,\n",
    "             linestyle = 'dotted', linewidth = linewidth)\n",
    "\n",
    "    ax.plot(ampli_best, index_best, 'x')\n",
    "\n",
    "    plt.ylabel(\"amplitude\")\n",
    "    plt.xlabel(\"index\")\n",
    "    return CS\n",
    "    \n",
    "    \n",
    "def compute_errors(Ls_new, x_new,\n",
    "               y_new, threshold , find_min = False):\n",
    "    tot_int = np.sum(Ls_new)\n",
    "    offset = Ls_new.min() + threshold\n",
    "    outside = Ls_new* (Ls_new < offset)\n",
    "    inside = Ls_new* (Ls_new >= offset)\n",
    "    if find_min: # find min:\n",
    "        pos = np.where(inside >= 0 )\n",
    "        ampli_best = x_new[np.where(Ls_new == Ls_new.min())[1][0]]\n",
    "        index_best = y_new[np.where(Ls_new == Ls_new.min())[0][0]]\n",
    "        \n",
    "    else:  # find max\n",
    "        pos = np.where(inside > 0 )\n",
    "        ampli_best = x_new[np.where(Ls_new == Ls_new.max())[1][0]]\n",
    "        index_best = y_new[np.where(Ls_new == Ls_new.max())[0][0]]\n",
    "        \n",
    "    delta_bin = (x_new[1] - x_new[0] )/2\n",
    "    ampli_min = x_new[np.min(pos[1])]-delta_bin\n",
    "    ampli_max = x_new[np.max(pos[1])]+delta_bin\n",
    "    ampli_best += delta_bin\n",
    "    \n",
    "    delta_bin = (y_new[1] - y_new[0] )/2\n",
    "    index_min = y_new[np.min(pos[0])]-delta_bin\n",
    "    index_max = y_new[np.max(pos[0])]+delta_bin\n",
    "    index_best += delta_bin\n",
    "    \n",
    "    print(ampli_best, index_best)\n",
    "    return index_min, index_max,  ampli_min,  ampli_max, index_best, ampli_best\n",
    "    "
   ]
  },
  {
   "cell_type": "markdown",
   "id": "256ed44a",
   "metadata": {},
   "source": [
    "## Varying the Exposure"
   ]
  },
  {
   "cell_type": "code",
   "execution_count": 15,
   "id": "260723d7",
   "metadata": {},
   "outputs": [],
   "source": [
    "savefig = False\n",
    "shift = 0.085\n",
    "tilt = 0.015\n"
   ]
  },
  {
   "cell_type": "code",
   "execution_count": 16,
   "id": "5e4d5630",
   "metadata": {},
   "outputs": [
    {
     "name": "stdout",
     "output_type": "stream",
     "text": [
      "30\n"
     ]
    }
   ],
   "source": [
    "infos = np.loadtxt(\"data/7a_P_draw_info.txt\")\n",
    "pars = np.loadtxt(\"data/7a_P_draw_par.txt\")\n",
    "flux = np.loadtxt(\"data/7a_P_draw_flux.txt\")\n",
    "flux2e = np.loadtxt(\"data/7a_P_draw_flux2e.txt\")\n",
    "\n",
    "\n",
    "lem = len(infos)\n",
    "N_max = 1000\n",
    "N = np.min([lem, N_max])\n",
    "\n",
    "print(N)\n",
    "\n",
    "shift_rnds = infos[:N_max,0]\n",
    "index_rnds = infos[:N_max,1]\n",
    "stat_sums = infos[:N_max,2]\n",
    "\n",
    "\n",
    "#amplitude', 'index', 'norm', 'tilt\n",
    "amplitudes = pars[:N_max,0:2] \n",
    "indices = pars[:N_max,2:4] \n",
    "norms = pars[:N_max,4:6]\n",
    "tilts = pars[:N_max,6:8]\n",
    "\n",
    "valuies = [norms, amplitudes, indices]\n"
   ]
  },
  {
   "cell_type": "code",
   "execution_count": 17,
   "id": "bb7b400d",
   "metadata": {},
   "outputs": [],
   "source": [
    "sys_ = sys_dataset(dataset_asimov= dataset_asimov,\n",
    "                        shift = 0, \n",
    "                        tilt = 0,\n",
    "                        rnd = False)\n",
    "dataset_asimov = sys_.create_dataset()\n",
    "dataset_asimov_N = sys_.create_dataset_N()\n",
    "sigma_a = shift\n",
    "sigma_i = tilt \n",
    "zero = 1e-24\n",
    "penalising_covmatrix = [[1/sigma_i**2, zero], [zero , 1/sigma_a**2]]\n",
    "penalising_invcovmatrix =  penalising_covmatrix\n",
    "dataset_asimov_N.penalising_invcovmatrix = penalising_invcovmatrix\n",
    "\n",
    "\n",
    "fit_cor = Fit(store_trace=False)\n",
    "result_cor = fit_cor.run([dataset_asimov])    \n",
    "result_cor = fit_cor.run([dataset_asimov_N]) \n"
   ]
  },
  {
   "cell_type": "code",
   "execution_count": 18,
   "id": "e125e4a7",
   "metadata": {},
   "outputs": [],
   "source": [
    "valuies_asimov = [[dataset_asimov.models[1].parameters['norm'].value, \n",
    "                   dataset_asimov.models[1].parameters['norm'].error],\n",
    "                  [dataset_asimov.models[0].parameters['amplitude'].value, \n",
    "                   dataset_asimov.models[0].parameters['amplitude'].error],\n",
    "                  [dataset_asimov.models[0].parameters['index'].value, \n",
    "                   dataset_asimov.models[0].parameters['index'].error],]\n",
    "\n",
    "\n",
    "valuies_asimov_N = [[dataset_asimov_N.models[1].parameters['norm'].value, \n",
    "                   dataset_asimov_N.models[1].parameters['norm'].error],\n",
    "                  [dataset_asimov_N.models[0].parameters['amplitude'].value, \n",
    "                   dataset_asimov_N.models[0].parameters['amplitude'].error],\n",
    "                  [dataset_asimov_N.models[0].parameters['index'].value, \n",
    "                   dataset_asimov_N.models[0].parameters['index'].error],]"
   ]
  },
  {
   "cell_type": "code",
   "execution_count": 19,
   "id": "807aa65d",
   "metadata": {},
   "outputs": [
    {
     "data": {
      "image/png": "[encoded data removed]",
      "text/plain": [
       "<Figure size 400x700 with 3 Axes>"
      ]
     },
     "metadata": {},
     "output_type": "display_data"
    }
   ],
   "source": [
    "fig, axs = plt.subplots(3,1, figsize = (4,7))\n",
    "xlabels = [\"Best Fit BKG Norm\", \"Best Fit Amplitude\", \"Best Fit Index\"]\n",
    "\n",
    "for i, v in enumerate(valuies):\n",
    "    axs[i].hist(v[1:,0], color ='steelblue')\n",
    "    \n",
    "    x = axs[i].get_xlim()\n",
    "    deltax = np.max([ valuies_asimov[i][0] - x[0] , x[1] - valuies_asimov[i][0] ])\n",
    "    axs[i].set_xlim(valuies_asimov[i][0] -deltax, \n",
    "                    valuies_asimov[i][0] + deltax)\n",
    "    \n",
    "plt.tight_layout()\n",
    "\n"
   ]
  },
  {
   "cell_type": "markdown",
   "id": "a8325a30",
   "metadata": {},
   "source": [
    "## Asimov Likelihood"
   ]
  },
  {
   "cell_type": "code",
   "execution_count": 22,
   "id": "9fe1619a",
   "metadata": {},
   "outputs": [
    {
     "name": "stdout",
     "output_type": "stream",
     "text": [
      "Source.spectral.amplitude_scan\n",
      "Source.spectral.index_scan\n",
      "stat_scan\n",
      "fit_results\n",
      "CPU times: user 2min 36s, sys: 235 ms, total: 2min 36s\n",
      "Wall time: 2min 36s\n"
     ]
    }
   ],
   "source": [
    "%%time\n",
    "computing = 0\n",
    "if computing:\n",
    "\n",
    "    x = dataset_asimov.models.parameters['amplitude']\n",
    "    y = dataset_asimov.models.parameters['index']\n",
    "    x.scan_n_sigma = 5\n",
    "    y.scan_n_sigma = 2\n",
    "    x.scan_n_values = 11\n",
    "    y.scan_n_values = 10\n",
    "\n",
    "    contour = fit_cor.stat_surface([dataset_asimov], x, y, reoptimize=True) \n",
    "\n",
    "    contour_write = dict()\n",
    "    for k in contour.keys():\n",
    "        print(k)\n",
    "        if k != 'fit_results':\n",
    "            contour_write[k]  = contour[k].tolist()\n",
    "            \n",
    "    with open('data/7c_contour.yml' , 'w') as outfile:\n",
    "        yaml.dump(contour_write, outfile, default_flow_style=False)\n",
    "        \n",
    "else:\n",
    "    with open('data/7c_contour.yml', 'r') as stream:\n",
    "        contour=yaml.safe_load(stream)\n",
    "        \n",
    "amplix__ = contour['Source.spectral.amplitude_scan']\n",
    "indexy__ = contour['Source.spectral.index_scan']\n",
    "N_new = 110\n",
    "N_new_y = 110\n",
    "amplix__new =  np.linspace(amplix__[0], amplix__[-1],N_new)\n",
    "indexy__new =  np.linspace(indexy__[0], indexy__[-1],N_new_y)\n",
    "\n",
    "\n",
    "f = interp2d(x = indexy__, y= amplix__, z = contour['stat_scan'], kind='cubic',fill_value = None, bounds_error = False )\n",
    "data_contour = f(indexy__new, amplix__new)\n",
    "\n"
   ]
  },
  {
   "cell_type": "code",
   "execution_count": 23,
   "id": "84bc9c61",
   "metadata": {},
   "outputs": [
    {
     "name": "stdout",
     "output_type": "stream",
     "text": [
      "min index: 2.2966027685265127\n",
      "min amplitude: 9.958796432209396e-13\n"
     ]
    },
    {
     "data": {
      "text/plain": [
       "Text(0.5, 1.0, 'Likelihood')"
      ]
     },
     "execution_count": 23,
     "metadata": {},
     "output_type": "execute_result"
    },
    {
     "data": {
      "image/png": "[encoded data removed]",
      "text/plain": [
       "<Figure size 1400x500 with 4 Axes>"
      ]
     },
     "metadata": {},
     "output_type": "display_data"
    }
   ],
   "source": [
    "fig, (ax1, ax) = plt.subplots(1,2, figsize = (14,5))\n",
    "\n",
    "\n",
    "im =ax1.pcolormesh(indexy__, amplix__, contour['stat_scan'])\n",
    "dddd = np.array(contour['stat_scan'])\n",
    "ampli_best = amplix__[np.where(dddd == dddd.min())[0][0]]\n",
    "index_best = indexy__[np.where(dddd == dddd.min())[1][0]]\n",
    "\n",
    "ax1.plot(index_best, ampli_best, 'x')\n",
    "fig.colorbar(im, ax=ax1)\n",
    "ax1.set_ylabel(\"amplitude\")\n",
    "ax1.set_xlabel(\"index\",)\n",
    "ax1.set_title(f\"Likelihood\")\n",
    "\n",
    "\n",
    "im =ax.pcolormesh(indexy__new, amplix__new, data_contour)\n",
    "dddd = np.array(data_contour)\n",
    "ampli_best = amplix__new[np.where(dddd == dddd.min())[0][0]]\n",
    "index_best = indexy__new[np.where(dddd == dddd.min())[1][0]]\n",
    "print(\"min index:\", index_best)\n",
    "print(\"min amplitude:\", ampli_best)\n",
    "\n",
    "ax.plot(index_best, ampli_best, 'x')\n",
    "fig.colorbar(im, ax=ax)\n",
    "ax.set_ylabel(\"amplitude\")\n",
    "ax.set_xlabel(\"index\",)\n",
    "ax.set_title(f\"Likelihood\")"
   ]
  },
  {
   "cell_type": "code",
   "execution_count": 24,
   "id": "bf04f863",
   "metadata": {},
   "outputs": [
    {
     "name": "stdout",
     "output_type": "stream",
     "text": [
      "2.297735179017675 1.000000000000001e-12\n",
      "2.297735179017675 1.000000000000001e-12\n"
     ]
    },
    {
     "data": {
      "image/png": "[encoded data removed]",
      "text/plain": [
       "<Figure size 640x480 with 2 Axes>"
      ]
     },
     "metadata": {},
     "output_type": "display_data"
    }
   ],
   "source": [
    "threshold_contour = 1\n",
    "ampli_min_asimov,  ampli_max_asimov, index_min_asimov, index_max_asimov,  ampli_best_asimov, index_best_asimov = compute_errors(\n",
    "    data_contour, indexy__new, amplix__new,  threshold_contour, find_min = True)\n",
    "\n",
    "CS= plot_L(data_contour, indexy__new, amplix__new,  threshold_contour,\n",
    "      find_min = True, color = 'red')\n",
    "\n",
    "dat= CS.allsegs[0][0]"
   ]
  },
  {
   "cell_type": "markdown",
   "id": "c024b71b",
   "metadata": {},
   "source": [
    "## Asimov Likelihood N"
   ]
  },
  {
   "cell_type": "code",
   "execution_count": 25,
   "id": "8f7d22bb",
   "metadata": {},
   "outputs": [
    {
     "name": "stdout",
     "output_type": "stream",
     "text": [
      "Source.spectral.amplitude_scan\n",
      "Source.spectral.index_scan\n",
      "stat_scan\n",
      "fit_results\n"
     ]
    },
    {
     "ename": "KeyError",
     "evalue": "'SourceN.spectral.amplitude_scan'",
     "output_type": "error",
     "traceback": [
      "\u001b[0;31m---------------------------------------------------------------------------\u001b[0m",
      "\u001b[0;31mKeyError\u001b[0m                                  Traceback (most recent call last)",
      "File \u001b[0;32m<timed exec>:25\u001b[0m\n",
      "\u001b[0;31mKeyError\u001b[0m: 'SourceN.spectral.amplitude_scan'"
     ]
    }
   ],
   "source": [
    "%%time\n",
    "if computing:\n",
    "    x_N = dataset_asimov_N.models.parameters['amplitude']\n",
    "    y_N = dataset_asimov_N.models.parameters['index']\n",
    "\n",
    "    x_N.scan_values = x.scan_values\n",
    "    y_N.scan_values = y.scan_values\n",
    "\n",
    "    contour_N = fit_cor.stat_surface([dataset_asimov_N], x_N, y_N, reoptimize=True ) \n",
    "\n",
    "\n",
    "    contour_write = dict()\n",
    "    for k in contour_N.keys():\n",
    "        print(k)\n",
    "        if k != 'fit_results':\n",
    "            contour_write[k]  = contour_N[k].tolist()\n",
    "            \n",
    "    with open('data/7c_contour_N.yml' , 'w') as outfile:\n",
    "        yaml.dump(contour_write, outfile, default_flow_style=False)\n",
    "        \n",
    "else:\n",
    "    with open('data/7c_contour_N.yml', 'r') as stream:\n",
    "        contour_N=yaml.safe_load(stream)\n",
    "        \n",
    "\n",
    "amplix___N = contour_N['SourceN.spectral.amplitude_scan']\n",
    "indexy___N = contour_N['SourceN.spectral.index_scan']\n",
    "amplix__new_N =  np.linspace(amplix___N[0], amplix___N[-1],N_new)\n",
    "indexy__new_N =  np.linspace(indexy___N[0], indexy___N[-1],N_new_y)    \n",
    "        \n",
    "\n",
    "f = interp2d(x = indexy___N, y= amplix___N, z = contour_N['stat_scan'], kind='cubic',fill_value = None, bounds_error = False )\n",
    "data_contour_N = f(indexy__new_N, amplix__new_N)"
   ]
  },
  {
   "cell_type": "code",
   "execution_count": 26,
   "id": "621e0e5e",
   "metadata": {},
   "outputs": [
    {
     "ename": "NameError",
     "evalue": "name 'indexy___N' is not defined",
     "output_type": "error",
     "traceback": [
      "\u001b[0;31m---------------------------------------------------------------------------\u001b[0m",
      "\u001b[0;31mNameError\u001b[0m                                 Traceback (most recent call last)",
      "Cell \u001b[0;32mIn[26], line 3\u001b[0m\n\u001b[1;32m      1\u001b[0m fig, (ax1, ax) \u001b[38;5;241m=\u001b[39m plt\u001b[38;5;241m.\u001b[39msubplots(\u001b[38;5;241m1\u001b[39m,\u001b[38;5;241m2\u001b[39m, figsize \u001b[38;5;241m=\u001b[39m (\u001b[38;5;241m14\u001b[39m,\u001b[38;5;241m5\u001b[39m))\n\u001b[0;32m----> 3\u001b[0m im \u001b[38;5;241m=\u001b[39max1\u001b[38;5;241m.\u001b[39mpcolormesh(\u001b[43mindexy___N\u001b[49m, amplix___N, contour_N[\u001b[38;5;124m'\u001b[39m\u001b[38;5;124mstat_scan\u001b[39m\u001b[38;5;124m'\u001b[39m])\n\u001b[1;32m      4\u001b[0m dddd \u001b[38;5;241m=\u001b[39m np\u001b[38;5;241m.\u001b[39marray(contour_N[\u001b[38;5;124m'\u001b[39m\u001b[38;5;124mstat_scan\u001b[39m\u001b[38;5;124m'\u001b[39m])\n\u001b[1;32m      5\u001b[0m ampli_best_N \u001b[38;5;241m=\u001b[39m amplix___N[np\u001b[38;5;241m.\u001b[39mwhere(dddd \u001b[38;5;241m==\u001b[39m dddd\u001b[38;5;241m.\u001b[39mmin())[\u001b[38;5;241m0\u001b[39m][\u001b[38;5;241m0\u001b[39m]]\n",
      "\u001b[0;31mNameError\u001b[0m: name 'indexy___N' is not defined"
     ]
    },
    {
     "data": {
      "image/png": "[encoded data removed]",
      "text/plain": [
       "<Figure size 1400x500 with 2 Axes>"
      ]
     },
     "metadata": {},
     "output_type": "display_data"
    }
   ],
   "source": [
    "fig, (ax1, ax) = plt.subplots(1,2, figsize = (14,5))\n",
    "\n",
    "im =ax1.pcolormesh(indexy___N, amplix___N, contour_N['stat_scan'])\n",
    "dddd = np.array(contour_N['stat_scan'])\n",
    "ampli_best_N = amplix___N[np.where(dddd == dddd.min())[0][0]]\n",
    "index_best_N = indexy___N[np.where(dddd == dddd.min())[1][0]]\n",
    "\n",
    "ax1.plot(index_best_N, ampli_best_N, 'x')\n",
    "fig.colorbar(im, ax=ax1)\n",
    "ax1.set_ylabel(\"amplitude\")\n",
    "ax1.set_xlabel(\"index\",)\n",
    "ax1.set_title(f\"Likelihood\")\n",
    "\n",
    "\n",
    "im =ax.pcolormesh(indexy__new_N, amplix__new_N, data_contour_N)\n",
    "dddd = np.array(data_contour_N)\n",
    "ampli_best_N = amplix__new_N[np.where(dddd == dddd.min())[0][0]]\n",
    "index_best_N = indexy__new_N[np.where(dddd == dddd.min())[1][0]]\n",
    "print(\"min index:\", index_best_N)\n",
    "print(\"min amplitude:\", ampli_best_N)\n",
    "\n",
    "ax.plot(index_best_N, ampli_best_N, 'x')\n",
    "fig.colorbar(im, ax=ax)\n",
    "ax.set_ylabel(\"amplitude\")\n",
    "ax.set_xlabel(\"index\",)\n",
    "ax.set_title(f\"Likelihood\")"
   ]
  },
  {
   "cell_type": "code",
   "execution_count": null,
   "id": "48ccfb34",
   "metadata": {},
   "outputs": [],
   "source": [
    "ampli_min_asimov_N,  ampli_max_asimov_N, index_min_asimov_N, index_max_asimov_N, ampli_best_asimov_N, index_best_asimov_N = compute_errors(\n",
    "    data_contour_N, indexy__new_N, amplix__new_N,  threshold_contour, find_min = True)\n",
    "\n",
    "CS_N= plot_L(data_contour_N, indexy__new_N, amplix__new_N,  threshold_contour,\n",
    "      find_min = True, color = 'green')\n",
    "\n",
    "dat_N = CS_N.allsegs[0][0]\n",
    "plt.plot(dat[:,0],dat[:,1], color = 'red')\n",
    "plt.plot(index_best_asimov_N, ampli_best_asimov_N, 'x', color = 'green')\n",
    "plt.plot(index_best_asimov, ampli_best_asimov, 'x', color = 'red')"
   ]
  },
  {
   "cell_type": "markdown",
   "id": "584db5f7",
   "metadata": {},
   "source": [
    "## Compute fraction of within"
   ]
  },
  {
   "cell_type": "code",
   "execution_count": null,
   "id": "fd2c8b9a",
   "metadata": {},
   "outputs": [],
   "source": [
    "def fraction_within(lower_lim, upper_lim, data):\n",
    "    is_within = []\n",
    "    for d in data:\n",
    "        larger = np.all(d[0] >= lower_lim )\n",
    "        smaller = np.all(d[0] <= upper_lim)\n",
    "        is_within.append(larger and smaller)\n",
    "        \n",
    "    return (np.count_nonzero(is_within) / len(data))\n",
    "    "
   ]
  },
  {
   "cell_type": "code",
   "execution_count": null,
   "id": "84502f53",
   "metadata": {},
   "outputs": [],
   "source": [
    "# std best fit, nui best fit, ... \n",
    "within_norm = [fraction_within(valuies_asimov[0][0] - valuies_asimov[0][1],\n",
    "                               valuies_asimov[0][0] +  valuies_asimov[0][1],\n",
    "                               norms\n",
    "                              ),\n",
    "               fraction_within(valuies_asimov_N[0][0] - valuies_asimov_N[0][1],\n",
    "                               valuies_asimov_N[0][0] + valuies_asimov_N[0][1],\n",
    "                               norms\n",
    "                              ),\n",
    "               0., 0.,\n",
    "              ]\n",
    "\n",
    "within_amplitude = [fraction_within(valuies_asimov[1][0] - valuies_asimov[1][1],\n",
    "                               valuies_asimov[1][0] +  valuies_asimov[1][1],\n",
    "                               amplitudes\n",
    "                              ),\n",
    "               fraction_within(valuies_asimov_N[1][0] - valuies_asimov_N[1][1],\n",
    "                               valuies_asimov_N[1][0] + valuies_asimov_N[1][1],\n",
    "                               amplitudes\n",
    "                              ),\n",
    "               fraction_within(ampli_min_asimov,\n",
    "                               ampli_max_asimov,\n",
    "                               amplitudes\n",
    "                              ),\n",
    "                fraction_within(ampli_min_asimov_N,\n",
    "                               ampli_max_asimov_N,\n",
    "                               amplitudes\n",
    "                              ),\n",
    "                ]\n",
    "\n",
    "within_index = [fraction_within(valuies_asimov[2][0] - valuies_asimov[2][1],\n",
    "                               valuies_asimov[2][0] +  valuies_asimov[2][1],\n",
    "                               indices\n",
    "                              ),\n",
    "               fraction_within(valuies_asimov_N[2][0] - valuies_asimov_N[2][1],\n",
    "                               valuies_asimov_N[2][0] + valuies_asimov_N[2][1],\n",
    "                               indices\n",
    "                              ),\n",
    "                fraction_within(index_min_asimov,\n",
    "                               index_max_asimov,\n",
    "                               indices\n",
    "                              ),\n",
    "                fraction_within(index_min_asimov_N,\n",
    "                               index_max_asimov_N,\n",
    "                               indices\n",
    "                              ),]\n",
    "\n",
    "withins = [within_norm, \n",
    "          within_amplitude,\n",
    "          within_index]\n",
    "print(withins)"
   ]
  },
  {
   "cell_type": "code",
   "execution_count": null,
   "id": "c7508071",
   "metadata": {},
   "outputs": [],
   "source": [
    "fig, axs = plt.subplots(3,1, figsize = (4,7))\n",
    "xlabels = [\"Best Fit BKG Norm\", \"Best Fit Amplitude\", \"Best Fit Index\"]\n",
    "legends = [\"Nuisance\",'Standard',   ]\n",
    "\n",
    "for i, v in enumerate(valuies):\n",
    "    print(i, xlabels[i])\n",
    "    axs[i].hist(v[1:,0], color ='steelblue', alpha = 0.8)\n",
    "    ylim = axs[i].get_ylim()\n",
    "    delta_ylim = 5\n",
    "    \n",
    "    axs[i].vlines(valuies_asimov_N[i][0], ylim[0], ylim[1]+ delta_ylim, color = 'green', \n",
    "                 linestyle= 'dashed', )\n",
    "    axs[i].fill_between([valuies_asimov_N[i][0] - valuies_asimov_N[i][1],\n",
    "                         valuies_asimov_N[i][0] + valuies_asimov_N[i][1]]\n",
    "                        , ylim[0], ylim[1]+ delta_ylim,\n",
    "                       alpha = 0.3, color = 'green', \n",
    "                        label = legends[0] + f' \\n({withins[i][1]*100 :.3}%)')\n",
    "    axs[i].vlines(valuies_asimov[i][0], ylim[0], ylim[1], color = 'red')\n",
    "    axs[i].fill_between([valuies_asimov[i][0] - valuies_asimov[i][1],\n",
    "                         valuies_asimov[i][0] + valuies_asimov[i][1]]\n",
    "                        , ylim[0], ylim[1],\n",
    "                       alpha = 0.4 , color = 'red', \n",
    "                        label = legends[1] +  f' \\n({withins[i][0]*100 :.3}%)'  )\n",
    "    \n",
    "    axs[i].set_xlabel(xlabels[i])  \n",
    "    \n",
    "    \n",
    "    x = axs[i].get_xlim()\n",
    "    deltax = np.max([ valuies_asimov[i][0] - x[0] , x[1] - valuies_asimov[i][0] ])\n",
    "    axs[i].set_xlim(valuies_asimov[i][0] -deltax, \n",
    "                    valuies_asimov[i][0] + deltax)\n",
    "    \n",
    "ylim = axs[1].get_ylim()\n",
    "delta_ylim = 9  \n",
    "axs[1].vlines(ampli_min_asimov_N, ylim[0], ylim[1]+delta_ylim, color = 'green',  linestyle = 'dashed') \n",
    "axs[1].vlines(ampli_max_asimov_N, ylim[0], ylim[1]+delta_ylim, color = 'green',  linestyle = 'dashed',\n",
    "             label=f'({withins[1][3]*100:.3} %)')    \n",
    "axs[1].vlines(ampli_best_asimov_N, ylim[0], ylim[1]+delta_ylim, color = 'green',\n",
    "              linestyle = 'dotted')\n",
    "\n",
    "delta_ylim = 2\n",
    "axs[1].vlines(ampli_min_asimov, ylim[0], ylim[1]+delta_ylim, color = 'red',  linestyle = 'dashed') \n",
    "axs[1].vlines(ampli_max_asimov, ylim[0], ylim[1]+delta_ylim, color = 'red',  linestyle = 'dashed',\n",
    "             label=f'({withins[1][2]*100:.3} %)')    \n",
    "axs[1].vlines(ampli_best_asimov, ylim[0], ylim[1]+delta_ylim, color = 'red',\n",
    "              linestyle = 'dotted')\n",
    "\n",
    "ylim = axs[2].get_ylim()\n",
    "delta_ylim = 9\n",
    "\n",
    "axs[2].vlines(index_min_asimov_N, ylim[0], ylim[1]+delta_ylim, color = 'green', linestyle = 'dashed') \n",
    "axs[2].vlines(index_max_asimov_N, ylim[0], ylim[1]+delta_ylim, color = 'green', linestyle = 'dashed',\n",
    "             label=f'({withins[2][3]*100:.3} %)')   \n",
    "axs[2].vlines(index_best_asimov_N, ylim[0], ylim[1]+delta_ylim, color = 'green',\n",
    "              linestyle = 'dotted')\n",
    "delta_ylim = 2\n",
    "axs[2].vlines(index_min_asimov, ylim[0], ylim[1]+delta_ylim, color = 'red', linestyle = 'dashed') \n",
    "axs[2].vlines(index_max_asimov, ylim[0], ylim[1]+delta_ylim, color = 'red', linestyle = 'dashed',\n",
    "             label=f'({withins[2][2]*100:.3} %)') \n",
    "axs[2].vlines(index_best_asimov, ylim[0], ylim[1]+delta_ylim, color = 'red',\n",
    "              linestyle = 'dotted')\n",
    "plt.tight_layout()\n",
    "for a in axs:\n",
    "    a.legend(title=\"1$\\sigma$ eror\",loc='center left', bbox_to_anchor=(1, 0.5))\n",
    "\n"
   ]
  },
  {
   "cell_type": "markdown",
   "id": "736a12dd",
   "metadata": {},
   "source": [
    "## 2D Histograms Poission"
   ]
  },
  {
   "cell_type": "code",
   "execution_count": null,
   "id": "f37ec96a",
   "metadata": {},
   "outputs": [],
   "source": [
    "N_bins = N_new + 1\n",
    "amplitude_bin = np.linspace(amplix__new_N[0], amplix__new_N[-1], N_bins )\n",
    "index_bin = np.linspace(indexy__new_N[0], indexy__new_N[-1], N_bins )\n",
    "\n",
    "amplitudes_data = valuies[1][:,0]\n",
    "indices_data = valuies[2][:,0]\n",
    "data_N_new, (abins, ibins) = np.histogramdd((amplitudes_data, indices_data), (amplitude_bin, index_bin))\n",
    "\n",
    "fig, ax = plt.subplots()\n",
    "im =ax.pcolormesh(ibins, \n",
    "           abins,\n",
    "           data_N_new)\n",
    "\n",
    "fig.colorbar(im, ax=ax)\n",
    "ax.plot(index_best_N, ampli_best_N, 'x', color = 'green')\n",
    "ax.plot(index_best, ampli_best, 'x', color = 'red')\n",
    "\n",
    "ax.set_ylabel(\"Amplitudes\")\n",
    "ax.set_xlabel(\"Indices\")\n",
    "plt.plot(dat[:,0],dat[:,1], color = 'red')\n",
    "plt.plot(dat_N[:,0],dat_N[:,1], color = 'green')"
   ]
  },
  {
   "cell_type": "code",
   "execution_count": null,
   "id": "c74fb32a",
   "metadata": {},
   "outputs": [],
   "source": [
    "def compute_inside(Ls_new, x_new,\n",
    "               y_new, threshold,  find_min = False,  delta=1\n",
    "                 ):\n",
    "    tot_int = np.sum(Ls_new)\n",
    "    offset = Ls_new.min() + threshold\n",
    "    outside = Ls_new* (Ls_new < offset)\n",
    "    inside = Ls_new* (Ls_new >= offset)\n",
    "\n",
    "    return outside\n",
    "    "
   ]
  },
  {
   "cell_type": "code",
   "execution_count": null,
   "id": "58d84ebd",
   "metadata": {},
   "outputs": [],
   "source": [
    "threshold_contour = 1\n",
    "outside_N = compute_inside(\n",
    "    data_contour_N, amplix__new_N,\n",
    "           indexy__new_N,  threshold_contour,  find_min = True, delta =1 )\n",
    "\n",
    "outside = compute_inside(\n",
    "    data_contour, amplix__new_N,\n",
    "           indexy__new_N, threshold_contour,  find_min = True, delta =1 )\n",
    "\n",
    "outside_N = outside_N <-1.0\n",
    "outside = outside <-1.0\n",
    "\n"
   ]
  },
  {
   "cell_type": "code",
   "execution_count": null,
   "id": "f957e8e7",
   "metadata": {},
   "outputs": [],
   "source": [
    "masked_N =  data_N_new * outside_N\n",
    "masked =  data_N_new * outside\n",
    "\n",
    "fig, (ax, ax2) = plt.subplots(1,2, figsize = (11,4))\n",
    "im =ax.pcolormesh(indexy__new_N,\n",
    "           amplix__new_N, masked)\n",
    "\n",
    "fig.colorbar(im, ax=ax)\n",
    "im =ax2.pcolormesh(indexy__new_N,\n",
    "           amplix__new_N, masked_N)\n",
    "\n",
    "fig.colorbar(im, ax=ax2)\n",
    "for a in [ax, ax2]:\n",
    "    a.set_ylabel(\"amplitude\")\n",
    "    a.set_xlabel(\"index\",)\n",
    "    a.plot(dat[:,0],dat[:,1], color = 'red')\n",
    "    a.plot(dat_N[:,0],dat_N[:,1], color = 'green')\n",
    "\n",
    "fraction_within_2d_N = np.sum(masked_N) /  np.sum(data_N_new)\n",
    "fraction_within_2d = np.sum(masked) /  np.sum(data_N_new)\n",
    "\n",
    "ax2.set_title(f\"Likelihood Nuisance: {fraction_within_2d_N:.3}\")\n",
    "ax.set_title(f\"Likelihood {fraction_within_2d:.3}\")"
   ]
  }
 ],
 "metadata": {
  "kernelspec": {
   "display_name": "Python 3 (ipykernel)",
   "language": "python",
   "name": "python3"
  },
  "language_info": {
   "codemirror_mode": {
    "name": "ipython",
    "version": 3
   },
   "file_extension": ".py",
   "mimetype": "text/x-python",
   "name": "python",
   "nbconvert_exporter": "python",
   "pygments_lexer": "ipython3",
   "version": "3.8.15"
  },
  "varInspector": {
   "cols": {
    "lenName": 16,
    "lenType": 16,
    "lenVar": 40
   },
   "kernels_config": {
    "python": {
     "delete_cmd_postfix": "",
     "delete_cmd_prefix": "del ",
     "library": "var_list.py",
     "varRefreshCmd": "print(var_dic_list())"
    },
    "r": {
     "delete_cmd_postfix": ") ",
     "delete_cmd_prefix": "rm(",
     "library": "var_list.r",
     "varRefreshCmd": "cat(var_dic_list()) "
    }
   },
   "types_to_exclude": [
    "module",
    "function",
    "builtin_function_or_method",
    "instance",
    "_Feature"
   ],
   "window_display": false
  }
 },
 "nbformat": 4,
 "nbformat_minor": 5
}
