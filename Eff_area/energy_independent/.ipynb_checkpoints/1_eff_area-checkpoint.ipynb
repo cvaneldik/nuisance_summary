{
 "cells": [
  {
   "cell_type": "code",
   "execution_count": 1,
   "id": "c102068e",
   "metadata": {},
   "outputs": [
    {
     "name": "stdout",
     "output_type": "stream",
     "text": [
      "loaded gammapy version: 0.1.dev19056+g5a5f803 \n",
      "Supposed to be 1.0 (21-12-2022)\n"
     ]
    }
   ],
   "source": [
    "import gammapy \n",
    "print(f'loaded gammapy version: {gammapy.__version__} ' )\n",
    "print(f'Supposed to be 1.0 (21-12-2022)' )"
   ]
  },
  {
   "cell_type": "code",
   "execution_count": 4,
   "id": "e0c4dcf1",
   "metadata": {
    "execution": {
     "iopub.execute_input": "2022-03-17T11:24:36.091662Z",
     "iopub.status.busy": "2022-03-17T11:24:36.091167Z",
     "iopub.status.idle": "2022-03-17T11:25:00.872876Z",
     "shell.execute_reply": "2022-03-17T11:25:00.871690Z"
    }
   },
   "outputs": [],
   "source": [
    "#get_ipython().system('jupyter nbconvert --to script 1-Nui_Par_Fitting.ipynb')\n",
    "import pyximport\n",
    "\n",
    "pyximport.install()\n",
    "import matplotlib.pyplot as plt\n",
    "import numpy as np\n",
    "import astropy.units as u\n",
    "import gammapy\n",
    "\n",
    "# from gammapy.datasets import MapDataset\n",
    "from gammapy.maps import Map\n",
    "from astropy.coordinates import SkyCoord, Angle\n",
    "from gammapy.modeling import Fit, Parameter, Parameters, Covariance\n",
    "from gammapy.datasets import MapDataset #, MapDatasetNuisance\n",
    "from gammapy.modeling.models import (\n",
    "    PowerLawSpectralModel,\n",
    "    create_crab_spectral_model,\n",
    "    SkyModel,\n",
    "    PointSpatialModel,\n",
    "    ShellSpatialModel,\n",
    "    GeneralizedGaussianSpatialModel,\n",
    "    TemplateSpatialModel,\n",
    "    LogParabolaSpectralModel,\n",
    "    GaussianSpatialModel,\n",
    "    DiskSpatialModel,\n",
    "    PowerLawNormSpectralModel,\n",
    "    Models,\n",
    "    SpatialModel,\n",
    "    FoVBackgroundModel,\n",
    ")\n",
    "from gammapy.estimators import TSMapEstimator, ExcessMapEstimator\n",
    "\n",
    "from regions import CircleSkyRegion, RectangleSkyRegion\n",
    "import yaml\n",
    "import sys\n",
    "sys.path.append('../../')\n",
    "from Dataset_Creation import sys_dataset\n",
    "import Dataset_load"
   ]
  },
  {
   "cell_type": "code",
   "execution_count": 6,
   "id": "d7f3e0ff",
   "metadata": {},
   "outputs": [],
   "source": [
    "dataset_standard  = Dataset_load.create_asimov()"
   ]
  },
  {
   "cell_type": "markdown",
   "id": "23adcef0",
   "metadata": {},
   "source": [
    "## Read dataset"
   ]
  },
  {
   "cell_type": "markdown",
   "id": "256ed44a",
   "metadata": {},
   "source": [
    "## Varying the Exposure"
   ]
  },
  {
   "cell_type": "code",
   "execution_count": null,
   "id": "260723d7",
   "metadata": {},
   "outputs": [],
   "source": [
    "factor_neg = -0.1\n",
    "factor_pos = +0.1"
   ]
  },
  {
   "cell_type": "code",
   "execution_count": null,
   "id": "97a4be18",
   "metadata": {},
   "outputs": [],
   "source": [
    "sys_d_cor = sys_dataset(dataset_asimov, 0, False)\n",
    "dataset_cor = sys_d_cor.create_dataset()\n",
    "\n",
    "sys_d_neg = sys_dataset(dataset_asimov, factor_neg, False)\n",
    "dataset_neg = sys_d_neg.create_dataset()\n",
    "\n",
    "sys_d_pos = sys_dataset(dataset_asimov, factor_pos, False)\n",
    "dataset_pos = sys_d_pos.create_dataset()\n",
    "\n"
   ]
  },
  {
   "cell_type": "code",
   "execution_count": null,
   "id": "d127a8d6",
   "metadata": {},
   "outputs": [],
   "source": [
    "fig,ax = plt.subplots(2,1)\n",
    "\n",
    "true_energy = dataset_cor.exposure.geom.axes[0].center.value\n",
    "exposure_e = dataset_cor.exposure.data.sum(axis =2).sum(axis =1)\n",
    "\n",
    "ax[0].plot(true_energy, exposure_e, label = \"True Exposure\")\n",
    "ax[0].plot(true_energy, dataset_neg.exposure.data.sum(axis =2).sum(axis =1),\n",
    "           label = \"Exposure {:.3} % Sys\".format(factor_neg *100))\n",
    "ax[0].plot(true_energy, dataset_pos.exposure.data.sum(axis =2).sum(axis =1), \n",
    "           label = \"Exposure {:.4} % Sys\".format(factor_pos * 100))\n",
    "\n",
    "ax[0].set_yscale('log')\n",
    "ax[0].set_xscale('log')\n",
    "ax[0].set_xlabel(\"\")\n",
    "ax[0].set_ylabel(f\"Eff. Area * Livetime [{dataset_standard.exposure.unit}]\")\n",
    "ax[0].legend()\n",
    "\n",
    "ax[1].plot(true_energy, exposure_e/exposure_e, label = \"True Exposure\")\n",
    "ax[1].plot(true_energy, (dataset_neg.exposure.data.sum(axis =2).sum(axis =1))/exposure_e,\n",
    "           label = \"Exposure {:.3} % Sys\".format(factor_neg *100))\n",
    "ax[1].plot(true_energy, (dataset_pos.exposure.data.sum(axis =2).sum(axis =1))/ exposure_e, \n",
    "           label = \"Exposure {:.4} % Sys\".format(factor_pos * 100))\n",
    "\n",
    "#ax[1].set_yscale('log')\n",
    "ax[1].set_xscale('log')\n",
    "ax[1].set_xlabel(\"True energy [TeV]\")\n",
    "ax[1].set_ylabel(f\"Realitve Exposure \")\n",
    "ax[1].legend()\n",
    "\n",
    "fig.savefig(\"plots/1_exposure_example.pdf\")"
   ]
  },
  {
   "cell_type": "code",
   "execution_count": null,
   "id": "be102531",
   "metadata": {},
   "outputs": [],
   "source": [
    "energy_bounds = energy_bounds =(true_energy[0], true_energy[-1] ) * u.TeV\n",
    "\n",
    "npred = dataset_cor.npred_signal().data.sum(axis = 2).sum(axis= 1)\n",
    "npred_neg = dataset_neg.npred_signal().data.sum(axis = 2).sum(axis= 1)\n",
    "npred_pos = dataset_pos.npred_signal().data.sum(axis = 2).sum(axis= 1)\n",
    "\n",
    "\n",
    "plt.plot(true_energy, npred, label = \"Model \")\n",
    "plt.plot(true_energy, npred_neg, label = \"Model {:.3} % Sys\".format(factor_neg *100))\n",
    "plt.plot(true_energy, npred_pos, label = \"Model {:.4} % Sys\".format(factor_pos * 100))\n",
    "\n",
    "         \n",
    "plt.loglog()\n",
    "plt.legend()\n",
    "plt.xlabel(\"Energy [TeV]\")\n",
    "plt.ylabel(\"Predicted Counts\")\n",
    "\n",
    "fig = plt.gcf()\n",
    "fig.savefig(\"plots/1_counts.pdf\")"
   ]
  },
  {
   "cell_type": "code",
   "execution_count": null,
   "id": "986319a6",
   "metadata": {},
   "outputs": [],
   "source": [
    "energy_bounds = energy_bounds =(true_energy[0], true_energy[-1] ) * u.TeV\n",
    "#dataset_cor.models['Source'].spectral_model.plot(energy_bounds, label = \"Spectrum\")\n",
    "#dataset_neg.models['Source'].spectral_model.plot(energy_bounds, label = \"\")\n",
    "#dataset_pos.models['Source'].spectral_model.plot(energy_bounds, label = \"\")\n",
    "dataset_standard.models['Source'].spectral_model.plot(energy_bounds, energy_power = 2,\n",
    "                                label = \"Input\", color = 'black', linewidth = 3, linestyle ='dotted')\n",
    "plt.title(\"Input Model Spectrum\")\n",
    "plt.legend()"
   ]
  },
  {
   "cell_type": "code",
   "execution_count": null,
   "id": "d2b2cfa4",
   "metadata": {},
   "outputs": [],
   "source": [
    "estimator = ExcessMapEstimator(\n",
    "    correlation_radius=f\"0.2 deg\",\n",
    "    energy_edges=dataset_cor.counts.geom.axes['energy'].edges[10:14])\n",
    "result = estimator.run(dataset_cor)\n",
    "result[\"sqrt_ts\"].plot_grid(cmap=\"coolwarm\", add_cbar=True, vmin=-5, vmax=5,);"
   ]
  },
  {
   "cell_type": "code",
   "execution_count": null,
   "id": "3a755f57",
   "metadata": {},
   "outputs": [],
   "source": [
    "result = estimator.run(dataset_neg)\n",
    "result[\"sqrt_ts\"].plot_grid(cmap=\"coolwarm\", add_cbar=True, vmin=-5, vmax=5,);"
   ]
  },
  {
   "cell_type": "code",
   "execution_count": null,
   "id": "cd9472c2",
   "metadata": {},
   "outputs": [],
   "source": [
    "result = estimator.run(dataset_pos)\n",
    "result[\"sqrt_ts\"].plot_grid(cmap=\"coolwarm\", add_cbar=True, vmin=-5, vmax=5,);"
   ]
  },
  {
   "cell_type": "code",
   "execution_count": null,
   "id": "c2d9689e",
   "metadata": {},
   "outputs": [],
   "source": [
    "%%time\n",
    "fit_cor = Fit(store_trace=False)\n",
    "result_cor = fit_cor.run([dataset_cor])\n",
    "fit_neg = Fit(store_trace=False)\n",
    "result_neg = fit_neg.run([dataset_neg])\n",
    "fit_pos = Fit(store_trace=False)\n",
    "result_pos = fit_pos.run([dataset_pos])"
   ]
  },
  {
   "cell_type": "code",
   "execution_count": null,
   "id": "d0ce6e9c",
   "metadata": {},
   "outputs": [],
   "source": [
    "datasets_short = [dataset_neg, dataset_cor, dataset_pos]\n",
    "print(\"best fit amplitude\")\n",
    "amplitudes = []\n",
    "m = dataset_standard.models['Source']\n",
    "value = m.parameters['amplitude'].value \n",
    "error = m.parameters['amplitude'].error\n",
    "amplitudes.append((value, error))\n",
    "print('====')\n",
    "print('Input')\n",
    "print(f'{value} pm {error}')\n",
    "print('====')\n",
    "for d in datasets_short:\n",
    "    m = d.models['Source']\n",
    "    value = m.parameters['amplitude'].value \n",
    "    error = m.parameters['amplitude'].error\n",
    "    amplitudes.append((value, error))\n",
    "    print(f'{value} pm {error}')\n",
    "print()\n",
    "print(\"best fit Index\")\n",
    "indices = []\n",
    "m = dataset_standard.models['Source']\n",
    "value = m.parameters['index'].value \n",
    "error = m.parameters['index'].error\n",
    "indices.append((value, error))\n",
    "print('====')\n",
    "print('Input')\n",
    "print(f'{value} pm {error}')\n",
    "print('====')\n",
    "for d in datasets_short:\n",
    "    m = d.models['Source']\n",
    "    value = m.parameters['index'].value \n",
    "    error = m.parameters['index'].error\n",
    "    indices.append((value, error))\n",
    "    print(f'{value} pm {error}')\n",
    "print()\n",
    "\n",
    "print(\"Best Fit bkg Norm\")\n",
    "norms = []\n",
    "value = dataset_standard.background_model.parameters['norm'].value \n",
    "error = dataset_standard.background_model.parameters['norm'].error\n",
    "norms.append((value, error))\n",
    "print('====')\n",
    "print('Input')\n",
    "print(f'{value} pm {error}')\n",
    "print('====')\n",
    "for d in datasets_short:\n",
    "    value = d.background_model.parameters['norm'].value \n",
    "    error = d.background_model.parameters['norm'].error\n",
    "    print(f'{value} pm {error}')\n",
    "    norms.append((value, error))\n",
    "    \n",
    "    \n",
    "    \n",
    "with open('data/1_norms.yaml', 'w') as file:\n",
    "    documents = yaml.dump(norms, file)\n",
    "with open('data/1_amplitudes.yaml', 'w') as file:\n",
    "    documents = yaml.dump(amplitudes, file)\n",
    "with open('data/1_indices.yaml', 'w') as file:\n",
    "    documents = yaml.dump(indices, file)\n",
    "    \n",
    "dataset_neg.models.write(\"data/1_model_neg.yml\", overwrite= True)\n",
    "dataset_pos.models.write(\"data/1_model_pos.yml\", overwrite= True)\n",
    "dataset_cor.models.write(\"data/1_model_cor.yml\", overwrite= True)"
   ]
  },
  {
   "cell_type": "code",
   "execution_count": null,
   "id": "30259f14",
   "metadata": {},
   "outputs": [],
   "source": [
    "fig, axs = plt.subplots(3,1)\n",
    "\n",
    "axs[0].set_title(\"BKG Norm\")\n",
    "axs[1].set_title(\"Signal Amplitude\")\n",
    "axs[2].set_title(\"Signal Index\")\n",
    "\n",
    "\n",
    "labels = [ '-10%', '0%', '10%']\n",
    "\n",
    "for i, a in enumerate(norms[1:]):\n",
    "    axs[0].errorbar(x= i+1, y = a[0], yerr = a[1], fmt= 'o', color =  'red',markersize=7)\n",
    "axs[0].hlines( norms[0][0], 1, 3, label = \"input\")\n",
    "\n",
    "for i, a in enumerate(amplitudes[1:]):\n",
    "    axs[1].errorbar(x= i+1, y = a[0], yerr = a[1], fmt= 'o', color =  'red',markersize=7)\n",
    "axs[1].hlines( amplitudes[0][0], 1, 3, label = \"input\")\n",
    "\n",
    "for i, a in enumerate(indices[1:]):\n",
    "    axs[2].errorbar(x= i+1, y = a[0], yerr = a[1], fmt= 'o', color =  'red',markersize=7)\n",
    "axs[2].hlines( indices[0][0], 1, 3, label = \"input\")\n",
    "\n",
    "plt.tight_layout()\n",
    "for a in axs:\n",
    "    a.legend(); \n",
    "    a.set_ylabel('Best Fit'); \n",
    "    a.set_xlabel('Systematic'); \n",
    "    a.set_xticks(np.arange(3)+1,labels)\n",
    "\n",
    "plt.tight_layout()    \n",
    "fig.savefig(\"plots/1_best_fit_parameters_standard.pdf\")   \n"
   ]
  },
  {
   "cell_type": "code",
   "execution_count": null,
   "id": "1f29c74f",
   "metadata": {},
   "outputs": [],
   "source": [
    "energy_bounds = (true_energy[0], true_energy[-1] ) * u.TeV\n",
    "\n",
    "fig,axs = plt.subplots(1,3, sharey=True,figsize = (12,4))\n",
    "\n",
    "for i,ax in enumerate(axs):\n",
    "    if i ==1:\n",
    "         dataset_asimov.models[0].spectral_model.plot(energy_bounds, energy_power = 2, ax =ax, \n",
    "                                label = \"Input\", color = 'black', linewidth = 2, linestyle=\"dashed\")\n",
    "    else:\n",
    "        dataset_asimov.models[0].spectral_model.plot(energy_bounds, energy_power = 2, ax =ax, \n",
    "                                label = \"Input\", color = 'black', linewidth = 1, )\n",
    "\n",
    "dataset_neg.models[0].spectral_model.plot(energy_bounds,  energy_power = 2, ax = axs[0],\n",
    "                                label = \"Best-Fit; sys = -10%\", color = \"crimson\")\n",
    "dataset_neg.models[0].spectral_model.plot_error(energy_bounds,  energy_power = 2, ax = axs[0],\n",
    "                                                       facecolor='lightpink',\n",
    "                                                          alpha = 0.9,\n",
    "                                                          label= \"Standard Error\"\n",
    "                                                         )\n",
    "\n",
    "dataset_cor.models[0].spectral_model.plot(energy_bounds,  energy_power = 2, ax = axs[1],\n",
    "                                label = \"Best-Fit; sys = 0%\", color = \"crimson\")\n",
    "dataset_cor.models[0].spectral_model.plot_error(energy_bounds,  energy_power = 2, ax = axs[1],\n",
    "                                                       facecolor='lightpink',\n",
    "                                                          alpha = 0.9,\n",
    "                                                          label= \"Standard Error\"\n",
    "                                                         )\n",
    "\n",
    "dataset_pos.models[0].spectral_model.plot(energy_bounds,  energy_power = 2, ax = axs[2],\n",
    "                                label = \"Best-Fit; sys = +10%\", color = \"crimson\")\n",
    "dataset_pos.models[0].spectral_model.plot_error(energy_bounds,  energy_power = 2, ax = axs[2],\n",
    "                                                       facecolor='lightpink',\n",
    "                                                          alpha = 0.9,\n",
    "                                                          label= \"Standard Error\"\n",
    "                                                         )\n",
    "[a.legend() for a in axs]\n",
    "axs[0].set_title(\"sys = -10%\"); axs[1].set_title(\"sys = 0%\"); axs[2].set_title(\"sys = +10%\"); \n",
    "\n",
    "axs[1].set_ylabel('')\n",
    "axs[2].set_ylabel('')\n",
    "\n",
    "plt.tight_layout()\n",
    "fig = plt.gcf()\n",
    "fig.savefig(\"plots/1_spectrum_standard.pdf\")"
   ]
  },
  {
   "cell_type": "code",
   "execution_count": null,
   "id": "1231b3dc",
   "metadata": {},
   "outputs": [],
   "source": [
    "\n",
    "estimator = ExcessMapEstimator(\n",
    "    correlation_radius=f\"0.2 deg\",\n",
    "    energy_edges=dataset_cor.counts.geom.axes['energy'].edges[10:14])\n",
    "result = estimator.run(dataset_cor)\n",
    "result[\"sqrt_ts\"].plot_grid(cmap=\"coolwarm\", add_cbar=True, vmin=-5, vmax=5,);\n",
    "\n",
    "\n",
    "result = estimator.run(dataset_neg)\n",
    "result[\"sqrt_ts\"].plot_grid(cmap=\"coolwarm\", add_cbar=True, vmin=-5, vmax=5,);\n",
    "\n",
    "\n",
    "result = estimator.run(dataset_pos)\n",
    "result[\"sqrt_ts\"].plot_grid(cmap=\"coolwarm\", add_cbar=True, vmin=-5, vmax=5,);"
   ]
  }
 ],
 "metadata": {
  "kernelspec": {
   "display_name": "Python 3 (ipykernel)",
   "language": "python",
   "name": "python3"
  },
  "language_info": {
   "codemirror_mode": {
    "name": "ipython",
    "version": 3
   },
   "file_extension": ".py",
   "mimetype": "text/x-python",
   "name": "python",
   "nbconvert_exporter": "python",
   "pygments_lexer": "ipython3",
   "version": "3.8.15"
  },
  "varInspector": {
   "cols": {
    "lenName": 16,
    "lenType": 16,
    "lenVar": 40
   },
   "kernels_config": {
    "python": {
     "delete_cmd_postfix": "",
     "delete_cmd_prefix": "del ",
     "library": "var_list.py",
     "varRefreshCmd": "print(var_dic_list())"
    },
    "r": {
     "delete_cmd_postfix": ") ",
     "delete_cmd_prefix": "rm(",
     "library": "var_list.r",
     "varRefreshCmd": "cat(var_dic_list()) "
    }
   },
   "types_to_exclude": [
    "module",
    "function",
    "builtin_function_or_method",
    "instance",
    "_Feature"
   ],
   "window_display": false
  }
 },
 "nbformat": 4,
 "nbformat_minor": 5
}
