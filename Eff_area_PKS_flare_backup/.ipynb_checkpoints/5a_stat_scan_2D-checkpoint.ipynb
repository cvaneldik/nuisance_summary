{
 "cells": [
  {
   "cell_type": "code",
   "execution_count": 1,
   "id": "e0c4dcf1",
   "metadata": {
    "tags": []
   },
   "outputs": [
    {
     "name": "stdout",
     "output_type": "stream",
     "text": [
      "loaded gammapy version: 0.1.dev19174+g56b5bdf \n",
      "Supposed to be 1.0 (21-12-2022)\n"
     ]
    },
    {
     "data": {
      "text/plain": [
       "(None, <pyximport.pyximport.PyxImporter at 0x7f07585788b0>)"
      ]
     },
     "execution_count": 1,
     "metadata": {},
     "output_type": "execute_result"
    }
   ],
   "source": [
    "import sys\n",
    "import astropy.units as u\n",
    "import gammapy\n",
    "import matplotlib.pylab as plt\n",
    "import numpy as np\n",
    "import pyximport\n",
    "import yaml\n",
    "from gammapy.datasets import FluxPointsDataset, Datasets\n",
    "from gammapy.estimators import FluxPoints, FluxPointsEstimator\n",
    "from gammapy.modeling import Fit, Parameter, Parameters\n",
    "from gammapy.modeling.models import Models, FoVBackgroundModel, Model\n",
    "from matplotlib import rc\n",
    "from scipy.interpolate import interp2d\n",
    "\n",
    "# import random\n",
    "sys.path.append(\"/home/katrin/Documents/nuisance_summary/\")\n",
    "sys.path.append(\"../\")\n",
    "import Dataset_load  # noqa: E402\n",
    "from Dataset_Creation import sys_dataset  # noqa: E402\n",
    "\n",
    "print(f\"loaded gammapy version: {gammapy.__version__} \")\n",
    "print(\"Supposed to be 1.0 (21-12-2022)\")\n",
    "rc(\"font\", **{\"family\": \"serif\", \"serif\": [\"Computer Modern\"]})\n",
    "rc(\"text\", usetex=True)\n",
    "pyximport.install()"
   ]
  },
  {
   "cell_type": "markdown",
   "id": "23adcef0",
   "metadata": {},
   "source": [
    "## Read dataset"
   ]
  },
  {
   "cell_type": "code",
   "execution_count": 2,
   "id": "f94dc89c",
   "metadata": {},
   "outputs": [
    {
     "name": "stdout",
     "output_type": "stream",
     "text": [
      "loaded dataset:\n",
      "/home/wecapstor1/caph/mppi045h/nuisance_summary/PKS_flare/HESS_public/dataset-simulated-pl.fits.gz\n"
     ]
    }
   ],
   "source": [
    "scaled_amplitude = Parameter(\"amplitude\", value=1e-12)\n",
    "dataset_asimov = Dataset_load.create_asimov(\n",
    "    model=\"pl\", source=\"PKSflare\", parameters=Parameters([scaled_amplitude])\n",
    ")\n",
    "\n",
    "shift = 0.1\n",
    "tilt = 0.02\n",
    "\n",
    "sys_ = sys_dataset(\n",
    "    dataset_asimov=dataset_asimov,\n",
    "    shift=0,\n",
    "    tilt=0,\n",
    "    bias=0,\n",
    "    resolution=0,\n",
    "    rnd=False,\n",
    "    e_reco_creation=10,\n",
    ")\n",
    "dataset_asimov = sys_.create_dataset()\n",
    "dataset_asimov_N = sys_.create_dataset_N(e_reco_n=10)\n",
    "zero = 1e-24\n",
    "# addional parameter bias and resolution (ereco) but are frozen\n",
    "penalising_invcovmatrix = np.zeros((4, 4))\n",
    "# 'bias', 'resolution', 'norm_nuisance',  'tilt_nuisance',\n",
    "np.fill_diagonal(\n",
    "    penalising_invcovmatrix,\n",
    "    [1 / zero**2, 1 / zero**2, 1 / shift**2, 1 / tilt**2],\n",
    ")\n",
    "dataset_asimov_N.penalising_invcovmatrix = penalising_invcovmatrix\n",
    "dataset_asimov_N.irf_model.e_reco_model.parameters.freeze_all()\n",
    "dataset_asimov_N.irf_model.parameters[\"tilt_nuisance\"].frozen = False\n",
    "\n",
    "a_unit = dataset_asimov_N.models.parameters[\"amplitude\"].unit\n",
    "\n",
    "\n",
    "datasets = Datasets(dataset_asimov)\n",
    "datasets_N = Datasets(dataset_asimov_N)"
   ]
  },
  {
   "cell_type": "code",
   "execution_count": 3,
   "id": "998352aa-4a2d-44ea-ad2d-3ae74b14acc9",
   "metadata": {},
   "outputs": [
    {
     "name": "stdout",
     "output_type": "stream",
     "text": [
      "DatasetModels\n",
      "\n",
      "Component 0: SkyModel\n",
      "\n",
      "  Name                      : aEaZD8Bs\n",
      "  Datasets names            : None\n",
      "  Spectral model type       : PowerLawSpectralModel\n",
      "  Spatial  model type       : PointSpatialModel\n",
      "  Temporal model type       : \n",
      "  Parameters:\n",
      "    index                         :      2.300   +/-    0.00             \n",
      "    amplitude                     :   1.00e-12   +/- 0.0e+00 1 / (cm2 s TeV)\n",
      "    reference             (frozen):      1.000       TeV         \n",
      "    lon_0                         :    329.680   +/-    0.00 deg         \n",
      "    lat_0                         :    -30.222   +/-    0.00 deg         \n",
      "\n",
      "Component 1: FoVBackgroundModel\n",
      "\n",
      "  Name                      : dataset N-bkg\n",
      "  Datasets names            : ['dataset N']\n",
      "  Spectral model type       : PowerLawNormSpectralModel\n",
      "  Spatial  model type       : \n",
      "  Parameters:\n",
      "    norm                          :      1.000   +/-    0.00             \n",
      "    tilt                          :      0.000   +/-    0.00             \n",
      "    reference             (frozen):      1.000       TeV         \n",
      "\n",
      "Component 2: IRFModels\n",
      "\n",
      "  Name                      : dataset N-irf\n",
      "  Datasets names            : dataset N\n",
      "  EReco  model type         : ERecoIRFModel\n",
      "  Eff area  model type      : EffAreaIRFModel\n",
      "  PSF model type            : \n",
      "  Parameters:\n",
      "    bias                  (frozen):      0.000                   \n",
      "    resolution            (frozen):      0.000                   \n",
      "    norm_nuisance                 :      0.000   +/-    0.00             \n",
      "    tilt_nuisance                 :      0.000   +/-    0.00             \n",
      "    reference             (frozen):      1.000       TeV         \n",
      "\n",
      "\n"
     ]
    }
   ],
   "source": [
    "print(datasets_N.models)"
   ]
  },
  {
   "cell_type": "code",
   "execution_count": 4,
   "id": "7c017f1c",
   "metadata": {},
   "outputs": [],
   "source": [
    "import json\n",
    "\n",
    "def make_writeable(cc):\n",
    "    d = dict()\n",
    "    for ii, seg in enumerate(cc.allsegs[0]):\n",
    "        d['x'] = seg[:,0].tolist()\n",
    "        d['y'] = seg[:,1].tolist()\n",
    "    return d\n",
    "\n",
    "def save(c, name):\n",
    "    d = make_writeable(c)\n",
    "    with open(name, 'w') as f:\n",
    "        json.dump(d, f)\n",
    "        \n",
    "def read(name):\n",
    "    with open(name) as data_file:\n",
    "        data_loaded = json.load(data_file)\n",
    "    return data_loaded"
   ]
  },
  {
   "cell_type": "markdown",
   "id": "8e22a7d3",
   "metadata": {},
   "source": [
    "## Standard "
   ]
  },
  {
   "cell_type": "code",
   "execution_count": 5,
   "id": "03bea66c",
   "metadata": {},
   "outputs": [
    {
     "name": "stdout",
     "output_type": "stream",
     "text": [
      "OptimizeResult\n",
      "\n",
      "\tbackend    : minuit\n",
      "\tmethod     : migrad\n",
      "\tsuccess    : True\n",
      "\tmessage    : Optimization terminated successfully.\n",
      "\tnfev       : 184\n",
      "\ttotal stat : 850189.11\n",
      "\n",
      "CovarianceResult\n",
      "\n",
      "\tbackend    : minuit\n",
      "\tmethod     : hesse\n",
      "\tsuccess    : True\n",
      "\tmessage    : Hesse terminated successfully.\n",
      "\n",
      "CPU times: user 21.9 s, sys: 5.22 s, total: 27.1 s\n",
      "Wall time: 27.2 s\n"
     ]
    }
   ],
   "source": [
    "%%time\n",
    "fit = Fit(store_trace=False)\n",
    "minuit_opts = {\"tol\": 0.01, \"strategy\": 2}\n",
    "fit.optimize_opts = minuit_opts\n",
    "result = fit.run(datasets)\n",
    "print(result)\n",
    "fitting = 0\n",
    "if fitting :\n",
    "    c39 = fit.minuit.draw_mncontour(\"par_000_index\", \"par_001_amplitude\", \n",
    "                                   cl = 0.39, \n",
    "                                   size = 100, \n",
    "                                   )\n",
    "    save(c39, 'data/5_scan_39.json')\n",
    "    c = fit.minuit.draw_mncontour(\"par_000_index\", \"par_001_amplitude\", \n",
    "                                   cl = 0.68, \n",
    "                                   size = 100, \n",
    "                                   )\n",
    "    save(c, 'data/5_scan_68.json')\n",
    "    c95 = fit.minuit.draw_mncontour(\"par_000_index\", \"par_001_amplitude\", \n",
    "                                   cl = 0.95, \n",
    "                                   size = 100, \n",
    "                                   )\n",
    "    save(c95, 'data/5_scan_95.json')\n",
    "else:\n",
    "    c = read('data/5_scan_68.json')\n",
    "    c39 = read('data/5_scan_39.json')\n",
    "    c95 = read('data/5_scan_95.json')\n",
    "      "
   ]
  },
  {
   "cell_type": "markdown",
   "id": "5cf41966",
   "metadata": {},
   "source": [
    "## Nuisance Parameters"
   ]
  },
  {
   "cell_type": "code",
   "execution_count": 6,
   "id": "7313a326-d504-4732-8ad6-f273cec371dc",
   "metadata": {},
   "outputs": [
    {
     "name": "stdout",
     "output_type": "stream",
     "text": [
      "DatasetModels\n",
      "\n",
      "Component 0: SkyModel\n",
      "\n",
      "  Name                      : aEaZD8Bs\n",
      "  Datasets names            : None\n",
      "  Spectral model type       : PowerLawSpectralModel\n",
      "  Spatial  model type       : PointSpatialModel\n",
      "  Temporal model type       : \n",
      "  Parameters:\n",
      "    index                         :      2.300   +/-    0.00             \n",
      "    amplitude                     :   1.00e-12   +/- 0.0e+00 1 / (cm2 s TeV)\n",
      "    reference             (frozen):      1.000       TeV         \n",
      "    lon_0                         :    329.680   +/-    0.00 deg         \n",
      "    lat_0                         :    -30.222   +/-    0.00 deg         \n",
      "\n",
      "Component 1: FoVBackgroundModel\n",
      "\n",
      "  Name                      : dataset N-bkg\n",
      "  Datasets names            : ['dataset N']\n",
      "  Spectral model type       : PowerLawNormSpectralModel\n",
      "  Spatial  model type       : \n",
      "  Parameters:\n",
      "    norm                          :      1.000   +/-    0.00             \n",
      "    tilt                          :      0.000   +/-    0.00             \n",
      "    reference             (frozen):      1.000       TeV         \n",
      "\n",
      "Component 2: IRFModels\n",
      "\n",
      "  Name                      : dataset N-irf\n",
      "  Datasets names            : dataset N\n",
      "  EReco  model type         : ERecoIRFModel\n",
      "  Eff area  model type      : EffAreaIRFModel\n",
      "  PSF model type            : \n",
      "  Parameters:\n",
      "    bias                  (frozen):      0.000                   \n",
      "    resolution            (frozen):      0.000                   \n",
      "    norm_nuisance                 :      0.000   +/-    0.00             \n",
      "    tilt_nuisance                 :      0.000   +/-    0.00             \n",
      "    reference             (frozen):      1.000       TeV         \n",
      "\n",
      "\n"
     ]
    }
   ],
   "source": [
    "print(datasets_N.models)"
   ]
  },
  {
   "cell_type": "code",
   "execution_count": 7,
   "id": "b5bafbb8",
   "metadata": {
    "scrolled": true
   },
   "outputs": [
    {
     "name": "stdout",
     "output_type": "stream",
     "text": [
      "CPU times: user 96.2 ms, sys: 25.7 ms, total: 122 ms\n",
      "Wall time: 155 ms\n"
     ]
    }
   ],
   "source": [
    "%%time\n",
    "fitting_N = 0\n",
    "if fitting_N:\n",
    "    \n",
    "    fit_N = Fit(store_trace=False)\n",
    "    minuit_opts = {\"tol\": 0.01, \"strategy\": 2}\n",
    "    fit_N.optimize_opts = minuit_opts\n",
    "    result_N = fit_N.run(datasets_N)\n",
    "    print(result_N)\n",
    "\n",
    "    \n",
    "    c_N = fit_N.minuit.draw_mncontour(\"par_000_index\", \"par_001_amplitude\", \n",
    "                               cl = 0.68, \n",
    "                              size = 10, \n",
    "                               interpolated = True,\n",
    "                               )\n",
    "    \n",
    "    save(c_N, 'data/5_scan_N_68.json')\n",
    "    \n",
    "    print(\"95\")\n",
    "    c95_N = fit_N.minuit.draw_mncontour(\"par_000_index\", \"par_001_amplitude\", \n",
    "                               cl = 0.95, \n",
    "                               size = 10, \n",
    "                                interpolated = True,\n",
    "                               )\n",
    "    save(c95_N, 'data/5_scan_N_95.json')\n",
    "else:\n",
    "    c_N = read('data/5_scan_N_68.json')\n",
    "    c95_N = read('data/5_scan_N_95.json')\n",
    "    path = f'data/2_model_nui_{shift}_tilt_{tilt}.yml'\n",
    "    dataset_N_load = Dataset_load.load_dataset_N(datasets_N[0], path) "
   ]
  },
  {
   "cell_type": "markdown",
   "id": "db6ce963",
   "metadata": {},
   "source": [
    "# Stat Contours"
   ]
  },
  {
   "cell_type": "code",
   "execution_count": 8,
   "id": "c3692716",
   "metadata": {},
   "outputs": [],
   "source": [
    "color_standard = 'crimson'; color_standard_e = 'palevioletred'\n",
    "color_nui = 'navy'; color_nui_e = 'cornflowerblue' # 'cornflowerblue'\n",
    "color_rnd = 'darkgreen'\n",
    "color_input = 'darkorange'\n",
    "color_eff = 'darkgreen' ; color_eff_e = 'lightgreen'"
   ]
  },
  {
   "cell_type": "code",
   "execution_count": 12,
   "id": "d15fc752",
   "metadata": {},
   "outputs": [
    {
     "data": {
      "text/plain": [
       "Text(0, 0.5, 'Amplitude [1e-11 TeV-1 s-1 cm-2]')"
      ]
     },
     "execution_count": 12,
     "metadata": {},
     "output_type": "execute_result"
    },
    {
     "data": {
      "image/png": "[encoded data removed]",
      "text/plain": [
       "<Figure size 640x480 with 1 Axes>"
      ]
     },
     "metadata": {},
     "output_type": "display_data"
    }
   ],
   "source": [
    "if not fitting and not fitting_N:\n",
    "\n",
    "    factor = 0.1\n",
    "    plt.figure()\n",
    "    plt.plot(c['x'], np.array(c['y'])*factor, '.-', label='Standard 1$\\sigma$', color = color_standard)\n",
    "    plt.plot(c95['x'], np.array(c95['y'])*factor, '.-', label='Standard 2$\\sigma$', color = color_standard_e)\n",
    "    plt.plot(c_N['x'], np.array(c_N['y'])*factor, '.-', label='Effarea 1$\\sigma$', color = color_eff)\n",
    "    plt.plot(c95_N['x'], np.array(c95_N['y'])*factor, '.-', label='Effarea 2$\\sigma$', color = color_eff_e)\n",
    "    \n",
    "    colors_best = [color_eff, color_standard]\n",
    "    fmts = ['o', 'x']\n",
    "    for j,d in enumerate([dataset_N_load, datasets]):\n",
    "        i = d.models.parameters['index'].value\n",
    "        a = d.models.parameters['amplitude'].value * 1e12\n",
    "        \n",
    "        #plt.plot(i,a,  fmts[j], color = colors_best[int(j)], )\n",
    "    \n",
    "    plt.legend(fontsize=9, loc='best')\n",
    "    \n",
    "plt.xlabel(\"Index\")\n",
    "plt.ylabel(\"Amplitude [1e-11 TeV-1 s-1 cm-2]\")"
   ]
  },
  {
   "cell_type": "code",
   "execution_count": 10,
   "id": "cefc85f3",
   "metadata": {},
   "outputs": [],
   "source": [
    "if fitting:# and fitting_N:\n",
    "\n",
    "    plt.figure()\n",
    "    for ii, seg in enumerate(c.allsegs[0]):\n",
    "        plt.plot(seg[:,0], seg[:,1], '.-', label=c.levels[ii], color = color_standard)\n",
    "    for ii, seg in enumerate(c95.allsegs[0]):\n",
    "        plt.plot(seg[:,0], seg[:,1], '.-', label=c95.levels[ii], color = color_standard_e)    \n",
    "\n",
    "\n",
    "    plt.legend(fontsize=9, loc='best')"
   ]
  },
  {
   "cell_type": "code",
   "execution_count": 11,
   "id": "81c856e5",
   "metadata": {},
   "outputs": [],
   "source": [
    "if fitting_N:\n",
    "\n",
    "    plt.figure()\n",
    "    for ii, seg in enumerate(c_N.allsegs[0]):\n",
    "        plt.plot(seg[:,0], seg[:,1], '.-', label=c_N.levels[ii], color = color_standard)\n",
    "    for ii, seg in enumerate(c95.allsegs[0]):\n",
    "        plt.plot(seg[:,0], seg[:,1], '.-', label=c95.levels[ii], color = color_standard_e)    \n",
    "\n",
    "\n",
    "    plt.legend(fontsize=9, loc='best')"
   ]
  },
  {
   "cell_type": "code",
   "execution_count": null,
   "id": "85f8e3ad",
   "metadata": {},
   "outputs": [],
   "source": []
  }
 ],
 "metadata": {
  "kernelspec": {
   "display_name": "Python 3 (ipykernel)",
   "language": "python",
   "name": "python3"
  },
  "language_info": {
   "codemirror_mode": {
    "name": "ipython",
    "version": 3
   },
   "file_extension": ".py",
   "mimetype": "text/x-python",
   "name": "python",
   "nbconvert_exporter": "python",
   "pygments_lexer": "ipython3",
   "version": "3.9.16"
  },
  "varInspector": {
   "cols": {
    "lenName": 16,
    "lenType": 16,
    "lenVar": 40
   },
   "kernels_config": {
    "python": {
     "delete_cmd_postfix": "",
     "delete_cmd_prefix": "del ",
     "library": "var_list.py",
     "varRefreshCmd": "print(var_dic_list())"
    },
    "r": {
     "delete_cmd_postfix": ") ",
     "delete_cmd_prefix": "rm(",
     "library": "var_list.r",
     "varRefreshCmd": "cat(var_dic_list()) "
    }
   },
   "types_to_exclude": [
    "module",
    "function",
    "builtin_function_or_method",
    "instance",
    "_Feature"
   ],
   "window_display": false
  }
 },
 "nbformat": 4,
 "nbformat_minor": 5
}
