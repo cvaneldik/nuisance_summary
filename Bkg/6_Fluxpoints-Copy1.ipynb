{
 "cells": [
  {
   "cell_type": "code",
   "execution_count": 1,
   "id": "c102068e",
   "metadata": {},
   "outputs": [
    {
     "name": "stdout",
     "output_type": "stream",
     "text": [
      "loaded gammapy version: 0.1.dev19174+g56b5bdf \n",
      "Supposed to be 1.0 (21-12-2022)\n"
     ]
    }
   ],
   "source": [
    "import gammapy \n",
    "print(f'loaded gammapy version: {gammapy.__version__} ' )\n",
    "print(f'Supposed to be 1.0 (21-12-2022)' )"
   ]
  },
  {
   "cell_type": "code",
   "execution_count": 2,
   "id": "e0c4dcf1",
   "metadata": {
    "tags": []
   },
   "outputs": [],
   "source": [
    "#get_ipython().system('jupyter nbconvert --to script 1-Nui_Par_Fitting.ipynb')\n",
    "import pyximport\n",
    "\n",
    "pyximport.install()\n",
    "import matplotlib.pyplot as plt\n",
    "import numpy as np\n",
    "import astropy.units as u\n",
    "import gammapy\n",
    "\n",
    "# from gammapy.datasets import MapDataset\n",
    "from gammapy.maps import Map\n",
    "from astropy.coordinates import SkyCoord, Angle\n",
    "from gammapy.modeling import Fit, Parameter, Parameters, Covariance\n",
    "from gammapy.datasets import MapDataset , Datasets#, MapDatasetNuisance\n",
    "from gammapy.modeling.models import (\n",
    "    PowerLawSpectralModel,\n",
    "    create_crab_spectral_model,\n",
    "    SkyModel,\n",
    "    PointSpatialModel,\n",
    "    ShellSpatialModel,\n",
    "    GeneralizedGaussianSpatialModel,\n",
    "    TemplateSpatialModel,\n",
    "    LogParabolaSpectralModel,\n",
    "    GaussianSpatialModel,\n",
    "    DiskSpatialModel,\n",
    "    PowerLawNormSpectralModel,\n",
    "    Models,\n",
    "    SpatialModel,\n",
    "    FoVBackgroundModel,\n",
    ")\n",
    "from gammapy.modeling.models import CompoundNormSpectralModel, PowerLawNormPenSpectralModel\n",
    "\n",
    "from gammapy.estimators import TSMapEstimator, ExcessMapEstimator\n",
    "from gammapy.estimators import FluxPoints\n",
    "from gammapy.estimators import  FluxPointsEstimator\n",
    "\n",
    "from regions import CircleSkyRegion, RectangleSkyRegion\n",
    "import yaml\n",
    "import sys\n",
    "\n",
    "#sys.path.append(\n",
    "#    \"/home/hpc/caph/mppi045h/3D_analysis/N_parameters_in_L/syserror_3d_bkgmodel/4-Fitting_nuisance_and_model_parameters\"\n",
    "#)\n",
    "#from my_dataset_maps_20 import MapDatasetNuisance\n",
    "#from MapDatasetNuisanceE import MapDatasetNuisanceE\n",
    "#from  my_fit_20 import Fit\n",
    "sys.path.append('../')\n",
    "import Dataset_load \n",
    "from Dataset_Creation import sys_dataset"
   ]
  },
  {
   "cell_type": "code",
   "execution_count": null,
   "id": "d7f3e0ff",
   "metadata": {},
   "outputs": [],
   "source": []
  },
  {
   "cell_type": "markdown",
   "id": "23adcef0",
   "metadata": {},
   "source": [
    "## Read dataset"
   ]
  },
  {
   "cell_type": "code",
   "execution_count": 3,
   "id": "f94dc89c",
   "metadata": {},
   "outputs": [],
   "source": [
    "dataset_asimov = Dataset_load.create_asimov(simulated_dataset = True)"
   ]
  },
  {
   "cell_type": "markdown",
   "id": "256ed44a",
   "metadata": {},
   "source": [
    "## Single Cases"
   ]
  },
  {
   "cell_type": "code",
   "execution_count": 4,
   "id": "260723d7",
   "metadata": {},
   "outputs": [
    {
     "name": "stdout",
     "output_type": "stream",
     "text": [
      "['bias', 'resolution', 'norm_nuisance', 'tilt_nuisance', 'reference']\n",
      "DatasetModels\n",
      "\n",
      "Component 0: SkyModel\n",
      "\n",
      "  Name                      : Source\n",
      "  Datasets names            : None\n",
      "  Spectral model type       : PowerLawSpectralModel\n",
      "  Spatial  model type       : GaussianSpatialModel\n",
      "  Temporal model type       : \n",
      "  Parameters:\n",
      "    index                         :      2.300   +/-    0.00             \n",
      "    amplitude                     :   1.00e-12   +/- 0.0e+00 1 / (cm2 s TeV)\n",
      "    reference             (frozen):      1.000       TeV         \n",
      "    lon_0                 (frozen):     83.631       deg         \n",
      "    lat_0                 (frozen):     22.018       deg         \n",
      "    sigma                         :      0.019   +/-    0.00 deg         \n",
      "    e                     (frozen):      0.000                   \n",
      "    phi                   (frozen):      0.000       deg         \n",
      "\n",
      "Component 1: IRFModels\n",
      "\n",
      "  Name                      : dataset N-irf\n",
      "  Datasets names            : dataset N\n",
      "  EReco  model type         : ERecoIRFModel\n",
      "  Eff area  model type      : EffAreaIRFModel\n",
      "  Parameters:\n",
      "    bias                  (frozen):      0.000                   \n",
      "    resolution            (frozen):      0.000                   \n",
      "    norm_nuisance         (frozen):      0.000                   \n",
      "    tilt_nuisance         (frozen):      0.000                   \n",
      "    reference             (frozen):      1.000       TeV         \n",
      "\n",
      "Component 2: FoVBackgroundModel\n",
      "\n",
      "  Name                      : dataset N-bkg\n",
      "  Datasets names            : ['dataset N']\n",
      "  Spectral model type       : CompoundNormSpectralModel\n",
      "  Spatial  model type       : \n",
      "  Parameters:\n",
      "    norm                          :      1.000   +/-    0.00             \n",
      "    tilt                          :      0.000   +/-    0.00             \n",
      "    reference             (frozen):      1.000       TeV         \n",
      "    norm_nuisance                 :      0.000   +/-    0.00             \n",
      "    tilt_nuisance                 :      0.000   +/-    0.00             \n",
      "    reference             (frozen):      1.000       TeV         \n",
      "\n",
      "\n",
      "DatasetModels\n",
      "\n",
      "Component 0: SkyModel\n",
      "\n",
      "  Name                      : Source\n",
      "  Datasets names            : None\n",
      "  Spectral model type       : PowerLawSpectralModel\n",
      "  Spatial  model type       : GaussianSpatialModel\n",
      "  Temporal model type       : \n",
      "  Parameters:\n",
      "    index                         :      2.300   +/-    0.00             \n",
      "    amplitude                     :   1.00e-12   +/- 0.0e+00 1 / (cm2 s TeV)\n",
      "    reference             (frozen):      1.000       TeV         \n",
      "    lon_0                 (frozen):     83.631       deg         \n",
      "    lat_0                 (frozen):     22.018       deg         \n",
      "    sigma                         :      0.019   +/-    0.00 deg         \n",
      "    e                     (frozen):      0.000                   \n",
      "    phi                   (frozen):      0.000       deg         \n",
      "\n",
      "Component 1: FoVBackgroundModel\n",
      "\n",
      "  Name                      : vRUw3zes-bkg\n",
      "  Datasets names            : ['vRUw3zes']\n",
      "  Spectral model type       : PowerLawNormSpectralModel\n",
      "  Spatial  model type       : \n",
      "  Parameters:\n",
      "    norm                          :      1.000   +/-    0.00             \n",
      "    tilt                          :      0.000   +/-    0.00             \n",
      "    reference             (frozen):      1.000       TeV         \n",
      "\n",
      "\n"
     ]
    }
   ],
   "source": [
    "norm = 0.1\n",
    "tilt = 0.025\n",
    "\n",
    "\n",
    "from gammapy.modeling.models.IRF import IRFModel, ERecoIRFModel, IRFModels, EffAreaIRFModel\n",
    "\n",
    "effareamodel = EffAreaIRFModel()\n",
    "erecomodel = ERecoIRFModel()\n",
    "IRFmodels = IRFModels(eff_area_model= effareamodel,\n",
    "                      e_reco_model = erecomodel,\n",
    "                             datasets_names = dataset_asimov.name)\n",
    "\n",
    "\n",
    "print(IRFmodels.parameters.names)\n",
    "\n",
    "\n",
    "sys_d_cor = sys_dataset(dataset_asimov= dataset_asimov,\n",
    "                        shift = 0, \n",
    "                        tilt = 0,\n",
    "                        bias = 0,\n",
    "                        resolution = 0,\n",
    "                        rnd = False,\n",
    "                        e_reco_creation=10)\n",
    "dataset_cor_N = sys_d_cor.create_dataset_N(10)\n",
    "dataset_cor = sys_d_cor.create_dataset()\n",
    "\n",
    "\n",
    "\n",
    "\n",
    "zero = 1e-12\n",
    "\n",
    "    \n",
    "## addional parameter bias and resolution (ereco) but are frozen\n",
    "penalising_invcovmatrix = np.zeros((6, 6))\n",
    "np.fill_diagonal(penalising_invcovmatrix,\n",
    "                 [1/zero**2, 1/zero**2, 1/zero**2, 1/zero**2, 1/norm**2, 1/tilt**2])\n",
    "\n",
    "\n",
    "dataset_cor_N.penalising_invcovmatrix = penalising_invcovmatrix\n",
    "\n",
    "\n",
    "# set bkg model:\n",
    "import operator\n",
    "compoundnorm  = CompoundNormSpectralModel(model1  = PowerLawNormSpectralModel(),\n",
    "                                         model2 = PowerLawNormPenSpectralModel(),\n",
    "                                         operator =  operator.mul)\n",
    "\n",
    "bkg = FoVBackgroundModel(dataset_name=dataset_cor_N.name,\n",
    "                        spectral_model = compoundnorm)\n",
    "dataset_cor_N.models['dataset N-irf'].parameters.freeze_all()\n",
    "models = Models(dataset_cor_N.models)\n",
    "models.pop('dataset N-bkg')\n",
    "models.append(bkg)\n",
    "dataset_cor_N.models = models\n",
    "dataset_cor_N.models['dataset N-bkg'].parameters['tilt_nuisance'].frozen = False\n",
    "dataset_cor_N.models['dataset N-bkg'].parameters['tilt'].frozen = False\n",
    "\n",
    "datasets_N  = [dataset_cor_N]\n",
    "datasets  = [dataset_cor]\n",
    "\n",
    "\n",
    "    \n",
    "    \n",
    "    \n",
    "print(dataset_cor_N.models)\n",
    "print(dataset_cor.models)    \n",
    "    "
   ]
  },
  {
   "cell_type": "code",
   "execution_count": 5,
   "id": "2c72788c",
   "metadata": {},
   "outputs": [
    {
     "name": "stdout",
     "output_type": "stream",
     "text": [
      "read\n",
      "CPU times: user 899 ms, sys: 2.67 s, total: 3.57 s\n",
      "Wall time: 117 ms\n"
     ]
    }
   ],
   "source": [
    "%%time\n",
    "fitting = 0\n",
    "if fitting :\n",
    "    fit = Fit(store_trace=False)\n",
    "    minuit_opts = {\"tol\": 0.001, \"strategy\": 2}\n",
    "    fit.optimize_opts = minuit_opts\n",
    "    result = fit.run(datasets[0])\n",
    "    print(\"saving\")\n",
    "    for i, d in enumerate(datasets):\n",
    "        path = f'data/2_model_{norm}_tilt_{tilt}.yml'\n",
    "        d.models.write(path,overwrite=True)\n",
    "else:\n",
    "    print(\"read\")\n",
    "    path = f'data/2_model_{norm}_tilt_{tilt}.yml'\n",
    "    datasets[0] = Dataset_load.load_dataset_N(datasets[0], path)        \n",
    "        \n",
    "        \n",
    "   "
   ]
  },
  {
   "cell_type": "code",
   "execution_count": 6,
   "id": "8dbd3c11",
   "metadata": {},
   "outputs": [
    {
     "name": "stderr",
     "output_type": "stream",
     "text": [
      "Parameter 'norm' not defined in YAML file. Using default value: 1.0 \n",
      "Parameter 'tilt' not defined in YAML file. Using default value: 0.0 \n"
     ]
    },
    {
     "name": "stdout",
     "output_type": "stream",
     "text": [
      "read\n",
      "CPU times: user 90.3 ms, sys: 28.8 ms, total: 119 ms\n",
      "Wall time: 118 ms\n"
     ]
    }
   ],
   "source": [
    "%%time\n",
    "fitting_N = 0\n",
    "if fitting_N :\n",
    "    fit_N = Fit(store_trace=False)\n",
    "    minuit_opts = {\"tol\": 0.001, \"strategy\": 2}\n",
    "    fit_N.optimize_opts = minuit_opts\n",
    "    result_N = fit_N.run([datasets_N[0]])\n",
    "    for i, d in enumerate(datasets_N):\n",
    "        path = f'data/2_model_nui_{norm}_tilt_{tilt}.yml'\n",
    "        d.models.write(path,overwrite=True)\n",
    "else:\n",
    "    print(\"read\")\n",
    "    path = f'data/2_model_nui_{norm}_tilt_{tilt}.yml'\n",
    "    datasets_N[0] = Dataset_load.load_dataset_N(datasets_N[0], path, bkg_sys = True)         \n",
    "    "
   ]
  },
  {
   "cell_type": "code",
   "execution_count": 8,
   "id": "0512e23f",
   "metadata": {},
   "outputs": [],
   "source": [
    "mask = dataset_asimov.mask.data[:,60,60]\n",
    "ebins = dataset_asimov.counts.geom.axes[0].center#[mask]\n",
    "energy_bounds = (ebins[0] , ebins[-1] ) *u.TeV"
   ]
  },
  {
   "cell_type": "code",
   "execution_count": 9,
   "id": "7084690e",
   "metadata": {},
   "outputs": [
    {
     "data": {
      "image/png": "[encoded data removed]",
      "text/plain": [
       "<Figure size 500x300 with 1 Axes>"
      ]
     },
     "metadata": {},
     "output_type": "display_data"
    }
   ],
   "source": [
    "true_energy = dataset_asimov.exposure.geom.axes[0].center.value\n",
    "energy_bounds = (ebins[0] , ebins[-1] ) *u.TeV\n",
    "fig, axs = plt.subplots(1,1, figsize = (5,3))\n",
    "\n",
    "datasets_N[0].models[0].spectral_model.plot(energy_bounds,  energy_power = 2, ax = axs,\n",
    "                                label = \"\", color = \"green\")    \n",
    "\n",
    "datasets_N[0].models[0].spectral_model.plot_error(energy_bounds,  energy_power = 2, ax = axs,\n",
    "                                label = \"$1\\sigma$ Nuisance\", facecolor = \"green\", alpha = 0.5)    \n",
    "    \n",
    "datasets[0].models[0].spectral_model.plot(energy_bounds,  energy_power = 2, ax = axs,\n",
    "                                label = \"\", color = \"red\", alpha = 0.9)    \n",
    "\n",
    "datasets[0].models[0].spectral_model.plot_error(energy_bounds,  energy_power = 2, ax = axs,\n",
    "                                label = \"$1\\sigma$ Standard\", facecolor = \"lightpink\",\n",
    "                                                   alpha = 0.9)\n",
    "\n",
    "dataset_asimov.models[0].spectral_model.plot(energy_bounds, linestyle='-', energy_power = 2, ax = axs,\n",
    "                                label = \"Input\", color = \"black\", )\n",
    "\n",
    "axs.set_xlabel('')\n",
    "axs.legend()\n",
    "plt.tight_layout()\n"
   ]
  },
  {
   "cell_type": "markdown",
   "id": "f816b8b2",
   "metadata": {},
   "source": [
    "## Compute Asimov Fluxpoints\n"
   ]
  },
  {
   "cell_type": "code",
   "execution_count": null,
   "id": "4bf940ac",
   "metadata": {
    "scrolled": true
   },
   "outputs": [
    {
     "name": "stdout",
     "output_type": "stream",
     "text": [
      "\n",
      "0.10000000000000002 TeV 0.1333521432163324 TeV\n",
      "norm 1.0 0\n",
      "\n",
      "0.1333521432163324 TeV 0.1778279410038923 TeV\n",
      "norm 1.0 0\n",
      "\n",
      "0.1778279410038923 TeV 0.23713737056616552 TeV\n",
      "norm 1.0 0\n",
      "\n",
      "0.23713737056616552 TeV 0.316227766016838 TeV\n",
      "norm 1.0 0\n",
      "\n",
      "0.316227766016838 TeV 0.4216965034285822 TeV\n",
      "norm 1.0 0\n",
      "\n",
      "0.4216965034285822 TeV 0.5623413251903491 TeV\n",
      "norm 1.0 0\n",
      "\n",
      "0.5623413251903491 TeV 0.7498942093324559 TeV\n",
      "norm 1.0 0\n",
      "\n",
      "0.7498942093324559 TeV 1.0 TeV\n",
      "norm 1.0 0\n",
      "\n",
      "1.0 TeV 1.333521432163324 TeV\n",
      "norm 0.9982974927985468 0.08376941019804708\n",
      "\n",
      "1.333521432163324 TeV 1.7782794100389232 TeV\n",
      "norm 0.9975956000411023 0.09400917303849746\n",
      "\n",
      "1.7782794100389232 TeV 2.371373705661655 TeV\n",
      "norm 0.9981412831725534 0.10245963275311297\n",
      "\n",
      "2.371373705661655 TeV 3.1622776601683795 TeV\n",
      "norm 1.0000352293023012 0.11467586600373209\n",
      "\n",
      "3.1622776601683795 TeV 4.216965034285822 TeV\n",
      "norm 0.9996956776918198 0.1298912872538468\n",
      "\n",
      "4.216965034285822 TeV 5.623413251903489 TeV\n",
      "norm 1.0003898960517876 0.14944989898181985\n",
      "\n",
      "5.623413251903489 TeV 7.498942093324559 TeV\n",
      "norm 1.0009807384643097 0.17442474411185765\n",
      "\n",
      "7.498942093324559 TeV 10.000000000000002 TeV\n",
      "norm 1.0010998249128644 0.20284571625070102\n",
      "\n",
      "10.000000000000002 TeV 13.33521432163324 TeV\n",
      "norm 1.0009490671539878 0.23717115071834333\n",
      "\n",
      "13.33521432163324 TeV 17.78279410038923 TeV\n",
      "norm 1.0014263678380937 0.27949524050894586\n",
      "\n",
      "17.78279410038923 TeV 23.713737056616576 TeV\n",
      "norm 1.0009658557728665 0.32852205928396117\n",
      "\n",
      "23.713737056616576 TeV 31.62277660168379 TeV\n",
      "norm 0.9984514815358005 0.38789166770590955\n",
      "\n",
      "31.62277660168379 TeV 42.169650342858226 TeV\n"
     ]
    }
   ],
   "source": [
    "compute_fluxpoints = 1\n",
    "if compute_fluxpoints:\n",
    "    energy_edges = dataset_asimov.geoms['geom'].axes[0].edges\n",
    "    esti  = FluxPointsEstimator(energy_edges= energy_edges,\n",
    "                               reoptimize = False)\n",
    "    fluxpoints_asimov = esti.run([datasets[0]])\n",
    "    fluxpoints_asimov.write(\"data/6_fluxpoints_asimov.fits\", overwrite = True)\n",
    "else:\n",
    "    fluxpoints_asimov = FluxPoints.read(\"data/6_fluxpoints_asimov.fits\", )\n",
    "    "
   ]
  },
  {
   "cell_type": "code",
   "execution_count": null,
   "id": "b7f25bea-980e-40b7-8d62-6b85a05f6a1c",
   "metadata": {},
   "outputs": [],
   "source": []
  },
  {
   "cell_type": "code",
   "execution_count": null,
   "id": "4a9ffd5e-16a9-4e7c-b214-a09bfd779b8c",
   "metadata": {},
   "outputs": [],
   "source": [
    "print(datasets_N[0].models)"
   ]
  },
  {
   "cell_type": "code",
   "execution_count": null,
   "id": "59ac026b",
   "metadata": {
    "scrolled": true
   },
   "outputs": [],
   "source": [
    "%%time\n",
    "if compute_fluxpoints:\n",
    "\n",
    "    esti_N  = FluxPointsEstimator(energy_edges= energy_edges,\n",
    "                               reoptimize = True)\n",
    "    with datasets_N[0].models.restore_status():\n",
    "        datasets_N[0].models.parameters.freeze_all()\n",
    "        datasets_N[0].models[-1].parameters['norm_nuisance'].frozen = False\n",
    "        #think abou t freezing the tilt nuisance here...\n",
    "        datasets_N[0].models[-1].parameters['tilt_nuisance'].frozen = False\n",
    "        fluxpoints_asimov_N = esti_N.run(datasets_N[0])\n",
    "\n",
    "    fluxpoints_asimov_N.write(\"data/6_fluxpoints_asimov_N.fits\", overwrite = True)\n",
    "else:\n",
    "    fluxpoints_asimov_N = FluxPoints.read(\"data/6_fluxpoints_asimov_N.fits\",)\n",
    "    "
   ]
  },
  {
   "cell_type": "code",
   "execution_count": null,
   "id": "55710c06",
   "metadata": {},
   "outputs": [],
   "source": [
    "def plot_shifted (ff, shift):\n",
    "    return ff.energy_ref* shift, ff.e2dnde.data[:,0,0],  ff.e2dnde_err.data[:,0,0], "
   ]
  },
  {
   "cell_type": "code",
   "execution_count": null,
   "id": "8cf582df",
   "metadata": {},
   "outputs": [],
   "source": [
    "fig, axs = plt.subplots(1,1, figsize = (5,3))\n",
    "dataset_asimov_N.models[0].spectral_model.plot_error(energy_bounds,  energy_power = 2, ax = axs,\n",
    "                                label = \"$1\\sigma$ Nuisance\", facecolor = \"green\", alpha = 0.5)    \n",
    "    \n",
    "dataset_asimov.models[0].spectral_model.plot_error(energy_bounds,  energy_power = 2, ax = axs,\n",
    "                                label = \"$1\\sigma$ Standard\", facecolor = \"red\", alpha = 0.6)\n",
    "\n",
    "dataset_standard.models[0].spectral_model.plot(energy_bounds, linestyle=':', energy_power = 2, ax = axs,\n",
    "                                label = \"Input\", color = \"black\", )\n",
    "\n",
    "\n",
    "\n",
    "\n",
    "e_, f_, ferr_ = plot_shifted(fluxpoints_asimov, 1.1)\n",
    "axs.errorbar(e_, f_, yerr = ferr_, color = 'darkred', fmt='o')  \n",
    "\n",
    "e_, f_, ferr_ = plot_shifted(fluxpoints_asimov_N, 1.)\n",
    "axs.errorbar(e_, f_, yerr = ferr_, color = 'darkgreen', fmt='o')  \n",
    "\n",
    "\n",
    "axs.legend()\n",
    "plt.tight_layout()\n",
    "if savefig:\n",
    "    fig.savefig(f\"plots/6_fluxpoints_asimov.\"+ picformat)\n"
   ]
  },
  {
   "cell_type": "code",
   "execution_count": null,
   "id": "ae8a92d3",
   "metadata": {},
   "outputs": [],
   "source": []
  }
 ],
 "metadata": {
  "kernelspec": {
   "display_name": "Python 3 (ipykernel)",
   "language": "python",
   "name": "python3"
  },
  "language_info": {
   "codemirror_mode": {
    "name": "ipython",
    "version": 3
   },
   "file_extension": ".py",
   "mimetype": "text/x-python",
   "name": "python",
   "nbconvert_exporter": "python",
   "pygments_lexer": "ipython3",
   "version": "3.8.16"
  },
  "varInspector": {
   "cols": {
    "lenName": 16,
    "lenType": 16,
    "lenVar": 40
   },
   "kernels_config": {
    "python": {
     "delete_cmd_postfix": "",
     "delete_cmd_prefix": "del ",
     "library": "var_list.py",
     "varRefreshCmd": "print(var_dic_list())"
    },
    "r": {
     "delete_cmd_postfix": ") ",
     "delete_cmd_prefix": "rm(",
     "library": "var_list.r",
     "varRefreshCmd": "cat(var_dic_list()) "
    }
   },
   "types_to_exclude": [
    "module",
    "function",
    "builtin_function_or_method",
    "instance",
    "_Feature"
   ],
   "window_display": false
  }
 },
 "nbformat": 4,
 "nbformat_minor": 5
}
