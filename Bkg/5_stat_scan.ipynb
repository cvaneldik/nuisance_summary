{
 "cells": [
  {
   "cell_type": "code",
   "execution_count": 1,
   "id": "c102068e",
   "metadata": {},
   "outputs": [
    {
     "name": "stdout",
     "output_type": "stream",
     "text": [
      "loaded gammapy version: 0.1.dev19174+g56b5bdf \n",
      "Supposed to be 1.0 (21-11-2022)\n"
     ]
    }
   ],
   "source": [
    "import gammapy \n",
    "print(f'loaded gammapy version: {gammapy.__version__} ' )\n",
    "print(f'Supposed to be 1.0 (21-11-2022)' )"
   ]
  },
  {
   "cell_type": "code",
   "execution_count": 2,
   "id": "e0c4dcf1",
   "metadata": {
    "tags": []
   },
   "outputs": [],
   "source": [
    "#get_ipython().system('jupyter nbconvert --to script 1-Nui_Par_Fitting.ipynb')\n",
    "import pyximport\n",
    "\n",
    "pyximport.install()\n",
    "import matplotlib.pyplot as plt\n",
    "import numpy as np\n",
    "import astropy.units as u\n",
    "import gammapy\n",
    "\n",
    "# from gammapy.datasets import MapDataset\n",
    "from gammapy.maps import Map\n",
    "\n",
    "from astropy.coordinates import SkyCoord, Angle\n",
    "from gammapy.modeling import Fit,  Parameters, Covariance , Parameter\n",
    "from gammapy.datasets import MapDataset ,Datasets#, MapDatasetNuisance\n",
    "from gammapy.modeling.models import (\n",
    "    PowerLawSpectralModel,\n",
    "    create_crab_spectral_model,\n",
    "    SkyModel,\n",
    "    PointSpatialModel,\n",
    "    ShellSpatialModel,\n",
    "    GeneralizedGaussianSpatialModel,\n",
    "    TemplateSpatialModel,\n",
    "    LogParabolaSpectralModel,\n",
    "    GaussianSpatialModel,\n",
    "    DiskSpatialModel,\n",
    "    PowerLawNormSpectralModel,\n",
    "    Models,\n",
    "    SpatialModel,\n",
    "    FoVBackgroundModel,\n",
    "    #PowerLawNuisanceSpectralModel,\n",
    "    #PowerLawNormNuisanceSpectralModel\n",
    ")\n",
    "from gammapy.modeling.models import CompoundNormSpectralModel, PowerLawNormPenSpectralModel\n",
    "\n",
    "from gammapy.estimators import TSMapEstimator, ExcessMapEstimator\n",
    "\n",
    "from regions import CircleSkyRegion, RectangleSkyRegion\n",
    "import yaml\n",
    "import sys\n",
    "\n",
    "sys.path.append('../')\n",
    "from Dataset_Creation import sys_dataset\n",
    "import Dataset_load "
   ]
  },
  {
   "cell_type": "markdown",
   "id": "23adcef0",
   "metadata": {},
   "source": [
    "## Read dataset"
   ]
  },
  {
   "cell_type": "code",
   "execution_count": 3,
   "id": "f94dc89c",
   "metadata": {},
   "outputs": [],
   "source": [
    "dataset_asimov = Dataset_load.create_asimov(simulated_dataset = True)"
   ]
  },
  {
   "cell_type": "markdown",
   "id": "2e0399d4",
   "metadata": {},
   "source": [
    "## Single Cases"
   ]
  },
  {
   "cell_type": "code",
   "execution_count": 4,
   "id": "e19a0a90",
   "metadata": {},
   "outputs": [
    {
     "name": "stdout",
     "output_type": "stream",
     "text": [
      "['bias', 'resolution', 'norm_nuisance', 'tilt_nuisance', 'reference']\n",
      "DatasetModels\n",
      "\n",
      "Component 0: SkyModel\n",
      "\n",
      "  Name                      : Source\n",
      "  Datasets names            : None\n",
      "  Spectral model type       : PowerLawSpectralModel\n",
      "  Spatial  model type       : GaussianSpatialModel\n",
      "  Temporal model type       : \n",
      "  Parameters:\n",
      "    index                         :      2.300   +/-    0.00             \n",
      "    amplitude                     :   1.00e-12   +/- 0.0e+00 1 / (cm2 s TeV)\n",
      "    reference             (frozen):      1.000       TeV         \n",
      "    lon_0                 (frozen):     83.631       deg         \n",
      "    lat_0                 (frozen):     22.018       deg         \n",
      "    sigma                         :      0.019   +/-    0.00 deg         \n",
      "    e                     (frozen):      0.000                   \n",
      "    phi                   (frozen):      0.000       deg         \n",
      "\n",
      "Component 1: IRFModels\n",
      "\n",
      "  Name                      : dataset N-irf\n",
      "  Datasets names            : dataset N\n",
      "  EReco  model type         : ERecoIRFModel\n",
      "  Eff area  model type      : EffAreaIRFModel\n",
      "  Parameters:\n",
      "    bias                  (frozen):      0.000                   \n",
      "    resolution            (frozen):      0.000                   \n",
      "    norm_nuisance         (frozen):      0.000                   \n",
      "    tilt_nuisance         (frozen):      0.000                   \n",
      "    reference             (frozen):      1.000       TeV         \n",
      "\n",
      "Component 2: FoVBackgroundModel\n",
      "\n",
      "  Name                      : dataset N-bkg\n",
      "  Datasets names            : ['dataset N']\n",
      "  Spectral model type       : CompoundNormSpectralModel\n",
      "  Spatial  model type       : \n",
      "  Parameters:\n",
      "    norm                          :      1.000   +/-    0.00             \n",
      "    tilt                          :      0.000   +/-    0.00             \n",
      "    reference             (frozen):      1.000       TeV         \n",
      "    norm_nuisance                 :      0.000   +/-    0.00             \n",
      "    tilt_nuisance                 :      0.000   +/-    0.00             \n",
      "    reference             (frozen):      1.000       TeV         \n",
      "\n",
      "\n",
      "DatasetModels\n",
      "\n",
      "Component 0: SkyModel\n",
      "\n",
      "  Name                      : Source\n",
      "  Datasets names            : None\n",
      "  Spectral model type       : PowerLawSpectralModel\n",
      "  Spatial  model type       : GaussianSpatialModel\n",
      "  Temporal model type       : \n",
      "  Parameters:\n",
      "    index                         :      2.300   +/-    0.00             \n",
      "    amplitude                     :   1.00e-12   +/- 0.0e+00 1 / (cm2 s TeV)\n",
      "    reference             (frozen):      1.000       TeV         \n",
      "    lon_0                 (frozen):     83.631       deg         \n",
      "    lat_0                 (frozen):     22.018       deg         \n",
      "    sigma                         :      0.019   +/-    0.00 deg         \n",
      "    e                     (frozen):      0.000                   \n",
      "    phi                   (frozen):      0.000       deg         \n",
      "\n",
      "Component 1: FoVBackgroundModel\n",
      "\n",
      "  Name                      : PzOIr0Xf-bkg\n",
      "  Datasets names            : ['PzOIr0Xf']\n",
      "  Spectral model type       : PowerLawNormSpectralModel\n",
      "  Spatial  model type       : \n",
      "  Parameters:\n",
      "    norm                          :      1.000   +/-    0.00             \n",
      "    tilt                          :      0.000   +/-    0.00             \n",
      "    reference             (frozen):      1.000       TeV         \n",
      "\n",
      "\n"
     ]
    }
   ],
   "source": [
    "norm = 0.1\n",
    "tilt = 0.025\n",
    "\n",
    "\n",
    "from gammapy.modeling.models.IRF import IRFModel, ERecoIRFModel, IRFModels, EffAreaIRFModel\n",
    "\n",
    "effareamodel = EffAreaIRFModel()\n",
    "erecomodel = ERecoIRFModel()\n",
    "IRFmodels = IRFModels(eff_area_model= effareamodel,\n",
    "                      e_reco_model = erecomodel,\n",
    "                             datasets_names = dataset_asimov.name)\n",
    "\n",
    "\n",
    "print(IRFmodels.parameters.names)\n",
    "\n",
    "\n",
    "sys_d_cor = sys_dataset(dataset_asimov= dataset_asimov,\n",
    "                        shift = 0, \n",
    "                        tilt = 0,\n",
    "                        bias = 0,\n",
    "                        resolution = 0,\n",
    "                        rnd = False,\n",
    "                        e_reco_creation=10)\n",
    "dataset_cor_N = sys_d_cor.create_dataset_N(10)\n",
    "dataset_cor = sys_d_cor.create_dataset()\n",
    "\n",
    "\n",
    "\n",
    "\n",
    "zero = 1e-12\n",
    "\n",
    "    \n",
    "## addional parameter bias and resolution (ereco) but are frozen\n",
    "penalising_invcovmatrix = np.zeros((6, 6))\n",
    "np.fill_diagonal(penalising_invcovmatrix,\n",
    "                 [1/zero**2, 1/zero**2, 1/zero**2, 1/zero**2, 1/norm**2, 1/tilt**2])\n",
    "\n",
    "\n",
    "dataset_cor_N.penalising_invcovmatrix = penalising_invcovmatrix\n",
    "\n",
    "\n",
    "# set bkg model:\n",
    "import operator\n",
    "compoundnorm  = CompoundNormSpectralModel(model1  = PowerLawNormSpectralModel(),\n",
    "                                         model2 = PowerLawNormPenSpectralModel(),\n",
    "                                         operator =  operator.mul)\n",
    "\n",
    "bkg = FoVBackgroundModel(dataset_name=dataset_cor_N.name,\n",
    "                        spectral_model = compoundnorm)\n",
    "dataset_cor_N.models['dataset N-irf'].parameters.freeze_all()\n",
    "models = Models(dataset_cor_N.models)\n",
    "models.pop('dataset N-bkg')\n",
    "models.append(bkg)\n",
    "dataset_cor_N.models = models\n",
    "dataset_cor_N.models['dataset N-bkg'].parameters['tilt_nuisance'].frozen = False\n",
    "dataset_cor_N.models['dataset N-bkg'].parameters['tilt'].frozen = False\n",
    "\n",
    "datasets_N  = [dataset_cor_N]\n",
    "datasets  = [dataset_cor]\n",
    "\n",
    "\n",
    "    \n",
    "    \n",
    "    \n",
    "print(dataset_cor_N.models)\n",
    "print(dataset_cor.models)    \n",
    "    "
   ]
  },
  {
   "cell_type": "code",
   "execution_count": 15,
   "id": "561d9d11",
   "metadata": {},
   "outputs": [
    {
     "name": "stdout",
     "output_type": "stream",
     "text": [
      "saving\n",
      "CPU times: user 1min 44s, sys: 7.69 s, total: 1min 52s\n",
      "Wall time: 1min 52s\n"
     ]
    }
   ],
   "source": [
    "%%time\n",
    "fitting = 1\n",
    "if fitting :\n",
    "    fit = Fit(store_trace=False)\n",
    "    minuit_opts = {\"tol\": 0.001, \"strategy\": 2}\n",
    "    fit.optimize_opts = minuit_opts\n",
    "    result = fit.run(datasets[0])\n",
    "    print(\"saving\")\n",
    "    for i, d in enumerate(datasets):\n",
    "        path = f'data/2_model_{norm}_tilt_{tilt}.yml'\n",
    "        d.models.write(path,overwrite=True)\n",
    "else:\n",
    "    print(\"read\")\n",
    "    path = f'data/2_model_{norm}_tilt_{tilt}.yml'\n",
    "    datasets[0] = Dataset_load.load_dataset_N(datasets[0], path)        \n",
    "        \n",
    "        \n",
    "   "
   ]
  },
  {
   "cell_type": "code",
   "execution_count": null,
   "id": "b5bafbb8",
   "metadata": {},
   "outputs": [],
   "source": [
    "%%time\n",
    "fitting_N = 1\n",
    "if fitting_N :\n",
    "    fit_N = Fit(store_trace=False)\n",
    "    minuit_opts = {\"tol\": 0.001, \"strategy\": 2}\n",
    "    fit_N.optimize_opts = minuit_opts\n",
    "    result_N = fit_N.run([datasets_N[0]])\n",
    "    for i, d in enumerate(datasets_N):\n",
    "        path = f'data/2_model_nui_{norm}_tilt_{tilt}.yml'\n",
    "        d.models.write(path,overwrite=True)\n",
    "else:\n",
    "    print(\"read\")\n",
    "    path = f'data/2_model_nui_{norm}_tilt_{tilt}.yml'\n",
    "    datasets_N[0] = Dataset_load.load_dataset_N(datasets_N[0], path, bkg_sys = True)        \n",
    "    "
   ]
  },
  {
   "cell_type": "code",
   "execution_count": 7,
   "id": "fecae2a5",
   "metadata": {},
   "outputs": [
    {
     "name": "stdout",
     "output_type": "stream",
     "text": [
      "DatasetModels\n",
      "\n",
      "Component 0: SkyModel\n",
      "\n",
      "  Name                      : i2anhLHD\n",
      "  Datasets names            : None\n",
      "  Spectral model type       : PowerLawSpectralModel\n",
      "  Spatial  model type       : GaussianSpatialModel\n",
      "  Temporal model type       : \n",
      "  Parameters:\n",
      "    index                         :      2.301   +/-    0.06             \n",
      "    amplitude                     :   1.00e-12   +/- 9.0e-14 1 / (cm2 s TeV)\n",
      "    reference             (frozen):      1.000       TeV         \n",
      "    lon_0                 (frozen):     83.631       deg         \n",
      "    lat_0                 (frozen):     22.018       deg         \n",
      "    sigma                         :      0.019   +/-    0.01 deg         \n",
      "    e                     (frozen):      0.000                   \n",
      "    phi                   (frozen):      0.000       deg         \n",
      "\n",
      "Component 1: IRFModels\n",
      "\n",
      "  Name                      : F_NFnV95-irf\n",
      "  Datasets names            : F_NFnV95\n",
      "  EReco  model type         : ERecoIRFModel\n",
      "  Eff area  model type      : EffAreaIRFModel\n",
      "  Parameters:\n",
      "    bias                          :      0.000   +/-    0.00             \n",
      "    resolution                    :      0.000   +/-    0.00             \n",
      "    norm_nuisance                 :      0.000   +/-    0.00             \n",
      "    tilt_nuisance         (frozen):      0.000                   \n",
      "    reference             (frozen):      1.000       TeV         \n",
      "\n",
      "Component 2: FoVBackgroundModel\n",
      "\n",
      "  Name                      : F_NFnV95-bkg\n",
      "  Datasets names            : ['F_NFnV95']\n",
      "  Spectral model type       : CompoundNormSpectralModel\n",
      "  Spatial  model type       : \n",
      "  Parameters:\n",
      "    norm                          :      1.000   +/-    0.10             \n",
      "    tilt                  (frozen):      0.000                   \n",
      "    reference             (frozen):      1.000       TeV         \n",
      "    norm_nuisance                 :      0.000   +/-    0.00             \n",
      "    tilt_nuisance         (frozen):      0.000                   \n",
      "    reference             (frozen):      1.000       TeV         \n",
      "\n",
      "\n"
     ]
    }
   ],
   "source": [
    "print(datasets_N[0].models)"
   ]
  },
  {
   "cell_type": "markdown",
   "id": "db6ce963",
   "metadata": {},
   "source": [
    "# Stat Profiles"
   ]
  },
  {
   "cell_type": "markdown",
   "id": "4a406c97",
   "metadata": {},
   "source": [
    "## Stat Profiles for BKG Norm"
   ]
  },
  {
   "cell_type": "code",
   "execution_count": 8,
   "id": "f9e08f80",
   "metadata": {},
   "outputs": [],
   "source": [
    "def make_writable(stat):\n",
    "    write = dict()\n",
    "    for k in stat.keys():\n",
    "        if k != 'fit_results':\n",
    "            write[k] = [float(i) for i in stat[k]]\n",
    "            \n",
    "                \n",
    "    return write"
   ]
  },
  {
   "cell_type": "code",
   "execution_count": 9,
   "id": "60b08490",
   "metadata": {},
   "outputs": [
    {
     "name": "stdout",
     "output_type": "stream",
     "text": [
      "CPU times: user 1.4 ms, sys: 0 ns, total: 1.4 ms\n",
      "Wall time: 1.76 ms\n"
     ]
    }
   ],
   "source": [
    "%%time\n",
    "computing_norm = 0\n",
    "\n",
    "if computing_norm :\n",
    "    parameter = datasets[0].models[1].parameters['norm']\n",
    "    sigma = 3\n",
    "    parameter.scan_n_sigma  = sigma\n",
    "    stat_profile = fit.stat_profile([datasets[0]], parameter, reoptimize= True)\n",
    "    stat_profile['scale_scan'] = stat_profile.pop(next(iter(stat_profile)) )    \n",
    "    with open('data/5_scan_norm.yaml', 'w') as file:\n",
    "        documents = yaml.dump(make_writable(stat_profile), file)\n",
    "else:\n",
    "    with open('data/5_scan_norm.yaml') as file:\n",
    "        stat_profile = yaml.load( file, Loader=yaml.FullLoader)\n",
    "\n",
    "    "
   ]
  },
  {
   "cell_type": "code",
   "execution_count": 10,
   "id": "7987c20d",
   "metadata": {},
   "outputs": [
    {
     "name": "stdout",
     "output_type": "stream",
     "text": [
      "CPU times: user 1.03 ms, sys: 430 µs, total: 1.46 ms\n",
      "Wall time: 1.9 ms\n"
     ]
    }
   ],
   "source": [
    "%%time\n",
    "if computing_norm :\n",
    "    parameter = datasets_N[0].models[-1].parameters['norm']\n",
    "    sigma = 3\n",
    "    parameter.scan_n_sigma  = sigma\n",
    "    stat_profile_N = fit.stat_profile(datasets_N[0], parameter, reoptimize = True)\n",
    "    stat_profile_N['scale_scan'] = stat_profile_N.pop(next(iter(stat_profile_N)) )    \n",
    "    with open('data/5_scan_norm_N.yaml', 'w') as file:\n",
    "        documents = yaml.dump(make_writable(stat_profile_N), file)\n",
    "    for k in stat_profile_N:\n",
    "        if \"spectral\" in k:\n",
    "            key_name = \"scale_scan\"\n",
    "            stat_profile_N[key_name] = stat_profile_N[k]      \n",
    "else:\n",
    "    with open('data/5_scan_norm_N.yaml') as file:\n",
    "        stat_profile_N = yaml.load( file, Loader=yaml.FullLoader)\n",
    "\n",
    "    "
   ]
  },
  {
   "cell_type": "code",
   "execution_count": 12,
   "id": "a3c39385",
   "metadata": {},
   "outputs": [
    {
     "data": {
      "image/png": "[encoded data removed]",
      "text/plain": [
       "<Figure size 640x480 with 1 Axes>"
      ]
     },
     "metadata": {},
     "output_type": "display_data"
    }
   ],
   "source": [
    "import upper_limit_18_02\n",
    "\n",
    "fig = plt.figure()\n",
    "ll_N = stat_profile_N.copy()\n",
    "ul_N = upper_limit_18_02.upper_limit(ll_N,0,0)\n",
    "L_N, x_N = ul_N.interpolate()\n",
    "plt.plot(x_N, L_N(x_N),label =\"Scan Standard\")\n",
    "\n",
    "ll = stat_profile.copy()\n",
    "ul = upper_limit_18_02.upper_limit(ll,0,0)\n",
    "L, x = ul.interpolate()\n",
    "plt.plot(x, L(x),label =\"Scan with Nuisance Par.\")\n",
    "\n",
    "norm_err_N = datasets_N[0].models.parameters['norm'].error\n",
    "norm_err = datasets[0].models.parameters['norm'].error\n",
    "\n",
    "\n",
    "min_, er, upp = ul_N.likelihood_upper()\n",
    "min_ = min_[0]; er = er[0]\n",
    "ax = plt.gca()\n",
    "ylim= ax.get_ylim()\n",
    "ax.fill_between(  [min_-er, min_+ er], ylim[0], ylim[1], alpha = 0.2, \n",
    "                label = f'1$\\sigma$ error = {er:.2} ({norm_err_N:.2})')\n",
    "min_, er, upp = ul.likelihood_upper()\n",
    "min_ = min_[0]; er = er[0]\n",
    "ax.fill_between(  [min_-er, min_+ er], ylim[0], ylim[1],  alpha = 0.2, \n",
    "                label = f'1$\\sigma$ error = {er:.2} ({norm_err:.2})')\n",
    "\n",
    "plt.xlabel(\"BKG Norm []\")\n",
    "plt.ylabel(\"-2log (L) [arb. unit]\")\n",
    "plt.legend()\n",
    "#plt.ylim(ylim[0], ylim[1]-4)\n",
    "plt.title(\"Sys = -10%\")\n",
    "\n",
    "fig.savefig(\"plots/5_stat_scan_norm.png\")"
   ]
  },
  {
   "cell_type": "code",
   "execution_count": 13,
   "id": "8eae8c06-4b3e-41d0-ac30-c659318271bf",
   "metadata": {},
   "outputs": [],
   "source": [
    "## Stat Profiles for BKG Tilt"
   ]
  },
  {
   "cell_type": "code",
   "execution_count": null,
   "id": "ac1a932f-202b-49c8-8ccf-3ea6c712b59c",
   "metadata": {},
   "outputs": [],
   "source": [
    "%%time\n",
    "computing_tilt = 1\n",
    "if computing_tilt :\n",
    "    parameter = datasets[0].models[1].parameters['tilt']\n",
    "    sigma = 3\n",
    "    parameter.scan_n_sigma  = sigma\n",
    "    stat_profile = fit.stat_profile([datasets[0]], parameter, reoptimize= True)\n",
    "    stat_profile['scale_scan'] = stat_profile.pop(next(iter(stat_profile)) )    \n",
    "    with open('data/5_scan_tilt.yaml', 'w') as file:\n",
    "        documents = yaml.dump(make_writable(stat_profile), file)\n",
    "else:\n",
    "    with open('data/5_scan_tilt.yaml') as file:\n",
    "        stat_profile = yaml.load( file, Loader=yaml.FullLoader)\n",
    "\n",
    "    "
   ]
  },
  {
   "cell_type": "code",
   "execution_count": null,
   "id": "1cbb986f-db91-4191-b718-7af662650cc0",
   "metadata": {},
   "outputs": [],
   "source": [
    "%%time\n",
    "if computing_tilt :\n",
    "    parameter = datasets_N[0].models[-1].parameters['tilt']\n",
    "    sigma = 3\n",
    "    parameter.scan_n_sigma  = sigma\n",
    "    stat_profile_N = fit.stat_profile(datasets_N[0], parameter, reoptimize = True)\n",
    "    stat_profile_N['scale_scan'] = stat_profile_N.pop(next(iter(stat_profile_N)) )    \n",
    "    with open('data/5_scan_tilt_N.yaml', 'w') as file:\n",
    "        documents = yaml.dump(make_writable(stat_profile_N), file)\n",
    "    for k in stat_profile_N:\n",
    "        if \"spectral\" in k:\n",
    "            key_name = \"scale_scan\"\n",
    "            stat_profile_N[key_name] = stat_profile_N[k]      \n",
    "else:\n",
    "    with open('data/5_scan_tilt_N.yaml') as file:\n",
    "        stat_profile_N = yaml.load( file, Loader=yaml.FullLoader)\n",
    "\n",
    "    "
   ]
  },
  {
   "cell_type": "code",
   "execution_count": null,
   "id": "fd7019be-c51a-42ce-b5ee-d8d8a987d986",
   "metadata": {},
   "outputs": [],
   "source": [
    "import upper_limit_18_02\n",
    "\n",
    "fig = plt.figure()\n",
    "ll_N = stat_profile_N.copy()\n",
    "ul_N = upper_limit_18_02.upper_limit(ll_N,0,0)\n",
    "L_N, x_N = ul_N.interpolate()\n",
    "plt.plot(x_N, L_N(x_N),label =\"Scan Standard\")\n",
    "\n",
    "ll = stat_profile.copy()\n",
    "ul = upper_limit_18_02.upper_limit(ll,0,0)\n",
    "L, x = ul.interpolate()\n",
    "plt.plot(x, L(x),label =\"Scan with Nuisance Par.\")\n",
    "\n",
    "norm_err_N = datasets_N[0].models.parameters['norm'].error\n",
    "norm_err = datasets[0].models.parameters['norm'].error\n",
    "\n",
    "\n",
    "min_, er, upp = ul_N.likelihood_upper()\n",
    "min_ = min_[0]; er = er[0]\n",
    "ax = plt.gca()\n",
    "ylim= ax.get_ylim()\n",
    "ax.fill_between(  [min_-er, min_+ er], ylim[0], ylim[1], alpha = 0.2, \n",
    "                label = f'1$\\sigma$ error = {er:.2} ({norm_err_N:.2})')\n",
    "min_, er, upp = ul.likelihood_upper()\n",
    "min_ = min_[0]; er = er[0]\n",
    "ax.fill_between(  [min_-er, min_+ er], ylim[0], ylim[1],  alpha = 0.2, \n",
    "                label = f'1$\\sigma$ error = {er:.2} ({norm_err:.2})')\n",
    "\n",
    "plt.xlabel(\"BKG Tilt []\")\n",
    "plt.ylabel(\"-2log (L) [arb. unit]\")\n",
    "plt.legend()\n",
    "#plt.ylim(ylim[0], ylim[1]-4)\n",
    "plt.title(\"Sys = -10%\")\n",
    "\n",
    "fig.savefig(\"plots/5_stat_scan_tilt.png\")"
   ]
  },
  {
   "cell_type": "markdown",
   "id": "4b645528",
   "metadata": {},
   "source": [
    "## Stat Profiles for Source Signal"
   ]
  },
  {
   "cell_type": "code",
   "execution_count": null,
   "id": "6fdab75c",
   "metadata": {
    "scrolled": true
   },
   "outputs": [],
   "source": [
    "%%time\n",
    "computing_amplitude = 0\n",
    "\n",
    "if computing_amplitude:\n",
    "    sigma = 3\n",
    "    parameter_a = datasets[0].models.parameters['amplitude']\n",
    "    parameter_a.scan_n_sigma = sigma\n",
    "    stat_profile_a = fit.stat_profile([datasets[0]], parameter_a, reoptimize= True)\n",
    "    stat_profile_a['scale_scan'] = stat_profile_a.pop(next(iter(stat_profile_a)) )    \n",
    "    with open('data/5_scan_amplitude.yaml', 'w') as file:\n",
    "        documents = yaml.dump(make_writable(stat_profile_a), file)\n",
    "    \n",
    "else:\n",
    "    with open('data/5_scan_amplitude.yaml') as file:\n",
    "        stat_profile_a = yaml.load( file, Loader=yaml.FullLoader)\n",
    "\n",
    "    \n",
    "    "
   ]
  },
  {
   "cell_type": "code",
   "execution_count": null,
   "id": "6376584c",
   "metadata": {},
   "outputs": [],
   "source": [
    "%%time\n",
    "if computing_amplitude:\n",
    "    sigma = 3\n",
    "    parameter_a = datasets_N[0].models.parameters['amplitude']\n",
    "    parameter_a.scan_n_sigma = sigma\n",
    "    stat_profile_N_a = fit.stat_profile([datasets_N[0]], parameter_a, reoptimize = True)\n",
    "    stat_profile_N_a['scale_scan'] = stat_profile_N_a.pop(next(iter(stat_profile_N_a)) )    \n",
    "    \n",
    "    with open('data/5_scan_amplitude_N.yaml', 'w') as file:\n",
    "        documents = yaml.dump(make_writable(stat_profile_N_a), file)\n",
    "    \n",
    "else:\n",
    "    with open('data/5_scan_amplitude_N.yaml') as file:\n",
    "        stat_profile_N_a = yaml.load( file, Loader=yaml.FullLoader)\n",
    "\n",
    "    \n",
    "    "
   ]
  },
  {
   "cell_type": "code",
   "execution_count": null,
   "id": "a504997e",
   "metadata": {},
   "outputs": [],
   "source": [
    "print(datasets_N[0].models)"
   ]
  },
  {
   "cell_type": "code",
   "execution_count": null,
   "id": "d7c5e5a2",
   "metadata": {},
   "outputs": [],
   "source": [
    "fig = plt.figure()\n",
    "ll_N_a = stat_profile_N_a.copy()\n",
    "ul_N_a = upper_limit_18_02.upper_limit(ll_N_a,0,0)\n",
    "L_N_a, x_N_a = ul_N_a.interpolate()\n",
    "plt.plot(x_N_a, L_N_a(x_N_a),label = \"Nuisance\")\n",
    "\n",
    "\n",
    "ll_a = stat_profile_a.copy()\n",
    "ul_a = upper_limit_18_02.upper_limit(ll_a,0,0)\n",
    "L_a, x_a = ul_a.interpolate()\n",
    "plt.plot(x_a, L_a(x_a),label = \"standard\")\n",
    "\n",
    "amplitude_err = datasets[0].models[0].parameters['amplitude'].error\n",
    "amplitude_err_N = datasets_N[0].models[0].parameters['amplitude'].error\n",
    "\n",
    "\n",
    "\n",
    "min_, er_neg, er_pos = ul_N_a.likelihood_error_asymmetric()\n",
    "min_ = min_[0]; er_neg = er_neg[0]; er_pos = er_pos[0]; \n",
    "ax = plt.gca()\n",
    "ylim= ax.get_ylim()\n",
    "ax.fill_between(  [min_-er_neg, min_+ er_pos], ylim[0], ylim[1], alpha = 0.2, \n",
    "                label = f'1$\\sigma$ error = -{er_neg:.2} +{er_pos:.2} \\n({amplitude_err_N:.2})')\n",
    "min_, er_neg, er_pos = ul_a.likelihood_error_asymmetric()\n",
    "min_ = min_[0]; er_neg = er_neg[0]; er_pos = er_pos[0]; \n",
    "ax.fill_between(  [min_-er_neg, min_+ er_pos], ylim[0], ylim[1],  alpha = 0.2, \n",
    "                label = f'1$\\sigma$ error = -{er_neg:.2} +{er_pos:.2} \\n({amplitude_err:.2})')\n",
    "\n",
    "plt.xlabel(\"Source amplitude [1/cm2sTeV]\")\n",
    "plt.ylabel(\"-2log (L) [arb. unit]\")\n",
    "plt.legend()\n",
    "#plt.ylim(ylim[0], ylim[1]-25)\n",
    "plt.title(\"Sys = -10%\")\n",
    "\n",
    "fig.savefig(\"plots/5_stat_scan_amplitude.png\")"
   ]
  },
  {
   "cell_type": "code",
   "execution_count": null,
   "id": "2827fb5f",
   "metadata": {},
   "outputs": [],
   "source": [
    "ul_N_a.plot_interpolate()"
   ]
  },
  {
   "cell_type": "markdown",
   "id": "21feb1e4",
   "metadata": {},
   "source": [
    "## Stat Profiles for Source Index"
   ]
  },
  {
   "cell_type": "code",
   "execution_count": null,
   "id": "9c1dc241",
   "metadata": {},
   "outputs": [],
   "source": [
    "%%time\n",
    "computing_index = 0\n",
    "\n",
    "if computing_index:\n",
    "    sigma = 2\n",
    "    parameter_i = datasets[0].models.parameters['index']\n",
    "    parameter_i.scan_n_sigma = sigma\n",
    "    stat_profile_i = fit.stat_profile([datasets[0]], parameter_i, reoptimize= True)\n",
    "    stat_profile_i['scale_scan'] = stat_profile_i.pop(next(iter(stat_profile_i)) )    \n",
    "    with open('data/5_scan_index.yaml', 'w') as file:\n",
    "        documents = yaml.dump(make_writable(stat_profile_i), file)\n",
    "    \n",
    "else:\n",
    "    with open('data/5_scan_index.yaml') as file:\n",
    "        stat_profile_i = yaml.load( file, Loader=yaml.FullLoader)\n",
    "\n",
    "    \n",
    "    "
   ]
  },
  {
   "cell_type": "code",
   "execution_count": null,
   "id": "cbd25536",
   "metadata": {},
   "outputs": [],
   "source": [
    "%%time\n",
    "computing_index_N = 0\n",
    "if computing_index_N:\n",
    "    sigma = 2\n",
    "    parameter_i = datasets_N[0].models.parameters['index']\n",
    "    parameter_i.scan_n_sigma = sigma\n",
    "    stat_profile_N_i = fit.stat_profile([datasets_N[0]], parameter_i, reoptimize = True)\n",
    "    stat_profile_N_i['scale_scan'] = stat_profile_N_i.pop(next(iter(stat_profile_N_i)) )    \n",
    "    \n",
    "    with open('data/5_scan_index_N.yaml', 'w') as file:\n",
    "        documents = yaml.dump(make_writable(stat_profile_N_i), file)\n",
    "    \n",
    "else:\n",
    "    with open('data/5_scan_index_N.yaml') as file:\n",
    "        stat_profile_N_i = yaml.load( file, Loader=yaml.FullLoader)\n",
    "\n",
    "    \n",
    "    "
   ]
  },
  {
   "cell_type": "code",
   "execution_count": null,
   "id": "521ce57b",
   "metadata": {},
   "outputs": [],
   "source": [
    "fig = plt.figure()\n",
    "ll_N_a = stat_profile_N_i.copy()\n",
    "ul_N_a = upper_limit_18_02.upper_limit(ll_N_a,0,0)\n",
    "L_N_a, x_N_a = ul_N_a.interpolate()\n",
    "plt.plot(x_N_a, L_N_a(x_N_a),label = \"Nuisance\")\n",
    "\n",
    "\n",
    "ll_a = stat_profile_i.copy()\n",
    "ul_a = upper_limit_18_02.upper_limit(ll_a,0,0)\n",
    "L_a, x_a = ul_a.interpolate()\n",
    "plt.plot(x_a, L_a(x_a),label = \"standard\")\n",
    "\n",
    "index_err = datasets[0].models[0].parameters['index'].error\n",
    "index_err_N = datasets_N[0].models[0].parameters['index'].error\n",
    "\n",
    "\n",
    "\n",
    "min_, er, upp = ul_N_a.likelihood_upper()\n",
    "min_ = min_[0]; er = er[0]\n",
    "ax = plt.gca()\n",
    "ylim= ax.get_ylim()\n",
    "ax.fill_between(  [min_-er, min_+ er], ylim[0], ylim[1], alpha = 0.2, \n",
    "                label = f'1$\\sigma$ error = {er:.2} ({index_err_N:.2})')\n",
    "min_, er, upp = ul_a.likelihood_upper()\n",
    "min_ = min_[0]; er = er[0]\n",
    "ax.fill_between(  [min_-er, min_+ er], ylim[0], ylim[1],  alpha = 0.2, \n",
    "                label = f'1$\\sigma$ error = {er:.2} ({index_err:.2})')\n",
    "\n",
    "plt.xlabel(\"Source Index\")\n",
    "plt.ylabel(\"-2log (L) [arb. unit]\")\n",
    "plt.legend()\n",
    "#plt.ylim(ylim[0], ylim[1]-25)\n",
    "plt.title(\"Sys = -10%\")\n",
    "\n",
    "fig.savefig(\"plots/5_stat_scan_index.png\")"
   ]
  }
 ],
 "metadata": {
  "kernelspec": {
   "display_name": "Python 3 (ipykernel)",
   "language": "python",
   "name": "python3"
  },
  "language_info": {
   "codemirror_mode": {
    "name": "ipython",
    "version": 3
   },
   "file_extension": ".py",
   "mimetype": "text/x-python",
   "name": "python",
   "nbconvert_exporter": "python",
   "pygments_lexer": "ipython3",
   "version": "3.8.16"
  },
  "varInspector": {
   "cols": {
    "lenName": 16,
    "lenType": 16,
    "lenVar": 40
   },
   "kernels_config": {
    "python": {
     "delete_cmd_postfix": "",
     "delete_cmd_prefix": "del ",
     "library": "var_list.py",
     "varRefreshCmd": "print(var_dic_list())"
    },
    "r": {
     "delete_cmd_postfix": ") ",
     "delete_cmd_prefix": "rm(",
     "library": "var_list.r",
     "varRefreshCmd": "cat(var_dic_list()) "
    }
   },
   "types_to_exclude": [
    "module",
    "function",
    "builtin_function_or_method",
    "instance",
    "_Feature"
   ],
   "window_display": false
  }
 },
 "nbformat": 4,
 "nbformat_minor": 5
}
