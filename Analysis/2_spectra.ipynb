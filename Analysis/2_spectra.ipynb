{
 "cells": [
  {
   "cell_type": "markdown",
   "id": "e7853a11",
   "metadata": {},
   "source": [
    "## Runnning with gammapy-dev/IRF_model\n",
    "Fitting asimov datasets with nuisance parameters based on the different livetimes"
   ]
  },
  {
   "cell_type": "markdown",
   "id": "0e04af29",
   "metadata": {},
   "source": [
    "### Setup"
   ]
  },
  {
   "cell_type": "code",
   "execution_count": 1,
   "id": "27bf135a-5ee4-4ca1-8549-6bf07929003c",
   "metadata": {},
   "outputs": [],
   "source": [
    "import matplotlib.pyplot as plt\n",
    "import numpy as np\n",
    "import astropy.units as u\n",
    "from gammapy.maps import Map\n",
    "from astropy.coordinates import SkyCoord, Angle\n",
    "from gammapy.modeling import Fit,  Parameters, Covariance , Parameter\n",
    "from gammapy.datasets import MapDataset ,Datasets, FluxPointsDataset\n",
    "from gammapy.modeling.models import (\n",
    "    PowerLawSpectralModel,\n",
    "    SkyModel,\n",
    "    PointSpatialModel,\n",
    "    PowerLawNormSpectralModel,\n",
    "    Models,\n",
    "    SpatialModel,\n",
    "    FoVBackgroundModel,\n",
    "    PiecewiseNormSpectralModel,\n",
    ")\n",
    "from gammapy.estimators import TSMapEstimator, ExcessMapEstimator\n",
    "from gammapy.estimators import FluxPoints, FluxPointsEstimator\n",
    "\n",
    "from regions import CircleSkyRegion, RectangleSkyRegion\n",
    "import yaml\n",
    "import sys\n",
    "sys.path.append('../')\n",
    "import Dataset_load \n",
    "\n",
    "from  Dataset_Setup import Setup, GaussianCovariance_matrix\n",
    "from matplotlib import rc\n",
    "rc(\"font\", **{\"family\": \"serif\", \"serif\": [\"Computer Modern\"]})\n",
    "rc(\"text\", usetex=True)"
   ]
  },
  {
   "cell_type": "markdown",
   "id": "5de988df",
   "metadata": {
    "tags": []
   },
   "source": [
    "## Read dataset"
   ]
  },
  {
   "cell_type": "code",
   "execution_count": 2,
   "id": "0eeeaf75",
   "metadata": {},
   "outputs": [],
   "source": [
    "c = Dataset_load.load_config()\n",
    "awo, aw, ewo, ew = c['_colors']  "
   ]
  },
  {
   "cell_type": "code",
   "execution_count": 3,
   "id": "e0c45f4e-6432-405e-86b7-649e254c0950",
   "metadata": {},
   "outputs": [],
   "source": [
    "livetimes = c['livetimes']\n",
    "zero = c['zero'] \n",
    "norm = c['norm'] \n",
    "tilt = c['tilt'] \n",
    "bias = c['bias'] \n",
    "resolution = c['resolution'] \n",
    "magnitude = c['magnitude'] \n",
    "corrlength = c['corrlength']\n",
    "sys = c['sys'] \n",
    "folder = c['folder']\n",
    "nbidx = 2\n"
   ]
  },
  {
   "cell_type": "code",
   "execution_count": 4,
   "id": "f94dc89c",
   "metadata": {},
   "outputs": [
    {
     "name": "stdout",
     "output_type": "stream",
     "text": [
      "loaded dataset:\n",
      "/home/katrin/Documents/nuisance_summary/PKS_flare/HESS_public/dataset-simulated-2.154434690031884-hr.fits.gz\n"
     ]
    }
   ],
   "source": [
    "dataset_input  = Dataset_load.create_asimov(model = c['model'], source = c['source'], \n",
    "                                               livetime = f\"{c['livetime']}-hr\",\n",
    "                                        parameters = None)\n"
   ]
  },
  {
   "cell_type": "markdown",
   "id": "2e0399d4",
   "metadata": {},
   "source": [
    "## Datasets"
   ]
  },
  {
   "cell_type": "code",
   "execution_count": 5,
   "id": "b24b18ac-af52-48ac-bd1e-f03d21457fe4",
   "metadata": {},
   "outputs": [],
   "source": [
    "def set_up(dataset_input):\n",
    "    \n",
    "    setup = Setup(dataset_input=dataset_input)\n",
    "    #setup.set_up_irf_sys(bias, resolution, norm, tilt)\n",
    "    dataset_asimov, dataset_asimov_N = setup.run()\n",
    "    # irf model\n",
    "    setup.set_irf_model(dataset_asimov_N)\n",
    "    if sys == \"Eff_area\":\n",
    "        dataset_asimov_N.models.parameters['resolution'].frozen = True\n",
    "        dataset_asimov_N.irf_model.parameters['tilt'].frozen = False\n",
    "        dataset_asimov_N.irf_model.parameters['bias'].frozen = True\n",
    "        setup.set_irf_prior(dataset_asimov_N, bias, resolution, norm, tilt)\n",
    "\n",
    "    # piece wise model\n",
    "    # remove old bkg model\n",
    "    #setup.unset_model(dataset_asimov_N, FoVBackgroundModel)\n",
    "    #setup.set_piecewise_bkg_model(dataset_asimov_N)\n",
    "    # energy of the following parameters smaller than ethrshold\n",
    "    #dataset_asimov_N.background_model.parameters['norm0'].frozen = True\n",
    "    #dataset_asimov_N.background_model.parameters['norm1'].frozen = True\n",
    "    #dataset_asimov_N.background_model.parameters['norm2'].frozen = True\n",
    "    #dataset_asimov_N.background_model.parameters['norm3'].frozen = True\n",
    "    #setup.set_bkg_prior(dataset_asimov_N, magnitude, corrlength)\n",
    "\n",
    "    \n",
    "       \n",
    "    return dataset_asimov_N, dataset_asimov"
   ]
  },
  {
   "cell_type": "code",
   "execution_count": null,
   "id": "941d5494-e803-4ebd-9d72-3911c3629760",
   "metadata": {},
   "outputs": [],
   "source": [
    "datasets_N = []\n",
    "datasets = []\n",
    "for n in range(len(livetimes)):\n",
    "    dataset_asimov_N, dataset_asimov = set_up(dataset_input)\n",
    "    datasets_N.append(dataset_asimov_N)\n",
    "    datasets.append(dataset_asimov)"
   ]
  },
  {
   "cell_type": "code",
   "execution_count": null,
   "id": "b7a0cca1-827e-4946-8ad3-b4258f891a78",
   "metadata": {},
   "outputs": [],
   "source": [
    "print(\"read\")\n",
    "for i, d in enumerate(datasets):\n",
    "    print(i)\n",
    "    path = f'../{folder}/data/0_model_livetime_{livetimes[i]}.yml'\n",
    "    datasets[i].models = Models.read(path)\n",
    "for i, d in enumerate(datasets_N):\n",
    "    print(i)\n",
    "    path = f'../{folder}/data/0_model_nui_livetime_{livetimes[i]}.yml'\n",
    "    print(path)\n",
    "    datasets_N[i] = Dataset_load.load_dataset_N(d, path,bkg_sys = False)        \n",
    "    datasets_N[i].models.parameters['tilt'].frozen = False \n",
    "    \n"
   ]
  },
  {
   "cell_type": "markdown",
   "id": "fe104f21-8266-42ab-90e1-cd917df835b0",
   "metadata": {},
   "source": [
    "## RND Fluxpoints"
   ]
  },
  {
   "cell_type": "code",
   "execution_count": null,
   "id": "109c97f0",
   "metadata": {},
   "outputs": [],
   "source": [
    "infos = np.loadtxt(f\"../{c['folder']}/data/1_P_draw_info.txt\")\n",
    "N_max = 100\n",
    "shift_rnds = infos[:N_max, 0]\n",
    "index_rnds = infos[:N_max, 1]\n",
    "res_rnds = infos[:N_max, 2]\n",
    "bias_rnds = infos[:N_max, 3]\n",
    "flux = np.loadtxt(f\"../{c['folder']}/data/1_P_draw_flux.txt\")\n",
    "flux2e = np.loadtxt(f\"../{c['folder']}/data/1_P_draw_flux2e.txt\")\n",
    "flux_N = np.loadtxt(f\"../{c['folder']}/data/1_N_P_draw_flux.txt\")\n",
    "flux_N2e = np.loadtxt(f\"../{c['folder']}/data/1_N_P_draw_flux2e.txt\")\n",
    "\n",
    "\n",
    "\n",
    "pars_N = np.loadtxt(f\"../{c['folder']}/data/1_N_P_draw_par.txt\")\n",
    "lives = pars_N[:N_max, -1:]\n",
    "\n",
    "fpd_Ns, fpd_s = [], []\n",
    "\n",
    "\n",
    "\n",
    "for i in range(len(shift_rnds)):\n",
    "    s = shift_rnds[i]\n",
    "    t = index_rnds[i]\n",
    "    r = res_rnds[i]\n",
    "    b = bias_rnds[i]\n",
    "    rnds = f\"{s:.6}_{t:.6}_{r:.6}_{b:.6}\"\n",
    "    l = lives[i][0]\n",
    "    print(l)\n",
    "    try:\n",
    "        fluxpoints = FluxPoints.read(\n",
    "            f\"../{c['folder']}/data/fluxpoints/1P_fluxpoints_{l}_{rnds}.fits\"\n",
    "        )\n",
    "        fluxpoints_N = FluxPoints.read(\n",
    "            f\"../{c['folder']}/data/fluxpoints/1P_fluxpoints_N_{l}_{rnds}.fits\"\n",
    "        )\n",
    "        model_name = f\"../{c['folder']}/data/fluxpoints/1P_model_N_{l}_{rnds}.yaml\"\n",
    "        fluxpoints_Nds = FluxPointsDataset(data=fluxpoints_N, models=Models.read(model_name))\n",
    "        model_name = f\"../{c['folder']}/data/fluxpoints/1P_model_{l}_{rnds}.yaml\"\n",
    "        fluxpoints_ds = FluxPointsDataset(data=fluxpoints, models=Models.read(model_name))\n",
    "        fpd_Ns.append(fluxpoints_Nds)\n",
    "        fpd_s.append(fluxpoints_ds)\n",
    "    except:\n",
    "        j = 0 \n",
    "    \n"
   ]
  },
  {
   "cell_type": "code",
   "execution_count": null,
   "id": "ff96e0ad-0bdc-464d-8e0a-bc275b748b6a",
   "metadata": {},
   "outputs": [],
   "source": [
    "def plot_spectra():\n",
    "    fig,axs = plt.subplots(len(datasets), 1, figsize = (9, 5 * len(datasets)))\n",
    "    axs= axs.flatten()\n",
    "    energy_power = 2\n",
    "    for i, d in enumerate(datasets):\n",
    "        ax = axs[i]\n",
    "        live = livetimes[i]\n",
    "        dataset = datasets[i]\n",
    "        dataset_N = datasets_N[i]\n",
    "\n",
    "        dataset_N.models[0].spectral_model.plot((0.1, 100) *u.TeV, energy_power = energy_power,\n",
    "                                                     color = aw[0], ax = ax)    \n",
    "        paris = [p.name for p in dataset_N.models[0].spectral_model.parameters.free_parameters]\n",
    "        def info(dataset):\n",
    "            info = \"\"\n",
    "            for p in paris:\n",
    "                par = dataset.models[0].parameters[p]\n",
    "                per = par.error /par.value\n",
    "                info += f\"\\n{p} error = {per*100:.4} %\"\n",
    "            return info\n",
    "        dataset_N.models[0].spectral_model.plot_error((0.1, 100) *u.TeV,energy_power = energy_power, ax = ax, \n",
    "                                                   facecolor= aw[1], alpha = 0.8, \n",
    "                                                     label = f'Fit with systematic: {info(dataset_N)}')\n",
    "        dataset.models[0].spectral_model.plot((0.1, 100) *u.TeV,energy_power = energy_power, ax = ax, \n",
    "                                                   color= awo[0], linestyle = 'dashed')\n",
    "       \n",
    "        dataset.models[0].spectral_model.plot_error((0.1, 100) *u.TeV,energy_power = energy_power, ax = ax, \n",
    "                                                   facecolor= awo[1], alpha = 0.8,\n",
    "                                                   label = f'Fit w/o systematic{info(dataset)}')\n",
    "        ax.set_title(f\"Livetime: {float(live):.2} hr\")\n",
    "        ax.set_ylim(1e-12, 1e-10)\n",
    "\n",
    "        if i <2:\n",
    "            ax.set_ylim(6e-13, 6e-9)\n",
    "            \n",
    "        \n",
    "        if live in lives:\n",
    "            idx = np.where(live == lives)[0][0]\n",
    "            fpd_Ns[idx].data.plot(ax = ax, energy_power = energy_power, color = ew[0],\n",
    "                                 label = \"Fluxpoint with systematic \\nand statistic\",\n",
    "                                 capsize = 5)\n",
    "            fpd_s[idx].data.plot(ax = ax, energy_power = energy_power, color = ewo[0],\n",
    "                                label = \"Fluxpoint w/o systematic \\nand with statistic\",\n",
    "                                capsize = 5)\n",
    "        ax.legend(loc='center left', bbox_to_anchor=(1, 0.5))\n",
    "    plt.tight_layout()\n",
    "    return fig\n",
    "        \n",
    "fig = plot_spectra()\n",
    "fig.savefig(f'../{folder}/plots/{nbidx}_spectra_with_rnd_fp.pdf')"
   ]
  },
  {
   "cell_type": "code",
   "execution_count": null,
   "id": "e2237ec0",
   "metadata": {},
   "outputs": [],
   "source": [
    "energy_power = 2\n",
    "energy_bounds = (0.3, 100) *u.TeV\n",
    "def plot_spectrum(i, ax):\n",
    "    live = livetimes[i]\n",
    "    dataset = datasets[i]\n",
    "    dataset_N = datasets_N[i]\n",
    "\n",
    "    dataset_N.models[0].spectral_model.plot(energy_bounds, energy_power = energy_power,\n",
    "                                                 color = aw[0], ax = ax)    \n",
    "    paris = [p.name for p in dataset_N.models[0].spectral_model.parameters.free_parameters]\n",
    "    dataset_N.models[0].spectral_model.plot_error(energy_bounds,energy_power = energy_power, ax = ax, \n",
    "                                               facecolor= aw[1], alpha = 0.8, \n",
    "                                                 label = f'Fit with systematic')\n",
    "    dataset.models[0].spectral_model.plot(energy_bounds,energy_power = energy_power, ax = ax, \n",
    "                                               color= awo[0], linestyle = 'dashed')\n",
    "\n",
    "    dataset.models[0].spectral_model.plot_error(energy_bounds,energy_power = energy_power, ax = ax, \n",
    "                                               facecolor= awo[1], alpha = 0.8,\n",
    "                                               label = f'Fit w/o systematic')\n",
    "    ax.set_title(f\"Livetime: {float(live):.2} hr\")\n",
    "    ax.set_ylim(3e-13, 1e-10)\n",
    "\n",
    "    if i <2:\n",
    "        ax.set_ylim(6e-13, 6e-9)\n",
    "\n",
    "\n",
    "    if live in lives:\n",
    "        idx = np.where(live == lives)[0][0]\n",
    "        fpd_Ns[idx].data.plot(ax = ax, energy_power = energy_power, color = ew[0],\n",
    "                             label = \"Fluxpoint with systematic \\nand statistic\",\n",
    "                             capsize = 5)\n",
    "        fpd_s[idx].data.plot(ax = ax, energy_power = energy_power, color = ewo[0],\n",
    "                            label = \"Fluxpoint w/o systematic \\nand with statistic\",\n",
    "                            capsize = 5)\n",
    "    ax.legend(loc = 'lower left')\n",
    "    plt.tight_layout()\n",
    "    ax.set_xlim(energy_bounds[0], energy_bounds[1])\n",
    "    return fig\n",
    "        \n",
    "i = 7 \n",
    "fig,ax = plt.subplots(1, 1, figsize = (5, 4 ))\n",
    "\n",
    "fig = plot_spectrum(i, ax)\n",
    "fig.savefig(f'../{folder}/plots/{nbidx}_spectrum_{livetimes[i]}.pdf')"
   ]
  },
  {
   "cell_type": "code",
   "execution_count": null,
   "id": "177033ab-3c79-4d95-a47a-b1f89b2609d0",
   "metadata": {},
   "outputs": [],
   "source": [
    "live = lives[0]\n",
    "energy_power = 2\n",
    "if live in lives:\n",
    "    idx = np.where(live == lives)[0][-1]\n",
    "    fpd_Ns[idx].data.plot( energy_power = energy_power, color = ew[0],\n",
    "                         label = \"Example fluxpoint with nui par.\")\n",
    "    fpd_s[idx].data.plot( energy_power = energy_power, color = ewo[0],\n",
    "                         label = \"Example fluxpoint with nui par.\")"
   ]
  },
  {
   "cell_type": "code",
   "execution_count": null,
   "id": "93720c75-d681-4377-a725-6cfe0bcc56b1",
   "metadata": {},
   "outputs": [],
   "source": [
    "def compute_precision(N):\n",
    "    Z = 1.645\n",
    "    return Z / np.sqrt(N)\n",
    "\n",
    "def plot_coverage(fig, ax2):\n",
    "    p = compute_precision(N)\n",
    "    ax2.errorbar(ebins, withine, yerr=p, color=awo[0], label=\"\")\n",
    "    ax2.errorbar(ebins * 1.05, withine_N, yerr=p, color=aw[0], label=\"\")\n",
    "    ax2.plot(ebins, [0.68] * len(ebins), \":\", color=\"black\", label=\"\")\n",
    "    # ax2.legend(ncol = 2)\n",
    "    axs.set_title(f\"N = {N} (p = {p*100:.3}\\\\%)\")\n",
    "    ax2.set_xlabel(\"Energy [TeV]\")\n",
    "    ax2.set_ylabel(\"Coverage\")\n",
    "    axs.set_xlabel(\"\")\n",
    "    plt.tight_layout()"
   ]
  },
  {
   "cell_type": "code",
   "execution_count": null,
   "id": "0b774d4e",
   "metadata": {},
   "outputs": [],
   "source": [
    "N = len(flux2e)\n",
    "N"
   ]
  },
  {
   "cell_type": "code",
   "execution_count": null,
   "id": "853a8a14",
   "metadata": {},
   "outputs": [],
   "source": [
    "mask = dataset_input.mask.data.sum(axis=2).sum(axis=1) > 0\n",
    "ebins = dataset_input.counts.geom.axes[0].center[mask]\n",
    "i = 7\n",
    "asimov, asimov_errors = datasets[i].models[0].spectral_model.evaluate_error(ebins)\n",
    "asimov_N, asimov_errors_N = datasets_N[i].models[0].spectral_model.evaluate_error(\n",
    "    ebins,\n",
    ")\n",
    "\n",
    "withine = []\n",
    "withine_N = []\n",
    "\n",
    "for ie, e in enumerate(ebins):\n",
    "    xs = []\n",
    "    xs_N = []\n",
    "    for f in flux:\n",
    "        value = f[ie]\n",
    "        lowerlim = np.all(value <= asimov.value[ie] + asimov_errors.value[ie])\n",
    "        upperlim = np.all(value >= asimov.value[ie] - asimov_errors.value[ie])\n",
    "        x = lowerlim & upperlim\n",
    "        xs.append(x)\n",
    "\n",
    "        lowerlim = np.all(value <= asimov_N.value[ie] + asimov_errors_N.value[ie])\n",
    "        upperlim = np.all(value >= asimov_N.value[ie] - asimov_errors_N.value[ie])\n",
    "        x = lowerlim & upperlim\n",
    "        xs_N.append(x)\n",
    "\n",
    "    withine.append(np.count_nonzero(xs) / N)\n",
    "    withine_N.append(np.count_nonzero(xs_N) / N)\n",
    "print(withine)\n",
    "print(withine_N)"
   ]
  },
  {
   "cell_type": "code",
   "execution_count": null,
   "id": "6b5b5890-5df8-4eb9-9916-1ccf89d396f1",
   "metadata": {},
   "outputs": [],
   "source": [
    "i = 7 \n",
    "fig, (axs, ax2) = plt.subplots(\n",
    "    2, 1, gridspec_kw={\"height_ratios\": [3, 1]}, sharex=True, figsize=((5, 5))\n",
    ")\n",
    "fig = plot_spectrum(i, axs)\n",
    "\n",
    "\n",
    "\n",
    "energy_bounds = (0.1, 100) *u.TeV\n",
    "\n",
    "plot_coverage(fig, ax2)\n",
    "yy = axs.get_ylim()\n",
    "#for f in flux2e:\n",
    "#    axs.plot(ebins, f, color = 'grey', alpha = 0.2)\n",
    "    \n",
    "ax2.set_xscale(\"log\")\n",
    "axs.set_ylim(yy[0], yy[1])\n",
    "axs.set_ylim(1e-12, yy[1])\n",
    "axs.set_xlabel(\"\")\n",
    "fig.savefig(f'../{folder}/plots/{nbidx}_spectrum_{livetimes[i]}.pdf')\n"
   ]
  },
  {
   "cell_type": "code",
   "execution_count": null,
   "id": "6e67bfeb",
   "metadata": {},
   "outputs": [],
   "source": []
  }
 ],
 "metadata": {
  "kernelspec": {
   "display_name": "Python 3 (ipykernel)",
   "language": "python",
   "name": "python3"
  },
  "language_info": {
   "codemirror_mode": {
    "name": "ipython",
    "version": 3
   },
   "file_extension": ".py",
   "mimetype": "text/x-python",
   "name": "python",
   "nbconvert_exporter": "python",
   "pygments_lexer": "ipython3",
   "version": "3.9.16"
  },
  "varInspector": {
   "cols": {
    "lenName": 16,
    "lenType": 16,
    "lenVar": 40
   },
   "kernels_config": {
    "python": {
     "delete_cmd_postfix": "",
     "delete_cmd_prefix": "del ",
     "library": "var_list.py",
     "varRefreshCmd": "print(var_dic_list())"
    },
    "r": {
     "delete_cmd_postfix": ") ",
     "delete_cmd_prefix": "rm(",
     "library": "var_list.r",
     "varRefreshCmd": "cat(var_dic_list()) "
    }
   },
   "types_to_exclude": [
    "module",
    "function",
    "builtin_function_or_method",
    "instance",
    "_Feature"
   ],
   "window_display": false
  }
 },
 "nbformat": 4,
 "nbformat_minor": 5
}
