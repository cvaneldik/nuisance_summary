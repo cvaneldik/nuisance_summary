{
 "cells": [
  {
   "cell_type": "markdown",
   "id": "e7853a11",
   "metadata": {},
   "source": [
    "## Runnning with gammapy-dev/IRF_model\n",
    "Fitting asimov datasets with nuisance parameters based on the different livetimes"
   ]
  },
  {
   "cell_type": "markdown",
   "id": "0e04af29",
   "metadata": {},
   "source": [
    "### Setup"
   ]
  },
  {
   "cell_type": "code",
   "execution_count": 1,
   "id": "27bf135a-5ee4-4ca1-8549-6bf07929003c",
   "metadata": {},
   "outputs": [],
   "source": [
    "import matplotlib.pyplot as plt\n",
    "import numpy as np\n",
    "import astropy.units as u\n",
    "from gammapy.maps import Map\n",
    "from astropy.coordinates import SkyCoord, Angle\n",
    "from gammapy.modeling import Fit,  Parameters, Covariance , Parameter\n",
    "from gammapy.datasets import MapDataset ,Datasets, FluxPointsDataset\n",
    "from gammapy.modeling.models import (\n",
    "    PowerLawSpectralModel,\n",
    "    SkyModel,\n",
    "    PointSpatialModel,\n",
    "    PowerLawNormSpectralModel,\n",
    "    Models,\n",
    "    SpatialModel,\n",
    "    FoVBackgroundModel,\n",
    "    PiecewiseNormSpectralModel,\n",
    ")\n",
    "from gammapy.estimators import TSMapEstimator, ExcessMapEstimator\n",
    "from gammapy.estimators import FluxPoints, FluxPointsEstimator\n",
    "\n",
    "from regions import CircleSkyRegion, RectangleSkyRegion\n",
    "import yaml\n",
    "import sys\n",
    "sys.path.append('../')\n",
    "import Dataset_load \n",
    "\n",
    "from  Dataset_Setup import Setup, GaussianCovariance_matrix\n",
    "from matplotlib import rc\n",
    "rc(\"font\", **{\"family\": \"serif\", \"serif\": [\"Computer Modern\"]})\n",
    "rc(\"text\", usetex=True)"
   ]
  },
  {
   "cell_type": "markdown",
   "id": "5de988df",
   "metadata": {
    "tags": []
   },
   "source": [
    "## Read dataset"
   ]
  },
  {
   "cell_type": "code",
   "execution_count": 2,
   "id": "0eeeaf75",
   "metadata": {},
   "outputs": [],
   "source": [
    "c = Dataset_load.load_config()\n",
    "awo, aw, ewo, ew = c['_colors']  "
   ]
  },
  {
   "cell_type": "code",
   "execution_count": 3,
   "id": "e0c45f4e-6432-405e-86b7-649e254c0950",
   "metadata": {},
   "outputs": [],
   "source": [
    "livetimes = c['livetimes']\n",
    "livetime = c['livetime']\n",
    "zero = c['zero'] \n",
    "norm = c['norm'] \n",
    "tilt = c['tilt'] \n",
    "bias = c['bias'] \n",
    "resolution = c['resolution'] \n",
    "magnitude = c['magnitude'] \n",
    "corrlength = c['corrlength']\n",
    "sys = c['sys'] \n",
    "#folder =  \"Eff_area_PKSflare_crab_cutoff\"# c['folder']\n",
    "folder =   c['folder']\n",
    "nbidx = 2\n"
   ]
  },
  {
   "cell_type": "code",
   "execution_count": 4,
   "id": "f94dc89c",
   "metadata": {},
   "outputs": [
    {
     "name": "stdout",
     "output_type": "stream",
     "text": [
      "loaded dataset:\n",
      "/home/wecapstor1/caph/mppi045h/nuisance_summary/PKS_flare/HESS_public/dataset-simulated-2.154434690031884-hr.fits.gz\n"
     ]
    }
   ],
   "source": [
    "dataset_input  = Dataset_load.create_asimov(model = c['model'], source = c['source'], \n",
    "                                               livetime = f\"{c['livetime']}-hr\",\n",
    "                                        parameters = None)\n"
   ]
  },
  {
   "cell_type": "markdown",
   "id": "2e0399d4",
   "metadata": {},
   "source": [
    "## Datasets"
   ]
  },
  {
   "cell_type": "code",
   "execution_count": 5,
   "id": "b24b18ac-af52-48ac-bd1e-f03d21457fe4",
   "metadata": {},
   "outputs": [],
   "source": [
    "def set_up(dataset_input):\n",
    "    \n",
    "    setup = Setup(dataset_input=dataset_input)\n",
    "    #setup.set_up_irf_sys(bias, resolution, norm, tilt)\n",
    "    dataset_asimov, dataset_asimov_N = setup.run()\n",
    "    # irf model\n",
    "    setup.set_irf_model(dataset_asimov_N)\n",
    "    if sys == \"Eff_area\":\n",
    "        dataset_asimov_N.models.parameters['resolution'].frozen = True\n",
    "        dataset_asimov_N.irf_model.parameters['tilt'].frozen = False\n",
    "        dataset_asimov_N.irf_model.parameters['bias'].frozen = True\n",
    "        setup.set_irf_prior(dataset_asimov_N, bias, resolution, norm, tilt)\n",
    "        \n",
    "        \n",
    "    if sys == \"E_reco\":\n",
    "        dataset_asimov_N.models.parameters['resolution'].frozen = True\n",
    "        dataset_asimov_N.irf_model.parameters['tilt'].frozen = True\n",
    "        dataset_asimov_N.irf_model.parameters['norm'].frozen = True\n",
    "        dataset_asimov_N.irf_model.parameters['bias'].frozen = False\n",
    "        setup.set_irf_prior(dataset_asimov_N, bias, resolution, norm, tilt)\n",
    "       \n",
    "    if sys == \"Combined\":\n",
    "        dataset_asimov_N.models.parameters['resolution'].frozen = True\n",
    "        dataset_asimov_N.irf_model.parameters['tilt'].frozen = False\n",
    "        dataset_asimov_N.irf_model.parameters['bias'].frozen = False\n",
    "        setup.set_irf_prior(dataset_asimov_N, bias, resolution, norm, tilt)\n",
    "       \n",
    "    if sys == \"BKG\":\n",
    "        \n",
    "        # piece wise model\n",
    "        # remove old bkg model\n",
    "        setup.set_up_bkg_sys_V( breake = 10,\n",
    "                            index1 = 2,\n",
    "                            index2 = 1.5, \n",
    "                            magnitude = magnitude )\n",
    "        \n",
    "        dataset_asimov, dataset_asimov_N = setup.run()\n",
    "        \n",
    "        setup.unset_model(dataset_asimov_N, FoVBackgroundModel)\n",
    "        setup.set_piecewise_bkg_model(dataset_asimov_N)\n",
    "        # energy of the following parameters smaller than ethrshold\n",
    "        dataset_asimov_N.background_model.parameters['norm0'].frozen = True\n",
    "        dataset_asimov_N.background_model.parameters['norm1'].frozen = True\n",
    "        dataset_asimov_N.background_model.parameters['norm2'].frozen = True\n",
    "        dataset_asimov_N.background_model.parameters['norm3'].frozen = True\n",
    "        setup.set_bkg_prior(dataset_asimov_N, magnitude, corrlength)\n",
    "        frozen_pos = 1\n",
    "        if frozen_pos:\n",
    "            dataset_asimov.models.parameters['lon_0'].frozen = True\n",
    "            dataset_asimov.models.parameters['lat_0'].frozen = True\n",
    "            dataset_asimov_N.models.parameters['lon_0'].frozen = True\n",
    "            dataset_asimov_N.models.parameters['lat_0'].frozen = True\n",
    "\n",
    "    return dataset_asimov_N, dataset_asimov, setup"
   ]
  },
  {
   "cell_type": "code",
   "execution_count": 6,
   "id": "b7a0cca1-827e-4946-8ad3-b4258f891a78",
   "metadata": {},
   "outputs": [
    {
     "name": "stdout",
     "output_type": "stream",
     "text": [
      "3000\n",
      "../Combined_PKSflare_crab_cutoff/data/0_model_nui_livetime_2.154434690031884_3000.yml\n",
      "DatasetModels\n",
      "\n",
      "Component 0: SkyModel\n",
      "\n",
      "  Name                      : Crablog\n",
      "  Datasets names            : None\n",
      "  Spectral model type       : ExpCutoffPowerLawSpectralModel\n",
      "  Spatial  model type       : PointSpatialModel\n",
      "  Temporal model type       : \n",
      "  Parameters:\n",
      "    index                         :      2.300   +/-    0.09             \n",
      "    amplitude                     :   3.85e-11   +/- 2.6e-12 1 / (cm2 s TeV)\n",
      "    reference             (frozen):      1.000       TeV         \n",
      "    lambda_                       :      0.100   +/-    0.04 1 / TeV     \n",
      "    alpha                 (frozen):      1.000                   \n",
      "    lon_0                         :    329.680   +/-    0.00 deg         \n",
      "    lat_0                         :    -30.222   +/-    0.00 deg         \n",
      "\n",
      "Component 1: FoVBackgroundModel\n",
      "\n",
      "  Name                      : dataset-bkg\n",
      "  Datasets names            : ['dataset']\n",
      "  Spectral model type       : PowerLawNormSpectralModel\n",
      "  Parameters:\n",
      "    norm                          :      1.000   +/-    0.01             \n",
      "    tilt                          :      0.000   +/-    0.01             \n",
      "    reference             (frozen):      1.000       TeV         \n",
      "\n",
      "\n",
      "CPU times: user 1.43 s, sys: 237 ms, total: 1.66 s\n",
      "Wall time: 1.67 s\n"
     ]
    }
   ],
   "source": [
    "%%time\n",
    "\n",
    "for e_reco_n in [3000]:\n",
    "    print(e_reco_n)\n",
    "\n",
    "    dataset_N, dataset , setup= set_up(dataset_input)\n",
    "    path = f'../{folder}/data/0_model_livetime_{livetime}.yml'\n",
    "    dataset.models = Models.read(path)\n",
    "    fitting_N = False\n",
    "    if fitting_N:\n",
    "        fit_cor = Fit(store_trace=0)\n",
    "        dataset_N.e_reco_n = e_reco_n\n",
    "        minuit_opts = {\"tol\": 0.01, \"strategy\": 2}\n",
    "        fit_cor.backend = \"minuit\"\n",
    "        fit_cor.optimize_opts = minuit_opts\n",
    "        result_cor = fit_cor.run(dataset_N)\n",
    "        print(result_cor)\n",
    "        print(dataset_N.models)\n",
    "        print(\"saving\")\n",
    "        path = f'../{folder}/data/0_model_nui_livetime_{livetime}_{e_reco_n}.yml'\n",
    "    else:\n",
    "        path = f'../{folder}/data/0_model_nui_livetime_{livetime}_{e_reco_n}.yml'\n",
    "        print(path)\n",
    "        dataset_N = Dataset_load.load_dataset_N(dataset_N, path,bkg_sys = False)        \n",
    "        dataset_N.models.parameters['tilt'].frozen = False \n",
    "        print(dataset.models)"
   ]
  },
  {
   "cell_type": "code",
   "execution_count": 7,
   "id": "77679f1b-a1b4-4401-a6ba-ce5ff356a5e3",
   "metadata": {},
   "outputs": [
    {
     "name": "stdout",
     "output_type": "stream",
     "text": [
      "amplitude $3.85 $ & $3.85 \\pm 0.259 $ & $3.852 \\pm 0.47 $ & \n",
      "index $2.3 $ & $2.3 \\pm 0.0923 $ & $2.299 \\pm 0.134 $ & \n",
      "lambda_ $0.1 $ & $0.1 \\pm 0.0399 $ & $0.1 \\pm 0.0401 $ & \n"
     ]
    }
   ],
   "source": [
    "for p in ['amplitude', 'index','lambda_']:\n",
    "    st_ = p + ' '\n",
    "    for i,d in enumerate([dataset_input, dataset, dataset_N]):\n",
    "        value = d.models.parameters[p].value\n",
    "        error = float(d.models.parameters[p].error)\n",
    "        \n",
    "        if p == 'amplitude':\n",
    "            value  = value *1e11\n",
    "            \n",
    "            error  = error *1e11\n",
    "        st_ += f\"${np.round(value,3)} \"\n",
    "        if i >0: \n",
    "            st_ += f\"\\pm {error:.3} $ & \"\n",
    "        else:\n",
    "            st_ += f\"$ & \"\n",
    "            \n",
    "    print(st_)\n"
   ]
  },
  {
   "cell_type": "markdown",
   "id": "fe104f21-8266-42ab-90e1-cd917df835b0",
   "metadata": {},
   "source": [
    "## RND Fluxpoints"
   ]
  },
  {
   "cell_type": "code",
   "execution_count": 8,
   "id": "b26df957-6b50-4085-87d6-1caf424947f9",
   "metadata": {},
   "outputs": [
    {
     "name": "stdout",
     "output_type": "stream",
     "text": [
      "1000\n"
     ]
    }
   ],
   "source": [
    "infos = np.loadtxt(f\"../{folder}/data/1_P_draw_info.txt\")\n",
    "N_max = 1000\n",
    "shift_rnds = infos[:N_max, 0]\n",
    "index_rnds = infos[:N_max, 1]\n",
    "res_rnds = infos[:N_max, 2]\n",
    "bias_rnds = infos[:N_max, 3]\n",
    "flux = np.loadtxt(f\"../{folder}/data/1_P_draw_flux.txt\")[:N_max]\n",
    "flux2e = np.loadtxt(f\"../{folder}/data/1_P_draw_flux2e.txt\")[:N_max]\n",
    "flux_N = np.loadtxt(f\"../{folder}/data/1_N_P_draw_flux.txt\")[:N_max]\n",
    "flux_N2e = np.loadtxt(f\"../{folder}/data/1_N_P_draw_flux2e.txt\")[:N_max]\n",
    "pars_N = np.loadtxt(f\"../{folder}/data/1_N_P_draw_par.txt\")[:N_max]\n",
    "lives = pars_N[:N_max, -1:]\n",
    "print(len(shift_rnds))"
   ]
  },
  {
   "cell_type": "code",
   "execution_count": 9,
   "id": "51661af7-c5c7-4605-8de0-5d7a9ad402b8",
   "metadata": {},
   "outputs": [],
   "source": [
    "fpd_Ns, fpd_s = [], []\n",
    "\n",
    "s = 0.\n",
    "t = 0.\n",
    "r = 0.\n",
    "b = 0.\n",
    "rnds = f\"{s:.6}_{t:.6}_{r:.6}_{b:.6}\"\n",
    "try:\n",
    "    nns = np.loadtxt(f\"../{folder}/data/fluxpoints/1P_draw_fluxpoints.txt\")\n",
    "except:\n",
    "    nns = []\n",
    "l = c['livetime']\n",
    "for nn in nns:\n",
    "    nn = int(nn)\n",
    "    fluxpoints = FluxPoints.read(\n",
    "        f\"../{folder}/data/fluxpoints/1P_fluxpoints_{l}_{rnds}_{nn}.fits\"\n",
    "    )\n",
    "    fluxpoints_N = FluxPoints.read(\n",
    "        f\"../{folder}/data/fluxpoints/1P_fluxpoints_N_{l}_{rnds}_{nn}.fits\"\n",
    "    )\n",
    "    model_name = f\"../{folder}/data/fluxpoints/1P_model_N_{l}_{rnds}_{nn}.yaml\"\n",
    "    fluxpoints_Nds = FluxPointsDataset(data=fluxpoints_N, models=Models.read(model_name))\n",
    "    model_name = f\"../{folder}/data/fluxpoints/1P_model_{l}_{rnds}_{nn}.yaml\"\n",
    "    fluxpoints_ds = FluxPointsDataset(data=fluxpoints, models=Models.read(model_name))\n",
    "    fpd_Ns.append(fluxpoints_Nds)\n",
    "    fpd_s.append(fluxpoints_ds)\n",
    "\n"
   ]
  },
  {
   "cell_type": "code",
   "execution_count": 10,
   "id": "8cdc6951",
   "metadata": {},
   "outputs": [
    {
     "data": {
      "text/plain": [
       "6"
      ]
     },
     "execution_count": 10,
     "metadata": {},
     "output_type": "execute_result"
    }
   ],
   "source": [
    "lives = [livetimes]\n",
    "len(fpd_Ns)"
   ]
  },
  {
   "cell_type": "code",
   "execution_count": 11,
   "id": "e2237ec0",
   "metadata": {},
   "outputs": [
    {
     "name": "stdout",
     "output_type": "stream",
     "text": [
      "0\n",
      "2.154434690031884\n"
     ]
    },
    {
     "data": {
      "image/png": "[encoded data removed]",
      "text/plain": [
       "<Figure size 500x400 with 1 Axes>"
      ]
     },
     "metadata": {},
     "output_type": "display_data"
    }
   ],
   "source": [
    "energy_power = 2\n",
    "alpha = 0.8\n",
    "energy_bounds = (0.3, 100) *u.TeV\n",
    "def plot_spectrum(i, ax):\n",
    "    live = livetimes[i]\n",
    "    print(live)\n",
    "\n",
    "    dataset_N.models[0].spectral_model.plot(energy_bounds, energy_power = energy_power,\n",
    "                                                 color = aw[0], ax = ax)    \n",
    "    paris = [p.name for p in dataset_N.models[0].spectral_model.parameters.free_parameters]\n",
    "    dataset_N.models[0].spectral_model.plot_error(energy_bounds,energy_power = energy_power, ax = ax, \n",
    "                                               facecolor= aw[1], alpha = alpha, \n",
    "                                                 label = f'Fit with systematic')\n",
    "    dataset.models[0].spectral_model.plot(energy_bounds,energy_power = energy_power, ax = ax, \n",
    "                                               color= awo[0], linestyle = 'dashed')\n",
    "\n",
    "    dataset.models[0].spectral_model.plot_error(energy_bounds,energy_power = energy_power, ax = ax, \n",
    "                                               facecolor= awo[1], alpha = alpha,\n",
    "                                               label = f'Fit w/o systematic')\n",
    "    ax.set_title(f\"Livetime: {float(live):.2} hr\")\n",
    "    ax.set_ylim(3e-13, 1e-10)\n",
    "\n",
    "    if i <2:\n",
    "        ax.set_ylim(6e-13, 6e-9)\n",
    "\n",
    "\n",
    "    \n",
    "    #idx = np.where(live == lives)[0]\n",
    "    try:\n",
    "        fpd_Ns[idx].data.plot(ax = ax, energy_power = energy_power, color = ew[0],\n",
    "                             label = \"Fluxpoint with \\nsystematic and statistic\",\n",
    "                             capsize = 5)\n",
    "        fpd_s[idx].data.plot(ax = ax, energy_power = energy_power, color = ewo[0],\n",
    "                            label = \"Fluxpoint w/o \\nsystematic and with statistic\",\n",
    "                            capsize = 5,marker = 'x')\n",
    "    except:\n",
    "        pass\n",
    "    ax.legend(loc = 'lower left')\n",
    "    plt.tight_layout()\n",
    "    ax.set_xlim(energy_bounds[0], energy_bounds[1])\n",
    "    #ax.set_ylim(4e-13, 8e-11)\n",
    "    \n",
    "    yl = ax.get_ylabel()\n",
    "    ax.set_ylabel(\"e2\" + yl)#\"dnde [$\\mathrm{TeV\\,s^{-1}\\,cm^{-2}}$]}\")\n",
    "    return fig\n",
    "        \n",
    "i = 7\n",
    "if sys == \"Eff_area\":\n",
    "    idx = 2\n",
    "if sys == \"E_reco\":\n",
    "    idx = 63\n",
    "if sys == \"Combined\":\n",
    "    idx = 0\n",
    "print(idx)\n",
    "\n",
    "fig,ax = plt.subplots(1, 1, figsize = (5, 4 ))\n",
    "\n",
    "fig = plot_spectrum(i, ax)\n",
    "fig.savefig(f'../{folder}/plots/{nbidx}_spectrum_{livetimes[i]}.pdf')"
   ]
  },
  {
   "cell_type": "code",
   "execution_count": 12,
   "id": "93720c75-d681-4377-a725-6cfe0bcc56b1",
   "metadata": {},
   "outputs": [],
   "source": [
    "def compute_precision(N):\n",
    "    Z = 1.645\n",
    "    return Z / np.sqrt(N)\n",
    "\n",
    "def plot_coverage(fig, ax2):\n",
    "    p = compute_precision(N)\n",
    "    ax2.errorbar(ebins, withine, yerr=p, color=awo[0], label=\"\")\n",
    "    ax2.errorbar(ebins * 1.05, withine_N, yerr=p, color=aw[0], label=\"\")\n",
    "    ax2.plot(ebins, [0.68] * len(ebins), \":\", color=\"black\", label=\"\")\n",
    "    # ax2.legend(ncol = 2)\n",
    "    axs.set_title(f\"N = {N} (p = {p*100:.3}\\\\%)\")\n",
    "    ax2.set_xlabel(\"Energy [TeV]\")\n",
    "    ax2.set_ylabel(\"Coverage\")\n",
    "    axs.set_xlabel(\"\")\n",
    "    plt.tight_layout()"
   ]
  },
  {
   "cell_type": "code",
   "execution_count": 13,
   "id": "0b774d4e",
   "metadata": {},
   "outputs": [
    {
     "data": {
      "text/plain": [
       "1000"
      ]
     },
     "execution_count": 13,
     "metadata": {},
     "output_type": "execute_result"
    }
   ],
   "source": [
    "N = len(flux_N)\n",
    "N"
   ]
  },
  {
   "cell_type": "code",
   "execution_count": 14,
   "id": "fbe30276-8e5f-411e-ba35-125fb04b79c2",
   "metadata": {},
   "outputs": [],
   "source": [
    "mask = dataset_input.mask.data.sum(axis=2).sum(axis=1) > 0\n",
    "ebins = dataset_input.counts.geom.axes[0].center[mask]\n",
    "i = 7\n",
    "asimov, asimov_errors = dataset.models[0].spectral_model.evaluate_error(ebins)\n",
    "asimov_N, asimov_errors_N = dataset_N.models[0].spectral_model.evaluate_error(\n",
    "    ebins,\n",
    ")\n"
   ]
  },
  {
   "cell_type": "code",
   "execution_count": 15,
   "id": "5f552a0e-3d26-404f-9756-13216667ad7b",
   "metadata": {},
   "outputs": [
    {
     "data": {
      "text/plain": [
       "1000"
      ]
     },
     "execution_count": 15,
     "metadata": {},
     "output_type": "execute_result"
    }
   ],
   "source": [
    "N"
   ]
  },
  {
   "cell_type": "code",
   "execution_count": 16,
   "id": "853a8a14",
   "metadata": {},
   "outputs": [
    {
     "name": "stdout",
     "output_type": "stream",
     "text": [
      "[0.419, 0.36, 0.306, 0.274, 0.299, 0.326, 0.351, 0.368, 0.388, 0.415, 0.48, 0.583, 0.667, 0.707, 0.732, 0.775, 0.801, 0.775, 0.744, 0.72]\n",
      "[0.721, 0.712, 0.728, 0.71, 0.693, 0.701, 0.703, 0.71, 0.721, 0.732, 0.729, 0.727, 0.719, 0.721, 0.73, 0.753, 0.799, 0.771, 0.744, 0.72]\n",
      "0.7272\n"
     ]
    }
   ],
   "source": [
    "\n",
    "\n",
    "withine = []\n",
    "withine_N = []\n",
    "\n",
    "for ie, e in enumerate(ebins):\n",
    "    xs = []\n",
    "    xs_N = []\n",
    "    for f in flux_N:\n",
    "        value = f[ie]\n",
    "        lowerlim = np.all(value <= asimov.value[ie] + asimov_errors.value[ie])\n",
    "        upperlim = np.all(value >= asimov.value[ie] - asimov_errors.value[ie])\n",
    "        x = lowerlim & upperlim\n",
    "        xs.append(x)\n",
    "\n",
    "        lowerlim = np.all(value <= asimov_N.value[ie] + asimov_errors_N.value[ie])\n",
    "        upperlim = np.all(value >= asimov_N.value[ie] - asimov_errors_N.value[ie])\n",
    "        x = lowerlim & upperlim\n",
    "        xs_N.append(x)\n",
    "\n",
    "    withine.append(np.count_nonzero(xs) / N)\n",
    "    withine_N.append(np.count_nonzero(xs_N) / N)\n",
    "print(withine)\n",
    "print(withine_N)\n",
    "print(np.mean(withine_N))"
   ]
  },
  {
   "cell_type": "code",
   "execution_count": 17,
   "id": "6b5b5890-5df8-4eb9-9916-1ccf89d396f1",
   "metadata": {},
   "outputs": [
    {
     "name": "stdout",
     "output_type": "stream",
     "text": [
      "2.154434690031884\n"
     ]
    },
    {
     "data": {
      "image/png": "[encoded data removed]",
      "text/plain": [
       "<Figure size 500x500 with 2 Axes>"
      ]
     },
     "metadata": {},
     "output_type": "display_data"
    }
   ],
   "source": [
    "i = 7 \n",
    "fig, (axs, ax2) = plt.subplots(\n",
    "    2, 1, gridspec_kw={\"height_ratios\": [3, 1]}, sharex=True, figsize=((5, 5))\n",
    ")\n",
    "fig = plot_spectrum(i, axs)\n",
    "\n",
    "\n",
    "\n",
    "energy_bounds = (0.3, 100) *u.TeV\n",
    "\n",
    "plot_coverage(fig, ax2)\n",
    "yy = axs.get_ylim()\n",
    "#for f in flux2e:\n",
    "#    axs.plot(ebins, f, color = 'grey', alpha = 0.2)\n",
    "    \n",
    "ax2.set_xscale(\"log\")\n",
    "#axs.set_ylim(yy[0], yy[1])\n",
    "#axs.set_ylim(1e-12, yy[1])\n",
    "#axs.set_ylim(1e-13, yy[1])\n",
    "axs.set_xlabel(\"\")\n",
    "axs.set_title(\"\")\n",
    "fig.savefig(f'../{folder}/plots/{nbidx}_spectrum_{livetimes[i]}.pdf')\n"
   ]
  },
  {
   "cell_type": "code",
   "execution_count": 18,
   "id": "6e67bfeb",
   "metadata": {},
   "outputs": [
    {
     "data": {
      "text/plain": [
       "1000"
      ]
     },
     "execution_count": 18,
     "metadata": {},
     "output_type": "execute_result"
    }
   ],
   "source": [
    "len(flux_N)"
   ]
  },
  {
   "cell_type": "code",
   "execution_count": null,
   "id": "abecfba9-db2a-417e-aa5b-9660f2d65ea1",
   "metadata": {},
   "outputs": [],
   "source": []
  }
 ],
 "metadata": {
  "kernelspec": {
   "display_name": "Python 3 (ipykernel)",
   "language": "python",
   "name": "python3"
  },
  "language_info": {
   "codemirror_mode": {
    "name": "ipython",
    "version": 3
   },
   "file_extension": ".py",
   "mimetype": "text/x-python",
   "name": "python",
   "nbconvert_exporter": "python",
   "pygments_lexer": "ipython3",
   "version": "3.8.16"
  },
  "varInspector": {
   "cols": {
    "lenName": 16,
    "lenType": 16,
    "lenVar": 40
   },
   "kernels_config": {
    "python": {
     "delete_cmd_postfix": "",
     "delete_cmd_prefix": "del ",
     "library": "var_list.py",
     "varRefreshCmd": "print(var_dic_list())"
    },
    "r": {
     "delete_cmd_postfix": ") ",
     "delete_cmd_prefix": "rm(",
     "library": "var_list.r",
     "varRefreshCmd": "cat(var_dic_list()) "
    }
   },
   "types_to_exclude": [
    "module",
    "function",
    "builtin_function_or_method",
    "instance",
    "_Feature"
   ],
   "window_display": false
  }
 },
 "nbformat": 4,
 "nbformat_minor": 5
}
