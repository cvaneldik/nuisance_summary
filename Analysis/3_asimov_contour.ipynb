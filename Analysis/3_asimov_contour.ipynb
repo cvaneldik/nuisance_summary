{
 "cells": [
  {
   "cell_type": "markdown",
   "id": "e7853a11",
   "metadata": {},
   "source": [
    "## Runnning with gammapy-dev/IRF_model\n",
    "Fitting asimov datasets with nuisance parameters based on the different livetimes"
   ]
  },
  {
   "cell_type": "markdown",
   "id": "0e04af29",
   "metadata": {},
   "source": [
    "### Setup"
   ]
  },
  {
   "cell_type": "code",
   "execution_count": 1,
   "id": "27bf135a-5ee4-4ca1-8549-6bf07929003c",
   "metadata": {},
   "outputs": [],
   "source": [
    "import matplotlib.pyplot as plt\n",
    "import numpy as np\n",
    "import astropy.units as u\n",
    "from gammapy.maps import Map\n",
    "from astropy.coordinates import SkyCoord, Angle\n",
    "from gammapy.modeling import Fit,  Parameters, Covariance , Parameter\n",
    "from gammapy.datasets import MapDataset ,Datasets, FluxPointsDataset\n",
    "from gammapy.modeling.models import (\n",
    "    PowerLawSpectralModel,\n",
    "    SkyModel,\n",
    "    PointSpatialModel,\n",
    "    PowerLawNormSpectralModel,\n",
    "    Models,\n",
    "    SpatialModel,\n",
    "    FoVBackgroundModel,\n",
    "    PiecewiseNormSpectralModel,\n",
    ")\n",
    "from gammapy.estimators import TSMapEstimator, ExcessMapEstimator\n",
    "from gammapy.estimators import FluxPoints, FluxPointsEstimator\n",
    "from scipy.interpolate import interp2d\n",
    "\n",
    "from regions import CircleSkyRegion, RectangleSkyRegion\n",
    "import yaml\n",
    "import sys\n",
    "sys.path.append('../')\n",
    "import Dataset_load \n",
    "\n",
    "from  Dataset_Setup import Setup, GaussianCovariance_matrix"
   ]
  },
  {
   "cell_type": "markdown",
   "id": "5de988df",
   "metadata": {
    "tags": []
   },
   "source": [
    "## Read dataset"
   ]
  },
  {
   "cell_type": "code",
   "execution_count": 2,
   "id": "0eeeaf75",
   "metadata": {},
   "outputs": [],
   "source": [
    "c = Dataset_load.load_config()\n",
    "awo, aw, ewo, ew = c['_colors']  "
   ]
  },
  {
   "cell_type": "code",
   "execution_count": 3,
   "id": "e0c45f4e-6432-405e-86b7-649e254c0950",
   "metadata": {},
   "outputs": [
    {
     "name": "stdout",
     "output_type": "stream",
     "text": [
      "2.154434690031884\n",
      "Combined100\n",
      "[['amplitude', 'index'], ['amplitude', 'lambda_'], ['lambda_', 'index']]\n"
     ]
    }
   ],
   "source": [
    "livetime = c['livetime']\n",
    "zero = c['zero'] \n",
    "norm = c['norm'] \n",
    "tilt = c['tilt'] \n",
    "bias = c['bias'] \n",
    "resolution = c['resolution'] \n",
    "magnitude = c['magnitude'] \n",
    "corrlength = c['corrlength']\n",
    "sys = c['sys'] \n",
    "folder = c['folder']\n",
    "parameter_names = c['parameter_names']        \n",
    "nbidx = 0\n",
    "print(livetime)\n",
    "print(sys)\n",
    "print(parameter_names)"
   ]
  },
  {
   "cell_type": "code",
   "execution_count": 4,
   "id": "f94dc89c",
   "metadata": {},
   "outputs": [
    {
     "name": "stdout",
     "output_type": "stream",
     "text": [
      "loaded dataset:\n",
      "/home/wecapstor1/caph/mppi045h/nuisance_summary/PKS_flare/HESS_public/dataset-simulated-2.154434690031884-hr.fits.gz\n",
      "CPU times: user 6.36 s, sys: 278 ms, total: 6.64 s\n",
      "Wall time: 6.66 s\n"
     ]
    }
   ],
   "source": [
    "%%time\n",
    "dataset_input  = Dataset_load.create_asimov(model = c['model'], source = c['source'], \n",
    "                                               livetime = f\"{livetime}-hr\",\n",
    "                                        parameters = None)\n"
   ]
  },
  {
   "cell_type": "markdown",
   "id": "2e0399d4",
   "metadata": {},
   "source": [
    "## Datasets"
   ]
  },
  {
   "cell_type": "code",
   "execution_count": 5,
   "id": "b24b18ac-af52-48ac-bd1e-f03d21457fe4",
   "metadata": {},
   "outputs": [],
   "source": [
    "    \n",
    "setup = Setup(dataset_input=dataset_input)\n",
    "#setup.set_up_irf_sys(bias, resolution, norm, tilt)\n",
    "dataset_asimov, dataset_asimov_N = setup.run()\n",
    "# irf model\n",
    "setup.set_irf_model(dataset_asimov_N)\n",
    "if  \"Eff_area\" in sys:\n",
    "    dataset_asimov_N.models.parameters['resolution'].frozen = True\n",
    "    dataset_asimov_N.irf_model.parameters['tilt'].frozen = False\n",
    "    dataset_asimov_N.irf_model.parameters['bias'].frozen = True\n",
    "    setup.set_irf_prior(dataset_asimov_N, bias, resolution, norm, tilt)\n",
    "    e_reco_n = 30\n",
    "    \n",
    "if sys == \"E_reco\":\n",
    "    dataset_asimov_N.models.parameters['resolution'].frozen = True\n",
    "    dataset_asimov_N.irf_model.parameters['tilt'].frozen = True\n",
    "    dataset_asimov_N.irf_model.parameters['norm'].frozen = True\n",
    "    dataset_asimov_N.irf_model.parameters['bias'].frozen = False\n",
    "    setup.set_irf_prior(dataset_asimov_N, bias, resolution, norm, tilt)\n",
    "    e_reco_n = 2000\n",
    "    \n",
    "    \n",
    "if  \"Combined\" in sys:\n",
    "    dataset_asimov_N.models.parameters['resolution'].frozen = True\n",
    "    dataset_asimov_N.irf_model.parameters['tilt'].frozen = False\n",
    "    dataset_asimov_N.irf_model.parameters['norm'].frozen = False\n",
    "    dataset_asimov_N.irf_model.parameters['bias'].frozen = False\n",
    "    setup.set_irf_prior(dataset_asimov_N, bias, resolution, norm, tilt)\n",
    "    e_reco_n = 1000\n",
    "\n",
    "    \n",
    "if sys == \"BKG\":\n",
    "\n",
    "    # piece wise model\n",
    "    # remove old bkg model\n",
    "    setup.set_up_bkg_sys_V( breake = 10,\n",
    "                        index1 = 2,\n",
    "                        index2 = 1.5, \n",
    "                        magnitude = magnitude )\n",
    "\n",
    "    dataset_asimov, dataset_asimov_N = setup.run()\n",
    "\n",
    "    setup.unset_model(dataset_asimov_N, FoVBackgroundModel)\n",
    "    setup.set_piecewise_bkg_model(dataset_asimov_N)\n",
    "    # energy of the following parameters smaller than ethrshold\n",
    "    dataset_asimov_N.background_model.parameters['norm0'].frozen = True\n",
    "    dataset_asimov_N.background_model.parameters['norm1'].frozen = True\n",
    "    dataset_asimov_N.background_model.parameters['norm2'].frozen = True\n",
    "    dataset_asimov_N.background_model.parameters['norm3'].frozen = True\n",
    "    setup.set_bkg_prior(dataset_asimov_N, magnitude, corrlength)"
   ]
  },
  {
   "cell_type": "markdown",
   "id": "ec637604-dbf7-4501-9012-2bf4c302d233",
   "metadata": {},
   "source": [
    "## Minos"
   ]
  },
  {
   "cell_type": "code",
   "execution_count": 6,
   "id": "f6589e22-4b65-4ef2-a364-0fa01a829dad",
   "metadata": {},
   "outputs": [],
   "source": [
    "def computing_contour(dataset, note, idx = 0):\n",
    "        \n",
    "    \n",
    "    results = []\n",
    "    for parname1, parname2 in parameter_names[idx:idx+1] :\n",
    "        print( parname1, parname2)\n",
    "        \n",
    "        minuit_opts = {\"tol\": 10, \"strategy\": 1}\n",
    "        fit_cor.backend = \"minuit\"\n",
    "        fit_cor.optimize_opts = minuit_opts\n",
    "        result = fit_cor.stat_contour(dataset,\n",
    "                             dataset.models.parameters[parname1],\n",
    "                             dataset.models.parameters[parname2],\n",
    "                                      numpoints=numpoints \n",
    "                            )\n",
    "\n",
    "        contour_write = dict()\n",
    "        for k in result.keys():\n",
    "            print(k)\n",
    "            if k != \"success\":\n",
    "                contour_write[k] = result[k].tolist()\n",
    "\n",
    "        with open(f\"../{c['folder']}/data/3_contour_{note}_{parname1}_{parname2}_{numpoints}_{e_reco_n}.yml\", \"w\") as outfile:\n",
    "            yaml.dump(contour_write, outfile, default_flow_style=False)\n",
    "\n",
    "        fig = plt.figure()\n",
    "        case1 = \"spectral\"; case2 = \"spectral\" \n",
    "        if parname1 not in ['amplitude', 'index', 'lambda_']:\n",
    "            case1 = 'spatial'\n",
    "        if parname2 not in ['amplitude', 'index', 'lambda_']:\n",
    "            case2 = 'spatial'\n",
    "            \n",
    "        plt.plot(result[f\"{dataset.models[0].name}.{case1}.{parname1}\"],\n",
    "        result[f\"{dataset.models[0].name}.{case2}.{parname2}\"])\n",
    "        results.append(result)\n",
    "    return results\n",
    "        \n",
    "def read_in_contour(note):\n",
    "    results = []\n",
    "    for parname1, parname2 in parameter_names :\n",
    "        try:\n",
    "            with open(f\"../{c['folder']}/data/3_contour_{note}_{parname1}_{parname2}_{numpoints}_{e_reco_n}.yml\", \"r\") as stream:\n",
    "                contour = yaml.safe_load(stream)\n",
    "            \n",
    "        except:\n",
    "            try:\n",
    "                with open(f\"../{c['folder']}/data/3_contour_{note}_{parname1}_{parname2}_{10}_{e_reco_n}.yml\", \"r\") as stream:\n",
    "                    contour = yaml.safe_load(stream)\n",
    "            except:\n",
    "                 with open(f\"../{c['folder']}/data/3_contour_{note}_{parname1}_{parname2}_{5}_{e_reco_n}.yml\", \"r\") as stream:\n",
    "                    contour = yaml.safe_load(stream)\n",
    "\n",
    "        results.append(contour)\n",
    "    return results\n",
    "\n",
    "def read_in_contour_one(note, idx):\n",
    "    results = []\n",
    "    for parname1, parname2 in parameter_names[idx:idx+1] :\n",
    "        with open(f\"../{c['folder']}/data/3_contour_{note}_{parname1}_{parname2}_{numpoints}_{e_reco_n}.yml\", \"r\") as stream:\n",
    "            contour = yaml.safe_load(stream)\n",
    "        results.append(contour)\n",
    "    return results"
   ]
  },
  {
   "cell_type": "code",
   "execution_count": 7,
   "id": "42a09c35-0ad7-4002-a38c-bdb3daecccdf",
   "metadata": {},
   "outputs": [
    {
     "name": "stdout",
     "output_type": "stream",
     "text": [
      "CPU times: user 7.27 s, sys: 2.75 s, total: 10 s\n",
      "Wall time: 10.1 s\n"
     ]
    }
   ],
   "source": [
    "%%time\n",
    "dataset_asimov.models.parameters['lon_0'].frozen = True\n",
    "dataset_asimov.models.parameters['lat_0'].frozen = True\n",
    "\n",
    "fit_cor = Fit()\n",
    "result = fit_cor.run(dataset_asimov)"
   ]
  },
  {
   "cell_type": "code",
   "execution_count": 8,
   "id": "0b7021d3-0d35-40aa-afa2-39ad555ceba0",
   "metadata": {},
   "outputs": [
    {
     "data": {
      "text/html": [
       "<table>\n",
       "    <tr>\n",
       "        <th colspan=\"5\" style=\"text-align:center\" title=\"Minimizer\"> Migrad </th>\n",
       "    </tr>\n",
       "    <tr>\n",
       "        <td colspan=\"2\" style=\"text-align:left\" title=\"Minimum value of function\"> FCN = 8.928e+04 </td>\n",
       "        <td colspan=\"3\" style=\"text-align:center\" title=\"Total number of function and (optional) gradient evaluations\"> Nfcn = 83 </td>\n",
       "    </tr>\n",
       "    <tr>\n",
       "        <td colspan=\"2\" style=\"text-align:left\" title=\"Estimated distance to minimum and goal\"> EDM = 4.54e-10 (Goal: 0.0002) </td>\n",
       "        <td colspan=\"3\" style=\"text-align:center\" title=\"Total run time of algorithms\"> time = 10.0 sec </td>\n",
       "    </tr>\n",
       "    <tr>\n",
       "        <td colspan=\"2\" style=\"text-align:center;background-color:#92CCA6;color:black\"> Valid Minimum </td>\n",
       "        <td colspan=\"3\" style=\"text-align:center;background-color:#92CCA6;color:black\"> No Parameters at limit </td>\n",
       "    </tr>\n",
       "    <tr>\n",
       "        <td colspan=\"2\" style=\"text-align:center;background-color:#92CCA6;color:black\"> Below EDM threshold (goal x 10) </td>\n",
       "        <td colspan=\"3\" style=\"text-align:center;background-color:#92CCA6;color:black\"> Below call limit </td>\n",
       "    </tr>\n",
       "    <tr>\n",
       "        <td style=\"text-align:center;background-color:#92CCA6;color:black\"> Covariance </td>\n",
       "        <td style=\"text-align:center;background-color:#92CCA6;color:black\"> Hesse ok </td>\n",
       "        <td style=\"text-align:center;background-color:#92CCA6;color:black\" title=\"Is covariance matrix accurate?\"> Accurate </td>\n",
       "        <td style=\"text-align:center;background-color:#92CCA6;color:black\" title=\"Is covariance matrix positive definite?\"> Pos. def. </td>\n",
       "        <td style=\"text-align:center;background-color:#92CCA6;color:black\" title=\"Was positive definiteness enforced by Minuit?\"> Not forced </td>\n",
       "    </tr>\n",
       "</table><table>\n",
       "    <tr>\n",
       "        <td></td>\n",
       "        <th title=\"Variable name\"> Name </th>\n",
       "        <th title=\"Value of parameter\"> Value </th>\n",
       "        <th title=\"Hesse error\"> Hesse Error </th>\n",
       "        <th title=\"Minos lower error\"> Minos Error- </th>\n",
       "        <th title=\"Minos upper error\"> Minos Error+ </th>\n",
       "        <th title=\"Lower limit of the parameter\"> Limit- </th>\n",
       "        <th title=\"Upper limit of the parameter\"> Limit+ </th>\n",
       "        <th title=\"Is the parameter fixed in the fit\"> Fixed </th>\n",
       "    </tr>\n",
       "    <tr>\n",
       "        <th> 0 </th>\n",
       "        <td> par_000_index </td>\n",
       "        <td> 2.30 </td>\n",
       "        <td> 0.09 </td>\n",
       "        <td>  </td>\n",
       "        <td>  </td>\n",
       "        <td>  </td>\n",
       "        <td>  </td>\n",
       "        <td>  </td>\n",
       "    </tr>\n",
       "    <tr>\n",
       "        <th> 1 </th>\n",
       "        <td> par_001_amplitude </td>\n",
       "        <td> 3.85 </td>\n",
       "        <td> 0.25 </td>\n",
       "        <td>  </td>\n",
       "        <td>  </td>\n",
       "        <td>  </td>\n",
       "        <td>  </td>\n",
       "        <td>  </td>\n",
       "    </tr>\n",
       "    <tr>\n",
       "        <th> 2 </th>\n",
       "        <td> par_002_lambda_ </td>\n",
       "        <td> 1.0 </td>\n",
       "        <td> 0.4 </td>\n",
       "        <td>  </td>\n",
       "        <td>  </td>\n",
       "        <td>  </td>\n",
       "        <td>  </td>\n",
       "        <td>  </td>\n",
       "    </tr>\n",
       "    <tr>\n",
       "        <th> 3 </th>\n",
       "        <td> par_003_norm </td>\n",
       "        <td> 1.000 </td>\n",
       "        <td> 0.011 </td>\n",
       "        <td>  </td>\n",
       "        <td>  </td>\n",
       "        <td>  </td>\n",
       "        <td>  </td>\n",
       "        <td>  </td>\n",
       "    </tr>\n",
       "    <tr>\n",
       "        <th> 4 </th>\n",
       "        <td> par_004_tilt </td>\n",
       "        <td> 0.000 </td>\n",
       "        <td> 0.012 </td>\n",
       "        <td>  </td>\n",
       "        <td>  </td>\n",
       "        <td>  </td>\n",
       "        <td>  </td>\n",
       "        <td>  </td>\n",
       "    </tr>\n",
       "</table><table>\n",
       "    <tr>\n",
       "        <td></td>\n",
       "        <th> par_000_index </th>\n",
       "        <th> par_001_amplitude </th>\n",
       "        <th> par_002_lambda_ </th>\n",
       "        <th> par_003_norm </th>\n",
       "        <th> par_004_tilt </th>\n",
       "    </tr>\n",
       "    <tr>\n",
       "        <th> par_000_index </th>\n",
       "        <td> 0.00778 </td>\n",
       "        <td style=\"background-color:rgb(163,163,250);color:black\"> -0.015 <strong>(-0.666)</strong> </td>\n",
       "        <td style=\"background-color:rgb(143,143,250);color:black\"> -0.028 <strong>(-0.825)</strong> </td>\n",
       "        <td style=\"background-color:rgb(249,249,250);color:black\"> -0 <strong>(-0.005)</strong> </td>\n",
       "        <td style=\"background-color:rgb(246,246,250);color:black\"> -0.03e-3 <strong>(-0.030)</strong> </td>\n",
       "    </tr>\n",
       "    <tr>\n",
       "        <th> par_001_amplitude </th>\n",
       "        <td style=\"background-color:rgb(163,163,250);color:black\"> -0.015 <strong>(-0.666)</strong> </td>\n",
       "        <td> 0.0626 </td>\n",
       "        <td style=\"background-color:rgb(250,126,126);color:black\"> 0.08 <strong>(0.828)</strong> </td>\n",
       "        <td style=\"background-color:rgb(246,246,250);color:black\"> -0.08e-3 <strong>(-0.031)</strong> </td>\n",
       "        <td style=\"background-color:rgb(250,250,250);color:black\"> -0 <strong>(-0.001)</strong> </td>\n",
       "    </tr>\n",
       "    <tr>\n",
       "        <th> par_002_lambda_ </th>\n",
       "        <td style=\"background-color:rgb(143,143,250);color:black\"> -0.028 <strong>(-0.825)</strong> </td>\n",
       "        <td style=\"background-color:rgb(250,126,126);color:black\"> 0.08 <strong>(0.828)</strong> </td>\n",
       "        <td> 0.145 </td>\n",
       "        <td style=\"background-color:rgb(250,250,250);color:black\"> 0.01e-3 <strong>(0.003)</strong> </td>\n",
       "        <td style=\"background-color:rgb(250,250,250);color:black\"> -0 </td>\n",
       "    </tr>\n",
       "    <tr>\n",
       "        <th> par_003_norm </th>\n",
       "        <td style=\"background-color:rgb(249,249,250);color:black\"> -0 <strong>(-0.005)</strong> </td>\n",
       "        <td style=\"background-color:rgb(246,246,250);color:black\"> -0.08e-3 <strong>(-0.031)</strong> </td>\n",
       "        <td style=\"background-color:rgb(250,250,250);color:black\"> 0.01e-3 <strong>(0.003)</strong> </td>\n",
       "        <td> 0.000115 </td>\n",
       "        <td style=\"background-color:rgb(250,239,239);color:black\"> 0.01e-3 <strong>(0.075)</strong> </td>\n",
       "    </tr>\n",
       "    <tr>\n",
       "        <th> par_004_tilt </th>\n",
       "        <td style=\"background-color:rgb(246,246,250);color:black\"> -0.03e-3 <strong>(-0.030)</strong> </td>\n",
       "        <td style=\"background-color:rgb(250,250,250);color:black\"> -0 <strong>(-0.001)</strong> </td>\n",
       "        <td style=\"background-color:rgb(250,250,250);color:black\"> -0 </td>\n",
       "        <td style=\"background-color:rgb(250,239,239);color:black\"> 0.01e-3 <strong>(0.075)</strong> </td>\n",
       "        <td> 0.000134 </td>\n",
       "    </tr>\n",
       "</table>"
      ],
      "text/plain": [
       "┌─────────────────────────────────────────────────────────────────────────┐\n",
       "│                                Migrad                                   │\n",
       "├──────────────────────────────────┬──────────────────────────────────────┤\n",
       "│ FCN = 8.928e+04                  │              Nfcn = 83               │\n",
       "│ EDM = 4.54e-10 (Goal: 0.0002)    │           time = 10.0 sec            │\n",
       "├──────────────────────────────────┼──────────────────────────────────────┤\n",
       "│          Valid Minimum           │        No Parameters at limit        │\n",
       "├──────────────────────────────────┼──────────────────────────────────────┤\n",
       "│ Below EDM threshold (goal x 10)  │           Below call limit           │\n",
       "├───────────────┬──────────────────┼───────────┬─────────────┬────────────┤\n",
       "│  Covariance   │     Hesse ok     │ Accurate  │  Pos. def.  │ Not forced │\n",
       "└───────────────┴──────────────────┴───────────┴─────────────┴────────────┘\n",
       "┌───┬───────────────────┬───────────┬───────────┬────────────┬────────────┬─────────┬─────────┬───────┐\n",
       "│   │ Name              │   Value   │ Hesse Err │ Minos Err- │ Minos Err+ │ Limit-  │ Limit+  │ Fixed │\n",
       "├───┼───────────────────┼───────────┼───────────┼────────────┼────────────┼─────────┼─────────┼───────┤\n",
       "│ 0 │ par_000_index     │   2.30    │   0.09    │            │            │         │         │       │\n",
       "│ 1 │ par_001_amplitude │   3.85    │   0.25    │            │            │         │         │       │\n",
       "│ 2 │ par_002_lambda_   │    1.0    │    0.4    │            │            │         │         │       │\n",
       "│ 3 │ par_003_norm      │   1.000   │   0.011   │            │            │         │         │       │\n",
       "│ 4 │ par_004_tilt      │   0.000   │   0.012   │            │            │         │         │       │\n",
       "└───┴───────────────────┴───────────┴───────────┴────────────┴────────────┴─────────┴─────────┴───────┘\n",
       "┌───────────────────┬───────────────────────────────────────────────────────────────────────────────────────────┐\n",
       "│                   │     par_000_index par_001_amplitude   par_002_lambda_      par_003_norm      par_004_tilt │\n",
       "├───────────────────┼───────────────────────────────────────────────────────────────────────────────────────────┤\n",
       "│     par_000_index │           0.00778            -0.015            -0.028                -0          -0.03e-3 │\n",
       "│ par_001_amplitude │            -0.015            0.0626              0.08          -0.08e-3                -0 │\n",
       "│   par_002_lambda_ │            -0.028              0.08             0.145           0.01e-3                -0 │\n",
       "│      par_003_norm │                -0          -0.08e-3           0.01e-3          0.000115           0.01e-3 │\n",
       "│      par_004_tilt │          -0.03e-3                -0                -0           0.01e-3          0.000134 │\n",
       "└───────────────────┴───────────────────────────────────────────────────────────────────────────────────────────┘"
      ]
     },
     "execution_count": 8,
     "metadata": {},
     "output_type": "execute_result"
    }
   ],
   "source": [
    "result.minuit"
   ]
  },
  {
   "cell_type": "code",
   "execution_count": 9,
   "id": "0945a3f6-eb4a-462c-bb8d-4b3f7a7bdfc5",
   "metadata": {},
   "outputs": [
    {
     "name": "stdout",
     "output_type": "stream",
     "text": [
      "shift 1.0\n"
     ]
    },
    {
     "data": {
      "text/plain": [
       "(<WCSAxes: >,\n",
       " <Axes: xlabel='Energy [$\\\\mathrm{TeV}$]', ylabel='Residuals (data - model)'>)"
      ]
     },
     "execution_count": 9,
     "metadata": {},
     "output_type": "execute_result"
    },
    {
     "data": {
      "image/png": "[encoded data removed]",
      "text/plain": [
       "<Figure size 1200x400 with 3 Axes>"
      ]
     },
     "metadata": {},
     "output_type": "display_data"
    }
   ],
   "source": [
    "dataset_asimov.plot_residuals()"
   ]
  },
  {
   "cell_type": "code",
   "execution_count": 10,
   "id": "e2201840-6c23-471d-b286-7152982bbb66",
   "metadata": {},
   "outputs": [
    {
     "name": "stdout",
     "output_type": "stream",
     "text": [
      "CPU times: user 34.6 ms, sys: 394 µs, total: 35 ms\n",
      "Wall time: 36 ms\n"
     ]
    }
   ],
   "source": [
    "%%time\n",
    "numpoints = 50\n",
    "computing = 0\n",
    "if computing:\n",
    "    results = computing_contour(dataset_asimov, \"2.15h\", 0)\n",
    "    results = computing_contour(dataset_asimov, \"2.15h\", 1)\n",
    "    results = computing_contour(dataset_asimov, \"2.15h\", 2)\n",
    "else:\n",
    "    results = read_in_contour(\"2.15h\")\n",
    "    #results = read_in_contour_one(\"2.15h\",0 )\n",
    "    path = f'../{folder}/data/0_model_livetime_{livetime}.yml'\n",
    "    dataset_asimov.models = Models.read(path)\n",
    "    \n"
   ]
  },
  {
   "cell_type": "code",
   "execution_count": 11,
   "id": "b5552763-3b94-4a54-95ea-a76b0f1978ce",
   "metadata": {},
   "outputs": [
    {
     "name": "stdout",
     "output_type": "stream",
     "text": [
      "OptimizeResult\n",
      "\n",
      "\tbackend    : minuit\n",
      "\tmethod     : migrad\n",
      "\tsuccess    : True\n",
      "\tmessage    : Optimization terminated successfully.\n",
      "\tnfev       : 177\n",
      "\ttotal stat : 89284.15\n",
      "\n",
      "CovarianceResult\n",
      "\n",
      "\tbackend    : minuit\n",
      "\tmethod     : hesse\n",
      "\tsuccess    : True\n",
      "\tmessage    : Hesse terminated successfully.\n",
      "\n",
      "DatasetModels\n",
      "\n",
      "Component 0: SkyModel\n",
      "\n",
      "  Name                      : Crablog\n",
      "  Datasets names            : None\n",
      "  Spectral model type       : ExpCutoffPowerLawSpectralModel\n",
      "  Spatial  model type       : PointSpatialModel\n",
      "  Temporal model type       : \n",
      "  Parameters:\n",
      "    index                         :      2.300   +/-    0.14             \n",
      "    amplitude                     :   3.85e-11   +/- 6.0e-12 1 / (cm2 s TeV)\n",
      "    reference             (frozen):      1.000       TeV         \n",
      "    lambda_                       :      0.100   +/-    0.04 1 / TeV     \n",
      "    alpha                 (frozen):      1.000                   \n",
      "    lon_0                 (frozen):    329.680       deg         \n",
      "    lat_0                 (frozen):    -30.222       deg         \n",
      "\n",
      "Component 1: FoVBackgroundModel\n",
      "\n",
      "  Name                      : dataset_N-bkg\n",
      "  Datasets names            : ['dataset_N']\n",
      "  Spectral model type       : PowerLawNormSpectralModel\n",
      "  Parameters:\n",
      "    norm                          :      1.000   +/-    0.01             \n",
      "    tilt                          :     -0.000   +/-    0.01             \n",
      "    reference             (frozen):      1.000       TeV         \n",
      "\n",
      "Component 2: IRFModels\n",
      "\n",
      "  Name                      : dataset_N-irf\n",
      "  Datasets names            : dataset_N\n",
      "  EReco  model type         : ERecoIRFModel\n",
      "  Eff area  model type      : EffAreaIRFModel\n",
      "  PSF model type            : \n",
      "  Parameters:\n",
      "    bias                          :     -0.001   +/-    0.05             \n",
      "    resolution            (frozen):      0.000                   \n",
      "    norm                          :      0.000   +/-    0.10             \n",
      "    tilt                          :     -0.000   +/-    0.02             \n",
      "    reference             (frozen):    100.000       TeV         \n",
      "\n",
      "\n",
      "CPU times: user 17min 54s, sys: 1h 5min 53s, total: 1h 23min 47s\n",
      "Wall time: 3min 9s\n"
     ]
    }
   ],
   "source": [
    "%%time\n",
    "fitting_N = 1\n",
    "if fitting_N:\n",
    "    dataset_asimov_N.e_reco_n = e_reco_n\n",
    "\n",
    "    dataset_asimov_N.models.parameters['lon_0'].frozen = True\n",
    "    dataset_asimov_N.models.parameters['lat_0'].frozen = True\n",
    "\n",
    "    fit_cor = Fit(store_trace=False)\n",
    "    result_cor = fit_cor.run(dataset_asimov_N)\n",
    "    print(result_cor)\n",
    "    print(dataset_asimov_N.models)\n",
    "    result_cor.minuit"
   ]
  },
  {
   "cell_type": "code",
   "execution_count": 12,
   "id": "2a09d6e7-599d-4612-b80e-23d72f04ea98",
   "metadata": {},
   "outputs": [
    {
     "name": "stdout",
     "output_type": "stream",
     "text": [
      "amplitude index\n",
      "Crablog.spectral.amplitude\n",
      "Crablog.spectral.index\n",
      "success\n",
      "CPU times: user 2h 38min 1s, sys: 4h 35min 49s, total: 7h 13min 51s\n",
      "Wall time: 43min 41s\n"
     ]
    },
    {
     "data": {
      "image/png": "[encoded data removed]",
      "text/plain": [
       "<Figure size 640x480 with 1 Axes>"
      ]
     },
     "metadata": {},
     "output_type": "display_data"
    }
   ],
   "source": [
    "%%time\n",
    "computing = 1\n",
    "numpoints = 5\n",
    "\n",
    "if computing:\n",
    "    results_N = computing_contour(dataset_asimov_N, \"N_2.15h\",0)\n",
    "    #results_N = computing_contour(dataset_asimov_N, \"N_2.15h\",1)\n",
    "    #results_N = computing_contour(dataset_asimov_N, \"N_2.15h\",2)\n",
    "else:\n",
    "    results_N = read_in_contour(\"N_2.15h\")\n",
    "    #results_N = read_in_contour_one(\"N_2.15h\", 0)\n",
    "    \n",
    "    path = f'../{folder}/data/0_model_nui_livetime_{livetime}_{e_reco_n}.yml'\n",
    "    dataset_asimov_N = Dataset_load.load_dataset_N(dataset_asimov_N, path,bkg_sys = False)        \n"
   ]
  },
  {
   "cell_type": "code",
   "execution_count": 23,
   "id": "4fc91a87-908f-47ab-90b9-3d09d0ca66a0",
   "metadata": {},
   "outputs": [],
   "source": [
    "from scipy.interpolate import interp1d\n",
    "\n",
    "def remove_duplicates(a, b):\n",
    "    filtered_a = []\n",
    "    filtered_b = []\n",
    "    unique_values = {}\n",
    "    for x, y in zip(a, b):\n",
    "        if x not in unique_values:\n",
    "            unique_values[x] = y\n",
    "            filtered_a.append(x)\n",
    "            filtered_b.append(y)\n",
    "    return filtered_a, filtered_b\n",
    "\n",
    "def interpolate(one, two):\n",
    "    one, two =  rearange(one,two)\n",
    "    one, two =  remove_duplicates(one,two)\n",
    "    \n",
    "    points = np.column_stack((one, two))  # a (nbre_points x nbre_dim) array\n",
    "    \n",
    "\n",
    "    # Linear length along the line:\n",
    "    distance = np.cumsum( np.sqrt(np.sum( np.diff(points, axis=0)**2, axis=1 )) )\n",
    "    distance = np.insert(distance, 0, 0)/distance[-1]\n",
    "\n",
    "    # Interpolation for different methods: #quadratic\n",
    "    interpolations_methods = ['quadratic']\n",
    "    alpha = np.linspace(0, 1, 75)\n",
    "\n",
    "    interpolated_points = {}\n",
    "    for method in interpolations_methods:\n",
    "        interpolator =  interp1d(distance, points, kind=method, axis=0)\n",
    "        interpolated_points[method] = interpolator(alpha)\n",
    "        \n",
    "    for method_name, curve in interpolated_points.items():\n",
    "        c_int = {'x':curve.T[0], 'y': curve.T[1]}\n",
    "        \n",
    "    a,b = list(c_int['x']), list(c_int['y'])\n",
    "    a.append(a[0])\n",
    "    b.append(b[0])\n",
    "    return a,b\n",
    "\n",
    "\n",
    "def rearange(a,b):\n",
    "    centroid = (sum(a) / len(a), sum(b) / len(b))\n",
    "\n",
    "    def angle_from_centroid(x, y):\n",
    "        return np.arctan2(y - centroid[1], x - centroid[0])\n",
    "\n",
    "    contour_points = [(x, y) for x, y in zip(a, b)]\n",
    "    contour_points.sort(key=lambda point: angle_from_centroid(point[0], point[1]))\n",
    "\n",
    "    if np.cross(np.array(contour_points[1]) - np.array(contour_points[0]), \n",
    "                np.array(contour_points[-1]) - np.array(contour_points[0])) < 0:\n",
    "        contour_points.reverse()\n",
    "        \n",
    "    #contour_points.append(contour_points[0])\n",
    "    a, b = zip(*contour_points)\n",
    "    return a,b"
   ]
  },
  {
   "cell_type": "code",
   "execution_count": 24,
   "id": "c134033e-7b58-40af-aa75-f499ba02ed00",
   "metadata": {},
   "outputs": [
    {
     "name": "stdout",
     "output_type": "stream",
     "text": [
      "['amplitude', 'index']\n",
      "dict_keys(['Crablog.spectral.amplitude', 'Crablog.spectral.index'])\n",
      "dict_keys(['Crablog.spectral.amplitude', 'Crablog.spectral.index'])\n",
      "['amplitude', 'lambda_']\n",
      "dict_keys(['Crablog.spectral.amplitude', 'Crablog.spectral.lambda_'])\n",
      "dict_keys(['Crablog.spectral.amplitude', 'Crablog.spectral.lambda_'])\n",
      "['lambda_', 'index']\n",
      "dict_keys(['Crablog.spectral.index', 'Crablog.spectral.lambda_'])\n",
      "dict_keys(['Crablog.spectral.index', 'Crablog.spectral.lambda_'])\n"
     ]
    },
    {
     "data": {
      "image/png": "[encoded data removed]",
      "text/plain": [
       "<Figure size 640x480 with 4 Axes>"
      ]
     },
     "metadata": {},
     "output_type": "display_data"
    }
   ],
   "source": [
    "fig,axs = plt.subplots(2,2)\n",
    "#axs = axs.flatten()\n",
    "axs = [axs[1][0], axs[0][0], axs[1][1], axs[0][1]]\n",
    "for i,p in enumerate(parameter_names):\n",
    "    print(p)\n",
    "    print(results[i].keys())\n",
    "    print(results_N[i].keys())\n",
    "    \n",
    "    a = results[i][f'{dataset_asimov.models[0].name}.spectral.{p[0]}']    \n",
    "    b = results[i][f'{dataset_asimov.models[0].name}.spectral.{p[1]}']\n",
    "     \n",
    "    axs[i].plot(a, b, color = awo[0])\n",
    "    axs[i].errorbar(x = dataset_asimov.models[0].parameters[p[0]].value,\n",
    "                    y = dataset_asimov.models[0].parameters[p[1]].value,\n",
    "                    xerr = dataset_asimov.models[0].parameters[p[0]].error,\n",
    "                    yerr = dataset_asimov.models[0].parameters[p[1]].error,\n",
    "                    color = awo[0],\n",
    "                    capsize = 6,\n",
    "                    label = \"fit w/o systematic\"\n",
    "                    \n",
    "                   )\n",
    "    \n",
    "    a = results_N[i][f'{dataset_asimov.models[0].name}.spectral.{p[0]}']    \n",
    "    b = results_N[i][f'{dataset_asimov.models[0].name}.spectral.{p[1]}']\n",
    "    axs[i].plot(a, b, color = aw[0], marker = 'x' , linestyle = '' )\n",
    "    axs[i].errorbar(x = dataset_asimov_N.models[0].parameters[p[0]].value,\n",
    "                    y = dataset_asimov_N.models[0].parameters[p[1]].value,\n",
    "                    xerr = dataset_asimov_N.models[0].parameters[p[0]].error,\n",
    "                    yerr = dataset_asimov_N.models[0].parameters[p[1]].error,\n",
    "                    color = aw[0],\n",
    "                    capsize = 6,\n",
    "                    label = \"fit with systematic\"\n",
    "                   )\n",
    "    axs[i].errorbar(x = dataset_input.models[0].parameters[p[0]].value,\n",
    "                    y = dataset_input.models[0].parameters[p[1]].value,\n",
    "                    color = 'black',\n",
    "                    marker = 'v',\n",
    "                    capsize = 6,\n",
    "                    label = \"input\"\n",
    "                   )\n",
    "    axs[i].set_xlabel(p[0])\n",
    "    axs[i].set_ylabel(p[1])  \n",
    "plt.tight_layout()\n",
    "axs[-1].axis('off')\n",
    "plt.savefig(f\"../{c['folder']}/plots/3_contours.pdf\")"
   ]
  },
  {
   "cell_type": "code",
   "execution_count": null,
   "id": "613bfb33-fde5-460b-a07e-0d199c5e9e03",
   "metadata": {},
   "outputs": [],
   "source": []
  },
  {
   "cell_type": "code",
   "execution_count": null,
   "id": "4cae9d2f-748c-422e-9f71-aba8e69a5089",
   "metadata": {},
   "outputs": [],
   "source": []
  }
 ],
 "metadata": {
  "kernelspec": {
   "display_name": "Python 3 (ipykernel)",
   "language": "python",
   "name": "python3"
  },
  "language_info": {
   "codemirror_mode": {
    "name": "ipython",
    "version": 3
   },
   "file_extension": ".py",
   "mimetype": "text/x-python",
   "name": "python",
   "nbconvert_exporter": "python",
   "pygments_lexer": "ipython3",
   "version": "3.8.16"
  },
  "varInspector": {
   "cols": {
    "lenName": 16,
    "lenType": 16,
    "lenVar": 40
   },
   "kernels_config": {
    "python": {
     "delete_cmd_postfix": "",
     "delete_cmd_prefix": "del ",
     "library": "var_list.py",
     "varRefreshCmd": "print(var_dic_list())"
    },
    "r": {
     "delete_cmd_postfix": ") ",
     "delete_cmd_prefix": "rm(",
     "library": "var_list.r",
     "varRefreshCmd": "cat(var_dic_list()) "
    }
   },
   "types_to_exclude": [
    "module",
    "function",
    "builtin_function_or_method",
    "instance",
    "_Feature"
   ],
   "window_display": false
  }
 },
 "nbformat": 4,
 "nbformat_minor": 5
}
