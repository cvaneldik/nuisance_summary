{
 "cells": [
  {
   "cell_type": "markdown",
   "id": "e7853a11",
   "metadata": {},
   "source": [
    "## Runnning with gammapy-dev/IRF_model\n",
    "Fitting asimov datasets with nuisance parameters based on the different livetimes"
   ]
  },
  {
   "cell_type": "markdown",
   "id": "0e04af29",
   "metadata": {},
   "source": [
    "### Setup"
   ]
  },
  {
   "cell_type": "code",
   "execution_count": 1,
   "id": "27bf135a-5ee4-4ca1-8549-6bf07929003c",
   "metadata": {},
   "outputs": [],
   "source": [
    "import matplotlib.pyplot as plt\n",
    "import numpy as np\n",
    "import astropy.units as u\n",
    "from gammapy.maps import Map\n",
    "from astropy.coordinates import SkyCoord, Angle\n",
    "from gammapy.modeling import Fit,  Parameters, Covariance , Parameter\n",
    "from gammapy.datasets import MapDataset ,Datasets, FluxPointsDataset\n",
    "from gammapy.modeling.models import (\n",
    "    PowerLawSpectralModel,\n",
    "    SkyModel,\n",
    "    PointSpatialModel,\n",
    "    PowerLawNormSpectralModel,\n",
    "    Models,\n",
    "    SpatialModel,\n",
    "    FoVBackgroundModel,\n",
    "    PiecewiseNormSpectralModel,\n",
    ")\n",
    "from gammapy.estimators import TSMapEstimator, ExcessMapEstimator\n",
    "from gammapy.estimators import FluxPoints, FluxPointsEstimator\n",
    "from scipy.interpolate import interp2d\n",
    "\n",
    "from regions import CircleSkyRegion, RectangleSkyRegion\n",
    "import yaml\n",
    "import sys\n",
    "sys.path.append('../')\n",
    "import Dataset_load \n",
    "\n",
    "from  Dataset_Setup import Setup, GaussianCovariance_matrix"
   ]
  },
  {
   "cell_type": "markdown",
   "id": "5de988df",
   "metadata": {
    "tags": []
   },
   "source": [
    "## Read dataset"
   ]
  },
  {
   "cell_type": "code",
   "execution_count": 2,
   "id": "0eeeaf75",
   "metadata": {},
   "outputs": [],
   "source": [
    "c = Dataset_load.load_config()\n",
    "awo, aw, ewo, ew = c['_colors']  "
   ]
  },
  {
   "cell_type": "code",
   "execution_count": 3,
   "id": "e0c45f4e-6432-405e-86b7-649e254c0950",
   "metadata": {},
   "outputs": [
    {
     "name": "stdout",
     "output_type": "stream",
     "text": [
      "2.154434690031884\n",
      "E_reco\n"
     ]
    }
   ],
   "source": [
    "livetime = c['livetime']\n",
    "zero = c['zero'] \n",
    "norm = c['norm'] \n",
    "tilt = c['tilt'] \n",
    "bias = c['bias'] \n",
    "resolution = c['resolution'] \n",
    "magnitude = c['magnitude'] \n",
    "corrlength = c['corrlength']\n",
    "sys = c['sys'] \n",
    "folder = c['folder']\n",
    "parameter_names = c['parameter_names']        \n",
    "nbidx = 0\n",
    "print(livetime)\n",
    "print(sys)"
   ]
  },
  {
   "cell_type": "code",
   "execution_count": 4,
   "id": "f94dc89c",
   "metadata": {},
   "outputs": [
    {
     "name": "stdout",
     "output_type": "stream",
     "text": [
      "loaded dataset:\n",
      "/home/wecapstor1/caph/mppi045h/nuisance_summary/PKS_flare/HESS_public/dataset-simulated-2.154434690031884-hr.fits.gz\n",
      "CPU times: user 6.2 s, sys: 198 ms, total: 6.4 s\n",
      "Wall time: 6.42 s\n"
     ]
    }
   ],
   "source": [
    "%%time\n",
    "dataset_input  = Dataset_load.create_asimov(model = c['model'], source = c['source'], \n",
    "                                               livetime = f\"{livetime}-hr\",\n",
    "                                        parameters = None)\n"
   ]
  },
  {
   "cell_type": "markdown",
   "id": "2e0399d4",
   "metadata": {},
   "source": [
    "## Datasets"
   ]
  },
  {
   "cell_type": "code",
   "execution_count": 5,
   "id": "b24b18ac-af52-48ac-bd1e-f03d21457fe4",
   "metadata": {},
   "outputs": [],
   "source": [
    "    \n",
    "setup = Setup(dataset_input=dataset_input)\n",
    "#setup.set_up_irf_sys(bias, resolution, norm, tilt)\n",
    "dataset_asimov, dataset_asimov_N = setup.run()\n",
    "# irf model\n",
    "setup.set_irf_model(dataset_asimov_N)\n",
    "if sys == \"Eff_area\":\n",
    "    dataset_asimov_N.models.parameters['resolution'].frozen = True\n",
    "    dataset_asimov_N.irf_model.parameters['tilt'].frozen = False\n",
    "    dataset_asimov_N.irf_model.parameters['bias'].frozen = True\n",
    "    setup.set_irf_prior(dataset_asimov_N, bias, resolution, norm, tilt)\n"
   ]
  },
  {
   "cell_type": "markdown",
   "id": "ec637604-dbf7-4501-9012-2bf4c302d233",
   "metadata": {},
   "source": [
    "## Minos"
   ]
  },
  {
   "cell_type": "code",
   "execution_count": 6,
   "id": "7031c52d-9f99-43ef-80aa-784a36f211e3",
   "metadata": {},
   "outputs": [],
   "source": [
    "        \n",
    "numpoints = 50"
   ]
  },
  {
   "cell_type": "code",
   "execution_count": 7,
   "id": "f6589e22-4b65-4ef2-a364-0fa01a829dad",
   "metadata": {},
   "outputs": [],
   "source": [
    "def computing_contour(dataset, note):\n",
    "        \n",
    "    fit_cor = Fit(store_trace=False)\n",
    "    result_cor = fit_cor.run(dataset)\n",
    "    print(dataset_asimov.models[0])\n",
    "    \n",
    "    results = []\n",
    "    for parname1, parname2 in parameter_names :\n",
    "        print( parname1, parname2)\n",
    "        minuit_opts = {\"tol\": 0.001, \"strategy\": 1}\n",
    "        fit_cor.backend = \"minuit\"\n",
    "        fit_cor.optimize_opts = minuit_opts\n",
    "        result = fit_cor.stat_contour(dataset,\n",
    "                             dataset.models.parameters[parname1],\n",
    "                             dataset.models.parameters[parname2],\n",
    "                                      numpoints=numpoints \n",
    "                            )\n",
    "\n",
    "        contour_write = dict()\n",
    "        for k in result.keys():\n",
    "            print(k)\n",
    "            if k != \"success\":\n",
    "                contour_write[k] = result[k].tolist()\n",
    "\n",
    "        with open(f\"../{c['folder']}/data/3_contour_{note}_{parname1}_{parname2}_{numpoints}.yml\", \"w\") as outfile:\n",
    "            yaml.dump(contour_write, outfile, default_flow_style=False)\n",
    "\n",
    "        fig = plt.figure()\n",
    "        plt.plot(result[f\"{dataset.models[0].name}.spectral.{parname1}\"],\n",
    "        result[f\"{dataset.models[0].name}.spectral.{parname2}\"])\n",
    "        results.append(result)\n",
    "        \n",
    "def read_in_contour(note):\n",
    "    results = []\n",
    "    for parname1, parname2 in parameter_names :\n",
    "        with open(f\"../{c['folder']}/data/3_contour_{note}_{parname1}_{parname2}_{numpoints}.yml\", \"r\") as stream:\n",
    "            contour = yaml.safe_load(stream)\n",
    "        results.append(contour)\n",
    "    return results"
   ]
  },
  {
   "cell_type": "code",
   "execution_count": 8,
   "id": "e2201840-6c23-471d-b286-7152982bbb66",
   "metadata": {},
   "outputs": [
    {
     "ename": "FileNotFoundError",
     "evalue": "[Errno 2] No such file or directory: '../E_reco_PKSflare_crab_log/data/3_contour_2.15h_amplitude_alpha_50.yml'",
     "output_type": "error",
     "traceback": [
      "\u001b[0;31m---------------------------------------------------------------------------\u001b[0m",
      "\u001b[0;31mFileNotFoundError\u001b[0m                         Traceback (most recent call last)",
      "File \u001b[0;32m<timed exec>:5\u001b[0m\n",
      "Cell \u001b[0;32mIn[7], line 36\u001b[0m, in \u001b[0;36mread_in_contour\u001b[0;34m(note)\u001b[0m\n\u001b[1;32m     34\u001b[0m results \u001b[38;5;241m=\u001b[39m []\n\u001b[1;32m     35\u001b[0m \u001b[38;5;28;01mfor\u001b[39;00m parname1, parname2 \u001b[38;5;129;01min\u001b[39;00m parameter_names :\n\u001b[0;32m---> 36\u001b[0m     \u001b[38;5;28;01mwith\u001b[39;00m \u001b[38;5;28;43mopen\u001b[39;49m\u001b[43m(\u001b[49m\u001b[38;5;124;43mf\u001b[39;49m\u001b[38;5;124;43m\"\u001b[39;49m\u001b[38;5;124;43m../\u001b[39;49m\u001b[38;5;132;43;01m{\u001b[39;49;00m\u001b[43mc\u001b[49m\u001b[43m[\u001b[49m\u001b[38;5;124;43m'\u001b[39;49m\u001b[38;5;124;43mfolder\u001b[39;49m\u001b[38;5;124;43m'\u001b[39;49m\u001b[43m]\u001b[49m\u001b[38;5;132;43;01m}\u001b[39;49;00m\u001b[38;5;124;43m/data/3_contour_\u001b[39;49m\u001b[38;5;132;43;01m{\u001b[39;49;00m\u001b[43mnote\u001b[49m\u001b[38;5;132;43;01m}\u001b[39;49;00m\u001b[38;5;124;43m_\u001b[39;49m\u001b[38;5;132;43;01m{\u001b[39;49;00m\u001b[43mparname1\u001b[49m\u001b[38;5;132;43;01m}\u001b[39;49;00m\u001b[38;5;124;43m_\u001b[39;49m\u001b[38;5;132;43;01m{\u001b[39;49;00m\u001b[43mparname2\u001b[49m\u001b[38;5;132;43;01m}\u001b[39;49;00m\u001b[38;5;124;43m_\u001b[39;49m\u001b[38;5;132;43;01m{\u001b[39;49;00m\u001b[43mnumpoints\u001b[49m\u001b[38;5;132;43;01m}\u001b[39;49;00m\u001b[38;5;124;43m.yml\u001b[39;49m\u001b[38;5;124;43m\"\u001b[39;49m\u001b[43m,\u001b[49m\u001b[43m \u001b[49m\u001b[38;5;124;43m\"\u001b[39;49m\u001b[38;5;124;43mr\u001b[39;49m\u001b[38;5;124;43m\"\u001b[39;49m\u001b[43m)\u001b[49m \u001b[38;5;28;01mas\u001b[39;00m stream:\n\u001b[1;32m     37\u001b[0m         contour \u001b[38;5;241m=\u001b[39m yaml\u001b[38;5;241m.\u001b[39msafe_load(stream)\n\u001b[1;32m     38\u001b[0m     results\u001b[38;5;241m.\u001b[39mappend(contour)\n",
      "File \u001b[0;32m/home/wecapstor1/caph/mppi045h/anaconda3/envs/gammapy-dev/lib/python3.8/site-packages/IPython/core/interactiveshell.py:284\u001b[0m, in \u001b[0;36m_modified_open\u001b[0;34m(file, *args, **kwargs)\u001b[0m\n\u001b[1;32m    277\u001b[0m \u001b[38;5;28;01mif\u001b[39;00m file \u001b[38;5;129;01min\u001b[39;00m {\u001b[38;5;241m0\u001b[39m, \u001b[38;5;241m1\u001b[39m, \u001b[38;5;241m2\u001b[39m}:\n\u001b[1;32m    278\u001b[0m     \u001b[38;5;28;01mraise\u001b[39;00m \u001b[38;5;167;01mValueError\u001b[39;00m(\n\u001b[1;32m    279\u001b[0m         \u001b[38;5;124mf\u001b[39m\u001b[38;5;124m\"\u001b[39m\u001b[38;5;124mIPython won\u001b[39m\u001b[38;5;124m'\u001b[39m\u001b[38;5;124mt let you open fd=\u001b[39m\u001b[38;5;132;01m{\u001b[39;00mfile\u001b[38;5;132;01m}\u001b[39;00m\u001b[38;5;124m by default \u001b[39m\u001b[38;5;124m\"\u001b[39m\n\u001b[1;32m    280\u001b[0m         \u001b[38;5;124m\"\u001b[39m\u001b[38;5;124mas it is likely to crash IPython. If you know what you are doing, \u001b[39m\u001b[38;5;124m\"\u001b[39m\n\u001b[1;32m    281\u001b[0m         \u001b[38;5;124m\"\u001b[39m\u001b[38;5;124myou can use builtins\u001b[39m\u001b[38;5;124m'\u001b[39m\u001b[38;5;124m open.\u001b[39m\u001b[38;5;124m\"\u001b[39m\n\u001b[1;32m    282\u001b[0m     )\n\u001b[0;32m--> 284\u001b[0m \u001b[38;5;28;01mreturn\u001b[39;00m \u001b[43mio_open\u001b[49m\u001b[43m(\u001b[49m\u001b[43mfile\u001b[49m\u001b[43m,\u001b[49m\u001b[43m \u001b[49m\u001b[38;5;241;43m*\u001b[39;49m\u001b[43margs\u001b[49m\u001b[43m,\u001b[49m\u001b[43m \u001b[49m\u001b[38;5;241;43m*\u001b[39;49m\u001b[38;5;241;43m*\u001b[39;49m\u001b[43mkwargs\u001b[49m\u001b[43m)\u001b[49m\n",
      "\u001b[0;31mFileNotFoundError\u001b[0m: [Errno 2] No such file or directory: '../E_reco_PKSflare_crab_log/data/3_contour_2.15h_amplitude_alpha_50.yml'"
     ]
    }
   ],
   "source": [
    "%%time\n",
    "computing = 0\n",
    "if computing:\n",
    "    results = computing_contour(dataset_asimov, \"2.15h\")\n",
    "else:\n",
    "    results = read_in_contour(\"2.15h\")\n",
    "    path = f'../{folder}/data/0_model_livetime_{livetime}.yml'\n",
    "    dataset_asimov.models = Models.read(path)\n",
    "    \n"
   ]
  },
  {
   "cell_type": "code",
   "execution_count": 9,
   "id": "2a09d6e7-599d-4612-b80e-23d72f04ea98",
   "metadata": {},
   "outputs": [
    {
     "ename": "FileNotFoundError",
     "evalue": "[Errno 2] No such file or directory: '../E_reco_PKSflare_crab_log/data/3_contour_N_2.15h_amplitude_alpha_50.yml'",
     "output_type": "error",
     "traceback": [
      "\u001b[0;31m---------------------------------------------------------------------------\u001b[0m",
      "\u001b[0;31mFileNotFoundError\u001b[0m                         Traceback (most recent call last)",
      "File \u001b[0;32m<timed exec>:6\u001b[0m\n",
      "Cell \u001b[0;32mIn[7], line 36\u001b[0m, in \u001b[0;36mread_in_contour\u001b[0;34m(note)\u001b[0m\n\u001b[1;32m     34\u001b[0m results \u001b[38;5;241m=\u001b[39m []\n\u001b[1;32m     35\u001b[0m \u001b[38;5;28;01mfor\u001b[39;00m parname1, parname2 \u001b[38;5;129;01min\u001b[39;00m parameter_names :\n\u001b[0;32m---> 36\u001b[0m     \u001b[38;5;28;01mwith\u001b[39;00m \u001b[38;5;28;43mopen\u001b[39;49m\u001b[43m(\u001b[49m\u001b[38;5;124;43mf\u001b[39;49m\u001b[38;5;124;43m\"\u001b[39;49m\u001b[38;5;124;43m../\u001b[39;49m\u001b[38;5;132;43;01m{\u001b[39;49;00m\u001b[43mc\u001b[49m\u001b[43m[\u001b[49m\u001b[38;5;124;43m'\u001b[39;49m\u001b[38;5;124;43mfolder\u001b[39;49m\u001b[38;5;124;43m'\u001b[39;49m\u001b[43m]\u001b[49m\u001b[38;5;132;43;01m}\u001b[39;49;00m\u001b[38;5;124;43m/data/3_contour_\u001b[39;49m\u001b[38;5;132;43;01m{\u001b[39;49;00m\u001b[43mnote\u001b[49m\u001b[38;5;132;43;01m}\u001b[39;49;00m\u001b[38;5;124;43m_\u001b[39;49m\u001b[38;5;132;43;01m{\u001b[39;49;00m\u001b[43mparname1\u001b[49m\u001b[38;5;132;43;01m}\u001b[39;49;00m\u001b[38;5;124;43m_\u001b[39;49m\u001b[38;5;132;43;01m{\u001b[39;49;00m\u001b[43mparname2\u001b[49m\u001b[38;5;132;43;01m}\u001b[39;49;00m\u001b[38;5;124;43m_\u001b[39;49m\u001b[38;5;132;43;01m{\u001b[39;49;00m\u001b[43mnumpoints\u001b[49m\u001b[38;5;132;43;01m}\u001b[39;49;00m\u001b[38;5;124;43m.yml\u001b[39;49m\u001b[38;5;124;43m\"\u001b[39;49m\u001b[43m,\u001b[49m\u001b[43m \u001b[49m\u001b[38;5;124;43m\"\u001b[39;49m\u001b[38;5;124;43mr\u001b[39;49m\u001b[38;5;124;43m\"\u001b[39;49m\u001b[43m)\u001b[49m \u001b[38;5;28;01mas\u001b[39;00m stream:\n\u001b[1;32m     37\u001b[0m         contour \u001b[38;5;241m=\u001b[39m yaml\u001b[38;5;241m.\u001b[39msafe_load(stream)\n\u001b[1;32m     38\u001b[0m     results\u001b[38;5;241m.\u001b[39mappend(contour)\n",
      "File \u001b[0;32m/home/wecapstor1/caph/mppi045h/anaconda3/envs/gammapy-dev/lib/python3.8/site-packages/IPython/core/interactiveshell.py:284\u001b[0m, in \u001b[0;36m_modified_open\u001b[0;34m(file, *args, **kwargs)\u001b[0m\n\u001b[1;32m    277\u001b[0m \u001b[38;5;28;01mif\u001b[39;00m file \u001b[38;5;129;01min\u001b[39;00m {\u001b[38;5;241m0\u001b[39m, \u001b[38;5;241m1\u001b[39m, \u001b[38;5;241m2\u001b[39m}:\n\u001b[1;32m    278\u001b[0m     \u001b[38;5;28;01mraise\u001b[39;00m \u001b[38;5;167;01mValueError\u001b[39;00m(\n\u001b[1;32m    279\u001b[0m         \u001b[38;5;124mf\u001b[39m\u001b[38;5;124m\"\u001b[39m\u001b[38;5;124mIPython won\u001b[39m\u001b[38;5;124m'\u001b[39m\u001b[38;5;124mt let you open fd=\u001b[39m\u001b[38;5;132;01m{\u001b[39;00mfile\u001b[38;5;132;01m}\u001b[39;00m\u001b[38;5;124m by default \u001b[39m\u001b[38;5;124m\"\u001b[39m\n\u001b[1;32m    280\u001b[0m         \u001b[38;5;124m\"\u001b[39m\u001b[38;5;124mas it is likely to crash IPython. If you know what you are doing, \u001b[39m\u001b[38;5;124m\"\u001b[39m\n\u001b[1;32m    281\u001b[0m         \u001b[38;5;124m\"\u001b[39m\u001b[38;5;124myou can use builtins\u001b[39m\u001b[38;5;124m'\u001b[39m\u001b[38;5;124m open.\u001b[39m\u001b[38;5;124m\"\u001b[39m\n\u001b[1;32m    282\u001b[0m     )\n\u001b[0;32m--> 284\u001b[0m \u001b[38;5;28;01mreturn\u001b[39;00m \u001b[43mio_open\u001b[49m\u001b[43m(\u001b[49m\u001b[43mfile\u001b[49m\u001b[43m,\u001b[49m\u001b[43m \u001b[49m\u001b[38;5;241;43m*\u001b[39;49m\u001b[43margs\u001b[49m\u001b[43m,\u001b[49m\u001b[43m \u001b[49m\u001b[38;5;241;43m*\u001b[39;49m\u001b[38;5;241;43m*\u001b[39;49m\u001b[43mkwargs\u001b[49m\u001b[43m)\u001b[49m\n",
      "\u001b[0;31mFileNotFoundError\u001b[0m: [Errno 2] No such file or directory: '../E_reco_PKSflare_crab_log/data/3_contour_N_2.15h_amplitude_alpha_50.yml'"
     ]
    }
   ],
   "source": [
    "%%time\n",
    "computing = 0\n",
    "\n",
    "if computing:\n",
    "    results_N = computing_contour(dataset_asimov_N, \"N_2.15h\")\n",
    "else:\n",
    "    results_N = read_in_contour(\"N_2.15h\")\n",
    "    path = f'../{folder}/data/0_model_nui_livetime_{livetime}.yml'\n",
    "    dataset_asimov_N = Dataset_load.load_dataset_N(dataset_asimov_N, path,bkg_sys = False)        \n"
   ]
  },
  {
   "cell_type": "code",
   "execution_count": 10,
   "id": "c134033e-7b58-40af-aa75-f499ba02ed00",
   "metadata": {},
   "outputs": [
    {
     "ename": "NameError",
     "evalue": "name 'results' is not defined",
     "output_type": "error",
     "traceback": [
      "\u001b[0;31m---------------------------------------------------------------------------\u001b[0m",
      "\u001b[0;31mNameError\u001b[0m                                 Traceback (most recent call last)",
      "Cell \u001b[0;32mIn[10], line 5\u001b[0m\n\u001b[1;32m      3\u001b[0m axs \u001b[38;5;241m=\u001b[39m [axs[\u001b[38;5;241m1\u001b[39m][\u001b[38;5;241m0\u001b[39m], axs[\u001b[38;5;241m0\u001b[39m][\u001b[38;5;241m0\u001b[39m], axs[\u001b[38;5;241m1\u001b[39m][\u001b[38;5;241m1\u001b[39m], axs[\u001b[38;5;241m0\u001b[39m][\u001b[38;5;241m1\u001b[39m]]\n\u001b[1;32m      4\u001b[0m \u001b[38;5;28;01mfor\u001b[39;00m i,p \u001b[38;5;129;01min\u001b[39;00m \u001b[38;5;28menumerate\u001b[39m(parameter_names):\n\u001b[0;32m----> 5\u001b[0m     a \u001b[38;5;241m=\u001b[39m \u001b[43mresults\u001b[49m[i][\u001b[38;5;124mf\u001b[39m\u001b[38;5;124m'\u001b[39m\u001b[38;5;132;01m{\u001b[39;00mdataset_asimov\u001b[38;5;241m.\u001b[39mmodels[\u001b[38;5;241m0\u001b[39m]\u001b[38;5;241m.\u001b[39mname\u001b[38;5;132;01m}\u001b[39;00m\u001b[38;5;124m.spectral.\u001b[39m\u001b[38;5;132;01m{\u001b[39;00mp[\u001b[38;5;241m0\u001b[39m]\u001b[38;5;132;01m}\u001b[39;00m\u001b[38;5;124m'\u001b[39m]    \n\u001b[1;32m      6\u001b[0m     b \u001b[38;5;241m=\u001b[39m results[i][\u001b[38;5;124mf\u001b[39m\u001b[38;5;124m'\u001b[39m\u001b[38;5;132;01m{\u001b[39;00mdataset_asimov\u001b[38;5;241m.\u001b[39mmodels[\u001b[38;5;241m0\u001b[39m]\u001b[38;5;241m.\u001b[39mname\u001b[38;5;132;01m}\u001b[39;00m\u001b[38;5;124m.spectral.\u001b[39m\u001b[38;5;132;01m{\u001b[39;00mp[\u001b[38;5;241m1\u001b[39m]\u001b[38;5;132;01m}\u001b[39;00m\u001b[38;5;124m'\u001b[39m]\n\u001b[1;32m      7\u001b[0m     axs[i]\u001b[38;5;241m.\u001b[39mplot(a, b, color \u001b[38;5;241m=\u001b[39m awo[\u001b[38;5;241m0\u001b[39m])\n",
      "\u001b[0;31mNameError\u001b[0m: name 'results' is not defined"
     ]
    },
    {
     "data": {
      "image/png": "[encoded data removed]",
      "text/plain": [
       "<Figure size 640x480 with 4 Axes>"
      ]
     },
     "metadata": {},
     "output_type": "display_data"
    }
   ],
   "source": [
    "fig,axs = plt.subplots(2,2)\n",
    "#axs = axs.flatten()\n",
    "axs = [axs[1][0], axs[0][0], axs[1][1], axs[0][1]]\n",
    "for i,p in enumerate(parameter_names):\n",
    "    a = results[i][f'{dataset_asimov.models[0].name}.spectral.{p[0]}']    \n",
    "    b = results[i][f'{dataset_asimov.models[0].name}.spectral.{p[1]}']\n",
    "    axs[i].plot(a, b, color = awo[0])\n",
    "    axs[i].errorbar(x = dataset_asimov.models[0].parameters[p[0]].value,\n",
    "                    y = dataset_asimov.models[0].parameters[p[1]].value,\n",
    "                    xerr = dataset_asimov.models[0].parameters[p[0]].error,\n",
    "                    yerr = dataset_asimov.models[0].parameters[p[1]].error,\n",
    "                    color = awo[0],\n",
    "                    capsize = 6,\n",
    "                    label = \"fit w/o systematic\"\n",
    "                    \n",
    "                   )\n",
    "    \n",
    "    a = results_N[i][f'{dataset_asimov.models[0].name}.spectral.{p[0]}']    \n",
    "    b = results_N[i][f'{dataset_asimov.models[0].name}.spectral.{p[1]}']\n",
    "    axs[i].plot(a, b, color = aw[0])\n",
    "    axs[i].errorbar(x = dataset_asimov_N.models[0].parameters[p[0]].value,\n",
    "                    y = dataset_asimov_N.models[0].parameters[p[1]].value,\n",
    "                    xerr = dataset_asimov_N.models[0].parameters[p[0]].error,\n",
    "                    yerr = dataset_asimov_N.models[0].parameters[p[1]].error,\n",
    "                    color = aw[0],\n",
    "                    capsize = 6,\n",
    "                    label = \"fit with systematic\"\n",
    "                   )\n",
    "    axs[i].errorbar(x = dataset_input.models[0].parameters[p[0]].value,\n",
    "                    y = dataset_input.models[0].parameters[p[1]].value,\n",
    "                    color = 'black',\n",
    "                    marker = 'v',\n",
    "                    capsize = 6,\n",
    "                    label = \"input\"\n",
    "                   )\n",
    "    axs[i].set_xlabel(p[0])\n",
    "    axs[i].set_ylabel(p[1])  \n",
    "plt.tight_layout()\n",
    "axs[-1].axis('off')\n",
    "plt.savefig(f\"../{c['folder']}/plots/3_contours.pdf\")"
   ]
  },
  {
   "cell_type": "code",
   "execution_count": null,
   "id": "2196df63-3d50-4ef6-9fe0-6f917b049742",
   "metadata": {},
   "outputs": [],
   "source": []
  },
  {
   "cell_type": "code",
   "execution_count": null,
   "id": "10787d91-8aa4-446b-a3ea-d8ff8abe413c",
   "metadata": {},
   "outputs": [],
   "source": []
  }
 ],
 "metadata": {
  "kernelspec": {
   "display_name": "Python 3 (ipykernel)",
   "language": "python",
   "name": "python3"
  },
  "language_info": {
   "codemirror_mode": {
    "name": "ipython",
    "version": 3
   },
   "file_extension": ".py",
   "mimetype": "text/x-python",
   "name": "python",
   "nbconvert_exporter": "python",
   "pygments_lexer": "ipython3",
   "version": "3.8.16"
  },
  "varInspector": {
   "cols": {
    "lenName": 16,
    "lenType": 16,
    "lenVar": 40
   },
   "kernels_config": {
    "python": {
     "delete_cmd_postfix": "",
     "delete_cmd_prefix": "del ",
     "library": "var_list.py",
     "varRefreshCmd": "print(var_dic_list())"
    },
    "r": {
     "delete_cmd_postfix": ") ",
     "delete_cmd_prefix": "rm(",
     "library": "var_list.r",
     "varRefreshCmd": "cat(var_dic_list()) "
    }
   },
   "types_to_exclude": [
    "module",
    "function",
    "builtin_function_or_method",
    "instance",
    "_Feature"
   ],
   "window_display": false
  }
 },
 "nbformat": 4,
 "nbformat_minor": 5
}
