{
 "cells": [
  {
   "cell_type": "markdown",
   "id": "e7853a11",
   "metadata": {},
   "source": [
    "## Runnning with gammapy-dev/IRF_model\n",
    "Fitting asimov datasets with nuisance parameters based on the different livetimes"
   ]
  },
  {
   "cell_type": "markdown",
   "id": "0e04af29",
   "metadata": {},
   "source": [
    "### Setup"
   ]
  },
  {
   "cell_type": "code",
   "execution_count": null,
   "id": "27bf135a-5ee4-4ca1-8549-6bf07929003c",
   "metadata": {},
   "outputs": [],
   "source": [
    "import matplotlib.pyplot as plt\n",
    "import numpy as np\n",
    "import astropy.units as u\n",
    "from gammapy.maps import Map\n",
    "from astropy.coordinates import SkyCoord, Angle\n",
    "from gammapy.modeling import Fit,  Parameters, Covariance , Parameter\n",
    "from gammapy.datasets import MapDataset ,Datasets, FluxPointsDataset\n",
    "from gammapy.modeling.models import (\n",
    "    PowerLawSpectralModel,\n",
    "    SkyModel,\n",
    "    PointSpatialModel,\n",
    "    PowerLawNormSpectralModel,\n",
    "    Models,\n",
    "    SpatialModel,\n",
    "    FoVBackgroundModel,\n",
    "    PiecewiseNormSpectralModel,\n",
    ")\n",
    "from gammapy.estimators import TSMapEstimator, ExcessMapEstimator\n",
    "from gammapy.estimators import FluxPoints, FluxPointsEstimator\n",
    "from scipy.interpolate import interp2d\n",
    "\n",
    "from regions import CircleSkyRegion, RectangleSkyRegion\n",
    "import yaml\n",
    "import sys\n",
    "sys.path.append('../')\n",
    "import Dataset_load \n",
    "\n",
    "from  Dataset_Setup import Setup, GaussianCovariance_matrix\n",
    "\n",
    "from matplotlib import rc\n",
    "rc(\"font\", **{\"family\": \"serif\", \"serif\": [\"Computer Modern\"]})\n",
    "rc(\"text\", usetex=True)\n"
   ]
  },
  {
   "cell_type": "markdown",
   "id": "5de988df",
   "metadata": {
    "tags": []
   },
   "source": [
    "## Read dataset"
   ]
  },
  {
   "cell_type": "code",
   "execution_count": null,
   "id": "0eeeaf75",
   "metadata": {},
   "outputs": [],
   "source": [
    "c = Dataset_load.load_config()\n",
    "awo, aw, ewo, ew = c['_colors']  \n"
   ]
  },
  {
   "cell_type": "code",
   "execution_count": null,
   "id": "e0c45f4e-6432-405e-86b7-649e254c0950",
   "metadata": {},
   "outputs": [],
   "source": [
    "livetime = 100.0 # c['livetime']\n",
    "zero = c['zero'] \n",
    "norm = c['norm'] \n",
    "tilt = c['tilt'] \n",
    "bias = c['bias'] \n",
    "resolution = c['resolution'] \n",
    "magnitude = c['magnitude'] \n",
    "corrlength = c['corrlength']\n",
    "sys = c['sys'] \n",
    "folder = c['folder']\n",
    "parameter_names = c['parameter_names']        \n",
    "nbidx = 0\n",
    "print(livetime)\n",
    "print(sys)"
   ]
  },
  {
   "cell_type": "code",
   "execution_count": null,
   "id": "fd83cffe",
   "metadata": {},
   "outputs": [],
   "source": [
    "c['model']"
   ]
  },
  {
   "cell_type": "code",
   "execution_count": null,
   "id": "f94dc89c",
   "metadata": {},
   "outputs": [],
   "source": [
    "%%time\n",
    "amplitude= Parameter('amplitude', value = 3.85e-12, unit=u.Unit(\"1 / (TeV s cm2)\"))\n",
    "dataset_input_point  = Dataset_load.create_asimov(model = c['model'], source = c['source'], \n",
    "                                               livetime = f\"{livetime}-hr\",\n",
    "                                        parameters = [amplitude],\n",
    "                                           spatial_model =None)\n",
    "from gammapy.modeling.models import GaussianSpatialModel\n",
    "gaussian = GaussianSpatialModel(lon_0 = dataset_input_point.models.parameters['lon_0'],\n",
    "                                lat_0 = dataset_input_point.models.parameters['lat_0'],\n",
    "                                sigma = 0.3 *u.deg\n",
    "                               )\n",
    "\n",
    "\n",
    "dataset_input  = Dataset_load.create_asimov(model = c['model'], source = c['source'], \n",
    "                                               livetime = f\"{livetime}-hr\",\n",
    "                                        parameters = [amplitude],\n",
    "                                           spatial_model =gaussian)\n"
   ]
  },
  {
   "cell_type": "code",
   "execution_count": null,
   "id": "fb3522d9-9452-4583-a63d-bd99020e626d",
   "metadata": {},
   "outputs": [],
   "source": [
    "dataset_input.npred().sum_over_axes().plot(add_cbar =1)"
   ]
  },
  {
   "cell_type": "code",
   "execution_count": null,
   "id": "b24b18ac-af52-48ac-bd1e-f03d21457fe4",
   "metadata": {},
   "outputs": [],
   "source": [
    "    \n",
    "setup = Setup(dataset_input=dataset_input)\n",
    "#setup.set_up_irf_sys(bias, resolution, norm, tilt)\n",
    "dataset_asimov, dataset_asimov_N = setup.run()\n",
    "# irf model\n",
    "#setup.set_irf_model(dataset_asimov_N)\n",
    "if \"Bkg\" in sys or \"BKG\" in sys:\n",
    "\n",
    "    # piece wise model\n",
    "    # remove old bkg model\n",
    "    setup.set_up_bkg_sys_V( breake = 3,\n",
    "                        index1 = 8,\n",
    "                        index2 = 1.5, \n",
    "                        magnitude = magnitude )\n",
    "\n",
    "    dataset_asimov, dataset_asimov_N = setup.run()\n",
    "\n",
    "    #setup.unset_model(dataset_asimov_N, FoVBackgroundModel)\n",
    "    #setup.set_piecewise_bkg_model(dataset_asimov_N)\n",
    "    # energy of the following parameters smaller than ethrshold\n",
    "    dataset_asimov_N.background_model.parameters['norm0'].frozen = True\n",
    "    dataset_asimov_N.background_model.parameters['norm1'].frozen = True\n",
    "    dataset_asimov_N.background_model.parameters['norm2'].frozen = True\n",
    "    dataset_asimov_N.background_model.parameters['norm3'].frozen = True\n",
    "    print(\"magnitude\", magnitude, \"corrlength\", corrlength)\n",
    "    setup.set_bkg_prior(dataset_asimov_N, magnitude= magnitude, corrlength= corrlength)\n",
    "    frozen_pos = 1\n",
    "    if frozen_pos:\n",
    "        dataset_asimov.models.parameters['lon_0'].frozen = True\n",
    "        dataset_asimov.models.parameters['lat_0'].frozen = True\n",
    "        dataset_asimov_N.models.parameters['lon_0'].frozen = True\n",
    "        dataset_asimov_N.models.parameters['lat_0'].frozen = True\n",
    "    else:\n",
    "        for d in [dataset_asimov, dataset_asimov_N]:\n",
    "            delta = 0.01 \n",
    "            dataset_asimov.models.parameters['lon_0'].min = dataset_asimov.models.parameters['lon_0'].value - delta\n",
    "            dataset_asimov.models.parameters['lon_0'].max = dataset_asimov.models.parameters['lon_0'].value + delta \n",
    "            dataset_asimov.models.parameters['lat_0'].min = dataset_asimov.models.parameters['lat_0'].value - delta\n",
    "            dataset_asimov.models.parameters['lat_0'].max = dataset_asimov.models.parameters['lat_0'].value + delta\n",
    "                \n",
    "         \n",
    "    \n",
    "    \n",
    "ax = setup.dataset_helper.background_model.spectral_model.plot(color= 'black')\n",
    "\n",
    "ax.set_yscale(\"linear\")\n",
    "setup.dataset_helper.background_model.spectral_model.parameters.value"
   ]
  },
  {
   "cell_type": "code",
   "execution_count": null,
   "id": "2ae1e18f",
   "metadata": {},
   "outputs": [],
   "source": [
    "dataset_asimov_N.background_model.evaluate(1*u.TeV)"
   ]
  },
  {
   "cell_type": "code",
   "execution_count": null,
   "id": "88150ffb",
   "metadata": {},
   "outputs": [],
   "source": [
    "setup.dataset_helper.background_model.evaluate(1*u.TeV)"
   ]
  },
  {
   "cell_type": "code",
   "execution_count": null,
   "id": "3c173915-31ab-470c-a570-6a5a4c5acf81",
   "metadata": {},
   "outputs": [],
   "source": [
    "setup.dataset_helper.counts.sum_over_axes().plot(add_cbar = 1)"
   ]
  },
  {
   "cell_type": "code",
   "execution_count": null,
   "id": "bddf8197",
   "metadata": {},
   "outputs": [],
   "source": [
    "setup.dataset_helper.npred().sum_over_axes().plot(add_cbar = 1)"
   ]
  },
  {
   "cell_type": "code",
   "execution_count": null,
   "id": "fd8f0ea6",
   "metadata": {},
   "outputs": [],
   "source": [
    "setup.dataset_helper.npred_background().sum_over_axes().plot(add_cbar = 1)"
   ]
  },
  {
   "cell_type": "code",
   "execution_count": null,
   "id": "00c0a406-962b-4bcc-b1f7-45c85f7bba52",
   "metadata": {},
   "outputs": [],
   "source": [
    "setup.dataset_helper.plot_residuals()"
   ]
  },
  {
   "cell_type": "code",
   "execution_count": null,
   "id": "5cf6ac95-f75c-4ce0-aa8c-bb26daad19f9",
   "metadata": {},
   "outputs": [],
   "source": [
    "dataset_asimov_N.counts.sum_over_axes().plot(add_cbar = 1)"
   ]
  },
  {
   "cell_type": "code",
   "execution_count": null,
   "id": "09c7c0cc",
   "metadata": {},
   "outputs": [],
   "source": [
    "dataset_asimov_N.npred().sum_over_axes().plot(add_cbar = 1)"
   ]
  },
  {
   "cell_type": "code",
   "execution_count": null,
   "id": "a93bfbd6",
   "metadata": {},
   "outputs": [],
   "source": [
    "dataset_asimov_N.npred_background().sum_over_axes().plot(add_cbar = 1)"
   ]
  },
  {
   "cell_type": "code",
   "execution_count": null,
   "id": "4147187a-3c31-465f-9b77-31f7b86cef5d",
   "metadata": {},
   "outputs": [],
   "source": [
    "dataset_asimov_N.plot_residuals()\n"
   ]
  },
  {
   "cell_type": "code",
   "execution_count": null,
   "id": "cca6c13c",
   "metadata": {},
   "outputs": [],
   "source": [
    "%%time\n",
    "fitting = 1\n",
    "if fitting:\n",
    "    fit_cor = Fit(store_trace=0)\n",
    "    minuit_opts = {\"tol\": 0.1, \"strategy\": 2}\n",
    "    fit_cor.backend = \"minuit\"\n",
    "    fit_cor.optimize_opts = minuit_opts\n",
    "    result_cor = fit_cor.run(dataset_asimov)\n",
    "    print(result_cor)\n",
    "    print(\"saving\")\n",
    "    path = f'../{folder}/data/0_model_livetime_{livetime}.yml'\n",
    "    dataset_asimov.models.write(path,overwrite=True)\n",
    "    \n",
    "    \n",
    "else:\n",
    "    path = f'../{folder}/data/0_model_livetime_{livetime}.yml'\n",
    "    dataset_asimov.models = Models.read(path)\n",
    "    print(path[:-4])\n",
    "    cov = dataset_asimov.models.read_covariance(path = path[:-4]+\"_covariance.dat\", filename = \"\",\n",
    "                                            format=\"ascii.fixed_width\")\n"
   ]
  },
  {
   "cell_type": "code",
   "execution_count": null,
   "id": "feda13b9-c450-4b6d-9e3d-2c304549eb27",
   "metadata": {},
   "outputs": [],
   "source": [
    "%%time\n",
    "fitting = 0\n",
    "if fitting:\n",
    "    fit_cor = Fit(store_trace=0)\n",
    "    result_cor = fit_cor.run(dataset_asimov_N)\n",
    "    print(result_cor)\n",
    "    print(\"saving\")\n",
    "    path = f'../{folder}/data/0_model_nui_livetime_{livetime}.yml'\n",
    "    dataset_asimov_N.models.write(path,overwrite=True)\n",
    "    \n",
    "    \n",
    "else:\n",
    "    path = f'../{folder}/data/0_model_nui_livetime_{livetime}.yml'\n",
    "    dataset_asimov_N.models = Models.read(path)\n",
    "    dataset_asimov_N.background_model.parameters['_norm'].value = 1."
   ]
  },
  {
   "cell_type": "code",
   "execution_count": null,
   "id": "56928011",
   "metadata": {},
   "outputs": [],
   "source": [
    "print(dataset_asimov_N.background_model)"
   ]
  },
  {
   "cell_type": "code",
   "execution_count": null,
   "id": "84b3b2e1",
   "metadata": {},
   "outputs": [],
   "source": [
    "from scipy.linalg import inv\n",
    "cov = inv(dataset_asimov_N.background_model.parameters.prior[1].covariance_matrix)\n",
    "cov[-1]"
   ]
  },
  {
   "cell_type": "code",
   "execution_count": null,
   "id": "1812bee3",
   "metadata": {},
   "outputs": [],
   "source": [
    "ax = dataset_asimov_N.background_model.spectral_model.plot(color= 'tab:orange')\n",
    "ax = dataset_asimov_N.background_model.spectral_model.plot_error(facecolor= 'tab:orange')\n",
    "\n",
    "ax = dataset_asimov.background_model.spectral_model.plot(color= 'tab:blue')\n",
    "ax = dataset_asimov.background_model.spectral_model.plot_error(facecolor= 'tab:blue')\n",
    "\n",
    "ax = setup.dataset_helper.background_model.spectral_model.plot(color= 'black')\n",
    "\n",
    "ax.set_yscale(\"linear\")\n",
    "ax.set_xlim(0.4, 100)"
   ]
  },
  {
   "cell_type": "code",
   "execution_count": null,
   "id": "a30c1a82",
   "metadata": {},
   "outputs": [],
   "source": [
    "from Dataset_Setup import GaussianCovariance_matrix\n",
    "cov = GaussianCovariance_matrix(size = len(setup.emask()),\n",
    "                                        magnitude = magnitude, \n",
    "                                        corrlength = corrlength)\n",
    "plt.imshow(cov.cov())\n",
    "print(cov.cov()[-1])"
   ]
  },
  {
   "cell_type": "code",
   "execution_count": null,
   "id": "d2a744c6-cceb-41e9-baea-b3b0a59a691e",
   "metadata": {},
   "outputs": [],
   "source": [
    "fig, ax = plt.subplots(1,1, figsize = (4,3))\n",
    "method = 'diff'\n",
    "ax = dataset_asimov.plot_residuals_spectral(color = 'tab:orange', method = method)\n",
    "dataset_asimov_N.plot_residuals_spectral(ax = ax, color = 'tab:blue', method = method)\n",
    "ax.set_ylim(-70,70)"
   ]
  },
  {
   "cell_type": "code",
   "execution_count": null,
   "id": "20b0e498",
   "metadata": {},
   "outputs": [],
   "source": [
    "\n",
    "ax = dataset_input.models[0].spectral_model.plot(color = 'black', label = 'Input')\n",
    "dataset_asimov_N.models[0].spectral_model.plot(color = 'tab:blue', linestyle = 'dashed',\n",
    "                                                 label = \"With nui.\")\n",
    "dataset_asimov_N.models[0].spectral_model.plot_error(ax = ax, facecolor = 'tab:blue')\n",
    "\n",
    "dataset_asimov.models[0].spectral_model.plot(color = 'tab:orange', linestyle = 'dotted',\n",
    "                                                 label = \"Without nui.\")\n",
    "dataset_asimov.models[0].spectral_model.plot_error(ax = ax, facecolor = 'tab:orange')\n",
    "\n",
    "\n",
    "\n",
    "ax.legend()"
   ]
  },
  {
   "cell_type": "code",
   "execution_count": null,
   "id": "cb4b6f71",
   "metadata": {},
   "outputs": [],
   "source": [
    "print(setup.dataset_helper.models[0])"
   ]
  },
  {
   "cell_type": "code",
   "execution_count": null,
   "id": "8579ed7e",
   "metadata": {},
   "outputs": [],
   "source": [
    "print(dataset_asimov_N.models[0])"
   ]
  },
  {
   "cell_type": "code",
   "execution_count": null,
   "id": "7a45bced",
   "metadata": {},
   "outputs": [],
   "source": [
    "print(dataset_asimov.models[0])"
   ]
  },
  {
   "cell_type": "code",
   "execution_count": null,
   "id": "abf9bea5",
   "metadata": {},
   "outputs": [],
   "source": [
    "\n",
    "\n",
    "ax = dataset_asimov_N.background_model.spectral_model.plot()\n",
    "setup.dataset_helper.background_model.spectral_model.plot()\n",
    "ax.set_yscale(\"linear\")\n",
    "print(dataset_asimov_N.background_model.spectral_model.parameters.value)"
   ]
  },
  {
   "cell_type": "code",
   "execution_count": null,
   "id": "4b982329",
   "metadata": {},
   "outputs": [],
   "source": [
    "setup.dataset_helper.background_model"
   ]
  },
  {
   "cell_type": "code",
   "execution_count": null,
   "id": "f023a6a8",
   "metadata": {},
   "outputs": [],
   "source": [
    "import colors as l\n",
    "aw = l.purple\n",
    "awo =l.orange\n",
    "\n",
    "labelw = \"Fit with background systematic\"\n",
    "labelwo = \"Fit without background systematic\""
   ]
  },
  {
   "cell_type": "code",
   "execution_count": null,
   "id": "cd877aee",
   "metadata": {},
   "outputs": [],
   "source": [
    "\n",
    "def plot_bkg(ax):\n",
    "    dataset_asimov.models[1].spectral_model.plot((0.4, 100 ) *u.TeV, color = awo, label = labelwo, ax = ax)\n",
    "    dataset_asimov.models[1].spectral_model.plot_error((0.4, 100 ) *u.TeV,ax = ax,\n",
    "                                                      facecolor = awo)\n",
    "    dataset_asimov_N.models[1].spectral_model.plot((0.4, 100 ) *u.TeV,ax = ax, color = aw, label = labelw)\n",
    "    dataset_asimov_N.models[1].spectral_model.plot_error((0.4, 100 ) *u.TeV,ax = ax,\n",
    "                                                        facecolor = aw,)\n",
    "    setup.dataset_helper.models[1].spectral_model.plot((0.4, 100 ) *u.TeV,ax = ax, linestyle = 'dashed',\n",
    "                                                      color = 'black', label = \"Input\")\n",
    "\n",
    "    ax.legend(loc = 'lower left')\n",
    "    ax.legend(loc = 'upper center')\n",
    "    \n",
    "    ax.set_yscale(\"linear\")\n",
    "    ax.set_xlabel(\"Reconstructed Energy [TeV]\")\n",
    "    ax.set_ylabel(\"Background Normalisation\")\n",
    "    \n",
    "    return ax\n",
    "\n",
    "fig, ax = plt.subplots(1,1)\n",
    "plot_bkg(ax)"
   ]
  },
  {
   "cell_type": "code",
   "execution_count": null,
   "id": "a7516c6f",
   "metadata": {},
   "outputs": [],
   "source": [
    "\n",
    "def plot_spec(ax):\n",
    "\n",
    "    ep = 2\n",
    "    dataset_asimov.models[0].spectral_model.plot((0.1, 100 ) *u.TeV, energy_power = ep, color = awo,  label = labelwo,ax = ax,)\n",
    "    dataset_asimov.models[0].spectral_model.plot_error((0.1, 100 ) *u.TeV,ax = ax,\n",
    "                                                      facecolor = awo, energy_power = ep)\n",
    "    dataset_asimov_N.models[0].spectral_model.plot((0.1, 100 ) *u.TeV,ax = ax, energy_power = ep, color = aw,  label = labelw)\n",
    "    dataset_asimov_N.models[0].spectral_model.plot_error((0.1, 100 ) *u.TeV,ax = ax,\n",
    "                                                        facecolor = aw,\n",
    "                                                        energy_power = ep)\n",
    "    setup.dataset_helper.models[0].spectral_model.plot((0.1, 100 ) *u.TeV,ax = ax, energy_power = ep, color = 'black', linestyle = 'dashed',\n",
    "                                                      label = \"Input\")\n",
    "    \n",
    "    ax.legend(loc = 'lower left')\n",
    "    ax.legend(loc = 'upper center')\n",
    "    \n",
    "    ax.set_xlabel(\"True Energy [TeV]\")\n",
    "    \n",
    "    \n",
    "fig, ax = plt.subplots(1,1)\n",
    "plot_spec(ax)"
   ]
  },
  {
   "cell_type": "code",
   "execution_count": null,
   "id": "381ff0ba",
   "metadata": {},
   "outputs": [],
   "source": [
    "def plot_res(ax):\n",
    "\n",
    "    dataset_asimov.plot_residuals_spectral(method = 'diff/sqrt(model)', color = awo,ax = ax, capsize = 4, label = labelwo)\n",
    "    dataset_asimov_N.plot_residuals_spectral(method = 'diff/sqrt(model)', color = aw, ax = ax, capsize = 4, label = labelw)\n",
    "\n",
    "    ax.set_xlabel(\"Reconstructed Energy [TeV]\")\n",
    "    ax.legend()\n",
    "    ax.legend(loc = 'upper center')\n",
    "    ax.set_ylim(-6,6)\n",
    "    \n",
    "fig, ax = plt.subplots(1,1)\n",
    "plot_res(ax)\n",
    "\n"
   ]
  },
  {
   "cell_type": "code",
   "execution_count": null,
   "id": "1d1cf138",
   "metadata": {},
   "outputs": [],
   "source": [
    "fig, ax = plt.subplots(3,1, figsize = (5,10), sharex = True)\n",
    "\n",
    "\n",
    "plot_bkg(ax[0])\n",
    "plot_spec(ax[1])\n",
    "plot_res(ax[-1])\n",
    "\n",
    "for a in ax:\n",
    "    a.set_xlim(0.42, 100)\n",
    "    a.legend(loc = 'lower center')\n",
    "ax[0].set_ylim(0.9, 1.15)\n",
    "ax[2].set_ylim(-6., 6)\n",
    "    \n",
    "fig.savefig(f'../{folder}/plots/bkg_{livetime}.pdf', bbox_inches = 'tight')\n"
   ]
  },
  {
   "cell_type": "code",
   "execution_count": null,
   "id": "0884a831",
   "metadata": {},
   "outputs": [],
   "source": [
    "label = [ 'input', 'dataset_asimov', 'dataset_asimov_N']\n",
    "for i, d in enumerate([ setup.dataset_helper, dataset_asimov, dataset_asimov_N]):\n",
    "    print(label[i])\n",
    "\n",
    "    for p in ['amplitude','index', 'lambda_','sigma']:\n",
    "        par =d.models.parameters[p]\n",
    "        factor = 1 \n",
    "        if p == 'amplitude':\n",
    "            factor = 1e12\n",
    "        print(f\" {p}: ${par.value*factor :.3}  \\pm {par.error*factor :.3} $\")\n",
    "    print()"
   ]
  },
  {
   "cell_type": "code",
   "execution_count": null,
   "id": "d7b021a0",
   "metadata": {},
   "outputs": [],
   "source": [
    "models_no  = [dataset_asimov.models]\n",
    "models  = [dataset_asimov_N.models]"
   ]
  },
  {
   "cell_type": "code",
   "execution_count": null,
   "id": "fd236838",
   "metadata": {},
   "outputs": [],
   "source": [
    "headline = \"\\\\textbf{Extended Source} &   $\\Phi_0\\ [10^{-12}\\, \\\\text{cm}^{-2}\\, \\\\text{s}^{-1}\\,\\\\text{TeV}^{-1}]$  & $\\Gamma$ & $\\lambda = 1/E_c\\ [\\\\text{TeV}^{-1}]$ & $\\sigma\\, [\\\\text{deg}]$   \\\\\\  \\hline \"\n",
    "input_ = '  Simulation input & $3.85 $  & $2.30 $  & $0.10 $ & 0.3  \\\\\\  \\hline'\n",
    "\n",
    "par = models_no[0].parameters['amplitude']\n",
    "without = rf' Without systematic & \\errorsym {{{par.value*1e12:.3}}} {{{par.error*1e12:.3}}} '\n",
    "par = models_no[0].parameters['index']\n",
    "without += rf' & \\errorsym {{{par.value:.3}}} {{{par.error:.3}}}   '\n",
    "par = models_no[0].parameters['lambda_']\n",
    "without += rf' & \\errorsym  {{{par.value:.3}}} {{{par.error:.3}}}   '\n",
    "par = models_no[0].parameters['sigma']\n",
    "without += rf' & \\errorsym  {{{par.value:.3}}} {{{par.error:.3}}}    \\\\  \\hline'\n",
    "\n",
    "\n",
    "par = models[0].parameters['amplitude']\n",
    "with_ = rf' Fitting bkg. sys.   & \\errorsym {{{par.value*1e12:.3}}} {{{par.error*1e12:.3}}}  '\n",
    "par = models[0].parameters['index']\n",
    "with_ += rf' & \\errorsym  {{{par.value:.3}}} {{{par.error:.3}}}   '\n",
    "par = models[0].parameters['lambda_']\n",
    "with_ += rf' & \\errorsym  {{{par.value:.3}}} {{{par.error:.3}}}'\n",
    "par = models[0].parameters['sigma']\n",
    "with_ += rf' & \\errorsym  {{{par.value:.3}}} {{{par.error:.3}}}   \\\\  \\hline'\n",
    "\n",
    "print(headline)\n",
    "print(input_)\n",
    "\n",
    "print(without)\n",
    "print(with_)"
   ]
  },
  {
   "cell_type": "markdown",
   "id": "68e188f3",
   "metadata": {},
   "source": [
    "## Significance"
   ]
  },
  {
   "cell_type": "code",
   "execution_count": null,
   "id": "675a3072",
   "metadata": {},
   "outputs": [],
   "source": [
    "retr"
   ]
  },
  {
   "cell_type": "code",
   "execution_count": null,
   "id": "b08b5d60",
   "metadata": {},
   "outputs": [],
   "source": [
    "%%time\n",
    "dataset_asimov_ho = dataset_asimov.copy()\n",
    "models = Models(dataset_asimov.models.copy())\n",
    "\n",
    "models.parameters['amplitude'].value = 1e-24\n",
    "models[0].parameters.freeze_all()\n",
    "models.append(FoVBackgroundModel(dataset_name=dataset_asimov_ho.name))\n",
    "models.parameters['tilt'].frozen = False\n",
    "dataset_asimov_ho.models = models\n",
    "fitting = 0\n",
    "if fitting:\n",
    "    fit_cor = Fit(store_trace=0)\n",
    "    minuit_opts = {\"tol\": 0.1, \"strategy\": 2}\n",
    "    fit_cor.backend = \"minuit\"\n",
    "    fit_cor.optimize_opts = minuit_opts\n",
    "    result_cor = fit_cor.run(dataset_asimov_ho)\n",
    "    print(result_cor)\n",
    "    print(\"saving\")\n",
    "    path = f'../{folder}/data/0_model_livetime_{livetime}_Ho.yml'\n",
    "    dataset_asimov_ho.models.write(path,overwrite=True)\n",
    "    \n",
    "    \n",
    "else:\n",
    "    path = f'../{folder}/data/0_model_livetime_{livetime}_Ho.yml'\n",
    "    dataset_asimov_ho.models = Models.read(path)\n",
    "\n",
    "print()\n",
    "print(\"Delta Ts: \", dataset_asimov_ho.stat_sum()- dataset_asimov.stat_sum())\n"
   ]
  },
  {
   "cell_type": "code",
   "execution_count": null,
   "id": "8580a9e7",
   "metadata": {},
   "outputs": [],
   "source": [
    "%%time\n",
    "dataset_asimov_ho_N = dataset_asimov_N.copy()\n",
    "models = Models(dataset_asimov_N.models.copy())\n",
    "\n",
    "models.parameters['amplitude'].value = 1e-24\n",
    "models[0].parameters.freeze_all()\n",
    "dataset_asimov_ho_N.models = models\n",
    "setup.set_piecewise_bkg_model(dataset_asimov_ho_N)\n",
    "setup.set_bkg_prior(dataset_asimov_ho_N, magnitude= magnitude, corrlength= corrlength)\n",
    "dataset_asimov_ho_N.models.parameters['_norm'].value = 1.\n",
    "dataset_asimov_ho_N.models.parameters['norm0'].frozen = True\n",
    "dataset_asimov_ho_N.models.parameters['norm1'].frozen = True\n",
    "dataset_asimov_ho_N.models.parameters['norm2'].frozen = True\n",
    "dataset_asimov_ho_N.models.parameters['norm3'].frozen = True\n",
    "\n",
    "fitting = 0\n",
    "if fitting:\n",
    "    fit_cor = Fit(store_trace=0)\n",
    "    minuit_opts = {\"tol\": 0.1, \"strategy\": 2}\n",
    "    fit_cor.backend = \"minuit\"\n",
    "    fit_cor.optimize_opts = minuit_opts\n",
    "    result_cor = fit_cor.run(dataset_asimov_ho_N)\n",
    "    print(result_cor)\n",
    "    print(\"saving\")\n",
    "    path = f'../{folder}/data/0_model_livetime_{livetime}_Ho_N.yml'\n",
    "    dataset_asimov_ho_N.models.write(path,overwrite=True)\n",
    "    \n",
    "    \n",
    "else:\n",
    "    path = f'../{folder}/data/0_model_livetime_{livetime}_Ho_N.yml'\n",
    "    dataset_asimov_ho_N.models = Models.read(path)\n",
    "    dataset_asimov_ho_N.models.parameters['_norm'].value = 1.\n",
    "\n",
    "print()\n",
    "print(\"Delta Ts: \", dataset_asimov_ho_N.stat_sum()- dataset_asimov_N.stat_sum())\n"
   ]
  },
  {
   "cell_type": "markdown",
   "id": "16d84bfe",
   "metadata": {},
   "source": [
    "## Scan"
   ]
  },
  {
   "cell_type": "code",
   "execution_count": null,
   "id": "397f552d",
   "metadata": {},
   "outputs": [],
   "source": [
    "er"
   ]
  },
  {
   "cell_type": "code",
   "execution_count": null,
   "id": "44224258",
   "metadata": {},
   "outputs": [],
   "source": [
    "parameter_names_1  = ['amplitude', 'index', 'lambda_', 'sigma']"
   ]
  },
  {
   "cell_type": "code",
   "execution_count": null,
   "id": "02fafabf",
   "metadata": {},
   "outputs": [],
   "source": [
    "def computing_scan(dataset, note):\n",
    "        \n",
    "    fit_cor = Fit(store_trace=False)\n",
    "    result_cor = fit_cor.run(dataset)\n",
    "    print(dataset_asimov.models)\n",
    "    \n",
    "    results = []\n",
    "    for parname1 in parameter_names_1 :\n",
    "        if True: #parname1 == 'lambda_':\n",
    "            print(\"scanning\",  parname1)\n",
    "            dataset.models.parameters[parname1].scan_n_values=numpoints\n",
    "            result = fit_cor.stat_profile(dataset,\n",
    "                                 dataset.models.parameters[parname1],\n",
    "                                reoptimize = True\n",
    "                                )\n",
    "\n",
    "            contour_write = dict()\n",
    "            for k in result.keys():\n",
    "                print(k)\n",
    "                if k != \"fit_results\":\n",
    "                    contour_write[k] = [float(_) for _ in result[k]]#.tolist()\n",
    "            print(contour_write)\n",
    "            with open(f\"../{c['folder']}/data/4_scan_{note}_{parname1}_{numpoints}_{livetime}.yml\", \"w\") as outfile:\n",
    "                yaml.dump(contour_write, outfile, default_flow_style=False)\n",
    "\n",
    "            results.append(result)\n",
    "    return results\n",
    "        \n",
    "def read_in_scan(note):\n",
    "    results = []\n",
    "    for parname1 in parameter_names_1 :\n",
    "        try:\n",
    "            with open(f\"../{c['folder']}/data/4_scan_{note}_{parname1}_{numpoints}_{livetime}.yml\", \"r\") as stream:\n",
    "                contour = yaml.safe_load(stream)\n",
    "        except:\n",
    "            with open(f\"../{c['folder']}/data/4_scan_{note}_{parname1}_{livetime}.yml\", \"r\") as stream:\n",
    "                contour = yaml.safe_load(stream)\n",
    "        results.append(contour)\n",
    "    return results\n"
   ]
  },
  {
   "cell_type": "code",
   "execution_count": null,
   "id": "2bb8483c",
   "metadata": {},
   "outputs": [],
   "source": [
    "%%time\n",
    "numpoints = 20\n",
    "computing = 1\n",
    "if computing:\n",
    "    results = computing_scan(dataset_asimov, \"2.15h\")\n",
    "else:\n",
    "    results = read_in_scan(\"2.15h\")\n",
    "    path = f'../{folder}/data/0_model_livetime_{livetime}.yml'\n",
    "    dataset_asimov.models = Models.read(path)\n",
    "for i, r in enumerate(results):\n",
    "    print(r)\n",
    "    fig,ax = plt.subplots(1,1, figsize = (3,2))\n",
    "    plt.plot(r[list(r.keys())[0]], r['stat_scan'] - np.min(r['stat_scan']))\n",
    "\n",
    "    if i == 0 :\n",
    "        ax.set_xscale('log')\n",
    "    ax.errorbar(x = dataset_asimov.models.parameters[parameter_names_1[i]].value,\n",
    "               y = 1,\n",
    "               xerr = dataset_asimov.models.parameters[parameter_names_1[i]].error,\n",
    "               fmt = 'x')"
   ]
  },
  {
   "cell_type": "code",
   "execution_count": null,
   "id": "ef206d34",
   "metadata": {},
   "outputs": [],
   "source": [
    "%%time\n",
    "computing = 0\n",
    "numpoints = 20\n",
    "\n",
    "if computing:\n",
    "    dataset_asimov_N.models.parameters['lon_0'].frozen = True\n",
    "    dataset_asimov_N.models.parameters['lat_0'].frozen = True\n",
    "    \n",
    "    results_N = computing_scan(dataset_asimov_N, \"N_2.15h\")\n",
    "else:\n",
    "    results_N = read_in_scan(\"N_2.15h\")\n",
    "    try:\n",
    "        path = f'../{folder}/data/0_model_nui_livetime_{livetime}.yml'\n",
    "        dataset_asimov_N = Dataset_load.load_dataset_N(dataset_asimov_N, path,bkg_sys = False)        \n",
    "    except:\n",
    "        path = f'../{folder}/data/0_model_nui_livetime_{livetime}_1000.yml'\n",
    "        dataset_asimov_N = Dataset_load.load_dataset_N(dataset_asimov_N, path,bkg_sys = False)        \n",
    "        \n",
    "print(results_N)"
   ]
  },
  {
   "cell_type": "code",
   "execution_count": null,
   "id": "ee1d0d75",
   "metadata": {},
   "outputs": [],
   "source": [
    "results_N  = results"
   ]
  },
  {
   "cell_type": "code",
   "execution_count": null,
   "id": "93b0aa3b",
   "metadata": {},
   "outputs": [],
   "source": []
  },
  {
   "cell_type": "code",
   "execution_count": null,
   "id": "7b8ef2e3",
   "metadata": {},
   "outputs": [],
   "source": [
    "import upper_limit_18_02\n",
    "import colors as s\n",
    "colors_ = [s.blue, s.orange,\n",
    "          s.lblue, s.lorange]\n",
    "\n",
    "#colors_ = [awo[0] , aw[0],\n",
    "#           awo[1] , aw[1]]\n",
    "\n",
    "for i, p in enumerate(parameter_names_1):\n",
    "    #if p == 'index':\n",
    "    if True:\n",
    "        stat_profile_N = results_N[i]\n",
    "        stat_profile = results[i]\n",
    "\n",
    "        stat_profile_N['stat_scan'] -= np.min(stat_profile_N['stat_scan'])\n",
    "        stat_profile['stat_scan'] -= np.min(stat_profile['stat_scan'])\n",
    "\n",
    "        fig = plt.figure()\n",
    "        ll_N_a = stat_profile_N.copy()\n",
    "        case = 'spectral'\n",
    "        if p == 'sigma':\n",
    "            case = 'spatial'\n",
    "            \n",
    "        amplitude_err = dataset_asimov.models[0].parameters[p].error\n",
    "        amplitude = dataset_asimov.models[0].parameters[p].value\n",
    "        amplitude_err_N = dataset_asimov_N.models[0].parameters[p].error\n",
    "        amplitude_N = dataset_asimov_N.models[0].parameters[p].value\n",
    "\n",
    "        fig, ax = plt.subplots(1,1)\n",
    "            \n",
    "        ### LIKELIHOOD\n",
    "        # scan\n",
    "        ll_a = stat_profile.copy()\n",
    "        ul_a = upper_limit_18_02.upper_limit(ll_a,0,0,  name=f'{dataset_asimov.models[0].name}.{case}.{p}_scan')\n",
    "        L_a, x_a = ul_a.interpolate()\n",
    "        plt.plot(x_a, L_a(x_a),label = \"-2log (L)\", linestyle = 'dashed', color = colors_[0])\n",
    "    \n",
    "        ylim= ax.get_ylim()\n",
    "        ymax = 2#ylim[1]\n",
    "        min_, er_neg, er_pos = ul_a.likelihood_error_asymmetric()\n",
    "        min_ = min_[0]; er_neg = er_neg[0]; er_pos = er_pos[0]; \n",
    "        dataset_asimov.models.parameters[p].error_n = er_neg\n",
    "        dataset_asimov.models.parameters[p].error_p = er_pos\n",
    "        \n",
    "        factor = 1\n",
    "        if p == 'amplitude':\n",
    "            factor = 1e11\n",
    "\n",
    "        ax.fill_between(  [min_-er_neg, min_+ er_pos], ylim[0], ymax, alpha = 0.5, color=colors_[2],\n",
    "                        label = f'1$\\sigma$ error (Scan): -{er_neg*factor:.2} +{er_pos*factor:.2} ')\n",
    "     \n",
    "        \n",
    "        ax.vlines(amplitude-amplitude_err, ylim[0], ymax, color = colors_[0], linestyle ='dotted')\n",
    "        ax.vlines(amplitude+amplitude_err, ylim[0], ymax, color = colors_[0], linestyle ='dotted',\n",
    "                 label =  f'1$\\sigma$ error (Minuit): {amplitude_err*factor:.2}')\n",
    "\n",
    "           \n",
    "        ### POSTERIOR\n",
    "        # scan\n",
    "        ul_N_a = upper_limit_18_02.upper_limit(ll_N_a,0,0, \n",
    "                                               name=f'{dataset_asimov.models[0].name}.{case}.{p}_scan')\n",
    "        L_N_a, x_N_a = ul_N_a.interpolate()\n",
    "        plt.plot(x_N_a, L_N_a(x_N_a),label = \"-2log (P)\", color = colors_[1])\n",
    "        \n",
    "        \n",
    "        min_N, er_negN, er_posN = ul_N_a.likelihood_error_asymmetric()\n",
    "        min_N = min_N[0]; er_negN = er_negN[0]; er_posN = er_posN[0]; \n",
    "        dataset_asimov_N.models.parameters[p].error_n = er_negN\n",
    "        dataset_asimov_N.models.parameters[p].error_p = er_posN\n",
    "\n",
    "\n",
    "        ax.fill_between(  [min_N-er_negN, min_N+ er_posN], ylim[0], ymax, alpha = 0.5, color = colors_[3],\n",
    "                        label = f'1$\\sigma$ error (Scan): -{er_negN*factor:.5} +{er_posN*factor:.5} ')\n",
    "        ax.vlines(amplitude_N-amplitude_err_N, ylim[0], ymax,color = colors_[1] ,\n",
    "                  linestyles='dotted'\n",
    "                 )\n",
    "        ax.vlines(amplitude_N+amplitude_err_N, ylim[0], ymax,color = colors_[1],\n",
    "                  linestyles='dotted',\n",
    "                    label = f'1$\\sigma$ error (Minuit): $\\pm${amplitude_err_N*factor:.5}')\n",
    "                 \n",
    "        nn = 2\n",
    "        #ax.set_xlim(amplitude_N-amplitude_err_N*nn, \n",
    "        #           amplitude_N+amplitude_err_N*nn)\n",
    "        ax.set_ylim(np.min(stat_profile['stat_scan'])-0.5,\n",
    "                    np.min(stat_profile['stat_scan'])+ 3)\n",
    "\n",
    "        \n",
    "        \n",
    "       \n",
    "    \n",
    "    \n",
    "        xx = ax.get_xlim()\n",
    "        alpha = 0.6\n",
    "        ax.hlines(0, xx[0], xx[1], color = 'grey', alpha = alpha)\n",
    "        ax.hlines(1, xx[0], xx[1], color = 'grey', alpha = alpha)\n",
    "        if p == 'amplitude':\n",
    "            str_= \"[$\\\\mathrm{TeV^{-1}\\\\,s^{-1}\\\\,cm^{-2}}$]\"\n",
    "            plt.xlabel(f\"Source strength \" + str_) \n",
    "        else:\n",
    "            plt.xlabel(p)\n",
    "        plt.ylabel(\"-2log (L) [arb. unit]\")\n",
    "        plt.legend(ncol = 2)\n",
    "\n",
    "    fig.savefig(f\"../{c['folder']}/plots/4_scan_{p}.pdf\")\n",
    "    \n",
    "    "
   ]
  },
  {
   "cell_type": "code",
   "execution_count": null,
   "id": "3549f69d",
   "metadata": {},
   "outputs": [],
   "source": [
    "headline = \"\\\\textbf{Extended Source} & &  $\\Phi_0\\ [10^{-11}\\, \\\\text{cm}^{-2}\\, \\\\text{s}^{-1}\\,\\\\text{TeV}^{-1}]$  & $\\Gamma$ & $\\lambda = 1/E_c\\ [\\\\text{TeV}^{-1}]$ & $\\sigma\\, [\\text{deg}]$ &  \\\\\\  \\hline \"\n",
    "input_ = ' & Simulation input & $3.85 $  & $2.30 $  & $0.10 $ & 0.3  \\\\\\  \\hline'\n",
    "\n",
    "par = models_no[0].parameters['amplitude']\n",
    "without = rf' &Without systematic & \\error {{{par.value*1e11:.3}}} {{{par.error*1e11:.3}}}  {{{par.error_p*1e11:.3}}}  {{{par.error_n*1e11:.3}}} '\n",
    "par = models_no[0].parameters['index']\n",
    "without += rf' & \\error {{{par.value:.3}}} {{{par.error:.3}}}  {{{par.error_p:.3}}}  {{{par.error_n:.3}}} '\n",
    "par = models_no[0].parameters['lambda_']\n",
    "without += rf' & \\error  {{{par.value:.3}}} {{{par.error:.3}}}  {{{par.error_p:.3}}}  {{{par.error_n:.3}}}  \\\\  \\hline'\n",
    "par = models_no[0].parameters['sigma']\n",
    "without += rf' & \\error  {{{par.value:.3}}} {{{par.error:.3}}}  {{{par.error_p:.3}}}  {{{par.error_n:.3}}}  \\\\  \\hline'\n",
    "\n",
    "\n",
    "par = models[0].parameters['amplitude']\n",
    "eff = rf' Effective Area & With fitting  & \\error {{{par.value*1e11:.3}}} {{{par.error*1e11:.3}}}  {{{par.error_p*1e11:.3}}}  {{{par.error_n*1e11:.3}}} '\n",
    "par = models[0].parameters['index']\n",
    "eff += rf' & \\error  {{{par.value:.3}}} {{{par.error:.3}}}  {{{par.error_p:.3}}}  {{{par.error_n:.3}}} '\n",
    "par = models[0].parameters['lambda_']\n",
    "eff += rf' & \\error  {{{par.value:.3}}} {{{par.error:.3}}}  {{{par.error_p:.3}}}  {{{par.error_n:.3}}}  \\\\  \\hline'\n",
    "par = models[0].parameters['sigma']\n",
    "eff += rf' & \\error  {{{par.value:.3}}} {{{par.error:.3}}}  {{{par.error_p:.3}}}  {{{par.error_n:.3}}}  \\\\  \\hline'\n",
    "\n",
    "\n"
   ]
  },
  {
   "cell_type": "code",
   "execution_count": null,
   "id": "68474225",
   "metadata": {},
   "outputs": [],
   "source": []
  },
  {
   "cell_type": "code",
   "execution_count": null,
   "id": "5e951857",
   "metadata": {},
   "outputs": [],
   "source": []
  },
  {
   "cell_type": "code",
   "execution_count": null,
   "id": "58d4e6b9-9167-41dc-9ba5-3f76a9980662",
   "metadata": {},
   "outputs": [],
   "source": []
  }
 ],
 "metadata": {
  "kernelspec": {
   "display_name": "Python 3 (ipykernel)",
   "language": "python",
   "name": "python3"
  },
  "language_info": {
   "codemirror_mode": {
    "name": "ipython",
    "version": 3
   },
   "file_extension": ".py",
   "mimetype": "text/x-python",
   "name": "python",
   "nbconvert_exporter": "python",
   "pygments_lexer": "ipython3",
   "version": "3.8.16"
  },
  "varInspector": {
   "cols": {
    "lenName": 16,
    "lenType": 16,
    "lenVar": 40
   },
   "kernels_config": {
    "python": {
     "delete_cmd_postfix": "",
     "delete_cmd_prefix": "del ",
     "library": "var_list.py",
     "varRefreshCmd": "print(var_dic_list())"
    },
    "r": {
     "delete_cmd_postfix": ") ",
     "delete_cmd_prefix": "rm(",
     "library": "var_list.r",
     "varRefreshCmd": "cat(var_dic_list()) "
    }
   },
   "types_to_exclude": [
    "module",
    "function",
    "builtin_function_or_method",
    "instance",
    "_Feature"
   ],
   "window_display": false
  }
 },
 "nbformat": 4,
 "nbformat_minor": 5
}
