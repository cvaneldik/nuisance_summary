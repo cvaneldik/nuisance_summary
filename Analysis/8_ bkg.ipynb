{
 "cells": [
  {
   "cell_type": "markdown",
   "id": "e7853a11",
   "metadata": {},
   "source": [
    "## Runnning with gammapy-dev/IRF_model\n",
    "Fitting asimov datasets with nuisance parameters based on the different livetimes"
   ]
  },
  {
   "cell_type": "markdown",
   "id": "0e04af29",
   "metadata": {},
   "source": [
    "### Setup"
   ]
  },
  {
   "cell_type": "code",
   "execution_count": 1,
   "id": "27bf135a-5ee4-4ca1-8549-6bf07929003c",
   "metadata": {},
   "outputs": [],
   "source": [
    "import matplotlib.pyplot as plt\n",
    "import numpy as np\n",
    "import astropy.units as u\n",
    "from gammapy.maps import Map\n",
    "from astropy.coordinates import SkyCoord, Angle\n",
    "from gammapy.modeling import Fit,  Parameters, Covariance , Parameter\n",
    "from gammapy.datasets import MapDataset ,Datasets, FluxPointsDataset\n",
    "from gammapy.modeling.models import (\n",
    "    PowerLawSpectralModel,\n",
    "    SkyModel,\n",
    "    PointSpatialModel,\n",
    "    PowerLawNormSpectralModel,\n",
    "    Models,\n",
    "    SpatialModel,\n",
    "    FoVBackgroundModel,\n",
    "    PiecewiseNormSpectralModel,\n",
    ")\n",
    "from gammapy.estimators import TSMapEstimator, ExcessMapEstimator\n",
    "from gammapy.estimators import FluxPoints, FluxPointsEstimator\n",
    "from scipy.interpolate import interp2d\n",
    "\n",
    "from regions import CircleSkyRegion, RectangleSkyRegion\n",
    "import yaml\n",
    "import sys\n",
    "sys.path.append('../')\n",
    "import Dataset_load \n",
    "\n",
    "from  Dataset_Setup import Setup, GaussianCovariance_matrix\n",
    "\n",
    "from matplotlib import rc\n",
    "rc(\"font\", **{\"family\": \"serif\", \"serif\": [\"Computer Modern\"]})\n",
    "rc(\"text\", usetex=True)"
   ]
  },
  {
   "cell_type": "markdown",
   "id": "5de988df",
   "metadata": {
    "tags": []
   },
   "source": [
    "## Read dataset"
   ]
  },
  {
   "cell_type": "code",
   "execution_count": 2,
   "id": "0eeeaf75",
   "metadata": {},
   "outputs": [
    {
     "data": {
      "text/plain": [
       "{'bias': 0.0,\n",
       " 'case': 'local',\n",
       " 'colors': [['tab:blue', 'lightblue'],\n",
       "  ['tab:orange', 'lightorange'],\n",
       "  ['tab:red', 'red'],\n",
       "  ['tab:green', 'lightgreen']],\n",
       " 'corrlength': 2,\n",
       " 'figformat': 'pdf',\n",
       " 'livetime': 2.154434690031884,\n",
       " 'livetimes': [0.01,\n",
       "  0.021544346900318832,\n",
       "  0.046415888336127774,\n",
       "  0.1,\n",
       "  0.21544346900318834,\n",
       "  0.46415888336127775,\n",
       "  1.0,\n",
       "  2.154434690031884,\n",
       "  4.641588833612778,\n",
       "  10.0,\n",
       "  21.544346900318832,\n",
       "  46.41588833612777,\n",
       "  100.0],\n",
       " 'local': {'path': '/home/katrin/Documents',\n",
       "  'path_pksflare': '/home/katrin/Documents/nuisance_summary/PKS_flare'},\n",
       " 'magnitude': 10,\n",
       " 'model': 'crab_cutoff',\n",
       " 'norm': 0.0,\n",
       " 'parameter_names': [['amplitude', 'index'],\n",
       "  ['amplitude', 'lambda_'],\n",
       "  ['lambda_', 'index']],\n",
       " 'resolution': 0,\n",
       " 'source': 'PKSflare',\n",
       " 'sys': 'Bkgext',\n",
       " 'tilt': 0.0,\n",
       " 'wecap': {'path': '/home/vault/caph/mppi062h/repositories/HESS_3Dbkg_syserror/2-error_in_dataset',\n",
       "  'path_pksflare': '/home/wecapstor1/caph/mppi045h/nuisance_summary/PKS_flare'},\n",
       " 'woody': {'path': '/home/vault/caph/mppi062h/repositories/HESS_3Dbkg_syserror/2-error_in_dataset',\n",
       "  'path_pksflare': '/home/hpc/caph/mppi045h/3D_analysis/N_parameters_in_L/nuisance_summary/Crab'},\n",
       " 'zero': 1e-12,\n",
       " '_colors': [[('t', 'a', 'b', ':', 'b', 'l', 'u', 'e'),\n",
       "   ('l', 'i', 'g', 'h', 't', 'b', 'l', 'u', 'e')],\n",
       "  [('t', 'a', 'b', ':', 'o', 'r', 'a', 'n', 'g', 'e'),\n",
       "   ('l', 'i', 'g', 'h', 't', 'o', 'r', 'a', 'n', 'g', 'e')],\n",
       "  [('t', 'a', 'b', ':', 'r', 'e', 'd'), ('r', 'e', 'd')],\n",
       "  [('t', 'a', 'b', ':', 'g', 'r', 'e', 'e', 'n'),\n",
       "   ('l', 'i', 'g', 'h', 't', 'g', 'r', 'e', 'e', 'n')]],\n",
       " 'folder': 'Bkgext_PKSflare_crab_cutoff'}"
      ]
     },
     "execution_count": 2,
     "metadata": {},
     "output_type": "execute_result"
    }
   ],
   "source": [
    "c = Dataset_load.load_config()\n",
    "awo, aw, ewo, ew = c['_colors']  \n",
    "c"
   ]
  },
  {
   "cell_type": "code",
   "execution_count": 3,
   "id": "e0c45f4e-6432-405e-86b7-649e254c0950",
   "metadata": {},
   "outputs": [
    {
     "name": "stdout",
     "output_type": "stream",
     "text": [
      "2.154434690031884\n",
      "Bkgext\n"
     ]
    }
   ],
   "source": [
    "livetime = c['livetime']\n",
    "zero = c['zero'] \n",
    "norm = c['norm'] \n",
    "tilt = c['tilt'] \n",
    "bias = c['bias'] \n",
    "resolution = c['resolution'] \n",
    "magnitude = c['magnitude'] \n",
    "corrlength = c['corrlength']\n",
    "sys = c['sys'] \n",
    "folder = c['folder']\n",
    "parameter_names = c['parameter_names']        \n",
    "nbidx = 0\n",
    "print(livetime)\n",
    "print(sys)"
   ]
  },
  {
   "cell_type": "code",
   "execution_count": 4,
   "id": "fd83cffe",
   "metadata": {},
   "outputs": [
    {
     "data": {
      "text/plain": [
       "'crab_cutoff'"
      ]
     },
     "execution_count": 4,
     "metadata": {},
     "output_type": "execute_result"
    }
   ],
   "source": [
    "c['model']"
   ]
  },
  {
   "cell_type": "code",
   "execution_count": null,
   "id": "d225762f",
   "metadata": {},
   "outputs": [],
   "source": []
  },
  {
   "cell_type": "code",
   "execution_count": 5,
   "id": "f94dc89c",
   "metadata": {},
   "outputs": [
    {
     "name": "stdout",
     "output_type": "stream",
     "text": [
      "loaded dataset:\n",
      "/home/katrin/Documents/nuisance_summary/PKS_flare/HESS_public/dataset-simulated-2.154434690031884-hr.fits.gz\n",
      "loaded dataset:\n",
      "/home/katrin/Documents/nuisance_summary/PKS_flare/HESS_public/dataset-simulated-2.154434690031884-hr.fits.gz\n",
      "CPU times: user 10.4 s, sys: 578 ms, total: 11 s\n",
      "Wall time: 11 s\n"
     ]
    }
   ],
   "source": [
    "%%time\n",
    "amplitude= Parameter('amplitude', value = 3.85e-12, unit=u.Unit(\"1 / (TeV s cm2)\"))\n",
    "dataset_input_point  = Dataset_load.create_asimov(model = c['model'], source = c['source'], \n",
    "                                               livetime = f\"{livetime}-hr\",\n",
    "                                        parameters = [amplitude],\n",
    "                                           spatial_model =None)\n",
    "from gammapy.modeling.models import GaussianSpatialModel\n",
    "gaussian = GaussianSpatialModel(lon_0 = dataset_input_point.models.parameters['lon_0'],\n",
    "                                lat_0 = dataset_input_point.models.parameters['lat_0'],\n",
    "                                sigma = 0.3 *u.deg\n",
    "                               )\n",
    "\n",
    "\n",
    "dataset_input  = Dataset_load.create_asimov(model = c['model'], source = c['source'], \n",
    "                                               livetime = f\"{livetime}-hr\",\n",
    "                                        parameters = [amplitude],\n",
    "                                           spatial_model =gaussian)\n"
   ]
  },
  {
   "cell_type": "code",
   "execution_count": 6,
   "id": "fb3522d9-9452-4583-a63d-bd99020e626d",
   "metadata": {},
   "outputs": [
    {
     "data": {
      "text/plain": [
       "<WCSAxes: >"
      ]
     },
     "execution_count": 6,
     "metadata": {},
     "output_type": "execute_result"
    },
    {
     "data": {
      "image/png": "[encoded data removed]",
      "text/plain": [
       "<Figure size 640x480 with 2 Axes>"
      ]
     },
     "metadata": {},
     "output_type": "display_data"
    }
   ],
   "source": [
    "dataset_input.npred().sum_over_axes().plot(add_cbar =1)"
   ]
  },
  {
   "cell_type": "code",
   "execution_count": 7,
   "id": "b24b18ac-af52-48ac-bd1e-f03d21457fe4",
   "metadata": {},
   "outputs": [],
   "source": [
    "    \n",
    "setup = Setup(dataset_input=dataset_input)\n",
    "#setup.set_up_irf_sys(bias, resolution, norm, tilt)\n",
    "dataset_asimov, dataset_asimov_N = setup.run()\n",
    "# irf model\n",
    "setup.set_irf_model(dataset_asimov_N)\n",
    "if \"Bkg\" in sys or \"BKG\" in sys:\n",
    "\n",
    "    # piece wise model\n",
    "    # remove old bkg model\n",
    "    setup.set_up_bkg_sys_V( breake = 10,\n",
    "                        index1 = 2,\n",
    "                        index2 = 1.5, \n",
    "                        magnitude = magnitude )\n",
    "\n",
    "    dataset_asimov, dataset_asimov_N = setup.run()\n",
    "\n",
    "    #setup.unset_model(dataset_asimov_N, FoVBackgroundModel)\n",
    "    #setup.set_piecewise_bkg_model(dataset_asimov_N)\n",
    "    # energy of the following parameters smaller than ethrshold\n",
    "    dataset_asimov_N.background_model.parameters['norm0'].frozen = True\n",
    "    dataset_asimov_N.background_model.parameters['norm1'].frozen = True\n",
    "    dataset_asimov_N.background_model.parameters['norm2'].frozen = True\n",
    "    dataset_asimov_N.background_model.parameters['norm3'].frozen = True\n",
    "    #setup.set_bkg_prior(dataset_asimov_N, magnitude, corrlength)"
   ]
  },
  {
   "cell_type": "code",
   "execution_count": 8,
   "id": "cca6c13c",
   "metadata": {},
   "outputs": [
    {
     "name": "stdout",
     "output_type": "stream",
     "text": [
      "../Bkgext_PKSflare_crab_cutoff/data/0_model_livetime_2.154434690031884\n",
      "CPU times: user 21.8 ms, sys: 942 µs, total: 22.7 ms\n",
      "Wall time: 21.3 ms\n"
     ]
    }
   ],
   "source": [
    "%%time\n",
    "fitting = 0\n",
    "if fitting:\n",
    "    fit_cor = Fit(store_trace=0)\n",
    "    minuit_opts = {\"tol\": 0.1, \"strategy\": 2}\n",
    "    fit_cor.backend = \"minuit\"\n",
    "    fit_cor.optimize_opts = minuit_opts\n",
    "    result_cor = fit_cor.run(dataset_asimov)\n",
    "    print(result_cor)\n",
    "    print(\"saving\")\n",
    "    path = f'../{folder}/data/0_model_livetime_{livetime}.yml'\n",
    "    dataset_asimov.models.write(path,overwrite=True)\n",
    "    \n",
    "    \n",
    "else:\n",
    "    path = f'../{folder}/data/0_model_livetime_{livetime}.yml'\n",
    "    dataset_asimov.models = Models.read(path)\n",
    "    print(path[:-4])\n",
    "    cov = dataset_asimov.models.read_covariance(path = path[:-4]+\"_covariance.dat\", filename = \"\",\n",
    "                                            format=\"ascii.fixed_width\")\n"
   ]
  },
  {
   "cell_type": "code",
   "execution_count": 9,
   "id": "ec536aed",
   "metadata": {},
   "outputs": [
    {
     "name": "stdout",
     "output_type": "stream",
     "text": [
      "MapDataset\n",
      "----------\n",
      "\n",
      "  Name                            : dataset_N \n",
      "\n",
      "  Total counts                    : 661 \n",
      "  Total background counts         : 8902.95\n",
      "  Total excess counts             : -8241.47\n",
      "\n",
      "  Predicted counts                : 87.31\n",
      "  Predicted background counts     : 0.00\n",
      "  Predicted excess counts         : 87.31\n",
      "\n",
      "  Exposure min                    : 3.39e-27 m2 s\n",
      "  Exposure max                    : 2.74e+09 m2 s\n",
      "\n",
      "  Number of total bins            : 6000000 \n",
      "  Number of fit bins              : 942469 \n",
      "\n",
      "  Fit statistic type              : cash\n",
      "  Fit statistic value (-2 log(L)) : 19561.90\n",
      "\n",
      "  Number of models                : 2 \n",
      "  Number of parameters            : 35\n",
      "  Number of free parameters       : 26\n",
      "\n",
      "  Component 0: SkyModel\n",
      "  \n",
      "    Name                      : Crablog\n",
      "    Datasets names            : None\n",
      "    Spectral model type       : ExpCutoffPowerLawSpectralModel\n",
      "    Spatial  model type       : GaussianSpatialModel\n",
      "    Temporal model type       : \n",
      "    Parameters:\n",
      "      index                      :      2.300  +/-    0.00             \n",
      "      amplitude                  :   3.85e-12  +/- 0.0e+00 1 / (TeV s cm2)\n",
      "      reference  (frozen)        :      1.000      TeV         \n",
      "      lambda_                    :      0.100  +/-    0.00 1 / TeV     \n",
      "      alpha      (frozen)        :      1.000                  \n",
      "      lon_0                      :    329.680  +/-    0.00 deg         \n",
      "      lat_0                      :    -30.222  +/-    0.00 deg         \n",
      "      sigma                      :      0.300  +/-    0.00 deg         \n",
      "      e          (frozen)        :      0.000                  \n",
      "      phi        (frozen)        :      0.000      deg         \n",
      "  \n",
      "  Component 1: FoVBackgroundModel\n",
      "  \n",
      "    Name                      : dataset_N-bkg\n",
      "    Datasets names            : ['dataset_N']\n",
      "    Spectral model type       : PiecewiseNormSpectralModel\n",
      "    Parameters:\n",
      "      _norm      (frozen)        :      0.000                  \n",
      "      norm0      (frozen)        :      0.000                  \n",
      "      norm1      (frozen)        :      0.000                  \n",
      "      norm2      (frozen)        :      0.000                  \n",
      "      norm3      (frozen)        :      0.000                  \n",
      "      norm4                      :      0.000  +/-    0.00             \n",
      "      norm5                      :      0.000  +/-    0.00             \n",
      "      norm6                      :      0.000  +/-    0.00             \n",
      "      norm7                      :      0.000  +/-    0.00             \n",
      "      norm8                      :      0.000  +/-    0.00             \n",
      "      norm9                      :      0.000  +/-    0.00             \n",
      "      norm10                     :      0.000  +/-    0.00             \n",
      "      norm11                     :      0.000  +/-    0.00             \n",
      "      norm12                     :      0.000  +/-    0.00             \n",
      "      norm13                     :      0.000  +/-    0.00             \n",
      "      norm14                     :      0.000  +/-    0.00             \n",
      "      norm15                     :      0.000  +/-    0.00             \n",
      "      norm16                     :      0.000  +/-    0.00             \n",
      "      norm17                     :      0.000  +/-    0.00             \n",
      "      norm18                     :      0.000  +/-    0.00             \n",
      "      norm19                     :      0.000  +/-    0.00             \n",
      "      norm20                     :      0.000  +/-    0.00             \n",
      "      norm21                     :      0.000  +/-    0.00             \n",
      "      norm22                     :      0.000  +/-    0.00             \n",
      "      norm23                     :      0.000  +/-    0.00             \n",
      "  \n",
      "  \n"
     ]
    }
   ],
   "source": [
    "print(dataset_asimov_N)"
   ]
  },
  {
   "cell_type": "code",
   "execution_count": 10,
   "id": "feda13b9-c450-4b6d-9e3d-2c304549eb27",
   "metadata": {
    "scrolled": false
   },
   "outputs": [
    {
     "name": "stdout",
     "output_type": "stream",
     "text": [
      "OptimizeResult\n",
      "\n",
      "\tbackend    : minuit\n",
      "\tmethod     : migrad\n",
      "\tsuccess    : False\n",
      "\tmessage    : Optimization failed. Call limit was reached.\n",
      "\tnfev       : 6201\n",
      "\ttotal stat : 17484.33\n",
      "\n",
      "CovarianceResult\n",
      "\n",
      "\tbackend    : minuit\n",
      "\tmethod     : hesse\n",
      "\tsuccess    : True\n",
      "\tmessage    : Hesse terminated successfully.\n",
      "\n",
      "saving\n",
      "CPU times: user 5min 42s, sys: 37.8 s, total: 6min 20s\n",
      "Wall time: 6min 20s\n"
     ]
    }
   ],
   "source": [
    "%%time\n",
    "fitting = 1\n",
    "if fitting:\n",
    "    fit_cor = Fit(store_trace=0)\n",
    "    result_cor = fit_cor.run(dataset_asimov_N)\n",
    "    print(result_cor)\n",
    "    print(\"saving\")\n",
    "    path = f'../{folder}/data/0_model_nui_livetime_{livetime}.yml'\n",
    "    dataset_asimov_N.models.write(path,overwrite=True)\n",
    "    \n",
    "    \n",
    "else:\n",
    "    path = f'../{folder}/data/0_model_nui_livetime_{livetime}.yml'\n",
    "    dataset_asimov_N.models = Models.read(path)\n"
   ]
  },
  {
   "cell_type": "code",
   "execution_count": 11,
   "id": "56928011",
   "metadata": {},
   "outputs": [
    {
     "name": "stdout",
     "output_type": "stream",
     "text": [
      "FoVBackgroundModel\n",
      "\n",
      "  Name                      : dataset_N-bkg\n",
      "  Datasets names            : ['dataset_N']\n",
      "  Spectral model type       : PiecewiseNormSpectralModel\n",
      "  Parameters:\n",
      "    _norm      (frozen)        :      0.000                  \n",
      "    norm0      (frozen)        :      0.000                  \n",
      "    norm1      (frozen)        :      0.000                  \n",
      "    norm2      (frozen)        :      0.000                  \n",
      "    norm3      (frozen)        :      0.000                  \n",
      "    norm4                      :      0.000  +/-    0.00             \n",
      "    norm5                      :      0.000  +/-    0.00             \n",
      "    norm6                      :      0.000  +/-    0.00             \n",
      "    norm7                      :      0.000  +/-    0.00             \n",
      "    norm8                      :      0.000  +/-    0.00             \n",
      "    norm9                      :      0.000  +/-    0.00             \n",
      "    norm10                     :      0.000  +/-    0.00             \n",
      "    norm11                     :      0.000  +/-    0.00             \n",
      "    norm12                     :      0.000  +/-    0.00             \n",
      "    norm13                     :      0.000  +/-    0.00             \n",
      "    norm14                     :     -0.000  +/-    0.00             \n",
      "    norm15                     :      0.000  +/-    0.00             \n",
      "    norm16                     :      0.000  +/-    0.00             \n",
      "    norm17                     :      0.000  +/-    0.00             \n",
      "    norm18                     :      0.000  +/-    0.00             \n",
      "    norm19                     :      0.000  +/-    0.00             \n",
      "    norm20                     :      0.000  +/-    0.00             \n",
      "    norm21                     :      0.000  +/-    0.00             \n",
      "    norm22                     :      0.000  +/-    0.00             \n",
      "    norm23                     :      0.000  +/-    0.00             \n",
      "\n",
      "\n"
     ]
    }
   ],
   "source": [
    "print(dataset_asimov_N.background_model)"
   ]
  },
  {
   "cell_type": "code",
   "execution_count": 12,
   "id": "1812bee3",
   "metadata": {},
   "outputs": [
    {
     "name": "stdout",
     "output_type": "stream",
     "text": [
      "[ 0.00000000e+00  0.00000000e+00  0.00000000e+00  0.00000000e+00\n",
      "  0.00000000e+00  5.45205923e-14  3.41473495e-09  5.47135914e-17\n",
      "  5.58246498e-20  5.97946923e-21  6.07942959e-21  3.41522327e-22\n",
      "  1.26229574e-20  1.47131025e-20  2.74392243e-20 -4.96174196e-09\n",
      "  1.91287133e-20  3.26587317e-20  4.06085013e-20  6.02149274e-20\n",
      "  2.00968219e-19  1.01134238e-19  1.81014256e-19  3.37743144e-19\n",
      "  4.76496480e-19]\n"
     ]
    },
    {
     "data": {
      "image/png": "[encoded data removed]",
      "text/plain": [
       "<Figure size 640x480 with 1 Axes>"
      ]
     },
     "metadata": {},
     "output_type": "display_data"
    }
   ],
   "source": [
    "ax = dataset_asimov_N.background_model.spectral_model.plot()\n",
    "ax.set_yscale(\"linear\")\n",
    "print(dataset_asimov_N.background_model.spectral_model.parameters.value)"
   ]
  },
  {
   "cell_type": "code",
   "execution_count": 13,
   "id": "a30c1a82",
   "metadata": {},
   "outputs": [
    {
     "name": "stdout",
     "output_type": "stream",
     "text": [
      "[0.00000000e+00 0.00000000e+00 0.00000000e+00 0.00000000e+00\n",
      " 1.00000000e-12 1.00000026e-12 1.00002047e-12 1.00126642e-12\n",
      " 1.06101937e-12 3.28973485e-12 6.79158609e-11 1.52399797e-09\n",
      " 2.69967850e-08 3.72666317e-07 4.00653074e-06 3.35462638e-05\n",
      " 2.18749113e-04 1.11089965e-03 4.39369336e-03 1.35335283e-02\n",
      " 3.24652467e-02 6.06530660e-02 8.82496903e-02 1.00000000e-01]\n"
     ]
    },
    {
     "data": {
      "image/png": "[encoded data removed]",
      "text/plain": [
       "<Figure size 640x480 with 1 Axes>"
      ]
     },
     "metadata": {},
     "output_type": "display_data"
    }
   ],
   "source": [
    "from Dataset_Setup import GaussianCovariance_matrix\n",
    "cov = GaussianCovariance_matrix(size = len(setup.emask()),\n",
    "                                        magnitude = magnitude, \n",
    "                                        corrlength = corrlength)\n",
    "plt.imshow(cov.cov())\n",
    "print(cov.cov()[-1])"
   ]
  },
  {
   "cell_type": "code",
   "execution_count": 14,
   "id": "5ffc0321",
   "metadata": {},
   "outputs": [
    {
     "ename": "AttributeError",
     "evalue": "'NoneType' object has no attribute 'covariance_matrix'",
     "output_type": "error",
     "traceback": [
      "\u001b[0;31m---------------------------------------------------------------------------\u001b[0m",
      "\u001b[0;31mAttributeError\u001b[0m                            Traceback (most recent call last)",
      "Cell \u001b[0;32mIn[14], line 1\u001b[0m\n\u001b[0;32m----> 1\u001b[0m plt\u001b[38;5;241m.\u001b[39mimshow(\u001b[43mdataset_asimov_N\u001b[49m\u001b[38;5;241;43m.\u001b[39;49m\u001b[43mbackground_model\u001b[49m\u001b[38;5;241;43m.\u001b[39;49m\u001b[43mspectral_model\u001b[49m\u001b[38;5;241;43m.\u001b[39;49m\u001b[43mparameters\u001b[49m\u001b[38;5;241;43m.\u001b[39;49m\u001b[43mprior\u001b[49m\u001b[43m[\u001b[49m\u001b[38;5;241;43m1\u001b[39;49m\u001b[43m]\u001b[49m\u001b[38;5;241;43m.\u001b[39;49m\u001b[43mcovariance_matrix\u001b[49m)\n",
      "\u001b[0;31mAttributeError\u001b[0m: 'NoneType' object has no attribute 'covariance_matrix'"
     ]
    }
   ],
   "source": [
    "plt.imshow(dataset_asimov_N.background_model.spectral_model.parameters.prior[1].covariance_matrix)"
   ]
  },
  {
   "cell_type": "code",
   "execution_count": null,
   "id": "b834d28c",
   "metadata": {},
   "outputs": [],
   "source": []
  },
  {
   "cell_type": "code",
   "execution_count": 17,
   "id": "927224aa",
   "metadata": {},
   "outputs": [],
   "source": [
    "dataset_asimov_N.background_model.spectral_model.parameters.value  = setup.dataset_helper.background_model.spectral_model.parameters.value\n",
    "\n"
   ]
  },
  {
   "cell_type": "code",
   "execution_count": 20,
   "id": "7f26d59a",
   "metadata": {},
   "outputs": [
    {
     "data": {
      "text/html": [
       "<pre>PiecewiseNormSpectralModel\n",
       "\n",
       "  type    name    value    unit   error   min max frozen is_norm link prior\n",
       "-------- ------ ---------- ---- --------- --- --- ------ ------- ---- -----\n",
       "spectral  _norm 0.0000e+00      0.000e+00 nan nan   True    True       None\n",
       "spectral  norm0 0.0000e+00      0.000e+00 nan nan   True   False       None\n",
       "spectral  norm1 0.0000e+00      0.000e+00 nan nan   True   False       None\n",
       "spectral  norm2 0.0000e+00      0.000e+00 nan nan   True   False       None\n",
       "spectral  norm3 0.0000e+00      0.000e+00 nan nan   True   False       None\n",
       "spectral  norm4 1.0000e-01      4.545e-14 nan nan  False   False       None\n",
       "spectral  norm5 9.0000e-02      5.876e-11 nan nan  False   False       None\n",
       "spectral  norm6 8.0000e-02      4.007e-17 nan nan  False   False       None\n",
       "spectral  norm7 7.0000e-02      4.586e-20 nan nan  False   False       None\n",
       "spectral  norm8 6.0000e-02      5.711e-21 nan nan  False   False       None\n",
       "spectral  norm9 5.0000e-02      6.815e-21 nan nan  False   False       None\n",
       "spectral norm10 4.0000e-02      4.934e-22 nan nan  False   False       None\n",
       "spectral norm11 3.0000e-02      2.356e-20 nan nan  False   False       None\n",
       "spectral norm12 2.0000e-02      3.705e-20 nan nan  False   False       None\n",
       "spectral norm13 1.0000e-02      1.074e-19 nan nan  False   False       None\n",
       "spectral norm14 0.0000e+00      5.424e-04 nan nan  False   False       None\n",
       "spectral norm15 7.5000e-03      1.076e-19 nan nan  False   False       None\n",
       "spectral norm16 1.5000e-02      1.512e-19 nan nan  False   False       None\n",
       "spectral norm17 2.2500e-02      1.793e-19 nan nan  False   False       None\n",
       "spectral norm18 3.0000e-02      2.739e-19 nan nan  False   False       None\n",
       "spectral norm19 3.7500e-02      9.991e-19 nan nan  False   False       None\n",
       "spectral norm20 4.5000e-02      5.699e-19 nan nan  False   False       None\n",
       "spectral norm21 5.2500e-02      1.198e-18 nan nan  False   False       None\n",
       "spectral norm22 6.0000e-02      2.761e-18 nan nan  False   False       None\n",
       "spectral norm23 6.7500e-02      5.399e-18 nan nan  False   False       None</pre>"
      ],
      "text/plain": [
       "<gammapy.modeling.models.spectral.PiecewiseNormSpectralModel at 0x71ca2b2877c0>"
      ]
     },
     "execution_count": 20,
     "metadata": {},
     "output_type": "execute_result"
    }
   ],
   "source": [
    "dataset_asimov_N.background_model.spectral_model"
   ]
  },
  {
   "cell_type": "code",
   "execution_count": 21,
   "id": "d2a744c6-cceb-41e9-baea-b3b0a59a691e",
   "metadata": {},
   "outputs": [
    {
     "name": "stdout",
     "output_type": "stream",
     "text": [
      "shift 1.0\n",
      "shift 1.0\n"
     ]
    },
    {
     "data": {
      "text/plain": [
       "<Axes: xlabel='Energy [$\\\\mathrm{TeV}$]', ylabel='Residuals (data - model)'>"
      ]
     },
     "execution_count": 21,
     "metadata": {},
     "output_type": "execute_result"
    },
    {
     "data": {
      "image/png": "[encoded data removed]",
      "text/plain": [
       "<Figure size 640x480 with 1 Axes>"
      ]
     },
     "metadata": {},
     "output_type": "display_data"
    }
   ],
   "source": [
    "ax = dataset_asimov.plot_residuals_spectral(color = 'tab:orange')\n",
    "dataset_asimov_N.plot_residuals_spectral(ax = ax, color = 'tab:blue')"
   ]
  },
  {
   "cell_type": "code",
   "execution_count": 15,
   "id": "20b0e498",
   "metadata": {},
   "outputs": [
    {
     "data": {
      "text/plain": [
       "<matplotlib.legend.Legend at 0x71ca2b003ac0>"
      ]
     },
     "execution_count": 15,
     "metadata": {},
     "output_type": "execute_result"
    },
    {
     "data": {
      "image/png": "[encoded data removed]",
      "text/plain": [
       "<Figure size 640x480 with 1 Axes>"
      ]
     },
     "metadata": {},
     "output_type": "display_data"
    }
   ],
   "source": [
    "\n",
    "ax = dataset_input.models[0].spectral_model.plot(color = 'black', label = 'Input')\n",
    "dataset_asimov_N.models[0].spectral_model.plot(color = 'tab:blue', linestyle = 'dashed',\n",
    "                                                 label = \"With nui.\")\n",
    "dataset_asimov_N.models[0].spectral_model.plot_error(ax = ax, facecolor = 'tab:blue')\n",
    "\n",
    "dataset_asimov.models[0].spectral_model.plot(color = 'tab:orange', linestyle = 'dashed',\n",
    "                                                 label = \"Without nui.\")\n",
    "dataset_asimov.models[0].spectral_model.plot_error(ax = ax, facecolor = 'tab:orange')\n",
    "\n",
    "\n",
    "\n",
    "ax.legend()"
   ]
  },
  {
   "cell_type": "code",
   "execution_count": null,
   "id": "7a45bced",
   "metadata": {},
   "outputs": [],
   "source": [
    "print(dataset_asimov.models[0])"
   ]
  },
  {
   "cell_type": "code",
   "execution_count": null,
   "id": "abf9bea5",
   "metadata": {},
   "outputs": [],
   "source": [
    "\n",
    "\n",
    "ax = dataset_asimov_N.background_model.spectral_model.plot()\n",
    "setup.dataset_helper.background_model.spectral_model.plot()\n",
    "ax.set_yscale(\"linear\")\n",
    "print(dataset_asimov_N.background_model.spectral_model.parameters.value)"
   ]
  },
  {
   "cell_type": "code",
   "execution_count": null,
   "id": "4b982329",
   "metadata": {},
   "outputs": [],
   "source": [
    "setup.dataset_helper.background_model"
   ]
  },
  {
   "cell_type": "code",
   "execution_count": null,
   "id": "7c06623e",
   "metadata": {},
   "outputs": [],
   "source": []
  }
 ],
 "metadata": {
  "kernelspec": {
   "display_name": "Python 3 (ipykernel)",
   "language": "python",
   "name": "python3"
  },
  "language_info": {
   "codemirror_mode": {
    "name": "ipython",
    "version": 3
   },
   "file_extension": ".py",
   "mimetype": "text/x-python",
   "name": "python",
   "nbconvert_exporter": "python",
   "pygments_lexer": "ipython3",
   "version": "3.9.16"
  },
  "varInspector": {
   "cols": {
    "lenName": 16,
    "lenType": 16,
    "lenVar": 40
   },
   "kernels_config": {
    "python": {
     "delete_cmd_postfix": "",
     "delete_cmd_prefix": "del ",
     "library": "var_list.py",
     "varRefreshCmd": "print(var_dic_list())"
    },
    "r": {
     "delete_cmd_postfix": ") ",
     "delete_cmd_prefix": "rm(",
     "library": "var_list.r",
     "varRefreshCmd": "cat(var_dic_list()) "
    }
   },
   "types_to_exclude": [
    "module",
    "function",
    "builtin_function_or_method",
    "instance",
    "_Feature"
   ],
   "window_display": false
  }
 },
 "nbformat": 4,
 "nbformat_minor": 5
}
