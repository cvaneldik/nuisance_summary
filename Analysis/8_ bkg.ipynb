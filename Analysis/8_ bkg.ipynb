{
 "cells": [
  {
   "cell_type": "markdown",
   "id": "e7853a11",
   "metadata": {},
   "source": [
    "## Runnning with gammapy-dev/IRF_model\n",
    "Fitting asimov datasets with nuisance parameters based on the different livetimes"
   ]
  },
  {
   "cell_type": "markdown",
   "id": "0e04af29",
   "metadata": {},
   "source": [
    "### Setup"
   ]
  },
  {
   "cell_type": "code",
   "execution_count": null,
   "id": "27bf135a-5ee4-4ca1-8549-6bf07929003c",
   "metadata": {},
   "outputs": [],
   "source": [
    "import matplotlib.pyplot as plt\n",
    "import numpy as np\n",
    "import astropy.units as u\n",
    "from gammapy.maps import Map\n",
    "from astropy.coordinates import SkyCoord, Angle\n",
    "from gammapy.modeling import Fit,  Parameters, Covariance , Parameter\n",
    "from gammapy.datasets import MapDataset ,Datasets, FluxPointsDataset\n",
    "from gammapy.modeling.models import (\n",
    "    PowerLawSpectralModel,\n",
    "    SkyModel,\n",
    "    PointSpatialModel,\n",
    "    PowerLawNormSpectralModel,\n",
    "    Models,\n",
    "    SpatialModel,\n",
    "    FoVBackgroundModel,\n",
    "    PiecewiseNormSpectralModel,\n",
    ")\n",
    "from gammapy.estimators import TSMapEstimator, ExcessMapEstimator\n",
    "from gammapy.estimators import FluxPoints, FluxPointsEstimator\n",
    "from scipy.interpolate import interp2d\n",
    "\n",
    "from regions import CircleSkyRegion, RectangleSkyRegion\n",
    "import yaml\n",
    "import sys\n",
    "sys.path.append('../')\n",
    "import Dataset_load \n",
    "\n",
    "from  Dataset_Setup import Setup, GaussianCovariance_matrix\n",
    "\n",
    "from matplotlib import rc\n",
    "rc(\"font\", **{\"family\": \"serif\", \"serif\": [\"Computer Modern\"]})\n",
    "rc(\"text\", usetex=True)\n"
   ]
  },
  {
   "cell_type": "markdown",
   "id": "5de988df",
   "metadata": {
    "tags": []
   },
   "source": [
    "## Read dataset"
   ]
  },
  {
   "cell_type": "code",
   "execution_count": null,
   "id": "0eeeaf75",
   "metadata": {},
   "outputs": [],
   "source": [
    "c = Dataset_load.load_config()\n",
    "awo, aw, ewo, ew = c['_colors']  \n",
    "c"
   ]
  },
  {
   "cell_type": "code",
   "execution_count": null,
   "id": "e0c45f4e-6432-405e-86b7-649e254c0950",
   "metadata": {},
   "outputs": [],
   "source": [
    "livetime = c['livetime']\n",
    "zero = c['zero'] \n",
    "norm = c['norm'] \n",
    "tilt = c['tilt'] \n",
    "bias = c['bias'] \n",
    "resolution = c['resolution'] \n",
    "magnitude = c['magnitude'] \n",
    "corrlength = c['corrlength']\n",
    "sys = c['sys'] \n",
    "folder = c['folder']\n",
    "parameter_names = c['parameter_names']        \n",
    "nbidx = 0\n",
    "print(livetime)\n",
    "print(sys)"
   ]
  },
  {
   "cell_type": "code",
   "execution_count": null,
   "id": "fd83cffe",
   "metadata": {},
   "outputs": [],
   "source": [
    "c['model']"
   ]
  },
  {
   "cell_type": "code",
   "execution_count": null,
   "id": "f94dc89c",
   "metadata": {},
   "outputs": [],
   "source": [
    "%%time\n",
    "amplitude= Parameter('amplitude', value = 3.85e-12, unit=u.Unit(\"1 / (TeV s cm2)\"))\n",
    "dataset_input_point  = Dataset_load.create_asimov(model = c['model'], source = c['source'], \n",
    "                                               livetime = f\"{livetime}-hr\",\n",
    "                                        parameters = [amplitude],\n",
    "                                           spatial_model =None)\n",
    "from gammapy.modeling.models import GaussianSpatialModel\n",
    "gaussian = GaussianSpatialModel(lon_0 = dataset_input_point.models.parameters['lon_0'],\n",
    "                                lat_0 = dataset_input_point.models.parameters['lat_0'],\n",
    "                                sigma = 0.3 *u.deg\n",
    "                               )\n",
    "\n",
    "\n",
    "dataset_input  = Dataset_load.create_asimov(model = c['model'], source = c['source'], \n",
    "                                               livetime = f\"{livetime}-hr\",\n",
    "                                        parameters = [amplitude],\n",
    "                                           spatial_model =gaussian)\n"
   ]
  },
  {
   "cell_type": "code",
   "execution_count": null,
   "id": "fb3522d9-9452-4583-a63d-bd99020e626d",
   "metadata": {},
   "outputs": [],
   "source": [
    "dataset_input.npred().sum_over_axes().plot(add_cbar =1)"
   ]
  },
  {
   "cell_type": "code",
   "execution_count": null,
   "id": "b24b18ac-af52-48ac-bd1e-f03d21457fe4",
   "metadata": {},
   "outputs": [],
   "source": [
    "    \n",
    "setup = Setup(dataset_input=dataset_input)\n",
    "#setup.set_up_irf_sys(bias, resolution, norm, tilt)\n",
    "dataset_asimov, dataset_asimov_N = setup.run()\n",
    "# irf model\n",
    "#setup.set_irf_model(dataset_asimov_N)\n",
    "if \"Bkg\" in sys or \"BKG\" in sys:\n",
    "\n",
    "    # piece wise model\n",
    "    # remove old bkg model\n",
    "    setup.set_up_bkg_sys_V( breake = 10,\n",
    "                        index1 = 2,\n",
    "                        index2 = 1.5, \n",
    "                        magnitude = magnitude )\n",
    "\n",
    "    dataset_asimov, dataset_asimov_N = setup.run()\n",
    "\n",
    "    #setup.unset_model(dataset_asimov_N, FoVBackgroundModel)\n",
    "    #setup.set_piecewise_bkg_model(dataset_asimov_N)\n",
    "    # energy of the following parameters smaller than ethrshold\n",
    "    dataset_asimov_N.background_model.parameters['norm0'].frozen = True\n",
    "    dataset_asimov_N.background_model.parameters['norm1'].frozen = True\n",
    "    dataset_asimov_N.background_model.parameters['norm2'].frozen = True\n",
    "    dataset_asimov_N.background_model.parameters['norm3'].frozen = True\n",
    "    #setup.set_bkg_prior(dataset_asimov_N, magnitude, corrlength)\n",
    "    "
   ]
  },
  {
   "cell_type": "code",
   "execution_count": null,
   "id": "3cedd26c-b464-4304-8414-077fa61e6f26",
   "metadata": {},
   "outputs": [],
   "source": [
    "print(dataset_asimov)"
   ]
  },
  {
   "cell_type": "code",
   "execution_count": null,
   "id": "473ac098-66df-4415-b53f-6d1bf592a858",
   "metadata": {},
   "outputs": [],
   "source": [
    "print(dataset_asimov_N)"
   ]
  },
  {
   "cell_type": "code",
   "execution_count": null,
   "id": "9c69e63c-3170-4442-8633-fe71401abe28",
   "metadata": {},
   "outputs": [],
   "source": [
    "print(setup.dataset_helper)"
   ]
  },
  {
   "cell_type": "code",
   "execution_count": null,
   "id": "3c173915-31ab-470c-a570-6a5a4c5acf81",
   "metadata": {},
   "outputs": [],
   "source": [
    "setup.dataset_helper.counts.sum_over_axes().plot(add_cbar = 1)"
   ]
  },
  {
   "cell_type": "code",
   "execution_count": null,
   "id": "00c0a406-962b-4bcc-b1f7-45c85f7bba52",
   "metadata": {},
   "outputs": [],
   "source": [
    "setup.dataset_helper.plot_residuals()"
   ]
  },
  {
   "cell_type": "code",
   "execution_count": null,
   "id": "5cf6ac95-f75c-4ce0-aa8c-bb26daad19f9",
   "metadata": {},
   "outputs": [],
   "source": [
    "dataset_asimov_N.counts.sum_over_axes().plot(add_cbar = 1)"
   ]
  },
  {
   "cell_type": "code",
   "execution_count": null,
   "id": "4147187a-3c31-465f-9b77-31f7b86cef5d",
   "metadata": {},
   "outputs": [],
   "source": [
    "dataset_asimov_N.plot_residuals()"
   ]
  },
  {
   "cell_type": "code",
   "execution_count": null,
   "id": "cca6c13c",
   "metadata": {},
   "outputs": [],
   "source": [
    "%%time\n",
    "fitting = 0\n",
    "if fitting:\n",
    "    fit_cor = Fit(store_trace=0)\n",
    "    minuit_opts = {\"tol\": 0.1, \"strategy\": 2}\n",
    "    fit_cor.backend = \"minuit\"\n",
    "    fit_cor.optimize_opts = minuit_opts\n",
    "    result_cor = fit_cor.run(dataset_asimov)\n",
    "    print(result_cor)\n",
    "    print(\"saving\")\n",
    "    path = f'../{folder}/data/0_model_livetime_{livetime}.yml'\n",
    "    dataset_asimov.models.write(path,overwrite=True)\n",
    "    \n",
    "    \n",
    "else:\n",
    "    path = f'../{folder}/data/0_model_livetime_{livetime}.yml'\n",
    "    dataset_asimov.models = Models.read(path)\n",
    "    print(path[:-4])\n",
    "    cov = dataset_asimov.models.read_covariance(path = path[:-4]+\"_covariance.dat\", filename = \"\",\n",
    "                                            format=\"ascii.fixed_width\")\n"
   ]
  },
  {
   "cell_type": "code",
   "execution_count": null,
   "id": "ec536aed",
   "metadata": {},
   "outputs": [],
   "source": [
    "print(dataset_asimov_N)"
   ]
  },
  {
   "cell_type": "code",
   "execution_count": null,
   "id": "feda13b9-c450-4b6d-9e3d-2c304549eb27",
   "metadata": {},
   "outputs": [],
   "source": [
    "%%time\n",
    "fitting = 1\n",
    "if fitting:\n",
    "    fit_cor = Fit(store_trace=0)\n",
    "    result_cor = fit_cor.run(dataset_asimov_N)\n",
    "    print(result_cor)\n",
    "    print(\"saving\")\n",
    "    path = f'../{folder}/data/0_model_nui_livetime_{livetime}.yml'\n",
    "    dataset_asimov_N.models.write(path,overwrite=True)\n",
    "    \n",
    "    \n",
    "else:\n",
    "    path = f'../{folder}/data/0_model_nui_livetime_{livetime}.yml'\n",
    "    dataset_asimov_N.models = Models.read(path)\n"
   ]
  },
  {
   "cell_type": "code",
   "execution_count": null,
   "id": "56928011",
   "metadata": {},
   "outputs": [],
   "source": [
    "print(dataset_asimov_N.background_model)"
   ]
  },
  {
   "cell_type": "code",
   "execution_count": null,
   "id": "1812bee3",
   "metadata": {},
   "outputs": [],
   "source": [
    "ax = dataset_asimov_N.background_model.spectral_model.plot()\n",
    "ax.set_yscale(\"linear\")\n",
    "print(dataset_asimov_N.background_model.spectral_model.parameters.value)"
   ]
  },
  {
   "cell_type": "code",
   "execution_count": null,
   "id": "a30c1a82",
   "metadata": {},
   "outputs": [],
   "source": [
    "from Dataset_Setup import GaussianCovariance_matrix\n",
    "cov = GaussianCovariance_matrix(size = len(setup.emask()),\n",
    "                                        magnitude = magnitude, \n",
    "                                        corrlength = corrlength)\n",
    "plt.imshow(cov.cov())\n",
    "print(cov.cov()[-1])"
   ]
  },
  {
   "cell_type": "code",
   "execution_count": null,
   "id": "5ffc0321",
   "metadata": {},
   "outputs": [],
   "source": [
    "plt.imshow(dataset_asimov_N.background_model.spectral_model.parameters.prior[1].covariance_matrix)"
   ]
  },
  {
   "cell_type": "code",
   "execution_count": null,
   "id": "b834d28c",
   "metadata": {},
   "outputs": [],
   "source": []
  },
  {
   "cell_type": "code",
   "execution_count": null,
   "id": "927224aa",
   "metadata": {},
   "outputs": [],
   "source": [
    "dataset_asimov_N.background_model.spectral_model.parameters.value  = setup.dataset_helper.background_model.spectral_model.parameters.value\n",
    "\n"
   ]
  },
  {
   "cell_type": "code",
   "execution_count": null,
   "id": "7f26d59a",
   "metadata": {},
   "outputs": [],
   "source": [
    "dataset_asimov_N.background_model.spectral_model"
   ]
  },
  {
   "cell_type": "code",
   "execution_count": null,
   "id": "d2a744c6-cceb-41e9-baea-b3b0a59a691e",
   "metadata": {},
   "outputs": [],
   "source": [
    "ax = dataset_asimov.plot_residuals_spectral(color = 'tab:orange')\n",
    "dataset_asimov_N.plot_residuals_spectral(ax = ax, color = 'tab:blue')"
   ]
  },
  {
   "cell_type": "code",
   "execution_count": null,
   "id": "20b0e498",
   "metadata": {},
   "outputs": [],
   "source": [
    "\n",
    "ax = dataset_input.models[0].spectral_model.plot(color = 'black', label = 'Input')\n",
    "dataset_asimov_N.models[0].spectral_model.plot(color = 'tab:blue', linestyle = 'dashed',\n",
    "                                                 label = \"With nui.\")\n",
    "dataset_asimov_N.models[0].spectral_model.plot_error(ax = ax, facecolor = 'tab:blue')\n",
    "\n",
    "dataset_asimov.models[0].spectral_model.plot(color = 'tab:orange', linestyle = 'dashed',\n",
    "                                                 label = \"Without nui.\")\n",
    "dataset_asimov.models[0].spectral_model.plot_error(ax = ax, facecolor = 'tab:orange')\n",
    "\n",
    "\n",
    "\n",
    "ax.legend()"
   ]
  },
  {
   "cell_type": "code",
   "execution_count": null,
   "id": "7a45bced",
   "metadata": {},
   "outputs": [],
   "source": [
    "print(dataset_asimov.models[0])"
   ]
  },
  {
   "cell_type": "code",
   "execution_count": null,
   "id": "abf9bea5",
   "metadata": {},
   "outputs": [],
   "source": [
    "\n",
    "\n",
    "ax = dataset_asimov_N.background_model.spectral_model.plot()\n",
    "setup.dataset_helper.background_model.spectral_model.plot()\n",
    "ax.set_yscale(\"linear\")\n",
    "print(dataset_asimov_N.background_model.spectral_model.parameters.value)"
   ]
  },
  {
   "cell_type": "code",
   "execution_count": null,
   "id": "4b982329",
   "metadata": {},
   "outputs": [],
   "source": [
    "setup.dataset_helper.background_model"
   ]
  },
  {
   "cell_type": "code",
   "execution_count": null,
   "id": "7c06623e",
   "metadata": {},
   "outputs": [],
   "source": []
  }
 ],
 "metadata": {
  "kernelspec": {
   "display_name": "Python 3 (ipykernel)",
   "language": "python",
   "name": "python3"
  },
  "language_info": {
   "codemirror_mode": {
    "name": "ipython",
    "version": 3
   },
   "file_extension": ".py",
   "mimetype": "text/x-python",
   "name": "python",
   "nbconvert_exporter": "python",
   "pygments_lexer": "ipython3",
   "version": "3.8.16"
  },
  "varInspector": {
   "cols": {
    "lenName": 16,
    "lenType": 16,
    "lenVar": 40
   },
   "kernels_config": {
    "python": {
     "delete_cmd_postfix": "",
     "delete_cmd_prefix": "del ",
     "library": "var_list.py",
     "varRefreshCmd": "print(var_dic_list())"
    },
    "r": {
     "delete_cmd_postfix": ") ",
     "delete_cmd_prefix": "rm(",
     "library": "var_list.r",
     "varRefreshCmd": "cat(var_dic_list()) "
    }
   },
   "types_to_exclude": [
    "module",
    "function",
    "builtin_function_or_method",
    "instance",
    "_Feature"
   ],
   "window_display": false
  }
 },
 "nbformat": 4,
 "nbformat_minor": 5
}
