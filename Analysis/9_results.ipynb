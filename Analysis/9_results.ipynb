{
 "cells": [
  {
   "cell_type": "code",
   "execution_count": 1,
   "id": "063f89dc-fdb3-46eb-a1d8-03f09307634d",
   "metadata": {},
   "outputs": [],
   "source": [
    "import sys\n",
    "sys.path.append('../')\n",
    "\n",
    "import Dataset_load\n",
    "from gammapy.modeling.models import Models"
   ]
  },
  {
   "cell_type": "code",
   "execution_count": 2,
   "id": "d22c584c-9861-4bd9-97ee-f747f7690778",
   "metadata": {},
   "outputs": [],
   "source": [
    "c = Dataset_load.load_config()\n",
    "awo, aw, ewo, ew = c['_colors'] \n",
    "folder = c['folder']\n",
    "livetime  = c['livetime']"
   ]
  },
  {
   "cell_type": "code",
   "execution_count": 3,
   "id": "660b7fb8-3cc9-4187-929b-13fa3313d2f8",
   "metadata": {},
   "outputs": [],
   "source": [
    "path = f'../Combined100_PKSflare_crab_cutoff/data/0_model_nui_livetime_{livetime}_np.yml'\n",
    "model_combined = Models.read(path)\n",
    "\n",
    "path = f'../Eff_area100_PKSflare_crab_cutoff/data/0_model_nui_livetime_{livetime}_np.yml'\n",
    "model_eff = Models.read(path)\n",
    "\n",
    "path = f'../E_reco_PKSflare_crab_cutoff/data/0_model_nui_livetime_{livetime}_np.yml'\n",
    "model_ereco = Models.read(path)\n",
    "\n",
    "models = [model_eff, model_ereco, model_combined]"
   ]
  },
  {
   "cell_type": "code",
   "execution_count": 4,
   "id": "9cee00f7-7bbe-434e-a63c-c26c1581da20",
   "metadata": {},
   "outputs": [],
   "source": [
    "path = f'../Combined100_PKSflare_crab_cutoff/data/0_model_livetime_{livetime}_np.yml'\n",
    "model_combined_no = Models.read(path)\n",
    "\n",
    "path = f'../Eff_area100_PKSflare_crab_cutoff/data/0_model_livetime_{livetime}_np.yml'\n",
    "model_eff_no = Models.read(path)\n",
    "\n",
    "path = f'../E_reco_PKSflare_crab_cutoff/data/0_model_livetime_{livetime}_np.yml'\n",
    "model_ereco_no = Models.read(path)\n",
    "\n",
    "models_no = [model_eff_no, model_ereco_no, model_combined_no]"
   ]
  },
  {
   "cell_type": "code",
   "execution_count": 5,
   "id": "0745eb11-7914-4ad3-ad9b-fc938e64a082",
   "metadata": {},
   "outputs": [
    {
     "name": "stdout",
     "output_type": "stream",
     "text": [
      "SkyModel\n",
      "\n",
      "  Name                      : U64xP7x-\n",
      "  Datasets names            : None\n",
      "  Spectral model type       : ExpCutoffPowerLawSpectralModel\n",
      "  Spatial  model type       : PointSpatialModel\n",
      "  Temporal model type       : \n",
      "  Parameters:\n",
      "    index                      :      2.299  +/-    0.13             \n",
      "    amplitude                  :   3.85e-11  +/- 6.0e-12 1 / (cm2 s TeV)\n",
      "    reference  (frozen)        :      1.000      TeV         \n",
      "    lambda_                    :      0.100  +/-    0.04 1 / TeV     \n",
      "    alpha      (frozen)        :      1.000                  \n",
      "    lon_0                      :    329.680  +/-    0.00 deg         \n",
      "    lat_0                      :    -30.222  +/-    0.00 deg         \n",
      "\n",
      "\n",
      "SkyModel\n",
      "\n",
      "  Name                      : 92gHQ4qx\n",
      "  Datasets names            : None\n",
      "  Spectral model type       : ExpCutoffPowerLawSpectralModel\n",
      "  Spatial  model type       : PointSpatialModel\n",
      "  Temporal model type       : \n",
      "  Parameters:\n",
      "    index                      :      2.302  +/-    0.09             \n",
      "    amplitude                  :   3.85e-11  +/- 5.9e-12 1 / (cm2 s TeV)\n",
      "    reference  (frozen)        :      1.000      TeV         \n",
      "    lambda_                    :      0.100  +/-    0.04 1 / TeV     \n",
      "    alpha      (frozen)        :      1.000                  \n",
      "    lon_0                      :    329.680  +/-    0.00 deg         \n",
      "    lat_0                      :    -30.222  +/-    0.00 deg         \n",
      "\n",
      "\n",
      "SkyModel\n",
      "\n",
      "  Name                      : 1bpdX3kR\n",
      "  Datasets names            : None\n",
      "  Spectral model type       : ExpCutoffPowerLawSpectralModel\n",
      "  Spatial  model type       : PointSpatialModel\n",
      "  Temporal model type       : \n",
      "  Parameters:\n",
      "    index                      :      2.299  +/-    0.13             \n",
      "    amplitude                  :   3.85e-11  +/- 2.6e-12 1 / (cm2 s TeV)\n",
      "    reference  (frozen)        :      1.000      TeV         \n",
      "    lambda_                    :      0.100  +/-    0.04 1 / TeV     \n",
      "    alpha      (frozen)        :      1.000                  \n",
      "    lon_0                      :    329.680  +/-    0.00 deg         \n",
      "    lat_0                      :    -30.222  +/-    0.00 deg         \n",
      "\n",
      "\n"
     ]
    }
   ],
   "source": [
    "print(model_combined[0])\n",
    "print(model_eff[0])\n",
    "print(model_ereco[0])"
   ]
  },
  {
   "cell_type": "markdown",
   "id": "862d2f9f-3660-4f24-8b41-fc1c8f74c3db",
   "metadata": {},
   "source": [
    "## Index"
   ]
  },
  {
   "cell_type": "code",
   "execution_count": 6,
   "id": "6c51ccb5-3770-467f-b0ec-68674e4722f0",
   "metadata": {},
   "outputs": [
    {
     "name": "stdout",
     "output_type": "stream",
     "text": [
      "index\n",
      "2.3  \\pm  0.09232 -0.09572  +0.09008\n",
      "index\n",
      "2.227  \\pm  0.08819 -0.09584  +0.0902\n",
      "index\n",
      "2.3  \\pm  0.09232 -0.09584  +0.0902\n"
     ]
    }
   ],
   "source": [
    "for m in models_no:\n",
    "    par = m.parameters['index']\n",
    "    print(par.name)\n",
    "    try:\n",
    "        print(f'{par.value:.4}  \\pm  {par.error:.4} -{par.error_n:.4}  +{par.error_p:.4}')\n",
    "    except:\n",
    "        print(f'{par.value:.4}  \\pm  {par.error:.4} ')\n",
    "        "
   ]
  },
  {
   "cell_type": "code",
   "execution_count": 7,
   "id": "27cb0647-0aba-482f-8619-255a9e109c25",
   "metadata": {},
   "outputs": [
    {
     "name": "stdout",
     "output_type": "stream",
     "text": [
      "index\n",
      "2.302  \\pm  0.09224 -0.09838  +0.09174\n",
      "index\n",
      "2.299  \\pm  0.1291 -0.1282  +0.1503\n",
      "index\n",
      "2.299  \\pm  0.1306 -0.13  +0.1512\n"
     ]
    }
   ],
   "source": [
    "for m in models:\n",
    "    par = m.parameters['index']\n",
    "    print(par.name)\n",
    "    try:\n",
    "        print(f'{par.value:.4}  \\pm  {par.error:.4} -{par.error_n:.4}  +{par.error_p:.4}')\n",
    "    except:\n",
    "        print(f'{par.value:.4}  \\pm  {par.error:.4} ')\n",
    "        "
   ]
  },
  {
   "cell_type": "markdown",
   "id": "4fbf5514-7dac-4ca5-a3ba-44fe8a579f34",
   "metadata": {},
   "source": [
    "## amplitude"
   ]
  },
  {
   "cell_type": "code",
   "execution_count": 8,
   "id": "301c7084-6d71-4b64-b8e8-5e871bd9fa5b",
   "metadata": {},
   "outputs": [
    {
     "name": "stdout",
     "output_type": "stream",
     "text": [
      "amplitude\n",
      "3.85e-11  \\pm  2.59e-12 -2.431e-12  +2.808e-12\n",
      "amplitude\n",
      "4.057e-11  \\pm  2.502e-12 -2.431e-12  +2.808e-12\n",
      "amplitude\n",
      "3.85e-11  \\pm  2.59e-12 -2.431e-12  +2.809e-12\n"
     ]
    }
   ],
   "source": [
    "for m in models_no:\n",
    "    par = m.parameters['amplitude']\n",
    "    print(par.name)\n",
    "    try:\n",
    "        print(f'{par.value:.4}  \\pm  {par.error:.4} -{par.error_n:.4}  +{par.error_p:.4}')\n",
    "    except:\n",
    "        print(f'{par.value:.4}  \\pm  {par.error:.4} ')\n",
    "        "
   ]
  },
  {
   "cell_type": "code",
   "execution_count": 9,
   "id": "20447444-2712-4a73-93bf-78390f2aaa68",
   "metadata": {},
   "outputs": [
    {
     "name": "stdout",
     "output_type": "stream",
     "text": [
      "amplitude\n",
      "3.849e-11  \\pm  5.934e-12 -5.334e-12  +6.439e-12\n",
      "amplitude\n",
      "3.852e-11  \\pm  2.607e-12 -2.578e-12  +3.051e-12\n",
      "amplitude\n",
      "3.853e-11  \\pm  5.967e-12 -5.407e-12  +6.566e-12\n"
     ]
    }
   ],
   "source": [
    "for m in models:\n",
    "    par = m.parameters['amplitude']\n",
    "    print(par.name)\n",
    "    try:\n",
    "        print(f'{par.value:.4}  \\pm  {par.error:.4} -{par.error_n:.4}  +{par.error_p:.4}')\n",
    "    except:\n",
    "        print(f'{par.value:.4}  \\pm  {par.error:.4} ')\n",
    "        "
   ]
  },
  {
   "cell_type": "markdown",
   "id": "449a33f6-52cb-4395-8951-0dd86c97bcdb",
   "metadata": {},
   "source": [
    "## lambda_"
   ]
  },
  {
   "cell_type": "code",
   "execution_count": 10,
   "id": "d255cf21-30a2-462d-b248-5d3ff7a6fa34",
   "metadata": {},
   "outputs": [
    {
     "name": "stdout",
     "output_type": "stream",
     "text": [
      "lambda_\n",
      "0.1  \\pm  0.03995 -0.03707  +0.04356\n",
      "lambda_\n",
      "0.138  \\pm  0.03805 -0.03707  +0.04356\n",
      "lambda_\n",
      "0.1  \\pm  0.03995 -0.03706  +0.0436\n"
     ]
    }
   ],
   "source": [
    "for m in models_no:\n",
    "    par = m.parameters['lambda_']\n",
    "    print(par.name)\n",
    "    try:\n",
    "        print(f'{par.value:.4}  \\pm  {par.error:.4} -{par.error_n:.4}  +{par.error_p:.4}')\n",
    "    except:\n",
    "        print(f'{par.value:.4}  \\pm  {par.error:.4} ')\n",
    "        "
   ]
  },
  {
   "cell_type": "code",
   "execution_count": 11,
   "id": "026dd1aa-6819-4f07-b5a9-1bd12f53bc43",
   "metadata": {},
   "outputs": [
    {
     "name": "stdout",
     "output_type": "stream",
     "text": [
      "lambda_\n",
      "0.09952  \\pm  0.03891 -0.03695  +0.04345\n",
      "lambda_\n",
      "0.09988  \\pm  0.03984 -0.04084  +0.04653\n",
      "lambda_\n",
      "0.09988  \\pm  0.03984 -0.04095  +0.04644\n"
     ]
    }
   ],
   "source": [
    "for m in models:\n",
    "    par = m.parameters['lambda_']\n",
    "    print(par.name)\n",
    "    try:\n",
    "        print(f'{par.value:.4}  \\pm  {par.error:.4} -{par.error_n:.4}  +{par.error_p:.4}')\n",
    "    except:\n",
    "        print(f'{par.value:.4}  \\pm  {par.error:.4} ')\n",
    "        "
   ]
  },
  {
   "cell_type": "code",
   "execution_count": 18,
   "id": "e3486d8e-aea6-4492-bdb7-c6a680d3bd39",
   "metadata": {},
   "outputs": [
    {
     "name": "stdout",
     "output_type": "stream",
     "text": [
      "\\textbf{Point Source} & &  $\\Phi_0\\ [10^{-11}\\, \\text{cm}^{-2}\\, \\text{s}^{-1}\\,\\text{TeV}^{-1}]$  & $\\Gamma$ & $\\lambda = 1/E_c\\ [\\text{TeV}^{-1}]$ \\\\ \\hline \n",
      " & Simulation input & $3.85 $  & $2.30 $  & $0.10 $  \\\\  \\hline\n",
      "\n",
      " &Without systematic & \\error {3.85} {0.259}  {0.281}  {0.243}  & \\error {2.3} {0.0923}  {0.0901}  {0.0957}  & \\error  {0.1} {0.0399}  {0.0436}  {0.0371}  \\\\  \\hline\n",
      "\n",
      " Effective Area & With fitting  & \\error {3.85} {0.593}  {0.644}  {0.533}  & \\error  {2.3} {0.0922}  {0.0917}  {0.0984}  & \\error  {0.0995} {0.0389}  {0.0435}  {0.0369}  \\\\  \\hline\n",
      "\n",
      " Bias & With fitting  & \\error {3.85} {0.261}  {0.305}  {0.258}  & \\error  {2.3} {0.129}  {0.15}  {0.128}  & \\error  {0.0999} {0.0398}  {0.0465}  {0.0408}  \\\\  \\hline\n",
      "\n",
      " Effectiva Area \\& Bias & With fitting  & \\error {3.85} {0.597}  {0.657}  {0.541}  & \\error  {2.3} {0.131}  {0.151}  {0.13}  & \\error {0.0999} {0.0398}  {0.0464}  {0.041}  \\\\  \\hline\n"
     ]
    }
   ],
   "source": [
    "headline = \"\\\\textbf{Point Source} & &  $\\Phi_0\\ [10^{-11}\\, \\\\text{cm}^{-2}\\, \\\\text{s}^{-1}\\,\\\\text{TeV}^{-1}]$  & $\\Gamma$ & $\\lambda = 1/E_c\\ [\\\\text{TeV}^{-1}]$ \\\\\\ \\hline \"\n",
    "input_ = ' & Simulation input & $3.85 $  & $2.30 $  & $0.10 $  \\\\\\  \\hline'\n",
    "\n",
    "par = models_no[0].parameters['amplitude']\n",
    "without = rf' &Without systematic & \\error {{{par.value*1e11:.3}}} {{{par.error*1e11:.3}}}  {{{par.error_p*1e11:.3}}}  {{{par.error_n*1e11:.3}}} '\n",
    "par = models_no[0].parameters['index']\n",
    "without += rf' & \\error {{{par.value:.3}}} {{{par.error:.3}}}  {{{par.error_p:.3}}}  {{{par.error_n:.3}}} '\n",
    "par = models_no[0].parameters['lambda_']\n",
    "without += rf' & \\error  {{{par.value:.3}}} {{{par.error:.3}}}  {{{par.error_p:.3}}}  {{{par.error_n:.3}}}  \\\\  \\hline'\n",
    "\n",
    "\n",
    "par = models[0].parameters['amplitude']\n",
    "eff = rf' Effective Area & With fitting  & \\error {{{par.value*1e11:.3}}} {{{par.error*1e11:.3}}}  {{{par.error_p*1e11:.3}}}  {{{par.error_n*1e11:.3}}} '\n",
    "par = models[0].parameters['index']\n",
    "eff += rf' & \\error  {{{par.value:.3}}} {{{par.error:.3}}}  {{{par.error_p:.3}}}  {{{par.error_n:.3}}} '\n",
    "par = models[0].parameters['lambda_']\n",
    "eff += rf' & \\error  {{{par.value:.3}}} {{{par.error:.3}}}  {{{par.error_p:.3}}}  {{{par.error_n:.3}}}  \\\\  \\hline'\n",
    "\n",
    "par = models[1].parameters['amplitude']\n",
    "bias = rf' Bias & With fitting  & \\error {{{par.value*1e11:.3}}} {{{par.error*1e11:.3}}}  {{{par.error_p*1e11:.3}}}  {{{par.error_n*1e11:.3}}} '\n",
    "par = models[1].parameters['index']\n",
    "bias += rf' & \\error  {{{par.value:.3}}} {{{par.error:.3}}}  {{{par.error_p:.3}}}  {{{par.error_n:.3}}} '\n",
    "par = models[1].parameters['lambda_']\n",
    "bias += rf' & \\error  {{{par.value:.3}}} {{{par.error:.3}}}  {{{par.error_p:.3}}}  {{{par.error_n:.3}}}  \\\\  \\hline'\n",
    "\n",
    "par = models[2].parameters['amplitude']\n",
    "bias_eff = rf' Effectiva Area \\& Bias & With fitting  & \\error {{{par.value*1e11:.3}}} {{{par.error*1e11:.3}}}  {{{par.error_p*1e11:.3}}}  {{{par.error_n*1e11:.3}}} '\n",
    "par = models[2].parameters['index']\n",
    "bias_eff += rf' & \\error  {{{par.value:.3}}} {{{par.error:.3}}}  {{{par.error_p:.3}}}  {{{par.error_n:.3}}} '\n",
    "par = models[2].parameters['lambda_']\n",
    "bias_eff += rf' & \\error {{{par.value:.3}}} {{{par.error:.3}}}  {{{par.error_p:.3}}}  {{{par.error_n:.3}}}  \\\\  \\hline'\n",
    "\n",
    "\n",
    "print(headline)\n",
    "print(input_)\n",
    "print()\n",
    "print(without)\n",
    "print()\n",
    "print(eff)\n",
    "print()\n",
    "print(bias)\n",
    "print()\n",
    "print(bias_eff)\n",
    "\n"
   ]
  },
  {
   "cell_type": "code",
   "execution_count": null,
   "id": "b10922c6-ffad-4153-94ab-cc1dd2c6992e",
   "metadata": {},
   "outputs": [],
   "source": []
  },
  {
   "cell_type": "markdown",
   "id": "b83d9aae-f76b-436f-b03a-75bb01031074",
   "metadata": {},
   "source": [
    "     \\textbf{Point Source} & &  $\\Phi_0\\ [10^{-11}\\, \\text{cm}^{-2}\\, \\text{s}^{-1}\\,\\text{TeV}^{-1}]$  & $\\Gamma$ & $\\lambda = 1/E_c\\ [\\text{TeV}^{-1}]$ \\\\ \\hline \n",
    "\n",
    "     & Simulation input & $3.85 $  & $2.30 $  & $0.10 $  \\\\  \\hline\n",
    "       &Without systematic & \\error {3.85} { 0.25895}  {0.281}  {0.243} & \\error {2.30} {0.092}  {0.09007}  {0.0957} & \\error {0.10} { 0.04}  {0.0436}  {0.0371} \\\\  \\hline\n",
    "\n",
    "     Effective Area & With fitting  & \\error {3.85} { 0.593}  {0.643}  {0.533} & \\error {2.30} { 0.092}  {0.0917}  {0.0983} & \\error {0.10} {0.0389}  {0.043}  {0.0369} \\\\  \\hline\n",
    "\n",
    "       Bias & With fitting  & \\error {3.85} { 0.262}  {0.305}  {0.258} & \\error {2.30} { 0.135}  {0.15}  {0.128} & \\error {0.10} { 0.0401}  {0.0438}  {0.0371} \\\\  \\hline \n",
    "\n",
    "    Effectiva Area \\& Bias &With fitting & \\error {3.85} { 0.593}  {0.517}  {0.445} & \\error {2.30} { 0.116}  {0.15}  {0.128} & \\error {0.10} { 0.0412}  {0.046}  {0.041}\\"
   ]
  },
  {
   "cell_type": "code",
   "execution_count": null,
   "id": "c00f022e-800f-4c37-94b3-e54e23dbaf93",
   "metadata": {},
   "outputs": [],
   "source": []
  }
 ],
 "metadata": {
  "kernelspec": {
   "display_name": "Python 3 (ipykernel)",
   "language": "python",
   "name": "python3"
  },
  "language_info": {
   "codemirror_mode": {
    "name": "ipython",
    "version": 3
   },
   "file_extension": ".py",
   "mimetype": "text/x-python",
   "name": "python",
   "nbconvert_exporter": "python",
   "pygments_lexer": "ipython3",
   "version": "3.8.16"
  }
 },
 "nbformat": 4,
 "nbformat_minor": 5
}
