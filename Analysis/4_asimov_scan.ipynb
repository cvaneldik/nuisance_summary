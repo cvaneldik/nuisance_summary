{
 "cells": [
  {
   "cell_type": "markdown",
   "id": "e7853a11",
   "metadata": {},
   "source": [
    "## Runnning with gammapy-dev/IRF_model\n",
    "Fitting asimov datasets with nuisance parameters based on the different livetimes"
   ]
  },
  {
   "cell_type": "markdown",
   "id": "0e04af29",
   "metadata": {},
   "source": [
    "### Setup"
   ]
  },
  {
   "cell_type": "code",
   "execution_count": 1,
   "id": "27bf135a-5ee4-4ca1-8549-6bf07929003c",
   "metadata": {},
   "outputs": [],
   "source": [
    "import matplotlib.pyplot as plt\n",
    "import numpy as np\n",
    "import astropy.units as u\n",
    "from gammapy.maps import Map\n",
    "from astropy.coordinates import SkyCoord, Angle\n",
    "from gammapy.modeling import Fit,  Parameters, Covariance , Parameter\n",
    "from gammapy.datasets import MapDataset ,Datasets, FluxPointsDataset\n",
    "from gammapy.modeling.models import (\n",
    "    PowerLawSpectralModel,\n",
    "    SkyModel,\n",
    "    PointSpatialModel,\n",
    "    PowerLawNormSpectralModel,\n",
    "    Models,\n",
    "    SpatialModel,\n",
    "    FoVBackgroundModel,\n",
    "    PiecewiseNormSpectralModel,\n",
    ")\n",
    "from gammapy.estimators import TSMapEstimator, ExcessMapEstimator\n",
    "from gammapy.estimators import FluxPoints, FluxPointsEstimator\n",
    "from scipy.interpolate import interp2d\n",
    "\n",
    "from regions import CircleSkyRegion, RectangleSkyRegion\n",
    "import yaml\n",
    "import sys\n",
    "sys.path.append('../')\n",
    "import Dataset_load \n",
    "\n",
    "from  Dataset_Setup import Setup, GaussianCovariance_matrix"
   ]
  },
  {
   "cell_type": "markdown",
   "id": "5de988df",
   "metadata": {
    "tags": []
   },
   "source": [
    "## Read dataset"
   ]
  },
  {
   "cell_type": "code",
   "execution_count": 2,
   "id": "0eeeaf75",
   "metadata": {},
   "outputs": [],
   "source": [
    "c = Dataset_load.load_config()\n",
    "awo, aw, ewo, ew = c['_colors']  "
   ]
  },
  {
   "cell_type": "code",
   "execution_count": 3,
   "id": "e0c45f4e-6432-405e-86b7-649e254c0950",
   "metadata": {},
   "outputs": [
    {
     "name": "stdout",
     "output_type": "stream",
     "text": [
      "2.154434690031884\n"
     ]
    }
   ],
   "source": [
    "livetime = c['livetime']\n",
    "zero = c['zero'] \n",
    "norm = c['norm'] \n",
    "tilt = c['tilt'] \n",
    "bias = c['bias'] \n",
    "resolution = c['resolution'] \n",
    "magnitude = c['magnitude'] \n",
    "corrlength = c['corrlength']\n",
    "sys = c['sys'] \n",
    "folder = c['folder']\n",
    "parameter_names = c['parameter_names']        \n",
    "nbidx = 0\n",
    "print(livetime)"
   ]
  },
  {
   "cell_type": "code",
   "execution_count": 4,
   "id": "8b828754",
   "metadata": {},
   "outputs": [
    {
     "name": "stdout",
     "output_type": "stream",
     "text": [
      "index\n",
      "lambda_\n",
      "amplitude\n"
     ]
    }
   ],
   "source": [
    "parameter_names_1  = set(list(np.array(parameter_names).ravel()))\n",
    "for p in parameter_names_1:\n",
    "    print(p)"
   ]
  },
  {
   "cell_type": "code",
   "execution_count": 5,
   "id": "f94dc89c",
   "metadata": {},
   "outputs": [
    {
     "name": "stdout",
     "output_type": "stream",
     "text": [
      "loaded dataset:\n",
      "/home/wecapstor1/caph/mppi045h/nuisance_summary/PKS_flare/HESS_public/dataset-simulated-2.154434690031884-hr.fits.gz\n",
      "CPU times: user 6.38 s, sys: 187 ms, total: 6.56 s\n",
      "Wall time: 6.71 s\n"
     ]
    }
   ],
   "source": [
    "%%time\n",
    "dataset_input  = Dataset_load.create_asimov(model = c['model'], source = c['source'], \n",
    "                                               livetime = f\"{livetime}-hr\",\n",
    "                                        parameters = None)\n"
   ]
  },
  {
   "cell_type": "markdown",
   "id": "2e0399d4",
   "metadata": {},
   "source": [
    "## Datasets"
   ]
  },
  {
   "cell_type": "code",
   "execution_count": 6,
   "id": "b24b18ac-af52-48ac-bd1e-f03d21457fe4",
   "metadata": {},
   "outputs": [],
   "source": [
    "    \n",
    "setup = Setup(dataset_input=dataset_input)\n",
    "#setup.set_up_irf_sys(bias, resolution, norm, tilt)\n",
    "dataset_asimov, dataset_asimov_N = setup.run()\n",
    "# irf model\n",
    "setup.set_irf_model(dataset_asimov_N)\n",
    "if sys == \"Eff_area\":\n",
    "    dataset_asimov_N.models.parameters['resolution'].frozen = True\n",
    "    dataset_asimov_N.irf_model.parameters['tilt'].frozen = False\n",
    "    dataset_asimov_N.irf_model.parameters['bias'].frozen = True\n",
    "    setup.set_irf_prior(dataset_asimov_N, bias, resolution, norm, tilt)\n",
    "    \n",
    "if sys == \"E_reco\":\n",
    "    dataset_asimov_N.models.parameters['resolution'].frozen = True\n",
    "    dataset_asimov_N.irf_model.parameters['tilt'].frozen = True\n",
    "    dataset_asimov_N.irf_model.parameters['bias'].frozen = False\n",
    "    dataset_asimov_N.irf_model.parameters['bias'].frozen = True\n",
    "    setup.set_irf_prior(dataset_asimov_N, bias, resolution, norm, tilt)\n"
   ]
  },
  {
   "cell_type": "markdown",
   "id": "ec637604-dbf7-4501-9012-2bf4c302d233",
   "metadata": {},
   "source": [
    "## Minos"
   ]
  },
  {
   "cell_type": "code",
   "execution_count": 12,
   "id": "f6589e22-4b65-4ef2-a364-0fa01a829dad",
   "metadata": {},
   "outputs": [],
   "source": [
    "def computing_scan(dataset, note):\n",
    "        \n",
    "    fit_cor = Fit(store_trace=False)\n",
    "    result_cor = fit_cor.run(dataset)\n",
    "    print(dataset_asimov.models)\n",
    "    \n",
    "    results = []\n",
    "    for parname1 in parameter_names_1 :\n",
    "        if parname1 == 'index':\n",
    "            print( parname1)\n",
    "            dataset.models.parameters[parname1].scan_n_values=numpoints\n",
    "            result = fit_cor.stat_profile(dataset,\n",
    "                                 dataset.models.parameters[parname1],\n",
    "                                reoptimize = True\n",
    "                                )\n",
    "\n",
    "            contour_write = dict()\n",
    "            for k in result.keys():\n",
    "                print(k)\n",
    "                if k != \"fit_results\":\n",
    "                    contour_write[k] = [float(_) for _ in result[k]]#.tolist()\n",
    "            print(contour_write)\n",
    "            with open(f\"../{c['folder']}/data/4_scan_{note}_{parname1}_{numpoints}.yml\", \"w\") as outfile:\n",
    "                yaml.dump(contour_write, outfile, default_flow_style=False)\n",
    "\n",
    "            results.append(result)\n",
    "    return results\n",
    "        \n",
    "def read_in_scan(note):\n",
    "    results = []\n",
    "    for parname1 in parameter_names_1 :\n",
    "        with open(f\"../{c['folder']}/data/4_scan_{note}_{parname1}_{numpoints}.yml\", \"r\") as stream:\n",
    "            contour = yaml.safe_load(stream)\n",
    "        results.append(contour)\n",
    "    return results"
   ]
  },
  {
   "cell_type": "code",
   "execution_count": 8,
   "id": "e2201840-6c23-471d-b286-7152982bbb66",
   "metadata": {},
   "outputs": [
    {
     "name": "stdout",
     "output_type": "stream",
     "text": [
      "SkyModel\n",
      "\n",
      "  Name                      : Crablog\n",
      "  Datasets names            : None\n",
      "  Spectral model type       : ExpCutoffPowerLawSpectralModel\n",
      "  Spatial  model type       : PointSpatialModel\n",
      "  Temporal model type       : \n",
      "  Parameters:\n",
      "    index                         :      2.300   +/-    0.09             \n",
      "    amplitude                     :   3.85e-11   +/- 2.5e-12 1 / (cm2 s TeV)\n",
      "    reference             (frozen):      1.000       TeV         \n",
      "    lambda_                       :      0.100   +/-    0.04 1 / TeV     \n",
      "    alpha                 (frozen):      1.000                   \n",
      "    lon_0                         :    329.680   +/-    0.00 deg         \n",
      "    lat_0                         :    -30.222   +/-    0.00 deg         \n",
      "\n",
      "\n",
      "amplitude\n",
      "Crablog.spectral.amplitude_scan\n",
      "stat_scan\n",
      "fit_results\n",
      "{'Crablog.spectral.amplitude_scan': [3.349899930267296e-11, 3.448572210430134e-11, 3.5501509114040895e-11, 3.6547216426624606e-11, 3.7623725353305164e-11, 3.8731943164615956e-11, 3.9872803855008186e-11, 4.1047268930012775e-11, 4.225632821658611e-11, 4.3501000697327086e-11], 'stat_scan': [89289.19275300676, 89287.21625867598, 89285.76749516695, 89284.80214363294, 89284.27760242595, 89284.15361719338, 89284.39256729433, 89284.95954870332, 89285.82236062233, 89286.95142078778]}\n",
      "CPU times: user 1min 9s, sys: 23.6 s, total: 1min 33s\n",
      "Wall time: 1min 33s\n"
     ]
    }
   ],
   "source": [
    "%%time\n",
    "numpoints = 10\n",
    "computing = 1\n",
    "if computing:\n",
    "    results = computing_scan(dataset_asimov, \"2.15h\")\n",
    "else:\n",
    "    results = read_in_scan(\"2.15h\")\n",
    "    path = f'../{folder}/data/0_model_livetime_{livetime}.yml'\n",
    "    dataset_asimov.models = Models.read(path)\n",
    "    \n"
   ]
  },
  {
   "cell_type": "code",
   "execution_count": 9,
   "id": "2a09d6e7-599d-4612-b80e-23d72f04ea98",
   "metadata": {},
   "outputs": [
    {
     "name": "stdout",
     "output_type": "stream",
     "text": [
      "SkyModel\n",
      "\n",
      "  Name                      : Crablog\n",
      "  Datasets names            : None\n",
      "  Spectral model type       : ExpCutoffPowerLawSpectralModel\n",
      "  Spatial  model type       : PointSpatialModel\n",
      "  Temporal model type       : \n",
      "  Parameters:\n",
      "    index                         :      2.300   +/-    0.09             \n",
      "    amplitude                     :   3.85e-11   +/- 2.5e-12 1 / (cm2 s TeV)\n",
      "    reference             (frozen):      1.000       TeV         \n",
      "    lambda_                       :      0.100   +/-    0.04 1 / TeV     \n",
      "    alpha                 (frozen):      1.000                   \n",
      "    lon_0                         :    329.680   +/-    0.00 deg         \n",
      "    lat_0                         :    -30.222   +/-    0.00 deg         \n",
      "\n",
      "\n",
      "amplitude\n",
      "Crablog.spectral.amplitude_scan\n",
      "stat_scan\n",
      "fit_results\n",
      "{'Crablog.spectral.amplitude_scan': [2.926391206513521e-11, 3.739956810264196e-11, 4.7797016719804416e-11], 'stat_scan': [89290.24588191135, 89284.21236863393, 89286.95282296019]}\n",
      "CPU times: user 15min 31s, sys: 19min 2s, total: 34min 33s\n",
      "Wall time: 10min 42s\n"
     ]
    }
   ],
   "source": [
    "%%time\n",
    "computing = 1\n",
    "numpoints = 3\n",
    "\n",
    "if computing:\n",
    "    results_N = computing_scan(dataset_asimov_N, \"N_2.15h\")\n",
    "else:\n",
    "    results_N = read_in_scan(\"N_2.15h\")\n",
    "    path = f'../{folder}/data/0_model_nui_livetime_{livetime}.yml'\n",
    "    dataset_asimov_N = Dataset_load.load_dataset_N(dataset_asimov_N, path,bkg_sys = False)        \n"
   ]
  },
  {
   "cell_type": "code",
   "execution_count": 10,
   "id": "05969741",
   "metadata": {},
   "outputs": [
    {
     "name": "stdout",
     "output_type": "stream",
     "text": [
      "index\n"
     ]
    },
    {
     "ename": "KeyError",
     "evalue": "'Crablog.spectral.index_scan'",
     "output_type": "error",
     "traceback": [
      "\u001b[0;31m---------------------------------------------------------------------------\u001b[0m",
      "\u001b[0;31mKeyError\u001b[0m                                  Traceback (most recent call last)",
      "Cell \u001b[0;32mIn[10], line 11\u001b[0m\n\u001b[1;32m      8\u001b[0m ll_N_a \u001b[38;5;241m=\u001b[39m stat_profile_N\u001b[38;5;241m.\u001b[39mcopy()\n\u001b[1;32m      9\u001b[0m ul_N_a \u001b[38;5;241m=\u001b[39m upper_limit_18_02\u001b[38;5;241m.\u001b[39mupper_limit(ll_N_a,\u001b[38;5;241m0\u001b[39m,\u001b[38;5;241m0\u001b[39m, \n\u001b[1;32m     10\u001b[0m                                        name\u001b[38;5;241m=\u001b[39m\u001b[38;5;124mf\u001b[39m\u001b[38;5;124m'\u001b[39m\u001b[38;5;132;01m{\u001b[39;00mdataset_asimov\u001b[38;5;241m.\u001b[39mmodels[\u001b[38;5;241m0\u001b[39m]\u001b[38;5;241m.\u001b[39mname\u001b[38;5;132;01m}\u001b[39;00m\u001b[38;5;124m.spectral.\u001b[39m\u001b[38;5;132;01m{\u001b[39;00mp\u001b[38;5;132;01m}\u001b[39;00m\u001b[38;5;124m_scan\u001b[39m\u001b[38;5;124m'\u001b[39m)\n\u001b[0;32m---> 11\u001b[0m L_N_a, x_N_a \u001b[38;5;241m=\u001b[39m \u001b[43mul_N_a\u001b[49m\u001b[38;5;241;43m.\u001b[39;49m\u001b[43minterpolate\u001b[49m\u001b[43m(\u001b[49m\u001b[43m)\u001b[49m\n\u001b[1;32m     12\u001b[0m plt\u001b[38;5;241m.\u001b[39mplot(x_N_a, L_N_a(x_N_a),label \u001b[38;5;241m=\u001b[39m \u001b[38;5;124m\"\u001b[39m\u001b[38;5;124mNuisance\u001b[39m\u001b[38;5;124m\"\u001b[39m, color \u001b[38;5;241m=\u001b[39m aw[\u001b[38;5;241m0\u001b[39m])\n\u001b[1;32m     15\u001b[0m ll_a \u001b[38;5;241m=\u001b[39m stat_profile\u001b[38;5;241m.\u001b[39mcopy()\n",
      "File \u001b[0;32m/home/wecapstor1/caph/mppi045h/nuisance_summary/Analysis/../upper_limit_18_02.py:37\u001b[0m, in \u001b[0;36mupper_limit.interpolate\u001b[0;34m(self)\u001b[0m\n\u001b[1;32m     35\u001b[0m \u001b[38;5;28;01mdef\u001b[39;00m \u001b[38;5;21minterpolate\u001b[39m(\u001b[38;5;28mself\u001b[39m):\n\u001b[1;32m     36\u001b[0m     xnew \u001b[38;5;241m=\u001b[39m np\u001b[38;5;241m.\u001b[39mlinspace(\n\u001b[0;32m---> 37\u001b[0m         \u001b[38;5;28;43mself\u001b[39;49m\u001b[38;5;241;43m.\u001b[39;49m\u001b[43mlikelihood\u001b[49m\u001b[43m[\u001b[49m\u001b[38;5;28;43mself\u001b[39;49m\u001b[38;5;241;43m.\u001b[39;49m\u001b[43mname\u001b[49m\u001b[43m]\u001b[49m[\u001b[38;5;241m0\u001b[39m], \u001b[38;5;28mself\u001b[39m\u001b[38;5;241m.\u001b[39mlikelihood[\u001b[38;5;28mself\u001b[39m\u001b[38;5;241m.\u001b[39mname][\u001b[38;5;241m-\u001b[39m\u001b[38;5;241m1\u001b[39m], \u001b[38;5;241m3000\u001b[39m\n\u001b[1;32m     38\u001b[0m     )\n\u001b[1;32m     39\u001b[0m     f \u001b[38;5;241m=\u001b[39m interp1d(\n\u001b[1;32m     40\u001b[0m         \u001b[38;5;28mself\u001b[39m\u001b[38;5;241m.\u001b[39mlikelihood[\u001b[38;5;28mself\u001b[39m\u001b[38;5;241m.\u001b[39mname], \u001b[38;5;28mself\u001b[39m\u001b[38;5;241m.\u001b[39mlikelihood[\u001b[38;5;124m\"\u001b[39m\u001b[38;5;124mstat_scan\u001b[39m\u001b[38;5;124m\"\u001b[39m], kind\u001b[38;5;241m=\u001b[39m\u001b[38;5;124m\"\u001b[39m\u001b[38;5;124mcubic\u001b[39m\u001b[38;5;124m\"\u001b[39m\n\u001b[1;32m     41\u001b[0m     )\n\u001b[1;32m     42\u001b[0m     \u001b[38;5;28;01mreturn\u001b[39;00m f, xnew\n",
      "\u001b[0;31mKeyError\u001b[0m: 'Crablog.spectral.index_scan'"
     ]
    },
    {
     "data": {
      "text/plain": [
       "<Figure size 640x480 with 0 Axes>"
      ]
     },
     "metadata": {},
     "output_type": "display_data"
    }
   ],
   "source": [
    "import upper_limit_18_02\n",
    "for i, p in enumerate(parameter_names_1):\n",
    "    print(p)\n",
    "    stat_profile_N = results_N[i]\n",
    "    stat_profile = results[i]\n",
    "\n",
    "    fig = plt.figure()\n",
    "    ll_N_a = stat_profile_N.copy()\n",
    "    ul_N_a = upper_limit_18_02.upper_limit(ll_N_a,0,0, \n",
    "                                           name=f'{dataset_asimov.models[0].name}.spectral.{p}_scan')\n",
    "    L_N_a, x_N_a = ul_N_a.interpolate()\n",
    "    plt.plot(x_N_a, L_N_a(x_N_a),label = \"Nuisance\", color = aw[0])\n",
    "\n",
    "\n",
    "    ll_a = stat_profile.copy()\n",
    "    ul_a = upper_limit_18_02.upper_limit(ll_a,0,0,  name=f'{dataset_asimov.models[0].name}.spectral.{p}_scan')\n",
    "    L_a, x_a = ul_a.interpolate()\n",
    "    plt.plot(x_a, L_a(x_a),label = \"standard\", linestyle = 'dashed', color = awo[0])\n",
    "\n",
    "    amplitude_err = dataset_asimov.models[0].parameters[p].error\n",
    "    amplitude = dataset_asimov.models[0].parameters[p].value\n",
    "    amplitude_err_N = dataset_asimov_N.models[0].parameters[p].error\n",
    "    amplitude_N = dataset_asimov_N.models[0].parameters[p].value\n",
    "\n",
    "\n",
    "\n",
    "    min_, er_neg, er_pos = ul_N_a.likelihood_error_asymmetric()\n",
    "    min_ = min_[0]; er_neg = er_neg[0]; er_pos = er_pos[0]; \n",
    "    dataset_asimov_N.models.parameters[p].error_n = er_neg\n",
    "    dataset_asimov_N.models.parameters[p].error_p = er_pos\n",
    "    \n",
    "    \n",
    "    ax = plt.gca()\n",
    "    ylim= ax.get_ylim()\n",
    "    ax.fill_between(  [min_-er_neg, min_+ er_pos], ylim[0], ylim[1], alpha = 0.2, color = aw[1],\n",
    "                    label = f'1$\\sigma$ error = -{er_neg:.2} +{er_pos:.2} \\n({amplitude_err_N:.2})')\n",
    "    ax.vlines(amplitude_N-amplitude_err_N, ylim[0], ylim[1],color = aw[0] )\n",
    "    ax.vlines(amplitude_N+amplitude_err_N, ylim[0], ylim[1],color = aw[0] )\n",
    "    \n",
    "    ax.vlines(amplitude-amplitude_err, ylim[0], ylim[1], color = awo[0], linestyle ='dashed')\n",
    "    ax.vlines(amplitude+amplitude_err, ylim[0], ylim[1], color = awo[0], linestyle ='dashed')\n",
    "    \n",
    "    min_, er_neg, er_pos = ul_a.likelihood_error_asymmetric()\n",
    "    min_ = min_[0]; er_neg = er_neg[0]; er_pos = er_pos[0]; \n",
    "    dataset_asimov.models.parameters[p].error_n = er_neg\n",
    "    dataset_asimov.models.parameters[p].error_p = er_pos\n",
    "    \n",
    "    ax.fill_between(  [min_-er_neg, min_+ er_pos], ylim[0], ylim[1],  alpha = 0.2, color=awo[1],\n",
    "                    label = f'1$\\sigma$ error = -{er_neg:.2} +{er_pos:.2} \\n({amplitude_err:.2})')\n",
    "\n",
    "    plt.xlabel(f\"Source {p} \")\n",
    "    plt.ylabel(\"-2log (L) [arb. unit]\")\n",
    "    plt.legend()\n",
    "\n",
    "    fig.savefig(f\"../{c['folder']}/plots/4_scan_{p}.pdf\")"
   ]
  },
  {
   "cell_type": "code",
   "execution_count": null,
   "id": "3346f536",
   "metadata": {},
   "outputs": [],
   "source": [
    "path = f'../{folder}/data/0_model_nui_livetime_{livetime}_np.yml'\n",
    "dataset_asimov_N.models.write(path, overwrite = 1)\n",
    "\n",
    "path = f'../{folder}/data/0_model_livetime_{livetime}_np.yml'\n",
    "dataset_asimov.models.write(path, overwrite = 1)"
   ]
  },
  {
   "cell_type": "code",
   "execution_count": null,
   "id": "55b292b6",
   "metadata": {},
   "outputs": [],
   "source": []
  },
  {
   "cell_type": "code",
   "execution_count": null,
   "id": "49e35b9f",
   "metadata": {},
   "outputs": [],
   "source": []
  }
 ],
 "metadata": {
  "kernelspec": {
   "display_name": "Python 3 (ipykernel)",
   "language": "python",
   "name": "python3"
  },
  "language_info": {
   "codemirror_mode": {
    "name": "ipython",
    "version": 3
   },
   "file_extension": ".py",
   "mimetype": "text/x-python",
   "name": "python",
   "nbconvert_exporter": "python",
   "pygments_lexer": "ipython3",
   "version": "3.8.16"
  },
  "varInspector": {
   "cols": {
    "lenName": 16,
    "lenType": 16,
    "lenVar": 40
   },
   "kernels_config": {
    "python": {
     "delete_cmd_postfix": "",
     "delete_cmd_prefix": "del ",
     "library": "var_list.py",
     "varRefreshCmd": "print(var_dic_list())"
    },
    "r": {
     "delete_cmd_postfix": ") ",
     "delete_cmd_prefix": "rm(",
     "library": "var_list.r",
     "varRefreshCmd": "cat(var_dic_list()) "
    }
   },
   "types_to_exclude": [
    "module",
    "function",
    "builtin_function_or_method",
    "instance",
    "_Feature"
   ],
   "window_display": false
  }
 },
 "nbformat": 4,
 "nbformat_minor": 5
}
