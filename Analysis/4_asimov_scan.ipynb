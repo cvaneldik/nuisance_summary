{
 "cells": [
  {
   "cell_type": "markdown",
   "id": "e7853a11",
   "metadata": {},
   "source": [
    "## Runnning with gammapy-dev/IRF_model\n",
    "Fitting asimov datasets with nuisance parameters based on the different livetimes"
   ]
  },
  {
   "cell_type": "markdown",
   "id": "0e04af29",
   "metadata": {},
   "source": [
    "### Setup"
   ]
  },
  {
   "cell_type": "code",
   "execution_count": 1,
   "id": "27bf135a-5ee4-4ca1-8549-6bf07929003c",
   "metadata": {},
   "outputs": [],
   "source": [
    "import matplotlib.pyplot as plt\n",
    "import numpy as np\n",
    "import astropy.units as u\n",
    "from gammapy.maps import Map\n",
    "from astropy.coordinates import SkyCoord, Angle\n",
    "from gammapy.modeling import Fit,  Parameters, Covariance , Parameter\n",
    "from gammapy.datasets import MapDataset ,Datasets, FluxPointsDataset\n",
    "from gammapy.modeling.models import (\n",
    "    PowerLawSpectralModel,\n",
    "    SkyModel,\n",
    "    PointSpatialModel,\n",
    "    PowerLawNormSpectralModel,\n",
    "    Models,\n",
    "    SpatialModel,\n",
    "    FoVBackgroundModel,\n",
    "    PiecewiseNormSpectralModel,\n",
    ")\n",
    "from gammapy.estimators import TSMapEstimator, ExcessMapEstimator\n",
    "from gammapy.estimators import FluxPoints, FluxPointsEstimator\n",
    "from scipy.interpolate import interp2d\n",
    "\n",
    "from regions import CircleSkyRegion, RectangleSkyRegion\n",
    "import yaml\n",
    "import sys\n",
    "sys.path.append('../')\n",
    "import Dataset_load \n",
    "\n",
    "from  Dataset_Setup import Setup, GaussianCovariance_matrix"
   ]
  },
  {
   "cell_type": "code",
   "execution_count": 2,
   "id": "815c93a2-a7a6-4592-8b29-3fb8289b3846",
   "metadata": {},
   "outputs": [],
   "source": [
    "from matplotlib import rc\n",
    "\n",
    "rc(\"font\", **{\"family\": \"serif\", \"serif\": [\"Computer Modern\"]})\n",
    "rc(\"text\", usetex=True)"
   ]
  },
  {
   "cell_type": "markdown",
   "id": "5de988df",
   "metadata": {
    "tags": []
   },
   "source": [
    "## Read dataset"
   ]
  },
  {
   "cell_type": "code",
   "execution_count": 3,
   "id": "0eeeaf75",
   "metadata": {},
   "outputs": [],
   "source": [
    "c = Dataset_load.load_config()\n",
    "awo, aw, ewo, ew = c['_colors']  "
   ]
  },
  {
   "cell_type": "code",
   "execution_count": 4,
   "id": "e0c45f4e-6432-405e-86b7-649e254c0950",
   "metadata": {},
   "outputs": [
    {
     "name": "stdout",
     "output_type": "stream",
     "text": [
      "Combined\n"
     ]
    }
   ],
   "source": [
    "livetime = c['livetime']\n",
    "zero = c['zero'] \n",
    "norm = c['norm'] \n",
    "tilt = c['tilt'] \n",
    "bias = c['bias'] \n",
    "resolution = c['resolution'] \n",
    "magnitude = c['magnitude'] \n",
    "corrlength = c['corrlength']\n",
    "sys = c['sys'] \n",
    "folder = c['folder']\n",
    "parameter_names = c['parameter_names']        \n",
    "nbidx = 0\n",
    "print(sys)"
   ]
  },
  {
   "cell_type": "code",
   "execution_count": 5,
   "id": "8b828754",
   "metadata": {},
   "outputs": [
    {
     "name": "stdout",
     "output_type": "stream",
     "text": [
      "lambda_\n",
      "amplitude\n",
      "index\n"
     ]
    }
   ],
   "source": [
    "parameter_names_1  = set(list(np.array(parameter_names).ravel()))\n",
    "for p in parameter_names_1:\n",
    "    print(p)"
   ]
  },
  {
   "cell_type": "code",
   "execution_count": 6,
   "id": "f94dc89c",
   "metadata": {},
   "outputs": [
    {
     "name": "stdout",
     "output_type": "stream",
     "text": [
      "loaded dataset:\n",
      "/home/wecapstor1/caph/mppi045h/nuisance_summary/PKS_flare/HESS_public/dataset-simulated-2.154434690031884-hr.fits.gz\n",
      "CPU times: user 6.3 s, sys: 194 ms, total: 6.49 s\n",
      "Wall time: 6.54 s\n"
     ]
    }
   ],
   "source": [
    "%%time\n",
    "dataset_input  = Dataset_load.create_asimov(model = c['model'], source = c['source'], \n",
    "                                               livetime = f\"{livetime}-hr\",\n",
    "                                        parameters = None)\n"
   ]
  },
  {
   "cell_type": "markdown",
   "id": "2e0399d4",
   "metadata": {},
   "source": [
    "## Datasets"
   ]
  },
  {
   "cell_type": "code",
   "execution_count": 7,
   "id": "b24b18ac-af52-48ac-bd1e-f03d21457fe4",
   "metadata": {},
   "outputs": [],
   "source": [
    "    \n",
    "setup = Setup(dataset_input=dataset_input)\n",
    "#setup.set_up_irf_sys(bias, resolution, norm, tilt)\n",
    "dataset_asimov, dataset_asimov_N = setup.run()\n",
    "# irf model\n",
    "setup.set_irf_model(dataset_asimov_N)\n",
    "if sys == \"Eff_area\":\n",
    "    dataset_asimov_N.models.parameters['resolution'].frozen = True\n",
    "    dataset_asimov_N.irf_model.parameters['tilt'].frozen = False\n",
    "    dataset_asimov_N.irf_model.parameters['bias'].frozen = True\n",
    "    setup.set_irf_prior(dataset_asimov_N, bias, resolution, norm, tilt)\n",
    "    e_reco_n = 10\n",
    "    \n",
    "if sys == \"E_reco\":\n",
    "    dataset_asimov_N.models.parameters['resolution'].frozen = True\n",
    "    dataset_asimov_N.irf_model.parameters['tilt'].frozen = True\n",
    "    dataset_asimov_N.irf_model.parameters['bias'].frozen = False\n",
    "    dataset_asimov_N.irf_model.parameters['norm'].frozen = True\n",
    "    setup.set_irf_prior(dataset_asimov_N, bias, resolution, norm, tilt)\n",
    "    e_reco_n = 2000\n",
    "    \n",
    "    \n",
    "if sys == \"Combined\":\n",
    "    dataset_asimov_N.models.parameters['resolution'].frozen = True\n",
    "    dataset_asimov_N.irf_model.parameters['tilt'].frozen = False\n",
    "    dataset_asimov_N.irf_model.parameters['bias'].frozen = False\n",
    "    dataset_asimov_N.irf_model.parameters['norm'].frozen = False\n",
    "    setup.set_irf_prior(dataset_asimov_N, bias, resolution, norm, tilt)\n",
    "    e_reco_n = 2000\n",
    "\n",
    "    \n",
    "if sys == \"BKG\":\n",
    "        \n",
    "    # piece wise model\n",
    "    # remove old bkg model\n",
    "    setup.set_up_bkg_sys_V( breake = 10,\n",
    "                        index1 = 2,\n",
    "                        index2 = 1.5, \n",
    "                        magnitude = magnitude )\n",
    "\n",
    "    dataset_asimov, dataset_asimov_N = setup.run()\n",
    "\n",
    "    setup.unset_model(dataset_asimov_N, FoVBackgroundModel)\n",
    "    setup.set_piecewise_bkg_model(dataset_asimov_N)\n",
    "    # energy of the following parameters smaller than ethrshold\n",
    "    dataset_asimov_N.background_model.parameters['norm0'].frozen = True\n",
    "    dataset_asimov_N.background_model.parameters['norm1'].frozen = True\n",
    "    dataset_asimov_N.background_model.parameters['norm2'].frozen = True\n",
    "    dataset_asimov_N.background_model.parameters['norm3'].frozen = True\n",
    "    setup.set_bkg_prior(dataset_asimov_N, magnitude, corrlength)\n",
    "    frozen_pos = 1\n",
    "    if frozen_pos:\n",
    "        dataset_asimov.models.parameters['lon_0'].frozen = True\n",
    "        dataset_asimov.models.parameters['lat_0'].frozen = True\n",
    "        dataset_asimov_N.models.parameters['lon_0'].frozen = True\n",
    "        dataset_asimov_N.models.parameters['lat_0'].frozen = True\n",
    "\n"
   ]
  },
  {
   "cell_type": "markdown",
   "id": "ec637604-dbf7-4501-9012-2bf4c302d233",
   "metadata": {},
   "source": [
    "## Minos"
   ]
  },
  {
   "cell_type": "code",
   "execution_count": 8,
   "id": "f6589e22-4b65-4ef2-a364-0fa01a829dad",
   "metadata": {},
   "outputs": [],
   "source": [
    "def computing_scan(dataset, note):\n",
    "        \n",
    "    fit_cor = Fit(store_trace=False)\n",
    "    result_cor = fit_cor.run(dataset)\n",
    "    print(dataset_asimov.models)\n",
    "    \n",
    "    results = []\n",
    "    for parname1 in parameter_names_1 :\n",
    "        if parname1 == 'lambda_':\n",
    "            print(\"scanning\",  parname1)\n",
    "            dataset.models.parameters[parname1].scan_n_values=numpoints\n",
    "            result = fit_cor.stat_profile(dataset,\n",
    "                                 dataset.models.parameters[parname1],\n",
    "                                reoptimize = True\n",
    "                                )\n",
    "\n",
    "            contour_write = dict()\n",
    "            for k in result.keys():\n",
    "                print(k)\n",
    "                if k != \"fit_results\":\n",
    "                    contour_write[k] = [float(_) for _ in result[k]]#.tolist()\n",
    "            print(contour_write)\n",
    "            with open(f\"../{c['folder']}/data/4_scan_{note}_{parname1}_{numpoints}.yml\", \"w\") as outfile:\n",
    "                yaml.dump(contour_write, outfile, default_flow_style=False)\n",
    "\n",
    "            results.append(result)\n",
    "    return results\n",
    "        \n",
    "def read_in_scan(note):\n",
    "    results = []\n",
    "    for parname1 in parameter_names_1 :\n",
    "        try:\n",
    "            with open(f\"../{c['folder']}/data/4_scan_{note}_{parname1}_{numpoints}.yml\", \"r\") as stream:\n",
    "                contour = yaml.safe_load(stream)\n",
    "        except:\n",
    "            with open(f\"../{c['folder']}/data/4_scan_{note}_{parname1}.yml\", \"r\") as stream:\n",
    "                contour = yaml.safe_load(stream)\n",
    "        results.append(contour)\n",
    "    return results\n"
   ]
  },
  {
   "cell_type": "code",
   "execution_count": 9,
   "id": "e2201840-6c23-471d-b286-7152982bbb66",
   "metadata": {},
   "outputs": [
    {
     "name": "stdout",
     "output_type": "stream",
     "text": [
      "CPU times: user 26.6 ms, sys: 1.88 ms, total: 28.5 ms\n",
      "Wall time: 30.2 ms\n"
     ]
    }
   ],
   "source": [
    "%%time\n",
    "numpoints = 20\n",
    "computing = 0\n",
    "if computing:\n",
    "    results = computing_scan(dataset_asimov, \"2.15h\")\n",
    "else:\n",
    "    results = read_in_scan(\"2.15h\")\n",
    "    path = f'../{folder}/data/0_model_livetime_{livetime}.yml'\n",
    "    dataset_asimov.models = Models.read(path)\n",
    "    \n"
   ]
  },
  {
   "cell_type": "code",
   "execution_count": 10,
   "id": "2a09d6e7-599d-4612-b80e-23d72f04ea98",
   "metadata": {},
   "outputs": [
    {
     "name": "stdout",
     "output_type": "stream",
     "text": [
      "[{'Crablog.spectral.lambda__scan': [0.016014809780389064, 0.024817232724082455, 0.03361965566777585, 0.04242207861146924, 0.05122450155516263, 0.06002692449885602, 0.06882934744254941, 0.0776317703862428, 0.0864341933299362, 0.09523661627362959, 0.10403903921732298, 0.11284146216101637, 0.12164388510470976, 0.13044630804840315, 0.13924873099209656, 0.14805115393578994, 0.15685357687948331, 0.1656559998231767, 0.17445842276687012, 0.1832608457105635], 'stat_scan': [89289.20872210148, 89288.04816837676, 89287.05934225359, 89286.25993225604, 89285.6287505682, 89285.10794989359, 89284.72632132232, 89284.43367569192, 89284.2552942794, 89284.16253531686, 89284.15695531575, 89284.239878213, 89284.38793291745, 89284.60064581774, 89284.87959035776, 89285.22548799349, 89285.5943916289, 89286.02572550831, 89286.50644053651, 89287.01578036214]}, {'Crablog.spectral.amplitude_scan': [2.9099252667032012e-11, 2.9872727876142234e-11, 3.066676251012672e-11, 3.148190305056154e-11, 3.2318710504823374e-11, 3.3177760792194234e-11, 3.405964514022843e-11, 3.4964970491655923e-11, 3.589435992210018e-11, 3.684845306890043e-11, 3.7827906571331536e-11, 3.883339452252595e-11, 3.9865608933406706e-11, 4.09252602089533e-11, 4.201307763712627e-11, 4.3129809890788466e-11, 4.427622554296626e-11, 4.545311359580814e-11, 4.666128402360248e-11, 4.7901568330229957e-11], 'stat_scan': [89290.1990024539, 89289.04548546724, 89288.04306000419, 89287.16218447084, 89286.39600561585, 89285.7617314395, 89285.22581875471, 89284.81452518204, 89284.49921312791, 89284.2879195775, 89284.18221204098, 89284.15506258629, 89284.22370104198, 89284.38385978443, 89284.62977179425, 89284.92938341321, 89285.31965395152, 89285.77445036973, 89286.30527458317, 89286.88976379986]}, {'Crablog.spectral.index_scan': [1.9362763815725197, 1.9746532978642557, 2.0130302141559917, 2.0514071304477275, 2.0897840467394637, 2.1281609630311995, 2.1665378793229353, 2.2049147956146715, 2.2432917119064073, 2.281668628198143, 2.3200455444898793, 2.358422460781615, 2.396799377073351, 2.435176293365087, 2.473553209656823, 2.5119301259485587, 2.550307042240295, 2.588683958532031, 2.627060874823767, 2.6654377911155027], 'stat_scan': [89291.0263282768, 89289.79608519761, 89288.65635883415, 89287.62958332086, 89286.69901240742, 89285.90249980254, 89285.2343319888, 89284.71248950947, 89284.35467328245, 89284.17448262364, 89284.16931611764, 89284.34292898746, 89284.56090783257, 89285.0552624928, 89285.50342483154, 89286.19268154269, 89287.06916694743, 89288.0927714779, 89289.4262025974, 89290.78705223656]}]\n",
      "CPU times: user 161 ms, sys: 63 ms, total: 224 ms\n",
      "Wall time: 228 ms\n"
     ]
    }
   ],
   "source": [
    "%%time\n",
    "computing = 0\n",
    "numpoints = 20\n",
    "\n",
    "if computing:\n",
    "    dataset_asimov_N.models.parameters['lon_0'].frozen = True\n",
    "    dataset_asimov_N.models.parameters['lat_0'].frozen = True\n",
    "    \n",
    "    results_N = computing_scan(dataset_asimov_N, \"N_2.15h\")\n",
    "else:\n",
    "    results_N = read_in_scan(\"N_2.15h\")\n",
    "    path = f'../{folder}/data/0_model_nui_livetime_{livetime}.yml'\n",
    "    dataset_asimov_N = Dataset_load.load_dataset_N(dataset_asimov_N, path,bkg_sys = False)        \n",
    "print(results_N)"
   ]
  },
  {
   "cell_type": "code",
   "execution_count": 11,
   "id": "97a4a482-8669-4254-9ea0-6acadb37fab4",
   "metadata": {},
   "outputs": [
    {
     "data": {
      "text/plain": [
       "[0.12156862745098039, 0.47058823529411764, 0.7058823529411765]"
      ]
     },
     "execution_count": 11,
     "metadata": {},
     "output_type": "execute_result"
    }
   ],
   "source": [
    "import colors as s\n",
    "s.blue"
   ]
  },
  {
   "cell_type": "code",
   "execution_count": null,
   "id": "eb63b561-fad7-4ad2-a195-6a5232590e81",
   "metadata": {},
   "outputs": [
    {
     "name": "stdout",
     "output_type": "stream",
     "text": [
      "lambda_\n",
      "{'Crablog.spectral.lambda__scan': [0.016014809780389064, 0.024817232724082455, 0.03361965566777585, 0.04242207861146924, 0.05122450155516263, 0.06002692449885602, 0.06882934744254941, 0.0776317703862428, 0.0864341933299362, 0.09523661627362959, 0.10403903921732298, 0.11284146216101637, 0.12164388510470976, 0.13044630804840315, 0.13924873099209656, 0.14805115393578994, 0.15685357687948331, 0.1656559998231767, 0.17445842276687012, 0.1832608457105635], 'stat_scan': array([5.05176679, 3.89121306, 2.90238694, 2.10297694, 1.47179525,\n",
      "       0.95099458, 0.56936601, 0.27672038, 0.09833896, 0.00558   ,\n",
      "       0.        , 0.0829229 , 0.2309776 , 0.4436905 , 0.72263504,\n",
      "       1.06853268, 1.43743631, 1.86877019, 2.34948522, 2.85882505])}\n"
     ]
    }
   ],
   "source": [
    "import upper_limit_18_02\n",
    "\n",
    "colors_ = [s.blue, s.orange,\n",
    "          s.lblue, s.lorange]\n",
    "\n",
    "colors_ = [awo[0] , aw[0],\n",
    "           awo[1] , aw[1]]\n",
    "\n",
    "for i, p in enumerate(parameter_names_1):\n",
    "    #if p == 'index':\n",
    "    if True:\n",
    "        print(p)\n",
    "        stat_profile_N = results_N[i]\n",
    "        print(stat_profile_N)\n",
    "        stat_profile = results[i]\n",
    "\n",
    "        stat_profile_N['stat_scan'] -= np.min(stat_profile_N['stat_scan'])\n",
    "        stat_profile['stat_scan'] -= np.min(stat_profile['stat_scan'])\n",
    "\n",
    "        fig = plt.figure()\n",
    "        ll_N_a = stat_profile_N.copy()\n",
    "        case = 'spectral'\n",
    "        if p == 'sigma':\n",
    "            case = 'spatial'\n",
    "            \n",
    "        amplitude_err = dataset_asimov.models[0].parameters[p].error\n",
    "        amplitude = dataset_asimov.models[0].parameters[p].value\n",
    "        amplitude_err_N = dataset_asimov_N.models[0].parameters[p].error\n",
    "        amplitude_N = dataset_asimov_N.models[0].parameters[p].value\n",
    "\n",
    "        fig, ax = plt.subplots(1,1)\n",
    "            \n",
    "        ### LIKELIHOOD\n",
    "        # scan\n",
    "        ll_a = stat_profile.copy()\n",
    "        ul_a = upper_limit_18_02.upper_limit(ll_a,0,0,  name=f'{dataset_asimov.models[0].name}.{case}.{p}_scan')\n",
    "        L_a, x_a = ul_a.interpolate()\n",
    "        plt.plot(x_a, L_a(x_a),label = \"-2log (L)\", linestyle = 'dashed', color = colors_[0])\n",
    "    \n",
    "        ylim= ax.get_ylim()\n",
    "        ymax = 2#ylim[1]\n",
    "        min_, er_neg, er_pos = ul_a.likelihood_error_asymmetric()\n",
    "        min_ = min_[0]; er_neg = er_neg[0]; er_pos = er_pos[0]; \n",
    "        dataset_asimov.models.parameters[p].error_n = er_neg\n",
    "        dataset_asimov.models.parameters[p].error_p = er_pos\n",
    "        \n",
    "        factor = 1\n",
    "        if p == 'amplitude':\n",
    "            factor = 1e11\n",
    "\n",
    "        ax.fill_between(  [np.nan, np.nan], ylim[0], ymax,  alpha = 0.5, color=colors_[2],\n",
    "                        label = f'1$\\sigma$ error (Minos): -{er_neg*factor:.2} +{er_pos*factor:.2} ')\n",
    "     \n",
    "        \n",
    "        ax.vlines(amplitude-amplitude_err, ylim[0], ymax, color = colors_[0], linestyle ='dotted')\n",
    "        ax.vlines(amplitude+amplitude_err, ylim[0], ymax, color = colors_[0], linestyle ='dotted',\n",
    "                 label =  f'1$\\sigma$ error (Minuit): {amplitude_err*factor:.2}')\n",
    "\n",
    "           \n",
    "        ### POSTERIOR\n",
    "        # scan\n",
    "        ul_N_a = upper_limit_18_02.upper_limit(ll_N_a,0,0, \n",
    "                                               name=f'{dataset_asimov.models[0].name}.{case}.{p}_scan')\n",
    "        L_N_a, x_N_a = ul_N_a.interpolate()\n",
    "        plt.plot(x_N_a, L_N_a(x_N_a),label = \"-2log (P)\", color = colors_[1])\n",
    "        \n",
    "        \n",
    "        min_N, er_negN, er_posN = ul_N_a.likelihood_error_asymmetric()\n",
    "        min_N = min_N[0]; er_negN = er_negN[0]; er_posN = er_posN[0]; \n",
    "        dataset_asimov_N.models.parameters[p].error_n = er_negN\n",
    "        dataset_asimov_N.models.parameters[p].error_p = er_posN\n",
    "\n",
    "\n",
    "        ax.fill_between(  [min_N-er_negN, min_N+ er_posN], ylim[0], ymax, alpha = 0.5, color = colors_[3],\n",
    "                        label = f'1$\\sigma$ error (Minos): -{er_negN*factor:.2} +{er_posN*factor:.2} ')\n",
    "        ax.vlines(amplitude_N-amplitude_err_N, ylim[0], ymax,color = colors_[1] ,\n",
    "                  linestyles='dotted'\n",
    "                 )\n",
    "        ax.vlines(amplitude_N+amplitude_err_N, ylim[0], ymax,color = colors_[1],\n",
    "                  linestyles='dotted',\n",
    "                    label = f'1$\\sigma$ error (Minuit): $\\pm${amplitude_err_N*factor:.2}')\n",
    "                 \n",
    "        nn = 2\n",
    "        ax.set_xlim(amplitude_N-amplitude_err_N*nn, \n",
    "                   amplitude_N+amplitude_err_N*nn)\n",
    "        ax.set_ylim(np.min(stat_profile['stat_scan'])-0.5,\n",
    "                    np.min(stat_profile['stat_scan'])+ 3)\n",
    "\n",
    "        \n",
    "        \n",
    "        ax.fill_between(  [min_-er_neg, min_+ er_pos], ylim[0], ymax,  alpha = 0.5, color=colors_[2],\n",
    "                        label = f'')\n",
    "       \n",
    "    \n",
    "    \n",
    "        xx = ax.get_xlim()\n",
    "        alpha = 0.6\n",
    "        ax.hlines(0, xx[0], xx[1], color = 'grey', alpha = alpha)\n",
    "        ax.hlines(1, xx[0], xx[1], color = 'grey', alpha = alpha)\n",
    "        if p == 'amplitude':\n",
    "            str_= \"[$\\\\mathrm{TeV^{-1}\\\\,s^{-1}\\\\,cm^{-2}}$]\"\n",
    "            plt.xlabel(f\"Source strength \" + str_) \n",
    "        else:\n",
    "            plt.xlabel(p)\n",
    "        plt.ylabel(\"-2log (L) [arb. unit]\")\n",
    "        plt.legend(ncol = 2)\n",
    "\n",
    "    fig.savefig(f\"../{c['folder']}/plots/4_scan_{p}.pdf\")\n",
    "    \n",
    "    "
   ]
  },
  {
   "cell_type": "code",
   "execution_count": null,
   "id": "3346f536",
   "metadata": {},
   "outputs": [],
   "source": [
    "path = f'../{folder}/data/0_model_nui_livetime_{livetime}_np.yml'\n",
    "dataset_asimov_N.models.write(path, overwrite = 1)\n",
    "\n",
    "path = f'../{folder}/data/0_model_livetime_{livetime}_np.yml'\n",
    "dataset_asimov.models.write(path, overwrite = 1)"
   ]
  },
  {
   "cell_type": "code",
   "execution_count": null,
   "id": "55b292b6",
   "metadata": {},
   "outputs": [],
   "source": [
    "print(dataset_asimov.models.parameters['index'].error)\n",
    "print(dataset_asimov.models.parameters['index'].error_n)\n",
    "print(dataset_asimov.models.parameters['index'].error_p)\n",
    "print(dataset_asimov.models.parameters['index'].error)"
   ]
  },
  {
   "cell_type": "code",
   "execution_count": null,
   "id": "49e35b9f",
   "metadata": {},
   "outputs": [],
   "source": []
  }
 ],
 "metadata": {
  "kernelspec": {
   "display_name": "Python 3 (ipykernel)",
   "language": "python",
   "name": "python3"
  },
  "language_info": {
   "codemirror_mode": {
    "name": "ipython",
    "version": 3
   },
   "file_extension": ".py",
   "mimetype": "text/x-python",
   "name": "python",
   "nbconvert_exporter": "python",
   "pygments_lexer": "ipython3",
   "version": "3.8.16"
  },
  "varInspector": {
   "cols": {
    "lenName": 16,
    "lenType": 16,
    "lenVar": 40
   },
   "kernels_config": {
    "python": {
     "delete_cmd_postfix": "",
     "delete_cmd_prefix": "del ",
     "library": "var_list.py",
     "varRefreshCmd": "print(var_dic_list())"
    },
    "r": {
     "delete_cmd_postfix": ") ",
     "delete_cmd_prefix": "rm(",
     "library": "var_list.r",
     "varRefreshCmd": "cat(var_dic_list()) "
    }
   },
   "types_to_exclude": [
    "module",
    "function",
    "builtin_function_or_method",
    "instance",
    "_Feature"
   ],
   "window_display": false
  }
 },
 "nbformat": 4,
 "nbformat_minor": 5
}
