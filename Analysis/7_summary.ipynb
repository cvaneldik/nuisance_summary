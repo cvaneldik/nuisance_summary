{
 "cells": [
  {
   "cell_type": "markdown",
   "id": "e7853a11",
   "metadata": {},
   "source": [
    "## Runnning with gammapy-dev/IRF_model\n",
    "Fitting asimov datasets with nuisance parameters based on the different livetimes"
   ]
  },
  {
   "cell_type": "markdown",
   "id": "0e04af29",
   "metadata": {},
   "source": [
    "### Setup"
   ]
  },
  {
   "cell_type": "code",
   "execution_count": 1,
   "id": "27bf135a-5ee4-4ca1-8549-6bf07929003c",
   "metadata": {},
   "outputs": [],
   "source": [
    "import matplotlib.pyplot as plt\n",
    "import numpy as np\n",
    "import astropy.units as u\n",
    "from gammapy.maps import Map\n",
    "from astropy.coordinates import SkyCoord, Angle\n",
    "from gammapy.modeling import Fit,  Parameters, Covariance , Parameter\n",
    "from gammapy.datasets import MapDataset ,Datasets, FluxPointsDataset\n",
    "from gammapy.modeling.models import (\n",
    "    PowerLawSpectralModel,\n",
    "    SkyModel,\n",
    "    PointSpatialModel,\n",
    "    PowerLawNormSpectralModel,\n",
    "    Models,\n",
    "    SpatialModel,\n",
    "    FoVBackgroundModel,\n",
    "    PiecewiseNormSpectralModel,\n",
    ")\n",
    "from gammapy.estimators import TSMapEstimator, ExcessMapEstimator\n",
    "from gammapy.estimators import FluxPoints, FluxPointsEstimator\n",
    "from scipy.interpolate import interp2d\n",
    "\n",
    "from regions import CircleSkyRegion, RectangleSkyRegion\n",
    "import yaml\n",
    "import sys\n",
    "sys.path.append('../')\n",
    "import Dataset_load \n",
    "\n",
    "from  Dataset_Setup import Setup, GaussianCovariance_matrix\n",
    "\n",
    "from matplotlib import rc\n",
    "rc(\"font\", **{\"family\": \"serif\", \"serif\": [\"Computer Modern\"]})\n",
    "rc(\"text\", usetex=True)"
   ]
  },
  {
   "cell_type": "markdown",
   "id": "5de988df",
   "metadata": {
    "tags": []
   },
   "source": [
    "## Read dataset"
   ]
  },
  {
   "cell_type": "code",
   "execution_count": 2,
   "id": "0eeeaf75",
   "metadata": {},
   "outputs": [],
   "source": [
    "c = Dataset_load.load_config()\n",
    "awo, aw, ewo, ew = c['_colors']  "
   ]
  },
  {
   "cell_type": "code",
   "execution_count": 3,
   "id": "e0c45f4e-6432-405e-86b7-649e254c0950",
   "metadata": {},
   "outputs": [
    {
     "name": "stdout",
     "output_type": "stream",
     "text": [
      "2.154434690031884\n"
     ]
    }
   ],
   "source": [
    "livetime = c['livetime']\n",
    "zero = c['zero'] \n",
    "norm = c['norm'] \n",
    "tilt = c['tilt'] \n",
    "bias = c['bias'] \n",
    "resolution = c['resolution'] \n",
    "magnitude = c['magnitude'] \n",
    "corrlength = c['corrlength']\n",
    "sys = c['sys'] \n",
    "folder = c['folder']\n",
    "parameter_names = c['parameter_names']        \n",
    "nbidx = 0\n",
    "print(livetime)"
   ]
  },
  {
   "cell_type": "code",
   "execution_count": 4,
   "id": "f94dc89c",
   "metadata": {},
   "outputs": [
    {
     "name": "stdout",
     "output_type": "stream",
     "text": [
      "loaded dataset:\n",
      "/home/wecapstor1/caph/mppi045h/nuisance_summary/PKS_flare/HESS_public/dataset-simulated-2.154434690031884-hr.fits.gz\n",
      "CPU times: user 6.1 s, sys: 154 ms, total: 6.25 s\n",
      "Wall time: 6.27 s\n"
     ]
    }
   ],
   "source": [
    "%%time\n",
    "dataset_input  = Dataset_load.create_asimov(model = c['model'], source = c['source'], \n",
    "                                               livetime = f\"{livetime}-hr\",\n",
    "                                        parameters = None)\n"
   ]
  },
  {
   "cell_type": "markdown",
   "id": "2e0399d4",
   "metadata": {},
   "source": [
    "## Datasets"
   ]
  },
  {
   "cell_type": "code",
   "execution_count": 5,
   "id": "b24b18ac-af52-48ac-bd1e-f03d21457fe4",
   "metadata": {},
   "outputs": [],
   "source": [
    "    \n",
    "setup = Setup(dataset_input=dataset_input)\n",
    "#setup.set_up_irf_sys(bias, resolution, norm, tilt)\n",
    "dataset_asimov, dataset_asimov_N = setup.run()\n",
    "# irf model\n",
    "setup.set_irf_model(dataset_asimov_N)\n",
    "if sys == \"Eff_area\":\n",
    "    dataset_asimov_N.models.parameters['resolution'].frozen = True\n",
    "    dataset_asimov_N.irf_model.parameters['tilt'].frozen = False\n",
    "    dataset_asimov_N.irf_model.parameters['bias'].frozen = True\n",
    "    setup.set_irf_prior(dataset_asimov_N, bias, resolution, norm, tilt)\n"
   ]
  },
  {
   "cell_type": "code",
   "execution_count": 6,
   "id": "7031c52d-9f99-43ef-80aa-784a36f211e3",
   "metadata": {},
   "outputs": [],
   "source": [
    "        \n",
    "numpoints = 20"
   ]
  },
  {
   "cell_type": "code",
   "execution_count": 7,
   "id": "f6589e22-4b65-4ef2-a364-0fa01a829dad",
   "metadata": {},
   "outputs": [],
   "source": [
    "      \n",
    "def read_in_contour(note):\n",
    "    results = []\n",
    "    for parname1, parname2 in parameter_names :\n",
    "        with open(f\"../{c['folder']}/data/3_contour_{note}_{parname1}_{parname2}_{numpoints}.yml\", \"r\") as stream:\n",
    "            contour = yaml.safe_load(stream)\n",
    "        results.append(contour)\n",
    "    return results"
   ]
  },
  {
   "cell_type": "code",
   "execution_count": 8,
   "id": "e2201840-6c23-471d-b286-7152982bbb66",
   "metadata": {},
   "outputs": [
    {
     "name": "stdout",
     "output_type": "stream",
     "text": [
      "symmetric errors\n",
      "CPU times: user 176 ms, sys: 51.2 ms, total: 228 ms\n",
      "Wall time: 232 ms\n"
     ]
    }
   ],
   "source": [
    "%%time\n",
    "results = read_in_contour(\"2.15h\")\n",
    "path = f'../{folder}/data/0_model_livetime_{livetime}.yml'\n",
    "dataset_asimov.models = Models.read(path)\n",
    "\n",
    "for p in np.array(parameter_names).flatten():\n",
    "    dataset_asimov.models.parameters[p].error_n =   dataset_asimov.models.parameters[p].error         \n",
    "    dataset_asimov.models.parameters[p].error_p =   dataset_asimov.models.parameters[p].error \n",
    "        \n",
    "        \n",
    "        \n",
    "try:\n",
    "    results_N = read_in_contour(\"N_2.15h\")\n",
    "except:\n",
    "    results_N = results\n",
    "    \n",
    "try:\n",
    "    path = f'../{folder}/data/0_model_nui_livetime_{livetime}_np.yml'\n",
    "    dataset_asimov_N = Dataset_load.load_dataset_N(dataset_asimov_N, path,bkg_sys = False)        \n",
    "except:    \n",
    "    print(\"symmetric errors\")\n",
    "    path = f'../{folder}/data/0_model_nui_livetime_{livetime}.yml'\n",
    "    dataset_asimov_N = Dataset_load.load_dataset_N(dataset_asimov_N, path,bkg_sys = False)        \n",
    "    for p in np.array(parameter_names).flatten():\n",
    "        dataset_asimov_N.models.parameters[p].error_n =   dataset_asimov_N.models.parameters[p].error         \n",
    "        dataset_asimov_N.models.parameters[p].error_p =   dataset_asimov_N.models.parameters[p].error \n",
    "        \n",
    "        \n",
    "        "
   ]
  },
  {
   "cell_type": "code",
   "execution_count": 9,
   "id": "4d88a54d-fe5f-4f06-8e90-6b1af47bdb16",
   "metadata": {},
   "outputs": [
    {
     "data": {
      "text/html": [
       "<pre>SkyModel\n",
       "\n",
       "  Name                      : Crablog\n",
       "  Datasets names            : None\n",
       "  Spectral model type       : LogParabolaSpectralModel\n",
       "  Spatial  model type       : PointSpatialModel\n",
       "  Temporal model type       : \n",
       "  Parameters:\n",
       "    amplitude                     :   3.85e-11   +/- 1.8e-12 1 / (cm2 s TeV)\n",
       "    reference             (frozen):      1.000       TeV         \n",
       "    alpha                         :      2.510   +/-    0.06             \n",
       "    beta                          :      0.240   +/-    0.06             \n",
       "    lon_0                         :    329.680   +/-    0.00 deg         \n",
       "    lat_0                         :    -30.222   +/-    0.00 deg         \n",
       "\n",
       "</pre>"
      ],
      "text/plain": [
       "SkyModel(spatial_model=<gammapy.modeling.models.spatial.PointSpatialModel object at 0x7f429ed77580>, spectral_model=<gammapy.modeling.models.spectral.LogParabolaSpectralModel object at 0x7f429ed77550>)temporal_model=None)"
      ]
     },
     "execution_count": 9,
     "metadata": {},
     "output_type": "execute_result"
    }
   ],
   "source": [
    "dataset_asimov.models[0]"
   ]
  },
  {
   "cell_type": "code",
   "execution_count": 10,
   "id": "918365c7-f158-4325-89b8-3c1ed17a8671",
   "metadata": {},
   "outputs": [
    {
     "data": {
      "text/html": [
       "<pre>SkyModel\n",
       "\n",
       "  Name                      : BejMSdfL\n",
       "  Datasets names            : None\n",
       "  Spectral model type       : LogParabolaSpectralModel\n",
       "  Spatial  model type       : PointSpatialModel\n",
       "  Temporal model type       : \n",
       "  Parameters:\n",
       "    amplitude                     :   3.85e-11   +/- 8.4e-12 1 / (cm2 s TeV)\n",
       "    reference             (frozen):      1.000       TeV         \n",
       "    alpha                         :      2.510   +/-    0.85             \n",
       "    beta                          :      0.240   +/-    0.28             \n",
       "    lon_0                         :    329.680   +/-    0.00 deg         \n",
       "    lat_0                         :    -30.222   +/-    0.00 deg         \n",
       "\n",
       "</pre>"
      ],
      "text/plain": [
       "SkyModel(spatial_model=<gammapy.modeling.models.spatial.PointSpatialModel object at 0x7f429ee952b0>, spectral_model=<gammapy.modeling.models.spectral.LogParabolaSpectralModel object at 0x7f42c8126520>)temporal_model=None)"
      ]
     },
     "execution_count": 10,
     "metadata": {},
     "output_type": "execute_result"
    }
   ],
   "source": [
    "dataset_asimov_N.models[0]"
   ]
  },
  {
   "cell_type": "code",
   "execution_count": 11,
   "id": "c134033e-7b58-40af-aa75-f499ba02ed00",
   "metadata": {},
   "outputs": [
    {
     "data": {
      "image/png": "[encoded data removed]",
      "text/plain": [
       "<Figure size 640x480 with 4 Axes>"
      ]
     },
     "metadata": {},
     "output_type": "display_data"
    }
   ],
   "source": [
    "def contour_plot(axs):\n",
    "    alpha = 0.2\n",
    "    \n",
    "    #fig,axs = plt.subplots(2,2)\n",
    "    #axs = axs.flatten()\n",
    "    #axs = [axs[1][0], axs[0][0], axs[1][1], axs[0][1]]\n",
    "    for i,p in enumerate(parameter_names):\n",
    "        a = results[i][f'{dataset_asimov.models[0].name}.spectral.{p[0]}']    \n",
    "        b = results[i][f'{dataset_asimov.models[0].name}.spectral.{p[1]}']\n",
    "        axs[i].plot(a, b, color = awo[0])\n",
    "        for j, d in enumerate([dataset_asimov, dataset_asimov_N]):\n",
    "            xen = d.models[0].parameters[p[0]].error_n\n",
    "            xep = d.models[0].parameters[p[0]].error_p\n",
    "            yen = d.models[0].parameters[p[1]].error_n\n",
    "            yep = d.models[0].parameters[p[1]].error_p\n",
    "\n",
    "            x = d.models[0].parameters[p[0]].value\n",
    "            y = d.models[0].parameters[p[1]].value\n",
    "            axs[i].errorbar(x, y, xerr=np.array([[xen ,xep]]).T,\n",
    "                            yerr=np.array([[yen ,yep]]).T, color = colors_[j], capsize = 3,\n",
    "                fmt='x')\n",
    "        a = results_N[i][f'{dataset_asimov.models[0].name}.spectral.{p[0]}']    \n",
    "        b = results_N[i][f'{dataset_asimov.models[0].name}.spectral.{p[1]}']\n",
    "        axs[i].plot(a, b, color = aw[0])\n",
    "        axs[i].scatter (dataset_input.models[0].parameters[p[0]].value,\n",
    "                         dataset_input.models[0].parameters[p[1]].value,\n",
    "                        color = 'black',\n",
    "                        marker = 'v',\n",
    "                        label = \"input\"\n",
    "                       )\n",
    "        axs[i].set_xlabel(p[0])\n",
    "        axs[i].set_ylabel(p[1]) \n",
    "       \n",
    "    #axs[-1].axis('off')\n",
    "    \n",
    "    return axs\n",
    "\n",
    "fig,axs = plt.subplots(2,2)\n",
    "colors_ = [awo[0], aw[0]]\n",
    "#axs = axs.flatten()\n",
    "axs = [axs[1][0], axs[0][0], axs[1][1], axs[0][1]]\n",
    "\n",
    "contour_plot(axs)\n",
    "plt.tight_layout()\n",
    "axs[-1].axis('off')\n",
    "plt.savefig(f\"../{c['folder']}/plots/7_contours.pdf\")"
   ]
  },
  {
   "cell_type": "markdown",
   "id": "f09b7c89-ba84-4f9a-a412-c7e965271689",
   "metadata": {},
   "source": [
    "### RNDs"
   ]
  },
  {
   "cell_type": "code",
   "execution_count": 12,
   "id": "c2948fc1-a7fb-4ef1-a78a-46d0bfad169f",
   "metadata": {},
   "outputs": [],
   "source": [
    "infos = np.loadtxt(f\"../{c['folder']}/data/1_P_draw_info.txt\")\n",
    "N_max = 100\n",
    "shift_rnds = infos[:N_max, 0]\n",
    "index_rnds = infos[:N_max, 1]\n",
    "res_rnds = infos[:N_max, 2]\n",
    "bias_rnds = infos[:N_max, 3]\n",
    "\n",
    "\n",
    "pars_N = np.loadtxt(f\"../{c['folder']}/data/1_N_P_draw_par.txt\")\n",
    "pars = np.loadtxt(f\"../{c['folder']}/data/1_P_draw_par.txt\")\n",
    "\n",
    "lives = pars_N[:N_max, -1:]\n",
    "\n",
    "results_rnds, results_rnds_N = [], []\n",
    "path = f'../{folder}'\n",
    "for i in range(len(shift_rnds)):\n",
    "    s = shift_rnds[i]\n",
    "    t = index_rnds[i]\n",
    "    r = res_rnds[i]\n",
    "    b = bias_rnds[i]\n",
    "    rnds = f\"{s:.6}_{t:.6}_{r:.6}_{b:.6}\"\n",
    "    l = lives[i][0]\n",
    "    \n",
    "parameters =  ['amplitude', 'alpha', 'beta', 'norm', 'tilt']\n",
    "par_values_N = dict()\n",
    "par_values = dict()\n",
    "for p in parameters:\n",
    "    par_values_N[p] = []\n",
    "    par_values[p] = []\n",
    "\n",
    "for j in range(len(pars_N)):\n",
    "    for i in range(len(parameters)):\n",
    "        if lives[j] == livetime:\n",
    "            p = pars_N[j][i*2: i*2+1]\n",
    "            par_values_N[parameters[i]].append(p)\n",
    "            p = pars[j][i*2: i*2+1]\n",
    "            par_values[parameters[i]].append(p)\n"
   ]
  },
  {
   "cell_type": "code",
   "execution_count": 13,
   "id": "72b5e868-fbd0-4e51-b61a-be092755701c",
   "metadata": {},
   "outputs": [],
   "source": [
    "from scipy.interpolate import interp1d\n",
    "def interpolate(one, two):\n",
    "    \n",
    "    points = np.column_stack((one, two))  # a (nbre_points x nbre_dim) array\n",
    "    \n",
    "\n",
    "    # Linear length along the line:\n",
    "    distance = np.cumsum( np.sqrt(np.sum( np.diff(points, axis=0)**2, axis=1 )) )\n",
    "    distance = np.insert(distance, 0, 0)/distance[-1]\n",
    "\n",
    "    # Interpolation for different methods: #quadratic\n",
    "    interpolations_methods = ['linear']\n",
    "    alpha = np.linspace(0, 1, 75)\n",
    "\n",
    "    interpolated_points = {}\n",
    "    for method in interpolations_methods:\n",
    "        interpolator =  interp1d(distance, points, kind=method, axis=0)\n",
    "        interpolated_points[method] = interpolator(alpha)\n",
    "        \n",
    "    for method_name, curve in interpolated_points.items():\n",
    "        c_int = {'x':curve.T[0], 'y': curve.T[1]}\n",
    "    return np.array(c_int['x']), np.array(c_int['y'])\n",
    "\n"
   ]
  },
  {
   "cell_type": "code",
   "execution_count": 14,
   "id": "1533851b",
   "metadata": {},
   "outputs": [],
   "source": [
    "names = {'amplitude':\"Amplitude [1/TeVcm2s]\", \n",
    "        'alpha':\"$\\\\alpha$\",\n",
    "        'beta':\"$\\\\beta$\"}"
   ]
  },
  {
   "cell_type": "code",
   "execution_count": 15,
   "id": "525cba46-9dce-47d0-a6c1-052490cff646",
   "metadata": {},
   "outputs": [],
   "source": [
    "alpha = 0.2\n",
    "    \n",
    "def histogram(axs, parameters_hist):\n",
    "    vs = []\n",
    "    for i,p_ in enumerate(parameters_hist):\n",
    "        \n",
    "        p = dataset_asimov.models[0].parameters[p_]\n",
    "        r = p.value-sig * p.error , p.value+sig * p.error\n",
    "        bins  = np.linspace(r[0], r[1], 30) \n",
    "        \n",
    "        if i ==2:\n",
    "            orientation = 'horizontal'\n",
    "            axs[i].set_ylim(p.value-sig * p.error , p.value+sig * p.error , )\n",
    "                \n",
    "        else:\n",
    "            orientation = 'vertical'\n",
    "            axs[i].set_xlim(p.value-sig * p.error , p.value+sig * p.error , )\n",
    "            \n",
    "        n, bins, pat = axs[i].hist(np.array(par_values[p_]).ravel(), bins = bins, orientation= orientation,\n",
    "                                  color = ewo[1],\n",
    "                                   label = \"W/o fitting sys.\")\n",
    "        axs[i].hist(np.array(par_values_N[p_]).ravel(), bins = bins, orientation= orientation,\n",
    "                     histtype='step', color= ew[0], linewidth = 2, alpha = 0.8,\n",
    "                    label = \"With fitting sys.\"\n",
    "                   )\n",
    "        if i ==2:\n",
    "            axs[i].hlines(p.value, 0, ax_b.get_xlim()[1], color = 'black', alpha = 0.8)\n",
    "\n",
    "        else:\n",
    "            axs[i].vlines(p.value, 0, ax_a.get_ylim()[1], color = 'black', alpha = 0.8)\n",
    "\n",
    "  \n",
    "    ax_a.xaxis.set_label_position(\"top\")\n",
    "    ax_a.set_xlabel(names[parameters_hist[0]])\n",
    "\n",
    "    ax_b.yaxis.set_label_position(\"right\")\n",
    "    ax_b.yaxis.tick_right()\n",
    "    ax_b.set_ylabel(\"$\\\\alpha$\",)\n",
    "    ax_b.tick_params(left = 0, labelleft  = 0,  right = 1,  labelright=1, bottom=1, labelbottom=False)\n",
    "\n",
    "    ax_c.tick_params(left = 0, labelleft  = 0,  top = 1,  labeltop=1, bottom=1, labelbottom=False)\n",
    "    ax_c.xaxis.set_label_position(\"top\")\n",
    "    ax_c.set_xlabel(\"$\\\\beta$\")\n",
    "\n",
    "    axs_2.set_xlabel(\"\")\n",
    "    axs_2.tick_params(top = 0, labeltop  = 0, )\n",
    "    axs_3.yaxis.set_label_position(\"right\")\n",
    "    axs_3.yaxis.tick_right()\n",
    "\n",
    "    plt.subplots_adjust(left=0.1,\n",
    "                        bottom=0.1, \n",
    "                        right=0.9, \n",
    "                        top=0.9, \n",
    "                        wspace=0.1, \n",
    "                        hspace=0.1)\n",
    "    #axs[i].scatter(par_values[p[0]], par_values[p[1]],marker =  'x', alpha = alpha, color = ewo[0])\n",
    "    #axs[i].scatter(par_values_N[p[0]], par_values_N[p[1]],marker =  'o', alpha = alpha, color = ew[0])\n",
    "    return axs\n",
    "\n",
    "def plot_scatter(axs):\n",
    "    for i,p in enumerate(parameter_names):\n",
    "    \n",
    "        axs[i].scatter(par_values[p[0]], par_values[p[1]],marker =  'x', alpha = alpha, color = ewo[0])\n",
    "        axs[i].scatter(par_values_N[p[0]], par_values_N[p[1]],marker =  'o', alpha = alpha, color = ew[0])\n",
    "\n",
    "\n",
    "    for i in range(len(results_rnds)):\n",
    "        r = results_rnds[i]\n",
    "        r_N = results_rnds_N[i]\n",
    "\n",
    "        cs = plot_results(r, axs, color = ewo[0])\n",
    "        cs_N = plot_results(r_N, axs, color = ew[0])\n",
    "        for i, c_ in enumerate( cases):\n",
    "            wihtin[c_].append(cs[i])\n",
    "            wihtin_N[c_].append(cs_N[i])\n",
    "\n",
    "    for i,p_ in enumerate(parameter_names):\n",
    "        p = dataset_asimov.models[0].parameters[p_[1]]\n",
    "        axs[i].set_ylim(p.value-sig * p.error , p.value+sig * p.error , )\n",
    "        axs[i].set_ylabel(names[p.name])\n",
    "        p = dataset_asimov.models[0].parameters[p_[0]]\n",
    "        axs[i].set_xlim(p.value-sig * p.error , p.value+sig * p.error , )\n",
    "        axs[i].set_xlabel(names[p.name])\n",
    "    plt.tight_layout()\n",
    "    return axs\n"
   ]
  },
  {
   "cell_type": "code",
   "execution_count": 16,
   "id": "ba92fa52-6cfc-4dc4-832b-057655fcf8a5",
   "metadata": {},
   "outputs": [
    {
     "data": {
      "image/png": "[encoded data removed]",
      "text/plain": [
       "<Figure size 700x600 with 6 Axes>"
      ]
     },
     "metadata": {},
     "output_type": "display_data"
    }
   ],
   "source": [
    "y2 = 2\n",
    "sig = 8\n",
    "\n",
    "fig3 = plt.figure( figsize = (7,6))\n",
    "gs = fig3.add_gridspec(5, 5)\n",
    "ax_a = fig3.add_subplot(gs[0, 0:2])\n",
    "axs_2 = fig3.add_subplot(gs[1:3, 0:2])\n",
    "axs_1 = fig3.add_subplot(gs[3:5, 0:2])\n",
    "\n",
    "ax_c = fig3.add_subplot(gs[2:3,  2:4])\n",
    "axs_3 = fig3.add_subplot(gs[3:5,  2:4])\n",
    "ax_b = fig3.add_subplot(gs[3:5,  4:5])\n",
    "\n",
    "axs = contour_plot([axs_1, axs_2, axs_3])\n",
    "axs = plot_scatter([axs_1, axs_2, axs_3])\n",
    "parameters_hist = [\"amplitude\", \"beta\", \"alpha\"]\n",
    "\n",
    "axs = histogram([ax_a, ax_c, ax_b], parameters_hist)\n",
    "\n",
    "ax_a.legend(loc='center left', bbox_to_anchor=(1, 0.5))\n",
    "#axs_1.legend()\n",
    "plt.show()\n",
    "fig3.savefig(f\"../{c['folder']}/plots/7_summary.pdf\")"
   ]
  },
  {
   "cell_type": "code",
   "execution_count": 17,
   "id": "5cfe414c",
   "metadata": {},
   "outputs": [
    {
     "name": "stdout",
     "output_type": "stream",
     "text": [
      "[0.1, 0.1, 0.1, 0.1, 0.1, 0.1]\n"
     ]
    }
   ],
   "source": [
    "import matplotlib.path as mpltPath\n",
    "withins = []\n",
    "for r in [results, results_N]:\n",
    "    w = []\n",
    "    for i,p in enumerate(parameter_names):\n",
    "        a = r[i][f'{dataset_asimov.models[0].name}.spectral.{p[0]}']    \n",
    "        b = r[i][f'{dataset_asimov.models[0].name}.spectral.{p[1]}']\n",
    "        path = mpltPath.Path(np.column_stack((a, b)))\n",
    "        masks = []\n",
    "        for pars0, pars1 in zip(par_values[p[0]], par_values[p[1]]):\n",
    "            mask = path.contains_points(points = ([(pars0[0], pars1[0])]))\n",
    "            masks.append(mask[0])\n",
    "        withins.append(np.count_nonzero(masks)/ len(masks))\n",
    "print(withins)\n",
    "\n"
   ]
  },
  {
   "cell_type": "code",
   "execution_count": null,
   "id": "e4a8f697-6789-4c27-b606-11849875b2bd",
   "metadata": {},
   "outputs": [],
   "source": []
  }
 ],
 "metadata": {
  "kernelspec": {
   "display_name": "Python 3 (ipykernel)",
   "language": "python",
   "name": "python3"
  },
  "language_info": {
   "codemirror_mode": {
    "name": "ipython",
    "version": 3
   },
   "file_extension": ".py",
   "mimetype": "text/x-python",
   "name": "python",
   "nbconvert_exporter": "python",
   "pygments_lexer": "ipython3",
   "version": "3.8.16"
  },
  "varInspector": {
   "cols": {
    "lenName": 16,
    "lenType": 16,
    "lenVar": 40
   },
   "kernels_config": {
    "python": {
     "delete_cmd_postfix": "",
     "delete_cmd_prefix": "del ",
     "library": "var_list.py",
     "varRefreshCmd": "print(var_dic_list())"
    },
    "r": {
     "delete_cmd_postfix": ") ",
     "delete_cmd_prefix": "rm(",
     "library": "var_list.r",
     "varRefreshCmd": "cat(var_dic_list()) "
    }
   },
   "types_to_exclude": [
    "module",
    "function",
    "builtin_function_or_method",
    "instance",
    "_Feature"
   ],
   "window_display": false
  }
 },
 "nbformat": 4,
 "nbformat_minor": 5
}
