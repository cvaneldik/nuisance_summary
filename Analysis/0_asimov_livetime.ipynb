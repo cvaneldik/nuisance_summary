{
 "cells": [
  {
   "cell_type": "markdown",
   "id": "e7853a11",
   "metadata": {},
   "source": [
    "## Runnning with gammapy-dev/IRF_model\n",
    "Fitting asimov datasets with nuisance parameters based on the different livetimes"
   ]
  },
  {
   "cell_type": "markdown",
   "id": "0e04af29",
   "metadata": {},
   "source": [
    "### Setup"
   ]
  },
  {
   "cell_type": "code",
   "execution_count": 1,
   "id": "27bf135a-5ee4-4ca1-8549-6bf07929003c",
   "metadata": {},
   "outputs": [],
   "source": [
    "import matplotlib.pyplot as plt\n",
    "import numpy as np\n",
    "import astropy.units as u\n",
    "from gammapy.maps import Map\n",
    "from astropy.coordinates import SkyCoord, Angle\n",
    "from gammapy.modeling import Fit,  Parameters, Covariance , Parameter\n",
    "from gammapy.datasets import MapDataset ,Datasets, FluxPointsDataset\n",
    "from gammapy.modeling.models import (\n",
    "    PowerLawSpectralModel,\n",
    "    SkyModel,\n",
    "    PointSpatialModel,\n",
    "    PowerLawNormSpectralModel,\n",
    "    Models,\n",
    "    SpatialModel,\n",
    "    FoVBackgroundModel,\n",
    "    PiecewiseNormSpectralModel,\n",
    ")\n",
    "from gammapy.estimators import TSMapEstimator, ExcessMapEstimator\n",
    "from gammapy.estimators import FluxPoints, FluxPointsEstimator\n",
    "\n",
    "from regions import CircleSkyRegion, RectangleSkyRegion\n",
    "import yaml\n",
    "import sys\n",
    "sys.path.append('../')\n",
    "import Dataset_load \n",
    "from matplotlib import rc\n",
    "rc(\"font\", **{\"family\": \"serif\", \"serif\": [\"Computer Modern\"]})\n",
    "rc(\"text\", usetex=True)\n",
    "from  Dataset_Setup import Setup, GaussianCovariance_matrix"
   ]
  },
  {
   "cell_type": "markdown",
   "id": "5de988df",
   "metadata": {
    "tags": []
   },
   "source": [
    "## Read dataset"
   ]
  },
  {
   "cell_type": "code",
   "execution_count": 2,
   "id": "0eeeaf75",
   "metadata": {},
   "outputs": [],
   "source": [
    "c = Dataset_load.load_config()\n",
    "awo, aw, ewo, ew = c['_colors']  "
   ]
  },
  {
   "cell_type": "code",
   "execution_count": 3,
   "id": "e0c45f4e-6432-405e-86b7-649e254c0950",
   "metadata": {},
   "outputs": [],
   "source": [
    "livetimes = c['livetimes']\n",
    "zero = c['zero'] \n",
    "norm = c['norm'] \n",
    "tilt = c['tilt'] \n",
    "bias = c['bias'] \n",
    "resolution = c['resolution'] \n",
    "magnitude = c['magnitude'] \n",
    "corrlength = c['corrlength']\n",
    "sys = c['sys'] \n",
    "folder = c['folder']\n",
    "nbidx = 0\n",
    "sys\n",
    "livetimes = livetimes#[7:8]\n",
    "onehundred = False\n",
    "if \"100\" in sys:\n",
    "    onehundred = True"
   ]
  },
  {
   "cell_type": "code",
   "execution_count": 4,
   "id": "c8589a1d-12fd-4fe0-a86b-4969a6570ea3",
   "metadata": {},
   "outputs": [
    {
     "data": {
      "text/plain": [
       "'Combined100'"
      ]
     },
     "execution_count": 4,
     "metadata": {},
     "output_type": "execute_result"
    }
   ],
   "source": [
    "sys"
   ]
  },
  {
   "cell_type": "code",
   "execution_count": 5,
   "id": "25a6a75b-e90e-4c2f-93d7-76b6cf57e30f",
   "metadata": {},
   "outputs": [],
   "source": [
    "e_reco_n = 30\n",
    "\n",
    "def set_up(dataset_input):\n",
    "    \n",
    "    setup = Setup(dataset_input=dataset_input)\n",
    "    #setup.set_up_irf_sys(bias, resolution, norm, tilt)\n",
    "    dataset_asimov, dataset_asimov_N = setup.run()\n",
    "    # irf model\n",
    "    setup.set_irf_model(dataset_asimov_N)\n",
    "        \n",
    "    if  \"Eff_area\" in sys:\n",
    "        dataset_asimov_N.models.parameters['resolution'].frozen = True\n",
    "        dataset_asimov_N.irf_model.parameters['tilt'].frozen = False\n",
    "        dataset_asimov_N.irf_model.parameters['bias'].frozen = True\n",
    "        setup.set_irf_prior(dataset_asimov_N, bias, resolution, norm, tilt)\n",
    "        print(dataset_asimov_N.irf_model)\n",
    "        \n",
    "    if sys == \"E_reco\":\n",
    "        dataset_asimov_N.models.parameters['resolution'].frozen = True\n",
    "        dataset_asimov_N.irf_model.parameters['tilt'].frozen = True\n",
    "        dataset_asimov_N.irf_model.parameters['norm'].frozen = True\n",
    "        dataset_asimov_N.irf_model.parameters['bias'].frozen = False\n",
    "        setup.set_irf_prior(dataset_asimov_N, bias, resolution, norm, tilt)\n",
    "        e_reco_n = 3000\n",
    "\n",
    "    if  \"Combined\" in sys:\n",
    "        dataset_asimov_N.models.parameters['resolution'].frozen = True\n",
    "        dataset_asimov_N.irf_model.parameters['tilt'].frozen = False\n",
    "        dataset_asimov_N.irf_model.parameters['bias'].frozen = False\n",
    "        setup.set_irf_prior(dataset_asimov_N, bias, resolution, norm, tilt)\n",
    "        e_reco_n = 3000\n",
    "    \n",
    "    if sys == \"BKG\":\n",
    "        \n",
    "        # piece wise model\n",
    "        # remove old bkg model\n",
    "        setup.set_up_bkg_sys_V( breake = 10,\n",
    "                            index1 = 2,\n",
    "                            index2 = 1.5, \n",
    "                            magnitude = magnitude )\n",
    "        \n",
    "        dataset_asimov, dataset_asimov_N = setup.run()\n",
    "        \n",
    "        setup.unset_model(dataset_asimov_N, FoVBackgroundModel)\n",
    "        setup.set_piecewise_bkg_model(dataset_asimov_N)\n",
    "        # energy of the following parameters smaller than ethrshold\n",
    "        dataset_asimov_N.background_model.parameters['norm0'].frozen = True\n",
    "        dataset_asimov_N.background_model.parameters['norm1'].frozen = True\n",
    "        dataset_asimov_N.background_model.parameters['norm2'].frozen = True\n",
    "        dataset_asimov_N.background_model.parameters['norm3'].frozen = True\n",
    "        setup.set_bkg_prior(dataset_asimov_N, magnitude, corrlength)\n",
    "        frozen_pos = 1\n",
    "        if frozen_pos:\n",
    "            dataset_asimov.models.parameters['lon_0'].frozen = True\n",
    "            dataset_asimov.models.parameters['lat_0'].frozen = True\n",
    "            dataset_asimov_N.models.parameters['lon_0'].frozen = True\n",
    "            dataset_asimov_N.models.parameters['lat_0'].frozen = True\n",
    "\n",
    "    return dataset_asimov_N, dataset_asimov, setup"
   ]
  },
  {
   "cell_type": "code",
   "execution_count": 6,
   "id": "cef16082-e417-4584-b2d9-310b6340d83f",
   "metadata": {},
   "outputs": [
    {
     "ename": "KeyboardInterrupt",
     "evalue": "",
     "output_type": "error",
     "traceback": [
      "\u001b[0;31m---------------------------------------------------------------------------\u001b[0m",
      "\u001b[0;31mKeyboardInterrupt\u001b[0m                         Traceback (most recent call last)",
      "File \u001b[0;32m<timed exec>:5\u001b[0m\n",
      "File \u001b[0;32m/home/wecapstor1/caph/mppi045h/nuisance_summary/Analysis/../Dataset_load.py:71\u001b[0m, in \u001b[0;36mcreate_asimov\u001b[0;34m(model, source, parameters, livetime)\u001b[0m\n\u001b[1;32m     69\u001b[0m     \u001b[38;5;28mprint\u001b[39m(\u001b[38;5;124mf\u001b[39m\u001b[38;5;124m\"\u001b[39m\u001b[38;5;132;01m{\u001b[39;00mpath\u001b[38;5;132;01m}\u001b[39;00m\u001b[38;5;124m/HESS_public/dataset-MSH-simulated-\u001b[39m\u001b[38;5;132;01m{\u001b[39;00mmodel\u001b[38;5;132;01m}\u001b[39;00m\u001b[38;5;124m.fits.gz\u001b[39m\u001b[38;5;124m\"\u001b[39m)\n\u001b[1;32m     70\u001b[0m \u001b[38;5;28;01mif\u001b[39;00m source \u001b[38;5;241m==\u001b[39m \u001b[38;5;124m\"\u001b[39m\u001b[38;5;124mPKSflare\u001b[39m\u001b[38;5;124m\"\u001b[39m:\n\u001b[0;32m---> 71\u001b[0m     dataset \u001b[38;5;241m=\u001b[39m \u001b[43mMapDataset\u001b[49m\u001b[38;5;241;43m.\u001b[39;49m\u001b[43mread\u001b[49m\u001b[43m(\u001b[49m\u001b[38;5;124;43mf\u001b[39;49m\u001b[38;5;124;43m\"\u001b[39;49m\u001b[38;5;132;43;01m{\u001b[39;49;00m\u001b[43mpath\u001b[49m\u001b[38;5;132;43;01m}\u001b[39;49;00m\u001b[38;5;124;43m/HESS_public/dataset-simulated-\u001b[39;49m\u001b[38;5;132;43;01m{\u001b[39;49;00m\u001b[43mmodel\u001b[49m\u001b[38;5;132;43;01m}\u001b[39;49;00m\u001b[38;5;124;43m.fits.gz\u001b[39;49m\u001b[38;5;124;43m\"\u001b[39;49m\u001b[43m)\u001b[49m\n\u001b[1;32m     72\u001b[0m     \u001b[38;5;28mprint\u001b[39m(\u001b[38;5;124m\"\u001b[39m\u001b[38;5;124mloaded dataset:\u001b[39m\u001b[38;5;124m\"\u001b[39m)\n\u001b[1;32m     73\u001b[0m     \u001b[38;5;28mprint\u001b[39m(\u001b[38;5;124mf\u001b[39m\u001b[38;5;124m\"\u001b[39m\u001b[38;5;132;01m{\u001b[39;00mpath\u001b[38;5;132;01m}\u001b[39;00m\u001b[38;5;124m/HESS_public/dataset-simulated-\u001b[39m\u001b[38;5;132;01m{\u001b[39;00mmodel\u001b[38;5;132;01m}\u001b[39;00m\u001b[38;5;124m.fits.gz\u001b[39m\u001b[38;5;124m\"\u001b[39m)\n",
      "File \u001b[0;32m/home/wecapstor1/caph/mppi045h/gammapy/gammapy/datasets/map.py:1479\u001b[0m, in \u001b[0;36mMapDataset.read\u001b[0;34m(cls, filename, name, lazy, cache, format)\u001b[0m\n\u001b[1;32m   1477\u001b[0m \u001b[38;5;28;01melse\u001b[39;00m:\n\u001b[1;32m   1478\u001b[0m     \u001b[38;5;28;01mwith\u001b[39;00m fits\u001b[38;5;241m.\u001b[39mopen(\u001b[38;5;28mstr\u001b[39m(make_path(filename)), memmap\u001b[38;5;241m=\u001b[39m\u001b[38;5;28;01mFalse\u001b[39;00m) \u001b[38;5;28;01mas\u001b[39;00m hdulist:\n\u001b[0;32m-> 1479\u001b[0m         \u001b[38;5;28;01mreturn\u001b[39;00m \u001b[38;5;28;43mcls\u001b[39;49m\u001b[38;5;241;43m.\u001b[39;49m\u001b[43mfrom_hdulist\u001b[49m\u001b[43m(\u001b[49m\u001b[43mhdulist\u001b[49m\u001b[43m,\u001b[49m\u001b[43m \u001b[49m\u001b[43mname\u001b[49m\u001b[38;5;241;43m=\u001b[39;49m\u001b[43mds_name\u001b[49m\u001b[43m,\u001b[49m\u001b[43m \u001b[49m\u001b[38;5;28;43mformat\u001b[39;49m\u001b[38;5;241;43m=\u001b[39;49m\u001b[38;5;28;43mformat\u001b[39;49m\u001b[43m)\u001b[49m\n",
      "File \u001b[0;32m/home/wecapstor1/caph/mppi045h/gammapy/gammapy/datasets/map.py:1361\u001b[0m, in \u001b[0;36mMapDataset.from_hdulist\u001b[0;34m(cls, hdulist, name, lazy, format)\u001b[0m\n\u001b[1;32m   1356\u001b[0m     kwargs[\u001b[38;5;124m\"\u001b[39m\u001b[38;5;124medisp\u001b[39m\u001b[38;5;124m\"\u001b[39m] \u001b[38;5;241m=\u001b[39m EDispMap\u001b[38;5;241m.\u001b[39mfrom_hdulist(\n\u001b[1;32m   1357\u001b[0m         hdulist, hdu\u001b[38;5;241m=\u001b[39m\u001b[38;5;124m\"\u001b[39m\u001b[38;5;124medisp\u001b[39m\u001b[38;5;124m\"\u001b[39m, exposure_hdu\u001b[38;5;241m=\u001b[39m\u001b[38;5;124m\"\u001b[39m\u001b[38;5;124medisp_exposure\u001b[39m\u001b[38;5;124m\"\u001b[39m, \u001b[38;5;28mformat\u001b[39m\u001b[38;5;241m=\u001b[39m\u001b[38;5;28mformat\u001b[39m\n\u001b[1;32m   1358\u001b[0m     )\n\u001b[1;32m   1360\u001b[0m \u001b[38;5;28;01mif\u001b[39;00m \u001b[38;5;124m\"\u001b[39m\u001b[38;5;124mPSF\u001b[39m\u001b[38;5;124m\"\u001b[39m \u001b[38;5;129;01min\u001b[39;00m hdulist:\n\u001b[0;32m-> 1361\u001b[0m     kwargs[\u001b[38;5;124m\"\u001b[39m\u001b[38;5;124mpsf\u001b[39m\u001b[38;5;124m\"\u001b[39m] \u001b[38;5;241m=\u001b[39m \u001b[43mPSFMap\u001b[49m\u001b[38;5;241;43m.\u001b[39;49m\u001b[43mfrom_hdulist\u001b[49m\u001b[43m(\u001b[49m\n\u001b[1;32m   1362\u001b[0m \u001b[43m        \u001b[49m\u001b[43mhdulist\u001b[49m\u001b[43m,\u001b[49m\u001b[43m \u001b[49m\u001b[43mhdu\u001b[49m\u001b[38;5;241;43m=\u001b[39;49m\u001b[38;5;124;43m\"\u001b[39;49m\u001b[38;5;124;43mpsf\u001b[39;49m\u001b[38;5;124;43m\"\u001b[39;49m\u001b[43m,\u001b[49m\u001b[43m \u001b[49m\u001b[43mexposure_hdu\u001b[49m\u001b[38;5;241;43m=\u001b[39;49m\u001b[38;5;124;43m\"\u001b[39;49m\u001b[38;5;124;43mpsf_exposure\u001b[39;49m\u001b[38;5;124;43m\"\u001b[39;49m\u001b[43m,\u001b[49m\u001b[43m \u001b[49m\u001b[38;5;28;43mformat\u001b[39;49m\u001b[38;5;241;43m=\u001b[39;49m\u001b[38;5;28;43mformat\u001b[39;49m\n\u001b[1;32m   1363\u001b[0m \u001b[43m    \u001b[49m\u001b[43m)\u001b[49m\n\u001b[1;32m   1365\u001b[0m \u001b[38;5;28;01mif\u001b[39;00m \u001b[38;5;124m\"\u001b[39m\u001b[38;5;124mMASK_SAFE\u001b[39m\u001b[38;5;124m\"\u001b[39m \u001b[38;5;129;01min\u001b[39;00m hdulist:\n\u001b[1;32m   1366\u001b[0m     mask_safe \u001b[38;5;241m=\u001b[39m Map\u001b[38;5;241m.\u001b[39mfrom_hdulist(hdulist, hdu\u001b[38;5;241m=\u001b[39m\u001b[38;5;124m\"\u001b[39m\u001b[38;5;124mmask_safe\u001b[39m\u001b[38;5;124m\"\u001b[39m, \u001b[38;5;28mformat\u001b[39m\u001b[38;5;241m=\u001b[39m\u001b[38;5;28mformat\u001b[39m)\n",
      "File \u001b[0;32m/home/wecapstor1/caph/mppi045h/gammapy/gammapy/irf/core.py:743\u001b[0m, in \u001b[0;36mIRFMap.from_hdulist\u001b[0;34m(cls, hdulist, hdu, hdu_bands, exposure_hdu, exposure_hdu_bands, format)\u001b[0m\n\u001b[1;32m    740\u001b[0m \u001b[38;5;28;01mif\u001b[39;00m hdu \u001b[38;5;129;01mis\u001b[39;00m \u001b[38;5;28;01mNone\u001b[39;00m:\n\u001b[1;32m    741\u001b[0m     hdu \u001b[38;5;241m=\u001b[39m IRF_MAP_HDU_SPECIFICATION[\u001b[38;5;28mcls\u001b[39m\u001b[38;5;241m.\u001b[39mtag]\n\u001b[0;32m--> 743\u001b[0m irf_map \u001b[38;5;241m=\u001b[39m \u001b[43mMap\u001b[49m\u001b[38;5;241;43m.\u001b[39;49m\u001b[43mfrom_hdulist\u001b[49m\u001b[43m(\u001b[49m\n\u001b[1;32m    744\u001b[0m \u001b[43m    \u001b[49m\u001b[43mhdulist\u001b[49m\u001b[43m,\u001b[49m\u001b[43m \u001b[49m\u001b[43mhdu\u001b[49m\u001b[38;5;241;43m=\u001b[39;49m\u001b[43mhdu\u001b[49m\u001b[43m,\u001b[49m\u001b[43m \u001b[49m\u001b[43mhdu_bands\u001b[49m\u001b[38;5;241;43m=\u001b[39;49m\u001b[43mhdu_bands\u001b[49m\u001b[43m,\u001b[49m\u001b[43m \u001b[49m\u001b[38;5;28;43mformat\u001b[39;49m\u001b[38;5;241;43m=\u001b[39;49m\u001b[38;5;28;43mformat\u001b[39;49m\n\u001b[1;32m    745\u001b[0m \u001b[43m\u001b[49m\u001b[43m)\u001b[49m\n\u001b[1;32m    747\u001b[0m \u001b[38;5;28;01mif\u001b[39;00m exposure_hdu \u001b[38;5;129;01mis\u001b[39;00m \u001b[38;5;28;01mNone\u001b[39;00m:\n\u001b[1;32m    748\u001b[0m     exposure_hdu \u001b[38;5;241m=\u001b[39m IRF_MAP_HDU_SPECIFICATION[\u001b[38;5;28mcls\u001b[39m\u001b[38;5;241m.\u001b[39mtag] \u001b[38;5;241m+\u001b[39m \u001b[38;5;124m\"\u001b[39m\u001b[38;5;124m_exposure\u001b[39m\u001b[38;5;124m\"\u001b[39m\n",
      "File \u001b[0;32m/home/wecapstor1/caph/mppi045h/gammapy/gammapy/maps/core.py:324\u001b[0m, in \u001b[0;36mMap.from_hdulist\u001b[0;34m(hdulist, hdu, hdu_bands, map_type, format, colname)\u001b[0m\n\u001b[1;32m    320\u001b[0m     \u001b[38;5;28;01mreturn\u001b[39;00m cls_out\u001b[38;5;241m.\u001b[39mfrom_hdulist(\n\u001b[1;32m    321\u001b[0m         hdulist, hdu\u001b[38;5;241m=\u001b[39mhdu, hdu_bands\u001b[38;5;241m=\u001b[39mhdu_bands, \u001b[38;5;28mformat\u001b[39m\u001b[38;5;241m=\u001b[39m\u001b[38;5;28mformat\u001b[39m, colname\u001b[38;5;241m=\u001b[39mcolname\n\u001b[1;32m    322\u001b[0m     )\n\u001b[1;32m    323\u001b[0m \u001b[38;5;28;01melse\u001b[39;00m:\n\u001b[0;32m--> 324\u001b[0m     \u001b[38;5;28;01mreturn\u001b[39;00m \u001b[43mcls_out\u001b[49m\u001b[38;5;241;43m.\u001b[39;49m\u001b[43mfrom_hdulist\u001b[49m\u001b[43m(\u001b[49m\n\u001b[1;32m    325\u001b[0m \u001b[43m        \u001b[49m\u001b[43mhdulist\u001b[49m\u001b[43m,\u001b[49m\u001b[43m \u001b[49m\u001b[43mhdu\u001b[49m\u001b[38;5;241;43m=\u001b[39;49m\u001b[43mhdu\u001b[49m\u001b[43m,\u001b[49m\u001b[43m \u001b[49m\u001b[43mhdu_bands\u001b[49m\u001b[38;5;241;43m=\u001b[39;49m\u001b[43mhdu_bands\u001b[49m\u001b[43m,\u001b[49m\u001b[43m \u001b[49m\u001b[38;5;28;43mformat\u001b[39;49m\u001b[38;5;241;43m=\u001b[39;49m\u001b[38;5;28;43mformat\u001b[39;49m\n\u001b[1;32m    326\u001b[0m \u001b[43m    \u001b[49m\u001b[43m)\u001b[49m\n",
      "File \u001b[0;32m/home/wecapstor1/caph/mppi045h/gammapy/gammapy/maps/wcs/core.py:142\u001b[0m, in \u001b[0;36mWcsMap.from_hdulist\u001b[0;34m(cls, hdu_list, hdu, hdu_bands, format)\u001b[0m\n\u001b[1;32m    138\u001b[0m     hdu_bands \u001b[38;5;241m=\u001b[39m hdu_list[hdu_bands]\n\u001b[1;32m    140\u001b[0m \u001b[38;5;28mformat\u001b[39m \u001b[38;5;241m=\u001b[39m identify_wcs_format(hdu_bands)\n\u001b[0;32m--> 142\u001b[0m wcs_map \u001b[38;5;241m=\u001b[39m \u001b[38;5;28;43mcls\u001b[39;49m\u001b[38;5;241;43m.\u001b[39;49m\u001b[43mfrom_hdu\u001b[49m\u001b[43m(\u001b[49m\u001b[43mhdu\u001b[49m\u001b[43m,\u001b[49m\u001b[43m \u001b[49m\u001b[43mhdu_bands\u001b[49m\u001b[43m,\u001b[49m\u001b[43m \u001b[49m\u001b[38;5;28;43mformat\u001b[39;49m\u001b[38;5;241;43m=\u001b[39;49m\u001b[38;5;28;43mformat\u001b[39;49m\u001b[43m)\u001b[49m\n\u001b[1;32m    144\u001b[0m \u001b[38;5;28;01mif\u001b[39;00m wcs_map\u001b[38;5;241m.\u001b[39munit\u001b[38;5;241m.\u001b[39mis_equivalent(\u001b[38;5;124m\"\u001b[39m\u001b[38;5;124m\"\u001b[39m):\n\u001b[1;32m    145\u001b[0m     \u001b[38;5;28;01mif\u001b[39;00m \u001b[38;5;28mformat\u001b[39m \u001b[38;5;241m==\u001b[39m \u001b[38;5;124m\"\u001b[39m\u001b[38;5;124mfgst-template\u001b[39m\u001b[38;5;124m\"\u001b[39m:\n",
      "File \u001b[0;32m/home/wecapstor1/caph/mppi045h/gammapy/gammapy/maps/wcs/ndmap.py:119\u001b[0m, in \u001b[0;36mWcsNDMap.from_hdu\u001b[0;34m(cls, hdu, hdu_bands, format)\u001b[0m\n\u001b[1;32m    117\u001b[0m         data \u001b[38;5;241m=\u001b[39m hdu\u001b[38;5;241m.\u001b[39mdata\u001b[38;5;241m.\u001b[39mastype(\u001b[38;5;28mbool\u001b[39m)\n\u001b[1;32m    118\u001b[0m     \u001b[38;5;28;01melse\u001b[39;00m:\n\u001b[0;32m--> 119\u001b[0m         data \u001b[38;5;241m=\u001b[39m \u001b[43mhdu\u001b[49m\u001b[38;5;241;43m.\u001b[39;49m\u001b[43mdata\u001b[49m\n\u001b[1;32m    121\u001b[0m     map_out \u001b[38;5;241m=\u001b[39m \u001b[38;5;28mcls\u001b[39m(geom\u001b[38;5;241m=\u001b[39mgeom, meta\u001b[38;5;241m=\u001b[39mmeta, data\u001b[38;5;241m=\u001b[39mdata, unit\u001b[38;5;241m=\u001b[39munit)\n\u001b[1;32m    123\u001b[0m \u001b[38;5;28;01mreturn\u001b[39;00m map_out\n",
      "File \u001b[0;32m/home/wecapstor1/caph/mppi045h/anaconda3/envs/gammapy-dev/lib/python3.8/site-packages/astropy/utils/decorators.py:841\u001b[0m, in \u001b[0;36mlazyproperty.__get__\u001b[0;34m(self, obj, owner)\u001b[0m\n\u001b[1;32m    839\u001b[0m         val \u001b[38;5;241m=\u001b[39m obj_dict\u001b[38;5;241m.\u001b[39mget(\u001b[38;5;28mself\u001b[39m\u001b[38;5;241m.\u001b[39m_key, _NotFound)\n\u001b[1;32m    840\u001b[0m         \u001b[38;5;28;01mif\u001b[39;00m val \u001b[38;5;129;01mis\u001b[39;00m _NotFound:\n\u001b[0;32m--> 841\u001b[0m             val \u001b[38;5;241m=\u001b[39m \u001b[38;5;28;43mself\u001b[39;49m\u001b[38;5;241;43m.\u001b[39;49m\u001b[43mfget\u001b[49m\u001b[43m(\u001b[49m\u001b[43mobj\u001b[49m\u001b[43m)\u001b[49m\n\u001b[1;32m    842\u001b[0m             obj_dict[\u001b[38;5;28mself\u001b[39m\u001b[38;5;241m.\u001b[39m_key] \u001b[38;5;241m=\u001b[39m val\n\u001b[1;32m    843\u001b[0m \u001b[38;5;28;01mreturn\u001b[39;00m val\n",
      "File \u001b[0;32m/home/wecapstor1/caph/mppi045h/anaconda3/envs/gammapy-dev/lib/python3.8/site-packages/astropy/io/fits/hdu/image.py:254\u001b[0m, in \u001b[0;36m_ImageBaseHDU.data\u001b[0;34m(self)\u001b[0m\n\u001b[1;32m    251\u001b[0m \u001b[38;5;28;01mif\u001b[39;00m \u001b[38;5;28mlen\u001b[39m(\u001b[38;5;28mself\u001b[39m\u001b[38;5;241m.\u001b[39m_axes) \u001b[38;5;241m<\u001b[39m \u001b[38;5;241m1\u001b[39m:\n\u001b[1;32m    252\u001b[0m     \u001b[38;5;28;01mreturn\u001b[39;00m\n\u001b[0;32m--> 254\u001b[0m data \u001b[38;5;241m=\u001b[39m \u001b[38;5;28;43mself\u001b[39;49m\u001b[38;5;241;43m.\u001b[39;49m\u001b[43m_get_scaled_image_data\u001b[49m\u001b[43m(\u001b[49m\u001b[38;5;28;43mself\u001b[39;49m\u001b[38;5;241;43m.\u001b[39;49m\u001b[43m_data_offset\u001b[49m\u001b[43m,\u001b[49m\u001b[43m \u001b[49m\u001b[38;5;28;43mself\u001b[39;49m\u001b[38;5;241;43m.\u001b[39;49m\u001b[43mshape\u001b[49m\u001b[43m)\u001b[49m\n\u001b[1;32m    255\u001b[0m \u001b[38;5;28mself\u001b[39m\u001b[38;5;241m.\u001b[39m_update_header_scale_info(data\u001b[38;5;241m.\u001b[39mdtype)\n\u001b[1;32m    257\u001b[0m \u001b[38;5;28;01mreturn\u001b[39;00m data\n",
      "File \u001b[0;32m/home/wecapstor1/caph/mppi045h/anaconda3/envs/gammapy-dev/lib/python3.8/site-packages/astropy/io/fits/hdu/image.py:823\u001b[0m, in \u001b[0;36m_ImageBaseHDU._get_scaled_image_data\u001b[0;34m(self, offset, shape)\u001b[0m\n\u001b[1;32m    815\u001b[0m \u001b[38;5;250m\u001b[39m\u001b[38;5;124;03m\"\"\"\u001b[39;00m\n\u001b[1;32m    816\u001b[0m \u001b[38;5;124;03mInternal function for reading image data from a file and apply scale\u001b[39;00m\n\u001b[1;32m    817\u001b[0m \u001b[38;5;124;03mfactors to it.  Normally this is used for the entire image, but it\u001b[39;00m\n\u001b[1;32m    818\u001b[0m \u001b[38;5;124;03msupports alternate offset/shape for Section support.\u001b[39;00m\n\u001b[1;32m    819\u001b[0m \u001b[38;5;124;03m\"\"\"\u001b[39;00m\n\u001b[1;32m    821\u001b[0m code \u001b[38;5;241m=\u001b[39m BITPIX2DTYPE[\u001b[38;5;28mself\u001b[39m\u001b[38;5;241m.\u001b[39m_orig_bitpix]\n\u001b[0;32m--> 823\u001b[0m raw_data \u001b[38;5;241m=\u001b[39m \u001b[38;5;28;43mself\u001b[39;49m\u001b[38;5;241;43m.\u001b[39;49m\u001b[43m_get_raw_data\u001b[49m\u001b[43m(\u001b[49m\u001b[43mshape\u001b[49m\u001b[43m,\u001b[49m\u001b[43m \u001b[49m\u001b[43mcode\u001b[49m\u001b[43m,\u001b[49m\u001b[43m \u001b[49m\u001b[43moffset\u001b[49m\u001b[43m)\u001b[49m\n\u001b[1;32m    824\u001b[0m raw_data\u001b[38;5;241m.\u001b[39mdtype \u001b[38;5;241m=\u001b[39m raw_data\u001b[38;5;241m.\u001b[39mdtype\u001b[38;5;241m.\u001b[39mnewbyteorder(\u001b[38;5;124m\"\u001b[39m\u001b[38;5;124m>\u001b[39m\u001b[38;5;124m\"\u001b[39m)\n\u001b[1;32m    826\u001b[0m \u001b[38;5;28;01mif\u001b[39;00m \u001b[38;5;28mself\u001b[39m\u001b[38;5;241m.\u001b[39m_do_not_scale_image_data \u001b[38;5;129;01mor\u001b[39;00m (\n\u001b[1;32m    827\u001b[0m     \u001b[38;5;28mself\u001b[39m\u001b[38;5;241m.\u001b[39m_orig_bzero \u001b[38;5;241m==\u001b[39m \u001b[38;5;241m0\u001b[39m \u001b[38;5;129;01mand\u001b[39;00m \u001b[38;5;28mself\u001b[39m\u001b[38;5;241m.\u001b[39m_orig_bscale \u001b[38;5;241m==\u001b[39m \u001b[38;5;241m1\u001b[39m \u001b[38;5;129;01mand\u001b[39;00m \u001b[38;5;28mself\u001b[39m\u001b[38;5;241m.\u001b[39m_blank \u001b[38;5;129;01mis\u001b[39;00m \u001b[38;5;28;01mNone\u001b[39;00m\n\u001b[1;32m    828\u001b[0m ):\n\u001b[1;32m    829\u001b[0m     \u001b[38;5;66;03m# No further conversion of the data is necessary\u001b[39;00m\n",
      "File \u001b[0;32m/home/wecapstor1/caph/mppi045h/anaconda3/envs/gammapy-dev/lib/python3.8/site-packages/astropy/io/fits/hdu/base.py:549\u001b[0m, in \u001b[0;36m_BaseHDU._get_raw_data\u001b[0;34m(self, shape, code, offset)\u001b[0m\n\u001b[1;32m    547\u001b[0m     \u001b[38;5;28;01mreturn\u001b[39;00m np\u001b[38;5;241m.\u001b[39mndarray(shape, dtype\u001b[38;5;241m=\u001b[39mcode, buffer\u001b[38;5;241m=\u001b[39m\u001b[38;5;28mself\u001b[39m\u001b[38;5;241m.\u001b[39m_buffer, offset\u001b[38;5;241m=\u001b[39moffset)\n\u001b[1;32m    548\u001b[0m \u001b[38;5;28;01melif\u001b[39;00m \u001b[38;5;28mself\u001b[39m\u001b[38;5;241m.\u001b[39m_file:\n\u001b[0;32m--> 549\u001b[0m     \u001b[38;5;28;01mreturn\u001b[39;00m \u001b[38;5;28;43mself\u001b[39;49m\u001b[38;5;241;43m.\u001b[39;49m\u001b[43m_file\u001b[49m\u001b[38;5;241;43m.\u001b[39;49m\u001b[43mreadarray\u001b[49m\u001b[43m(\u001b[49m\u001b[43moffset\u001b[49m\u001b[38;5;241;43m=\u001b[39;49m\u001b[43moffset\u001b[49m\u001b[43m,\u001b[49m\u001b[43m \u001b[49m\u001b[43mdtype\u001b[49m\u001b[38;5;241;43m=\u001b[39;49m\u001b[43mcode\u001b[49m\u001b[43m,\u001b[49m\u001b[43m \u001b[49m\u001b[43mshape\u001b[49m\u001b[38;5;241;43m=\u001b[39;49m\u001b[43mshape\u001b[49m\u001b[43m)\u001b[49m\n\u001b[1;32m    550\u001b[0m \u001b[38;5;28;01melse\u001b[39;00m:\n\u001b[1;32m    551\u001b[0m     \u001b[38;5;28;01mreturn\u001b[39;00m \u001b[38;5;28;01mNone\u001b[39;00m\n",
      "File \u001b[0;32m/home/wecapstor1/caph/mppi045h/anaconda3/envs/gammapy-dev/lib/python3.8/site-packages/astropy/io/fits/file.py:389\u001b[0m, in \u001b[0;36m_File.readarray\u001b[0;34m(self, size, offset, dtype, shape)\u001b[0m\n\u001b[1;32m    387\u001b[0m \u001b[38;5;28;01melse\u001b[39;00m:\n\u001b[1;32m    388\u001b[0m     count \u001b[38;5;241m=\u001b[39m reduce(operator\u001b[38;5;241m.\u001b[39mmul, shape)\n\u001b[0;32m--> 389\u001b[0m     \u001b[38;5;28;43mself\u001b[39;49m\u001b[38;5;241;43m.\u001b[39;49m\u001b[43m_file\u001b[49m\u001b[38;5;241;43m.\u001b[39;49m\u001b[43mseek\u001b[49m\u001b[43m(\u001b[49m\u001b[43moffset\u001b[49m\u001b[43m)\u001b[49m\n\u001b[1;32m    390\u001b[0m     data \u001b[38;5;241m=\u001b[39m _array_from_file(\u001b[38;5;28mself\u001b[39m\u001b[38;5;241m.\u001b[39m_file, dtype, count)\n\u001b[1;32m    391\u001b[0m     data\u001b[38;5;241m.\u001b[39mshape \u001b[38;5;241m=\u001b[39m shape\n",
      "File \u001b[0;32m/home/wecapstor1/caph/mppi045h/anaconda3/envs/gammapy-dev/lib/python3.8/gzip.py:384\u001b[0m, in \u001b[0;36mGzipFile.seek\u001b[0;34m(self, offset, whence)\u001b[0m\n\u001b[1;32m    382\u001b[0m \u001b[38;5;28;01melif\u001b[39;00m \u001b[38;5;28mself\u001b[39m\u001b[38;5;241m.\u001b[39mmode \u001b[38;5;241m==\u001b[39m READ:\n\u001b[1;32m    383\u001b[0m     \u001b[38;5;28mself\u001b[39m\u001b[38;5;241m.\u001b[39m_check_not_closed()\n\u001b[0;32m--> 384\u001b[0m     \u001b[38;5;28;01mreturn\u001b[39;00m \u001b[38;5;28;43mself\u001b[39;49m\u001b[38;5;241;43m.\u001b[39;49m\u001b[43m_buffer\u001b[49m\u001b[38;5;241;43m.\u001b[39;49m\u001b[43mseek\u001b[49m\u001b[43m(\u001b[49m\u001b[43moffset\u001b[49m\u001b[43m,\u001b[49m\u001b[43m \u001b[49m\u001b[43mwhence\u001b[49m\u001b[43m)\u001b[49m\n\u001b[1;32m    386\u001b[0m \u001b[38;5;28;01mreturn\u001b[39;00m \u001b[38;5;28mself\u001b[39m\u001b[38;5;241m.\u001b[39moffset\n",
      "File \u001b[0;32m/home/wecapstor1/caph/mppi045h/anaconda3/envs/gammapy-dev/lib/python3.8/_compression.py:143\u001b[0m, in \u001b[0;36mDecompressReader.seek\u001b[0;34m(self, offset, whence)\u001b[0m\n\u001b[1;32m    141\u001b[0m \u001b[38;5;66;03m# Read and discard data until we reach the desired position.\u001b[39;00m\n\u001b[1;32m    142\u001b[0m \u001b[38;5;28;01mwhile\u001b[39;00m offset \u001b[38;5;241m>\u001b[39m \u001b[38;5;241m0\u001b[39m:\n\u001b[0;32m--> 143\u001b[0m     data \u001b[38;5;241m=\u001b[39m \u001b[38;5;28;43mself\u001b[39;49m\u001b[38;5;241;43m.\u001b[39;49m\u001b[43mread\u001b[49m\u001b[43m(\u001b[49m\u001b[38;5;28;43mmin\u001b[39;49m\u001b[43m(\u001b[49m\u001b[43mio\u001b[49m\u001b[38;5;241;43m.\u001b[39;49m\u001b[43mDEFAULT_BUFFER_SIZE\u001b[49m\u001b[43m,\u001b[49m\u001b[43m \u001b[49m\u001b[43moffset\u001b[49m\u001b[43m)\u001b[49m\u001b[43m)\u001b[49m\n\u001b[1;32m    144\u001b[0m     \u001b[38;5;28;01mif\u001b[39;00m \u001b[38;5;129;01mnot\u001b[39;00m data:\n\u001b[1;32m    145\u001b[0m         \u001b[38;5;28;01mbreak\u001b[39;00m\n",
      "File \u001b[0;32m/home/wecapstor1/caph/mppi045h/anaconda3/envs/gammapy-dev/lib/python3.8/gzip.py:487\u001b[0m, in \u001b[0;36m_GzipReader.read\u001b[0;34m(self, size)\u001b[0m\n\u001b[1;32m    484\u001b[0m \u001b[38;5;66;03m# Read a chunk of data from the file\u001b[39;00m\n\u001b[1;32m    485\u001b[0m buf \u001b[38;5;241m=\u001b[39m \u001b[38;5;28mself\u001b[39m\u001b[38;5;241m.\u001b[39m_fp\u001b[38;5;241m.\u001b[39mread(io\u001b[38;5;241m.\u001b[39mDEFAULT_BUFFER_SIZE)\n\u001b[0;32m--> 487\u001b[0m uncompress \u001b[38;5;241m=\u001b[39m \u001b[38;5;28;43mself\u001b[39;49m\u001b[38;5;241;43m.\u001b[39;49m\u001b[43m_decompressor\u001b[49m\u001b[38;5;241;43m.\u001b[39;49m\u001b[43mdecompress\u001b[49m\u001b[43m(\u001b[49m\u001b[43mbuf\u001b[49m\u001b[43m,\u001b[49m\u001b[43m \u001b[49m\u001b[43msize\u001b[49m\u001b[43m)\u001b[49m\n\u001b[1;32m    488\u001b[0m \u001b[38;5;28;01mif\u001b[39;00m \u001b[38;5;28mself\u001b[39m\u001b[38;5;241m.\u001b[39m_decompressor\u001b[38;5;241m.\u001b[39munconsumed_tail \u001b[38;5;241m!=\u001b[39m \u001b[38;5;124mb\u001b[39m\u001b[38;5;124m\"\u001b[39m\u001b[38;5;124m\"\u001b[39m:\n\u001b[1;32m    489\u001b[0m     \u001b[38;5;28mself\u001b[39m\u001b[38;5;241m.\u001b[39m_fp\u001b[38;5;241m.\u001b[39mprepend(\u001b[38;5;28mself\u001b[39m\u001b[38;5;241m.\u001b[39m_decompressor\u001b[38;5;241m.\u001b[39munconsumed_tail)\n",
      "\u001b[0;31mKeyboardInterrupt\u001b[0m: "
     ]
    }
   ],
   "source": [
    "%%time\n",
    "datasets_N = []\n",
    "datasets= []\n",
    "datasets_input = []\n",
    "for i,l in enumerate(livetimes):\n",
    "    datasets_i  = Dataset_load.create_asimov(model = c['model'], source = c['source'], \n",
    "                                                   livetime = f\"{l}-hr\",\n",
    "                                            parameters = None)\n",
    "    \n",
    "    dataset_asimov_N, dataset_asimov, setup = set_up(datasets_i)\n",
    "    dataset_asimov_N.e_reco_n =e_reco_n\n",
    "    datasets.append( dataset_asimov)\n",
    "    datasets_N.append( dataset_asimov_N)\n",
    "    datasets_input.append(datasets_i)\n",
    "    fitting = 0\n",
    "    if fitting:\n",
    "        print(i, livetimes[i])\n",
    "        fit_cor = Fit(store_trace=0)\n",
    "        minuit_opts = {\"tol\": 0.1, \"strategy\": 2}\n",
    "        fit_cor.backend = \"minuit\"\n",
    "        fit_cor.optimize_opts = minuit_opts\n",
    "        result_cor = fit_cor.run(dataset_asimov)\n",
    "        print(result_cor)\n",
    "        print(\"saving\")\n",
    "        path = f'../{folder}/data/0_model_livetime_{livetimes[i]}.yml'\n",
    "        dataset_asimov.models.write(path,overwrite=True)\n",
    "        fig = plt.figure()\n",
    "        dataset_asimov.models.covariance.plot_correlation()\n",
    "        fig = plt.gcf()\n",
    "        fig.savefig(f'../{folder}/plots/0_cov_livetime_{livetimes[i]}.pdf')\n",
    "        plt.close()\n",
    "\n",
    "    else:\n",
    "        print(i)\n",
    "        path = f'../{folder}/data/0_model_livetime_{livetimes[i]}.yml'\n",
    "        dataset_asimov.models = Models.read(path)\n",
    "        print(path[:-4])\n",
    "        print(dataset_asimov.models)\n",
    "\n",
    "    fitting_N = 0\n",
    "\n",
    "    if fitting_N:\n",
    "        print(i)\n",
    "        fit_cor = Fit(store_trace=0)\n",
    "        minuit_opts = {\"tol\": 0.01, \"strategy\": 2}\n",
    "        fit_cor.backend = \"minuit\"\n",
    "        fit_cor.optimize_opts = minuit_opts\n",
    "        result_cor = fit_cor.run(dataset_asimov_N)\n",
    "        print(result_cor)\n",
    "        print(\"saving\")\n",
    "        path = f'../{folder}/data/0_model_nui_livetime_{livetimes[i]}_{e_reco_n}.yml'\n",
    "        dataset_asimov_N.models.write(path,overwrite=True)\n",
    "        dataset_asimov_N.models.covariance.plot_correlation()\n",
    "        fig = plt.gcf()\n",
    "        fig.savefig(f'../{folder}/plots/0_cov_nui_livetime_{livetimes[i]}.pdf')\n",
    "        plt.close()\n",
    "\n",
    "    else:\n",
    "        print(livetimes[i])\n",
    "        path = f'../{folder}/data/0_model_nui_livetime_{livetimes[i]}_{e_reco_n}.yml'\n",
    "        print(path)\n",
    "        try:\n",
    "            dataset_asimov_N = Dataset_load.load_dataset_N(dataset_asimov_N, path,bkg_sys = True,\n",
    "                                                   energy = dataset_asimov._geom.axes[0].center)   \n",
    "        except:\n",
    "            dataset_asimov_N = Dataset_load.load_dataset_N(dataset_asimov_N, path,bkg_sys = False,\n",
    "                                                   energy = dataset_asimov._geom.axes[0].center)   \n",
    "            dataset_asimov_N.models.parameters['tilt'].frozen = False \n",
    "\n",
    "\n",
    "    "
   ]
  },
  {
   "cell_type": "code",
   "execution_count": 7,
   "id": "9817bfbd-0171-4876-81c1-1bdbc1c6cfca",
   "metadata": {},
   "outputs": [
    {
     "ename": "FileNotFoundError",
     "evalue": "[Errno 2] No such file or directory: '../Combined100_PKSflare_crab_cutoff/data/0_model_nui_livetime_0.01_30.yml'",
     "output_type": "error",
     "traceback": [
      "\u001b[0;31m---------------------------------------------------------------------------\u001b[0m",
      "\u001b[0;31mFileNotFoundError\u001b[0m                         Traceback (most recent call last)",
      "Cell \u001b[0;32mIn[7], line 5\u001b[0m\n\u001b[1;32m      3\u001b[0m models_asimov\n\u001b[1;32m      4\u001b[0m path \u001b[38;5;241m=\u001b[39m \u001b[38;5;124mf\u001b[39m\u001b[38;5;124m'\u001b[39m\u001b[38;5;124m../\u001b[39m\u001b[38;5;132;01m{\u001b[39;00mfolder\u001b[38;5;132;01m}\u001b[39;00m\u001b[38;5;124m/data/0_model_nui_livetime_\u001b[39m\u001b[38;5;132;01m{\u001b[39;00mlivetimes[i]\u001b[38;5;132;01m}\u001b[39;00m\u001b[38;5;124m_\u001b[39m\u001b[38;5;132;01m{\u001b[39;00me_reco_n\u001b[38;5;132;01m}\u001b[39;00m\u001b[38;5;124m.yml\u001b[39m\u001b[38;5;124m'\u001b[39m\n\u001b[0;32m----> 5\u001b[0m models_asimov_N\u001b[38;5;241m.\u001b[39mappend(\u001b[43mModels\u001b[49m\u001b[38;5;241;43m.\u001b[39;49m\u001b[43mread\u001b[49m\u001b[43m(\u001b[49m\u001b[43mpath\u001b[49m\u001b[43m)\u001b[49m)\n\u001b[1;32m      6\u001b[0m path \u001b[38;5;241m=\u001b[39m \u001b[38;5;124mf\u001b[39m\u001b[38;5;124m'\u001b[39m\u001b[38;5;124m../\u001b[39m\u001b[38;5;132;01m{\u001b[39;00mfolder\u001b[38;5;132;01m}\u001b[39;00m\u001b[38;5;124m/data/0_model_livetime_\u001b[39m\u001b[38;5;132;01m{\u001b[39;00mlivetimes[i]\u001b[38;5;132;01m}\u001b[39;00m\u001b[38;5;124m.yml\u001b[39m\u001b[38;5;124m'\u001b[39m\n\u001b[1;32m      7\u001b[0m models_asimov\u001b[38;5;241m.\u001b[39mappend(Models\u001b[38;5;241m.\u001b[39mread(path))\n",
      "File \u001b[0;32m/home/wecapstor1/caph/mppi045h/gammapy/gammapy/modeling/models/core.py:436\u001b[0m, in \u001b[0;36mDatasetModels.read\u001b[0;34m(cls, filename)\u001b[0m\n\u001b[1;32m    433\u001b[0m \u001b[38;5;129m@classmethod\u001b[39m\n\u001b[1;32m    434\u001b[0m \u001b[38;5;28;01mdef\u001b[39;00m \u001b[38;5;21mread\u001b[39m(\u001b[38;5;28mcls\u001b[39m, filename):\n\u001b[1;32m    435\u001b[0m \u001b[38;5;250m    \u001b[39m\u001b[38;5;124;03m\"\"\"Read from YAML file.\"\"\"\u001b[39;00m\n\u001b[0;32m--> 436\u001b[0m     yaml_str \u001b[38;5;241m=\u001b[39m \u001b[43mmake_path\u001b[49m\u001b[43m(\u001b[49m\u001b[43mfilename\u001b[49m\u001b[43m)\u001b[49m\u001b[38;5;241;43m.\u001b[39;49m\u001b[43mread_text\u001b[49m\u001b[43m(\u001b[49m\u001b[43m)\u001b[49m\n\u001b[1;32m    437\u001b[0m     path, filename \u001b[38;5;241m=\u001b[39m split(filename)\n\u001b[1;32m    438\u001b[0m     \u001b[38;5;28;01mreturn\u001b[39;00m \u001b[38;5;28mcls\u001b[39m\u001b[38;5;241m.\u001b[39mfrom_yaml(yaml_str, path\u001b[38;5;241m=\u001b[39mpath)\n",
      "File \u001b[0;32m/home/wecapstor1/caph/mppi045h/anaconda3/envs/gammapy-dev/lib/python3.8/pathlib.py:1236\u001b[0m, in \u001b[0;36mPath.read_text\u001b[0;34m(self, encoding, errors)\u001b[0m\n\u001b[1;32m   1232\u001b[0m \u001b[38;5;28;01mdef\u001b[39;00m \u001b[38;5;21mread_text\u001b[39m(\u001b[38;5;28mself\u001b[39m, encoding\u001b[38;5;241m=\u001b[39m\u001b[38;5;28;01mNone\u001b[39;00m, errors\u001b[38;5;241m=\u001b[39m\u001b[38;5;28;01mNone\u001b[39;00m):\n\u001b[1;32m   1233\u001b[0m \u001b[38;5;250m    \u001b[39m\u001b[38;5;124;03m\"\"\"\u001b[39;00m\n\u001b[1;32m   1234\u001b[0m \u001b[38;5;124;03m    Open the file in text mode, read it, and close the file.\u001b[39;00m\n\u001b[1;32m   1235\u001b[0m \u001b[38;5;124;03m    \"\"\"\u001b[39;00m\n\u001b[0;32m-> 1236\u001b[0m     \u001b[38;5;28;01mwith\u001b[39;00m \u001b[38;5;28;43mself\u001b[39;49m\u001b[38;5;241;43m.\u001b[39;49m\u001b[43mopen\u001b[49m\u001b[43m(\u001b[49m\u001b[43mmode\u001b[49m\u001b[38;5;241;43m=\u001b[39;49m\u001b[38;5;124;43m'\u001b[39;49m\u001b[38;5;124;43mr\u001b[39;49m\u001b[38;5;124;43m'\u001b[39;49m\u001b[43m,\u001b[49m\u001b[43m \u001b[49m\u001b[43mencoding\u001b[49m\u001b[38;5;241;43m=\u001b[39;49m\u001b[43mencoding\u001b[49m\u001b[43m,\u001b[49m\u001b[43m \u001b[49m\u001b[43merrors\u001b[49m\u001b[38;5;241;43m=\u001b[39;49m\u001b[43merrors\u001b[49m\u001b[43m)\u001b[49m \u001b[38;5;28;01mas\u001b[39;00m f:\n\u001b[1;32m   1237\u001b[0m         \u001b[38;5;28;01mreturn\u001b[39;00m f\u001b[38;5;241m.\u001b[39mread()\n",
      "File \u001b[0;32m/home/wecapstor1/caph/mppi045h/anaconda3/envs/gammapy-dev/lib/python3.8/pathlib.py:1222\u001b[0m, in \u001b[0;36mPath.open\u001b[0;34m(self, mode, buffering, encoding, errors, newline)\u001b[0m\n\u001b[1;32m   1220\u001b[0m \u001b[38;5;28;01mif\u001b[39;00m \u001b[38;5;28mself\u001b[39m\u001b[38;5;241m.\u001b[39m_closed:\n\u001b[1;32m   1221\u001b[0m     \u001b[38;5;28mself\u001b[39m\u001b[38;5;241m.\u001b[39m_raise_closed()\n\u001b[0;32m-> 1222\u001b[0m \u001b[38;5;28;01mreturn\u001b[39;00m \u001b[43mio\u001b[49m\u001b[38;5;241;43m.\u001b[39;49m\u001b[43mopen\u001b[49m\u001b[43m(\u001b[49m\u001b[38;5;28;43mself\u001b[39;49m\u001b[43m,\u001b[49m\u001b[43m \u001b[49m\u001b[43mmode\u001b[49m\u001b[43m,\u001b[49m\u001b[43m \u001b[49m\u001b[43mbuffering\u001b[49m\u001b[43m,\u001b[49m\u001b[43m \u001b[49m\u001b[43mencoding\u001b[49m\u001b[43m,\u001b[49m\u001b[43m \u001b[49m\u001b[43merrors\u001b[49m\u001b[43m,\u001b[49m\u001b[43m \u001b[49m\u001b[43mnewline\u001b[49m\u001b[43m,\u001b[49m\n\u001b[1;32m   1223\u001b[0m \u001b[43m               \u001b[49m\u001b[43mopener\u001b[49m\u001b[38;5;241;43m=\u001b[39;49m\u001b[38;5;28;43mself\u001b[39;49m\u001b[38;5;241;43m.\u001b[39;49m\u001b[43m_opener\u001b[49m\u001b[43m)\u001b[49m\n",
      "File \u001b[0;32m/home/wecapstor1/caph/mppi045h/anaconda3/envs/gammapy-dev/lib/python3.8/pathlib.py:1078\u001b[0m, in \u001b[0;36mPath._opener\u001b[0;34m(self, name, flags, mode)\u001b[0m\n\u001b[1;32m   1076\u001b[0m \u001b[38;5;28;01mdef\u001b[39;00m \u001b[38;5;21m_opener\u001b[39m(\u001b[38;5;28mself\u001b[39m, name, flags, mode\u001b[38;5;241m=\u001b[39m\u001b[38;5;241m0o666\u001b[39m):\n\u001b[1;32m   1077\u001b[0m     \u001b[38;5;66;03m# A stub for the opener argument to built-in open()\u001b[39;00m\n\u001b[0;32m-> 1078\u001b[0m     \u001b[38;5;28;01mreturn\u001b[39;00m \u001b[38;5;28;43mself\u001b[39;49m\u001b[38;5;241;43m.\u001b[39;49m\u001b[43m_accessor\u001b[49m\u001b[38;5;241;43m.\u001b[39;49m\u001b[43mopen\u001b[49m\u001b[43m(\u001b[49m\u001b[38;5;28;43mself\u001b[39;49m\u001b[43m,\u001b[49m\u001b[43m \u001b[49m\u001b[43mflags\u001b[49m\u001b[43m,\u001b[49m\u001b[43m \u001b[49m\u001b[43mmode\u001b[49m\u001b[43m)\u001b[49m\n",
      "\u001b[0;31mFileNotFoundError\u001b[0m: [Errno 2] No such file or directory: '../Combined100_PKSflare_crab_cutoff/data/0_model_nui_livetime_0.01_30.yml'"
     ]
    }
   ],
   "source": [
    "models_asimov, models_asimov_N = [], []\n",
    "for i,l in enumerate(livetimes):\n",
    "    models_asimov\n",
    "    path = f'../{folder}/data/0_model_nui_livetime_{livetimes[i]}_{e_reco_n}.yml'\n",
    "    models_asimov_N.append(Models.read(path))\n",
    "    path = f'../{folder}/data/0_model_livetime_{livetimes[i]}.yml'\n",
    "    models_asimov.append(Models.read(path))\n",
    "    "
   ]
  },
  {
   "cell_type": "code",
   "execution_count": null,
   "id": "13e852b3",
   "metadata": {},
   "outputs": [],
   "source": [
    "def plot_residuals_spec():\n",
    "    fig,axs = plt.subplots(len(datasets), 1, figsize = (6, 5 * len(datasets)))\n",
    "    if len(datasets) ==1:\n",
    "        axs = np.array([axs])\n",
    "    axs= axs.flatten()\n",
    "    \n",
    "    energy_power = 2\n",
    "    for i, d in enumerate(datasets):\n",
    "        ax = axs[i]\n",
    "        live = livetimes[i]\n",
    "        dataset = datasets[i]\n",
    "        dataset_N = datasets_N[i]\n",
    "        dataset.plot_residuals_spectral(ax  = ax, color = awo[0], method = 'diff/sqrt(model)',\n",
    "                                       capsize = 2, label = \"no sys\")\n",
    "        dataset_N.plot_residuals_spectral(ax  = ax, color = aw[0], method = 'diff/sqrt(model)',\n",
    "                                             capsize = 2, marker = 'x', label = \"sys\")\n",
    "        ax.legend()\n",
    "    return axs\n",
    "        \n",
    "#axs = plot_residuals_spec()\n",
    "#axs[0].set_ylim(-5, 5)"
   ]
  },
  {
   "cell_type": "code",
   "execution_count": null,
   "id": "2762c3a4-f2c7-4c99-87be-82629958a417",
   "metadata": {},
   "outputs": [],
   "source": [
    "datasets_N[0].models[0]"
   ]
  },
  {
   "cell_type": "code",
   "execution_count": null,
   "id": "5bb388ca-d132-47ca-ad98-8e9cdb14b8f5",
   "metadata": {},
   "outputs": [],
   "source": [
    "datasets[0].models[0]"
   ]
  },
  {
   "cell_type": "code",
   "execution_count": null,
   "id": "d1474b42-5744-4ffa-9d80-d1d45b99440f",
   "metadata": {},
   "outputs": [],
   "source": [
    "labels = [str(int(l)) for l in livetimes]\n",
    "models_list_irf = [ d[-1] for d in models_asimov_N]\n",
    "models_list_piecebkg = [ d[-2] for d in models_asimov_N]\n",
    "\n",
    "pars =   [('bias', 'resolution'), ('norm', 'tilt')]\n",
    "\n",
    "colors_default =  plt.rcParams['axes.prop_cycle'].by_key()['color'] \n",
    "colors_default = colors_default* 5"
   ]
  },
  {
   "cell_type": "code",
   "execution_count": null,
   "id": "a6773eb2-5ef0-40d7-abea-43dadfa51bf0",
   "metadata": {},
   "outputs": [],
   "source": [
    "i = 0\n",
    "if models_list_irf[0] is not None:\n",
    "    fig,axs = plt.subplots(2,1)\n",
    "    for l, m in zip(livetimes, models_list_irf):\n",
    "        axs[0].plot(l, m.parameters[pars[0][0]].error, 'x', label = \"bias\", color = colors_default[i])\n",
    "        axs[0].plot(l, m.parameters[pars[0][1]].error, 'o' , label = \"resolution\", color = colors_default[i])\n",
    "        axs[1].plot(l, m.parameters[pars[1][0]].error, 'x' , label = \"norm\", color = colors_default[i])\n",
    "        axs[1].plot(l, m.parameters[pars[1][1]].error, 'o' , label = \"tilt\", color = colors_default[i])\n",
    "        i +=1\n",
    "\n",
    "\n",
    "    axs[0].plot([livetimes[0],livetimes[-1]], [bias, bias])\n",
    "    axs[0].plot([livetimes[0],livetimes[-1]], [resolution, resolution])\n",
    "    axs[1].plot([livetimes[0],livetimes[-1]], [norm, norm])\n",
    "    axs[1].plot([livetimes[0],livetimes[-1]], [tilt, tilt])  \n",
    "\n",
    "    for a in axs:\n",
    "        a.set_xscale(\"log\")\n",
    "        a.legend()\n",
    "\n",
    "\n",
    "        from collections import OrderedDict\n",
    "\n",
    "        handles, labels = a.get_legend_handles_labels()\n",
    "        by_label = OrderedDict(zip(labels, handles))\n",
    "        a.legend(by_label.values(), by_label.keys())\n",
    "\n",
    "    #axs[0].set_ylim(-0.01, 0.2)\n",
    "    fig.savefig(f'../{folder}/plots/{nbidx}_irf_fit_results.pdf')\n",
    "\n",
    "else:\n",
    "    for i, m in enumerate(models_list_piecebkg):\n",
    "        if \"norm0\" in m.parameters.names:\n",
    "            \n",
    "            plt.plot(m.spectral_model.energy.value, m.spectral_model.norms, \n",
    "                    label = livetimes[i])\n",
    "            plt.xscale(\"log\")\n",
    "            plt.xlabel(\"Energy [TeV]\")\n",
    "            plt.legend()\n",
    "            plt.ylabel(\"Fitted bkg sys\")\n",
    "            \n",
    "    plt.plot(setup.dataset_helper.background_model.spectral_model.energy,\n",
    "         setup.dataset_helper.background_model.spectral_model.norms, \n",
    "             color = 'black')\n",
    "    plt.xscale(\"log\")\n"
   ]
  },
  {
   "cell_type": "code",
   "execution_count": null,
   "id": "3884e426",
   "metadata": {},
   "outputs": [],
   "source": [
    "def plot_spectra_empty():\n",
    "    fig,axs = plt.subplots(len(datasets), 1, figsize = (6, 5 * len(datasets)))\n",
    "    if len(datasets) ==1:\n",
    "        axs = np.array([axs])\n",
    "    axs= axs.flatten()\n",
    "    \n",
    "    energy_power = 2\n",
    "    for i, d in enumerate(datasets):\n",
    "        ax = axs[i]\n",
    "        live = livetimes[i]\n",
    "        dataset = datasets[i]\n",
    "        dataset_N = datasets_N[i]\n",
    "        datasets_i.models[0].spectral_model.plot((0.4, 100) *u.TeV, energy_power = energy_power,\n",
    "                                                     color = 'black', ax = ax)  \n",
    "        models_asimov_N[i][0].spectral_model.plot((0.4, 100) *u.TeV, energy_power = energy_power,\n",
    "                                                     color = aw[0], ax = ax)   \n",
    "        \n",
    "        par = models_asimov_N[i].parameters['amplitude']\n",
    "        per = par.error /par.value\n",
    "        models_asimov_N[i][0].spectral_model.plot_error((0.4, 100) *u.TeV,energy_power = energy_power, ax = ax, \n",
    "                                                   facecolor= aw[1], alpha = 0.8, \n",
    "                                                     label = f'With nui par.\\n amplitude error =  {per*100:.3}\\% ')\n",
    "        models_asimov[i][0].spectral_model.plot((0.4, 100) *u.TeV,energy_power = energy_power, ax = ax, \n",
    "                                                   color= awo[0], linestyle = 'dashed')\n",
    "        par = models_asimov[i].parameters['amplitude']\n",
    "        per = par.error /par.value\n",
    "        models_asimov[i][0].spectral_model.plot_error((0.4, 100) *u.TeV,energy_power = energy_power, ax = ax, \n",
    "                                                   facecolor= awo[1], alpha = 0.8,\n",
    "                                                   label = f'W/o nui par.\\n amplitude error =  {per*100:.3}\\%')\n",
    "        ax.set_title(f\"Livetime: {float(live):.2} hr\")\n",
    "        ax.set_ylim(1e-14, 1e-10)\n",
    "\n",
    "        #if i <2:\n",
    "        #    ax.set_ylim(6e-13, 6e-9)\n",
    "            \n",
    "        ax.legend()\n",
    "    plt.tight_layout()\n",
    "    return fig\n",
    "        \n",
    "fig = plot_spectra_empty()\n",
    "fig.savefig(f'../{folder}/plots/{nbidx}_spectra.pdf')\n"
   ]
  },
  {
   "cell_type": "code",
   "execution_count": null,
   "id": "c9d6407d-182e-4852-9169-679eede0242b",
   "metadata": {},
   "outputs": [],
   "source": [
    "np.sqrt(15.4**2 - 6.73 ** 2)"
   ]
  },
  {
   "cell_type": "code",
   "execution_count": null,
   "id": "7f4050f0-112d-4af4-a487-96bdfb781fc1",
   "metadata": {},
   "outputs": [],
   "source": [
    "irf_model = models_asimov_N[0][2].eff_area_model.spectral_model.copy()\n",
    "irf_model.parameters['norm'].value  = 0.1\n",
    "irf_model.parameters['tilt'].value  = 0.02\n",
    "irf_model.parameters['reference'].value  = 1\n",
    "\n",
    "ax = irf_model.plot((0.4, 100 ) *u.TeV, label = \"E0 = 1 TeV\")\n",
    "#irf_model.plot_error((0.4, 100 ) *u.TeV)\n",
    "ax.set_yscale(\"linear\")\n",
    "print( \"E0 = 1 TeV\")\n",
    "print(f\"{irf_model.evaluate(norm = 0.1, tilt = 0.02, reference = 100*u.TeV, energy = 0.4*u.TeV):.4}  sys @ {0.4*u.TeV} \")\n",
    "print(f\"{irf_model.evaluate(norm = 0.1, tilt = 0.02, reference = 100*u.TeV, energy = 1*u.TeV):.4}  sys @ {1*u.TeV} \")\n",
    "print(f\"{irf_model.evaluate(norm = 0.1, tilt = 0.02, reference = 100*u.TeV, energy = 100*u.TeV):.4}  sys @ {100*u.TeV} \")\n",
    "\n",
    "\n",
    "irf_model = models_asimov_N[0][2].eff_area_model.spectral_model.copy()\n",
    "irf_model.parameters['norm'].value  = 0.1\n",
    "irf_model.parameters['tilt'].value  = 0.02\n",
    "\n",
    "ax = irf_model.plot((0.4, 100 ) *u.TeV, label = \"E0 = 100 TeV\")\n",
    "#irf_model.plot_error((0.4, 100 ) *u.TeV)\n",
    "ax.set_yscale(\"linear\")\n",
    "print()\n",
    "print( \"E0 = 100 TeV\")\n",
    "print(f\"{irf_model.evaluate(norm = 0.1, tilt = 0.02, reference = 100*u.TeV, energy = 0.4*u.TeV):.4}  sys @ {0.4*u.TeV} \")\n",
    "print(f\"{irf_model.evaluate(norm = 0.1, tilt = 0.02, reference = 100*u.TeV, energy = 1*u.TeV):.4}  sys @ {1*u.TeV} \")\n",
    "print(f\"{irf_model.evaluate(norm = 0.1, tilt = 0.02, reference = 100*u.TeV, energy = 100*u.TeV):.4}  sys @ {100*u.TeV} \")\n",
    "ax.legend();\n"
   ]
  },
  {
   "cell_type": "code",
   "execution_count": null,
   "id": "7494d121-c9f5-493f-8772-bdb91dad91c3",
   "metadata": {},
   "outputs": [],
   "source": [
    "pos = datasets_N[7].copy(name = datasets_N[7].name)\n",
    "pos.models = datasets_N[7].models.copy()\n",
    "pos.irf_model.parameters['norm'].value = 0.5\n",
    "pos.irf_model.parameters['norm'].frozen = True\n",
    "pos.irf_model.parameters['tilt'].value = 0.2\n",
    "pos.irf_model.parameters['tilt'].frozen = True\n",
    "plt.plot(pos.npred_signal(\"Crablog\").get_spectrum().data.flatten(), color = 'blue')\n",
    "print(pos.models)\n",
    "re = Fit().run(pos)\n",
    "plt.plot(pos.excess.get_spectrum().data.flatten(), marker = 'x')\n",
    "plt.plot(pos.npred_signal(\"Crablog\").get_spectrum().data.flatten(), color = 'black')\n",
    "plt.yscale(\"log\")\n",
    "print(pos.models)"
   ]
  },
  {
   "cell_type": "code",
   "execution_count": null,
   "id": "32979ad7-6ea6-4950-a18c-018b3847ed5f",
   "metadata": {},
   "outputs": [],
   "source": [
    "pos"
   ]
  },
  {
   "cell_type": "code",
   "execution_count": null,
   "id": "d840a096-4920-4818-9c96-0badf7fd5965",
   "metadata": {},
   "outputs": [],
   "source": [
    "ax = pos.models[0].spectral_model.plot((0.4, 100) *u.TeV, energy_power = 2, label = f\"POS: {pos.models[0].parameters['index'].value:.4}, {pos.models[0].parameters['amplitude'].value:.4}\")\n",
    "datasets_N[7].models[0].spectral_model.plot((0.4, 100) *u.TeV, ax =ax, energy_power = 2, label = f\"True: {datasets_N[7].models[0].parameters['index'].value:.4}, {datasets_N[7].models[0].parameters['amplitude'].value:.4}\")\n",
    "ax.legend()"
   ]
  },
  {
   "cell_type": "code",
   "execution_count": null,
   "id": "c0b19baf-2516-4099-bd34-7c6e5fd72161",
   "metadata": {},
   "outputs": [],
   "source": []
  },
  {
   "cell_type": "code",
   "execution_count": null,
   "id": "b4a7d56d-0bd2-4ea8-8a5b-a6b408665957",
   "metadata": {},
   "outputs": [],
   "source": []
  },
  {
   "cell_type": "code",
   "execution_count": null,
   "id": "7cea704d-f50d-435a-b6a9-781cbf11dea7",
   "metadata": {},
   "outputs": [],
   "source": [
    "\n",
    "pos.irf_model.parameters['norm'].value = 0.\n",
    "plt.plot(pos.npred_signal(\"Crablog\").get_spectrum().data.flatten())\n",
    "plt.plot(pos.excess.get_spectrum().data.flatten(), marker = 'x')\n",
    "pos.irf_model.parameters['norm'].value = 0.5\n",
    "plt.plot(pos.npred_signal(\"Crablog\").get_spectrum().data.flatten(), color = 'black')\n",
    "plt.yscale(\"log\")"
   ]
  },
  {
   "cell_type": "code",
   "execution_count": null,
   "id": "a2b26704-bb25-4755-9325-cf69a2349052",
   "metadata": {},
   "outputs": [],
   "source": [
    "res = Fit().run(pos)"
   ]
  },
  {
   "cell_type": "code",
   "execution_count": null,
   "id": "a284bfbb-a8fc-4882-912b-4fa202cfe990",
   "metadata": {},
   "outputs": [],
   "source": [
    "plt.plot(pos.excess.get_spectrum().data.flatten(), marker = 'x')\n",
    "plt.plot(pos.npred_signal(\"Crablog\").get_spectrum().data.flatten(), color = 'black')\n",
    "plt.yscale(\"log\")"
   ]
  },
  {
   "cell_type": "code",
   "execution_count": null,
   "id": "d95f7ef9-3879-44eb-987b-0a356cb7fc24",
   "metadata": {},
   "outputs": [],
   "source": [
    "ax = pos.models[0].spectral_model.plot((0.4, 100) *u.TeV, energy_power = 2, label = f\"POS: {pos.models[0].parameters['index'].value:.4}, {pos.models[0].parameters['amplitude'].value:.4}\")\n",
    "neg.models[0].spectral_model.plot((0.4, 100) *u.TeV, ax =ax, energy_power = 2, label = f\"NEG: {neg.models[0].parameters['index'].value:.4}, {neg.models[0].parameters['amplitude'].value:.4}\")\n",
    "datasets_N[7].models[0].spectral_model.plot((0.4, 100) *u.TeV, ax =ax, energy_power = 2, label = f\"True: {datasets_N[7].models[0].parameters['index'].value:.4}, {datasets_N[7].models[0].parameters['amplitude'].value:.4}\")\n",
    "ax.legend()"
   ]
  },
  {
   "cell_type": "code",
   "execution_count": null,
   "id": "5d2545b4-6b21-4ce1-a7b6-52553c2ce1fc",
   "metadata": {},
   "outputs": [],
   "source": [
    "compute = 1\n",
    "if compute:\n",
    "    stat_0 = []\n",
    "    for d in datasets:\n",
    "        s = d.stat_sum()\n",
    "        with d.models.parameters.restore_status():\n",
    "            d.models.parameters['amplitude'].value = 0 \n",
    "            d.models[0].parameters.freeze_all()\n",
    "            bkg = FoVBackgroundModel(dataset_name=d.name)\n",
    "            d.models= Models([bkg])\n",
    "            fit = Fit()\n",
    "            result= fit.optimize(d)\n",
    "            print(result)\n",
    "            stat_0.append(np.sqrt( d.stat_sum() - s))\n",
    "        print(stat_0)\n",
    "    np.savetxt( f'../{folder}/data/0_sqrtts.txt',  np.array(stat_0))\n",
    "else:\n",
    "    stat_0 = np.loadtxt( f'../{folder}/data/0_sqrtts.txt')\n",
    "stat_0"
   ]
  },
  {
   "cell_type": "code",
   "execution_count": null,
   "id": "fcb2da6c-8021-40c6-979e-1c9ef5710361",
   "metadata": {},
   "outputs": [],
   "source": [
    "from scipy.optimize import curve_fit\n",
    "if len(stat_0)>1:\n",
    "    # Given data\n",
    "    x_values =livetimes\n",
    "    y_values =stat_0\n",
    "\n",
    "    # Define the linear function\n",
    "    def linear_fit(x, a, b):\n",
    "        return a * x**b\n",
    "\n",
    "    # Perform the curve fit\n",
    "    params, covariance = curve_fit(linear_fit, x_values, y_values)\n",
    "    a_fit, b_fit = params\n",
    "\n",
    "    # Create a log-log plot\n",
    "    plt.figure(figsize=(8, 6))\n",
    "    plt.loglog(x_values, y_values, 'bo', label='Data Points')\n",
    "    plt.loglog(x_values, linear_fit(x_values, a_fit, b_fit), 'r--', label=f'Linear Fit: y = {a_fit:.2f} {b_fit:.2f}')\n",
    "    plt.xlabel('Livetime [hr]')\n",
    "    plt.ylabel('Sqrt(TS)')\n",
    "    plt.legend()\n",
    "    plt.show()\n",
    "\n",
    "\n",
    "    def compute_x_for_given_y(y_value, a, b):\n",
    "        \"\"\"\n",
    "        Computes the x value for a given y value using the linear fit equation.\n",
    "\n",
    "        Args:\n",
    "            y_value (float): The desired y value.\n",
    "            a (float): Coefficient 'a' from the linear fit equation.\n",
    "            b (float): Coefficient 'b' from the linear fit equation.\n",
    "\n",
    "        Returns:\n",
    "            float: The corresponding x value.\n",
    "        \"\"\"\n",
    "        # Solve for x using the inverse of the linear fit equation\n",
    "        x_value = (y_value / a) ** (1 / b)\n",
    "        return x_value\n",
    "\n",
    "    # Example usage\n",
    "    desired_y = 5  # Replace with your desired y value\n",
    "    computed_5 = compute_x_for_given_y(desired_y, a_fit, b_fit)\n",
    "    print(f\"For a desired sig of {desired_y:.2f}, the corresponding livetime is approximately {computed_5:.6f}.\")\n",
    "    desired_y = 50  # Replace with your desired y value\n",
    "    computed_50 = compute_x_for_given_y(desired_y, a_fit, b_fit)\n",
    "    print(f\"For a desired sig of {desired_y:.2f}, the corresponding livetime is approximately {computed_50:.6f}.\")\n"
   ]
  },
  {
   "cell_type": "code",
   "execution_count": null,
   "id": "82f21c5e-b71a-4ac7-87b6-540c87cbbc7c",
   "metadata": {},
   "outputs": [],
   "source": [
    "fontsize = 14\n",
    "\n",
    "inputvalues = {}\n",
    "for p in datasets_input[0].models[0].parameters:\n",
    "    inputvalues[p.name]  = p.value\n",
    "\n",
    "def plotting(parname = \"amplitude\", delta = 1):\n",
    "    fig = plt.figure(figsize  = (8,5))\n",
    "    inputvalue = inputvalues[parname]\n",
    "    \n",
    "    errs = []\n",
    "    errs_N = []\n",
    "    livetimes_ext = np.array(livetimes).copy(); livetimes_ext2 = np.array(livetimes).copy(); \n",
    "    livetimes_ext[-1] *=1.1;\n",
    "    livetimes_ext2[0:,] *=1.1; \n",
    "    livetimes_ext2 = np.insert(livetimes_ext2, 0, values =  livetimes_ext2[0]* 0.9)\n",
    "\n",
    "\n",
    "    for i, d in enumerate(datasets_N):\n",
    "        par = datasets[i].models[0].parameters[parname]\n",
    "        val, err = par.value, par.error\n",
    "        errs.append( err/ inputvalue )\n",
    "        plt.errorbar(livetimes[i], val/ inputvalue, yerr =  err/ inputvalue,  fmt='x', \n",
    "                     color = awo[0])\n",
    "\n",
    "        par = d.models[0].parameters[parname]\n",
    "        val, err = par.value, par.error\n",
    "        errs_N.append( err/ inputvalue)\n",
    "        plt.errorbar( 1.1* livetimes[i] , val/ inputvalue, yerr = err/ inputvalue,  fmt='x', \n",
    "                     color = aw[0])\n",
    "\n",
    "    \n",
    "\n",
    "    errs_N = np.insert(errs_N, 0, values =  errs_N[0])\n",
    "    plt.fill_between(  livetimes_ext2, 1- np.array(errs_N), 1+np.array(errs_N) \n",
    "                     ,color = aw[1], alpha = 0.8, label = '')\n",
    "    plt.fill_between( livetimes_ext, 1- np.array(errs), 1+np.array(errs)\n",
    "                     ,color = awo[1], alpha = 0.8, label = '')\n",
    "\n",
    "    plt.errorbar( np.nan, np.nan , yerr = np.nan, fmt='x', color = aw[0],\n",
    "                 label = 'fit with systematics')\n",
    "    plt.errorbar( np.nan, np.nan , yerr = np.nan, fmt='x', color = awo[0], \n",
    "                 label = 'fit w/o systematics')\n",
    "    ax1 = plt.gca()\n",
    "    xlim = ax1.get_xlim()\n",
    "    plt.hlines(1, xlim[0], xlim[1], color = 'grey')\n",
    "    #plt.title(\"Best Fit Amplitude\")\n",
    "    plt.legend(fontsize = fontsize)\n",
    "    plt.xscale('log')\n",
    "    plt.xlabel(\"Livetime [hr]\", fontsize = fontsize)\n",
    "    plt.ylabel(f\"Best-fit {parname} \\n[Input]\", fontsize = fontsize)\n",
    "\n",
    "    ax2 = ax1.twiny()\n",
    "    ax2.set_xscale(\"log\")\n",
    "    npred = [d.npred_signal().data.sum() for d in datasets]\n",
    "    \n",
    "    ax2.set_xlim(ax1.get_xlim())\n",
    "    ax2.set_xticks(livetimes)\n",
    "    clabels = [ f'{int(c)}' for c in npred]\n",
    "    ax2.set_xticklabels(clabels)\n",
    "    ax2.set_xlabel(r\"Signal Counts\", fontsize = fontsize)\n",
    "    plt.tight_layout()\n",
    "    ax = plt.gca()\n",
    "    ax.set_ylim(1- delta, 1. + delta)\n",
    "    sigma_color = 'black'\n",
    "    ax.vlines(computed_50, ax.get_ylim()[0], ax.get_ylim()[1], color = sigma_color,linestyle =  'dashed')\n",
    "    ax.vlines(computed_5, ax.get_ylim()[0], ax.get_ylim()[1], color = sigma_color,linestyle =  'dotted')\n",
    "    ax.text(computed_50*1.05, ax.get_ylim()[1]*0.9 ,\"50 $\\sigma$\", color = sigma_color, fontsize = fontsize)\n",
    "    ax.text(computed_5*1.05, ax.get_ylim()[1]*0.9 ,\"5 $\\sigma$\", color = sigma_color, fontsize = fontsize)\n",
    "    return fig"
   ]
  },
  {
   "cell_type": "code",
   "execution_count": null,
   "id": "e93917cb-90ad-4ccd-98e2-fe9cf2b57cef",
   "metadata": {},
   "outputs": [],
   "source": [
    "fig = plotting(parname = \"amplitude\", delta = 0.9)\n",
    "fontsize = 14\n",
    "fig.savefig(f'../{folder}/plots/{nbidx}_best_fit_vs_livetime_amplitude.svg')\n",
    "fig.savefig(f'../{folder}/plots/{nbidx}_best_fit_vs_livetime_amplitude.pdf')\n",
    "fig.savefig(f'../{folder}/plots/{nbidx}_best_fit_vs_livetime_amplitude.png')"
   ]
  },
  {
   "cell_type": "code",
   "execution_count": null,
   "id": "d3b33ce6",
   "metadata": {},
   "outputs": [],
   "source": [
    "parname = \"index\"\n",
    "fig = plotting(parname = parname, delta = 0.2)\n",
    "\n",
    "fig.savefig(f'../{folder}/plots/{nbidx}_best_fit_vs_livetime_{parname}.svg')\n",
    "fig.savefig(f'../{folder}/plots/{nbidx}_best_fit_vs_livetime_{parname}.pdf')\n",
    "fig.savefig(f'../{folder}/plots/{nbidx}_best_fit_vs_livetime_{parname}.png')"
   ]
  },
  {
   "cell_type": "code",
   "execution_count": null,
   "id": "652d0dbe-b4f1-45d1-983a-68f09f5294a8",
   "metadata": {},
   "outputs": [],
   "source": [
    "try:\n",
    "    parname = \"lambda_\"\n",
    "    fig = plotting(parname = parname, delta = 3)\n",
    "\n",
    "\n",
    "    fig.savefig(f'../{folder}/plots/{nbidx}_best_fit_vs_livetime_{parname}.svg')\n",
    "    fig.savefig(f'../{folder}/plots/{nbidx}_best_fit_vs_livetime_{parname}.pdf')\n",
    "    fig.savefig(f'../{folder}/plots/{nbidx}_best_fit_vs_livetime_{parname}.png')\n",
    "except:\n",
    "    print(\"no cutoff\")"
   ]
  },
  {
   "cell_type": "code",
   "execution_count": null,
   "id": "38ac1c3f-40b0-464d-ac3a-ef51646276bd",
   "metadata": {},
   "outputs": [],
   "source": [
    "try:\n",
    "    parname = \"sigma\"\n",
    "    fig = plotting(parname = parname, delta = 3)\n",
    "\n",
    "\n",
    "    fig.savefig(f'../{folder}/plots/{nbidx}_best_fit_vs_livetime_{parname}.svg')\n",
    "    fig.savefig(f'../{folder}/plots/{nbidx}_best_fit_vs_livetime_{parname}.pdf')\n",
    "    fig.savefig(f'../{folder}/plots/{nbidx}_best_fit_vs_livetime_{parname}.png')\n",
    "except:\n",
    "    print(\"no cutoff\")"
   ]
  },
  {
   "cell_type": "markdown",
   "id": "cf54338f-11dc-4c89-9aa8-eeb212698125",
   "metadata": {},
   "source": [
    "## BKG"
   ]
  },
  {
   "cell_type": "code",
   "execution_count": null,
   "id": "3d02026e-a5c2-4a8a-91f7-57a5e416d12a",
   "metadata": {},
   "outputs": [],
   "source": [
    "sys"
   ]
  },
  {
   "cell_type": "code",
   "execution_count": null,
   "id": "fb2c87bb-565b-4185-89ba-d0c5fd2501bc",
   "metadata": {},
   "outputs": [],
   "source": [
    "if sys == \"BKG\":\n",
    "    i = 7\n",
    "    fig, ax = plt.subplots(1,1)\n",
    "    method = 'diff'\n",
    "    datasets[i].plot_residuals_spectral(ax  = ax, color = awo[0], method = method,\n",
    "                                       capsize = 2, label = \"no sys\")\n",
    "    datasets_N[i].plot_residuals_spectral(ax  = ax, color = aw[0], method = method,\n",
    "                                             capsize = 2, marker = 'x', label = \"sys\")"
   ]
  },
  {
   "cell_type": "markdown",
   "id": "fe104f21-8266-42ab-90e1-cd917df835b0",
   "metadata": {},
   "source": [
    "## RND Fluxpoints"
   ]
  },
  {
   "cell_type": "code",
   "execution_count": null,
   "id": "0cc4d598-4bb5-47b8-8537-79befa14ac2d",
   "metadata": {},
   "outputs": [],
   "source": [
    "for i, d in enumerate(datasets):\n",
    "    l = livetimes[i]\n",
    "    print()\n",
    "    print(l)\n",
    "    dataset = datasets[i]\n",
    "    dataset_N = datasets_N[i]\n",
    "    parameters = dataset.models[0].parameters.names\n",
    "    for p in parameters:\n",
    "        \n",
    "        par = dataset.models[0].parameters[p]\n",
    "        per = par.error /par.value * 100 \n",
    "        print(f\"{p}:\")\n",
    "        print(f\"without {per:.4} %\")\n",
    "        par = dataset_N.models[0].parameters[p]\n",
    "        per = par.error /par.value * 100 \n",
    "        \n",
    "        print(f\"with    {per:.4} %\")        "
   ]
  },
  {
   "cell_type": "code",
   "execution_count": null,
   "id": "4c58a205-c0d9-4653-ae8a-8cf1e133b750",
   "metadata": {},
   "outputs": [],
   "source": [
    "datasets_N[7].models.covariance.plot_correlation()"
   ]
  },
  {
   "cell_type": "code",
   "execution_count": null,
   "id": "68f33e71-fd48-43cf-89e2-bf3e2bb587ab",
   "metadata": {},
   "outputs": [],
   "source": [
    "par_names = ['index', 'amplitude', 'lambda_', 'bias', 'resolution', 'norm' , \n",
    "            'tilt']\n",
    "names =  ['index', 'amplitude',  \n",
    "        'bkg norm', 'bkg tilt',\n",
    "          'bias', 'resolution',\n",
    "          'eff. area norm' , \n",
    "            'eff. area tilt']\n",
    "if fitting_N:\n",
    "    for i in range(len(livetimes)):\n",
    "\n",
    "        #datasets_N[i].models.read_covariance(\"data\", f\"8_model_nui_livetime_{livetimes[i]}_covariance.dat\", format=\"ascii.fixed_width\")\n",
    "        parameters = Parameters([_ for _ in datasets_N[i].models.parameters if _.name in par_names])\n",
    "        cov_par = datasets_N[i].models.covariance.get_subcovariance(parameters)\n",
    "        ax = cov_par.plot_correlation()\n",
    "        ax.set_title(str(livetimes[i]) + \" hr\")\n",
    "        fig = plt.gcf()\n",
    "        fig.savefig(f'../{folder}/plots/{nbidx}_covmatrix_livetime_{livetimes[i]}.svg')\n",
    "        fig.savefig(f'../{folder}/plots/{nbidx}_covmatrix_livetime_{livetimes[i]}.pdf')\n",
    "\n"
   ]
  },
  {
   "cell_type": "code",
   "execution_count": null,
   "id": "93720c75-d681-4377-a725-6cfe0bcc56b1",
   "metadata": {},
   "outputs": [],
   "source": [
    "for d in datasets:\n",
    "    d.models.covariance.plot_correlation()"
   ]
  },
  {
   "cell_type": "code",
   "execution_count": null,
   "id": "2afabaa2-e06e-4bae-a46f-85118f7e775a",
   "metadata": {},
   "outputs": [],
   "source": [
    "for d in datasets_N:\n",
    "    d.models.covariance.plot_correlation()"
   ]
  },
  {
   "cell_type": "code",
   "execution_count": null,
   "id": "596316a5-4fb9-4b4d-8d96-b78690a36521",
   "metadata": {},
   "outputs": [],
   "source": []
  },
  {
   "cell_type": "code",
   "execution_count": null,
   "id": "d82cdd80",
   "metadata": {},
   "outputs": [],
   "source": []
  },
  {
   "cell_type": "code",
   "execution_count": null,
   "id": "5c4e1fe9",
   "metadata": {},
   "outputs": [],
   "source": []
  }
 ],
 "metadata": {
  "kernelspec": {
   "display_name": "Python 3 (ipykernel)",
   "language": "python",
   "name": "python3"
  },
  "language_info": {
   "codemirror_mode": {
    "name": "ipython",
    "version": 3
   },
   "file_extension": ".py",
   "mimetype": "text/x-python",
   "name": "python",
   "nbconvert_exporter": "python",
   "pygments_lexer": "ipython3",
   "version": "3.8.16"
  },
  "varInspector": {
   "cols": {
    "lenName": 16,
    "lenType": 16,
    "lenVar": 40
   },
   "kernels_config": {
    "python": {
     "delete_cmd_postfix": "",
     "delete_cmd_prefix": "del ",
     "library": "var_list.py",
     "varRefreshCmd": "print(var_dic_list())"
    },
    "r": {
     "delete_cmd_postfix": ") ",
     "delete_cmd_prefix": "rm(",
     "library": "var_list.r",
     "varRefreshCmd": "cat(var_dic_list()) "
    }
   },
   "types_to_exclude": [
    "module",
    "function",
    "builtin_function_or_method",
    "instance",
    "_Feature"
   ],
   "window_display": false
  }
 },
 "nbformat": 4,
 "nbformat_minor": 5
}
