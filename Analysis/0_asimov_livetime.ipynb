{
 "cells": [
  {
   "cell_type": "markdown",
   "id": "e7853a11",
   "metadata": {},
   "source": [
    "## Runnning with gammapy-dev/IRF_model\n",
    "Fitting asimov datasets with nuisance parameters based on the different livetimes"
   ]
  },
  {
   "cell_type": "markdown",
   "id": "0e04af29",
   "metadata": {},
   "source": [
    "### Setup"
   ]
  },
  {
   "cell_type": "code",
   "execution_count": 1,
   "id": "27bf135a-5ee4-4ca1-8549-6bf07929003c",
   "metadata": {},
   "outputs": [],
   "source": [
    "import matplotlib.pyplot as plt\n",
    "import numpy as np\n",
    "import astropy.units as u\n",
    "from gammapy.maps import Map\n",
    "from astropy.coordinates import SkyCoord, Angle\n",
    "from gammapy.modeling import Fit,  Parameters, Covariance , Parameter\n",
    "from gammapy.datasets import MapDataset ,Datasets, FluxPointsDataset\n",
    "from gammapy.modeling.models import (\n",
    "    PowerLawSpectralModel,\n",
    "    SkyModel,\n",
    "    PointSpatialModel,\n",
    "    PowerLawNormSpectralModel,\n",
    "    Models,\n",
    "    SpatialModel,\n",
    "    FoVBackgroundModel,\n",
    "    PiecewiseNormSpectralModel,\n",
    ")\n",
    "from gammapy.estimators import TSMapEstimator, ExcessMapEstimator\n",
    "from gammapy.estimators import FluxPoints, FluxPointsEstimator\n",
    "\n",
    "from regions import CircleSkyRegion, RectangleSkyRegion\n",
    "import yaml\n",
    "import sys\n",
    "sys.path.append('../')\n",
    "import Dataset_load \n",
    "from matplotlib import rc\n",
    "rc(\"font\", **{\"family\": \"serif\", \"serif\": [\"Computer Modern\"]})\n",
    "rc(\"text\", usetex=True)\n",
    "from  Dataset_Setup import Setup, GaussianCovariance_matrix"
   ]
  },
  {
   "cell_type": "markdown",
   "id": "5de988df",
   "metadata": {
    "tags": []
   },
   "source": [
    "## Read dataset"
   ]
  },
  {
   "cell_type": "code",
   "execution_count": 2,
   "id": "0eeeaf75",
   "metadata": {},
   "outputs": [],
   "source": [
    "c = Dataset_load.load_config()\n",
    "awo, aw, ewo, ew = c['_colors']  "
   ]
  },
  {
   "cell_type": "code",
   "execution_count": 3,
   "id": "e0c45f4e-6432-405e-86b7-649e254c0950",
   "metadata": {},
   "outputs": [
    {
     "data": {
      "text/plain": [
       "'Combined'"
      ]
     },
     "execution_count": 3,
     "metadata": {},
     "output_type": "execute_result"
    }
   ],
   "source": [
    "livetimes = c['livetimes']\n",
    "zero = c['zero'] \n",
    "norm = c['norm'] \n",
    "tilt = c['tilt'] \n",
    "bias = c['bias'] \n",
    "resolution = c['resolution'] \n",
    "magnitude = c['magnitude'] \n",
    "corrlength = c['corrlength']\n",
    "sys = c['sys'] \n",
    "folder = c['folder']\n",
    "nbidx = 0\n",
    "sys"
   ]
  },
  {
   "cell_type": "code",
   "execution_count": 4,
   "id": "f94dc89c",
   "metadata": {},
   "outputs": [
    {
     "name": "stdout",
     "output_type": "stream",
     "text": [
      "loaded dataset:\n",
      "/home/katrin/Documents/nuisance_summary/PKS_flare/HESS_public/dataset-simulated-0.01-hr.fits.gz\n",
      "loaded dataset:\n",
      "/home/katrin/Documents/nuisance_summary/PKS_flare/HESS_public/dataset-simulated-0.021544346900318832-hr.fits.gz\n",
      "loaded dataset:\n",
      "/home/katrin/Documents/nuisance_summary/PKS_flare/HESS_public/dataset-simulated-0.046415888336127774-hr.fits.gz\n",
      "loaded dataset:\n",
      "/home/katrin/Documents/nuisance_summary/PKS_flare/HESS_public/dataset-simulated-0.1-hr.fits.gz\n",
      "loaded dataset:\n",
      "/home/katrin/Documents/nuisance_summary/PKS_flare/HESS_public/dataset-simulated-0.21544346900318834-hr.fits.gz\n",
      "loaded dataset:\n",
      "/home/katrin/Documents/nuisance_summary/PKS_flare/HESS_public/dataset-simulated-0.46415888336127775-hr.fits.gz\n",
      "loaded dataset:\n",
      "/home/katrin/Documents/nuisance_summary/PKS_flare/HESS_public/dataset-simulated-1.0-hr.fits.gz\n",
      "loaded dataset:\n",
      "/home/katrin/Documents/nuisance_summary/PKS_flare/HESS_public/dataset-simulated-2.154434690031884-hr.fits.gz\n",
      "loaded dataset:\n",
      "/home/katrin/Documents/nuisance_summary/PKS_flare/HESS_public/dataset-simulated-4.641588833612778-hr.fits.gz\n",
      "loaded dataset:\n",
      "/home/katrin/Documents/nuisance_summary/PKS_flare/HESS_public/dataset-simulated-10.0-hr.fits.gz\n",
      "loaded dataset:\n",
      "/home/katrin/Documents/nuisance_summary/PKS_flare/HESS_public/dataset-simulated-21.544346900318832-hr.fits.gz\n",
      "loaded dataset:\n",
      "/home/katrin/Documents/nuisance_summary/PKS_flare/HESS_public/dataset-simulated-46.41588833612777-hr.fits.gz\n",
      "loaded dataset:\n",
      "/home/katrin/Documents/nuisance_summary/PKS_flare/HESS_public/dataset-simulated-100.0-hr.fits.gz\n"
     ]
    }
   ],
   "source": [
    "datasets_input = []\n",
    "for l in livetimes:\n",
    "    datasets_i  = Dataset_load.create_asimov(model = c['model'], source = c['source'], \n",
    "                                                   livetime = f\"{l}-hr\",\n",
    "                                            parameters = None)\n",
    "    datasets_input.append(datasets_i)"
   ]
  },
  {
   "cell_type": "markdown",
   "id": "2e0399d4",
   "metadata": {},
   "source": [
    "## Datasets"
   ]
  },
  {
   "cell_type": "code",
   "execution_count": 5,
   "id": "b24b18ac-af52-48ac-bd1e-f03d21457fe4",
   "metadata": {},
   "outputs": [],
   "source": [
    "def set_up(dataset_input):\n",
    "    \n",
    "    setup = Setup(dataset_input=dataset_input)\n",
    "    #setup.set_up_irf_sys(bias, resolution, norm, tilt)\n",
    "    dataset_asimov, dataset_asimov_N = setup.run()\n",
    "    # irf model\n",
    "    setup.set_irf_model(dataset_asimov_N)\n",
    "    if sys == \"Eff_area\":\n",
    "        dataset_asimov_N.models.parameters['resolution'].frozen = True\n",
    "        dataset_asimov_N.irf_model.parameters['tilt'].frozen = False\n",
    "        dataset_asimov_N.irf_model.parameters['bias'].frozen = True\n",
    "        setup.set_irf_prior(dataset_asimov_N, bias, resolution, norm, tilt)\n",
    "        \n",
    "    if sys == \"E_reco\":\n",
    "        dataset_asimov_N.models.parameters['resolution'].frozen = True\n",
    "        dataset_asimov_N.irf_model.parameters['tilt'].frozen = True\n",
    "        dataset_asimov_N.irf_model.parameters['norm'].frozen = True\n",
    "        dataset_asimov_N.irf_model.parameters['bias'].frozen = False\n",
    "        setup.set_irf_prior(dataset_asimov_N, bias, resolution, norm, tilt)\n",
    "\n",
    "    if sys == \"Combined\":\n",
    "        dataset_asimov_N.models.parameters['resolution'].frozen = True\n",
    "        dataset_asimov_N.irf_model.parameters['tilt'].frozen = False\n",
    "        dataset_asimov_N.irf_model.parameters['bias'].frozen = False\n",
    "        setup.set_irf_prior(dataset_asimov_N, bias, resolution, norm, tilt)\n",
    "    \n",
    "    if sys == \"BKG\":\n",
    "        \n",
    "        # piece wise model\n",
    "        # remove old bkg model\n",
    "        setup.set_up_bkg_sys_V( breake = 10,\n",
    "                            index1 = 2,\n",
    "                            index2 = 1.5, \n",
    "                            magnitude = magnitude )\n",
    "        \n",
    "        dataset_asimov, dataset_asimov_N = setup.run()\n",
    "        \n",
    "        setup.unset_model(dataset_asimov_N, FoVBackgroundModel)\n",
    "        setup.set_piecewise_bkg_model(dataset_asimov_N)\n",
    "        # energy of the following parameters smaller than ethrshold\n",
    "        dataset_asimov_N.background_model.parameters['norm0'].frozen = True\n",
    "        dataset_asimov_N.background_model.parameters['norm1'].frozen = True\n",
    "        dataset_asimov_N.background_model.parameters['norm2'].frozen = True\n",
    "        dataset_asimov_N.background_model.parameters['norm3'].frozen = True\n",
    "        setup.set_bkg_prior(dataset_asimov_N, magnitude, corrlength)\n",
    "        \n",
    "       \n",
    "    return dataset_asimov_N, dataset_asimov"
   ]
  },
  {
   "cell_type": "code",
   "execution_count": 6,
   "id": "941d5494-e803-4ebd-9d72-3911c3629760",
   "metadata": {},
   "outputs": [],
   "source": [
    "datasets_N = []\n",
    "datasets = []\n",
    "for d in datasets_input:\n",
    "    dataset_asimov_N, dataset_asimov = set_up(d)\n",
    "    datasets_N.append(dataset_asimov_N)\n",
    "    datasets.append(dataset_asimov)"
   ]
  },
  {
   "cell_type": "code",
   "execution_count": 7,
   "id": "3b95663f",
   "metadata": {},
   "outputs": [
    {
     "name": "stderr",
     "output_type": "stream",
     "text": [
      "/home/katrin/Documents/gammapy/gammapy/datasets/map.py:1154: RuntimeWarning: invalid value encountered in divide\n",
      "  yerr = excess_error / np.sqrt(npred_spec.data)\n"
     ]
    },
    {
     "data": {
      "text/plain": [
       "<Axes: xlabel='Energy [$\\\\mathrm{TeV}$]', ylabel='Residuals ((data - model) / sqrt(model))'>"
      ]
     },
     "execution_count": 7,
     "metadata": {},
     "output_type": "execute_result"
    },
    {
     "data": {
      "image/png": "[encoded data removed]",
      "text/plain": [
       "<Figure size 640x480 with 1 Axes>"
      ]
     },
     "metadata": {},
     "output_type": "display_data"
    }
   ],
   "source": [
    "datasets_N[0].plot_residuals_spectral(method = 'diff/sqrt(model)')"
   ]
  },
  {
   "cell_type": "code",
   "execution_count": 9,
   "id": "b7a0cca1-827e-4946-8ad3-b4258f891a78",
   "metadata": {},
   "outputs": [
    {
     "name": "stdout",
     "output_type": "stream",
     "text": [
      "0\n",
      "OptimizeResult\n",
      "\n",
      "\tbackend    : minuit\n",
      "\tmethod     : migrad\n",
      "\tsuccess    : True\n",
      "\tmessage    : Optimization terminated successfully.\n",
      "\tnfev       : 108\n",
      "\ttotal stat : 903.82\n",
      "\n",
      "CovarianceResult\n",
      "\n",
      "\tbackend    : minuit\n",
      "\tmethod     : hesse\n",
      "\tsuccess    : True\n",
      "\tmessage    : Hesse terminated successfully.\n",
      "\n",
      "saving\n"
     ]
    },
    {
     "ename": "FileNotFoundError",
     "evalue": "[Errno 2] No such file or directory: '../Combined_PKSflare_crab_cutoff/data/0_model_livetime_0.01_covariance.dat'",
     "output_type": "error",
     "traceback": [
      "\u001b[0;31m---------------------------------------------------------------------------\u001b[0m",
      "\u001b[0;31mFileNotFoundError\u001b[0m                         Traceback (most recent call last)",
      "Cell \u001b[0;32mIn[9], line 10\u001b[0m\n\u001b[1;32m      8\u001b[0m         \u001b[38;5;28mprint\u001b[39m(\u001b[38;5;124m\"\u001b[39m\u001b[38;5;124msaving\u001b[39m\u001b[38;5;124m\"\u001b[39m)\n\u001b[1;32m      9\u001b[0m         path \u001b[38;5;241m=\u001b[39m \u001b[38;5;124mf\u001b[39m\u001b[38;5;124m'\u001b[39m\u001b[38;5;124m../\u001b[39m\u001b[38;5;132;01m{\u001b[39;00mfolder\u001b[38;5;132;01m}\u001b[39;00m\u001b[38;5;124m/data/0_model_livetime_\u001b[39m\u001b[38;5;132;01m{\u001b[39;00mlivetimes[i]\u001b[38;5;132;01m}\u001b[39;00m\u001b[38;5;124m.yml\u001b[39m\u001b[38;5;124m'\u001b[39m\n\u001b[0;32m---> 10\u001b[0m         \u001b[43md\u001b[49m\u001b[38;5;241;43m.\u001b[39;49m\u001b[43mmodels\u001b[49m\u001b[38;5;241;43m.\u001b[39;49m\u001b[43mwrite\u001b[49m\u001b[43m(\u001b[49m\u001b[43mpath\u001b[49m\u001b[43m,\u001b[49m\u001b[43moverwrite\u001b[49m\u001b[38;5;241;43m=\u001b[39;49m\u001b[38;5;28;43;01mTrue\u001b[39;49;00m\u001b[43m)\u001b[49m\n\u001b[1;32m     12\u001b[0m \u001b[38;5;28;01melse\u001b[39;00m:\n\u001b[1;32m     13\u001b[0m     \u001b[38;5;28mprint\u001b[39m(\u001b[38;5;124m\"\u001b[39m\u001b[38;5;124mread\u001b[39m\u001b[38;5;124m\"\u001b[39m)\n",
      "File \u001b[0;32m~/Documents/gammapy/gammapy/modeling/models/core.py:523\u001b[0m, in \u001b[0;36mDatasetModels.write\u001b[0;34m(self, path, overwrite, full_output, overwrite_templates, write_covariance, write_mulitnprior)\u001b[0m\n\u001b[1;32m    519\u001b[0m     filecovar \u001b[38;5;241m=\u001b[39m path\u001b[38;5;241m.\u001b[39mstem \u001b[38;5;241m+\u001b[39m \u001b[38;5;124m\"\u001b[39m\u001b[38;5;124m_covariance.dat\u001b[39m\u001b[38;5;124m\"\u001b[39m\n\u001b[1;32m    520\u001b[0m     kwargs \u001b[38;5;241m=\u001b[39m \u001b[38;5;28mdict\u001b[39m(\n\u001b[1;32m    521\u001b[0m         \u001b[38;5;28mformat\u001b[39m\u001b[38;5;241m=\u001b[39m\u001b[38;5;124m\"\u001b[39m\u001b[38;5;124mascii.fixed_width\u001b[39m\u001b[38;5;124m\"\u001b[39m, delimiter\u001b[38;5;241m=\u001b[39m\u001b[38;5;124m\"\u001b[39m\u001b[38;5;124m|\u001b[39m\u001b[38;5;124m\"\u001b[39m, overwrite\u001b[38;5;241m=\u001b[39moverwrite\n\u001b[1;32m    522\u001b[0m     )\n\u001b[0;32m--> 523\u001b[0m     \u001b[38;5;28;43mself\u001b[39;49m\u001b[38;5;241;43m.\u001b[39;49m\u001b[43mwrite_covariance\u001b[49m\u001b[43m(\u001b[49m\u001b[43mbase_path\u001b[49m\u001b[43m \u001b[49m\u001b[38;5;241;43m/\u001b[39;49m\u001b[43m \u001b[49m\u001b[43mfilecovar\u001b[49m\u001b[43m,\u001b[49m\u001b[43m \u001b[49m\u001b[38;5;241;43m*\u001b[39;49m\u001b[38;5;241;43m*\u001b[39;49m\u001b[43mkwargs\u001b[49m\u001b[43m)\u001b[49m\n\u001b[1;32m    524\u001b[0m     \u001b[38;5;28mself\u001b[39m\u001b[38;5;241m.\u001b[39m_covar_file \u001b[38;5;241m=\u001b[39m filecovar\n\u001b[1;32m    525\u001b[0m \u001b[38;5;28;01mif\u001b[39;00m write_mulitnprior \u001b[38;5;129;01mand\u001b[39;00m \u001b[38;5;28mself\u001b[39m\u001b[38;5;241m.\u001b[39mpriors \u001b[38;5;129;01mis\u001b[39;00m \u001b[38;5;129;01mnot\u001b[39;00m \u001b[38;5;28;01mNone\u001b[39;00m:\n",
      "File \u001b[0;32m~/Documents/gammapy/gammapy/modeling/models/core.py:637\u001b[0m, in \u001b[0;36mDatasetModels.write_covariance\u001b[0;34m(self, filename, **kwargs)\u001b[0m\n\u001b[1;32m    634\u001b[0m     values \u001b[38;5;241m=\u001b[39m \u001b[38;5;28mself\u001b[39m\u001b[38;5;241m.\u001b[39mcovariance\u001b[38;5;241m.\u001b[39mdata[idx]\n\u001b[1;32m    635\u001b[0m     table[\u001b[38;5;28mstr\u001b[39m(idx)] \u001b[38;5;241m=\u001b[39m values\n\u001b[0;32m--> 637\u001b[0m \u001b[43mtable\u001b[49m\u001b[38;5;241;43m.\u001b[39;49m\u001b[43mwrite\u001b[49m\u001b[43m(\u001b[49m\u001b[43mmake_path\u001b[49m\u001b[43m(\u001b[49m\u001b[43mfilename\u001b[49m\u001b[43m)\u001b[49m\u001b[43m,\u001b[49m\u001b[43m \u001b[49m\u001b[38;5;241;43m*\u001b[39;49m\u001b[38;5;241;43m*\u001b[39;49m\u001b[43mkwargs\u001b[49m\u001b[43m)\u001b[49m\n",
      "File \u001b[0;32m~/anaconda3/envs/gammapy-dev/lib/python3.9/site-packages/astropy/table/connect.py:130\u001b[0m, in \u001b[0;36mTableWrite.__call__\u001b[0;34m(self, serialize_method, *args, **kwargs)\u001b[0m\n\u001b[1;32m    128\u001b[0m instance \u001b[38;5;241m=\u001b[39m \u001b[38;5;28mself\u001b[39m\u001b[38;5;241m.\u001b[39m_instance\n\u001b[1;32m    129\u001b[0m \u001b[38;5;28;01mwith\u001b[39;00m serialize_method_as(instance, serialize_method):\n\u001b[0;32m--> 130\u001b[0m     \u001b[38;5;28;43mself\u001b[39;49m\u001b[38;5;241;43m.\u001b[39;49m\u001b[43mregistry\u001b[49m\u001b[38;5;241;43m.\u001b[39;49m\u001b[43mwrite\u001b[49m\u001b[43m(\u001b[49m\u001b[43minstance\u001b[49m\u001b[43m,\u001b[49m\u001b[43m \u001b[49m\u001b[38;5;241;43m*\u001b[39;49m\u001b[43margs\u001b[49m\u001b[43m,\u001b[49m\u001b[43m \u001b[49m\u001b[38;5;241;43m*\u001b[39;49m\u001b[38;5;241;43m*\u001b[39;49m\u001b[43mkwargs\u001b[49m\u001b[43m)\u001b[49m\n",
      "File \u001b[0;32m~/anaconda3/envs/gammapy-dev/lib/python3.9/site-packages/astropy/io/registry/core.py:383\u001b[0m, in \u001b[0;36mUnifiedOutputRegistry.write\u001b[0;34m(self, data, format, *args, **kwargs)\u001b[0m\n\u001b[1;32m    378\u001b[0m     \u001b[38;5;28mformat\u001b[39m \u001b[38;5;241m=\u001b[39m \u001b[38;5;28mself\u001b[39m\u001b[38;5;241m.\u001b[39m_get_valid_format(\n\u001b[1;32m    379\u001b[0m         \u001b[38;5;124m\"\u001b[39m\u001b[38;5;124mwrite\u001b[39m\u001b[38;5;124m\"\u001b[39m, data\u001b[38;5;241m.\u001b[39m\u001b[38;5;18m__class__\u001b[39m, path, fileobj, args, kwargs\n\u001b[1;32m    380\u001b[0m     )\n\u001b[1;32m    382\u001b[0m writer \u001b[38;5;241m=\u001b[39m \u001b[38;5;28mself\u001b[39m\u001b[38;5;241m.\u001b[39mget_writer(\u001b[38;5;28mformat\u001b[39m, data\u001b[38;5;241m.\u001b[39m\u001b[38;5;18m__class__\u001b[39m)\n\u001b[0;32m--> 383\u001b[0m \u001b[38;5;28;01mreturn\u001b[39;00m \u001b[43mwriter\u001b[49m\u001b[43m(\u001b[49m\u001b[43mdata\u001b[49m\u001b[43m,\u001b[49m\u001b[43m \u001b[49m\u001b[38;5;241;43m*\u001b[39;49m\u001b[43margs\u001b[49m\u001b[43m,\u001b[49m\u001b[43m \u001b[49m\u001b[38;5;241;43m*\u001b[39;49m\u001b[38;5;241;43m*\u001b[39;49m\u001b[43mkwargs\u001b[49m\u001b[43m)\u001b[49m\n",
      "File \u001b[0;32m~/anaconda3/envs/gammapy-dev/lib/python3.9/site-packages/astropy/io/ascii/connect.py:28\u001b[0m, in \u001b[0;36mio_write\u001b[0;34m(format, table, filename, **kwargs)\u001b[0m\n\u001b[1;32m     26\u001b[0m     \u001b[38;5;28mformat\u001b[39m \u001b[38;5;241m=\u001b[39m re\u001b[38;5;241m.\u001b[39msub(\u001b[38;5;124mr\u001b[39m\u001b[38;5;124m\"\u001b[39m\u001b[38;5;124m^ascii\u001b[39m\u001b[38;5;124m\\\u001b[39m\u001b[38;5;124m.\u001b[39m\u001b[38;5;124m\"\u001b[39m, \u001b[38;5;124m\"\u001b[39m\u001b[38;5;124m\"\u001b[39m, \u001b[38;5;28mformat\u001b[39m)\n\u001b[1;32m     27\u001b[0m     kwargs[\u001b[38;5;124m\"\u001b[39m\u001b[38;5;124mformat\u001b[39m\u001b[38;5;124m\"\u001b[39m] \u001b[38;5;241m=\u001b[39m \u001b[38;5;28mformat\u001b[39m\n\u001b[0;32m---> 28\u001b[0m \u001b[38;5;28;01mreturn\u001b[39;00m \u001b[43mwrite\u001b[49m\u001b[43m(\u001b[49m\u001b[43mtable\u001b[49m\u001b[43m,\u001b[49m\u001b[43m \u001b[49m\u001b[43mfilename\u001b[49m\u001b[43m,\u001b[49m\u001b[43m \u001b[49m\u001b[38;5;241;43m*\u001b[39;49m\u001b[38;5;241;43m*\u001b[39;49m\u001b[43mkwargs\u001b[49m\u001b[43m)\u001b[49m\n",
      "File \u001b[0;32m~/anaconda3/envs/gammapy-dev/lib/python3.9/site-packages/astropy/io/ascii/ui.py:990\u001b[0m, in \u001b[0;36mwrite\u001b[0;34m(table, output, format, Writer, fast_writer, overwrite, **kwargs)\u001b[0m\n\u001b[1;32m    984\u001b[0m outstr \u001b[38;5;241m=\u001b[39m os\u001b[38;5;241m.\u001b[39mlinesep\u001b[38;5;241m.\u001b[39mjoin(lines)\n\u001b[1;32m    985\u001b[0m \u001b[38;5;28;01mif\u001b[39;00m \u001b[38;5;129;01mnot\u001b[39;00m \u001b[38;5;28mhasattr\u001b[39m(output, \u001b[38;5;124m\"\u001b[39m\u001b[38;5;124mwrite\u001b[39m\u001b[38;5;124m\"\u001b[39m):\n\u001b[1;32m    986\u001b[0m     \u001b[38;5;66;03m# NOTE: we need to specify newline='', otherwise the default\u001b[39;00m\n\u001b[1;32m    987\u001b[0m     \u001b[38;5;66;03m# behavior is for Python to translate \\r\\n (which we write because\u001b[39;00m\n\u001b[1;32m    988\u001b[0m     \u001b[38;5;66;03m# of os.linesep) into \\r\\r\\n. Specifying newline='' disables any\u001b[39;00m\n\u001b[1;32m    989\u001b[0m     \u001b[38;5;66;03m# auto-translation.\u001b[39;00m\n\u001b[0;32m--> 990\u001b[0m     output \u001b[38;5;241m=\u001b[39m \u001b[38;5;28;43mopen\u001b[39;49m\u001b[43m(\u001b[49m\u001b[43moutput\u001b[49m\u001b[43m,\u001b[49m\u001b[43m \u001b[49m\u001b[38;5;124;43m\"\u001b[39;49m\u001b[38;5;124;43mw\u001b[39;49m\u001b[38;5;124;43m\"\u001b[39;49m\u001b[43m,\u001b[49m\u001b[43m \u001b[49m\u001b[43mnewline\u001b[49m\u001b[38;5;241;43m=\u001b[39;49m\u001b[38;5;124;43m\"\u001b[39;49m\u001b[38;5;124;43m\"\u001b[39;49m\u001b[43m)\u001b[49m\n\u001b[1;32m    991\u001b[0m     output\u001b[38;5;241m.\u001b[39mwrite(outstr)\n\u001b[1;32m    992\u001b[0m     output\u001b[38;5;241m.\u001b[39mwrite(os\u001b[38;5;241m.\u001b[39mlinesep)\n",
      "\u001b[0;31mFileNotFoundError\u001b[0m: [Errno 2] No such file or directory: '../Combined_PKSflare_crab_cutoff/data/0_model_livetime_0.01_covariance.dat'"
     ]
    }
   ],
   "source": [
    "fitting = 1\n",
    "if fitting:\n",
    "    for i, d in enumerate(datasets):\n",
    "        print(i)\n",
    "        fit_cor = Fit(store_trace=0)\n",
    "        result_cor = fit_cor.run(d)\n",
    "        print(result_cor)\n",
    "        print(\"saving\")\n",
    "        path = f'../{folder}/data/0_model_livetime_{livetimes[i]}.yml'\n",
    "        d.models.write(path,overwrite=True)\n",
    "    \n",
    "else:\n",
    "    print(\"read\")\n",
    "    for i, d in enumerate(datasets):\n",
    "        print(i)\n",
    "        path = f'../{folder}/data/0_model_livetime_{livetimes[i]}.yml'\n",
    "        datasets[i].models = Models.read(path)\n"
   ]
  },
  {
   "cell_type": "code",
   "execution_count": null,
   "id": "1ac3ce9d",
   "metadata": {},
   "outputs": [],
   "source": [
    "fitting_N = 1\n",
    "\n",
    "if fitting_N:\n",
    "    \n",
    "    for i, d in enumerate(datasets_N):\n",
    "        print(i)\n",
    "        fit_cor = Fit(store_trace=0)\n",
    "        minuit_opts = {\"tol\": 0.001, \"strategy\": 1}\n",
    "        fit_cor.backend = \"minuit\"\n",
    "        fit_cor.optimize_opts = minuit_opts\n",
    "        result_cor = fit_cor.run(d)\n",
    "        print(result_cor)\n",
    "        print(\"saving\")\n",
    "        path = f'../{folder}/data/0_model_nui_livetime_{livetimes[i]}.yml'\n",
    "        d.models.write(path,overwrite=True)\n",
    "    \n",
    "else:\n",
    "    print(\"read\")\n",
    "    for i, d in enumerate(datasets_N):\n",
    "        print(i)\n",
    "        path = f'../{folder}/data/0_model_nui_livetime_{livetimes[i]}.yml'\n",
    "        print(path)\n",
    "        datasets_N[i] = Dataset_load.load_dataset_N(d, path,bkg_sys = True,\n",
    "                                                   energy = dataset_asimov._geom.axes[0].center)        \n",
    "        datasets_N[i].models.parameters['tilt'].frozen = False \n",
    "    \n",
    "\n",
    "#39min 32"
   ]
  },
  {
   "cell_type": "code",
   "execution_count": null,
   "id": "13e852b3",
   "metadata": {},
   "outputs": [],
   "source": [
    "def plot_residuals_spec():\n",
    "    fig,axs = plt.subplots(len(datasets), 1, figsize = (6, 5 * len(datasets)))\n",
    "    if len(datasets) ==1:\n",
    "        axs = np.array([axs])\n",
    "    axs= axs.flatten()\n",
    "    \n",
    "    energy_power = 2\n",
    "    for i, d in enumerate(datasets):\n",
    "        ax = axs[i]\n",
    "        live = livetimes[i]\n",
    "        dataset = datasets[i]\n",
    "        dataset_N = datasets_N[i]\n",
    "        dataset.plot_residuals_spectral(ax  = ax, color = awo[0], method = 'diff/sqrt(model)',\n",
    "                                       capsize = 2)\n",
    "        dataset_N.plot_residuals_spectral(ax  = ax, color = aw[0], method = 'diff/sqrt(model)',\n",
    "                                         capsize = 2, marker = 'x')\n",
    "    return axs\n",
    "        \n",
    "axs = plot_residuals_spec()\n",
    "axs[0].set_ylim(-5, 5)"
   ]
  },
  {
   "cell_type": "code",
   "execution_count": null,
   "id": "d1474b42-5744-4ffa-9d80-d1d45b99440f",
   "metadata": {},
   "outputs": [],
   "source": [
    "labels = [str(int(l)) for l in livetimes]\n",
    "models_list_irf = [ d.irf_model for d in datasets_N]\n",
    "models_list_piecebkg = [ d.background_model for d in datasets_N]\n",
    "\n",
    "pars =   [('bias', 'resolution'), ('norm', 'tilt')]\n",
    "\n",
    "colors_default =  plt.rcParams['axes.prop_cycle'].by_key()['color'] \n",
    "colors_default = colors_default* 5"
   ]
  },
  {
   "cell_type": "code",
   "execution_count": null,
   "id": "a6773eb2-5ef0-40d7-abea-43dadfa51bf0",
   "metadata": {},
   "outputs": [],
   "source": [
    "i = 0\n",
    "if models_list_irf[0] is not None:\n",
    "    fig,axs = plt.subplots(2,1)\n",
    "    for l, m in zip(livetimes, models_list_irf):\n",
    "        axs[0].plot(l, m.parameters[pars[0][0]].error, 'x', label = \"bias\", color = colors_default[i])\n",
    "        axs[0].plot(l, m.parameters[pars[0][1]].error, 'o' , label = \"resolution\", color = colors_default[i])\n",
    "        axs[1].plot(l, m.parameters[pars[1][0]].error, 'x' , label = \"norm\", color = colors_default[i])\n",
    "        axs[1].plot(l, m.parameters[pars[1][1]].error, 'o' , label = \"tilt\", color = colors_default[i])\n",
    "        i +=1\n",
    "\n",
    "\n",
    "    axs[0].plot([livetimes[0],livetimes[-1]], [bias, bias])\n",
    "    axs[0].plot([livetimes[0],livetimes[-1]], [resolution, resolution])\n",
    "    axs[1].plot([livetimes[0],livetimes[-1]], [norm, norm])\n",
    "    axs[1].plot([livetimes[0],livetimes[-1]], [tilt, tilt])  \n",
    "\n",
    "    for a in axs:\n",
    "        a.set_xscale(\"log\")\n",
    "        a.legend()\n",
    "\n",
    "\n",
    "        from collections import OrderedDict\n",
    "\n",
    "        handles, labels = a.get_legend_handles_labels()\n",
    "        by_label = OrderedDict(zip(labels, handles))\n",
    "        a.legend(by_label.values(), by_label.keys())\n",
    "\n",
    "    #axs[0].set_ylim(-0.01, 0.2)\n",
    "    fig.savefig(f'../{folder}/plots/{nbidx}_irf_fit_results.pdf')\n",
    "\n",
    "else:\n",
    "    for m in models_list_piecebkg:\n",
    "        if \"norm0\" in m.parameters.names:\n",
    "            plt.plot(m.spectral_model.energy.value, m.spectral_model.norms)\n",
    "            plt.xscale(\"log\")\n",
    "            plt.xlabel(\"Energy [TeV]\")\n",
    "            plt.ylabel(\"Fitted bkg sys\")"
   ]
  },
  {
   "cell_type": "code",
   "execution_count": null,
   "id": "781639e8-7bae-47a8-9bbc-b9e4ca1c08ae",
   "metadata": {},
   "outputs": [],
   "source": [
    "print(datasets_N[7].models)"
   ]
  },
  {
   "cell_type": "code",
   "execution_count": null,
   "id": "3742feca-64d7-4f69-bd6f-1cf75ec4d8b4",
   "metadata": {},
   "outputs": [],
   "source": [
    "np.sqrt(0.06/2.51 **2 + 0.02 ** 2)"
   ]
  },
  {
   "cell_type": "code",
   "execution_count": null,
   "id": "ab359566-e514-447b-8df8-08e7686723ed",
   "metadata": {},
   "outputs": [],
   "source": [
    "print(datasets[7].models[0])"
   ]
  },
  {
   "cell_type": "code",
   "execution_count": null,
   "id": "30658e52",
   "metadata": {},
   "outputs": [],
   "source": [
    "ax = datasets_N[0].models[0].spectral_model.plot((0.1, 100) *u.TeV, energy_power = 2,\n",
    "                                                     color = aw[0], ) \\\n",
    "\n",
    "datasets_N[0].models[0].spectral_model.plot_error((0.1, 100) *u.TeV, energy_power = 2,\n",
    "                                                     facecolor = aw[1], ax = ax) \n",
    "\n",
    "datasets[0].models[0].spectral_model.plot((0.1, 100) *u.TeV, energy_power = 2,\n",
    "                                                     color = awo[0], ax = ax) "
   ]
  },
  {
   "cell_type": "code",
   "execution_count": null,
   "id": "3884e426",
   "metadata": {},
   "outputs": [],
   "source": [
    "def plot_spectra_empty():\n",
    "    fig,axs = plt.subplots(len(datasets), 1, figsize = (6, 5 * len(datasets)))\n",
    "    if len(datasets) ==1:\n",
    "        axs = np.array([axs])\n",
    "    axs= axs.flatten()\n",
    "    \n",
    "    energy_power = 2\n",
    "    for i, d in enumerate(datasets):\n",
    "        ax = axs[i]\n",
    "        live = livetimes[i]\n",
    "        dataset = datasets[i]\n",
    "        dataset_N = datasets_N[i]\n",
    "        dataset_N.models[0].spectral_model.plot((0.1, 100) *u.TeV, energy_power = energy_power,\n",
    "                                                     color = aw[0], ax = ax)   \n",
    "        \n",
    "        par = dataset_N.models[0].parameters['amplitude']\n",
    "        per = par.error /par.value\n",
    "        dataset_N.models[0].spectral_model.plot_error((0.1, 100) *u.TeV,energy_power = energy_power, ax = ax, \n",
    "                                                   facecolor= aw[1], alpha = 0.8, \n",
    "                                                     label = f'With nui par.\\n amplitude error =  {per*100:.3}% ')\n",
    "        dataset.models[0].spectral_model.plot((0.1, 100) *u.TeV,energy_power = energy_power, ax = ax, \n",
    "                                                   color= awo[0], linestyle = 'dashed')\n",
    "        par = dataset.models[0].parameters['amplitude']\n",
    "        per = par.error /par.value\n",
    "        dataset.models[0].spectral_model.plot_error((0.1, 100) *u.TeV,energy_power = energy_power, ax = ax, \n",
    "                                                   facecolor= awo[1], alpha = 0.8,\n",
    "                                                   label = f'W/o nui par.\\n amplitude error =  {per*100:.3}%')\n",
    "        ax.set_title(f\"Livetime: {float(live):.2} hr\")\n",
    "        ax.set_ylim(1e-12, 1e-10)\n",
    "\n",
    "        if i <2:\n",
    "            ax.set_ylim(6e-13, 6e-9)\n",
    "            \n",
    "        ax.legend()\n",
    "    plt.tight_layout()\n",
    "    return fig\n",
    "        \n",
    "fig = plot_spectra_empty()\n",
    "fig.savefig(f'../{folder}/plots/{nbidx}_spectra.pdf')"
   ]
  },
  {
   "cell_type": "code",
   "execution_count": null,
   "id": "5d2545b4-6b21-4ce1-a7b6-52553c2ce1fc",
   "metadata": {},
   "outputs": [],
   "source": [
    "compute = 0\n",
    "if compute:\n",
    "    stat_0 = []\n",
    "    for d in datasets:\n",
    "        s = d.stat_sum()\n",
    "        with d.models.parameters.restore_status():\n",
    "            d.models.parameters['amplitude'].value = 0 \n",
    "            d.models[0].parameters.freeze_all()\n",
    "            bkg = FoVBackgroundModel(dataset_name=d.name)\n",
    "            d.models= Models([bkg])\n",
    "            fit = Fit()\n",
    "            result= fit.optimize(d)\n",
    "            print(result)\n",
    "            stat_0.append(np.sqrt( d.stat_sum() - s))\n",
    "        print(stat_0)\n",
    "    np.savetxt( f'../{folder}/data/0_sqrtts.txt',  np.array(stat_0))\n",
    "else:\n",
    "    stat_0 = np.loadtxt( f'../{folder}/data/0_sqrtts.txt')\n",
    "stat_0"
   ]
  },
  {
   "cell_type": "code",
   "execution_count": null,
   "id": "fcb2da6c-8021-40c6-979e-1c9ef5710361",
   "metadata": {},
   "outputs": [],
   "source": [
    "from scipy.optimize import curve_fit\n",
    "if len(stat_0)>1:\n",
    "    # Given data\n",
    "    x_values =livetimes\n",
    "    y_values =stat_0\n",
    "\n",
    "    # Define the linear function\n",
    "    def linear_fit(x, a, b):\n",
    "        return a * x**b\n",
    "\n",
    "    # Perform the curve fit\n",
    "    params, covariance = curve_fit(linear_fit, x_values, y_values)\n",
    "    a_fit, b_fit = params\n",
    "\n",
    "    # Create a log-log plot\n",
    "    plt.figure(figsize=(8, 6))\n",
    "    plt.loglog(x_values, y_values, 'bo', label='Data Points')\n",
    "    plt.loglog(x_values, linear_fit(x_values, a_fit, b_fit), 'r--', label=f'Linear Fit: y = {a_fit:.2f} {b_fit:.2f}')\n",
    "    plt.xlabel('Livetime [hr]')\n",
    "    plt.ylabel('Sqrt(TS)')\n",
    "    plt.legend()\n",
    "    plt.show()\n",
    "\n",
    "\n",
    "    def compute_x_for_given_y(y_value, a, b):\n",
    "        \"\"\"\n",
    "        Computes the x value for a given y value using the linear fit equation.\n",
    "\n",
    "        Args:\n",
    "            y_value (float): The desired y value.\n",
    "            a (float): Coefficient 'a' from the linear fit equation.\n",
    "            b (float): Coefficient 'b' from the linear fit equation.\n",
    "\n",
    "        Returns:\n",
    "            float: The corresponding x value.\n",
    "        \"\"\"\n",
    "        # Solve for x using the inverse of the linear fit equation\n",
    "        x_value = (y_value / a) ** (1 / b)\n",
    "        return x_value\n",
    "\n",
    "    # Example usage\n",
    "    desired_y = 5  # Replace with your desired y value\n",
    "    computed_5 = compute_x_for_given_y(desired_y, a_fit, b_fit)\n",
    "    print(f\"For a desired sig of {desired_y:.2f}, the corresponding livetime is approximately {computed_5:.6f}.\")\n",
    "    desired_y = 50  # Replace with your desired y value\n",
    "    computed_50 = compute_x_for_given_y(desired_y, a_fit, b_fit)\n",
    "    print(f\"For a desired sig of {desired_y:.2f}, the corresponding livetime is approximately {computed_50:.6f}.\")\n"
   ]
  },
  {
   "cell_type": "code",
   "execution_count": null,
   "id": "82f21c5e-b71a-4ac7-87b6-540c87cbbc7c",
   "metadata": {},
   "outputs": [],
   "source": [
    "fontsize = 14\n",
    "\n",
    "inputvalues = {}\n",
    "for p in datasets_input[0].models[0].parameters:\n",
    "    inputvalues[p.name]  = p.value\n",
    "\n",
    "def plotting(parname = \"amplitude\", delta = 1):\n",
    "    fig = plt.figure(figsize  = (8,5))\n",
    "    inputvalue = inputvalues[parname]\n",
    "    \n",
    "    errs = []\n",
    "    errs_N = []\n",
    "    livetimes_ext = np.array(livetimes).copy(); livetimes_ext2 = np.array(livetimes).copy(); \n",
    "    livetimes_ext[-1] *=1.1;\n",
    "    livetimes_ext2[0:,] *=1.1; \n",
    "    livetimes_ext2 = np.insert(livetimes_ext2, 0, values =  livetimes_ext2[0]* 0.9)\n",
    "\n",
    "\n",
    "    for i, d in enumerate(datasets_N):\n",
    "        par = datasets[i].models[0].parameters[parname]\n",
    "        val, err = par.value, par.error\n",
    "        errs.append( err/ inputvalue )\n",
    "        plt.errorbar(livetimes[i], val/ inputvalue, yerr =  err/ inputvalue,  fmt='x', \n",
    "                     color = awo[0])\n",
    "\n",
    "        par = d.models[0].parameters[parname]\n",
    "        val, err = par.value, par.error\n",
    "        errs_N.append( err/ inputvalue)\n",
    "        plt.errorbar( 1.1* livetimes[i] , val/ inputvalue, yerr = err/ inputvalue,  fmt='x', \n",
    "                     color = aw[0])\n",
    "\n",
    "    \n",
    "\n",
    "    errs_N = np.insert(errs_N, 0, values =  errs_N[0])\n",
    "    plt.fill_between(  livetimes_ext2, 1- np.array(errs_N), 1+np.array(errs_N) \n",
    "                     ,color = aw[1], alpha = 0.8, label = '')\n",
    "    plt.fill_between( livetimes_ext, 1- np.array(errs), 1+np.array(errs)\n",
    "                     ,color = awo[1], alpha = 0.8, label = '')\n",
    "\n",
    "    plt.errorbar( np.nan, np.nan , yerr = np.nan, fmt='x', color = aw[0],\n",
    "                 label = 'fit with systematics')\n",
    "    plt.errorbar( np.nan, np.nan , yerr = np.nan, fmt='x', color = awo[0], \n",
    "                 label = 'fit w/o systematics')\n",
    "    ax1 = plt.gca()\n",
    "    xlim = ax1.get_xlim()\n",
    "    plt.hlines(1, xlim[0], xlim[1], color = 'lightgrey')\n",
    "    #plt.title(\"Best Fit Amplitude\")\n",
    "    plt.legend(fontsize = fontsize)\n",
    "    plt.xscale('log')\n",
    "    plt.xlabel(\"Livetime [hr]\", fontsize = fontsize)\n",
    "    plt.ylabel(f\"Best-fit {parname} \\n[Input]\", fontsize = fontsize)\n",
    "\n",
    "    ax2 = ax1.twiny()\n",
    "    ax2.set_xscale(\"log\")\n",
    "    npred = [d.npred_signal().data.sum() for d in datasets]\n",
    "    \n",
    "    ax2.set_xlim(ax1.get_xlim())\n",
    "    ax2.set_xticks(livetimes)\n",
    "    clabels = [ f'{int(c)}' for c in npred]\n",
    "    ax2.set_xticklabels(clabels)\n",
    "    ax2.set_xlabel(r\"Signal Counts\", fontsize = fontsize)\n",
    "    plt.tight_layout()\n",
    "    ax = plt.gca()\n",
    "    ax.set_ylim(1- delta, 1. + delta)\n",
    "    ax.vlines(computed_50, ax.get_ylim()[0], ax.get_ylim()[1], color = 'grey',linestyle =  'dashed')\n",
    "    ax.vlines(computed_5, ax.get_ylim()[0], ax.get_ylim()[1], color = 'grey',linestyle =  'dotted')\n",
    "    ax.text(computed_50*1.02, ax.get_ylim()[1]*0.9 ,\"50 $\\sigma$\", color = 'grey', fontsize = fontsize)\n",
    "    ax.text(computed_5*1.02, ax.get_ylim()[1]*0.9 ,\"5 $\\sigma$\", color = 'grey', fontsize = fontsize)\n",
    "    return fig"
   ]
  },
  {
   "cell_type": "code",
   "execution_count": null,
   "id": "e93917cb-90ad-4ccd-98e2-fe9cf2b57cef",
   "metadata": {},
   "outputs": [],
   "source": [
    "fig = plotting(parname = \"amplitude\", delta = 0.9)\n",
    "fontsize = 14\n",
    "fig.savefig(f'../{folder}/plots/{nbidx}_best_fit_vs_livetime_amplitude.svg')\n",
    "fig.savefig(f'../{folder}/plots/{nbidx}_best_fit_vs_livetime_amplitude.pdf')\n",
    "fig.savefig(f'../{folder}/plots/{nbidx}_best_fit_vs_livetime_amplitude.png')"
   ]
  },
  {
   "cell_type": "code",
   "execution_count": null,
   "id": "d3b33ce6",
   "metadata": {},
   "outputs": [],
   "source": [
    "parname = \"alpha\"\n",
    "fig = plotting(parname = parname, delta = 0.8)\n",
    "\n",
    "fig.savefig(f'../{folder}/plots/{nbidx}_best_fit_vs_livetime_{parname}.svg')\n",
    "fig.savefig(f'../{folder}/plots/{nbidx}_best_fit_vs_livetime_{parname}.pdf')\n",
    "fig.savefig(f'../{folder}/plots/{nbidx}_best_fit_vs_livetime_{parname}.png')"
   ]
  },
  {
   "cell_type": "code",
   "execution_count": null,
   "id": "652d0dbe-b4f1-45d1-983a-68f09f5294a8",
   "metadata": {},
   "outputs": [],
   "source": [
    "parname = \"beta\"\n",
    "fig = plotting(parname = parname, delta = 3)\n",
    "\n",
    "\n",
    "fig.savefig(f'../{folder}/plots/{nbidx}_best_fit_vs_livetime_{parname}.svg')\n",
    "fig.savefig(f'../{folder}/plots/{nbidx}_best_fit_vs_livetime_{parname}.pdf')\n",
    "fig.savefig(f'../{folder}/plots/{nbidx}_best_fit_vs_livetime_{parname}.png')"
   ]
  },
  {
   "cell_type": "markdown",
   "id": "fe104f21-8266-42ab-90e1-cd917df835b0",
   "metadata": {},
   "source": [
    "## RND Fluxpoints"
   ]
  },
  {
   "cell_type": "code",
   "execution_count": null,
   "id": "0cc4d598-4bb5-47b8-8537-79befa14ac2d",
   "metadata": {},
   "outputs": [],
   "source": [
    "for i, d in enumerate(datasets):\n",
    "    l = livetimes[i]\n",
    "    print()\n",
    "    print(l)\n",
    "    dataset = datasets[i]\n",
    "    dataset_N = datasets_N[i]\n",
    "    parameters = dataset.models[0].parameters.names\n",
    "    for p in parameters:\n",
    "        \n",
    "        par = dataset.models[0].parameters[p]\n",
    "        per = par.error /par.value * 100 \n",
    "        print(f\"{p}:\")\n",
    "        print(f\"without {per:.4} %\")\n",
    "        par = dataset_N.models[0].parameters[p]\n",
    "        per = par.error /par.value * 100 \n",
    "        \n",
    "        print(f\"with    {per:.4} %\")        "
   ]
  },
  {
   "cell_type": "code",
   "execution_count": null,
   "id": "68f33e71-fd48-43cf-89e2-bf3e2bb587ab",
   "metadata": {},
   "outputs": [],
   "source": [
    "par_names = ['index', 'amplitude', 'lambda_', 'bias', 'resolution', 'norm' , \n",
    "            'tilt']\n",
    "names =  ['index', 'amplitude',  \n",
    "        'bkg norm', 'bkg tilt',\n",
    "          'bias', 'resolution',\n",
    "          'eff. area norm' , \n",
    "            'eff. area tilt']\n",
    "for i in range(len(livetimes)):\n",
    "\n",
    "    #datasets_N[i].models.read_covariance(\"data\", f\"8_model_nui_livetime_{livetimes[i]}_covariance.dat\", format=\"ascii.fixed_width\")\n",
    "    parameters = Parameters([_ for _ in datasets_N[i].models.parameters if _.name in par_names])\n",
    "    cov_par = datasets_N[i].models.covariance.get_subcovariance(parameters)\n",
    "    ax = cov_par.plot_correlation()\n",
    "    ax.set_title(str(livetimes[i]) + \" hr\")\n",
    "    fig = plt.gcf()\n",
    "    fig.savefig(f'../{folder}/plots/{nbidx}_covmatrix_livetime_{livetimes[i]}.svg')\n",
    "    fig.savefig(f'../{folder}/plots/{nbidx}_covmatrix_livetime_{livetimes[i]}.pdf')\n",
    "    \n"
   ]
  },
  {
   "cell_type": "code",
   "execution_count": null,
   "id": "93720c75-d681-4377-a725-6cfe0bcc56b1",
   "metadata": {},
   "outputs": [],
   "source": [
    "for d in datasets:\n",
    "    d.models.covariance.plot_correlation()"
   ]
  },
  {
   "cell_type": "code",
   "execution_count": null,
   "id": "2afabaa2-e06e-4bae-a46f-85118f7e775a",
   "metadata": {},
   "outputs": [],
   "source": [
    "for d in datasets_N:\n",
    "    d.models.covariance.plot_correlation()"
   ]
  },
  {
   "cell_type": "code",
   "execution_count": null,
   "id": "596316a5-4fb9-4b4d-8d96-b78690a36521",
   "metadata": {},
   "outputs": [],
   "source": []
  },
  {
   "cell_type": "code",
   "execution_count": null,
   "id": "d82cdd80",
   "metadata": {},
   "outputs": [],
   "source": []
  },
  {
   "cell_type": "code",
   "execution_count": null,
   "id": "5c4e1fe9",
   "metadata": {},
   "outputs": [],
   "source": []
  }
 ],
 "metadata": {
  "kernelspec": {
   "display_name": "Python 3 (ipykernel)",
   "language": "python",
   "name": "python3"
  },
  "language_info": {
   "codemirror_mode": {
    "name": "ipython",
    "version": 3
   },
   "file_extension": ".py",
   "mimetype": "text/x-python",
   "name": "python",
   "nbconvert_exporter": "python",
   "pygments_lexer": "ipython3",
   "version": "3.9.16"
  },
  "varInspector": {
   "cols": {
    "lenName": 16,
    "lenType": 16,
    "lenVar": 40
   },
   "kernels_config": {
    "python": {
     "delete_cmd_postfix": "",
     "delete_cmd_prefix": "del ",
     "library": "var_list.py",
     "varRefreshCmd": "print(var_dic_list())"
    },
    "r": {
     "delete_cmd_postfix": ") ",
     "delete_cmd_prefix": "rm(",
     "library": "var_list.r",
     "varRefreshCmd": "cat(var_dic_list()) "
    }
   },
   "types_to_exclude": [
    "module",
    "function",
    "builtin_function_or_method",
    "instance",
    "_Feature"
   ],
   "window_display": false
  }
 },
 "nbformat": 4,
 "nbformat_minor": 5
}
