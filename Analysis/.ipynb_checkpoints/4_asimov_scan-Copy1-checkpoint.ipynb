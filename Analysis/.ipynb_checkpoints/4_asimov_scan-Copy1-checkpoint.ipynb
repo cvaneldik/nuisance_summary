{
 "cells": [
  {
   "cell_type": "markdown",
   "id": "e7853a11",
   "metadata": {},
   "source": [
    "## Runnning with gammapy-dev/IRF_model\n",
    "Fitting asimov datasets with nuisance parameters based on the different livetimes"
   ]
  },
  {
   "cell_type": "markdown",
   "id": "0e04af29",
   "metadata": {},
   "source": [
    "### Setup"
   ]
  },
  {
   "cell_type": "code",
   "execution_count": 1,
   "id": "27bf135a-5ee4-4ca1-8549-6bf07929003c",
   "metadata": {},
   "outputs": [],
   "source": [
    "import matplotlib.pyplot as plt\n",
    "import numpy as np\n",
    "import astropy.units as u\n",
    "from gammapy.maps import Map\n",
    "from astropy.coordinates import SkyCoord, Angle\n",
    "from gammapy.modeling import Fit,  Parameters, Covariance , Parameter\n",
    "from gammapy.datasets import MapDataset ,Datasets, FluxPointsDataset\n",
    "from gammapy.modeling.models import (\n",
    "    PowerLawSpectralModel,\n",
    "    SkyModel,\n",
    "    PointSpatialModel,\n",
    "    PowerLawNormSpectralModel,\n",
    "    Models,\n",
    "    SpatialModel,\n",
    "    FoVBackgroundModel,\n",
    "    PiecewiseNormSpectralModel,\n",
    ")\n",
    "from gammapy.estimators import TSMapEstimator, ExcessMapEstimator\n",
    "from gammapy.estimators import FluxPoints, FluxPointsEstimator\n",
    "from scipy.interpolate import interp2d\n",
    "\n",
    "from regions import CircleSkyRegion, RectangleSkyRegion\n",
    "import yaml\n",
    "import sys\n",
    "sys.path.append('../')\n",
    "import Dataset_load \n",
    "\n",
    "from  Dataset_Setup import Setup, GaussianCovariance_matrix"
   ]
  },
  {
   "cell_type": "markdown",
   "id": "5de988df",
   "metadata": {
    "tags": []
   },
   "source": [
    "## Read dataset"
   ]
  },
  {
   "cell_type": "code",
   "execution_count": 2,
   "id": "0eeeaf75",
   "metadata": {},
   "outputs": [],
   "source": [
    "c = Dataset_load.load_config()\n",
    "awo, aw, ewo, ew = c['_colors']  "
   ]
  },
  {
   "cell_type": "code",
   "execution_count": 3,
   "id": "e0c45f4e-6432-405e-86b7-649e254c0950",
   "metadata": {},
   "outputs": [
    {
     "name": "stdout",
     "output_type": "stream",
     "text": [
      "2.154434690031884\n"
     ]
    }
   ],
   "source": [
    "livetime = c['livetime']\n",
    "zero = c['zero'] \n",
    "norm = c['norm'] \n",
    "tilt = c['tilt'] \n",
    "bias = c['bias'] \n",
    "resolution = c['resolution'] \n",
    "magnitude = c['magnitude'] \n",
    "corrlength = c['corrlength']\n",
    "sys = c['sys'] \n",
    "folder = c['folder']\n",
    "parameter_names = c['parameter_names']        \n",
    "nbidx = 0\n",
    "print(livetime)"
   ]
  },
  {
   "cell_type": "code",
   "execution_count": 22,
   "id": "f1b20e94",
   "metadata": {},
   "outputs": [
    {
     "name": "stdout",
     "output_type": "stream",
     "text": [
      "amplitude\n",
      "alpha\n",
      "beta\n"
     ]
    }
   ],
   "source": [
    "parameter_names_1  = set(list(np.array(parameter_names).ravel()))\n",
    "for p in parameter_names_1:\n",
    "    print(p)"
   ]
  },
  {
   "cell_type": "code",
   "execution_count": 23,
   "id": "f94dc89c",
   "metadata": {},
   "outputs": [
    {
     "name": "stdout",
     "output_type": "stream",
     "text": [
      "loaded dataset:\n",
      "/home/katrin/Documents/nuisance_summary/PKS_flare/HESS_public/dataset-simulated-2.154434690031884-hr.fits.gz\n",
      "CPU times: user 5.01 s, sys: 275 ms, total: 5.29 s\n",
      "Wall time: 5.3 s\n"
     ]
    }
   ],
   "source": [
    "%%time\n",
    "dataset_input  = Dataset_load.create_asimov(model = c['model'], source = c['source'], \n",
    "                                               livetime = f\"{livetime}-hr\",\n",
    "                                        parameters = None)\n"
   ]
  },
  {
   "cell_type": "markdown",
   "id": "2e0399d4",
   "metadata": {},
   "source": [
    "## Datasets"
   ]
  },
  {
   "cell_type": "code",
   "execution_count": 24,
   "id": "b24b18ac-af52-48ac-bd1e-f03d21457fe4",
   "metadata": {},
   "outputs": [],
   "source": [
    "    \n",
    "setup = Setup(dataset_input=dataset_input)\n",
    "#setup.set_up_irf_sys(bias, resolution, norm, tilt)\n",
    "dataset_asimov, dataset_asimov_N = setup.run()\n",
    "# irf model\n",
    "setup.set_irf_model(dataset_asimov_N)\n",
    "if sys == \"Eff_area\":\n",
    "    dataset_asimov_N.models.parameters['resolution'].frozen = True\n",
    "    dataset_asimov_N.irf_model.parameters['tilt'].frozen = False\n",
    "    dataset_asimov_N.irf_model.parameters['bias'].frozen = True\n",
    "    setup.set_irf_prior(dataset_asimov_N, bias, resolution, norm, tilt)\n"
   ]
  },
  {
   "cell_type": "markdown",
   "id": "ec637604-dbf7-4501-9012-2bf4c302d233",
   "metadata": {},
   "source": [
    "## Minos"
   ]
  },
  {
   "cell_type": "code",
   "execution_count": 25,
   "id": "7031c52d-9f99-43ef-80aa-784a36f211e3",
   "metadata": {},
   "outputs": [],
   "source": [
    "        \n",
    "numpoints = 20"
   ]
  },
  {
   "cell_type": "code",
   "execution_count": 37,
   "id": "f6589e22-4b65-4ef2-a364-0fa01a829dad",
   "metadata": {},
   "outputs": [],
   "source": [
    "def computing_scan(dataset, note):\n",
    "        \n",
    "    fit_cor = Fit(store_trace=False)\n",
    "    #result_cor = fit_cor.run(dataset)\n",
    "    print(dataset_asimov.models[0])\n",
    "    \n",
    "    results = []\n",
    "    for parname1 in parameter_names_1 :\n",
    "        print( parname1)\n",
    "        dataset.models.parameters[parname1].scan_n_values=numpoints\n",
    "        result = fit_cor.stat_profile(dataset,\n",
    "                             dataset.models.parameters[parname1],\n",
    "                            reoptimize = False\n",
    "                            )\n",
    "\n",
    "        contour_write = dict()\n",
    "        for k in result.keys():\n",
    "            print(k)\n",
    "            if k != \"success\":\n",
    "                contour_write[k] = result[k]#.tolist()\n",
    "\n",
    "        with open(f\"../{c['folder']}/data/4_scan_{note}_{parname1}_{numpoints}.yml\", \"w\") as outfile:\n",
    "            yaml.dump(contour_write, outfile, default_flow_style=False)\n",
    "\n",
    "        results.append(result)\n",
    "    return results\n",
    "        \n",
    "def read_in_scan(note):\n",
    "    results = []\n",
    "    for parname1, parname2 in parameter_names :\n",
    "        with open(f\"../{c['folder']}/data/4_scan_{note}_{parname1}_{numpoints}.yml\", \"r\") as stream:\n",
    "            contour = yaml.safe_load(stream)\n",
    "        results.append(contour)\n",
    "    return results"
   ]
  },
  {
   "cell_type": "code",
   "execution_count": 36,
   "id": "e2201840-6c23-471d-b286-7152982bbb66",
   "metadata": {},
   "outputs": [
    {
     "name": "stdout",
     "output_type": "stream",
     "text": [
      "SkyModel\n",
      "\n",
      "  Name                      : Crablog\n",
      "  Datasets names            : None\n",
      "  Spectral model type       : LogParabolaSpectralModel\n",
      "  Spatial  model type       : PointSpatialModel\n",
      "  Temporal model type       : \n",
      "  Parameters:\n",
      "    amplitude                     :   3.85e-11   +/- 1.8e-12 1 / (TeV s cm2)\n",
      "    reference             (frozen):      1.000       TeV         \n",
      "    alpha                         :      2.511   +/-    0.06             \n",
      "    beta                          :      0.240   +/-    0.06             \n",
      "    lon_0                         :    329.680   +/-    0.00 deg         \n",
      "    lat_0                         :    -30.222   +/-    0.00 deg         \n",
      "\n",
      "\n",
      "amplitude\n",
      "Crablog.spectral.amplitude_scan\n",
      "stat_scan\n",
      "fit_results\n",
      "alpha\n",
      "Crablog.spectral.alpha_scan\n",
      "stat_scan\n",
      "fit_results\n",
      "beta\n",
      "Crablog.spectral.beta_scan\n",
      "stat_scan\n",
      "fit_results\n",
      "CPU times: user 6.15 s, sys: 1.72 s, total: 7.87 s\n",
      "Wall time: 7.87 s\n"
     ]
    }
   ],
   "source": [
    "%%time\n",
    "computing = 1\n",
    "if computing:\n",
    "    results = computing_scan(dataset_asimov, \"2.15h\")\n",
    "else:\n",
    "    results = read_in_scan(\"2.15h\")\n",
    "    path = f'../{folder}/data/0_model_livetime_{livetime}.yml'\n",
    "    dataset_asimov.models = Models.read(path)\n",
    "    \n"
   ]
  },
  {
   "cell_type": "code",
   "execution_count": 38,
   "id": "2a09d6e7-599d-4612-b80e-23d72f04ea98",
   "metadata": {},
   "outputs": [
    {
     "name": "stdout",
     "output_type": "stream",
     "text": [
      "SkyModel\n",
      "\n",
      "  Name                      : Crablog\n",
      "  Datasets names            : None\n",
      "  Spectral model type       : LogParabolaSpectralModel\n",
      "  Spatial  model type       : PointSpatialModel\n",
      "  Temporal model type       : \n",
      "  Parameters:\n",
      "    amplitude                     :   3.85e-11   +/- 1.8e-12 1 / (TeV s cm2)\n",
      "    reference             (frozen):      1.000       TeV         \n",
      "    alpha                         :      2.511   +/-    0.06             \n",
      "    beta                          :      0.240   +/-    0.06             \n",
      "    lon_0                         :    329.680   +/-    0.00 deg         \n",
      "    lat_0                         :    -30.222   +/-    0.00 deg         \n",
      "\n",
      "\n",
      "amplitude\n",
      "Crablog.spectral.amplitude_scan\n",
      "stat_scan\n",
      "fit_results\n",
      "alpha\n",
      "Crablog.spectral.alpha_scan\n",
      "stat_scan\n",
      "fit_results\n",
      "beta\n",
      "Crablog.spectral.beta_scan\n",
      "stat_scan\n",
      "fit_results\n",
      "CPU times: user 2.38 s, sys: 580 ms, total: 2.96 s\n",
      "Wall time: 2.95 s\n"
     ]
    }
   ],
   "source": [
    "%%time\n",
    "computing = 1\n",
    "\n",
    "if computing:\n",
    "    results_N = computing_scan(dataset_asimov_N, \"N_2.15h\")\n",
    "else:\n",
    "    results_N = read_in_scan(\"N_2.15h\")\n",
    "    path = f'../{folder}/data/0_model_nui_livetime_{livetime}.yml'\n",
    "    dataset_asimov_N = Dataset_load.load_dataset_N(dataset_asimov_N, path,bkg_sys = False)        \n"
   ]
  },
  {
   "cell_type": "code",
   "execution_count": 39,
   "id": "94d489ab",
   "metadata": {},
   "outputs": [
    {
     "data": {
      "text/plain": [
       "[{'Crablog.spectral.amplitude_scan': array([2.99329916e-11, 3.06561916e-11, 3.13968646e-11, 3.21554327e-11,\n",
       "         3.29323284e-11, 3.37279943e-11, 3.45428840e-11, 3.53774619e-11,\n",
       "         3.62322038e-11, 3.71075968e-11, 3.80041399e-11, 3.89223439e-11,\n",
       "         3.98627324e-11, 4.08258413e-11, 4.18122195e-11, 4.28224292e-11,\n",
       "         4.38570462e-11, 4.49166602e-11, 4.60018752e-11, 4.71133096e-11]),\n",
       "  'stat_scan': array([89183.88925369, 89176.30677826, 89169.38044503, 89163.13034634,\n",
       "         89157.57704753, 89152.74159853, 89148.64554575, 89145.31094431,\n",
       "         89142.7603705 , 89141.01693464, 89140.10429411, 89140.04666687,\n",
       "         89140.86884519, 89142.59620977, 89145.25474413, 89148.87104953,\n",
       "         89153.47236001, 89159.08655798, 89165.74219016, 89173.46848383]),\n",
       "  'fit_results': []},\n",
       " {'Crablog.spectral.alpha_scan': array([2.38816853, 2.40129745, 2.41442637, 2.4275553 , 2.44068422,\n",
       "         2.45381314, 2.46694207, 2.48007099, 2.49319991, 2.50632884,\n",
       "         2.51945776, 2.53258668, 2.5457156 , 2.55884453, 2.57197345,\n",
       "         2.58510237, 2.5982313 , 2.61136022, 2.62448914, 2.63761807]),\n",
       "  'stat_scan': array([89144.86603397, 89143.87896179, 89143.0050677 , 89142.24334769,\n",
       "         89141.59284759, 89141.05266214, 89140.62193416, 89140.29985361,\n",
       "         89140.08565689, 89139.97862597, 89139.97808768, 89140.08341295,\n",
       "         89140.29401613, 89140.60935437, 89141.02892687, 89141.55227436,\n",
       "         89142.1789785 , 89142.90866126, 89143.74098443, 89144.67564907]),\n",
       "  'fit_results': []},\n",
       " {'Crablog.spectral.beta_scan': array([0.11866785, 0.13146844, 0.14426903, 0.15706962, 0.16987021,\n",
       "         0.1826708 , 0.19547139, 0.20827198, 0.22107258, 0.23387317,\n",
       "         0.24667376, 0.25947435, 0.27227494, 0.28507553, 0.29787612,\n",
       "         0.31067671, 0.3234773 , 0.33627789, 0.34907848, 0.36187907]),\n",
       "  'stat_scan': array([89149.15126893, 89147.12624033, 89145.39739949, 89143.94276059,\n",
       "         89142.7425114 , 89141.77874   , 89141.03520138, 89140.49711757,\n",
       "         89140.151006  , 89139.9845316 , 89139.98637902, 89140.14614189,\n",
       "         89140.45422666, 89140.90176873, 89141.4805593 , 89142.18298122,\n",
       "         89143.00195278, 89143.93087817, 89144.96360383, 89146.09437979]),\n",
       "  'fit_results': []}]"
      ]
     },
     "execution_count": 39,
     "metadata": {},
     "output_type": "execute_result"
    }
   ],
   "source": [
    "results_N"
   ]
  },
  {
   "cell_type": "code",
   "execution_count": 55,
   "id": "c134033e-7b58-40af-aa75-f499ba02ed00",
   "metadata": {},
   "outputs": [
    {
     "data": {
      "image/png": "[encoded data removed]",
      "text/plain": [
       "<Figure size 640x480 with 3 Axes>"
      ]
     },
     "metadata": {},
     "output_type": "display_data"
    }
   ],
   "source": [
    "fig,axs = plt.subplots(3,1)\n",
    "#axs = axs.flatten()\n",
    "axs = axs.ravel()\n",
    "for i, p in enumerate(parameter_names_1):\n",
    "    a = results[i][f'{dataset_asimov.models[0].name}.spectral.{p}_scan']    \n",
    "    b = results[i][f'stat_scan'] - np.min( results[i][f'stat_scan'])\n",
    "    axs[i].plot(a, b, color = awo[0])\n",
    "    axs[i].errorbar(x = dataset_asimov.models[0].parameters[p].value,\n",
    "                    y = 1,\n",
    "                    xerr = dataset_asimov.models[0].parameters[p].error,\n",
    "                    yerr = dataset_asimov.models[0].parameters[p].error,\n",
    "                    color = awo[0],\n",
    "                    capsize = 6,\n",
    "                    label = \"fit w/o systematic\"\n",
    "                    \n",
    "                   )\n",
    "    \n",
    "    a = results_N[i][f'{dataset_asimov.models[0].name}.spectral.{p}_scan']    \n",
    "    b = results_N[i][f'stat_scan'] - np.min( results_N[i][f'stat_scan'])\n",
    "    axs[i].plot(a, b, color = aw[0])\n",
    "    axs[i].errorbar(x = dataset_asimov_N.models[0].parameters[p].value,\n",
    "                    y = 1,\n",
    "                    xerr = dataset_asimov_N.models[0].parameters[p].error,\n",
    "                    yerr = dataset_asimov_N.models[0].parameters[p].error,\n",
    "                    color = aw[0],\n",
    "                    capsize = 6,\n",
    "                    label = \"fit with systematic\"\n",
    "                   )\n",
    "    axs[i].errorbar(x = dataset_input.models[0].parameters[p].value,\n",
    "                    y = 1,\n",
    "                    color = 'black',\n",
    "                    marker = 'v',\n",
    "                    capsize = 6,\n",
    "                    label = \"input\"\n",
    "                   )\n",
    "    axs[i].set_xlabel(p[0])\n",
    "    axs[i].set_ylabel(p[1])  \n",
    "plt.tight_layout()\n",
    "plt.savefig(f\"../{c['folder']}/plots/3_contours.pdf\")"
   ]
  },
  {
   "cell_type": "code",
   "execution_count": null,
   "id": "2196df63-3d50-4ef6-9fe0-6f917b049742",
   "metadata": {},
   "outputs": [],
   "source": []
  }
 ],
 "metadata": {
  "kernelspec": {
   "display_name": "Python 3 (ipykernel)",
   "language": "python",
   "name": "python3"
  },
  "language_info": {
   "codemirror_mode": {
    "name": "ipython",
    "version": 3
   },
   "file_extension": ".py",
   "mimetype": "text/x-python",
   "name": "python",
   "nbconvert_exporter": "python",
   "pygments_lexer": "ipython3",
   "version": "3.9.16"
  },
  "varInspector": {
   "cols": {
    "lenName": 16,
    "lenType": 16,
    "lenVar": 40
   },
   "kernels_config": {
    "python": {
     "delete_cmd_postfix": "",
     "delete_cmd_prefix": "del ",
     "library": "var_list.py",
     "varRefreshCmd": "print(var_dic_list())"
    },
    "r": {
     "delete_cmd_postfix": ") ",
     "delete_cmd_prefix": "rm(",
     "library": "var_list.r",
     "varRefreshCmd": "cat(var_dic_list()) "
    }
   },
   "types_to_exclude": [
    "module",
    "function",
    "builtin_function_or_method",
    "instance",
    "_Feature"
   ],
   "window_display": false
  }
 },
 "nbformat": 4,
 "nbformat_minor": 5
}
