{
 "cells": [
  {
   "cell_type": "markdown",
   "id": "e7853a11",
   "metadata": {},
   "source": [
    "## Runnning with gammapy-dev/IRF_model\n",
    "Fitting asimov datasets with nuisance parameters based on the different livetimes"
   ]
  },
  {
   "cell_type": "markdown",
   "id": "0e04af29",
   "metadata": {},
   "source": [
    "### Setup"
   ]
  },
  {
   "cell_type": "code",
   "execution_count": 1,
   "id": "27bf135a-5ee4-4ca1-8549-6bf07929003c",
   "metadata": {},
   "outputs": [],
   "source": [
    "import matplotlib.pyplot as plt\n",
    "import numpy as np\n",
    "import astropy.units as u\n",
    "from gammapy.maps import Map\n",
    "from astropy.coordinates import SkyCoord, Angle\n",
    "from gammapy.modeling import Fit,  Parameters, Covariance , Parameter\n",
    "from gammapy.datasets import MapDataset ,Datasets, FluxPointsDataset\n",
    "from gammapy.modeling.models import (\n",
    "    PowerLawSpectralModel,\n",
    "    SkyModel,\n",
    "    PointSpatialModel,\n",
    "    PowerLawNormSpectralModel,\n",
    "    Models,\n",
    "    SpatialModel,\n",
    "    FoVBackgroundModel,\n",
    "    PiecewiseNormSpectralModel,\n",
    ")\n",
    "from gammapy.estimators import TSMapEstimator, ExcessMapEstimator\n",
    "from gammapy.estimators import FluxPoints, FluxPointsEstimator\n",
    "from scipy.interpolate import interp2d\n",
    "\n",
    "from regions import CircleSkyRegion, RectangleSkyRegion\n",
    "import yaml\n",
    "import sys\n",
    "sys.path.append('../')\n",
    "import Dataset_load \n",
    "\n",
    "from  Dataset_Setup import Setup, GaussianCovariance_matrix"
   ]
  },
  {
   "cell_type": "markdown",
   "id": "5de988df",
   "metadata": {
    "tags": []
   },
   "source": [
    "## Read dataset"
   ]
  },
  {
   "cell_type": "code",
   "execution_count": 2,
   "id": "0eeeaf75",
   "metadata": {},
   "outputs": [],
   "source": [
    "c = Dataset_load.load_config()\n",
    "awo, aw, ewo, ew = c['_colors']  "
   ]
  },
  {
   "cell_type": "code",
   "execution_count": 3,
   "id": "e0c45f4e-6432-405e-86b7-649e254c0950",
   "metadata": {},
   "outputs": [
    {
     "name": "stdout",
     "output_type": "stream",
     "text": [
      "2.154434690031884\n"
     ]
    }
   ],
   "source": [
    "livetime = c['livetime']\n",
    "zero = c['zero'] \n",
    "norm = c['norm'] \n",
    "tilt = c['tilt'] \n",
    "bias = c['bias'] \n",
    "resolution = c['resolution'] \n",
    "magnitude = c['magnitude'] \n",
    "corrlength = c['corrlength']\n",
    "sys = c['sys'] \n",
    "folder = c['folder']\n",
    "nbidx = 0\n",
    "print(livetime)"
   ]
  },
  {
   "cell_type": "code",
   "execution_count": 4,
   "id": "f94dc89c",
   "metadata": {},
   "outputs": [
    {
     "name": "stdout",
     "output_type": "stream",
     "text": [
      "loaded dataset:\n",
      "/home/wecapstor1/caph/mppi045h/nuisance_summary/PKS_flare/HESS_public/dataset-simulated-2.154434690031884-hr.fits.gz\n",
      "CPU times: user 6.41 s, sys: 286 ms, total: 6.7 s\n",
      "Wall time: 6.76 s\n"
     ]
    }
   ],
   "source": [
    "%%time\n",
    "dataset_input  = Dataset_load.create_asimov(model = c['model'], source = c['source'], \n",
    "                                               livetime = f\"{livetime}-hr\",\n",
    "                                        parameters = None)\n"
   ]
  },
  {
   "cell_type": "markdown",
   "id": "2e0399d4",
   "metadata": {},
   "source": [
    "## Datasets"
   ]
  },
  {
   "cell_type": "code",
   "execution_count": 5,
   "id": "b24b18ac-af52-48ac-bd1e-f03d21457fe4",
   "metadata": {},
   "outputs": [
    {
     "ename": "FileNotFoundError",
     "evalue": "[Errno 2] No such file or directory: '../Combined100_PKSflare_crab_cutoff/data/0_model_nui_livetime_2.154434690031884_1000.yml'",
     "output_type": "error",
     "traceback": [
      "\u001b[0;31m---------------------------------------------------------------------------\u001b[0m",
      "\u001b[0;31mFileNotFoundError\u001b[0m                         Traceback (most recent call last)",
      "Cell \u001b[0;32mIn[5], line 34\u001b[0m\n\u001b[1;32m     33\u001b[0m path \u001b[38;5;241m=\u001b[39m \u001b[38;5;124mf\u001b[39m\u001b[38;5;124m'\u001b[39m\u001b[38;5;124m../\u001b[39m\u001b[38;5;132;01m{\u001b[39;00mfolder\u001b[38;5;132;01m}\u001b[39;00m\u001b[38;5;124m/data/0_model_nui_livetime_\u001b[39m\u001b[38;5;132;01m{\u001b[39;00mlivetime\u001b[38;5;132;01m}\u001b[39;00m\u001b[38;5;124m_np.yml\u001b[39m\u001b[38;5;124m'\u001b[39m\n\u001b[0;32m---> 34\u001b[0m dataset_asimov_N \u001b[38;5;241m=\u001b[39m \u001b[43mDataset_load\u001b[49m\u001b[38;5;241;43m.\u001b[39;49m\u001b[43mload_dataset_N\u001b[49m\u001b[43m(\u001b[49m\u001b[43mdataset_asimov_N\u001b[49m\u001b[43m,\u001b[49m\u001b[43m \u001b[49m\u001b[43mpath\u001b[49m\u001b[43m,\u001b[49m\u001b[43mbkg_sys\u001b[49m\u001b[43m \u001b[49m\u001b[38;5;241;43m=\u001b[39;49m\u001b[43m \u001b[49m\u001b[38;5;28;43;01mFalse\u001b[39;49;00m\u001b[43m)\u001b[49m        \n\u001b[1;32m     35\u001b[0m path \u001b[38;5;241m=\u001b[39m \u001b[38;5;124mf\u001b[39m\u001b[38;5;124m'\u001b[39m\u001b[38;5;124m../\u001b[39m\u001b[38;5;132;01m{\u001b[39;00mfolder\u001b[38;5;132;01m}\u001b[39;00m\u001b[38;5;124m/data/0_model_livetime_\u001b[39m\u001b[38;5;132;01m{\u001b[39;00mlivetime\u001b[38;5;132;01m}\u001b[39;00m\u001b[38;5;124m_np.yml\u001b[39m\u001b[38;5;124m'\u001b[39m\n",
      "File \u001b[0;32m/home/wecapstor1/caph/mppi045h/nuisance_summary/Analysis/../Dataset_load.py:136\u001b[0m, in \u001b[0;36mload_dataset_N\u001b[0;34m(dataset_empty, path, bkg_sys, energy)\u001b[0m\n\u001b[1;32m    135\u001b[0m \u001b[38;5;28;01mdef\u001b[39;00m \u001b[38;5;21mload_dataset_N\u001b[39m(dataset_empty, path, bkg_sys\u001b[38;5;241m=\u001b[39m\u001b[38;5;28;01mFalse\u001b[39;00m, energy \u001b[38;5;241m=\u001b[39m \u001b[38;5;28;01mNone\u001b[39;00m):\n\u001b[0;32m--> 136\u001b[0m     models_load \u001b[38;5;241m=\u001b[39m \u001b[43mModels\u001b[49m\u001b[38;5;241;43m.\u001b[39;49m\u001b[43mread\u001b[49m\u001b[43m(\u001b[49m\u001b[43mpath\u001b[49m\u001b[43m)\u001b[49m\u001b[38;5;241m.\u001b[39mcopy()\n\u001b[1;32m    137\u001b[0m     Source \u001b[38;5;241m=\u001b[39m models_load\u001b[38;5;241m.\u001b[39mnames[\u001b[38;5;241m0\u001b[39m]\n",
      "File \u001b[0;32m/home/wecapstor1/caph/mppi045h/gammapy/gammapy/modeling/models/core.py:436\u001b[0m, in \u001b[0;36mDatasetModels.read\u001b[0;34m(cls, filename)\u001b[0m\n\u001b[1;32m    435\u001b[0m \u001b[38;5;250m\u001b[39m\u001b[38;5;124;03m\"\"\"Read from YAML file.\"\"\"\u001b[39;00m\n\u001b[0;32m--> 436\u001b[0m yaml_str \u001b[38;5;241m=\u001b[39m \u001b[43mmake_path\u001b[49m\u001b[43m(\u001b[49m\u001b[43mfilename\u001b[49m\u001b[43m)\u001b[49m\u001b[38;5;241;43m.\u001b[39;49m\u001b[43mread_text\u001b[49m\u001b[43m(\u001b[49m\u001b[43m)\u001b[49m\n\u001b[1;32m    437\u001b[0m path, filename \u001b[38;5;241m=\u001b[39m split(filename)\n",
      "File \u001b[0;32m/home/wecapstor1/caph/mppi045h/anaconda3/envs/gammapy-dev/lib/python3.8/pathlib.py:1236\u001b[0m, in \u001b[0;36mPath.read_text\u001b[0;34m(self, encoding, errors)\u001b[0m\n\u001b[1;32m   1233\u001b[0m \u001b[38;5;250m\u001b[39m\u001b[38;5;124;03m\"\"\"\u001b[39;00m\n\u001b[1;32m   1234\u001b[0m \u001b[38;5;124;03mOpen the file in text mode, read it, and close the file.\u001b[39;00m\n\u001b[1;32m   1235\u001b[0m \u001b[38;5;124;03m\"\"\"\u001b[39;00m\n\u001b[0;32m-> 1236\u001b[0m \u001b[38;5;28;01mwith\u001b[39;00m \u001b[38;5;28;43mself\u001b[39;49m\u001b[38;5;241;43m.\u001b[39;49m\u001b[43mopen\u001b[49m\u001b[43m(\u001b[49m\u001b[43mmode\u001b[49m\u001b[38;5;241;43m=\u001b[39;49m\u001b[38;5;124;43m'\u001b[39;49m\u001b[38;5;124;43mr\u001b[39;49m\u001b[38;5;124;43m'\u001b[39;49m\u001b[43m,\u001b[49m\u001b[43m \u001b[49m\u001b[43mencoding\u001b[49m\u001b[38;5;241;43m=\u001b[39;49m\u001b[43mencoding\u001b[49m\u001b[43m,\u001b[49m\u001b[43m \u001b[49m\u001b[43merrors\u001b[49m\u001b[38;5;241;43m=\u001b[39;49m\u001b[43merrors\u001b[49m\u001b[43m)\u001b[49m \u001b[38;5;28;01mas\u001b[39;00m f:\n\u001b[1;32m   1237\u001b[0m     \u001b[38;5;28;01mreturn\u001b[39;00m f\u001b[38;5;241m.\u001b[39mread()\n",
      "File \u001b[0;32m/home/wecapstor1/caph/mppi045h/anaconda3/envs/gammapy-dev/lib/python3.8/pathlib.py:1222\u001b[0m, in \u001b[0;36mPath.open\u001b[0;34m(self, mode, buffering, encoding, errors, newline)\u001b[0m\n\u001b[1;32m   1221\u001b[0m     \u001b[38;5;28mself\u001b[39m\u001b[38;5;241m.\u001b[39m_raise_closed()\n\u001b[0;32m-> 1222\u001b[0m \u001b[38;5;28;01mreturn\u001b[39;00m \u001b[43mio\u001b[49m\u001b[38;5;241;43m.\u001b[39;49m\u001b[43mopen\u001b[49m\u001b[43m(\u001b[49m\u001b[38;5;28;43mself\u001b[39;49m\u001b[43m,\u001b[49m\u001b[43m \u001b[49m\u001b[43mmode\u001b[49m\u001b[43m,\u001b[49m\u001b[43m \u001b[49m\u001b[43mbuffering\u001b[49m\u001b[43m,\u001b[49m\u001b[43m \u001b[49m\u001b[43mencoding\u001b[49m\u001b[43m,\u001b[49m\u001b[43m \u001b[49m\u001b[43merrors\u001b[49m\u001b[43m,\u001b[49m\u001b[43m \u001b[49m\u001b[43mnewline\u001b[49m\u001b[43m,\u001b[49m\n\u001b[1;32m   1223\u001b[0m \u001b[43m               \u001b[49m\u001b[43mopener\u001b[49m\u001b[38;5;241;43m=\u001b[39;49m\u001b[38;5;28;43mself\u001b[39;49m\u001b[38;5;241;43m.\u001b[39;49m\u001b[43m_opener\u001b[49m\u001b[43m)\u001b[49m\n",
      "File \u001b[0;32m/home/wecapstor1/caph/mppi045h/anaconda3/envs/gammapy-dev/lib/python3.8/pathlib.py:1078\u001b[0m, in \u001b[0;36mPath._opener\u001b[0;34m(self, name, flags, mode)\u001b[0m\n\u001b[1;32m   1076\u001b[0m \u001b[38;5;28;01mdef\u001b[39;00m \u001b[38;5;21m_opener\u001b[39m(\u001b[38;5;28mself\u001b[39m, name, flags, mode\u001b[38;5;241m=\u001b[39m\u001b[38;5;241m0o666\u001b[39m):\n\u001b[1;32m   1077\u001b[0m     \u001b[38;5;66;03m# A stub for the opener argument to built-in open()\u001b[39;00m\n\u001b[0;32m-> 1078\u001b[0m     \u001b[38;5;28;01mreturn\u001b[39;00m \u001b[38;5;28;43mself\u001b[39;49m\u001b[38;5;241;43m.\u001b[39;49m\u001b[43m_accessor\u001b[49m\u001b[38;5;241;43m.\u001b[39;49m\u001b[43mopen\u001b[49m\u001b[43m(\u001b[49m\u001b[38;5;28;43mself\u001b[39;49m\u001b[43m,\u001b[49m\u001b[43m \u001b[49m\u001b[43mflags\u001b[49m\u001b[43m,\u001b[49m\u001b[43m \u001b[49m\u001b[43mmode\u001b[49m\u001b[43m)\u001b[49m\n",
      "\u001b[0;31mFileNotFoundError\u001b[0m: [Errno 2] No such file or directory: '../Combined100_PKSflare_crab_cutoff/data/0_model_nui_livetime_2.154434690031884_np.yml'",
      "\nDuring handling of the above exception, another exception occurred:\n",
      "\u001b[0;31mFileNotFoundError\u001b[0m                         Traceback (most recent call last)",
      "Cell \u001b[0;32mIn[5], line 39\u001b[0m\n\u001b[1;32m     37\u001b[0m \u001b[38;5;28;01mexcept\u001b[39;00m:\n\u001b[1;32m     38\u001b[0m     path \u001b[38;5;241m=\u001b[39m \u001b[38;5;124mf\u001b[39m\u001b[38;5;124m'\u001b[39m\u001b[38;5;124m../\u001b[39m\u001b[38;5;132;01m{\u001b[39;00mfolder\u001b[38;5;132;01m}\u001b[39;00m\u001b[38;5;124m/data/0_model_nui_livetime_\u001b[39m\u001b[38;5;132;01m{\u001b[39;00mlivetime\u001b[38;5;132;01m}\u001b[39;00m\u001b[38;5;124m_\u001b[39m\u001b[38;5;132;01m{\u001b[39;00me_reco_n\u001b[38;5;132;01m}\u001b[39;00m\u001b[38;5;124m.yml\u001b[39m\u001b[38;5;124m'\u001b[39m\n\u001b[0;32m---> 39\u001b[0m     dataset_asimov_N \u001b[38;5;241m=\u001b[39m \u001b[43mDataset_load\u001b[49m\u001b[38;5;241;43m.\u001b[39;49m\u001b[43mload_dataset_N\u001b[49m\u001b[43m(\u001b[49m\u001b[43mdataset_asimov_N\u001b[49m\u001b[43m,\u001b[49m\u001b[43m \u001b[49m\u001b[43mpath\u001b[49m\u001b[43m,\u001b[49m\u001b[43mbkg_sys\u001b[49m\u001b[43m \u001b[49m\u001b[38;5;241;43m=\u001b[39;49m\u001b[43m \u001b[49m\u001b[38;5;28;43;01mFalse\u001b[39;49;00m\u001b[43m)\u001b[49m        \n\u001b[1;32m     40\u001b[0m     path \u001b[38;5;241m=\u001b[39m \u001b[38;5;124mf\u001b[39m\u001b[38;5;124m'\u001b[39m\u001b[38;5;124m../\u001b[39m\u001b[38;5;132;01m{\u001b[39;00mfolder\u001b[38;5;132;01m}\u001b[39;00m\u001b[38;5;124m/data/0_model_livetime_\u001b[39m\u001b[38;5;132;01m{\u001b[39;00mlivetime\u001b[38;5;132;01m}\u001b[39;00m\u001b[38;5;124m.yml\u001b[39m\u001b[38;5;124m'\u001b[39m\n\u001b[1;32m     41\u001b[0m     dataset_asimov\u001b[38;5;241m.\u001b[39mmodels \u001b[38;5;241m=\u001b[39m Models\u001b[38;5;241m.\u001b[39mread(path)\n",
      "File \u001b[0;32m/home/wecapstor1/caph/mppi045h/nuisance_summary/Analysis/../Dataset_load.py:136\u001b[0m, in \u001b[0;36mload_dataset_N\u001b[0;34m(dataset_empty, path, bkg_sys, energy)\u001b[0m\n\u001b[1;32m    135\u001b[0m \u001b[38;5;28;01mdef\u001b[39;00m \u001b[38;5;21mload_dataset_N\u001b[39m(dataset_empty, path, bkg_sys\u001b[38;5;241m=\u001b[39m\u001b[38;5;28;01mFalse\u001b[39;00m, energy \u001b[38;5;241m=\u001b[39m \u001b[38;5;28;01mNone\u001b[39;00m):\n\u001b[0;32m--> 136\u001b[0m     models_load \u001b[38;5;241m=\u001b[39m \u001b[43mModels\u001b[49m\u001b[38;5;241;43m.\u001b[39;49m\u001b[43mread\u001b[49m\u001b[43m(\u001b[49m\u001b[43mpath\u001b[49m\u001b[43m)\u001b[49m\u001b[38;5;241m.\u001b[39mcopy()\n\u001b[1;32m    137\u001b[0m     Source \u001b[38;5;241m=\u001b[39m models_load\u001b[38;5;241m.\u001b[39mnames[\u001b[38;5;241m0\u001b[39m]\n\u001b[1;32m    138\u001b[0m     models \u001b[38;5;241m=\u001b[39m Models(models_load[Source]\u001b[38;5;241m.\u001b[39mcopy())\n",
      "File \u001b[0;32m/home/wecapstor1/caph/mppi045h/gammapy/gammapy/modeling/models/core.py:436\u001b[0m, in \u001b[0;36mDatasetModels.read\u001b[0;34m(cls, filename)\u001b[0m\n\u001b[1;32m    433\u001b[0m \u001b[38;5;129m@classmethod\u001b[39m\n\u001b[1;32m    434\u001b[0m \u001b[38;5;28;01mdef\u001b[39;00m \u001b[38;5;21mread\u001b[39m(\u001b[38;5;28mcls\u001b[39m, filename):\n\u001b[1;32m    435\u001b[0m \u001b[38;5;250m    \u001b[39m\u001b[38;5;124;03m\"\"\"Read from YAML file.\"\"\"\u001b[39;00m\n\u001b[0;32m--> 436\u001b[0m     yaml_str \u001b[38;5;241m=\u001b[39m \u001b[43mmake_path\u001b[49m\u001b[43m(\u001b[49m\u001b[43mfilename\u001b[49m\u001b[43m)\u001b[49m\u001b[38;5;241;43m.\u001b[39;49m\u001b[43mread_text\u001b[49m\u001b[43m(\u001b[49m\u001b[43m)\u001b[49m\n\u001b[1;32m    437\u001b[0m     path, filename \u001b[38;5;241m=\u001b[39m split(filename)\n\u001b[1;32m    438\u001b[0m     \u001b[38;5;28;01mreturn\u001b[39;00m \u001b[38;5;28mcls\u001b[39m\u001b[38;5;241m.\u001b[39mfrom_yaml(yaml_str, path\u001b[38;5;241m=\u001b[39mpath)\n",
      "File \u001b[0;32m/home/wecapstor1/caph/mppi045h/anaconda3/envs/gammapy-dev/lib/python3.8/pathlib.py:1236\u001b[0m, in \u001b[0;36mPath.read_text\u001b[0;34m(self, encoding, errors)\u001b[0m\n\u001b[1;32m   1232\u001b[0m \u001b[38;5;28;01mdef\u001b[39;00m \u001b[38;5;21mread_text\u001b[39m(\u001b[38;5;28mself\u001b[39m, encoding\u001b[38;5;241m=\u001b[39m\u001b[38;5;28;01mNone\u001b[39;00m, errors\u001b[38;5;241m=\u001b[39m\u001b[38;5;28;01mNone\u001b[39;00m):\n\u001b[1;32m   1233\u001b[0m \u001b[38;5;250m    \u001b[39m\u001b[38;5;124;03m\"\"\"\u001b[39;00m\n\u001b[1;32m   1234\u001b[0m \u001b[38;5;124;03m    Open the file in text mode, read it, and close the file.\u001b[39;00m\n\u001b[1;32m   1235\u001b[0m \u001b[38;5;124;03m    \"\"\"\u001b[39;00m\n\u001b[0;32m-> 1236\u001b[0m     \u001b[38;5;28;01mwith\u001b[39;00m \u001b[38;5;28;43mself\u001b[39;49m\u001b[38;5;241;43m.\u001b[39;49m\u001b[43mopen\u001b[49m\u001b[43m(\u001b[49m\u001b[43mmode\u001b[49m\u001b[38;5;241;43m=\u001b[39;49m\u001b[38;5;124;43m'\u001b[39;49m\u001b[38;5;124;43mr\u001b[39;49m\u001b[38;5;124;43m'\u001b[39;49m\u001b[43m,\u001b[49m\u001b[43m \u001b[49m\u001b[43mencoding\u001b[49m\u001b[38;5;241;43m=\u001b[39;49m\u001b[43mencoding\u001b[49m\u001b[43m,\u001b[49m\u001b[43m \u001b[49m\u001b[43merrors\u001b[49m\u001b[38;5;241;43m=\u001b[39;49m\u001b[43merrors\u001b[49m\u001b[43m)\u001b[49m \u001b[38;5;28;01mas\u001b[39;00m f:\n\u001b[1;32m   1237\u001b[0m         \u001b[38;5;28;01mreturn\u001b[39;00m f\u001b[38;5;241m.\u001b[39mread()\n",
      "File \u001b[0;32m/home/wecapstor1/caph/mppi045h/anaconda3/envs/gammapy-dev/lib/python3.8/pathlib.py:1222\u001b[0m, in \u001b[0;36mPath.open\u001b[0;34m(self, mode, buffering, encoding, errors, newline)\u001b[0m\n\u001b[1;32m   1220\u001b[0m \u001b[38;5;28;01mif\u001b[39;00m \u001b[38;5;28mself\u001b[39m\u001b[38;5;241m.\u001b[39m_closed:\n\u001b[1;32m   1221\u001b[0m     \u001b[38;5;28mself\u001b[39m\u001b[38;5;241m.\u001b[39m_raise_closed()\n\u001b[0;32m-> 1222\u001b[0m \u001b[38;5;28;01mreturn\u001b[39;00m \u001b[43mio\u001b[49m\u001b[38;5;241;43m.\u001b[39;49m\u001b[43mopen\u001b[49m\u001b[43m(\u001b[49m\u001b[38;5;28;43mself\u001b[39;49m\u001b[43m,\u001b[49m\u001b[43m \u001b[49m\u001b[43mmode\u001b[49m\u001b[43m,\u001b[49m\u001b[43m \u001b[49m\u001b[43mbuffering\u001b[49m\u001b[43m,\u001b[49m\u001b[43m \u001b[49m\u001b[43mencoding\u001b[49m\u001b[43m,\u001b[49m\u001b[43m \u001b[49m\u001b[43merrors\u001b[49m\u001b[43m,\u001b[49m\u001b[43m \u001b[49m\u001b[43mnewline\u001b[49m\u001b[43m,\u001b[49m\n\u001b[1;32m   1223\u001b[0m \u001b[43m               \u001b[49m\u001b[43mopener\u001b[49m\u001b[38;5;241;43m=\u001b[39;49m\u001b[38;5;28;43mself\u001b[39;49m\u001b[38;5;241;43m.\u001b[39;49m\u001b[43m_opener\u001b[49m\u001b[43m)\u001b[49m\n",
      "File \u001b[0;32m/home/wecapstor1/caph/mppi045h/anaconda3/envs/gammapy-dev/lib/python3.8/pathlib.py:1078\u001b[0m, in \u001b[0;36mPath._opener\u001b[0;34m(self, name, flags, mode)\u001b[0m\n\u001b[1;32m   1076\u001b[0m \u001b[38;5;28;01mdef\u001b[39;00m \u001b[38;5;21m_opener\u001b[39m(\u001b[38;5;28mself\u001b[39m, name, flags, mode\u001b[38;5;241m=\u001b[39m\u001b[38;5;241m0o666\u001b[39m):\n\u001b[1;32m   1077\u001b[0m     \u001b[38;5;66;03m# A stub for the opener argument to built-in open()\u001b[39;00m\n\u001b[0;32m-> 1078\u001b[0m     \u001b[38;5;28;01mreturn\u001b[39;00m \u001b[38;5;28;43mself\u001b[39;49m\u001b[38;5;241;43m.\u001b[39;49m\u001b[43m_accessor\u001b[49m\u001b[38;5;241;43m.\u001b[39;49m\u001b[43mopen\u001b[49m\u001b[43m(\u001b[49m\u001b[38;5;28;43mself\u001b[39;49m\u001b[43m,\u001b[49m\u001b[43m \u001b[49m\u001b[43mflags\u001b[49m\u001b[43m,\u001b[49m\u001b[43m \u001b[49m\u001b[43mmode\u001b[49m\u001b[43m)\u001b[49m\n",
      "\u001b[0;31mFileNotFoundError\u001b[0m: [Errno 2] No such file or directory: '../Combined100_PKSflare_crab_cutoff/data/0_model_nui_livetime_2.154434690031884_1000.yml'"
     ]
    }
   ],
   "source": [
    "    \n",
    "setup = Setup(dataset_input=dataset_input)\n",
    "#setup.set_up_irf_sys(bias, resolution, norm, tilt)\n",
    "dataset_asimov, dataset_asimov_N = setup.run()\n",
    "\n",
    "\n",
    "# irf model\n",
    "setup.set_irf_model(dataset_asimov_N)\n",
    "if sys == \"Eff_area\":\n",
    "    dataset_asimov_N.models.parameters['resolution'].frozen = True\n",
    "    dataset_asimov_N.irf_model.parameters['tilt'].frozen = False\n",
    "    dataset_asimov_N.irf_model.parameters['bias'].frozen = True\n",
    "    setup.set_irf_prior(dataset_asimov_N, bias, resolution, norm, tilt)\n",
    "    \n",
    "if sys == \"E_reco\":\n",
    "    dataset_asimov_N.models.parameters['resolution'].frozen = True\n",
    "    dataset_asimov_N.irf_model.parameters['tilt'].frozen = True\n",
    "    dataset_asimov_N.irf_model.parameters['norm'].frozen = True\n",
    "    dataset_asimov_N.irf_model.parameters['bias'].frozen = False\n",
    "    setup.set_irf_prior(dataset_asimov_N, bias, resolution, norm, tilt)\n",
    "    e_reco_n = 1000\n",
    "\n",
    "    \n",
    "        \n",
    "if  \"Combined\" in sys:\n",
    "    dataset_asimov_N.models.parameters['resolution'].frozen = True\n",
    "    dataset_asimov_N.irf_model.parameters['tilt'].frozen = False\n",
    "    dataset_asimov_N.irf_model.parameters['bias'].frozen = False\n",
    "    dataset_asimov_N.irf_model.parameters['norm'].frozen = False\n",
    "    setup.set_irf_prior(dataset_asimov_N, bias, resolution, norm, tilt)\n",
    "    e_reco_n = 1000\n",
    "\n",
    "try:\n",
    "    path = f'../{folder}/data/0_model_nui_livetime_{livetime}_np.yml'\n",
    "    dataset_asimov_N = Dataset_load.load_dataset_N(dataset_asimov_N, path,bkg_sys = False)        \n",
    "    path = f'../{folder}/data/0_model_livetime_{livetime}_np.yml'\n",
    "    dataset_asimov.models = Models.read(path)\n",
    "except:\n",
    "    path = f'../{folder}/data/0_model_nui_livetime_{livetime}_{e_reco_n}.yml'\n",
    "    dataset_asimov_N = Dataset_load.load_dataset_N(dataset_asimov_N, path,bkg_sys = False)        \n",
    "    path = f'../{folder}/data/0_model_livetime_{livetime}.yml'\n",
    "    dataset_asimov.models = Models.read(path)\n",
    "print(dataset_asimov.models)"
   ]
  },
  {
   "cell_type": "markdown",
   "id": "ec637604-dbf7-4501-9012-2bf4c302d233",
   "metadata": {},
   "source": [
    "## Minos"
   ]
  },
  {
   "cell_type": "code",
   "execution_count": null,
   "id": "7031c52d-9f99-43ef-80aa-784a36f211e3",
   "metadata": {},
   "outputs": [],
   "source": [
    "parameter_names = c['parameter_names']\n",
    "source = 'Crablog'\n",
    "scan_n_sigma = 2\n",
    "scan_n_values = 5\n",
    "e_reco_n = 1000"
   ]
  },
  {
   "cell_type": "code",
   "execution_count": null,
   "id": "f6589e22-4b65-4ef2-a364-0fa01a829dad",
   "metadata": {},
   "outputs": [],
   "source": [
    "def computing_surface(dataset_asimov, note, idx):\n",
    "        \n",
    "    fit_cor = Fit(store_trace=False)\n",
    "    result_cor = fit_cor.run(dataset_asimov)\n",
    "    result_cor.minuit\n",
    "    print(dataset_asimov.models[0])\n",
    "    \n",
    "    results = []\n",
    "    for parname1, parname2 in parameter_names[idx:idx+1] :\n",
    "        print( parname1, parname2)\n",
    "        dataset_asimov.models.parameters[parname1].scan_n_sigma  = scan_n_sigma  \n",
    "        dataset_asimov.models.parameters[parname2].scan_n_sigma  = scan_n_sigma \n",
    "        \n",
    "        dataset_asimov.models.parameters[parname1].scan_n_values  = scan_n_values  \n",
    "        dataset_asimov.models.parameters[parname2].scan_n_values  = scan_n_values \n",
    "        par1_scan = dataset_asimov.models.parameters[parname1].scan_values\n",
    "        par2_scan = dataset_asimov.models.parameters[parname2].scan_values\n",
    "\n",
    "        print(par1_scan)\n",
    "        print(par2_scan)\n",
    "        \n",
    "        \n",
    "        if dataset_asimov.models.parameters[parname1].scan_min <0:\n",
    "            dataset_asimov.models.parameters[parname1].scan_min = 1e-15\n",
    "        if dataset_asimov.models.parameters[parname2].scan_min <0:\n",
    "            dataset_asimov.models.parameters[parname2].scan_min = 1e-15\n",
    "            \n",
    "            \n",
    "        dataset_asimov.models.parameters[parname1].frozen  = True\n",
    "        dataset_asimov.models.parameters[parname2].frozen  = True\n",
    "        dataset_asimov.models.parameters['lon_0'].frozen = True\n",
    "        dataset_asimov.models.parameters['lat_0'].frozen = True\n",
    "        kk =0 \n",
    "        stat_scans_N = []\n",
    "        for a in par1_scan:\n",
    "            dataset_asimov.models.parameters[parname1].value = a\n",
    "            for i in par2_scan:\n",
    "                print(kk)\n",
    "                dataset_asimov.models.parameters[parname2].value = i\n",
    "                fit_cor = Fit(store_trace=False)\n",
    "                result_cor = fit_cor.run(dataset_asimov)\n",
    "                print(result_cor.minuit)\n",
    "                print(dataset_asimov.models)\n",
    "                stat_scans_N.append(dataset_asimov.stat_sum())\n",
    "                kk +=1\n",
    "        stat_scans_N = np.array(stat_scans_N) #- np.min(stat_scans_N)    \n",
    "        print(stat_scans_N)\n",
    "        dataset_asimov.models.parameters[parname1].frozen  = False\n",
    "        dataset_asimov.models.parameters[parname2].frozen  = False\n",
    "\n",
    "        result = dict()\n",
    "        result[f'Crablog.spectral.{parname1}_scan'] = par1_scan\n",
    "        result[f'Crablog.spectral.{parname2}_scan'] = par2_scan\n",
    "        result['stat_scan'] = stat_scans_N.reshape(scan_n_values, scan_n_values)\n",
    "        #result = fit_cor.stat_surface([dataset],\n",
    "        #                     dataset.models.parameters[parname1],\n",
    "        #                     dataset.models.parameters[parname2],\n",
    "        #                    reoptimize=True)\n",
    "        print(result)\n",
    "        contour_write = dict()\n",
    "        for k in result.keys():\n",
    "            print(k)\n",
    "            if k != \"fit_results\":\n",
    "                contour_write[k] =[float(_) for _ in np.array(result[k]).flatten()]#.tolist()\n",
    "\n",
    "        with open(f\"../{folder}/data/3_surface_{note}_{parname1}_{parname2}_{scan_n_sigma}_{scan_n_values}_{e_reco_n}.yml\", \"w\") as outfile:\n",
    "        #with open(f\"../{c['folder']}/data/3_surface_{note}_{parname1}_{parname2}.yml\", \"w\") as outfile:\n",
    "            yaml.dump(contour_write, outfile, default_flow_style=False)\n",
    "        results.append(result)\n",
    "    return results\n",
    "\n",
    "def read_in_surface(note):\n",
    "    results = []\n",
    "    for parname1, parname2 in parameter_names :\n",
    "        with open(f\"../{folder}/data/3_surface_{note}_{parname1}_{parname2}_{scan_n_sigma}_{scan_n_values}_{e_reco_n}.yml\", \"r\") as stream:\n",
    "        #with open(f\"../{c['folder']}/data/3_surface_{note}_{parname1}_{parname2}.yml\", \"r\") as stream:\n",
    "            contour = yaml.safe_load(stream)\n",
    "        a = contour[f\"{source}.spectral.{parname1}_scan\"]\n",
    "        b = contour[f\"{source}.spectral.{parname2}_scan\"]\n",
    "        shape =len(a) , len(b)\n",
    "        contour['stat_scan'] = np.array(contour['stat_scan']).reshape(shape)\n",
    "        results.append(contour)\n",
    "    return results"
   ]
  },
  {
   "cell_type": "code",
   "execution_count": 8,
   "id": "e2201840-6c23-471d-b286-7152982bbb66",
   "metadata": {},
   "outputs": [
    {
     "name": "stdout",
     "output_type": "stream",
     "text": [
      "CPU times: user 24.8 ms, sys: 208 µs, total: 25 ms\n",
      "Wall time: 44.1 ms\n"
     ]
    }
   ],
   "source": [
    "%%time\n",
    "computing = 0\n",
    "if computing:\n",
    "    \n",
    "    results = computing_surface(dataset_asimov, \"2.15h\", 0)\n",
    "    results = computing_surface(dataset_asimov, \"2.15h\", 1)\n",
    "    results = computing_surface(dataset_asimov, \"2.15h\", 2)\n",
    "    \n",
    "else:\n",
    "    results = read_in_surface(\"2.15h\")\n",
    "    path = f'../{folder}/data/0_model_livetime_{livetime}.yml'\n",
    "    dataset_asimov.models = Models.read(path)"
   ]
  },
  {
   "cell_type": "code",
   "execution_count": 9,
   "id": "c644df6d-bc94-4194-a88b-5b2ae89a0b79",
   "metadata": {},
   "outputs": [
    {
     "data": {
      "text/plain": [
       "<matplotlib.colorbar.Colorbar at 0x7f22792bd0a0>"
      ]
     },
     "execution_count": 9,
     "metadata": {},
     "output_type": "execute_result"
    },
    {
     "data": {
      "image/png": "[encoded data removed]",
      "text/plain": [
       "<Figure size 1400x500 with 6 Axes>"
      ]
     },
     "metadata": {},
     "output_type": "display_data"
    }
   ],
   "source": [
    "fig, (ax1, ax, ax3) = plt.subplots(1, 3, figsize=(14, 5))\n",
    "stat_scan = results[0][\"stat_scan\"] - np.min(results[0][\"stat_scan\"])\n",
    "\n",
    "\n",
    "im = ax1.pcolormesh(results[0]['Crablog.spectral.amplitude_scan'],\n",
    "                    results[0][ 'Crablog.spectral.index_scan'], \n",
    "                    stat_scan)\n",
    "fig.colorbar(im, ax=ax1)\n",
    "\n",
    "stat_scan = results[1][\"stat_scan\"] - np.min(results[0][\"stat_scan\"])\n",
    "\n",
    "im = ax.pcolormesh(results[1]['Crablog.spectral.amplitude_scan'],\n",
    "                    results[1][ 'Crablog.spectral.lambda__scan'], \n",
    "                    stat_scan)\n",
    "fig.colorbar(im, ax=ax)\n",
    "\n",
    "\n",
    "stat_scan = results[2][\"stat_scan\"] - np.min(results[2][\"stat_scan\"])\n",
    "\n",
    "im = ax3.pcolormesh(results[2]['Crablog.spectral.index_scan'],\n",
    "                    results[2][ 'Crablog.spectral.lambda__scan'], \n",
    "                    stat_scan)\n",
    "fig.colorbar(im, ax=ax3)\n"
   ]
  },
  {
   "cell_type": "code",
   "execution_count": 10,
   "id": "404ddbbf-b0ae-4e64-a5a6-e0c28cf22356",
   "metadata": {},
   "outputs": [
    {
     "name": "stdout",
     "output_type": "stream",
     "text": [
      "amplitude lambda_\n"
     ]
    }
   ],
   "source": [
    "idx = 1\n",
    "for parname1, parname2 in parameter_names[idx:idx+1] :\n",
    "        print( parname1, parname2)"
   ]
  },
  {
   "cell_type": "code",
   "execution_count": 11,
   "id": "15504be3-41c3-4c1e-9590-65b48025ee42",
   "metadata": {},
   "outputs": [
    {
     "ename": "FileNotFoundError",
     "evalue": "[Errno 2] No such file or directory: '../E_reco_PKSflare_crab_cutoff/data/3_surface_N_2.15h_amplitude_index_2_5_1000.yml'",
     "output_type": "error",
     "traceback": [
      "\u001b[0;31m---------------------------------------------------------------------------\u001b[0m",
      "\u001b[0;31mFileNotFoundError\u001b[0m                         Traceback (most recent call last)",
      "File \u001b[0;32m<timed exec>:11\u001b[0m\n",
      "Cell \u001b[0;32mIn[7], line 75\u001b[0m, in \u001b[0;36mread_in_surface\u001b[0;34m(note)\u001b[0m\n\u001b[1;32m     73\u001b[0m results \u001b[38;5;241m=\u001b[39m []\n\u001b[1;32m     74\u001b[0m \u001b[38;5;28;01mfor\u001b[39;00m parname1, parname2 \u001b[38;5;129;01min\u001b[39;00m parameter_names :\n\u001b[0;32m---> 75\u001b[0m     \u001b[38;5;28;01mwith\u001b[39;00m \u001b[38;5;28;43mopen\u001b[39;49m\u001b[43m(\u001b[49m\u001b[38;5;124;43mf\u001b[39;49m\u001b[38;5;124;43m\"\u001b[39;49m\u001b[38;5;124;43m../\u001b[39;49m\u001b[38;5;132;43;01m{\u001b[39;49;00m\u001b[43mfolder\u001b[49m\u001b[38;5;132;43;01m}\u001b[39;49;00m\u001b[38;5;124;43m/data/3_surface_\u001b[39;49m\u001b[38;5;132;43;01m{\u001b[39;49;00m\u001b[43mnote\u001b[49m\u001b[38;5;132;43;01m}\u001b[39;49;00m\u001b[38;5;124;43m_\u001b[39;49m\u001b[38;5;132;43;01m{\u001b[39;49;00m\u001b[43mparname1\u001b[49m\u001b[38;5;132;43;01m}\u001b[39;49;00m\u001b[38;5;124;43m_\u001b[39;49m\u001b[38;5;132;43;01m{\u001b[39;49;00m\u001b[43mparname2\u001b[49m\u001b[38;5;132;43;01m}\u001b[39;49;00m\u001b[38;5;124;43m_\u001b[39;49m\u001b[38;5;132;43;01m{\u001b[39;49;00m\u001b[43mscan_n_sigma\u001b[49m\u001b[38;5;132;43;01m}\u001b[39;49;00m\u001b[38;5;124;43m_\u001b[39;49m\u001b[38;5;132;43;01m{\u001b[39;49;00m\u001b[43mscan_n_values\u001b[49m\u001b[38;5;132;43;01m}\u001b[39;49;00m\u001b[38;5;124;43m_\u001b[39;49m\u001b[38;5;132;43;01m{\u001b[39;49;00m\u001b[43me_reco_n\u001b[49m\u001b[38;5;132;43;01m}\u001b[39;49;00m\u001b[38;5;124;43m.yml\u001b[39;49m\u001b[38;5;124;43m\"\u001b[39;49m\u001b[43m,\u001b[49m\u001b[43m \u001b[49m\u001b[38;5;124;43m\"\u001b[39;49m\u001b[38;5;124;43mr\u001b[39;49m\u001b[38;5;124;43m\"\u001b[39;49m\u001b[43m)\u001b[49m \u001b[38;5;28;01mas\u001b[39;00m stream:\n\u001b[1;32m     76\u001b[0m     \u001b[38;5;66;03m#with open(f\"../{c['folder']}/data/3_surface_{note}_{parname1}_{parname2}.yml\", \"r\") as stream:\u001b[39;00m\n\u001b[1;32m     77\u001b[0m         contour \u001b[38;5;241m=\u001b[39m yaml\u001b[38;5;241m.\u001b[39msafe_load(stream)\n\u001b[1;32m     78\u001b[0m     a \u001b[38;5;241m=\u001b[39m contour[\u001b[38;5;124mf\u001b[39m\u001b[38;5;124m\"\u001b[39m\u001b[38;5;132;01m{\u001b[39;00msource\u001b[38;5;132;01m}\u001b[39;00m\u001b[38;5;124m.spectral.\u001b[39m\u001b[38;5;132;01m{\u001b[39;00mparname1\u001b[38;5;132;01m}\u001b[39;00m\u001b[38;5;124m_scan\u001b[39m\u001b[38;5;124m\"\u001b[39m]\n",
      "File \u001b[0;32m/home/wecapstor1/caph/mppi045h/anaconda3/envs/gammapy-dev/lib/python3.8/site-packages/IPython/core/interactiveshell.py:284\u001b[0m, in \u001b[0;36m_modified_open\u001b[0;34m(file, *args, **kwargs)\u001b[0m\n\u001b[1;32m    277\u001b[0m \u001b[38;5;28;01mif\u001b[39;00m file \u001b[38;5;129;01min\u001b[39;00m {\u001b[38;5;241m0\u001b[39m, \u001b[38;5;241m1\u001b[39m, \u001b[38;5;241m2\u001b[39m}:\n\u001b[1;32m    278\u001b[0m     \u001b[38;5;28;01mraise\u001b[39;00m \u001b[38;5;167;01mValueError\u001b[39;00m(\n\u001b[1;32m    279\u001b[0m         \u001b[38;5;124mf\u001b[39m\u001b[38;5;124m\"\u001b[39m\u001b[38;5;124mIPython won\u001b[39m\u001b[38;5;124m'\u001b[39m\u001b[38;5;124mt let you open fd=\u001b[39m\u001b[38;5;132;01m{\u001b[39;00mfile\u001b[38;5;132;01m}\u001b[39;00m\u001b[38;5;124m by default \u001b[39m\u001b[38;5;124m\"\u001b[39m\n\u001b[1;32m    280\u001b[0m         \u001b[38;5;124m\"\u001b[39m\u001b[38;5;124mas it is likely to crash IPython. If you know what you are doing, \u001b[39m\u001b[38;5;124m\"\u001b[39m\n\u001b[1;32m    281\u001b[0m         \u001b[38;5;124m\"\u001b[39m\u001b[38;5;124myou can use builtins\u001b[39m\u001b[38;5;124m'\u001b[39m\u001b[38;5;124m open.\u001b[39m\u001b[38;5;124m\"\u001b[39m\n\u001b[1;32m    282\u001b[0m     )\n\u001b[0;32m--> 284\u001b[0m \u001b[38;5;28;01mreturn\u001b[39;00m \u001b[43mio_open\u001b[49m\u001b[43m(\u001b[49m\u001b[43mfile\u001b[49m\u001b[43m,\u001b[49m\u001b[43m \u001b[49m\u001b[38;5;241;43m*\u001b[39;49m\u001b[43margs\u001b[49m\u001b[43m,\u001b[49m\u001b[43m \u001b[49m\u001b[38;5;241;43m*\u001b[39;49m\u001b[38;5;241;43m*\u001b[39;49m\u001b[43mkwargs\u001b[49m\u001b[43m)\u001b[49m\n",
      "\u001b[0;31mFileNotFoundError\u001b[0m: [Errno 2] No such file or directory: '../E_reco_PKSflare_crab_cutoff/data/3_surface_N_2.15h_amplitude_index_2_5_1000.yml'"
     ]
    }
   ],
   "source": [
    "%%time\n",
    "computing = 0\n",
    "scan_n_values = 5\n",
    "\n",
    "dataset_asimov_N.e_reco_n = e_reco_n\n",
    "if computing:\n",
    "    \n",
    "    #results_N = computing_surface(dataset_asimov_N, \"N_2.15h\", 0)\n",
    "    #results_N = computing_surface(dataset_asimov_N, \"N_2.15h\", 1)\n",
    "    results_N = computing_surface(dataset_asimov_N, \"N_2.15h\", 2)\n",
    "else:\n",
    "    results_N = read_in_surface(\"N_2.15h\")"
   ]
  },
  {
   "cell_type": "code",
   "execution_count": 15,
   "id": "199b96b6-e20a-45be-8a39-7a5e5f75a2c8",
   "metadata": {},
   "outputs": [
    {
     "ename": "ValueError",
     "evalue": "x and y arguments to pcolormesh cannot have non-finite values or be of type numpy.ma.core.MaskedArray with masked values",
     "output_type": "error",
     "traceback": [
      "\u001b[0;31m---------------------------------------------------------------------------\u001b[0m",
      "\u001b[0;31mValueError\u001b[0m                                Traceback (most recent call last)",
      "Cell \u001b[0;32mIn[15], line 5\u001b[0m\n\u001b[1;32m      1\u001b[0m fig, (ax1, ax, ax3) \u001b[38;5;241m=\u001b[39m plt\u001b[38;5;241m.\u001b[39msubplots(\u001b[38;5;241m1\u001b[39m, \u001b[38;5;241m3\u001b[39m, figsize\u001b[38;5;241m=\u001b[39m(\u001b[38;5;241m14\u001b[39m, \u001b[38;5;241m5\u001b[39m))\n\u001b[1;32m      2\u001b[0m stat_scan \u001b[38;5;241m=\u001b[39m results_N[\u001b[38;5;241m0\u001b[39m][\u001b[38;5;124m\"\u001b[39m\u001b[38;5;124mstat_scan\u001b[39m\u001b[38;5;124m\"\u001b[39m] \u001b[38;5;241m-\u001b[39m np\u001b[38;5;241m.\u001b[39mmin(results_N[\u001b[38;5;241m0\u001b[39m][\u001b[38;5;124m\"\u001b[39m\u001b[38;5;124mstat_scan\u001b[39m\u001b[38;5;124m\"\u001b[39m])\n\u001b[0;32m----> 5\u001b[0m im \u001b[38;5;241m=\u001b[39m \u001b[43max1\u001b[49m\u001b[38;5;241;43m.\u001b[39;49m\u001b[43mpcolormesh\u001b[49m\u001b[43m(\u001b[49m\u001b[43mresults_N\u001b[49m\u001b[43m[\u001b[49m\u001b[38;5;241;43m0\u001b[39;49m\u001b[43m]\u001b[49m\u001b[43m[\u001b[49m\u001b[38;5;124;43m'\u001b[39;49m\u001b[38;5;124;43mCrablog.spectral.amplitude_scan\u001b[39;49m\u001b[38;5;124;43m'\u001b[39;49m\u001b[43m]\u001b[49m\u001b[43m,\u001b[49m\n\u001b[1;32m      6\u001b[0m \u001b[43m                    \u001b[49m\u001b[43mresults_N\u001b[49m\u001b[43m[\u001b[49m\u001b[38;5;241;43m0\u001b[39;49m\u001b[43m]\u001b[49m\u001b[43m[\u001b[49m\u001b[43m \u001b[49m\u001b[38;5;124;43m'\u001b[39;49m\u001b[38;5;124;43mCrablog.spectral.index_scan\u001b[39;49m\u001b[38;5;124;43m'\u001b[39;49m\u001b[43m]\u001b[49m\u001b[43m,\u001b[49m\u001b[43m \u001b[49m\n\u001b[1;32m      7\u001b[0m \u001b[43m                    \u001b[49m\u001b[43mstat_scan\u001b[49m\u001b[43m)\u001b[49m\n\u001b[1;32m      8\u001b[0m fig\u001b[38;5;241m.\u001b[39mcolorbar(im, ax\u001b[38;5;241m=\u001b[39max1)\n\u001b[1;32m     10\u001b[0m stat_scan \u001b[38;5;241m=\u001b[39m results_N[\u001b[38;5;241m1\u001b[39m][\u001b[38;5;124m\"\u001b[39m\u001b[38;5;124mstat_scan\u001b[39m\u001b[38;5;124m\"\u001b[39m] \u001b[38;5;241m-\u001b[39m np\u001b[38;5;241m.\u001b[39mmin(results[\u001b[38;5;241m0\u001b[39m][\u001b[38;5;124m\"\u001b[39m\u001b[38;5;124mstat_scan\u001b[39m\u001b[38;5;124m\"\u001b[39m])\n",
      "File \u001b[0;32m/home/wecapstor1/caph/mppi045h/anaconda3/envs/gammapy-dev/lib/python3.8/site-packages/matplotlib/__init__.py:1442\u001b[0m, in \u001b[0;36m_preprocess_data.<locals>.inner\u001b[0;34m(ax, data, *args, **kwargs)\u001b[0m\n\u001b[1;32m   1439\u001b[0m \u001b[38;5;129m@functools\u001b[39m\u001b[38;5;241m.\u001b[39mwraps(func)\n\u001b[1;32m   1440\u001b[0m \u001b[38;5;28;01mdef\u001b[39;00m \u001b[38;5;21minner\u001b[39m(ax, \u001b[38;5;241m*\u001b[39margs, data\u001b[38;5;241m=\u001b[39m\u001b[38;5;28;01mNone\u001b[39;00m, \u001b[38;5;241m*\u001b[39m\u001b[38;5;241m*\u001b[39mkwargs):\n\u001b[1;32m   1441\u001b[0m     \u001b[38;5;28;01mif\u001b[39;00m data \u001b[38;5;129;01mis\u001b[39;00m \u001b[38;5;28;01mNone\u001b[39;00m:\n\u001b[0;32m-> 1442\u001b[0m         \u001b[38;5;28;01mreturn\u001b[39;00m \u001b[43mfunc\u001b[49m\u001b[43m(\u001b[49m\u001b[43max\u001b[49m\u001b[43m,\u001b[49m\u001b[43m \u001b[49m\u001b[38;5;241;43m*\u001b[39;49m\u001b[38;5;28;43mmap\u001b[39;49m\u001b[43m(\u001b[49m\u001b[43msanitize_sequence\u001b[49m\u001b[43m,\u001b[49m\u001b[43m \u001b[49m\u001b[43margs\u001b[49m\u001b[43m)\u001b[49m\u001b[43m,\u001b[49m\u001b[43m \u001b[49m\u001b[38;5;241;43m*\u001b[39;49m\u001b[38;5;241;43m*\u001b[39;49m\u001b[43mkwargs\u001b[49m\u001b[43m)\u001b[49m\n\u001b[1;32m   1444\u001b[0m     bound \u001b[38;5;241m=\u001b[39m new_sig\u001b[38;5;241m.\u001b[39mbind(ax, \u001b[38;5;241m*\u001b[39margs, \u001b[38;5;241m*\u001b[39m\u001b[38;5;241m*\u001b[39mkwargs)\n\u001b[1;32m   1445\u001b[0m     auto_label \u001b[38;5;241m=\u001b[39m (bound\u001b[38;5;241m.\u001b[39marguments\u001b[38;5;241m.\u001b[39mget(label_namer)\n\u001b[1;32m   1446\u001b[0m                   \u001b[38;5;129;01mor\u001b[39;00m bound\u001b[38;5;241m.\u001b[39mkwargs\u001b[38;5;241m.\u001b[39mget(label_namer))\n",
      "File \u001b[0;32m/home/wecapstor1/caph/mppi045h/anaconda3/envs/gammapy-dev/lib/python3.8/site-packages/matplotlib/axes/_axes.py:6220\u001b[0m, in \u001b[0;36mAxes.pcolormesh\u001b[0;34m(self, alpha, norm, cmap, vmin, vmax, shading, antialiased, *args, **kwargs)\u001b[0m\n\u001b[1;32m   6217\u001b[0m shading \u001b[38;5;241m=\u001b[39m shading\u001b[38;5;241m.\u001b[39mlower()\n\u001b[1;32m   6218\u001b[0m kwargs\u001b[38;5;241m.\u001b[39msetdefault(\u001b[38;5;124m'\u001b[39m\u001b[38;5;124medgecolors\u001b[39m\u001b[38;5;124m'\u001b[39m, \u001b[38;5;124m'\u001b[39m\u001b[38;5;124mnone\u001b[39m\u001b[38;5;124m'\u001b[39m)\n\u001b[0;32m-> 6220\u001b[0m X, Y, C, shading \u001b[38;5;241m=\u001b[39m \u001b[38;5;28;43mself\u001b[39;49m\u001b[38;5;241;43m.\u001b[39;49m\u001b[43m_pcolorargs\u001b[49m\u001b[43m(\u001b[49m\u001b[38;5;124;43m'\u001b[39;49m\u001b[38;5;124;43mpcolormesh\u001b[39;49m\u001b[38;5;124;43m'\u001b[39;49m\u001b[43m,\u001b[49m\u001b[43m \u001b[49m\u001b[38;5;241;43m*\u001b[39;49m\u001b[43margs\u001b[49m\u001b[43m,\u001b[49m\n\u001b[1;32m   6221\u001b[0m \u001b[43m                                    \u001b[49m\u001b[43mshading\u001b[49m\u001b[38;5;241;43m=\u001b[39;49m\u001b[43mshading\u001b[49m\u001b[43m,\u001b[49m\u001b[43m \u001b[49m\u001b[43mkwargs\u001b[49m\u001b[38;5;241;43m=\u001b[39;49m\u001b[43mkwargs\u001b[49m\u001b[43m)\u001b[49m\n\u001b[1;32m   6222\u001b[0m coords \u001b[38;5;241m=\u001b[39m np\u001b[38;5;241m.\u001b[39mstack([X, Y], axis\u001b[38;5;241m=\u001b[39m\u001b[38;5;241m-\u001b[39m\u001b[38;5;241m1\u001b[39m)\n\u001b[1;32m   6223\u001b[0m \u001b[38;5;66;03m# convert to one dimensional array, except for 3D RGB(A) arrays\u001b[39;00m\n",
      "File \u001b[0;32m/home/wecapstor1/caph/mppi045h/anaconda3/envs/gammapy-dev/lib/python3.8/site-packages/matplotlib/axes/_axes.py:5717\u001b[0m, in \u001b[0;36mAxes._pcolorargs\u001b[0;34m(self, funcname, shading, *args, **kwargs)\u001b[0m\n\u001b[1;32m   5715\u001b[0m \u001b[38;5;28;01mif\u001b[39;00m funcname \u001b[38;5;241m==\u001b[39m \u001b[38;5;124m'\u001b[39m\u001b[38;5;124mpcolormesh\u001b[39m\u001b[38;5;124m'\u001b[39m:\n\u001b[1;32m   5716\u001b[0m     \u001b[38;5;28;01mif\u001b[39;00m np\u001b[38;5;241m.\u001b[39mma\u001b[38;5;241m.\u001b[39mis_masked(X) \u001b[38;5;129;01mor\u001b[39;00m np\u001b[38;5;241m.\u001b[39mma\u001b[38;5;241m.\u001b[39mis_masked(Y):\n\u001b[0;32m-> 5717\u001b[0m         \u001b[38;5;28;01mraise\u001b[39;00m \u001b[38;5;167;01mValueError\u001b[39;00m(\n\u001b[1;32m   5718\u001b[0m             \u001b[38;5;124m'\u001b[39m\u001b[38;5;124mx and y arguments to pcolormesh cannot have \u001b[39m\u001b[38;5;124m'\u001b[39m\n\u001b[1;32m   5719\u001b[0m             \u001b[38;5;124m'\u001b[39m\u001b[38;5;124mnon-finite values or be of type \u001b[39m\u001b[38;5;124m'\u001b[39m\n\u001b[1;32m   5720\u001b[0m             \u001b[38;5;124m'\u001b[39m\u001b[38;5;124mnumpy.ma.core.MaskedArray with masked values\u001b[39m\u001b[38;5;124m'\u001b[39m)\n\u001b[1;32m   5721\u001b[0m     \u001b[38;5;66;03m# safe_masked_invalid() returns an ndarray for dtypes other\u001b[39;00m\n\u001b[1;32m   5722\u001b[0m     \u001b[38;5;66;03m# than floating point.\u001b[39;00m\n\u001b[1;32m   5723\u001b[0m     \u001b[38;5;28;01mif\u001b[39;00m \u001b[38;5;28misinstance\u001b[39m(X, np\u001b[38;5;241m.\u001b[39mma\u001b[38;5;241m.\u001b[39mcore\u001b[38;5;241m.\u001b[39mMaskedArray):\n",
      "\u001b[0;31mValueError\u001b[0m: x and y arguments to pcolormesh cannot have non-finite values or be of type numpy.ma.core.MaskedArray with masked values"
     ]
    },
    {
     "data": {
      "image/png": "[encoded data removed]",
      "text/plain": [
       "<Figure size 1400x500 with 3 Axes>"
      ]
     },
     "metadata": {},
     "output_type": "display_data"
    }
   ],
   "source": [
    "fig, (ax1, ax, ax3) = plt.subplots(1, 3, figsize=(14, 5))\n",
    "stat_scan = results_N[0][\"stat_scan\"] - np.min(results_N[0][\"stat_scan\"])\n",
    "\n",
    "\n",
    "im = ax1.pcolormesh(results_N[0]['Crablog.spectral.amplitude_scan'],\n",
    "                    results_N[0][ 'Crablog.spectral.index_scan'], \n",
    "                    stat_scan)\n",
    "fig.colorbar(im, ax=ax1)\n",
    "\n",
    "stat_scan = results_N[1][\"stat_scan\"] - np.min(results[0][\"stat_scan\"])\n",
    "\n",
    "im = ax.pcolormesh(results_N[1]['Crablog.spectral.amplitude_scan'],\n",
    "                    results_N[1][ 'Crablog.spectral.lambda__scan'], \n",
    "                    stat_scan)\n",
    "fig.colorbar(im, ax=ax)\n",
    "\n",
    "\n",
    "stat_scan = results_N[2][\"stat_scan\"] - np.min(results_N[2][\"stat_scan\"])\n",
    "\n",
    "im = ax3.pcolormesh(results_N[2]['Crablog.spectral.index_scan'],\n",
    "                    results_N[2][ 'Crablog.spectral.lambda__scan'], \n",
    "                    stat_scan)\n",
    "fig.colorbar(im, ax=ax3)\n"
   ]
  },
  {
   "cell_type": "code",
   "execution_count": null,
   "id": "1b9d0723-04c7-44b5-a5b4-aadeb0f1e6af",
   "metadata": {},
   "outputs": [],
   "source": [
    "def compute_errors(Ls_new, x_new, y_new, threshold, find_min):\n",
    "    offset = Ls_new.min() + threshold\n",
    "    if offset > 0:\n",
    "        inside = Ls_new * (Ls_new < offset)\n",
    "    else:\n",
    "        inside = Ls_new * (Ls_new >= offset)\n",
    "    if find_min:  # find min:\n",
    "        pos = np.where(inside > 0)\n",
    "        ampli_best = x_new[np.where(Ls_new == Ls_new.min())[1][0]]\n",
    "        index_best = y_new[np.where(Ls_new == Ls_new.min())[0][0]]\n",
    "\n",
    "    else:  # find max\n",
    "        pos = np.where(inside > 0)\n",
    "        ampli_best = x_new[np.where(Ls_new == Ls_new.max())[1][0]]\n",
    "        index_best = y_new[np.where(Ls_new == Ls_new.max())[0][0]]\n",
    "\n",
    "    delta_bin = (x_new[1] - x_new[0]) / 2\n",
    "    ampli_min = x_new[np.min(pos[1])] - delta_bin\n",
    "    ampli_max = x_new[np.max(pos[1])] + delta_bin\n",
    "    ampli_best += delta_bin\n",
    "\n",
    "    delta_bin = (y_new[1] - y_new[0]) / 2\n",
    "    index_min = y_new[np.min(pos[0])] - delta_bin\n",
    "    index_max = y_new[np.max(pos[0])] + delta_bin\n",
    "    index_best += delta_bin\n",
    "\n",
    "    return index_min, index_max, ampli_min, ampli_max, index_best, ampli_best\n",
    "\n",
    "\n",
    "def plot_surface(contour, parname1, parname2,\n",
    "                source = \"Crabbreak\", note = \"\", plot_orig = True, cubic = True):\n",
    "    cropidx = 0\n",
    "    amplix__ = contour[f\"{source}.spectral.{parname1}_scan\"]#[cropidx: -cropidx]\n",
    "    indexy__ = contour[f\"{source}.spectral.{parname2}_scan\"]#[cropidx: -cropidx]\n",
    "    N_new = int(110 * 1)\n",
    "    N_new_y = int(100 *1)\n",
    "    amplix__new = np.linspace(amplix__[0], amplix__[-1], N_new)\n",
    "    indexy__new = np.linspace(indexy__[0], indexy__[-1], N_new_y)\n",
    "    stat_scan = contour[\"stat_scan\"] - np.min(contour[\"stat_scan\"])\n",
    "    stat_scan =stat_scan#[cropidx: -cropidx,cropidx: -cropidx]\n",
    "    if cubic:\n",
    "    #try:\n",
    "        f = interp2d(\n",
    "            x=indexy__,\n",
    "            y=amplix__,\n",
    "            z=stat_scan,\n",
    "            kind=\"cubic\",\n",
    "            fill_value=None,\n",
    "            bounds_error=False,\n",
    "            )\n",
    "    else:\n",
    "    #except:\n",
    "        f = interp2d(\n",
    "            x=indexy__,\n",
    "            y=amplix__,\n",
    "            z=stat_scan,\n",
    "            kind=\"linear\",#\"cubic\",\n",
    "            fill_value=None,\n",
    "            bounds_error=False,\n",
    "            )\n",
    "    data_contour = f(indexy__new, amplix__new)\n",
    "    \n",
    "    \n",
    "\n",
    "    dddd = np.array(contour[\"stat_scan\"])\n",
    "    ampli_best = amplix__[np.where(dddd == dddd.min())[0][0]]\n",
    "    index_best = indexy__[np.where(dddd == dddd.min())[1][0]]\n",
    "    if plot_orig:\n",
    "        fig, (ax1, ax) = plt.subplots(1, 2, figsize=(14, 5))\n",
    "        im = ax1.pcolormesh(indexy__, amplix__, stat_scan)\n",
    "        \n",
    "        ax1.plot(index_best, ampli_best, \"x\")\n",
    "        fig.colorbar(im, ax=ax1)\n",
    "        ax1.set_ylabel(parname1)\n",
    "        ax1.set_xlabel(parname2)\n",
    "        ax1.set_title(\"Likelihood\")\n",
    "        ax1.plot(dataset_input.models.parameters[parname2].value, \n",
    "                dataset_input.models.parameters[parname1].value,\n",
    "                \"+\", color = 'white')\n",
    "    else:\n",
    "        fig, ax = plt.subplots(1,1)\n",
    "    im = ax.pcolormesh(indexy__new, amplix__new, data_contour)\n",
    "    dddd = np.array(data_contour)\n",
    "    ampli_best = amplix__new[np.where(dddd == dddd.min())[0][0]]\n",
    "    index_best = indexy__new[np.where(dddd == dddd.min())[1][0]]\n",
    "    print(\"min index:\", index_best)\n",
    "    print(\"min amplitude:\", ampli_best)\n",
    "\n",
    "    ax.plot(index_best, ampli_best, \"x\")\n",
    "    ax.errorbar(dataset_input.models.parameters[parname2].value, \n",
    "            dataset_input.models.parameters[parname1].value,\n",
    "                xerr = dataset_input.models.parameters[parname2].error, \n",
    "                yerr = dataset_input.models.parameters[parname1].error, \n",
    "           fmt =  \"+\", color = 'white')\n",
    "    \n",
    "    fig.colorbar(im, ax=ax)\n",
    "    ax.set_ylabel(parname1)\n",
    "    ax.set_xlabel(parname2)\n",
    "    ax.set_title(\"Likelihood\")\n",
    "    \n",
    "    threshold_contour = 1\n",
    "\n",
    "    index_min, index_max, ampli_min, ampli_max, index_best, ampli_best  = compute_errors(\n",
    "        data_contour, indexy__new, amplix__new, threshold_contour, find_min=True\n",
    "    )\n",
    "    threshold = 1\n",
    "    CS = ax.contour(\n",
    "        indexy__new, amplix__new, data_contour,\n",
    "        colors=('white',), levels=[data_contour.min() + threshold]\n",
    "    )\n",
    "    return CS, fig\n"
   ]
  },
  {
   "cell_type": "code",
   "execution_count": null,
   "id": "267d1e37-7d40-4fb1-8ca2-ee7ad46bf0ab",
   "metadata": {},
   "outputs": [],
   "source": [
    "if c['model'] ==\"crab_log\":\n",
    "    source = \"Crablog\""
   ]
  },
  {
   "cell_type": "code",
   "execution_count": null,
   "id": "50b4fc9e-4399-460c-9b58-14087299ed80",
   "metadata": {},
   "outputs": [],
   "source": [
    "CSs, CS_Ns  = [] , []\n",
    "cubic = True\n",
    "for i in range(len(parameter_names)):\n",
    "#for i in range(1):\n",
    "    CS, fig  = plot_surface(results[i], parameter_names[i][0], \n",
    "             parameter_names[i][1], source = source,plot_orig=1, cubic = cubic)\n",
    "    fig.savefig(f\"../{c['folder']}/plots/3_surface_{i}.pdf\")\n",
    "    CSs.append(CS)\n",
    "    \n",
    "    CS_N, fig = plot_surface(results_N[i], parameter_names[i][0], \n",
    "             parameter_names[i][1], source = source,plot_orig=1, cubic = cubic)\n",
    "    \n",
    "    CS_Ns.append(CS_N)"
   ]
  },
  {
   "cell_type": "code",
   "execution_count": null,
   "id": "2faa8369-0521-435d-9273-4abd58f03e0a",
   "metadata": {},
   "outputs": [],
   "source": [
    "check_constistency = 0\n",
    "if check_constistency :\n",
    "    numpoints = 50      \n",
    "    def read_in_contour(note, folder = c['folder'], numpoints = numpoints, numpoints2 =numpoints, numpoints3 =numpoints ):\n",
    "        results = []\n",
    "        for parname1, parname2 in parameter_names :\n",
    "            try:\n",
    "                with open(f\"../{folder}/data/3_contour_{note}_{parname1}_{parname2}_{numpoints3}.yml\", \"r\") as stream:\n",
    "                        contour = yaml.safe_load(stream)\n",
    "            except:\n",
    "                try:\n",
    "                    with open(f\"../{folder}/data/3_contour_{note}_{parname1}_{parname2}_{numpoints2}.yml\", \"r\") as stream:\n",
    "                            contour = yaml.safe_load(stream)\n",
    "                except:    \n",
    "                    with open(f\"../{folder}/data/3_contour_{note}_{parname1}_{parname2}_{numpoints}.yml\", \"r\") as stream:\n",
    "                            contour = yaml.safe_load(stream)\n",
    "\n",
    "            results.append(contour)\n",
    "        return results\n",
    "\n",
    "\n",
    "\n",
    "\n",
    "\n",
    "    numpoints = 50\n",
    "    results_contour = read_in_contour(\"2.15h\", numpoints = \"5_2000\",\n",
    "                                      numpoints2 = \"10_2000\", numpoints3 = \"20_2000\",)   \n",
    "    results_contour_N = read_in_contour(\"N_2.15h\", numpoints = \"5_2000\",\n",
    "                                      numpoints2 = \"10_2000\", numpoints3 = \"20_2000\",)\n",
    "\n",
    "    \n",
    "    \n",
    "    fig,axs = plt.subplots(2,2)\n",
    "    axs = [axs[1][0], axs[1][1], axs[0][0]]\n",
    "    for i, p in enumerate(parameter_names):\n",
    "        ax = axs[i]\n",
    "        dat = CSs[i].allsegs[0][0]\n",
    "        ax.plot(\n",
    "            dat[:, 0],\n",
    "            dat[:, 1],\n",
    "            color=awo[0],\n",
    "        )\n",
    "\n",
    "        dat = CS_Ns[i].allsegs[0][0]\n",
    "        ax.plot(\n",
    "            dat[:, 0],\n",
    "            dat[:, 1],\n",
    "            color=aw[0],\n",
    "        )\n",
    "\n",
    "        ax.set_ylabel(p[0])\n",
    "        ax.set_xlabel(p[1])\n",
    "        p1 = dataset_asimov.models.parameters[p[0]]\n",
    "        p2 = dataset_asimov.models.parameters[p[1]]\n",
    "        ax.errorbar(p2.value, p1.value,  xerr = p2.error, \n",
    "                   yerr = p1.error, color = awo[0], capsize = 4)\n",
    "        p1 = dataset_asimov_N.models.parameters[p[0]]\n",
    "        p2 = dataset_asimov_N.models.parameters[p[1]]\n",
    "        ax.errorbar(p2.value, p1.value,  xerr = p2.error, \n",
    "                   yerr = p1.error, color = aw[0], capsize = 4)\n",
    "\n",
    "        a = results_contour[i][f'{dataset_asimov.models[0].name}.spectral.{p[0]}']    \n",
    "        b = results_contour[i][f'{dataset_asimov.models[0].name}.spectral.{p[1]}']\n",
    "        ax.plot(b,a, color = 'pink', linestyle = 'dotted')\n",
    "        \n",
    "        a = results_contour_N[i][f'{dataset_asimov.models[0].name}.spectral.{p[0]}']    \n",
    "        b = results_contour_N[i][f'{dataset_asimov.models[0].name}.spectral.{p[1]}']\n",
    "        ax.plot(b,a, color = 'darkblue', linestyle = 'dotted')\n",
    "\n",
    "    plt.tight_layout()"
   ]
  },
  {
   "cell_type": "code",
   "execution_count": null,
   "id": "15500a36-3aa0-4e12-93e6-5b69fcd719a9",
   "metadata": {},
   "outputs": [],
   "source": [
    "note = \"N_2.15h\"\n",
    "def write():\n",
    "    i = 0\n",
    "    for parname1, parname2 in parameter_names :\n",
    "        print(parname1, parname2)\n",
    "        fig = plt.figure()\n",
    "        dat = CS_Ns[i].allsegs[0][0]\n",
    "        b, a = dat[:, 0], dat[:, 1]\n",
    "     \n",
    "        if i ==2:\n",
    "            a = results_contour_N[i][f'{dataset_asimov.models[0].name}.spectral.{parname1}']    \n",
    "            b = results_contour_N[i][f'{dataset_asimov.models[0].name}.spectral.{parname2}']\n",
    "        #if parname1 == \"amplitude\":\n",
    "        #    a *= 1e11\n",
    "        plt.plot(\n",
    "            a,\n",
    "            b,\n",
    "            color=aw[0],\n",
    "        )\n",
    "        \n",
    "        plt.title(parname1 +  parname2)\n",
    "        result = {}\n",
    "        result[f'{dataset_asimov.models[0].name}.spectral.{parname1}'] = [float(_) for _ in a]\n",
    "        result[f'{dataset_asimov.models[0].name}.spectral.{parname2}'] = [float(_) for _ in b]\n",
    "        \n",
    "        scan_n_values = 20\n",
    "        with open(f\"../{folder}/data/3_contour_surface_{note}_{parname1}_{parname2}_{scan_n_values}_{e_reco_n}.yml\", \"w\") as outfile:\n",
    "            yaml.dump(result, outfile, default_flow_style=False)\n",
    "     \n",
    "        \n",
    "        i +=1\n",
    "write()"
   ]
  },
  {
   "cell_type": "code",
   "execution_count": null,
   "id": "e2cbc8ca-6927-4452-8794-c24a803938df",
   "metadata": {},
   "outputs": [],
   "source": [
    "parameter_names"
   ]
  },
  {
   "cell_type": "code",
   "execution_count": null,
   "id": "7a3f4f6f-9f73-4b47-bb74-c6a28f17f1bb",
   "metadata": {},
   "outputs": [],
   "source": []
  },
  {
   "cell_type": "code",
   "execution_count": null,
   "id": "236726ff-ad8f-477c-bfaf-487cdfab8716",
   "metadata": {},
   "outputs": [],
   "source": []
  }
 ],
 "metadata": {
  "kernelspec": {
   "display_name": "Python 3 (ipykernel)",
   "language": "python",
   "name": "python3"
  },
  "language_info": {
   "codemirror_mode": {
    "name": "ipython",
    "version": 3
   },
   "file_extension": ".py",
   "mimetype": "text/x-python",
   "name": "python",
   "nbconvert_exporter": "python",
   "pygments_lexer": "ipython3",
   "version": "3.8.16"
  },
  "varInspector": {
   "cols": {
    "lenName": 16,
    "lenType": 16,
    "lenVar": 40
   },
   "kernels_config": {
    "python": {
     "delete_cmd_postfix": "",
     "delete_cmd_prefix": "del ",
     "library": "var_list.py",
     "varRefreshCmd": "print(var_dic_list())"
    },
    "r": {
     "delete_cmd_postfix": ") ",
     "delete_cmd_prefix": "rm(",
     "library": "var_list.r",
     "varRefreshCmd": "cat(var_dic_list()) "
    }
   },
   "types_to_exclude": [
    "module",
    "function",
    "builtin_function_or_method",
    "instance",
    "_Feature"
   ],
   "window_display": false
  }
 },
 "nbformat": 4,
 "nbformat_minor": 5
}
