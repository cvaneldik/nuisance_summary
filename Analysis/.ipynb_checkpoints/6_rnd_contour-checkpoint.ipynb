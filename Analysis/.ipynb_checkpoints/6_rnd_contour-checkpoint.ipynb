{
 "cells": [
  {
   "cell_type": "markdown",
   "id": "e7853a11",
   "metadata": {},
   "source": [
    "## Runnning with gammapy-dev/IRF_model\n",
    "Fitting asimov datasets with nuisance parameters based on the different livetimes"
   ]
  },
  {
   "cell_type": "markdown",
   "id": "0e04af29",
   "metadata": {},
   "source": [
    "### Setup"
   ]
  },
  {
   "cell_type": "code",
   "execution_count": 1,
   "id": "27bf135a-5ee4-4ca1-8549-6bf07929003c",
   "metadata": {},
   "outputs": [],
   "source": [
    "import matplotlib.pyplot as plt\n",
    "import numpy as np\n",
    "import astropy.units as u\n",
    "from gammapy.maps import Map\n",
    "from astropy.coordinates import SkyCoord, Angle\n",
    "from gammapy.modeling import Fit,  Parameters, Covariance , Parameter\n",
    "from gammapy.datasets import MapDataset ,Datasets, FluxPointsDataset\n",
    "from gammapy.modeling.models import (\n",
    "    PowerLawSpectralModel,\n",
    "    SkyModel,\n",
    "    PointSpatialModel,\n",
    "    PowerLawNormSpectralModel,\n",
    "    Models,\n",
    "    SpatialModel,\n",
    "    FoVBackgroundModel,\n",
    "    PiecewiseNormSpectralModel,\n",
    ")\n",
    "from gammapy.estimators import TSMapEstimator, ExcessMapEstimator\n",
    "from gammapy.estimators import FluxPoints, FluxPointsEstimator\n",
    "from scipy.interpolate import interp2d\n",
    "\n",
    "from regions import CircleSkyRegion, RectangleSkyRegion\n",
    "import yaml\n",
    "import sys\n",
    "sys.path.append('../')\n",
    "import Dataset_load \n",
    "\n",
    "from  Dataset_Setup import Setup, GaussianCovariance_matrix"
   ]
  },
  {
   "cell_type": "markdown",
   "id": "5de988df",
   "metadata": {
    "tags": []
   },
   "source": [
    "## Read dataset"
   ]
  },
  {
   "cell_type": "code",
   "execution_count": 2,
   "id": "0eeeaf75",
   "metadata": {},
   "outputs": [],
   "source": [
    "c = Dataset_load.load_config()\n",
    "awo, aw, ewo, ew = c['_colors']  "
   ]
  },
  {
   "cell_type": "code",
   "execution_count": 3,
   "id": "e0c45f4e-6432-405e-86b7-649e254c0950",
   "metadata": {},
   "outputs": [
    {
     "name": "stdout",
     "output_type": "stream",
     "text": [
      "2.154434690031884\n"
     ]
    }
   ],
   "source": [
    "livetime = c['livetime']\n",
    "zero = c['zero'] \n",
    "norm = c['norm'] \n",
    "tilt = c['tilt'] \n",
    "bias = c['bias'] \n",
    "resolution = c['resolution'] \n",
    "magnitude = c['magnitude'] \n",
    "corrlength = c['corrlength']\n",
    "sys = c['sys'] \n",
    "folder = c['folder']\n",
    "parameter_names = c['parameter_names']        \n",
    "nbidx = 0\n",
    "print(livetime)"
   ]
  },
  {
   "cell_type": "code",
   "execution_count": null,
   "id": "f94dc89c",
   "metadata": {},
   "outputs": [],
   "source": [
    "%%time\n",
    "dataset_input  = Dataset_load.create_asimov(model = c['model'], source = c['source'], \n",
    "                                               livetime = f\"{livetime}-hr\",\n",
    "                                        parameters = None)\n"
   ]
  },
  {
   "cell_type": "markdown",
   "id": "2e0399d4",
   "metadata": {},
   "source": [
    "## Datasets"
   ]
  },
  {
   "cell_type": "code",
   "execution_count": null,
   "id": "b24b18ac-af52-48ac-bd1e-f03d21457fe4",
   "metadata": {},
   "outputs": [],
   "source": [
    "    \n",
    "setup = Setup(dataset_input=dataset_input)\n",
    "#setup.set_up_irf_sys(bias, resolution, norm, tilt)\n",
    "dataset_asimov, dataset_asimov_N = setup.run()\n",
    "# irf model\n",
    "setup.set_irf_model(dataset_asimov_N)\n",
    "if sys == \"Eff_area\":\n",
    "    dataset_asimov_N.models.parameters['resolution'].frozen = True\n",
    "    dataset_asimov_N.irf_model.parameters['tilt'].frozen = False\n",
    "    dataset_asimov_N.irf_model.parameters['bias'].frozen = True\n",
    "    setup.set_irf_prior(dataset_asimov_N, bias, resolution, norm, tilt)\n"
   ]
  },
  {
   "cell_type": "code",
   "execution_count": null,
   "id": "7031c52d-9f99-43ef-80aa-784a36f211e3",
   "metadata": {},
   "outputs": [],
   "source": [
    "        \n",
    "numpoints = 20"
   ]
  },
  {
   "cell_type": "code",
   "execution_count": null,
   "id": "f6589e22-4b65-4ef2-a364-0fa01a829dad",
   "metadata": {},
   "outputs": [],
   "source": [
    "      \n",
    "def read_in_contour(note):\n",
    "    results = []\n",
    "    for parname1, parname2 in parameter_names :\n",
    "        with open(f\"../{c['folder']}/data/3_contour_{note}_{parname1}_{parname2}_{numpoints}.yml\", \"r\") as stream:\n",
    "            contour = yaml.safe_load(stream)\n",
    "        results.append(contour)\n",
    "    return results"
   ]
  },
  {
   "cell_type": "code",
   "execution_count": null,
   "id": "e2201840-6c23-471d-b286-7152982bbb66",
   "metadata": {},
   "outputs": [],
   "source": [
    "%%time\n",
    "results = read_in_contour(\"2.15h\")\n",
    "path = f'../{folder}/data/0_model_livetime_{livetime}.yml'\n",
    "dataset_asimov.models = Models.read(path)\n",
    "results_N = read_in_contour(\"N_2.15h\")\n",
    "path = f'../{folder}/data/0_model_nui_livetime_{livetime}.yml'\n",
    "dataset_asimov_N = Dataset_load.load_dataset_N(dataset_asimov_N, path,bkg_sys = False)        \n",
    "    \n"
   ]
  },
  {
   "cell_type": "code",
   "execution_count": null,
   "id": "c134033e-7b58-40af-aa75-f499ba02ed00",
   "metadata": {},
   "outputs": [],
   "source": [
    "fig,axs = plt.subplots(2,2)\n",
    "#axs = axs.flatten()\n",
    "axs = [axs[1][0], axs[0][0], axs[1][1], axs[0][1]]\n",
    "for i,p in enumerate(parameter_names):\n",
    "    a = results[i][f'{dataset_asimov.models[0].name}.spectral.{p[0]}']    \n",
    "    b = results[i][f'{dataset_asimov.models[0].name}.spectral.{p[1]}']\n",
    "    axs[i].plot(a, b, color = awo[0])\n",
    "    axs[i].errorbar(x = dataset_asimov.models[0].parameters[p[0]].value,\n",
    "                    y = dataset_asimov.models[0].parameters[p[1]].value,\n",
    "                    xerr = dataset_asimov.models[0].parameters[p[0]].error,\n",
    "                    yerr = dataset_asimov.models[0].parameters[p[1]].error,\n",
    "                    color = awo[0],\n",
    "                    capsize = 6,\n",
    "                    label = \"fit w/o systematic\"\n",
    "                    \n",
    "                   )\n",
    "    \n",
    "    a = results_N[i][f'{dataset_asimov.models[0].name}.spectral.{p[0]}']    \n",
    "    b = results_N[i][f'{dataset_asimov.models[0].name}.spectral.{p[1]}']\n",
    "    axs[i].plot(a, b, color = aw[0])\n",
    "    axs[i].errorbar(x = dataset_asimov_N.models[0].parameters[p[0]].value,\n",
    "                    y = dataset_asimov_N.models[0].parameters[p[1]].value,\n",
    "                    xerr = dataset_asimov_N.models[0].parameters[p[0]].error,\n",
    "                    yerr = dataset_asimov_N.models[0].parameters[p[1]].error,\n",
    "                    color = aw[0],\n",
    "                    capsize = 6,\n",
    "                    label = \"fit with systematic\"\n",
    "                   )\n",
    "    axs[i].errorbar(x = dataset_input.models[0].parameters[p[0]].value,\n",
    "                    y = dataset_input.models[0].parameters[p[1]].value,\n",
    "                    color = 'black',\n",
    "                    marker = 'v',\n",
    "                    capsize = 6,\n",
    "                    label = \"input\"\n",
    "                   )\n",
    "    axs[i].set_xlabel(p[0])\n",
    "    axs[i].set_ylabel(p[1])  \n",
    "plt.tight_layout()\n",
    "axs[-1].axis('off')\n",
    "plt.savefig(f\"../{c['folder']}/plots/3_contours.pdf\")"
   ]
  },
  {
   "cell_type": "markdown",
   "id": "f09b7c89-ba84-4f9a-a412-c7e965271689",
   "metadata": {},
   "source": [
    "### RNDs"
   ]
  },
  {
   "cell_type": "code",
   "execution_count": null,
   "id": "722bfa73-69be-4d53-8f09-7db07b3907d0",
   "metadata": {},
   "outputs": [],
   "source": [
    "def read_contour_rnd(note):\n",
    "    i = 0\n",
    "    results = []\n",
    "    for parname1, parname2 in parameter_names :\n",
    "        import yaml\n",
    "        with open(f\"{path}/data/contours/{note}_{parname1}_{parname2}.yml\", \"r\") as stream:\n",
    "            result = yaml.safe_load(stream)\n",
    "        results.append(result)\n",
    "    return results"
   ]
  },
  {
   "cell_type": "code",
   "execution_count": null,
   "id": "c2948fc1-a7fb-4ef1-a78a-46d0bfad169f",
   "metadata": {},
   "outputs": [],
   "source": [
    "infos = np.loadtxt(f\"../{c['folder']}/data/1_P_draw_info.txt\")\n",
    "N_max = 100\n",
    "shift_rnds = infos[:N_max, 0]\n",
    "index_rnds = infos[:N_max, 1]\n",
    "res_rnds = infos[:N_max, 2]\n",
    "bias_rnds = infos[:N_max, 3]\n",
    "\n",
    "\n",
    "pars_N = np.loadtxt(f\"../{c['folder']}/data/1_N_P_draw_par.txt\")\n",
    "lives = pars_N[:N_max, -1:]\n",
    "\n",
    "results_rnds, results_rnds_N = [], []\n",
    "path = f'../{folder}'\n",
    "for i in range(len(shift_rnds)):\n",
    "    s = shift_rnds[i]\n",
    "    t = index_rnds[i]\n",
    "    r = res_rnds[i]\n",
    "    b = bias_rnds[i]\n",
    "    rnds = f\"{s:.6}_{t:.6}_{r:.6}_{b:.6}\"\n",
    "    l = lives[i][0]\n",
    "    \n",
    "    try:\n",
    "        results_rnds.append(read_contour_rnd(rnds))\n",
    "        results_rnds_N.append(read_contour_rnd( \"N\"+rnds))\n",
    "        \n",
    "        print(rnds)\n",
    "    except:\n",
    "        i = 0\n",
    "        \n",
    "parameters =  ['amplitude', 'alpha', 'beta', 'norm', 'tilt']\n",
    "par_values = dict()\n",
    "for p in parameters:\n",
    "    par_values[p] = []\n",
    "\n",
    "pars_N[0]\n",
    "for j in range(len(pars_N)):\n",
    "    for i in range(len(parameters)):\n",
    "        p = pars_N[j][i*2: i*2+1]\n",
    "        par_values[parameters[i]].append(p)\n"
   ]
  },
  {
   "cell_type": "code",
   "execution_count": null,
   "id": "72b5e868-fbd0-4e51-b61a-be092755701c",
   "metadata": {},
   "outputs": [],
   "source": [
    "from scipy.interpolate import interp1d\n",
    "def interpolate(one, two):\n",
    "    \n",
    "    points = np.column_stack((one, two))  # a (nbre_points x nbre_dim) array\n",
    "    \n",
    "\n",
    "    # Linear length along the line:\n",
    "    distance = np.cumsum( np.sqrt(np.sum( np.diff(points, axis=0)**2, axis=1 )) )\n",
    "    distance = np.insert(distance, 0, 0)/distance[-1]\n",
    "\n",
    "    # Interpolation for different methods: #quadratic\n",
    "    interpolations_methods = ['linear']\n",
    "    alpha = np.linspace(0, 1, 75)\n",
    "\n",
    "    interpolated_points = {}\n",
    "    for method in interpolations_methods:\n",
    "        interpolator =  interp1d(distance, points, kind=method, axis=0)\n",
    "        interpolated_points[method] = interpolator(alpha)\n",
    "        \n",
    "    for method_name, curve in interpolated_points.items():\n",
    "        c_int = {'x':curve.T[0], 'y': curve.T[1]}\n",
    "    return np.array(c_int['x']), np.array(c_int['y'])\n",
    "\n",
    "import matplotlib.path as mpltPath\n",
    "def containing_input(one, two, p):\n",
    "    pars0 = dataset_input.models.parameters[p[0]]\n",
    "    pars1 = dataset_input.models.parameters[p[1]]\n",
    "    path = mpltPath.Path(np.column_stack((one, two)))\n",
    "    mask = path.contains_points(points = ([(pars0.value, pars1.value)]))\n",
    "    return mask[0]\n",
    "\n"
   ]
  },
  {
   "cell_type": "code",
   "execution_count": null,
   "id": "525cba46-9dce-47d0-a6c1-052490cff646",
   "metadata": {},
   "outputs": [],
   "source": [
    "def plot_results(results, axs, color):\n",
    "    for i,p in enumerate(parameter_names):\n",
    "        a = results[i][f'{dataset_asimov.models[0].name}.spectral.{p[0]}']    \n",
    "        b = results[i][f'{dataset_asimov.models[0].name}.spectral.{p[1]}']\n",
    "        \n",
    "        a_int,b_int  = interpolate(a, b)\n",
    "        #axs[i].plot(a, b, color = awo[0])\n",
    "        c= containing_input(a,b, p)\n",
    "        print(c)\n",
    "        axs[i].plot(a_int,b_int, color = color)\n",
    "        \n",
    "    \n",
    "fig,axs = plt.subplots(2,2)\n",
    "axs = [axs[1][0], axs[0][0], axs[1][1], axs[0][1]]\n",
    "for i,p in enumerate(parameter_names):\n",
    "    axs[i].errorbar(x = dataset_input.models[0].parameters[p[0]].value,\n",
    "                    y = dataset_input.models[0].parameters[p[1]].value,\n",
    "                    color = 'black',\n",
    "                    marker = 'v',\n",
    "                    capsize = 6,\n",
    "                    label = \"input\"\n",
    "                   )\n",
    "    axs[i].errorbar(x = dataset_asimov.models[0].parameters[p[0]].value,\n",
    "                        y = dataset_asimov.models[0].parameters[p[1]].value,\n",
    "                        xerr = dataset_asimov.models[0].parameters[p[0]].error,\n",
    "                        yerr = dataset_asimov.models[0].parameters[p[1]].error,\n",
    "                        color = awo[0],\n",
    "                        capsize = 6,\n",
    "                        label = \"fit w/o systematic\"\n",
    "                       )\n",
    "    axs[i].errorbar(x = dataset_asimov_N.models[0].parameters[p[0]].value,\n",
    "                        y = dataset_asimov_N.models[0].parameters[p[1]].value,\n",
    "                        xerr = dataset_asimov_N.models[0].parameters[p[0]].error,\n",
    "                        yerr = dataset_asimov_N.models[0].parameters[p[1]].error,\n",
    "                        color = aw[0],\n",
    "                        capsize = 6,\n",
    "                        label = \"fit with systematic\"\n",
    "                       )\n",
    "    axs[i].scatter(par_values[p[0]], par_values[p[1]])\n",
    "for i in range(len(results_rnds)):\n",
    "    r = results_rnds[i]\n",
    "    r_N = results_rnds_N[i]\n",
    "    \n",
    "    plot_results(r, axs, color = ewo[0])\n",
    "    plot_results(r_N, axs, color = ew[0])\n",
    "    \n",
    "    \n"
   ]
  },
  {
   "cell_type": "code",
   "execution_count": null,
   "id": "5e53576a-325b-47da-9ab4-be2a263e922d",
   "metadata": {},
   "outputs": [],
   "source": []
  },
  {
   "cell_type": "code",
   "execution_count": null,
   "id": "09b4ebff-ad09-4bb3-ad0c-f8d9ac34a9ae",
   "metadata": {},
   "outputs": [],
   "source": []
  },
  {
   "cell_type": "code",
   "execution_count": null,
   "id": "ba92fa52-6cfc-4dc4-832b-057655fcf8a5",
   "metadata": {},
   "outputs": [],
   "source": []
  }
 ],
 "metadata": {
  "kernelspec": {
   "display_name": "Python 3 (ipykernel)",
   "language": "python",
   "name": "python3"
  },
  "language_info": {
   "codemirror_mode": {
    "name": "ipython",
    "version": 3
   },
   "file_extension": ".py",
   "mimetype": "text/x-python",
   "name": "python",
   "nbconvert_exporter": "python",
   "pygments_lexer": "ipython3",
   "version": "3.9.16"
  },
  "varInspector": {
   "cols": {
    "lenName": 16,
    "lenType": 16,
    "lenVar": 40
   },
   "kernels_config": {
    "python": {
     "delete_cmd_postfix": "",
     "delete_cmd_prefix": "del ",
     "library": "var_list.py",
     "varRefreshCmd": "print(var_dic_list())"
    },
    "r": {
     "delete_cmd_postfix": ") ",
     "delete_cmd_prefix": "rm(",
     "library": "var_list.r",
     "varRefreshCmd": "cat(var_dic_list()) "
    }
   },
   "types_to_exclude": [
    "module",
    "function",
    "builtin_function_or_method",
    "instance",
    "_Feature"
   ],
   "window_display": false
  }
 },
 "nbformat": 4,
 "nbformat_minor": 5
}
