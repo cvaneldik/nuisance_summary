{
 "cells": [
  {
   "cell_type": "markdown",
   "id": "e7853a11",
   "metadata": {},
   "source": [
    "## Runnning with gammapy-dev/IRF_model\n",
    "Fitting asimov datasets with nuisance parameters based on the different livetimes"
   ]
  },
  {
   "cell_type": "markdown",
   "id": "0e04af29",
   "metadata": {},
   "source": [
    "### Setup"
   ]
  },
  {
   "cell_type": "code",
   "execution_count": 1,
   "id": "27bf135a-5ee4-4ca1-8549-6bf07929003c",
   "metadata": {},
   "outputs": [],
   "source": [
    "import matplotlib.pyplot as plt\n",
    "import numpy as np\n",
    "import astropy.units as u\n",
    "from gammapy.maps import Map\n",
    "from astropy.coordinates import SkyCoord, Angle\n",
    "from gammapy.modeling import Fit,  Parameters, Covariance , Parameter\n",
    "from gammapy.datasets import MapDataset ,Datasets, FluxPointsDataset\n",
    "from gammapy.modeling.models import (\n",
    "    PowerLawSpectralModel,\n",
    "    SkyModel,\n",
    "    PointSpatialModel,\n",
    "    PowerLawNormSpectralModel,\n",
    "    Models,\n",
    "    SpatialModel,\n",
    "    FoVBackgroundModel,\n",
    "    PiecewiseNormSpectralModel,\n",
    ")\n",
    "from gammapy.estimators import TSMapEstimator, ExcessMapEstimator\n",
    "from gammapy.estimators import FluxPoints, FluxPointsEstimator\n",
    "from scipy.interpolate import interp2d\n",
    "\n",
    "from regions import CircleSkyRegion, RectangleSkyRegion\n",
    "import yaml\n",
    "import sys\n",
    "sys.path.append('../')\n",
    "import Dataset_load \n",
    "\n",
    "from  Dataset_Setup import Setup, GaussianCovariance_matrix"
   ]
  },
  {
   "cell_type": "markdown",
   "id": "5de988df",
   "metadata": {
    "tags": []
   },
   "source": [
    "## Read dataset"
   ]
  },
  {
   "cell_type": "code",
   "execution_count": 2,
   "id": "0eeeaf75",
   "metadata": {},
   "outputs": [],
   "source": [
    "c = Dataset_load.load_config()\n",
    "awo, aw, ewo, ew = c['_colors']  "
   ]
  },
  {
   "cell_type": "code",
   "execution_count": 3,
   "id": "e0c45f4e-6432-405e-86b7-649e254c0950",
   "metadata": {},
   "outputs": [
    {
     "name": "stdout",
     "output_type": "stream",
     "text": [
      "2.154434690031884\n"
     ]
    }
   ],
   "source": [
    "livetime = c['livetime']\n",
    "zero = c['zero'] \n",
    "norm = c['norm'] \n",
    "tilt = c['tilt'] \n",
    "bias = c['bias'] \n",
    "resolution = c['resolution'] \n",
    "magnitude = c['magnitude'] \n",
    "corrlength = c['corrlength']\n",
    "sys = c['sys'] \n",
    "folder = c['folder']\n",
    "parameter_names = c['parameter_names']        \n",
    "nbidx = 0\n",
    "print(livetime)"
   ]
  },
  {
   "cell_type": "code",
   "execution_count": 4,
   "id": "f1b20e94",
   "metadata": {},
   "outputs": [
    {
     "name": "stdout",
     "output_type": "stream",
     "text": [
      "alpha\n",
      "amplitude\n",
      "beta\n"
     ]
    }
   ],
   "source": [
    "parameter_names_1  = set(list(np.array(parameter_names).ravel()))\n",
    "for p in parameter_names_1:\n",
    "    print(p)"
   ]
  },
  {
   "cell_type": "code",
   "execution_count": 5,
   "id": "f94dc89c",
   "metadata": {},
   "outputs": [
    {
     "name": "stdout",
     "output_type": "stream",
     "text": [
      "loaded dataset:\n",
      "/home/katrin/Documents/nuisance_summary/PKS_flare/HESS_public/dataset-simulated-2.154434690031884-hr.fits.gz\n",
      "CPU times: user 5.39 s, sys: 338 ms, total: 5.73 s\n",
      "Wall time: 5.73 s\n"
     ]
    }
   ],
   "source": [
    "%%time\n",
    "dataset_input  = Dataset_load.create_asimov(model = c['model'], source = c['source'], \n",
    "                                               livetime = f\"{livetime}-hr\",\n",
    "                                        parameters = None)\n"
   ]
  },
  {
   "cell_type": "markdown",
   "id": "2e0399d4",
   "metadata": {},
   "source": [
    "## Datasets"
   ]
  },
  {
   "cell_type": "code",
   "execution_count": 6,
   "id": "b24b18ac-af52-48ac-bd1e-f03d21457fe4",
   "metadata": {},
   "outputs": [],
   "source": [
    "    \n",
    "setup = Setup(dataset_input=dataset_input)\n",
    "#setup.set_up_irf_sys(bias, resolution, norm, tilt)\n",
    "dataset_asimov, dataset_asimov_N = setup.run()\n",
    "# irf model\n",
    "setup.set_irf_model(dataset_asimov_N)\n",
    "if sys == \"Eff_area\":\n",
    "    dataset_asimov_N.models.parameters['resolution'].frozen = True\n",
    "    dataset_asimov_N.irf_model.parameters['tilt'].frozen = False\n",
    "    dataset_asimov_N.irf_model.parameters['bias'].frozen = True\n",
    "    setup.set_irf_prior(dataset_asimov_N, bias, resolution, norm, tilt)\n"
   ]
  },
  {
   "cell_type": "markdown",
   "id": "ec637604-dbf7-4501-9012-2bf4c302d233",
   "metadata": {},
   "source": [
    "## Minos"
   ]
  },
  {
   "cell_type": "code",
   "execution_count": 7,
   "id": "7031c52d-9f99-43ef-80aa-784a36f211e3",
   "metadata": {},
   "outputs": [],
   "source": [
    "        \n",
    "numpoints = 20"
   ]
  },
  {
   "cell_type": "code",
   "execution_count": 8,
   "id": "f6589e22-4b65-4ef2-a364-0fa01a829dad",
   "metadata": {},
   "outputs": [],
   "source": [
    "def computing_scan(dataset, note):\n",
    "        \n",
    "    fit_cor = Fit(store_trace=False)\n",
    "    result_cor = fit_cor.run(dataset)\n",
    "    print(dataset_asimov.models[0])\n",
    "    \n",
    "    results = []\n",
    "    for parname1 in parameter_names_1 :\n",
    "        print( parname1)\n",
    "        dataset.models.parameters[parname1].scan_n_values=numpoints\n",
    "        result = fit_cor.stat_profile(dataset,\n",
    "                             dataset.models.parameters[parname1],\n",
    "                            reoptimize = True\n",
    "                            )\n",
    "\n",
    "        contour_write = dict()\n",
    "        for k in result.keys():\n",
    "            print(k)\n",
    "            if k != \"fit_results\":\n",
    "                contour_write[k] = [float(_) for _ in result[k]]#.tolist()\n",
    "\n",
    "        with open(f\"../{c['folder']}/data/4_scan_{note}_{parname1}_{numpoints}.yml\", \"w\") as outfile:\n",
    "            yaml.dump(contour_write, outfile, default_flow_style=False)\n",
    "\n",
    "        results.append(result)\n",
    "    return results\n",
    "        \n",
    "def read_in_scan(note):\n",
    "    results = []\n",
    "    for parname1, parname2 in parameter_names :\n",
    "        with open(f\"../{c['folder']}/data/4_scan_{note}_{parname1}_{numpoints}.yml\", \"r\") as stream:\n",
    "            contour = yaml.safe_load(stream)\n",
    "        results.append(contour)\n",
    "    return results"
   ]
  },
  {
   "cell_type": "code",
   "execution_count": 9,
   "id": "e2201840-6c23-471d-b286-7152982bbb66",
   "metadata": {},
   "outputs": [
    {
     "name": "stdout",
     "output_type": "stream",
     "text": [
      "CPU times: user 22.6 ms, sys: 0 ns, total: 22.6 ms\n",
      "Wall time: 22.2 ms\n"
     ]
    }
   ],
   "source": [
    "%%time\n",
    "computing = 0\n",
    "if computing:\n",
    "    results = computing_scan(dataset_asimov, \"2.15h\")\n",
    "else:\n",
    "    results = read_in_scan(\"2.15h\")\n",
    "    path = f'../{folder}/data/0_model_livetime_{livetime}.yml'\n",
    "    dataset_asimov.models = Models.read(path)\n",
    "    \n"
   ]
  },
  {
   "cell_type": "code",
   "execution_count": 10,
   "id": "2a09d6e7-599d-4612-b80e-23d72f04ea98",
   "metadata": {},
   "outputs": [
    {
     "name": "stdout",
     "output_type": "stream",
     "text": [
      "CPU times: user 100 ms, sys: 3.8 ms, total: 104 ms\n",
      "Wall time: 103 ms\n"
     ]
    }
   ],
   "source": [
    "%%time\n",
    "computing = 0\n",
    "\n",
    "if computing:\n",
    "    results_N = computing_scan(dataset_asimov_N, \"N_2.15h\")\n",
    "else:\n",
    "    results_N = read_in_scan(\"N_2.15h\")\n",
    "    path = f'../{folder}/data/0_model_nui_livetime_{livetime}.yml'\n",
    "    dataset_asimov_N = Dataset_load.load_dataset_N(dataset_asimov_N, path,bkg_sys = False)        \n"
   ]
  },
  {
   "cell_type": "code",
   "execution_count": 11,
   "id": "94d489ab",
   "metadata": {},
   "outputs": [
    {
     "data": {
      "text/plain": [
       "[{'Crablog.spectral.amplitude_scan': [2.993299156755616e-11,\n",
       "   3.06561916023444e-11,\n",
       "   3.139686460802287e-11,\n",
       "   3.2155432742635065e-11,\n",
       "   3.2932328363830173e-11,\n",
       "   3.372799427529202e-11,\n",
       "   3.454288397912192e-11,\n",
       "   3.5377461934319145e-11,\n",
       "   3.62322038215066e-11,\n",
       "   3.710759681405229e-11,\n",
       "   3.80041398557415e-11,\n",
       "   3.8922343945156984e-11,\n",
       "   3.986273242693128e-11,\n",
       "   4.082584129003462e-11,\n",
       "   4.1812219473270196e-11,\n",
       "   4.282242917815039e-11,\n",
       "   4.385704618933219e-11,\n",
       "   4.491666020279459e-11,\n",
       "   4.600187516194491e-11,\n",
       "   4.711330960184572e-11],\n",
       "  'stat_scan': [89146.04069156112,\n",
       "   89144.87759458089,\n",
       "   89143.85033424324,\n",
       "   89142.95440388583,\n",
       "   89142.18529562138,\n",
       "   89141.53849674397,\n",
       "   89141.00945897489,\n",
       "   89140.59367435487,\n",
       "   89140.2866387362,\n",
       "   89140.08386369744,\n",
       "   89139.98089174883,\n",
       "   89139.97330000158,\n",
       "   89140.05670908587,\n",
       "   89140.22678925918,\n",
       "   89140.47926685841,\n",
       "   89140.80993284835,\n",
       "   89141.21464767052,\n",
       "   89141.68919754948,\n",
       "   89142.22993968225,\n",
       "   89142.8327383954]},\n",
       " {'Crablog.spectral.amplitude_scan': [2.993299156755616e-11,\n",
       "   3.06561916023444e-11,\n",
       "   3.139686460802287e-11,\n",
       "   3.2155432742635065e-11,\n",
       "   3.2932328363830173e-11,\n",
       "   3.372799427529202e-11,\n",
       "   3.454288397912192e-11,\n",
       "   3.5377461934319145e-11,\n",
       "   3.62322038215066e-11,\n",
       "   3.710759681405229e-11,\n",
       "   3.80041398557415e-11,\n",
       "   3.8922343945156984e-11,\n",
       "   3.986273242693128e-11,\n",
       "   4.082584129003462e-11,\n",
       "   4.1812219473270196e-11,\n",
       "   4.282242917815039e-11,\n",
       "   4.385704618933219e-11,\n",
       "   4.491666020279459e-11,\n",
       "   4.600187516194491e-11,\n",
       "   4.711330960184572e-11],\n",
       "  'stat_scan': [89146.04069156112,\n",
       "   89144.87759458089,\n",
       "   89143.85033424324,\n",
       "   89142.95440388583,\n",
       "   89142.18529562138,\n",
       "   89141.53849674397,\n",
       "   89141.00945897489,\n",
       "   89140.59367435487,\n",
       "   89140.2866387362,\n",
       "   89140.08386369744,\n",
       "   89139.98089174883,\n",
       "   89139.97330000158,\n",
       "   89140.05670908587,\n",
       "   89140.22678925918,\n",
       "   89140.47926685841,\n",
       "   89140.80993284835,\n",
       "   89141.21464767052,\n",
       "   89141.68919754948,\n",
       "   89142.22993968225,\n",
       "   89142.8327383954]},\n",
       " {'Crablog.spectral.beta_scan': [0.1186678518663497,\n",
       "   0.131468442304883,\n",
       "   0.14426903274341632,\n",
       "   0.1570696231819496,\n",
       "   0.16987021362048293,\n",
       "   0.18267080405901623,\n",
       "   0.19547139449754952,\n",
       "   0.20827198493608284,\n",
       "   0.22107257537461614,\n",
       "   0.23387316581314943,\n",
       "   0.24667375625168275,\n",
       "   0.2594743466902161,\n",
       "   0.27227493712874934,\n",
       "   0.28507552756728266,\n",
       "   0.2978761180058159,\n",
       "   0.31067670844434925,\n",
       "   0.32347729888288257,\n",
       "   0.3362778893214159,\n",
       "   0.3490784797599492,\n",
       "   0.3618790701984825],\n",
       "  'stat_scan': [89144.52458918016,\n",
       "   89143.54921013278,\n",
       "   89142.7036285573,\n",
       "   89141.98530153107,\n",
       "   89141.3839728645,\n",
       "   89140.89773221401,\n",
       "   89140.5172897595,\n",
       "   89140.24029133988,\n",
       "   89140.06094172416,\n",
       "   89139.97465974098,\n",
       "   89139.97711957779,\n",
       "   89140.06423218244,\n",
       "   89140.23212720307,\n",
       "   89140.47713808938,\n",
       "   89140.79578576518,\n",
       "   89141.18476754673,\n",
       "   89141.6409425172,\n",
       "   89142.16132378504,\n",
       "   89142.74306570577,\n",
       "   89143.38345697816]}]"
      ]
     },
     "execution_count": 11,
     "metadata": {},
     "output_type": "execute_result"
    }
   ],
   "source": [
    "results_N"
   ]
  },
  {
   "cell_type": "code",
   "execution_count": 12,
   "id": "c134033e-7b58-40af-aa75-f499ba02ed00",
   "metadata": {},
   "outputs": [
    {
     "ename": "KeyError",
     "evalue": "'Crablog.spectral.alpha_scan'",
     "output_type": "error",
     "traceback": [
      "\u001b[0;31m---------------------------------------------------------------------------\u001b[0m",
      "\u001b[0;31mKeyError\u001b[0m                                  Traceback (most recent call last)",
      "Cell \u001b[0;32mIn[12], line 5\u001b[0m\n\u001b[1;32m      3\u001b[0m axs \u001b[38;5;241m=\u001b[39m axs\u001b[38;5;241m.\u001b[39mravel()\n\u001b[1;32m      4\u001b[0m \u001b[38;5;28;01mfor\u001b[39;00m i, p \u001b[38;5;129;01min\u001b[39;00m \u001b[38;5;28menumerate\u001b[39m(parameter_names_1):\n\u001b[0;32m----> 5\u001b[0m     a \u001b[38;5;241m=\u001b[39m \u001b[43mresults\u001b[49m\u001b[43m[\u001b[49m\u001b[43mi\u001b[49m\u001b[43m]\u001b[49m\u001b[43m[\u001b[49m\u001b[38;5;124;43mf\u001b[39;49m\u001b[38;5;124;43m'\u001b[39;49m\u001b[38;5;132;43;01m{\u001b[39;49;00m\u001b[43mdataset_asimov\u001b[49m\u001b[38;5;241;43m.\u001b[39;49m\u001b[43mmodels\u001b[49m\u001b[43m[\u001b[49m\u001b[38;5;241;43m0\u001b[39;49m\u001b[43m]\u001b[49m\u001b[38;5;241;43m.\u001b[39;49m\u001b[43mname\u001b[49m\u001b[38;5;132;43;01m}\u001b[39;49;00m\u001b[38;5;124;43m.spectral.\u001b[39;49m\u001b[38;5;132;43;01m{\u001b[39;49;00m\u001b[43mp\u001b[49m\u001b[38;5;132;43;01m}\u001b[39;49;00m\u001b[38;5;124;43m_scan\u001b[39;49m\u001b[38;5;124;43m'\u001b[39;49m\u001b[43m]\u001b[49m    \n\u001b[1;32m      6\u001b[0m     b \u001b[38;5;241m=\u001b[39m results[i][\u001b[38;5;124mf\u001b[39m\u001b[38;5;124m'\u001b[39m\u001b[38;5;124mstat_scan\u001b[39m\u001b[38;5;124m'\u001b[39m] \u001b[38;5;241m-\u001b[39m np\u001b[38;5;241m.\u001b[39mmin( results[i][\u001b[38;5;124mf\u001b[39m\u001b[38;5;124m'\u001b[39m\u001b[38;5;124mstat_scan\u001b[39m\u001b[38;5;124m'\u001b[39m])\n\u001b[1;32m      7\u001b[0m     axs[i]\u001b[38;5;241m.\u001b[39mplot(a, b, color \u001b[38;5;241m=\u001b[39m awo[\u001b[38;5;241m0\u001b[39m])\n",
      "\u001b[0;31mKeyError\u001b[0m: 'Crablog.spectral.alpha_scan'"
     ]
    },
    {
     "data": {
      "image/png": "[encoded data removed]",
      "text/plain": [
       "<Figure size 640x480 with 3 Axes>"
      ]
     },
     "metadata": {},
     "output_type": "display_data"
    }
   ],
   "source": [
    "fig,axs = plt.subplots(3,1)\n",
    "#axs = axs.flatten()\n",
    "axs = axs.ravel()\n",
    "for i, p in enumerate(parameter_names_1):\n",
    "    a = results[i][f'{dataset_asimov.models[0].name}.spectral.{p}_scan']    \n",
    "    b = results[i][f'stat_scan'] - np.min( results[i][f'stat_scan'])\n",
    "    axs[i].plot(a, b, color = awo[0])\n",
    "    axs[i].errorbar(x = dataset_asimov.models[0].parameters[p].value,\n",
    "                    y = 1,\n",
    "                    xerr = dataset_asimov.models[0].parameters[p].error,\n",
    "                    yerr = dataset_asimov.models[0].parameters[p].error,\n",
    "                    color = awo[0],\n",
    "                    capsize = 6,\n",
    "                    label = \"fit w/o systematic\"\n",
    "                    \n",
    "                   )\n",
    "    \n",
    "    a = results_N[i][f'{dataset_asimov.models[0].name}.spectral.{p}_scan']    \n",
    "    b = results_N[i][f'stat_scan'] - np.min( results_N[i][f'stat_scan'])\n",
    "    axs[i].plot(a, b, color = aw[0])\n",
    "    axs[i].errorbar(x = dataset_asimov_N.models[0].parameters[p].value,\n",
    "                    y = 1,\n",
    "                    xerr = dataset_asimov_N.models[0].parameters[p].error,\n",
    "                    yerr = dataset_asimov_N.models[0].parameters[p].error,\n",
    "                    color = aw[0],\n",
    "                    capsize = 6,\n",
    "                    label = \"fit with systematic\"\n",
    "                   )\n",
    "    axs[i].errorbar(x = dataset_input.models[0].parameters[p].value,\n",
    "                    y = 1,\n",
    "                    color = 'black',\n",
    "                    marker = 'v',\n",
    "                    capsize = 6,\n",
    "                    label = \"input\"\n",
    "                   )\n",
    "    axs[i].set_xlabel(p[0])\n",
    "    axs[i].set_ylabel(p[1])  \n",
    "plt.tight_layout()\n",
    "plt.savefig(f\"../{c['folder']}/plots/3_contours.pdf\")"
   ]
  },
  {
   "cell_type": "code",
   "execution_count": null,
   "id": "2196df63-3d50-4ef6-9fe0-6f917b049742",
   "metadata": {},
   "outputs": [],
   "source": []
  }
 ],
 "metadata": {
  "kernelspec": {
   "display_name": "Python 3 (ipykernel)",
   "language": "python",
   "name": "python3"
  },
  "language_info": {
   "codemirror_mode": {
    "name": "ipython",
    "version": 3
   },
   "file_extension": ".py",
   "mimetype": "text/x-python",
   "name": "python",
   "nbconvert_exporter": "python",
   "pygments_lexer": "ipython3",
   "version": "3.9.16"
  },
  "varInspector": {
   "cols": {
    "lenName": 16,
    "lenType": 16,
    "lenVar": 40
   },
   "kernels_config": {
    "python": {
     "delete_cmd_postfix": "",
     "delete_cmd_prefix": "del ",
     "library": "var_list.py",
     "varRefreshCmd": "print(var_dic_list())"
    },
    "r": {
     "delete_cmd_postfix": ") ",
     "delete_cmd_prefix": "rm(",
     "library": "var_list.r",
     "varRefreshCmd": "cat(var_dic_list()) "
    }
   },
   "types_to_exclude": [
    "module",
    "function",
    "builtin_function_or_method",
    "instance",
    "_Feature"
   ],
   "window_display": false
  }
 },
 "nbformat": 4,
 "nbformat_minor": 5
}
