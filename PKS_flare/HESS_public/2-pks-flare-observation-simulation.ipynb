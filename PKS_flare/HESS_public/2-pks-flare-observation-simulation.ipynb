{
 "cells": [
  {
   "cell_type": "code",
   "execution_count": 1,
   "id": "13f53fdd-7cf5-40bb-8d8e-dc58293148bc",
   "metadata": {},
   "outputs": [
    {
     "name": "stdout",
     "output_type": "stream",
     "text": [
      "0.1.dev19174+g56b5bdf  == 1\n"
     ]
    }
   ],
   "source": [
    "import gammapy\n",
    "print(gammapy.__version__ , \" == 1\")"
   ]
  },
  {
   "cell_type": "code",
   "execution_count": 2,
   "id": "15e241eb-3444-47b0-9397-b812765ae9b9",
   "metadata": {},
   "outputs": [],
   "source": [
    "import numpy as np\n",
    "import os\n",
    "import astropy\n",
    "from astropy import units as u\n",
    "import matplotlib.pyplot as plt\n",
    "\n",
    "from matplotlib import rc\n",
    "import matplotlib.pylab as plt\n",
    "\n",
    "rc('font', **{'family': 'serif', 'serif': ['Computer Modern']})\n",
    "rc('text', usetex=True)\n",
    "\n",
    "from collections import OrderedDict\n",
    "from astropy import units\n",
    "from gammapy.data import DataStore\n",
    "from astropy.io import fits\n",
    "from astropy.coordinates import SkyCoord\n",
    "from gammapy.data import FixedPointingInfo, Observation, DataStore, observatory_locations\n",
    "from astropy.coordinates import SkyOffsetFrame\n",
    "from gammapy.maps import WcsNDMap, WcsGeom, MapAxis, Map\n",
    "from gammapy.makers import MapDatasetMaker, SafeMaskMaker\n",
    "from gammapy.datasets import MapDataset\n",
    "from gammapy.irf import load_cta_irfs, EDispKernel, PSFKernel\n",
    "from gammapy.modeling import Fit\n",
    "from gammapy.modeling.models import (\n",
    "    Models,\n",
    "    FoVBackgroundModel,\n",
    "    PointSpatialModel,\n",
    "    PowerLawSpectralModel,\n",
    "    SkyModel,\n",
    ")\n",
    "from regions import CircleSkyRegion, RectangleSkyRegion\n"
   ]
  },
  {
   "cell_type": "code",
   "execution_count": 3,
   "id": "1fba1f9e-037b-4db9-bf11-f6b54d17d978",
   "metadata": {},
   "outputs": [],
   "source": [
    "source = 'MSH'\n",
    "if source == \"PKS\":\n",
    "    pks = True\n",
    "    msh = False\n",
    "if source == \"MSH\":\n",
    "    pks = False\n",
    "    msh = True\n",
    "    \n",
    "if pks:\n",
    "    path = '/home/wecapstor1/caph/mppi045h/fits_paper_data/std_fullEnclosure/pks2155_flare/out'\n",
    "    pks_pos = SkyCoord(frame = \"galactic\",l =  \"17.74 deg\", b= \"-52.25 deg\")\n",
    "    dataset_public = MapDataset.read('dataset-stacked.fits.gz')\n",
    "    \n",
    "    \n",
    "if msh:\n",
    "    path = '/home/wecapstor1/caph/mppi045h/fits_paper_data/std_fullEnclosure/msh1552/out'\n",
    "    dataset_public = MapDataset.read('dataset-msh-stacked.fits.gz')\n",
    "    pks_pos = SkyCoord(frame = \"galactic\",l =  \"320.33 deg\", b= \"-1.19 deg\")\n",
    "    \n"
   ]
  },
  {
   "cell_type": "code",
   "execution_count": 4,
   "id": "a05f3fa4-2322-482f-bb57-0d857d990cac",
   "metadata": {},
   "outputs": [],
   "source": [
    "try:\n",
    "    models  = Models.read('../standard_model.yml')\n",
    "except:\n",
    "    st_model = SkyModel(spatial_model = PointSpatialModel(lon_0 = pks_pos.l.deg *u.deg, \n",
    "                                                          lat_0 =  pks_pos.b.deg * u.deg),\n",
    "                       spectral_model = PowerLawSpectralModel())\n",
    "    Models(st_model).write(\"../standard_model.yml\", overwrite = True)\n",
    "    models  = Models.read('../standard_model.yml')\n",
    "    "
   ]
  },
  {
   "cell_type": "code",
   "execution_count": 5,
   "id": "13aca3ba-f8d5-4595-800c-10860678f071",
   "metadata": {},
   "outputs": [],
   "source": [
    "empty = dataset_public.copy()\n",
    "\n",
    "\n",
    "data_store = DataStore.from_dir(path, f'hdu-index-bg-v05-fov-radec.fits.gz', f'obs-index-bg-v05-fov-radec.fits.gz')\n",
    "observations = data_store.get_observations(data_store.obs_ids)\n"
   ]
  },
  {
   "cell_type": "code",
   "execution_count": 6,
   "id": "3cb6498b-4163-40a5-938a-b5c9cd73c1d1",
   "metadata": {},
   "outputs": [
    {
     "name": "stdout",
     "output_type": "stream",
     "text": [
      "[0.46722222 0.25055556 0.4675     0.46861111 0.4675     0.4675\n",
      " 0.46722222 0.46722222 0.46722222 0.46722222 0.4675     0.46722222\n",
      " 0.46722222 0.46722222 0.4675     0.4675     0.4675     0.4675\n",
      " 0.46722222 0.4675    ] h\n",
      "9.131666666666666 h\n"
     ]
    }
   ],
   "source": [
    "timeobs = []\n",
    "for obs in observations:\n",
    "    timeobs.append(obs.observation_time_duration)\n",
    "timeobs = timeobs * u.s\n",
    "print(timeobs.to(u.hr))\n",
    "print(np.sum(timeobs).to(u.hr))"
   ]
  },
  {
   "cell_type": "code",
   "execution_count": 7,
   "id": "45d8d5a8-e0fc-4ac8-9845-d1b211c18527",
   "metadata": {},
   "outputs": [
    {
     "name": "stderr",
     "output_type": "stream",
     "text": [
      "/home/wecapstor1/caph/mppi045h/gammapy/gammapy/data/observations.py:343: GammapyDeprecationWarning: obs_info property is deprecated since v1.2. Use meta instead.\n",
      "  warnings.warn(\n"
     ]
    },
    {
     "data": {
      "text/plain": [
       "(36.85418307692895, 0.9728599186774338)"
      ]
     },
     "execution_count": 7,
     "metadata": {},
     "output_type": "execute_result"
    }
   ],
   "source": [
    "angle = []\n",
    "for obs in observations:\n",
    "    angle.append(90-obs.obs_info['ALT_PNT'])\n",
    "np.mean(angle), np.std(angle)"
   ]
  },
  {
   "cell_type": "code",
   "execution_count": 18,
   "id": "f5de30a1-8414-4e78-96f1-af851b9b4cb7",
   "metadata": {},
   "outputs": [
    {
     "name": "stdout",
     "output_type": "stream",
     "text": [
      "public: 9.131666666666666 h\n",
      "simu: 100.0 h\n",
      "factors [10.70154578 19.9556541  10.69518717 10.6698281  10.69518717 10.69518717\n",
      " 10.70154578 10.70154578 10.70154578 10.70154578 10.69518717 10.70154578\n",
      " 10.70154578 10.70154578 10.69518717 10.69518717 10.69518717 10.69518717\n",
      " 10.70154578 10.69518717]\n"
     ]
    }
   ],
   "source": [
    "n_public_runs = len(observations)\n",
    "location = observatory_locations['hess']\n",
    "\n",
    "livetime_stereo = 50.089999999999996 *u.hr\n",
    "livetime_mono = 29.94 * u.hr\n",
    "livetime_simu = 100 * u.hr # livetime_stereo + livetime_mono\n",
    "livetime_public =np.sum(timeobs).to(u.hr)\n",
    "print('public:', livetime_public)\n",
    "print('simu:', livetime_simu)\n",
    "def compute_factor(livetime_simu):\n",
    "    factors =( (livetime_simu/n_public_runs) / timeobs ).to(\"\")\n",
    "    return factors\n",
    "factors = compute_factor(livetime_simu)\n",
    "print(\"factors\", factors)"
   ]
  },
  {
   "cell_type": "code",
   "execution_count": 9,
   "id": "1a0b4839-64e8-43e8-9a41-49d31f6087cc",
   "metadata": {},
   "outputs": [
    {
     "data": {
      "image/png": "[encoded data removed]",
      "text/plain": [
       "<Figure size 640x480 with 2 Axes>"
      ]
     },
     "metadata": {},
     "output_type": "display_data"
    }
   ],
   "source": [
    "\n",
    "radius = 0.25*u.deg\n",
    "skyregion = CircleSkyRegion(center=pks_pos, radius=radius)\n",
    "excl_regions = [skyregion]\n",
    "geom = dataset_public.geoms['geom']\n",
    "excl_mask_2d = Map.from_geom(dataset_public.geoms['geom'].to_image(),\n",
    "                             data=dataset_public.geoms['geom'].to_image().region_mask(excl_regions, inside=False).data)\n",
    "excl_mask_2d.plot(add_cbar = 1, vmin =0, vmax = 1);\n",
    "\n",
    "maxthreshold  = 1*u.TeV\n",
    "ebins = np.logspace(-1,2,25) *u.TeV\n",
    "max_offset = 2 *u.deg"
   ]
  },
  {
   "cell_type": "code",
   "execution_count": 10,
   "id": "481faa77-d8e8-4eb9-95da-6da939ebee15",
   "metadata": {},
   "outputs": [
    {
     "name": "stderr",
     "output_type": "stream",
     "text": [
      "/home/wecapstor1/caph/mppi045h/gammapy/gammapy/data/observations.py:343: GammapyDeprecationWarning: obs_info property is deprecated since v1.2. Use meta instead.\n",
      "  warnings.warn(\n"
     ]
    }
   ],
   "source": [
    "ra_pnt, dec_pnt = [], []\n",
    "for obs in observations:\n",
    "    ra_pnt.append(obs.obs_info['RA_PNT'])\n",
    "    dec_pnt.append(obs.obs_info['DEC_PNT'])\n"
   ]
  },
  {
   "cell_type": "code",
   "execution_count": 11,
   "id": "015ae95f-4708-486d-a8f7-852b59bc330c",
   "metadata": {},
   "outputs": [
    {
     "data": {
      "image/png": "[encoded data removed]",
      "text/plain": [
       "<Figure size 640x480 with 1 Axes>"
      ]
     },
     "metadata": {},
     "output_type": "display_data"
    }
   ],
   "source": [
    "for i in range(len(observations)):\n",
    "    plt.scatter(ra_pnt[i], dec_pnt[i])"
   ]
  },
  {
   "cell_type": "code",
   "execution_count": 12,
   "id": "363c0cfa-e78c-4fb9-a35e-6094731b4a3a",
   "metadata": {},
   "outputs": [],
   "source": [
    "def create(factors):\n",
    "\n",
    "    datasets = []\n",
    "    for i in range(n_public_runs ):\n",
    "        print(i)\n",
    "        if pks:\n",
    "            dataset_obs = MapDataset.read(f'dataset-obs-{observations[i].obs_id}.fits.gz')\n",
    "        if msh:\n",
    "            dataset_obs = MapDataset.read(f'dataset-msh-obs-{observations[i].obs_id}.fits.gz')\n",
    "            \n",
    "        #dataset_obs.counts.sum_over_axes().plot(add_cbar =1 )    \n",
    "        irfs = {'bkg':dataset_obs.background * factors[i],\n",
    "           'aeff': dataset_obs.exposure * factors[i],#/ livetime ,\n",
    "           'psf': dataset_obs.psf,\n",
    "           'edisp': dataset_obs.edisp,\n",
    "           'rad_max': 4 *u.deg }\n",
    "\n",
    "        pointing  = observations[i].pointing_radec\n",
    "\n",
    "        obs = Observation.create(\n",
    "            pointing=pointing, livetime=timeobs[i], irfs=irfs, location=location\n",
    "        )\n",
    "\n",
    "        # Make the MapDataset\n",
    "        maker = MapDatasetMaker(selection=[\"exposure\", \"background\", \"psf\", \"edisp\"])\n",
    "\n",
    "        maker_safe_mask = SafeMaskMaker(methods=[\"offset-max\"], offset_max=4.0 * u.deg)\n",
    "        reference = MapDataset.create(geom=geom, name='stacked').cutout(position=obs.pointing_radec, width=8.0*max_offset)    \n",
    "\n",
    "        dataset = maker.run(reference, obs)\n",
    "        dataset = maker_safe_mask.run(dataset, obs)\n",
    "\n",
    "        dataset.counts.data = dataset.counts.data.astype(np.float32)\n",
    "        dataset.psf = dataset_obs.psf\n",
    "        dataset.edisp = dataset_obs.edisp\n",
    "\n",
    "        datasets.append(dataset)\n",
    "\n",
    "    dataset_stacked = datasets[0].copy()\n",
    "    for d in datasets[1:]:\n",
    "        dataset_stacked.stack(d)\n",
    "    return datasets, dataset_stacked\n"
   ]
  },
  {
   "cell_type": "code",
   "execution_count": 13,
   "id": "476910a8-1e54-4690-b953-db5d1a950718",
   "metadata": {},
   "outputs": [],
   "source": [
    "#datasets, dataset_stacked = create(factors)\n"
   ]
  },
  {
   "cell_type": "code",
   "execution_count": 14,
   "id": "478edd8b-8988-4ee6-8c5b-f5acdd889c66",
   "metadata": {},
   "outputs": [],
   "source": [
    "#dataset_stacked.peek()"
   ]
  },
  {
   "cell_type": "code",
   "execution_count": 15,
   "id": "05d33e9c-498f-4860-b9b7-7d518a0b29f5",
   "metadata": {},
   "outputs": [],
   "source": [
    "#emask = dataset_stacked.mask.data.sum(axis=2).sum(axis=1) >0\n",
    "#emask = dataset_stacked.mask.geom.axes[0].center[emask]"
   ]
  },
  {
   "cell_type": "markdown",
   "id": "f5fe0ab9-56d4-4441-97fe-cd4b4523637c",
   "metadata": {},
   "source": [
    "## Simulated different observation times "
   ]
  },
  {
   "cell_type": "code",
   "execution_count": 21,
   "id": "cc494009-1bab-4255-9605-14f5dde6f04a",
   "metadata": {},
   "outputs": [],
   "source": [
    "livetime_simus = np.logspace(-2, 2,  13)[:6] \n",
    "livetime_simus = np.append(livetime_simus, np.logspace(0, 2, 7)) *u.hr"
   ]
  },
  {
   "cell_type": "code",
   "execution_count": 24,
   "id": "40b4e74e-1c97-48fc-bd3a-a401b36bd621",
   "metadata": {},
   "outputs": [
    {
     "name": "stdout",
     "output_type": "stream",
     "text": [
      "Livetime:  0.01 h\n",
      "0\n"
     ]
    },
    {
     "name": "stderr",
     "output_type": "stream",
     "text": [
      "/tmp/ipykernel_3967674/3819774325.py:18: GammapyDeprecationWarning: Use observation.get_pointing_icrs(time) instead\n",
      "  pointing  = observations[i].pointing_radec\n",
      "/home/wecapstor1/caph/mppi045h/anaconda3/envs/gammapy-dev/lib/python3.8/site-packages/astropy/utils/decorators.py:841: GammapyDeprecationWarning: Use observation.pointing or observation.get_pointing_{altaz,icrs} instead\n",
      "  val = self.fget(obj)\n",
      "/home/wecapstor1/caph/mppi045h/anaconda3/envs/gammapy-dev/lib/python3.8/site-packages/astropy/utils/decorators.py:841: GammapyDeprecationWarning: The radec function is deprecated and may be removed in a future version.\n",
      "  val = self.fget(obj)\n",
      "/home/wecapstor1/caph/mppi045h/gammapy/gammapy/data/observations.py:267: GammapyDeprecationWarning: Pointing will be required to be provided as FixedPointingInfo\n",
      "  warnings.warn(\n",
      "/tmp/ipykernel_3967674/3819774325.py:28: GammapyDeprecationWarning: Use observation.get_pointing_icrs(time) instead\n",
      "  reference = MapDataset.create(geom=geom, name='stacked').cutout(position=obs.pointing_radec, width=8.0*max_offset)\n",
      "/home/wecapstor1/caph/mppi045h/anaconda3/envs/gammapy-dev/lib/python3.8/site-packages/astropy/utils/decorators.py:841: GammapyDeprecationWarning: Use observation.pointing or observation.get_pointing_{altaz,icrs} instead\n",
      "  val = self.fget(obj)\n",
      "/home/wecapstor1/caph/mppi045h/anaconda3/envs/gammapy-dev/lib/python3.8/site-packages/astropy/utils/decorators.py:841: GammapyDeprecationWarning: The radec function is deprecated and may be removed in a future version.\n",
      "  val = self.fget(obj)\n"
     ]
    },
    {
     "name": "stdout",
     "output_type": "stream",
     "text": [
      "1\n"
     ]
    },
    {
     "name": "stderr",
     "output_type": "stream",
     "text": [
      "/tmp/ipykernel_3967674/3819774325.py:18: GammapyDeprecationWarning: Use observation.get_pointing_icrs(time) instead\n",
      "  pointing  = observations[i].pointing_radec\n",
      "/home/wecapstor1/caph/mppi045h/anaconda3/envs/gammapy-dev/lib/python3.8/site-packages/astropy/utils/decorators.py:841: GammapyDeprecationWarning: Use observation.pointing or observation.get_pointing_{altaz,icrs} instead\n",
      "  val = self.fget(obj)\n",
      "/home/wecapstor1/caph/mppi045h/anaconda3/envs/gammapy-dev/lib/python3.8/site-packages/astropy/utils/decorators.py:841: GammapyDeprecationWarning: The radec function is deprecated and may be removed in a future version.\n",
      "  val = self.fget(obj)\n",
      "/home/wecapstor1/caph/mppi045h/gammapy/gammapy/data/observations.py:267: GammapyDeprecationWarning: Pointing will be required to be provided as FixedPointingInfo\n",
      "  warnings.warn(\n",
      "/tmp/ipykernel_3967674/3819774325.py:28: GammapyDeprecationWarning: Use observation.get_pointing_icrs(time) instead\n",
      "  reference = MapDataset.create(geom=geom, name='stacked').cutout(position=obs.pointing_radec, width=8.0*max_offset)\n",
      "/home/wecapstor1/caph/mppi045h/anaconda3/envs/gammapy-dev/lib/python3.8/site-packages/astropy/utils/decorators.py:841: GammapyDeprecationWarning: Use observation.pointing or observation.get_pointing_{altaz,icrs} instead\n",
      "  val = self.fget(obj)\n",
      "/home/wecapstor1/caph/mppi045h/anaconda3/envs/gammapy-dev/lib/python3.8/site-packages/astropy/utils/decorators.py:841: GammapyDeprecationWarning: The radec function is deprecated and may be removed in a future version.\n",
      "  val = self.fget(obj)\n"
     ]
    },
    {
     "name": "stdout",
     "output_type": "stream",
     "text": [
      "2\n"
     ]
    },
    {
     "name": "stderr",
     "output_type": "stream",
     "text": [
      "/tmp/ipykernel_3967674/3819774325.py:18: GammapyDeprecationWarning: Use observation.get_pointing_icrs(time) instead\n",
      "  pointing  = observations[i].pointing_radec\n",
      "/home/wecapstor1/caph/mppi045h/anaconda3/envs/gammapy-dev/lib/python3.8/site-packages/astropy/utils/decorators.py:841: GammapyDeprecationWarning: Use observation.pointing or observation.get_pointing_{altaz,icrs} instead\n",
      "  val = self.fget(obj)\n",
      "/home/wecapstor1/caph/mppi045h/anaconda3/envs/gammapy-dev/lib/python3.8/site-packages/astropy/utils/decorators.py:841: GammapyDeprecationWarning: The radec function is deprecated and may be removed in a future version.\n",
      "  val = self.fget(obj)\n",
      "/home/wecapstor1/caph/mppi045h/gammapy/gammapy/data/observations.py:267: GammapyDeprecationWarning: Pointing will be required to be provided as FixedPointingInfo\n",
      "  warnings.warn(\n",
      "/tmp/ipykernel_3967674/3819774325.py:28: GammapyDeprecationWarning: Use observation.get_pointing_icrs(time) instead\n",
      "  reference = MapDataset.create(geom=geom, name='stacked').cutout(position=obs.pointing_radec, width=8.0*max_offset)\n",
      "/home/wecapstor1/caph/mppi045h/anaconda3/envs/gammapy-dev/lib/python3.8/site-packages/astropy/utils/decorators.py:841: GammapyDeprecationWarning: Use observation.pointing or observation.get_pointing_{altaz,icrs} instead\n",
      "  val = self.fget(obj)\n",
      "/home/wecapstor1/caph/mppi045h/anaconda3/envs/gammapy-dev/lib/python3.8/site-packages/astropy/utils/decorators.py:841: GammapyDeprecationWarning: The radec function is deprecated and may be removed in a future version.\n",
      "  val = self.fget(obj)\n"
     ]
    },
    {
     "name": "stdout",
     "output_type": "stream",
     "text": [
      "3\n"
     ]
    },
    {
     "name": "stderr",
     "output_type": "stream",
     "text": [
      "/tmp/ipykernel_3967674/3819774325.py:18: GammapyDeprecationWarning: Use observation.get_pointing_icrs(time) instead\n",
      "  pointing  = observations[i].pointing_radec\n",
      "/home/wecapstor1/caph/mppi045h/anaconda3/envs/gammapy-dev/lib/python3.8/site-packages/astropy/utils/decorators.py:841: GammapyDeprecationWarning: Use observation.pointing or observation.get_pointing_{altaz,icrs} instead\n",
      "  val = self.fget(obj)\n",
      "/home/wecapstor1/caph/mppi045h/anaconda3/envs/gammapy-dev/lib/python3.8/site-packages/astropy/utils/decorators.py:841: GammapyDeprecationWarning: The radec function is deprecated and may be removed in a future version.\n",
      "  val = self.fget(obj)\n",
      "/home/wecapstor1/caph/mppi045h/gammapy/gammapy/data/observations.py:267: GammapyDeprecationWarning: Pointing will be required to be provided as FixedPointingInfo\n",
      "  warnings.warn(\n",
      "/tmp/ipykernel_3967674/3819774325.py:28: GammapyDeprecationWarning: Use observation.get_pointing_icrs(time) instead\n",
      "  reference = MapDataset.create(geom=geom, name='stacked').cutout(position=obs.pointing_radec, width=8.0*max_offset)\n",
      "/home/wecapstor1/caph/mppi045h/anaconda3/envs/gammapy-dev/lib/python3.8/site-packages/astropy/utils/decorators.py:841: GammapyDeprecationWarning: Use observation.pointing or observation.get_pointing_{altaz,icrs} instead\n",
      "  val = self.fget(obj)\n",
      "/home/wecapstor1/caph/mppi045h/anaconda3/envs/gammapy-dev/lib/python3.8/site-packages/astropy/utils/decorators.py:841: GammapyDeprecationWarning: The radec function is deprecated and may be removed in a future version.\n",
      "  val = self.fget(obj)\n"
     ]
    },
    {
     "name": "stdout",
     "output_type": "stream",
     "text": [
      "4\n"
     ]
    },
    {
     "name": "stderr",
     "output_type": "stream",
     "text": [
      "/tmp/ipykernel_3967674/3819774325.py:18: GammapyDeprecationWarning: Use observation.get_pointing_icrs(time) instead\n",
      "  pointing  = observations[i].pointing_radec\n",
      "/home/wecapstor1/caph/mppi045h/anaconda3/envs/gammapy-dev/lib/python3.8/site-packages/astropy/utils/decorators.py:841: GammapyDeprecationWarning: Use observation.pointing or observation.get_pointing_{altaz,icrs} instead\n",
      "  val = self.fget(obj)\n",
      "/home/wecapstor1/caph/mppi045h/anaconda3/envs/gammapy-dev/lib/python3.8/site-packages/astropy/utils/decorators.py:841: GammapyDeprecationWarning: The radec function is deprecated and may be removed in a future version.\n",
      "  val = self.fget(obj)\n",
      "/home/wecapstor1/caph/mppi045h/gammapy/gammapy/data/observations.py:267: GammapyDeprecationWarning: Pointing will be required to be provided as FixedPointingInfo\n",
      "  warnings.warn(\n",
      "/tmp/ipykernel_3967674/3819774325.py:28: GammapyDeprecationWarning: Use observation.get_pointing_icrs(time) instead\n",
      "  reference = MapDataset.create(geom=geom, name='stacked').cutout(position=obs.pointing_radec, width=8.0*max_offset)\n",
      "/home/wecapstor1/caph/mppi045h/anaconda3/envs/gammapy-dev/lib/python3.8/site-packages/astropy/utils/decorators.py:841: GammapyDeprecationWarning: Use observation.pointing or observation.get_pointing_{altaz,icrs} instead\n",
      "  val = self.fget(obj)\n",
      "/home/wecapstor1/caph/mppi045h/anaconda3/envs/gammapy-dev/lib/python3.8/site-packages/astropy/utils/decorators.py:841: GammapyDeprecationWarning: The radec function is deprecated and may be removed in a future version.\n",
      "  val = self.fget(obj)\n"
     ]
    },
    {
     "name": "stdout",
     "output_type": "stream",
     "text": [
      "5\n"
     ]
    },
    {
     "name": "stderr",
     "output_type": "stream",
     "text": [
      "/tmp/ipykernel_3967674/3819774325.py:18: GammapyDeprecationWarning: Use observation.get_pointing_icrs(time) instead\n",
      "  pointing  = observations[i].pointing_radec\n",
      "/home/wecapstor1/caph/mppi045h/anaconda3/envs/gammapy-dev/lib/python3.8/site-packages/astropy/utils/decorators.py:841: GammapyDeprecationWarning: Use observation.pointing or observation.get_pointing_{altaz,icrs} instead\n",
      "  val = self.fget(obj)\n",
      "/home/wecapstor1/caph/mppi045h/anaconda3/envs/gammapy-dev/lib/python3.8/site-packages/astropy/utils/decorators.py:841: GammapyDeprecationWarning: The radec function is deprecated and may be removed in a future version.\n",
      "  val = self.fget(obj)\n",
      "/home/wecapstor1/caph/mppi045h/gammapy/gammapy/data/observations.py:267: GammapyDeprecationWarning: Pointing will be required to be provided as FixedPointingInfo\n",
      "  warnings.warn(\n",
      "/tmp/ipykernel_3967674/3819774325.py:28: GammapyDeprecationWarning: Use observation.get_pointing_icrs(time) instead\n",
      "  reference = MapDataset.create(geom=geom, name='stacked').cutout(position=obs.pointing_radec, width=8.0*max_offset)\n",
      "/home/wecapstor1/caph/mppi045h/anaconda3/envs/gammapy-dev/lib/python3.8/site-packages/astropy/utils/decorators.py:841: GammapyDeprecationWarning: Use observation.pointing or observation.get_pointing_{altaz,icrs} instead\n",
      "  val = self.fget(obj)\n",
      "/home/wecapstor1/caph/mppi045h/anaconda3/envs/gammapy-dev/lib/python3.8/site-packages/astropy/utils/decorators.py:841: GammapyDeprecationWarning: The radec function is deprecated and may be removed in a future version.\n",
      "  val = self.fget(obj)\n"
     ]
    },
    {
     "name": "stdout",
     "output_type": "stream",
     "text": [
      "6\n"
     ]
    },
    {
     "name": "stderr",
     "output_type": "stream",
     "text": [
      "/tmp/ipykernel_3967674/3819774325.py:18: GammapyDeprecationWarning: Use observation.get_pointing_icrs(time) instead\n",
      "  pointing  = observations[i].pointing_radec\n",
      "/home/wecapstor1/caph/mppi045h/anaconda3/envs/gammapy-dev/lib/python3.8/site-packages/astropy/utils/decorators.py:841: GammapyDeprecationWarning: Use observation.pointing or observation.get_pointing_{altaz,icrs} instead\n",
      "  val = self.fget(obj)\n",
      "/home/wecapstor1/caph/mppi045h/anaconda3/envs/gammapy-dev/lib/python3.8/site-packages/astropy/utils/decorators.py:841: GammapyDeprecationWarning: The radec function is deprecated and may be removed in a future version.\n",
      "  val = self.fget(obj)\n",
      "/home/wecapstor1/caph/mppi045h/gammapy/gammapy/data/observations.py:267: GammapyDeprecationWarning: Pointing will be required to be provided as FixedPointingInfo\n",
      "  warnings.warn(\n",
      "/tmp/ipykernel_3967674/3819774325.py:28: GammapyDeprecationWarning: Use observation.get_pointing_icrs(time) instead\n",
      "  reference = MapDataset.create(geom=geom, name='stacked').cutout(position=obs.pointing_radec, width=8.0*max_offset)\n",
      "/home/wecapstor1/caph/mppi045h/anaconda3/envs/gammapy-dev/lib/python3.8/site-packages/astropy/utils/decorators.py:841: GammapyDeprecationWarning: Use observation.pointing or observation.get_pointing_{altaz,icrs} instead\n",
      "  val = self.fget(obj)\n",
      "/home/wecapstor1/caph/mppi045h/anaconda3/envs/gammapy-dev/lib/python3.8/site-packages/astropy/utils/decorators.py:841: GammapyDeprecationWarning: The radec function is deprecated and may be removed in a future version.\n",
      "  val = self.fget(obj)\n"
     ]
    },
    {
     "name": "stdout",
     "output_type": "stream",
     "text": [
      "7\n"
     ]
    },
    {
     "name": "stderr",
     "output_type": "stream",
     "text": [
      "/tmp/ipykernel_3967674/3819774325.py:18: GammapyDeprecationWarning: Use observation.get_pointing_icrs(time) instead\n",
      "  pointing  = observations[i].pointing_radec\n",
      "/home/wecapstor1/caph/mppi045h/anaconda3/envs/gammapy-dev/lib/python3.8/site-packages/astropy/utils/decorators.py:841: GammapyDeprecationWarning: Use observation.pointing or observation.get_pointing_{altaz,icrs} instead\n",
      "  val = self.fget(obj)\n",
      "/home/wecapstor1/caph/mppi045h/anaconda3/envs/gammapy-dev/lib/python3.8/site-packages/astropy/utils/decorators.py:841: GammapyDeprecationWarning: The radec function is deprecated and may be removed in a future version.\n",
      "  val = self.fget(obj)\n",
      "/home/wecapstor1/caph/mppi045h/gammapy/gammapy/data/observations.py:267: GammapyDeprecationWarning: Pointing will be required to be provided as FixedPointingInfo\n",
      "  warnings.warn(\n",
      "/tmp/ipykernel_3967674/3819774325.py:28: GammapyDeprecationWarning: Use observation.get_pointing_icrs(time) instead\n",
      "  reference = MapDataset.create(geom=geom, name='stacked').cutout(position=obs.pointing_radec, width=8.0*max_offset)\n",
      "/home/wecapstor1/caph/mppi045h/anaconda3/envs/gammapy-dev/lib/python3.8/site-packages/astropy/utils/decorators.py:841: GammapyDeprecationWarning: Use observation.pointing or observation.get_pointing_{altaz,icrs} instead\n",
      "  val = self.fget(obj)\n",
      "/home/wecapstor1/caph/mppi045h/anaconda3/envs/gammapy-dev/lib/python3.8/site-packages/astropy/utils/decorators.py:841: GammapyDeprecationWarning: The radec function is deprecated and may be removed in a future version.\n",
      "  val = self.fget(obj)\n"
     ]
    },
    {
     "name": "stdout",
     "output_type": "stream",
     "text": [
      "8\n"
     ]
    },
    {
     "name": "stderr",
     "output_type": "stream",
     "text": [
      "/tmp/ipykernel_3967674/3819774325.py:18: GammapyDeprecationWarning: Use observation.get_pointing_icrs(time) instead\n",
      "  pointing  = observations[i].pointing_radec\n",
      "/home/wecapstor1/caph/mppi045h/anaconda3/envs/gammapy-dev/lib/python3.8/site-packages/astropy/utils/decorators.py:841: GammapyDeprecationWarning: Use observation.pointing or observation.get_pointing_{altaz,icrs} instead\n",
      "  val = self.fget(obj)\n",
      "/home/wecapstor1/caph/mppi045h/anaconda3/envs/gammapy-dev/lib/python3.8/site-packages/astropy/utils/decorators.py:841: GammapyDeprecationWarning: The radec function is deprecated and may be removed in a future version.\n",
      "  val = self.fget(obj)\n",
      "/home/wecapstor1/caph/mppi045h/gammapy/gammapy/data/observations.py:267: GammapyDeprecationWarning: Pointing will be required to be provided as FixedPointingInfo\n",
      "  warnings.warn(\n",
      "/tmp/ipykernel_3967674/3819774325.py:28: GammapyDeprecationWarning: Use observation.get_pointing_icrs(time) instead\n",
      "  reference = MapDataset.create(geom=geom, name='stacked').cutout(position=obs.pointing_radec, width=8.0*max_offset)\n",
      "/home/wecapstor1/caph/mppi045h/anaconda3/envs/gammapy-dev/lib/python3.8/site-packages/astropy/utils/decorators.py:841: GammapyDeprecationWarning: Use observation.pointing or observation.get_pointing_{altaz,icrs} instead\n",
      "  val = self.fget(obj)\n",
      "/home/wecapstor1/caph/mppi045h/anaconda3/envs/gammapy-dev/lib/python3.8/site-packages/astropy/utils/decorators.py:841: GammapyDeprecationWarning: The radec function is deprecated and may be removed in a future version.\n",
      "  val = self.fget(obj)\n"
     ]
    },
    {
     "name": "stdout",
     "output_type": "stream",
     "text": [
      "9\n"
     ]
    },
    {
     "name": "stderr",
     "output_type": "stream",
     "text": [
      "/tmp/ipykernel_3967674/3819774325.py:18: GammapyDeprecationWarning: Use observation.get_pointing_icrs(time) instead\n",
      "  pointing  = observations[i].pointing_radec\n",
      "/home/wecapstor1/caph/mppi045h/anaconda3/envs/gammapy-dev/lib/python3.8/site-packages/astropy/utils/decorators.py:841: GammapyDeprecationWarning: Use observation.pointing or observation.get_pointing_{altaz,icrs} instead\n",
      "  val = self.fget(obj)\n",
      "/home/wecapstor1/caph/mppi045h/anaconda3/envs/gammapy-dev/lib/python3.8/site-packages/astropy/utils/decorators.py:841: GammapyDeprecationWarning: The radec function is deprecated and may be removed in a future version.\n",
      "  val = self.fget(obj)\n",
      "/home/wecapstor1/caph/mppi045h/gammapy/gammapy/data/observations.py:267: GammapyDeprecationWarning: Pointing will be required to be provided as FixedPointingInfo\n",
      "  warnings.warn(\n",
      "/tmp/ipykernel_3967674/3819774325.py:28: GammapyDeprecationWarning: Use observation.get_pointing_icrs(time) instead\n",
      "  reference = MapDataset.create(geom=geom, name='stacked').cutout(position=obs.pointing_radec, width=8.0*max_offset)\n",
      "/home/wecapstor1/caph/mppi045h/anaconda3/envs/gammapy-dev/lib/python3.8/site-packages/astropy/utils/decorators.py:841: GammapyDeprecationWarning: Use observation.pointing or observation.get_pointing_{altaz,icrs} instead\n",
      "  val = self.fget(obj)\n",
      "/home/wecapstor1/caph/mppi045h/anaconda3/envs/gammapy-dev/lib/python3.8/site-packages/astropy/utils/decorators.py:841: GammapyDeprecationWarning: The radec function is deprecated and may be removed in a future version.\n",
      "  val = self.fget(obj)\n"
     ]
    },
    {
     "name": "stdout",
     "output_type": "stream",
     "text": [
      "10\n"
     ]
    },
    {
     "name": "stderr",
     "output_type": "stream",
     "text": [
      "/tmp/ipykernel_3967674/3819774325.py:18: GammapyDeprecationWarning: Use observation.get_pointing_icrs(time) instead\n",
      "  pointing  = observations[i].pointing_radec\n",
      "/home/wecapstor1/caph/mppi045h/anaconda3/envs/gammapy-dev/lib/python3.8/site-packages/astropy/utils/decorators.py:841: GammapyDeprecationWarning: Use observation.pointing or observation.get_pointing_{altaz,icrs} instead\n",
      "  val = self.fget(obj)\n",
      "/home/wecapstor1/caph/mppi045h/anaconda3/envs/gammapy-dev/lib/python3.8/site-packages/astropy/utils/decorators.py:841: GammapyDeprecationWarning: The radec function is deprecated and may be removed in a future version.\n",
      "  val = self.fget(obj)\n",
      "/home/wecapstor1/caph/mppi045h/gammapy/gammapy/data/observations.py:267: GammapyDeprecationWarning: Pointing will be required to be provided as FixedPointingInfo\n",
      "  warnings.warn(\n",
      "/tmp/ipykernel_3967674/3819774325.py:28: GammapyDeprecationWarning: Use observation.get_pointing_icrs(time) instead\n",
      "  reference = MapDataset.create(geom=geom, name='stacked').cutout(position=obs.pointing_radec, width=8.0*max_offset)\n",
      "/home/wecapstor1/caph/mppi045h/anaconda3/envs/gammapy-dev/lib/python3.8/site-packages/astropy/utils/decorators.py:841: GammapyDeprecationWarning: Use observation.pointing or observation.get_pointing_{altaz,icrs} instead\n",
      "  val = self.fget(obj)\n",
      "/home/wecapstor1/caph/mppi045h/anaconda3/envs/gammapy-dev/lib/python3.8/site-packages/astropy/utils/decorators.py:841: GammapyDeprecationWarning: The radec function is deprecated and may be removed in a future version.\n",
      "  val = self.fget(obj)\n"
     ]
    },
    {
     "name": "stdout",
     "output_type": "stream",
     "text": [
      "11\n"
     ]
    },
    {
     "name": "stderr",
     "output_type": "stream",
     "text": [
      "/tmp/ipykernel_3967674/3819774325.py:18: GammapyDeprecationWarning: Use observation.get_pointing_icrs(time) instead\n",
      "  pointing  = observations[i].pointing_radec\n",
      "/home/wecapstor1/caph/mppi045h/anaconda3/envs/gammapy-dev/lib/python3.8/site-packages/astropy/utils/decorators.py:841: GammapyDeprecationWarning: Use observation.pointing or observation.get_pointing_{altaz,icrs} instead\n",
      "  val = self.fget(obj)\n",
      "/home/wecapstor1/caph/mppi045h/anaconda3/envs/gammapy-dev/lib/python3.8/site-packages/astropy/utils/decorators.py:841: GammapyDeprecationWarning: The radec function is deprecated and may be removed in a future version.\n",
      "  val = self.fget(obj)\n",
      "/home/wecapstor1/caph/mppi045h/gammapy/gammapy/data/observations.py:267: GammapyDeprecationWarning: Pointing will be required to be provided as FixedPointingInfo\n",
      "  warnings.warn(\n",
      "/tmp/ipykernel_3967674/3819774325.py:28: GammapyDeprecationWarning: Use observation.get_pointing_icrs(time) instead\n",
      "  reference = MapDataset.create(geom=geom, name='stacked').cutout(position=obs.pointing_radec, width=8.0*max_offset)\n",
      "/home/wecapstor1/caph/mppi045h/anaconda3/envs/gammapy-dev/lib/python3.8/site-packages/astropy/utils/decorators.py:841: GammapyDeprecationWarning: Use observation.pointing or observation.get_pointing_{altaz,icrs} instead\n",
      "  val = self.fget(obj)\n",
      "/home/wecapstor1/caph/mppi045h/anaconda3/envs/gammapy-dev/lib/python3.8/site-packages/astropy/utils/decorators.py:841: GammapyDeprecationWarning: The radec function is deprecated and may be removed in a future version.\n",
      "  val = self.fget(obj)\n"
     ]
    },
    {
     "name": "stdout",
     "output_type": "stream",
     "text": [
      "12\n"
     ]
    },
    {
     "name": "stderr",
     "output_type": "stream",
     "text": [
      "/tmp/ipykernel_3967674/3819774325.py:18: GammapyDeprecationWarning: Use observation.get_pointing_icrs(time) instead\n",
      "  pointing  = observations[i].pointing_radec\n",
      "/home/wecapstor1/caph/mppi045h/anaconda3/envs/gammapy-dev/lib/python3.8/site-packages/astropy/utils/decorators.py:841: GammapyDeprecationWarning: Use observation.pointing or observation.get_pointing_{altaz,icrs} instead\n",
      "  val = self.fget(obj)\n",
      "/home/wecapstor1/caph/mppi045h/anaconda3/envs/gammapy-dev/lib/python3.8/site-packages/astropy/utils/decorators.py:841: GammapyDeprecationWarning: The radec function is deprecated and may be removed in a future version.\n",
      "  val = self.fget(obj)\n",
      "/home/wecapstor1/caph/mppi045h/gammapy/gammapy/data/observations.py:267: GammapyDeprecationWarning: Pointing will be required to be provided as FixedPointingInfo\n",
      "  warnings.warn(\n",
      "/tmp/ipykernel_3967674/3819774325.py:28: GammapyDeprecationWarning: Use observation.get_pointing_icrs(time) instead\n",
      "  reference = MapDataset.create(geom=geom, name='stacked').cutout(position=obs.pointing_radec, width=8.0*max_offset)\n",
      "/home/wecapstor1/caph/mppi045h/anaconda3/envs/gammapy-dev/lib/python3.8/site-packages/astropy/utils/decorators.py:841: GammapyDeprecationWarning: Use observation.pointing or observation.get_pointing_{altaz,icrs} instead\n",
      "  val = self.fget(obj)\n",
      "/home/wecapstor1/caph/mppi045h/anaconda3/envs/gammapy-dev/lib/python3.8/site-packages/astropy/utils/decorators.py:841: GammapyDeprecationWarning: The radec function is deprecated and may be removed in a future version.\n",
      "  val = self.fget(obj)\n"
     ]
    },
    {
     "name": "stdout",
     "output_type": "stream",
     "text": [
      "13\n"
     ]
    },
    {
     "name": "stderr",
     "output_type": "stream",
     "text": [
      "/tmp/ipykernel_3967674/3819774325.py:18: GammapyDeprecationWarning: Use observation.get_pointing_icrs(time) instead\n",
      "  pointing  = observations[i].pointing_radec\n",
      "/home/wecapstor1/caph/mppi045h/anaconda3/envs/gammapy-dev/lib/python3.8/site-packages/astropy/utils/decorators.py:841: GammapyDeprecationWarning: Use observation.pointing or observation.get_pointing_{altaz,icrs} instead\n",
      "  val = self.fget(obj)\n",
      "/home/wecapstor1/caph/mppi045h/anaconda3/envs/gammapy-dev/lib/python3.8/site-packages/astropy/utils/decorators.py:841: GammapyDeprecationWarning: The radec function is deprecated and may be removed in a future version.\n",
      "  val = self.fget(obj)\n",
      "/home/wecapstor1/caph/mppi045h/gammapy/gammapy/data/observations.py:267: GammapyDeprecationWarning: Pointing will be required to be provided as FixedPointingInfo\n",
      "  warnings.warn(\n",
      "/tmp/ipykernel_3967674/3819774325.py:28: GammapyDeprecationWarning: Use observation.get_pointing_icrs(time) instead\n",
      "  reference = MapDataset.create(geom=geom, name='stacked').cutout(position=obs.pointing_radec, width=8.0*max_offset)\n",
      "/home/wecapstor1/caph/mppi045h/anaconda3/envs/gammapy-dev/lib/python3.8/site-packages/astropy/utils/decorators.py:841: GammapyDeprecationWarning: Use observation.pointing or observation.get_pointing_{altaz,icrs} instead\n",
      "  val = self.fget(obj)\n",
      "/home/wecapstor1/caph/mppi045h/anaconda3/envs/gammapy-dev/lib/python3.8/site-packages/astropy/utils/decorators.py:841: GammapyDeprecationWarning: The radec function is deprecated and may be removed in a future version.\n",
      "  val = self.fget(obj)\n"
     ]
    },
    {
     "name": "stdout",
     "output_type": "stream",
     "text": [
      "14\n"
     ]
    },
    {
     "name": "stderr",
     "output_type": "stream",
     "text": [
      "/tmp/ipykernel_3967674/3819774325.py:18: GammapyDeprecationWarning: Use observation.get_pointing_icrs(time) instead\n",
      "  pointing  = observations[i].pointing_radec\n",
      "/home/wecapstor1/caph/mppi045h/anaconda3/envs/gammapy-dev/lib/python3.8/site-packages/astropy/utils/decorators.py:841: GammapyDeprecationWarning: Use observation.pointing or observation.get_pointing_{altaz,icrs} instead\n",
      "  val = self.fget(obj)\n",
      "/home/wecapstor1/caph/mppi045h/anaconda3/envs/gammapy-dev/lib/python3.8/site-packages/astropy/utils/decorators.py:841: GammapyDeprecationWarning: The radec function is deprecated and may be removed in a future version.\n",
      "  val = self.fget(obj)\n",
      "/home/wecapstor1/caph/mppi045h/gammapy/gammapy/data/observations.py:267: GammapyDeprecationWarning: Pointing will be required to be provided as FixedPointingInfo\n",
      "  warnings.warn(\n",
      "/tmp/ipykernel_3967674/3819774325.py:28: GammapyDeprecationWarning: Use observation.get_pointing_icrs(time) instead\n",
      "  reference = MapDataset.create(geom=geom, name='stacked').cutout(position=obs.pointing_radec, width=8.0*max_offset)\n",
      "/home/wecapstor1/caph/mppi045h/anaconda3/envs/gammapy-dev/lib/python3.8/site-packages/astropy/utils/decorators.py:841: GammapyDeprecationWarning: Use observation.pointing or observation.get_pointing_{altaz,icrs} instead\n",
      "  val = self.fget(obj)\n",
      "/home/wecapstor1/caph/mppi045h/anaconda3/envs/gammapy-dev/lib/python3.8/site-packages/astropy/utils/decorators.py:841: GammapyDeprecationWarning: The radec function is deprecated and may be removed in a future version.\n",
      "  val = self.fget(obj)\n"
     ]
    },
    {
     "name": "stdout",
     "output_type": "stream",
     "text": [
      "15\n"
     ]
    },
    {
     "name": "stderr",
     "output_type": "stream",
     "text": [
      "/tmp/ipykernel_3967674/3819774325.py:18: GammapyDeprecationWarning: Use observation.get_pointing_icrs(time) instead\n",
      "  pointing  = observations[i].pointing_radec\n",
      "/home/wecapstor1/caph/mppi045h/anaconda3/envs/gammapy-dev/lib/python3.8/site-packages/astropy/utils/decorators.py:841: GammapyDeprecationWarning: Use observation.pointing or observation.get_pointing_{altaz,icrs} instead\n",
      "  val = self.fget(obj)\n",
      "/home/wecapstor1/caph/mppi045h/anaconda3/envs/gammapy-dev/lib/python3.8/site-packages/astropy/utils/decorators.py:841: GammapyDeprecationWarning: The radec function is deprecated and may be removed in a future version.\n",
      "  val = self.fget(obj)\n",
      "/home/wecapstor1/caph/mppi045h/gammapy/gammapy/data/observations.py:267: GammapyDeprecationWarning: Pointing will be required to be provided as FixedPointingInfo\n",
      "  warnings.warn(\n",
      "/tmp/ipykernel_3967674/3819774325.py:28: GammapyDeprecationWarning: Use observation.get_pointing_icrs(time) instead\n",
      "  reference = MapDataset.create(geom=geom, name='stacked').cutout(position=obs.pointing_radec, width=8.0*max_offset)\n",
      "/home/wecapstor1/caph/mppi045h/anaconda3/envs/gammapy-dev/lib/python3.8/site-packages/astropy/utils/decorators.py:841: GammapyDeprecationWarning: Use observation.pointing or observation.get_pointing_{altaz,icrs} instead\n",
      "  val = self.fget(obj)\n",
      "/home/wecapstor1/caph/mppi045h/anaconda3/envs/gammapy-dev/lib/python3.8/site-packages/astropy/utils/decorators.py:841: GammapyDeprecationWarning: The radec function is deprecated and may be removed in a future version.\n",
      "  val = self.fget(obj)\n"
     ]
    },
    {
     "name": "stdout",
     "output_type": "stream",
     "text": [
      "16\n"
     ]
    },
    {
     "name": "stderr",
     "output_type": "stream",
     "text": [
      "/tmp/ipykernel_3967674/3819774325.py:18: GammapyDeprecationWarning: Use observation.get_pointing_icrs(time) instead\n",
      "  pointing  = observations[i].pointing_radec\n",
      "/home/wecapstor1/caph/mppi045h/anaconda3/envs/gammapy-dev/lib/python3.8/site-packages/astropy/utils/decorators.py:841: GammapyDeprecationWarning: Use observation.pointing or observation.get_pointing_{altaz,icrs} instead\n",
      "  val = self.fget(obj)\n",
      "/home/wecapstor1/caph/mppi045h/anaconda3/envs/gammapy-dev/lib/python3.8/site-packages/astropy/utils/decorators.py:841: GammapyDeprecationWarning: The radec function is deprecated and may be removed in a future version.\n",
      "  val = self.fget(obj)\n",
      "/home/wecapstor1/caph/mppi045h/gammapy/gammapy/data/observations.py:267: GammapyDeprecationWarning: Pointing will be required to be provided as FixedPointingInfo\n",
      "  warnings.warn(\n",
      "/tmp/ipykernel_3967674/3819774325.py:28: GammapyDeprecationWarning: Use observation.get_pointing_icrs(time) instead\n",
      "  reference = MapDataset.create(geom=geom, name='stacked').cutout(position=obs.pointing_radec, width=8.0*max_offset)\n",
      "/home/wecapstor1/caph/mppi045h/anaconda3/envs/gammapy-dev/lib/python3.8/site-packages/astropy/utils/decorators.py:841: GammapyDeprecationWarning: Use observation.pointing or observation.get_pointing_{altaz,icrs} instead\n",
      "  val = self.fget(obj)\n",
      "/home/wecapstor1/caph/mppi045h/anaconda3/envs/gammapy-dev/lib/python3.8/site-packages/astropy/utils/decorators.py:841: GammapyDeprecationWarning: The radec function is deprecated and may be removed in a future version.\n",
      "  val = self.fget(obj)\n"
     ]
    },
    {
     "name": "stdout",
     "output_type": "stream",
     "text": [
      "17\n"
     ]
    },
    {
     "name": "stderr",
     "output_type": "stream",
     "text": [
      "/tmp/ipykernel_3967674/3819774325.py:18: GammapyDeprecationWarning: Use observation.get_pointing_icrs(time) instead\n",
      "  pointing  = observations[i].pointing_radec\n",
      "/home/wecapstor1/caph/mppi045h/anaconda3/envs/gammapy-dev/lib/python3.8/site-packages/astropy/utils/decorators.py:841: GammapyDeprecationWarning: Use observation.pointing or observation.get_pointing_{altaz,icrs} instead\n",
      "  val = self.fget(obj)\n",
      "/home/wecapstor1/caph/mppi045h/anaconda3/envs/gammapy-dev/lib/python3.8/site-packages/astropy/utils/decorators.py:841: GammapyDeprecationWarning: The radec function is deprecated and may be removed in a future version.\n",
      "  val = self.fget(obj)\n",
      "/home/wecapstor1/caph/mppi045h/gammapy/gammapy/data/observations.py:267: GammapyDeprecationWarning: Pointing will be required to be provided as FixedPointingInfo\n",
      "  warnings.warn(\n",
      "/tmp/ipykernel_3967674/3819774325.py:28: GammapyDeprecationWarning: Use observation.get_pointing_icrs(time) instead\n",
      "  reference = MapDataset.create(geom=geom, name='stacked').cutout(position=obs.pointing_radec, width=8.0*max_offset)\n",
      "/home/wecapstor1/caph/mppi045h/anaconda3/envs/gammapy-dev/lib/python3.8/site-packages/astropy/utils/decorators.py:841: GammapyDeprecationWarning: Use observation.pointing or observation.get_pointing_{altaz,icrs} instead\n",
      "  val = self.fget(obj)\n",
      "/home/wecapstor1/caph/mppi045h/anaconda3/envs/gammapy-dev/lib/python3.8/site-packages/astropy/utils/decorators.py:841: GammapyDeprecationWarning: The radec function is deprecated and may be removed in a future version.\n",
      "  val = self.fget(obj)\n"
     ]
    },
    {
     "name": "stdout",
     "output_type": "stream",
     "text": [
      "18\n"
     ]
    },
    {
     "name": "stderr",
     "output_type": "stream",
     "text": [
      "/tmp/ipykernel_3967674/3819774325.py:18: GammapyDeprecationWarning: Use observation.get_pointing_icrs(time) instead\n",
      "  pointing  = observations[i].pointing_radec\n",
      "/home/wecapstor1/caph/mppi045h/anaconda3/envs/gammapy-dev/lib/python3.8/site-packages/astropy/utils/decorators.py:841: GammapyDeprecationWarning: Use observation.pointing or observation.get_pointing_{altaz,icrs} instead\n",
      "  val = self.fget(obj)\n",
      "/home/wecapstor1/caph/mppi045h/anaconda3/envs/gammapy-dev/lib/python3.8/site-packages/astropy/utils/decorators.py:841: GammapyDeprecationWarning: The radec function is deprecated and may be removed in a future version.\n",
      "  val = self.fget(obj)\n",
      "/home/wecapstor1/caph/mppi045h/gammapy/gammapy/data/observations.py:267: GammapyDeprecationWarning: Pointing will be required to be provided as FixedPointingInfo\n",
      "  warnings.warn(\n",
      "/tmp/ipykernel_3967674/3819774325.py:28: GammapyDeprecationWarning: Use observation.get_pointing_icrs(time) instead\n",
      "  reference = MapDataset.create(geom=geom, name='stacked').cutout(position=obs.pointing_radec, width=8.0*max_offset)\n",
      "/home/wecapstor1/caph/mppi045h/anaconda3/envs/gammapy-dev/lib/python3.8/site-packages/astropy/utils/decorators.py:841: GammapyDeprecationWarning: Use observation.pointing or observation.get_pointing_{altaz,icrs} instead\n",
      "  val = self.fget(obj)\n",
      "/home/wecapstor1/caph/mppi045h/anaconda3/envs/gammapy-dev/lib/python3.8/site-packages/astropy/utils/decorators.py:841: GammapyDeprecationWarning: The radec function is deprecated and may be removed in a future version.\n",
      "  val = self.fget(obj)\n"
     ]
    },
    {
     "name": "stdout",
     "output_type": "stream",
     "text": [
      "19\n"
     ]
    },
    {
     "name": "stderr",
     "output_type": "stream",
     "text": [
      "/tmp/ipykernel_3967674/3819774325.py:18: GammapyDeprecationWarning: Use observation.get_pointing_icrs(time) instead\n",
      "  pointing  = observations[i].pointing_radec\n",
      "/home/wecapstor1/caph/mppi045h/anaconda3/envs/gammapy-dev/lib/python3.8/site-packages/astropy/utils/decorators.py:841: GammapyDeprecationWarning: Use observation.pointing or observation.get_pointing_{altaz,icrs} instead\n",
      "  val = self.fget(obj)\n",
      "/home/wecapstor1/caph/mppi045h/anaconda3/envs/gammapy-dev/lib/python3.8/site-packages/astropy/utils/decorators.py:841: GammapyDeprecationWarning: The radec function is deprecated and may be removed in a future version.\n",
      "  val = self.fget(obj)\n",
      "/home/wecapstor1/caph/mppi045h/gammapy/gammapy/data/observations.py:267: GammapyDeprecationWarning: Pointing will be required to be provided as FixedPointingInfo\n",
      "  warnings.warn(\n",
      "/tmp/ipykernel_3967674/3819774325.py:28: GammapyDeprecationWarning: Use observation.get_pointing_icrs(time) instead\n",
      "  reference = MapDataset.create(geom=geom, name='stacked').cutout(position=obs.pointing_radec, width=8.0*max_offset)\n",
      "/home/wecapstor1/caph/mppi045h/anaconda3/envs/gammapy-dev/lib/python3.8/site-packages/astropy/utils/decorators.py:841: GammapyDeprecationWarning: Use observation.pointing or observation.get_pointing_{altaz,icrs} instead\n",
      "  val = self.fget(obj)\n",
      "/home/wecapstor1/caph/mppi045h/anaconda3/envs/gammapy-dev/lib/python3.8/site-packages/astropy/utils/decorators.py:841: GammapyDeprecationWarning: The radec function is deprecated and may be removed in a future version.\n",
      "  val = self.fget(obj)\n"
     ]
    },
    {
     "name": "stdout",
     "output_type": "stream",
     "text": [
      "Livetime:  0.021544346900318832 h\n",
      "0\n"
     ]
    },
    {
     "name": "stderr",
     "output_type": "stream",
     "text": [
      "/tmp/ipykernel_3967674/3819774325.py:18: GammapyDeprecationWarning: Use observation.get_pointing_icrs(time) instead\n",
      "  pointing  = observations[i].pointing_radec\n",
      "/home/wecapstor1/caph/mppi045h/gammapy/gammapy/data/observations.py:267: GammapyDeprecationWarning: Pointing will be required to be provided as FixedPointingInfo\n",
      "  warnings.warn(\n",
      "/tmp/ipykernel_3967674/3819774325.py:28: GammapyDeprecationWarning: Use observation.get_pointing_icrs(time) instead\n",
      "  reference = MapDataset.create(geom=geom, name='stacked').cutout(position=obs.pointing_radec, width=8.0*max_offset)\n",
      "/home/wecapstor1/caph/mppi045h/anaconda3/envs/gammapy-dev/lib/python3.8/site-packages/astropy/utils/decorators.py:841: GammapyDeprecationWarning: Use observation.pointing or observation.get_pointing_{altaz,icrs} instead\n",
      "  val = self.fget(obj)\n",
      "/home/wecapstor1/caph/mppi045h/anaconda3/envs/gammapy-dev/lib/python3.8/site-packages/astropy/utils/decorators.py:841: GammapyDeprecationWarning: The radec function is deprecated and may be removed in a future version.\n",
      "  val = self.fget(obj)\n"
     ]
    },
    {
     "name": "stdout",
     "output_type": "stream",
     "text": [
      "1\n"
     ]
    },
    {
     "name": "stderr",
     "output_type": "stream",
     "text": [
      "/tmp/ipykernel_3967674/3819774325.py:18: GammapyDeprecationWarning: Use observation.get_pointing_icrs(time) instead\n",
      "  pointing  = observations[i].pointing_radec\n",
      "/home/wecapstor1/caph/mppi045h/gammapy/gammapy/data/observations.py:267: GammapyDeprecationWarning: Pointing will be required to be provided as FixedPointingInfo\n",
      "  warnings.warn(\n",
      "/tmp/ipykernel_3967674/3819774325.py:28: GammapyDeprecationWarning: Use observation.get_pointing_icrs(time) instead\n",
      "  reference = MapDataset.create(geom=geom, name='stacked').cutout(position=obs.pointing_radec, width=8.0*max_offset)\n",
      "/home/wecapstor1/caph/mppi045h/anaconda3/envs/gammapy-dev/lib/python3.8/site-packages/astropy/utils/decorators.py:841: GammapyDeprecationWarning: Use observation.pointing or observation.get_pointing_{altaz,icrs} instead\n",
      "  val = self.fget(obj)\n",
      "/home/wecapstor1/caph/mppi045h/anaconda3/envs/gammapy-dev/lib/python3.8/site-packages/astropy/utils/decorators.py:841: GammapyDeprecationWarning: The radec function is deprecated and may be removed in a future version.\n",
      "  val = self.fget(obj)\n"
     ]
    },
    {
     "name": "stdout",
     "output_type": "stream",
     "text": [
      "2\n"
     ]
    },
    {
     "name": "stderr",
     "output_type": "stream",
     "text": [
      "/tmp/ipykernel_3967674/3819774325.py:18: GammapyDeprecationWarning: Use observation.get_pointing_icrs(time) instead\n",
      "  pointing  = observations[i].pointing_radec\n",
      "/home/wecapstor1/caph/mppi045h/gammapy/gammapy/data/observations.py:267: GammapyDeprecationWarning: Pointing will be required to be provided as FixedPointingInfo\n",
      "  warnings.warn(\n",
      "/tmp/ipykernel_3967674/3819774325.py:28: GammapyDeprecationWarning: Use observation.get_pointing_icrs(time) instead\n",
      "  reference = MapDataset.create(geom=geom, name='stacked').cutout(position=obs.pointing_radec, width=8.0*max_offset)\n",
      "/home/wecapstor1/caph/mppi045h/anaconda3/envs/gammapy-dev/lib/python3.8/site-packages/astropy/utils/decorators.py:841: GammapyDeprecationWarning: Use observation.pointing or observation.get_pointing_{altaz,icrs} instead\n",
      "  val = self.fget(obj)\n",
      "/home/wecapstor1/caph/mppi045h/anaconda3/envs/gammapy-dev/lib/python3.8/site-packages/astropy/utils/decorators.py:841: GammapyDeprecationWarning: The radec function is deprecated and may be removed in a future version.\n",
      "  val = self.fget(obj)\n"
     ]
    },
    {
     "name": "stdout",
     "output_type": "stream",
     "text": [
      "3\n"
     ]
    },
    {
     "name": "stderr",
     "output_type": "stream",
     "text": [
      "/tmp/ipykernel_3967674/3819774325.py:18: GammapyDeprecationWarning: Use observation.get_pointing_icrs(time) instead\n",
      "  pointing  = observations[i].pointing_radec\n",
      "/home/wecapstor1/caph/mppi045h/gammapy/gammapy/data/observations.py:267: GammapyDeprecationWarning: Pointing will be required to be provided as FixedPointingInfo\n",
      "  warnings.warn(\n",
      "/tmp/ipykernel_3967674/3819774325.py:28: GammapyDeprecationWarning: Use observation.get_pointing_icrs(time) instead\n",
      "  reference = MapDataset.create(geom=geom, name='stacked').cutout(position=obs.pointing_radec, width=8.0*max_offset)\n",
      "/home/wecapstor1/caph/mppi045h/anaconda3/envs/gammapy-dev/lib/python3.8/site-packages/astropy/utils/decorators.py:841: GammapyDeprecationWarning: Use observation.pointing or observation.get_pointing_{altaz,icrs} instead\n",
      "  val = self.fget(obj)\n",
      "/home/wecapstor1/caph/mppi045h/anaconda3/envs/gammapy-dev/lib/python3.8/site-packages/astropy/utils/decorators.py:841: GammapyDeprecationWarning: The radec function is deprecated and may be removed in a future version.\n",
      "  val = self.fget(obj)\n"
     ]
    },
    {
     "name": "stdout",
     "output_type": "stream",
     "text": [
      "4\n"
     ]
    },
    {
     "name": "stderr",
     "output_type": "stream",
     "text": [
      "/tmp/ipykernel_3967674/3819774325.py:18: GammapyDeprecationWarning: Use observation.get_pointing_icrs(time) instead\n",
      "  pointing  = observations[i].pointing_radec\n",
      "/home/wecapstor1/caph/mppi045h/gammapy/gammapy/data/observations.py:267: GammapyDeprecationWarning: Pointing will be required to be provided as FixedPointingInfo\n",
      "  warnings.warn(\n",
      "/tmp/ipykernel_3967674/3819774325.py:28: GammapyDeprecationWarning: Use observation.get_pointing_icrs(time) instead\n",
      "  reference = MapDataset.create(geom=geom, name='stacked').cutout(position=obs.pointing_radec, width=8.0*max_offset)\n",
      "/home/wecapstor1/caph/mppi045h/anaconda3/envs/gammapy-dev/lib/python3.8/site-packages/astropy/utils/decorators.py:841: GammapyDeprecationWarning: Use observation.pointing or observation.get_pointing_{altaz,icrs} instead\n",
      "  val = self.fget(obj)\n",
      "/home/wecapstor1/caph/mppi045h/anaconda3/envs/gammapy-dev/lib/python3.8/site-packages/astropy/utils/decorators.py:841: GammapyDeprecationWarning: The radec function is deprecated and may be removed in a future version.\n",
      "  val = self.fget(obj)\n"
     ]
    },
    {
     "name": "stdout",
     "output_type": "stream",
     "text": [
      "5\n"
     ]
    },
    {
     "name": "stderr",
     "output_type": "stream",
     "text": [
      "/tmp/ipykernel_3967674/3819774325.py:18: GammapyDeprecationWarning: Use observation.get_pointing_icrs(time) instead\n",
      "  pointing  = observations[i].pointing_radec\n",
      "/home/wecapstor1/caph/mppi045h/gammapy/gammapy/data/observations.py:267: GammapyDeprecationWarning: Pointing will be required to be provided as FixedPointingInfo\n",
      "  warnings.warn(\n",
      "/tmp/ipykernel_3967674/3819774325.py:28: GammapyDeprecationWarning: Use observation.get_pointing_icrs(time) instead\n",
      "  reference = MapDataset.create(geom=geom, name='stacked').cutout(position=obs.pointing_radec, width=8.0*max_offset)\n",
      "/home/wecapstor1/caph/mppi045h/anaconda3/envs/gammapy-dev/lib/python3.8/site-packages/astropy/utils/decorators.py:841: GammapyDeprecationWarning: Use observation.pointing or observation.get_pointing_{altaz,icrs} instead\n",
      "  val = self.fget(obj)\n",
      "/home/wecapstor1/caph/mppi045h/anaconda3/envs/gammapy-dev/lib/python3.8/site-packages/astropy/utils/decorators.py:841: GammapyDeprecationWarning: The radec function is deprecated and may be removed in a future version.\n",
      "  val = self.fget(obj)\n"
     ]
    },
    {
     "name": "stdout",
     "output_type": "stream",
     "text": [
      "6\n"
     ]
    },
    {
     "name": "stderr",
     "output_type": "stream",
     "text": [
      "/tmp/ipykernel_3967674/3819774325.py:18: GammapyDeprecationWarning: Use observation.get_pointing_icrs(time) instead\n",
      "  pointing  = observations[i].pointing_radec\n",
      "/home/wecapstor1/caph/mppi045h/gammapy/gammapy/data/observations.py:267: GammapyDeprecationWarning: Pointing will be required to be provided as FixedPointingInfo\n",
      "  warnings.warn(\n",
      "/tmp/ipykernel_3967674/3819774325.py:28: GammapyDeprecationWarning: Use observation.get_pointing_icrs(time) instead\n",
      "  reference = MapDataset.create(geom=geom, name='stacked').cutout(position=obs.pointing_radec, width=8.0*max_offset)\n",
      "/home/wecapstor1/caph/mppi045h/anaconda3/envs/gammapy-dev/lib/python3.8/site-packages/astropy/utils/decorators.py:841: GammapyDeprecationWarning: Use observation.pointing or observation.get_pointing_{altaz,icrs} instead\n",
      "  val = self.fget(obj)\n",
      "/home/wecapstor1/caph/mppi045h/anaconda3/envs/gammapy-dev/lib/python3.8/site-packages/astropy/utils/decorators.py:841: GammapyDeprecationWarning: The radec function is deprecated and may be removed in a future version.\n",
      "  val = self.fget(obj)\n"
     ]
    },
    {
     "name": "stdout",
     "output_type": "stream",
     "text": [
      "7\n"
     ]
    },
    {
     "name": "stderr",
     "output_type": "stream",
     "text": [
      "/tmp/ipykernel_3967674/3819774325.py:18: GammapyDeprecationWarning: Use observation.get_pointing_icrs(time) instead\n",
      "  pointing  = observations[i].pointing_radec\n",
      "/home/wecapstor1/caph/mppi045h/gammapy/gammapy/data/observations.py:267: GammapyDeprecationWarning: Pointing will be required to be provided as FixedPointingInfo\n",
      "  warnings.warn(\n",
      "/tmp/ipykernel_3967674/3819774325.py:28: GammapyDeprecationWarning: Use observation.get_pointing_icrs(time) instead\n",
      "  reference = MapDataset.create(geom=geom, name='stacked').cutout(position=obs.pointing_radec, width=8.0*max_offset)\n",
      "/home/wecapstor1/caph/mppi045h/anaconda3/envs/gammapy-dev/lib/python3.8/site-packages/astropy/utils/decorators.py:841: GammapyDeprecationWarning: Use observation.pointing or observation.get_pointing_{altaz,icrs} instead\n",
      "  val = self.fget(obj)\n",
      "/home/wecapstor1/caph/mppi045h/anaconda3/envs/gammapy-dev/lib/python3.8/site-packages/astropy/utils/decorators.py:841: GammapyDeprecationWarning: The radec function is deprecated and may be removed in a future version.\n",
      "  val = self.fget(obj)\n"
     ]
    },
    {
     "name": "stdout",
     "output_type": "stream",
     "text": [
      "8\n"
     ]
    },
    {
     "name": "stderr",
     "output_type": "stream",
     "text": [
      "/tmp/ipykernel_3967674/3819774325.py:18: GammapyDeprecationWarning: Use observation.get_pointing_icrs(time) instead\n",
      "  pointing  = observations[i].pointing_radec\n",
      "/home/wecapstor1/caph/mppi045h/gammapy/gammapy/data/observations.py:267: GammapyDeprecationWarning: Pointing will be required to be provided as FixedPointingInfo\n",
      "  warnings.warn(\n",
      "/tmp/ipykernel_3967674/3819774325.py:28: GammapyDeprecationWarning: Use observation.get_pointing_icrs(time) instead\n",
      "  reference = MapDataset.create(geom=geom, name='stacked').cutout(position=obs.pointing_radec, width=8.0*max_offset)\n",
      "/home/wecapstor1/caph/mppi045h/anaconda3/envs/gammapy-dev/lib/python3.8/site-packages/astropy/utils/decorators.py:841: GammapyDeprecationWarning: Use observation.pointing or observation.get_pointing_{altaz,icrs} instead\n",
      "  val = self.fget(obj)\n",
      "/home/wecapstor1/caph/mppi045h/anaconda3/envs/gammapy-dev/lib/python3.8/site-packages/astropy/utils/decorators.py:841: GammapyDeprecationWarning: The radec function is deprecated and may be removed in a future version.\n",
      "  val = self.fget(obj)\n"
     ]
    },
    {
     "name": "stdout",
     "output_type": "stream",
     "text": [
      "9\n"
     ]
    },
    {
     "name": "stderr",
     "output_type": "stream",
     "text": [
      "/tmp/ipykernel_3967674/3819774325.py:18: GammapyDeprecationWarning: Use observation.get_pointing_icrs(time) instead\n",
      "  pointing  = observations[i].pointing_radec\n",
      "/home/wecapstor1/caph/mppi045h/gammapy/gammapy/data/observations.py:267: GammapyDeprecationWarning: Pointing will be required to be provided as FixedPointingInfo\n",
      "  warnings.warn(\n",
      "/tmp/ipykernel_3967674/3819774325.py:28: GammapyDeprecationWarning: Use observation.get_pointing_icrs(time) instead\n",
      "  reference = MapDataset.create(geom=geom, name='stacked').cutout(position=obs.pointing_radec, width=8.0*max_offset)\n",
      "/home/wecapstor1/caph/mppi045h/anaconda3/envs/gammapy-dev/lib/python3.8/site-packages/astropy/utils/decorators.py:841: GammapyDeprecationWarning: Use observation.pointing or observation.get_pointing_{altaz,icrs} instead\n",
      "  val = self.fget(obj)\n",
      "/home/wecapstor1/caph/mppi045h/anaconda3/envs/gammapy-dev/lib/python3.8/site-packages/astropy/utils/decorators.py:841: GammapyDeprecationWarning: The radec function is deprecated and may be removed in a future version.\n",
      "  val = self.fget(obj)\n"
     ]
    },
    {
     "name": "stdout",
     "output_type": "stream",
     "text": [
      "10\n"
     ]
    },
    {
     "name": "stderr",
     "output_type": "stream",
     "text": [
      "/tmp/ipykernel_3967674/3819774325.py:18: GammapyDeprecationWarning: Use observation.get_pointing_icrs(time) instead\n",
      "  pointing  = observations[i].pointing_radec\n",
      "/home/wecapstor1/caph/mppi045h/gammapy/gammapy/data/observations.py:267: GammapyDeprecationWarning: Pointing will be required to be provided as FixedPointingInfo\n",
      "  warnings.warn(\n",
      "/tmp/ipykernel_3967674/3819774325.py:28: GammapyDeprecationWarning: Use observation.get_pointing_icrs(time) instead\n",
      "  reference = MapDataset.create(geom=geom, name='stacked').cutout(position=obs.pointing_radec, width=8.0*max_offset)\n",
      "/home/wecapstor1/caph/mppi045h/anaconda3/envs/gammapy-dev/lib/python3.8/site-packages/astropy/utils/decorators.py:841: GammapyDeprecationWarning: Use observation.pointing or observation.get_pointing_{altaz,icrs} instead\n",
      "  val = self.fget(obj)\n",
      "/home/wecapstor1/caph/mppi045h/anaconda3/envs/gammapy-dev/lib/python3.8/site-packages/astropy/utils/decorators.py:841: GammapyDeprecationWarning: The radec function is deprecated and may be removed in a future version.\n",
      "  val = self.fget(obj)\n"
     ]
    },
    {
     "name": "stdout",
     "output_type": "stream",
     "text": [
      "11\n"
     ]
    },
    {
     "name": "stderr",
     "output_type": "stream",
     "text": [
      "/tmp/ipykernel_3967674/3819774325.py:18: GammapyDeprecationWarning: Use observation.get_pointing_icrs(time) instead\n",
      "  pointing  = observations[i].pointing_radec\n",
      "/home/wecapstor1/caph/mppi045h/gammapy/gammapy/data/observations.py:267: GammapyDeprecationWarning: Pointing will be required to be provided as FixedPointingInfo\n",
      "  warnings.warn(\n",
      "/tmp/ipykernel_3967674/3819774325.py:28: GammapyDeprecationWarning: Use observation.get_pointing_icrs(time) instead\n",
      "  reference = MapDataset.create(geom=geom, name='stacked').cutout(position=obs.pointing_radec, width=8.0*max_offset)\n",
      "/home/wecapstor1/caph/mppi045h/anaconda3/envs/gammapy-dev/lib/python3.8/site-packages/astropy/utils/decorators.py:841: GammapyDeprecationWarning: Use observation.pointing or observation.get_pointing_{altaz,icrs} instead\n",
      "  val = self.fget(obj)\n",
      "/home/wecapstor1/caph/mppi045h/anaconda3/envs/gammapy-dev/lib/python3.8/site-packages/astropy/utils/decorators.py:841: GammapyDeprecationWarning: The radec function is deprecated and may be removed in a future version.\n",
      "  val = self.fget(obj)\n"
     ]
    },
    {
     "name": "stdout",
     "output_type": "stream",
     "text": [
      "12\n"
     ]
    },
    {
     "name": "stderr",
     "output_type": "stream",
     "text": [
      "/tmp/ipykernel_3967674/3819774325.py:18: GammapyDeprecationWarning: Use observation.get_pointing_icrs(time) instead\n",
      "  pointing  = observations[i].pointing_radec\n",
      "/home/wecapstor1/caph/mppi045h/gammapy/gammapy/data/observations.py:267: GammapyDeprecationWarning: Pointing will be required to be provided as FixedPointingInfo\n",
      "  warnings.warn(\n",
      "/tmp/ipykernel_3967674/3819774325.py:28: GammapyDeprecationWarning: Use observation.get_pointing_icrs(time) instead\n",
      "  reference = MapDataset.create(geom=geom, name='stacked').cutout(position=obs.pointing_radec, width=8.0*max_offset)\n",
      "/home/wecapstor1/caph/mppi045h/anaconda3/envs/gammapy-dev/lib/python3.8/site-packages/astropy/utils/decorators.py:841: GammapyDeprecationWarning: Use observation.pointing or observation.get_pointing_{altaz,icrs} instead\n",
      "  val = self.fget(obj)\n",
      "/home/wecapstor1/caph/mppi045h/anaconda3/envs/gammapy-dev/lib/python3.8/site-packages/astropy/utils/decorators.py:841: GammapyDeprecationWarning: The radec function is deprecated and may be removed in a future version.\n",
      "  val = self.fget(obj)\n"
     ]
    },
    {
     "name": "stdout",
     "output_type": "stream",
     "text": [
      "13\n"
     ]
    },
    {
     "name": "stderr",
     "output_type": "stream",
     "text": [
      "/tmp/ipykernel_3967674/3819774325.py:18: GammapyDeprecationWarning: Use observation.get_pointing_icrs(time) instead\n",
      "  pointing  = observations[i].pointing_radec\n",
      "/home/wecapstor1/caph/mppi045h/gammapy/gammapy/data/observations.py:267: GammapyDeprecationWarning: Pointing will be required to be provided as FixedPointingInfo\n",
      "  warnings.warn(\n",
      "/tmp/ipykernel_3967674/3819774325.py:28: GammapyDeprecationWarning: Use observation.get_pointing_icrs(time) instead\n",
      "  reference = MapDataset.create(geom=geom, name='stacked').cutout(position=obs.pointing_radec, width=8.0*max_offset)\n",
      "/home/wecapstor1/caph/mppi045h/anaconda3/envs/gammapy-dev/lib/python3.8/site-packages/astropy/utils/decorators.py:841: GammapyDeprecationWarning: Use observation.pointing or observation.get_pointing_{altaz,icrs} instead\n",
      "  val = self.fget(obj)\n",
      "/home/wecapstor1/caph/mppi045h/anaconda3/envs/gammapy-dev/lib/python3.8/site-packages/astropy/utils/decorators.py:841: GammapyDeprecationWarning: The radec function is deprecated and may be removed in a future version.\n",
      "  val = self.fget(obj)\n"
     ]
    },
    {
     "name": "stdout",
     "output_type": "stream",
     "text": [
      "14\n"
     ]
    },
    {
     "name": "stderr",
     "output_type": "stream",
     "text": [
      "/tmp/ipykernel_3967674/3819774325.py:18: GammapyDeprecationWarning: Use observation.get_pointing_icrs(time) instead\n",
      "  pointing  = observations[i].pointing_radec\n",
      "/home/wecapstor1/caph/mppi045h/gammapy/gammapy/data/observations.py:267: GammapyDeprecationWarning: Pointing will be required to be provided as FixedPointingInfo\n",
      "  warnings.warn(\n",
      "/tmp/ipykernel_3967674/3819774325.py:28: GammapyDeprecationWarning: Use observation.get_pointing_icrs(time) instead\n",
      "  reference = MapDataset.create(geom=geom, name='stacked').cutout(position=obs.pointing_radec, width=8.0*max_offset)\n",
      "/home/wecapstor1/caph/mppi045h/anaconda3/envs/gammapy-dev/lib/python3.8/site-packages/astropy/utils/decorators.py:841: GammapyDeprecationWarning: Use observation.pointing or observation.get_pointing_{altaz,icrs} instead\n",
      "  val = self.fget(obj)\n",
      "/home/wecapstor1/caph/mppi045h/anaconda3/envs/gammapy-dev/lib/python3.8/site-packages/astropy/utils/decorators.py:841: GammapyDeprecationWarning: The radec function is deprecated and may be removed in a future version.\n",
      "  val = self.fget(obj)\n"
     ]
    },
    {
     "name": "stdout",
     "output_type": "stream",
     "text": [
      "15\n"
     ]
    },
    {
     "name": "stderr",
     "output_type": "stream",
     "text": [
      "/tmp/ipykernel_3967674/3819774325.py:18: GammapyDeprecationWarning: Use observation.get_pointing_icrs(time) instead\n",
      "  pointing  = observations[i].pointing_radec\n",
      "/home/wecapstor1/caph/mppi045h/gammapy/gammapy/data/observations.py:267: GammapyDeprecationWarning: Pointing will be required to be provided as FixedPointingInfo\n",
      "  warnings.warn(\n",
      "/tmp/ipykernel_3967674/3819774325.py:28: GammapyDeprecationWarning: Use observation.get_pointing_icrs(time) instead\n",
      "  reference = MapDataset.create(geom=geom, name='stacked').cutout(position=obs.pointing_radec, width=8.0*max_offset)\n",
      "/home/wecapstor1/caph/mppi045h/anaconda3/envs/gammapy-dev/lib/python3.8/site-packages/astropy/utils/decorators.py:841: GammapyDeprecationWarning: Use observation.pointing or observation.get_pointing_{altaz,icrs} instead\n",
      "  val = self.fget(obj)\n",
      "/home/wecapstor1/caph/mppi045h/anaconda3/envs/gammapy-dev/lib/python3.8/site-packages/astropy/utils/decorators.py:841: GammapyDeprecationWarning: The radec function is deprecated and may be removed in a future version.\n",
      "  val = self.fget(obj)\n"
     ]
    },
    {
     "name": "stdout",
     "output_type": "stream",
     "text": [
      "16\n"
     ]
    },
    {
     "name": "stderr",
     "output_type": "stream",
     "text": [
      "/tmp/ipykernel_3967674/3819774325.py:18: GammapyDeprecationWarning: Use observation.get_pointing_icrs(time) instead\n",
      "  pointing  = observations[i].pointing_radec\n",
      "/home/wecapstor1/caph/mppi045h/gammapy/gammapy/data/observations.py:267: GammapyDeprecationWarning: Pointing will be required to be provided as FixedPointingInfo\n",
      "  warnings.warn(\n",
      "/tmp/ipykernel_3967674/3819774325.py:28: GammapyDeprecationWarning: Use observation.get_pointing_icrs(time) instead\n",
      "  reference = MapDataset.create(geom=geom, name='stacked').cutout(position=obs.pointing_radec, width=8.0*max_offset)\n",
      "/home/wecapstor1/caph/mppi045h/anaconda3/envs/gammapy-dev/lib/python3.8/site-packages/astropy/utils/decorators.py:841: GammapyDeprecationWarning: Use observation.pointing or observation.get_pointing_{altaz,icrs} instead\n",
      "  val = self.fget(obj)\n",
      "/home/wecapstor1/caph/mppi045h/anaconda3/envs/gammapy-dev/lib/python3.8/site-packages/astropy/utils/decorators.py:841: GammapyDeprecationWarning: The radec function is deprecated and may be removed in a future version.\n",
      "  val = self.fget(obj)\n"
     ]
    },
    {
     "name": "stdout",
     "output_type": "stream",
     "text": [
      "17\n"
     ]
    },
    {
     "name": "stderr",
     "output_type": "stream",
     "text": [
      "/tmp/ipykernel_3967674/3819774325.py:18: GammapyDeprecationWarning: Use observation.get_pointing_icrs(time) instead\n",
      "  pointing  = observations[i].pointing_radec\n",
      "/home/wecapstor1/caph/mppi045h/gammapy/gammapy/data/observations.py:267: GammapyDeprecationWarning: Pointing will be required to be provided as FixedPointingInfo\n",
      "  warnings.warn(\n",
      "/tmp/ipykernel_3967674/3819774325.py:28: GammapyDeprecationWarning: Use observation.get_pointing_icrs(time) instead\n",
      "  reference = MapDataset.create(geom=geom, name='stacked').cutout(position=obs.pointing_radec, width=8.0*max_offset)\n",
      "/home/wecapstor1/caph/mppi045h/anaconda3/envs/gammapy-dev/lib/python3.8/site-packages/astropy/utils/decorators.py:841: GammapyDeprecationWarning: Use observation.pointing or observation.get_pointing_{altaz,icrs} instead\n",
      "  val = self.fget(obj)\n",
      "/home/wecapstor1/caph/mppi045h/anaconda3/envs/gammapy-dev/lib/python3.8/site-packages/astropy/utils/decorators.py:841: GammapyDeprecationWarning: The radec function is deprecated and may be removed in a future version.\n",
      "  val = self.fget(obj)\n"
     ]
    },
    {
     "name": "stdout",
     "output_type": "stream",
     "text": [
      "18\n"
     ]
    },
    {
     "name": "stderr",
     "output_type": "stream",
     "text": [
      "/tmp/ipykernel_3967674/3819774325.py:18: GammapyDeprecationWarning: Use observation.get_pointing_icrs(time) instead\n",
      "  pointing  = observations[i].pointing_radec\n",
      "/home/wecapstor1/caph/mppi045h/gammapy/gammapy/data/observations.py:267: GammapyDeprecationWarning: Pointing will be required to be provided as FixedPointingInfo\n",
      "  warnings.warn(\n",
      "/tmp/ipykernel_3967674/3819774325.py:28: GammapyDeprecationWarning: Use observation.get_pointing_icrs(time) instead\n",
      "  reference = MapDataset.create(geom=geom, name='stacked').cutout(position=obs.pointing_radec, width=8.0*max_offset)\n",
      "/home/wecapstor1/caph/mppi045h/anaconda3/envs/gammapy-dev/lib/python3.8/site-packages/astropy/utils/decorators.py:841: GammapyDeprecationWarning: Use observation.pointing or observation.get_pointing_{altaz,icrs} instead\n",
      "  val = self.fget(obj)\n",
      "/home/wecapstor1/caph/mppi045h/anaconda3/envs/gammapy-dev/lib/python3.8/site-packages/astropy/utils/decorators.py:841: GammapyDeprecationWarning: The radec function is deprecated and may be removed in a future version.\n",
      "  val = self.fget(obj)\n"
     ]
    },
    {
     "name": "stdout",
     "output_type": "stream",
     "text": [
      "19\n"
     ]
    },
    {
     "name": "stderr",
     "output_type": "stream",
     "text": [
      "/tmp/ipykernel_3967674/3819774325.py:18: GammapyDeprecationWarning: Use observation.get_pointing_icrs(time) instead\n",
      "  pointing  = observations[i].pointing_radec\n",
      "/home/wecapstor1/caph/mppi045h/gammapy/gammapy/data/observations.py:267: GammapyDeprecationWarning: Pointing will be required to be provided as FixedPointingInfo\n",
      "  warnings.warn(\n",
      "/tmp/ipykernel_3967674/3819774325.py:28: GammapyDeprecationWarning: Use observation.get_pointing_icrs(time) instead\n",
      "  reference = MapDataset.create(geom=geom, name='stacked').cutout(position=obs.pointing_radec, width=8.0*max_offset)\n",
      "/home/wecapstor1/caph/mppi045h/anaconda3/envs/gammapy-dev/lib/python3.8/site-packages/astropy/utils/decorators.py:841: GammapyDeprecationWarning: Use observation.pointing or observation.get_pointing_{altaz,icrs} instead\n",
      "  val = self.fget(obj)\n",
      "/home/wecapstor1/caph/mppi045h/anaconda3/envs/gammapy-dev/lib/python3.8/site-packages/astropy/utils/decorators.py:841: GammapyDeprecationWarning: The radec function is deprecated and may be removed in a future version.\n",
      "  val = self.fget(obj)\n"
     ]
    },
    {
     "name": "stdout",
     "output_type": "stream",
     "text": [
      "Livetime:  0.046415888336127774 h\n",
      "0\n"
     ]
    },
    {
     "name": "stderr",
     "output_type": "stream",
     "text": [
      "/tmp/ipykernel_3967674/3819774325.py:18: GammapyDeprecationWarning: Use observation.get_pointing_icrs(time) instead\n",
      "  pointing  = observations[i].pointing_radec\n",
      "/home/wecapstor1/caph/mppi045h/gammapy/gammapy/data/observations.py:267: GammapyDeprecationWarning: Pointing will be required to be provided as FixedPointingInfo\n",
      "  warnings.warn(\n",
      "/tmp/ipykernel_3967674/3819774325.py:28: GammapyDeprecationWarning: Use observation.get_pointing_icrs(time) instead\n",
      "  reference = MapDataset.create(geom=geom, name='stacked').cutout(position=obs.pointing_radec, width=8.0*max_offset)\n",
      "/home/wecapstor1/caph/mppi045h/anaconda3/envs/gammapy-dev/lib/python3.8/site-packages/astropy/utils/decorators.py:841: GammapyDeprecationWarning: Use observation.pointing or observation.get_pointing_{altaz,icrs} instead\n",
      "  val = self.fget(obj)\n",
      "/home/wecapstor1/caph/mppi045h/anaconda3/envs/gammapy-dev/lib/python3.8/site-packages/astropy/utils/decorators.py:841: GammapyDeprecationWarning: The radec function is deprecated and may be removed in a future version.\n",
      "  val = self.fget(obj)\n"
     ]
    },
    {
     "name": "stdout",
     "output_type": "stream",
     "text": [
      "1\n"
     ]
    },
    {
     "name": "stderr",
     "output_type": "stream",
     "text": [
      "/tmp/ipykernel_3967674/3819774325.py:18: GammapyDeprecationWarning: Use observation.get_pointing_icrs(time) instead\n",
      "  pointing  = observations[i].pointing_radec\n",
      "/home/wecapstor1/caph/mppi045h/gammapy/gammapy/data/observations.py:267: GammapyDeprecationWarning: Pointing will be required to be provided as FixedPointingInfo\n",
      "  warnings.warn(\n",
      "/tmp/ipykernel_3967674/3819774325.py:28: GammapyDeprecationWarning: Use observation.get_pointing_icrs(time) instead\n",
      "  reference = MapDataset.create(geom=geom, name='stacked').cutout(position=obs.pointing_radec, width=8.0*max_offset)\n",
      "/home/wecapstor1/caph/mppi045h/anaconda3/envs/gammapy-dev/lib/python3.8/site-packages/astropy/utils/decorators.py:841: GammapyDeprecationWarning: Use observation.pointing or observation.get_pointing_{altaz,icrs} instead\n",
      "  val = self.fget(obj)\n",
      "/home/wecapstor1/caph/mppi045h/anaconda3/envs/gammapy-dev/lib/python3.8/site-packages/astropy/utils/decorators.py:841: GammapyDeprecationWarning: The radec function is deprecated and may be removed in a future version.\n",
      "  val = self.fget(obj)\n"
     ]
    },
    {
     "name": "stdout",
     "output_type": "stream",
     "text": [
      "2\n"
     ]
    },
    {
     "name": "stderr",
     "output_type": "stream",
     "text": [
      "/tmp/ipykernel_3967674/3819774325.py:18: GammapyDeprecationWarning: Use observation.get_pointing_icrs(time) instead\n",
      "  pointing  = observations[i].pointing_radec\n",
      "/home/wecapstor1/caph/mppi045h/gammapy/gammapy/data/observations.py:267: GammapyDeprecationWarning: Pointing will be required to be provided as FixedPointingInfo\n",
      "  warnings.warn(\n",
      "/tmp/ipykernel_3967674/3819774325.py:28: GammapyDeprecationWarning: Use observation.get_pointing_icrs(time) instead\n",
      "  reference = MapDataset.create(geom=geom, name='stacked').cutout(position=obs.pointing_radec, width=8.0*max_offset)\n",
      "/home/wecapstor1/caph/mppi045h/anaconda3/envs/gammapy-dev/lib/python3.8/site-packages/astropy/utils/decorators.py:841: GammapyDeprecationWarning: Use observation.pointing or observation.get_pointing_{altaz,icrs} instead\n",
      "  val = self.fget(obj)\n",
      "/home/wecapstor1/caph/mppi045h/anaconda3/envs/gammapy-dev/lib/python3.8/site-packages/astropy/utils/decorators.py:841: GammapyDeprecationWarning: The radec function is deprecated and may be removed in a future version.\n",
      "  val = self.fget(obj)\n"
     ]
    },
    {
     "name": "stdout",
     "output_type": "stream",
     "text": [
      "3\n"
     ]
    },
    {
     "name": "stderr",
     "output_type": "stream",
     "text": [
      "/tmp/ipykernel_3967674/3819774325.py:18: GammapyDeprecationWarning: Use observation.get_pointing_icrs(time) instead\n",
      "  pointing  = observations[i].pointing_radec\n",
      "/home/wecapstor1/caph/mppi045h/gammapy/gammapy/data/observations.py:267: GammapyDeprecationWarning: Pointing will be required to be provided as FixedPointingInfo\n",
      "  warnings.warn(\n",
      "/tmp/ipykernel_3967674/3819774325.py:28: GammapyDeprecationWarning: Use observation.get_pointing_icrs(time) instead\n",
      "  reference = MapDataset.create(geom=geom, name='stacked').cutout(position=obs.pointing_radec, width=8.0*max_offset)\n",
      "/home/wecapstor1/caph/mppi045h/anaconda3/envs/gammapy-dev/lib/python3.8/site-packages/astropy/utils/decorators.py:841: GammapyDeprecationWarning: Use observation.pointing or observation.get_pointing_{altaz,icrs} instead\n",
      "  val = self.fget(obj)\n",
      "/home/wecapstor1/caph/mppi045h/anaconda3/envs/gammapy-dev/lib/python3.8/site-packages/astropy/utils/decorators.py:841: GammapyDeprecationWarning: The radec function is deprecated and may be removed in a future version.\n",
      "  val = self.fget(obj)\n"
     ]
    },
    {
     "name": "stdout",
     "output_type": "stream",
     "text": [
      "4\n"
     ]
    },
    {
     "name": "stderr",
     "output_type": "stream",
     "text": [
      "/tmp/ipykernel_3967674/3819774325.py:18: GammapyDeprecationWarning: Use observation.get_pointing_icrs(time) instead\n",
      "  pointing  = observations[i].pointing_radec\n",
      "/home/wecapstor1/caph/mppi045h/gammapy/gammapy/data/observations.py:267: GammapyDeprecationWarning: Pointing will be required to be provided as FixedPointingInfo\n",
      "  warnings.warn(\n",
      "/tmp/ipykernel_3967674/3819774325.py:28: GammapyDeprecationWarning: Use observation.get_pointing_icrs(time) instead\n",
      "  reference = MapDataset.create(geom=geom, name='stacked').cutout(position=obs.pointing_radec, width=8.0*max_offset)\n",
      "/home/wecapstor1/caph/mppi045h/anaconda3/envs/gammapy-dev/lib/python3.8/site-packages/astropy/utils/decorators.py:841: GammapyDeprecationWarning: Use observation.pointing or observation.get_pointing_{altaz,icrs} instead\n",
      "  val = self.fget(obj)\n",
      "/home/wecapstor1/caph/mppi045h/anaconda3/envs/gammapy-dev/lib/python3.8/site-packages/astropy/utils/decorators.py:841: GammapyDeprecationWarning: The radec function is deprecated and may be removed in a future version.\n",
      "  val = self.fget(obj)\n"
     ]
    },
    {
     "name": "stdout",
     "output_type": "stream",
     "text": [
      "5\n"
     ]
    },
    {
     "name": "stderr",
     "output_type": "stream",
     "text": [
      "/tmp/ipykernel_3967674/3819774325.py:18: GammapyDeprecationWarning: Use observation.get_pointing_icrs(time) instead\n",
      "  pointing  = observations[i].pointing_radec\n",
      "/home/wecapstor1/caph/mppi045h/gammapy/gammapy/data/observations.py:267: GammapyDeprecationWarning: Pointing will be required to be provided as FixedPointingInfo\n",
      "  warnings.warn(\n",
      "/tmp/ipykernel_3967674/3819774325.py:28: GammapyDeprecationWarning: Use observation.get_pointing_icrs(time) instead\n",
      "  reference = MapDataset.create(geom=geom, name='stacked').cutout(position=obs.pointing_radec, width=8.0*max_offset)\n",
      "/home/wecapstor1/caph/mppi045h/anaconda3/envs/gammapy-dev/lib/python3.8/site-packages/astropy/utils/decorators.py:841: GammapyDeprecationWarning: Use observation.pointing or observation.get_pointing_{altaz,icrs} instead\n",
      "  val = self.fget(obj)\n",
      "/home/wecapstor1/caph/mppi045h/anaconda3/envs/gammapy-dev/lib/python3.8/site-packages/astropy/utils/decorators.py:841: GammapyDeprecationWarning: The radec function is deprecated and may be removed in a future version.\n",
      "  val = self.fget(obj)\n"
     ]
    },
    {
     "name": "stdout",
     "output_type": "stream",
     "text": [
      "6\n"
     ]
    },
    {
     "name": "stderr",
     "output_type": "stream",
     "text": [
      "/tmp/ipykernel_3967674/3819774325.py:18: GammapyDeprecationWarning: Use observation.get_pointing_icrs(time) instead\n",
      "  pointing  = observations[i].pointing_radec\n",
      "/home/wecapstor1/caph/mppi045h/gammapy/gammapy/data/observations.py:267: GammapyDeprecationWarning: Pointing will be required to be provided as FixedPointingInfo\n",
      "  warnings.warn(\n",
      "/tmp/ipykernel_3967674/3819774325.py:28: GammapyDeprecationWarning: Use observation.get_pointing_icrs(time) instead\n",
      "  reference = MapDataset.create(geom=geom, name='stacked').cutout(position=obs.pointing_radec, width=8.0*max_offset)\n",
      "/home/wecapstor1/caph/mppi045h/anaconda3/envs/gammapy-dev/lib/python3.8/site-packages/astropy/utils/decorators.py:841: GammapyDeprecationWarning: Use observation.pointing or observation.get_pointing_{altaz,icrs} instead\n",
      "  val = self.fget(obj)\n",
      "/home/wecapstor1/caph/mppi045h/anaconda3/envs/gammapy-dev/lib/python3.8/site-packages/astropy/utils/decorators.py:841: GammapyDeprecationWarning: The radec function is deprecated and may be removed in a future version.\n",
      "  val = self.fget(obj)\n"
     ]
    },
    {
     "name": "stdout",
     "output_type": "stream",
     "text": [
      "7\n"
     ]
    },
    {
     "name": "stderr",
     "output_type": "stream",
     "text": [
      "/tmp/ipykernel_3967674/3819774325.py:18: GammapyDeprecationWarning: Use observation.get_pointing_icrs(time) instead\n",
      "  pointing  = observations[i].pointing_radec\n",
      "/home/wecapstor1/caph/mppi045h/gammapy/gammapy/data/observations.py:267: GammapyDeprecationWarning: Pointing will be required to be provided as FixedPointingInfo\n",
      "  warnings.warn(\n",
      "/tmp/ipykernel_3967674/3819774325.py:28: GammapyDeprecationWarning: Use observation.get_pointing_icrs(time) instead\n",
      "  reference = MapDataset.create(geom=geom, name='stacked').cutout(position=obs.pointing_radec, width=8.0*max_offset)\n",
      "/home/wecapstor1/caph/mppi045h/anaconda3/envs/gammapy-dev/lib/python3.8/site-packages/astropy/utils/decorators.py:841: GammapyDeprecationWarning: Use observation.pointing or observation.get_pointing_{altaz,icrs} instead\n",
      "  val = self.fget(obj)\n",
      "/home/wecapstor1/caph/mppi045h/anaconda3/envs/gammapy-dev/lib/python3.8/site-packages/astropy/utils/decorators.py:841: GammapyDeprecationWarning: The radec function is deprecated and may be removed in a future version.\n",
      "  val = self.fget(obj)\n"
     ]
    },
    {
     "name": "stdout",
     "output_type": "stream",
     "text": [
      "8\n"
     ]
    },
    {
     "name": "stderr",
     "output_type": "stream",
     "text": [
      "/tmp/ipykernel_3967674/3819774325.py:18: GammapyDeprecationWarning: Use observation.get_pointing_icrs(time) instead\n",
      "  pointing  = observations[i].pointing_radec\n",
      "/home/wecapstor1/caph/mppi045h/gammapy/gammapy/data/observations.py:267: GammapyDeprecationWarning: Pointing will be required to be provided as FixedPointingInfo\n",
      "  warnings.warn(\n",
      "/tmp/ipykernel_3967674/3819774325.py:28: GammapyDeprecationWarning: Use observation.get_pointing_icrs(time) instead\n",
      "  reference = MapDataset.create(geom=geom, name='stacked').cutout(position=obs.pointing_radec, width=8.0*max_offset)\n",
      "/home/wecapstor1/caph/mppi045h/anaconda3/envs/gammapy-dev/lib/python3.8/site-packages/astropy/utils/decorators.py:841: GammapyDeprecationWarning: Use observation.pointing or observation.get_pointing_{altaz,icrs} instead\n",
      "  val = self.fget(obj)\n",
      "/home/wecapstor1/caph/mppi045h/anaconda3/envs/gammapy-dev/lib/python3.8/site-packages/astropy/utils/decorators.py:841: GammapyDeprecationWarning: The radec function is deprecated and may be removed in a future version.\n",
      "  val = self.fget(obj)\n"
     ]
    },
    {
     "name": "stdout",
     "output_type": "stream",
     "text": [
      "9\n"
     ]
    },
    {
     "name": "stderr",
     "output_type": "stream",
     "text": [
      "/tmp/ipykernel_3967674/3819774325.py:18: GammapyDeprecationWarning: Use observation.get_pointing_icrs(time) instead\n",
      "  pointing  = observations[i].pointing_radec\n",
      "/home/wecapstor1/caph/mppi045h/gammapy/gammapy/data/observations.py:267: GammapyDeprecationWarning: Pointing will be required to be provided as FixedPointingInfo\n",
      "  warnings.warn(\n",
      "/tmp/ipykernel_3967674/3819774325.py:28: GammapyDeprecationWarning: Use observation.get_pointing_icrs(time) instead\n",
      "  reference = MapDataset.create(geom=geom, name='stacked').cutout(position=obs.pointing_radec, width=8.0*max_offset)\n",
      "/home/wecapstor1/caph/mppi045h/anaconda3/envs/gammapy-dev/lib/python3.8/site-packages/astropy/utils/decorators.py:841: GammapyDeprecationWarning: Use observation.pointing or observation.get_pointing_{altaz,icrs} instead\n",
      "  val = self.fget(obj)\n",
      "/home/wecapstor1/caph/mppi045h/anaconda3/envs/gammapy-dev/lib/python3.8/site-packages/astropy/utils/decorators.py:841: GammapyDeprecationWarning: The radec function is deprecated and may be removed in a future version.\n",
      "  val = self.fget(obj)\n"
     ]
    },
    {
     "name": "stdout",
     "output_type": "stream",
     "text": [
      "10\n"
     ]
    },
    {
     "name": "stderr",
     "output_type": "stream",
     "text": [
      "/tmp/ipykernel_3967674/3819774325.py:18: GammapyDeprecationWarning: Use observation.get_pointing_icrs(time) instead\n",
      "  pointing  = observations[i].pointing_radec\n",
      "/home/wecapstor1/caph/mppi045h/gammapy/gammapy/data/observations.py:267: GammapyDeprecationWarning: Pointing will be required to be provided as FixedPointingInfo\n",
      "  warnings.warn(\n",
      "/tmp/ipykernel_3967674/3819774325.py:28: GammapyDeprecationWarning: Use observation.get_pointing_icrs(time) instead\n",
      "  reference = MapDataset.create(geom=geom, name='stacked').cutout(position=obs.pointing_radec, width=8.0*max_offset)\n",
      "/home/wecapstor1/caph/mppi045h/anaconda3/envs/gammapy-dev/lib/python3.8/site-packages/astropy/utils/decorators.py:841: GammapyDeprecationWarning: Use observation.pointing or observation.get_pointing_{altaz,icrs} instead\n",
      "  val = self.fget(obj)\n",
      "/home/wecapstor1/caph/mppi045h/anaconda3/envs/gammapy-dev/lib/python3.8/site-packages/astropy/utils/decorators.py:841: GammapyDeprecationWarning: The radec function is deprecated and may be removed in a future version.\n",
      "  val = self.fget(obj)\n"
     ]
    },
    {
     "name": "stdout",
     "output_type": "stream",
     "text": [
      "11\n"
     ]
    },
    {
     "name": "stderr",
     "output_type": "stream",
     "text": [
      "/tmp/ipykernel_3967674/3819774325.py:18: GammapyDeprecationWarning: Use observation.get_pointing_icrs(time) instead\n",
      "  pointing  = observations[i].pointing_radec\n",
      "/home/wecapstor1/caph/mppi045h/gammapy/gammapy/data/observations.py:267: GammapyDeprecationWarning: Pointing will be required to be provided as FixedPointingInfo\n",
      "  warnings.warn(\n",
      "/tmp/ipykernel_3967674/3819774325.py:28: GammapyDeprecationWarning: Use observation.get_pointing_icrs(time) instead\n",
      "  reference = MapDataset.create(geom=geom, name='stacked').cutout(position=obs.pointing_radec, width=8.0*max_offset)\n",
      "/home/wecapstor1/caph/mppi045h/anaconda3/envs/gammapy-dev/lib/python3.8/site-packages/astropy/utils/decorators.py:841: GammapyDeprecationWarning: Use observation.pointing or observation.get_pointing_{altaz,icrs} instead\n",
      "  val = self.fget(obj)\n",
      "/home/wecapstor1/caph/mppi045h/anaconda3/envs/gammapy-dev/lib/python3.8/site-packages/astropy/utils/decorators.py:841: GammapyDeprecationWarning: The radec function is deprecated and may be removed in a future version.\n",
      "  val = self.fget(obj)\n"
     ]
    },
    {
     "name": "stdout",
     "output_type": "stream",
     "text": [
      "12\n"
     ]
    },
    {
     "name": "stderr",
     "output_type": "stream",
     "text": [
      "/tmp/ipykernel_3967674/3819774325.py:18: GammapyDeprecationWarning: Use observation.get_pointing_icrs(time) instead\n",
      "  pointing  = observations[i].pointing_radec\n",
      "/home/wecapstor1/caph/mppi045h/gammapy/gammapy/data/observations.py:267: GammapyDeprecationWarning: Pointing will be required to be provided as FixedPointingInfo\n",
      "  warnings.warn(\n",
      "/tmp/ipykernel_3967674/3819774325.py:28: GammapyDeprecationWarning: Use observation.get_pointing_icrs(time) instead\n",
      "  reference = MapDataset.create(geom=geom, name='stacked').cutout(position=obs.pointing_radec, width=8.0*max_offset)\n",
      "/home/wecapstor1/caph/mppi045h/anaconda3/envs/gammapy-dev/lib/python3.8/site-packages/astropy/utils/decorators.py:841: GammapyDeprecationWarning: Use observation.pointing or observation.get_pointing_{altaz,icrs} instead\n",
      "  val = self.fget(obj)\n",
      "/home/wecapstor1/caph/mppi045h/anaconda3/envs/gammapy-dev/lib/python3.8/site-packages/astropy/utils/decorators.py:841: GammapyDeprecationWarning: The radec function is deprecated and may be removed in a future version.\n",
      "  val = self.fget(obj)\n"
     ]
    },
    {
     "name": "stdout",
     "output_type": "stream",
     "text": [
      "13\n"
     ]
    },
    {
     "name": "stderr",
     "output_type": "stream",
     "text": [
      "/tmp/ipykernel_3967674/3819774325.py:18: GammapyDeprecationWarning: Use observation.get_pointing_icrs(time) instead\n",
      "  pointing  = observations[i].pointing_radec\n",
      "/home/wecapstor1/caph/mppi045h/gammapy/gammapy/data/observations.py:267: GammapyDeprecationWarning: Pointing will be required to be provided as FixedPointingInfo\n",
      "  warnings.warn(\n",
      "/tmp/ipykernel_3967674/3819774325.py:28: GammapyDeprecationWarning: Use observation.get_pointing_icrs(time) instead\n",
      "  reference = MapDataset.create(geom=geom, name='stacked').cutout(position=obs.pointing_radec, width=8.0*max_offset)\n",
      "/home/wecapstor1/caph/mppi045h/anaconda3/envs/gammapy-dev/lib/python3.8/site-packages/astropy/utils/decorators.py:841: GammapyDeprecationWarning: Use observation.pointing or observation.get_pointing_{altaz,icrs} instead\n",
      "  val = self.fget(obj)\n",
      "/home/wecapstor1/caph/mppi045h/anaconda3/envs/gammapy-dev/lib/python3.8/site-packages/astropy/utils/decorators.py:841: GammapyDeprecationWarning: The radec function is deprecated and may be removed in a future version.\n",
      "  val = self.fget(obj)\n"
     ]
    },
    {
     "name": "stdout",
     "output_type": "stream",
     "text": [
      "14\n"
     ]
    },
    {
     "name": "stderr",
     "output_type": "stream",
     "text": [
      "/tmp/ipykernel_3967674/3819774325.py:18: GammapyDeprecationWarning: Use observation.get_pointing_icrs(time) instead\n",
      "  pointing  = observations[i].pointing_radec\n",
      "/home/wecapstor1/caph/mppi045h/gammapy/gammapy/data/observations.py:267: GammapyDeprecationWarning: Pointing will be required to be provided as FixedPointingInfo\n",
      "  warnings.warn(\n",
      "/tmp/ipykernel_3967674/3819774325.py:28: GammapyDeprecationWarning: Use observation.get_pointing_icrs(time) instead\n",
      "  reference = MapDataset.create(geom=geom, name='stacked').cutout(position=obs.pointing_radec, width=8.0*max_offset)\n",
      "/home/wecapstor1/caph/mppi045h/anaconda3/envs/gammapy-dev/lib/python3.8/site-packages/astropy/utils/decorators.py:841: GammapyDeprecationWarning: Use observation.pointing or observation.get_pointing_{altaz,icrs} instead\n",
      "  val = self.fget(obj)\n",
      "/home/wecapstor1/caph/mppi045h/anaconda3/envs/gammapy-dev/lib/python3.8/site-packages/astropy/utils/decorators.py:841: GammapyDeprecationWarning: The radec function is deprecated and may be removed in a future version.\n",
      "  val = self.fget(obj)\n"
     ]
    },
    {
     "name": "stdout",
     "output_type": "stream",
     "text": [
      "15\n"
     ]
    },
    {
     "name": "stderr",
     "output_type": "stream",
     "text": [
      "/tmp/ipykernel_3967674/3819774325.py:18: GammapyDeprecationWarning: Use observation.get_pointing_icrs(time) instead\n",
      "  pointing  = observations[i].pointing_radec\n",
      "/home/wecapstor1/caph/mppi045h/gammapy/gammapy/data/observations.py:267: GammapyDeprecationWarning: Pointing will be required to be provided as FixedPointingInfo\n",
      "  warnings.warn(\n",
      "/tmp/ipykernel_3967674/3819774325.py:28: GammapyDeprecationWarning: Use observation.get_pointing_icrs(time) instead\n",
      "  reference = MapDataset.create(geom=geom, name='stacked').cutout(position=obs.pointing_radec, width=8.0*max_offset)\n",
      "/home/wecapstor1/caph/mppi045h/anaconda3/envs/gammapy-dev/lib/python3.8/site-packages/astropy/utils/decorators.py:841: GammapyDeprecationWarning: Use observation.pointing or observation.get_pointing_{altaz,icrs} instead\n",
      "  val = self.fget(obj)\n",
      "/home/wecapstor1/caph/mppi045h/anaconda3/envs/gammapy-dev/lib/python3.8/site-packages/astropy/utils/decorators.py:841: GammapyDeprecationWarning: The radec function is deprecated and may be removed in a future version.\n",
      "  val = self.fget(obj)\n"
     ]
    },
    {
     "name": "stdout",
     "output_type": "stream",
     "text": [
      "16\n"
     ]
    },
    {
     "name": "stderr",
     "output_type": "stream",
     "text": [
      "/tmp/ipykernel_3967674/3819774325.py:18: GammapyDeprecationWarning: Use observation.get_pointing_icrs(time) instead\n",
      "  pointing  = observations[i].pointing_radec\n",
      "/home/wecapstor1/caph/mppi045h/gammapy/gammapy/data/observations.py:267: GammapyDeprecationWarning: Pointing will be required to be provided as FixedPointingInfo\n",
      "  warnings.warn(\n",
      "/tmp/ipykernel_3967674/3819774325.py:28: GammapyDeprecationWarning: Use observation.get_pointing_icrs(time) instead\n",
      "  reference = MapDataset.create(geom=geom, name='stacked').cutout(position=obs.pointing_radec, width=8.0*max_offset)\n",
      "/home/wecapstor1/caph/mppi045h/anaconda3/envs/gammapy-dev/lib/python3.8/site-packages/astropy/utils/decorators.py:841: GammapyDeprecationWarning: Use observation.pointing or observation.get_pointing_{altaz,icrs} instead\n",
      "  val = self.fget(obj)\n",
      "/home/wecapstor1/caph/mppi045h/anaconda3/envs/gammapy-dev/lib/python3.8/site-packages/astropy/utils/decorators.py:841: GammapyDeprecationWarning: The radec function is deprecated and may be removed in a future version.\n",
      "  val = self.fget(obj)\n"
     ]
    },
    {
     "name": "stdout",
     "output_type": "stream",
     "text": [
      "17\n"
     ]
    },
    {
     "name": "stderr",
     "output_type": "stream",
     "text": [
      "/tmp/ipykernel_3967674/3819774325.py:18: GammapyDeprecationWarning: Use observation.get_pointing_icrs(time) instead\n",
      "  pointing  = observations[i].pointing_radec\n",
      "/home/wecapstor1/caph/mppi045h/gammapy/gammapy/data/observations.py:267: GammapyDeprecationWarning: Pointing will be required to be provided as FixedPointingInfo\n",
      "  warnings.warn(\n",
      "/tmp/ipykernel_3967674/3819774325.py:28: GammapyDeprecationWarning: Use observation.get_pointing_icrs(time) instead\n",
      "  reference = MapDataset.create(geom=geom, name='stacked').cutout(position=obs.pointing_radec, width=8.0*max_offset)\n",
      "/home/wecapstor1/caph/mppi045h/anaconda3/envs/gammapy-dev/lib/python3.8/site-packages/astropy/utils/decorators.py:841: GammapyDeprecationWarning: Use observation.pointing or observation.get_pointing_{altaz,icrs} instead\n",
      "  val = self.fget(obj)\n",
      "/home/wecapstor1/caph/mppi045h/anaconda3/envs/gammapy-dev/lib/python3.8/site-packages/astropy/utils/decorators.py:841: GammapyDeprecationWarning: The radec function is deprecated and may be removed in a future version.\n",
      "  val = self.fget(obj)\n"
     ]
    },
    {
     "name": "stdout",
     "output_type": "stream",
     "text": [
      "18\n"
     ]
    },
    {
     "name": "stderr",
     "output_type": "stream",
     "text": [
      "/tmp/ipykernel_3967674/3819774325.py:18: GammapyDeprecationWarning: Use observation.get_pointing_icrs(time) instead\n",
      "  pointing  = observations[i].pointing_radec\n",
      "/home/wecapstor1/caph/mppi045h/gammapy/gammapy/data/observations.py:267: GammapyDeprecationWarning: Pointing will be required to be provided as FixedPointingInfo\n",
      "  warnings.warn(\n",
      "/tmp/ipykernel_3967674/3819774325.py:28: GammapyDeprecationWarning: Use observation.get_pointing_icrs(time) instead\n",
      "  reference = MapDataset.create(geom=geom, name='stacked').cutout(position=obs.pointing_radec, width=8.0*max_offset)\n",
      "/home/wecapstor1/caph/mppi045h/anaconda3/envs/gammapy-dev/lib/python3.8/site-packages/astropy/utils/decorators.py:841: GammapyDeprecationWarning: Use observation.pointing or observation.get_pointing_{altaz,icrs} instead\n",
      "  val = self.fget(obj)\n",
      "/home/wecapstor1/caph/mppi045h/anaconda3/envs/gammapy-dev/lib/python3.8/site-packages/astropy/utils/decorators.py:841: GammapyDeprecationWarning: The radec function is deprecated and may be removed in a future version.\n",
      "  val = self.fget(obj)\n"
     ]
    },
    {
     "name": "stdout",
     "output_type": "stream",
     "text": [
      "19\n"
     ]
    },
    {
     "name": "stderr",
     "output_type": "stream",
     "text": [
      "/tmp/ipykernel_3967674/3819774325.py:18: GammapyDeprecationWarning: Use observation.get_pointing_icrs(time) instead\n",
      "  pointing  = observations[i].pointing_radec\n",
      "/home/wecapstor1/caph/mppi045h/gammapy/gammapy/data/observations.py:267: GammapyDeprecationWarning: Pointing will be required to be provided as FixedPointingInfo\n",
      "  warnings.warn(\n",
      "/tmp/ipykernel_3967674/3819774325.py:28: GammapyDeprecationWarning: Use observation.get_pointing_icrs(time) instead\n",
      "  reference = MapDataset.create(geom=geom, name='stacked').cutout(position=obs.pointing_radec, width=8.0*max_offset)\n",
      "/home/wecapstor1/caph/mppi045h/anaconda3/envs/gammapy-dev/lib/python3.8/site-packages/astropy/utils/decorators.py:841: GammapyDeprecationWarning: Use observation.pointing or observation.get_pointing_{altaz,icrs} instead\n",
      "  val = self.fget(obj)\n",
      "/home/wecapstor1/caph/mppi045h/anaconda3/envs/gammapy-dev/lib/python3.8/site-packages/astropy/utils/decorators.py:841: GammapyDeprecationWarning: The radec function is deprecated and may be removed in a future version.\n",
      "  val = self.fget(obj)\n"
     ]
    },
    {
     "name": "stdout",
     "output_type": "stream",
     "text": [
      "Livetime:  0.1 h\n",
      "0\n"
     ]
    },
    {
     "name": "stderr",
     "output_type": "stream",
     "text": [
      "/tmp/ipykernel_3967674/3819774325.py:18: GammapyDeprecationWarning: Use observation.get_pointing_icrs(time) instead\n",
      "  pointing  = observations[i].pointing_radec\n",
      "/home/wecapstor1/caph/mppi045h/gammapy/gammapy/data/observations.py:267: GammapyDeprecationWarning: Pointing will be required to be provided as FixedPointingInfo\n",
      "  warnings.warn(\n",
      "/tmp/ipykernel_3967674/3819774325.py:28: GammapyDeprecationWarning: Use observation.get_pointing_icrs(time) instead\n",
      "  reference = MapDataset.create(geom=geom, name='stacked').cutout(position=obs.pointing_radec, width=8.0*max_offset)\n",
      "/home/wecapstor1/caph/mppi045h/anaconda3/envs/gammapy-dev/lib/python3.8/site-packages/astropy/utils/decorators.py:841: GammapyDeprecationWarning: Use observation.pointing or observation.get_pointing_{altaz,icrs} instead\n",
      "  val = self.fget(obj)\n",
      "/home/wecapstor1/caph/mppi045h/anaconda3/envs/gammapy-dev/lib/python3.8/site-packages/astropy/utils/decorators.py:841: GammapyDeprecationWarning: The radec function is deprecated and may be removed in a future version.\n",
      "  val = self.fget(obj)\n"
     ]
    },
    {
     "name": "stdout",
     "output_type": "stream",
     "text": [
      "1\n"
     ]
    },
    {
     "name": "stderr",
     "output_type": "stream",
     "text": [
      "/tmp/ipykernel_3967674/3819774325.py:18: GammapyDeprecationWarning: Use observation.get_pointing_icrs(time) instead\n",
      "  pointing  = observations[i].pointing_radec\n",
      "/home/wecapstor1/caph/mppi045h/gammapy/gammapy/data/observations.py:267: GammapyDeprecationWarning: Pointing will be required to be provided as FixedPointingInfo\n",
      "  warnings.warn(\n",
      "/tmp/ipykernel_3967674/3819774325.py:28: GammapyDeprecationWarning: Use observation.get_pointing_icrs(time) instead\n",
      "  reference = MapDataset.create(geom=geom, name='stacked').cutout(position=obs.pointing_radec, width=8.0*max_offset)\n",
      "/home/wecapstor1/caph/mppi045h/anaconda3/envs/gammapy-dev/lib/python3.8/site-packages/astropy/utils/decorators.py:841: GammapyDeprecationWarning: Use observation.pointing or observation.get_pointing_{altaz,icrs} instead\n",
      "  val = self.fget(obj)\n",
      "/home/wecapstor1/caph/mppi045h/anaconda3/envs/gammapy-dev/lib/python3.8/site-packages/astropy/utils/decorators.py:841: GammapyDeprecationWarning: The radec function is deprecated and may be removed in a future version.\n",
      "  val = self.fget(obj)\n"
     ]
    },
    {
     "name": "stdout",
     "output_type": "stream",
     "text": [
      "2\n"
     ]
    },
    {
     "name": "stderr",
     "output_type": "stream",
     "text": [
      "/tmp/ipykernel_3967674/3819774325.py:18: GammapyDeprecationWarning: Use observation.get_pointing_icrs(time) instead\n",
      "  pointing  = observations[i].pointing_radec\n",
      "/home/wecapstor1/caph/mppi045h/gammapy/gammapy/data/observations.py:267: GammapyDeprecationWarning: Pointing will be required to be provided as FixedPointingInfo\n",
      "  warnings.warn(\n",
      "/tmp/ipykernel_3967674/3819774325.py:28: GammapyDeprecationWarning: Use observation.get_pointing_icrs(time) instead\n",
      "  reference = MapDataset.create(geom=geom, name='stacked').cutout(position=obs.pointing_radec, width=8.0*max_offset)\n",
      "/home/wecapstor1/caph/mppi045h/anaconda3/envs/gammapy-dev/lib/python3.8/site-packages/astropy/utils/decorators.py:841: GammapyDeprecationWarning: Use observation.pointing or observation.get_pointing_{altaz,icrs} instead\n",
      "  val = self.fget(obj)\n",
      "/home/wecapstor1/caph/mppi045h/anaconda3/envs/gammapy-dev/lib/python3.8/site-packages/astropy/utils/decorators.py:841: GammapyDeprecationWarning: The radec function is deprecated and may be removed in a future version.\n",
      "  val = self.fget(obj)\n"
     ]
    },
    {
     "name": "stdout",
     "output_type": "stream",
     "text": [
      "3\n"
     ]
    },
    {
     "name": "stderr",
     "output_type": "stream",
     "text": [
      "/tmp/ipykernel_3967674/3819774325.py:18: GammapyDeprecationWarning: Use observation.get_pointing_icrs(time) instead\n",
      "  pointing  = observations[i].pointing_radec\n",
      "/home/wecapstor1/caph/mppi045h/gammapy/gammapy/data/observations.py:267: GammapyDeprecationWarning: Pointing will be required to be provided as FixedPointingInfo\n",
      "  warnings.warn(\n",
      "/tmp/ipykernel_3967674/3819774325.py:28: GammapyDeprecationWarning: Use observation.get_pointing_icrs(time) instead\n",
      "  reference = MapDataset.create(geom=geom, name='stacked').cutout(position=obs.pointing_radec, width=8.0*max_offset)\n",
      "/home/wecapstor1/caph/mppi045h/anaconda3/envs/gammapy-dev/lib/python3.8/site-packages/astropy/utils/decorators.py:841: GammapyDeprecationWarning: Use observation.pointing or observation.get_pointing_{altaz,icrs} instead\n",
      "  val = self.fget(obj)\n",
      "/home/wecapstor1/caph/mppi045h/anaconda3/envs/gammapy-dev/lib/python3.8/site-packages/astropy/utils/decorators.py:841: GammapyDeprecationWarning: The radec function is deprecated and may be removed in a future version.\n",
      "  val = self.fget(obj)\n"
     ]
    },
    {
     "name": "stdout",
     "output_type": "stream",
     "text": [
      "4\n"
     ]
    },
    {
     "name": "stderr",
     "output_type": "stream",
     "text": [
      "/tmp/ipykernel_3967674/3819774325.py:18: GammapyDeprecationWarning: Use observation.get_pointing_icrs(time) instead\n",
      "  pointing  = observations[i].pointing_radec\n",
      "/home/wecapstor1/caph/mppi045h/gammapy/gammapy/data/observations.py:267: GammapyDeprecationWarning: Pointing will be required to be provided as FixedPointingInfo\n",
      "  warnings.warn(\n",
      "/tmp/ipykernel_3967674/3819774325.py:28: GammapyDeprecationWarning: Use observation.get_pointing_icrs(time) instead\n",
      "  reference = MapDataset.create(geom=geom, name='stacked').cutout(position=obs.pointing_radec, width=8.0*max_offset)\n",
      "/home/wecapstor1/caph/mppi045h/anaconda3/envs/gammapy-dev/lib/python3.8/site-packages/astropy/utils/decorators.py:841: GammapyDeprecationWarning: Use observation.pointing or observation.get_pointing_{altaz,icrs} instead\n",
      "  val = self.fget(obj)\n",
      "/home/wecapstor1/caph/mppi045h/anaconda3/envs/gammapy-dev/lib/python3.8/site-packages/astropy/utils/decorators.py:841: GammapyDeprecationWarning: The radec function is deprecated and may be removed in a future version.\n",
      "  val = self.fget(obj)\n"
     ]
    },
    {
     "name": "stdout",
     "output_type": "stream",
     "text": [
      "5\n"
     ]
    },
    {
     "name": "stderr",
     "output_type": "stream",
     "text": [
      "/tmp/ipykernel_3967674/3819774325.py:18: GammapyDeprecationWarning: Use observation.get_pointing_icrs(time) instead\n",
      "  pointing  = observations[i].pointing_radec\n",
      "/home/wecapstor1/caph/mppi045h/gammapy/gammapy/data/observations.py:267: GammapyDeprecationWarning: Pointing will be required to be provided as FixedPointingInfo\n",
      "  warnings.warn(\n",
      "/tmp/ipykernel_3967674/3819774325.py:28: GammapyDeprecationWarning: Use observation.get_pointing_icrs(time) instead\n",
      "  reference = MapDataset.create(geom=geom, name='stacked').cutout(position=obs.pointing_radec, width=8.0*max_offset)\n",
      "/home/wecapstor1/caph/mppi045h/anaconda3/envs/gammapy-dev/lib/python3.8/site-packages/astropy/utils/decorators.py:841: GammapyDeprecationWarning: Use observation.pointing or observation.get_pointing_{altaz,icrs} instead\n",
      "  val = self.fget(obj)\n",
      "/home/wecapstor1/caph/mppi045h/anaconda3/envs/gammapy-dev/lib/python3.8/site-packages/astropy/utils/decorators.py:841: GammapyDeprecationWarning: The radec function is deprecated and may be removed in a future version.\n",
      "  val = self.fget(obj)\n"
     ]
    },
    {
     "name": "stdout",
     "output_type": "stream",
     "text": [
      "6\n"
     ]
    },
    {
     "name": "stderr",
     "output_type": "stream",
     "text": [
      "/tmp/ipykernel_3967674/3819774325.py:18: GammapyDeprecationWarning: Use observation.get_pointing_icrs(time) instead\n",
      "  pointing  = observations[i].pointing_radec\n",
      "/home/wecapstor1/caph/mppi045h/gammapy/gammapy/data/observations.py:267: GammapyDeprecationWarning: Pointing will be required to be provided as FixedPointingInfo\n",
      "  warnings.warn(\n",
      "/tmp/ipykernel_3967674/3819774325.py:28: GammapyDeprecationWarning: Use observation.get_pointing_icrs(time) instead\n",
      "  reference = MapDataset.create(geom=geom, name='stacked').cutout(position=obs.pointing_radec, width=8.0*max_offset)\n",
      "/home/wecapstor1/caph/mppi045h/anaconda3/envs/gammapy-dev/lib/python3.8/site-packages/astropy/utils/decorators.py:841: GammapyDeprecationWarning: Use observation.pointing or observation.get_pointing_{altaz,icrs} instead\n",
      "  val = self.fget(obj)\n",
      "/home/wecapstor1/caph/mppi045h/anaconda3/envs/gammapy-dev/lib/python3.8/site-packages/astropy/utils/decorators.py:841: GammapyDeprecationWarning: The radec function is deprecated and may be removed in a future version.\n",
      "  val = self.fget(obj)\n"
     ]
    },
    {
     "name": "stdout",
     "output_type": "stream",
     "text": [
      "7\n"
     ]
    },
    {
     "name": "stderr",
     "output_type": "stream",
     "text": [
      "/tmp/ipykernel_3967674/3819774325.py:18: GammapyDeprecationWarning: Use observation.get_pointing_icrs(time) instead\n",
      "  pointing  = observations[i].pointing_radec\n",
      "/home/wecapstor1/caph/mppi045h/gammapy/gammapy/data/observations.py:267: GammapyDeprecationWarning: Pointing will be required to be provided as FixedPointingInfo\n",
      "  warnings.warn(\n",
      "/tmp/ipykernel_3967674/3819774325.py:28: GammapyDeprecationWarning: Use observation.get_pointing_icrs(time) instead\n",
      "  reference = MapDataset.create(geom=geom, name='stacked').cutout(position=obs.pointing_radec, width=8.0*max_offset)\n",
      "/home/wecapstor1/caph/mppi045h/anaconda3/envs/gammapy-dev/lib/python3.8/site-packages/astropy/utils/decorators.py:841: GammapyDeprecationWarning: Use observation.pointing or observation.get_pointing_{altaz,icrs} instead\n",
      "  val = self.fget(obj)\n",
      "/home/wecapstor1/caph/mppi045h/anaconda3/envs/gammapy-dev/lib/python3.8/site-packages/astropy/utils/decorators.py:841: GammapyDeprecationWarning: The radec function is deprecated and may be removed in a future version.\n",
      "  val = self.fget(obj)\n"
     ]
    },
    {
     "name": "stdout",
     "output_type": "stream",
     "text": [
      "8\n"
     ]
    },
    {
     "name": "stderr",
     "output_type": "stream",
     "text": [
      "/tmp/ipykernel_3967674/3819774325.py:18: GammapyDeprecationWarning: Use observation.get_pointing_icrs(time) instead\n",
      "  pointing  = observations[i].pointing_radec\n",
      "/home/wecapstor1/caph/mppi045h/gammapy/gammapy/data/observations.py:267: GammapyDeprecationWarning: Pointing will be required to be provided as FixedPointingInfo\n",
      "  warnings.warn(\n",
      "/tmp/ipykernel_3967674/3819774325.py:28: GammapyDeprecationWarning: Use observation.get_pointing_icrs(time) instead\n",
      "  reference = MapDataset.create(geom=geom, name='stacked').cutout(position=obs.pointing_radec, width=8.0*max_offset)\n",
      "/home/wecapstor1/caph/mppi045h/anaconda3/envs/gammapy-dev/lib/python3.8/site-packages/astropy/utils/decorators.py:841: GammapyDeprecationWarning: Use observation.pointing or observation.get_pointing_{altaz,icrs} instead\n",
      "  val = self.fget(obj)\n",
      "/home/wecapstor1/caph/mppi045h/anaconda3/envs/gammapy-dev/lib/python3.8/site-packages/astropy/utils/decorators.py:841: GammapyDeprecationWarning: The radec function is deprecated and may be removed in a future version.\n",
      "  val = self.fget(obj)\n"
     ]
    },
    {
     "name": "stdout",
     "output_type": "stream",
     "text": [
      "9\n"
     ]
    },
    {
     "name": "stderr",
     "output_type": "stream",
     "text": [
      "/tmp/ipykernel_3967674/3819774325.py:18: GammapyDeprecationWarning: Use observation.get_pointing_icrs(time) instead\n",
      "  pointing  = observations[i].pointing_radec\n",
      "/home/wecapstor1/caph/mppi045h/gammapy/gammapy/data/observations.py:267: GammapyDeprecationWarning: Pointing will be required to be provided as FixedPointingInfo\n",
      "  warnings.warn(\n",
      "/tmp/ipykernel_3967674/3819774325.py:28: GammapyDeprecationWarning: Use observation.get_pointing_icrs(time) instead\n",
      "  reference = MapDataset.create(geom=geom, name='stacked').cutout(position=obs.pointing_radec, width=8.0*max_offset)\n",
      "/home/wecapstor1/caph/mppi045h/anaconda3/envs/gammapy-dev/lib/python3.8/site-packages/astropy/utils/decorators.py:841: GammapyDeprecationWarning: Use observation.pointing or observation.get_pointing_{altaz,icrs} instead\n",
      "  val = self.fget(obj)\n",
      "/home/wecapstor1/caph/mppi045h/anaconda3/envs/gammapy-dev/lib/python3.8/site-packages/astropy/utils/decorators.py:841: GammapyDeprecationWarning: The radec function is deprecated and may be removed in a future version.\n",
      "  val = self.fget(obj)\n"
     ]
    },
    {
     "ename": "MemoryError",
     "evalue": "Unable to allocate 45.8 MiB for an array with shape (24, 500, 500) and data type float64",
     "output_type": "error",
     "traceback": [
      "\u001b[0;31m---------------------------------------------------------------------------\u001b[0m",
      "\u001b[0;31mMemoryError\u001b[0m                               Traceback (most recent call last)",
      "File \u001b[0;32m<timed exec>:5\u001b[0m\n",
      "Cell \u001b[0;32mIn[12], line 30\u001b[0m, in \u001b[0;36mcreate\u001b[0;34m(factors)\u001b[0m\n\u001b[1;32m     27\u001b[0m maker_safe_mask \u001b[38;5;241m=\u001b[39m SafeMaskMaker(methods\u001b[38;5;241m=\u001b[39m[\u001b[38;5;124m\"\u001b[39m\u001b[38;5;124moffset-max\u001b[39m\u001b[38;5;124m\"\u001b[39m], offset_max\u001b[38;5;241m=\u001b[39m\u001b[38;5;241m4.0\u001b[39m \u001b[38;5;241m*\u001b[39m u\u001b[38;5;241m.\u001b[39mdeg)\n\u001b[1;32m     28\u001b[0m reference \u001b[38;5;241m=\u001b[39m MapDataset\u001b[38;5;241m.\u001b[39mcreate(geom\u001b[38;5;241m=\u001b[39mgeom, name\u001b[38;5;241m=\u001b[39m\u001b[38;5;124m'\u001b[39m\u001b[38;5;124mstacked\u001b[39m\u001b[38;5;124m'\u001b[39m)\u001b[38;5;241m.\u001b[39mcutout(position\u001b[38;5;241m=\u001b[39mobs\u001b[38;5;241m.\u001b[39mpointing_radec, width\u001b[38;5;241m=\u001b[39m\u001b[38;5;241m8.0\u001b[39m\u001b[38;5;241m*\u001b[39mmax_offset)    \n\u001b[0;32m---> 30\u001b[0m dataset \u001b[38;5;241m=\u001b[39m \u001b[43mmaker\u001b[49m\u001b[38;5;241;43m.\u001b[39;49m\u001b[43mrun\u001b[49m\u001b[43m(\u001b[49m\u001b[43mreference\u001b[49m\u001b[43m,\u001b[49m\u001b[43m \u001b[49m\u001b[43mobs\u001b[49m\u001b[43m)\u001b[49m\n\u001b[1;32m     31\u001b[0m dataset \u001b[38;5;241m=\u001b[39m maker_safe_mask\u001b[38;5;241m.\u001b[39mrun(dataset, obs)\n\u001b[1;32m     33\u001b[0m dataset\u001b[38;5;241m.\u001b[39mcounts\u001b[38;5;241m.\u001b[39mdata \u001b[38;5;241m=\u001b[39m dataset\u001b[38;5;241m.\u001b[39mcounts\u001b[38;5;241m.\u001b[39mdata\u001b[38;5;241m.\u001b[39mastype(np\u001b[38;5;241m.\u001b[39mfloat32)\n",
      "File \u001b[0;32m/home/wecapstor1/caph/mppi045h/gammapy/gammapy/makers/map.py:391\u001b[0m, in \u001b[0;36mMapDatasetMaker.run\u001b[0;34m(self, dataset, observation)\u001b[0m\n\u001b[1;32m    388\u001b[0m     kwargs[\u001b[38;5;124m\"\u001b[39m\u001b[38;5;124mexposure\u001b[39m\u001b[38;5;124m\"\u001b[39m] \u001b[38;5;241m=\u001b[39m exposure\n\u001b[1;32m    390\u001b[0m \u001b[38;5;28;01mif\u001b[39;00m \u001b[38;5;124m\"\u001b[39m\u001b[38;5;124mbackground\u001b[39m\u001b[38;5;124m\"\u001b[39m \u001b[38;5;129;01min\u001b[39;00m \u001b[38;5;28mself\u001b[39m\u001b[38;5;241m.\u001b[39mselection:\n\u001b[0;32m--> 391\u001b[0m     kwargs[\u001b[38;5;124m\"\u001b[39m\u001b[38;5;124mbackground\u001b[39m\u001b[38;5;124m\"\u001b[39m] \u001b[38;5;241m=\u001b[39m \u001b[38;5;28;43mself\u001b[39;49m\u001b[38;5;241;43m.\u001b[39;49m\u001b[43mmake_background\u001b[49m\u001b[43m(\u001b[49m\n\u001b[1;32m    392\u001b[0m \u001b[43m        \u001b[49m\u001b[43mdataset\u001b[49m\u001b[38;5;241;43m.\u001b[39;49m\u001b[43mcounts\u001b[49m\u001b[38;5;241;43m.\u001b[39;49m\u001b[43mgeom\u001b[49m\u001b[43m,\u001b[49m\u001b[43m \u001b[49m\u001b[43mobservation\u001b[49m\n\u001b[1;32m    393\u001b[0m \u001b[43m    \u001b[49m\u001b[43m)\u001b[49m\n\u001b[1;32m    395\u001b[0m \u001b[38;5;28;01mif\u001b[39;00m \u001b[38;5;124m\"\u001b[39m\u001b[38;5;124mpsf\u001b[39m\u001b[38;5;124m\"\u001b[39m \u001b[38;5;129;01min\u001b[39;00m \u001b[38;5;28mself\u001b[39m\u001b[38;5;241m.\u001b[39mselection:\n\u001b[1;32m    396\u001b[0m     psf \u001b[38;5;241m=\u001b[39m \u001b[38;5;28mself\u001b[39m\u001b[38;5;241m.\u001b[39mmake_psf(dataset\u001b[38;5;241m.\u001b[39mpsf\u001b[38;5;241m.\u001b[39mpsf_map\u001b[38;5;241m.\u001b[39mgeom, observation)\n",
      "File \u001b[0;32m/home/wecapstor1/caph/mppi045h/gammapy/gammapy/makers/map.py:218\u001b[0m, in \u001b[0;36mMapDatasetMaker.make_background\u001b[0;34m(self, geom, observation)\u001b[0m\n\u001b[1;32m    215\u001b[0m bkg \u001b[38;5;241m=\u001b[39m observation\u001b[38;5;241m.\u001b[39mbkg\n\u001b[1;32m    217\u001b[0m \u001b[38;5;28;01mif\u001b[39;00m \u001b[38;5;28misinstance\u001b[39m(bkg, Map):\n\u001b[0;32m--> 218\u001b[0m     \u001b[38;5;28;01mreturn\u001b[39;00m \u001b[43mbkg\u001b[49m\u001b[38;5;241;43m.\u001b[39;49m\u001b[43minterp_to_geom\u001b[49m\u001b[43m(\u001b[49m\u001b[43mgeom\u001b[49m\u001b[38;5;241;43m=\u001b[39;49m\u001b[43mgeom\u001b[49m\u001b[43m,\u001b[49m\u001b[43m \u001b[49m\u001b[43mpreserve_counts\u001b[49m\u001b[38;5;241;43m=\u001b[39;49m\u001b[38;5;28;43;01mTrue\u001b[39;49;00m\u001b[43m)\u001b[49m\n\u001b[1;32m    220\u001b[0m use_region_center \u001b[38;5;241m=\u001b[39m \u001b[38;5;28mgetattr\u001b[39m(\u001b[38;5;28mself\u001b[39m, \u001b[38;5;124m\"\u001b[39m\u001b[38;5;124muse_region_center\u001b[39m\u001b[38;5;124m\"\u001b[39m, \u001b[38;5;28;01mTrue\u001b[39;00m)\n\u001b[1;32m    222\u001b[0m \u001b[38;5;28;01mif\u001b[39;00m \u001b[38;5;28mself\u001b[39m\u001b[38;5;241m.\u001b[39mbackground_interp_missing_data:\n",
      "File \u001b[0;32m/home/wecapstor1/caph/mppi045h/gammapy/gammapy/maps/core.py:1035\u001b[0m, in \u001b[0;36mMap.interp_to_geom\u001b[0;34m(self, geom, preserve_counts, fill_value, **kwargs)\u001b[0m\n\u001b[1;32m   1030\u001b[0m     \u001b[38;5;28;01mif\u001b[39;00m geom\u001b[38;5;241m.\u001b[39mndim \u001b[38;5;241m>\u001b[39m \u001b[38;5;241m2\u001b[39m \u001b[38;5;129;01mand\u001b[39;00m geom\u001b[38;5;241m.\u001b[39maxes[\u001b[38;5;241m0\u001b[39m] \u001b[38;5;241m!=\u001b[39m \u001b[38;5;28mself\u001b[39m\u001b[38;5;241m.\u001b[39mgeom\u001b[38;5;241m.\u001b[39maxes[\u001b[38;5;241m0\u001b[39m]:\n\u001b[1;32m   1031\u001b[0m         \u001b[38;5;28;01mraise\u001b[39;00m \u001b[38;5;167;01mValueError\u001b[39;00m(\n\u001b[1;32m   1032\u001b[0m             \u001b[38;5;124mf\u001b[39m\u001b[38;5;124m\"\u001b[39m\u001b[38;5;124mEnergy axes do not match, expected: \u001b[39m\u001b[38;5;130;01m\\n\u001b[39;00m\u001b[38;5;124m \u001b[39m\u001b[38;5;132;01m{\u001b[39;00m\u001b[38;5;28mself\u001b[39m\u001b[38;5;241m.\u001b[39mgeom\u001b[38;5;241m.\u001b[39maxes[\u001b[38;5;241m0\u001b[39m]\u001b[38;5;132;01m}\u001b[39;00m\u001b[38;5;124m,\u001b[39m\u001b[38;5;124m\"\u001b[39m\n\u001b[1;32m   1033\u001b[0m             \u001b[38;5;124mf\u001b[39m\u001b[38;5;124m\"\u001b[39m\u001b[38;5;124m but got: \u001b[39m\u001b[38;5;130;01m\\n\u001b[39;00m\u001b[38;5;124m \u001b[39m\u001b[38;5;132;01m{\u001b[39;00mgeom\u001b[38;5;241m.\u001b[39maxes[\u001b[38;5;241m0\u001b[39m]\u001b[38;5;132;01m}\u001b[39;00m\u001b[38;5;124m.\u001b[39m\u001b[38;5;124m\"\u001b[39m\n\u001b[1;32m   1034\u001b[0m         )\n\u001b[0;32m-> 1035\u001b[0m     map_copy\u001b[38;5;241m.\u001b[39mdata \u001b[38;5;241m/\u001b[39m\u001b[38;5;241m=\u001b[39m \u001b[43mmap_copy\u001b[49m\u001b[38;5;241;43m.\u001b[39;49m\u001b[43mgeom\u001b[49m\u001b[38;5;241;43m.\u001b[39;49m\u001b[43msolid_angle\u001b[49m\u001b[43m(\u001b[49m\u001b[43m)\u001b[49m\u001b[38;5;241m.\u001b[39mto_value(\u001b[38;5;124m\"\u001b[39m\u001b[38;5;124mdeg2\u001b[39m\u001b[38;5;124m\"\u001b[39m)\n\u001b[1;32m   1037\u001b[0m \u001b[38;5;28;01mif\u001b[39;00m map_copy\u001b[38;5;241m.\u001b[39mis_mask:\n\u001b[1;32m   1038\u001b[0m     \u001b[38;5;66;03m# TODO: check this NaN handling is needed\u001b[39;00m\n\u001b[1;32m   1039\u001b[0m     data \u001b[38;5;241m=\u001b[39m map_copy\u001b[38;5;241m.\u001b[39mget_by_coord(coords)\n",
      "File \u001b[0;32m/home/wecapstor1/caph/mppi045h/gammapy/gammapy/maps/wcs/geom.py:805\u001b[0m, in \u001b[0;36mWcsGeom.solid_angle\u001b[0;34m(self)\u001b[0m\n\u001b[1;32m    796\u001b[0m \u001b[38;5;28;01mdef\u001b[39;00m \u001b[38;5;21msolid_angle\u001b[39m(\u001b[38;5;28mself\u001b[39m):\n\u001b[1;32m    797\u001b[0m \u001b[38;5;250m    \u001b[39m\u001b[38;5;124;03m\"\"\"Solid angle array (`~astropy.units.Quantity` in ``sr``).\u001b[39;00m\n\u001b[1;32m    798\u001b[0m \n\u001b[1;32m    799\u001b[0m \u001b[38;5;124;03m    The array has the same dimension as the WcsGeom object.\u001b[39;00m\n\u001b[0;32m   (...)\u001b[0m\n\u001b[1;32m    803\u001b[0m \u001b[38;5;124;03m         WcsGeom.to_image().solid_angle()\u001b[39;00m\n\u001b[1;32m    804\u001b[0m \u001b[38;5;124;03m    \"\"\"\u001b[39;00m\n\u001b[0;32m--> 805\u001b[0m     \u001b[38;5;28;01mreturn\u001b[39;00m \u001b[38;5;28;43mself\u001b[39;49m\u001b[38;5;241;43m.\u001b[39;49m\u001b[43m_solid_angle\u001b[49m\n",
      "File \u001b[0;32m/home/wecapstor1/caph/mppi045h/anaconda3/envs/gammapy-dev/lib/python3.8/site-packages/astropy/utils/decorators.py:841\u001b[0m, in \u001b[0;36mlazyproperty.__get__\u001b[0;34m(self, obj, owner)\u001b[0m\n\u001b[1;32m    839\u001b[0m         val \u001b[38;5;241m=\u001b[39m obj_dict\u001b[38;5;241m.\u001b[39mget(\u001b[38;5;28mself\u001b[39m\u001b[38;5;241m.\u001b[39m_key, _NotFound)\n\u001b[1;32m    840\u001b[0m         \u001b[38;5;28;01mif\u001b[39;00m val \u001b[38;5;129;01mis\u001b[39;00m _NotFound:\n\u001b[0;32m--> 841\u001b[0m             val \u001b[38;5;241m=\u001b[39m \u001b[38;5;28;43mself\u001b[39;49m\u001b[38;5;241;43m.\u001b[39;49m\u001b[43mfget\u001b[49m\u001b[43m(\u001b[49m\u001b[43mobj\u001b[49m\u001b[43m)\u001b[49m\n\u001b[1;32m    842\u001b[0m             obj_dict[\u001b[38;5;28mself\u001b[39m\u001b[38;5;241m.\u001b[39m_key] \u001b[38;5;241m=\u001b[39m val\n\u001b[1;32m    843\u001b[0m \u001b[38;5;28;01mreturn\u001b[39;00m val\n",
      "File \u001b[0;32m/home/wecapstor1/caph/mppi045h/gammapy/gammapy/maps/wcs/geom.py:818\u001b[0m, in \u001b[0;36mWcsGeom._solid_angle\u001b[0;34m(self)\u001b[0m\n\u001b[1;32m    815\u001b[0m up_right \u001b[38;5;241m=\u001b[39m coord[\u001b[38;5;241m.\u001b[39m\u001b[38;5;241m.\u001b[39m\u001b[38;5;241m.\u001b[39m, \u001b[38;5;241m1\u001b[39m:, \u001b[38;5;241m1\u001b[39m:]\n\u001b[1;32m    817\u001b[0m \u001b[38;5;66;03m# compute side lengths\u001b[39;00m\n\u001b[0;32m--> 818\u001b[0m low \u001b[38;5;241m=\u001b[39m \u001b[43mlow_left\u001b[49m\u001b[38;5;241;43m.\u001b[39;49m\u001b[43mseparation\u001b[49m\u001b[43m(\u001b[49m\u001b[43mlow_right\u001b[49m\u001b[43m)\u001b[49m\n\u001b[1;32m    819\u001b[0m left \u001b[38;5;241m=\u001b[39m low_left\u001b[38;5;241m.\u001b[39mseparation(up_left)\n\u001b[1;32m    820\u001b[0m up \u001b[38;5;241m=\u001b[39m up_left\u001b[38;5;241m.\u001b[39mseparation(up_right)\n",
      "File \u001b[0;32m/home/wecapstor1/caph/mppi045h/anaconda3/envs/gammapy-dev/lib/python3.8/site-packages/astropy/coordinates/sky_coordinate.py:1200\u001b[0m, in \u001b[0;36mSkyCoord.separation\u001b[0;34m(self, other)\u001b[0m\n\u001b[1;32m   1197\u001b[0m lat2 \u001b[38;5;241m=\u001b[39m other\u001b[38;5;241m.\u001b[39mspherical\u001b[38;5;241m.\u001b[39mlat\n\u001b[1;32m   1199\u001b[0m \u001b[38;5;66;03m# Get the separation as a Quantity, convert to Angle in degrees\u001b[39;00m\n\u001b[0;32m-> 1200\u001b[0m sep \u001b[38;5;241m=\u001b[39m \u001b[43mangular_separation\u001b[49m\u001b[43m(\u001b[49m\u001b[43mlon1\u001b[49m\u001b[43m,\u001b[49m\u001b[43m \u001b[49m\u001b[43mlat1\u001b[49m\u001b[43m,\u001b[49m\u001b[43m \u001b[49m\u001b[43mlon2\u001b[49m\u001b[43m,\u001b[49m\u001b[43m \u001b[49m\u001b[43mlat2\u001b[49m\u001b[43m)\u001b[49m\n\u001b[1;32m   1201\u001b[0m \u001b[38;5;28;01mreturn\u001b[39;00m Angle(sep, unit\u001b[38;5;241m=\u001b[39mu\u001b[38;5;241m.\u001b[39mdegree)\n",
      "File \u001b[0;32m/home/wecapstor1/caph/mppi045h/anaconda3/envs/gammapy-dev/lib/python3.8/site-packages/astropy/coordinates/angle_utilities.py:63\u001b[0m, in \u001b[0;36mangular_separation\u001b[0;34m(lon1, lat1, lon2, lat2)\u001b[0m\n\u001b[1;32m     60\u001b[0m clat2 \u001b[38;5;241m=\u001b[39m np\u001b[38;5;241m.\u001b[39mcos(lat2)\n\u001b[1;32m     62\u001b[0m num1 \u001b[38;5;241m=\u001b[39m clat2 \u001b[38;5;241m*\u001b[39m sdlon\n\u001b[0;32m---> 63\u001b[0m num2 \u001b[38;5;241m=\u001b[39m clat1 \u001b[38;5;241m*\u001b[39m slat2 \u001b[38;5;241m-\u001b[39m \u001b[43mslat1\u001b[49m\u001b[43m \u001b[49m\u001b[38;5;241;43m*\u001b[39;49m\u001b[43m \u001b[49m\u001b[43mclat2\u001b[49m\u001b[43m \u001b[49m\u001b[38;5;241;43m*\u001b[39;49m\u001b[43m \u001b[49m\u001b[43mcdlon\u001b[49m\n\u001b[1;32m     64\u001b[0m denominator \u001b[38;5;241m=\u001b[39m slat1 \u001b[38;5;241m*\u001b[39m slat2 \u001b[38;5;241m+\u001b[39m clat1 \u001b[38;5;241m*\u001b[39m clat2 \u001b[38;5;241m*\u001b[39m cdlon\n\u001b[1;32m     66\u001b[0m \u001b[38;5;28;01mreturn\u001b[39;00m np\u001b[38;5;241m.\u001b[39marctan2(np\u001b[38;5;241m.\u001b[39mhypot(num1, num2), denominator)\n",
      "File \u001b[0;32m/home/wecapstor1/caph/mppi045h/anaconda3/envs/gammapy-dev/lib/python3.8/site-packages/astropy/units/quantity.py:1196\u001b[0m, in \u001b[0;36mQuantity.__mul__\u001b[0;34m(self, other)\u001b[0m\n\u001b[1;32m   1193\u001b[0m     \u001b[38;5;28;01mexcept\u001b[39;00m UnitsError:  \u001b[38;5;66;03m# let other try to deal with it\u001b[39;00m\n\u001b[1;32m   1194\u001b[0m         \u001b[38;5;28;01mreturn\u001b[39;00m \u001b[38;5;28mNotImplemented\u001b[39m\n\u001b[0;32m-> 1196\u001b[0m \u001b[38;5;28;01mreturn\u001b[39;00m \u001b[38;5;28;43msuper\u001b[39;49m\u001b[43m(\u001b[49m\u001b[43m)\u001b[49m\u001b[38;5;241;43m.\u001b[39;49m\u001b[38;5;21;43m__mul__\u001b[39;49m\u001b[43m(\u001b[49m\u001b[43mother\u001b[49m\u001b[43m)\u001b[49m\n",
      "File \u001b[0;32m/home/wecapstor1/caph/mppi045h/anaconda3/envs/gammapy-dev/lib/python3.8/site-packages/astropy/units/quantity.py:673\u001b[0m, in \u001b[0;36mQuantity.__array_ufunc__\u001b[0;34m(self, function, method, *inputs, **kwargs)\u001b[0m\n\u001b[1;32m    670\u001b[0m     arrays\u001b[38;5;241m.\u001b[39mappend(converter(input_) \u001b[38;5;28;01mif\u001b[39;00m converter \u001b[38;5;28;01melse\u001b[39;00m input_)\n\u001b[1;32m    672\u001b[0m \u001b[38;5;66;03m# Call our superclass's __array_ufunc__\u001b[39;00m\n\u001b[0;32m--> 673\u001b[0m result \u001b[38;5;241m=\u001b[39m \u001b[38;5;28;43msuper\u001b[39;49m\u001b[43m(\u001b[49m\u001b[43m)\u001b[49m\u001b[38;5;241;43m.\u001b[39;49m\u001b[43m__array_ufunc__\u001b[49m\u001b[43m(\u001b[49m\u001b[43mfunction\u001b[49m\u001b[43m,\u001b[49m\u001b[43m \u001b[49m\u001b[43mmethod\u001b[49m\u001b[43m,\u001b[49m\u001b[43m \u001b[49m\u001b[38;5;241;43m*\u001b[39;49m\u001b[43marrays\u001b[49m\u001b[43m,\u001b[49m\u001b[43m \u001b[49m\u001b[38;5;241;43m*\u001b[39;49m\u001b[38;5;241;43m*\u001b[39;49m\u001b[43mkwargs\u001b[49m\u001b[43m)\u001b[49m\n\u001b[1;32m    674\u001b[0m \u001b[38;5;66;03m# If unit is None, a plain array is expected (e.g., comparisons), which\u001b[39;00m\n\u001b[1;32m    675\u001b[0m \u001b[38;5;66;03m# means we're done.\u001b[39;00m\n\u001b[1;32m    676\u001b[0m \u001b[38;5;66;03m# We're also done if the result was None (for method 'at') or\u001b[39;00m\n\u001b[1;32m    677\u001b[0m \u001b[38;5;66;03m# NotImplemented, which can happen if other inputs/outputs override\u001b[39;00m\n\u001b[1;32m    678\u001b[0m \u001b[38;5;66;03m# __array_ufunc__; hopefully, they can then deal with us.\u001b[39;00m\n\u001b[1;32m    679\u001b[0m \u001b[38;5;28;01mif\u001b[39;00m unit \u001b[38;5;129;01mis\u001b[39;00m \u001b[38;5;28;01mNone\u001b[39;00m \u001b[38;5;129;01mor\u001b[39;00m result \u001b[38;5;129;01mis\u001b[39;00m \u001b[38;5;28;01mNone\u001b[39;00m \u001b[38;5;129;01mor\u001b[39;00m result \u001b[38;5;129;01mis\u001b[39;00m \u001b[38;5;28mNotImplemented\u001b[39m:\n",
      "\u001b[0;31mMemoryError\u001b[0m: Unable to allocate 45.8 MiB for an array with shape (24, 500, 500) and data type float64"
     ]
    }
   ],
   "source": [
    "%%time\n",
    "for l in livetime_simus:\n",
    "    print(\"Livetime: \", l)\n",
    "    \n",
    "    factors_ = compute_factor(l)\n",
    "    datasets_, dataset_stacked_ = create(factors_)\n",
    "    if msh:\n",
    "        dataset_stacked_.write(f\"dataset-msh-simulated-{l.value}-hr.fits.gz\", overwrite= True)\n",
    "    if pks:\n",
    "        dataset_stacked_.write(f\"dataset-simulated-{l.value}-hr.fits.gz\", overwrite= True)\n",
    "        "
   ]
  },
  {
   "cell_type": "code",
   "execution_count": null,
   "id": "4b589504-6b0f-481b-9d66-73ae8b6cfc0e",
   "metadata": {},
   "outputs": [],
   "source": []
  }
 ],
 "metadata": {
  "kernelspec": {
   "display_name": "Python 3 (ipykernel)",
   "language": "python",
   "name": "python3"
  },
  "language_info": {
   "codemirror_mode": {
    "name": "ipython",
    "version": 3
   },
   "file_extension": ".py",
   "mimetype": "text/x-python",
   "name": "python",
   "nbconvert_exporter": "python",
   "pygments_lexer": "ipython3",
   "version": "3.8.16"
  }
 },
 "nbformat": 4,
 "nbformat_minor": 5
}
