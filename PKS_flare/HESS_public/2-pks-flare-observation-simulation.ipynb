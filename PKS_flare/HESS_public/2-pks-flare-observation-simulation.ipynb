{
 "cells": [
  {
   "cell_type": "code",
   "execution_count": 1,
   "id": "13f53fdd-7cf5-40bb-8d8e-dc58293148bc",
   "metadata": {},
   "outputs": [
    {
     "name": "stdout",
     "output_type": "stream",
     "text": [
      "0.1.dev19174+g56b5bdf  == 1\n"
     ]
    }
   ],
   "source": [
    "import gammapy\n",
    "print(gammapy.__version__ , \" == 1\")"
   ]
  },
  {
   "cell_type": "code",
   "execution_count": 2,
   "id": "15e241eb-3444-47b0-9397-b812765ae9b9",
   "metadata": {},
   "outputs": [],
   "source": [
    "import numpy as np\n",
    "import os\n",
    "import astropy\n",
    "from astropy import units as u\n",
    "import matplotlib.pyplot as plt\n",
    "\n",
    "from matplotlib import rc\n",
    "import matplotlib.pylab as plt\n",
    "\n",
    "rc('font', **{'family': 'serif', 'serif': ['Computer Modern']})\n",
    "rc('text', usetex=True)\n",
    "\n",
    "from collections import OrderedDict\n",
    "from astropy import units\n",
    "from gammapy.data import DataStore\n",
    "from astropy.io import fits\n",
    "from astropy.coordinates import SkyCoord\n",
    "from gammapy.data import FixedPointingInfo, Observation, DataStore, observatory_locations\n",
    "from astropy.coordinates import SkyOffsetFrame\n",
    "from gammapy.maps import WcsNDMap, WcsGeom, MapAxis, Map\n",
    "from gammapy.makers import MapDatasetMaker, SafeMaskMaker\n",
    "from gammapy.datasets import MapDataset\n",
    "from gammapy.irf import load_cta_irfs, EDispKernel, PSFKernel\n",
    "from gammapy.modeling import Fit\n",
    "from gammapy.modeling.models import (\n",
    "    Models,\n",
    "    FoVBackgroundModel,\n",
    "    PointSpatialModel,\n",
    "    PowerLawSpectralModel,\n",
    "    SkyModel,\n",
    ")\n",
    "from regions import CircleSkyRegion, RectangleSkyRegion\n"
   ]
  },
  {
   "cell_type": "code",
   "execution_count": 3,
   "id": "1fba1f9e-037b-4db9-bf11-f6b54d17d978",
   "metadata": {},
   "outputs": [],
   "source": [
    "pks_pos = SkyCoord(frame = \"galactic\",l =  \"17.74 deg\", b= \"-52.25 deg\")\n",
    "#pks_pos = SkyCoord( \"21h58m43.2s\",  \"-30d13m18s\")\n"
   ]
  },
  {
   "cell_type": "code",
<<<<<<< HEAD
   "execution_count": 10,
=======
   "execution_count": 4,
>>>>>>> 7833d0cf12cc5cbb8479d490a19727c53776c516
   "id": "a05f3fa4-2322-482f-bb57-0d857d990cac",
   "metadata": {},
   "outputs": [],
   "source": [
    "try:\n",
    "    models  = Models.read('../standard_model.yml')\n",
    "except:\n",
    "    st_model = SkyModel(spatial_model = PointSpatialModel(lon_0 = pks_pos.l.deg *u.deg, \n",
    "                                                          lat_0 =  pks_pos.b.deg * u.deg),\n",
    "                       spectral_model = PowerLawSpectralModel())\n",
    "    Models(st_model).write(\"../standard_model.yml\", overwrite = True)\n",
    "    models  = Models.read('../standard_model.yml')\n",
    "    "
   ]
  },
  {
   "cell_type": "code",
<<<<<<< HEAD
   "execution_count": 11,
=======
   "execution_count": 5,
>>>>>>> 7833d0cf12cc5cbb8479d490a19727c53776c516
   "id": "13aca3ba-f8d5-4595-800c-10860678f071",
   "metadata": {},
   "outputs": [
    {
     "ename": "OSError",
     "evalue": "File not found : obs-index-bg-v05-fov-radec.fits.gz",
     "output_type": "error",
     "traceback": [
      "\u001b[0;31m---------------------------------------------------------------------------\u001b[0m",
      "\u001b[0;31mOSError\u001b[0m                                   Traceback (most recent call last)",
      "Cell \u001b[0;32mIn[11], line 6\u001b[0m\n\u001b[1;32m      2\u001b[0m empty \u001b[38;5;241m=\u001b[39m dataset_public\u001b[38;5;241m.\u001b[39mcopy()\n\u001b[1;32m      5\u001b[0m path \u001b[38;5;241m=\u001b[39m \u001b[38;5;124m'\u001b[39m\u001b[38;5;124m/home/wecapstor1/caph/mppi045h/fits_paper_data/std_fullEnclosure/pks2155_flare/out\u001b[39m\u001b[38;5;124m'\u001b[39m\n\u001b[0;32m----> 6\u001b[0m data_store \u001b[38;5;241m=\u001b[39m \u001b[43mDataStore\u001b[49m\u001b[38;5;241;43m.\u001b[39;49m\u001b[43mfrom_dir\u001b[49m\u001b[43m(\u001b[49m\u001b[43mpath\u001b[49m\u001b[43m,\u001b[49m\u001b[43m \u001b[49m\u001b[38;5;124;43mf\u001b[39;49m\u001b[38;5;124;43m'\u001b[39;49m\u001b[38;5;124;43mhdu-index-bg-v05-fov-radec.fits.gz\u001b[39;49m\u001b[38;5;124;43m'\u001b[39;49m\u001b[43m,\u001b[49m\u001b[43m \u001b[49m\u001b[38;5;124;43mf\u001b[39;49m\u001b[38;5;124;43m'\u001b[39;49m\u001b[38;5;124;43mobs-index-bg-v05-fov-radec.fits.gz\u001b[39;49m\u001b[38;5;124;43m'\u001b[39;49m\u001b[43m)\u001b[49m\n\u001b[1;32m      7\u001b[0m observations \u001b[38;5;241m=\u001b[39m data_store\u001b[38;5;241m.\u001b[39mget_observations(data_store\u001b[38;5;241m.\u001b[39mobs_ids)\n",
      "File \u001b[0;32m~/Documents/gammapy/gammapy/data/data_store.py:171\u001b[0m, in \u001b[0;36mDataStore.from_dir\u001b[0;34m(cls, base_dir, hdu_table_filename, obs_table_filename)\u001b[0m\n\u001b[1;32m    169\u001b[0m         obs_table_filename \u001b[38;5;241m=\u001b[39m base_dir \u001b[38;5;241m/\u001b[39m obs_table_filename\n\u001b[1;32m    170\u001b[0m     \u001b[38;5;28;01melif\u001b[39;00m \u001b[38;5;129;01mnot\u001b[39;00m obs_table_filename\u001b[38;5;241m.\u001b[39mexists():\n\u001b[0;32m--> 171\u001b[0m         \u001b[38;5;28;01mraise\u001b[39;00m \u001b[38;5;167;01mIOError\u001b[39;00m(\u001b[38;5;124mf\u001b[39m\u001b[38;5;124m\"\u001b[39m\u001b[38;5;124mFile not found : \u001b[39m\u001b[38;5;132;01m{\u001b[39;00mobs_table_filename\u001b[38;5;132;01m}\u001b[39;00m\u001b[38;5;124m\"\u001b[39m)\n\u001b[1;32m    172\u001b[0m \u001b[38;5;28;01melse\u001b[39;00m:\n\u001b[1;32m    173\u001b[0m     obs_table_filename \u001b[38;5;241m=\u001b[39m base_dir \u001b[38;5;241m/\u001b[39m \u001b[38;5;28mcls\u001b[39m\u001b[38;5;241m.\u001b[39mDEFAULT_OBS_TABLE\n",
      "\u001b[0;31mOSError\u001b[0m: File not found : obs-index-bg-v05-fov-radec.fits.gz"
     ]
    }
   ],
   "source": [
    "dataset_public = MapDataset.read('dataset-stacked.fits.gz')\n",
    "empty = dataset_public.copy()\n",
    "\n",
    "\n",
    "path = '/home/wecapstor1/caph/mppi045h/fits_paper_data/std_fullEnclosure/pks2155_flare/out'\n",
    "data_store = DataStore.from_dir(path, f'hdu-index-bg-v05-fov-radec.fits.gz', f'obs-index-bg-v05-fov-radec.fits.gz')\n",
    "observations = data_store.get_observations(data_store.obs_ids)\n"
   ]
  },
  {
   "cell_type": "code",
   "execution_count": 6,
   "id": "3cb6498b-4163-40a5-938a-b5c9cd73c1d1",
   "metadata": {},
   "outputs": [
    {
     "name": "stdout",
     "output_type": "stream",
     "text": [
      "[0.46916667 0.46916667 0.46888889 0.46944444 0.46916667 0.46888889\n",
      " 0.46916667 0.46888889 0.46916667 0.46916667 0.46916667 0.46916667\n",
      " 0.46916667 0.46916667 0.46916667] h\n",
      "7.036944444444446 h\n"
     ]
    }
   ],
   "source": [
    "timeobs = []\n",
    "for obs in observations:\n",
    "    timeobs.append(obs.observation_time_duration)\n",
    "timeobs = timeobs * u.s\n",
    "print(timeobs.to(u.hr))\n",
    "print(np.sum(timeobs).to(u.hr))"
   ]
  },
  {
   "cell_type": "code",
   "execution_count": 7,
   "id": "45d8d5a8-e0fc-4ac8-9845-d1b211c18527",
   "metadata": {},
   "outputs": [
    {
     "name": "stderr",
     "output_type": "stream",
     "text": [
      "/home/wecapstor1/caph/mppi045h/gammapy/gammapy/data/observations.py:343: GammapyDeprecationWarning: obs_info property is deprecated since v1.2. Use meta instead.\n",
      "  warnings.warn(\n"
     ]
    },
    {
     "data": {
      "text/plain": [
       "(27.71530848379798, 13.632264528378185)"
      ]
     },
     "execution_count": 7,
     "metadata": {},
     "output_type": "execute_result"
    }
   ],
   "source": [
    "angle = []\n",
    "for obs in observations:\n",
    "    angle.append(90-obs.obs_info['ALT_PNT'])\n",
    "np.mean(angle), np.std(angle)"
   ]
  },
  {
   "cell_type": "code",
   "execution_count": 8,
   "id": "f5de30a1-8414-4e78-96f1-af851b9b4cb7",
   "metadata": {},
   "outputs": [
    {
     "name": "stdout",
     "output_type": "stream",
     "text": [
      "public: 7.036944444444446 h\n",
      "simu: 100.0 h\n",
      "factors [14.20959147 14.20959147 14.21800948 14.20118343 14.20959147 14.21800948\n",
      " 14.20959147 14.21800948 14.20959147 14.20959147 14.20959147 14.20959147\n",
      " 14.20959147 14.20959147 14.20959147]\n"
     ]
    }
   ],
   "source": [
    "n_public_runs = len(observations)\n",
    "location = observatory_locations['hess']\n",
    "\n",
    "livetime_stereo = 50.089999999999996 *u.hr\n",
    "livetime_mono = 29.94 * u.hr\n",
    "livetime_simu = 100 * u.hr # livetime_stereo + livetime_mono\n",
    "livetime_public =np.sum(timeobs).to(u.hr)\n",
    "print('public:', livetime_public)\n",
    "print('simu:', livetime_simu)\n",
    "def compute_factor(livetime_simu):\n",
    "    factors =( (livetime_simu/n_public_runs) / timeobs ).to(\"\")\n",
    "    return factors\n",
    "factors = compute_factor(livetime_simu)\n",
    "print(\"factors\", factors)"
   ]
  },
  {
   "cell_type": "code",
   "execution_count": 9,
   "id": "1a0b4839-64e8-43e8-9a41-49d31f6087cc",
   "metadata": {},
   "outputs": [
    {
     "data": {
      "image/png": "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",
      "text/plain": [
       "<Figure size 640x480 with 2 Axes>"
      ]
     },
     "metadata": {},
     "output_type": "display_data"
    }
   ],
   "source": [
    "\n",
    "radius = 0.25*u.deg\n",
    "skyregion = CircleSkyRegion(center=pks_pos, radius=radius)\n",
    "excl_regions = [skyregion]\n",
    "geom = dataset_public.geoms['geom']\n",
    "excl_mask_2d = Map.from_geom(dataset_public.geoms['geom'].to_image(),\n",
    "                             data=dataset_public.geoms['geom'].to_image().region_mask(excl_regions, inside=False).data)\n",
    "excl_mask_2d.plot(add_cbar = 1, vmin =0, vmax = 1);\n",
    "\n",
    "maxthreshold  = 1*u.TeV\n",
    "ebins = np.logspace(-1,2,25) *u.TeV\n",
    "max_offset = 2 *u.deg"
   ]
  },
  {
   "cell_type": "code",
   "execution_count": 10,
   "id": "481faa77-d8e8-4eb9-95da-6da939ebee15",
   "metadata": {},
   "outputs": [
    {
     "name": "stderr",
     "output_type": "stream",
     "text": [
      "/home/wecapstor1/caph/mppi045h/gammapy/gammapy/data/observations.py:343: GammapyDeprecationWarning: obs_info property is deprecated since v1.2. Use meta instead.\n",
      "  warnings.warn(\n"
     ]
    }
   ],
   "source": [
    "ra_pnt, dec_pnt = [], []\n",
    "for obs in observations:\n",
    "    ra_pnt.append(obs.obs_info['RA_PNT'])\n",
    "    dec_pnt.append(obs.obs_info['DEC_PNT'])\n"
   ]
  },
  {
   "cell_type": "code",
   "execution_count": 11,
   "id": "015ae95f-4708-486d-a8f7-852b59bc330c",
   "metadata": {},
   "outputs": [
    {
     "data": {
      "image/png": "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",
      "text/plain": [
       "<Figure size 640x480 with 1 Axes>"
      ]
     },
     "metadata": {},
     "output_type": "display_data"
    }
   ],
   "source": [
    "for i in range(len(observations)):\n",
    "    plt.scatter(ra_pnt[i], dec_pnt[i])"
   ]
  },
  {
   "cell_type": "code",
   "execution_count": 12,
   "id": "363c0cfa-e78c-4fb9-a35e-6094731b4a3a",
   "metadata": {},
   "outputs": [],
   "source": [
    "def create(factors):\n",
    "\n",
    "    datasets = []\n",
    "    for i in range(n_public_runs ):\n",
    "        print(i)\n",
    "        dataset_obs = MapDataset.read(f'dataset-obs-{observations[i].obs_id}.fits.gz')\n",
    "        #dataset_obs.counts.sum_over_axes().plot(add_cbar =1 )    \n",
    "        irfs = {'bkg':dataset_obs.background * factors[i],\n",
    "           'aeff': dataset_obs.exposure * factors[i],#/ livetime ,\n",
    "           'psf': dataset_obs.psf,\n",
    "           'edisp': dataset_obs.edisp,\n",
    "           'rad_max': 4 *u.deg }\n",
    "\n",
    "        pointing  = observations[i].pointing_radec\n",
    "\n",
    "        obs = Observation.create(\n",
    "            pointing=pointing, livetime=timeobs[i], irfs=irfs, location=location\n",
    "        )\n",
    "\n",
    "        # Make the MapDataset\n",
    "        maker = MapDatasetMaker(selection=[\"exposure\", \"background\", \"psf\", \"edisp\"])\n",
    "\n",
    "        maker_safe_mask = SafeMaskMaker(methods=[\"offset-max\"], offset_max=4.0 * u.deg)\n",
    "        reference = MapDataset.create(geom=geom, name='stacked').cutout(position=obs.pointing_radec, width=8.0*max_offset)    \n",
    "\n",
    "        dataset = maker.run(reference, obs)\n",
    "        dataset = maker_safe_mask.run(dataset, obs)\n",
    "\n",
    "        dataset.counts.data = dataset.counts.data.astype(np.float32)\n",
    "        dataset.psf = dataset_obs.psf\n",
    "        dataset.edisp = dataset_obs.edisp\n",
    "\n",
    "        datasets.append(dataset)\n",
    "\n",
    "    dataset_stacked = datasets[0].copy()\n",
    "    for d in datasets[1:]:\n",
    "        dataset_stacked.stack(d)\n",
    "    return datasets, dataset_stacked\n"
   ]
  },
  {
   "cell_type": "code",
   "execution_count": 13,
   "id": "476910a8-1e54-4690-b953-db5d1a950718",
   "metadata": {},
   "outputs": [],
   "source": [
    "#datasets, dataset_stacked = create(factors)\n"
   ]
  },
  {
   "cell_type": "code",
   "execution_count": 14,
   "id": "478edd8b-8988-4ee6-8c5b-f5acdd889c66",
   "metadata": {},
   "outputs": [
    {
     "ename": "NameError",
     "evalue": "name 'dataset_stacked' is not defined",
     "output_type": "error",
     "traceback": [
      "\u001b[0;31m---------------------------------------------------------------------------\u001b[0m",
      "\u001b[0;31mNameError\u001b[0m                                 Traceback (most recent call last)",
      "Cell \u001b[0;32mIn[14], line 1\u001b[0m\n\u001b[0;32m----> 1\u001b[0m \u001b[43mdataset_stacked\u001b[49m\u001b[38;5;241m.\u001b[39mpeek()\n",
      "\u001b[0;31mNameError\u001b[0m: name 'dataset_stacked' is not defined"
     ]
    }
   ],
   "source": [
    "#dataset_stacked.peek()"
   ]
  },
  {
   "cell_type": "code",
   "execution_count": null,
   "id": "05d33e9c-498f-4860-b9b7-7d518a0b29f5",
   "metadata": {},
   "outputs": [],
   "source": [
    "emask = dataset_stacked.mask.data.sum(axis=2).sum(axis=1) >0\n",
    "emask = dataset_stacked.mask.geom.axes[0].center[emask]"
   ]
  },
  {
   "cell_type": "markdown",
   "id": "f5fe0ab9-56d4-4441-97fe-cd4b4523637c",
   "metadata": {},
   "source": [
    "## Simulated different observation times "
   ]
  },
  {
   "cell_type": "code",
   "execution_count": 15,
   "id": "cc494009-1bab-4255-9605-14f5dde6f04a",
   "metadata": {},
   "outputs": [
    {
     "name": "stdout",
     "output_type": "stream",
     "text": [
      "Livetime:  46.41588833612777 h\n",
      "Livetime:  100.0 h\n"
     ]
    }
   ],
   "source": [
    "livetime_simus = np.logspace(-2, 2, 13) *u.hr\n",
    "\n",
    "for l in livetime_simus[-2:]:\n",
    "    print(\"Livetime: \", l)\n",
    "    \n",
    "    #factors_ = compute_factor(l)\n",
    "    #datasets_, dataset_stacked_ = create(factors_)\n",
    "    #dataset_stacked_.write(f\"dataset-simulated-{l.value}-hr.fits.gz\", overwrite= True)"
   ]
  },
  {
   "cell_type": "code",
<<<<<<< HEAD
   "execution_count": null,
   "id": "594faa9f",
=======
   "execution_count": 16,
   "id": "5d30aa11",
>>>>>>> 7833d0cf12cc5cbb8479d490a19727c53776c516
   "metadata": {},
   "outputs": [
    {
     "data": {
      "text/latex": [
       "$[0.01,~0.021544347,~0.046415888,~0.1,~0.21544347,~0.46415888,~1,~2.1544347,~4.6415888,~10,~21.544347,~46.415888,~100] \\; \\mathrm{h}$"
      ],
      "text/plain": [
       "<Quantity [1.00000000e-02, 2.15443469e-02, 4.64158883e-02, 1.00000000e-01,\n",
       "           2.15443469e-01, 4.64158883e-01, 1.00000000e+00, 2.15443469e+00,\n",
       "           4.64158883e+00, 1.00000000e+01, 2.15443469e+01, 4.64158883e+01,\n",
       "           1.00000000e+02] h>"
      ]
     },
     "execution_count": 16,
     "metadata": {},
     "output_type": "execute_result"
    }
   ],
   "source": [
    "livetime_simus"
   ]
  },
  {
   "cell_type": "code",
   "execution_count": 28,
   "id": "c6f29ff6-86e4-4e53-9f49-43076dcb653a",
   "metadata": {},
   "outputs": [
    {
     "data": {
      "text/latex": [
       "$[1,~2.1544347,~4.6415888,~10] \\; \\mathrm{h}$"
      ],
      "text/plain": [
       "<Quantity [ 1.        ,  2.15443469,  4.64158883, 10.        ] h>"
      ]
     },
     "execution_count": 28,
     "metadata": {},
     "output_type": "execute_result"
    }
   ],
   "source": [
    "livetime_simus = np.logspace(-2, 0, 7) *u.hr\n",
    "livetime_simus = np.logspace(-2, 2, 13) *u.hr\n",
    "\n",
    "livetime_simus[6:10]"
   ]
  },
  {
   "cell_type": "code",
   "execution_count": null,
   "id": "40b4e74e-1c97-48fc-bd3a-a401b36bd621",
   "metadata": {},
   "outputs": [
    {
     "name": "stdout",
     "output_type": "stream",
     "text": [
      "Livetime:  1.0 h\n",
      "0\n"
     ]
    },
    {
     "name": "stderr",
     "output_type": "stream",
     "text": [
      "/tmp/ipykernel_1637698/1870002761.py:14: GammapyDeprecationWarning: Use observation.get_pointing_icrs(time) instead\n",
      "  pointing  = observations[i].pointing_radec\n",
      "/home/wecapstor1/caph/mppi045h/gammapy/gammapy/data/observations.py:267: GammapyDeprecationWarning: Pointing will be required to be provided as FixedPointingInfo\n",
      "  warnings.warn(\n",
      "/tmp/ipykernel_1637698/1870002761.py:24: GammapyDeprecationWarning: Use observation.get_pointing_icrs(time) instead\n",
      "  reference = MapDataset.create(geom=geom, name='stacked').cutout(position=obs.pointing_radec, width=8.0*max_offset)\n",
      "/home/wecapstor1/caph/mppi045h/anaconda3/envs/gammapy-dev/lib/python3.8/site-packages/astropy/utils/decorators.py:841: GammapyDeprecationWarning: Use observation.pointing or observation.get_pointing_{altaz,icrs} instead\n",
      "  val = self.fget(obj)\n",
      "/home/wecapstor1/caph/mppi045h/anaconda3/envs/gammapy-dev/lib/python3.8/site-packages/astropy/utils/decorators.py:841: GammapyDeprecationWarning: The radec function is deprecated and may be removed in a future version.\n",
      "  val = self.fget(obj)\n"
     ]
    },
    {
     "name": "stdout",
     "output_type": "stream",
     "text": [
      "1\n"
     ]
    },
    {
     "name": "stderr",
     "output_type": "stream",
     "text": [
      "/tmp/ipykernel_1637698/1870002761.py:14: GammapyDeprecationWarning: Use observation.get_pointing_icrs(time) instead\n",
      "  pointing  = observations[i].pointing_radec\n",
      "/home/wecapstor1/caph/mppi045h/gammapy/gammapy/data/observations.py:267: GammapyDeprecationWarning: Pointing will be required to be provided as FixedPointingInfo\n",
      "  warnings.warn(\n",
      "/tmp/ipykernel_1637698/1870002761.py:24: GammapyDeprecationWarning: Use observation.get_pointing_icrs(time) instead\n",
      "  reference = MapDataset.create(geom=geom, name='stacked').cutout(position=obs.pointing_radec, width=8.0*max_offset)\n",
      "/home/wecapstor1/caph/mppi045h/anaconda3/envs/gammapy-dev/lib/python3.8/site-packages/astropy/utils/decorators.py:841: GammapyDeprecationWarning: Use observation.pointing or observation.get_pointing_{altaz,icrs} instead\n",
      "  val = self.fget(obj)\n",
      "/home/wecapstor1/caph/mppi045h/anaconda3/envs/gammapy-dev/lib/python3.8/site-packages/astropy/utils/decorators.py:841: GammapyDeprecationWarning: The radec function is deprecated and may be removed in a future version.\n",
      "  val = self.fget(obj)\n"
     ]
    },
    {
     "name": "stdout",
     "output_type": "stream",
     "text": [
      "2\n"
     ]
    },
    {
     "name": "stderr",
     "output_type": "stream",
     "text": [
      "/tmp/ipykernel_1637698/1870002761.py:14: GammapyDeprecationWarning: Use observation.get_pointing_icrs(time) instead\n",
      "  pointing  = observations[i].pointing_radec\n",
      "/home/wecapstor1/caph/mppi045h/gammapy/gammapy/data/observations.py:267: GammapyDeprecationWarning: Pointing will be required to be provided as FixedPointingInfo\n",
      "  warnings.warn(\n",
      "/tmp/ipykernel_1637698/1870002761.py:24: GammapyDeprecationWarning: Use observation.get_pointing_icrs(time) instead\n",
      "  reference = MapDataset.create(geom=geom, name='stacked').cutout(position=obs.pointing_radec, width=8.0*max_offset)\n",
      "/home/wecapstor1/caph/mppi045h/anaconda3/envs/gammapy-dev/lib/python3.8/site-packages/astropy/utils/decorators.py:841: GammapyDeprecationWarning: Use observation.pointing or observation.get_pointing_{altaz,icrs} instead\n",
      "  val = self.fget(obj)\n",
      "/home/wecapstor1/caph/mppi045h/anaconda3/envs/gammapy-dev/lib/python3.8/site-packages/astropy/utils/decorators.py:841: GammapyDeprecationWarning: The radec function is deprecated and may be removed in a future version.\n",
      "  val = self.fget(obj)\n"
     ]
    },
    {
     "name": "stdout",
     "output_type": "stream",
     "text": [
      "3\n"
     ]
    },
    {
     "name": "stderr",
     "output_type": "stream",
     "text": [
      "/tmp/ipykernel_1637698/1870002761.py:14: GammapyDeprecationWarning: Use observation.get_pointing_icrs(time) instead\n",
      "  pointing  = observations[i].pointing_radec\n",
      "/home/wecapstor1/caph/mppi045h/gammapy/gammapy/data/observations.py:267: GammapyDeprecationWarning: Pointing will be required to be provided as FixedPointingInfo\n",
      "  warnings.warn(\n",
      "/tmp/ipykernel_1637698/1870002761.py:24: GammapyDeprecationWarning: Use observation.get_pointing_icrs(time) instead\n",
      "  reference = MapDataset.create(geom=geom, name='stacked').cutout(position=obs.pointing_radec, width=8.0*max_offset)\n",
      "/home/wecapstor1/caph/mppi045h/anaconda3/envs/gammapy-dev/lib/python3.8/site-packages/astropy/utils/decorators.py:841: GammapyDeprecationWarning: Use observation.pointing or observation.get_pointing_{altaz,icrs} instead\n",
      "  val = self.fget(obj)\n",
      "/home/wecapstor1/caph/mppi045h/anaconda3/envs/gammapy-dev/lib/python3.8/site-packages/astropy/utils/decorators.py:841: GammapyDeprecationWarning: The radec function is deprecated and may be removed in a future version.\n",
      "  val = self.fget(obj)\n"
     ]
    },
    {
     "name": "stdout",
     "output_type": "stream",
     "text": [
      "4\n"
     ]
    },
    {
     "name": "stderr",
     "output_type": "stream",
     "text": [
      "/tmp/ipykernel_1637698/1870002761.py:14: GammapyDeprecationWarning: Use observation.get_pointing_icrs(time) instead\n",
      "  pointing  = observations[i].pointing_radec\n",
      "/home/wecapstor1/caph/mppi045h/gammapy/gammapy/data/observations.py:267: GammapyDeprecationWarning: Pointing will be required to be provided as FixedPointingInfo\n",
      "  warnings.warn(\n",
      "/tmp/ipykernel_1637698/1870002761.py:24: GammapyDeprecationWarning: Use observation.get_pointing_icrs(time) instead\n",
      "  reference = MapDataset.create(geom=geom, name='stacked').cutout(position=obs.pointing_radec, width=8.0*max_offset)\n",
      "/home/wecapstor1/caph/mppi045h/anaconda3/envs/gammapy-dev/lib/python3.8/site-packages/astropy/utils/decorators.py:841: GammapyDeprecationWarning: Use observation.pointing or observation.get_pointing_{altaz,icrs} instead\n",
      "  val = self.fget(obj)\n",
      "/home/wecapstor1/caph/mppi045h/anaconda3/envs/gammapy-dev/lib/python3.8/site-packages/astropy/utils/decorators.py:841: GammapyDeprecationWarning: The radec function is deprecated and may be removed in a future version.\n",
      "  val = self.fget(obj)\n"
     ]
    },
    {
     "name": "stdout",
     "output_type": "stream",
     "text": [
      "5\n"
     ]
    },
    {
     "name": "stderr",
     "output_type": "stream",
     "text": [
      "/tmp/ipykernel_1637698/1870002761.py:14: GammapyDeprecationWarning: Use observation.get_pointing_icrs(time) instead\n",
      "  pointing  = observations[i].pointing_radec\n",
      "/home/wecapstor1/caph/mppi045h/gammapy/gammapy/data/observations.py:267: GammapyDeprecationWarning: Pointing will be required to be provided as FixedPointingInfo\n",
      "  warnings.warn(\n",
      "/tmp/ipykernel_1637698/1870002761.py:24: GammapyDeprecationWarning: Use observation.get_pointing_icrs(time) instead\n",
      "  reference = MapDataset.create(geom=geom, name='stacked').cutout(position=obs.pointing_radec, width=8.0*max_offset)\n",
      "/home/wecapstor1/caph/mppi045h/anaconda3/envs/gammapy-dev/lib/python3.8/site-packages/astropy/utils/decorators.py:841: GammapyDeprecationWarning: Use observation.pointing or observation.get_pointing_{altaz,icrs} instead\n",
      "  val = self.fget(obj)\n",
      "/home/wecapstor1/caph/mppi045h/anaconda3/envs/gammapy-dev/lib/python3.8/site-packages/astropy/utils/decorators.py:841: GammapyDeprecationWarning: The radec function is deprecated and may be removed in a future version.\n",
      "  val = self.fget(obj)\n"
     ]
    },
    {
     "name": "stdout",
     "output_type": "stream",
     "text": [
      "6\n"
     ]
    },
    {
     "name": "stderr",
     "output_type": "stream",
     "text": [
      "/tmp/ipykernel_1637698/1870002761.py:14: GammapyDeprecationWarning: Use observation.get_pointing_icrs(time) instead\n",
      "  pointing  = observations[i].pointing_radec\n",
      "/home/wecapstor1/caph/mppi045h/gammapy/gammapy/data/observations.py:267: GammapyDeprecationWarning: Pointing will be required to be provided as FixedPointingInfo\n",
      "  warnings.warn(\n",
      "/tmp/ipykernel_1637698/1870002761.py:24: GammapyDeprecationWarning: Use observation.get_pointing_icrs(time) instead\n",
      "  reference = MapDataset.create(geom=geom, name='stacked').cutout(position=obs.pointing_radec, width=8.0*max_offset)\n",
      "/home/wecapstor1/caph/mppi045h/anaconda3/envs/gammapy-dev/lib/python3.8/site-packages/astropy/utils/decorators.py:841: GammapyDeprecationWarning: Use observation.pointing or observation.get_pointing_{altaz,icrs} instead\n",
      "  val = self.fget(obj)\n",
      "/home/wecapstor1/caph/mppi045h/anaconda3/envs/gammapy-dev/lib/python3.8/site-packages/astropy/utils/decorators.py:841: GammapyDeprecationWarning: The radec function is deprecated and may be removed in a future version.\n",
      "  val = self.fget(obj)\n"
     ]
    },
    {
     "name": "stdout",
     "output_type": "stream",
     "text": [
      "7\n"
     ]
    },
    {
     "name": "stderr",
     "output_type": "stream",
     "text": [
      "/tmp/ipykernel_1637698/1870002761.py:14: GammapyDeprecationWarning: Use observation.get_pointing_icrs(time) instead\n",
      "  pointing  = observations[i].pointing_radec\n",
      "/home/wecapstor1/caph/mppi045h/gammapy/gammapy/data/observations.py:267: GammapyDeprecationWarning: Pointing will be required to be provided as FixedPointingInfo\n",
      "  warnings.warn(\n",
      "/tmp/ipykernel_1637698/1870002761.py:24: GammapyDeprecationWarning: Use observation.get_pointing_icrs(time) instead\n",
      "  reference = MapDataset.create(geom=geom, name='stacked').cutout(position=obs.pointing_radec, width=8.0*max_offset)\n",
      "/home/wecapstor1/caph/mppi045h/anaconda3/envs/gammapy-dev/lib/python3.8/site-packages/astropy/utils/decorators.py:841: GammapyDeprecationWarning: Use observation.pointing or observation.get_pointing_{altaz,icrs} instead\n",
      "  val = self.fget(obj)\n",
      "/home/wecapstor1/caph/mppi045h/anaconda3/envs/gammapy-dev/lib/python3.8/site-packages/astropy/utils/decorators.py:841: GammapyDeprecationWarning: The radec function is deprecated and may be removed in a future version.\n",
      "  val = self.fget(obj)\n"
     ]
    },
    {
     "name": "stdout",
     "output_type": "stream",
     "text": [
      "8\n"
     ]
    },
    {
     "name": "stderr",
     "output_type": "stream",
     "text": [
      "/tmp/ipykernel_1637698/1870002761.py:14: GammapyDeprecationWarning: Use observation.get_pointing_icrs(time) instead\n",
      "  pointing  = observations[i].pointing_radec\n",
      "/home/wecapstor1/caph/mppi045h/gammapy/gammapy/data/observations.py:267: GammapyDeprecationWarning: Pointing will be required to be provided as FixedPointingInfo\n",
      "  warnings.warn(\n",
      "/tmp/ipykernel_1637698/1870002761.py:24: GammapyDeprecationWarning: Use observation.get_pointing_icrs(time) instead\n",
      "  reference = MapDataset.create(geom=geom, name='stacked').cutout(position=obs.pointing_radec, width=8.0*max_offset)\n",
      "/home/wecapstor1/caph/mppi045h/anaconda3/envs/gammapy-dev/lib/python3.8/site-packages/astropy/utils/decorators.py:841: GammapyDeprecationWarning: Use observation.pointing or observation.get_pointing_{altaz,icrs} instead\n",
      "  val = self.fget(obj)\n",
      "/home/wecapstor1/caph/mppi045h/anaconda3/envs/gammapy-dev/lib/python3.8/site-packages/astropy/utils/decorators.py:841: GammapyDeprecationWarning: The radec function is deprecated and may be removed in a future version.\n",
      "  val = self.fget(obj)\n"
     ]
    },
    {
     "name": "stdout",
     "output_type": "stream",
     "text": [
      "9\n"
     ]
    },
    {
     "name": "stderr",
     "output_type": "stream",
     "text": [
      "/tmp/ipykernel_1637698/1870002761.py:14: GammapyDeprecationWarning: Use observation.get_pointing_icrs(time) instead\n",
      "  pointing  = observations[i].pointing_radec\n",
      "/home/wecapstor1/caph/mppi045h/gammapy/gammapy/data/observations.py:267: GammapyDeprecationWarning: Pointing will be required to be provided as FixedPointingInfo\n",
      "  warnings.warn(\n",
      "/tmp/ipykernel_1637698/1870002761.py:24: GammapyDeprecationWarning: Use observation.get_pointing_icrs(time) instead\n",
      "  reference = MapDataset.create(geom=geom, name='stacked').cutout(position=obs.pointing_radec, width=8.0*max_offset)\n",
      "/home/wecapstor1/caph/mppi045h/anaconda3/envs/gammapy-dev/lib/python3.8/site-packages/astropy/utils/decorators.py:841: GammapyDeprecationWarning: Use observation.pointing or observation.get_pointing_{altaz,icrs} instead\n",
      "  val = self.fget(obj)\n",
      "/home/wecapstor1/caph/mppi045h/anaconda3/envs/gammapy-dev/lib/python3.8/site-packages/astropy/utils/decorators.py:841: GammapyDeprecationWarning: The radec function is deprecated and may be removed in a future version.\n",
      "  val = self.fget(obj)\n"
     ]
    },
    {
     "name": "stdout",
     "output_type": "stream",
     "text": [
      "10\n"
     ]
    },
    {
     "name": "stderr",
     "output_type": "stream",
     "text": [
      "/tmp/ipykernel_1637698/1870002761.py:14: GammapyDeprecationWarning: Use observation.get_pointing_icrs(time) instead\n",
      "  pointing  = observations[i].pointing_radec\n",
      "/home/wecapstor1/caph/mppi045h/gammapy/gammapy/data/observations.py:267: GammapyDeprecationWarning: Pointing will be required to be provided as FixedPointingInfo\n",
      "  warnings.warn(\n",
      "/tmp/ipykernel_1637698/1870002761.py:24: GammapyDeprecationWarning: Use observation.get_pointing_icrs(time) instead\n",
      "  reference = MapDataset.create(geom=geom, name='stacked').cutout(position=obs.pointing_radec, width=8.0*max_offset)\n",
      "/home/wecapstor1/caph/mppi045h/anaconda3/envs/gammapy-dev/lib/python3.8/site-packages/astropy/utils/decorators.py:841: GammapyDeprecationWarning: Use observation.pointing or observation.get_pointing_{altaz,icrs} instead\n",
      "  val = self.fget(obj)\n",
      "/home/wecapstor1/caph/mppi045h/anaconda3/envs/gammapy-dev/lib/python3.8/site-packages/astropy/utils/decorators.py:841: GammapyDeprecationWarning: The radec function is deprecated and may be removed in a future version.\n",
      "  val = self.fget(obj)\n"
     ]
    },
    {
     "name": "stdout",
     "output_type": "stream",
     "text": [
      "11\n"
     ]
    },
    {
     "name": "stderr",
     "output_type": "stream",
     "text": [
      "/tmp/ipykernel_1637698/1870002761.py:14: GammapyDeprecationWarning: Use observation.get_pointing_icrs(time) instead\n",
      "  pointing  = observations[i].pointing_radec\n",
      "/home/wecapstor1/caph/mppi045h/gammapy/gammapy/data/observations.py:267: GammapyDeprecationWarning: Pointing will be required to be provided as FixedPointingInfo\n",
      "  warnings.warn(\n",
      "/tmp/ipykernel_1637698/1870002761.py:24: GammapyDeprecationWarning: Use observation.get_pointing_icrs(time) instead\n",
      "  reference = MapDataset.create(geom=geom, name='stacked').cutout(position=obs.pointing_radec, width=8.0*max_offset)\n",
      "/home/wecapstor1/caph/mppi045h/anaconda3/envs/gammapy-dev/lib/python3.8/site-packages/astropy/utils/decorators.py:841: GammapyDeprecationWarning: Use observation.pointing or observation.get_pointing_{altaz,icrs} instead\n",
      "  val = self.fget(obj)\n",
      "/home/wecapstor1/caph/mppi045h/anaconda3/envs/gammapy-dev/lib/python3.8/site-packages/astropy/utils/decorators.py:841: GammapyDeprecationWarning: The radec function is deprecated and may be removed in a future version.\n",
      "  val = self.fget(obj)\n"
     ]
    },
    {
     "name": "stdout",
     "output_type": "stream",
     "text": [
      "12\n"
     ]
    },
    {
     "name": "stderr",
     "output_type": "stream",
     "text": [
      "/tmp/ipykernel_1637698/1870002761.py:14: GammapyDeprecationWarning: Use observation.get_pointing_icrs(time) instead\n",
      "  pointing  = observations[i].pointing_radec\n",
      "/home/wecapstor1/caph/mppi045h/gammapy/gammapy/data/observations.py:267: GammapyDeprecationWarning: Pointing will be required to be provided as FixedPointingInfo\n",
      "  warnings.warn(\n",
      "/tmp/ipykernel_1637698/1870002761.py:24: GammapyDeprecationWarning: Use observation.get_pointing_icrs(time) instead\n",
      "  reference = MapDataset.create(geom=geom, name='stacked').cutout(position=obs.pointing_radec, width=8.0*max_offset)\n",
      "/home/wecapstor1/caph/mppi045h/anaconda3/envs/gammapy-dev/lib/python3.8/site-packages/astropy/utils/decorators.py:841: GammapyDeprecationWarning: Use observation.pointing or observation.get_pointing_{altaz,icrs} instead\n",
      "  val = self.fget(obj)\n",
      "/home/wecapstor1/caph/mppi045h/anaconda3/envs/gammapy-dev/lib/python3.8/site-packages/astropy/utils/decorators.py:841: GammapyDeprecationWarning: The radec function is deprecated and may be removed in a future version.\n",
      "  val = self.fget(obj)\n"
     ]
    },
    {
     "name": "stdout",
     "output_type": "stream",
     "text": [
      "13\n"
     ]
    },
    {
     "name": "stderr",
     "output_type": "stream",
     "text": [
      "/tmp/ipykernel_1637698/1870002761.py:14: GammapyDeprecationWarning: Use observation.get_pointing_icrs(time) instead\n",
      "  pointing  = observations[i].pointing_radec\n",
      "/home/wecapstor1/caph/mppi045h/gammapy/gammapy/data/observations.py:267: GammapyDeprecationWarning: Pointing will be required to be provided as FixedPointingInfo\n",
      "  warnings.warn(\n",
      "/tmp/ipykernel_1637698/1870002761.py:24: GammapyDeprecationWarning: Use observation.get_pointing_icrs(time) instead\n",
      "  reference = MapDataset.create(geom=geom, name='stacked').cutout(position=obs.pointing_radec, width=8.0*max_offset)\n",
      "/home/wecapstor1/caph/mppi045h/anaconda3/envs/gammapy-dev/lib/python3.8/site-packages/astropy/utils/decorators.py:841: GammapyDeprecationWarning: Use observation.pointing or observation.get_pointing_{altaz,icrs} instead\n",
      "  val = self.fget(obj)\n",
      "/home/wecapstor1/caph/mppi045h/anaconda3/envs/gammapy-dev/lib/python3.8/site-packages/astropy/utils/decorators.py:841: GammapyDeprecationWarning: The radec function is deprecated and may be removed in a future version.\n",
      "  val = self.fget(obj)\n"
     ]
    },
    {
     "name": "stdout",
     "output_type": "stream",
     "text": [
      "14\n"
     ]
    },
    {
     "name": "stderr",
     "output_type": "stream",
     "text": [
      "/tmp/ipykernel_1637698/1870002761.py:14: GammapyDeprecationWarning: Use observation.get_pointing_icrs(time) instead\n",
      "  pointing  = observations[i].pointing_radec\n",
      "/home/wecapstor1/caph/mppi045h/gammapy/gammapy/data/observations.py:267: GammapyDeprecationWarning: Pointing will be required to be provided as FixedPointingInfo\n",
      "  warnings.warn(\n",
      "/tmp/ipykernel_1637698/1870002761.py:24: GammapyDeprecationWarning: Use observation.get_pointing_icrs(time) instead\n",
      "  reference = MapDataset.create(geom=geom, name='stacked').cutout(position=obs.pointing_radec, width=8.0*max_offset)\n",
      "/home/wecapstor1/caph/mppi045h/anaconda3/envs/gammapy-dev/lib/python3.8/site-packages/astropy/utils/decorators.py:841: GammapyDeprecationWarning: Use observation.pointing or observation.get_pointing_{altaz,icrs} instead\n",
      "  val = self.fget(obj)\n",
      "/home/wecapstor1/caph/mppi045h/anaconda3/envs/gammapy-dev/lib/python3.8/site-packages/astropy/utils/decorators.py:841: GammapyDeprecationWarning: The radec function is deprecated and may be removed in a future version.\n",
      "  val = self.fget(obj)\n"
     ]
    },
    {
     "name": "stdout",
     "output_type": "stream",
     "text": [
      "Livetime:  2.154434690031882 h\n",
      "0\n"
     ]
    },
    {
     "name": "stderr",
     "output_type": "stream",
     "text": [
      "/tmp/ipykernel_1637698/1870002761.py:14: GammapyDeprecationWarning: Use observation.get_pointing_icrs(time) instead\n",
      "  pointing  = observations[i].pointing_radec\n",
      "/home/wecapstor1/caph/mppi045h/gammapy/gammapy/data/observations.py:267: GammapyDeprecationWarning: Pointing will be required to be provided as FixedPointingInfo\n",
      "  warnings.warn(\n",
      "/tmp/ipykernel_1637698/1870002761.py:24: GammapyDeprecationWarning: Use observation.get_pointing_icrs(time) instead\n",
      "  reference = MapDataset.create(geom=geom, name='stacked').cutout(position=obs.pointing_radec, width=8.0*max_offset)\n",
      "/home/wecapstor1/caph/mppi045h/anaconda3/envs/gammapy-dev/lib/python3.8/site-packages/astropy/utils/decorators.py:841: GammapyDeprecationWarning: Use observation.pointing or observation.get_pointing_{altaz,icrs} instead\n",
      "  val = self.fget(obj)\n",
      "/home/wecapstor1/caph/mppi045h/anaconda3/envs/gammapy-dev/lib/python3.8/site-packages/astropy/utils/decorators.py:841: GammapyDeprecationWarning: The radec function is deprecated and may be removed in a future version.\n",
      "  val = self.fget(obj)\n"
     ]
    },
    {
     "name": "stdout",
     "output_type": "stream",
     "text": [
      "1\n"
     ]
    },
    {
     "name": "stderr",
     "output_type": "stream",
     "text": [
      "/tmp/ipykernel_1637698/1870002761.py:14: GammapyDeprecationWarning: Use observation.get_pointing_icrs(time) instead\n",
      "  pointing  = observations[i].pointing_radec\n",
      "/home/wecapstor1/caph/mppi045h/gammapy/gammapy/data/observations.py:267: GammapyDeprecationWarning: Pointing will be required to be provided as FixedPointingInfo\n",
      "  warnings.warn(\n",
      "/tmp/ipykernel_1637698/1870002761.py:24: GammapyDeprecationWarning: Use observation.get_pointing_icrs(time) instead\n",
      "  reference = MapDataset.create(geom=geom, name='stacked').cutout(position=obs.pointing_radec, width=8.0*max_offset)\n",
      "/home/wecapstor1/caph/mppi045h/anaconda3/envs/gammapy-dev/lib/python3.8/site-packages/astropy/utils/decorators.py:841: GammapyDeprecationWarning: Use observation.pointing or observation.get_pointing_{altaz,icrs} instead\n",
      "  val = self.fget(obj)\n",
      "/home/wecapstor1/caph/mppi045h/anaconda3/envs/gammapy-dev/lib/python3.8/site-packages/astropy/utils/decorators.py:841: GammapyDeprecationWarning: The radec function is deprecated and may be removed in a future version.\n",
      "  val = self.fget(obj)\n"
     ]
    },
    {
     "name": "stdout",
     "output_type": "stream",
     "text": [
      "2\n"
     ]
    },
    {
     "name": "stderr",
     "output_type": "stream",
     "text": [
      "/tmp/ipykernel_1637698/1870002761.py:14: GammapyDeprecationWarning: Use observation.get_pointing_icrs(time) instead\n",
      "  pointing  = observations[i].pointing_radec\n",
      "/home/wecapstor1/caph/mppi045h/gammapy/gammapy/data/observations.py:267: GammapyDeprecationWarning: Pointing will be required to be provided as FixedPointingInfo\n",
      "  warnings.warn(\n",
      "/tmp/ipykernel_1637698/1870002761.py:24: GammapyDeprecationWarning: Use observation.get_pointing_icrs(time) instead\n",
      "  reference = MapDataset.create(geom=geom, name='stacked').cutout(position=obs.pointing_radec, width=8.0*max_offset)\n",
      "/home/wecapstor1/caph/mppi045h/anaconda3/envs/gammapy-dev/lib/python3.8/site-packages/astropy/utils/decorators.py:841: GammapyDeprecationWarning: Use observation.pointing or observation.get_pointing_{altaz,icrs} instead\n",
      "  val = self.fget(obj)\n",
      "/home/wecapstor1/caph/mppi045h/anaconda3/envs/gammapy-dev/lib/python3.8/site-packages/astropy/utils/decorators.py:841: GammapyDeprecationWarning: The radec function is deprecated and may be removed in a future version.\n",
      "  val = self.fget(obj)\n"
     ]
    },
    {
     "name": "stdout",
     "output_type": "stream",
     "text": [
      "3\n"
     ]
    },
    {
     "name": "stderr",
     "output_type": "stream",
     "text": [
      "/tmp/ipykernel_1637698/1870002761.py:14: GammapyDeprecationWarning: Use observation.get_pointing_icrs(time) instead\n",
      "  pointing  = observations[i].pointing_radec\n",
      "/home/wecapstor1/caph/mppi045h/gammapy/gammapy/data/observations.py:267: GammapyDeprecationWarning: Pointing will be required to be provided as FixedPointingInfo\n",
      "  warnings.warn(\n",
      "/tmp/ipykernel_1637698/1870002761.py:24: GammapyDeprecationWarning: Use observation.get_pointing_icrs(time) instead\n",
      "  reference = MapDataset.create(geom=geom, name='stacked').cutout(position=obs.pointing_radec, width=8.0*max_offset)\n",
      "/home/wecapstor1/caph/mppi045h/anaconda3/envs/gammapy-dev/lib/python3.8/site-packages/astropy/utils/decorators.py:841: GammapyDeprecationWarning: Use observation.pointing or observation.get_pointing_{altaz,icrs} instead\n",
      "  val = self.fget(obj)\n",
      "/home/wecapstor1/caph/mppi045h/anaconda3/envs/gammapy-dev/lib/python3.8/site-packages/astropy/utils/decorators.py:841: GammapyDeprecationWarning: The radec function is deprecated and may be removed in a future version.\n",
      "  val = self.fget(obj)\n"
     ]
    },
    {
     "name": "stdout",
     "output_type": "stream",
     "text": [
      "4\n"
     ]
    },
    {
     "name": "stderr",
     "output_type": "stream",
     "text": [
      "/tmp/ipykernel_1637698/1870002761.py:14: GammapyDeprecationWarning: Use observation.get_pointing_icrs(time) instead\n",
      "  pointing  = observations[i].pointing_radec\n",
      "/home/wecapstor1/caph/mppi045h/gammapy/gammapy/data/observations.py:267: GammapyDeprecationWarning: Pointing will be required to be provided as FixedPointingInfo\n",
      "  warnings.warn(\n",
      "/tmp/ipykernel_1637698/1870002761.py:24: GammapyDeprecationWarning: Use observation.get_pointing_icrs(time) instead\n",
      "  reference = MapDataset.create(geom=geom, name='stacked').cutout(position=obs.pointing_radec, width=8.0*max_offset)\n",
      "/home/wecapstor1/caph/mppi045h/anaconda3/envs/gammapy-dev/lib/python3.8/site-packages/astropy/utils/decorators.py:841: GammapyDeprecationWarning: Use observation.pointing or observation.get_pointing_{altaz,icrs} instead\n",
      "  val = self.fget(obj)\n",
      "/home/wecapstor1/caph/mppi045h/anaconda3/envs/gammapy-dev/lib/python3.8/site-packages/astropy/utils/decorators.py:841: GammapyDeprecationWarning: The radec function is deprecated and may be removed in a future version.\n",
      "  val = self.fget(obj)\n"
     ]
    },
    {
     "name": "stdout",
     "output_type": "stream",
     "text": [
      "5\n"
     ]
    },
    {
     "name": "stderr",
     "output_type": "stream",
     "text": [
      "/tmp/ipykernel_1637698/1870002761.py:14: GammapyDeprecationWarning: Use observation.get_pointing_icrs(time) instead\n",
      "  pointing  = observations[i].pointing_radec\n",
      "/home/wecapstor1/caph/mppi045h/gammapy/gammapy/data/observations.py:267: GammapyDeprecationWarning: Pointing will be required to be provided as FixedPointingInfo\n",
      "  warnings.warn(\n",
      "/tmp/ipykernel_1637698/1870002761.py:24: GammapyDeprecationWarning: Use observation.get_pointing_icrs(time) instead\n",
      "  reference = MapDataset.create(geom=geom, name='stacked').cutout(position=obs.pointing_radec, width=8.0*max_offset)\n",
      "/home/wecapstor1/caph/mppi045h/anaconda3/envs/gammapy-dev/lib/python3.8/site-packages/astropy/utils/decorators.py:841: GammapyDeprecationWarning: Use observation.pointing or observation.get_pointing_{altaz,icrs} instead\n",
      "  val = self.fget(obj)\n",
      "/home/wecapstor1/caph/mppi045h/anaconda3/envs/gammapy-dev/lib/python3.8/site-packages/astropy/utils/decorators.py:841: GammapyDeprecationWarning: The radec function is deprecated and may be removed in a future version.\n",
      "  val = self.fget(obj)\n"
     ]
    },
    {
     "name": "stdout",
     "output_type": "stream",
     "text": [
      "6\n"
     ]
    },
    {
     "name": "stderr",
     "output_type": "stream",
     "text": [
      "/tmp/ipykernel_1637698/1870002761.py:14: GammapyDeprecationWarning: Use observation.get_pointing_icrs(time) instead\n",
      "  pointing  = observations[i].pointing_radec\n",
      "/home/wecapstor1/caph/mppi045h/gammapy/gammapy/data/observations.py:267: GammapyDeprecationWarning: Pointing will be required to be provided as FixedPointingInfo\n",
      "  warnings.warn(\n",
      "/tmp/ipykernel_1637698/1870002761.py:24: GammapyDeprecationWarning: Use observation.get_pointing_icrs(time) instead\n",
      "  reference = MapDataset.create(geom=geom, name='stacked').cutout(position=obs.pointing_radec, width=8.0*max_offset)\n",
      "/home/wecapstor1/caph/mppi045h/anaconda3/envs/gammapy-dev/lib/python3.8/site-packages/astropy/utils/decorators.py:841: GammapyDeprecationWarning: Use observation.pointing or observation.get_pointing_{altaz,icrs} instead\n",
      "  val = self.fget(obj)\n",
      "/home/wecapstor1/caph/mppi045h/anaconda3/envs/gammapy-dev/lib/python3.8/site-packages/astropy/utils/decorators.py:841: GammapyDeprecationWarning: The radec function is deprecated and may be removed in a future version.\n",
      "  val = self.fget(obj)\n"
     ]
    },
    {
     "name": "stdout",
     "output_type": "stream",
     "text": [
      "7\n"
     ]
    },
    {
     "name": "stderr",
     "output_type": "stream",
     "text": [
      "/tmp/ipykernel_1637698/1870002761.py:14: GammapyDeprecationWarning: Use observation.get_pointing_icrs(time) instead\n",
      "  pointing  = observations[i].pointing_radec\n",
      "/home/wecapstor1/caph/mppi045h/gammapy/gammapy/data/observations.py:267: GammapyDeprecationWarning: Pointing will be required to be provided as FixedPointingInfo\n",
      "  warnings.warn(\n",
      "/tmp/ipykernel_1637698/1870002761.py:24: GammapyDeprecationWarning: Use observation.get_pointing_icrs(time) instead\n",
      "  reference = MapDataset.create(geom=geom, name='stacked').cutout(position=obs.pointing_radec, width=8.0*max_offset)\n",
      "/home/wecapstor1/caph/mppi045h/anaconda3/envs/gammapy-dev/lib/python3.8/site-packages/astropy/utils/decorators.py:841: GammapyDeprecationWarning: Use observation.pointing or observation.get_pointing_{altaz,icrs} instead\n",
      "  val = self.fget(obj)\n",
      "/home/wecapstor1/caph/mppi045h/anaconda3/envs/gammapy-dev/lib/python3.8/site-packages/astropy/utils/decorators.py:841: GammapyDeprecationWarning: The radec function is deprecated and may be removed in a future version.\n",
      "  val = self.fget(obj)\n"
     ]
    },
    {
     "name": "stdout",
     "output_type": "stream",
     "text": [
      "8\n"
     ]
    },
    {
     "name": "stderr",
     "output_type": "stream",
     "text": [
      "/tmp/ipykernel_1637698/1870002761.py:14: GammapyDeprecationWarning: Use observation.get_pointing_icrs(time) instead\n",
      "  pointing  = observations[i].pointing_radec\n",
      "/home/wecapstor1/caph/mppi045h/gammapy/gammapy/data/observations.py:267: GammapyDeprecationWarning: Pointing will be required to be provided as FixedPointingInfo\n",
      "  warnings.warn(\n",
      "/tmp/ipykernel_1637698/1870002761.py:24: GammapyDeprecationWarning: Use observation.get_pointing_icrs(time) instead\n",
      "  reference = MapDataset.create(geom=geom, name='stacked').cutout(position=obs.pointing_radec, width=8.0*max_offset)\n",
      "/home/wecapstor1/caph/mppi045h/anaconda3/envs/gammapy-dev/lib/python3.8/site-packages/astropy/utils/decorators.py:841: GammapyDeprecationWarning: Use observation.pointing or observation.get_pointing_{altaz,icrs} instead\n",
      "  val = self.fget(obj)\n",
      "/home/wecapstor1/caph/mppi045h/anaconda3/envs/gammapy-dev/lib/python3.8/site-packages/astropy/utils/decorators.py:841: GammapyDeprecationWarning: The radec function is deprecated and may be removed in a future version.\n",
      "  val = self.fget(obj)\n"
     ]
    },
    {
     "name": "stdout",
     "output_type": "stream",
     "text": [
      "9\n"
     ]
    },
    {
     "name": "stderr",
     "output_type": "stream",
     "text": [
      "/tmp/ipykernel_1637698/1870002761.py:14: GammapyDeprecationWarning: Use observation.get_pointing_icrs(time) instead\n",
      "  pointing  = observations[i].pointing_radec\n",
      "/home/wecapstor1/caph/mppi045h/gammapy/gammapy/data/observations.py:267: GammapyDeprecationWarning: Pointing will be required to be provided as FixedPointingInfo\n",
      "  warnings.warn(\n",
      "/tmp/ipykernel_1637698/1870002761.py:24: GammapyDeprecationWarning: Use observation.get_pointing_icrs(time) instead\n",
      "  reference = MapDataset.create(geom=geom, name='stacked').cutout(position=obs.pointing_radec, width=8.0*max_offset)\n",
      "/home/wecapstor1/caph/mppi045h/anaconda3/envs/gammapy-dev/lib/python3.8/site-packages/astropy/utils/decorators.py:841: GammapyDeprecationWarning: Use observation.pointing or observation.get_pointing_{altaz,icrs} instead\n",
      "  val = self.fget(obj)\n",
      "/home/wecapstor1/caph/mppi045h/anaconda3/envs/gammapy-dev/lib/python3.8/site-packages/astropy/utils/decorators.py:841: GammapyDeprecationWarning: The radec function is deprecated and may be removed in a future version.\n",
      "  val = self.fget(obj)\n"
     ]
    },
    {
     "name": "stdout",
     "output_type": "stream",
     "text": [
      "10\n"
     ]
    },
    {
     "name": "stderr",
     "output_type": "stream",
     "text": [
      "/tmp/ipykernel_1637698/1870002761.py:14: GammapyDeprecationWarning: Use observation.get_pointing_icrs(time) instead\n",
      "  pointing  = observations[i].pointing_radec\n",
      "/home/wecapstor1/caph/mppi045h/gammapy/gammapy/data/observations.py:267: GammapyDeprecationWarning: Pointing will be required to be provided as FixedPointingInfo\n",
      "  warnings.warn(\n",
      "/tmp/ipykernel_1637698/1870002761.py:24: GammapyDeprecationWarning: Use observation.get_pointing_icrs(time) instead\n",
      "  reference = MapDataset.create(geom=geom, name='stacked').cutout(position=obs.pointing_radec, width=8.0*max_offset)\n",
      "/home/wecapstor1/caph/mppi045h/anaconda3/envs/gammapy-dev/lib/python3.8/site-packages/astropy/utils/decorators.py:841: GammapyDeprecationWarning: Use observation.pointing or observation.get_pointing_{altaz,icrs} instead\n",
      "  val = self.fget(obj)\n",
      "/home/wecapstor1/caph/mppi045h/anaconda3/envs/gammapy-dev/lib/python3.8/site-packages/astropy/utils/decorators.py:841: GammapyDeprecationWarning: The radec function is deprecated and may be removed in a future version.\n",
      "  val = self.fget(obj)\n"
     ]
    },
    {
     "name": "stdout",
     "output_type": "stream",
     "text": [
      "11\n"
     ]
    },
    {
     "name": "stderr",
     "output_type": "stream",
     "text": [
      "/tmp/ipykernel_1637698/1870002761.py:14: GammapyDeprecationWarning: Use observation.get_pointing_icrs(time) instead\n",
      "  pointing  = observations[i].pointing_radec\n",
      "/home/wecapstor1/caph/mppi045h/gammapy/gammapy/data/observations.py:267: GammapyDeprecationWarning: Pointing will be required to be provided as FixedPointingInfo\n",
      "  warnings.warn(\n",
      "/tmp/ipykernel_1637698/1870002761.py:24: GammapyDeprecationWarning: Use observation.get_pointing_icrs(time) instead\n",
      "  reference = MapDataset.create(geom=geom, name='stacked').cutout(position=obs.pointing_radec, width=8.0*max_offset)\n",
      "/home/wecapstor1/caph/mppi045h/anaconda3/envs/gammapy-dev/lib/python3.8/site-packages/astropy/utils/decorators.py:841: GammapyDeprecationWarning: Use observation.pointing or observation.get_pointing_{altaz,icrs} instead\n",
      "  val = self.fget(obj)\n",
      "/home/wecapstor1/caph/mppi045h/anaconda3/envs/gammapy-dev/lib/python3.8/site-packages/astropy/utils/decorators.py:841: GammapyDeprecationWarning: The radec function is deprecated and may be removed in a future version.\n",
      "  val = self.fget(obj)\n"
     ]
    },
    {
     "name": "stdout",
     "output_type": "stream",
     "text": [
      "12\n"
     ]
    },
    {
     "name": "stderr",
     "output_type": "stream",
     "text": [
      "/tmp/ipykernel_1637698/1870002761.py:14: GammapyDeprecationWarning: Use observation.get_pointing_icrs(time) instead\n",
      "  pointing  = observations[i].pointing_radec\n",
      "/home/wecapstor1/caph/mppi045h/gammapy/gammapy/data/observations.py:267: GammapyDeprecationWarning: Pointing will be required to be provided as FixedPointingInfo\n",
      "  warnings.warn(\n",
      "/tmp/ipykernel_1637698/1870002761.py:24: GammapyDeprecationWarning: Use observation.get_pointing_icrs(time) instead\n",
      "  reference = MapDataset.create(geom=geom, name='stacked').cutout(position=obs.pointing_radec, width=8.0*max_offset)\n",
      "/home/wecapstor1/caph/mppi045h/anaconda3/envs/gammapy-dev/lib/python3.8/site-packages/astropy/utils/decorators.py:841: GammapyDeprecationWarning: Use observation.pointing or observation.get_pointing_{altaz,icrs} instead\n",
      "  val = self.fget(obj)\n",
      "/home/wecapstor1/caph/mppi045h/anaconda3/envs/gammapy-dev/lib/python3.8/site-packages/astropy/utils/decorators.py:841: GammapyDeprecationWarning: The radec function is deprecated and may be removed in a future version.\n",
      "  val = self.fget(obj)\n"
     ]
    }
   ],
   "source": [
    "for l in livetime_simus[6:10]:\n",
    "    print(\"Livetime: \", l)\n",
    "    \n",
    "    factors_ = compute_factor(l)\n",
    "    datasets_, dataset_stacked_ = create(factors_)\n",
    "    dataset_stacked_.write(f\"dataset-simulated-{l.value}-hr.fits.gz\", overwrite= True)"
   ]
  },
  {
   "cell_type": "code",
   "execution_count": null,
   "id": "4b589504-6b0f-481b-9d66-73ae8b6cfc0e",
   "metadata": {},
   "outputs": [],
   "source": []
  }
 ],
 "metadata": {
  "kernelspec": {
   "display_name": "Python 3 (ipykernel)",
   "language": "python",
   "name": "python3"
  },
  "language_info": {
   "codemirror_mode": {
    "name": "ipython",
    "version": 3
   },
   "file_extension": ".py",
   "mimetype": "text/x-python",
   "name": "python",
   "nbconvert_exporter": "python",
   "pygments_lexer": "ipython3",
   "version": "3.8.16"
  }
 },
 "nbformat": 4,
 "nbformat_minor": 5
}
