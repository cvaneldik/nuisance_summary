{
 "cells": [
  {
   "cell_type": "code",
   "execution_count": 1,
   "id": "13f53fdd-7cf5-40bb-8d8e-dc58293148bc",
   "metadata": {},
   "outputs": [
    {
     "name": "stdout",
     "output_type": "stream",
     "text": [
      "0.1.dev20025+g3b82a43.d20230724  == 1\n"
     ]
    }
   ],
   "source": [
    "import gammapy\n",
    "print(gammapy.__version__ , \" == 1\")"
   ]
  },
  {
   "cell_type": "code",
   "execution_count": 2,
   "id": "15e241eb-3444-47b0-9397-b812765ae9b9",
   "metadata": {},
   "outputs": [],
   "source": [
    "import numpy as np\n",
    "import os\n",
    "import astropy\n",
    "from astropy import units as u\n",
    "import matplotlib.pyplot as plt\n",
    "\n",
    "from matplotlib import rc\n",
    "import matplotlib.pylab as plt\n",
    "\n",
    "rc('font', **{'family': 'serif', 'serif': ['Computer Modern']})\n",
    "rc('text', usetex=True)\n",
    "\n",
    "from collections import OrderedDict\n",
    "from astropy import units\n",
    "from gammapy.data import DataStore\n",
    "from astropy.io import fits\n",
    "from astropy.coordinates import SkyCoord\n",
    "from gammapy.data import FixedPointingInfo, Observation, DataStore, observatory_locations\n",
    "from astropy.coordinates import SkyOffsetFrame\n",
    "from gammapy.maps import WcsNDMap, WcsGeom, MapAxis, Map\n",
    "from gammapy.makers import MapDatasetMaker, SafeMaskMaker\n",
    "from gammapy.datasets import MapDataset\n",
    "from gammapy.irf import load_cta_irfs, EDispKernel, PSFKernel\n",
    "from gammapy.modeling import Fit\n",
    "from gammapy.modeling.models import (\n",
    "    Models,\n",
    "    FoVBackgroundModel,\n",
    "    PointSpatialModel,\n",
    "    PowerLawSpectralModel,\n",
    "    SkyModel,\n",
    ")\n",
    "from regions import CircleSkyRegion, RectangleSkyRegion\n"
   ]
  },
  {
   "cell_type": "code",
   "execution_count": 8,
   "id": "1fba1f9e-037b-4db9-bf11-f6b54d17d978",
   "metadata": {},
   "outputs": [],
   "source": [
    "pks_pos = SkyCoord(frame = \"galactic\",l =  \"17.74 deg\", b= \"-52.25 deg\")\n",
    "#pks_pos = SkyCoord( \"21h58m43.2s\",  \"-30d13m18s\")\n"
   ]
  },
  {
   "cell_type": "code",
   "execution_count": 9,
   "id": "a05f3fa4-2322-482f-bb57-0d857d990cac",
   "metadata": {},
   "outputs": [
    {
     "ename": "OSError",
     "evalue": "File exists already: ../standard_model.yml",
     "output_type": "error",
     "traceback": [
      "\u001b[0;31m---------------------------------------------------------------------------\u001b[0m",
      "\u001b[0;31mTypeError\u001b[0m                                 Traceback (most recent call last)",
      "Cell \u001b[0;32mIn[9], line 2\u001b[0m\n\u001b[1;32m      1\u001b[0m \u001b[38;5;28;01mtry\u001b[39;00m:\n\u001b[0;32m----> 2\u001b[0m     models  \u001b[38;5;241m=\u001b[39m \u001b[43mModels\u001b[49m\u001b[38;5;241;43m.\u001b[39;49m\u001b[43mread\u001b[49m\u001b[43m(\u001b[49m\u001b[38;5;124;43m'\u001b[39;49m\u001b[38;5;124;43m../standard_model.yml\u001b[39;49m\u001b[38;5;124;43m'\u001b[39;49m\u001b[43m)\u001b[49m\n\u001b[1;32m      3\u001b[0m \u001b[38;5;28;01mexcept\u001b[39;00m:\n",
      "File \u001b[0;32m~/Documents/gammapy/gammapy/modeling/models/core.py:438\u001b[0m, in \u001b[0;36mDatasetModels.read\u001b[0;34m(cls, filename)\u001b[0m\n\u001b[1;32m    437\u001b[0m path, filename \u001b[38;5;241m=\u001b[39m split(filename)\n\u001b[0;32m--> 438\u001b[0m \u001b[38;5;28;01mreturn\u001b[39;00m \u001b[38;5;28;43mcls\u001b[39;49m\u001b[38;5;241;43m.\u001b[39;49m\u001b[43mfrom_yaml\u001b[49m\u001b[43m(\u001b[49m\u001b[43myaml_str\u001b[49m\u001b[43m,\u001b[49m\u001b[43m \u001b[49m\u001b[43mpath\u001b[49m\u001b[38;5;241;43m=\u001b[39;49m\u001b[43mpath\u001b[49m\u001b[43m)\u001b[49m\n",
      "File \u001b[0;32m~/Documents/gammapy/gammapy/modeling/models/core.py:444\u001b[0m, in \u001b[0;36mDatasetModels.from_yaml\u001b[0;34m(cls, yaml_str, path)\u001b[0m\n\u001b[1;32m    443\u001b[0m data \u001b[38;5;241m=\u001b[39m yaml\u001b[38;5;241m.\u001b[39msafe_load(yaml_str)\n\u001b[0;32m--> 444\u001b[0m \u001b[38;5;28;01mreturn\u001b[39;00m \u001b[38;5;28;43mcls\u001b[39;49m\u001b[38;5;241;43m.\u001b[39;49m\u001b[43mfrom_dict\u001b[49m\u001b[43m(\u001b[49m\u001b[43mdata\u001b[49m\u001b[43m,\u001b[49m\u001b[43m \u001b[49m\u001b[43mpath\u001b[49m\u001b[38;5;241;43m=\u001b[39;49m\u001b[43mpath\u001b[49m\u001b[43m)\u001b[49m\n",
      "File \u001b[0;32m~/Documents/gammapy/gammapy/modeling/models/core.py:455\u001b[0m, in \u001b[0;36mDatasetModels.from_dict\u001b[0;34m(cls, data, path)\u001b[0m\n\u001b[1;32m    454\u001b[0m model_cls \u001b[38;5;241m=\u001b[39m MODEL_REGISTRY\u001b[38;5;241m.\u001b[39mget_cls(component[\u001b[38;5;124m\"\u001b[39m\u001b[38;5;124mtype\u001b[39m\u001b[38;5;124m\"\u001b[39m])\n\u001b[0;32m--> 455\u001b[0m model \u001b[38;5;241m=\u001b[39m \u001b[43mmodel_cls\u001b[49m\u001b[38;5;241;43m.\u001b[39;49m\u001b[43mfrom_dict\u001b[49m\u001b[43m(\u001b[49m\u001b[43mcomponent\u001b[49m\u001b[43m)\u001b[49m\n\u001b[1;32m    456\u001b[0m models\u001b[38;5;241m.\u001b[39mappend(model)\n",
      "File \u001b[0;32m~/Documents/gammapy/gammapy/modeling/models/cube.py:483\u001b[0m, in \u001b[0;36mSkyModel.from_dict\u001b[0;34m(cls, data)\u001b[0m\n\u001b[1;32m    482\u001b[0m model_class \u001b[38;5;241m=\u001b[39m SPECTRAL_MODEL_REGISTRY\u001b[38;5;241m.\u001b[39mget_cls(data[\u001b[38;5;124m\"\u001b[39m\u001b[38;5;124mspectral\u001b[39m\u001b[38;5;124m\"\u001b[39m][\u001b[38;5;124m\"\u001b[39m\u001b[38;5;124mtype\u001b[39m\u001b[38;5;124m\"\u001b[39m])\n\u001b[0;32m--> 483\u001b[0m spectral_model \u001b[38;5;241m=\u001b[39m \u001b[43mmodel_class\u001b[49m\u001b[38;5;241;43m.\u001b[39;49m\u001b[43mfrom_dict\u001b[49m\u001b[43m(\u001b[49m\u001b[43m{\u001b[49m\u001b[38;5;124;43m\"\u001b[39;49m\u001b[38;5;124;43mspectral\u001b[39;49m\u001b[38;5;124;43m\"\u001b[39;49m\u001b[43m:\u001b[49m\u001b[43m \u001b[49m\u001b[43mdata\u001b[49m\u001b[43m[\u001b[49m\u001b[38;5;124;43m\"\u001b[39;49m\u001b[38;5;124;43mspectral\u001b[39;49m\u001b[38;5;124;43m\"\u001b[39;49m\u001b[43m]\u001b[49m\u001b[43m}\u001b[49m\u001b[43m)\u001b[49m\n\u001b[1;32m    485\u001b[0m spatial_data \u001b[38;5;241m=\u001b[39m data\u001b[38;5;241m.\u001b[39mget(\u001b[38;5;124m\"\u001b[39m\u001b[38;5;124mspatial\u001b[39m\u001b[38;5;124m\"\u001b[39m)\n",
      "File \u001b[0;32m~/Documents/gammapy/gammapy/modeling/models/core.py:225\u001b[0m, in \u001b[0;36mModelBase.from_dict\u001b[0;34m(cls, data)\u001b[0m\n\u001b[1;32m    221\u001b[0m     \u001b[38;5;28;01mraise\u001b[39;00m \u001b[38;5;167;01mValueError\u001b[39;00m(\n\u001b[1;32m    222\u001b[0m         \u001b[38;5;124mf\u001b[39m\u001b[38;5;124m\"\u001b[39m\u001b[38;5;124mInvalid model type \u001b[39m\u001b[38;5;132;01m{\u001b[39;00mdata[\u001b[38;5;124m'\u001b[39m\u001b[38;5;124mtype\u001b[39m\u001b[38;5;124m'\u001b[39m]\u001b[38;5;132;01m}\u001b[39;00m\u001b[38;5;124m for class \u001b[39m\u001b[38;5;132;01m{\u001b[39;00m\u001b[38;5;28mcls\u001b[39m\u001b[38;5;241m.\u001b[39m\u001b[38;5;18m__name__\u001b[39m\u001b[38;5;132;01m}\u001b[39;00m\u001b[38;5;124m\"\u001b[39m\n\u001b[1;32m    223\u001b[0m     )\n\u001b[0;32m--> 225\u001b[0m parameters \u001b[38;5;241m=\u001b[39m \u001b[43m_build_parameters_from_dict\u001b[49m\u001b[43m(\u001b[49m\n\u001b[1;32m    226\u001b[0m \u001b[43m    \u001b[49m\u001b[43mdata\u001b[49m\u001b[43m[\u001b[49m\u001b[38;5;124;43m\"\u001b[39;49m\u001b[38;5;124;43mparameters\u001b[39;49m\u001b[38;5;124;43m\"\u001b[39;49m\u001b[43m]\u001b[49m\u001b[43m,\u001b[49m\u001b[43m \u001b[49m\u001b[38;5;28;43mcls\u001b[39;49m\u001b[38;5;241;43m.\u001b[39;49m\u001b[43mdefault_parameters\u001b[49m\n\u001b[1;32m    227\u001b[0m \u001b[43m\u001b[49m\u001b[43m)\u001b[49m\n\u001b[1;32m    229\u001b[0m \u001b[38;5;66;03m# TODO: this is a special case for spatial models, maybe better move to\u001b[39;00m\n\u001b[1;32m    230\u001b[0m \u001b[38;5;66;03m#  `SpatialModel` base class\u001b[39;00m\n",
      "File \u001b[0;32m~/Documents/gammapy/gammapy/modeling/models/core.py:74\u001b[0m, in \u001b[0;36m_build_parameters_from_dict\u001b[0;34m(data, default_parameters)\u001b[0m\n\u001b[1;32m     72\u001b[0m     par_data\u001b[38;5;241m.\u001b[39mappend(par_dict)\n\u001b[0;32m---> 74\u001b[0m \u001b[38;5;28;01mreturn\u001b[39;00m \u001b[43mParameters\u001b[49m\u001b[38;5;241;43m.\u001b[39;49m\u001b[43mfrom_dict\u001b[49m\u001b[43m(\u001b[49m\u001b[43mpar_data\u001b[49m\u001b[43m)\u001b[49m\n",
      "File \u001b[0;32m~/Documents/gammapy/gammapy/modeling/parameter.py:710\u001b[0m, in \u001b[0;36mParameters.from_dict\u001b[0;34m(cls, data)\u001b[0m\n\u001b[1;32m    709\u001b[0m prior \u001b[38;5;241m=\u001b[39m par\u001b[38;5;241m.\u001b[39mpop(\u001b[38;5;124m\"\u001b[39m\u001b[38;5;124mprior\u001b[39m\u001b[38;5;124m\"\u001b[39m, \u001b[38;5;28;01mNone\u001b[39;00m)\n\u001b[0;32m--> 710\u001b[0m parameter \u001b[38;5;241m=\u001b[39m \u001b[43mParameter\u001b[49m\u001b[43m(\u001b[49m\u001b[38;5;241;43m*\u001b[39;49m\u001b[38;5;241;43m*\u001b[39;49m\u001b[43mpar\u001b[49m\u001b[43m)\u001b[49m\n\u001b[1;32m    711\u001b[0m parameter\u001b[38;5;241m.\u001b[39m_link_label_io \u001b[38;5;241m=\u001b[39m link_label\n",
      "\u001b[0;31mTypeError\u001b[0m: __init__() got an unexpected keyword argument 'is_penalised'",
      "\nDuring handling of the above exception, another exception occurred:\n",
      "\u001b[0;31mOSError\u001b[0m                                   Traceback (most recent call last)",
      "Cell \u001b[0;32mIn[9], line 7\u001b[0m\n\u001b[1;32m      3\u001b[0m \u001b[38;5;28;01mexcept\u001b[39;00m:\n\u001b[1;32m      4\u001b[0m     st_model \u001b[38;5;241m=\u001b[39m SkyModel(spatial_model \u001b[38;5;241m=\u001b[39m PointSpatialModel(lon_0 \u001b[38;5;241m=\u001b[39m pks_pos\u001b[38;5;241m.\u001b[39ml\u001b[38;5;241m.\u001b[39mdeg \u001b[38;5;241m*\u001b[39mu\u001b[38;5;241m.\u001b[39mdeg, \n\u001b[1;32m      5\u001b[0m                                                           lat_0 \u001b[38;5;241m=\u001b[39m  pks_pos\u001b[38;5;241m.\u001b[39mb\u001b[38;5;241m.\u001b[39mdeg \u001b[38;5;241m*\u001b[39m u\u001b[38;5;241m.\u001b[39mdeg),\n\u001b[1;32m      6\u001b[0m                        spectral_model \u001b[38;5;241m=\u001b[39m PowerLawSpectralModel())\n\u001b[0;32m----> 7\u001b[0m     \u001b[43mModels\u001b[49m\u001b[43m(\u001b[49m\u001b[43mst_model\u001b[49m\u001b[43m)\u001b[49m\u001b[38;5;241;43m.\u001b[39;49m\u001b[43mwrite\u001b[49m\u001b[43m(\u001b[49m\u001b[38;5;124;43m\"\u001b[39;49m\u001b[38;5;124;43m../standard_model.yml\u001b[39;49m\u001b[38;5;124;43m\"\u001b[39;49m\u001b[43m)\u001b[49m\n\u001b[1;32m      8\u001b[0m     models  \u001b[38;5;241m=\u001b[39m Models\u001b[38;5;241m.\u001b[39mread(\u001b[38;5;124m'\u001b[39m\u001b[38;5;124m../standard_model.yml\u001b[39m\u001b[38;5;124m'\u001b[39m)\n",
      "File \u001b[0;32m~/Documents/gammapy/gammapy/modeling/models/core.py:512\u001b[0m, in \u001b[0;36mDatasetModels.write\u001b[0;34m(self, path, overwrite, full_output, overwrite_templates, write_covariance, write_mulitnprior)\u001b[0m\n\u001b[1;32m    509\u001b[0m base_path \u001b[38;5;241m=\u001b[39m make_path(base_path)\n\u001b[1;32m    511\u001b[0m \u001b[38;5;28;01mif\u001b[39;00m path\u001b[38;5;241m.\u001b[39mexists() \u001b[38;5;129;01mand\u001b[39;00m \u001b[38;5;129;01mnot\u001b[39;00m overwrite:\n\u001b[0;32m--> 512\u001b[0m     \u001b[38;5;28;01mraise\u001b[39;00m \u001b[38;5;167;01mIOError\u001b[39;00m(\u001b[38;5;124mf\u001b[39m\u001b[38;5;124m\"\u001b[39m\u001b[38;5;124mFile exists already: \u001b[39m\u001b[38;5;132;01m{\u001b[39;00mpath\u001b[38;5;132;01m}\u001b[39;00m\u001b[38;5;124m\"\u001b[39m)\n\u001b[1;32m    514\u001b[0m \u001b[38;5;28;01mif\u001b[39;00m (\n\u001b[1;32m    515\u001b[0m     write_covariance\n\u001b[1;32m    516\u001b[0m     \u001b[38;5;129;01mand\u001b[39;00m \u001b[38;5;28mself\u001b[39m\u001b[38;5;241m.\u001b[39mcovariance \u001b[38;5;129;01mis\u001b[39;00m \u001b[38;5;129;01mnot\u001b[39;00m \u001b[38;5;28;01mNone\u001b[39;00m\n\u001b[1;32m    517\u001b[0m     \u001b[38;5;129;01mand\u001b[39;00m \u001b[38;5;28mlen\u001b[39m(\u001b[38;5;28mself\u001b[39m\u001b[38;5;241m.\u001b[39mparameters) \u001b[38;5;241m!=\u001b[39m \u001b[38;5;241m0\u001b[39m\n\u001b[1;32m    518\u001b[0m ):\n\u001b[1;32m    519\u001b[0m     filecovar \u001b[38;5;241m=\u001b[39m path\u001b[38;5;241m.\u001b[39mstem \u001b[38;5;241m+\u001b[39m \u001b[38;5;124m\"\u001b[39m\u001b[38;5;124m_covariance.dat\u001b[39m\u001b[38;5;124m\"\u001b[39m\n",
      "\u001b[0;31mOSError\u001b[0m: File exists already: ../standard_model.yml"
     ]
    }
   ],
   "source": [
    "try:\n",
    "    models  = Models.read('../standard_model.yml')\n",
    "except:\n",
    "    st_model = SkyModel(spatial_model = PointSpatialModel(lon_0 = pks_pos.l.deg *u.deg, \n",
    "                                                          lat_0 =  pks_pos.b.deg * u.deg),\n",
    "                       spectral_model = PowerLawSpectralModel())\n",
    "    Models(st_model).write(\"../standard_model.yml\")\n",
    "    models  = Models.read('../standard_model.yml')\n",
    "    "
   ]
  },
  {
   "cell_type": "code",
   "execution_count": null,
   "id": "13aca3ba-f8d5-4595-800c-10860678f071",
   "metadata": {},
   "outputs": [],
   "source": [
    "dataset_public = MapDataset.read('dataset-stacked.fits.gz')\n",
    "empty = dataset_public.copy()\n",
    "\n",
    "\n",
    "path = '/home/wecapstor1/caph/mppi045h/fits_paper_data/std_fullEnclosure/pks2155_flare/out'\n",
    "data_store = DataStore.from_dir(path, f'hdu-index-bg-v05-fov-radec.fits.gz', f'obs-index-bg-v05-fov-radec.fits.gz')\n",
    "observations = data_store.get_observations(data_store.obs_ids)\n"
   ]
  },
  {
   "cell_type": "code",
   "execution_count": null,
   "id": "3cb6498b-4163-40a5-938a-b5c9cd73c1d1",
   "metadata": {},
   "outputs": [],
   "source": [
    "timeobs = []\n",
    "for obs in observations:\n",
    "    timeobs.append(obs.obs_info['TSTOP']-obs.obs_info['TSTART'])\n",
    "timeobs = timeobs * u.s\n",
    "print(timeobs.to(u.hr))\n",
    "print(np.sum(timeobs).to(u.hr))"
   ]
  },
  {
   "cell_type": "code",
   "execution_count": null,
   "id": "45d8d5a8-e0fc-4ac8-9845-d1b211c18527",
   "metadata": {},
   "outputs": [],
   "source": [
    "angle = []\n",
    "for obs in observations:\n",
    "    angle.append(90-obs.obs_info['ALT_PNT'])\n",
    "np.mean(angle), np.std(angle)"
   ]
  },
  {
   "cell_type": "code",
   "execution_count": null,
   "id": "f5de30a1-8414-4e78-96f1-af851b9b4cb7",
   "metadata": {},
   "outputs": [],
   "source": [
    "n_public_runs = len(observations)\n",
    "location = observatory_locations['hess']\n",
    "\n",
    "livetime_stereo = 50.089999999999996 *u.hr\n",
    "livetime_mono = 29.94 * u.hr\n",
    "livetime_simu = 100 * u.hr # livetime_stereo + livetime_mono\n",
    "livetime_public =np.sum(timeobs).to(u.hr)\n",
    "print('public:', livetime_public)\n",
    "print('simu:', livetime_simu)\n",
    "def compute_factor(livetime_simu):\n",
    "    factors =( (livetime_simu/n_public_runs) / timeobs ).to(\"\")\n",
    "    return factors\n",
    "factors = compute_factor(livetime_simu)\n",
    "print(\"factors\", factors)"
   ]
  },
  {
   "cell_type": "code",
   "execution_count": null,
   "id": "1a0b4839-64e8-43e8-9a41-49d31f6087cc",
   "metadata": {},
   "outputs": [],
   "source": [
    "\n",
    "radius = 0.25*u.deg\n",
    "skyregion = CircleSkyRegion(center=pks_pos, radius=radius)\n",
    "excl_regions = [skyregion]\n",
    "geom = dataset_public.geoms['geom']\n",
    "excl_mask_2d = Map.from_geom(dataset_public.geoms['geom'].to_image(),\n",
    "                             data=dataset_public.geoms['geom'].to_image().region_mask(excl_regions, inside=False).data)\n",
    "excl_mask_2d.plot(add_cbar = 1, vmin =0, vmax = 1);\n",
    "\n",
    "maxthreshold  = 1*u.TeV\n",
    "ebins = np.logspace(-1,2,25) *u.TeV\n",
    "max_offset = 2 *u.deg"
   ]
  },
  {
   "cell_type": "code",
   "execution_count": null,
   "id": "481faa77-d8e8-4eb9-95da-6da939ebee15",
   "metadata": {},
   "outputs": [],
   "source": [
    "ra_pnt, dec_pnt = [], []\n",
    "for obs in observations:\n",
    "    ra_pnt.append(obs.obs_info['RA_PNT'])\n",
    "    dec_pnt.append(obs.obs_info['DEC_PNT'])\n"
   ]
  },
  {
   "cell_type": "code",
   "execution_count": null,
   "id": "015ae95f-4708-486d-a8f7-852b59bc330c",
   "metadata": {},
   "outputs": [],
   "source": [
    "for i in range(len(observations)):\n",
    "    plt.scatter(ra_pnt[i], dec_pnt[i])"
   ]
  },
  {
   "cell_type": "code",
   "execution_count": null,
   "id": "363c0cfa-e78c-4fb9-a35e-6094731b4a3a",
   "metadata": {},
   "outputs": [],
   "source": [
    "def create(factors):\n",
    "\n",
    "    datasets = []\n",
    "    for i in range(n_public_runs ):\n",
    "        print(i)\n",
    "        dataset_obs = MapDataset.read(f'dataset-obs-{observations[i].obs_id}.fits.gz')\n",
    "        #dataset_obs.counts.sum_over_axes().plot(add_cbar =1 )    \n",
    "        irfs = {'bkg':dataset_obs.background * factors[i],\n",
    "           'aeff': dataset_obs.exposure * factors[i],#/ livetime ,\n",
    "           'psf': dataset_obs.psf,\n",
    "           'edisp': dataset_obs.edisp,\n",
    "           'rad_max': 4 *u.deg }\n",
    "\n",
    "        pointing  = observations[i].pointing_radec\n",
    "\n",
    "        obs = Observation.create(\n",
    "            pointing=pointing, livetime=timeobs[i], irfs=irfs, location=location\n",
    "        )\n",
    "\n",
    "        # Make the MapDataset\n",
    "        maker = MapDatasetMaker(selection=[\"exposure\", \"background\", \"psf\", \"edisp\"])\n",
    "\n",
    "        maker_safe_mask = SafeMaskMaker(methods=[\"offset-max\"], offset_max=4.0 * u.deg)\n",
    "        reference = MapDataset.create(geom=geom, name='stacked').cutout(position=obs.pointing_radec, width=8.0*max_offset)    \n",
    "\n",
    "        dataset = maker.run(reference, obs)\n",
    "        dataset = maker_safe_mask.run(dataset, obs)\n",
    "\n",
    "        dataset.counts.data = dataset.counts.data.astype(np.float32)\n",
    "        dataset.psf = dataset_obs.psf\n",
    "        dataset.edisp = dataset_obs.edisp\n",
    "\n",
    "        datasets.append(dataset)\n",
    "\n",
    "    dataset_stacked = datasets[0].copy()\n",
    "    for d in datasets[1:]:\n",
    "        dataset_stacked.stack(d)\n",
    "    return datasets, dataset_stacked\n"
   ]
  },
  {
   "cell_type": "code",
   "execution_count": null,
   "id": "476910a8-1e54-4690-b953-db5d1a950718",
   "metadata": {},
   "outputs": [],
   "source": [
    "datasets, dataset_stacked = create(factors)\n"
   ]
  },
  {
   "cell_type": "code",
   "execution_count": null,
   "id": "478edd8b-8988-4ee6-8c5b-f5acdd889c66",
   "metadata": {},
   "outputs": [],
   "source": [
    "dataset_stacked.peek()"
   ]
  },
  {
   "cell_type": "code",
   "execution_count": null,
   "id": "05d33e9c-498f-4860-b9b7-7d518a0b29f5",
   "metadata": {},
   "outputs": [],
   "source": [
    "emask = dataset_stacked.mask.data.sum(axis=2).sum(axis=1) >0\n",
    "emask = dataset_stacked.mask.geom.axes[0].center[emask]"
   ]
  },
  {
   "cell_type": "markdown",
   "id": "f5fe0ab9-56d4-4441-97fe-cd4b4523637c",
   "metadata": {},
   "source": [
    "## Simulated different observation times "
   ]
  },
  {
   "cell_type": "code",
   "execution_count": null,
   "id": "cc494009-1bab-4255-9605-14f5dde6f04a",
   "metadata": {},
   "outputs": [],
   "source": [
    "livetime_simus = np.logspace(0, 2, 7) *u.hr\n",
    "\n",
    "for l in livetime_simus[-2:]:\n",
    "    print(\"Livetime: \", l)\n",
    "    \n",
    "    #factors_ = compute_factor(l)\n",
    "    #datasets_, dataset_stacked_ = create(factors_)\n",
    "    #dataset_stacked_.write(f\"dataset-simulated-{l.value}-hr.fits.gz\", overwrite= True)"
   ]
  },
  {
   "cell_type": "code",
   "execution_count": null,
   "id": "5d30aa11",
   "metadata": {},
   "outputs": [],
   "source": [
    "fd"
   ]
  },
  {
   "cell_type": "code",
   "execution_count": null,
   "id": "5c6205b4-7feb-4b52-808b-b9588681c72e",
   "metadata": {},
   "outputs": [],
   "source": [
    "livetime_simus = np.logspace(0, 2, 7) *u.hr\n",
    "\n",
    "for l in livetime_simus[-2:]:\n",
    "    print(\"Livetime: \", l)\n",
    "    \n",
    "    factors_ = compute_factor(l)\n",
    "    datasets_, dataset_stacked_ = create(factors_)\n",
    "    dataset_stacked_.write(f\"dataset-simulated-{l.value}-hr.fits.gz\", overwrite= True)"
   ]
  }
 ],
 "metadata": {
  "kernelspec": {
   "display_name": "Python 3 (ipykernel)",
   "language": "python",
   "name": "python3"
  },
  "language_info": {
   "codemirror_mode": {
    "name": "ipython",
    "version": 3
   },
   "file_extension": ".py",
   "mimetype": "text/x-python",
   "name": "python",
   "nbconvert_exporter": "python",
   "pygments_lexer": "ipython3",
   "version": "3.9.16"
  }
 },
 "nbformat": 4,
 "nbformat_minor": 5
}
