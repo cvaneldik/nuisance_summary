{
 "cells": [
  {
   "cell_type": "code",
   "execution_count": 1,
   "id": "13f53fdd-7cf5-40bb-8d8e-dc58293148bc",
   "metadata": {},
   "outputs": [
    {
     "name": "stdout",
     "output_type": "stream",
     "text": [
      "0.1.dev19174+g56b5bdf  == 1\n"
     ]
    }
   ],
   "source": [
    "import gammapy\n",
    "print(gammapy.__version__ , \" == 1\")"
   ]
  },
  {
   "cell_type": "code",
   "execution_count": 2,
   "id": "15e241eb-3444-47b0-9397-b812765ae9b9",
   "metadata": {},
   "outputs": [],
   "source": [
    "import numpy as np\n",
    "import os\n",
    "import astropy\n",
    "from astropy import units as u\n",
    "import matplotlib.pyplot as plt\n",
    "\n",
    "from matplotlib import rc\n",
    "import matplotlib.pylab as plt\n",
    "\n",
    "rc('font', **{'family': 'serif', 'serif': ['Computer Modern']})\n",
    "rc('text', usetex=True)\n",
    "\n",
    "from collections import OrderedDict\n",
    "from astropy import units\n",
    "from gammapy.data import DataStore\n",
    "from astropy.io import fits\n",
    "from astropy.coordinates import SkyCoord\n",
    "from gammapy.data import FixedPointingInfo, Observation, DataStore, observatory_locations\n",
    "from astropy.coordinates import SkyOffsetFrame\n",
    "from gammapy.maps import WcsNDMap, WcsGeom, MapAxis, Map\n",
    "from gammapy.makers import MapDatasetMaker, SafeMaskMaker\n",
    "from gammapy.datasets import MapDataset\n",
    "from gammapy.irf import load_cta_irfs, EDispKernel, PSFKernel\n",
    "from gammapy.modeling import Fit\n",
    "from gammapy.modeling.models import (\n",
    "    Models,\n",
    "    FoVBackgroundModel,\n",
    "    PointSpatialModel,\n",
    "    PowerLawSpectralModel,\n",
    "    SkyModel,\n",
    ")\n",
    "from regions import CircleSkyRegion, RectangleSkyRegion\n"
   ]
  },
  {
   "cell_type": "code",
   "execution_count": 3,
   "id": "1fba1f9e-037b-4db9-bf11-f6b54d17d978",
   "metadata": {},
   "outputs": [],
   "source": [
    "pks_pos = SkyCoord(frame = \"galactic\",l =  \"17.74 deg\", b= \"-52.25 deg\")\n",
    "pks_pos = SkyCoord(\"21h58m43.2s\", \"-30d13m18s\")\n"
   ]
  },
  {
   "cell_type": "code",
   "execution_count": 4,
   "id": "a05f3fa4-2322-482f-bb57-0d857d990cac",
   "metadata": {},
   "outputs": [],
   "source": [
    "try:\n",
    "    models  = Models.read('../standard_model.yml')\n",
    "except:\n",
    "    st_model = SkyModel(spatial_model = PointSpatialModel(lon_0 = pks_pos.l.deg *u.deg, lat_0 =  pks_pos.b.deg * u.deg),\n",
    "                       spectral_model = PowerLawSpectralModel())\n",
    "    Models(st_model).write(\"../standard_model.yml\")\n",
    "    models  = Models.read('../standard_model.yml')\n",
    "    "
   ]
  },
  {
   "cell_type": "code",
   "execution_count": 5,
   "id": "13aca3ba-f8d5-4595-800c-10860678f071",
   "metadata": {},
   "outputs": [],
   "source": [
    "dataset_public = MapDataset.read('dataset-stacked.fits.gz')\n",
    "empty = dataset_public.copy()\n",
    "\n",
    "\n",
    "path = '/home/wecapstor1/caph/mppi045h/fits_paper_data/std_fullEnclosure/pks2155_flare/out'\n",
    "data_store = DataStore.from_dir(path, f'hdu-index-bg-v05-fov-radec.fits.gz', f'obs-index-bg-v05-fov-radec.fits.gz')\n",
    "observations = data_store.get_observations(data_store.obs_ids)\n"
   ]
  },
  {
   "cell_type": "code",
   "execution_count": 6,
   "id": "3cb6498b-4163-40a5-938a-b5c9cd73c1d1",
   "metadata": {},
   "outputs": [
    {
     "name": "stdout",
     "output_type": "stream",
     "text": [
      "[0.46916667 0.46916667 0.46888889 0.46944444 0.46916667 0.46888889\n",
      " 0.46916667 0.46888889 0.46916667 0.46916667 0.46916667 0.46916667\n",
      " 0.46916667 0.46916667 0.46916667] h\n",
      "7.036944444444444 h\n"
     ]
    }
   ],
   "source": [
    "timeobs = []\n",
    "for obs in observations:\n",
    "    timeobs.append(obs.obs_info['TSTOP']-obs.obs_info['TSTART'])\n",
    "timeobs = timeobs * u.s\n",
    "print(timeobs.to(u.hr))\n",
    "print(np.sum(timeobs).to(u.hr))"
   ]
  },
  {
   "cell_type": "code",
   "execution_count": 7,
   "id": "45d8d5a8-e0fc-4ac8-9845-d1b211c18527",
   "metadata": {},
   "outputs": [
    {
     "data": {
      "text/plain": [
       "(27.71530848379798, 13.632264528378185)"
      ]
     },
     "execution_count": 7,
     "metadata": {},
     "output_type": "execute_result"
    }
   ],
   "source": [
    "angle = []\n",
    "for obs in observations:\n",
    "    angle.append(90-obs.obs_info['ALT_PNT'])\n",
    "np.mean(angle), np.std(angle)"
   ]
  },
  {
   "cell_type": "code",
   "execution_count": 8,
   "id": "f5de30a1-8414-4e78-96f1-af851b9b4cb7",
   "metadata": {},
   "outputs": [
    {
     "name": "stdout",
     "output_type": "stream",
     "text": [
      "public: 7.036944444444444 h\n",
      "simu: 100.0 h\n",
      "factors [14.20959147 14.20959147 14.21800948 14.20118343 14.20959147 14.21800948\n",
      " 14.20959147 14.21800948 14.20959147 14.20959147 14.20959147 14.20959147\n",
      " 14.20959147 14.20959147 14.20959147]\n"
     ]
    }
   ],
   "source": [
    "n_public_runs = len(observations)\n",
    "location = observatory_locations['hess']\n",
    "\n",
    "livetime_stereo = 50.089999999999996 *u.hr\n",
    "livetime_mono = 29.94 * u.hr\n",
    "livetime_simu = 100 * u.hr # livetime_stereo + livetime_mono\n",
    "livetime_public =np.sum(timeobs).to(u.hr)\n",
    "print('public:', livetime_public)\n",
    "print('simu:', livetime_simu)\n",
    "def compute_factor(livetime_simu):\n",
    "    factors =( (livetime_simu/n_public_runs) / timeobs ).to(\"\")\n",
    "    return factors\n",
    "factors = compute_factor(livetime_simu)\n",
    "print(\"factors\", factors)"
   ]
  },
  {
   "cell_type": "code",
   "execution_count": 9,
   "id": "1a0b4839-64e8-43e8-9a41-49d31f6087cc",
   "metadata": {},
   "outputs": [
    {
     "data": {
      "image/png": "[encoded data removed]",
      "text/plain": [
       "<Figure size 640x480 with 2 Axes>"
      ]
     },
     "metadata": {},
     "output_type": "display_data"
    }
   ],
   "source": [
    "\n",
    "radius = 0.25*u.deg\n",
    "skyregion = CircleSkyRegion(center=pks_pos, radius=radius)\n",
    "excl_regions = [skyregion]\n",
    "geom = dataset_public.geoms['geom']\n",
    "excl_mask_2d = Map.from_geom(dataset_public.geoms['geom'].to_image(),\n",
    "                             data=dataset_public.geoms['geom'].to_image().region_mask(excl_regions, inside=False).data)\n",
    "excl_mask_2d.plot(add_cbar = 1, vmin =0, vmax = 1);\n",
    "\n",
    "maxthreshold  = 1*u.TeV\n",
    "ebins = np.logspace(-1,2,25) *u.TeV\n",
    "max_offset = 2 *u.deg"
   ]
  },
  {
   "cell_type": "code",
   "execution_count": 10,
   "id": "481faa77-d8e8-4eb9-95da-6da939ebee15",
   "metadata": {},
   "outputs": [],
   "source": [
    "ra_pnt, dec_pnt = [], []\n",
    "for obs in observations:\n",
    "    ra_pnt.append(obs.obs_info['RA_PNT'])\n",
    "    dec_pnt.append(obs.obs_info['DEC_PNT'])\n"
   ]
  },
  {
   "cell_type": "code",
   "execution_count": 11,
   "id": "015ae95f-4708-486d-a8f7-852b59bc330c",
   "metadata": {},
   "outputs": [
    {
     "data": {
      "image/png": "[encoded data removed]",
      "text/plain": [
       "<Figure size 640x480 with 1 Axes>"
      ]
     },
     "metadata": {},
     "output_type": "display_data"
    }
   ],
   "source": [
    "for i in range(len(observations)):\n",
    "    plt.scatter(ra_pnt[i], dec_pnt[i])"
   ]
  },
  {
   "cell_type": "code",
   "execution_count": 12,
   "id": "363c0cfa-e78c-4fb9-a35e-6094731b4a3a",
   "metadata": {},
   "outputs": [
    {
     "name": "stdout",
     "output_type": "stream",
     "text": [
      "0\n"
     ]
    },
    {
     "name": "stderr",
     "output_type": "stream",
     "text": [
      "/tmp/ipykernel_1992037/680022270.py:14: GammapyDeprecationWarning: Use observation.get_pointing_icrs(time) instead\n",
      "  pointing  = observations[i].pointing_radec\n",
      "/home/wecapstor1/caph/mppi045h/anaconda3/envs/gammapy-dev/lib/python3.8/site-packages/astropy/utils/decorators.py:841: GammapyDeprecationWarning: Use observation.pointing or observation.get_pointing_{altaz,icrs} instead\n",
      "  val = self.fget(obj)\n",
      "/home/wecapstor1/caph/mppi045h/anaconda3/envs/gammapy-dev/lib/python3.8/site-packages/astropy/utils/decorators.py:841: GammapyDeprecationWarning: The radec function is deprecated and may be removed in a future version.\n",
      "  val = self.fget(obj)\n",
      "/home/wecapstor1/caph/mppi045h/gammapy/gammapy/data/observations.py:226: GammapyDeprecationWarning: Pointing will be required to be provided as FixedPointingInfo\n",
      "  warnings.warn(\n",
      "/tmp/ipykernel_1992037/680022270.py:24: GammapyDeprecationWarning: Use observation.get_pointing_icrs(time) instead\n",
      "  reference = MapDataset.create(geom=geom, name='stacked').cutout(position=obs.pointing_radec, width=8.0*max_offset)\n",
      "/home/wecapstor1/caph/mppi045h/anaconda3/envs/gammapy-dev/lib/python3.8/site-packages/astropy/utils/decorators.py:841: GammapyDeprecationWarning: Use observation.pointing or observation.get_pointing_{altaz,icrs} instead\n",
      "  val = self.fget(obj)\n",
      "/home/wecapstor1/caph/mppi045h/anaconda3/envs/gammapy-dev/lib/python3.8/site-packages/astropy/utils/decorators.py:841: GammapyDeprecationWarning: The radec function is deprecated and may be removed in a future version.\n",
      "  val = self.fget(obj)\n"
     ]
    },
    {
     "name": "stdout",
     "output_type": "stream",
     "text": [
      "1\n"
     ]
    },
    {
     "name": "stderr",
     "output_type": "stream",
     "text": [
      "/tmp/ipykernel_1992037/680022270.py:14: GammapyDeprecationWarning: Use observation.get_pointing_icrs(time) instead\n",
      "  pointing  = observations[i].pointing_radec\n",
      "/home/wecapstor1/caph/mppi045h/anaconda3/envs/gammapy-dev/lib/python3.8/site-packages/astropy/utils/decorators.py:841: GammapyDeprecationWarning: Use observation.pointing or observation.get_pointing_{altaz,icrs} instead\n",
      "  val = self.fget(obj)\n",
      "/home/wecapstor1/caph/mppi045h/anaconda3/envs/gammapy-dev/lib/python3.8/site-packages/astropy/utils/decorators.py:841: GammapyDeprecationWarning: The radec function is deprecated and may be removed in a future version.\n",
      "  val = self.fget(obj)\n",
      "/home/wecapstor1/caph/mppi045h/gammapy/gammapy/data/observations.py:226: GammapyDeprecationWarning: Pointing will be required to be provided as FixedPointingInfo\n",
      "  warnings.warn(\n",
      "/tmp/ipykernel_1992037/680022270.py:24: GammapyDeprecationWarning: Use observation.get_pointing_icrs(time) instead\n",
      "  reference = MapDataset.create(geom=geom, name='stacked').cutout(position=obs.pointing_radec, width=8.0*max_offset)\n",
      "/home/wecapstor1/caph/mppi045h/anaconda3/envs/gammapy-dev/lib/python3.8/site-packages/astropy/utils/decorators.py:841: GammapyDeprecationWarning: Use observation.pointing or observation.get_pointing_{altaz,icrs} instead\n",
      "  val = self.fget(obj)\n",
      "/home/wecapstor1/caph/mppi045h/anaconda3/envs/gammapy-dev/lib/python3.8/site-packages/astropy/utils/decorators.py:841: GammapyDeprecationWarning: The radec function is deprecated and may be removed in a future version.\n",
      "  val = self.fget(obj)\n"
     ]
    },
    {
     "name": "stdout",
     "output_type": "stream",
     "text": [
      "2\n"
     ]
    },
    {
     "name": "stderr",
     "output_type": "stream",
     "text": [
      "/tmp/ipykernel_1992037/680022270.py:14: GammapyDeprecationWarning: Use observation.get_pointing_icrs(time) instead\n",
      "  pointing  = observations[i].pointing_radec\n",
      "/home/wecapstor1/caph/mppi045h/anaconda3/envs/gammapy-dev/lib/python3.8/site-packages/astropy/utils/decorators.py:841: GammapyDeprecationWarning: Use observation.pointing or observation.get_pointing_{altaz,icrs} instead\n",
      "  val = self.fget(obj)\n",
      "/home/wecapstor1/caph/mppi045h/anaconda3/envs/gammapy-dev/lib/python3.8/site-packages/astropy/utils/decorators.py:841: GammapyDeprecationWarning: The radec function is deprecated and may be removed in a future version.\n",
      "  val = self.fget(obj)\n",
      "/home/wecapstor1/caph/mppi045h/gammapy/gammapy/data/observations.py:226: GammapyDeprecationWarning: Pointing will be required to be provided as FixedPointingInfo\n",
      "  warnings.warn(\n",
      "/tmp/ipykernel_1992037/680022270.py:24: GammapyDeprecationWarning: Use observation.get_pointing_icrs(time) instead\n",
      "  reference = MapDataset.create(geom=geom, name='stacked').cutout(position=obs.pointing_radec, width=8.0*max_offset)\n",
      "/home/wecapstor1/caph/mppi045h/anaconda3/envs/gammapy-dev/lib/python3.8/site-packages/astropy/utils/decorators.py:841: GammapyDeprecationWarning: Use observation.pointing or observation.get_pointing_{altaz,icrs} instead\n",
      "  val = self.fget(obj)\n",
      "/home/wecapstor1/caph/mppi045h/anaconda3/envs/gammapy-dev/lib/python3.8/site-packages/astropy/utils/decorators.py:841: GammapyDeprecationWarning: The radec function is deprecated and may be removed in a future version.\n",
      "  val = self.fget(obj)\n"
     ]
    },
    {
     "name": "stdout",
     "output_type": "stream",
     "text": [
      "3\n"
     ]
    },
    {
     "name": "stderr",
     "output_type": "stream",
     "text": [
      "/tmp/ipykernel_1992037/680022270.py:14: GammapyDeprecationWarning: Use observation.get_pointing_icrs(time) instead\n",
      "  pointing  = observations[i].pointing_radec\n",
      "/home/wecapstor1/caph/mppi045h/anaconda3/envs/gammapy-dev/lib/python3.8/site-packages/astropy/utils/decorators.py:841: GammapyDeprecationWarning: Use observation.pointing or observation.get_pointing_{altaz,icrs} instead\n",
      "  val = self.fget(obj)\n",
      "/home/wecapstor1/caph/mppi045h/anaconda3/envs/gammapy-dev/lib/python3.8/site-packages/astropy/utils/decorators.py:841: GammapyDeprecationWarning: The radec function is deprecated and may be removed in a future version.\n",
      "  val = self.fget(obj)\n",
      "/home/wecapstor1/caph/mppi045h/gammapy/gammapy/data/observations.py:226: GammapyDeprecationWarning: Pointing will be required to be provided as FixedPointingInfo\n",
      "  warnings.warn(\n",
      "/tmp/ipykernel_1992037/680022270.py:24: GammapyDeprecationWarning: Use observation.get_pointing_icrs(time) instead\n",
      "  reference = MapDataset.create(geom=geom, name='stacked').cutout(position=obs.pointing_radec, width=8.0*max_offset)\n",
      "/home/wecapstor1/caph/mppi045h/anaconda3/envs/gammapy-dev/lib/python3.8/site-packages/astropy/utils/decorators.py:841: GammapyDeprecationWarning: Use observation.pointing or observation.get_pointing_{altaz,icrs} instead\n",
      "  val = self.fget(obj)\n",
      "/home/wecapstor1/caph/mppi045h/anaconda3/envs/gammapy-dev/lib/python3.8/site-packages/astropy/utils/decorators.py:841: GammapyDeprecationWarning: The radec function is deprecated and may be removed in a future version.\n",
      "  val = self.fget(obj)\n"
     ]
    },
    {
     "name": "stdout",
     "output_type": "stream",
     "text": [
      "4\n"
     ]
    },
    {
     "name": "stderr",
     "output_type": "stream",
     "text": [
      "/tmp/ipykernel_1992037/680022270.py:14: GammapyDeprecationWarning: Use observation.get_pointing_icrs(time) instead\n",
      "  pointing  = observations[i].pointing_radec\n",
      "/home/wecapstor1/caph/mppi045h/anaconda3/envs/gammapy-dev/lib/python3.8/site-packages/astropy/utils/decorators.py:841: GammapyDeprecationWarning: Use observation.pointing or observation.get_pointing_{altaz,icrs} instead\n",
      "  val = self.fget(obj)\n",
      "/home/wecapstor1/caph/mppi045h/anaconda3/envs/gammapy-dev/lib/python3.8/site-packages/astropy/utils/decorators.py:841: GammapyDeprecationWarning: The radec function is deprecated and may be removed in a future version.\n",
      "  val = self.fget(obj)\n",
      "/home/wecapstor1/caph/mppi045h/gammapy/gammapy/data/observations.py:226: GammapyDeprecationWarning: Pointing will be required to be provided as FixedPointingInfo\n",
      "  warnings.warn(\n",
      "/tmp/ipykernel_1992037/680022270.py:24: GammapyDeprecationWarning: Use observation.get_pointing_icrs(time) instead\n",
      "  reference = MapDataset.create(geom=geom, name='stacked').cutout(position=obs.pointing_radec, width=8.0*max_offset)\n",
      "/home/wecapstor1/caph/mppi045h/anaconda3/envs/gammapy-dev/lib/python3.8/site-packages/astropy/utils/decorators.py:841: GammapyDeprecationWarning: Use observation.pointing or observation.get_pointing_{altaz,icrs} instead\n",
      "  val = self.fget(obj)\n",
      "/home/wecapstor1/caph/mppi045h/anaconda3/envs/gammapy-dev/lib/python3.8/site-packages/astropy/utils/decorators.py:841: GammapyDeprecationWarning: The radec function is deprecated and may be removed in a future version.\n",
      "  val = self.fget(obj)\n"
     ]
    },
    {
     "name": "stdout",
     "output_type": "stream",
     "text": [
      "5\n"
     ]
    },
    {
     "name": "stderr",
     "output_type": "stream",
     "text": [
      "/tmp/ipykernel_1992037/680022270.py:14: GammapyDeprecationWarning: Use observation.get_pointing_icrs(time) instead\n",
      "  pointing  = observations[i].pointing_radec\n",
      "/home/wecapstor1/caph/mppi045h/anaconda3/envs/gammapy-dev/lib/python3.8/site-packages/astropy/utils/decorators.py:841: GammapyDeprecationWarning: Use observation.pointing or observation.get_pointing_{altaz,icrs} instead\n",
      "  val = self.fget(obj)\n",
      "/home/wecapstor1/caph/mppi045h/anaconda3/envs/gammapy-dev/lib/python3.8/site-packages/astropy/utils/decorators.py:841: GammapyDeprecationWarning: The radec function is deprecated and may be removed in a future version.\n",
      "  val = self.fget(obj)\n",
      "/home/wecapstor1/caph/mppi045h/gammapy/gammapy/data/observations.py:226: GammapyDeprecationWarning: Pointing will be required to be provided as FixedPointingInfo\n",
      "  warnings.warn(\n",
      "/tmp/ipykernel_1992037/680022270.py:24: GammapyDeprecationWarning: Use observation.get_pointing_icrs(time) instead\n",
      "  reference = MapDataset.create(geom=geom, name='stacked').cutout(position=obs.pointing_radec, width=8.0*max_offset)\n",
      "/home/wecapstor1/caph/mppi045h/anaconda3/envs/gammapy-dev/lib/python3.8/site-packages/astropy/utils/decorators.py:841: GammapyDeprecationWarning: Use observation.pointing or observation.get_pointing_{altaz,icrs} instead\n",
      "  val = self.fget(obj)\n",
      "/home/wecapstor1/caph/mppi045h/anaconda3/envs/gammapy-dev/lib/python3.8/site-packages/astropy/utils/decorators.py:841: GammapyDeprecationWarning: The radec function is deprecated and may be removed in a future version.\n",
      "  val = self.fget(obj)\n"
     ]
    },
    {
     "name": "stdout",
     "output_type": "stream",
     "text": [
      "6\n"
     ]
    },
    {
     "name": "stderr",
     "output_type": "stream",
     "text": [
      "/tmp/ipykernel_1992037/680022270.py:14: GammapyDeprecationWarning: Use observation.get_pointing_icrs(time) instead\n",
      "  pointing  = observations[i].pointing_radec\n",
      "/home/wecapstor1/caph/mppi045h/anaconda3/envs/gammapy-dev/lib/python3.8/site-packages/astropy/utils/decorators.py:841: GammapyDeprecationWarning: Use observation.pointing or observation.get_pointing_{altaz,icrs} instead\n",
      "  val = self.fget(obj)\n",
      "/home/wecapstor1/caph/mppi045h/anaconda3/envs/gammapy-dev/lib/python3.8/site-packages/astropy/utils/decorators.py:841: GammapyDeprecationWarning: The radec function is deprecated and may be removed in a future version.\n",
      "  val = self.fget(obj)\n",
      "/home/wecapstor1/caph/mppi045h/gammapy/gammapy/data/observations.py:226: GammapyDeprecationWarning: Pointing will be required to be provided as FixedPointingInfo\n",
      "  warnings.warn(\n",
      "/tmp/ipykernel_1992037/680022270.py:24: GammapyDeprecationWarning: Use observation.get_pointing_icrs(time) instead\n",
      "  reference = MapDataset.create(geom=geom, name='stacked').cutout(position=obs.pointing_radec, width=8.0*max_offset)\n",
      "/home/wecapstor1/caph/mppi045h/anaconda3/envs/gammapy-dev/lib/python3.8/site-packages/astropy/utils/decorators.py:841: GammapyDeprecationWarning: Use observation.pointing or observation.get_pointing_{altaz,icrs} instead\n",
      "  val = self.fget(obj)\n",
      "/home/wecapstor1/caph/mppi045h/anaconda3/envs/gammapy-dev/lib/python3.8/site-packages/astropy/utils/decorators.py:841: GammapyDeprecationWarning: The radec function is deprecated and may be removed in a future version.\n",
      "  val = self.fget(obj)\n"
     ]
    },
    {
     "name": "stdout",
     "output_type": "stream",
     "text": [
      "7\n"
     ]
    },
    {
     "name": "stderr",
     "output_type": "stream",
     "text": [
      "/tmp/ipykernel_1992037/680022270.py:14: GammapyDeprecationWarning: Use observation.get_pointing_icrs(time) instead\n",
      "  pointing  = observations[i].pointing_radec\n",
      "/home/wecapstor1/caph/mppi045h/anaconda3/envs/gammapy-dev/lib/python3.8/site-packages/astropy/utils/decorators.py:841: GammapyDeprecationWarning: Use observation.pointing or observation.get_pointing_{altaz,icrs} instead\n",
      "  val = self.fget(obj)\n",
      "/home/wecapstor1/caph/mppi045h/anaconda3/envs/gammapy-dev/lib/python3.8/site-packages/astropy/utils/decorators.py:841: GammapyDeprecationWarning: The radec function is deprecated and may be removed in a future version.\n",
      "  val = self.fget(obj)\n",
      "/home/wecapstor1/caph/mppi045h/gammapy/gammapy/data/observations.py:226: GammapyDeprecationWarning: Pointing will be required to be provided as FixedPointingInfo\n",
      "  warnings.warn(\n",
      "/tmp/ipykernel_1992037/680022270.py:24: GammapyDeprecationWarning: Use observation.get_pointing_icrs(time) instead\n",
      "  reference = MapDataset.create(geom=geom, name='stacked').cutout(position=obs.pointing_radec, width=8.0*max_offset)\n",
      "/home/wecapstor1/caph/mppi045h/anaconda3/envs/gammapy-dev/lib/python3.8/site-packages/astropy/utils/decorators.py:841: GammapyDeprecationWarning: Use observation.pointing or observation.get_pointing_{altaz,icrs} instead\n",
      "  val = self.fget(obj)\n",
      "/home/wecapstor1/caph/mppi045h/anaconda3/envs/gammapy-dev/lib/python3.8/site-packages/astropy/utils/decorators.py:841: GammapyDeprecationWarning: The radec function is deprecated and may be removed in a future version.\n",
      "  val = self.fget(obj)\n"
     ]
    },
    {
     "name": "stdout",
     "output_type": "stream",
     "text": [
      "8\n"
     ]
    },
    {
     "name": "stderr",
     "output_type": "stream",
     "text": [
      "/tmp/ipykernel_1992037/680022270.py:14: GammapyDeprecationWarning: Use observation.get_pointing_icrs(time) instead\n",
      "  pointing  = observations[i].pointing_radec\n",
      "/home/wecapstor1/caph/mppi045h/anaconda3/envs/gammapy-dev/lib/python3.8/site-packages/astropy/utils/decorators.py:841: GammapyDeprecationWarning: Use observation.pointing or observation.get_pointing_{altaz,icrs} instead\n",
      "  val = self.fget(obj)\n",
      "/home/wecapstor1/caph/mppi045h/anaconda3/envs/gammapy-dev/lib/python3.8/site-packages/astropy/utils/decorators.py:841: GammapyDeprecationWarning: The radec function is deprecated and may be removed in a future version.\n",
      "  val = self.fget(obj)\n",
      "/home/wecapstor1/caph/mppi045h/gammapy/gammapy/data/observations.py:226: GammapyDeprecationWarning: Pointing will be required to be provided as FixedPointingInfo\n",
      "  warnings.warn(\n",
      "/tmp/ipykernel_1992037/680022270.py:24: GammapyDeprecationWarning: Use observation.get_pointing_icrs(time) instead\n",
      "  reference = MapDataset.create(geom=geom, name='stacked').cutout(position=obs.pointing_radec, width=8.0*max_offset)\n",
      "/home/wecapstor1/caph/mppi045h/anaconda3/envs/gammapy-dev/lib/python3.8/site-packages/astropy/utils/decorators.py:841: GammapyDeprecationWarning: Use observation.pointing or observation.get_pointing_{altaz,icrs} instead\n",
      "  val = self.fget(obj)\n",
      "/home/wecapstor1/caph/mppi045h/anaconda3/envs/gammapy-dev/lib/python3.8/site-packages/astropy/utils/decorators.py:841: GammapyDeprecationWarning: The radec function is deprecated and may be removed in a future version.\n",
      "  val = self.fget(obj)\n"
     ]
    },
    {
     "ename": "KeyboardInterrupt",
     "evalue": "",
     "output_type": "error",
     "traceback": [
      "\u001b[0;31m---------------------------------------------------------------------------\u001b[0m",
      "\u001b[0;31mKeyboardInterrupt\u001b[0m                         Traceback (most recent call last)",
      "Cell \u001b[0;32mIn[12], line 39\u001b[0m\n\u001b[1;32m     37\u001b[0m         dataset_stacked\u001b[38;5;241m.\u001b[39mstack(d)\n\u001b[1;32m     38\u001b[0m     \u001b[38;5;28;01mreturn\u001b[39;00m datasets, dataset_stacked\n\u001b[0;32m---> 39\u001b[0m datasets, dataset_stacked \u001b[38;5;241m=\u001b[39m \u001b[43mcreate\u001b[49m\u001b[43m(\u001b[49m\u001b[43mfactors\u001b[49m\u001b[43m)\u001b[49m\n",
      "Cell \u001b[0;32mIn[12], line 26\u001b[0m, in \u001b[0;36mcreate\u001b[0;34m(factors)\u001b[0m\n\u001b[1;32m     23\u001b[0m maker_safe_mask \u001b[38;5;241m=\u001b[39m SafeMaskMaker(methods\u001b[38;5;241m=\u001b[39m[\u001b[38;5;124m\"\u001b[39m\u001b[38;5;124moffset-max\u001b[39m\u001b[38;5;124m\"\u001b[39m], offset_max\u001b[38;5;241m=\u001b[39m\u001b[38;5;241m4.0\u001b[39m \u001b[38;5;241m*\u001b[39m u\u001b[38;5;241m.\u001b[39mdeg)\n\u001b[1;32m     24\u001b[0m reference \u001b[38;5;241m=\u001b[39m MapDataset\u001b[38;5;241m.\u001b[39mcreate(geom\u001b[38;5;241m=\u001b[39mgeom, name\u001b[38;5;241m=\u001b[39m\u001b[38;5;124m'\u001b[39m\u001b[38;5;124mstacked\u001b[39m\u001b[38;5;124m'\u001b[39m)\u001b[38;5;241m.\u001b[39mcutout(position\u001b[38;5;241m=\u001b[39mobs\u001b[38;5;241m.\u001b[39mpointing_radec, width\u001b[38;5;241m=\u001b[39m\u001b[38;5;241m8.0\u001b[39m\u001b[38;5;241m*\u001b[39mmax_offset)    \n\u001b[0;32m---> 26\u001b[0m dataset \u001b[38;5;241m=\u001b[39m \u001b[43mmaker\u001b[49m\u001b[38;5;241;43m.\u001b[39;49m\u001b[43mrun\u001b[49m\u001b[43m(\u001b[49m\u001b[43mreference\u001b[49m\u001b[43m,\u001b[49m\u001b[43m \u001b[49m\u001b[43mobs\u001b[49m\u001b[43m)\u001b[49m\n\u001b[1;32m     27\u001b[0m dataset \u001b[38;5;241m=\u001b[39m maker_safe_mask\u001b[38;5;241m.\u001b[39mrun(dataset, obs)\n\u001b[1;32m     29\u001b[0m dataset\u001b[38;5;241m.\u001b[39mcounts\u001b[38;5;241m.\u001b[39mdata \u001b[38;5;241m=\u001b[39m dataset\u001b[38;5;241m.\u001b[39mcounts\u001b[38;5;241m.\u001b[39mdata\u001b[38;5;241m.\u001b[39mastype(np\u001b[38;5;241m.\u001b[39mfloat32)\n",
      "File \u001b[0;32m/home/wecapstor1/caph/mppi045h/gammapy/gammapy/makers/map.py:397\u001b[0m, in \u001b[0;36mMapDatasetMaker.run\u001b[0;34m(self, dataset, observation)\u001b[0m\n\u001b[1;32m    394\u001b[0m     kwargs[\u001b[38;5;124m\"\u001b[39m\u001b[38;5;124mexposure\u001b[39m\u001b[38;5;124m\"\u001b[39m] \u001b[38;5;241m=\u001b[39m exposure\n\u001b[1;32m    396\u001b[0m \u001b[38;5;28;01mif\u001b[39;00m \u001b[38;5;124m\"\u001b[39m\u001b[38;5;124mbackground\u001b[39m\u001b[38;5;124m\"\u001b[39m \u001b[38;5;129;01min\u001b[39;00m \u001b[38;5;28mself\u001b[39m\u001b[38;5;241m.\u001b[39mselection:\n\u001b[0;32m--> 397\u001b[0m     kwargs[\u001b[38;5;124m\"\u001b[39m\u001b[38;5;124mbackground\u001b[39m\u001b[38;5;124m\"\u001b[39m] \u001b[38;5;241m=\u001b[39m \u001b[38;5;28;43mself\u001b[39;49m\u001b[38;5;241;43m.\u001b[39;49m\u001b[43mmake_background\u001b[49m\u001b[43m(\u001b[49m\n\u001b[1;32m    398\u001b[0m \u001b[43m        \u001b[49m\u001b[43mdataset\u001b[49m\u001b[38;5;241;43m.\u001b[39;49m\u001b[43mcounts\u001b[49m\u001b[38;5;241;43m.\u001b[39;49m\u001b[43mgeom\u001b[49m\u001b[43m,\u001b[49m\u001b[43m \u001b[49m\u001b[43mobservation\u001b[49m\n\u001b[1;32m    399\u001b[0m \u001b[43m    \u001b[49m\u001b[43m)\u001b[49m\n\u001b[1;32m    401\u001b[0m \u001b[38;5;28;01mif\u001b[39;00m \u001b[38;5;124m\"\u001b[39m\u001b[38;5;124mpsf\u001b[39m\u001b[38;5;124m\"\u001b[39m \u001b[38;5;129;01min\u001b[39;00m \u001b[38;5;28mself\u001b[39m\u001b[38;5;241m.\u001b[39mselection:\n\u001b[1;32m    402\u001b[0m     psf \u001b[38;5;241m=\u001b[39m \u001b[38;5;28mself\u001b[39m\u001b[38;5;241m.\u001b[39mmake_psf(dataset\u001b[38;5;241m.\u001b[39mpsf\u001b[38;5;241m.\u001b[39mpsf_map\u001b[38;5;241m.\u001b[39mgeom, observation)\n",
      "File \u001b[0;32m/home/wecapstor1/caph/mppi045h/gammapy/gammapy/makers/map.py:224\u001b[0m, in \u001b[0;36mMapDatasetMaker.make_background\u001b[0;34m(self, geom, observation)\u001b[0m\n\u001b[1;32m    221\u001b[0m bkg \u001b[38;5;241m=\u001b[39m observation\u001b[38;5;241m.\u001b[39mbkg\n\u001b[1;32m    223\u001b[0m \u001b[38;5;28;01mif\u001b[39;00m \u001b[38;5;28misinstance\u001b[39m(bkg, Map):\n\u001b[0;32m--> 224\u001b[0m     \u001b[38;5;28;01mreturn\u001b[39;00m \u001b[43mbkg\u001b[49m\u001b[38;5;241;43m.\u001b[39;49m\u001b[43minterp_to_geom\u001b[49m\u001b[43m(\u001b[49m\u001b[43mgeom\u001b[49m\u001b[38;5;241;43m=\u001b[39;49m\u001b[43mgeom\u001b[49m\u001b[43m,\u001b[49m\u001b[43m \u001b[49m\u001b[43mpreserve_counts\u001b[49m\u001b[38;5;241;43m=\u001b[39;49m\u001b[38;5;28;43;01mTrue\u001b[39;49;00m\u001b[43m)\u001b[49m\n\u001b[1;32m    226\u001b[0m use_region_center \u001b[38;5;241m=\u001b[39m \u001b[38;5;28mgetattr\u001b[39m(\u001b[38;5;28mself\u001b[39m, \u001b[38;5;124m\"\u001b[39m\u001b[38;5;124muse_region_center\u001b[39m\u001b[38;5;124m\"\u001b[39m, \u001b[38;5;28;01mTrue\u001b[39;00m)\n\u001b[1;32m    228\u001b[0m \u001b[38;5;28;01mif\u001b[39;00m \u001b[38;5;28mself\u001b[39m\u001b[38;5;241m.\u001b[39mbackground_interp_missing_data:\n",
      "File \u001b[0;32m/home/wecapstor1/caph/mppi045h/gammapy/gammapy/maps/core.py:1013\u001b[0m, in \u001b[0;36mMap.interp_to_geom\u001b[0;34m(self, geom, preserve_counts, fill_value, **kwargs)\u001b[0m\n\u001b[1;32m   1010\u001b[0m     data \u001b[38;5;241m=\u001b[39m map_copy\u001b[38;5;241m.\u001b[39minterp_by_coord(coords, fill_value\u001b[38;5;241m=\u001b[39mfill_value, \u001b[38;5;241m*\u001b[39m\u001b[38;5;241m*\u001b[39mkwargs)\n\u001b[1;32m   1012\u001b[0m \u001b[38;5;28;01mif\u001b[39;00m preserve_counts:\n\u001b[0;32m-> 1013\u001b[0m     data \u001b[38;5;241m*\u001b[39m\u001b[38;5;241m=\u001b[39m \u001b[43mgeom\u001b[49m\u001b[38;5;241;43m.\u001b[39;49m\u001b[43msolid_angle\u001b[49m\u001b[43m(\u001b[49m\u001b[43m)\u001b[49m\u001b[38;5;241m.\u001b[39mto_value(\u001b[38;5;124m\"\u001b[39m\u001b[38;5;124mdeg2\u001b[39m\u001b[38;5;124m\"\u001b[39m)\n\u001b[1;32m   1015\u001b[0m \u001b[38;5;28;01mreturn\u001b[39;00m Map\u001b[38;5;241m.\u001b[39mfrom_geom(geom, data\u001b[38;5;241m=\u001b[39mdata, unit\u001b[38;5;241m=\u001b[39m\u001b[38;5;28mself\u001b[39m\u001b[38;5;241m.\u001b[39munit)\n",
      "File \u001b[0;32m/home/wecapstor1/caph/mppi045h/gammapy/gammapy/maps/wcs/geom.py:792\u001b[0m, in \u001b[0;36mWcsGeom.solid_angle\u001b[0;34m(self)\u001b[0m\n\u001b[1;32m    783\u001b[0m \u001b[38;5;28;01mdef\u001b[39;00m \u001b[38;5;21msolid_angle\u001b[39m(\u001b[38;5;28mself\u001b[39m):\n\u001b[1;32m    784\u001b[0m \u001b[38;5;250m    \u001b[39m\u001b[38;5;124;03m\"\"\"Solid angle array (`~astropy.units.Quantity` in ``sr``).\u001b[39;00m\n\u001b[1;32m    785\u001b[0m \n\u001b[1;32m    786\u001b[0m \u001b[38;5;124;03m    The array has the same dimension as the WcsGeom object.\u001b[39;00m\n\u001b[0;32m   (...)\u001b[0m\n\u001b[1;32m    790\u001b[0m \u001b[38;5;124;03m         WcsGeom.to_image().solid_angle()\u001b[39;00m\n\u001b[1;32m    791\u001b[0m \u001b[38;5;124;03m    \"\"\"\u001b[39;00m\n\u001b[0;32m--> 792\u001b[0m     \u001b[38;5;28;01mreturn\u001b[39;00m \u001b[38;5;28;43mself\u001b[39;49m\u001b[38;5;241;43m.\u001b[39;49m\u001b[43m_solid_angle\u001b[49m\n",
      "File \u001b[0;32m/home/wecapstor1/caph/mppi045h/anaconda3/envs/gammapy-dev/lib/python3.8/site-packages/astropy/utils/decorators.py:841\u001b[0m, in \u001b[0;36mlazyproperty.__get__\u001b[0;34m(self, obj, owner)\u001b[0m\n\u001b[1;32m    839\u001b[0m         val \u001b[38;5;241m=\u001b[39m obj_dict\u001b[38;5;241m.\u001b[39mget(\u001b[38;5;28mself\u001b[39m\u001b[38;5;241m.\u001b[39m_key, _NotFound)\n\u001b[1;32m    840\u001b[0m         \u001b[38;5;28;01mif\u001b[39;00m val \u001b[38;5;129;01mis\u001b[39;00m _NotFound:\n\u001b[0;32m--> 841\u001b[0m             val \u001b[38;5;241m=\u001b[39m \u001b[38;5;28;43mself\u001b[39;49m\u001b[38;5;241;43m.\u001b[39;49m\u001b[43mfget\u001b[49m\u001b[43m(\u001b[49m\u001b[43mobj\u001b[49m\u001b[43m)\u001b[49m\n\u001b[1;32m    842\u001b[0m             obj_dict[\u001b[38;5;28mself\u001b[39m\u001b[38;5;241m.\u001b[39m_key] \u001b[38;5;241m=\u001b[39m val\n\u001b[1;32m    843\u001b[0m \u001b[38;5;28;01mreturn\u001b[39;00m val\n",
      "File \u001b[0;32m/home/wecapstor1/caph/mppi045h/gammapy/gammapy/maps/wcs/geom.py:796\u001b[0m, in \u001b[0;36mWcsGeom._solid_angle\u001b[0;34m(self)\u001b[0m\n\u001b[1;32m    794\u001b[0m \u001b[38;5;129m@lazyproperty\u001b[39m\n\u001b[1;32m    795\u001b[0m \u001b[38;5;28;01mdef\u001b[39;00m \u001b[38;5;21m_solid_angle\u001b[39m(\u001b[38;5;28mself\u001b[39m):\n\u001b[0;32m--> 796\u001b[0m     coord \u001b[38;5;241m=\u001b[39m \u001b[38;5;28;43mself\u001b[39;49m\u001b[38;5;241;43m.\u001b[39;49m\u001b[43mget_coord\u001b[49m\u001b[43m(\u001b[49m\u001b[43mmode\u001b[49m\u001b[38;5;241;43m=\u001b[39;49m\u001b[38;5;124;43m\"\u001b[39;49m\u001b[38;5;124;43medges\u001b[39;49m\u001b[38;5;124;43m\"\u001b[39;49m\u001b[43m)\u001b[49m\u001b[38;5;241m.\u001b[39mskycoord\n\u001b[1;32m    798\u001b[0m     \u001b[38;5;66;03m# define pixel corners\u001b[39;00m\n\u001b[1;32m    799\u001b[0m     low_left \u001b[38;5;241m=\u001b[39m coord[\u001b[38;5;241m.\u001b[39m\u001b[38;5;241m.\u001b[39m\u001b[38;5;241m.\u001b[39m, :\u001b[38;5;241m-\u001b[39m\u001b[38;5;241m1\u001b[39m, :\u001b[38;5;241m-\u001b[39m\u001b[38;5;241m1\u001b[39m]\n",
      "File \u001b[0;32m/home/wecapstor1/caph/mppi045h/gammapy/gammapy/maps/wcs/geom.py:615\u001b[0m, in \u001b[0;36mWcsGeom.get_coord\u001b[0;34m(self, idx, mode, frame, sparse, axis_name)\u001b[0m\n\u001b[1;32m    611\u001b[0m     frame \u001b[38;5;241m=\u001b[39m \u001b[38;5;28mself\u001b[39m\u001b[38;5;241m.\u001b[39mframe\n\u001b[1;32m    613\u001b[0m pix \u001b[38;5;241m=\u001b[39m \u001b[38;5;28mself\u001b[39m\u001b[38;5;241m.\u001b[39m_get_pix_all(idx\u001b[38;5;241m=\u001b[39midx, mode\u001b[38;5;241m=\u001b[39mmode, sparse\u001b[38;5;241m=\u001b[39msparse, axis_name\u001b[38;5;241m=\u001b[39maxis_name)\n\u001b[0;32m--> 615\u001b[0m data \u001b[38;5;241m=\u001b[39m \u001b[38;5;28;43mself\u001b[39;49m\u001b[38;5;241;43m.\u001b[39;49m\u001b[43mpix_to_coord\u001b[49m\u001b[43m(\u001b[49m\u001b[43mpix\u001b[49m\u001b[43m)\u001b[49m\n\u001b[1;32m    617\u001b[0m coords \u001b[38;5;241m=\u001b[39m MapCoord\u001b[38;5;241m.\u001b[39mcreate(\n\u001b[1;32m    618\u001b[0m     data\u001b[38;5;241m=\u001b[39mdata, frame\u001b[38;5;241m=\u001b[39m\u001b[38;5;28mself\u001b[39m\u001b[38;5;241m.\u001b[39mframe, axis_names\u001b[38;5;241m=\u001b[39m\u001b[38;5;28mself\u001b[39m\u001b[38;5;241m.\u001b[39maxes\u001b[38;5;241m.\u001b[39mnames\n\u001b[1;32m    619\u001b[0m )\n\u001b[1;32m    620\u001b[0m \u001b[38;5;28;01mreturn\u001b[39;00m coords\u001b[38;5;241m.\u001b[39mto_frame(frame)\n",
      "File \u001b[0;32m/home/wecapstor1/caph/mppi045h/gammapy/gammapy/maps/wcs/geom.py:649\u001b[0m, in \u001b[0;36mWcsGeom.pix_to_coord\u001b[0;34m(self, pix)\u001b[0m\n\u001b[1;32m    647\u001b[0m     coords \u001b[38;5;241m=\u001b[39m pix2world(\u001b[38;5;28mself\u001b[39m\u001b[38;5;241m.\u001b[39mwcs, cdelt, crpix, pix[\u001b[38;5;28mself\u001b[39m\u001b[38;5;241m.\u001b[39m_slice_spatial_axes])\n\u001b[1;32m    648\u001b[0m \u001b[38;5;28;01melse\u001b[39;00m:\n\u001b[0;32m--> 649\u001b[0m     coords \u001b[38;5;241m=\u001b[39m \u001b[38;5;28;43mself\u001b[39;49m\u001b[38;5;241;43m.\u001b[39;49m\u001b[43m_wcs\u001b[49m\u001b[38;5;241;43m.\u001b[39;49m\u001b[43mwcs_pix2world\u001b[49m\u001b[43m(\u001b[49m\u001b[43mpix\u001b[49m\u001b[43m[\u001b[49m\u001b[38;5;241;43m0\u001b[39;49m\u001b[43m]\u001b[49m\u001b[43m,\u001b[49m\u001b[43m \u001b[49m\u001b[43mpix\u001b[49m\u001b[43m[\u001b[49m\u001b[38;5;241;43m1\u001b[39;49m\u001b[43m]\u001b[49m\u001b[43m,\u001b[49m\u001b[43m \u001b[49m\u001b[38;5;241;43m0\u001b[39;49m\u001b[43m)\u001b[49m\n\u001b[1;32m    651\u001b[0m coords \u001b[38;5;241m=\u001b[39m (\n\u001b[1;32m    652\u001b[0m     u\u001b[38;5;241m.\u001b[39mQuantity(coords[\u001b[38;5;241m0\u001b[39m], unit\u001b[38;5;241m=\u001b[39m\u001b[38;5;124m\"\u001b[39m\u001b[38;5;124mdeg\u001b[39m\u001b[38;5;124m\"\u001b[39m, copy\u001b[38;5;241m=\u001b[39m\u001b[38;5;28;01mFalse\u001b[39;00m),\n\u001b[1;32m    653\u001b[0m     u\u001b[38;5;241m.\u001b[39mQuantity(coords[\u001b[38;5;241m1\u001b[39m], unit\u001b[38;5;241m=\u001b[39m\u001b[38;5;124m\"\u001b[39m\u001b[38;5;124mdeg\u001b[39m\u001b[38;5;124m\"\u001b[39m, copy\u001b[38;5;241m=\u001b[39m\u001b[38;5;28;01mFalse\u001b[39;00m),\n\u001b[1;32m    654\u001b[0m )\n\u001b[1;32m    656\u001b[0m coords \u001b[38;5;241m+\u001b[39m\u001b[38;5;241m=\u001b[39m \u001b[38;5;28mself\u001b[39m\u001b[38;5;241m.\u001b[39maxes\u001b[38;5;241m.\u001b[39mpix_to_coord(pix[\u001b[38;5;28mself\u001b[39m\u001b[38;5;241m.\u001b[39m_slice_non_spatial_axes])\n",
      "File \u001b[0;32m/home/wecapstor1/caph/mppi045h/anaconda3/envs/gammapy-dev/lib/python3.8/site-packages/astropy/wcs/wcs.py:1564\u001b[0m, in \u001b[0;36mWCS.wcs_pix2world\u001b[0;34m(self, *args, **kwargs)\u001b[0m\n\u001b[1;32m   1562\u001b[0m \u001b[38;5;28;01mif\u001b[39;00m \u001b[38;5;28mself\u001b[39m\u001b[38;5;241m.\u001b[39mwcs \u001b[38;5;129;01mis\u001b[39;00m \u001b[38;5;28;01mNone\u001b[39;00m:\n\u001b[1;32m   1563\u001b[0m     \u001b[38;5;28;01mraise\u001b[39;00m \u001b[38;5;167;01mValueError\u001b[39;00m(\u001b[38;5;124m\"\u001b[39m\u001b[38;5;124mNo basic WCS settings were created.\u001b[39m\u001b[38;5;124m\"\u001b[39m)\n\u001b[0;32m-> 1564\u001b[0m \u001b[38;5;28;01mreturn\u001b[39;00m \u001b[38;5;28;43mself\u001b[39;49m\u001b[38;5;241;43m.\u001b[39;49m\u001b[43m_array_converter\u001b[49m\u001b[43m(\u001b[49m\n\u001b[1;32m   1565\u001b[0m \u001b[43m    \u001b[49m\u001b[38;5;28;43;01mlambda\u001b[39;49;00m\u001b[43m \u001b[49m\u001b[43mxy\u001b[49m\u001b[43m,\u001b[49m\u001b[43m \u001b[49m\u001b[43mo\u001b[49m\u001b[43m:\u001b[49m\u001b[43m \u001b[49m\u001b[38;5;28;43mself\u001b[39;49m\u001b[38;5;241;43m.\u001b[39;49m\u001b[43mwcs\u001b[49m\u001b[38;5;241;43m.\u001b[39;49m\u001b[43mp2s\u001b[49m\u001b[43m(\u001b[49m\u001b[43mxy\u001b[49m\u001b[43m,\u001b[49m\u001b[43m \u001b[49m\u001b[43mo\u001b[49m\u001b[43m)\u001b[49m\u001b[43m[\u001b[49m\u001b[38;5;124;43m\"\u001b[39;49m\u001b[38;5;124;43mworld\u001b[39;49m\u001b[38;5;124;43m\"\u001b[39;49m\u001b[43m]\u001b[49m\u001b[43m,\u001b[49m\u001b[43m \u001b[49m\u001b[38;5;124;43m\"\u001b[39;49m\u001b[38;5;124;43moutput\u001b[39;49m\u001b[38;5;124;43m\"\u001b[39;49m\u001b[43m,\u001b[49m\u001b[43m \u001b[49m\u001b[38;5;241;43m*\u001b[39;49m\u001b[43margs\u001b[49m\u001b[43m,\u001b[49m\u001b[43m \u001b[49m\u001b[38;5;241;43m*\u001b[39;49m\u001b[38;5;241;43m*\u001b[39;49m\u001b[43mkwargs\u001b[49m\n\u001b[1;32m   1566\u001b[0m \u001b[43m\u001b[49m\u001b[43m)\u001b[49m\n",
      "File \u001b[0;32m/home/wecapstor1/caph/mppi045h/anaconda3/envs/gammapy-dev/lib/python3.8/site-packages/astropy/wcs/wcs.py:1483\u001b[0m, in \u001b[0;36mWCS._array_converter\u001b[0;34m(self, func, sky, ra_dec_order, *args)\u001b[0m\n\u001b[1;32m   1477\u001b[0m     \u001b[38;5;28;01mexcept\u001b[39;00m \u001b[38;5;167;01mException\u001b[39;00m:\n\u001b[1;32m   1478\u001b[0m         \u001b[38;5;28;01mraise\u001b[39;00m \u001b[38;5;167;01mTypeError\u001b[39;00m(\n\u001b[1;32m   1479\u001b[0m             \u001b[38;5;124m\"\u001b[39m\u001b[38;5;124mWhen providing more than two arguments, they must be \u001b[39m\u001b[38;5;124m\"\u001b[39m\n\u001b[1;32m   1480\u001b[0m             \u001b[38;5;241m+\u001b[39m \u001b[38;5;124m\"\u001b[39m\u001b[38;5;124ma 1-D array for each axis, followed by an origin.\u001b[39m\u001b[38;5;124m\"\u001b[39m\n\u001b[1;32m   1481\u001b[0m         )\n\u001b[0;32m-> 1483\u001b[0m     \u001b[38;5;28;01mreturn\u001b[39;00m \u001b[43m_return_list_of_arrays\u001b[49m\u001b[43m(\u001b[49m\u001b[43maxes\u001b[49m\u001b[43m,\u001b[49m\u001b[43m \u001b[49m\u001b[43morigin\u001b[49m\u001b[43m)\u001b[49m\n\u001b[1;32m   1485\u001b[0m \u001b[38;5;28;01mraise\u001b[39;00m \u001b[38;5;167;01mTypeError\u001b[39;00m(\n\u001b[1;32m   1486\u001b[0m     \u001b[38;5;124mf\u001b[39m\u001b[38;5;124m\"\u001b[39m\u001b[38;5;124mWCS projection has \u001b[39m\u001b[38;5;132;01m{\u001b[39;00m\u001b[38;5;28mself\u001b[39m\u001b[38;5;241m.\u001b[39mnaxis\u001b[38;5;132;01m}\u001b[39;00m\u001b[38;5;124m dimensions, so expected 2 (an Nx\u001b[39m\u001b[38;5;132;01m{\u001b[39;00m\u001b[38;5;28mself\u001b[39m\u001b[38;5;241m.\u001b[39mnaxis\u001b[38;5;132;01m}\u001b[39;00m\u001b[38;5;124m array \u001b[39m\u001b[38;5;124m\"\u001b[39m\n\u001b[1;32m   1487\u001b[0m     \u001b[38;5;124mf\u001b[39m\u001b[38;5;124m\"\u001b[39m\u001b[38;5;124mand the origin argument) or \u001b[39m\u001b[38;5;132;01m{\u001b[39;00m\u001b[38;5;28mself\u001b[39m\u001b[38;5;241m.\u001b[39mnaxis\u001b[38;5;250m \u001b[39m\u001b[38;5;241m+\u001b[39m\u001b[38;5;250m \u001b[39m\u001b[38;5;241m1\u001b[39m\u001b[38;5;132;01m}\u001b[39;00m\u001b[38;5;124m arguments (the position in each \u001b[39m\u001b[38;5;124m\"\u001b[39m\n\u001b[1;32m   1488\u001b[0m     \u001b[38;5;124mf\u001b[39m\u001b[38;5;124m\"\u001b[39m\u001b[38;5;124mdimension, and the origin argument). Instead, \u001b[39m\u001b[38;5;132;01m{\u001b[39;00m\u001b[38;5;28mlen\u001b[39m(args)\u001b[38;5;132;01m}\u001b[39;00m\u001b[38;5;124m arguments were \u001b[39m\u001b[38;5;124m\"\u001b[39m\n\u001b[1;32m   1489\u001b[0m     \u001b[38;5;124m\"\u001b[39m\u001b[38;5;124mgiven.\u001b[39m\u001b[38;5;124m\"\u001b[39m\n\u001b[1;32m   1490\u001b[0m )\n",
      "File \u001b[0;32m/home/wecapstor1/caph/mppi045h/anaconda3/envs/gammapy-dev/lib/python3.8/site-packages/astropy/wcs/wcs.py:1429\u001b[0m, in \u001b[0;36mWCS._array_converter.<locals>._return_list_of_arrays\u001b[0;34m(axes, origin)\u001b[0m\n\u001b[1;32m   1424\u001b[0m \u001b[38;5;28;01mexcept\u001b[39;00m \u001b[38;5;167;01mValueError\u001b[39;00m:\n\u001b[1;32m   1425\u001b[0m     \u001b[38;5;28;01mraise\u001b[39;00m \u001b[38;5;167;01mValueError\u001b[39;00m(\n\u001b[1;32m   1426\u001b[0m         \u001b[38;5;124m\"\u001b[39m\u001b[38;5;124mCoordinate arrays are not broadcastable to each other\u001b[39m\u001b[38;5;124m\"\u001b[39m\n\u001b[1;32m   1427\u001b[0m     )\n\u001b[0;32m-> 1429\u001b[0m xy \u001b[38;5;241m=\u001b[39m \u001b[43mnp\u001b[49m\u001b[38;5;241;43m.\u001b[39;49m\u001b[43mhstack\u001b[49m\u001b[43m(\u001b[49m\u001b[43m[\u001b[49m\u001b[43mx\u001b[49m\u001b[38;5;241;43m.\u001b[39;49m\u001b[43mreshape\u001b[49m\u001b[43m(\u001b[49m\u001b[43m(\u001b[49m\u001b[43mx\u001b[49m\u001b[38;5;241;43m.\u001b[39;49m\u001b[43msize\u001b[49m\u001b[43m,\u001b[49m\u001b[43m \u001b[49m\u001b[38;5;241;43m1\u001b[39;49m\u001b[43m)\u001b[49m\u001b[43m)\u001b[49m\u001b[43m \u001b[49m\u001b[38;5;28;43;01mfor\u001b[39;49;00m\u001b[43m \u001b[49m\u001b[43mx\u001b[49m\u001b[43m \u001b[49m\u001b[38;5;129;43;01min\u001b[39;49;00m\u001b[43m \u001b[49m\u001b[43maxes\u001b[49m\u001b[43m]\u001b[49m\u001b[43m)\u001b[49m\n\u001b[1;32m   1431\u001b[0m \u001b[38;5;28;01mif\u001b[39;00m ra_dec_order \u001b[38;5;129;01mand\u001b[39;00m sky \u001b[38;5;241m==\u001b[39m \u001b[38;5;124m\"\u001b[39m\u001b[38;5;124minput\u001b[39m\u001b[38;5;124m\"\u001b[39m:\n\u001b[1;32m   1432\u001b[0m     xy \u001b[38;5;241m=\u001b[39m \u001b[38;5;28mself\u001b[39m\u001b[38;5;241m.\u001b[39m_denormalize_sky(xy)\n",
      "File \u001b[0;32m<__array_function__ internals>:180\u001b[0m, in \u001b[0;36mhstack\u001b[0;34m(*args, **kwargs)\u001b[0m\n",
      "File \u001b[0;32m/home/wecapstor1/caph/mppi045h/anaconda3/envs/gammapy-dev/lib/python3.8/site-packages/numpy/core/shape_base.py:345\u001b[0m, in \u001b[0;36mhstack\u001b[0;34m(tup)\u001b[0m\n\u001b[1;32m    343\u001b[0m     \u001b[38;5;28;01mreturn\u001b[39;00m _nx\u001b[38;5;241m.\u001b[39mconcatenate(arrs, \u001b[38;5;241m0\u001b[39m)\n\u001b[1;32m    344\u001b[0m \u001b[38;5;28;01melse\u001b[39;00m:\n\u001b[0;32m--> 345\u001b[0m     \u001b[38;5;28;01mreturn\u001b[39;00m \u001b[43m_nx\u001b[49m\u001b[38;5;241;43m.\u001b[39;49m\u001b[43mconcatenate\u001b[49m\u001b[43m(\u001b[49m\u001b[43marrs\u001b[49m\u001b[43m,\u001b[49m\u001b[43m \u001b[49m\u001b[38;5;241;43m1\u001b[39;49m\u001b[43m)\u001b[49m\n",
      "File \u001b[0;32m<__array_function__ internals>:180\u001b[0m, in \u001b[0;36mconcatenate\u001b[0;34m(*args, **kwargs)\u001b[0m\n",
      "\u001b[0;31mKeyboardInterrupt\u001b[0m: "
     ]
    }
   ],
   "source": [
    "def create(factors):\n",
    "\n",
    "    datasets = []\n",
    "    for i in range(n_public_runs ):\n",
    "        print(i)\n",
    "        dataset_obs = MapDataset.read(f'dataset-obs-{observations[i].obs_id}.fits.gz')\n",
    "        #dataset_obs.counts.sum_over_axes().plot(add_cbar =1 )    \n",
    "        irfs = {'bkg':dataset_obs.background,\n",
    "           'aeff': dataset_obs.exposure * factors[i],#/ livetime ,\n",
    "           'psf': dataset_obs.psf,\n",
    "           'edisp': dataset_obs.edisp,\n",
    "           'rad_max': 4 *u.deg }\n",
    "\n",
    "        pointing  = observations[i].pointing_radec\n",
    "\n",
    "        obs = Observation.create(\n",
    "            pointing=pointing, livetime=timeobs[i], irfs=irfs, location=location\n",
    "        )\n",
    "\n",
    "        # Make the MapDataset\n",
    "        maker = MapDatasetMaker(selection=[\"exposure\", \"background\", \"psf\", \"edisp\"])\n",
    "\n",
    "        maker_safe_mask = SafeMaskMaker(methods=[\"offset-max\"], offset_max=4.0 * u.deg)\n",
    "        reference = MapDataset.create(geom=geom, name='stacked').cutout(position=obs.pointing_radec, width=8.0*max_offset)    \n",
    "\n",
    "        dataset = maker.run(reference, obs)\n",
    "        dataset = maker_safe_mask.run(dataset, obs)\n",
    "\n",
    "        dataset.counts.data = dataset.counts.data.astype(np.float32)\n",
    "        dataset.psf = dataset_obs.psf\n",
    "        dataset.edisp = dataset_obs.edisp\n",
    "\n",
    "        datasets.append(dataset)\n",
    "\n",
    "    dataset_stacked = datasets[0].copy()\n",
    "    for d in datasets[1:]:\n",
    "        dataset_stacked.stack(d)\n",
    "    return datasets, dataset_stacked\n",
    "#datasets, dataset_stacked = create(factors)\n"
   ]
  },
  {
   "cell_type": "code",
   "execution_count": null,
   "id": "478edd8b-8988-4ee6-8c5b-f5acdd889c66",
   "metadata": {},
   "outputs": [],
   "source": [
    "dataset_stacked.peek()"
   ]
  },
  {
   "cell_type": "code",
   "execution_count": null,
   "id": "05d33e9c-498f-4860-b9b7-7d518a0b29f5",
   "metadata": {},
   "outputs": [],
   "source": [
    "emask = dataset_stacked.mask.data.sum(axis=2).sum(axis=1) >0\n",
    "emask = dataset_stacked.mask.geom.axes[0].center[emask]"
   ]
  },
  {
   "cell_type": "markdown",
   "id": "18d279d2-4b2c-4885-9514-d1fb667adfe6",
   "metadata": {},
   "source": [
    "## Creating the models"
   ]
  },
  {
   "cell_type": "code",
   "execution_count": null,
   "id": "a00808f5-128c-476a-b37d-dace62e9f16e",
   "metadata": {},
   "outputs": [],
   "source": [
    "import operator\n",
    "from gammapy.modeling.models import (\n",
    "    PointSpatialModel,\n",
    "    PowerLawSpectralModel, \n",
    "    ExpCutoffPowerLawSpectralModel,\n",
    "    LogParabolaSpectralModel,\n",
    "    GaussianSpectralModel,\n",
    "    CompoundSpectralModel,\n",
    "    SkyModel\n",
    ")"
   ]
  },
  {
   "cell_type": "code",
   "execution_count": null,
   "id": "b3e2b76a-f70a-467f-b128-90d64a6d46ab",
   "metadata": {},
   "outputs": [],
   "source": [
    "spatial_model = PointSpatialModel(lon_0 = pks_pos.ra, \n",
    "                                  lat_0 = pks_pos.dec,\n",
    "                                  frame= 'icrs')\n",
    "\n",
    "spatial_model.parameters['lon_0'].max = spatial_model.parameters['lon_0'].value + 1\n",
    "spatial_model.parameters['lon_0'].min = spatial_model.parameters['lon_0'].value - 1\n",
    "spatial_model.parameters['lat_0'].max = spatial_model.parameters['lat_0'].value + 1\n",
    "spatial_model.parameters['lat_0'].min = spatial_model.parameters['lat_0'].value - 1\n",
    "\n",
    "pks_par = dict()\n",
    "# https://www.aanda.org/articles/aa/pdf/2005/06/aa1853.pdf\n",
    "# Time-averaged spectrum\n",
    "factor  = 1 *u.Unit(\"m-2\").to(\"cm-2\")\n",
    "a = {'value':4.0e-8*factor, 'error':1.9e-8*factor}\n",
    "pks_par['amplitude'] = a\n",
    "index = {'value':3.32, 'error':0.06}\n",
    "pks_par['index'] = index\n",
    "ecut = {'value':1.4, 'error':0.8}\n",
    "lambda_ = {'value':1/ecut['value'], 'error': ecut['error']/ (ecut['value'] **2 )}\n",
    "pks_par['lambda_'] = lambda_\n",
    "\n",
    "reference = {'value':1, 'error':0.}\n",
    "pks_par['reference'] = reference\n",
    "alpha = {'value':1, 'error':0.}\n",
    "pks_par['alpha'] = alpha\n",
    "\n",
    "pkscutoff_model = ExpCutoffPowerLawSpectralModel()\n",
    "for par in pkscutoff_model.parameters:\n",
    "    par.value = pks_par[par.name]['value']\n",
    "    par.error = pks_par[par.name]['error']\n",
    "\n",
    "    \n",
    "    \n",
    "crab_par = dict()\n",
    "# https://arxiv.org/pdf/1509.02902.pdf\n",
    "a = {'value':1.79e-10, 'error':0.03e-10}\n",
    "crab_par['amplitude'] = a\n",
    "alpha = {'value':2.10, 'error':0.04}\n",
    "crab_par['alpha'] = alpha\n",
    "beta = {'value':0.24, 'error':0.01}\n",
    "crab_par['beta'] = beta\n",
    "reference = {'value':0.521, 'error':0.0}\n",
    "crab_par['reference'] = reference\n",
    "logparabola_model = LogParabolaSpectralModel()\n",
    "for par in logparabola_model.parameters:\n",
    "    par.value = crab_par[par.name]['value']\n",
    "    par.error = crab_par[par.name]['error']\n",
    "\n",
    "scale = 1\n",
    "pks_reference = 1 *u.TeV\n",
    "pks_index = 2.3\n",
    "crab_amplitude = logparabola_model(pks_reference)    *scale\n",
    "\n",
    "print(crab_amplitude)\n",
    "powerlaw_model = PowerLawSpectralModel(\n",
    "    amplitude =crab_amplitude, \n",
    "    index = pks_index,\n",
    "    reference = pks_reference)\n",
    "pks_lambda = 1/ (30 * u.TeV)\n",
    "expcutpowerlaw_model = ExpCutoffPowerLawSpectralModel(\n",
    "    amplitude = crab_amplitude, \n",
    "    index = pks_index,\n",
    "    reference = pks_reference,\n",
    "    lambda_ = pks_lambda)\n",
    "pks_mean = 20*u.TeV\n",
    "pks_sigma = 0.5 *u.TeV\n",
    "gaussian_model = GaussianSpectralModel(mean  = pks_mean,\n",
    "                                      sigma = pks_sigma)\n",
    "gaussian_model = CompoundSpectralModel(model1 = expcutpowerlaw_model, \n",
    "                                      model2 = gaussian_model,\n",
    "                                      operator = operator.add)\n",
    "\n",
    "powerlaw = SkyModel(spatial_model = spatial_model,\n",
    "                    spectral_model = powerlaw_model,\n",
    "                    name = \"PL\")\n",
    "\n",
    "expcutpowerlaw = SkyModel(spatial_model = spatial_model,\n",
    "                    spectral_model = expcutpowerlaw_model,\n",
    "                    name = \"ECPL\")\n",
    "\n",
    "gaussian = SkyModel(spatial_model = spatial_model,\n",
    "                    spectral_model = gaussian_model,\n",
    "                    name = \"GPL\")\n",
    "\n",
    "pkscutoff = SkyModel(spatial_model = spatial_model,\n",
    "                       spectral_model = pkscutoff_model,\n",
    "                    name = \"LP\")\n",
    "gaussian.parameters['amplitude_'].frozen = True\n",
    "#gaussian.parameters['lambda_'].frozen = True\n",
    "Models([pkscutoff]).write(\"model-pks-exp.yaml\", overwrite = True)\n"
   ]
  },
  {
   "cell_type": "code",
   "execution_count": null,
   "id": "97817965-657b-4e60-b68e-32485f869dfc",
   "metadata": {},
   "outputs": [],
   "source": [
    "fig, ax = plt.subplots(1,1, figsize = (6,4))\n",
    "colors = ['red', 'forestgreen', 'royalblue','purple']\n",
    "\n",
    "\n",
    "energy_bounds = [0.3, 100] *u. TeV\n",
    "energy_power = 2\n",
    "pkscutoff_model.plot(energy_bounds,label = \"LogParabola HESS 2015\",\n",
    "                      energy_power = energy_power,\n",
    "                      color = colors[0])\n",
    "pkscutoff_model.plot_error(energy_bounds, energy_power = energy_power,\n",
    "                             facecolor = colors[0])\n",
    "\n",
    "powerlaw_model.plot(energy_bounds,\n",
    "                    label = \"$\\phi_{PL}$\"+f\"$(E; \\Gamma = {pks_index}$)\",\n",
    "                   energy_power = energy_power, \n",
    "                    color = colors[1])\n",
    "\n",
    "expcutpowerlaw_model.plot(energy_bounds, \n",
    "                        label = \"$\\phi_{ECPL}$\"+f\"$(E; E_c = {1/pks_lambda.value}\\,$TeV)\",\n",
    "                         energy_power = energy_power,\n",
    "                          color = colors[2])\n",
    "\n",
    "gaussian_model.plot(energy_bounds, \n",
    "                    label = f\"$\\phi_G(E; \\mu = {pks_mean.value}\\,$TeV,$ \\sigma = {pks_sigma.value}\\,$TeV)\",\n",
    "                   energy_power = energy_power,\n",
    "                   linestyle = 'dashed', \n",
    "                    color  = colors [3])\n",
    "\n",
    "\n",
    "plt.legend()\n",
    "\n",
    "plt.ylim(1e-14, 3e-10)\n",
    "plt.fill_betweenx(ax.get_ylim(), emask[0].value,100, color = 'lightpink', alpha = 0.2)\n",
    "\n",
    "fig.savefig(\"plots/2_input_spectra.pdf\")"
   ]
  },
  {
   "cell_type": "code",
   "execution_count": null,
   "id": "1e593457-6d75-493e-aa25-5a4cb5cefa13",
   "metadata": {},
   "outputs": [],
   "source": [
    "fig, ax = plt.subplots(1,1, figsize = (6,4))\n",
    "colors = ['red', 'forestgreen', 'royalblue','purple', \"orange\"]\n",
    "\n",
    "\n",
    "energy_bounds = [0.3, 100] *u. TeV\n",
    "energy_power = 2\n",
    "alpha = 0.3\n",
    "logparabola_model.plot(energy_bounds,label = \"Crab - HESS 2015\",\n",
    "                      energy_power = energy_power,\n",
    "                      color = colors[-1],\n",
    "                     alpha = alpha)\n",
    "logparabola_model.plot_error(energy_bounds, energy_power = energy_power,\n",
    "                             facecolor = colors[-1],\n",
    "                           alpha = alpha)\n",
    "\n",
    "\n",
    "#pkscutoff_model.plot(energy_bounds,label = \"PKS 2255-304 - LogParabola HESS 2005\",\n",
    "#                      energy_power = energy_power,\n",
    "#                      color = colors[0],\n",
    "#                     alpha = alpha)\n",
    "#pkscutoff_model.plot_error(energy_bounds, energy_power = energy_power,\n",
    "#                             facecolor = colors[0],\n",
    "#                           alpha = alpha)\n",
    "\n",
    "powerlaw_model.plot(energy_bounds,\n",
    "                    label =\"\",\n",
    "                   energy_power = energy_power, \n",
    "                    color = colors[1],\n",
    "                    alpha = alpha)\n",
    "\n",
    "expcutpowerlaw_model.plot(energy_bounds, \n",
    "                        label =\"\",\n",
    "                         energy_power = energy_power,\n",
    "                          color = colors[2],\n",
    "                          alpha = alpha)\n",
    "\n",
    "gaussian_model.plot(energy_bounds, \n",
    "                    label = \"\",\n",
    "                   energy_power = energy_power,\n",
    "                   linestyle = 'dashed', \n",
    "                    color  = colors [3],\n",
    "                    alpha = alpha),\n",
    "\n",
    "models  = [powerlaw_model,expcutpowerlaw_model,gaussian_model]\n",
    "for m in models:\n",
    "    m.parameters['amplitude'].value = 0.05 * crab_amplitude.value\n",
    "    if 'amplitude_' in m.parameters.names:\n",
    "        m.parameters['amplitude_'].value = 0.05 *  1.0000e-12\n",
    "alpha = 1\n",
    "powerlaw_model.plot(energy_bounds,\n",
    "                    label = \"$\\phi_{PL}$\"+f\"$(E; \\Gamma = {pks_index}$)\",\n",
    "                   energy_power = energy_power, \n",
    "                    color = colors[1],\n",
    "                   alpha = alpha)\n",
    "\n",
    "expcutpowerlaw_model.plot(energy_bounds, \n",
    "                        label = \"$\\phi_{ECPL}$\"+f\"$(E; E_c = {1/pks_lambda.value}\\,$TeV)\",\n",
    "                         energy_power = energy_power,\n",
    "                          color = colors[2],\n",
    "                         alpha = alpha)\n",
    "\n",
    "gaussian_model.plot(energy_bounds, \n",
    "                    label = f\"$\\phi_G(E; \\mu = {pks_mean.value}\\,$TeV, $ \\sigma = {pks_sigma.value}\\,$TeV)\",\n",
    "                    energy_power = energy_power,\n",
    "                   linestyle = 'dashed', \n",
    "                    color  = colors [3],\n",
    "                   alpha = alpha)\n",
    "for m in models:\n",
    "    m.parameters['amplitude'].value =  crab_amplitude.value\n",
    "    if 'amplitude_' in m.parameters.names:\n",
    "        m.parameters['amplitude_'].value =  1.0000e-12\n",
    "plt.legend()\n",
    "\n",
    "plt.ylim(1e-14, 3e-10)\n",
    "plt.fill_betweenx(ax.get_ylim(), emask[0].value,100, color = 'lightpink', alpha = 0.2)\n",
    "\n",
    "fig.savefig(\"plots/2_input_spectra_weak.pdf\")"
   ]
  },
  {
   "cell_type": "code",
   "execution_count": null,
   "id": "2b157d0a-394a-4edd-8390-5d09332d92d0",
   "metadata": {},
   "outputs": [],
   "source": [
    "def plot_par(par1, par2, label,ax = None, fmt ='x', markersize = 6):\n",
    "    if ax is None:\n",
    "        fig, ax = plt.subplots(1,1)\n",
    "    ax.errorbar(x = par1.value, y = par2.value, xerr = par1.error, yerr = par2.error, fmt= fmt,\n",
    "                markersize = markersize,\n",
    "                label = label)\n",
    "    ax.set_xlabel(f\"{par1.name} [{par1.unit}] \" )\n",
    "    ax.set_ylabel(f\"{par2.name} [{par2.unit}] \" )\n",
    "    ax.legend()\n",
    "    \n",
    "    return ax\n",
    "\n",
    "def plot_source_par(model_name, pars):\n",
    "    if len(pars)>2:\n",
    "        fig, ax = plt.subplots(2,2, figsize = (6,6))\n",
    "        ax = ax.flatten()\n",
    "    else:\n",
    "        fig, ax = plt.subplots(1,2, figsize = (6,3))\n",
    "   \n",
    "    for i, p in enumerate(pars):\n",
    "    \n",
    "        for j, m in enumerate (models_list):\n",
    "            try:\n",
    "                plot_par(m[0].parameters[p[0]],\n",
    "                 m[model_name].parameters[p[1]],\n",
    "                    label= labels[j],\n",
    "                    ax = ax[i],\n",
    "                        fmt = fmts[j],\n",
    "                        markersize = markersize[j])\n",
    "            except:\n",
    "                pass\n",
    "\n",
    "    plt.tight_layout()\n",
    "\n",
    "labels = ['simulated', 'recovered pl', 'recovered ecpl']\n",
    "fmts = ['o','x']\n",
    "markersize = [6,10]"
   ]
  },
  {
   "cell_type": "code",
   "execution_count": null,
   "id": "c233d8fe-6e70-4f64-8bad-3ae953b2e246",
   "metadata": {},
   "outputs": [],
   "source": [
    "dataset_pl = dataset_stacked.copy()\n",
    "dataset_pl.models = powerlaw.copy()\n",
    "dataset_ecpl = dataset_stacked.copy()\n",
    "dataset_ecpl.models = expcutpowerlaw.copy()\n",
    "dataset_plg = dataset_stacked.copy()\n",
    "dataset_plg.models = gaussian.copy()\n",
    "\n",
    "\n",
    "dataset_pl.counts = dataset_pl.npred()\n",
    "dataset_ecpl.counts = dataset_ecpl.npred()\n",
    "dataset_plg.counts = dataset_plg.npred()\n",
    "\n",
    "#dataset_pl.fake(28)\n",
    "#dataset_ecpl.fake(18)\n",
    "#dataset_plg.fake(8)\n",
    "\n"
   ]
  },
  {
   "cell_type": "code",
   "execution_count": null,
   "id": "90828b63-f666-45dd-a42f-a93e23314127",
   "metadata": {},
   "outputs": [],
   "source": [
    "dataset_pl.write(\"dataset-simulated-pl.fits.gz\", overwrite = True)\n",
    "dataset_pl.models.write(\"model-pl.yaml\", overwrite = True)\n",
    "dataset_ecpl.write(\"dataset-simulated-ecpl.fits.gz\", overwrite = True)\n",
    "dataset_ecpl.models.write(\"model-ecpl.yaml\", overwrite = True)\n",
    "dataset_plg.write(\"dataset-simulated-plg.fits.gz\", overwrite = True)\n",
    "dataset_plg.models.write(\"model-plg.yaml\", overwrite = True)"
   ]
  },
  {
   "cell_type": "code",
   "execution_count": null,
   "id": "6796e7cb-0be2-4525-b655-81a5eeeb46cd",
   "metadata": {},
   "outputs": [],
   "source": [
    "%%time\n",
    "\n",
    "fit = Fit()\n",
    "fit.run([dataset_pl])\n",
    "fit.run([dataset_ecpl])\n",
    "fit.run([dataset_plg])"
   ]
  },
  {
   "cell_type": "code",
   "execution_count": null,
   "id": "3bd8c369-b8bc-4282-bcbb-333eb559ab5b",
   "metadata": {},
   "outputs": [],
   "source": [
    "dataset_pl.plot_residuals(kwargs_spatial={'vmax':0.51,\n",
    "                                      'vmin':-0.51},\n",
    "                      kwargs_spectral={'method' : 'diff/sqrt(model)'})"
   ]
  },
  {
   "cell_type": "code",
   "execution_count": null,
   "id": "edacfa0c-1a60-49ff-acf8-cdd52d1d91c4",
   "metadata": {},
   "outputs": [],
   "source": [
    "models_list = [Models(powerlaw), dataset_pl.models, ]\n",
    "\n",
    "pars =  pars = [('lon_0', 'lat_0'),('amplitude', 'index'),]\n",
    "plot_source_par(0, pars)\n"
   ]
  },
  {
   "cell_type": "code",
   "execution_count": null,
   "id": "e3df9e13-926f-4673-ac19-6ff5c50b8af9",
   "metadata": {},
   "outputs": [],
   "source": [
    "models_list = [Models(expcutpowerlaw), dataset_ecpl.models, ]\n",
    "pars= [('lon_0', 'lat_0'),('amplitude', 'index'),\n",
    "                ('lambda_', 'lambda_')]\n",
    "\n",
    "plot_source_par(0, pars)\n"
   ]
  },
  {
   "cell_type": "code",
   "execution_count": null,
   "id": "20ea3e8d-8c96-49df-a4c6-4cd99adee5c6",
   "metadata": {},
   "outputs": [],
   "source": [
    "models_list = [Models(gaussian), dataset_plg.models, ]\n",
    "pars= [('lon_0', 'lat_0'),('amplitude_', 'index'),\n",
    "                ('lambda_', 'lambda_'), ('mean', 'sigma')]\n",
    "\n",
    "plot_source_par(0, pars)\n"
   ]
  },
  {
   "cell_type": "code",
   "execution_count": null,
   "id": "ff040ee0-59ef-4af4-9f85-cac970480620",
   "metadata": {},
   "outputs": [],
   "source": [
    "ee = dataset_pl.geoms['geom'].axes[0].center.value\n",
    "labels = ['PL', 'ECPL', 'G']\n",
    "datasets = [dataset_pl, dataset_ecpl, dataset_plg]\n",
    "for i, d in enumerate(datasets):\n",
    "    plt.plot(ee, \n",
    "         (d.counts* d.mask).data.sum(axis=2).sum(axis=1),\n",
    "            label = labels[i])\n",
    "plt.loglog()"
   ]
  },
  {
   "cell_type": "code",
   "execution_count": null,
   "id": "24472761-d046-4be1-8adb-590fe6ba35d6",
   "metadata": {},
   "outputs": [],
   "source": [
    "stat_sums = []\n",
    "stat_sumsH0 = []\n",
    "\n",
    "for d in datasets:\n",
    "    stat_sums.append(d.stat_sum())\n",
    "\n",
    "    with d.models.parameters.restore_status():\n",
    "        d.models.parameters['amplitude'].value = 0\n",
    "        try:\n",
    "            d.models.parameters['amplitude_'].value = 0\n",
    "        except:\n",
    "            pass\n",
    "        stat_sumsH0.append(d.stat_sum())\n",
    "        \n",
    "        \n",
    "                     "
   ]
  },
  {
   "cell_type": "code",
   "execution_count": null,
   "id": "dd64849c-80cc-45df-ad0d-22282a6fc757",
   "metadata": {},
   "outputs": [],
   "source": [
    "print(stat_sums)\n",
    "print(stat_sumsH0)\n",
    "print(np.array(stat_sumsH0) - np.array(stat_sums))\n",
    "print(np.sqrt(np.array(stat_sumsH0) - np.array(stat_sums)))"
   ]
  },
  {
   "cell_type": "markdown",
   "id": "e5120156-89c2-494c-9294-50cfeefbdb75",
   "metadata": {},
   "source": [
    "## Simulated different observation times "
   ]
  },
  {
   "cell_type": "code",
   "execution_count": 15,
   "id": "10bd64ed-ca4c-439c-bfa2-2c7799820220",
   "metadata": {},
   "outputs": [
    {
     "name": "stdout",
     "output_type": "stream",
     "text": [
      "Livetime:  100.0 h\n",
      "0\n"
     ]
    },
    {
     "name": "stderr",
     "output_type": "stream",
     "text": [
      "/tmp/ipykernel_1992037/680022270.py:14: GammapyDeprecationWarning: Use observation.get_pointing_icrs(time) instead\n",
      "  pointing  = observations[i].pointing_radec\n",
      "/home/wecapstor1/caph/mppi045h/gammapy/gammapy/data/observations.py:226: GammapyDeprecationWarning: Pointing will be required to be provided as FixedPointingInfo\n",
      "  warnings.warn(\n",
      "/tmp/ipykernel_1992037/680022270.py:24: GammapyDeprecationWarning: Use observation.get_pointing_icrs(time) instead\n",
      "  reference = MapDataset.create(geom=geom, name='stacked').cutout(position=obs.pointing_radec, width=8.0*max_offset)\n",
      "/home/wecapstor1/caph/mppi045h/anaconda3/envs/gammapy-dev/lib/python3.8/site-packages/astropy/utils/decorators.py:841: GammapyDeprecationWarning: Use observation.pointing or observation.get_pointing_{altaz,icrs} instead\n",
      "  val = self.fget(obj)\n",
      "/home/wecapstor1/caph/mppi045h/anaconda3/envs/gammapy-dev/lib/python3.8/site-packages/astropy/utils/decorators.py:841: GammapyDeprecationWarning: The radec function is deprecated and may be removed in a future version.\n",
      "  val = self.fget(obj)\n"
     ]
    },
    {
     "name": "stdout",
     "output_type": "stream",
     "text": [
      "1\n"
     ]
    },
    {
     "name": "stderr",
     "output_type": "stream",
     "text": [
      "/tmp/ipykernel_1992037/680022270.py:14: GammapyDeprecationWarning: Use observation.get_pointing_icrs(time) instead\n",
      "  pointing  = observations[i].pointing_radec\n",
      "/home/wecapstor1/caph/mppi045h/gammapy/gammapy/data/observations.py:226: GammapyDeprecationWarning: Pointing will be required to be provided as FixedPointingInfo\n",
      "  warnings.warn(\n",
      "/tmp/ipykernel_1992037/680022270.py:24: GammapyDeprecationWarning: Use observation.get_pointing_icrs(time) instead\n",
      "  reference = MapDataset.create(geom=geom, name='stacked').cutout(position=obs.pointing_radec, width=8.0*max_offset)\n",
      "/home/wecapstor1/caph/mppi045h/anaconda3/envs/gammapy-dev/lib/python3.8/site-packages/astropy/utils/decorators.py:841: GammapyDeprecationWarning: Use observation.pointing or observation.get_pointing_{altaz,icrs} instead\n",
      "  val = self.fget(obj)\n",
      "/home/wecapstor1/caph/mppi045h/anaconda3/envs/gammapy-dev/lib/python3.8/site-packages/astropy/utils/decorators.py:841: GammapyDeprecationWarning: The radec function is deprecated and may be removed in a future version.\n",
      "  val = self.fget(obj)\n"
     ]
    },
    {
     "name": "stdout",
     "output_type": "stream",
     "text": [
      "2\n"
     ]
    },
    {
     "name": "stderr",
     "output_type": "stream",
     "text": [
      "/tmp/ipykernel_1992037/680022270.py:14: GammapyDeprecationWarning: Use observation.get_pointing_icrs(time) instead\n",
      "  pointing  = observations[i].pointing_radec\n",
      "/home/wecapstor1/caph/mppi045h/gammapy/gammapy/data/observations.py:226: GammapyDeprecationWarning: Pointing will be required to be provided as FixedPointingInfo\n",
      "  warnings.warn(\n",
      "/tmp/ipykernel_1992037/680022270.py:24: GammapyDeprecationWarning: Use observation.get_pointing_icrs(time) instead\n",
      "  reference = MapDataset.create(geom=geom, name='stacked').cutout(position=obs.pointing_radec, width=8.0*max_offset)\n",
      "/home/wecapstor1/caph/mppi045h/anaconda3/envs/gammapy-dev/lib/python3.8/site-packages/astropy/utils/decorators.py:841: GammapyDeprecationWarning: Use observation.pointing or observation.get_pointing_{altaz,icrs} instead\n",
      "  val = self.fget(obj)\n",
      "/home/wecapstor1/caph/mppi045h/anaconda3/envs/gammapy-dev/lib/python3.8/site-packages/astropy/utils/decorators.py:841: GammapyDeprecationWarning: The radec function is deprecated and may be removed in a future version.\n",
      "  val = self.fget(obj)\n"
     ]
    },
    {
     "name": "stdout",
     "output_type": "stream",
     "text": [
      "3\n"
     ]
    },
    {
     "name": "stderr",
     "output_type": "stream",
     "text": [
      "/tmp/ipykernel_1992037/680022270.py:14: GammapyDeprecationWarning: Use observation.get_pointing_icrs(time) instead\n",
      "  pointing  = observations[i].pointing_radec\n",
      "/home/wecapstor1/caph/mppi045h/gammapy/gammapy/data/observations.py:226: GammapyDeprecationWarning: Pointing will be required to be provided as FixedPointingInfo\n",
      "  warnings.warn(\n",
      "/tmp/ipykernel_1992037/680022270.py:24: GammapyDeprecationWarning: Use observation.get_pointing_icrs(time) instead\n",
      "  reference = MapDataset.create(geom=geom, name='stacked').cutout(position=obs.pointing_radec, width=8.0*max_offset)\n",
      "/home/wecapstor1/caph/mppi045h/anaconda3/envs/gammapy-dev/lib/python3.8/site-packages/astropy/utils/decorators.py:841: GammapyDeprecationWarning: Use observation.pointing or observation.get_pointing_{altaz,icrs} instead\n",
      "  val = self.fget(obj)\n",
      "/home/wecapstor1/caph/mppi045h/anaconda3/envs/gammapy-dev/lib/python3.8/site-packages/astropy/utils/decorators.py:841: GammapyDeprecationWarning: The radec function is deprecated and may be removed in a future version.\n",
      "  val = self.fget(obj)\n"
     ]
    },
    {
     "name": "stdout",
     "output_type": "stream",
     "text": [
      "4\n"
     ]
    },
    {
     "name": "stderr",
     "output_type": "stream",
     "text": [
      "/tmp/ipykernel_1992037/680022270.py:14: GammapyDeprecationWarning: Use observation.get_pointing_icrs(time) instead\n",
      "  pointing  = observations[i].pointing_radec\n",
      "/home/wecapstor1/caph/mppi045h/gammapy/gammapy/data/observations.py:226: GammapyDeprecationWarning: Pointing will be required to be provided as FixedPointingInfo\n",
      "  warnings.warn(\n",
      "/tmp/ipykernel_1992037/680022270.py:24: GammapyDeprecationWarning: Use observation.get_pointing_icrs(time) instead\n",
      "  reference = MapDataset.create(geom=geom, name='stacked').cutout(position=obs.pointing_radec, width=8.0*max_offset)\n",
      "/home/wecapstor1/caph/mppi045h/anaconda3/envs/gammapy-dev/lib/python3.8/site-packages/astropy/utils/decorators.py:841: GammapyDeprecationWarning: Use observation.pointing or observation.get_pointing_{altaz,icrs} instead\n",
      "  val = self.fget(obj)\n",
      "/home/wecapstor1/caph/mppi045h/anaconda3/envs/gammapy-dev/lib/python3.8/site-packages/astropy/utils/decorators.py:841: GammapyDeprecationWarning: The radec function is deprecated and may be removed in a future version.\n",
      "  val = self.fget(obj)\n"
     ]
    },
    {
     "name": "stdout",
     "output_type": "stream",
     "text": [
      "5\n"
     ]
    },
    {
     "name": "stderr",
     "output_type": "stream",
     "text": [
      "/tmp/ipykernel_1992037/680022270.py:14: GammapyDeprecationWarning: Use observation.get_pointing_icrs(time) instead\n",
      "  pointing  = observations[i].pointing_radec\n",
      "/home/wecapstor1/caph/mppi045h/gammapy/gammapy/data/observations.py:226: GammapyDeprecationWarning: Pointing will be required to be provided as FixedPointingInfo\n",
      "  warnings.warn(\n",
      "/tmp/ipykernel_1992037/680022270.py:24: GammapyDeprecationWarning: Use observation.get_pointing_icrs(time) instead\n",
      "  reference = MapDataset.create(geom=geom, name='stacked').cutout(position=obs.pointing_radec, width=8.0*max_offset)\n",
      "/home/wecapstor1/caph/mppi045h/anaconda3/envs/gammapy-dev/lib/python3.8/site-packages/astropy/utils/decorators.py:841: GammapyDeprecationWarning: Use observation.pointing or observation.get_pointing_{altaz,icrs} instead\n",
      "  val = self.fget(obj)\n",
      "/home/wecapstor1/caph/mppi045h/anaconda3/envs/gammapy-dev/lib/python3.8/site-packages/astropy/utils/decorators.py:841: GammapyDeprecationWarning: The radec function is deprecated and may be removed in a future version.\n",
      "  val = self.fget(obj)\n"
     ]
    },
    {
     "name": "stdout",
     "output_type": "stream",
     "text": [
      "6\n"
     ]
    },
    {
     "name": "stderr",
     "output_type": "stream",
     "text": [
      "/tmp/ipykernel_1992037/680022270.py:14: GammapyDeprecationWarning: Use observation.get_pointing_icrs(time) instead\n",
      "  pointing  = observations[i].pointing_radec\n",
      "/home/wecapstor1/caph/mppi045h/gammapy/gammapy/data/observations.py:226: GammapyDeprecationWarning: Pointing will be required to be provided as FixedPointingInfo\n",
      "  warnings.warn(\n",
      "/tmp/ipykernel_1992037/680022270.py:24: GammapyDeprecationWarning: Use observation.get_pointing_icrs(time) instead\n",
      "  reference = MapDataset.create(geom=geom, name='stacked').cutout(position=obs.pointing_radec, width=8.0*max_offset)\n",
      "/home/wecapstor1/caph/mppi045h/anaconda3/envs/gammapy-dev/lib/python3.8/site-packages/astropy/utils/decorators.py:841: GammapyDeprecationWarning: Use observation.pointing or observation.get_pointing_{altaz,icrs} instead\n",
      "  val = self.fget(obj)\n",
      "/home/wecapstor1/caph/mppi045h/anaconda3/envs/gammapy-dev/lib/python3.8/site-packages/astropy/utils/decorators.py:841: GammapyDeprecationWarning: The radec function is deprecated and may be removed in a future version.\n",
      "  val = self.fget(obj)\n"
     ]
    },
    {
     "name": "stdout",
     "output_type": "stream",
     "text": [
      "7\n"
     ]
    },
    {
     "name": "stderr",
     "output_type": "stream",
     "text": [
      "/tmp/ipykernel_1992037/680022270.py:14: GammapyDeprecationWarning: Use observation.get_pointing_icrs(time) instead\n",
      "  pointing  = observations[i].pointing_radec\n",
      "/home/wecapstor1/caph/mppi045h/gammapy/gammapy/data/observations.py:226: GammapyDeprecationWarning: Pointing will be required to be provided as FixedPointingInfo\n",
      "  warnings.warn(\n",
      "/tmp/ipykernel_1992037/680022270.py:24: GammapyDeprecationWarning: Use observation.get_pointing_icrs(time) instead\n",
      "  reference = MapDataset.create(geom=geom, name='stacked').cutout(position=obs.pointing_radec, width=8.0*max_offset)\n",
      "/home/wecapstor1/caph/mppi045h/anaconda3/envs/gammapy-dev/lib/python3.8/site-packages/astropy/utils/decorators.py:841: GammapyDeprecationWarning: Use observation.pointing or observation.get_pointing_{altaz,icrs} instead\n",
      "  val = self.fget(obj)\n",
      "/home/wecapstor1/caph/mppi045h/anaconda3/envs/gammapy-dev/lib/python3.8/site-packages/astropy/utils/decorators.py:841: GammapyDeprecationWarning: The radec function is deprecated and may be removed in a future version.\n",
      "  val = self.fget(obj)\n"
     ]
    },
    {
     "name": "stdout",
     "output_type": "stream",
     "text": [
      "8\n"
     ]
    },
    {
     "name": "stderr",
     "output_type": "stream",
     "text": [
      "/tmp/ipykernel_1992037/680022270.py:14: GammapyDeprecationWarning: Use observation.get_pointing_icrs(time) instead\n",
      "  pointing  = observations[i].pointing_radec\n",
      "/home/wecapstor1/caph/mppi045h/gammapy/gammapy/data/observations.py:226: GammapyDeprecationWarning: Pointing will be required to be provided as FixedPointingInfo\n",
      "  warnings.warn(\n",
      "/tmp/ipykernel_1992037/680022270.py:24: GammapyDeprecationWarning: Use observation.get_pointing_icrs(time) instead\n",
      "  reference = MapDataset.create(geom=geom, name='stacked').cutout(position=obs.pointing_radec, width=8.0*max_offset)\n",
      "/home/wecapstor1/caph/mppi045h/anaconda3/envs/gammapy-dev/lib/python3.8/site-packages/astropy/utils/decorators.py:841: GammapyDeprecationWarning: Use observation.pointing or observation.get_pointing_{altaz,icrs} instead\n",
      "  val = self.fget(obj)\n",
      "/home/wecapstor1/caph/mppi045h/anaconda3/envs/gammapy-dev/lib/python3.8/site-packages/astropy/utils/decorators.py:841: GammapyDeprecationWarning: The radec function is deprecated and may be removed in a future version.\n",
      "  val = self.fget(obj)\n"
     ]
    },
    {
     "name": "stdout",
     "output_type": "stream",
     "text": [
      "9\n"
     ]
    },
    {
     "name": "stderr",
     "output_type": "stream",
     "text": [
      "/tmp/ipykernel_1992037/680022270.py:14: GammapyDeprecationWarning: Use observation.get_pointing_icrs(time) instead\n",
      "  pointing  = observations[i].pointing_radec\n",
      "/home/wecapstor1/caph/mppi045h/gammapy/gammapy/data/observations.py:226: GammapyDeprecationWarning: Pointing will be required to be provided as FixedPointingInfo\n",
      "  warnings.warn(\n",
      "/tmp/ipykernel_1992037/680022270.py:24: GammapyDeprecationWarning: Use observation.get_pointing_icrs(time) instead\n",
      "  reference = MapDataset.create(geom=geom, name='stacked').cutout(position=obs.pointing_radec, width=8.0*max_offset)\n",
      "/home/wecapstor1/caph/mppi045h/anaconda3/envs/gammapy-dev/lib/python3.8/site-packages/astropy/utils/decorators.py:841: GammapyDeprecationWarning: Use observation.pointing or observation.get_pointing_{altaz,icrs} instead\n",
      "  val = self.fget(obj)\n",
      "/home/wecapstor1/caph/mppi045h/anaconda3/envs/gammapy-dev/lib/python3.8/site-packages/astropy/utils/decorators.py:841: GammapyDeprecationWarning: The radec function is deprecated and may be removed in a future version.\n",
      "  val = self.fget(obj)\n"
     ]
    },
    {
     "name": "stdout",
     "output_type": "stream",
     "text": [
      "10\n"
     ]
    },
    {
     "name": "stderr",
     "output_type": "stream",
     "text": [
      "/tmp/ipykernel_1992037/680022270.py:14: GammapyDeprecationWarning: Use observation.get_pointing_icrs(time) instead\n",
      "  pointing  = observations[i].pointing_radec\n",
      "/home/wecapstor1/caph/mppi045h/gammapy/gammapy/data/observations.py:226: GammapyDeprecationWarning: Pointing will be required to be provided as FixedPointingInfo\n",
      "  warnings.warn(\n",
      "/tmp/ipykernel_1992037/680022270.py:24: GammapyDeprecationWarning: Use observation.get_pointing_icrs(time) instead\n",
      "  reference = MapDataset.create(geom=geom, name='stacked').cutout(position=obs.pointing_radec, width=8.0*max_offset)\n",
      "/home/wecapstor1/caph/mppi045h/anaconda3/envs/gammapy-dev/lib/python3.8/site-packages/astropy/utils/decorators.py:841: GammapyDeprecationWarning: Use observation.pointing or observation.get_pointing_{altaz,icrs} instead\n",
      "  val = self.fget(obj)\n",
      "/home/wecapstor1/caph/mppi045h/anaconda3/envs/gammapy-dev/lib/python3.8/site-packages/astropy/utils/decorators.py:841: GammapyDeprecationWarning: The radec function is deprecated and may be removed in a future version.\n",
      "  val = self.fget(obj)\n"
     ]
    },
    {
     "name": "stdout",
     "output_type": "stream",
     "text": [
      "11\n"
     ]
    },
    {
     "name": "stderr",
     "output_type": "stream",
     "text": [
      "/tmp/ipykernel_1992037/680022270.py:14: GammapyDeprecationWarning: Use observation.get_pointing_icrs(time) instead\n",
      "  pointing  = observations[i].pointing_radec\n",
      "/home/wecapstor1/caph/mppi045h/gammapy/gammapy/data/observations.py:226: GammapyDeprecationWarning: Pointing will be required to be provided as FixedPointingInfo\n",
      "  warnings.warn(\n",
      "/tmp/ipykernel_1992037/680022270.py:24: GammapyDeprecationWarning: Use observation.get_pointing_icrs(time) instead\n",
      "  reference = MapDataset.create(geom=geom, name='stacked').cutout(position=obs.pointing_radec, width=8.0*max_offset)\n",
      "/home/wecapstor1/caph/mppi045h/anaconda3/envs/gammapy-dev/lib/python3.8/site-packages/astropy/utils/decorators.py:841: GammapyDeprecationWarning: Use observation.pointing or observation.get_pointing_{altaz,icrs} instead\n",
      "  val = self.fget(obj)\n",
      "/home/wecapstor1/caph/mppi045h/anaconda3/envs/gammapy-dev/lib/python3.8/site-packages/astropy/utils/decorators.py:841: GammapyDeprecationWarning: The radec function is deprecated and may be removed in a future version.\n",
      "  val = self.fget(obj)\n"
     ]
    },
    {
     "name": "stdout",
     "output_type": "stream",
     "text": [
      "12\n"
     ]
    },
    {
     "name": "stderr",
     "output_type": "stream",
     "text": [
      "/tmp/ipykernel_1992037/680022270.py:14: GammapyDeprecationWarning: Use observation.get_pointing_icrs(time) instead\n",
      "  pointing  = observations[i].pointing_radec\n",
      "/home/wecapstor1/caph/mppi045h/gammapy/gammapy/data/observations.py:226: GammapyDeprecationWarning: Pointing will be required to be provided as FixedPointingInfo\n",
      "  warnings.warn(\n",
      "/tmp/ipykernel_1992037/680022270.py:24: GammapyDeprecationWarning: Use observation.get_pointing_icrs(time) instead\n",
      "  reference = MapDataset.create(geom=geom, name='stacked').cutout(position=obs.pointing_radec, width=8.0*max_offset)\n",
      "/home/wecapstor1/caph/mppi045h/anaconda3/envs/gammapy-dev/lib/python3.8/site-packages/astropy/utils/decorators.py:841: GammapyDeprecationWarning: Use observation.pointing or observation.get_pointing_{altaz,icrs} instead\n",
      "  val = self.fget(obj)\n",
      "/home/wecapstor1/caph/mppi045h/anaconda3/envs/gammapy-dev/lib/python3.8/site-packages/astropy/utils/decorators.py:841: GammapyDeprecationWarning: The radec function is deprecated and may be removed in a future version.\n",
      "  val = self.fget(obj)\n"
     ]
    },
    {
     "name": "stdout",
     "output_type": "stream",
     "text": [
      "13\n"
     ]
    },
    {
     "name": "stderr",
     "output_type": "stream",
     "text": [
      "/tmp/ipykernel_1992037/680022270.py:14: GammapyDeprecationWarning: Use observation.get_pointing_icrs(time) instead\n",
      "  pointing  = observations[i].pointing_radec\n",
      "/home/wecapstor1/caph/mppi045h/gammapy/gammapy/data/observations.py:226: GammapyDeprecationWarning: Pointing will be required to be provided as FixedPointingInfo\n",
      "  warnings.warn(\n",
      "/tmp/ipykernel_1992037/680022270.py:24: GammapyDeprecationWarning: Use observation.get_pointing_icrs(time) instead\n",
      "  reference = MapDataset.create(geom=geom, name='stacked').cutout(position=obs.pointing_radec, width=8.0*max_offset)\n",
      "/home/wecapstor1/caph/mppi045h/anaconda3/envs/gammapy-dev/lib/python3.8/site-packages/astropy/utils/decorators.py:841: GammapyDeprecationWarning: Use observation.pointing or observation.get_pointing_{altaz,icrs} instead\n",
      "  val = self.fget(obj)\n",
      "/home/wecapstor1/caph/mppi045h/anaconda3/envs/gammapy-dev/lib/python3.8/site-packages/astropy/utils/decorators.py:841: GammapyDeprecationWarning: The radec function is deprecated and may be removed in a future version.\n",
      "  val = self.fget(obj)\n"
     ]
    },
    {
     "name": "stdout",
     "output_type": "stream",
     "text": [
      "14\n"
     ]
    },
    {
     "name": "stderr",
     "output_type": "stream",
     "text": [
      "/tmp/ipykernel_1992037/680022270.py:14: GammapyDeprecationWarning: Use observation.get_pointing_icrs(time) instead\n",
      "  pointing  = observations[i].pointing_radec\n",
      "/home/wecapstor1/caph/mppi045h/gammapy/gammapy/data/observations.py:226: GammapyDeprecationWarning: Pointing will be required to be provided as FixedPointingInfo\n",
      "  warnings.warn(\n",
      "/tmp/ipykernel_1992037/680022270.py:24: GammapyDeprecationWarning: Use observation.get_pointing_icrs(time) instead\n",
      "  reference = MapDataset.create(geom=geom, name='stacked').cutout(position=obs.pointing_radec, width=8.0*max_offset)\n",
      "/home/wecapstor1/caph/mppi045h/anaconda3/envs/gammapy-dev/lib/python3.8/site-packages/astropy/utils/decorators.py:841: GammapyDeprecationWarning: Use observation.pointing or observation.get_pointing_{altaz,icrs} instead\n",
      "  val = self.fget(obj)\n",
      "/home/wecapstor1/caph/mppi045h/anaconda3/envs/gammapy-dev/lib/python3.8/site-packages/astropy/utils/decorators.py:841: GammapyDeprecationWarning: The radec function is deprecated and may be removed in a future version.\n",
      "  val = self.fget(obj)\n"
     ]
    }
   ],
   "source": [
    "livetime_simus = np.logspace(0, 2, 7) *u.hr\n",
    "\n",
    "for l in livetime_simus[-1:]:\n",
    "    print(\"Livetime: \", l)\n",
    "    \n",
    "    factors_ = compute_factor(l)\n",
    "    datasets_, dataset_stacked_ = create(factors_)\n",
    "    dataset_stacked_.write(f\"dataset-simulated-{l.value}-hr.fits.gz\", overwrite= True)"
   ]
  },
  {
   "cell_type": "code",
   "execution_count": null,
   "id": "5c6205b4-7feb-4b52-808b-b9588681c72e",
   "metadata": {},
   "outputs": [],
   "source": []
  }
 ],
 "metadata": {
  "kernelspec": {
   "display_name": "Python 3 (ipykernel)",
   "language": "python",
   "name": "python3"
  },
  "language_info": {
   "codemirror_mode": {
    "name": "ipython",
    "version": 3
   },
   "file_extension": ".py",
   "mimetype": "text/x-python",
   "name": "python",
   "nbconvert_exporter": "python",
   "pygments_lexer": "ipython3",
   "version": "3.8.16"
  }
 },
 "nbformat": 4,
 "nbformat_minor": 5
}
